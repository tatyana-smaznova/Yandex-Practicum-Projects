{
 "cells": [
  {
   "cell_type": "markdown",
   "metadata": {},
   "source": [
    "# Определение перспективного тарифа для телеком-компании"
   ]
  },
  {
   "cell_type": "markdown",
   "metadata": {},
   "source": [
    "**Цель исследования** — определить наиболее перспективный тариф для компании «Мегалайн».\n",
    "\n",
    "**Задачи исследования:**\n",
    "1. Подготовить данные\n",
    "2. Посчитать для каждого пользователя:\n",
    "    - количество сделанных звонков и израсходованных минут разговора по месяцам;\n",
    "    - количество отправленных сообщений по месяцам;\n",
    "    - объем израсходованного интернет-трафика по месяцам;\n",
    "    - помесячную выручку с каждого пользователя .\n",
    "3. Проанализировать данные\n",
    "4. Описать поведение клиентов оператора\n",
    "5. Посчитать среднее количество, дисперсию и стандартное отклонение, построить гистограммы\n",
    "6. Проверить две гипотезы:\n",
    "    - средняя выручка пользователей тарифов «Ультра» и «Смарт» различаются;\n",
    "    - средняя выручка пользователей из Москвы отличается от выручки пользователей из других регионов.\n",
    "\n",
    "\n",
    "**Ход исследования:**\n",
    "\n",
    "1. Обзор данных.\n",
    "2. Предобработка данных.\n",
    "3. Проверка гипотез.\n",
    "4. Выводы."
   ]
  },
  {
   "cell_type": "markdown",
   "metadata": {},
   "source": [
    "## Обзор данных"
   ]
  },
  {
   "cell_type": "markdown",
   "metadata": {},
   "source": [
    "Импортируем необходимые для работы библиотеки"
   ]
  },
  {
   "cell_type": "code",
   "execution_count": 1,
   "metadata": {},
   "outputs": [],
   "source": [
    "import pandas as pd\n",
    "import matplotlib.pyplot as plt \n",
    "import numpy as np\n",
    "from scipy import stats as st"
   ]
  },
  {
   "cell_type": "markdown",
   "metadata": {},
   "source": [
    "Прочитаем ввсе файлы с данными и сохраним их в переменных."
   ]
  },
  {
   "cell_type": "code",
   "execution_count": 2,
   "metadata": {},
   "outputs": [],
   "source": [
    "try:\n",
    "    calls = pd.read_csv('/datasets/calls.csv')\n",
    "    internet = pd.read_csv('/datasets/internet.csv', index_col=0)\n",
    "    messages = pd.read_csv('/datasets/messages.csv')\n",
    "    tariffs = pd.read_csv('/datasets/tariffs.csv')\n",
    "    users = pd.read_csv('/datasets/users.csv')\n",
    "except: \n",
    "    calls = pd.read_csv('/download/calls.csv')\n",
    "    internet = pd.read_csv('/download/internet.csv', index_col=0)\n",
    "    messages = pd.read_csv('/download/messages.csv')\n",
    "    tariffs = pd.read_csv('/download/tariffs.csv')\n",
    "    users = pd.read_csv('/download/users.csv')"
   ]
  },
  {
   "cell_type": "markdown",
   "metadata": {},
   "source": [
    "Рассмотрим таблицу calls и получим общую информацию о ней"
   ]
  },
  {
   "cell_type": "code",
   "execution_count": 3,
   "metadata": {},
   "outputs": [
    {
     "data": {
      "text/html": [
       "<div>\n",
       "<style scoped>\n",
       "    .dataframe tbody tr th:only-of-type {\n",
       "        vertical-align: middle;\n",
       "    }\n",
       "\n",
       "    .dataframe tbody tr th {\n",
       "        vertical-align: top;\n",
       "    }\n",
       "\n",
       "    .dataframe thead th {\n",
       "        text-align: right;\n",
       "    }\n",
       "</style>\n",
       "<table border=\"1\" class=\"dataframe\">\n",
       "  <thead>\n",
       "    <tr style=\"text-align: right;\">\n",
       "      <th></th>\n",
       "      <th>id</th>\n",
       "      <th>call_date</th>\n",
       "      <th>duration</th>\n",
       "      <th>user_id</th>\n",
       "    </tr>\n",
       "  </thead>\n",
       "  <tbody>\n",
       "    <tr>\n",
       "      <th>0</th>\n",
       "      <td>1000_0</td>\n",
       "      <td>2018-07-25</td>\n",
       "      <td>0.00</td>\n",
       "      <td>1000</td>\n",
       "    </tr>\n",
       "    <tr>\n",
       "      <th>1</th>\n",
       "      <td>1000_1</td>\n",
       "      <td>2018-08-17</td>\n",
       "      <td>0.00</td>\n",
       "      <td>1000</td>\n",
       "    </tr>\n",
       "    <tr>\n",
       "      <th>2</th>\n",
       "      <td>1000_2</td>\n",
       "      <td>2018-06-11</td>\n",
       "      <td>2.85</td>\n",
       "      <td>1000</td>\n",
       "    </tr>\n",
       "    <tr>\n",
       "      <th>3</th>\n",
       "      <td>1000_3</td>\n",
       "      <td>2018-09-21</td>\n",
       "      <td>13.80</td>\n",
       "      <td>1000</td>\n",
       "    </tr>\n",
       "    <tr>\n",
       "      <th>4</th>\n",
       "      <td>1000_4</td>\n",
       "      <td>2018-12-15</td>\n",
       "      <td>5.18</td>\n",
       "      <td>1000</td>\n",
       "    </tr>\n",
       "    <tr>\n",
       "      <th>...</th>\n",
       "      <td>...</td>\n",
       "      <td>...</td>\n",
       "      <td>...</td>\n",
       "      <td>...</td>\n",
       "    </tr>\n",
       "    <tr>\n",
       "      <th>202602</th>\n",
       "      <td>1499_215</td>\n",
       "      <td>2018-12-26</td>\n",
       "      <td>0.76</td>\n",
       "      <td>1499</td>\n",
       "    </tr>\n",
       "    <tr>\n",
       "      <th>202603</th>\n",
       "      <td>1499_216</td>\n",
       "      <td>2018-10-18</td>\n",
       "      <td>18.83</td>\n",
       "      <td>1499</td>\n",
       "    </tr>\n",
       "    <tr>\n",
       "      <th>202604</th>\n",
       "      <td>1499_217</td>\n",
       "      <td>2018-11-10</td>\n",
       "      <td>10.81</td>\n",
       "      <td>1499</td>\n",
       "    </tr>\n",
       "    <tr>\n",
       "      <th>202605</th>\n",
       "      <td>1499_218</td>\n",
       "      <td>2018-10-06</td>\n",
       "      <td>4.27</td>\n",
       "      <td>1499</td>\n",
       "    </tr>\n",
       "    <tr>\n",
       "      <th>202606</th>\n",
       "      <td>1499_219</td>\n",
       "      <td>2018-12-14</td>\n",
       "      <td>19.62</td>\n",
       "      <td>1499</td>\n",
       "    </tr>\n",
       "  </tbody>\n",
       "</table>\n",
       "<p>202607 rows × 4 columns</p>\n",
       "</div>"
      ],
      "text/plain": [
       "              id   call_date  duration  user_id\n",
       "0         1000_0  2018-07-25      0.00     1000\n",
       "1         1000_1  2018-08-17      0.00     1000\n",
       "2         1000_2  2018-06-11      2.85     1000\n",
       "3         1000_3  2018-09-21     13.80     1000\n",
       "4         1000_4  2018-12-15      5.18     1000\n",
       "...          ...         ...       ...      ...\n",
       "202602  1499_215  2018-12-26      0.76     1499\n",
       "202603  1499_216  2018-10-18     18.83     1499\n",
       "202604  1499_217  2018-11-10     10.81     1499\n",
       "202605  1499_218  2018-10-06      4.27     1499\n",
       "202606  1499_219  2018-12-14     19.62     1499\n",
       "\n",
       "[202607 rows x 4 columns]"
      ]
     },
     "metadata": {},
     "output_type": "display_data"
    }
   ],
   "source": [
    "display(calls)"
   ]
  },
  {
   "cell_type": "code",
   "execution_count": 4,
   "metadata": {},
   "outputs": [
    {
     "name": "stdout",
     "output_type": "stream",
     "text": [
      "<class 'pandas.core.frame.DataFrame'>\n",
      "RangeIndex: 202607 entries, 0 to 202606\n",
      "Data columns (total 4 columns):\n",
      " #   Column     Non-Null Count   Dtype  \n",
      "---  ------     --------------   -----  \n",
      " 0   id         202607 non-null  object \n",
      " 1   call_date  202607 non-null  object \n",
      " 2   duration   202607 non-null  float64\n",
      " 3   user_id    202607 non-null  int64  \n",
      "dtypes: float64(1), int64(1), object(2)\n",
      "memory usage: 6.2+ MB\n"
     ]
    }
   ],
   "source": [
    "calls.info()"
   ]
  },
  {
   "cell_type": "markdown",
   "metadata": {},
   "source": [
    "В таблице четыре столбца:\n",
    "**id** — уникальный номер звонка\n",
    "**call_date** — дата звонка\n",
    "**duration** — длительность звонка в минутах\n",
    "**user_id** — идентификатор пользователя, сделавшего звонок\n",
    "\n",
    "Пропущенные значения отсутствуют.\n",
    "\n",
    "Также в таблице заметны звонки с нулевой продолжительностью разговора, это пропущенные звонки, удалять их не нужно."
   ]
  },
  {
   "cell_type": "markdown",
   "metadata": {},
   "source": [
    "Рассмотрим таблицу internet и получим общую информацию о ней"
   ]
  },
  {
   "cell_type": "code",
   "execution_count": 5,
   "metadata": {},
   "outputs": [
    {
     "data": {
      "text/html": [
       "<div>\n",
       "<style scoped>\n",
       "    .dataframe tbody tr th:only-of-type {\n",
       "        vertical-align: middle;\n",
       "    }\n",
       "\n",
       "    .dataframe tbody tr th {\n",
       "        vertical-align: top;\n",
       "    }\n",
       "\n",
       "    .dataframe thead th {\n",
       "        text-align: right;\n",
       "    }\n",
       "</style>\n",
       "<table border=\"1\" class=\"dataframe\">\n",
       "  <thead>\n",
       "    <tr style=\"text-align: right;\">\n",
       "      <th></th>\n",
       "      <th>id</th>\n",
       "      <th>mb_used</th>\n",
       "      <th>session_date</th>\n",
       "      <th>user_id</th>\n",
       "    </tr>\n",
       "  </thead>\n",
       "  <tbody>\n",
       "    <tr>\n",
       "      <th>0</th>\n",
       "      <td>1000_0</td>\n",
       "      <td>112.95</td>\n",
       "      <td>2018-11-25</td>\n",
       "      <td>1000</td>\n",
       "    </tr>\n",
       "    <tr>\n",
       "      <th>1</th>\n",
       "      <td>1000_1</td>\n",
       "      <td>1052.81</td>\n",
       "      <td>2018-09-07</td>\n",
       "      <td>1000</td>\n",
       "    </tr>\n",
       "    <tr>\n",
       "      <th>2</th>\n",
       "      <td>1000_2</td>\n",
       "      <td>1197.26</td>\n",
       "      <td>2018-06-25</td>\n",
       "      <td>1000</td>\n",
       "    </tr>\n",
       "    <tr>\n",
       "      <th>3</th>\n",
       "      <td>1000_3</td>\n",
       "      <td>550.27</td>\n",
       "      <td>2018-08-22</td>\n",
       "      <td>1000</td>\n",
       "    </tr>\n",
       "    <tr>\n",
       "      <th>4</th>\n",
       "      <td>1000_4</td>\n",
       "      <td>302.56</td>\n",
       "      <td>2018-09-24</td>\n",
       "      <td>1000</td>\n",
       "    </tr>\n",
       "    <tr>\n",
       "      <th>...</th>\n",
       "      <td>...</td>\n",
       "      <td>...</td>\n",
       "      <td>...</td>\n",
       "      <td>...</td>\n",
       "    </tr>\n",
       "    <tr>\n",
       "      <th>149391</th>\n",
       "      <td>1499_152</td>\n",
       "      <td>318.90</td>\n",
       "      <td>2018-10-03</td>\n",
       "      <td>1499</td>\n",
       "    </tr>\n",
       "    <tr>\n",
       "      <th>149392</th>\n",
       "      <td>1499_153</td>\n",
       "      <td>490.13</td>\n",
       "      <td>2018-12-14</td>\n",
       "      <td>1499</td>\n",
       "    </tr>\n",
       "    <tr>\n",
       "      <th>149393</th>\n",
       "      <td>1499_154</td>\n",
       "      <td>0.00</td>\n",
       "      <td>2018-10-27</td>\n",
       "      <td>1499</td>\n",
       "    </tr>\n",
       "    <tr>\n",
       "      <th>149394</th>\n",
       "      <td>1499_155</td>\n",
       "      <td>1246.32</td>\n",
       "      <td>2018-11-26</td>\n",
       "      <td>1499</td>\n",
       "    </tr>\n",
       "    <tr>\n",
       "      <th>149395</th>\n",
       "      <td>1499_156</td>\n",
       "      <td>544.37</td>\n",
       "      <td>2018-10-26</td>\n",
       "      <td>1499</td>\n",
       "    </tr>\n",
       "  </tbody>\n",
       "</table>\n",
       "<p>149396 rows × 4 columns</p>\n",
       "</div>"
      ],
      "text/plain": [
       "              id  mb_used session_date  user_id\n",
       "0         1000_0   112.95   2018-11-25     1000\n",
       "1         1000_1  1052.81   2018-09-07     1000\n",
       "2         1000_2  1197.26   2018-06-25     1000\n",
       "3         1000_3   550.27   2018-08-22     1000\n",
       "4         1000_4   302.56   2018-09-24     1000\n",
       "...          ...      ...          ...      ...\n",
       "149391  1499_152   318.90   2018-10-03     1499\n",
       "149392  1499_153   490.13   2018-12-14     1499\n",
       "149393  1499_154     0.00   2018-10-27     1499\n",
       "149394  1499_155  1246.32   2018-11-26     1499\n",
       "149395  1499_156   544.37   2018-10-26     1499\n",
       "\n",
       "[149396 rows x 4 columns]"
      ]
     },
     "metadata": {},
     "output_type": "display_data"
    }
   ],
   "source": [
    "display(internet)"
   ]
  },
  {
   "cell_type": "code",
   "execution_count": 6,
   "metadata": {},
   "outputs": [
    {
     "name": "stdout",
     "output_type": "stream",
     "text": [
      "<class 'pandas.core.frame.DataFrame'>\n",
      "Int64Index: 149396 entries, 0 to 149395\n",
      "Data columns (total 4 columns):\n",
      " #   Column        Non-Null Count   Dtype  \n",
      "---  ------        --------------   -----  \n",
      " 0   id            149396 non-null  object \n",
      " 1   mb_used       149396 non-null  float64\n",
      " 2   session_date  149396 non-null  object \n",
      " 3   user_id       149396 non-null  int64  \n",
      "dtypes: float64(1), int64(1), object(2)\n",
      "memory usage: 5.7+ MB\n"
     ]
    }
   ],
   "source": [
    "internet.info()"
   ]
  },
  {
   "cell_type": "markdown",
   "metadata": {},
   "source": [
    "В таблице четыре столбца:\n",
    "**id** — уникальный номер сессии\n",
    "**mb_used** — объём потраченного за сессию интернет-трафика (в мегабайтах)\n",
    "**session_date** — дата интернет-сессии\n",
    "**user_id** — идентификатор пользователя\n",
    "\n",
    "Пропущенные значения отсутствуют. "
   ]
  },
  {
   "cell_type": "markdown",
   "metadata": {},
   "source": [
    "Рассмотрим таблицу messages и получим общую информацию о ней."
   ]
  },
  {
   "cell_type": "code",
   "execution_count": 7,
   "metadata": {},
   "outputs": [
    {
     "data": {
      "text/html": [
       "<div>\n",
       "<style scoped>\n",
       "    .dataframe tbody tr th:only-of-type {\n",
       "        vertical-align: middle;\n",
       "    }\n",
       "\n",
       "    .dataframe tbody tr th {\n",
       "        vertical-align: top;\n",
       "    }\n",
       "\n",
       "    .dataframe thead th {\n",
       "        text-align: right;\n",
       "    }\n",
       "</style>\n",
       "<table border=\"1\" class=\"dataframe\">\n",
       "  <thead>\n",
       "    <tr style=\"text-align: right;\">\n",
       "      <th></th>\n",
       "      <th>id</th>\n",
       "      <th>message_date</th>\n",
       "      <th>user_id</th>\n",
       "    </tr>\n",
       "  </thead>\n",
       "  <tbody>\n",
       "    <tr>\n",
       "      <th>0</th>\n",
       "      <td>1000_0</td>\n",
       "      <td>2018-06-27</td>\n",
       "      <td>1000</td>\n",
       "    </tr>\n",
       "    <tr>\n",
       "      <th>1</th>\n",
       "      <td>1000_1</td>\n",
       "      <td>2018-10-08</td>\n",
       "      <td>1000</td>\n",
       "    </tr>\n",
       "    <tr>\n",
       "      <th>2</th>\n",
       "      <td>1000_2</td>\n",
       "      <td>2018-08-04</td>\n",
       "      <td>1000</td>\n",
       "    </tr>\n",
       "    <tr>\n",
       "      <th>3</th>\n",
       "      <td>1000_3</td>\n",
       "      <td>2018-06-16</td>\n",
       "      <td>1000</td>\n",
       "    </tr>\n",
       "    <tr>\n",
       "      <th>4</th>\n",
       "      <td>1000_4</td>\n",
       "      <td>2018-12-05</td>\n",
       "      <td>1000</td>\n",
       "    </tr>\n",
       "    <tr>\n",
       "      <th>...</th>\n",
       "      <td>...</td>\n",
       "      <td>...</td>\n",
       "      <td>...</td>\n",
       "    </tr>\n",
       "    <tr>\n",
       "      <th>123031</th>\n",
       "      <td>1499_179</td>\n",
       "      <td>2018-12-12</td>\n",
       "      <td>1499</td>\n",
       "    </tr>\n",
       "    <tr>\n",
       "      <th>123032</th>\n",
       "      <td>1499_180</td>\n",
       "      <td>2018-09-28</td>\n",
       "      <td>1499</td>\n",
       "    </tr>\n",
       "    <tr>\n",
       "      <th>123033</th>\n",
       "      <td>1499_181</td>\n",
       "      <td>2018-09-27</td>\n",
       "      <td>1499</td>\n",
       "    </tr>\n",
       "    <tr>\n",
       "      <th>123034</th>\n",
       "      <td>1499_182</td>\n",
       "      <td>2018-11-15</td>\n",
       "      <td>1499</td>\n",
       "    </tr>\n",
       "    <tr>\n",
       "      <th>123035</th>\n",
       "      <td>1499_183</td>\n",
       "      <td>2018-11-16</td>\n",
       "      <td>1499</td>\n",
       "    </tr>\n",
       "  </tbody>\n",
       "</table>\n",
       "<p>123036 rows × 3 columns</p>\n",
       "</div>"
      ],
      "text/plain": [
       "              id message_date  user_id\n",
       "0         1000_0   2018-06-27     1000\n",
       "1         1000_1   2018-10-08     1000\n",
       "2         1000_2   2018-08-04     1000\n",
       "3         1000_3   2018-06-16     1000\n",
       "4         1000_4   2018-12-05     1000\n",
       "...          ...          ...      ...\n",
       "123031  1499_179   2018-12-12     1499\n",
       "123032  1499_180   2018-09-28     1499\n",
       "123033  1499_181   2018-09-27     1499\n",
       "123034  1499_182   2018-11-15     1499\n",
       "123035  1499_183   2018-11-16     1499\n",
       "\n",
       "[123036 rows x 3 columns]"
      ]
     },
     "metadata": {},
     "output_type": "display_data"
    }
   ],
   "source": [
    "display(messages)"
   ]
  },
  {
   "cell_type": "code",
   "execution_count": 8,
   "metadata": {},
   "outputs": [
    {
     "name": "stdout",
     "output_type": "stream",
     "text": [
      "<class 'pandas.core.frame.DataFrame'>\n",
      "RangeIndex: 123036 entries, 0 to 123035\n",
      "Data columns (total 3 columns):\n",
      " #   Column        Non-Null Count   Dtype \n",
      "---  ------        --------------   ----- \n",
      " 0   id            123036 non-null  object\n",
      " 1   message_date  123036 non-null  object\n",
      " 2   user_id       123036 non-null  int64 \n",
      "dtypes: int64(1), object(2)\n",
      "memory usage: 2.8+ MB\n"
     ]
    }
   ],
   "source": [
    "messages.info()"
   ]
  },
  {
   "cell_type": "markdown",
   "metadata": {},
   "source": [
    "В таблице три столбца:\n",
    "**id** — уникальный номер сообщения\n",
    "**message_date** — дата сообщения\n",
    "**user_id** — идентификатор пользователя, отправившего сообщение\n",
    "\n",
    "Пропущенные значения отсутствуют."
   ]
  },
  {
   "cell_type": "markdown",
   "metadata": {},
   "source": [
    "Рассмотрим таблицу tariffs и получим общую информацию о ней."
   ]
  },
  {
   "cell_type": "code",
   "execution_count": 9,
   "metadata": {},
   "outputs": [
    {
     "data": {
      "text/html": [
       "<div>\n",
       "<style scoped>\n",
       "    .dataframe tbody tr th:only-of-type {\n",
       "        vertical-align: middle;\n",
       "    }\n",
       "\n",
       "    .dataframe tbody tr th {\n",
       "        vertical-align: top;\n",
       "    }\n",
       "\n",
       "    .dataframe thead th {\n",
       "        text-align: right;\n",
       "    }\n",
       "</style>\n",
       "<table border=\"1\" class=\"dataframe\">\n",
       "  <thead>\n",
       "    <tr style=\"text-align: right;\">\n",
       "      <th></th>\n",
       "      <th>messages_included</th>\n",
       "      <th>mb_per_month_included</th>\n",
       "      <th>minutes_included</th>\n",
       "      <th>rub_monthly_fee</th>\n",
       "      <th>rub_per_gb</th>\n",
       "      <th>rub_per_message</th>\n",
       "      <th>rub_per_minute</th>\n",
       "      <th>tariff_name</th>\n",
       "    </tr>\n",
       "  </thead>\n",
       "  <tbody>\n",
       "    <tr>\n",
       "      <th>0</th>\n",
       "      <td>50</td>\n",
       "      <td>15360</td>\n",
       "      <td>500</td>\n",
       "      <td>550</td>\n",
       "      <td>200</td>\n",
       "      <td>3</td>\n",
       "      <td>3</td>\n",
       "      <td>smart</td>\n",
       "    </tr>\n",
       "    <tr>\n",
       "      <th>1</th>\n",
       "      <td>1000</td>\n",
       "      <td>30720</td>\n",
       "      <td>3000</td>\n",
       "      <td>1950</td>\n",
       "      <td>150</td>\n",
       "      <td>1</td>\n",
       "      <td>1</td>\n",
       "      <td>ultra</td>\n",
       "    </tr>\n",
       "  </tbody>\n",
       "</table>\n",
       "</div>"
      ],
      "text/plain": [
       "   messages_included  mb_per_month_included  minutes_included  \\\n",
       "0                 50                  15360               500   \n",
       "1               1000                  30720              3000   \n",
       "\n",
       "   rub_monthly_fee  rub_per_gb  rub_per_message  rub_per_minute tariff_name  \n",
       "0              550         200                3               3       smart  \n",
       "1             1950         150                1               1       ultra  "
      ]
     },
     "metadata": {},
     "output_type": "display_data"
    }
   ],
   "source": [
    "display(tariffs)"
   ]
  },
  {
   "cell_type": "code",
   "execution_count": 10,
   "metadata": {},
   "outputs": [
    {
     "name": "stdout",
     "output_type": "stream",
     "text": [
      "<class 'pandas.core.frame.DataFrame'>\n",
      "RangeIndex: 2 entries, 0 to 1\n",
      "Data columns (total 8 columns):\n",
      " #   Column                 Non-Null Count  Dtype \n",
      "---  ------                 --------------  ----- \n",
      " 0   messages_included      2 non-null      int64 \n",
      " 1   mb_per_month_included  2 non-null      int64 \n",
      " 2   minutes_included       2 non-null      int64 \n",
      " 3   rub_monthly_fee        2 non-null      int64 \n",
      " 4   rub_per_gb             2 non-null      int64 \n",
      " 5   rub_per_message        2 non-null      int64 \n",
      " 6   rub_per_minute         2 non-null      int64 \n",
      " 7   tariff_name            2 non-null      object\n",
      "dtypes: int64(7), object(1)\n",
      "memory usage: 256.0+ bytes\n"
     ]
    }
   ],
   "source": [
    "tariffs.info()"
   ]
  },
  {
   "cell_type": "markdown",
   "metadata": {},
   "source": [
    "В данной таблице содержится информация о тарифах.\n",
    "**tariff_name** — название тарифа\n",
    "**rub_monthly_fee** — ежемесячная абонентская плата в рублях\n",
    "**minutes_included** — количество минут разговора в месяц, включённых в абонентскую плату\n",
    "**messages_included** — количество сообщений в месяц, включённых в абонентскую плату\n",
    "**mb_per_month_included** — объём интернет-трафика, включённого в абонентскую плату (в мегабайтах)\n",
    "**rub_per_minute** — стоимость минуты разговора сверх тарифного пакета (например, если в тарифе 100 минут разговора в месяц, то **со 101 минуты будет взиматься плата)\n",
    "**rub_per_message** — стоимость отправки сообщения сверх тарифного пакета\n",
    "**rub_per_gb** — стоимость дополнительного гигабайта интернет-трафика сверх тарифного пакета (1 гигабайт = 1024 мегабайта)\n",
    "\n",
    "В таблице только две строки (по числу исследуемых тарифов), пропусков нет."
   ]
  },
  {
   "cell_type": "markdown",
   "metadata": {},
   "source": [
    "Рассмотрим таблицу users и получим общую информацию о ней."
   ]
  },
  {
   "cell_type": "code",
   "execution_count": 11,
   "metadata": {},
   "outputs": [
    {
     "data": {
      "text/html": [
       "<div>\n",
       "<style scoped>\n",
       "    .dataframe tbody tr th:only-of-type {\n",
       "        vertical-align: middle;\n",
       "    }\n",
       "\n",
       "    .dataframe tbody tr th {\n",
       "        vertical-align: top;\n",
       "    }\n",
       "\n",
       "    .dataframe thead th {\n",
       "        text-align: right;\n",
       "    }\n",
       "</style>\n",
       "<table border=\"1\" class=\"dataframe\">\n",
       "  <thead>\n",
       "    <tr style=\"text-align: right;\">\n",
       "      <th></th>\n",
       "      <th>user_id</th>\n",
       "      <th>age</th>\n",
       "      <th>churn_date</th>\n",
       "      <th>city</th>\n",
       "      <th>first_name</th>\n",
       "      <th>last_name</th>\n",
       "      <th>reg_date</th>\n",
       "      <th>tariff</th>\n",
       "    </tr>\n",
       "  </thead>\n",
       "  <tbody>\n",
       "    <tr>\n",
       "      <th>0</th>\n",
       "      <td>1000</td>\n",
       "      <td>52</td>\n",
       "      <td>NaN</td>\n",
       "      <td>Краснодар</td>\n",
       "      <td>Рафаил</td>\n",
       "      <td>Верещагин</td>\n",
       "      <td>2018-05-25</td>\n",
       "      <td>ultra</td>\n",
       "    </tr>\n",
       "    <tr>\n",
       "      <th>1</th>\n",
       "      <td>1001</td>\n",
       "      <td>41</td>\n",
       "      <td>NaN</td>\n",
       "      <td>Москва</td>\n",
       "      <td>Иван</td>\n",
       "      <td>Ежов</td>\n",
       "      <td>2018-11-01</td>\n",
       "      <td>smart</td>\n",
       "    </tr>\n",
       "    <tr>\n",
       "      <th>2</th>\n",
       "      <td>1002</td>\n",
       "      <td>59</td>\n",
       "      <td>NaN</td>\n",
       "      <td>Стерлитамак</td>\n",
       "      <td>Евгений</td>\n",
       "      <td>Абрамович</td>\n",
       "      <td>2018-06-17</td>\n",
       "      <td>smart</td>\n",
       "    </tr>\n",
       "    <tr>\n",
       "      <th>3</th>\n",
       "      <td>1003</td>\n",
       "      <td>23</td>\n",
       "      <td>NaN</td>\n",
       "      <td>Москва</td>\n",
       "      <td>Белла</td>\n",
       "      <td>Белякова</td>\n",
       "      <td>2018-08-17</td>\n",
       "      <td>ultra</td>\n",
       "    </tr>\n",
       "    <tr>\n",
       "      <th>4</th>\n",
       "      <td>1004</td>\n",
       "      <td>68</td>\n",
       "      <td>NaN</td>\n",
       "      <td>Новокузнецк</td>\n",
       "      <td>Татьяна</td>\n",
       "      <td>Авдеенко</td>\n",
       "      <td>2018-05-14</td>\n",
       "      <td>ultra</td>\n",
       "    </tr>\n",
       "    <tr>\n",
       "      <th>...</th>\n",
       "      <td>...</td>\n",
       "      <td>...</td>\n",
       "      <td>...</td>\n",
       "      <td>...</td>\n",
       "      <td>...</td>\n",
       "      <td>...</td>\n",
       "      <td>...</td>\n",
       "      <td>...</td>\n",
       "    </tr>\n",
       "    <tr>\n",
       "      <th>495</th>\n",
       "      <td>1495</td>\n",
       "      <td>65</td>\n",
       "      <td>NaN</td>\n",
       "      <td>Иркутск</td>\n",
       "      <td>Авксентий</td>\n",
       "      <td>Фокин</td>\n",
       "      <td>2018-08-28</td>\n",
       "      <td>ultra</td>\n",
       "    </tr>\n",
       "    <tr>\n",
       "      <th>496</th>\n",
       "      <td>1496</td>\n",
       "      <td>36</td>\n",
       "      <td>NaN</td>\n",
       "      <td>Вологда</td>\n",
       "      <td>Трифон</td>\n",
       "      <td>Блохин</td>\n",
       "      <td>2018-01-27</td>\n",
       "      <td>smart</td>\n",
       "    </tr>\n",
       "    <tr>\n",
       "      <th>497</th>\n",
       "      <td>1497</td>\n",
       "      <td>32</td>\n",
       "      <td>NaN</td>\n",
       "      <td>Челябинск</td>\n",
       "      <td>Каролина</td>\n",
       "      <td>Агеева</td>\n",
       "      <td>2018-10-09</td>\n",
       "      <td>smart</td>\n",
       "    </tr>\n",
       "    <tr>\n",
       "      <th>498</th>\n",
       "      <td>1498</td>\n",
       "      <td>68</td>\n",
       "      <td>2018-10-25</td>\n",
       "      <td>Владикавказ</td>\n",
       "      <td>Всеволод</td>\n",
       "      <td>Акимчин</td>\n",
       "      <td>2018-07-19</td>\n",
       "      <td>smart</td>\n",
       "    </tr>\n",
       "    <tr>\n",
       "      <th>499</th>\n",
       "      <td>1499</td>\n",
       "      <td>35</td>\n",
       "      <td>NaN</td>\n",
       "      <td>Пермь</td>\n",
       "      <td>Гектор</td>\n",
       "      <td>Корнилов</td>\n",
       "      <td>2018-09-27</td>\n",
       "      <td>smart</td>\n",
       "    </tr>\n",
       "  </tbody>\n",
       "</table>\n",
       "<p>500 rows × 8 columns</p>\n",
       "</div>"
      ],
      "text/plain": [
       "     user_id  age  churn_date         city first_name  last_name    reg_date  \\\n",
       "0       1000   52         NaN    Краснодар     Рафаил  Верещагин  2018-05-25   \n",
       "1       1001   41         NaN       Москва       Иван       Ежов  2018-11-01   \n",
       "2       1002   59         NaN  Стерлитамак    Евгений  Абрамович  2018-06-17   \n",
       "3       1003   23         NaN       Москва      Белла   Белякова  2018-08-17   \n",
       "4       1004   68         NaN  Новокузнецк    Татьяна   Авдеенко  2018-05-14   \n",
       "..       ...  ...         ...          ...        ...        ...         ...   \n",
       "495     1495   65         NaN      Иркутск  Авксентий      Фокин  2018-08-28   \n",
       "496     1496   36         NaN      Вологда     Трифон     Блохин  2018-01-27   \n",
       "497     1497   32         NaN    Челябинск   Каролина     Агеева  2018-10-09   \n",
       "498     1498   68  2018-10-25  Владикавказ   Всеволод    Акимчин  2018-07-19   \n",
       "499     1499   35         NaN        Пермь     Гектор   Корнилов  2018-09-27   \n",
       "\n",
       "    tariff  \n",
       "0    ultra  \n",
       "1    smart  \n",
       "2    smart  \n",
       "3    ultra  \n",
       "4    ultra  \n",
       "..     ...  \n",
       "495  ultra  \n",
       "496  smart  \n",
       "497  smart  \n",
       "498  smart  \n",
       "499  smart  \n",
       "\n",
       "[500 rows x 8 columns]"
      ]
     },
     "metadata": {},
     "output_type": "display_data"
    }
   ],
   "source": [
    "display(users)"
   ]
  },
  {
   "cell_type": "code",
   "execution_count": 12,
   "metadata": {},
   "outputs": [
    {
     "data": {
      "text/html": [
       "<div>\n",
       "<style scoped>\n",
       "    .dataframe tbody tr th:only-of-type {\n",
       "        vertical-align: middle;\n",
       "    }\n",
       "\n",
       "    .dataframe tbody tr th {\n",
       "        vertical-align: top;\n",
       "    }\n",
       "\n",
       "    .dataframe thead th {\n",
       "        text-align: right;\n",
       "    }\n",
       "</style>\n",
       "<table border=\"1\" class=\"dataframe\">\n",
       "  <thead>\n",
       "    <tr style=\"text-align: right;\">\n",
       "      <th></th>\n",
       "      <th>user_id</th>\n",
       "      <th>age</th>\n",
       "      <th>churn_date</th>\n",
       "      <th>city</th>\n",
       "      <th>first_name</th>\n",
       "      <th>last_name</th>\n",
       "      <th>reg_date</th>\n",
       "      <th>tariff</th>\n",
       "    </tr>\n",
       "  </thead>\n",
       "  <tbody>\n",
       "    <tr>\n",
       "      <th>0</th>\n",
       "      <td>1000</td>\n",
       "      <td>52</td>\n",
       "      <td>NaN</td>\n",
       "      <td>Краснодар</td>\n",
       "      <td>Рафаил</td>\n",
       "      <td>Верещагин</td>\n",
       "      <td>2018-05-25</td>\n",
       "      <td>ultra</td>\n",
       "    </tr>\n",
       "    <tr>\n",
       "      <th>1</th>\n",
       "      <td>1001</td>\n",
       "      <td>41</td>\n",
       "      <td>NaN</td>\n",
       "      <td>Москва</td>\n",
       "      <td>Иван</td>\n",
       "      <td>Ежов</td>\n",
       "      <td>2018-11-01</td>\n",
       "      <td>smart</td>\n",
       "    </tr>\n",
       "    <tr>\n",
       "      <th>2</th>\n",
       "      <td>1002</td>\n",
       "      <td>59</td>\n",
       "      <td>NaN</td>\n",
       "      <td>Стерлитамак</td>\n",
       "      <td>Евгений</td>\n",
       "      <td>Абрамович</td>\n",
       "      <td>2018-06-17</td>\n",
       "      <td>smart</td>\n",
       "    </tr>\n",
       "    <tr>\n",
       "      <th>3</th>\n",
       "      <td>1003</td>\n",
       "      <td>23</td>\n",
       "      <td>NaN</td>\n",
       "      <td>Москва</td>\n",
       "      <td>Белла</td>\n",
       "      <td>Белякова</td>\n",
       "      <td>2018-08-17</td>\n",
       "      <td>ultra</td>\n",
       "    </tr>\n",
       "    <tr>\n",
       "      <th>4</th>\n",
       "      <td>1004</td>\n",
       "      <td>68</td>\n",
       "      <td>NaN</td>\n",
       "      <td>Новокузнецк</td>\n",
       "      <td>Татьяна</td>\n",
       "      <td>Авдеенко</td>\n",
       "      <td>2018-05-14</td>\n",
       "      <td>ultra</td>\n",
       "    </tr>\n",
       "    <tr>\n",
       "      <th>...</th>\n",
       "      <td>...</td>\n",
       "      <td>...</td>\n",
       "      <td>...</td>\n",
       "      <td>...</td>\n",
       "      <td>...</td>\n",
       "      <td>...</td>\n",
       "      <td>...</td>\n",
       "      <td>...</td>\n",
       "    </tr>\n",
       "    <tr>\n",
       "      <th>494</th>\n",
       "      <td>1494</td>\n",
       "      <td>62</td>\n",
       "      <td>NaN</td>\n",
       "      <td>Омск</td>\n",
       "      <td>Ренат</td>\n",
       "      <td>Андропов</td>\n",
       "      <td>2018-08-17</td>\n",
       "      <td>smart</td>\n",
       "    </tr>\n",
       "    <tr>\n",
       "      <th>495</th>\n",
       "      <td>1495</td>\n",
       "      <td>65</td>\n",
       "      <td>NaN</td>\n",
       "      <td>Иркутск</td>\n",
       "      <td>Авксентий</td>\n",
       "      <td>Фокин</td>\n",
       "      <td>2018-08-28</td>\n",
       "      <td>ultra</td>\n",
       "    </tr>\n",
       "    <tr>\n",
       "      <th>496</th>\n",
       "      <td>1496</td>\n",
       "      <td>36</td>\n",
       "      <td>NaN</td>\n",
       "      <td>Вологда</td>\n",
       "      <td>Трифон</td>\n",
       "      <td>Блохин</td>\n",
       "      <td>2018-01-27</td>\n",
       "      <td>smart</td>\n",
       "    </tr>\n",
       "    <tr>\n",
       "      <th>497</th>\n",
       "      <td>1497</td>\n",
       "      <td>32</td>\n",
       "      <td>NaN</td>\n",
       "      <td>Челябинск</td>\n",
       "      <td>Каролина</td>\n",
       "      <td>Агеева</td>\n",
       "      <td>2018-10-09</td>\n",
       "      <td>smart</td>\n",
       "    </tr>\n",
       "    <tr>\n",
       "      <th>499</th>\n",
       "      <td>1499</td>\n",
       "      <td>35</td>\n",
       "      <td>NaN</td>\n",
       "      <td>Пермь</td>\n",
       "      <td>Гектор</td>\n",
       "      <td>Корнилов</td>\n",
       "      <td>2018-09-27</td>\n",
       "      <td>smart</td>\n",
       "    </tr>\n",
       "  </tbody>\n",
       "</table>\n",
       "<p>462 rows × 8 columns</p>\n",
       "</div>"
      ],
      "text/plain": [
       "     user_id  age churn_date         city first_name  last_name    reg_date  \\\n",
       "0       1000   52        NaN    Краснодар     Рафаил  Верещагин  2018-05-25   \n",
       "1       1001   41        NaN       Москва       Иван       Ежов  2018-11-01   \n",
       "2       1002   59        NaN  Стерлитамак    Евгений  Абрамович  2018-06-17   \n",
       "3       1003   23        NaN       Москва      Белла   Белякова  2018-08-17   \n",
       "4       1004   68        NaN  Новокузнецк    Татьяна   Авдеенко  2018-05-14   \n",
       "..       ...  ...        ...          ...        ...        ...         ...   \n",
       "494     1494   62        NaN         Омск      Ренат   Андропов  2018-08-17   \n",
       "495     1495   65        NaN      Иркутск  Авксентий      Фокин  2018-08-28   \n",
       "496     1496   36        NaN      Вологда     Трифон     Блохин  2018-01-27   \n",
       "497     1497   32        NaN    Челябинск   Каролина     Агеева  2018-10-09   \n",
       "499     1499   35        NaN        Пермь     Гектор   Корнилов  2018-09-27   \n",
       "\n",
       "    tariff  \n",
       "0    ultra  \n",
       "1    smart  \n",
       "2    smart  \n",
       "3    ultra  \n",
       "4    ultra  \n",
       "..     ...  \n",
       "494  smart  \n",
       "495  ultra  \n",
       "496  smart  \n",
       "497  smart  \n",
       "499  smart  \n",
       "\n",
       "[462 rows x 8 columns]"
      ]
     },
     "execution_count": 12,
     "metadata": {},
     "output_type": "execute_result"
    }
   ],
   "source": [
    "users.query('churn_date.isna()')"
   ]
  },
  {
   "cell_type": "code",
   "execution_count": 13,
   "metadata": {},
   "outputs": [
    {
     "name": "stdout",
     "output_type": "stream",
     "text": [
      "<class 'pandas.core.frame.DataFrame'>\n",
      "RangeIndex: 500 entries, 0 to 499\n",
      "Data columns (total 8 columns):\n",
      " #   Column      Non-Null Count  Dtype \n",
      "---  ------      --------------  ----- \n",
      " 0   user_id     500 non-null    int64 \n",
      " 1   age         500 non-null    int64 \n",
      " 2   churn_date  38 non-null     object\n",
      " 3   city        500 non-null    object\n",
      " 4   first_name  500 non-null    object\n",
      " 5   last_name   500 non-null    object\n",
      " 6   reg_date    500 non-null    object\n",
      " 7   tariff      500 non-null    object\n",
      "dtypes: int64(2), object(6)\n",
      "memory usage: 31.4+ KB\n"
     ]
    }
   ],
   "source": [
    "users.info()"
   ]
  },
  {
   "cell_type": "markdown",
   "metadata": {},
   "source": [
    "Таблица содержит данные о пользователях, в ней восемь столбцов.\n",
    "**user_id** — уникальный идентификатор пользователя\n",
    "**first_name** — имя пользователя\n",
    "**last_name** — фамилия пользователя\n",
    "**age** — возраст пользователя (годы)\n",
    "**reg_date** — дата подключения тарифа (день, месяц, год)\n",
    "**churn_date** — дата прекращения пользования тарифом\n",
    "**city** — город проживания пользователя\n",
    "**tariff** — название тарифного плана\n",
    "\n",
    "В столбце churn_date заметны пропуски, значит, тариф ещё действовал на момент выгрузки данных."
   ]
  },
  {
   "cell_type": "markdown",
   "metadata": {},
   "source": [
    "Создадим новую таблицу на основе users, из которой удалим столбцы, не используемые анализе."
   ]
  },
  {
   "cell_type": "code",
   "execution_count": 14,
   "metadata": {},
   "outputs": [],
   "source": [
    "users_data = users.drop(['age','churn_date','first_name','last_name','reg_date'], axis=1)"
   ]
  },
  {
   "cell_type": "markdown",
   "metadata": {},
   "source": [
    "**Вывод**\n",
    "Таблицы содержат разное количество данных, но пропусков в них нет. Только в столбце churn_date таблицы users заметны пропуски, они означают, что тариф ещё действовал на момент выгрузки данных. Проблем с наименованиями столбцов нет."
   ]
  },
  {
   "cell_type": "markdown",
   "metadata": {},
   "source": [
    "## Предобработка данных"
   ]
  },
  {
   "cell_type": "markdown",
   "metadata": {},
   "source": [
    "В ходе этого шага мы проверим данные на дубликаты, если будет необходимость, изменим форматы, исправим ошибки, добавим необходимые для анализа столбцы."
   ]
  },
  {
   "cell_type": "markdown",
   "metadata": {},
   "source": [
    "Проверим таблицы на наличие явных дубликатов."
   ]
  },
  {
   "cell_type": "code",
   "execution_count": 15,
   "metadata": {},
   "outputs": [
    {
     "name": "stdout",
     "output_type": "stream",
     "text": [
      "0\n",
      "0\n",
      "0\n",
      "0\n",
      "0\n"
     ]
    }
   ],
   "source": [
    "print(calls.duplicated().sum())\n",
    "print(internet.duplicated().sum())\n",
    "print(messages.duplicated().sum())\n",
    "print(tariffs.duplicated().sum())\n",
    "print(users.duplicated().sum())"
   ]
  },
  {
   "cell_type": "markdown",
   "metadata": {},
   "source": [
    "Выявим число пользователей каждого тарифа."
   ]
  },
  {
   "cell_type": "code",
   "execution_count": 16,
   "metadata": {},
   "outputs": [
    {
     "data": {
      "text/plain": [
       "smart    351\n",
       "ultra    149\n",
       "Name: tariff, dtype: int64"
      ]
     },
     "execution_count": 16,
     "metadata": {},
     "output_type": "execute_result"
    }
   ],
   "source": [
    "users['tariff'].value_counts()"
   ]
  },
  {
   "cell_type": "markdown",
   "metadata": {},
   "source": [
    "Приведём даты в формат datetime."
   ]
  },
  {
   "cell_type": "code",
   "execution_count": 17,
   "metadata": {},
   "outputs": [],
   "source": [
    "calls['call_date'] = pd.to_datetime(calls['call_date'], format='%Y-%m-%d')\n",
    "messages['message_date'] = pd.to_datetime(messages['message_date'], format='%Y-%m-%d')\n",
    "internet['session_date'] = pd.to_datetime(internet['session_date'], format='%Y-%m-%d')\n",
    "users['reg_date'] = pd.to_datetime(users['reg_date'], format='%Y-%m-%d')\n",
    "users['churn_date'] = pd.to_datetime(users['churn_date'], format='%Y-%m-%d')"
   ]
  },
  {
   "cell_type": "markdown",
   "metadata": {},
   "source": [
    "С учётом того, что «Мегалайн» всегда округляет секунды до минут, необходимо скорректировать данные."
   ]
  },
  {
   "cell_type": "code",
   "execution_count": 18,
   "metadata": {},
   "outputs": [],
   "source": [
    "calls['duration'] = calls['duration'].apply(np.ceil).astype('int')"
   ]
  },
  {
   "cell_type": "markdown",
   "metadata": {},
   "source": [
    "Добавим столбец месяца совершения операции."
   ]
  },
  {
   "cell_type": "code",
   "execution_count": 19,
   "metadata": {},
   "outputs": [],
   "source": [
    "calls['month'] = pd.to_datetime(calls['call_date']).dt.month\n",
    "messages['month'] = pd.to_datetime(messages['message_date']).dt.month\n",
    "internet['month'] = pd.to_datetime(internet['session_date']).dt.month"
   ]
  },
  {
   "cell_type": "markdown",
   "metadata": {},
   "source": [
    "Создадим таблицу с количеством звонков и израсходованных минут каждого пользователя."
   ]
  },
  {
   "cell_type": "code",
   "execution_count": 20,
   "metadata": {},
   "outputs": [],
   "source": [
    "minutes_by_month = calls.groupby(['user_id', 'month'],as_index = False)\\\n",
    "                        .agg({'duration':'sum', 'id':'count'})\\\n",
    "                        .rename(columns={'duration':'month_calls_duration','id':'month_calls_total'})"
   ]
  },
  {
   "cell_type": "markdown",
   "metadata": {},
   "source": [
    "Создадим таблицу с количеством отправленных смс каждого пользователя."
   ]
  },
  {
   "cell_type": "code",
   "execution_count": 21,
   "metadata": {},
   "outputs": [],
   "source": [
    "messages_by_month = messages.groupby(['user_id', 'month'],as_index = False)\\\n",
    "                            .agg({'id':'count'})\\\n",
    "                            .rename(columns={'id':'month_sms_total'})"
   ]
  },
  {
   "cell_type": "markdown",
   "metadata": {},
   "source": [
    "Создадим таблицу с количеством использованного интернет-трафика каждым пользователем."
   ]
  },
  {
   "cell_type": "code",
   "execution_count": 22,
   "metadata": {},
   "outputs": [],
   "source": [
    "internet_by_month = internet.groupby(['user_id', 'month'],as_index = False)\\\n",
    "                            .agg({'mb_used':'sum'})\\\n",
    "                            .rename(columns={'mb_used':'month_mb_total'})"
   ]
  },
  {
   "cell_type": "markdown",
   "metadata": {},
   "source": [
    "В таблицах есть отсутствующие значения - в эти месяцы пользователи не являлись клиентами «Мегалайн»."
   ]
  },
  {
   "cell_type": "code",
   "execution_count": 23,
   "metadata": {},
   "outputs": [
    {
     "data": {
      "text/html": [
       "<div>\n",
       "<style scoped>\n",
       "    .dataframe tbody tr th:only-of-type {\n",
       "        vertical-align: middle;\n",
       "    }\n",
       "\n",
       "    .dataframe tbody tr th {\n",
       "        vertical-align: top;\n",
       "    }\n",
       "\n",
       "    .dataframe thead th {\n",
       "        text-align: right;\n",
       "    }\n",
       "</style>\n",
       "<table border=\"1\" class=\"dataframe\">\n",
       "  <thead>\n",
       "    <tr style=\"text-align: right;\">\n",
       "      <th></th>\n",
       "      <th>user_id</th>\n",
       "      <th>month</th>\n",
       "      <th>month_mb_total</th>\n",
       "    </tr>\n",
       "  </thead>\n",
       "  <tbody>\n",
       "    <tr>\n",
       "      <th>0</th>\n",
       "      <td>1000</td>\n",
       "      <td>5</td>\n",
       "      <td>2253.49</td>\n",
       "    </tr>\n",
       "    <tr>\n",
       "      <th>1</th>\n",
       "      <td>1000</td>\n",
       "      <td>6</td>\n",
       "      <td>23233.77</td>\n",
       "    </tr>\n",
       "    <tr>\n",
       "      <th>2</th>\n",
       "      <td>1000</td>\n",
       "      <td>7</td>\n",
       "      <td>14003.64</td>\n",
       "    </tr>\n",
       "    <tr>\n",
       "      <th>3</th>\n",
       "      <td>1000</td>\n",
       "      <td>8</td>\n",
       "      <td>14055.93</td>\n",
       "    </tr>\n",
       "    <tr>\n",
       "      <th>4</th>\n",
       "      <td>1000</td>\n",
       "      <td>9</td>\n",
       "      <td>14568.91</td>\n",
       "    </tr>\n",
       "  </tbody>\n",
       "</table>\n",
       "</div>"
      ],
      "text/plain": [
       "   user_id  month  month_mb_total\n",
       "0     1000      5         2253.49\n",
       "1     1000      6        23233.77\n",
       "2     1000      7        14003.64\n",
       "3     1000      8        14055.93\n",
       "4     1000      9        14568.91"
      ]
     },
     "execution_count": 23,
     "metadata": {},
     "output_type": "execute_result"
    }
   ],
   "source": [
    "internet_by_month.head()"
   ]
  },
  {
   "cell_type": "code",
   "execution_count": 24,
   "metadata": {},
   "outputs": [],
   "source": [
    "total_data = minutes_by_month.merge(messages_by_month, on=['user_id','month'], how='outer')\\\n",
    "                  .merge(internet_by_month, on=['user_id','month'], how = 'outer')"
   ]
  },
  {
   "cell_type": "code",
   "execution_count": 25,
   "metadata": {
    "scrolled": true
   },
   "outputs": [
    {
     "data": {
      "text/html": [
       "<div>\n",
       "<style scoped>\n",
       "    .dataframe tbody tr th:only-of-type {\n",
       "        vertical-align: middle;\n",
       "    }\n",
       "\n",
       "    .dataframe tbody tr th {\n",
       "        vertical-align: top;\n",
       "    }\n",
       "\n",
       "    .dataframe thead th {\n",
       "        text-align: right;\n",
       "    }\n",
       "</style>\n",
       "<table border=\"1\" class=\"dataframe\">\n",
       "  <thead>\n",
       "    <tr style=\"text-align: right;\">\n",
       "      <th></th>\n",
       "      <th>user_id</th>\n",
       "      <th>month</th>\n",
       "      <th>month_calls_duration</th>\n",
       "      <th>month_calls_total</th>\n",
       "      <th>month_sms_total</th>\n",
       "      <th>month_mb_total</th>\n",
       "    </tr>\n",
       "  </thead>\n",
       "  <tbody>\n",
       "    <tr>\n",
       "      <th>0</th>\n",
       "      <td>1000</td>\n",
       "      <td>5</td>\n",
       "      <td>159.0</td>\n",
       "      <td>22.0</td>\n",
       "      <td>22.0</td>\n",
       "      <td>2253.49</td>\n",
       "    </tr>\n",
       "    <tr>\n",
       "      <th>1</th>\n",
       "      <td>1000</td>\n",
       "      <td>6</td>\n",
       "      <td>172.0</td>\n",
       "      <td>43.0</td>\n",
       "      <td>60.0</td>\n",
       "      <td>23233.77</td>\n",
       "    </tr>\n",
       "    <tr>\n",
       "      <th>2</th>\n",
       "      <td>1000</td>\n",
       "      <td>7</td>\n",
       "      <td>340.0</td>\n",
       "      <td>47.0</td>\n",
       "      <td>75.0</td>\n",
       "      <td>14003.64</td>\n",
       "    </tr>\n",
       "    <tr>\n",
       "      <th>3</th>\n",
       "      <td>1000</td>\n",
       "      <td>8</td>\n",
       "      <td>408.0</td>\n",
       "      <td>52.0</td>\n",
       "      <td>81.0</td>\n",
       "      <td>14055.93</td>\n",
       "    </tr>\n",
       "    <tr>\n",
       "      <th>4</th>\n",
       "      <td>1000</td>\n",
       "      <td>9</td>\n",
       "      <td>466.0</td>\n",
       "      <td>58.0</td>\n",
       "      <td>57.0</td>\n",
       "      <td>14568.91</td>\n",
       "    </tr>\n",
       "    <tr>\n",
       "      <th>...</th>\n",
       "      <td>...</td>\n",
       "      <td>...</td>\n",
       "      <td>...</td>\n",
       "      <td>...</td>\n",
       "      <td>...</td>\n",
       "      <td>...</td>\n",
       "    </tr>\n",
       "    <tr>\n",
       "      <th>3209</th>\n",
       "      <td>1489</td>\n",
       "      <td>9</td>\n",
       "      <td>NaN</td>\n",
       "      <td>NaN</td>\n",
       "      <td>32.0</td>\n",
       "      <td>17206.30</td>\n",
       "    </tr>\n",
       "    <tr>\n",
       "      <th>3210</th>\n",
       "      <td>1489</td>\n",
       "      <td>10</td>\n",
       "      <td>NaN</td>\n",
       "      <td>NaN</td>\n",
       "      <td>21.0</td>\n",
       "      <td>19559.44</td>\n",
       "    </tr>\n",
       "    <tr>\n",
       "      <th>3211</th>\n",
       "      <td>1489</td>\n",
       "      <td>11</td>\n",
       "      <td>NaN</td>\n",
       "      <td>NaN</td>\n",
       "      <td>20.0</td>\n",
       "      <td>17491.56</td>\n",
       "    </tr>\n",
       "    <tr>\n",
       "      <th>3212</th>\n",
       "      <td>1489</td>\n",
       "      <td>12</td>\n",
       "      <td>NaN</td>\n",
       "      <td>NaN</td>\n",
       "      <td>35.0</td>\n",
       "      <td>17322.51</td>\n",
       "    </tr>\n",
       "    <tr>\n",
       "      <th>3213</th>\n",
       "      <td>1476</td>\n",
       "      <td>4</td>\n",
       "      <td>NaN</td>\n",
       "      <td>NaN</td>\n",
       "      <td>NaN</td>\n",
       "      <td>530.78</td>\n",
       "    </tr>\n",
       "  </tbody>\n",
       "</table>\n",
       "<p>3214 rows × 6 columns</p>\n",
       "</div>"
      ],
      "text/plain": [
       "      user_id  month  month_calls_duration  month_calls_total  \\\n",
       "0        1000      5                 159.0               22.0   \n",
       "1        1000      6                 172.0               43.0   \n",
       "2        1000      7                 340.0               47.0   \n",
       "3        1000      8                 408.0               52.0   \n",
       "4        1000      9                 466.0               58.0   \n",
       "...       ...    ...                   ...                ...   \n",
       "3209     1489      9                   NaN                NaN   \n",
       "3210     1489     10                   NaN                NaN   \n",
       "3211     1489     11                   NaN                NaN   \n",
       "3212     1489     12                   NaN                NaN   \n",
       "3213     1476      4                   NaN                NaN   \n",
       "\n",
       "      month_sms_total  month_mb_total  \n",
       "0                22.0         2253.49  \n",
       "1                60.0        23233.77  \n",
       "2                75.0        14003.64  \n",
       "3                81.0        14055.93  \n",
       "4                57.0        14568.91  \n",
       "...               ...             ...  \n",
       "3209             32.0        17206.30  \n",
       "3210             21.0        19559.44  \n",
       "3211             20.0        17491.56  \n",
       "3212             35.0        17322.51  \n",
       "3213              NaN          530.78  \n",
       "\n",
       "[3214 rows x 6 columns]"
      ]
     },
     "metadata": {},
     "output_type": "display_data"
    }
   ],
   "source": [
    "display(total_data)"
   ]
  },
  {
   "cell_type": "markdown",
   "metadata": {},
   "source": [
    "Добавим новый столбец, в котором переведём мегабайты в гигабайты. Сразу округлим данные в столбце в большую сторону и приведём их к целочисленному типу."
   ]
  },
  {
   "cell_type": "code",
   "execution_count": 26,
   "metadata": {},
   "outputs": [],
   "source": [
    "total_data['month_gb_total'] = (total_data['month_mb_total'] / 1024)"
   ]
  },
  {
   "cell_type": "code",
   "execution_count": 27,
   "metadata": {},
   "outputs": [],
   "source": [
    "total_data['month_gb_total'] = np.ceil(total_data['month_gb_total'])"
   ]
  },
  {
   "cell_type": "code",
   "execution_count": 28,
   "metadata": {},
   "outputs": [
    {
     "name": "stdout",
     "output_type": "stream",
     "text": [
      "<class 'pandas.core.frame.DataFrame'>\n",
      "Int64Index: 3214 entries, 0 to 3213\n",
      "Data columns (total 7 columns):\n",
      " #   Column                Non-Null Count  Dtype  \n",
      "---  ------                --------------  -----  \n",
      " 0   user_id               3214 non-null   int64  \n",
      " 1   month                 3214 non-null   int64  \n",
      " 2   month_calls_duration  3174 non-null   float64\n",
      " 3   month_calls_total     3174 non-null   float64\n",
      " 4   month_sms_total       2717 non-null   float64\n",
      " 5   month_mb_total        3203 non-null   float64\n",
      " 6   month_gb_total        3203 non-null   float64\n",
      "dtypes: float64(5), int64(2)\n",
      "memory usage: 200.9 KB\n"
     ]
    }
   ],
   "source": [
    "# check\n",
    "total_data.info()"
   ]
  },
  {
   "cell_type": "code",
   "execution_count": 29,
   "metadata": {},
   "outputs": [],
   "source": [
    "total_data['month_gb_total'] = total_data['month_gb_total'].astype('Int64')"
   ]
  },
  {
   "cell_type": "markdown",
   "metadata": {},
   "source": [
    "Подсчитаем выручку с каждого пользователя по месяцам. Для этого объединим total_data и users_data, напишем собственную функцию и добавим в таблицу столбец с итоговой оплатой в месяц."
   ]
  },
  {
   "cell_type": "code",
   "execution_count": 30,
   "metadata": {},
   "outputs": [],
   "source": [
    "total_data = total_data.merge(users_data, on='user_id', how='outer')"
   ]
  },
  {
   "cell_type": "markdown",
   "metadata": {},
   "source": [
    "В таблице есть пропущенные значения, в эти месяцы пользователь не являлся клиентом компании, заполним пропуски 0."
   ]
  },
  {
   "cell_type": "code",
   "execution_count": 31,
   "metadata": {},
   "outputs": [],
   "source": [
    "features = ['month_calls_duration', 'month_calls_total', 'month_sms_total', 'month_mb_total', 'month_gb_total']\n",
    "\n",
    "for n in features:\n",
    "    total_data[n] = total_data[n].fillna(0).astype('int')"
   ]
  },
  {
   "cell_type": "code",
   "execution_count": 32,
   "metadata": {},
   "outputs": [],
   "source": [
    "def month_transaction(row):\n",
    "    \n",
    "    if row['tariff'] == 'smart': \n",
    "        calls_extra = ( \n",
    "                        max(row['month_calls_duration'] - tariffs.loc[0, 'minutes_included'], 0) \n",
    "                        * tariffs.loc[0, 'rub_per_minute']\n",
    "                       )\n",
    "        messages_extra = ( \n",
    "                        max(row['month_sms_total'] - tariffs.loc[0, 'messages_included'], 0) \n",
    "                        * tariffs.loc[0, 'rub_per_message']\n",
    "                       )\n",
    "        gb_extra = ( \n",
    "                        np.ceil(max(row['month_mb_total'] - tariffs.loc[0, 'mb_per_month_included'], 0)/1024) \n",
    "                        * tariffs.loc[0, 'rub_per_gb']\n",
    "                       )\n",
    "        return calls_extra + messages_extra + gb_extra + tariffs.loc[0, 'rub_monthly_fee']\n",
    "    \n",
    "    else:\n",
    "        calls_extra = ( \n",
    "                        max(row['month_calls_duration'] - tariffs.loc[1, 'minutes_included'], 0) \n",
    "                        * tariffs.loc[1, 'rub_per_minute']\n",
    "                       )\n",
    "        messages_extra = ( \n",
    "                        max(row['month_sms_total'] - tariffs.loc[1, 'messages_included'], 0) \n",
    "                        * tariffs.loc[1, 'rub_per_message']\n",
    "                       )\n",
    "        gb_extra = ( \n",
    "                        np.ceil(max(row['month_mb_total'] - tariffs.loc[1, 'mb_per_month_included'], 0)/1024) \n",
    "                        * tariffs.loc[1, 'rub_per_gb']\n",
    "                       )\n",
    "        return calls_extra + messages_extra + gb_extra + tariffs.loc[1, 'rub_monthly_fee']\n",
    "\n",
    "total_data['total_cost'] = total_data.apply(month_transaction, axis=1)\n"
   ]
  },
  {
   "cell_type": "code",
   "execution_count": 33,
   "metadata": {},
   "outputs": [
    {
     "data": {
      "text/plain": [
       "4916951.0"
      ]
     },
     "execution_count": 33,
     "metadata": {},
     "output_type": "execute_result"
    }
   ],
   "source": [
    "# check\n",
    "total_data['revenue'].sum()"
   ]
  },
  {
   "cell_type": "code",
   "execution_count": 34,
   "metadata": {},
   "outputs": [
    {
     "name": "stdout",
     "output_type": "stream",
     "text": [
      "<class 'pandas.core.frame.DataFrame'>\n",
      "Int64Index: 3216 entries, 0 to 3215\n",
      "Data columns (total 10 columns):\n",
      " #   Column                Non-Null Count  Dtype  \n",
      "---  ------                --------------  -----  \n",
      " 0   user_id               3216 non-null   int64  \n",
      " 1   month                 3214 non-null   float64\n",
      " 2   month_calls_duration  3216 non-null   int64  \n",
      " 3   month_calls_total     3216 non-null   int64  \n",
      " 4   month_sms_total       3216 non-null   int64  \n",
      " 5   month_mb_total        3216 non-null   int64  \n",
      " 6   month_gb_total        3216 non-null   int64  \n",
      " 7   city                  3216 non-null   object \n",
      " 8   tariff                3216 non-null   object \n",
      " 9   revenue               3216 non-null   float64\n",
      "dtypes: float64(2), int64(6), object(2)\n",
      "memory usage: 276.4+ KB\n"
     ]
    }
   ],
   "source": [
    "# check\n",
    "total_data.info()"
   ]
  },
  {
   "cell_type": "code",
   "execution_count": 37,
   "metadata": {},
   "outputs": [
    {
     "data": {
      "text/html": [
       "<div>\n",
       "<style scoped>\n",
       "    .dataframe tbody tr th:only-of-type {\n",
       "        vertical-align: middle;\n",
       "    }\n",
       "\n",
       "    .dataframe tbody tr th {\n",
       "        vertical-align: top;\n",
       "    }\n",
       "\n",
       "    .dataframe thead th {\n",
       "        text-align: right;\n",
       "    }\n",
       "</style>\n",
       "<table border=\"1\" class=\"dataframe\">\n",
       "  <thead>\n",
       "    <tr style=\"text-align: right;\">\n",
       "      <th></th>\n",
       "      <th>user_id</th>\n",
       "      <th>month</th>\n",
       "      <th>month_calls_duration</th>\n",
       "      <th>month_calls_total</th>\n",
       "      <th>month_sms_total</th>\n",
       "      <th>month_mb_total</th>\n",
       "      <th>month_gb_total</th>\n",
       "      <th>city</th>\n",
       "      <th>tariff</th>\n",
       "      <th>revenue</th>\n",
       "      <th>minutes_cost</th>\n",
       "    </tr>\n",
       "  </thead>\n",
       "  <tbody>\n",
       "    <tr>\n",
       "      <th>0</th>\n",
       "      <td>1000</td>\n",
       "      <td>5.0</td>\n",
       "      <td>159</td>\n",
       "      <td>22</td>\n",
       "      <td>22</td>\n",
       "      <td>2253</td>\n",
       "      <td>3</td>\n",
       "      <td>Краснодар</td>\n",
       "      <td>ultra</td>\n",
       "      <td>1950.0</td>\n",
       "      <td>0</td>\n",
       "    </tr>\n",
       "    <tr>\n",
       "      <th>1</th>\n",
       "      <td>1000</td>\n",
       "      <td>6.0</td>\n",
       "      <td>172</td>\n",
       "      <td>43</td>\n",
       "      <td>60</td>\n",
       "      <td>23233</td>\n",
       "      <td>23</td>\n",
       "      <td>Краснодар</td>\n",
       "      <td>ultra</td>\n",
       "      <td>1950.0</td>\n",
       "      <td>0</td>\n",
       "    </tr>\n",
       "    <tr>\n",
       "      <th>2</th>\n",
       "      <td>1000</td>\n",
       "      <td>7.0</td>\n",
       "      <td>340</td>\n",
       "      <td>47</td>\n",
       "      <td>75</td>\n",
       "      <td>14003</td>\n",
       "      <td>14</td>\n",
       "      <td>Краснодар</td>\n",
       "      <td>ultra</td>\n",
       "      <td>1950.0</td>\n",
       "      <td>0</td>\n",
       "    </tr>\n",
       "    <tr>\n",
       "      <th>3</th>\n",
       "      <td>1000</td>\n",
       "      <td>8.0</td>\n",
       "      <td>408</td>\n",
       "      <td>52</td>\n",
       "      <td>81</td>\n",
       "      <td>14055</td>\n",
       "      <td>14</td>\n",
       "      <td>Краснодар</td>\n",
       "      <td>ultra</td>\n",
       "      <td>1950.0</td>\n",
       "      <td>0</td>\n",
       "    </tr>\n",
       "    <tr>\n",
       "      <th>4</th>\n",
       "      <td>1000</td>\n",
       "      <td>9.0</td>\n",
       "      <td>466</td>\n",
       "      <td>58</td>\n",
       "      <td>57</td>\n",
       "      <td>14568</td>\n",
       "      <td>15</td>\n",
       "      <td>Краснодар</td>\n",
       "      <td>ultra</td>\n",
       "      <td>1950.0</td>\n",
       "      <td>0</td>\n",
       "    </tr>\n",
       "    <tr>\n",
       "      <th>...</th>\n",
       "      <td>...</td>\n",
       "      <td>...</td>\n",
       "      <td>...</td>\n",
       "      <td>...</td>\n",
       "      <td>...</td>\n",
       "      <td>...</td>\n",
       "      <td>...</td>\n",
       "      <td>...</td>\n",
       "      <td>...</td>\n",
       "      <td>...</td>\n",
       "      <td>...</td>\n",
       "    </tr>\n",
       "    <tr>\n",
       "      <th>3211</th>\n",
       "      <td>1489</td>\n",
       "      <td>10.0</td>\n",
       "      <td>0</td>\n",
       "      <td>0</td>\n",
       "      <td>21</td>\n",
       "      <td>19559</td>\n",
       "      <td>20</td>\n",
       "      <td>Санкт-Петербург</td>\n",
       "      <td>smart</td>\n",
       "      <td>1550.0</td>\n",
       "      <td>0</td>\n",
       "    </tr>\n",
       "    <tr>\n",
       "      <th>3212</th>\n",
       "      <td>1489</td>\n",
       "      <td>11.0</td>\n",
       "      <td>0</td>\n",
       "      <td>0</td>\n",
       "      <td>20</td>\n",
       "      <td>17491</td>\n",
       "      <td>18</td>\n",
       "      <td>Санкт-Петербург</td>\n",
       "      <td>smart</td>\n",
       "      <td>1150.0</td>\n",
       "      <td>0</td>\n",
       "    </tr>\n",
       "    <tr>\n",
       "      <th>3213</th>\n",
       "      <td>1489</td>\n",
       "      <td>12.0</td>\n",
       "      <td>0</td>\n",
       "      <td>0</td>\n",
       "      <td>35</td>\n",
       "      <td>17322</td>\n",
       "      <td>17</td>\n",
       "      <td>Санкт-Петербург</td>\n",
       "      <td>smart</td>\n",
       "      <td>950.0</td>\n",
       "      <td>0</td>\n",
       "    </tr>\n",
       "    <tr>\n",
       "      <th>3214</th>\n",
       "      <td>1128</td>\n",
       "      <td>NaN</td>\n",
       "      <td>0</td>\n",
       "      <td>0</td>\n",
       "      <td>0</td>\n",
       "      <td>0</td>\n",
       "      <td>0</td>\n",
       "      <td>Волжский</td>\n",
       "      <td>ultra</td>\n",
       "      <td>1950.0</td>\n",
       "      <td>0</td>\n",
       "    </tr>\n",
       "    <tr>\n",
       "      <th>3215</th>\n",
       "      <td>1371</td>\n",
       "      <td>NaN</td>\n",
       "      <td>0</td>\n",
       "      <td>0</td>\n",
       "      <td>0</td>\n",
       "      <td>0</td>\n",
       "      <td>0</td>\n",
       "      <td>Омск</td>\n",
       "      <td>smart</td>\n",
       "      <td>550.0</td>\n",
       "      <td>0</td>\n",
       "    </tr>\n",
       "  </tbody>\n",
       "</table>\n",
       "<p>3216 rows × 11 columns</p>\n",
       "</div>"
      ],
      "text/plain": [
       "      user_id  month  month_calls_duration  month_calls_total  \\\n",
       "0        1000    5.0                   159                 22   \n",
       "1        1000    6.0                   172                 43   \n",
       "2        1000    7.0                   340                 47   \n",
       "3        1000    8.0                   408                 52   \n",
       "4        1000    9.0                   466                 58   \n",
       "...       ...    ...                   ...                ...   \n",
       "3211     1489   10.0                     0                  0   \n",
       "3212     1489   11.0                     0                  0   \n",
       "3213     1489   12.0                     0                  0   \n",
       "3214     1128    NaN                     0                  0   \n",
       "3215     1371    NaN                     0                  0   \n",
       "\n",
       "      month_sms_total  month_mb_total  month_gb_total             city tariff  \\\n",
       "0                  22            2253               3        Краснодар  ultra   \n",
       "1                  60           23233              23        Краснодар  ultra   \n",
       "2                  75           14003              14        Краснодар  ultra   \n",
       "3                  81           14055              14        Краснодар  ultra   \n",
       "4                  57           14568              15        Краснодар  ultra   \n",
       "...               ...             ...             ...              ...    ...   \n",
       "3211               21           19559              20  Санкт-Петербург  smart   \n",
       "3212               20           17491              18  Санкт-Петербург  smart   \n",
       "3213               35           17322              17  Санкт-Петербург  smart   \n",
       "3214                0               0               0         Волжский  ultra   \n",
       "3215                0               0               0             Омск  smart   \n",
       "\n",
       "      revenue  minutes_cost  \n",
       "0      1950.0             0  \n",
       "1      1950.0             0  \n",
       "2      1950.0             0  \n",
       "3      1950.0             0  \n",
       "4      1950.0             0  \n",
       "...       ...           ...  \n",
       "3211   1550.0             0  \n",
       "3212   1150.0             0  \n",
       "3213    950.0             0  \n",
       "3214   1950.0             0  \n",
       "3215    550.0             0  \n",
       "\n",
       "[3216 rows x 11 columns]"
      ]
     },
     "metadata": {},
     "output_type": "display_data"
    }
   ],
   "source": [
    "display(total_data)"
   ]
  },
  {
   "cell_type": "markdown",
   "metadata": {},
   "source": [
    "**Вывод:**\n",
    "В ходе предобработки данных мы изменили тип данных в столбцах с датой, округлили данные в соответствии с политикой компании, объединили таблицы, добавили столбцы с расчётами."
   ]
  },
  {
   "cell_type": "code",
   "execution_count": 38,
   "metadata": {},
   "outputs": [],
   "source": [
    "# перенесла расчет выручки после блока заполнения пропусков, так надежнее\n",
    "\n",
    "total_data['total_cost'] = total_data.apply(month_transaction, axis=1) "
   ]
  },
  {
   "cell_type": "code",
   "execution_count": 39,
   "metadata": {},
   "outputs": [
    {
     "data": {
      "text/plain": [
       "278217"
      ]
     },
     "execution_count": 39,
     "metadata": {},
     "output_type": "execute_result"
    }
   ],
   "source": [
    "# check\n",
    "total_data['total_cost'].sum()"
   ]
  },
  {
   "cell_type": "code",
   "execution_count": 40,
   "metadata": {},
   "outputs": [
    {
     "data": {
      "text/html": [
       "<div>\n",
       "<style scoped>\n",
       "    .dataframe tbody tr th:only-of-type {\n",
       "        vertical-align: middle;\n",
       "    }\n",
       "\n",
       "    .dataframe tbody tr th {\n",
       "        vertical-align: top;\n",
       "    }\n",
       "\n",
       "    .dataframe thead th {\n",
       "        text-align: right;\n",
       "    }\n",
       "</style>\n",
       "<table border=\"1\" class=\"dataframe\">\n",
       "  <thead>\n",
       "    <tr style=\"text-align: right;\">\n",
       "      <th></th>\n",
       "      <th>user_id</th>\n",
       "      <th>month</th>\n",
       "      <th>month_calls_duration</th>\n",
       "      <th>month_calls_total</th>\n",
       "      <th>month_sms_total</th>\n",
       "      <th>month_gb_total</th>\n",
       "      <th>city</th>\n",
       "      <th>tariff</th>\n",
       "      <th>total_cost</th>\n",
       "    </tr>\n",
       "  </thead>\n",
       "  <tbody>\n",
       "    <tr>\n",
       "      <th>3163</th>\n",
       "      <td>1496</td>\n",
       "      <td>11.0</td>\n",
       "      <td>662</td>\n",
       "      <td>80</td>\n",
       "      <td>46</td>\n",
       "      <td>25</td>\n",
       "      <td>Вологда</td>\n",
       "      <td>smart</td>\n",
       "      <td>486</td>\n",
       "    </tr>\n",
       "    <tr>\n",
       "      <th>3164</th>\n",
       "      <td>1496</td>\n",
       "      <td>12.0</td>\n",
       "      <td>518</td>\n",
       "      <td>80</td>\n",
       "      <td>51</td>\n",
       "      <td>21</td>\n",
       "      <td>Вологда</td>\n",
       "      <td>smart</td>\n",
       "      <td>54</td>\n",
       "    </tr>\n",
       "    <tr>\n",
       "      <th>3167</th>\n",
       "      <td>1497</td>\n",
       "      <td>12.0</td>\n",
       "      <td>545</td>\n",
       "      <td>71</td>\n",
       "      <td>17</td>\n",
       "      <td>20</td>\n",
       "      <td>Челябинск</td>\n",
       "      <td>smart</td>\n",
       "      <td>135</td>\n",
       "    </tr>\n",
       "    <tr>\n",
       "      <th>3174</th>\n",
       "      <td>1499</td>\n",
       "      <td>11.0</td>\n",
       "      <td>612</td>\n",
       "      <td>74</td>\n",
       "      <td>59</td>\n",
       "      <td>18</td>\n",
       "      <td>Пермь</td>\n",
       "      <td>smart</td>\n",
       "      <td>336</td>\n",
       "    </tr>\n",
       "  </tbody>\n",
       "</table>\n",
       "</div>"
      ],
      "text/plain": [
       "      user_id  month  month_calls_duration  month_calls_total  \\\n",
       "3163     1496   11.0                   662                 80   \n",
       "3164     1496   12.0                   518                 80   \n",
       "3167     1497   12.0                   545                 71   \n",
       "3174     1499   11.0                   612                 74   \n",
       "\n",
       "      month_sms_total  month_gb_total       city tariff  total_cost  \n",
       "3163               46              25    Вологда  smart         486  \n",
       "3164               51              21    Вологда  smart          54  \n",
       "3167               17              20  Челябинск  smart         135  \n",
       "3174               59              18      Пермь  smart         336  "
      ]
     },
     "execution_count": 40,
     "metadata": {},
     "output_type": "execute_result"
    }
   ],
   "source": [
    "# check\n",
    "total_data[total_data ['month_calls_duration'] > 500][['user_id', 'month', 'month_calls_duration', 'month_calls_total',\n",
    "       'month_sms_total', 'month_gb_total', 'city', 'tariff', 'total_cost']].tail(4)"
   ]
  },
  {
   "cell_type": "markdown",
   "metadata": {},
   "source": [
    "## Анализ данных"
   ]
  },
  {
   "cell_type": "markdown",
   "metadata": {},
   "source": [
    "В ходе анализа данных нам необходимо описать поведение клиентов оператора, исходя из выборки - сколько минут разговора, сколько сообщений и какой объём интернет-трафика требуется пользователям каждого тарифа в месяц, посчитать среднее количество, дисперсию и стандартное отклонение, построить гистограммы, описать распределения."
   ]
  },
  {
   "cell_type": "markdown",
   "metadata": {},
   "source": [
    "Чтобы расчитать объём необходимого трафика, сообщений и звонков пользователям каждого тарифа в месяц, разделим таблицу total_data по тарифам."
   ]
  },
  {
   "cell_type": "code",
   "execution_count": 41,
   "metadata": {},
   "outputs": [],
   "source": [
    "smart = total_data[total_data['tariff'] == 'smart']\n",
    "ultra = total_data[total_data['tariff'] == 'ultra']"
   ]
  },
  {
   "cell_type": "code",
   "execution_count": 42,
   "metadata": {},
   "outputs": [
    {
     "data": {
      "text/html": [
       "<div>\n",
       "<style scoped>\n",
       "    .dataframe tbody tr th:only-of-type {\n",
       "        vertical-align: middle;\n",
       "    }\n",
       "\n",
       "    .dataframe tbody tr th {\n",
       "        vertical-align: top;\n",
       "    }\n",
       "\n",
       "    .dataframe thead th {\n",
       "        text-align: right;\n",
       "    }\n",
       "</style>\n",
       "<table border=\"1\" class=\"dataframe\">\n",
       "  <thead>\n",
       "    <tr style=\"text-align: right;\">\n",
       "      <th></th>\n",
       "      <th>user_id</th>\n",
       "      <th>month</th>\n",
       "      <th>month_calls_duration</th>\n",
       "      <th>month_calls_total</th>\n",
       "      <th>month_sms_total</th>\n",
       "      <th>month_mb_total</th>\n",
       "      <th>month_gb_total</th>\n",
       "      <th>city</th>\n",
       "      <th>tariff</th>\n",
       "      <th>revenue</th>\n",
       "      <th>minutes_cost</th>\n",
       "      <th>total_cost</th>\n",
       "    </tr>\n",
       "  </thead>\n",
       "  <tbody>\n",
       "    <tr>\n",
       "      <th>8</th>\n",
       "      <td>1001</td>\n",
       "      <td>11.0</td>\n",
       "      <td>430</td>\n",
       "      <td>59</td>\n",
       "      <td>0</td>\n",
       "      <td>18429</td>\n",
       "      <td>18</td>\n",
       "      <td>Москва</td>\n",
       "      <td>smart</td>\n",
       "      <td>1150.0</td>\n",
       "      <td>0</td>\n",
       "      <td>0</td>\n",
       "    </tr>\n",
       "    <tr>\n",
       "      <th>9</th>\n",
       "      <td>1001</td>\n",
       "      <td>12.0</td>\n",
       "      <td>414</td>\n",
       "      <td>63</td>\n",
       "      <td>0</td>\n",
       "      <td>14036</td>\n",
       "      <td>14</td>\n",
       "      <td>Москва</td>\n",
       "      <td>smart</td>\n",
       "      <td>550.0</td>\n",
       "      <td>0</td>\n",
       "      <td>0</td>\n",
       "    </tr>\n",
       "    <tr>\n",
       "      <th>10</th>\n",
       "      <td>1002</td>\n",
       "      <td>6.0</td>\n",
       "      <td>117</td>\n",
       "      <td>15</td>\n",
       "      <td>4</td>\n",
       "      <td>10856</td>\n",
       "      <td>11</td>\n",
       "      <td>Стерлитамак</td>\n",
       "      <td>smart</td>\n",
       "      <td>550.0</td>\n",
       "      <td>0</td>\n",
       "      <td>0</td>\n",
       "    </tr>\n",
       "    <tr>\n",
       "      <th>11</th>\n",
       "      <td>1002</td>\n",
       "      <td>7.0</td>\n",
       "      <td>214</td>\n",
       "      <td>26</td>\n",
       "      <td>11</td>\n",
       "      <td>17580</td>\n",
       "      <td>18</td>\n",
       "      <td>Стерлитамак</td>\n",
       "      <td>smart</td>\n",
       "      <td>1150.0</td>\n",
       "      <td>0</td>\n",
       "      <td>0</td>\n",
       "    </tr>\n",
       "    <tr>\n",
       "      <th>12</th>\n",
       "      <td>1002</td>\n",
       "      <td>8.0</td>\n",
       "      <td>289</td>\n",
       "      <td>42</td>\n",
       "      <td>13</td>\n",
       "      <td>20319</td>\n",
       "      <td>20</td>\n",
       "      <td>Стерлитамак</td>\n",
       "      <td>smart</td>\n",
       "      <td>1550.0</td>\n",
       "      <td>0</td>\n",
       "      <td>0</td>\n",
       "    </tr>\n",
       "    <tr>\n",
       "      <th>...</th>\n",
       "      <td>...</td>\n",
       "      <td>...</td>\n",
       "      <td>...</td>\n",
       "      <td>...</td>\n",
       "      <td>...</td>\n",
       "      <td>...</td>\n",
       "      <td>...</td>\n",
       "      <td>...</td>\n",
       "      <td>...</td>\n",
       "      <td>...</td>\n",
       "      <td>...</td>\n",
       "      <td>...</td>\n",
       "    </tr>\n",
       "    <tr>\n",
       "      <th>3210</th>\n",
       "      <td>1489</td>\n",
       "      <td>9.0</td>\n",
       "      <td>0</td>\n",
       "      <td>0</td>\n",
       "      <td>32</td>\n",
       "      <td>17206</td>\n",
       "      <td>17</td>\n",
       "      <td>Санкт-Петербург</td>\n",
       "      <td>smart</td>\n",
       "      <td>950.0</td>\n",
       "      <td>0</td>\n",
       "      <td>0</td>\n",
       "    </tr>\n",
       "    <tr>\n",
       "      <th>3211</th>\n",
       "      <td>1489</td>\n",
       "      <td>10.0</td>\n",
       "      <td>0</td>\n",
       "      <td>0</td>\n",
       "      <td>21</td>\n",
       "      <td>19559</td>\n",
       "      <td>20</td>\n",
       "      <td>Санкт-Петербург</td>\n",
       "      <td>smart</td>\n",
       "      <td>1550.0</td>\n",
       "      <td>0</td>\n",
       "      <td>0</td>\n",
       "    </tr>\n",
       "    <tr>\n",
       "      <th>3212</th>\n",
       "      <td>1489</td>\n",
       "      <td>11.0</td>\n",
       "      <td>0</td>\n",
       "      <td>0</td>\n",
       "      <td>20</td>\n",
       "      <td>17491</td>\n",
       "      <td>18</td>\n",
       "      <td>Санкт-Петербург</td>\n",
       "      <td>smart</td>\n",
       "      <td>1150.0</td>\n",
       "      <td>0</td>\n",
       "      <td>0</td>\n",
       "    </tr>\n",
       "    <tr>\n",
       "      <th>3213</th>\n",
       "      <td>1489</td>\n",
       "      <td>12.0</td>\n",
       "      <td>0</td>\n",
       "      <td>0</td>\n",
       "      <td>35</td>\n",
       "      <td>17322</td>\n",
       "      <td>17</td>\n",
       "      <td>Санкт-Петербург</td>\n",
       "      <td>smart</td>\n",
       "      <td>950.0</td>\n",
       "      <td>0</td>\n",
       "      <td>0</td>\n",
       "    </tr>\n",
       "    <tr>\n",
       "      <th>3215</th>\n",
       "      <td>1371</td>\n",
       "      <td>NaN</td>\n",
       "      <td>0</td>\n",
       "      <td>0</td>\n",
       "      <td>0</td>\n",
       "      <td>0</td>\n",
       "      <td>0</td>\n",
       "      <td>Омск</td>\n",
       "      <td>smart</td>\n",
       "      <td>550.0</td>\n",
       "      <td>0</td>\n",
       "      <td>0</td>\n",
       "    </tr>\n",
       "  </tbody>\n",
       "</table>\n",
       "<p>2230 rows × 12 columns</p>\n",
       "</div>"
      ],
      "text/plain": [
       "      user_id  month  month_calls_duration  month_calls_total  \\\n",
       "8        1001   11.0                   430                 59   \n",
       "9        1001   12.0                   414                 63   \n",
       "10       1002    6.0                   117                 15   \n",
       "11       1002    7.0                   214                 26   \n",
       "12       1002    8.0                   289                 42   \n",
       "...       ...    ...                   ...                ...   \n",
       "3210     1489    9.0                     0                  0   \n",
       "3211     1489   10.0                     0                  0   \n",
       "3212     1489   11.0                     0                  0   \n",
       "3213     1489   12.0                     0                  0   \n",
       "3215     1371    NaN                     0                  0   \n",
       "\n",
       "      month_sms_total  month_mb_total  month_gb_total             city tariff  \\\n",
       "8                   0           18429              18           Москва  smart   \n",
       "9                   0           14036              14           Москва  smart   \n",
       "10                  4           10856              11      Стерлитамак  smart   \n",
       "11                 11           17580              18      Стерлитамак  smart   \n",
       "12                 13           20319              20      Стерлитамак  smart   \n",
       "...               ...             ...             ...              ...    ...   \n",
       "3210               32           17206              17  Санкт-Петербург  smart   \n",
       "3211               21           19559              20  Санкт-Петербург  smart   \n",
       "3212               20           17491              18  Санкт-Петербург  smart   \n",
       "3213               35           17322              17  Санкт-Петербург  smart   \n",
       "3215                0               0               0             Омск  smart   \n",
       "\n",
       "      revenue  minutes_cost  total_cost  \n",
       "8      1150.0             0           0  \n",
       "9       550.0             0           0  \n",
       "10      550.0             0           0  \n",
       "11     1150.0             0           0  \n",
       "12     1550.0             0           0  \n",
       "...       ...           ...         ...  \n",
       "3210    950.0             0           0  \n",
       "3211   1550.0             0           0  \n",
       "3212   1150.0             0           0  \n",
       "3213    950.0             0           0  \n",
       "3215    550.0             0           0  \n",
       "\n",
       "[2230 rows x 12 columns]"
      ]
     },
     "metadata": {},
     "output_type": "display_data"
    },
    {
     "data": {
      "text/html": [
       "<div>\n",
       "<style scoped>\n",
       "    .dataframe tbody tr th:only-of-type {\n",
       "        vertical-align: middle;\n",
       "    }\n",
       "\n",
       "    .dataframe tbody tr th {\n",
       "        vertical-align: top;\n",
       "    }\n",
       "\n",
       "    .dataframe thead th {\n",
       "        text-align: right;\n",
       "    }\n",
       "</style>\n",
       "<table border=\"1\" class=\"dataframe\">\n",
       "  <thead>\n",
       "    <tr style=\"text-align: right;\">\n",
       "      <th></th>\n",
       "      <th>user_id</th>\n",
       "      <th>month</th>\n",
       "      <th>month_calls_duration</th>\n",
       "      <th>month_calls_total</th>\n",
       "      <th>month_sms_total</th>\n",
       "      <th>month_mb_total</th>\n",
       "      <th>month_gb_total</th>\n",
       "      <th>city</th>\n",
       "      <th>tariff</th>\n",
       "      <th>revenue</th>\n",
       "      <th>minutes_cost</th>\n",
       "      <th>total_cost</th>\n",
       "    </tr>\n",
       "  </thead>\n",
       "  <tbody>\n",
       "    <tr>\n",
       "      <th>0</th>\n",
       "      <td>1000</td>\n",
       "      <td>5.0</td>\n",
       "      <td>159</td>\n",
       "      <td>22</td>\n",
       "      <td>22</td>\n",
       "      <td>2253</td>\n",
       "      <td>3</td>\n",
       "      <td>Краснодар</td>\n",
       "      <td>ultra</td>\n",
       "      <td>1950.0</td>\n",
       "      <td>0</td>\n",
       "      <td>0</td>\n",
       "    </tr>\n",
       "    <tr>\n",
       "      <th>1</th>\n",
       "      <td>1000</td>\n",
       "      <td>6.0</td>\n",
       "      <td>172</td>\n",
       "      <td>43</td>\n",
       "      <td>60</td>\n",
       "      <td>23233</td>\n",
       "      <td>23</td>\n",
       "      <td>Краснодар</td>\n",
       "      <td>ultra</td>\n",
       "      <td>1950.0</td>\n",
       "      <td>0</td>\n",
       "      <td>0</td>\n",
       "    </tr>\n",
       "    <tr>\n",
       "      <th>2</th>\n",
       "      <td>1000</td>\n",
       "      <td>7.0</td>\n",
       "      <td>340</td>\n",
       "      <td>47</td>\n",
       "      <td>75</td>\n",
       "      <td>14003</td>\n",
       "      <td>14</td>\n",
       "      <td>Краснодар</td>\n",
       "      <td>ultra</td>\n",
       "      <td>1950.0</td>\n",
       "      <td>0</td>\n",
       "      <td>0</td>\n",
       "    </tr>\n",
       "    <tr>\n",
       "      <th>3</th>\n",
       "      <td>1000</td>\n",
       "      <td>8.0</td>\n",
       "      <td>408</td>\n",
       "      <td>52</td>\n",
       "      <td>81</td>\n",
       "      <td>14055</td>\n",
       "      <td>14</td>\n",
       "      <td>Краснодар</td>\n",
       "      <td>ultra</td>\n",
       "      <td>1950.0</td>\n",
       "      <td>0</td>\n",
       "      <td>0</td>\n",
       "    </tr>\n",
       "    <tr>\n",
       "      <th>4</th>\n",
       "      <td>1000</td>\n",
       "      <td>9.0</td>\n",
       "      <td>466</td>\n",
       "      <td>58</td>\n",
       "      <td>57</td>\n",
       "      <td>14568</td>\n",
       "      <td>15</td>\n",
       "      <td>Краснодар</td>\n",
       "      <td>ultra</td>\n",
       "      <td>1950.0</td>\n",
       "      <td>0</td>\n",
       "      <td>0</td>\n",
       "    </tr>\n",
       "    <tr>\n",
       "      <th>...</th>\n",
       "      <td>...</td>\n",
       "      <td>...</td>\n",
       "      <td>...</td>\n",
       "      <td>...</td>\n",
       "      <td>...</td>\n",
       "      <td>...</td>\n",
       "      <td>...</td>\n",
       "      <td>...</td>\n",
       "      <td>...</td>\n",
       "      <td>...</td>\n",
       "      <td>...</td>\n",
       "      <td>...</td>\n",
       "    </tr>\n",
       "    <tr>\n",
       "      <th>3205</th>\n",
       "      <td>1473</td>\n",
       "      <td>9.0</td>\n",
       "      <td>0</td>\n",
       "      <td>0</td>\n",
       "      <td>19</td>\n",
       "      <td>17289</td>\n",
       "      <td>17</td>\n",
       "      <td>Красноярск</td>\n",
       "      <td>ultra</td>\n",
       "      <td>1950.0</td>\n",
       "      <td>0</td>\n",
       "      <td>0</td>\n",
       "    </tr>\n",
       "    <tr>\n",
       "      <th>3206</th>\n",
       "      <td>1473</td>\n",
       "      <td>10.0</td>\n",
       "      <td>0</td>\n",
       "      <td>0</td>\n",
       "      <td>20</td>\n",
       "      <td>13688</td>\n",
       "      <td>14</td>\n",
       "      <td>Красноярск</td>\n",
       "      <td>ultra</td>\n",
       "      <td>1950.0</td>\n",
       "      <td>0</td>\n",
       "      <td>0</td>\n",
       "    </tr>\n",
       "    <tr>\n",
       "      <th>3207</th>\n",
       "      <td>1473</td>\n",
       "      <td>11.0</td>\n",
       "      <td>0</td>\n",
       "      <td>0</td>\n",
       "      <td>14</td>\n",
       "      <td>21673</td>\n",
       "      <td>22</td>\n",
       "      <td>Красноярск</td>\n",
       "      <td>ultra</td>\n",
       "      <td>1950.0</td>\n",
       "      <td>0</td>\n",
       "      <td>0</td>\n",
       "    </tr>\n",
       "    <tr>\n",
       "      <th>3208</th>\n",
       "      <td>1473</td>\n",
       "      <td>12.0</td>\n",
       "      <td>0</td>\n",
       "      <td>0</td>\n",
       "      <td>20</td>\n",
       "      <td>18418</td>\n",
       "      <td>18</td>\n",
       "      <td>Красноярск</td>\n",
       "      <td>ultra</td>\n",
       "      <td>1950.0</td>\n",
       "      <td>0</td>\n",
       "      <td>0</td>\n",
       "    </tr>\n",
       "    <tr>\n",
       "      <th>3214</th>\n",
       "      <td>1128</td>\n",
       "      <td>NaN</td>\n",
       "      <td>0</td>\n",
       "      <td>0</td>\n",
       "      <td>0</td>\n",
       "      <td>0</td>\n",
       "      <td>0</td>\n",
       "      <td>Волжский</td>\n",
       "      <td>ultra</td>\n",
       "      <td>1950.0</td>\n",
       "      <td>0</td>\n",
       "      <td>0</td>\n",
       "    </tr>\n",
       "  </tbody>\n",
       "</table>\n",
       "<p>986 rows × 12 columns</p>\n",
       "</div>"
      ],
      "text/plain": [
       "      user_id  month  month_calls_duration  month_calls_total  \\\n",
       "0        1000    5.0                   159                 22   \n",
       "1        1000    6.0                   172                 43   \n",
       "2        1000    7.0                   340                 47   \n",
       "3        1000    8.0                   408                 52   \n",
       "4        1000    9.0                   466                 58   \n",
       "...       ...    ...                   ...                ...   \n",
       "3205     1473    9.0                     0                  0   \n",
       "3206     1473   10.0                     0                  0   \n",
       "3207     1473   11.0                     0                  0   \n",
       "3208     1473   12.0                     0                  0   \n",
       "3214     1128    NaN                     0                  0   \n",
       "\n",
       "      month_sms_total  month_mb_total  month_gb_total        city tariff  \\\n",
       "0                  22            2253               3   Краснодар  ultra   \n",
       "1                  60           23233              23   Краснодар  ultra   \n",
       "2                  75           14003              14   Краснодар  ultra   \n",
       "3                  81           14055              14   Краснодар  ultra   \n",
       "4                  57           14568              15   Краснодар  ultra   \n",
       "...               ...             ...             ...         ...    ...   \n",
       "3205               19           17289              17  Красноярск  ultra   \n",
       "3206               20           13688              14  Красноярск  ultra   \n",
       "3207               14           21673              22  Красноярск  ultra   \n",
       "3208               20           18418              18  Красноярск  ultra   \n",
       "3214                0               0               0    Волжский  ultra   \n",
       "\n",
       "      revenue  minutes_cost  total_cost  \n",
       "0      1950.0             0           0  \n",
       "1      1950.0             0           0  \n",
       "2      1950.0             0           0  \n",
       "3      1950.0             0           0  \n",
       "4      1950.0             0           0  \n",
       "...       ...           ...         ...  \n",
       "3205   1950.0             0           0  \n",
       "3206   1950.0             0           0  \n",
       "3207   1950.0             0           0  \n",
       "3208   1950.0             0           0  \n",
       "3214   1950.0             0           0  \n",
       "\n",
       "[986 rows x 12 columns]"
      ]
     },
     "metadata": {},
     "output_type": "display_data"
    }
   ],
   "source": [
    "display(smart)\n",
    "display(ultra)"
   ]
  },
  {
   "cell_type": "markdown",
   "metadata": {},
   "source": [
    "Теперь постороим графики для всех параметров, для этого напишем функцию. Для наглядности совместим показатели тарифрв \"Смарт\" и \"Ультра\" на одной гистограмме."
   ]
  },
  {
   "cell_type": "code",
   "execution_count": 43,
   "metadata": {},
   "outputs": [
    {
     "data": {
      "text/plain": [
       "'month_calls_duration'"
      ]
     },
     "metadata": {},
     "output_type": "display_data"
    },
    {
     "data": {
      "text/html": [
       "<div>\n",
       "<style scoped>\n",
       "    .dataframe tbody tr th:only-of-type {\n",
       "        vertical-align: middle;\n",
       "    }\n",
       "\n",
       "    .dataframe tbody tr th {\n",
       "        vertical-align: top;\n",
       "    }\n",
       "\n",
       "    .dataframe thead th {\n",
       "        text-align: right;\n",
       "    }\n",
       "</style>\n",
       "<table border=\"1\" class=\"dataframe\">\n",
       "  <thead>\n",
       "    <tr style=\"text-align: right;\">\n",
       "      <th></th>\n",
       "      <th>mean</th>\n",
       "      <th>median</th>\n",
       "      <th>std</th>\n",
       "      <th>var</th>\n",
       "    </tr>\n",
       "    <tr>\n",
       "      <th>tariff</th>\n",
       "      <th></th>\n",
       "      <th></th>\n",
       "      <th></th>\n",
       "      <th></th>\n",
       "    </tr>\n",
       "  </thead>\n",
       "  <tbody>\n",
       "    <tr>\n",
       "      <th>smart</th>\n",
       "      <td>417.7</td>\n",
       "      <td>421.5</td>\n",
       "      <td>190.5</td>\n",
       "      <td>36,281.4</td>\n",
       "    </tr>\n",
       "    <tr>\n",
       "      <th>ultra</th>\n",
       "      <td>526.1</td>\n",
       "      <td>518.0</td>\n",
       "      <td>317.9</td>\n",
       "      <td>101,052.5</td>\n",
       "    </tr>\n",
       "  </tbody>\n",
       "</table>\n",
       "</div>"
      ],
      "text/plain": [
       "        mean  median   std       var\n",
       "tariff                              \n",
       "smart  417.7   421.5 190.5  36,281.4\n",
       "ultra  526.1   518.0 317.9 101,052.5"
      ]
     },
     "metadata": {},
     "output_type": "display_data"
    },
    {
     "name": "stdout",
     "output_type": "stream",
     "text": [
      "                       mean                  var                  std\n",
      "       month_calls_duration month_calls_duration month_calls_duration\n",
      "tariff                                                               \n",
      "smart                 417.7             36,281.4                190.5\n",
      "ultra                 526.1            101,052.5                317.9\n"
     ]
    },
    {
     "data": {
      "text/plain": [
       "'month_sms_total'"
      ]
     },
     "metadata": {},
     "output_type": "display_data"
    },
    {
     "data": {
      "text/html": [
       "<div>\n",
       "<style scoped>\n",
       "    .dataframe tbody tr th:only-of-type {\n",
       "        vertical-align: middle;\n",
       "    }\n",
       "\n",
       "    .dataframe tbody tr th {\n",
       "        vertical-align: top;\n",
       "    }\n",
       "\n",
       "    .dataframe thead th {\n",
       "        text-align: right;\n",
       "    }\n",
       "</style>\n",
       "<table border=\"1\" class=\"dataframe\">\n",
       "  <thead>\n",
       "    <tr style=\"text-align: right;\">\n",
       "      <th></th>\n",
       "      <th>mean</th>\n",
       "      <th>median</th>\n",
       "      <th>std</th>\n",
       "      <th>var</th>\n",
       "    </tr>\n",
       "    <tr>\n",
       "      <th>tariff</th>\n",
       "      <th></th>\n",
       "      <th></th>\n",
       "      <th></th>\n",
       "      <th></th>\n",
       "    </tr>\n",
       "  </thead>\n",
       "  <tbody>\n",
       "    <tr>\n",
       "      <th>smart</th>\n",
       "      <td>33.4</td>\n",
       "      <td>28</td>\n",
       "      <td>28.2</td>\n",
       "      <td>797.0</td>\n",
       "    </tr>\n",
       "    <tr>\n",
       "      <th>ultra</th>\n",
       "      <td>49.3</td>\n",
       "      <td>38</td>\n",
       "      <td>47.8</td>\n",
       "      <td>2,285.4</td>\n",
       "    </tr>\n",
       "  </tbody>\n",
       "</table>\n",
       "</div>"
      ],
      "text/plain": [
       "        mean  median  std     var\n",
       "tariff                           \n",
       "smart   33.4      28 28.2   797.0\n",
       "ultra   49.3      38 47.8 2,285.4"
      ]
     },
     "metadata": {},
     "output_type": "display_data"
    },
    {
     "name": "stdout",
     "output_type": "stream",
     "text": [
      "                  mean             var             std\n",
      "       month_sms_total month_sms_total month_sms_total\n",
      "tariff                                                \n",
      "smart             33.4           797.0            28.2\n",
      "ultra             49.3         2,285.4            47.8\n"
     ]
    },
    {
     "data": {
      "text/plain": [
       "'month_gb_total'"
      ]
     },
     "metadata": {},
     "output_type": "display_data"
    },
    {
     "data": {
      "text/html": [
       "<div>\n",
       "<style scoped>\n",
       "    .dataframe tbody tr th:only-of-type {\n",
       "        vertical-align: middle;\n",
       "    }\n",
       "\n",
       "    .dataframe tbody tr th {\n",
       "        vertical-align: top;\n",
       "    }\n",
       "\n",
       "    .dataframe thead th {\n",
       "        text-align: right;\n",
       "    }\n",
       "</style>\n",
       "<table border=\"1\" class=\"dataframe\">\n",
       "  <thead>\n",
       "    <tr style=\"text-align: right;\">\n",
       "      <th></th>\n",
       "      <th>mean</th>\n",
       "      <th>median</th>\n",
       "      <th>std</th>\n",
       "      <th>var</th>\n",
       "    </tr>\n",
       "    <tr>\n",
       "      <th>tariff</th>\n",
       "      <th></th>\n",
       "      <th></th>\n",
       "      <th></th>\n",
       "      <th></th>\n",
       "    </tr>\n",
       "  </thead>\n",
       "  <tbody>\n",
       "    <tr>\n",
       "      <th>smart</th>\n",
       "      <td>16.3</td>\n",
       "      <td>17</td>\n",
       "      <td>5.8</td>\n",
       "      <td>33.1</td>\n",
       "    </tr>\n",
       "    <tr>\n",
       "      <th>ultra</th>\n",
       "      <td>19.5</td>\n",
       "      <td>19</td>\n",
       "      <td>9.9</td>\n",
       "      <td>97.4</td>\n",
       "    </tr>\n",
       "  </tbody>\n",
       "</table>\n",
       "</div>"
      ],
      "text/plain": [
       "        mean  median  std  var\n",
       "tariff                        \n",
       "smart   16.3      17  5.8 33.1\n",
       "ultra   19.5      19  9.9 97.4"
      ]
     },
     "metadata": {},
     "output_type": "display_data"
    },
    {
     "name": "stdout",
     "output_type": "stream",
     "text": [
      "                 mean            var            std\n",
      "       month_gb_total month_gb_total month_gb_total\n",
      "tariff                                             \n",
      "smart            16.3           33.1            5.8\n",
      "ultra            19.5           97.4            9.9\n"
     ]
    },
    {
     "data": {
      "image/png": "[encoded data removed]",
      "text/plain": [
       "<Figure size 720x720 with 3 Axes>"
      ]
     },
     "metadata": {
      "needs_background": "light"
     },
     "output_type": "display_data"
    }
   ],
   "source": [
    "pd.options.display.float_format = '{:,.1f}'.format\n",
    "\n",
    "axes = ['month_calls_duration', 'month_sms_total', 'month_gb_total']\n",
    "fig = plt.figure(figsize=(10, 10))\n",
    "total_axes = 3\n",
    "subplt = 1\n",
    "\n",
    "for context in axes:  \n",
    "    ax = fig.add_subplot(total_axes, 1, subplt)\n",
    "    total_data.groupby('tariff')[context].plot.hist(bins = 100, alpha = 0.5, legend = True)\n",
    "    display (context, total_data.groupby('tariff')[context].agg(['mean', 'median', 'std','var']).round(1))\n",
    "    \n",
    "    plt.ylabel(f'кол-во пользователей')\n",
    "    plt.xlabel(f'вид услуги - {context}')\n",
    "    plt.title(context)\n",
    "   \n",
    "    subplt+=1\n",
    "  \n",
    "    plt.tight_layout();\n",
    "    print(total_data.pivot_table(index = 'tariff',values=context,aggfunc = ['mean','var','std']))"
   ]
  },
  {
   "cell_type": "code",
   "execution_count": 44,
   "metadata": {
    "scrolled": false
   },
   "outputs": [
    {
     "data": {
      "text/plain": [
       "'month_calls_duration'"
      ]
     },
     "metadata": {},
     "output_type": "display_data"
    },
    {
     "data": {
      "text/html": [
       "<div>\n",
       "<style scoped>\n",
       "    .dataframe tbody tr th:only-of-type {\n",
       "        vertical-align: middle;\n",
       "    }\n",
       "\n",
       "    .dataframe tbody tr th {\n",
       "        vertical-align: top;\n",
       "    }\n",
       "\n",
       "    .dataframe thead th {\n",
       "        text-align: right;\n",
       "    }\n",
       "</style>\n",
       "<table border=\"1\" class=\"dataframe\">\n",
       "  <thead>\n",
       "    <tr style=\"text-align: right;\">\n",
       "      <th></th>\n",
       "      <th>mean</th>\n",
       "      <th>median</th>\n",
       "      <th>std</th>\n",
       "      <th>var</th>\n",
       "    </tr>\n",
       "    <tr>\n",
       "      <th>tariff</th>\n",
       "      <th></th>\n",
       "      <th></th>\n",
       "      <th></th>\n",
       "      <th></th>\n",
       "    </tr>\n",
       "  </thead>\n",
       "  <tbody>\n",
       "    <tr>\n",
       "      <th>smart</th>\n",
       "      <td>417.7</td>\n",
       "      <td>421.5</td>\n",
       "      <td>190.5</td>\n",
       "      <td>36,281.4</td>\n",
       "    </tr>\n",
       "    <tr>\n",
       "      <th>ultra</th>\n",
       "      <td>526.1</td>\n",
       "      <td>518.0</td>\n",
       "      <td>317.9</td>\n",
       "      <td>101,052.5</td>\n",
       "    </tr>\n",
       "  </tbody>\n",
       "</table>\n",
       "</div>"
      ],
      "text/plain": [
       "        mean  median   std       var\n",
       "tariff                              \n",
       "smart  417.7   421.5 190.5  36,281.4\n",
       "ultra  526.1   518.0 317.9 101,052.5"
      ]
     },
     "metadata": {},
     "output_type": "display_data"
    },
    {
     "data": {
      "text/plain": [
       "'month_sms_total'"
      ]
     },
     "metadata": {},
     "output_type": "display_data"
    },
    {
     "data": {
      "text/html": [
       "<div>\n",
       "<style scoped>\n",
       "    .dataframe tbody tr th:only-of-type {\n",
       "        vertical-align: middle;\n",
       "    }\n",
       "\n",
       "    .dataframe tbody tr th {\n",
       "        vertical-align: top;\n",
       "    }\n",
       "\n",
       "    .dataframe thead th {\n",
       "        text-align: right;\n",
       "    }\n",
       "</style>\n",
       "<table border=\"1\" class=\"dataframe\">\n",
       "  <thead>\n",
       "    <tr style=\"text-align: right;\">\n",
       "      <th></th>\n",
       "      <th>mean</th>\n",
       "      <th>median</th>\n",
       "      <th>std</th>\n",
       "      <th>var</th>\n",
       "    </tr>\n",
       "    <tr>\n",
       "      <th>tariff</th>\n",
       "      <th></th>\n",
       "      <th></th>\n",
       "      <th></th>\n",
       "      <th></th>\n",
       "    </tr>\n",
       "  </thead>\n",
       "  <tbody>\n",
       "    <tr>\n",
       "      <th>smart</th>\n",
       "      <td>33.4</td>\n",
       "      <td>28</td>\n",
       "      <td>28.2</td>\n",
       "      <td>797.0</td>\n",
       "    </tr>\n",
       "    <tr>\n",
       "      <th>ultra</th>\n",
       "      <td>49.3</td>\n",
       "      <td>38</td>\n",
       "      <td>47.8</td>\n",
       "      <td>2,285.4</td>\n",
       "    </tr>\n",
       "  </tbody>\n",
       "</table>\n",
       "</div>"
      ],
      "text/plain": [
       "        mean  median  std     var\n",
       "tariff                           \n",
       "smart   33.4      28 28.2   797.0\n",
       "ultra   49.3      38 47.8 2,285.4"
      ]
     },
     "metadata": {},
     "output_type": "display_data"
    },
    {
     "data": {
      "text/plain": [
       "'month_gb_total'"
      ]
     },
     "metadata": {},
     "output_type": "display_data"
    },
    {
     "data": {
      "text/html": [
       "<div>\n",
       "<style scoped>\n",
       "    .dataframe tbody tr th:only-of-type {\n",
       "        vertical-align: middle;\n",
       "    }\n",
       "\n",
       "    .dataframe tbody tr th {\n",
       "        vertical-align: top;\n",
       "    }\n",
       "\n",
       "    .dataframe thead th {\n",
       "        text-align: right;\n",
       "    }\n",
       "</style>\n",
       "<table border=\"1\" class=\"dataframe\">\n",
       "  <thead>\n",
       "    <tr style=\"text-align: right;\">\n",
       "      <th></th>\n",
       "      <th>mean</th>\n",
       "      <th>median</th>\n",
       "      <th>std</th>\n",
       "      <th>var</th>\n",
       "    </tr>\n",
       "    <tr>\n",
       "      <th>tariff</th>\n",
       "      <th></th>\n",
       "      <th></th>\n",
       "      <th></th>\n",
       "      <th></th>\n",
       "    </tr>\n",
       "  </thead>\n",
       "  <tbody>\n",
       "    <tr>\n",
       "      <th>smart</th>\n",
       "      <td>16.3</td>\n",
       "      <td>17</td>\n",
       "      <td>5.8</td>\n",
       "      <td>33.1</td>\n",
       "    </tr>\n",
       "    <tr>\n",
       "      <th>ultra</th>\n",
       "      <td>19.5</td>\n",
       "      <td>19</td>\n",
       "      <td>9.9</td>\n",
       "      <td>97.4</td>\n",
       "    </tr>\n",
       "  </tbody>\n",
       "</table>\n",
       "</div>"
      ],
      "text/plain": [
       "        mean  median  std  var\n",
       "tariff                        \n",
       "smart   16.3      17  5.8 33.1\n",
       "ultra   19.5      19  9.9 97.4"
      ]
     },
     "metadata": {},
     "output_type": "display_data"
    },
    {
     "data": {
      "image/png": "[encoded data removed]",
      "text/plain": [
       "<Figure size 720x864 with 3 Axes>"
      ]
     },
     "metadata": {
      "needs_background": "light"
     },
     "output_type": "display_data"
    }
   ],
   "source": [
    "import matplotlib.pyplot as plt\n",
    "\n",
    "pd.options.display.float_format = '{:,.1f}'.format\n",
    "list_col = ['month_calls_duration', 'month_sms_total', 'month_gb_total']\n",
    "\n",
    "fig = plt.figure(figsize=(10, 12))\n",
    "total_axes = 3 # общее количество графиков (в данном случае\n",
    "                             # берем равным количеству колонок в датафрейме\n",
    "subplt = 1 # номер начального axes\n",
    "\n",
    "for i in list_col:\n",
    "      \n",
    "    ax = fig.add_subplot(total_axes, 1, subplt) # добавляем axes для каждого графика\n",
    "    total_data.groupby('tariff')[i].plot.hist(bins = 100, alpha = 0.5, legend = True)\n",
    "    display (i, total_data.groupby('tariff')[i].agg(['mean', 'median', 'std','var']).round(1))\n",
    "    \n",
    "    plt.ylabel(f'кол-во пользователей')\n",
    "    plt.xlabel(f'вид услуги - {i}')\n",
    "    plt.title(i)\n",
    "   \n",
    "    subplt+=1\n",
    "  \n",
    "plt.tight_layout();\n",
    "# plt.show()"
   ]
  },
  {
   "cell_type": "code",
   "execution_count": null,
   "metadata": {},
   "outputs": [],
   "source": []
  },
  {
   "cell_type": "markdown",
   "metadata": {},
   "source": [
    "**График используемых минут для звонков** - нормальное распределение для тарифа \"Смарт\" и скошенное влево для тарифа \"Ультра\"\n",
    "\n",
    "**График используемых сообщений** - распределение Пуассона, скошено вправо\n",
    "\n",
    "**График используемых гигагабайт** - нормальное распределение"
   ]
  },
  {
   "cell_type": "markdown",
   "metadata": {},
   "source": [
    "**ТАРИФ \"SMART\":**\n",
    "Средний объём звонков - 417,9 минут (округлим до 418 минут)\n",
    "Стандартное отклонение для звонков - 190,3 минут\n",
    "Дисперсия звонков - 36219.3\n",
    "\n",
    "Средний объём смс-сообщений - 33,4 сообщения (округлим до 34 сообщений)\n",
    "Стандартное отклонение для смс-сообщений - 28,2 сообщений\n",
    "Дисперсия для смс-сообщений - 796,8 \n",
    "\n",
    "Средний объём используемого интернет-трафика - 16,3 гб (округлим до 17 гб)\n",
    "Стандартное отклонение используемого интернет-трафика - 5,7 гб\n",
    "Дисперсия используемого интернет-трафика - 33\n",
    "\n",
    "**ТАРИФ \"ULTRA\":**\n",
    "Средний объём звонков - 526,6 минут (округлим до 527 минут)\n",
    "Стандартное отклонение для звонков - 317,6 минут\n",
    "Дисперсия звонков - 100873.6\n",
    "\n",
    "Средний объём смс-сообщений - 49,4 сообщения (округлим до 50 сообщений)\n",
    "Стандартное отклонение для смс-сообщений - 47,8 сообщений\n",
    "Дисперсия для смс-сообщений - 2285,3\n",
    "\n",
    "Средний объём используемого интернет-трафика - 19,5 гб (округлим до 20 гб)\n",
    "Стандартное отклонение используемого интернет-трафика - 8,5 гб\n",
    "Дисперсия используемого интернет-трафика - 97\n",
    "\n",
    "На графиках заметно, что пользователи обоих тарифов превышают установленные объёмы в части использования интернет-трафика. Также мы видим, что сообщения мало используют пользователи обоих тарифов."
   ]
  },
  {
   "cell_type": "markdown",
   "metadata": {},
   "source": [
    "Для того, чтобы выяснить насколько часто пользователи выходят за рамки тарифа, построим диаграммы размаха."
   ]
  },
  {
   "cell_type": "code",
   "execution_count": 45,
   "metadata": {},
   "outputs": [
    {
     "data": {
      "text/plain": [
       "<AxesSubplot:>"
      ]
     },
     "execution_count": 45,
     "metadata": {},
     "output_type": "execute_result"
    },
    {
     "data": {
      "image/png": "[encoded data removed]",
      "text/plain": [
       "<Figure size 432x288 with 1 Axes>"
      ]
     },
     "metadata": {
      "needs_background": "light"
     },
     "output_type": "display_data"
    }
   ],
   "source": [
    "smart[['total_cost']].boxplot(vert=False)"
   ]
  },
  {
   "cell_type": "code",
   "execution_count": 46,
   "metadata": {},
   "outputs": [
    {
     "data": {
      "text/plain": [
       "<AxesSubplot:>"
      ]
     },
     "execution_count": 46,
     "metadata": {},
     "output_type": "execute_result"
    },
    {
     "data": {
      "image/png": "[encoded data removed]",
      "text/plain": [
       "<Figure size 432x288 with 1 Axes>"
      ]
     },
     "metadata": {
      "needs_background": "light"
     },
     "output_type": "display_data"
    }
   ],
   "source": [
    "ultra[['total_cost']].boxplot(vert=False)"
   ]
  },
  {
   "cell_type": "markdown",
   "metadata": {},
   "source": [
    "На графиках хорошо заметно, что пользователи тарифа \"Смарт\" часто первышают лимиты своего тарифа, в отличии от клиентов, использующих тариф \"Ультра\"."
   ]
  },
  {
   "cell_type": "markdown",
   "metadata": {},
   "source": [
    "Теперь расчитаем годовую выручку по каждому тарифу и выделим наиболее перспективный."
   ]
  },
  {
   "cell_type": "code",
   "execution_count": 47,
   "metadata": {},
   "outputs": [
    {
     "data": {
      "text/html": [
       "<div>\n",
       "<style scoped>\n",
       "    .dataframe tbody tr th:only-of-type {\n",
       "        vertical-align: middle;\n",
       "    }\n",
       "\n",
       "    .dataframe tbody tr th {\n",
       "        vertical-align: top;\n",
       "    }\n",
       "\n",
       "    .dataframe thead th {\n",
       "        text-align: right;\n",
       "    }\n",
       "</style>\n",
       "<table border=\"1\" class=\"dataframe\">\n",
       "  <thead>\n",
       "    <tr style=\"text-align: right;\">\n",
       "      <th></th>\n",
       "      <th>total_cost</th>\n",
       "    </tr>\n",
       "    <tr>\n",
       "      <th>tariff</th>\n",
       "      <th></th>\n",
       "    </tr>\n",
       "  </thead>\n",
       "  <tbody>\n",
       "    <tr>\n",
       "      <th>smart</th>\n",
       "      <td>278217</td>\n",
       "    </tr>\n",
       "    <tr>\n",
       "      <th>ultra</th>\n",
       "      <td>0</td>\n",
       "    </tr>\n",
       "  </tbody>\n",
       "</table>\n",
       "</div>"
      ],
      "text/plain": [
       "        total_cost\n",
       "tariff            \n",
       "smart       278217\n",
       "ultra            0"
      ]
     },
     "execution_count": 47,
     "metadata": {},
     "output_type": "execute_result"
    }
   ],
   "source": [
    "total_data.pivot_table(index='tariff', values=['total_cost'], aggfunc = 'sum')"
   ]
  },
  {
   "cell_type": "markdown",
   "metadata": {},
   "source": [
    "При сравнении дохода от использования тарифов видно, что тариф \"Смарт\" приносит денег больше. Важную роль в этом играет превышение пользователями установленных лимитов."
   ]
  },
  {
   "cell_type": "markdown",
   "metadata": {},
   "source": [
    "**Вывод:**\n",
    "В поведении пользователей обоих тарифов есть схожесть - все используют довольно небольшой объём смс-сообщений. Также на графиках заметно, что пользователи тарифа Смарт используют минут звонков и гигабайт интернета больше, чем пользователи тарифа Ультра. Клиенты, использующие тариф \"Смарт\" часто выходят за лимиты тарифа, что делает его более доходным."
   ]
  },
  {
   "cell_type": "markdown",
   "metadata": {},
   "source": [
    "## Проверка гипотез"
   ]
  },
  {
   "cell_type": "markdown",
   "metadata": {},
   "source": [
    "Нам необходимо проверить две гипотезы:\n",
    "1. средняя выручка пользователей тарифов «Ультра» и «Смарт» различаются;\n",
    "2. средняя выручка пользователей из Москвы отличается от выручки пользователей из других регионов.\n",
    "\n",
    "Для проверки гипотез необходимо сформулировать нулевые гипотезы. В нашем случае они будут следующими:\n",
    "1. средняя выручка пользователей тарифов «Ультра» и «Смарт» не различаются;\n",
    "2. средняя выручка пользователей из Москвы не отличается от выручки пользователей из других регионов."
   ]
  },
  {
   "cell_type": "markdown",
   "metadata": {},
   "source": [
    "Проверим гипотезы:\n",
    "- H0: средняя выручка пользователей тарифов «Ультра» и «Смарт» не различаются\n",
    "- H1: средняя выручка пользователей тарифов «Ультра» и «Смарт» различаются"
   ]
  },
  {
   "cell_type": "markdown",
   "metadata": {},
   "source": [
    "Пороговое значение alpha зададим 5%"
   ]
  },
  {
   "cell_type": "code",
   "execution_count": 48,
   "metadata": {},
   "outputs": [
    {
     "name": "stdout",
     "output_type": "stream",
     "text": [
      "p-значение: 7.927833060182933e-52\n",
      "Отвергаем нулевую гипотезу\n"
     ]
    }
   ],
   "source": [
    "alpha = 0.05\n",
    "\n",
    "results = st.ttest_ind(\n",
    "    smart['total_cost'], \n",
    "    ultra['total_cost'])\n",
    "\n",
    "print('p-значение:', results.pvalue)\n",
    "\n",
    "if (results.pvalue < alpha):\n",
    "    print(\"Отвергаем нулевую гипотезу\")\n",
    "else:\n",
    "    print(\"Не получилось отвергнуть нулевую гипотезу\")"
   ]
  },
  {
   "cell_type": "markdown",
   "metadata": {},
   "source": [
    "Проверка гипотезы показала, что средняя выручка пользователей тарифов «Ультра» и «Смарт» различается"
   ]
  },
  {
   "cell_type": "markdown",
   "metadata": {},
   "source": [
    "Проверим гипотезы:\n",
    "- H0: средняя выручка пользователей из Москвы не отличается от выручки пользователей из других регионов\n",
    "- H1: средняя выручка пользователей из Москвы отличается от выручки пользователей из других регионов"
   ]
  },
  {
   "cell_type": "code",
   "execution_count": 49,
   "metadata": {},
   "outputs": [
    {
     "name": "stdout",
     "output_type": "stream",
     "text": [
      "p-значение: 0.1414107150498956\n",
      "Не получилось отвергнуть нулевую гипотезу\n"
     ]
    }
   ],
   "source": [
    "alpha = 0.05\n",
    "\n",
    "moscow = total_data.query(\"city == 'Москва'\")['total_cost']\n",
    "other_city = total_data.query(\"city != 'Москва'\")['total_cost']\n",
    "\n",
    "results = st.ttest_ind(moscow, other_city)\n",
    "\n",
    "print('p-значение:', results.pvalue)\n",
    "\n",
    "if (results.pvalue < alpha):\n",
    "    print(\"Отвергаем нулевую гипотезу\")\n",
    "else:\n",
    "    print(\"Не получилось отвергнуть нулевую гипотезу\")"
   ]
  },
  {
   "cell_type": "markdown",
   "metadata": {},
   "source": [
    "Полученное значение p-value говорит о том, что хотя средняя выручка пользователей из Москвы и регионов незначительно отличается, с вероятностью в почти 54% такое различие можно получить случайно. Таким образом, средняя выручка пользователей из Москвы не отличается от выручки пользователей из других регионов, и наша гипотеза не подтвердилась."
   ]
  },
  {
   "cell_type": "markdown",
   "metadata": {},
   "source": [
    "**Вывод:**\n",
    "В ходе проверки гипотез мы выяснили, что различается средняя выручка пользователей тарифов «Ультра» и «Смарт», а вот средняя выручка пользователей из Москвы не отличается от выручки пользователей из других регионов."
   ]
  },
  {
   "cell_type": "markdown",
   "metadata": {},
   "source": [
    "## Итоги исследования"
   ]
  },
  {
   "cell_type": "markdown",
   "metadata": {},
   "source": [
    "В ходе выполнения проекта мы:\n",
    "- Подготовили данные для исследования\n",
    "- Посчитали для каждого пользователя объёмы используемых минут разговора, смс-сообщений, гигабайт интернета, помесячную выручку с каждого пользователя\n",
    "- Проанализировали данные\n",
    "- Описали поведение клиентов оператора\n",
    "- Посчитали среднее количество, дисперсию и стандартное отклонение, построили гистограммы\n",
    "- Сделали выводы\n",
    "\n",
    "Выяснилось, что поведении пользователей обоих тарифов есть схожесть - все используют довольно небольшой объём смс-сообщений. Также пользователи тарифа Смарт используют минут звонков и гигабайт интернета больше, чем пользователи тарифа Ультра.\n",
    "\n",
    "В ходе проверки гипотез мы выяснили, что различается средняя выручка пользователей тарифов «Ультра» и «Смарт», а вот средняя выручка пользователей из Москвы не отличается от выручки пользователей из других регионов.\n",
    "\n",
    "Также мы выяснили, что тариф \"Смарт\" приносит компании больше денег, чем тариф \"Ультра\". Разница доходности тарифов составляет 836251 рублей.\n",
    "\n",
    "Возможно, следует добавить ещё один или несколько новых тарифов в соответствии с потребностями клиентов. Мы видим, что пользователям тарифа \"Смарт\" не хватает объёма звонков и интернет-трафика, а тариф \"Ультра\" может показаться для них слишком большим. Также можно добавить тариф, в котором увеличивать один параметр (минуты звонков или интернет-трафик) и люди, активно использующие этот параметр, но мало пользующиеся другими, будут выбирать этот тариф."
   ]
  }
 ],
 "metadata": {
  "ExecuteTimeLog": [
   {
    "duration": 88,
    "start_time": "2022-05-22T08:58:49.642Z"
   },
   {
    "duration": 1253,
    "start_time": "2022-05-22T08:58:56.480Z"
   },
   {
    "duration": 1566,
    "start_time": "2022-05-22T08:58:58.475Z"
   },
   {
    "duration": 25,
    "start_time": "2022-05-22T08:59:01.792Z"
   },
   {
    "duration": 46,
    "start_time": "2022-05-22T08:59:04.641Z"
   },
   {
    "duration": 23,
    "start_time": "2022-05-22T09:04:48.140Z"
   },
   {
    "duration": 25,
    "start_time": "2022-05-22T09:04:51.151Z"
   },
   {
    "duration": 59,
    "start_time": "2022-05-22T09:06:35.052Z"
   },
   {
    "duration": 14,
    "start_time": "2022-05-22T09:06:35.421Z"
   },
   {
    "duration": 24,
    "start_time": "2022-05-22T09:06:42.774Z"
   },
   {
    "duration": 12,
    "start_time": "2022-05-22T09:08:34.643Z"
   },
   {
    "duration": 17,
    "start_time": "2022-05-22T09:08:35.996Z"
   },
   {
    "duration": 14,
    "start_time": "2022-05-22T09:11:42.468Z"
   },
   {
    "duration": 16,
    "start_time": "2022-05-22T09:11:44.891Z"
   },
   {
    "duration": 377,
    "start_time": "2022-05-22T09:27:06.486Z"
   },
   {
    "duration": 7,
    "start_time": "2022-05-22T09:29:26.305Z"
   },
   {
    "duration": 53,
    "start_time": "2022-05-22T09:35:36.677Z"
   },
   {
    "duration": 104,
    "start_time": "2022-05-22T09:35:49.305Z"
   },
   {
    "duration": 114,
    "start_time": "2022-05-22T09:36:10.154Z"
   },
   {
    "duration": 148,
    "start_time": "2022-05-22T09:39:24.568Z"
   },
   {
    "duration": 3,
    "start_time": "2022-05-22T09:57:29.229Z"
   },
   {
    "duration": 627,
    "start_time": "2022-05-22T09:57:33.982Z"
   },
   {
    "duration": 8,
    "start_time": "2022-05-22T09:58:02.365Z"
   },
   {
    "duration": 27,
    "start_time": "2022-05-22T09:58:54.948Z"
   },
   {
    "duration": 20,
    "start_time": "2022-05-22T09:59:16.650Z"
   },
   {
    "duration": 200,
    "start_time": "2022-05-22T10:05:22.555Z"
   },
   {
    "duration": 28,
    "start_time": "2022-05-22T10:05:51.607Z"
   },
   {
    "duration": 12,
    "start_time": "2022-05-22T10:06:38.700Z"
   },
   {
    "duration": 20,
    "start_time": "2022-05-22T10:06:40.151Z"
   },
   {
    "duration": 13,
    "start_time": "2022-05-22T10:08:45.275Z"
   },
   {
    "duration": 29,
    "start_time": "2022-05-22T10:08:58.213Z"
   },
   {
    "duration": 961,
    "start_time": "2022-05-22T11:53:12.726Z"
   },
   {
    "duration": 640,
    "start_time": "2022-05-22T11:53:13.689Z"
   },
   {
    "duration": 16,
    "start_time": "2022-05-22T11:53:14.357Z"
   },
   {
    "duration": 23,
    "start_time": "2022-05-22T11:53:14.523Z"
   },
   {
    "duration": 14,
    "start_time": "2022-05-22T11:53:15.096Z"
   },
   {
    "duration": 22,
    "start_time": "2022-05-22T11:53:15.297Z"
   },
   {
    "duration": 9,
    "start_time": "2022-05-22T11:53:15.858Z"
   },
   {
    "duration": 17,
    "start_time": "2022-05-22T11:53:16.011Z"
   },
   {
    "duration": 8,
    "start_time": "2022-05-22T11:53:16.687Z"
   },
   {
    "duration": 12,
    "start_time": "2022-05-22T11:53:16.882Z"
   },
   {
    "duration": 15,
    "start_time": "2022-05-22T11:53:17.393Z"
   },
   {
    "duration": 11,
    "start_time": "2022-05-22T11:53:17.565Z"
   },
   {
    "duration": 224,
    "start_time": "2022-05-22T11:53:18.287Z"
   },
   {
    "duration": 5,
    "start_time": "2022-05-22T11:53:18.947Z"
   },
   {
    "duration": 70,
    "start_time": "2022-05-22T11:53:19.242Z"
   },
   {
    "duration": 6,
    "start_time": "2022-05-22T11:53:19.657Z"
   },
   {
    "duration": 8,
    "start_time": "2022-05-22T11:53:20.016Z"
   },
   {
    "duration": 86,
    "start_time": "2022-05-22T11:53:20.416Z"
   },
   {
    "duration": 371,
    "start_time": "2022-05-22T12:00:19.161Z"
   },
   {
    "duration": 12,
    "start_time": "2022-05-22T12:00:21.004Z"
   },
   {
    "duration": 23,
    "start_time": "2022-05-22T12:00:21.403Z"
   },
   {
    "duration": 14,
    "start_time": "2022-05-22T12:00:22.109Z"
   },
   {
    "duration": 18,
    "start_time": "2022-05-22T12:00:22.264Z"
   },
   {
    "duration": 10,
    "start_time": "2022-05-22T12:00:22.809Z"
   },
   {
    "duration": 17,
    "start_time": "2022-05-22T12:00:22.972Z"
   },
   {
    "duration": 7,
    "start_time": "2022-05-22T12:00:23.494Z"
   },
   {
    "duration": 10,
    "start_time": "2022-05-22T12:00:23.685Z"
   },
   {
    "duration": 13,
    "start_time": "2022-05-22T12:00:24.260Z"
   },
   {
    "duration": 11,
    "start_time": "2022-05-22T12:00:24.421Z"
   },
   {
    "duration": 230,
    "start_time": "2022-05-22T12:00:25.205Z"
   },
   {
    "duration": 6,
    "start_time": "2022-05-22T12:00:25.588Z"
   },
   {
    "duration": 68,
    "start_time": "2022-05-22T12:00:25.981Z"
   },
   {
    "duration": 7,
    "start_time": "2022-05-22T12:00:26.363Z"
   },
   {
    "duration": 6,
    "start_time": "2022-05-22T12:00:26.899Z"
   },
   {
    "duration": 84,
    "start_time": "2022-05-22T12:00:27.261Z"
   },
   {
    "duration": 3,
    "start_time": "2022-05-22T12:00:27.611Z"
   },
   {
    "duration": 95,
    "start_time": "2022-05-22T12:00:27.992Z"
   },
   {
    "duration": 24,
    "start_time": "2022-05-22T12:00:48.603Z"
   },
   {
    "duration": 22,
    "start_time": "2022-05-22T12:01:27.056Z"
   },
   {
    "duration": 23,
    "start_time": "2022-05-22T12:01:36.706Z"
   },
   {
    "duration": 23,
    "start_time": "2022-05-22T12:01:49.707Z"
   },
   {
    "duration": 85,
    "start_time": "2022-05-22T12:02:48.166Z"
   },
   {
    "duration": 23,
    "start_time": "2022-05-22T12:03:08.495Z"
   },
   {
    "duration": 24,
    "start_time": "2022-05-22T12:03:09.575Z"
   },
   {
    "duration": 631,
    "start_time": "2022-05-22T12:20:11.564Z"
   },
   {
    "duration": 337,
    "start_time": "2022-05-22T12:20:12.895Z"
   },
   {
    "duration": 16,
    "start_time": "2022-05-22T12:20:13.352Z"
   },
   {
    "duration": 24,
    "start_time": "2022-05-22T12:20:13.552Z"
   },
   {
    "duration": 15,
    "start_time": "2022-05-22T12:20:14.091Z"
   },
   {
    "duration": 24,
    "start_time": "2022-05-22T12:20:14.259Z"
   },
   {
    "duration": 10,
    "start_time": "2022-05-22T12:20:14.759Z"
   },
   {
    "duration": 18,
    "start_time": "2022-05-22T12:20:15.058Z"
   },
   {
    "duration": 7,
    "start_time": "2022-05-22T12:20:15.564Z"
   },
   {
    "duration": 11,
    "start_time": "2022-05-22T12:20:15.753Z"
   },
   {
    "duration": 14,
    "start_time": "2022-05-22T12:20:16.577Z"
   },
   {
    "duration": 11,
    "start_time": "2022-05-22T12:20:16.764Z"
   },
   {
    "duration": 211,
    "start_time": "2022-05-22T12:20:17.944Z"
   },
   {
    "duration": 6,
    "start_time": "2022-05-22T12:20:18.289Z"
   },
   {
    "duration": 69,
    "start_time": "2022-05-22T12:20:20.961Z"
   },
   {
    "duration": 7,
    "start_time": "2022-05-22T12:20:21.358Z"
   },
   {
    "duration": 8,
    "start_time": "2022-05-22T12:20:21.714Z"
   },
   {
    "duration": 79,
    "start_time": "2022-05-22T12:20:23.150Z"
   },
   {
    "duration": 4,
    "start_time": "2022-05-22T12:20:24.606Z"
   },
   {
    "duration": 71,
    "start_time": "2022-05-22T12:20:30.065Z"
   },
   {
    "duration": 30,
    "start_time": "2022-05-22T12:27:48.961Z"
   },
   {
    "duration": 27,
    "start_time": "2022-05-22T12:27:49.289Z"
   },
   {
    "duration": 29,
    "start_time": "2022-05-22T12:27:49.656Z"
   },
   {
    "duration": 28,
    "start_time": "2022-05-22T12:27:50.654Z"
   },
   {
    "duration": 28,
    "start_time": "2022-05-22T12:32:08.492Z"
   },
   {
    "duration": 78,
    "start_time": "2022-05-22T12:33:57.968Z"
   },
   {
    "duration": 11,
    "start_time": "2022-05-22T12:34:06.679Z"
   },
   {
    "duration": 4,
    "start_time": "2022-05-22T12:35:49.652Z"
   },
   {
    "duration": 5,
    "start_time": "2022-05-22T12:36:04.340Z"
   },
   {
    "duration": 8,
    "start_time": "2022-05-22T12:36:43.465Z"
   },
   {
    "duration": 29,
    "start_time": "2022-05-22T12:37:40.392Z"
   },
   {
    "duration": 8,
    "start_time": "2022-05-22T12:40:40.823Z"
   },
   {
    "duration": 15,
    "start_time": "2022-05-22T12:41:49.986Z"
   },
   {
    "duration": 5,
    "start_time": "2022-05-22T12:42:10.685Z"
   },
   {
    "duration": 910,
    "start_time": "2022-05-22T15:24:55.397Z"
   },
   {
    "duration": 687,
    "start_time": "2022-05-22T15:24:56.309Z"
   },
   {
    "duration": 18,
    "start_time": "2022-05-22T15:24:56.998Z"
   },
   {
    "duration": 39,
    "start_time": "2022-05-22T15:24:57.018Z"
   },
   {
    "duration": 16,
    "start_time": "2022-05-22T15:24:57.060Z"
   },
   {
    "duration": 27,
    "start_time": "2022-05-22T15:24:57.077Z"
   },
   {
    "duration": 13,
    "start_time": "2022-05-22T15:24:57.375Z"
   },
   {
    "duration": 22,
    "start_time": "2022-05-22T15:24:57.568Z"
   },
   {
    "duration": 11,
    "start_time": "2022-05-22T15:24:58.072Z"
   },
   {
    "duration": 12,
    "start_time": "2022-05-22T15:24:58.248Z"
   },
   {
    "duration": 15,
    "start_time": "2022-05-22T15:24:58.784Z"
   },
   {
    "duration": 15,
    "start_time": "2022-05-22T15:24:58.924Z"
   },
   {
    "duration": 245,
    "start_time": "2022-05-22T15:25:02.455Z"
   },
   {
    "duration": 6,
    "start_time": "2022-05-22T15:25:03.386Z"
   },
   {
    "duration": 89,
    "start_time": "2022-05-22T15:25:04.574Z"
   },
   {
    "duration": 7,
    "start_time": "2022-05-22T15:25:10.172Z"
   },
   {
    "duration": 9,
    "start_time": "2022-05-22T15:25:12.124Z"
   },
   {
    "duration": 84,
    "start_time": "2022-05-22T15:25:17.573Z"
   },
   {
    "duration": 3,
    "start_time": "2022-05-22T15:25:18.624Z"
   },
   {
    "duration": 48,
    "start_time": "2022-05-22T15:27:45.907Z"
   },
   {
    "duration": 39,
    "start_time": "2022-05-22T15:27:46.872Z"
   },
   {
    "duration": 46,
    "start_time": "2022-05-22T15:27:47.276Z"
   },
   {
    "duration": 40,
    "start_time": "2022-05-22T15:27:48.822Z"
   },
   {
    "duration": 7,
    "start_time": "2022-05-22T16:03:26.204Z"
   },
   {
    "duration": 108,
    "start_time": "2022-05-22T16:04:25.357Z"
   },
   {
    "duration": 20,
    "start_time": "2022-05-22T16:09:02.249Z"
   },
   {
    "duration": 3,
    "start_time": "2022-05-22T16:10:44.361Z"
   },
   {
    "duration": 447,
    "start_time": "2022-05-22T16:10:45.164Z"
   },
   {
    "duration": 12,
    "start_time": "2022-05-22T16:10:45.613Z"
   },
   {
    "duration": 24,
    "start_time": "2022-05-22T16:10:45.761Z"
   },
   {
    "duration": 14,
    "start_time": "2022-05-22T16:10:46.454Z"
   },
   {
    "duration": 23,
    "start_time": "2022-05-22T16:10:46.648Z"
   },
   {
    "duration": 11,
    "start_time": "2022-05-22T16:10:47.310Z"
   },
   {
    "duration": 18,
    "start_time": "2022-05-22T16:10:47.485Z"
   },
   {
    "duration": 8,
    "start_time": "2022-05-22T16:10:48.079Z"
   },
   {
    "duration": 11,
    "start_time": "2022-05-22T16:10:48.313Z"
   },
   {
    "duration": 23,
    "start_time": "2022-05-22T16:10:48.923Z"
   },
   {
    "duration": 13,
    "start_time": "2022-05-22T16:10:49.112Z"
   },
   {
    "duration": 257,
    "start_time": "2022-05-22T16:10:49.879Z"
   },
   {
    "duration": 5,
    "start_time": "2022-05-22T16:10:50.281Z"
   },
   {
    "duration": 81,
    "start_time": "2022-05-22T16:10:50.660Z"
   },
   {
    "duration": 7,
    "start_time": "2022-05-22T16:10:51.058Z"
   },
   {
    "duration": 10,
    "start_time": "2022-05-22T16:10:51.444Z"
   },
   {
    "duration": 91,
    "start_time": "2022-05-22T16:10:51.815Z"
   },
   {
    "duration": 3,
    "start_time": "2022-05-22T16:10:52.265Z"
   },
   {
    "duration": 30,
    "start_time": "2022-05-22T16:10:53.508Z"
   },
   {
    "duration": 26,
    "start_time": "2022-05-22T16:10:55.357Z"
   },
   {
    "duration": 28,
    "start_time": "2022-05-22T16:10:56.155Z"
   },
   {
    "duration": 22,
    "start_time": "2022-05-22T16:10:56.665Z"
   },
   {
    "duration": 15,
    "start_time": "2022-05-22T16:10:58.909Z"
   },
   {
    "duration": 47,
    "start_time": "2022-05-22T16:11:00.851Z"
   },
   {
    "duration": 23,
    "start_time": "2022-05-22T16:11:35.264Z"
   },
   {
    "duration": 40,
    "start_time": "2022-05-22T16:17:42.699Z"
   },
   {
    "duration": 18,
    "start_time": "2022-05-22T16:17:44.705Z"
   },
   {
    "duration": 23,
    "start_time": "2022-05-22T16:17:45.720Z"
   },
   {
    "duration": 12,
    "start_time": "2022-05-22T16:18:26.278Z"
   },
   {
    "duration": 7,
    "start_time": "2022-05-22T16:19:08.196Z"
   },
   {
    "duration": 12,
    "start_time": "2022-05-22T16:20:17.697Z"
   },
   {
    "duration": 10,
    "start_time": "2022-05-22T16:20:21.771Z"
   },
   {
    "duration": 45,
    "start_time": "2022-05-22T16:20:29.425Z"
   },
   {
    "duration": 627,
    "start_time": "2022-05-22T16:21:31.117Z"
   },
   {
    "duration": 11,
    "start_time": "2022-05-22T16:22:40.472Z"
   },
   {
    "duration": 1014,
    "start_time": "2022-05-22T19:21:18.246Z"
   },
   {
    "duration": 845,
    "start_time": "2022-05-22T19:21:19.265Z"
   },
   {
    "duration": 25,
    "start_time": "2022-05-22T19:21:20.112Z"
   },
   {
    "duration": 31,
    "start_time": "2022-05-22T19:21:20.139Z"
   },
   {
    "duration": 14,
    "start_time": "2022-05-22T19:21:20.987Z"
   },
   {
    "duration": 23,
    "start_time": "2022-05-22T19:21:21.166Z"
   },
   {
    "duration": 12,
    "start_time": "2022-05-22T19:21:21.714Z"
   },
   {
    "duration": 29,
    "start_time": "2022-05-22T19:21:21.915Z"
   },
   {
    "duration": 8,
    "start_time": "2022-05-22T19:21:22.443Z"
   },
   {
    "duration": 15,
    "start_time": "2022-05-22T19:21:22.645Z"
   },
   {
    "duration": 13,
    "start_time": "2022-05-22T19:21:23.195Z"
   },
   {
    "duration": 10,
    "start_time": "2022-05-22T19:21:23.393Z"
   },
   {
    "duration": 234,
    "start_time": "2022-05-22T19:21:24.146Z"
   },
   {
    "duration": 7,
    "start_time": "2022-05-22T19:21:24.564Z"
   },
   {
    "duration": 79,
    "start_time": "2022-05-22T19:21:24.944Z"
   },
   {
    "duration": 7,
    "start_time": "2022-05-22T19:21:25.349Z"
   },
   {
    "duration": 7,
    "start_time": "2022-05-22T19:21:25.850Z"
   },
   {
    "duration": 96,
    "start_time": "2022-05-22T19:21:26.385Z"
   },
   {
    "duration": 45,
    "start_time": "2022-05-22T19:21:26.779Z"
   },
   {
    "duration": 29,
    "start_time": "2022-05-22T19:21:27.327Z"
   },
   {
    "duration": 23,
    "start_time": "2022-05-22T19:21:27.916Z"
   },
   {
    "duration": 8,
    "start_time": "2022-05-22T19:21:28.344Z"
   },
   {
    "duration": 13,
    "start_time": "2022-05-22T19:21:28.550Z"
   },
   {
    "duration": 14,
    "start_time": "2022-05-22T19:21:28.777Z"
   },
   {
    "duration": 5,
    "start_time": "2022-05-22T19:21:44.274Z"
   },
   {
    "duration": 665,
    "start_time": "2022-05-22T19:23:05.958Z"
   },
   {
    "duration": 5,
    "start_time": "2022-05-22T19:23:42.687Z"
   },
   {
    "duration": 455,
    "start_time": "2022-05-22T19:23:45.135Z"
   },
   {
    "duration": 5,
    "start_time": "2022-05-22T19:24:05.190Z"
   },
   {
    "duration": 607,
    "start_time": "2022-05-22T19:24:06.392Z"
   },
   {
    "duration": 2,
    "start_time": "2022-05-22T19:29:31.178Z"
   },
   {
    "duration": 388,
    "start_time": "2022-05-22T19:29:31.733Z"
   },
   {
    "duration": 12,
    "start_time": "2022-05-22T19:29:32.123Z"
   },
   {
    "duration": 23,
    "start_time": "2022-05-22T19:29:32.277Z"
   },
   {
    "duration": 14,
    "start_time": "2022-05-22T19:29:32.844Z"
   },
   {
    "duration": 21,
    "start_time": "2022-05-22T19:29:32.990Z"
   },
   {
    "duration": 10,
    "start_time": "2022-05-22T19:29:33.938Z"
   },
   {
    "duration": 19,
    "start_time": "2022-05-22T19:29:34.106Z"
   },
   {
    "duration": 8,
    "start_time": "2022-05-22T19:29:34.628Z"
   },
   {
    "duration": 11,
    "start_time": "2022-05-22T19:29:34.826Z"
   },
   {
    "duration": 13,
    "start_time": "2022-05-22T19:29:35.360Z"
   },
   {
    "duration": 11,
    "start_time": "2022-05-22T19:29:35.508Z"
   },
   {
    "duration": 3,
    "start_time": "2022-05-22T19:29:38.519Z"
   },
   {
    "duration": 165,
    "start_time": "2022-05-22T19:29:40.614Z"
   },
   {
    "duration": 5,
    "start_time": "2022-05-22T19:29:40.784Z"
   },
   {
    "duration": 63,
    "start_time": "2022-05-22T19:29:41.131Z"
   },
   {
    "duration": 7,
    "start_time": "2022-05-22T19:29:41.489Z"
   },
   {
    "duration": 6,
    "start_time": "2022-05-22T19:29:41.828Z"
   },
   {
    "duration": 72,
    "start_time": "2022-05-22T19:29:42.180Z"
   },
   {
    "duration": 22,
    "start_time": "2022-05-22T19:29:42.526Z"
   },
   {
    "duration": 16,
    "start_time": "2022-05-22T19:29:42.903Z"
   },
   {
    "duration": 15,
    "start_time": "2022-05-22T19:29:43.281Z"
   },
   {
    "duration": 7,
    "start_time": "2022-05-22T19:29:43.628Z"
   },
   {
    "duration": 16,
    "start_time": "2022-05-22T19:29:43.805Z"
   },
   {
    "duration": 15,
    "start_time": "2022-05-22T19:29:43.995Z"
   },
   {
    "duration": 17,
    "start_time": "2022-05-22T19:29:46.492Z"
   },
   {
    "duration": 21,
    "start_time": "2022-05-22T19:30:16.975Z"
   },
   {
    "duration": 22,
    "start_time": "2022-05-22T19:31:07.829Z"
   },
   {
    "duration": 15,
    "start_time": "2022-05-22T19:32:05.005Z"
   },
   {
    "duration": 14,
    "start_time": "2022-05-22T19:34:51.941Z"
   },
   {
    "duration": 13,
    "start_time": "2022-05-22T19:35:08.760Z"
   },
   {
    "duration": 9,
    "start_time": "2022-05-22T19:35:24.369Z"
   },
   {
    "duration": 62,
    "start_time": "2022-05-22T19:35:35.294Z"
   },
   {
    "duration": 15,
    "start_time": "2022-05-22T19:35:43.193Z"
   },
   {
    "duration": 23,
    "start_time": "2022-05-22T19:35:56.024Z"
   },
   {
    "duration": 13,
    "start_time": "2022-05-22T19:36:24.161Z"
   },
   {
    "duration": 707,
    "start_time": "2022-05-22T19:36:28.170Z"
   },
   {
    "duration": 21,
    "start_time": "2022-05-22T19:39:16.260Z"
   },
   {
    "duration": 9,
    "start_time": "2022-05-22T19:39:22.167Z"
   },
   {
    "duration": 16,
    "start_time": "2022-05-22T19:39:22.952Z"
   },
   {
    "duration": 17,
    "start_time": "2022-05-22T19:39:23.453Z"
   },
   {
    "duration": 7,
    "start_time": "2022-05-22T19:39:53.697Z"
   },
   {
    "duration": 590,
    "start_time": "2022-05-22T19:39:55.114Z"
   },
   {
    "duration": 3,
    "start_time": "2022-05-22T19:44:28.427Z"
   },
   {
    "duration": 659,
    "start_time": "2022-05-22T19:44:29.036Z"
   },
   {
    "duration": 12,
    "start_time": "2022-05-22T19:44:29.697Z"
   },
   {
    "duration": 37,
    "start_time": "2022-05-22T19:44:29.711Z"
   },
   {
    "duration": 14,
    "start_time": "2022-05-22T19:44:30.218Z"
   },
   {
    "duration": 21,
    "start_time": "2022-05-22T19:44:30.387Z"
   },
   {
    "duration": 10,
    "start_time": "2022-05-22T19:44:31.049Z"
   },
   {
    "duration": 19,
    "start_time": "2022-05-22T19:44:31.228Z"
   },
   {
    "duration": 10,
    "start_time": "2022-05-22T19:44:31.877Z"
   },
   {
    "duration": 14,
    "start_time": "2022-05-22T19:44:32.041Z"
   },
   {
    "duration": 16,
    "start_time": "2022-05-22T19:44:32.579Z"
   },
   {
    "duration": 13,
    "start_time": "2022-05-22T19:44:32.749Z"
   },
   {
    "duration": 5,
    "start_time": "2022-05-22T19:44:33.258Z"
   },
   {
    "duration": 216,
    "start_time": "2022-05-22T19:44:33.757Z"
   },
   {
    "duration": 7,
    "start_time": "2022-05-22T19:44:34.053Z"
   },
   {
    "duration": 112,
    "start_time": "2022-05-22T19:44:34.471Z"
   },
   {
    "duration": 8,
    "start_time": "2022-05-22T19:44:34.837Z"
   },
   {
    "duration": 7,
    "start_time": "2022-05-22T19:44:35.230Z"
   },
   {
    "duration": 131,
    "start_time": "2022-05-22T19:44:35.779Z"
   },
   {
    "duration": 30,
    "start_time": "2022-05-22T19:44:37.728Z"
   },
   {
    "duration": 22,
    "start_time": "2022-05-22T19:44:38.419Z"
   },
   {
    "duration": 15,
    "start_time": "2022-05-22T19:44:38.725Z"
   },
   {
    "duration": 8,
    "start_time": "2022-05-22T19:44:39.128Z"
   },
   {
    "duration": 13,
    "start_time": "2022-05-22T19:44:39.308Z"
   },
   {
    "duration": 18,
    "start_time": "2022-05-22T19:44:41.809Z"
   },
   {
    "duration": 10,
    "start_time": "2022-05-22T19:44:49.260Z"
   },
   {
    "duration": 21,
    "start_time": "2022-05-22T19:44:52.360Z"
   },
   {
    "duration": 12,
    "start_time": "2022-05-22T19:45:22.750Z"
   },
   {
    "duration": 10,
    "start_time": "2022-05-22T19:47:15.978Z"
   },
   {
    "duration": 68,
    "start_time": "2022-05-22T19:47:16.585Z"
   },
   {
    "duration": 23,
    "start_time": "2022-05-22T19:47:43.419Z"
   },
   {
    "duration": 8,
    "start_time": "2022-05-22T19:54:08.613Z"
   },
   {
    "duration": 8,
    "start_time": "2022-05-22T19:54:47.900Z"
   },
   {
    "duration": 15,
    "start_time": "2022-05-22T19:55:51.326Z"
   },
   {
    "duration": 1043,
    "start_time": "2022-05-23T14:09:58.005Z"
   },
   {
    "duration": 1014,
    "start_time": "2022-05-23T14:09:59.052Z"
   },
   {
    "duration": 19,
    "start_time": "2022-05-23T14:10:00.069Z"
   },
   {
    "duration": 32,
    "start_time": "2022-05-23T14:10:00.091Z"
   },
   {
    "duration": 22,
    "start_time": "2022-05-23T14:10:01.405Z"
   },
   {
    "duration": 25,
    "start_time": "2022-05-23T14:10:01.687Z"
   },
   {
    "duration": 14,
    "start_time": "2022-05-23T14:10:02.357Z"
   },
   {
    "duration": 23,
    "start_time": "2022-05-23T14:10:02.539Z"
   },
   {
    "duration": 10,
    "start_time": "2022-05-23T14:10:03.125Z"
   },
   {
    "duration": 17,
    "start_time": "2022-05-23T14:10:03.332Z"
   },
   {
    "duration": 22,
    "start_time": "2022-05-23T14:10:04.382Z"
   },
   {
    "duration": 4,
    "start_time": "2022-05-23T14:10:16.145Z"
   },
   {
    "duration": 617,
    "start_time": "2022-05-23T14:10:16.532Z"
   },
   {
    "duration": 23,
    "start_time": "2022-05-23T14:10:17.152Z"
   },
   {
    "duration": 50,
    "start_time": "2022-05-23T14:10:17.177Z"
   },
   {
    "duration": 21,
    "start_time": "2022-05-23T14:10:17.655Z"
   },
   {
    "duration": 33,
    "start_time": "2022-05-23T14:10:17.791Z"
   },
   {
    "duration": 13,
    "start_time": "2022-05-23T14:10:18.444Z"
   },
   {
    "duration": 31,
    "start_time": "2022-05-23T14:10:18.644Z"
   },
   {
    "duration": 13,
    "start_time": "2022-05-23T14:10:19.257Z"
   },
   {
    "duration": 13,
    "start_time": "2022-05-23T14:10:19.484Z"
   },
   {
    "duration": 21,
    "start_time": "2022-05-23T14:10:20.125Z"
   },
   {
    "duration": 16,
    "start_time": "2022-05-23T14:10:20.324Z"
   },
   {
    "duration": 6,
    "start_time": "2022-05-23T14:10:21.015Z"
   },
   {
    "duration": 247,
    "start_time": "2022-05-23T14:10:21.626Z"
   },
   {
    "duration": 6,
    "start_time": "2022-05-23T14:10:22.064Z"
   },
   {
    "duration": 123,
    "start_time": "2022-05-23T14:10:22.495Z"
   },
   {
    "duration": 9,
    "start_time": "2022-05-23T14:10:22.892Z"
   },
   {
    "duration": 138,
    "start_time": "2022-05-23T14:10:23.313Z"
   },
   {
    "duration": 119,
    "start_time": "2022-05-23T14:10:23.725Z"
   },
   {
    "duration": 35,
    "start_time": "2022-05-23T14:10:24.165Z"
   },
   {
    "duration": 34,
    "start_time": "2022-05-23T14:10:24.575Z"
   },
   {
    "duration": 19,
    "start_time": "2022-05-23T14:10:25.032Z"
   },
   {
    "duration": 9,
    "start_time": "2022-05-23T14:10:25.454Z"
   },
   {
    "duration": 17,
    "start_time": "2022-05-23T14:10:25.686Z"
   },
   {
    "duration": 20,
    "start_time": "2022-05-23T14:10:25.892Z"
   },
   {
    "duration": 9,
    "start_time": "2022-05-23T14:10:26.348Z"
   },
   {
    "duration": 8,
    "start_time": "2022-05-23T14:10:26.587Z"
   },
   {
    "duration": 91,
    "start_time": "2022-05-23T14:10:26.804Z"
   },
   {
    "duration": 33,
    "start_time": "2022-05-23T14:10:27.000Z"
   },
   {
    "duration": 10,
    "start_time": "2022-05-23T14:10:27.470Z"
   },
   {
    "duration": 135,
    "start_time": "2022-05-23T14:17:04.632Z"
   },
   {
    "duration": 8,
    "start_time": "2022-05-23T14:17:08.660Z"
   },
   {
    "duration": 42,
    "start_time": "2022-05-23T14:17:09.758Z"
   },
   {
    "duration": 13,
    "start_time": "2022-05-23T14:21:13.630Z"
   },
   {
    "duration": 13,
    "start_time": "2022-05-23T14:21:18.001Z"
   },
   {
    "duration": 44,
    "start_time": "2022-05-23T14:21:33.628Z"
   },
   {
    "duration": 10,
    "start_time": "2022-05-23T14:25:06.020Z"
   },
   {
    "duration": 12,
    "start_time": "2022-05-23T14:25:11.451Z"
   },
   {
    "duration": 31,
    "start_time": "2022-05-23T14:27:04.211Z"
   },
   {
    "duration": 3,
    "start_time": "2022-05-23T14:32:59.318Z"
   },
   {
    "duration": 16,
    "start_time": "2022-05-23T14:33:16.609Z"
   },
   {
    "duration": 5,
    "start_time": "2022-05-23T14:33:37.081Z"
   },
   {
    "duration": 3,
    "start_time": "2022-05-23T14:33:47.963Z"
   },
   {
    "duration": 8,
    "start_time": "2022-05-23T14:34:15.024Z"
   },
   {
    "duration": 9,
    "start_time": "2022-05-23T14:34:15.490Z"
   },
   {
    "duration": 433,
    "start_time": "2022-05-23T14:47:03.714Z"
   },
   {
    "duration": 55,
    "start_time": "2022-05-23T14:49:05.711Z"
   },
   {
    "duration": 1354,
    "start_time": "2022-05-23T15:16:24.145Z"
   },
   {
    "duration": 954,
    "start_time": "2022-05-23T15:16:25.501Z"
   },
   {
    "duration": 817,
    "start_time": "2022-05-23T15:17:50.450Z"
   },
   {
    "duration": 722,
    "start_time": "2022-05-23T15:18:02.173Z"
   },
   {
    "duration": 14,
    "start_time": "2022-05-23T15:24:16.847Z"
   },
   {
    "duration": 1518,
    "start_time": "2022-05-23T15:24:54.379Z"
   },
   {
    "duration": 6,
    "start_time": "2022-05-23T15:25:00.256Z"
   },
   {
    "duration": 7,
    "start_time": "2022-05-23T15:26:06.846Z"
   },
   {
    "duration": 5,
    "start_time": "2022-05-23T15:26:08.307Z"
   },
   {
    "duration": 68,
    "start_time": "2022-05-23T15:28:08.463Z"
   },
   {
    "duration": 30,
    "start_time": "2022-05-23T15:30:23.056Z"
   },
   {
    "duration": 1183,
    "start_time": "2022-05-23T15:31:52.848Z"
   },
   {
    "duration": 45,
    "start_time": "2022-05-23T15:32:10.387Z"
   },
   {
    "duration": 3769,
    "start_time": "2022-05-23T15:32:43.250Z"
   },
   {
    "duration": 11,
    "start_time": "2022-05-23T15:33:00.956Z"
   },
   {
    "duration": 1216,
    "start_time": "2022-05-24T13:44:12.589Z"
   },
   {
    "duration": 1150,
    "start_time": "2022-05-24T13:44:13.807Z"
   },
   {
    "duration": 18,
    "start_time": "2022-05-24T13:44:14.959Z"
   },
   {
    "duration": 27,
    "start_time": "2022-05-24T13:44:14.980Z"
   },
   {
    "duration": 13,
    "start_time": "2022-05-24T13:44:15.009Z"
   },
   {
    "duration": 27,
    "start_time": "2022-05-24T13:44:15.024Z"
   },
   {
    "duration": 9,
    "start_time": "2022-05-24T13:44:15.053Z"
   },
   {
    "duration": 23,
    "start_time": "2022-05-24T13:44:15.064Z"
   },
   {
    "duration": 17,
    "start_time": "2022-05-24T13:44:15.089Z"
   },
   {
    "duration": 20,
    "start_time": "2022-05-24T13:44:15.110Z"
   },
   {
    "duration": 45,
    "start_time": "2022-05-24T13:44:15.133Z"
   },
   {
    "duration": 17,
    "start_time": "2022-05-24T13:44:15.180Z"
   },
   {
    "duration": 7,
    "start_time": "2022-05-24T13:44:15.198Z"
   },
   {
    "duration": 214,
    "start_time": "2022-05-24T13:44:15.206Z"
   },
   {
    "duration": 6,
    "start_time": "2022-05-24T13:44:15.422Z"
   },
   {
    "duration": 81,
    "start_time": "2022-05-24T13:44:15.429Z"
   },
   {
    "duration": 5,
    "start_time": "2022-05-24T13:44:15.512Z"
   },
   {
    "duration": 8,
    "start_time": "2022-05-24T13:44:15.519Z"
   },
   {
    "duration": 157,
    "start_time": "2022-05-24T13:44:15.528Z"
   },
   {
    "duration": 37,
    "start_time": "2022-05-24T13:44:15.687Z"
   },
   {
    "duration": 18,
    "start_time": "2022-05-24T13:44:15.726Z"
   },
   {
    "duration": 16,
    "start_time": "2022-05-24T13:44:15.746Z"
   },
   {
    "duration": 7,
    "start_time": "2022-05-24T13:44:15.763Z"
   },
   {
    "duration": 38,
    "start_time": "2022-05-24T13:44:15.771Z"
   },
   {
    "duration": 15,
    "start_time": "2022-05-24T13:44:15.810Z"
   },
   {
    "duration": 6,
    "start_time": "2022-05-24T13:44:15.827Z"
   },
   {
    "duration": 6,
    "start_time": "2022-05-24T13:44:15.834Z"
   },
   {
    "duration": 88,
    "start_time": "2022-05-24T13:44:15.843Z"
   },
   {
    "duration": 19,
    "start_time": "2022-05-24T13:44:15.932Z"
   },
   {
    "duration": 8,
    "start_time": "2022-05-24T13:44:15.952Z"
   },
   {
    "duration": 5,
    "start_time": "2022-05-24T13:44:15.961Z"
   },
   {
    "duration": 7,
    "start_time": "2022-05-24T13:44:15.967Z"
   },
   {
    "duration": 821,
    "start_time": "2022-05-24T13:44:15.976Z"
   },
   {
    "duration": 5,
    "start_time": "2022-05-24T13:44:16.802Z"
   },
   {
    "duration": 34,
    "start_time": "2022-05-24T13:44:16.808Z"
   },
   {
    "duration": 4,
    "start_time": "2022-05-24T13:45:05.188Z"
   },
   {
    "duration": 12,
    "start_time": "2022-05-24T13:45:57.456Z"
   },
   {
    "duration": 5,
    "start_time": "2022-05-24T13:51:19.421Z"
   },
   {
    "duration": 1116,
    "start_time": "2022-05-24T13:55:41.883Z"
   },
   {
    "duration": 409,
    "start_time": "2022-05-24T13:55:43.003Z"
   },
   {
    "duration": 15,
    "start_time": "2022-05-24T13:55:43.414Z"
   },
   {
    "duration": 26,
    "start_time": "2022-05-24T13:55:43.432Z"
   },
   {
    "duration": 15,
    "start_time": "2022-05-24T13:55:43.459Z"
   },
   {
    "duration": 36,
    "start_time": "2022-05-24T13:55:43.476Z"
   },
   {
    "duration": 11,
    "start_time": "2022-05-24T13:55:43.513Z"
   },
   {
    "duration": 29,
    "start_time": "2022-05-24T13:55:43.526Z"
   },
   {
    "duration": 8,
    "start_time": "2022-05-24T13:55:43.557Z"
   },
   {
    "duration": 42,
    "start_time": "2022-05-24T13:55:43.567Z"
   },
   {
    "duration": 14,
    "start_time": "2022-05-24T13:55:43.611Z"
   },
   {
    "duration": 11,
    "start_time": "2022-05-24T13:55:43.627Z"
   },
   {
    "duration": 5,
    "start_time": "2022-05-24T13:55:43.640Z"
   },
   {
    "duration": 257,
    "start_time": "2022-05-24T13:55:43.647Z"
   },
   {
    "duration": 5,
    "start_time": "2022-05-24T13:55:43.906Z"
   },
   {
    "duration": 68,
    "start_time": "2022-05-24T13:55:43.913Z"
   },
   {
    "duration": 20,
    "start_time": "2022-05-24T13:55:43.983Z"
   },
   {
    "duration": 7,
    "start_time": "2022-05-24T13:55:44.005Z"
   },
   {
    "duration": 157,
    "start_time": "2022-05-24T13:55:44.014Z"
   },
   {
    "duration": 36,
    "start_time": "2022-05-24T13:55:44.173Z"
   },
   {
    "duration": 19,
    "start_time": "2022-05-24T13:55:44.211Z"
   },
   {
    "duration": 15,
    "start_time": "2022-05-24T13:55:44.232Z"
   },
   {
    "duration": 6,
    "start_time": "2022-05-24T13:55:44.249Z"
   },
   {
    "duration": 12,
    "start_time": "2022-05-24T13:55:44.256Z"
   },
   {
    "duration": 44,
    "start_time": "2022-05-24T13:55:44.270Z"
   },
   {
    "duration": 6,
    "start_time": "2022-05-24T13:55:44.316Z"
   },
   {
    "duration": 8,
    "start_time": "2022-05-24T13:55:44.324Z"
   },
   {
    "duration": 89,
    "start_time": "2022-05-24T13:55:44.336Z"
   },
   {
    "duration": 19,
    "start_time": "2022-05-24T13:55:44.426Z"
   },
   {
    "duration": 7,
    "start_time": "2022-05-24T13:55:44.446Z"
   },
   {
    "duration": 7,
    "start_time": "2022-05-24T13:55:44.454Z"
   },
   {
    "duration": 40,
    "start_time": "2022-05-24T13:55:44.462Z"
   },
   {
    "duration": 7,
    "start_time": "2022-05-24T13:55:44.504Z"
   },
   {
    "duration": 841,
    "start_time": "2022-05-24T13:55:44.513Z"
   },
   {
    "duration": 4,
    "start_time": "2022-05-24T13:55:45.356Z"
   },
   {
    "duration": 12,
    "start_time": "2022-05-24T13:55:45.362Z"
   },
   {
    "duration": 5,
    "start_time": "2022-05-24T13:55:45.375Z"
   },
   {
    "duration": 1522,
    "start_time": "2022-05-24T16:36:52.437Z"
   },
   {
    "duration": 1193,
    "start_time": "2022-05-24T16:36:54.440Z"
   },
   {
    "duration": 16,
    "start_time": "2022-05-24T16:36:59.546Z"
   },
   {
    "duration": 19,
    "start_time": "2022-05-24T16:37:00.114Z"
   },
   {
    "duration": 12,
    "start_time": "2022-05-24T16:37:01.653Z"
   },
   {
    "duration": 22,
    "start_time": "2022-05-24T16:37:02.409Z"
   },
   {
    "duration": 1170,
    "start_time": "2022-05-24T16:40:09.810Z"
   },
   {
    "duration": 497,
    "start_time": "2022-05-24T16:40:10.983Z"
   },
   {
    "duration": 16,
    "start_time": "2022-05-24T16:40:11.481Z"
   },
   {
    "duration": 17,
    "start_time": "2022-05-24T16:40:11.499Z"
   },
   {
    "duration": 13,
    "start_time": "2022-05-24T16:40:11.518Z"
   },
   {
    "duration": 35,
    "start_time": "2022-05-24T16:40:11.533Z"
   },
   {
    "duration": 10,
    "start_time": "2022-05-24T16:40:39.496Z"
   },
   {
    "duration": 22,
    "start_time": "2022-05-24T16:40:39.982Z"
   },
   {
    "duration": 12,
    "start_time": "2022-05-24T16:40:42.738Z"
   },
   {
    "duration": 14,
    "start_time": "2022-05-24T16:40:43.086Z"
   },
   {
    "duration": 16,
    "start_time": "2022-05-24T16:40:47.437Z"
   },
   {
    "duration": 11,
    "start_time": "2022-05-24T16:40:48.680Z"
   },
   {
    "duration": 3,
    "start_time": "2022-05-24T16:40:50.240Z"
   },
   {
    "duration": 83,
    "start_time": "2022-05-24T16:40:53.051Z"
   },
   {
    "duration": 6,
    "start_time": "2022-05-24T16:40:55.775Z"
   },
   {
    "duration": 65,
    "start_time": "2022-05-24T16:40:56.511Z"
   },
   {
    "duration": 12,
    "start_time": "2022-05-24T16:41:42.156Z"
   },
   {
    "duration": 6,
    "start_time": "2022-05-24T16:42:31.040Z"
   },
   {
    "duration": 115,
    "start_time": "2022-05-24T16:42:36.846Z"
   },
   {
    "duration": 15,
    "start_time": "2022-05-24T16:42:39.973Z"
   },
   {
    "duration": 145,
    "start_time": "2022-05-24T16:44:37.480Z"
   },
   {
    "duration": 101,
    "start_time": "2022-05-24T16:46:35.624Z"
   },
   {
    "duration": 14,
    "start_time": "2022-05-24T16:46:36.188Z"
   },
   {
    "duration": 78,
    "start_time": "2022-05-24T16:47:35.929Z"
   },
   {
    "duration": 13,
    "start_time": "2022-05-24T16:47:43.237Z"
   },
   {
    "duration": 1166,
    "start_time": "2022-05-24T17:33:46.344Z"
   },
   {
    "duration": 521,
    "start_time": "2022-05-24T17:33:48.254Z"
   },
   {
    "duration": 14,
    "start_time": "2022-05-24T17:33:48.919Z"
   },
   {
    "duration": 18,
    "start_time": "2022-05-24T17:33:49.330Z"
   },
   {
    "duration": 12,
    "start_time": "2022-05-24T17:33:50.076Z"
   },
   {
    "duration": 20,
    "start_time": "2022-05-24T17:33:50.280Z"
   },
   {
    "duration": 28,
    "start_time": "2022-05-24T17:33:53.049Z"
   },
   {
    "duration": 15,
    "start_time": "2022-05-24T17:33:53.347Z"
   },
   {
    "duration": 7,
    "start_time": "2022-05-24T17:33:54.086Z"
   },
   {
    "duration": 11,
    "start_time": "2022-05-24T17:33:54.356Z"
   },
   {
    "duration": 13,
    "start_time": "2022-05-24T17:33:55.122Z"
   },
   {
    "duration": 16,
    "start_time": "2022-05-24T17:33:55.675Z"
   },
   {
    "duration": 5,
    "start_time": "2022-05-24T17:33:56.608Z"
   },
   {
    "duration": 87,
    "start_time": "2022-05-24T17:33:58.297Z"
   },
   {
    "duration": 5,
    "start_time": "2022-05-24T17:33:59.093Z"
   },
   {
    "duration": 80,
    "start_time": "2022-05-24T17:34:01.047Z"
   },
   {
    "duration": 6,
    "start_time": "2022-05-24T17:34:02.405Z"
   },
   {
    "duration": 9,
    "start_time": "2022-05-24T17:34:03.605Z"
   },
   {
    "duration": 163,
    "start_time": "2022-05-24T17:34:11.709Z"
   },
   {
    "duration": 116,
    "start_time": "2022-05-24T17:34:23.281Z"
   },
   {
    "duration": 12,
    "start_time": "2022-05-24T17:34:42.488Z"
   },
   {
    "duration": 13,
    "start_time": "2022-05-24T17:35:34.107Z"
   },
   {
    "duration": 12,
    "start_time": "2022-05-24T17:40:15.789Z"
   },
   {
    "duration": 18,
    "start_time": "2022-05-24T17:40:30.527Z"
   },
   {
    "duration": 10,
    "start_time": "2022-05-24T17:40:44.942Z"
   },
   {
    "duration": 16,
    "start_time": "2022-05-24T17:43:33.036Z"
   },
   {
    "duration": 10,
    "start_time": "2022-05-24T17:43:48.601Z"
   },
   {
    "duration": 551,
    "start_time": "2022-05-24T17:48:12.240Z"
   },
   {
    "duration": 11,
    "start_time": "2022-05-24T17:48:13.629Z"
   },
   {
    "duration": 13,
    "start_time": "2022-05-24T17:48:28.835Z"
   },
   {
    "duration": 179,
    "start_time": "2022-05-24T17:48:41.596Z"
   },
   {
    "duration": 556,
    "start_time": "2022-05-24T17:49:03.853Z"
   },
   {
    "duration": 32,
    "start_time": "2022-05-24T17:49:04.544Z"
   },
   {
    "duration": 28,
    "start_time": "2022-05-24T17:49:05.802Z"
   },
   {
    "duration": 15,
    "start_time": "2022-05-24T17:49:06.295Z"
   },
   {
    "duration": 24,
    "start_time": "2022-05-24T17:49:06.432Z"
   },
   {
    "duration": 10,
    "start_time": "2022-05-24T17:49:08.409Z"
   },
   {
    "duration": 29,
    "start_time": "2022-05-24T17:49:08.597Z"
   },
   {
    "duration": 11,
    "start_time": "2022-05-24T17:49:17.896Z"
   },
   {
    "duration": 10,
    "start_time": "2022-05-24T17:49:18.518Z"
   },
   {
    "duration": 16,
    "start_time": "2022-05-24T17:49:19.990Z"
   },
   {
    "duration": 10,
    "start_time": "2022-05-24T17:49:23.203Z"
   },
   {
    "duration": 4,
    "start_time": "2022-05-24T17:49:25.714Z"
   },
   {
    "duration": 210,
    "start_time": "2022-05-24T17:49:26.697Z"
   },
   {
    "duration": 14,
    "start_time": "2022-05-24T17:49:37.858Z"
   },
   {
    "duration": 84,
    "start_time": "2022-05-24T17:49:38.895Z"
   },
   {
    "duration": 6,
    "start_time": "2022-05-24T17:49:39.498Z"
   },
   {
    "duration": 5,
    "start_time": "2022-05-24T17:49:40.350Z"
   },
   {
    "duration": 105,
    "start_time": "2022-05-24T17:49:44.295Z"
   },
   {
    "duration": 18,
    "start_time": "2022-05-24T17:49:46.202Z"
   },
   {
    "duration": 23,
    "start_time": "2022-05-24T17:49:48.704Z"
   },
   {
    "duration": 18,
    "start_time": "2022-05-24T17:49:53.356Z"
   },
   {
    "duration": 18,
    "start_time": "2022-05-24T17:50:04.486Z"
   },
   {
    "duration": 21,
    "start_time": "2022-05-24T17:50:05.955Z"
   },
   {
    "duration": 12,
    "start_time": "2022-05-24T17:50:17.194Z"
   },
   {
    "duration": 31,
    "start_time": "2022-05-24T17:50:18.648Z"
   },
   {
    "duration": 15,
    "start_time": "2022-05-24T17:50:54.003Z"
   },
   {
    "duration": 10,
    "start_time": "2022-05-24T17:51:16.943Z"
   },
   {
    "duration": 10,
    "start_time": "2022-05-24T17:52:01.726Z"
   },
   {
    "duration": 16,
    "start_time": "2022-05-24T17:52:49.819Z"
   },
   {
    "duration": 13,
    "start_time": "2022-05-24T17:52:52.253Z"
   },
   {
    "duration": 10,
    "start_time": "2022-05-24T17:52:55.496Z"
   },
   {
    "duration": 19,
    "start_time": "2022-05-24T17:52:56.258Z"
   },
   {
    "duration": 18,
    "start_time": "2022-05-24T17:53:00.392Z"
   },
   {
    "duration": 20,
    "start_time": "2022-05-24T17:53:02.450Z"
   },
   {
    "duration": 6,
    "start_time": "2022-05-24T17:59:39.946Z"
   },
   {
    "duration": 5,
    "start_time": "2022-05-24T17:59:40.895Z"
   },
   {
    "duration": 91,
    "start_time": "2022-05-24T17:59:43.926Z"
   },
   {
    "duration": 18,
    "start_time": "2022-05-24T17:59:44.202Z"
   },
   {
    "duration": 7,
    "start_time": "2022-05-24T17:59:46.030Z"
   },
   {
    "duration": 4,
    "start_time": "2022-05-24T17:59:51.105Z"
   },
   {
    "duration": 13,
    "start_time": "2022-05-24T17:59:58.928Z"
   },
   {
    "duration": 13,
    "start_time": "2022-05-24T18:04:46.893Z"
   },
   {
    "duration": 13,
    "start_time": "2022-05-24T18:05:30.096Z"
   },
   {
    "duration": 12,
    "start_time": "2022-05-24T18:05:36.802Z"
   },
   {
    "duration": 10,
    "start_time": "2022-05-24T18:06:57.921Z"
   },
   {
    "duration": 14,
    "start_time": "2022-05-24T18:12:05.015Z"
   },
   {
    "duration": 7,
    "start_time": "2022-05-24T18:12:09.529Z"
   },
   {
    "duration": 12,
    "start_time": "2022-05-24T18:12:12.013Z"
   },
   {
    "duration": 16,
    "start_time": "2022-05-24T18:12:12.601Z"
   },
   {
    "duration": 4,
    "start_time": "2022-05-24T18:14:54.832Z"
   },
   {
    "duration": 17,
    "start_time": "2022-05-24T19:23:33.787Z"
   },
   {
    "duration": 5,
    "start_time": "2022-05-24T19:23:46.679Z"
   },
   {
    "duration": 14,
    "start_time": "2022-05-24T19:23:50.183Z"
   },
   {
    "duration": 22,
    "start_time": "2022-05-24T19:25:16.251Z"
   },
   {
    "duration": 4,
    "start_time": "2022-05-24T19:25:26.603Z"
   },
   {
    "duration": 15,
    "start_time": "2022-05-24T19:25:32.840Z"
   },
   {
    "duration": 16,
    "start_time": "2022-05-24T19:25:59.175Z"
   },
   {
    "duration": 13,
    "start_time": "2022-05-24T19:28:42.297Z"
   },
   {
    "duration": 16,
    "start_time": "2022-05-24T19:28:57.235Z"
   },
   {
    "duration": 14,
    "start_time": "2022-05-24T19:34:26.480Z"
   },
   {
    "duration": 6,
    "start_time": "2022-05-24T19:34:52.416Z"
   },
   {
    "duration": 5,
    "start_time": "2022-05-24T19:34:54.613Z"
   },
   {
    "duration": 66,
    "start_time": "2022-05-24T19:34:55.782Z"
   },
   {
    "duration": 26,
    "start_time": "2022-05-24T19:34:57.141Z"
   },
   {
    "duration": 7,
    "start_time": "2022-05-24T19:34:57.711Z"
   },
   {
    "duration": 7,
    "start_time": "2022-05-24T19:34:59.883Z"
   },
   {
    "duration": 20,
    "start_time": "2022-05-24T19:35:01.149Z"
   },
   {
    "duration": 5,
    "start_time": "2022-05-24T19:48:45.620Z"
   },
   {
    "duration": 981,
    "start_time": "2022-05-24T19:48:47.616Z"
   },
   {
    "duration": 19,
    "start_time": "2022-05-24T20:00:33.360Z"
   },
   {
    "duration": 1039,
    "start_time": "2022-05-24T20:01:04.437Z"
   },
   {
    "duration": 277,
    "start_time": "2022-05-24T20:02:55.321Z"
   },
   {
    "duration": 34,
    "start_time": "2022-05-24T20:03:26.218Z"
   },
   {
    "duration": 23,
    "start_time": "2022-05-24T20:04:07.319Z"
   },
   {
    "duration": 272,
    "start_time": "2022-05-24T20:04:12.615Z"
   },
   {
    "duration": 22,
    "start_time": "2022-05-24T20:04:22.673Z"
   },
   {
    "duration": 41,
    "start_time": "2022-05-24T20:04:55.131Z"
   },
   {
    "duration": 62,
    "start_time": "2022-05-24T20:05:00.716Z"
   },
   {
    "duration": 399,
    "start_time": "2022-05-24T20:05:08.548Z"
   },
   {
    "duration": 858,
    "start_time": "2022-05-24T20:05:23.147Z"
   },
   {
    "duration": 283,
    "start_time": "2022-05-24T20:09:26.041Z"
   },
   {
    "duration": 279,
    "start_time": "2022-05-24T20:10:09.073Z"
   },
   {
    "duration": 49,
    "start_time": "2022-05-24T20:10:17.231Z"
   },
   {
    "duration": 1028,
    "start_time": "2022-05-24T20:10:32.631Z"
   },
   {
    "duration": 5,
    "start_time": "2022-05-24T20:14:35.545Z"
   },
   {
    "duration": 11,
    "start_time": "2022-05-24T20:14:38.243Z"
   },
   {
    "duration": 1503,
    "start_time": "2022-05-25T07:39:38.353Z"
   },
   {
    "duration": 1651,
    "start_time": "2022-05-25T07:39:42.219Z"
   },
   {
    "duration": 21,
    "start_time": "2022-05-25T07:39:44.052Z"
   },
   {
    "duration": 30,
    "start_time": "2022-05-25T07:39:44.623Z"
   },
   {
    "duration": 13,
    "start_time": "2022-05-25T07:39:46.065Z"
   },
   {
    "duration": 42,
    "start_time": "2022-05-25T07:39:46.561Z"
   },
   {
    "duration": 11,
    "start_time": "2022-05-25T07:39:48.629Z"
   },
   {
    "duration": 25,
    "start_time": "2022-05-25T07:39:49.013Z"
   },
   {
    "duration": 16,
    "start_time": "2022-05-25T07:39:50.280Z"
   },
   {
    "duration": 11,
    "start_time": "2022-05-25T07:39:50.513Z"
   },
   {
    "duration": 21,
    "start_time": "2022-05-25T07:39:52.784Z"
   },
   {
    "duration": 14,
    "start_time": "2022-05-25T07:39:56.809Z"
   },
   {
    "duration": 5,
    "start_time": "2022-05-25T07:40:05.202Z"
   },
   {
    "duration": 231,
    "start_time": "2022-05-25T07:40:35.431Z"
   },
   {
    "duration": 7,
    "start_time": "2022-05-25T07:40:38.018Z"
   },
   {
    "duration": 93,
    "start_time": "2022-05-25T07:40:39.474Z"
   },
   {
    "duration": 14,
    "start_time": "2022-05-25T07:40:41.902Z"
   },
   {
    "duration": 182,
    "start_time": "2022-05-25T07:41:28.327Z"
   },
   {
    "duration": 40,
    "start_time": "2022-05-25T07:41:31.709Z"
   },
   {
    "duration": 23,
    "start_time": "2022-05-25T07:41:32.106Z"
   },
   {
    "duration": 16,
    "start_time": "2022-05-25T07:41:32.517Z"
   },
   {
    "duration": 9,
    "start_time": "2022-05-25T07:41:33.131Z"
   },
   {
    "duration": 28,
    "start_time": "2022-05-25T07:41:41.778Z"
   },
   {
    "duration": 17,
    "start_time": "2022-05-25T07:41:42.441Z"
   },
   {
    "duration": 142,
    "start_time": "2022-05-25T07:41:45.837Z"
   },
   {
    "duration": 4,
    "start_time": "2022-05-25T07:41:46.416Z"
   },
   {
    "duration": 139,
    "start_time": "2022-05-25T07:41:47.403Z"
   },
   {
    "duration": 15,
    "start_time": "2022-05-25T07:42:31.381Z"
   },
   {
    "duration": 9,
    "start_time": "2022-05-25T07:42:40.449Z"
   },
   {
    "duration": 6,
    "start_time": "2022-05-25T07:43:51.098Z"
   },
   {
    "duration": 6,
    "start_time": "2022-05-25T07:44:05.111Z"
   },
   {
    "duration": 6,
    "start_time": "2022-05-25T07:44:22.307Z"
   },
   {
    "duration": 1222,
    "start_time": "2022-05-25T07:49:38.914Z"
   },
   {
    "duration": 527,
    "start_time": "2022-05-25T07:49:40.138Z"
   },
   {
    "duration": 20,
    "start_time": "2022-05-25T07:49:40.667Z"
   },
   {
    "duration": 60,
    "start_time": "2022-05-25T07:49:40.690Z"
   },
   {
    "duration": 12,
    "start_time": "2022-05-25T07:49:40.753Z"
   },
   {
    "duration": 34,
    "start_time": "2022-05-25T07:49:40.767Z"
   },
   {
    "duration": 11,
    "start_time": "2022-05-25T07:49:41.960Z"
   },
   {
    "duration": 20,
    "start_time": "2022-05-25T07:49:42.261Z"
   },
   {
    "duration": 10,
    "start_time": "2022-05-25T07:49:42.862Z"
   },
   {
    "duration": 11,
    "start_time": "2022-05-25T07:49:43.022Z"
   },
   {
    "duration": 15,
    "start_time": "2022-05-25T07:49:43.553Z"
   },
   {
    "duration": 12,
    "start_time": "2022-05-25T07:49:43.747Z"
   },
   {
    "duration": 6,
    "start_time": "2022-05-25T07:49:44.706Z"
   },
   {
    "duration": 233,
    "start_time": "2022-05-25T07:49:46.046Z"
   },
   {
    "duration": 6,
    "start_time": "2022-05-25T07:49:46.438Z"
   },
   {
    "duration": 86,
    "start_time": "2022-05-25T07:49:48.587Z"
   },
   {
    "duration": 5,
    "start_time": "2022-05-25T07:49:48.922Z"
   },
   {
    "duration": 158,
    "start_time": "2022-05-25T07:49:49.873Z"
   },
   {
    "duration": 43,
    "start_time": "2022-05-25T07:49:52.308Z"
   },
   {
    "duration": 19,
    "start_time": "2022-05-25T07:49:52.714Z"
   },
   {
    "duration": 25,
    "start_time": "2022-05-25T07:49:53.274Z"
   },
   {
    "duration": 12,
    "start_time": "2022-05-25T07:49:55.103Z"
   },
   {
    "duration": 23,
    "start_time": "2022-05-25T07:50:01.278Z"
   },
   {
    "duration": 5,
    "start_time": "2022-05-25T07:50:15.303Z"
   },
   {
    "duration": 984,
    "start_time": "2022-05-25T07:51:29.651Z"
   },
   {
    "duration": 497,
    "start_time": "2022-05-25T07:51:42.856Z"
   },
   {
    "duration": 6,
    "start_time": "2022-05-25T07:51:49.302Z"
   },
   {
    "duration": 12,
    "start_time": "2022-05-25T07:52:46.796Z"
   },
   {
    "duration": 4,
    "start_time": "2022-05-25T07:53:25.518Z"
   },
   {
    "duration": 6,
    "start_time": "2022-05-25T07:53:36.674Z"
   },
   {
    "duration": 201,
    "start_time": "2022-05-25T07:54:06.344Z"
   },
   {
    "duration": 9,
    "start_time": "2022-05-25T07:54:08.580Z"
   },
   {
    "duration": 134,
    "start_time": "2022-05-25T07:54:10.268Z"
   },
   {
    "duration": 6,
    "start_time": "2022-05-25T07:54:11.460Z"
   },
   {
    "duration": 92,
    "start_time": "2022-05-25T07:54:15.349Z"
   },
   {
    "duration": 42,
    "start_time": "2022-05-25T07:54:24.811Z"
   },
   {
    "duration": 7,
    "start_time": "2022-05-25T07:54:36.017Z"
   },
   {
    "duration": 48,
    "start_time": "2022-05-25T07:57:49.618Z"
   },
   {
    "duration": 22,
    "start_time": "2022-05-25T07:58:14.403Z"
   },
   {
    "duration": 30,
    "start_time": "2022-05-25T07:59:22.810Z"
   },
   {
    "duration": 1283,
    "start_time": "2022-05-25T07:59:43.264Z"
   },
   {
    "duration": 683,
    "start_time": "2022-05-25T07:59:44.550Z"
   },
   {
    "duration": 18,
    "start_time": "2022-05-25T07:59:45.235Z"
   },
   {
    "duration": 31,
    "start_time": "2022-05-25T07:59:45.255Z"
   },
   {
    "duration": 23,
    "start_time": "2022-05-25T07:59:48.069Z"
   },
   {
    "duration": 35,
    "start_time": "2022-05-25T07:59:48.312Z"
   },
   {
    "duration": 10,
    "start_time": "2022-05-25T07:59:51.661Z"
   },
   {
    "duration": 164,
    "start_time": "2022-05-25T07:59:52.379Z"
   },
   {
    "duration": 61,
    "start_time": "2022-05-25T08:00:28.270Z"
   },
   {
    "duration": 9,
    "start_time": "2022-05-25T08:11:55.820Z"
   },
   {
    "duration": 10,
    "start_time": "2022-05-25T08:12:23.461Z"
   },
   {
    "duration": 5,
    "start_time": "2022-05-25T08:12:30.004Z"
   },
   {
    "duration": 601,
    "start_time": "2022-05-25T08:12:30.664Z"
   },
   {
    "duration": 20,
    "start_time": "2022-05-25T08:12:31.267Z"
   },
   {
    "duration": 110,
    "start_time": "2022-05-25T08:12:31.289Z"
   },
   {
    "duration": 25,
    "start_time": "2022-05-25T08:12:31.697Z"
   },
   {
    "duration": 43,
    "start_time": "2022-05-25T08:12:31.877Z"
   },
   {
    "duration": 13,
    "start_time": "2022-05-25T08:12:32.700Z"
   },
   {
    "duration": 22,
    "start_time": "2022-05-25T08:12:32.845Z"
   },
   {
    "duration": 11,
    "start_time": "2022-05-25T08:12:33.352Z"
   },
   {
    "duration": 13,
    "start_time": "2022-05-25T08:12:33.534Z"
   },
   {
    "duration": 24,
    "start_time": "2022-05-25T08:12:33.976Z"
   },
   {
    "duration": 17,
    "start_time": "2022-05-25T08:12:36.947Z"
   },
   {
    "duration": 17,
    "start_time": "2022-05-25T08:12:37.273Z"
   },
   {
    "duration": 7,
    "start_time": "2022-05-25T08:12:39.660Z"
   },
   {
    "duration": 266,
    "start_time": "2022-05-25T08:12:42.163Z"
   },
   {
    "duration": 6,
    "start_time": "2022-05-25T08:12:42.639Z"
   },
   {
    "duration": 83,
    "start_time": "2022-05-25T08:12:44.965Z"
   },
   {
    "duration": 5,
    "start_time": "2022-05-25T08:12:45.359Z"
   },
   {
    "duration": 179,
    "start_time": "2022-05-25T08:12:46.393Z"
   },
   {
    "duration": 42,
    "start_time": "2022-05-25T08:12:49.167Z"
   },
   {
    "duration": 28,
    "start_time": "2022-05-25T08:12:49.582Z"
   },
   {
    "duration": 33,
    "start_time": "2022-05-25T08:12:49.978Z"
   },
   {
    "duration": 7,
    "start_time": "2022-05-25T08:12:54.164Z"
   },
   {
    "duration": 12,
    "start_time": "2022-05-25T08:12:55.028Z"
   },
   {
    "duration": 15,
    "start_time": "2022-05-25T08:12:55.958Z"
   },
   {
    "duration": 10,
    "start_time": "2022-05-25T08:12:58.905Z"
   },
   {
    "duration": 3,
    "start_time": "2022-05-25T08:12:59.223Z"
   },
   {
    "duration": 4,
    "start_time": "2022-05-25T08:12:59.840Z"
   },
   {
    "duration": 13,
    "start_time": "2022-05-25T08:16:54.413Z"
   },
   {
    "duration": 18,
    "start_time": "2022-05-25T08:18:08.177Z"
   },
   {
    "duration": 10,
    "start_time": "2022-05-25T08:18:17.708Z"
   },
   {
    "duration": 5,
    "start_time": "2022-05-25T08:19:22.409Z"
   },
   {
    "duration": 15,
    "start_time": "2022-05-25T08:19:48.167Z"
   },
   {
    "duration": 10,
    "start_time": "2022-05-25T08:20:03.363Z"
   },
   {
    "duration": 14,
    "start_time": "2022-05-25T08:20:35.128Z"
   },
   {
    "duration": 24,
    "start_time": "2022-05-25T08:20:49.702Z"
   },
   {
    "duration": 17,
    "start_time": "2022-05-25T08:21:00.364Z"
   },
   {
    "duration": 19,
    "start_time": "2022-05-25T08:21:28.504Z"
   },
   {
    "duration": 3,
    "start_time": "2022-05-25T08:25:20.675Z"
   },
   {
    "duration": 600,
    "start_time": "2022-05-25T08:25:21.016Z"
   },
   {
    "duration": 15,
    "start_time": "2022-05-25T08:25:21.618Z"
   },
   {
    "duration": 19,
    "start_time": "2022-05-25T08:25:21.669Z"
   },
   {
    "duration": 37,
    "start_time": "2022-05-25T08:25:21.812Z"
   },
   {
    "duration": 22,
    "start_time": "2022-05-25T08:25:22.716Z"
   },
   {
    "duration": 14,
    "start_time": "2022-05-25T08:25:23.045Z"
   },
   {
    "duration": 37,
    "start_time": "2022-05-25T08:25:23.212Z"
   },
   {
    "duration": 10,
    "start_time": "2022-05-25T08:25:24.055Z"
   },
   {
    "duration": 16,
    "start_time": "2022-05-25T08:25:24.408Z"
   },
   {
    "duration": 27,
    "start_time": "2022-05-25T08:25:24.574Z"
   },
   {
    "duration": 13,
    "start_time": "2022-05-25T08:25:25.148Z"
   },
   {
    "duration": 14,
    "start_time": "2022-05-25T08:25:25.328Z"
   },
   {
    "duration": 16,
    "start_time": "2022-05-25T08:25:25.866Z"
   },
   {
    "duration": 16,
    "start_time": "2022-05-25T08:25:26.058Z"
   },
   {
    "duration": 11,
    "start_time": "2022-05-25T08:25:26.248Z"
   },
   {
    "duration": 6,
    "start_time": "2022-05-25T08:25:26.784Z"
   },
   {
    "duration": 272,
    "start_time": "2022-05-25T08:25:27.844Z"
   },
   {
    "duration": 9,
    "start_time": "2022-05-25T08:25:28.176Z"
   },
   {
    "duration": 114,
    "start_time": "2022-05-25T08:25:28.521Z"
   },
   {
    "duration": 6,
    "start_time": "2022-05-25T08:25:28.868Z"
   },
   {
    "duration": 114,
    "start_time": "2022-05-25T08:25:29.617Z"
   },
   {
    "duration": 27,
    "start_time": "2022-05-25T08:25:30.927Z"
   },
   {
    "duration": 28,
    "start_time": "2022-05-25T08:25:31.308Z"
   },
   {
    "duration": 19,
    "start_time": "2022-05-25T08:25:31.700Z"
   },
   {
    "duration": 11,
    "start_time": "2022-05-25T08:25:32.076Z"
   },
   {
    "duration": 14,
    "start_time": "2022-05-25T08:25:32.264Z"
   },
   {
    "duration": 16,
    "start_time": "2022-05-25T08:25:32.450Z"
   },
   {
    "duration": 4,
    "start_time": "2022-05-25T08:25:33.031Z"
   },
   {
    "duration": 5,
    "start_time": "2022-05-25T08:25:33.221Z"
   },
   {
    "duration": 19,
    "start_time": "2022-05-25T08:25:33.574Z"
   },
   {
    "duration": 7,
    "start_time": "2022-05-25T08:25:33.931Z"
   },
   {
    "duration": 12,
    "start_time": "2022-05-25T08:25:34.516Z"
   },
   {
    "duration": 101,
    "start_time": "2022-05-25T08:25:35.125Z"
   },
   {
    "duration": 29,
    "start_time": "2022-05-25T08:25:35.323Z"
   },
   {
    "duration": 15,
    "start_time": "2022-05-25T08:25:35.678Z"
   },
   {
    "duration": 5,
    "start_time": "2022-05-25T08:25:36.246Z"
   },
   {
    "duration": 17,
    "start_time": "2022-05-25T08:25:36.420Z"
   },
   {
    "duration": 11,
    "start_time": "2022-05-25T08:26:15.412Z"
   },
   {
    "duration": 1315,
    "start_time": "2022-05-25T08:26:15.985Z"
   },
   {
    "duration": 6,
    "start_time": "2022-05-25T08:26:27.750Z"
   },
   {
    "duration": 14,
    "start_time": "2022-05-25T08:26:33.131Z"
   },
   {
    "duration": 52,
    "start_time": "2022-05-25T08:33:24.857Z"
   },
   {
    "duration": 311,
    "start_time": "2022-05-25T08:37:20.165Z"
   },
   {
    "duration": 138,
    "start_time": "2022-05-25T08:37:34.616Z"
   },
   {
    "duration": 123,
    "start_time": "2022-05-25T08:37:42.944Z"
   },
   {
    "duration": 47,
    "start_time": "2022-05-25T08:43:06.382Z"
   },
   {
    "duration": 25,
    "start_time": "2022-05-25T08:43:22.222Z"
   },
   {
    "duration": 39,
    "start_time": "2022-05-25T08:43:50.990Z"
   },
   {
    "duration": 53,
    "start_time": "2022-05-26T00:31:16.289Z"
   },
   {
    "duration": 1057,
    "start_time": "2022-05-26T00:31:21.369Z"
   },
   {
    "duration": 425,
    "start_time": "2022-05-26T00:31:22.428Z"
   },
   {
    "duration": 21,
    "start_time": "2022-05-26T00:31:22.855Z"
   },
   {
    "duration": 18,
    "start_time": "2022-05-26T00:31:22.877Z"
   },
   {
    "duration": 21,
    "start_time": "2022-05-26T00:31:22.897Z"
   },
   {
    "duration": 11,
    "start_time": "2022-05-26T00:31:22.920Z"
   },
   {
    "duration": 33,
    "start_time": "2022-05-26T00:31:22.932Z"
   },
   {
    "duration": 18,
    "start_time": "2022-05-26T00:31:22.966Z"
   },
   {
    "duration": 9,
    "start_time": "2022-05-26T00:31:22.985Z"
   },
   {
    "duration": 11,
    "start_time": "2022-05-26T00:31:22.996Z"
   },
   {
    "duration": 52,
    "start_time": "2022-05-26T00:31:23.009Z"
   },
   {
    "duration": 9,
    "start_time": "2022-05-26T00:31:23.063Z"
   },
   {
    "duration": 15,
    "start_time": "2022-05-26T00:31:23.073Z"
   },
   {
    "duration": 13,
    "start_time": "2022-05-26T00:31:23.091Z"
   },
   {
    "duration": 20,
    "start_time": "2022-05-26T00:31:23.105Z"
   },
   {
    "duration": 12,
    "start_time": "2022-05-26T00:31:23.126Z"
   },
   {
    "duration": 18,
    "start_time": "2022-05-26T00:31:23.140Z"
   },
   {
    "duration": 201,
    "start_time": "2022-05-26T00:31:23.165Z"
   },
   {
    "duration": 5,
    "start_time": "2022-05-26T00:31:23.368Z"
   },
   {
    "duration": 87,
    "start_time": "2022-05-26T00:31:23.374Z"
   },
   {
    "duration": 5,
    "start_time": "2022-05-26T00:31:23.465Z"
   },
   {
    "duration": 147,
    "start_time": "2022-05-26T00:31:23.472Z"
   },
   {
    "duration": 43,
    "start_time": "2022-05-26T00:31:23.621Z"
   },
   {
    "duration": 17,
    "start_time": "2022-05-26T00:31:23.666Z"
   },
   {
    "duration": 15,
    "start_time": "2022-05-26T00:31:23.685Z"
   },
   {
    "duration": 7,
    "start_time": "2022-05-26T00:31:23.702Z"
   },
   {
    "duration": 14,
    "start_time": "2022-05-26T00:31:23.711Z"
   },
   {
    "duration": 29,
    "start_time": "2022-05-26T00:31:23.726Z"
   },
   {
    "duration": 10,
    "start_time": "2022-05-26T00:31:23.757Z"
   },
   {
    "duration": 6,
    "start_time": "2022-05-26T00:31:23.768Z"
   },
   {
    "duration": 14,
    "start_time": "2022-05-26T00:31:23.775Z"
   },
   {
    "duration": 121,
    "start_time": "2022-05-26T00:31:23.791Z"
   },
   {
    "duration": 0,
    "start_time": "2022-05-26T00:31:23.914Z"
   },
   {
    "duration": 0,
    "start_time": "2022-05-26T00:31:23.915Z"
   },
   {
    "duration": 0,
    "start_time": "2022-05-26T00:31:23.916Z"
   },
   {
    "duration": 0,
    "start_time": "2022-05-26T00:31:23.917Z"
   },
   {
    "duration": 0,
    "start_time": "2022-05-26T00:31:23.918Z"
   },
   {
    "duration": 0,
    "start_time": "2022-05-26T00:31:23.919Z"
   },
   {
    "duration": 0,
    "start_time": "2022-05-26T00:31:23.920Z"
   },
   {
    "duration": 0,
    "start_time": "2022-05-26T00:31:23.921Z"
   },
   {
    "duration": 0,
    "start_time": "2022-05-26T00:31:23.923Z"
   },
   {
    "duration": 0,
    "start_time": "2022-05-26T00:31:23.924Z"
   },
   {
    "duration": 0,
    "start_time": "2022-05-26T00:31:23.925Z"
   },
   {
    "duration": 0,
    "start_time": "2022-05-26T00:31:23.926Z"
   },
   {
    "duration": 0,
    "start_time": "2022-05-26T00:31:23.952Z"
   },
   {
    "duration": 0,
    "start_time": "2022-05-26T00:31:23.953Z"
   },
   {
    "duration": 0,
    "start_time": "2022-05-26T00:31:23.953Z"
   },
   {
    "duration": 0,
    "start_time": "2022-05-26T00:31:23.954Z"
   },
   {
    "duration": 4,
    "start_time": "2022-05-26T00:34:13.906Z"
   },
   {
    "duration": 4,
    "start_time": "2022-05-26T00:34:16.689Z"
   },
   {
    "duration": 5,
    "start_time": "2022-05-26T00:37:50.235Z"
   },
   {
    "duration": 546,
    "start_time": "2022-05-26T00:39:15.804Z"
   },
   {
    "duration": 15,
    "start_time": "2022-05-26T00:41:06.916Z"
   },
   {
    "duration": 7,
    "start_time": "2022-05-26T00:41:08.660Z"
   },
   {
    "duration": 508,
    "start_time": "2022-05-26T00:41:12.305Z"
   },
   {
    "duration": 13,
    "start_time": "2022-05-26T00:41:13.137Z"
   },
   {
    "duration": 1327,
    "start_time": "2022-05-26T07:39:52.574Z"
   },
   {
    "duration": 977,
    "start_time": "2022-05-26T07:39:53.903Z"
   },
   {
    "duration": 17,
    "start_time": "2022-05-26T07:39:54.882Z"
   },
   {
    "duration": 21,
    "start_time": "2022-05-26T07:39:54.901Z"
   },
   {
    "duration": 39,
    "start_time": "2022-05-26T07:39:54.924Z"
   },
   {
    "duration": 14,
    "start_time": "2022-05-26T07:39:54.965Z"
   },
   {
    "duration": 31,
    "start_time": "2022-05-26T07:39:54.981Z"
   },
   {
    "duration": 27,
    "start_time": "2022-05-26T07:39:55.013Z"
   },
   {
    "duration": 17,
    "start_time": "2022-05-26T07:39:55.058Z"
   },
   {
    "duration": 25,
    "start_time": "2022-05-26T07:39:55.077Z"
   },
   {
    "duration": 21,
    "start_time": "2022-05-26T07:39:55.103Z"
   },
   {
    "duration": 11,
    "start_time": "2022-05-26T07:39:55.126Z"
   },
   {
    "duration": 42,
    "start_time": "2022-05-26T07:39:55.140Z"
   },
   {
    "duration": 19,
    "start_time": "2022-05-26T07:39:55.188Z"
   },
   {
    "duration": 29,
    "start_time": "2022-05-26T07:39:55.209Z"
   },
   {
    "duration": 21,
    "start_time": "2022-05-26T07:39:55.240Z"
   },
   {
    "duration": 12,
    "start_time": "2022-05-26T07:39:55.263Z"
   },
   {
    "duration": 227,
    "start_time": "2022-05-26T07:39:55.277Z"
   },
   {
    "duration": 5,
    "start_time": "2022-05-26T07:39:55.506Z"
   },
   {
    "duration": 98,
    "start_time": "2022-05-26T07:39:55.513Z"
   },
   {
    "duration": 6,
    "start_time": "2022-05-26T07:39:55.612Z"
   },
   {
    "duration": 160,
    "start_time": "2022-05-26T07:39:55.620Z"
   },
   {
    "duration": 35,
    "start_time": "2022-05-26T07:39:55.782Z"
   },
   {
    "duration": 40,
    "start_time": "2022-05-26T07:39:55.819Z"
   },
   {
    "duration": 20,
    "start_time": "2022-05-26T07:39:55.861Z"
   },
   {
    "duration": 15,
    "start_time": "2022-05-26T07:39:55.882Z"
   },
   {
    "duration": 15,
    "start_time": "2022-05-26T07:39:55.899Z"
   },
   {
    "duration": 25,
    "start_time": "2022-05-26T07:39:55.916Z"
   },
   {
    "duration": 4,
    "start_time": "2022-05-26T07:39:55.961Z"
   },
   {
    "duration": 20,
    "start_time": "2022-05-26T07:39:55.968Z"
   },
   {
    "duration": 24,
    "start_time": "2022-05-26T07:39:55.991Z"
   },
   {
    "duration": 129,
    "start_time": "2022-05-26T07:39:56.017Z"
   },
   {
    "duration": 0,
    "start_time": "2022-05-26T07:39:56.149Z"
   },
   {
    "duration": 0,
    "start_time": "2022-05-26T07:39:56.150Z"
   },
   {
    "duration": 0,
    "start_time": "2022-05-26T07:39:56.152Z"
   },
   {
    "duration": 0,
    "start_time": "2022-05-26T07:39:56.153Z"
   },
   {
    "duration": 0,
    "start_time": "2022-05-26T07:39:56.159Z"
   },
   {
    "duration": 0,
    "start_time": "2022-05-26T07:39:56.160Z"
   },
   {
    "duration": 0,
    "start_time": "2022-05-26T07:39:56.162Z"
   },
   {
    "duration": 0,
    "start_time": "2022-05-26T07:39:56.163Z"
   },
   {
    "duration": 0,
    "start_time": "2022-05-26T07:39:56.165Z"
   },
   {
    "duration": 0,
    "start_time": "2022-05-26T07:39:56.166Z"
   },
   {
    "duration": 0,
    "start_time": "2022-05-26T07:39:56.167Z"
   },
   {
    "duration": 0,
    "start_time": "2022-05-26T07:39:56.168Z"
   },
   {
    "duration": 0,
    "start_time": "2022-05-26T07:39:56.170Z"
   },
   {
    "duration": 0,
    "start_time": "2022-05-26T07:39:56.171Z"
   },
   {
    "duration": 0,
    "start_time": "2022-05-26T07:39:56.173Z"
   },
   {
    "duration": 0,
    "start_time": "2022-05-26T07:39:56.174Z"
   },
   {
    "duration": 0,
    "start_time": "2022-05-26T07:39:56.175Z"
   },
   {
    "duration": 3,
    "start_time": "2022-05-26T07:40:37.984Z"
   },
   {
    "duration": 7,
    "start_time": "2022-05-26T07:41:15.891Z"
   },
   {
    "duration": 1173,
    "start_time": "2022-05-26T07:42:08.477Z"
   },
   {
    "duration": 454,
    "start_time": "2022-05-26T07:42:09.652Z"
   },
   {
    "duration": 16,
    "start_time": "2022-05-26T07:42:10.108Z"
   },
   {
    "duration": 97,
    "start_time": "2022-05-26T07:42:10.125Z"
   },
   {
    "duration": 116,
    "start_time": "2022-05-26T07:42:10.225Z"
   },
   {
    "duration": 117,
    "start_time": "2022-05-26T07:42:10.343Z"
   },
   {
    "duration": 72,
    "start_time": "2022-05-26T07:42:10.462Z"
   },
   {
    "duration": 28,
    "start_time": "2022-05-26T07:42:10.535Z"
   },
   {
    "duration": 42,
    "start_time": "2022-05-26T07:42:10.565Z"
   },
   {
    "duration": 37,
    "start_time": "2022-05-26T07:42:10.608Z"
   },
   {
    "duration": 35,
    "start_time": "2022-05-26T07:42:10.647Z"
   },
   {
    "duration": 25,
    "start_time": "2022-05-26T07:42:10.684Z"
   },
   {
    "duration": 37,
    "start_time": "2022-05-26T07:42:10.711Z"
   },
   {
    "duration": 31,
    "start_time": "2022-05-26T07:42:10.753Z"
   },
   {
    "duration": 37,
    "start_time": "2022-05-26T07:42:10.786Z"
   },
   {
    "duration": 37,
    "start_time": "2022-05-26T07:42:10.826Z"
   },
   {
    "duration": 20,
    "start_time": "2022-05-26T07:42:10.866Z"
   },
   {
    "duration": 259,
    "start_time": "2022-05-26T07:42:10.888Z"
   },
   {
    "duration": 14,
    "start_time": "2022-05-26T07:42:11.148Z"
   },
   {
    "duration": 93,
    "start_time": "2022-05-26T07:42:11.163Z"
   },
   {
    "duration": 5,
    "start_time": "2022-05-26T07:42:11.258Z"
   },
   {
    "duration": 160,
    "start_time": "2022-05-26T07:42:11.264Z"
   },
   {
    "duration": 44,
    "start_time": "2022-05-26T07:42:11.426Z"
   },
   {
    "duration": 19,
    "start_time": "2022-05-26T07:42:11.471Z"
   },
   {
    "duration": 17,
    "start_time": "2022-05-26T07:42:11.492Z"
   },
   {
    "duration": 8,
    "start_time": "2022-05-26T07:42:11.511Z"
   },
   {
    "duration": 40,
    "start_time": "2022-05-26T07:42:11.520Z"
   },
   {
    "duration": 15,
    "start_time": "2022-05-26T07:42:11.562Z"
   },
   {
    "duration": 6,
    "start_time": "2022-05-26T07:42:11.578Z"
   },
   {
    "duration": 8,
    "start_time": "2022-05-26T07:42:11.586Z"
   },
   {
    "duration": 19,
    "start_time": "2022-05-26T07:42:11.596Z"
   },
   {
    "duration": 4,
    "start_time": "2022-05-26T07:42:11.617Z"
   },
   {
    "duration": 40,
    "start_time": "2022-05-26T07:42:11.622Z"
   },
   {
    "duration": 10,
    "start_time": "2022-05-26T07:42:11.664Z"
   },
   {
    "duration": 11,
    "start_time": "2022-05-26T07:42:11.675Z"
   },
   {
    "duration": 123,
    "start_time": "2022-05-26T07:42:11.688Z"
   },
   {
    "duration": 0,
    "start_time": "2022-05-26T07:42:11.812Z"
   },
   {
    "duration": 0,
    "start_time": "2022-05-26T07:42:11.814Z"
   },
   {
    "duration": 0,
    "start_time": "2022-05-26T07:42:11.815Z"
   },
   {
    "duration": 0,
    "start_time": "2022-05-26T07:42:11.815Z"
   },
   {
    "duration": 0,
    "start_time": "2022-05-26T07:42:11.817Z"
   },
   {
    "duration": 0,
    "start_time": "2022-05-26T07:42:11.818Z"
   },
   {
    "duration": 0,
    "start_time": "2022-05-26T07:42:11.819Z"
   },
   {
    "duration": 0,
    "start_time": "2022-05-26T07:42:11.820Z"
   },
   {
    "duration": 0,
    "start_time": "2022-05-26T07:42:11.821Z"
   },
   {
    "duration": 0,
    "start_time": "2022-05-26T07:42:11.822Z"
   },
   {
    "duration": 0,
    "start_time": "2022-05-26T07:42:11.823Z"
   },
   {
    "duration": 0,
    "start_time": "2022-05-26T07:42:11.824Z"
   },
   {
    "duration": 0,
    "start_time": "2022-05-26T07:42:11.825Z"
   },
   {
    "duration": 47,
    "start_time": "2022-05-26T07:43:06.828Z"
   },
   {
    "duration": 498,
    "start_time": "2022-05-26T07:43:23.932Z"
   },
   {
    "duration": 650,
    "start_time": "2022-05-26T07:43:47.880Z"
   },
   {
    "duration": 8,
    "start_time": "2022-05-26T07:43:59.020Z"
   },
   {
    "duration": 1153,
    "start_time": "2022-05-26T07:46:15.862Z"
   },
   {
    "duration": 537,
    "start_time": "2022-05-26T07:46:17.017Z"
   },
   {
    "duration": 22,
    "start_time": "2022-05-26T07:46:17.557Z"
   },
   {
    "duration": 26,
    "start_time": "2022-05-26T07:46:17.583Z"
   },
   {
    "duration": 53,
    "start_time": "2022-05-26T07:46:17.612Z"
   },
   {
    "duration": 14,
    "start_time": "2022-05-26T07:46:17.667Z"
   },
   {
    "duration": 25,
    "start_time": "2022-05-26T07:46:17.683Z"
   },
   {
    "duration": 52,
    "start_time": "2022-05-26T07:46:17.709Z"
   },
   {
    "duration": 10,
    "start_time": "2022-05-26T07:46:17.763Z"
   },
   {
    "duration": 17,
    "start_time": "2022-05-26T07:46:17.775Z"
   },
   {
    "duration": 27,
    "start_time": "2022-05-26T07:46:17.794Z"
   },
   {
    "duration": 38,
    "start_time": "2022-05-26T07:46:17.823Z"
   },
   {
    "duration": 24,
    "start_time": "2022-05-26T07:46:17.866Z"
   },
   {
    "duration": 30,
    "start_time": "2022-05-26T07:46:17.893Z"
   },
   {
    "duration": 35,
    "start_time": "2022-05-26T07:46:17.925Z"
   },
   {
    "duration": 14,
    "start_time": "2022-05-26T07:46:17.962Z"
   },
   {
    "duration": 8,
    "start_time": "2022-05-26T07:46:17.978Z"
   },
   {
    "duration": 245,
    "start_time": "2022-05-26T07:46:17.987Z"
   },
   {
    "duration": 6,
    "start_time": "2022-05-26T07:46:18.233Z"
   },
   {
    "duration": 105,
    "start_time": "2022-05-26T07:46:18.241Z"
   },
   {
    "duration": 12,
    "start_time": "2022-05-26T07:46:18.347Z"
   },
   {
    "duration": 173,
    "start_time": "2022-05-26T07:46:18.361Z"
   },
   {
    "duration": 39,
    "start_time": "2022-05-26T07:46:18.536Z"
   },
   {
    "duration": 20,
    "start_time": "2022-05-26T07:46:18.577Z"
   },
   {
    "duration": 18,
    "start_time": "2022-05-26T07:46:18.599Z"
   },
   {
    "duration": 16,
    "start_time": "2022-05-26T07:46:18.619Z"
   },
   {
    "duration": 33,
    "start_time": "2022-05-26T07:46:18.637Z"
   },
   {
    "duration": 23,
    "start_time": "2022-05-26T07:46:18.672Z"
   },
   {
    "duration": 8,
    "start_time": "2022-05-26T07:46:18.697Z"
   },
   {
    "duration": 16,
    "start_time": "2022-05-26T07:46:18.708Z"
   },
   {
    "duration": 20,
    "start_time": "2022-05-26T07:46:18.725Z"
   },
   {
    "duration": 12,
    "start_time": "2022-05-26T07:46:18.747Z"
   },
   {
    "duration": 43,
    "start_time": "2022-05-26T07:46:18.763Z"
   },
   {
    "duration": 15,
    "start_time": "2022-05-26T07:46:18.808Z"
   },
   {
    "duration": 9,
    "start_time": "2022-05-26T07:46:18.825Z"
   },
   {
    "duration": 16,
    "start_time": "2022-05-26T07:46:18.836Z"
   },
   {
    "duration": 105,
    "start_time": "2022-05-26T07:46:18.853Z"
   },
   {
    "duration": 23,
    "start_time": "2022-05-26T07:46:18.960Z"
   },
   {
    "duration": 17,
    "start_time": "2022-05-26T07:46:18.985Z"
   },
   {
    "duration": 135,
    "start_time": "2022-05-26T07:46:19.006Z"
   },
   {
    "duration": 0,
    "start_time": "2022-05-26T07:46:19.142Z"
   },
   {
    "duration": 0,
    "start_time": "2022-05-26T07:46:19.143Z"
   },
   {
    "duration": 0,
    "start_time": "2022-05-26T07:46:19.144Z"
   },
   {
    "duration": 0,
    "start_time": "2022-05-26T07:46:19.145Z"
   },
   {
    "duration": 0,
    "start_time": "2022-05-26T07:46:19.146Z"
   },
   {
    "duration": 0,
    "start_time": "2022-05-26T07:46:19.147Z"
   },
   {
    "duration": 0,
    "start_time": "2022-05-26T07:46:19.159Z"
   },
   {
    "duration": 0,
    "start_time": "2022-05-26T07:46:19.160Z"
   },
   {
    "duration": 0,
    "start_time": "2022-05-26T07:46:19.161Z"
   },
   {
    "duration": 0,
    "start_time": "2022-05-26T07:46:19.162Z"
   },
   {
    "duration": 13,
    "start_time": "2022-05-26T07:48:08.666Z"
   },
   {
    "duration": 3,
    "start_time": "2022-05-26T07:50:35.023Z"
   },
   {
    "duration": 18,
    "start_time": "2022-05-26T07:50:39.983Z"
   },
   {
    "duration": 2,
    "start_time": "2022-05-26T07:52:08.260Z"
   },
   {
    "duration": 6,
    "start_time": "2022-05-26T07:52:13.240Z"
   },
   {
    "duration": 42,
    "start_time": "2022-05-26T07:52:14.779Z"
   },
   {
    "duration": 1166,
    "start_time": "2022-05-26T07:52:20.125Z"
   },
   {
    "duration": 997,
    "start_time": "2022-05-26T07:55:26.877Z"
   },
   {
    "duration": 205,
    "start_time": "2022-05-26T07:56:24.554Z"
   },
   {
    "duration": 846,
    "start_time": "2022-05-26T07:56:57.183Z"
   },
   {
    "duration": 1011,
    "start_time": "2022-05-26T07:57:39.931Z"
   },
   {
    "duration": 1014,
    "start_time": "2022-05-26T07:57:46.584Z"
   },
   {
    "duration": 327,
    "start_time": "2022-05-26T07:58:59.236Z"
   },
   {
    "duration": 220,
    "start_time": "2022-05-26T07:59:35.523Z"
   },
   {
    "duration": 781,
    "start_time": "2022-05-26T08:03:30.544Z"
   },
   {
    "duration": 1978,
    "start_time": "2022-05-26T08:05:03.690Z"
   },
   {
    "duration": 18,
    "start_time": "2022-05-26T08:07:36.751Z"
   },
   {
    "duration": 1733,
    "start_time": "2022-05-26T08:08:09.003Z"
   },
   {
    "duration": 1721,
    "start_time": "2022-05-26T08:08:58.137Z"
   },
   {
    "duration": 1683,
    "start_time": "2022-05-26T08:09:42.070Z"
   },
   {
    "duration": 1540,
    "start_time": "2022-05-26T08:10:17.950Z"
   },
   {
    "duration": 1759,
    "start_time": "2022-05-26T08:10:28.042Z"
   },
   {
    "duration": 1884,
    "start_time": "2022-05-26T08:11:46.157Z"
   },
   {
    "duration": 1740,
    "start_time": "2022-05-26T08:11:58.652Z"
   },
   {
    "duration": 1809,
    "start_time": "2022-05-26T08:12:30.341Z"
   },
   {
    "duration": 1742,
    "start_time": "2022-05-26T08:12:41.438Z"
   },
   {
    "duration": 12,
    "start_time": "2022-05-26T08:13:13.330Z"
   },
   {
    "duration": 1895,
    "start_time": "2022-05-26T08:14:31.932Z"
   },
   {
    "duration": 60,
    "start_time": "2022-05-26T08:20:25.568Z"
   },
   {
    "duration": 1083,
    "start_time": "2022-05-26T08:20:32.506Z"
   },
   {
    "duration": 412,
    "start_time": "2022-05-26T08:20:33.592Z"
   },
   {
    "duration": 14,
    "start_time": "2022-05-26T08:20:34.006Z"
   },
   {
    "duration": 25,
    "start_time": "2022-05-26T08:20:34.022Z"
   },
   {
    "duration": 38,
    "start_time": "2022-05-26T08:20:34.049Z"
   },
   {
    "duration": 14,
    "start_time": "2022-05-26T08:20:34.089Z"
   },
   {
    "duration": 39,
    "start_time": "2022-05-26T08:20:34.105Z"
   },
   {
    "duration": 37,
    "start_time": "2022-05-26T08:20:34.145Z"
   },
   {
    "duration": 30,
    "start_time": "2022-05-26T08:20:34.184Z"
   },
   {
    "duration": 54,
    "start_time": "2022-05-26T08:20:34.217Z"
   },
   {
    "duration": 53,
    "start_time": "2022-05-26T08:20:34.273Z"
   },
   {
    "duration": 38,
    "start_time": "2022-05-26T08:20:34.328Z"
   },
   {
    "duration": 29,
    "start_time": "2022-05-26T08:20:34.367Z"
   },
   {
    "duration": 32,
    "start_time": "2022-05-26T08:20:34.397Z"
   },
   {
    "duration": 26,
    "start_time": "2022-05-26T08:20:34.431Z"
   },
   {
    "duration": 36,
    "start_time": "2022-05-26T08:20:34.459Z"
   },
   {
    "duration": 11,
    "start_time": "2022-05-26T08:20:34.496Z"
   },
   {
    "duration": 213,
    "start_time": "2022-05-26T08:20:34.509Z"
   },
   {
    "duration": 5,
    "start_time": "2022-05-26T08:20:34.724Z"
   },
   {
    "duration": 89,
    "start_time": "2022-05-26T08:20:34.731Z"
   },
   {
    "duration": 5,
    "start_time": "2022-05-26T08:20:34.821Z"
   },
   {
    "duration": 163,
    "start_time": "2022-05-26T08:20:34.828Z"
   },
   {
    "duration": 30,
    "start_time": "2022-05-26T08:20:34.993Z"
   },
   {
    "duration": 18,
    "start_time": "2022-05-26T08:20:35.025Z"
   },
   {
    "duration": 18,
    "start_time": "2022-05-26T08:20:35.059Z"
   },
   {
    "duration": 12,
    "start_time": "2022-05-26T08:20:35.079Z"
   },
   {
    "duration": 27,
    "start_time": "2022-05-26T08:20:35.092Z"
   },
   {
    "duration": 20,
    "start_time": "2022-05-26T08:20:35.123Z"
   },
   {
    "duration": 18,
    "start_time": "2022-05-26T08:20:35.145Z"
   },
   {
    "duration": 15,
    "start_time": "2022-05-26T08:20:35.164Z"
   },
   {
    "duration": 30,
    "start_time": "2022-05-26T08:20:35.180Z"
   },
   {
    "duration": 10,
    "start_time": "2022-05-26T08:20:35.212Z"
   },
   {
    "duration": 27,
    "start_time": "2022-05-26T08:20:35.223Z"
   },
   {
    "duration": 27,
    "start_time": "2022-05-26T08:20:35.251Z"
   },
   {
    "duration": 80,
    "start_time": "2022-05-26T08:20:35.280Z"
   },
   {
    "duration": 86,
    "start_time": "2022-05-26T08:20:35.362Z"
   },
   {
    "duration": 18,
    "start_time": "2022-05-26T08:20:35.449Z"
   },
   {
    "duration": 18,
    "start_time": "2022-05-26T08:20:35.469Z"
   },
   {
    "duration": 18,
    "start_time": "2022-05-26T08:20:35.489Z"
   },
   {
    "duration": 25,
    "start_time": "2022-05-26T08:20:35.509Z"
   },
   {
    "duration": 28,
    "start_time": "2022-05-26T08:20:35.536Z"
   },
   {
    "duration": 15,
    "start_time": "2022-05-26T08:20:35.566Z"
   },
   {
    "duration": 44,
    "start_time": "2022-05-26T08:20:35.582Z"
   },
   {
    "duration": 847,
    "start_time": "2022-05-26T08:20:35.628Z"
   },
   {
    "duration": 1862,
    "start_time": "2022-05-26T08:20:36.477Z"
   },
   {
    "duration": 103,
    "start_time": "2022-05-26T08:20:38.341Z"
   },
   {
    "duration": 95,
    "start_time": "2022-05-26T08:20:38.446Z"
   },
   {
    "duration": 24,
    "start_time": "2022-05-26T08:20:38.542Z"
   },
   {
    "duration": 7,
    "start_time": "2022-05-26T08:20:38.567Z"
   },
   {
    "duration": 18,
    "start_time": "2022-05-26T08:20:38.576Z"
   },
   {
    "duration": 6,
    "start_time": "2022-05-26T08:20:38.596Z"
   },
   {
    "duration": 1827,
    "start_time": "2022-05-26T08:22:53.266Z"
   },
   {
    "duration": 1779,
    "start_time": "2022-05-26T08:23:25.224Z"
   },
   {
    "duration": 1513,
    "start_time": "2022-05-26T08:23:58.880Z"
   },
   {
    "duration": 1725,
    "start_time": "2022-05-26T08:24:26.525Z"
   },
   {
    "duration": 576,
    "start_time": "2022-05-26T08:24:59.239Z"
   },
   {
    "duration": 1654,
    "start_time": "2022-05-26T08:25:15.888Z"
   },
   {
    "duration": 1602,
    "start_time": "2022-05-26T08:25:32.031Z"
   },
   {
    "duration": 1682,
    "start_time": "2022-05-26T08:25:37.224Z"
   },
   {
    "duration": 1620,
    "start_time": "2022-05-26T08:25:49.914Z"
   },
   {
    "duration": 1827,
    "start_time": "2022-05-26T08:27:16.735Z"
   },
   {
    "duration": 1671,
    "start_time": "2022-05-26T08:27:37.341Z"
   },
   {
    "duration": 34,
    "start_time": "2022-05-26T08:28:10.397Z"
   },
   {
    "duration": 1678,
    "start_time": "2022-05-26T08:28:20.267Z"
   },
   {
    "duration": 1821,
    "start_time": "2022-05-26T08:28:40.623Z"
   },
   {
    "duration": 1707,
    "start_time": "2022-05-26T08:28:58.504Z"
   },
   {
    "duration": 1545,
    "start_time": "2022-05-26T08:29:49.394Z"
   },
   {
    "duration": 1609,
    "start_time": "2022-05-26T08:30:28.508Z"
   },
   {
    "duration": 1698,
    "start_time": "2022-05-26T08:30:35.548Z"
   },
   {
    "duration": 256,
    "start_time": "2022-05-26T08:31:35.438Z"
   },
   {
    "duration": 1529,
    "start_time": "2022-05-26T08:31:46.949Z"
   },
   {
    "duration": 1552,
    "start_time": "2022-05-26T08:32:18.552Z"
   },
   {
    "duration": 1672,
    "start_time": "2022-05-26T08:32:32.215Z"
   },
   {
    "duration": 1624,
    "start_time": "2022-05-26T08:32:49.993Z"
   },
   {
    "duration": 1641,
    "start_time": "2022-05-26T08:33:01.768Z"
   },
   {
    "duration": 1769,
    "start_time": "2022-05-26T08:33:14.624Z"
   },
   {
    "duration": 1605,
    "start_time": "2022-05-26T08:33:20.611Z"
   },
   {
    "duration": 1623,
    "start_time": "2022-05-26T08:34:12.043Z"
   },
   {
    "duration": 1748,
    "start_time": "2022-05-26T08:34:35.612Z"
   },
   {
    "duration": 1640,
    "start_time": "2022-05-26T08:34:44.005Z"
   },
   {
    "duration": 1672,
    "start_time": "2022-05-26T08:35:11.653Z"
   },
   {
    "duration": 1783,
    "start_time": "2022-05-26T08:35:29.550Z"
   },
   {
    "duration": 1876,
    "start_time": "2022-05-26T08:35:50.277Z"
   },
   {
    "duration": 1999,
    "start_time": "2022-05-26T08:36:06.040Z"
   },
   {
    "duration": 1393,
    "start_time": "2022-05-26T08:36:20.288Z"
   },
   {
    "duration": 1814,
    "start_time": "2022-05-26T08:36:29.327Z"
   },
   {
    "duration": 10,
    "start_time": "2022-05-26T08:38:41.020Z"
   },
   {
    "duration": 349,
    "start_time": "2022-05-26T08:38:43.099Z"
   },
   {
    "duration": 1548,
    "start_time": "2022-05-26T08:38:44.776Z"
   },
   {
    "duration": 173,
    "start_time": "2022-05-26T08:38:57.716Z"
   },
   {
    "duration": 178,
    "start_time": "2022-05-26T08:39:15.005Z"
   },
   {
    "duration": 175,
    "start_time": "2022-05-26T08:39:21.885Z"
   },
   {
    "duration": 51,
    "start_time": "2022-05-26T08:39:24.677Z"
   },
   {
    "duration": 1120,
    "start_time": "2022-05-26T08:39:30.987Z"
   },
   {
    "duration": 452,
    "start_time": "2022-05-26T08:39:32.109Z"
   },
   {
    "duration": 18,
    "start_time": "2022-05-26T08:39:32.563Z"
   },
   {
    "duration": 18,
    "start_time": "2022-05-26T08:39:32.583Z"
   },
   {
    "duration": 57,
    "start_time": "2022-05-26T08:39:32.603Z"
   },
   {
    "duration": 16,
    "start_time": "2022-05-26T08:39:32.662Z"
   },
   {
    "duration": 16,
    "start_time": "2022-05-26T08:39:32.680Z"
   },
   {
    "duration": 21,
    "start_time": "2022-05-26T08:39:32.698Z"
   },
   {
    "duration": 13,
    "start_time": "2022-05-26T08:39:32.721Z"
   },
   {
    "duration": 22,
    "start_time": "2022-05-26T08:39:32.761Z"
   },
   {
    "duration": 27,
    "start_time": "2022-05-26T08:39:32.785Z"
   },
   {
    "duration": 13,
    "start_time": "2022-05-26T08:39:32.814Z"
   },
   {
    "duration": 18,
    "start_time": "2022-05-26T08:39:32.828Z"
   },
   {
    "duration": 20,
    "start_time": "2022-05-26T08:39:32.848Z"
   },
   {
    "duration": 32,
    "start_time": "2022-05-26T08:39:32.869Z"
   },
   {
    "duration": 14,
    "start_time": "2022-05-26T08:39:32.903Z"
   },
   {
    "duration": 17,
    "start_time": "2022-05-26T08:39:32.923Z"
   },
   {
    "duration": 255,
    "start_time": "2022-05-26T08:39:32.942Z"
   },
   {
    "duration": 6,
    "start_time": "2022-05-26T08:39:33.198Z"
   },
   {
    "duration": 91,
    "start_time": "2022-05-26T08:39:33.205Z"
   },
   {
    "duration": 5,
    "start_time": "2022-05-26T08:39:33.298Z"
   },
   {
    "duration": 148,
    "start_time": "2022-05-26T08:39:33.304Z"
   },
   {
    "duration": 35,
    "start_time": "2022-05-26T08:39:33.453Z"
   },
   {
    "duration": 17,
    "start_time": "2022-05-26T08:39:33.490Z"
   },
   {
    "duration": 18,
    "start_time": "2022-05-26T08:39:33.509Z"
   },
   {
    "duration": 31,
    "start_time": "2022-05-26T08:39:33.529Z"
   },
   {
    "duration": 12,
    "start_time": "2022-05-26T08:39:33.570Z"
   },
   {
    "duration": 13,
    "start_time": "2022-05-26T08:39:33.585Z"
   },
   {
    "duration": 3,
    "start_time": "2022-05-26T08:39:33.600Z"
   },
   {
    "duration": 12,
    "start_time": "2022-05-26T08:39:33.604Z"
   },
   {
    "duration": 18,
    "start_time": "2022-05-26T08:39:33.618Z"
   },
   {
    "duration": 22,
    "start_time": "2022-05-26T08:39:33.638Z"
   },
   {
    "duration": 25,
    "start_time": "2022-05-26T08:39:33.661Z"
   },
   {
    "duration": 7,
    "start_time": "2022-05-26T08:39:33.688Z"
   },
   {
    "duration": 95,
    "start_time": "2022-05-26T08:39:33.697Z"
   },
   {
    "duration": 14,
    "start_time": "2022-05-26T08:39:33.794Z"
   },
   {
    "duration": 17,
    "start_time": "2022-05-26T08:39:33.809Z"
   },
   {
    "duration": 9,
    "start_time": "2022-05-26T08:39:33.828Z"
   },
   {
    "duration": 83,
    "start_time": "2022-05-26T08:39:33.839Z"
   },
   {
    "duration": 4,
    "start_time": "2022-05-26T08:39:33.923Z"
   },
   {
    "duration": 14,
    "start_time": "2022-05-26T08:39:33.929Z"
   },
   {
    "duration": 25,
    "start_time": "2022-05-26T08:39:33.944Z"
   },
   {
    "duration": 31,
    "start_time": "2022-05-26T08:39:33.973Z"
   },
   {
    "duration": 804,
    "start_time": "2022-05-26T08:39:34.005Z"
   },
   {
    "duration": 1723,
    "start_time": "2022-05-26T08:39:34.811Z"
   },
   {
    "duration": 132,
    "start_time": "2022-05-26T08:39:36.535Z"
   },
   {
    "duration": 103,
    "start_time": "2022-05-26T08:39:36.671Z"
   },
   {
    "duration": 15,
    "start_time": "2022-05-26T08:39:36.777Z"
   },
   {
    "duration": 8,
    "start_time": "2022-05-26T08:39:36.794Z"
   },
   {
    "duration": 11,
    "start_time": "2022-05-26T08:39:36.804Z"
   },
   {
    "duration": 11,
    "start_time": "2022-05-26T08:39:36.816Z"
   },
   {
    "duration": 81,
    "start_time": "2022-05-26T08:39:36.829Z"
   },
   {
    "duration": 1513,
    "start_time": "2022-05-26T08:39:36.912Z"
   },
   {
    "duration": 186,
    "start_time": "2022-05-26T08:39:38.426Z"
   },
   {
    "duration": 220,
    "start_time": "2022-05-26T08:39:38.614Z"
   },
   {
    "duration": 185,
    "start_time": "2022-05-26T08:39:38.836Z"
   },
   {
    "duration": 57,
    "start_time": "2022-05-26T08:39:39.022Z"
   },
   {
    "duration": 1127,
    "start_time": "2022-05-26T08:41:35.741Z"
   },
   {
    "duration": 453,
    "start_time": "2022-05-26T08:41:36.874Z"
   },
   {
    "duration": 18,
    "start_time": "2022-05-26T08:41:37.330Z"
   },
   {
    "duration": 51,
    "start_time": "2022-05-26T08:41:37.350Z"
   },
   {
    "duration": 28,
    "start_time": "2022-05-26T08:41:37.404Z"
   },
   {
    "duration": 22,
    "start_time": "2022-05-26T08:41:37.434Z"
   },
   {
    "duration": 30,
    "start_time": "2022-05-26T08:41:37.458Z"
   },
   {
    "duration": 25,
    "start_time": "2022-05-26T08:41:37.489Z"
   },
   {
    "duration": 30,
    "start_time": "2022-05-26T08:41:37.516Z"
   },
   {
    "duration": 36,
    "start_time": "2022-05-26T08:41:37.548Z"
   },
   {
    "duration": 27,
    "start_time": "2022-05-26T08:41:37.585Z"
   },
   {
    "duration": 19,
    "start_time": "2022-05-26T08:41:37.614Z"
   },
   {
    "duration": 41,
    "start_time": "2022-05-26T08:41:37.634Z"
   },
   {
    "duration": 36,
    "start_time": "2022-05-26T08:41:37.678Z"
   },
   {
    "duration": 36,
    "start_time": "2022-05-26T08:41:37.716Z"
   },
   {
    "duration": 45,
    "start_time": "2022-05-26T08:41:37.753Z"
   },
   {
    "duration": 32,
    "start_time": "2022-05-26T08:41:37.800Z"
   },
   {
    "duration": 253,
    "start_time": "2022-05-26T08:41:37.833Z"
   },
   {
    "duration": 5,
    "start_time": "2022-05-26T08:41:38.088Z"
   },
   {
    "duration": 96,
    "start_time": "2022-05-26T08:41:38.095Z"
   },
   {
    "duration": 7,
    "start_time": "2022-05-26T08:41:38.193Z"
   },
   {
    "duration": 175,
    "start_time": "2022-05-26T08:41:38.201Z"
   },
   {
    "duration": 29,
    "start_time": "2022-05-26T08:41:38.378Z"
   },
   {
    "duration": 16,
    "start_time": "2022-05-26T08:41:38.409Z"
   },
   {
    "duration": 17,
    "start_time": "2022-05-26T08:41:38.427Z"
   },
   {
    "duration": 45,
    "start_time": "2022-05-26T08:41:38.445Z"
   },
   {
    "duration": 32,
    "start_time": "2022-05-26T08:41:38.491Z"
   },
   {
    "duration": 39,
    "start_time": "2022-05-26T08:41:38.525Z"
   },
   {
    "duration": 15,
    "start_time": "2022-05-26T08:41:38.565Z"
   },
   {
    "duration": 6,
    "start_time": "2022-05-26T08:41:38.582Z"
   },
   {
    "duration": 20,
    "start_time": "2022-05-26T08:41:38.589Z"
   },
   {
    "duration": 2,
    "start_time": "2022-05-26T08:41:38.611Z"
   },
   {
    "duration": 10,
    "start_time": "2022-05-26T08:41:38.615Z"
   },
   {
    "duration": 7,
    "start_time": "2022-05-26T08:41:38.626Z"
   },
   {
    "duration": 96,
    "start_time": "2022-05-26T08:41:38.634Z"
   },
   {
    "duration": 14,
    "start_time": "2022-05-26T08:41:38.731Z"
   },
   {
    "duration": 36,
    "start_time": "2022-05-26T08:41:38.747Z"
   },
   {
    "duration": 11,
    "start_time": "2022-05-26T08:41:38.786Z"
   },
   {
    "duration": 75,
    "start_time": "2022-05-26T08:41:38.798Z"
   },
   {
    "duration": 4,
    "start_time": "2022-05-26T08:41:38.875Z"
   },
   {
    "duration": 16,
    "start_time": "2022-05-26T08:41:38.883Z"
   },
   {
    "duration": 10,
    "start_time": "2022-05-26T08:41:38.900Z"
   },
   {
    "duration": 29,
    "start_time": "2022-05-26T08:41:38.911Z"
   },
   {
    "duration": 826,
    "start_time": "2022-05-26T08:41:38.942Z"
   },
   {
    "duration": 1770,
    "start_time": "2022-05-26T08:41:39.770Z"
   },
   {
    "duration": 119,
    "start_time": "2022-05-26T08:41:41.541Z"
   },
   {
    "duration": 111,
    "start_time": "2022-05-26T08:41:41.663Z"
   },
   {
    "duration": 13,
    "start_time": "2022-05-26T08:41:41.776Z"
   },
   {
    "duration": 6,
    "start_time": "2022-05-26T08:41:41.791Z"
   },
   {
    "duration": 11,
    "start_time": "2022-05-26T08:41:41.799Z"
   },
   {
    "duration": 5,
    "start_time": "2022-05-26T08:41:41.811Z"
   },
   {
    "duration": 92,
    "start_time": "2022-05-26T08:41:41.818Z"
   },
   {
    "duration": 1463,
    "start_time": "2022-05-26T08:41:41.912Z"
   },
   {
    "duration": 273,
    "start_time": "2022-05-26T08:41:43.377Z"
   },
   {
    "duration": 180,
    "start_time": "2022-05-26T08:41:43.651Z"
   },
   {
    "duration": 171,
    "start_time": "2022-05-26T08:41:43.833Z"
   },
   {
    "duration": 50,
    "start_time": "2022-05-26T08:41:44.006Z"
   },
   {
    "duration": 1407,
    "start_time": "2022-05-26T17:25:33.148Z"
   },
   {
    "duration": 1057,
    "start_time": "2022-05-26T17:25:34.556Z"
   },
   {
    "duration": 4,
    "start_time": "2022-05-26T17:25:54.772Z"
   },
   {
    "duration": 465,
    "start_time": "2022-05-26T17:25:55.073Z"
   },
   {
    "duration": 20,
    "start_time": "2022-05-26T17:25:56.552Z"
   },
   {
    "duration": 24,
    "start_time": "2022-05-26T17:25:56.909Z"
   },
   {
    "duration": 17,
    "start_time": "2022-05-26T17:25:57.958Z"
   },
   {
    "duration": 21,
    "start_time": "2022-05-26T17:25:58.176Z"
   },
   {
    "duration": 14,
    "start_time": "2022-05-26T17:25:59.401Z"
   },
   {
    "duration": 21,
    "start_time": "2022-05-26T17:25:59.485Z"
   },
   {
    "duration": 7,
    "start_time": "2022-05-26T17:25:59.987Z"
   },
   {
    "duration": 16,
    "start_time": "2022-05-26T17:26:00.185Z"
   },
   {
    "duration": 13,
    "start_time": "2022-05-26T17:26:00.712Z"
   },
   {
    "duration": 24,
    "start_time": "2022-05-26T17:26:01.092Z"
   },
   {
    "duration": 11,
    "start_time": "2022-05-26T17:26:01.300Z"
   },
   {
    "duration": 3,
    "start_time": "2022-05-26T17:26:02.102Z"
   },
   {
    "duration": 198,
    "start_time": "2022-05-26T17:26:03.249Z"
   },
   {
    "duration": 8,
    "start_time": "2022-05-26T17:26:03.856Z"
   },
   {
    "duration": 76,
    "start_time": "2022-05-26T17:26:04.479Z"
   },
   {
    "duration": 5,
    "start_time": "2022-05-26T17:26:05.349Z"
   },
   {
    "duration": 158,
    "start_time": "2022-05-26T17:26:08.345Z"
   },
   {
    "duration": 32,
    "start_time": "2022-05-26T17:26:09.309Z"
   },
   {
    "duration": 33,
    "start_time": "2022-05-26T17:26:09.745Z"
   },
   {
    "duration": 16,
    "start_time": "2022-05-26T17:26:10.129Z"
   },
   {
    "duration": 7,
    "start_time": "2022-05-26T17:26:10.517Z"
   },
   {
    "duration": 15,
    "start_time": "2022-05-26T17:26:10.721Z"
   },
   {
    "duration": 15,
    "start_time": "2022-05-26T17:26:10.912Z"
   },
   {
    "duration": 4,
    "start_time": "2022-05-26T17:26:15.683Z"
   },
   {
    "duration": 4,
    "start_time": "2022-05-26T17:26:16.088Z"
   },
   {
    "duration": 13,
    "start_time": "2022-05-26T17:26:17.542Z"
   },
   {
    "duration": 114,
    "start_time": "2022-05-26T17:26:20.112Z"
   },
   {
    "duration": 5,
    "start_time": "2022-05-26T17:28:12.382Z"
   },
   {
    "duration": 14,
    "start_time": "2022-05-26T17:28:20.259Z"
   },
   {
    "duration": 10,
    "start_time": "2022-05-26T17:29:39.116Z"
   },
   {
    "duration": 7,
    "start_time": "2022-05-26T17:34:26.817Z"
   },
   {
    "duration": 1351,
    "start_time": "2022-05-27T07:04:47.223Z"
   },
   {
    "duration": 1168,
    "start_time": "2022-05-27T07:04:48.576Z"
   },
   {
    "duration": 16,
    "start_time": "2022-05-27T07:04:51.486Z"
   },
   {
    "duration": 24,
    "start_time": "2022-05-27T07:05:03.546Z"
   },
   {
    "duration": 13,
    "start_time": "2022-05-27T07:05:04.228Z"
   },
   {
    "duration": 20,
    "start_time": "2022-05-27T07:05:04.468Z"
   },
   {
    "duration": 9,
    "start_time": "2022-05-27T07:05:06.165Z"
   },
   {
    "duration": 17,
    "start_time": "2022-05-27T07:05:06.452Z"
   },
   {
    "duration": 7,
    "start_time": "2022-05-27T07:05:11.291Z"
   },
   {
    "duration": 59,
    "start_time": "2022-05-27T07:05:11.300Z"
   },
   {
    "duration": 16,
    "start_time": "2022-05-27T07:05:11.360Z"
   },
   {
    "duration": 19,
    "start_time": "2022-05-27T07:05:11.377Z"
   },
   {
    "duration": 10,
    "start_time": "2022-05-27T07:05:11.397Z"
   },
   {
    "duration": 7,
    "start_time": "2022-05-27T07:05:11.408Z"
   },
   {
    "duration": 182,
    "start_time": "2022-05-27T07:05:11.861Z"
   },
   {
    "duration": 6,
    "start_time": "2022-05-27T07:05:27.800Z"
   },
   {
    "duration": 96,
    "start_time": "2022-05-27T07:05:28.606Z"
   },
   {
    "duration": 6,
    "start_time": "2022-05-27T07:05:29.081Z"
   },
   {
    "duration": 144,
    "start_time": "2022-05-27T07:05:30.016Z"
   },
   {
    "duration": 31,
    "start_time": "2022-05-27T07:05:31.222Z"
   },
   {
    "duration": 18,
    "start_time": "2022-05-27T07:05:31.705Z"
   },
   {
    "duration": 15,
    "start_time": "2022-05-27T07:05:32.170Z"
   },
   {
    "duration": 8,
    "start_time": "2022-05-27T07:05:35.048Z"
   },
   {
    "duration": 17,
    "start_time": "2022-05-27T07:05:37.245Z"
   },
   {
    "duration": 16,
    "start_time": "2022-05-27T07:05:38.524Z"
   },
   {
    "duration": 6,
    "start_time": "2022-05-27T07:06:16.385Z"
   },
   {
    "duration": 3,
    "start_time": "2022-05-27T07:06:40.399Z"
   },
   {
    "duration": 11,
    "start_time": "2022-05-27T07:06:48.283Z"
   },
   {
    "duration": 5,
    "start_time": "2022-05-27T07:06:49.300Z"
   },
   {
    "duration": 8,
    "start_time": "2022-05-27T07:06:56.519Z"
   },
   {
    "duration": 7,
    "start_time": "2022-05-27T07:07:09.388Z"
   },
   {
    "duration": 116,
    "start_time": "2022-05-27T07:11:43.312Z"
   },
   {
    "duration": 8,
    "start_time": "2022-05-27T07:12:35.521Z"
   },
   {
    "duration": 17,
    "start_time": "2022-05-27T07:13:05.898Z"
   },
   {
    "duration": 61,
    "start_time": "2022-05-27T07:32:38.272Z"
   },
   {
    "duration": 137,
    "start_time": "2022-05-27T07:33:40.195Z"
   },
   {
    "duration": 123,
    "start_time": "2022-05-27T07:34:08.317Z"
   },
   {
    "duration": 900,
    "start_time": "2022-05-27T07:35:09.252Z"
   },
   {
    "duration": 744,
    "start_time": "2022-05-27T07:37:30.331Z"
   },
   {
    "duration": 13,
    "start_time": "2022-05-27T07:37:45.958Z"
   },
   {
    "duration": 23,
    "start_time": "2022-05-27T07:38:02.666Z"
   },
   {
    "duration": 16,
    "start_time": "2022-05-27T07:39:25.987Z"
   },
   {
    "duration": 619,
    "start_time": "2022-05-27T07:39:26.146Z"
   },
   {
    "duration": 0,
    "start_time": "2022-05-27T07:39:26.766Z"
   },
   {
    "duration": 246,
    "start_time": "2022-05-27T07:40:01.497Z"
   },
   {
    "duration": 4,
    "start_time": "2022-05-27T07:40:02.943Z"
   },
   {
    "duration": 14,
    "start_time": "2022-05-27T07:40:08.457Z"
   },
   {
    "duration": 5,
    "start_time": "2022-05-27T07:41:07.737Z"
   },
   {
    "duration": 41,
    "start_time": "2022-05-27T07:41:15.891Z"
   },
   {
    "duration": 1137,
    "start_time": "2022-05-27T07:41:26.501Z"
   },
   {
    "duration": 38,
    "start_time": "2022-05-27T08:04:30.532Z"
   },
   {
    "duration": 2617,
    "start_time": "2022-05-27T08:04:47.551Z"
   },
   {
    "duration": 2501,
    "start_time": "2022-05-27T08:05:06.941Z"
   },
   {
    "duration": 2502,
    "start_time": "2022-05-27T08:05:20.121Z"
   },
   {
    "duration": 2390,
    "start_time": "2022-05-27T08:05:36.938Z"
   },
   {
    "duration": 17,
    "start_time": "2022-05-27T08:14:09.012Z"
   },
   {
    "duration": 1127,
    "start_time": "2022-05-27T08:14:52.618Z"
   },
   {
    "duration": 500,
    "start_time": "2022-05-27T08:14:53.747Z"
   },
   {
    "duration": 18,
    "start_time": "2022-05-27T08:14:54.249Z"
   },
   {
    "duration": 49,
    "start_time": "2022-05-27T08:14:54.268Z"
   },
   {
    "duration": 19,
    "start_time": "2022-05-27T08:14:54.320Z"
   },
   {
    "duration": 62,
    "start_time": "2022-05-27T08:14:54.342Z"
   },
   {
    "duration": 12,
    "start_time": "2022-05-27T08:14:55.217Z"
   },
   {
    "duration": 21,
    "start_time": "2022-05-27T08:14:55.330Z"
   },
   {
    "duration": 24,
    "start_time": "2022-05-27T08:14:55.896Z"
   },
   {
    "duration": 29,
    "start_time": "2022-05-27T08:14:56.079Z"
   },
   {
    "duration": 32,
    "start_time": "2022-05-27T08:14:56.613Z"
   },
   {
    "duration": 60,
    "start_time": "2022-05-27T08:14:56.779Z"
   },
   {
    "duration": 11,
    "start_time": "2022-05-27T08:14:56.960Z"
   },
   {
    "duration": 5,
    "start_time": "2022-05-27T08:14:57.616Z"
   },
   {
    "duration": 256,
    "start_time": "2022-05-27T08:14:58.468Z"
   },
   {
    "duration": 6,
    "start_time": "2022-05-27T08:14:59.043Z"
   },
   {
    "duration": 140,
    "start_time": "2022-05-27T08:14:59.439Z"
   },
   {
    "duration": 7,
    "start_time": "2022-05-27T08:14:59.826Z"
   },
   {
    "duration": 165,
    "start_time": "2022-05-27T08:15:00.617Z"
   },
   {
    "duration": 30,
    "start_time": "2022-05-27T08:15:01.523Z"
   },
   {
    "duration": 48,
    "start_time": "2022-05-27T08:15:01.879Z"
   },
   {
    "duration": 32,
    "start_time": "2022-05-27T08:15:02.274Z"
   },
   {
    "duration": 22,
    "start_time": "2022-05-27T08:15:02.698Z"
   },
   {
    "duration": 19,
    "start_time": "2022-05-27T08:15:02.928Z"
   },
   {
    "duration": 22,
    "start_time": "2022-05-27T08:15:03.116Z"
   },
   {
    "duration": 6,
    "start_time": "2022-05-27T08:15:03.617Z"
   },
   {
    "duration": 4,
    "start_time": "2022-05-27T08:15:03.843Z"
   },
   {
    "duration": 13,
    "start_time": "2022-05-27T08:15:04.248Z"
   },
   {
    "duration": 5,
    "start_time": "2022-05-27T08:15:04.955Z"
   },
   {
    "duration": 14,
    "start_time": "2022-05-27T08:15:05.390Z"
   },
   {
    "duration": 7,
    "start_time": "2022-05-27T08:15:06.542Z"
   },
   {
    "duration": 724,
    "start_time": "2022-05-27T08:15:06.913Z"
   },
   {
    "duration": 87,
    "start_time": "2022-05-27T08:15:13.113Z"
   },
   {
    "duration": 13,
    "start_time": "2022-05-27T08:15:15.837Z"
   },
   {
    "duration": 35,
    "start_time": "2022-05-27T08:15:20.320Z"
   },
   {
    "duration": 990,
    "start_time": "2022-05-27T22:00:23.222Z"
   },
   {
    "duration": 413,
    "start_time": "2022-05-27T22:00:24.213Z"
   },
   {
    "duration": 14,
    "start_time": "2022-05-27T22:00:24.628Z"
   },
   {
    "duration": 30,
    "start_time": "2022-05-27T22:00:24.645Z"
   },
   {
    "duration": 12,
    "start_time": "2022-05-27T22:00:24.677Z"
   },
   {
    "duration": 36,
    "start_time": "2022-05-27T22:00:24.691Z"
   },
   {
    "duration": 9,
    "start_time": "2022-05-27T22:00:24.729Z"
   },
   {
    "duration": 18,
    "start_time": "2022-05-27T22:00:24.740Z"
   },
   {
    "duration": 8,
    "start_time": "2022-05-27T22:00:24.759Z"
   },
   {
    "duration": 10,
    "start_time": "2022-05-27T22:00:24.769Z"
   },
   {
    "duration": 15,
    "start_time": "2022-05-27T22:00:24.780Z"
   },
   {
    "duration": 14,
    "start_time": "2022-05-27T22:00:24.827Z"
   },
   {
    "duration": 9,
    "start_time": "2022-05-27T22:00:24.842Z"
   },
   {
    "duration": 5,
    "start_time": "2022-05-27T22:00:24.853Z"
   },
   {
    "duration": 199,
    "start_time": "2022-05-27T22:00:24.859Z"
   },
   {
    "duration": 5,
    "start_time": "2022-05-27T22:00:25.059Z"
   },
   {
    "duration": 86,
    "start_time": "2022-05-27T22:00:25.065Z"
   },
   {
    "duration": 5,
    "start_time": "2022-05-27T22:00:25.153Z"
   },
   {
    "duration": 147,
    "start_time": "2022-05-27T22:00:25.160Z"
   },
   {
    "duration": 34,
    "start_time": "2022-05-27T22:00:25.308Z"
   },
   {
    "duration": 16,
    "start_time": "2022-05-27T22:00:25.344Z"
   },
   {
    "duration": 14,
    "start_time": "2022-05-27T22:00:25.362Z"
   },
   {
    "duration": 7,
    "start_time": "2022-05-27T22:00:25.377Z"
   },
   {
    "duration": 12,
    "start_time": "2022-05-27T22:00:25.385Z"
   },
   {
    "duration": 41,
    "start_time": "2022-05-27T22:00:25.399Z"
   },
   {
    "duration": 5,
    "start_time": "2022-05-27T22:00:25.442Z"
   },
   {
    "duration": 9,
    "start_time": "2022-05-27T22:00:25.448Z"
   },
   {
    "duration": 14,
    "start_time": "2022-05-27T22:00:25.461Z"
   },
   {
    "duration": 4,
    "start_time": "2022-05-27T22:00:25.477Z"
   },
   {
    "duration": 13,
    "start_time": "2022-05-27T22:00:25.483Z"
   },
   {
    "duration": 29,
    "start_time": "2022-05-27T22:00:25.498Z"
   },
   {
    "duration": 576,
    "start_time": "2022-05-27T22:00:25.529Z"
   },
   {
    "duration": 82,
    "start_time": "2022-05-27T22:00:26.107Z"
   },
   {
    "duration": 13,
    "start_time": "2022-05-27T22:00:26.190Z"
   },
   {
    "duration": 33,
    "start_time": "2022-05-27T22:00:26.205Z"
   },
   {
    "duration": 88,
    "start_time": "2022-05-27T22:00:26.239Z"
   },
   {
    "duration": 5,
    "start_time": "2022-05-27T22:00:26.328Z"
   },
   {
    "duration": 24,
    "start_time": "2022-05-27T22:00:26.335Z"
   },
   {
    "duration": 5,
    "start_time": "2022-05-27T22:00:26.361Z"
   },
   {
    "duration": 34,
    "start_time": "2022-05-27T22:00:26.367Z"
   },
   {
    "duration": 1792,
    "start_time": "2022-05-27T22:00:26.403Z"
   },
   {
    "duration": 1686,
    "start_time": "2022-05-27T22:00:28.197Z"
   },
   {
    "duration": 104,
    "start_time": "2022-05-27T22:00:29.885Z"
   },
   {
    "duration": 100,
    "start_time": "2022-05-27T22:00:29.990Z"
   },
   {
    "duration": 11,
    "start_time": "2022-05-27T22:00:30.092Z"
   },
   {
    "duration": 25,
    "start_time": "2022-05-27T22:00:30.105Z"
   },
   {
    "duration": 15,
    "start_time": "2022-05-27T22:00:30.131Z"
   },
   {
    "duration": 4,
    "start_time": "2022-05-27T22:00:30.148Z"
   },
   {
    "duration": 168,
    "start_time": "2022-05-27T22:00:30.153Z"
   },
   {
    "duration": 1378,
    "start_time": "2022-05-27T22:00:30.322Z"
   },
   {
    "duration": 180,
    "start_time": "2022-05-27T22:00:31.701Z"
   },
   {
    "duration": 186,
    "start_time": "2022-05-27T22:00:31.883Z"
   },
   {
    "duration": 172,
    "start_time": "2022-05-27T22:00:32.070Z"
   },
   {
    "duration": 51,
    "start_time": "2022-05-27T22:00:32.244Z"
   },
   {
    "duration": 17,
    "start_time": "2022-05-27T22:01:17.698Z"
   },
   {
    "duration": 7,
    "start_time": "2022-05-27T22:04:38.141Z"
   },
   {
    "duration": 222,
    "start_time": "2022-05-27T22:05:26.724Z"
   },
   {
    "duration": 4,
    "start_time": "2022-05-27T22:05:41.980Z"
   },
   {
    "duration": 4,
    "start_time": "2022-05-27T22:05:52.428Z"
   },
   {
    "duration": 11,
    "start_time": "2022-05-27T22:06:00.875Z"
   },
   {
    "duration": 1091,
    "start_time": "2022-05-27T22:14:11.102Z"
   },
   {
    "duration": 398,
    "start_time": "2022-05-27T22:14:12.194Z"
   },
   {
    "duration": 15,
    "start_time": "2022-05-27T22:14:12.593Z"
   },
   {
    "duration": 24,
    "start_time": "2022-05-27T22:14:12.611Z"
   },
   {
    "duration": 11,
    "start_time": "2022-05-27T22:14:12.636Z"
   },
   {
    "duration": 18,
    "start_time": "2022-05-27T22:14:12.649Z"
   },
   {
    "duration": 8,
    "start_time": "2022-05-27T22:14:12.669Z"
   },
   {
    "duration": 19,
    "start_time": "2022-05-27T22:14:12.678Z"
   },
   {
    "duration": 30,
    "start_time": "2022-05-27T22:14:12.698Z"
   },
   {
    "duration": 11,
    "start_time": "2022-05-27T22:14:12.730Z"
   },
   {
    "duration": 23,
    "start_time": "2022-05-27T22:14:12.743Z"
   },
   {
    "duration": 17,
    "start_time": "2022-05-27T22:14:12.767Z"
   },
   {
    "duration": 10,
    "start_time": "2022-05-27T22:14:12.785Z"
   },
   {
    "duration": 31,
    "start_time": "2022-05-27T22:14:12.796Z"
   },
   {
    "duration": 312,
    "start_time": "2022-05-27T22:14:12.828Z"
   },
   {
    "duration": 4,
    "start_time": "2022-05-27T22:14:13.142Z"
   },
   {
    "duration": 120,
    "start_time": "2022-05-27T22:14:13.148Z"
   },
   {
    "duration": 57,
    "start_time": "2022-05-27T22:14:13.270Z"
   },
   {
    "duration": 178,
    "start_time": "2022-05-27T22:14:13.328Z"
   },
   {
    "duration": 38,
    "start_time": "2022-05-27T22:14:13.507Z"
   },
   {
    "duration": 18,
    "start_time": "2022-05-27T22:14:13.547Z"
   },
   {
    "duration": 15,
    "start_time": "2022-05-27T22:14:13.566Z"
   },
   {
    "duration": 7,
    "start_time": "2022-05-27T22:14:13.582Z"
   },
   {
    "duration": 13,
    "start_time": "2022-05-27T22:14:13.590Z"
   },
   {
    "duration": 13,
    "start_time": "2022-05-27T22:14:13.626Z"
   },
   {
    "duration": 4,
    "start_time": "2022-05-27T22:14:13.640Z"
   },
   {
    "duration": 5,
    "start_time": "2022-05-27T22:14:13.646Z"
   },
   {
    "duration": 11,
    "start_time": "2022-05-27T22:14:13.654Z"
   },
   {
    "duration": 4,
    "start_time": "2022-05-27T22:14:13.666Z"
   },
   {
    "duration": 11,
    "start_time": "2022-05-27T22:14:13.671Z"
   },
   {
    "duration": 9,
    "start_time": "2022-05-27T22:14:13.683Z"
   },
   {
    "duration": 33,
    "start_time": "2022-05-27T22:14:13.694Z"
   },
   {
    "duration": 237,
    "start_time": "2022-05-27T22:14:13.729Z"
   },
   {
    "duration": 4,
    "start_time": "2022-05-27T22:14:13.967Z"
   },
   {
    "duration": 12,
    "start_time": "2022-05-27T22:14:13.973Z"
   },
   {
    "duration": 86,
    "start_time": "2022-05-27T22:14:13.987Z"
   },
   {
    "duration": 12,
    "start_time": "2022-05-27T22:14:14.074Z"
   },
   {
    "duration": 25,
    "start_time": "2022-05-27T22:14:14.087Z"
   },
   {
    "duration": 76,
    "start_time": "2022-05-27T22:14:14.113Z"
   },
   {
    "duration": 4,
    "start_time": "2022-05-27T22:14:14.191Z"
   },
   {
    "duration": 29,
    "start_time": "2022-05-27T22:14:14.197Z"
   },
   {
    "duration": 5,
    "start_time": "2022-05-27T22:14:14.228Z"
   },
   {
    "duration": 34,
    "start_time": "2022-05-27T22:14:14.235Z"
   },
   {
    "duration": 1715,
    "start_time": "2022-05-27T22:14:14.271Z"
   },
   {
    "duration": 1643,
    "start_time": "2022-05-27T22:14:15.987Z"
   },
   {
    "duration": 100,
    "start_time": "2022-05-27T22:14:17.632Z"
   },
   {
    "duration": 95,
    "start_time": "2022-05-27T22:14:17.733Z"
   },
   {
    "duration": 11,
    "start_time": "2022-05-27T22:14:17.829Z"
   },
   {
    "duration": 9,
    "start_time": "2022-05-27T22:14:17.841Z"
   },
   {
    "duration": 12,
    "start_time": "2022-05-27T22:14:17.851Z"
   },
   {
    "duration": 8,
    "start_time": "2022-05-27T22:14:17.864Z"
   },
   {
    "duration": 157,
    "start_time": "2022-05-27T22:14:17.873Z"
   },
   {
    "duration": 1311,
    "start_time": "2022-05-27T22:14:18.031Z"
   },
   {
    "duration": 170,
    "start_time": "2022-05-27T22:14:19.343Z"
   },
   {
    "duration": 182,
    "start_time": "2022-05-27T22:14:19.514Z"
   },
   {
    "duration": 165,
    "start_time": "2022-05-27T22:14:19.698Z"
   },
   {
    "duration": 50,
    "start_time": "2022-05-27T22:14:19.865Z"
   },
   {
    "duration": 1443,
    "start_time": "2022-05-28T11:28:16.071Z"
   },
   {
    "duration": 981,
    "start_time": "2022-05-28T11:28:17.516Z"
   },
   {
    "duration": 20,
    "start_time": "2022-05-28T11:28:18.499Z"
   },
   {
    "duration": 27,
    "start_time": "2022-05-28T11:28:18.521Z"
   },
   {
    "duration": 22,
    "start_time": "2022-05-28T11:28:18.550Z"
   },
   {
    "duration": 26,
    "start_time": "2022-05-28T11:28:18.574Z"
   },
   {
    "duration": 9,
    "start_time": "2022-05-28T11:28:19.232Z"
   },
   {
    "duration": 27,
    "start_time": "2022-05-28T11:28:19.443Z"
   },
   {
    "duration": 11,
    "start_time": "2022-05-28T11:28:19.988Z"
   },
   {
    "duration": 11,
    "start_time": "2022-05-28T11:28:20.091Z"
   },
   {
    "duration": 20,
    "start_time": "2022-05-28T11:28:20.912Z"
   },
   {
    "duration": 28,
    "start_time": "2022-05-28T11:28:21.072Z"
   },
   {
    "duration": 14,
    "start_time": "2022-05-28T11:28:21.244Z"
   },
   {
    "duration": 4,
    "start_time": "2022-05-28T11:28:23.503Z"
   },
   {
    "duration": 180,
    "start_time": "2022-05-28T11:28:44.632Z"
   },
   {
    "duration": 5,
    "start_time": "2022-05-28T11:28:47.220Z"
   },
   {
    "duration": 67,
    "start_time": "2022-05-28T11:28:51.035Z"
   },
   {
    "duration": 6,
    "start_time": "2022-05-28T11:28:52.243Z"
   },
   {
    "duration": 142,
    "start_time": "2022-05-28T11:28:55.378Z"
   },
   {
    "duration": 32,
    "start_time": "2022-05-28T11:29:00.546Z"
   },
   {
    "duration": 18,
    "start_time": "2022-05-28T11:29:00.953Z"
   },
   {
    "duration": 16,
    "start_time": "2022-05-28T11:29:01.487Z"
   },
   {
    "duration": 7,
    "start_time": "2022-05-28T11:29:02.229Z"
   },
   {
    "duration": 14,
    "start_time": "2022-05-28T11:29:04.165Z"
   },
   {
    "duration": 20,
    "start_time": "2022-05-28T11:29:04.494Z"
   },
   {
    "duration": 5,
    "start_time": "2022-05-28T11:29:06.514Z"
   },
   {
    "duration": 3,
    "start_time": "2022-05-28T11:29:06.864Z"
   },
   {
    "duration": 11,
    "start_time": "2022-05-28T11:29:43.411Z"
   },
   {
    "duration": 4,
    "start_time": "2022-05-28T11:29:49.897Z"
   },
   {
    "duration": 9,
    "start_time": "2022-05-28T11:29:52.292Z"
   },
   {
    "duration": 7,
    "start_time": "2022-05-28T11:30:01.056Z"
   },
   {
    "duration": 9,
    "start_time": "2022-05-28T11:30:01.642Z"
   },
   {
    "duration": 6,
    "start_time": "2022-05-28T11:32:08.197Z"
   },
   {
    "duration": 12,
    "start_time": "2022-05-28T11:32:17.025Z"
   },
   {
    "duration": 986,
    "start_time": "2022-05-28T21:20:07.065Z"
   },
   {
    "duration": 1053,
    "start_time": "2022-05-28T21:20:08.052Z"
   },
   {
    "duration": 15,
    "start_time": "2022-05-28T21:20:09.106Z"
   },
   {
    "duration": 23,
    "start_time": "2022-05-28T21:20:09.122Z"
   },
   {
    "duration": 11,
    "start_time": "2022-05-28T21:20:09.146Z"
   },
   {
    "duration": 20,
    "start_time": "2022-05-28T21:20:09.158Z"
   },
   {
    "duration": 8,
    "start_time": "2022-05-28T21:20:09.179Z"
   },
   {
    "duration": 21,
    "start_time": "2022-05-28T21:20:09.189Z"
   },
   {
    "duration": 7,
    "start_time": "2022-05-28T21:20:09.211Z"
   },
   {
    "duration": 11,
    "start_time": "2022-05-28T21:20:09.220Z"
   },
   {
    "duration": 13,
    "start_time": "2022-05-28T21:20:09.233Z"
   },
   {
    "duration": 39,
    "start_time": "2022-05-28T21:20:09.247Z"
   },
   {
    "duration": 9,
    "start_time": "2022-05-28T21:20:09.287Z"
   },
   {
    "duration": 6,
    "start_time": "2022-05-28T21:20:09.298Z"
   },
   {
    "duration": 197,
    "start_time": "2022-05-28T21:20:09.305Z"
   },
   {
    "duration": 5,
    "start_time": "2022-05-28T21:20:09.503Z"
   },
   {
    "duration": 76,
    "start_time": "2022-05-28T21:20:09.509Z"
   },
   {
    "duration": 4,
    "start_time": "2022-05-28T21:20:09.587Z"
   },
   {
    "duration": 143,
    "start_time": "2022-05-28T21:20:09.592Z"
   },
   {
    "duration": 39,
    "start_time": "2022-05-28T21:20:09.736Z"
   },
   {
    "duration": 16,
    "start_time": "2022-05-28T21:20:09.776Z"
   },
   {
    "duration": 13,
    "start_time": "2022-05-28T21:20:09.794Z"
   },
   {
    "duration": 6,
    "start_time": "2022-05-28T21:20:09.808Z"
   },
   {
    "duration": 12,
    "start_time": "2022-05-28T21:20:09.815Z"
   },
   {
    "duration": 15,
    "start_time": "2022-05-28T21:20:09.828Z"
   },
   {
    "duration": 32,
    "start_time": "2022-05-28T21:20:09.844Z"
   },
   {
    "duration": 3,
    "start_time": "2022-05-28T21:20:09.878Z"
   },
   {
    "duration": 13,
    "start_time": "2022-05-28T21:20:09.882Z"
   },
   {
    "duration": 4,
    "start_time": "2022-05-28T21:20:09.896Z"
   },
   {
    "duration": 13,
    "start_time": "2022-05-28T21:20:09.901Z"
   },
   {
    "duration": 13,
    "start_time": "2022-05-28T21:20:09.916Z"
   },
   {
    "duration": 213,
    "start_time": "2022-05-28T21:20:09.931Z"
   },
   {
    "duration": 4,
    "start_time": "2022-05-28T21:20:10.145Z"
   },
   {
    "duration": 12,
    "start_time": "2022-05-28T21:20:10.151Z"
   },
   {
    "duration": 85,
    "start_time": "2022-05-28T21:20:10.164Z"
   },
   {
    "duration": 11,
    "start_time": "2022-05-28T21:20:10.251Z"
   },
   {
    "duration": 25,
    "start_time": "2022-05-28T21:20:10.264Z"
   },
   {
    "duration": 75,
    "start_time": "2022-05-28T21:20:10.291Z"
   },
   {
    "duration": 9,
    "start_time": "2022-05-28T21:20:10.367Z"
   },
   {
    "duration": 12,
    "start_time": "2022-05-28T21:20:10.378Z"
   },
   {
    "duration": 5,
    "start_time": "2022-05-28T21:20:10.395Z"
   },
   {
    "duration": 33,
    "start_time": "2022-05-28T21:20:10.401Z"
   },
   {
    "duration": 1711,
    "start_time": "2022-05-28T21:20:10.435Z"
   },
   {
    "duration": 1673,
    "start_time": "2022-05-28T21:20:12.147Z"
   },
   {
    "duration": 108,
    "start_time": "2022-05-28T21:20:13.821Z"
   },
   {
    "duration": 100,
    "start_time": "2022-05-28T21:20:13.931Z"
   },
   {
    "duration": 13,
    "start_time": "2022-05-28T21:20:14.032Z"
   },
   {
    "duration": 5,
    "start_time": "2022-05-28T21:20:14.046Z"
   },
   {
    "duration": 9,
    "start_time": "2022-05-28T21:20:14.075Z"
   },
   {
    "duration": 4,
    "start_time": "2022-05-28T21:20:14.085Z"
   },
   {
    "duration": 154,
    "start_time": "2022-05-28T21:20:14.090Z"
   },
   {
    "duration": 1341,
    "start_time": "2022-05-28T21:20:14.245Z"
   },
   {
    "duration": 163,
    "start_time": "2022-05-28T21:20:15.588Z"
   },
   {
    "duration": 166,
    "start_time": "2022-05-28T21:20:15.752Z"
   },
   {
    "duration": 170,
    "start_time": "2022-05-28T21:20:15.920Z"
   },
   {
    "duration": 51,
    "start_time": "2022-05-28T21:20:16.092Z"
   },
   {
    "duration": 4,
    "start_time": "2022-05-28T21:21:56.346Z"
   },
   {
    "duration": 15,
    "start_time": "2022-05-28T21:22:31.280Z"
   },
   {
    "duration": 158,
    "start_time": "2022-05-28T21:22:55.784Z"
   },
   {
    "duration": 55,
    "start_time": "2022-05-28T21:22:59.730Z"
   },
   {
    "duration": 40,
    "start_time": "2022-05-28T21:23:12.147Z"
   },
   {
    "duration": 45,
    "start_time": "2022-05-28T21:23:14.764Z"
   },
   {
    "duration": 168,
    "start_time": "2022-05-28T21:23:18.746Z"
   },
   {
    "duration": 1327,
    "start_time": "2022-05-28T21:23:29.395Z"
   },
   {
    "duration": 1033,
    "start_time": "2022-05-28T21:27:58.101Z"
   },
   {
    "duration": 416,
    "start_time": "2022-05-28T21:27:59.135Z"
   },
   {
    "duration": 14,
    "start_time": "2022-05-28T21:27:59.553Z"
   },
   {
    "duration": 31,
    "start_time": "2022-05-28T21:27:59.568Z"
   },
   {
    "duration": 11,
    "start_time": "2022-05-28T21:27:59.601Z"
   },
   {
    "duration": 20,
    "start_time": "2022-05-28T21:27:59.613Z"
   },
   {
    "duration": 8,
    "start_time": "2022-05-28T21:27:59.635Z"
   },
   {
    "duration": 44,
    "start_time": "2022-05-28T21:27:59.645Z"
   },
   {
    "duration": 9,
    "start_time": "2022-05-28T21:27:59.690Z"
   },
   {
    "duration": 10,
    "start_time": "2022-05-28T21:27:59.700Z"
   },
   {
    "duration": 12,
    "start_time": "2022-05-28T21:27:59.711Z"
   },
   {
    "duration": 14,
    "start_time": "2022-05-28T21:27:59.724Z"
   },
   {
    "duration": 8,
    "start_time": "2022-05-28T21:27:59.740Z"
   },
   {
    "duration": 14,
    "start_time": "2022-05-28T21:27:59.774Z"
   },
   {
    "duration": 215,
    "start_time": "2022-05-28T21:27:59.790Z"
   },
   {
    "duration": 5,
    "start_time": "2022-05-28T21:28:00.007Z"
   },
   {
    "duration": 89,
    "start_time": "2022-05-28T21:28:00.013Z"
   },
   {
    "duration": 4,
    "start_time": "2022-05-28T21:28:00.103Z"
   },
   {
    "duration": 146,
    "start_time": "2022-05-28T21:28:00.109Z"
   },
   {
    "duration": 41,
    "start_time": "2022-05-28T21:28:00.256Z"
   },
   {
    "duration": 17,
    "start_time": "2022-05-28T21:28:00.299Z"
   },
   {
    "duration": 14,
    "start_time": "2022-05-28T21:28:00.317Z"
   },
   {
    "duration": 7,
    "start_time": "2022-05-28T21:28:00.332Z"
   },
   {
    "duration": 12,
    "start_time": "2022-05-28T21:28:00.341Z"
   },
   {
    "duration": 35,
    "start_time": "2022-05-28T21:28:00.354Z"
   },
   {
    "duration": 14,
    "start_time": "2022-05-28T21:28:00.391Z"
   },
   {
    "duration": 12,
    "start_time": "2022-05-28T21:28:00.406Z"
   },
   {
    "duration": 33,
    "start_time": "2022-05-28T21:28:00.419Z"
   },
   {
    "duration": 3,
    "start_time": "2022-05-28T21:28:00.454Z"
   },
   {
    "duration": 9,
    "start_time": "2022-05-28T21:28:00.459Z"
   },
   {
    "duration": 23,
    "start_time": "2022-05-28T21:28:00.469Z"
   },
   {
    "duration": 219,
    "start_time": "2022-05-28T21:28:00.493Z"
   },
   {
    "duration": 4,
    "start_time": "2022-05-28T21:28:00.714Z"
   },
   {
    "duration": 15,
    "start_time": "2022-05-28T21:28:00.720Z"
   },
   {
    "duration": 91,
    "start_time": "2022-05-28T21:28:00.736Z"
   },
   {
    "duration": 12,
    "start_time": "2022-05-28T21:28:00.828Z"
   },
   {
    "duration": 16,
    "start_time": "2022-05-28T21:28:00.841Z"
   },
   {
    "duration": 91,
    "start_time": "2022-05-28T21:28:00.858Z"
   },
   {
    "duration": 3,
    "start_time": "2022-05-28T21:28:00.951Z"
   },
   {
    "duration": 43,
    "start_time": "2022-05-28T21:28:00.955Z"
   },
   {
    "duration": 17,
    "start_time": "2022-05-28T21:28:01.001Z"
   },
   {
    "duration": 54,
    "start_time": "2022-05-28T21:28:01.019Z"
   },
   {
    "duration": 1893,
    "start_time": "2022-05-28T21:28:01.074Z"
   },
   {
    "duration": 1736,
    "start_time": "2022-05-28T21:28:02.981Z"
   },
   {
    "duration": 97,
    "start_time": "2022-05-28T21:28:04.719Z"
   },
   {
    "duration": 99,
    "start_time": "2022-05-28T21:28:04.817Z"
   },
   {
    "duration": 11,
    "start_time": "2022-05-28T21:28:04.917Z"
   },
   {
    "duration": 6,
    "start_time": "2022-05-28T21:28:04.930Z"
   },
   {
    "duration": 11,
    "start_time": "2022-05-28T21:28:04.937Z"
   },
   {
    "duration": 4,
    "start_time": "2022-05-28T21:28:04.949Z"
   },
   {
    "duration": 175,
    "start_time": "2022-05-28T21:28:04.954Z"
   },
   {
    "duration": 1436,
    "start_time": "2022-05-28T21:28:05.130Z"
   },
   {
    "duration": 196,
    "start_time": "2022-05-28T21:28:06.568Z"
   },
   {
    "duration": 189,
    "start_time": "2022-05-28T21:28:06.765Z"
   },
   {
    "duration": 177,
    "start_time": "2022-05-28T21:28:06.956Z"
   },
   {
    "duration": 61,
    "start_time": "2022-05-28T21:28:07.135Z"
   }
  ],
  "kernelspec": {
   "display_name": "Python 3 (ipykernel)",
   "language": "python",
   "name": "python3"
  },
  "language_info": {
   "codemirror_mode": {
    "name": "ipython",
    "version": 3
   },
   "file_extension": ".py",
   "mimetype": "text/x-python",
   "name": "python",
   "nbconvert_exporter": "python",
   "pygments_lexer": "ipython3",
   "version": "3.9.12"
  },
  "toc": {
   "base_numbering": 1,
   "nav_menu": {
    "height": "219px",
    "width": "226px"
   },
   "number_sections": true,
   "sideBar": true,
   "skip_h1_title": true,
   "title_cell": "Table of Contents",
   "title_sidebar": "Contents",
   "toc_cell": false,
   "toc_position": {
    "height": "calc(100% - 180px)",
    "left": "10px",
    "top": "150px",
    "width": "165px"
   },
   "toc_section_display": true,
   "toc_window_display": true
  }
 },
 "nbformat": 4,
 "nbformat_minor": 2
}
