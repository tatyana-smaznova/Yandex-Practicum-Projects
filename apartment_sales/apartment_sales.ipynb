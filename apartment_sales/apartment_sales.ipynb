{
 "cells": [
  {
   "cell_type": "markdown",
   "metadata": {
    "toc": true
   },
   "source": [
    "<h1>Содержание<span class=\"tocSkip\"></span></h1>\n",
    "<div class=\"toc\"><ul class=\"toc-item\"><li><span><a href=\"#Изучение-данных-из-файла\" data-toc-modified-id=\"Изучение-данных-из-файла-1\"><span class=\"toc-item-num\">1&nbsp;&nbsp;</span>Изучение данных из файла</a></span><ul class=\"toc-item\"><li><span><a href=\"#Вывод\" data-toc-modified-id=\"Вывод-1.1\"><span class=\"toc-item-num\">1.1&nbsp;&nbsp;</span>Вывод</a></span></li></ul></li><li><span><a href=\"#Предобработка-данных\" data-toc-modified-id=\"Предобработка-данных-2\"><span class=\"toc-item-num\">2&nbsp;&nbsp;</span>Предобработка данных</a></span><ul class=\"toc-item\"><li><span><a href=\"#Вывод\" data-toc-modified-id=\"Вывод-2.1\"><span class=\"toc-item-num\">2.1&nbsp;&nbsp;</span>Вывод</a></span></li></ul></li><li><span><a href=\"#Расчёты-и-добавление-результатов-в-таблицу\" data-toc-modified-id=\"Расчёты-и-добавление-результатов-в-таблицу-3\"><span class=\"toc-item-num\">3&nbsp;&nbsp;</span>Расчёты и добавление результатов в таблицу</a></span><ul class=\"toc-item\"><li><span><a href=\"#Вывод\" data-toc-modified-id=\"Вывод-3.1\"><span class=\"toc-item-num\">3.1&nbsp;&nbsp;</span>Вывод</a></span></li></ul></li><li><span><a href=\"#Исследовательский-анализ-данных\" data-toc-modified-id=\"Исследовательский-анализ-данных-4\"><span class=\"toc-item-num\">4&nbsp;&nbsp;</span>Исследовательский анализ данных</a></span><ul class=\"toc-item\"><li><span><a href=\"#Вывод\" data-toc-modified-id=\"Вывод-4.1\"><span class=\"toc-item-num\">4.1&nbsp;&nbsp;</span>Вывод</a></span></li></ul></li><li><span><a href=\"#Общий-вывод\" data-toc-modified-id=\"Общий-вывод-5\"><span class=\"toc-item-num\">5&nbsp;&nbsp;</span>Общий вывод</a></span></li><li><span><a href=\"#Чек-лист-готовности-проекта\" data-toc-modified-id=\"Чек-лист-готовности-проекта-6\"><span class=\"toc-item-num\">6&nbsp;&nbsp;</span>Чек-лист готовности проекта</a></span></li></ul></div>"
   ]
  },
  {
   "cell_type": "markdown",
   "metadata": {},
   "source": [
    "# Исследование объявлений о продаже квартир\n",
    "\n",
    "В вашем распоряжении данные сервиса Яндекc Недвижимость — архив объявлений о продаже квартир в Санкт-Петербурге и соседних населённых пунктах за несколько лет. Нужно научиться определять рыночную стоимость объектов недвижимости. Ваша задача — установить параметры. Это позволит построить автоматизированную систему: она отследит аномалии и мошенническую деятельность. \n",
    "\n",
    "По каждой квартире на продажу доступны два вида данных. Первые вписаны пользователем, вторые получены автоматически на основе картографических данных. Например, расстояние до центра, аэропорта, ближайшего парка и водоёма. "
   ]
  },
  {
   "cell_type": "markdown",
   "metadata": {},
   "source": [
    "**Цель исследования** - проверить гипотезы:\n",
    "1. Квартиры на первом и последнем этаже дешевле квартир на других этажах.\n",
    "2. Стоимость квартиры снижается по мере удаления от центра.\n",
    "3. Квартиры с большей площадью дороже.\n",
    "4. С увеличением количества комнат стоимость квартиры увеличивается.\n",
    "5. Стоимость квартиры зависит от дня недели, в который было размещено объявление о продаже.\n",
    "\n",
    "**Задачи исследования**:\n",
    "1. Изучить общую информацию о данных.\n",
    "2. Обработать пропущенные значения в данных.\n",
    "3. Посчитать и добавить в таблицу:\n",
    "*а) цену квадратного метра;*\n",
    "*б) день недели, месяц и год публикации объявления;*\n",
    "*в) этаж квартиры; варианты — первый, последний, другой;*\n",
    "*г) соотношение жилой и общей площади, а также отношение площади кухни к общей.*\n",
    "4. Изучите следующие параметры: площадь, цена, число комнат, высота потолков. Построить гистограммы для каждого параметра.\n",
    "5. Изучить время продажи квартир.\n",
    "6. Убрать редкие и выбивающиеся значения.\n",
    "7. Выявить факторы, влияющие на стоимость квартир.\n",
    "8. Выбрать 10 населённых пунктов с наибольшим числом объявлений.\n",
    "9. Выделить населённые пункты с самой высокой и низкой стоимостью жилья.\n",
    "10. Проанализировать квартиры в центре.\n",
    "11. Сделать общий вывод."
   ]
  },
  {
   "cell_type": "markdown",
   "metadata": {},
   "source": [
    "## Изучение данных из файла"
   ]
  },
  {
   "cell_type": "markdown",
   "metadata": {},
   "source": [
    "Для начала работы необходимо добавить библиотеку pandas, которая является основным инструментом."
   ]
  },
  {
   "cell_type": "code",
   "execution_count": 1,
   "metadata": {},
   "outputs": [],
   "source": [
    "import pandas as pd\n",
    "import matplotlib.pyplot as plt \n",
    "import seaborn as sb"
   ]
  },
  {
   "cell_type": "markdown",
   "metadata": {},
   "source": [
    "Прочитаем файл с данными и сохраним его как df.\n",
    "Для корректного отображения данных необходимо добавить разделитель, которым в даннос случае является \"\\t\""
   ]
  },
  {
   "cell_type": "code",
   "execution_count": 2,
   "metadata": {},
   "outputs": [],
   "source": [
    "try:\n",
    "    df = pd.read_csv('/datasets/real_estate_data.csv',  sep='\\t')\n",
    "except: \n",
    "    df = pd.read_csv('/download/data.csv', sep='\\t')"
   ]
  },
  {
   "cell_type": "markdown",
   "metadata": {},
   "source": [
    "Получим первые 10 строк таблицы df. На этом этапе стало видно, что данные \"склеились\", нужно вернуться на шаг назад и добавить разделитель."
   ]
  },
  {
   "cell_type": "code",
   "execution_count": 3,
   "metadata": {},
   "outputs": [
    {
     "data": {
      "text/html": [
       "<div>\n",
       "<style scoped>\n",
       "    .dataframe tbody tr th:only-of-type {\n",
       "        vertical-align: middle;\n",
       "    }\n",
       "\n",
       "    .dataframe tbody tr th {\n",
       "        vertical-align: top;\n",
       "    }\n",
       "\n",
       "    .dataframe thead th {\n",
       "        text-align: right;\n",
       "    }\n",
       "</style>\n",
       "<table border=\"1\" class=\"dataframe\">\n",
       "  <thead>\n",
       "    <tr style=\"text-align: right;\">\n",
       "      <th></th>\n",
       "      <th>total_images</th>\n",
       "      <th>last_price</th>\n",
       "      <th>total_area</th>\n",
       "      <th>first_day_exposition</th>\n",
       "      <th>rooms</th>\n",
       "      <th>ceiling_height</th>\n",
       "      <th>floors_total</th>\n",
       "      <th>living_area</th>\n",
       "      <th>floor</th>\n",
       "      <th>is_apartment</th>\n",
       "      <th>...</th>\n",
       "      <th>kitchen_area</th>\n",
       "      <th>balcony</th>\n",
       "      <th>locality_name</th>\n",
       "      <th>airports_nearest</th>\n",
       "      <th>cityCenters_nearest</th>\n",
       "      <th>parks_around3000</th>\n",
       "      <th>parks_nearest</th>\n",
       "      <th>ponds_around3000</th>\n",
       "      <th>ponds_nearest</th>\n",
       "      <th>days_exposition</th>\n",
       "    </tr>\n",
       "  </thead>\n",
       "  <tbody>\n",
       "    <tr>\n",
       "      <th>0</th>\n",
       "      <td>20</td>\n",
       "      <td>13000000.0</td>\n",
       "      <td>108.00</td>\n",
       "      <td>2019-03-07T00:00:00</td>\n",
       "      <td>3</td>\n",
       "      <td>2.70</td>\n",
       "      <td>16.0</td>\n",
       "      <td>51.00</td>\n",
       "      <td>8</td>\n",
       "      <td>NaN</td>\n",
       "      <td>...</td>\n",
       "      <td>25.00</td>\n",
       "      <td>NaN</td>\n",
       "      <td>Санкт-Петербург</td>\n",
       "      <td>18863.0</td>\n",
       "      <td>16028.0</td>\n",
       "      <td>1.0</td>\n",
       "      <td>482.0</td>\n",
       "      <td>2.0</td>\n",
       "      <td>755.0</td>\n",
       "      <td>NaN</td>\n",
       "    </tr>\n",
       "    <tr>\n",
       "      <th>1</th>\n",
       "      <td>7</td>\n",
       "      <td>3350000.0</td>\n",
       "      <td>40.40</td>\n",
       "      <td>2018-12-04T00:00:00</td>\n",
       "      <td>1</td>\n",
       "      <td>NaN</td>\n",
       "      <td>11.0</td>\n",
       "      <td>18.60</td>\n",
       "      <td>1</td>\n",
       "      <td>NaN</td>\n",
       "      <td>...</td>\n",
       "      <td>11.00</td>\n",
       "      <td>2.0</td>\n",
       "      <td>посёлок Шушары</td>\n",
       "      <td>12817.0</td>\n",
       "      <td>18603.0</td>\n",
       "      <td>0.0</td>\n",
       "      <td>NaN</td>\n",
       "      <td>0.0</td>\n",
       "      <td>NaN</td>\n",
       "      <td>81.0</td>\n",
       "    </tr>\n",
       "    <tr>\n",
       "      <th>2</th>\n",
       "      <td>10</td>\n",
       "      <td>5196000.0</td>\n",
       "      <td>56.00</td>\n",
       "      <td>2015-08-20T00:00:00</td>\n",
       "      <td>2</td>\n",
       "      <td>NaN</td>\n",
       "      <td>5.0</td>\n",
       "      <td>34.30</td>\n",
       "      <td>4</td>\n",
       "      <td>NaN</td>\n",
       "      <td>...</td>\n",
       "      <td>8.30</td>\n",
       "      <td>0.0</td>\n",
       "      <td>Санкт-Петербург</td>\n",
       "      <td>21741.0</td>\n",
       "      <td>13933.0</td>\n",
       "      <td>1.0</td>\n",
       "      <td>90.0</td>\n",
       "      <td>2.0</td>\n",
       "      <td>574.0</td>\n",
       "      <td>558.0</td>\n",
       "    </tr>\n",
       "    <tr>\n",
       "      <th>3</th>\n",
       "      <td>0</td>\n",
       "      <td>64900000.0</td>\n",
       "      <td>159.00</td>\n",
       "      <td>2015-07-24T00:00:00</td>\n",
       "      <td>3</td>\n",
       "      <td>NaN</td>\n",
       "      <td>14.0</td>\n",
       "      <td>NaN</td>\n",
       "      <td>9</td>\n",
       "      <td>NaN</td>\n",
       "      <td>...</td>\n",
       "      <td>NaN</td>\n",
       "      <td>0.0</td>\n",
       "      <td>Санкт-Петербург</td>\n",
       "      <td>28098.0</td>\n",
       "      <td>6800.0</td>\n",
       "      <td>2.0</td>\n",
       "      <td>84.0</td>\n",
       "      <td>3.0</td>\n",
       "      <td>234.0</td>\n",
       "      <td>424.0</td>\n",
       "    </tr>\n",
       "    <tr>\n",
       "      <th>4</th>\n",
       "      <td>2</td>\n",
       "      <td>10000000.0</td>\n",
       "      <td>100.00</td>\n",
       "      <td>2018-06-19T00:00:00</td>\n",
       "      <td>2</td>\n",
       "      <td>3.03</td>\n",
       "      <td>14.0</td>\n",
       "      <td>32.00</td>\n",
       "      <td>13</td>\n",
       "      <td>NaN</td>\n",
       "      <td>...</td>\n",
       "      <td>41.00</td>\n",
       "      <td>NaN</td>\n",
       "      <td>Санкт-Петербург</td>\n",
       "      <td>31856.0</td>\n",
       "      <td>8098.0</td>\n",
       "      <td>2.0</td>\n",
       "      <td>112.0</td>\n",
       "      <td>1.0</td>\n",
       "      <td>48.0</td>\n",
       "      <td>121.0</td>\n",
       "    </tr>\n",
       "    <tr>\n",
       "      <th>5</th>\n",
       "      <td>10</td>\n",
       "      <td>2890000.0</td>\n",
       "      <td>30.40</td>\n",
       "      <td>2018-09-10T00:00:00</td>\n",
       "      <td>1</td>\n",
       "      <td>NaN</td>\n",
       "      <td>12.0</td>\n",
       "      <td>14.40</td>\n",
       "      <td>5</td>\n",
       "      <td>NaN</td>\n",
       "      <td>...</td>\n",
       "      <td>9.10</td>\n",
       "      <td>NaN</td>\n",
       "      <td>городской посёлок Янино-1</td>\n",
       "      <td>NaN</td>\n",
       "      <td>NaN</td>\n",
       "      <td>NaN</td>\n",
       "      <td>NaN</td>\n",
       "      <td>NaN</td>\n",
       "      <td>NaN</td>\n",
       "      <td>55.0</td>\n",
       "    </tr>\n",
       "    <tr>\n",
       "      <th>6</th>\n",
       "      <td>6</td>\n",
       "      <td>3700000.0</td>\n",
       "      <td>37.30</td>\n",
       "      <td>2017-11-02T00:00:00</td>\n",
       "      <td>1</td>\n",
       "      <td>NaN</td>\n",
       "      <td>26.0</td>\n",
       "      <td>10.60</td>\n",
       "      <td>6</td>\n",
       "      <td>NaN</td>\n",
       "      <td>...</td>\n",
       "      <td>14.40</td>\n",
       "      <td>1.0</td>\n",
       "      <td>посёлок Парголово</td>\n",
       "      <td>52996.0</td>\n",
       "      <td>19143.0</td>\n",
       "      <td>0.0</td>\n",
       "      <td>NaN</td>\n",
       "      <td>0.0</td>\n",
       "      <td>NaN</td>\n",
       "      <td>155.0</td>\n",
       "    </tr>\n",
       "    <tr>\n",
       "      <th>7</th>\n",
       "      <td>5</td>\n",
       "      <td>7915000.0</td>\n",
       "      <td>71.60</td>\n",
       "      <td>2019-04-18T00:00:00</td>\n",
       "      <td>2</td>\n",
       "      <td>NaN</td>\n",
       "      <td>24.0</td>\n",
       "      <td>NaN</td>\n",
       "      <td>22</td>\n",
       "      <td>NaN</td>\n",
       "      <td>...</td>\n",
       "      <td>18.90</td>\n",
       "      <td>2.0</td>\n",
       "      <td>Санкт-Петербург</td>\n",
       "      <td>23982.0</td>\n",
       "      <td>11634.0</td>\n",
       "      <td>0.0</td>\n",
       "      <td>NaN</td>\n",
       "      <td>0.0</td>\n",
       "      <td>NaN</td>\n",
       "      <td>NaN</td>\n",
       "    </tr>\n",
       "    <tr>\n",
       "      <th>8</th>\n",
       "      <td>20</td>\n",
       "      <td>2900000.0</td>\n",
       "      <td>33.16</td>\n",
       "      <td>2018-05-23T00:00:00</td>\n",
       "      <td>1</td>\n",
       "      <td>NaN</td>\n",
       "      <td>27.0</td>\n",
       "      <td>15.43</td>\n",
       "      <td>26</td>\n",
       "      <td>NaN</td>\n",
       "      <td>...</td>\n",
       "      <td>8.81</td>\n",
       "      <td>NaN</td>\n",
       "      <td>посёлок Мурино</td>\n",
       "      <td>NaN</td>\n",
       "      <td>NaN</td>\n",
       "      <td>NaN</td>\n",
       "      <td>NaN</td>\n",
       "      <td>NaN</td>\n",
       "      <td>NaN</td>\n",
       "      <td>189.0</td>\n",
       "    </tr>\n",
       "    <tr>\n",
       "      <th>9</th>\n",
       "      <td>18</td>\n",
       "      <td>5400000.0</td>\n",
       "      <td>61.00</td>\n",
       "      <td>2017-02-26T00:00:00</td>\n",
       "      <td>3</td>\n",
       "      <td>2.50</td>\n",
       "      <td>9.0</td>\n",
       "      <td>43.60</td>\n",
       "      <td>7</td>\n",
       "      <td>NaN</td>\n",
       "      <td>...</td>\n",
       "      <td>6.50</td>\n",
       "      <td>2.0</td>\n",
       "      <td>Санкт-Петербург</td>\n",
       "      <td>50898.0</td>\n",
       "      <td>15008.0</td>\n",
       "      <td>0.0</td>\n",
       "      <td>NaN</td>\n",
       "      <td>0.0</td>\n",
       "      <td>NaN</td>\n",
       "      <td>289.0</td>\n",
       "    </tr>\n",
       "  </tbody>\n",
       "</table>\n",
       "<p>10 rows × 22 columns</p>\n",
       "</div>"
      ],
      "text/plain": [
       "   total_images  last_price  total_area first_day_exposition  rooms  \\\n",
       "0            20  13000000.0      108.00  2019-03-07T00:00:00      3   \n",
       "1             7   3350000.0       40.40  2018-12-04T00:00:00      1   \n",
       "2            10   5196000.0       56.00  2015-08-20T00:00:00      2   \n",
       "3             0  64900000.0      159.00  2015-07-24T00:00:00      3   \n",
       "4             2  10000000.0      100.00  2018-06-19T00:00:00      2   \n",
       "5            10   2890000.0       30.40  2018-09-10T00:00:00      1   \n",
       "6             6   3700000.0       37.30  2017-11-02T00:00:00      1   \n",
       "7             5   7915000.0       71.60  2019-04-18T00:00:00      2   \n",
       "8            20   2900000.0       33.16  2018-05-23T00:00:00      1   \n",
       "9            18   5400000.0       61.00  2017-02-26T00:00:00      3   \n",
       "\n",
       "   ceiling_height  floors_total  living_area  floor is_apartment  ...  \\\n",
       "0            2.70          16.0        51.00      8          NaN  ...   \n",
       "1             NaN          11.0        18.60      1          NaN  ...   \n",
       "2             NaN           5.0        34.30      4          NaN  ...   \n",
       "3             NaN          14.0          NaN      9          NaN  ...   \n",
       "4            3.03          14.0        32.00     13          NaN  ...   \n",
       "5             NaN          12.0        14.40      5          NaN  ...   \n",
       "6             NaN          26.0        10.60      6          NaN  ...   \n",
       "7             NaN          24.0          NaN     22          NaN  ...   \n",
       "8             NaN          27.0        15.43     26          NaN  ...   \n",
       "9            2.50           9.0        43.60      7          NaN  ...   \n",
       "\n",
       "   kitchen_area  balcony              locality_name  airports_nearest  \\\n",
       "0         25.00      NaN            Санкт-Петербург           18863.0   \n",
       "1         11.00      2.0             посёлок Шушары           12817.0   \n",
       "2          8.30      0.0            Санкт-Петербург           21741.0   \n",
       "3           NaN      0.0            Санкт-Петербург           28098.0   \n",
       "4         41.00      NaN            Санкт-Петербург           31856.0   \n",
       "5          9.10      NaN  городской посёлок Янино-1               NaN   \n",
       "6         14.40      1.0          посёлок Парголово           52996.0   \n",
       "7         18.90      2.0            Санкт-Петербург           23982.0   \n",
       "8          8.81      NaN             посёлок Мурино               NaN   \n",
       "9          6.50      2.0            Санкт-Петербург           50898.0   \n",
       "\n",
       "  cityCenters_nearest  parks_around3000  parks_nearest  ponds_around3000  \\\n",
       "0             16028.0               1.0          482.0               2.0   \n",
       "1             18603.0               0.0            NaN               0.0   \n",
       "2             13933.0               1.0           90.0               2.0   \n",
       "3              6800.0               2.0           84.0               3.0   \n",
       "4              8098.0               2.0          112.0               1.0   \n",
       "5                 NaN               NaN            NaN               NaN   \n",
       "6             19143.0               0.0            NaN               0.0   \n",
       "7             11634.0               0.0            NaN               0.0   \n",
       "8                 NaN               NaN            NaN               NaN   \n",
       "9             15008.0               0.0            NaN               0.0   \n",
       "\n",
       "   ponds_nearest  days_exposition  \n",
       "0          755.0              NaN  \n",
       "1            NaN             81.0  \n",
       "2          574.0            558.0  \n",
       "3          234.0            424.0  \n",
       "4           48.0            121.0  \n",
       "5            NaN             55.0  \n",
       "6            NaN            155.0  \n",
       "7            NaN              NaN  \n",
       "8            NaN            189.0  \n",
       "9            NaN            289.0  \n",
       "\n",
       "[10 rows x 22 columns]"
      ]
     },
     "execution_count": 3,
     "metadata": {},
     "output_type": "execute_result"
    }
   ],
   "source": [
    "df.head(10)"
   ]
  },
  {
   "cell_type": "markdown",
   "metadata": {},
   "source": [
    "Получим общую информацию о данных в таблице df"
   ]
  },
  {
   "cell_type": "code",
   "execution_count": 4,
   "metadata": {
    "scrolled": true
   },
   "outputs": [
    {
     "name": "stdout",
     "output_type": "stream",
     "text": [
      "<class 'pandas.core.frame.DataFrame'>\n",
      "RangeIndex: 23699 entries, 0 to 23698\n",
      "Data columns (total 22 columns):\n",
      " #   Column                Non-Null Count  Dtype  \n",
      "---  ------                --------------  -----  \n",
      " 0   total_images          23699 non-null  int64  \n",
      " 1   last_price            23699 non-null  float64\n",
      " 2   total_area            23699 non-null  float64\n",
      " 3   first_day_exposition  23699 non-null  object \n",
      " 4   rooms                 23699 non-null  int64  \n",
      " 5   ceiling_height        14504 non-null  float64\n",
      " 6   floors_total          23613 non-null  float64\n",
      " 7   living_area           21796 non-null  float64\n",
      " 8   floor                 23699 non-null  int64  \n",
      " 9   is_apartment          2775 non-null   object \n",
      " 10  studio                23699 non-null  bool   \n",
      " 11  open_plan             23699 non-null  bool   \n",
      " 12  kitchen_area          21421 non-null  float64\n",
      " 13  balcony               12180 non-null  float64\n",
      " 14  locality_name         23650 non-null  object \n",
      " 15  airports_nearest      18157 non-null  float64\n",
      " 16  cityCenters_nearest   18180 non-null  float64\n",
      " 17  parks_around3000      18181 non-null  float64\n",
      " 18  parks_nearest         8079 non-null   float64\n",
      " 19  ponds_around3000      18181 non-null  float64\n",
      " 20  ponds_nearest         9110 non-null   float64\n",
      " 21  days_exposition       20518 non-null  float64\n",
      "dtypes: bool(2), float64(14), int64(3), object(3)\n",
      "memory usage: 3.7+ MB\n"
     ]
    }
   ],
   "source": [
    "df.info()"
   ]
  },
  {
   "cell_type": "markdown",
   "metadata": {},
   "source": [
    "Итак, в таблице 22 столбца с разным типом данных - int64 (3 столбца), float64 (14 столбцов), object (3 столбца), bool (2 стоблца). \n",
    "\n",
    "Согласно документации к данным:\n",
    "**airports_nearest** — расстояние до ближайшего аэропорта в метрах (м)\n",
    "**balcony** — число балконов\n",
    "**ceiling_height** — высота потолков (м)\n",
    "**cityCenters_nearest** — расстояние до центра города (м)\n",
    "**days_exposition** — сколько дней было размещено объявление (от публикации до снятия)\n",
    "**first_day_exposition** — дата публикации\n",
    "**floor** — этаж\n",
    "**floors_total** — всего этажей в доме\n",
    "**is_apartment** — апартаменты (булев тип)\n",
    "**kitchen_area** — площадь кухни в квадратных метрах (м²)\n",
    "**last_price** — цена на момент снятия с публикации\n",
    "**living_area** — жилая площадь в квадратных метрах (м²)\n",
    "**locality_name** — название населённого пункта\n",
    "**open_plan** — свободная планировка (булев тип)\n",
    "**parks_around3000** — число парков в радиусе 3 км\n",
    "**parks_nearest** — расстояние до ближайшего парка (м)\n",
    "**ponds_around3000** — число водоёмов в радиусе 3 км\n",
    "**ponds_nearest** — расстояние до ближайшего водоёма (м)\n",
    "**rooms** — число комнат\n",
    "**studio** — квартира-студия (булев тип)\n",
    "**total_area** — площадь квартиры в квадратных метрах (м²)\n",
    "**total_images** — число фотографий квартиры в объявлении\n",
    "\n",
    "Необходимо переименовать столбец cityCenters_nearest, так как он только частично написан змеиным регистром.\n",
    "\n",
    "Количество значений в столбцах различается. Значит, в данных есть пропущенные значения.\n",
    "\n",
    "В некоторых стобцах нужно изменить тип данных с float64 на int64. К этим столбцам относятся: floors_total, balcony, parks_around3000, ponds_around3000, days_exposition. Это необходимо сделать, так как данные в указанных столбцах всегда исчисляются целыми числами, в датафрейме после точки стоит 0.\n",
    "Также можно округлить до целого значения данные в следующих столбцах: airports_nearest, ceiling_height, cityCenters_nearest, parks_nearest, ponds_nearest."
   ]
  },
  {
   "cell_type": "markdown",
   "metadata": {},
   "source": [
    "Подсчитаем количество пропусков в датасете."
   ]
  },
  {
   "cell_type": "code",
   "execution_count": 5,
   "metadata": {},
   "outputs": [
    {
     "name": "stdout",
     "output_type": "stream",
     "text": [
      "total_images                0\n",
      "last_price                  0\n",
      "total_area                  0\n",
      "first_day_exposition        0\n",
      "rooms                       0\n",
      "ceiling_height           9195\n",
      "floors_total               86\n",
      "living_area              1903\n",
      "floor                       0\n",
      "is_apartment            20924\n",
      "studio                      0\n",
      "open_plan                   0\n",
      "kitchen_area             2278\n",
      "balcony                 11519\n",
      "locality_name              49\n",
      "airports_nearest         5542\n",
      "cityCenters_nearest      5519\n",
      "parks_around3000         5518\n",
      "parks_nearest           15620\n",
      "ponds_around3000         5518\n",
      "ponds_nearest           14589\n",
      "days_exposition          3181\n",
      "dtype: int64\n"
     ]
    }
   ],
   "source": [
    "print(df.isna().sum())"
   ]
  },
  {
   "cell_type": "markdown",
   "metadata": {},
   "source": [
    "### Вывод"
   ]
  },
  {
   "cell_type": "markdown",
   "metadata": {},
   "source": [
    "Исходя из обзора данных видно, что в данных есть некоторые проблемы:\n",
    "1. название столбца, нарушающее правила стиля;\n",
    "2. неподходящий тип данных;\n",
    "3. пропущенные значения.\n",
    "\n",
    "Переименовать столбец можно сразу, а изменить тип данных только после заполнения пропусков."
   ]
  },
  {
   "cell_type": "markdown",
   "metadata": {},
   "source": [
    "## Предобработка данных"
   ]
  },
  {
   "cell_type": "markdown",
   "metadata": {},
   "source": [
    "Переименуем столбец cityCenters_nearest в city_centers_nearest, в этом случае будет использован змеиный регистр и исчезнет заглавная буква."
   ]
  },
  {
   "cell_type": "code",
   "execution_count": 6,
   "metadata": {},
   "outputs": [],
   "source": [
    "df.rename(columns={'cityCenters_nearest' : 'city_centers_nearest'}, inplace = True)"
   ]
  },
  {
   "cell_type": "markdown",
   "metadata": {},
   "source": [
    "Проверим уникальные значения в каждом столбце. Начнём со столбца airports_nearest."
   ]
  },
  {
   "cell_type": "code",
   "execution_count": 7,
   "metadata": {},
   "outputs": [
    {
     "name": "stdout",
     "output_type": "stream",
     "text": [
      "37434.0    61\n",
      "21928.0    32\n",
      "39946.0    30\n",
      "44870.0    30\n",
      "18732.0    27\n",
      "           ..\n",
      "53478.0     1\n",
      "20335.0     1\n",
      "33699.0     1\n",
      "26945.0     1\n",
      "20875.0     1\n",
      "Name: airports_nearest, Length: 8275, dtype: int64\n"
     ]
    },
    {
     "data": {
      "text/plain": [
       "count    18157.000000\n",
       "mean     28793.672193\n",
       "std      12630.880622\n",
       "min          0.000000\n",
       "25%      18585.000000\n",
       "50%      26726.000000\n",
       "75%      37273.000000\n",
       "max      84869.000000\n",
       "Name: airports_nearest, dtype: float64"
      ]
     },
     "execution_count": 7,
     "metadata": {},
     "output_type": "execute_result"
    },
    {
     "data": {
      "image/png": "[encoded data removed]",
      "text/plain": [
       "<Figure size 432x288 with 1 Axes>"
      ]
     },
     "metadata": {
      "needs_background": "light"
     },
     "output_type": "display_data"
    }
   ],
   "source": [
    "print(df['airports_nearest'].value_counts())\n",
    "\n",
    "plt.ylim(0,70000) \n",
    "df.boxplot(['airports_nearest'])\n",
    "\n",
    "df['airports_nearest'].describe() "
   ]
  },
  {
   "cell_type": "markdown",
   "metadata": {},
   "source": [
    "Значения сильно различаются, также график определяет значения больше 65000 как выбросы. Так как в таблице с данными есть сведения о квартирах, которые находятся на севере Ленинградской области, то до аэропорта, расположенного на юге Санкт-Петербурга, действительно далеко. Эти данные могут быть реальными, удалять их не будем, а пропуски, которые могли возникнуть по причине того, что человек не знает удалённость аэропорта, в столбце заполним медианным значением."
   ]
  },
  {
   "cell_type": "code",
   "execution_count": 8,
   "metadata": {},
   "outputs": [],
   "source": [
    "df['airports_nearest'] = df['airports_nearest'].fillna(df['airports_nearest'].median())"
   ]
  },
  {
   "cell_type": "markdown",
   "metadata": {},
   "source": [
    "Округлим данные и приведеём их к целочисленному значению."
   ]
  },
  {
   "cell_type": "code",
   "execution_count": 9,
   "metadata": {},
   "outputs": [],
   "source": [
    "df['airports_nearest'] = df['airports_nearest'].round()"
   ]
  },
  {
   "cell_type": "code",
   "execution_count": 10,
   "metadata": {},
   "outputs": [],
   "source": [
    "df['airports_nearest'] = df['airports_nearest'].astype('int')"
   ]
  },
  {
   "cell_type": "markdown",
   "metadata": {},
   "source": [
    "Заменим пропуски в столбце balcony на 0 и сразу изменим тип данных."
   ]
  },
  {
   "cell_type": "code",
   "execution_count": 11,
   "metadata": {},
   "outputs": [],
   "source": [
    "df['balcony'] = df['balcony'].fillna(0)"
   ]
  },
  {
   "cell_type": "code",
   "execution_count": 12,
   "metadata": {},
   "outputs": [],
   "source": [
    "df['balcony'] = df['balcony'].astype('int')"
   ]
  },
  {
   "cell_type": "markdown",
   "metadata": {},
   "source": [
    "Проверим уникальные значения в столбце balcony."
   ]
  },
  {
   "cell_type": "code",
   "execution_count": 13,
   "metadata": {},
   "outputs": [
    {
     "name": "stdout",
     "output_type": "stream",
     "text": [
      "0    15277\n",
      "1     4195\n",
      "2     3659\n",
      "5      304\n",
      "4      183\n",
      "3       81\n",
      "Name: balcony, dtype: int64\n"
     ]
    },
    {
     "data": {
      "text/plain": [
       "<AxesSubplot:>"
      ]
     },
     "execution_count": 13,
     "metadata": {},
     "output_type": "execute_result"
    },
    {
     "data": {
      "image/png": "[encoded data removed]",
      "text/plain": [
       "<Figure size 432x288 with 1 Axes>"
      ]
     },
     "metadata": {
      "needs_background": "light"
     },
     "output_type": "display_data"
    }
   ],
   "source": [
    "print(df['balcony'].value_counts())\n",
    "\n",
    "plt.ylim(0,5) \n",
    "df.boxplot(['balcony'])"
   ]
  },
  {
   "cell_type": "markdown",
   "metadata": {},
   "source": [
    "Если построить ящик с усами, то выбросами на нём омечены все значения, превышающие 2. Удалим выбросы."
   ]
  },
  {
   "cell_type": "code",
   "execution_count": 14,
   "metadata": {},
   "outputs": [],
   "source": [
    "df = df[(df.balcony <= 2)]"
   ]
  },
  {
   "cell_type": "markdown",
   "metadata": {},
   "source": [
    "Проверим уникальные значения в столбце ceiling_height."
   ]
  },
  {
   "cell_type": "code",
   "execution_count": 15,
   "metadata": {
    "scrolled": true
   },
   "outputs": [
    {
     "name": "stdout",
     "output_type": "stream",
     "text": [
      "2.50     3452\n",
      "2.60     1593\n",
      "2.70     1524\n",
      "3.00     1060\n",
      "2.55      957\n",
      "         ... \n",
      "22.60       1\n",
      "4.90        1\n",
      "5.20        1\n",
      "2.49        1\n",
      "4.65        1\n",
      "Name: ceiling_height, Length: 181, dtype: int64\n"
     ]
    },
    {
     "data": {
      "text/plain": [
       "count    14058.000000\n",
       "mean         2.760489\n",
       "std          0.918138\n",
       "min          1.000000\n",
       "25%          2.500000\n",
       "50%          2.650000\n",
       "75%          2.800000\n",
       "max         32.000000\n",
       "Name: ceiling_height, dtype: float64"
      ]
     },
     "execution_count": 15,
     "metadata": {},
     "output_type": "execute_result"
    },
    {
     "data": {
      "image/png": "[encoded data removed]",
      "text/plain": [
       "<Figure size 432x288 with 1 Axes>"
      ]
     },
     "metadata": {
      "needs_background": "light"
     },
     "output_type": "display_data"
    }
   ],
   "source": [
    "print(df['ceiling_height'].value_counts())\n",
    "\n",
    "plt.ylim(0,4) \n",
    "df.boxplot(['ceiling_height'])\n",
    "\n",
    "df['ceiling_height'].describe() "
   ]
  },
  {
   "cell_type": "markdown",
   "metadata": {},
   "source": [
    "В таблице можно заметить необоснованно большие значения высоты потолков и слишком низкие. Избавимся от них.\n",
    "Так как в старых домах Санкт-Петербурга могут сохраниться потолки выше тех, что отмечены на графике 3.3 метра, то округлим это значение до 5 метров, а всё, что выше, удалим. Также в столбце есть пропуски, возможно, перед продажей не смогли измерить высоту потолков, а в документах такой информации не нашлось. Заполним медианой."
   ]
  },
  {
   "cell_type": "code",
   "execution_count": 16,
   "metadata": {},
   "outputs": [],
   "source": [
    "df['ceiling_height'] = df['ceiling_height'].fillna(df['ceiling_height'].median())"
   ]
  },
  {
   "cell_type": "code",
   "execution_count": 17,
   "metadata": {},
   "outputs": [],
   "source": [
    "df = df[(df.ceiling_height <= 5.0) & (df.ceiling_height >= 2.0)]"
   ]
  },
  {
   "cell_type": "markdown",
   "metadata": {},
   "source": [
    "Поменяла шаги местами, спасибо за замечание."
   ]
  },
  {
   "cell_type": "code",
   "execution_count": 18,
   "metadata": {},
   "outputs": [],
   "source": [
    "df['ceiling_height'] = df[df['ceiling_height'].notnull()]['ceiling_height'].round(1)"
   ]
  },
  {
   "cell_type": "markdown",
   "metadata": {},
   "source": [
    "Проверим уникальные значения в столбце city_centers_nearest."
   ]
  },
  {
   "cell_type": "code",
   "execution_count": 19,
   "metadata": {
    "scrolled": true
   },
   "outputs": [
    {
     "name": "stdout",
     "output_type": "stream",
     "text": [
      "8460.0     58\n",
      "10720.0    29\n",
      "8434.0     27\n",
      "20444.0    25\n",
      "20802.0    25\n",
      "           ..\n",
      "12747.0     1\n",
      "8767.0      1\n",
      "29890.0     1\n",
      "9884.0      1\n",
      "4234.0      1\n",
      "Name: city_centers_nearest, Length: 7570, dtype: int64\n"
     ]
    },
    {
     "data": {
      "text/plain": [
       "count    17708.000000\n",
       "mean     14175.833465\n",
       "std       8620.052399\n",
       "min        181.000000\n",
       "25%       9187.750000\n",
       "50%      13094.000000\n",
       "75%      16294.000000\n",
       "max      65968.000000\n",
       "Name: city_centers_nearest, dtype: float64"
      ]
     },
     "execution_count": 19,
     "metadata": {},
     "output_type": "execute_result"
    },
    {
     "data": {
      "image/png": "[encoded data removed]",
      "text/plain": [
       "<Figure size 432x288 with 1 Axes>"
      ]
     },
     "metadata": {
      "needs_background": "light"
     },
     "output_type": "display_data"
    }
   ],
   "source": [
    "print(df['city_centers_nearest'].value_counts())\n",
    "\n",
    "plt.ylim(0,50000) \n",
    "df.boxplot(['city_centers_nearest'])\n",
    "\n",
    "df['city_centers_nearest'].describe() "
   ]
  },
  {
   "cell_type": "markdown",
   "metadata": {},
   "source": [
    "На данном графике можно заметить много больших выбросов, но сложно сказать действительно ли они являются слишком высокими значениями (выбросами) или населённый пункт расположен уже в Ленинградской области, слишком далеко от центра Санкт-Петербурга. Эти данные пока трогать не будем."
   ]
  },
  {
   "cell_type": "markdown",
   "metadata": {},
   "source": [
    "Заполним пропуски в данных медианным значением."
   ]
  },
  {
   "cell_type": "code",
   "execution_count": 21,
   "metadata": {},
   "outputs": [],
   "source": [
    "df['city_centers_nearest'] = df['city_centers_nearest'].fillna(df['city_centers_nearest'].median())"
   ]
  },
  {
   "cell_type": "markdown",
   "metadata": {},
   "source": [
    "Округлим данные."
   ]
  },
  {
   "cell_type": "code",
   "execution_count": 22,
   "metadata": {},
   "outputs": [],
   "source": [
    "df['city_centers_nearest'] = df['city_centers_nearest'].round()"
   ]
  },
  {
   "cell_type": "markdown",
   "metadata": {},
   "source": [
    "В этом месте код работает через раз, не понимаю причины. Иногда код работает при округлении и изменении типа данных в одной строке, иногда если разбить их на две отдельные строчки. Сейxас выдаёт ошибку при обоих вариантах. Я оставила данные в типе float64."
   ]
  },
  {
   "cell_type": "markdown",
   "metadata": {},
   "source": [
    "Проверим уникальные значения в столбце days_exposition."
   ]
  },
  {
   "cell_type": "code",
   "execution_count": 23,
   "metadata": {},
   "outputs": [
    {
     "name": "stdout",
     "output_type": "stream",
     "text": [
      "45.0      868\n",
      "60.0      527\n",
      "7.0       224\n",
      "30.0      205\n",
      "90.0      190\n",
      "         ... \n",
      "818.0       1\n",
      "969.0       1\n",
      "1147.0      1\n",
      "1148.0      1\n",
      "1174.0      1\n",
      "Name: days_exposition, Length: 1136, dtype: int64\n"
     ]
    },
    {
     "data": {
      "text/plain": [
       "count    20030.000000\n",
       "mean       180.712232\n",
       "std        219.747753\n",
       "min          1.000000\n",
       "25%         45.000000\n",
       "50%         95.000000\n",
       "75%        231.000000\n",
       "max       1572.000000\n",
       "Name: days_exposition, dtype: float64"
      ]
     },
     "execution_count": 23,
     "metadata": {},
     "output_type": "execute_result"
    },
    {
     "data": {
      "image/png": "[encoded data removed]",
      "text/plain": [
       "<Figure size 432x288 with 1 Axes>"
      ]
     },
     "metadata": {
      "needs_background": "light"
     },
     "output_type": "display_data"
    }
   ],
   "source": [
    "print(df['days_exposition'].value_counts())\n",
    "\n",
    "plt.ylim(0,600) \n",
    "df.boxplot(['days_exposition'])\n",
    "\n",
    "df['days_exposition'].describe() "
   ]
  },
  {
   "cell_type": "markdown",
   "metadata": {},
   "source": [
    "Так как на скорость продажи квартиры влияет множество факторов, то невозможно достоверно определить сколько дней продавались квартиры, у которых данный пункт не указан. Не будем заполнять пропуски в этом столбце."
   ]
  },
  {
   "cell_type": "markdown",
   "metadata": {},
   "source": [
    "В данных замечены выбросы, а максимальное значение равно 1572 дня. Вряд ли квартира продавалась так долго, это 4,3 года. Вероятно, объявление забыли удалить. На графике выбросами отмечены значения больше 510 дней. Больше 75% данных меньше этого значения. Так как на продаваемость квартиры влияют разные факторы и продажа действительно может занимать больше времени, стоит увеличить это значение до 560 дней."
   ]
  },
  {
   "cell_type": "code",
   "execution_count": 24,
   "metadata": {},
   "outputs": [],
   "source": [
    "df = df[(df.days_exposition <= 560)]"
   ]
  },
  {
   "cell_type": "markdown",
   "metadata": {},
   "source": [
    "Проверим уникальные значения в столбце first_day_exposition."
   ]
  },
  {
   "cell_type": "code",
   "execution_count": 25,
   "metadata": {},
   "outputs": [
    {
     "name": "stdout",
     "output_type": "stream",
     "text": [
      "2018-02-01T00:00:00    346\n",
      "2017-11-10T00:00:00    227\n",
      "2017-10-13T00:00:00    117\n",
      "2017-09-27T00:00:00    107\n",
      "2018-07-10T00:00:00     90\n",
      "                      ... \n",
      "2015-08-21T00:00:00      1\n",
      "2016-09-09T00:00:00      1\n",
      "2015-12-29T00:00:00      1\n",
      "2017-01-15T00:00:00      1\n",
      "2016-10-26T00:00:00      1\n",
      "Name: first_day_exposition, Length: 1354, dtype: int64\n"
     ]
    }
   ],
   "source": [
    "print(df['first_day_exposition'].value_counts())"
   ]
  },
  {
   "cell_type": "markdown",
   "metadata": {},
   "source": [
    "Время публикации объявления не указано, поэтому изменим формат отображения данных, оставив только дату."
   ]
  },
  {
   "cell_type": "code",
   "execution_count": 26,
   "metadata": {},
   "outputs": [],
   "source": [
    "df['first_day_exposition'] = pd.to_datetime(df['first_day_exposition'], format = '%Y-%m-%d')"
   ]
  },
  {
   "cell_type": "markdown",
   "metadata": {},
   "source": [
    "Проверим уникальные значения в столбце floor."
   ]
  },
  {
   "cell_type": "code",
   "execution_count": 27,
   "metadata": {},
   "outputs": [
    {
     "name": "stdout",
     "output_type": "stream",
     "text": [
      "2     2608\n",
      "3     2409\n",
      "1     2255\n",
      "4     2165\n",
      "5     2040\n",
      "6     1031\n",
      "7      956\n",
      "9      872\n",
      "8      854\n",
      "10     549\n",
      "12     440\n",
      "11     425\n",
      "13     312\n",
      "14     270\n",
      "15     269\n",
      "16     262\n",
      "17     188\n",
      "18     143\n",
      "19     120\n",
      "21     106\n",
      "20      93\n",
      "22      88\n",
      "23      86\n",
      "24      47\n",
      "25      36\n",
      "26      21\n",
      "27      10\n",
      "32       1\n",
      "28       1\n",
      "33       1\n",
      "31       1\n",
      "Name: floor, dtype: int64\n"
     ]
    },
    {
     "data": {
      "text/plain": [
       "count    18659.000000\n",
       "mean         5.983279\n",
       "std          4.938971\n",
       "min          1.000000\n",
       "25%          2.000000\n",
       "50%          4.000000\n",
       "75%          8.000000\n",
       "max         33.000000\n",
       "Name: floor, dtype: float64"
      ]
     },
     "execution_count": 27,
     "metadata": {},
     "output_type": "execute_result"
    },
    {
     "data": {
      "image/png": "[encoded data removed]",
      "text/plain": [
       "<Figure size 432x288 with 1 Axes>"
      ]
     },
     "metadata": {
      "needs_background": "light"
     },
     "output_type": "display_data"
    }
   ],
   "source": [
    "print(df['floor'].value_counts())\n",
    "\n",
    "plt.ylim(0,35) \n",
    "df.boxplot(['floor'])\n",
    "\n",
    "df['floor'].describe() "
   ]
  },
  {
   "cell_type": "markdown",
   "metadata": {},
   "source": [
    "Значения различаются, среднее совсем небольшое. Не будем удалять данные, отмеченные на графике выбросами, так как это могут быть жилищные ккомплексы с большой этажностью. Я поискала в интернете, в Санкт-Петербурге есть ЖК с похожей этажностью."
   ]
  },
  {
   "cell_type": "markdown",
   "metadata": {},
   "source": [
    "Округлим значения столбца и приведём их к целочисленному значению."
   ]
  },
  {
   "cell_type": "code",
   "execution_count": 28,
   "metadata": {},
   "outputs": [],
   "source": [
    "df['floor'] = df['floor'].round().astype('int')"
   ]
  },
  {
   "cell_type": "markdown",
   "metadata": {},
   "source": [
    "Проверим уникальные значения в столбце floors_total."
   ]
  },
  {
   "cell_type": "code",
   "execution_count": 29,
   "metadata": {},
   "outputs": [
    {
     "name": "stdout",
     "output_type": "stream",
     "text": [
      "5.0     4500\n",
      "9.0     3049\n",
      "12.0    1112\n",
      "16.0    1082\n",
      "25.0     907\n",
      "10.0     901\n",
      "4.0      883\n",
      "6.0      665\n",
      "17.0     657\n",
      "3.0      507\n",
      "14.0     456\n",
      "7.0      418\n",
      "18.0     412\n",
      "24.0     379\n",
      "15.0     294\n",
      "23.0     293\n",
      "19.0     290\n",
      "2.0      277\n",
      "8.0      277\n",
      "22.0     238\n",
      "20.0     219\n",
      "13.0     185\n",
      "27.0     141\n",
      "11.0     139\n",
      "21.0     138\n",
      "26.0     107\n",
      "1.0       20\n",
      "35.0      18\n",
      "28.0      16\n",
      "60.0       1\n",
      "34.0       1\n",
      "29.0       1\n",
      "36.0       1\n",
      "52.0       1\n",
      "33.0       1\n",
      "Name: floors_total, dtype: int64\n"
     ]
    },
    {
     "data": {
      "text/plain": [
       "count    18586.000000\n",
       "mean        10.875067\n",
       "std          6.668417\n",
       "min          1.000000\n",
       "25%          5.000000\n",
       "50%          9.000000\n",
       "75%         16.000000\n",
       "max         60.000000\n",
       "Name: floors_total, dtype: float64"
      ]
     },
     "execution_count": 29,
     "metadata": {},
     "output_type": "execute_result"
    },
    {
     "data": {
      "image/png": "[encoded data removed]",
      "text/plain": [
       "<Figure size 432x288 with 1 Axes>"
      ]
     },
     "metadata": {
      "needs_background": "light"
     },
     "output_type": "display_data"
    }
   ],
   "source": [
    "print(df['floors_total'].value_counts())\n",
    "\n",
    "plt.ylim(0,35) \n",
    "df.boxplot(['floors_total'])\n",
    "\n",
    "df['floors_total'].describe() "
   ]
  },
  {
   "cell_type": "markdown",
   "metadata": {},
   "source": [
    "Здесь удалим строки, в которых этажность больше 28 этажей - эти значения сильно выделяются на графике и в реальной жизни."
   ]
  },
  {
   "cell_type": "code",
   "execution_count": 30,
   "metadata": {},
   "outputs": [],
   "source": [
    "df = df[(df.floors_total <= 28)]"
   ]
  },
  {
   "cell_type": "markdown",
   "metadata": {},
   "source": [
    "Изменим тип данных."
   ]
  },
  {
   "cell_type": "code",
   "execution_count": 31,
   "metadata": {},
   "outputs": [],
   "source": [
    "df['floors_total'] = df['floors_total'].astype('int')"
   ]
  },
  {
   "cell_type": "markdown",
   "metadata": {},
   "source": [
    "Проверим уникальные значения в столбце kitchen_area."
   ]
  },
  {
   "cell_type": "code",
   "execution_count": 32,
   "metadata": {},
   "outputs": [
    {
     "name": "stdout",
     "output_type": "stream",
     "text": [
      "6.00     1079\n",
      "10.00    1033\n",
      "8.00      889\n",
      "7.00      876\n",
      "9.00      864\n",
      "         ... \n",
      "13.43       1\n",
      "16.46       1\n",
      "8.12        1\n",
      "41.30       1\n",
      "26.60       1\n",
      "Name: kitchen_area, Length: 825, dtype: int64\n"
     ]
    }
   ],
   "source": [
    "print(df['kitchen_area'].value_counts())"
   ]
  },
  {
   "cell_type": "markdown",
   "metadata": {},
   "source": [
    "В площади кухни есть необоснованно маленькие и большие значения. Возможно, в некоторых квартирах кухня объединена с гостиной, тогда площадь такой комнаты действительно может быть больше."
   ]
  },
  {
   "cell_type": "code",
   "execution_count": 33,
   "metadata": {},
   "outputs": [
    {
     "data": {
      "text/plain": [
       "<AxesSubplot:>"
      ]
     },
     "execution_count": 33,
     "metadata": {},
     "output_type": "execute_result"
    },
    {
     "data": {
      "image/png": "[encoded data removed]",
      "text/plain": [
       "<Figure size 432x288 with 1 Axes>"
      ]
     },
     "metadata": {
      "needs_background": "light"
     },
     "output_type": "display_data"
    }
   ],
   "source": [
    "plt.ylim(0,30) \n",
    "df.boxplot(['kitchen_area'])"
   ]
  },
  {
   "cell_type": "markdown",
   "metadata": {},
   "source": [
    "Нижний «ус» немного не доходит до 0, минимальное значение примерно 1. Верхний \"ус\" заканчивается около 18 квадратных метров. Это ориентировочная граница нормального размаха. Всё, что лежит за ней, считается выбросом. Более высокие значения рисуются отдельными точками, но сливаются в единую жирную линию: таких выбросов очень много.\n",
    "И всё же значения, которые отсёк верхний «ус», — редкие. Видно, насколько медиана (зелёная линия) не стремится к длинному хвосту высоких значений. Тем не менее, если предположение об объединённой кухне и гостиной верно, то реальные значения могут быть выше верхнего уса. Удалим значения больше 25 квадратных метров.\n",
    "Заметные на гистограмме нюансы распределения хорошо бы зафиксировать в числах: иметь под рукой среднее, медиану, количество наблюдений в выборке и разброс их значений."
   ]
  },
  {
   "cell_type": "code",
   "execution_count": 34,
   "metadata": {},
   "outputs": [
    {
     "data": {
      "text/plain": [
       "count    16643.000000\n",
       "mean        10.252105\n",
       "std          5.440045\n",
       "min          2.000000\n",
       "25%          7.000000\n",
       "50%          9.000000\n",
       "75%         11.500000\n",
       "max        112.000000\n",
       "Name: kitchen_area, dtype: float64"
      ]
     },
     "execution_count": 34,
     "metadata": {},
     "output_type": "execute_result"
    }
   ],
   "source": [
    "df['kitchen_area'].describe() "
   ]
  },
  {
   "cell_type": "markdown",
   "metadata": {},
   "source": [
    "Заполним пропуски в столбце медианным значением."
   ]
  },
  {
   "cell_type": "code",
   "execution_count": 35,
   "metadata": {},
   "outputs": [],
   "source": [
    "df['kitchen_area'] = df['kitchen_area'].fillna((df['kitchen_area'].median())).astype('int')"
   ]
  },
  {
   "cell_type": "markdown",
   "metadata": {},
   "source": [
    "Удалим строки, в которых площадь кухни меньше 7 и больше 19."
   ]
  },
  {
   "cell_type": "code",
   "execution_count": 36,
   "metadata": {},
   "outputs": [],
   "source": [
    "df = df[(df.kitchen_area > 7.0) & (df.kitchen_area <= 25.0)]"
   ]
  },
  {
   "cell_type": "markdown",
   "metadata": {},
   "source": [
    "Проверим уникальные значения в столбце last_price."
   ]
  },
  {
   "cell_type": "code",
   "execution_count": 37,
   "metadata": {},
   "outputs": [
    {
     "name": "stdout",
     "output_type": "stream",
     "text": [
      "4500000.0     194\n",
      "3500000.0     138\n",
      "4300000.0     136\n",
      "5500000.0     135\n",
      "4000000.0     131\n",
      "             ... \n",
      "3204000.0       1\n",
      "2204000.0       1\n",
      "14174400.0      1\n",
      "4635000.0       1\n",
      "20990000.0      1\n",
      "Name: last_price, Length: 2140, dtype: int64\n"
     ]
    },
    {
     "data": {
      "text/plain": [
       "count    1.294300e+04\n",
       "mean     6.352295e+06\n",
       "std      9.264855e+06\n",
       "min      4.300000e+05\n",
       "25%      3.600000e+06\n",
       "50%      4.900000e+06\n",
       "75%      7.000000e+06\n",
       "max      7.630000e+08\n",
       "Name: last_price, dtype: float64"
      ]
     },
     "execution_count": 37,
     "metadata": {},
     "output_type": "execute_result"
    },
    {
     "data": {
      "image/png": "[encoded data removed]",
      "text/plain": [
       "<Figure size 432x288 with 1 Axes>"
      ]
     },
     "metadata": {
      "needs_background": "light"
     },
     "output_type": "display_data"
    }
   ],
   "source": [
    "print(df['last_price'].value_counts())\n",
    "\n",
    "plt.ylim(0,15000000) \n",
    "df.boxplot(['last_price'])\n",
    "\n",
    "df['last_price'].describe() \n"
   ]
  },
  {
   "cell_type": "markdown",
   "metadata": {},
   "source": [
    "Верхний ус упирается в отметку 12000000, посчитаем, что часть квартир на самом деле стоит больше 12000000 из-за различных факторов. Удалим значения, которые выше 20000000."
   ]
  },
  {
   "cell_type": "code",
   "execution_count": 38,
   "metadata": {},
   "outputs": [],
   "source": [
    "df = df[(df.last_price <= 20000000)]"
   ]
  },
  {
   "cell_type": "markdown",
   "metadata": {},
   "source": [
    "Округлим значения и изменим их тип."
   ]
  },
  {
   "cell_type": "code",
   "execution_count": 39,
   "metadata": {},
   "outputs": [],
   "source": [
    "df['last_price'] = df['last_price'].round().astype('int')"
   ]
  },
  {
   "cell_type": "markdown",
   "metadata": {},
   "source": [
    "Проверим уникальные значения в столбце living_area."
   ]
  },
  {
   "cell_type": "code",
   "execution_count": 40,
   "metadata": {},
   "outputs": [
    {
     "name": "stdout",
     "output_type": "stream",
     "text": [
      "18.000000    466\n",
      "17.000000    369\n",
      "20.000000    346\n",
      "16.000000    331\n",
      "30.000000    273\n",
      "            ... \n",
      "30.099998      1\n",
      "14.950000      1\n",
      "16.630000      1\n",
      "35.380000      1\n",
      "16.740000      1\n",
      "Name: living_area, Length: 1245, dtype: int64\n"
     ]
    },
    {
     "data": {
      "text/plain": [
       "count    11203.000000\n",
       "mean        32.096684\n",
       "std         17.234496\n",
       "min          2.000000\n",
       "25%         18.000000\n",
       "50%         30.000000\n",
       "75%         42.000000\n",
       "max        199.000000\n",
       "Name: living_area, dtype: float64"
      ]
     },
     "execution_count": 40,
     "metadata": {},
     "output_type": "execute_result"
    },
    {
     "data": {
      "image/png": "[encoded data removed]",
      "text/plain": [
       "<Figure size 432x288 with 1 Axes>"
      ]
     },
     "metadata": {
      "needs_background": "light"
     },
     "output_type": "display_data"
    }
   ],
   "source": [
    "print(df['living_area'].value_counts())\n",
    "\n",
    "plt.ylim(0,100) \n",
    "df.boxplot(['living_area'])\n",
    "\n",
    "df['living_area'].describe() "
   ]
  },
  {
   "cell_type": "markdown",
   "metadata": {},
   "source": [
    "Заполним пропуски в данных."
   ]
  },
  {
   "cell_type": "code",
   "execution_count": 41,
   "metadata": {},
   "outputs": [],
   "source": [
    "df['living_area'] = df['living_area'].fillna(df['living_area'].median())"
   ]
  },
  {
   "cell_type": "markdown",
   "metadata": {},
   "source": [
    "В соответствии с графиком минимальная общая площадь равна 2 квадратных метра, таких квартир и жилых комнат просто не существует. Удалим значения меньше 10 и больше 90 квадратных метров, так как они не похожи на реальные."
   ]
  },
  {
   "cell_type": "code",
   "execution_count": 42,
   "metadata": {},
   "outputs": [],
   "source": [
    "df = df[(df.living_area <= 90) & (df.living_area >= 10)]"
   ]
  },
  {
   "cell_type": "markdown",
   "metadata": {},
   "source": [
    "Округлим значения и приведём их к целому числу."
   ]
  },
  {
   "cell_type": "code",
   "execution_count": 43,
   "metadata": {},
   "outputs": [],
   "source": [
    "df['living_area'] = df['living_area'].round().astype('int')"
   ]
  },
  {
   "cell_type": "markdown",
   "metadata": {},
   "source": [
    "Проверим уникальные значения в столбце locality_name."
   ]
  },
  {
   "cell_type": "code",
   "execution_count": 44,
   "metadata": {},
   "outputs": [
    {
     "name": "stdout",
     "output_type": "stream",
     "text": [
      "Санкт-Петербург                  8128\n",
      "посёлок Мурино                    464\n",
      "посёлок Шушары                    352\n",
      "посёлок Парголово                 277\n",
      "деревня Кудрово                   265\n",
      "                                 ... \n",
      "поселок Калитино                    1\n",
      "деревня Шпаньково                   1\n",
      "поселок Глажево                     1\n",
      "поселок Жилгородок                  1\n",
      "поселок Пансионат Зелёный Бор       1\n",
      "Name: locality_name, Length: 280, dtype: int64\n"
     ]
    }
   ],
   "source": [
    "print(df['locality_name'].value_counts())"
   ]
  },
  {
   "cell_type": "markdown",
   "metadata": {},
   "source": [
    "В данном столбце есть пропуски, так как в нём множество разных населённых пунктов, заполнить пропущенные значения не получится. Строки с пропусками лучше удалить."
   ]
  },
  {
   "cell_type": "code",
   "execution_count": 45,
   "metadata": {},
   "outputs": [],
   "source": [
    "df = df[pd.notnull(df['locality_name'])]"
   ]
  },
  {
   "cell_type": "markdown",
   "metadata": {},
   "source": [
    "Столбцы parks_around3000, parks_nearest, ponds_around3000, ponds_nearest не используются для анализа, поэтому не будем их обрабатывать."
   ]
  },
  {
   "cell_type": "markdown",
   "metadata": {},
   "source": [
    "Проверим уникальные значения в столбце rooms, а также построим ящик с усами. "
   ]
  },
  {
   "cell_type": "code",
   "execution_count": 46,
   "metadata": {},
   "outputs": [
    {
     "name": "stdout",
     "output_type": "stream",
     "text": [
      "1    5033\n",
      "2    4013\n",
      "3    2755\n",
      "4     439\n",
      "0     168\n",
      "5      87\n",
      "6       9\n",
      "7       4\n",
      "9       1\n",
      "Name: rooms, dtype: int64\n"
     ]
    },
    {
     "data": {
      "text/plain": [
       "count    12509.000000\n",
       "mean         1.887121\n",
       "std          0.943419\n",
       "min          0.000000\n",
       "25%          1.000000\n",
       "50%          2.000000\n",
       "75%          3.000000\n",
       "max          9.000000\n",
       "Name: rooms, dtype: float64"
      ]
     },
     "execution_count": 46,
     "metadata": {},
     "output_type": "execute_result"
    },
    {
     "data": {
      "image/png": "[encoded data removed]",
      "text/plain": [
       "<Figure size 432x288 with 1 Axes>"
      ]
     },
     "metadata": {
      "needs_background": "light"
     },
     "output_type": "display_data"
    }
   ],
   "source": [
    "print(df['rooms'].value_counts())\n",
    "\n",
    "plt.ylim(0,10) \n",
    "df.boxplot(['rooms'])\n",
    "\n",
    "df['rooms'].describe() "
   ]
  },
  {
   "cell_type": "markdown",
   "metadata": {},
   "source": [
    "Нижний «ус» упирается в 0, минимальное значение 1. Верхний \"ус\" заканчивается на 6 комнатах. Это ориентировочная граница нормального размаха. Тем не менее, самое большое значение равно 9 и объявлений с квартирами, с таким количеством комнат немного. Не будем удалять эти строки. К тому же, могут продавать несколько комнат в коммунальной квартире. Приведём данные к целочисленному типу."
   ]
  },
  {
   "cell_type": "code",
   "execution_count": 47,
   "metadata": {},
   "outputs": [],
   "source": [
    "df['rooms'] = df['rooms'].astype('int')"
   ]
  },
  {
   "cell_type": "markdown",
   "metadata": {},
   "source": [
    "Проверим уникальные значения в столбце total_area."
   ]
  },
  {
   "cell_type": "code",
   "execution_count": 48,
   "metadata": {},
   "outputs": [
    {
     "name": "stdout",
     "output_type": "stream",
     "text": [
      "40.00     242\n",
      "42.00     197\n",
      "36.00     195\n",
      "38.00     185\n",
      "60.00     166\n",
      "         ... \n",
      "25.48       1\n",
      "37.77       1\n",
      "25.33       1\n",
      "127.78      1\n",
      "55.06       1\n",
      "Name: total_area, Length: 1505, dtype: int64\n"
     ]
    },
    {
     "data": {
      "text/plain": [
       "count    12509.000000\n",
       "mean        56.961839\n",
       "std         22.128522\n",
       "min         12.000000\n",
       "25%         39.900000\n",
       "50%         53.000000\n",
       "75%         70.000000\n",
       "max        263.800000\n",
       "Name: total_area, dtype: float64"
      ]
     },
     "execution_count": 48,
     "metadata": {},
     "output_type": "execute_result"
    },
    {
     "data": {
      "image/png": "[encoded data removed]",
      "text/plain": [
       "<Figure size 432x288 with 1 Axes>"
      ]
     },
     "metadata": {
      "needs_background": "light"
     },
     "output_type": "display_data"
    }
   ],
   "source": [
    "print(df['total_area'].value_counts())\n",
    "\n",
    "plt.ylim(0,150) \n",
    "df.boxplot(['total_area'])\n",
    "\n",
    "df['total_area'].describe() "
   ]
  },
  {
   "cell_type": "markdown",
   "metadata": {},
   "source": [
    "Минимальное значение 12 квадратных метров, оно не является выбросом. Максимальное - 263 квадратных метров, квартиру такой площади представить сложно. Ящик с усами определяет в качестве выбросов значения, которые лежат больше 118 квадратных метров. Удалим их."
   ]
  },
  {
   "cell_type": "code",
   "execution_count": 49,
   "metadata": {},
   "outputs": [],
   "source": [
    "df = df[(df.total_area <= 118)]"
   ]
  },
  {
   "cell_type": "markdown",
   "metadata": {},
   "source": [
    "Округлим и приведём к целочисленному значению данные в столбце."
   ]
  },
  {
   "cell_type": "code",
   "execution_count": 50,
   "metadata": {},
   "outputs": [],
   "source": [
    "df['total_area'] = df['total_area'].round().astype('int')"
   ]
  },
  {
   "cell_type": "markdown",
   "metadata": {},
   "source": [
    "Проверим уникальные значения в столбце total_images."
   ]
  },
  {
   "cell_type": "code",
   "execution_count": 51,
   "metadata": {},
   "outputs": [
    {
     "name": "stdout",
     "output_type": "stream",
     "text": [
      "10    972\n",
      "9     890\n",
      "8     812\n",
      "7     784\n",
      "20    780\n",
      "6     755\n",
      "5     687\n",
      "11    683\n",
      "12    652\n",
      "0     588\n",
      "4     569\n",
      "13    513\n",
      "14    493\n",
      "15    480\n",
      "1     470\n",
      "3     406\n",
      "16    395\n",
      "2     383\n",
      "17    332\n",
      "18    327\n",
      "19    312\n",
      "21     11\n",
      "23      7\n",
      "22      7\n",
      "24      3\n",
      "26      3\n",
      "32      3\n",
      "28      3\n",
      "29      2\n",
      "30      2\n",
      "31      2\n",
      "37      1\n",
      "35      1\n",
      "27      1\n",
      "Name: total_images, dtype: int64\n"
     ]
    }
   ],
   "source": [
    "print(df['total_images'].value_counts())"
   ]
  },
  {
   "cell_type": "markdown",
   "metadata": {},
   "source": [
    "Редко встречаются объявления с 31 и 35 фотографиями (каждое значение в столбце встречается один раз), их можно удалить."
   ]
  },
  {
   "cell_type": "code",
   "execution_count": 52,
   "metadata": {},
   "outputs": [],
   "source": [
    "df = df[(df.total_images <= 21)]"
   ]
  },
  {
   "cell_type": "markdown",
   "metadata": {},
   "source": [
    "Пропуски в столбце is_apartment есть пропущенные значения. Будем считать, что в этих строках не апартаменты и заполним их значением False."
   ]
  },
  {
   "cell_type": "code",
   "execution_count": 53,
   "metadata": {},
   "outputs": [],
   "source": [
    "df['is_apartment'] = df['is_apartment'].fillna(False)"
   ]
  },
  {
   "cell_type": "markdown",
   "metadata": {},
   "source": [
    "### Вывод"
   ]
  },
  {
   "cell_type": "markdown",
   "metadata": {},
   "source": [
    "В предобработке данных мы переименовали один столбец, приведя его к единому стилю, заполнили пропуски, а также удалили неправдоподобные выбивающиеся значения. Данные стали чище, поэтому результат дальнейшего исследования будет более реальным."
   ]
  },
  {
   "cell_type": "markdown",
   "metadata": {},
   "source": [
    "## Расчёты и добавление результатов в таблицу"
   ]
  },
  {
   "cell_type": "markdown",
   "metadata": {},
   "source": [
    "Расчитаем и добавим в таблицу столбец со стоимостью квадратного метра"
   ]
  },
  {
   "cell_type": "code",
   "execution_count": 55,
   "metadata": {},
   "outputs": [],
   "source": [
    "df['price_meter'] = df['last_price'] / df['total_area']"
   ]
  },
  {
   "cell_type": "markdown",
   "metadata": {},
   "source": [
    "И приведём его к целочисленному значению."
   ]
  },
  {
   "cell_type": "code",
   "execution_count": 56,
   "metadata": {},
   "outputs": [],
   "source": [
    "df['price_meter'] = df['price_meter'].astype('int')"
   ]
  },
  {
   "cell_type": "markdown",
   "metadata": {},
   "source": [
    "Добавим в таблицу столбец дня недели публикации"
   ]
  },
  {
   "cell_type": "code",
   "execution_count": 57,
   "metadata": {},
   "outputs": [],
   "source": [
    "df['weekday'] = df['first_day_exposition'].apply(lambda x: x.isoweekday())"
   ]
  },
  {
   "cell_type": "markdown",
   "metadata": {},
   "source": [
    "Теперь добавим к числовому обозначению название дня недели."
   ]
  },
  {
   "cell_type": "code",
   "execution_count": 58,
   "metadata": {},
   "outputs": [],
   "source": [
    "dict_of_weekdays = {1: 'понедельник', 2: 'вторник', 3: 'среда', 4: 'четверг', \n",
    "                    5: 'пятница', 6: 'суббота', 7: 'воскресенье'}\n",
    "df['weekday'] = df['weekday'].map(dict_of_weekdays)"
   ]
  },
  {
   "cell_type": "markdown",
   "metadata": {},
   "source": [
    "Добавим в таблицу столбец месяца публикации"
   ]
  },
  {
   "cell_type": "code",
   "execution_count": 59,
   "metadata": {},
   "outputs": [],
   "source": [
    "df['month'] = df['first_day_exposition'].dt.month"
   ]
  },
  {
   "cell_type": "markdown",
   "metadata": {},
   "source": [
    "Добавим в таблицу столбец года публикации"
   ]
  },
  {
   "cell_type": "code",
   "execution_count": 60,
   "metadata": {},
   "outputs": [],
   "source": [
    "df['year'] = df['first_day_exposition'].dt.year"
   ]
  },
  {
   "cell_type": "markdown",
   "metadata": {},
   "source": [
    "Напишем собственную функцию, чтобы разделить квартиры по категориям в зависимости от этажа."
   ]
  },
  {
   "cell_type": "code",
   "execution_count": 61,
   "metadata": {},
   "outputs": [],
   "source": [
    "def floor_category(row):\n",
    "    floors_total = row['floors_total']\n",
    "    floor = row['floor']\n",
    "    if floor == 1:\n",
    "        return 'первый'\n",
    "    elif floor == floors_total:\n",
    "        return 'последний'\n",
    "    else:\n",
    "        return 'другой'"
   ]
  },
  {
   "cell_type": "markdown",
   "metadata": {},
   "source": [
    "И добавим новый столбец с категорией."
   ]
  },
  {
   "cell_type": "code",
   "execution_count": 62,
   "metadata": {},
   "outputs": [],
   "source": [
    "df['floor_category'] = df.apply(floor_category, axis = 1)"
   ]
  },
  {
   "cell_type": "markdown",
   "metadata": {},
   "source": [
    "Добавим столбец с отношением жилой площади к общей"
   ]
  },
  {
   "cell_type": "code",
   "execution_count": 63,
   "metadata": {},
   "outputs": [],
   "source": [
    "df['useful_area_ratio'] = df['living_area'] / df['total_area']"
   ]
  },
  {
   "cell_type": "markdown",
   "metadata": {},
   "source": [
    "Добавим столбец с отношением площади кухни к общей площади."
   ]
  },
  {
   "cell_type": "code",
   "execution_count": 64,
   "metadata": {},
   "outputs": [],
   "source": [
    "df['kitchen_area_ratio'] = df['kitchen_area'] / df['total_area']"
   ]
  },
  {
   "cell_type": "markdown",
   "metadata": {},
   "source": [
    "### Вывод"
   ]
  },
  {
   "cell_type": "markdown",
   "metadata": {},
   "source": [
    "Мы добавили в датафрейм несколько новых столбцов, которые облегчат исследование и получение ответов на поставленные вопросы. Благодаря столбцам с днём недели, месяцем и годом публикации объявления можно проследить влияние времени публикации на цену, с помощью категоризации этажей будет проще дать ответ о наличии взаимосвязи цены и этажа, на котором расположена квартира."
   ]
  },
  {
   "cell_type": "markdown",
   "metadata": {},
   "source": [
    "## Исследовательский анализ данных"
   ]
  },
  {
   "cell_type": "markdown",
   "metadata": {},
   "source": [
    "Для начала рассмотрим параметры площадь, цена, число комнат, высота потолков."
   ]
  },
  {
   "cell_type": "code",
   "execution_count": 65,
   "metadata": {},
   "outputs": [
    {
     "data": {
      "text/html": [
       "<div>\n",
       "<style scoped>\n",
       "    .dataframe tbody tr th:only-of-type {\n",
       "        vertical-align: middle;\n",
       "    }\n",
       "\n",
       "    .dataframe tbody tr th {\n",
       "        vertical-align: top;\n",
       "    }\n",
       "\n",
       "    .dataframe thead th {\n",
       "        text-align: right;\n",
       "    }\n",
       "</style>\n",
       "<table border=\"1\" class=\"dataframe\">\n",
       "  <thead>\n",
       "    <tr style=\"text-align: right;\">\n",
       "      <th></th>\n",
       "      <th>total_area</th>\n",
       "      <th>last_price</th>\n",
       "      <th>rooms</th>\n",
       "      <th>ceiling_height</th>\n",
       "    </tr>\n",
       "  </thead>\n",
       "  <tbody>\n",
       "    <tr>\n",
       "      <th>count</th>\n",
       "      <td>12294.000000</td>\n",
       "      <td>1.229400e+04</td>\n",
       "      <td>12294.000000</td>\n",
       "      <td>12294.000000</td>\n",
       "    </tr>\n",
       "    <tr>\n",
       "      <th>mean</th>\n",
       "      <td>55.737108</td>\n",
       "      <td>5.435543e+06</td>\n",
       "      <td>1.855539</td>\n",
       "      <td>2.680608</td>\n",
       "    </tr>\n",
       "    <tr>\n",
       "      <th>std</th>\n",
       "      <td>19.797179</td>\n",
       "      <td>2.804716e+06</td>\n",
       "      <td>0.907207</td>\n",
       "      <td>0.194690</td>\n",
       "    </tr>\n",
       "    <tr>\n",
       "      <th>min</th>\n",
       "      <td>12.000000</td>\n",
       "      <td>4.300000e+05</td>\n",
       "      <td>0.000000</td>\n",
       "      <td>2.000000</td>\n",
       "    </tr>\n",
       "    <tr>\n",
       "      <th>25%</th>\n",
       "      <td>40.000000</td>\n",
       "      <td>3.570000e+06</td>\n",
       "      <td>1.000000</td>\n",
       "      <td>2.600000</td>\n",
       "    </tr>\n",
       "    <tr>\n",
       "      <th>50%</th>\n",
       "      <td>52.000000</td>\n",
       "      <td>4.791000e+06</td>\n",
       "      <td>2.000000</td>\n",
       "      <td>2.600000</td>\n",
       "    </tr>\n",
       "    <tr>\n",
       "      <th>75%</th>\n",
       "      <td>69.000000</td>\n",
       "      <td>6.650000e+06</td>\n",
       "      <td>3.000000</td>\n",
       "      <td>2.700000</td>\n",
       "    </tr>\n",
       "    <tr>\n",
       "      <th>max</th>\n",
       "      <td>118.000000</td>\n",
       "      <td>2.000000e+07</td>\n",
       "      <td>7.000000</td>\n",
       "      <td>5.000000</td>\n",
       "    </tr>\n",
       "  </tbody>\n",
       "</table>\n",
       "</div>"
      ],
      "text/plain": [
       "         total_area    last_price         rooms  ceiling_height\n",
       "count  12294.000000  1.229400e+04  12294.000000    12294.000000\n",
       "mean      55.737108  5.435543e+06      1.855539        2.680608\n",
       "std       19.797179  2.804716e+06      0.907207        0.194690\n",
       "min       12.000000  4.300000e+05      0.000000        2.000000\n",
       "25%       40.000000  3.570000e+06      1.000000        2.600000\n",
       "50%       52.000000  4.791000e+06      2.000000        2.600000\n",
       "75%       69.000000  6.650000e+06      3.000000        2.700000\n",
       "max      118.000000  2.000000e+07      7.000000        5.000000"
      ]
     },
     "execution_count": 65,
     "metadata": {},
     "output_type": "execute_result"
    }
   ],
   "source": [
    "df[['total_area', 'last_price', 'rooms', 'ceiling_height']].describe()"
   ]
  },
  {
   "cell_type": "markdown",
   "metadata": {},
   "source": [
    "После предобработки данных данные стали более чистыми. О содержании столбцов можно сказать следующее:\n",
    "**total_area** - минимальная площадь квартиры 20 квадратных метров, максимальная 122 квадратных метра. Среднее значение 56 квадратных метров, оно выглядит довольно реалистичным.\n",
    "**last_price** - стоимость квартир довольно разнообразная, но в среднем 5,5 млн.\n",
    "**rooms** - разброс комнат от 1 до 5, но среднее значение равно 2 комнаты.\n",
    "**ceiling_height** - в среднем высота потолков равна 2,7 метров, минимальная - 2 метра."
   ]
  },
  {
   "cell_type": "markdown",
   "metadata": {},
   "source": [
    "Построим гистограммы для каждого параметра уже очищенных от выбросов данных."
   ]
  },
  {
   "cell_type": "markdown",
   "metadata": {},
   "source": [
    "Построим гистограмму площади квартир."
   ]
  },
  {
   "cell_type": "code",
   "execution_count": 66,
   "metadata": {},
   "outputs": [
    {
     "data": {
      "text/plain": [
       "<AxesSubplot:ylabel='Frequency'>"
      ]
     },
     "execution_count": 66,
     "metadata": {},
     "output_type": "execute_result"
    },
    {
     "data": {
      "image/png": "[encoded data removed]",
      "text/plain": [
       "<Figure size 432x432 with 1 Axes>"
      ]
     },
     "metadata": {
      "needs_background": "light"
     },
     "output_type": "display_data"
    }
   ],
   "source": [
    "df.plot(y = 'total_area', kind = 'hist', bins = 10, grid=True, figsize = (6,6), range = (0,150), ec='black')"
   ]
  },
  {
   "cell_type": "markdown",
   "metadata": {},
   "source": [
    "Видно, что гистограмма отражает ту же информацию, что и вызванный метод describe. Большая часть квартир находится в диапазоне между 30 и 75 квадратными метрами. Квартир с низкой или высокой площадью немного."
   ]
  },
  {
   "cell_type": "markdown",
   "metadata": {},
   "source": [
    "Построим гистограмму цены квартир."
   ]
  },
  {
   "cell_type": "code",
   "execution_count": 67,
   "metadata": {},
   "outputs": [
    {
     "data": {
      "text/plain": [
       "<AxesSubplot:ylabel='Frequency'>"
      ]
     },
     "execution_count": 67,
     "metadata": {},
     "output_type": "execute_result"
    },
    {
     "data": {
      "image/png": "[encoded data removed]",
      "text/plain": [
       "<Figure size 432x432 with 1 Axes>"
      ]
     },
     "metadata": {
      "needs_background": "light"
     },
     "output_type": "display_data"
    }
   ],
   "source": [
    "df.plot(y = 'last_price', kind = 'hist', bins = 10, grid=True, range = (0,15000000), figsize = (6,6), ec='black')"
   ]
  },
  {
   "cell_type": "markdown",
   "metadata": {},
   "source": [
    "На гистограмме видно, что после стоимости в 6 млн. количество квартир с более высокой стоимостью резко снижается и чем выше стоимость, тем меньше в этой категории квартир."
   ]
  },
  {
   "cell_type": "markdown",
   "metadata": {},
   "source": [
    "Построим гистограмму, отражающую количество комнат в квартирах."
   ]
  },
  {
   "cell_type": "code",
   "execution_count": 68,
   "metadata": {},
   "outputs": [
    {
     "data": {
      "text/plain": [
       "<AxesSubplot:ylabel='Frequency'>"
      ]
     },
     "execution_count": 68,
     "metadata": {},
     "output_type": "execute_result"
    },
    {
     "data": {
      "image/png": "[encoded data removed]",
      "text/plain": [
       "<Figure size 432x432 with 1 Axes>"
      ]
     },
     "metadata": {
      "needs_background": "light"
     },
     "output_type": "display_data"
    }
   ],
   "source": [
    "df.plot(y = 'rooms', kind = 'hist', bins = 10, grid=True, figsize = (6,6), ec='black')"
   ]
  },
  {
   "cell_type": "markdown",
   "metadata": {},
   "source": [
    "Данная гистограмма также отражает информацию, показанную методом describe, а также value_count двумя разделами выше. Количество квартир с одной и двумя комнатами практически равно, разница незначительна. Также довольно распространены трёхкомнатные квартиры. Квартиры с четырьмя и пятью комнатами практически не встречаются."
   ]
  },
  {
   "cell_type": "markdown",
   "metadata": {},
   "source": [
    "Построим гистограмму, отражающую высоту потолков."
   ]
  },
  {
   "cell_type": "code",
   "execution_count": 69,
   "metadata": {},
   "outputs": [
    {
     "data": {
      "text/plain": [
       "<AxesSubplot:ylabel='Frequency'>"
      ]
     },
     "execution_count": 69,
     "metadata": {},
     "output_type": "execute_result"
    },
    {
     "data": {
      "image/png": "[encoded data removed]",
      "text/plain": [
       "<Figure size 432x432 with 1 Axes>"
      ]
     },
     "metadata": {
      "needs_background": "light"
     },
     "output_type": "display_data"
    }
   ],
   "source": [
    "df.plot(y = 'ceiling_height', kind = 'hist', bins = 30, range = (2,5), grid=True, figsize = (6,6), ec='black')"
   ]
  },
  {
   "cell_type": "markdown",
   "metadata": {},
   "source": [
    "На гистограмме видно, что в большинстве квартир высота потолков равна 2,6 метра. Квартиры, в которых высота потолков 3 метра или больше, встречаются реже."
   ]
  },
  {
   "cell_type": "markdown",
   "metadata": {},
   "source": [
    "Изучим время продажи квартиры, найдём среднее время продажи, а также долгие по дням продажи квартиры и предположим причины этого."
   ]
  },
  {
   "cell_type": "code",
   "execution_count": 70,
   "metadata": {},
   "outputs": [
    {
     "data": {
      "text/html": [
       "<div>\n",
       "<style scoped>\n",
       "    .dataframe tbody tr th:only-of-type {\n",
       "        vertical-align: middle;\n",
       "    }\n",
       "\n",
       "    .dataframe tbody tr th {\n",
       "        vertical-align: top;\n",
       "    }\n",
       "\n",
       "    .dataframe thead th {\n",
       "        text-align: right;\n",
       "    }\n",
       "</style>\n",
       "<table border=\"1\" class=\"dataframe\">\n",
       "  <thead>\n",
       "    <tr style=\"text-align: right;\">\n",
       "      <th></th>\n",
       "      <th>days_exposition</th>\n",
       "    </tr>\n",
       "  </thead>\n",
       "  <tbody>\n",
       "    <tr>\n",
       "      <th>count</th>\n",
       "      <td>12294.000000</td>\n",
       "    </tr>\n",
       "    <tr>\n",
       "      <th>mean</th>\n",
       "      <td>132.788027</td>\n",
       "    </tr>\n",
       "    <tr>\n",
       "      <th>std</th>\n",
       "      <td>128.678316</td>\n",
       "    </tr>\n",
       "    <tr>\n",
       "      <th>min</th>\n",
       "      <td>1.000000</td>\n",
       "    </tr>\n",
       "    <tr>\n",
       "      <th>25%</th>\n",
       "      <td>43.000000</td>\n",
       "    </tr>\n",
       "    <tr>\n",
       "      <th>50%</th>\n",
       "      <td>84.000000</td>\n",
       "    </tr>\n",
       "    <tr>\n",
       "      <th>75%</th>\n",
       "      <td>186.000000</td>\n",
       "    </tr>\n",
       "    <tr>\n",
       "      <th>max</th>\n",
       "      <td>560.000000</td>\n",
       "    </tr>\n",
       "  </tbody>\n",
       "</table>\n",
       "</div>"
      ],
      "text/plain": [
       "       days_exposition\n",
       "count     12294.000000\n",
       "mean        132.788027\n",
       "std         128.678316\n",
       "min           1.000000\n",
       "25%          43.000000\n",
       "50%          84.000000\n",
       "75%         186.000000\n",
       "max         560.000000"
      ]
     },
     "execution_count": 70,
     "metadata": {},
     "output_type": "execute_result"
    }
   ],
   "source": [
    "df['days_exposition'].describe().to_frame()"
   ]
  },
  {
   "cell_type": "markdown",
   "metadata": {},
   "source": [
    "Найдём медиану данного столбца."
   ]
  },
  {
   "cell_type": "code",
   "execution_count": 71,
   "metadata": {},
   "outputs": [
    {
     "data": {
      "text/plain": [
       "84.0"
      ]
     },
     "execution_count": 71,
     "metadata": {},
     "output_type": "execute_result"
    }
   ],
   "source": [
    "df['days_exposition'].median()"
   ]
  },
  {
   "cell_type": "markdown",
   "metadata": {},
   "source": [
    "Среднее значение данных без выбросов равно 135 дней, медиана - 92 дней. Максимальное значение равно 520 дней. Возмождно, данная квартира была в плохом состоянии, что повлияло на время её продажи. Самая быстрая продажа произошла за один день. Кто-то нашёл идеальную для себя квартиру и сразу её приобрёл."
   ]
  },
  {
   "cell_type": "code",
   "execution_count": 72,
   "metadata": {},
   "outputs": [
    {
     "data": {
      "text/plain": [
       "<AxesSubplot:>"
      ]
     },
     "execution_count": 72,
     "metadata": {},
     "output_type": "execute_result"
    },
    {
     "data": {
      "image/png": "[encoded data removed]",
      "text/plain": [
       "<Figure size 1080x360 with 1 Axes>"
      ]
     },
     "metadata": {
      "needs_background": "light"
     },
     "output_type": "display_data"
    }
   ],
   "source": [
    "df['days_exposition'].hist(bins=70, figsize=(15,5), ec='black')"
   ]
  },
  {
   "cell_type": "markdown",
   "metadata": {},
   "source": [
    "На графике можно заметить пиковые значения рядом с 0, а также между 0 и 100 днями. Рассмотрим эти данные ближе."
   ]
  },
  {
   "cell_type": "code",
   "execution_count": 73,
   "metadata": {},
   "outputs": [
    {
     "data": {
      "text/plain": [
       "<AxesSubplot:>"
      ]
     },
     "execution_count": 73,
     "metadata": {},
     "output_type": "execute_result"
    },
    {
     "data": {
      "image/png": "[encoded data removed]",
      "text/plain": [
       "<Figure size 720x216 with 1 Axes>"
      ]
     },
     "metadata": {
      "needs_background": "light"
     },
     "output_type": "display_data"
    }
   ],
   "source": [
    "df.query('10 < days_exposition < 70')['days_exposition'].hist(bins=70, figsize=(10,3), ec='black')"
   ]
  },
  {
   "cell_type": "markdown",
   "metadata": {},
   "source": [
    "Пиковые значения расположены на отметках 30, 45 и 60 дней. В соответствии с правилами Яндекс.Недвижимости объявления автоматически снимаются с публикции на 45 и 60 день с момента размещения."
   ]
  },
  {
   "cell_type": "markdown",
   "metadata": {},
   "source": [
    "Изучим данные и выявим есть ли зависимость цены от общей площади квартиры, числа комнат, этажа, удалённости от центра и даты размещения объявления. Начнём рассмотрение с общей площади квартиры."
   ]
  },
  {
   "cell_type": "code",
   "execution_count": 74,
   "metadata": {},
   "outputs": [
    {
     "data": {
      "text/plain": [
       "0.7196707012576341"
      ]
     },
     "execution_count": 74,
     "metadata": {},
     "output_type": "execute_result"
    },
    {
     "data": {
      "image/png": "[encoded data removed]",
      "text/plain": [
       "<Figure size 432x288 with 1 Axes>"
      ]
     },
     "metadata": {
      "needs_background": "light"
     },
     "output_type": "display_data"
    }
   ],
   "source": [
    "df.plot(x = 'total_area', y = 'last_price', style = 'o')\n",
    "df['total_area'].corr(df['last_price'])"
   ]
  },
  {
   "cell_type": "markdown",
   "metadata": {},
   "source": [
    "По распределнию точек видно, что с увеличением площади увеличивается и стоимость. Гипотеза о том, что с повышением площади увеличивается стоимость квартиры подтвердилась."
   ]
  },
  {
   "cell_type": "markdown",
   "metadata": {},
   "source": [
    "Убрала группировку и построила облако точек с ценой квартиры."
   ]
  },
  {
   "cell_type": "markdown",
   "metadata": {},
   "source": [
    "Изучим взаимосвязь между стоимостью квартиры и количеством комнат в ней."
   ]
  },
  {
   "cell_type": "code",
   "execution_count": 75,
   "metadata": {
    "scrolled": true
   },
   "outputs": [
    {
     "data": {
      "text/html": [
       "<div>\n",
       "<style scoped>\n",
       "    .dataframe tbody tr th:only-of-type {\n",
       "        vertical-align: middle;\n",
       "    }\n",
       "\n",
       "    .dataframe tbody tr th {\n",
       "        vertical-align: top;\n",
       "    }\n",
       "\n",
       "    .dataframe thead th {\n",
       "        text-align: right;\n",
       "    }\n",
       "</style>\n",
       "<table border=\"1\" class=\"dataframe\">\n",
       "  <thead>\n",
       "    <tr style=\"text-align: right;\">\n",
       "      <th></th>\n",
       "      <th>mean</th>\n",
       "      <th>count</th>\n",
       "      <th>median</th>\n",
       "    </tr>\n",
       "    <tr>\n",
       "      <th>rooms</th>\n",
       "      <th></th>\n",
       "      <th></th>\n",
       "      <th></th>\n",
       "    </tr>\n",
       "  </thead>\n",
       "  <tbody>\n",
       "    <tr>\n",
       "      <th>0</th>\n",
       "      <td>2.939730e+06</td>\n",
       "      <td>168</td>\n",
       "      <td>2700000</td>\n",
       "    </tr>\n",
       "    <tr>\n",
       "      <th>1</th>\n",
       "      <td>3.983542e+06</td>\n",
       "      <td>5025</td>\n",
       "      <td>3800000</td>\n",
       "    </tr>\n",
       "    <tr>\n",
       "      <th>2</th>\n",
       "      <td>5.805633e+06</td>\n",
       "      <td>3998</td>\n",
       "      <td>5400000</td>\n",
       "    </tr>\n",
       "    <tr>\n",
       "      <th>3</th>\n",
       "      <td>7.268961e+06</td>\n",
       "      <td>2678</td>\n",
       "      <td>6600000</td>\n",
       "    </tr>\n",
       "    <tr>\n",
       "      <th>4</th>\n",
       "      <td>8.512935e+06</td>\n",
       "      <td>374</td>\n",
       "      <td>8200000</td>\n",
       "    </tr>\n",
       "    <tr>\n",
       "      <th>5</th>\n",
       "      <td>8.551304e+06</td>\n",
       "      <td>46</td>\n",
       "      <td>8550000</td>\n",
       "    </tr>\n",
       "    <tr>\n",
       "      <th>6</th>\n",
       "      <td>1.137600e+07</td>\n",
       "      <td>4</td>\n",
       "      <td>11045000</td>\n",
       "    </tr>\n",
       "    <tr>\n",
       "      <th>7</th>\n",
       "      <td>1.349000e+07</td>\n",
       "      <td>1</td>\n",
       "      <td>13490000</td>\n",
       "    </tr>\n",
       "  </tbody>\n",
       "</table>\n",
       "</div>"
      ],
      "text/plain": [
       "               mean  count    median\n",
       "rooms                               \n",
       "0      2.939730e+06    168   2700000\n",
       "1      3.983542e+06   5025   3800000\n",
       "2      5.805633e+06   3998   5400000\n",
       "3      7.268961e+06   2678   6600000\n",
       "4      8.512935e+06    374   8200000\n",
       "5      8.551304e+06     46   8550000\n",
       "6      1.137600e+07      4  11045000\n",
       "7      1.349000e+07      1  13490000"
      ]
     },
     "metadata": {},
     "output_type": "display_data"
    }
   ],
   "source": [
    "pivot_table_rooms = df.pivot_table(index = 'rooms', values = 'last_price', aggfunc = ['mean', 'count', 'median'])\n",
    "pivot_table_rooms.columns = ['mean', 'count', 'median']\n",
    "display(pivot_table_rooms)"
   ]
  },
  {
   "cell_type": "code",
   "execution_count": 76,
   "metadata": {},
   "outputs": [
    {
     "data": {
      "text/plain": [
       "<AxesSubplot:xlabel='rooms', ylabel='last_price'>"
      ]
     },
     "execution_count": 76,
     "metadata": {},
     "output_type": "execute_result"
    },
    {
     "data": {
      "image/png": "[encoded data removed]",
      "text/plain": [
       "<Figure size 432x288 with 1 Axes>"
      ]
     },
     "metadata": {
      "needs_background": "light"
     },
     "output_type": "display_data"
    }
   ],
   "source": [
    "sb.barplot(x = df['rooms'], y = df['last_price'], palette = \"Blues\")"
   ]
  },
  {
   "cell_type": "markdown",
   "metadata": {},
   "source": [
    "На графике хорошо заметно, что с увеличением количества комнат увеличивается и стоимость квартиры. Наблюдается прямая зависимость. Наша гипотеза, что с увеличением количества комнат стоимость квартиры увеличивается подтвердилась. Но в данных заметно, что пятикомнатные квартиры дешевле четырёхкомнатных, это выглядит странно. Но если в этом случае продают несколько комнат в коммунальной квартире, то такое значение может быть реальным."
   ]
  },
  {
   "cell_type": "markdown",
   "metadata": {},
   "source": [
    "Исправила этот шаг, исследую стоимость квартиры."
   ]
  },
  {
   "cell_type": "markdown",
   "metadata": {},
   "source": [
    "Теперь посмотрим наличие взаимосвязи стоимости квартиры и этажа расположения квартиры."
   ]
  },
  {
   "cell_type": "code",
   "execution_count": 77,
   "metadata": {},
   "outputs": [
    {
     "data": {
      "text/html": [
       "<div>\n",
       "<style scoped>\n",
       "    .dataframe tbody tr th:only-of-type {\n",
       "        vertical-align: middle;\n",
       "    }\n",
       "\n",
       "    .dataframe tbody tr th {\n",
       "        vertical-align: top;\n",
       "    }\n",
       "\n",
       "    .dataframe thead th {\n",
       "        text-align: right;\n",
       "    }\n",
       "</style>\n",
       "<table border=\"1\" class=\"dataframe\">\n",
       "  <thead>\n",
       "    <tr style=\"text-align: right;\">\n",
       "      <th></th>\n",
       "      <th>mean</th>\n",
       "      <th>count</th>\n",
       "      <th>median</th>\n",
       "    </tr>\n",
       "    <tr>\n",
       "      <th>floor_category</th>\n",
       "      <th></th>\n",
       "      <th></th>\n",
       "      <th></th>\n",
       "    </tr>\n",
       "  </thead>\n",
       "  <tbody>\n",
       "    <tr>\n",
       "      <th>другой</th>\n",
       "      <td>5.570051e+06</td>\n",
       "      <td>9584</td>\n",
       "      <td>4900000</td>\n",
       "    </tr>\n",
       "    <tr>\n",
       "      <th>первый</th>\n",
       "      <td>4.492822e+06</td>\n",
       "      <td>1262</td>\n",
       "      <td>4100000</td>\n",
       "    </tr>\n",
       "    <tr>\n",
       "      <th>последний</th>\n",
       "      <td>5.366893e+06</td>\n",
       "      <td>1448</td>\n",
       "      <td>4643000</td>\n",
       "    </tr>\n",
       "  </tbody>\n",
       "</table>\n",
       "</div>"
      ],
      "text/plain": [
       "                        mean  count   median\n",
       "floor_category                              \n",
       "другой          5.570051e+06   9584  4900000\n",
       "первый          4.492822e+06   1262  4100000\n",
       "последний       5.366893e+06   1448  4643000"
      ]
     },
     "metadata": {},
     "output_type": "display_data"
    }
   ],
   "source": [
    "pivot_table_floor_category = df.pivot_table(index = 'floor_category', values = 'last_price', aggfunc = ['mean', 'count', 'median'])\n",
    "pivot_table_floor_category.columns = ['mean', 'count', 'median']\n",
    "display(pivot_table_floor_category)"
   ]
  },
  {
   "cell_type": "code",
   "execution_count": 78,
   "metadata": {},
   "outputs": [
    {
     "data": {
      "text/plain": [
       "<AxesSubplot:xlabel='floor_category', ylabel='last_price'>"
      ]
     },
     "execution_count": 78,
     "metadata": {},
     "output_type": "execute_result"
    },
    {
     "data": {
      "image/png": "[encoded data removed]",
      "text/plain": [
       "<Figure size 432x288 with 1 Axes>"
      ]
     },
     "metadata": {
      "needs_background": "light"
     },
     "output_type": "display_data"
    }
   ],
   "source": [
    "sb.barplot(x = df['floor_category'], y = df['last_price'], palette = \"Blues\")"
   ]
  },
  {
   "cell_type": "markdown",
   "metadata": {},
   "source": [
    "На графике хорошо заметно, что самые дешёвые квартиры расположены на первом этаже. Квартиры на последнем этаже совсем немного дешевле квартир, расположенных на других этажах. Гипотеза подтвердилась полностью."
   ]
  },
  {
   "cell_type": "markdown",
   "metadata": {},
   "source": [
    "Изучим взаимосвязь стомости квартиры и её удалённость от центра."
   ]
  },
  {
   "cell_type": "code",
   "execution_count": 79,
   "metadata": {},
   "outputs": [
    {
     "data": {
      "text/plain": [
       "-0.2888005835303544"
      ]
     },
     "execution_count": 79,
     "metadata": {},
     "output_type": "execute_result"
    },
    {
     "data": {
      "image/png": "[encoded data removed]",
      "text/plain": [
       "<Figure size 432x288 with 1 Axes>"
      ]
     },
     "metadata": {
      "needs_background": "light"
     },
     "output_type": "display_data"
    }
   ],
   "source": [
    "df.plot(kind = 'scatter', y = 'last_price', x = 'city_centers_nearest', alpha = 0.3)\n",
    "\n",
    "df['city_centers_nearest'].corr(df['last_price'])"
   ]
  },
  {
   "cell_type": "markdown",
   "metadata": {},
   "source": [
    "После перемены местами нескольких строчек кода всё в порядке, на графике облако точек."
   ]
  },
  {
   "cell_type": "markdown",
   "metadata": {},
   "source": [
    "Заметна зависимость стоимости квартиры от близости к центру - чем ближе к центру, тем выше стоимость. Гипотеза о том, что по мере удаления от центра снижается стоимость квартиры подтвердилась полностью."
   ]
  },
  {
   "cell_type": "markdown",
   "metadata": {},
   "source": [
    "Рассмотрим взаимосвязь даты публикации объявления и ценой квартиры."
   ]
  },
  {
   "cell_type": "code",
   "execution_count": 80,
   "metadata": {},
   "outputs": [
    {
     "data": {
      "text/html": [
       "<div>\n",
       "<style scoped>\n",
       "    .dataframe tbody tr th:only-of-type {\n",
       "        vertical-align: middle;\n",
       "    }\n",
       "\n",
       "    .dataframe tbody tr th {\n",
       "        vertical-align: top;\n",
       "    }\n",
       "\n",
       "    .dataframe thead th {\n",
       "        text-align: right;\n",
       "    }\n",
       "</style>\n",
       "<table border=\"1\" class=\"dataframe\">\n",
       "  <thead>\n",
       "    <tr style=\"text-align: right;\">\n",
       "      <th></th>\n",
       "      <th>mean</th>\n",
       "      <th>count</th>\n",
       "      <th>median</th>\n",
       "    </tr>\n",
       "    <tr>\n",
       "      <th>weekday</th>\n",
       "      <th></th>\n",
       "      <th></th>\n",
       "      <th></th>\n",
       "    </tr>\n",
       "  </thead>\n",
       "  <tbody>\n",
       "    <tr>\n",
       "      <th>воскресенье</th>\n",
       "      <td>5.297057e+06</td>\n",
       "      <td>898</td>\n",
       "      <td>4670000</td>\n",
       "    </tr>\n",
       "    <tr>\n",
       "      <th>вторник</th>\n",
       "      <td>5.550370e+06</td>\n",
       "      <td>2154</td>\n",
       "      <td>4900000</td>\n",
       "    </tr>\n",
       "    <tr>\n",
       "      <th>понедельник</th>\n",
       "      <td>5.379339e+06</td>\n",
       "      <td>1851</td>\n",
       "      <td>4700000</td>\n",
       "    </tr>\n",
       "    <tr>\n",
       "      <th>пятница</th>\n",
       "      <td>5.432466e+06</td>\n",
       "      <td>2152</td>\n",
       "      <td>4787000</td>\n",
       "    </tr>\n",
       "    <tr>\n",
       "      <th>среда</th>\n",
       "      <td>5.404082e+06</td>\n",
       "      <td>2025</td>\n",
       "      <td>4800000</td>\n",
       "    </tr>\n",
       "    <tr>\n",
       "      <th>суббота</th>\n",
       "      <td>5.385334e+06</td>\n",
       "      <td>994</td>\n",
       "      <td>4700000</td>\n",
       "    </tr>\n",
       "    <tr>\n",
       "      <th>четверг</th>\n",
       "      <td>5.481172e+06</td>\n",
       "      <td>2220</td>\n",
       "      <td>4800000</td>\n",
       "    </tr>\n",
       "  </tbody>\n",
       "</table>\n",
       "</div>"
      ],
      "text/plain": [
       "                     mean  count   median\n",
       "weekday                                  \n",
       "воскресенье  5.297057e+06    898  4670000\n",
       "вторник      5.550370e+06   2154  4900000\n",
       "понедельник  5.379339e+06   1851  4700000\n",
       "пятница      5.432466e+06   2152  4787000\n",
       "среда        5.404082e+06   2025  4800000\n",
       "суббота      5.385334e+06    994  4700000\n",
       "четверг      5.481172e+06   2220  4800000"
      ]
     },
     "metadata": {},
     "output_type": "display_data"
    }
   ],
   "source": [
    "pivot_table_weekday = df.pivot_table(index = 'weekday', values = 'last_price', aggfunc = ['mean', 'count', 'median'])\n",
    "pivot_table_weekday.columns = ['mean', 'count', 'median']\n",
    "\n",
    "pivot_table_weekday.sort_values('median', ascending = False)\n",
    "display(pivot_table_weekday)"
   ]
  },
  {
   "cell_type": "code",
   "execution_count": 81,
   "metadata": {},
   "outputs": [
    {
     "data": {
      "text/plain": [
       "<AxesSubplot:xlabel='weekday', ylabel='last_price'>"
      ]
     },
     "execution_count": 81,
     "metadata": {},
     "output_type": "execute_result"
    },
    {
     "data": {
      "image/png": "[encoded data removed]",
      "text/plain": [
       "<Figure size 432x288 with 1 Axes>"
      ]
     },
     "metadata": {
      "needs_background": "light"
     },
     "output_type": "display_data"
    }
   ],
   "source": [
    "sb.barplot(x = df['weekday'], y = df['last_price'], palette = \"Blues\")"
   ]
  },
  {
   "cell_type": "markdown",
   "metadata": {},
   "source": [
    "В воскресенье самая низкая цена, во вторник, среду и четверг цены почти одинаковы, в эти дни стоимость самая высокая. Полагаю, что стоимость выставленной на продажу недвижимости зависит от общей активности людей, так как в будние дни стоимость выше."
   ]
  },
  {
   "cell_type": "markdown",
   "metadata": {},
   "source": [
    "Рассмотрим взаимосвязь цены и месяца публикации объявления."
   ]
  },
  {
   "cell_type": "code",
   "execution_count": 82,
   "metadata": {},
   "outputs": [
    {
     "data": {
      "text/html": [
       "<div>\n",
       "<style scoped>\n",
       "    .dataframe tbody tr th:only-of-type {\n",
       "        vertical-align: middle;\n",
       "    }\n",
       "\n",
       "    .dataframe tbody tr th {\n",
       "        vertical-align: top;\n",
       "    }\n",
       "\n",
       "    .dataframe thead th {\n",
       "        text-align: right;\n",
       "    }\n",
       "</style>\n",
       "<table border=\"1\" class=\"dataframe\">\n",
       "  <thead>\n",
       "    <tr style=\"text-align: right;\">\n",
       "      <th></th>\n",
       "      <th>mean</th>\n",
       "      <th>count</th>\n",
       "      <th>median</th>\n",
       "    </tr>\n",
       "    <tr>\n",
       "      <th>month</th>\n",
       "      <th></th>\n",
       "      <th></th>\n",
       "      <th></th>\n",
       "    </tr>\n",
       "  </thead>\n",
       "  <tbody>\n",
       "    <tr>\n",
       "      <th>1</th>\n",
       "      <td>5.320288e+06</td>\n",
       "      <td>797</td>\n",
       "      <td>4650000</td>\n",
       "    </tr>\n",
       "    <tr>\n",
       "      <th>2</th>\n",
       "      <td>5.437471e+06</td>\n",
       "      <td>1367</td>\n",
       "      <td>4840000</td>\n",
       "    </tr>\n",
       "    <tr>\n",
       "      <th>3</th>\n",
       "      <td>5.401278e+06</td>\n",
       "      <td>1144</td>\n",
       "      <td>4700000</td>\n",
       "    </tr>\n",
       "    <tr>\n",
       "      <th>4</th>\n",
       "      <td>5.497612e+06</td>\n",
       "      <td>873</td>\n",
       "      <td>4939000</td>\n",
       "    </tr>\n",
       "    <tr>\n",
       "      <th>5</th>\n",
       "      <td>5.363915e+06</td>\n",
       "      <td>676</td>\n",
       "      <td>4700000</td>\n",
       "    </tr>\n",
       "    <tr>\n",
       "      <th>6</th>\n",
       "      <td>5.377315e+06</td>\n",
       "      <td>970</td>\n",
       "      <td>4700000</td>\n",
       "    </tr>\n",
       "    <tr>\n",
       "      <th>7</th>\n",
       "      <td>5.368685e+06</td>\n",
       "      <td>973</td>\n",
       "      <td>4775000</td>\n",
       "    </tr>\n",
       "    <tr>\n",
       "      <th>8</th>\n",
       "      <td>5.502568e+06</td>\n",
       "      <td>994</td>\n",
       "      <td>4850000</td>\n",
       "    </tr>\n",
       "    <tr>\n",
       "      <th>9</th>\n",
       "      <td>5.736977e+06</td>\n",
       "      <td>1134</td>\n",
       "      <td>4950000</td>\n",
       "    </tr>\n",
       "    <tr>\n",
       "      <th>10</th>\n",
       "      <td>5.439557e+06</td>\n",
       "      <td>1153</td>\n",
       "      <td>4700000</td>\n",
       "    </tr>\n",
       "    <tr>\n",
       "      <th>11</th>\n",
       "      <td>5.475049e+06</td>\n",
       "      <td>1299</td>\n",
       "      <td>4900000</td>\n",
       "    </tr>\n",
       "    <tr>\n",
       "      <th>12</th>\n",
       "      <td>5.194617e+06</td>\n",
       "      <td>914</td>\n",
       "      <td>4600000</td>\n",
       "    </tr>\n",
       "  </tbody>\n",
       "</table>\n",
       "</div>"
      ],
      "text/plain": [
       "               mean  count   median\n",
       "month                              \n",
       "1      5.320288e+06    797  4650000\n",
       "2      5.437471e+06   1367  4840000\n",
       "3      5.401278e+06   1144  4700000\n",
       "4      5.497612e+06    873  4939000\n",
       "5      5.363915e+06    676  4700000\n",
       "6      5.377315e+06    970  4700000\n",
       "7      5.368685e+06    973  4775000\n",
       "8      5.502568e+06    994  4850000\n",
       "9      5.736977e+06   1134  4950000\n",
       "10     5.439557e+06   1153  4700000\n",
       "11     5.475049e+06   1299  4900000\n",
       "12     5.194617e+06    914  4600000"
      ]
     },
     "metadata": {},
     "output_type": "display_data"
    }
   ],
   "source": [
    "pivot_table_month = df.pivot_table(index = 'month', values = 'last_price', aggfunc = ['mean', 'count', 'median'])\n",
    "pivot_table_month.columns = ['mean', 'count', 'median']\n",
    "\n",
    "pivot_table_month.sort_values('median', ascending = False)\n",
    "display(pivot_table_month)"
   ]
  },
  {
   "cell_type": "code",
   "execution_count": 83,
   "metadata": {},
   "outputs": [
    {
     "data": {
      "text/plain": [
       "<AxesSubplot:xlabel='month', ylabel='last_price'>"
      ]
     },
     "execution_count": 83,
     "metadata": {},
     "output_type": "execute_result"
    },
    {
     "data": {
      "image/png": "[encoded data removed]",
      "text/plain": [
       "<Figure size 432x288 with 1 Axes>"
      ]
     },
     "metadata": {
      "needs_background": "light"
     },
     "output_type": "display_data"
    }
   ],
   "source": [
    "sb.barplot(x = df['month'], y = df['last_price'], palette = \"Blues\")"
   ]
  },
  {
   "cell_type": "markdown",
   "metadata": {},
   "source": [
    "В сентябре цена самая высокая, в мае самая низкая. Вероятно, это связано с курортным сезоном в городе и сдачей квартир в аренду на этот период."
   ]
  },
  {
   "cell_type": "markdown",
   "metadata": {},
   "source": [
    "Изучим взаимосвязь цены и года публикации объявления."
   ]
  },
  {
   "cell_type": "code",
   "execution_count": 84,
   "metadata": {},
   "outputs": [
    {
     "data": {
      "text/html": [
       "<div>\n",
       "<style scoped>\n",
       "    .dataframe tbody tr th:only-of-type {\n",
       "        vertical-align: middle;\n",
       "    }\n",
       "\n",
       "    .dataframe tbody tr th {\n",
       "        vertical-align: top;\n",
       "    }\n",
       "\n",
       "    .dataframe thead th {\n",
       "        text-align: right;\n",
       "    }\n",
       "</style>\n",
       "<table border=\"1\" class=\"dataframe\">\n",
       "  <thead>\n",
       "    <tr style=\"text-align: right;\">\n",
       "      <th></th>\n",
       "      <th>mean</th>\n",
       "      <th>count</th>\n",
       "      <th>median</th>\n",
       "    </tr>\n",
       "    <tr>\n",
       "      <th>year</th>\n",
       "      <th></th>\n",
       "      <th></th>\n",
       "      <th></th>\n",
       "    </tr>\n",
       "  </thead>\n",
       "  <tbody>\n",
       "    <tr>\n",
       "      <th>2014</th>\n",
       "      <td>1.380000e+07</td>\n",
       "      <td>1</td>\n",
       "      <td>13800000</td>\n",
       "    </tr>\n",
       "    <tr>\n",
       "      <th>2015</th>\n",
       "      <td>5.655371e+06</td>\n",
       "      <td>337</td>\n",
       "      <td>5130000</td>\n",
       "    </tr>\n",
       "    <tr>\n",
       "      <th>2016</th>\n",
       "      <td>5.545197e+06</td>\n",
       "      <td>1374</td>\n",
       "      <td>4800000</td>\n",
       "    </tr>\n",
       "    <tr>\n",
       "      <th>2017</th>\n",
       "      <td>5.471071e+06</td>\n",
       "      <td>4936</td>\n",
       "      <td>4772500</td>\n",
       "    </tr>\n",
       "    <tr>\n",
       "      <th>2018</th>\n",
       "      <td>5.319815e+06</td>\n",
       "      <td>5012</td>\n",
       "      <td>4690000</td>\n",
       "    </tr>\n",
       "    <tr>\n",
       "      <th>2019</th>\n",
       "      <td>5.706131e+06</td>\n",
       "      <td>634</td>\n",
       "      <td>5310000</td>\n",
       "    </tr>\n",
       "  </tbody>\n",
       "</table>\n",
       "</div>"
      ],
      "text/plain": [
       "              mean  count    median\n",
       "year                               \n",
       "2014  1.380000e+07      1  13800000\n",
       "2015  5.655371e+06    337   5130000\n",
       "2016  5.545197e+06   1374   4800000\n",
       "2017  5.471071e+06   4936   4772500\n",
       "2018  5.319815e+06   5012   4690000\n",
       "2019  5.706131e+06    634   5310000"
      ]
     },
     "metadata": {},
     "output_type": "display_data"
    }
   ],
   "source": [
    "pivot_table_year = df.pivot_table(index = 'year', values = 'last_price', aggfunc = ['mean', 'count', 'median'])\n",
    "pivot_table_year.columns = ['mean', 'count', 'median']\n",
    "\n",
    "pivot_table_year.sort_values('median', ascending = False)\n",
    "display(pivot_table_year)"
   ]
  },
  {
   "cell_type": "code",
   "execution_count": 85,
   "metadata": {},
   "outputs": [
    {
     "data": {
      "text/plain": [
       "<AxesSubplot:xlabel='year', ylabel='last_price'>"
      ]
     },
     "execution_count": 85,
     "metadata": {},
     "output_type": "execute_result"
    },
    {
     "data": {
      "image/png": "[encoded data removed]",
      "text/plain": [
       "<Figure size 432x288 with 1 Axes>"
      ]
     },
     "metadata": {
      "needs_background": "light"
     },
     "output_type": "display_data"
    }
   ],
   "source": [
    "sb.barplot(x = df['year'], y = df['last_price'], palette = \"Blues\")"
   ]
  },
  {
   "cell_type": "markdown",
   "metadata": {},
   "source": [
    "На графике видно, что в 2014 году стоимость квартир была самой высокой. Начиная с 2015 года цена немного колеблется. Вероятно, это связано с кризисом в 2014 году, после которого снизились финансовые возможности людей."
   ]
  },
  {
   "cell_type": "markdown",
   "metadata": {},
   "source": [
    "Итак:\n",
    "\n",
    "**зависимость цены от дня недели** публикации практически никак не зависит. Тем не менее, в среднем цены на квартиры, объявление о продажи которых опубликовано в будние дни, чуть выше, чем цена на квартиры с объявлениями, опубликованными в выходные дни;\n",
    "**зависимость цены от месяца публикации** - в сентябре встоимость квартр была выше: цены на квартиры, чьи объявления о продаже были опубликованы в сентябре, выше, чем по остальным месяцам. Самые низкие цены были в мае;\n",
    "**зависимость цены от года публикации** - в 2014 году стоимость квартир была самой высокой. Вероятно, это связано с кризисом в 2014 году, снизилась покупальская способность людей. С 2015 года цена едва заметно изменяется.\n",
    "\n",
    "Гипотеза о взаимосвязи стоимости квартиры и дня недели публикации объявления о продаже подтвердилась, наблюдается повышение цены на квартиры, опубликованные в будний день."
   ]
  },
  {
   "cell_type": "markdown",
   "metadata": {},
   "source": [
    "Выберим 10 населённых пунктов с наибольшим числом объявлений, посчитаем для них среднюю цену квадратного метра."
   ]
  },
  {
   "cell_type": "code",
   "execution_count": 86,
   "metadata": {},
   "outputs": [
    {
     "data": {
      "text/html": [
       "<div>\n",
       "<style scoped>\n",
       "    .dataframe tbody tr th:only-of-type {\n",
       "        vertical-align: middle;\n",
       "    }\n",
       "\n",
       "    .dataframe tbody tr th {\n",
       "        vertical-align: top;\n",
       "    }\n",
       "\n",
       "    .dataframe thead th {\n",
       "        text-align: right;\n",
       "    }\n",
       "</style>\n",
       "<table border=\"1\" class=\"dataframe\">\n",
       "  <thead>\n",
       "    <tr style=\"text-align: right;\">\n",
       "      <th></th>\n",
       "      <th>count</th>\n",
       "      <th>mean</th>\n",
       "    </tr>\n",
       "    <tr>\n",
       "      <th>locality_name</th>\n",
       "      <th></th>\n",
       "      <th></th>\n",
       "    </tr>\n",
       "  </thead>\n",
       "  <tbody>\n",
       "    <tr>\n",
       "      <th>Санкт-Петербург</th>\n",
       "      <td>7948</td>\n",
       "      <td>111122.710996</td>\n",
       "    </tr>\n",
       "    <tr>\n",
       "      <th>посёлок Мурино</th>\n",
       "      <td>464</td>\n",
       "      <td>85820.030172</td>\n",
       "    </tr>\n",
       "    <tr>\n",
       "      <th>посёлок Шушары</th>\n",
       "      <td>351</td>\n",
       "      <td>77829.692308</td>\n",
       "    </tr>\n",
       "    <tr>\n",
       "      <th>посёлок Парголово</th>\n",
       "      <td>275</td>\n",
       "      <td>89379.509091</td>\n",
       "    </tr>\n",
       "    <tr>\n",
       "      <th>деревня Кудрово</th>\n",
       "      <td>262</td>\n",
       "      <td>92771.274809</td>\n",
       "    </tr>\n",
       "    <tr>\n",
       "      <th>Всеволожск</th>\n",
       "      <td>242</td>\n",
       "      <td>67951.855372</td>\n",
       "    </tr>\n",
       "    <tr>\n",
       "      <th>Пушкин</th>\n",
       "      <td>160</td>\n",
       "      <td>103717.318750</td>\n",
       "    </tr>\n",
       "    <tr>\n",
       "      <th>Колпино</th>\n",
       "      <td>147</td>\n",
       "      <td>75444.115646</td>\n",
       "    </tr>\n",
       "    <tr>\n",
       "      <th>Кудрово</th>\n",
       "      <td>135</td>\n",
       "      <td>97879.281481</td>\n",
       "    </tr>\n",
       "    <tr>\n",
       "      <th>Гатчина</th>\n",
       "      <td>127</td>\n",
       "      <td>69545.464567</td>\n",
       "    </tr>\n",
       "  </tbody>\n",
       "</table>\n",
       "</div>"
      ],
      "text/plain": [
       "                   count           mean\n",
       "locality_name                          \n",
       "Санкт-Петербург     7948  111122.710996\n",
       "посёлок Мурино       464   85820.030172\n",
       "посёлок Шушары       351   77829.692308\n",
       "посёлок Парголово    275   89379.509091\n",
       "деревня Кудрово      262   92771.274809\n",
       "Всеволожск           242   67951.855372\n",
       "Пушкин               160  103717.318750\n",
       "Колпино              147   75444.115646\n",
       "Кудрово              135   97879.281481\n",
       "Гатчина              127   69545.464567"
      ]
     },
     "metadata": {},
     "output_type": "display_data"
    }
   ],
   "source": [
    "locality_pivot_table = df.pivot_table(index = 'locality_name', values = 'price_meter', aggfunc=['count', 'mean'])\n",
    "locality_pivot_table.columns = ['count', 'mean']\n",
    "locality_pivot_table = locality_pivot_table.sort_values('count', ascending = False).head(10)\n",
    "display(locality_pivot_table)"
   ]
  },
  {
   "cell_type": "markdown",
   "metadata": {},
   "source": [
    "Отсортировала данные по нужному столбцу."
   ]
  },
  {
   "cell_type": "markdown",
   "metadata": {},
   "source": [
    "Cамая высокая стоимость квадратного метра:"
   ]
  },
  {
   "cell_type": "code",
   "execution_count": 87,
   "metadata": {},
   "outputs": [
    {
     "data": {
      "text/html": [
       "<div>\n",
       "<style scoped>\n",
       "    .dataframe tbody tr th:only-of-type {\n",
       "        vertical-align: middle;\n",
       "    }\n",
       "\n",
       "    .dataframe tbody tr th {\n",
       "        vertical-align: top;\n",
       "    }\n",
       "\n",
       "    .dataframe thead th {\n",
       "        text-align: right;\n",
       "    }\n",
       "</style>\n",
       "<table border=\"1\" class=\"dataframe\">\n",
       "  <thead>\n",
       "    <tr style=\"text-align: right;\">\n",
       "      <th></th>\n",
       "      <th>count</th>\n",
       "      <th>mean</th>\n",
       "    </tr>\n",
       "    <tr>\n",
       "      <th>locality_name</th>\n",
       "      <th></th>\n",
       "      <th></th>\n",
       "    </tr>\n",
       "  </thead>\n",
       "  <tbody>\n",
       "    <tr>\n",
       "      <th>Санкт-Петербург</th>\n",
       "      <td>7948</td>\n",
       "      <td>111122.710996</td>\n",
       "    </tr>\n",
       "  </tbody>\n",
       "</table>\n",
       "</div>"
      ],
      "text/plain": [
       "                 count           mean\n",
       "locality_name                        \n",
       "Санкт-Петербург   7948  111122.710996"
      ]
     },
     "metadata": {},
     "output_type": "display_data"
    }
   ],
   "source": [
    "display(locality_pivot_table[locality_pivot_table['mean']==locality_pivot_table['mean'].max()])"
   ]
  },
  {
   "cell_type": "markdown",
   "metadata": {},
   "source": [
    "Cамая низкая стоимость квадратного метра:"
   ]
  },
  {
   "cell_type": "code",
   "execution_count": 88,
   "metadata": {},
   "outputs": [
    {
     "data": {
      "text/html": [
       "<div>\n",
       "<style scoped>\n",
       "    .dataframe tbody tr th:only-of-type {\n",
       "        vertical-align: middle;\n",
       "    }\n",
       "\n",
       "    .dataframe tbody tr th {\n",
       "        vertical-align: top;\n",
       "    }\n",
       "\n",
       "    .dataframe thead th {\n",
       "        text-align: right;\n",
       "    }\n",
       "</style>\n",
       "<table border=\"1\" class=\"dataframe\">\n",
       "  <thead>\n",
       "    <tr style=\"text-align: right;\">\n",
       "      <th></th>\n",
       "      <th>count</th>\n",
       "      <th>mean</th>\n",
       "    </tr>\n",
       "    <tr>\n",
       "      <th>locality_name</th>\n",
       "      <th></th>\n",
       "      <th></th>\n",
       "    </tr>\n",
       "  </thead>\n",
       "  <tbody>\n",
       "    <tr>\n",
       "      <th>Всеволожск</th>\n",
       "      <td>242</td>\n",
       "      <td>67951.855372</td>\n",
       "    </tr>\n",
       "  </tbody>\n",
       "</table>\n",
       "</div>"
      ],
      "text/plain": [
       "               count          mean\n",
       "locality_name                     \n",
       "Всеволожск       242  67951.855372"
      ]
     },
     "metadata": {},
     "output_type": "display_data"
    }
   ],
   "source": [
    "display(locality_pivot_table[locality_pivot_table['mean']==locality_pivot_table['mean'].min()])"
   ]
  },
  {
   "cell_type": "markdown",
   "metadata": {},
   "source": [
    "Можно сделать вывод, что самая высокая стоимость жилья в Санкт-Петербурге, тогда как самая низка во Всеволжске."
   ]
  },
  {
   "cell_type": "markdown",
   "metadata": {},
   "source": [
    "Выделим территорию, которую следует считать центром Санкт-Петербурга."
   ]
  },
  {
   "cell_type": "code",
   "execution_count": 89,
   "metadata": {},
   "outputs": [
    {
     "data": {
      "text/html": [
       "<div>\n",
       "<style scoped>\n",
       "    .dataframe tbody tr th:only-of-type {\n",
       "        vertical-align: middle;\n",
       "    }\n",
       "\n",
       "    .dataframe tbody tr th {\n",
       "        vertical-align: top;\n",
       "    }\n",
       "\n",
       "    .dataframe thead th {\n",
       "        text-align: right;\n",
       "    }\n",
       "</style>\n",
       "<table border=\"1\" class=\"dataframe\">\n",
       "  <thead>\n",
       "    <tr style=\"text-align: right;\">\n",
       "      <th></th>\n",
       "      <th>last_price</th>\n",
       "    </tr>\n",
       "    <tr>\n",
       "      <th>city_centers_nearest_km</th>\n",
       "      <th></th>\n",
       "    </tr>\n",
       "  </thead>\n",
       "  <tbody>\n",
       "    <tr>\n",
       "      <th>0</th>\n",
       "      <td>9.627472e+06</td>\n",
       "    </tr>\n",
       "    <tr>\n",
       "      <th>1</th>\n",
       "      <td>9.352695e+06</td>\n",
       "    </tr>\n",
       "    <tr>\n",
       "      <th>2</th>\n",
       "      <td>8.512953e+06</td>\n",
       "    </tr>\n",
       "    <tr>\n",
       "      <th>3</th>\n",
       "      <td>8.187386e+06</td>\n",
       "    </tr>\n",
       "    <tr>\n",
       "      <th>4</th>\n",
       "      <td>8.844261e+06</td>\n",
       "    </tr>\n",
       "  </tbody>\n",
       "</table>\n",
       "</div>"
      ],
      "text/plain": [
       "                           last_price\n",
       "city_centers_nearest_km              \n",
       "0                        9.627472e+06\n",
       "1                        9.352695e+06\n",
       "2                        8.512953e+06\n",
       "3                        8.187386e+06\n",
       "4                        8.844261e+06"
      ]
     },
     "metadata": {},
     "output_type": "display_data"
    },
    {
     "data": {
      "image/png": "[encoded data removed]",
      "text/plain": [
       "<Figure size 432x288 with 1 Axes>"
      ]
     },
     "metadata": {
      "needs_background": "light"
     },
     "output_type": "display_data"
    }
   ],
   "source": [
    "df['city_centers_nearest_km'] = df['city_centers_nearest']/1000\n",
    "df['city_centers_nearest_km'] = df['city_centers_nearest_km'].astype('int')\n",
    "pivot_table_km = df.query('locality_name == \"Санкт-Петербург\"').pivot_table(index = 'city_centers_nearest_km', values = 'last_price', aggfunc = 'mean')\n",
    "pivot_table_km.plot()\n",
    "display(pivot_table_km.head())"
   ]
  },
  {
   "cell_type": "markdown",
   "metadata": {},
   "source": [
    "Исходя из графика центром Санкт-Петербурга следует считать территорию равную 9 км, так как на графике примерно на этой отметке начинается заметное падение, которое продолжается и далее."
   ]
  },
  {
   "cell_type": "markdown",
   "metadata": {},
   "source": [
    "Создадим новый датафрейм, в который поместим данные о квартирах в центре."
   ]
  },
  {
   "cell_type": "code",
   "execution_count": 90,
   "metadata": {},
   "outputs": [],
   "source": [
    "center_spb_df = df.query('city_centers_nearest_km <= 9 and locality_name == \"Санкт-Петербург\"')"
   ]
  },
  {
   "cell_type": "markdown",
   "metadata": {},
   "source": [
    "Изучим зависимость стоимости квартиры в центре от количества комнат."
   ]
  },
  {
   "cell_type": "markdown",
   "metadata": {},
   "source": [
    "Странно, что не сохранились изменения, я исправляла все квадратные метры на общую цену. Сейчас выполнила снова."
   ]
  },
  {
   "cell_type": "code",
   "execution_count": 91,
   "metadata": {},
   "outputs": [
    {
     "data": {
      "text/plain": [
       "0.44118626430535657"
      ]
     },
     "execution_count": 91,
     "metadata": {},
     "output_type": "execute_result"
    },
    {
     "data": {
      "image/png": "[encoded data removed]",
      "text/plain": [
       "<Figure size 432x288 with 1 Axes>"
      ]
     },
     "metadata": {
      "needs_background": "light"
     },
     "output_type": "display_data"
    }
   ],
   "source": [
    "center_spb_rooms = center_spb_df.pivot_table(index = 'rooms', values = 'last_price', aggfunc = ['mean', 'count', 'median'])\n",
    "center_spb_rooms.columns = ['mean', 'count', 'median']\n",
    "center_spb_rooms.query('count > 50').plot(y = 'median')\n",
    "\n",
    "center_spb_rooms.query('count > 50').sort_values('median', ascending = False)\n",
    "\n",
    "center_spb_df['rooms'].corr(center_spb_df['last_price'])"
   ]
  },
  {
   "cell_type": "markdown",
   "metadata": {},
   "source": [
    "Так как коэфицент корреляции низкий, не следует связывать стоимость квартиры в центе с количеством комнат."
   ]
  },
  {
   "cell_type": "markdown",
   "metadata": {},
   "source": [
    "Теперь посмотрим на взаимосвязь этажа и стоимости квартиры."
   ]
  },
  {
   "cell_type": "code",
   "execution_count": 93,
   "metadata": {
    "scrolled": true
   },
   "outputs": [
    {
     "data": {
      "text/plain": [
       "<AxesSubplot:xlabel='floor_category'>"
      ]
     },
     "execution_count": 93,
     "metadata": {},
     "output_type": "execute_result"
    },
    {
     "data": {
      "image/png": "[encoded data removed]",
      "text/plain": [
       "<Figure size 432x288 with 1 Axes>"
      ]
     },
     "metadata": {
      "needs_background": "light"
     },
     "output_type": "display_data"
    }
   ],
   "source": [
    "center_spb_floor_category = center_spb_df.query('floor_category != \"другой\"').pivot_table(index = 'floor_category', values = 'last_price', aggfunc = ['mean', 'count', 'median'])\n",
    "center_spb_floor_category.columns = ['mean', 'count', 'median']\n",
    "center_spb_floor_category.plot(y = 'median')"
   ]
  },
  {
   "cell_type": "markdown",
   "metadata": {},
   "source": [
    "Квартиры на первом этаже в центре немного дешевле, чем квартиры на последнем этаже. Данный результат не отличается от взаимосвязи этажа и стоимости квадратного метра по всему городу и области."
   ]
  },
  {
   "cell_type": "markdown",
   "metadata": {},
   "source": [
    "Рассмотрим взаимосвязь удалённости от центра и стотимости квартиры."
   ]
  },
  {
   "cell_type": "code",
   "execution_count": 94,
   "metadata": {},
   "outputs": [
    {
     "data": {
      "text/plain": [
       "-0.22647858895330264"
      ]
     },
     "execution_count": 94,
     "metadata": {},
     "output_type": "execute_result"
    },
    {
     "data": {
      "image/png": "[encoded data removed]",
      "text/plain": [
       "<Figure size 432x288 with 1 Axes>"
      ]
     },
     "metadata": {
      "needs_background": "light"
     },
     "output_type": "display_data"
    }
   ],
   "source": [
    "center_spb_df.plot(kind = 'scatter', y = 'last_price', x = 'city_centers_nearest', alpha = 0.3)\n",
    "\n",
    "center_spb_df['city_centers_nearest'].corr(center_spb_df['last_price'])"
   ]
  },
  {
   "cell_type": "markdown",
   "metadata": {},
   "source": [
    "Четкой зависимости нет, так как мы рассматриваем выборку по центру города."
   ]
  },
  {
   "cell_type": "markdown",
   "metadata": {},
   "source": [
    "Изучим взаимосвязь стоимости квартиры и даты размещения объявления. Начнём с дня недели."
   ]
  },
  {
   "cell_type": "code",
   "execution_count": 95,
   "metadata": {},
   "outputs": [
    {
     "data": {
      "text/plain": [
       "<AxesSubplot:xlabel='weekday'>"
      ]
     },
     "execution_count": 95,
     "metadata": {},
     "output_type": "execute_result"
    },
    {
     "data": {
      "image/png": "[encoded data removed]",
      "text/plain": [
       "<Figure size 432x288 with 1 Axes>"
      ]
     },
     "metadata": {
      "needs_background": "light"
     },
     "output_type": "display_data"
    }
   ],
   "source": [
    "center_spb_weekday = center_spb_df.pivot_table(index = 'weekday', values = 'last_price', aggfunc = ['mean', 'count', 'median'])\n",
    "center_spb_weekday.columns = ['mean', 'count', 'median']\n",
    "center_spb_weekday.plot(y = 'median')"
   ]
  },
  {
   "cell_type": "markdown",
   "metadata": {},
   "source": [
    "Исходя из графика видно, что в пятницу стоимость квартир самая низкая, тогда как самая высокая в воскрсенье и чуть ниже в среду. Возможно, это связано с тем, что люди оставляют дела (в том числе и продажу квартиры) на конец недели и кто-то стремится закончить все дела до выходных, а кто-то занимается делами в субботу, оставив отдых на воскресенье. Данный результат отличается от всей выборки в части дня недели с самой низкой ценой."
   ]
  },
  {
   "cell_type": "markdown",
   "metadata": {},
   "source": [
    "Посмотрим взаимосвязь с месяцем размещения объявления."
   ]
  },
  {
   "cell_type": "code",
   "execution_count": 96,
   "metadata": {},
   "outputs": [
    {
     "data": {
      "text/html": [
       "<div>\n",
       "<style scoped>\n",
       "    .dataframe tbody tr th:only-of-type {\n",
       "        vertical-align: middle;\n",
       "    }\n",
       "\n",
       "    .dataframe tbody tr th {\n",
       "        vertical-align: top;\n",
       "    }\n",
       "\n",
       "    .dataframe thead th {\n",
       "        text-align: right;\n",
       "    }\n",
       "</style>\n",
       "<table border=\"1\" class=\"dataframe\">\n",
       "  <thead>\n",
       "    <tr style=\"text-align: right;\">\n",
       "      <th></th>\n",
       "      <th>mean</th>\n",
       "      <th>count</th>\n",
       "      <th>median</th>\n",
       "    </tr>\n",
       "    <tr>\n",
       "      <th>month</th>\n",
       "      <th></th>\n",
       "      <th></th>\n",
       "      <th></th>\n",
       "    </tr>\n",
       "  </thead>\n",
       "  <tbody>\n",
       "    <tr>\n",
       "      <th>9</th>\n",
       "      <td>8.998693e+06</td>\n",
       "      <td>241</td>\n",
       "      <td>8200000.0</td>\n",
       "    </tr>\n",
       "    <tr>\n",
       "      <th>10</th>\n",
       "      <td>8.379942e+06</td>\n",
       "      <td>243</td>\n",
       "      <td>8000000.0</td>\n",
       "    </tr>\n",
       "    <tr>\n",
       "      <th>11</th>\n",
       "      <td>8.588547e+06</td>\n",
       "      <td>251</td>\n",
       "      <td>8000000.0</td>\n",
       "    </tr>\n",
       "    <tr>\n",
       "      <th>7</th>\n",
       "      <td>8.121548e+06</td>\n",
       "      <td>216</td>\n",
       "      <td>7975999.5</td>\n",
       "    </tr>\n",
       "    <tr>\n",
       "      <th>8</th>\n",
       "      <td>8.799936e+06</td>\n",
       "      <td>211</td>\n",
       "      <td>7920000.0</td>\n",
       "    </tr>\n",
       "    <tr>\n",
       "      <th>2</th>\n",
       "      <td>8.262904e+06</td>\n",
       "      <td>293</td>\n",
       "      <td>7850000.0</td>\n",
       "    </tr>\n",
       "    <tr>\n",
       "      <th>3</th>\n",
       "      <td>8.395909e+06</td>\n",
       "      <td>311</td>\n",
       "      <td>7800000.0</td>\n",
       "    </tr>\n",
       "    <tr>\n",
       "      <th>4</th>\n",
       "      <td>8.277206e+06</td>\n",
       "      <td>269</td>\n",
       "      <td>7600000.0</td>\n",
       "    </tr>\n",
       "    <tr>\n",
       "      <th>6</th>\n",
       "      <td>8.242510e+06</td>\n",
       "      <td>210</td>\n",
       "      <td>7547800.0</td>\n",
       "    </tr>\n",
       "    <tr>\n",
       "      <th>1</th>\n",
       "      <td>8.180503e+06</td>\n",
       "      <td>169</td>\n",
       "      <td>7500000.0</td>\n",
       "    </tr>\n",
       "    <tr>\n",
       "      <th>5</th>\n",
       "      <td>7.687745e+06</td>\n",
       "      <td>158</td>\n",
       "      <td>7302500.0</td>\n",
       "    </tr>\n",
       "    <tr>\n",
       "      <th>12</th>\n",
       "      <td>7.624080e+06</td>\n",
       "      <td>173</td>\n",
       "      <td>6900000.0</td>\n",
       "    </tr>\n",
       "  </tbody>\n",
       "</table>\n",
       "</div>"
      ],
      "text/plain": [
       "               mean  count     median\n",
       "month                                \n",
       "9      8.998693e+06    241  8200000.0\n",
       "10     8.379942e+06    243  8000000.0\n",
       "11     8.588547e+06    251  8000000.0\n",
       "7      8.121548e+06    216  7975999.5\n",
       "8      8.799936e+06    211  7920000.0\n",
       "2      8.262904e+06    293  7850000.0\n",
       "3      8.395909e+06    311  7800000.0\n",
       "4      8.277206e+06    269  7600000.0\n",
       "6      8.242510e+06    210  7547800.0\n",
       "1      8.180503e+06    169  7500000.0\n",
       "5      7.687745e+06    158  7302500.0\n",
       "12     7.624080e+06    173  6900000.0"
      ]
     },
     "execution_count": 96,
     "metadata": {},
     "output_type": "execute_result"
    },
    {
     "data": {
      "image/png": "[encoded data removed]",
      "text/plain": [
       "<Figure size 432x288 with 1 Axes>"
      ]
     },
     "metadata": {
      "needs_background": "light"
     },
     "output_type": "display_data"
    }
   ],
   "source": [
    "center_spb_month = center_spb_df.pivot_table(index = 'month', values = 'last_price', aggfunc = ['mean', 'count', 'median'])\n",
    "center_spb_month.columns = ['mean', 'count', 'median']\n",
    "center_spb_month.plot(y = 'median')\n",
    "\n",
    "center_spb_month.sort_values('median', ascending = False)"
   ]
  },
  {
   "cell_type": "markdown",
   "metadata": {},
   "source": [
    "Наиболее дорогие квартиры в сентябре, а самые дешевые в декабре. Вероятнее всего, это связано с тем, что в декабре люди готовятся ко встрече Нового года и не совершают таких дорогих покупок."
   ]
  },
  {
   "cell_type": "markdown",
   "metadata": {},
   "source": [
    "Изучим взаимосвязь стоимости квартиры с годом публикайции объявления."
   ]
  },
  {
   "cell_type": "code",
   "execution_count": 97,
   "metadata": {},
   "outputs": [
    {
     "data": {
      "text/html": [
       "<div>\n",
       "<style scoped>\n",
       "    .dataframe tbody tr th:only-of-type {\n",
       "        vertical-align: middle;\n",
       "    }\n",
       "\n",
       "    .dataframe tbody tr th {\n",
       "        vertical-align: top;\n",
       "    }\n",
       "\n",
       "    .dataframe thead th {\n",
       "        text-align: right;\n",
       "    }\n",
       "</style>\n",
       "<table border=\"1\" class=\"dataframe\">\n",
       "  <thead>\n",
       "    <tr style=\"text-align: right;\">\n",
       "      <th></th>\n",
       "      <th>mean</th>\n",
       "      <th>count</th>\n",
       "      <th>median</th>\n",
       "    </tr>\n",
       "    <tr>\n",
       "      <th>year</th>\n",
       "      <th></th>\n",
       "      <th></th>\n",
       "      <th></th>\n",
       "    </tr>\n",
       "  </thead>\n",
       "  <tbody>\n",
       "    <tr>\n",
       "      <th>2019</th>\n",
       "      <td>8.705931e+06</td>\n",
       "      <td>330</td>\n",
       "      <td>7980000</td>\n",
       "    </tr>\n",
       "    <tr>\n",
       "      <th>2018</th>\n",
       "      <td>8.197332e+06</td>\n",
       "      <td>989</td>\n",
       "      <td>7800000</td>\n",
       "    </tr>\n",
       "    <tr>\n",
       "      <th>2016</th>\n",
       "      <td>8.327817e+06</td>\n",
       "      <td>309</td>\n",
       "      <td>7700000</td>\n",
       "    </tr>\n",
       "    <tr>\n",
       "      <th>2015</th>\n",
       "      <td>8.292521e+06</td>\n",
       "      <td>93</td>\n",
       "      <td>7600000</td>\n",
       "    </tr>\n",
       "    <tr>\n",
       "      <th>2017</th>\n",
       "      <td>8.352488e+06</td>\n",
       "      <td>1024</td>\n",
       "      <td>7500400</td>\n",
       "    </tr>\n",
       "  </tbody>\n",
       "</table>\n",
       "</div>"
      ],
      "text/plain": [
       "              mean  count   median\n",
       "year                              \n",
       "2019  8.705931e+06    330  7980000\n",
       "2018  8.197332e+06    989  7800000\n",
       "2016  8.327817e+06    309  7700000\n",
       "2015  8.292521e+06     93  7600000\n",
       "2017  8.352488e+06   1024  7500400"
      ]
     },
     "execution_count": 97,
     "metadata": {},
     "output_type": "execute_result"
    },
    {
     "data": {
      "image/png": "[encoded data removed]",
      "text/plain": [
       "<Figure size 432x288 with 1 Axes>"
      ]
     },
     "metadata": {
      "needs_background": "light"
     },
     "output_type": "display_data"
    }
   ],
   "source": [
    "center_spb_year = center_spb_df.pivot_table(index = 'year', values = 'last_price', aggfunc = ['mean', 'count', 'median'])\n",
    "center_spb_year.columns = ['mean', 'count', 'median']\n",
    "center_spb_year.query('count > 50').plot(y = 'median')\n",
    "\n",
    "center_spb_year.query('count > 50').sort_values('median', ascending = False)"
   ]
  },
  {
   "cell_type": "markdown",
   "metadata": {},
   "source": [
    "На графике видно, что во второй половине 2015 года была самая высокая стоимость квартир. Далее наблюдалось снижение цен, а с 2017 наблюдается рост стоимости квартир.Эти данные отличаются от остальной выборки."
   ]
  },
  {
   "cell_type": "markdown",
   "metadata": {},
   "source": [
    "### Вывод"
   ]
  },
  {
   "cell_type": "markdown",
   "metadata": {},
   "source": [
    "Можно сказать, что результат анализа данных по центру Санкт-Петербурга немного отличается от всей выборки. Например, стоимость квартир по дню недели, месяцу или году размещению объявления совсем другая, а также не связана стоимость квадратного метра и количества комнат. Другие показатели не оличаются от средних по всей таблице."
   ]
  },
  {
   "cell_type": "markdown",
   "metadata": {},
   "source": [
    "## Общий вывод"
   ]
  },
  {
   "cell_type": "markdown",
   "metadata": {},
   "source": [
    "**В ходе выполнения проекта:**\n",
    "\n",
    "1. Мы обработали данные:\n",
    " - заполнили пропуски,\n",
    " - выявили выбивающиеся значения (выбросы), сделали предположения о природе их возникновения\n",
    " - удалили выбросы.\n",
    "2. Ответили на все поставленные вопросы, для чего сделали сводные таблицы, построили различные графики, гистограммы. Добавили несколько новых столбцов в исходный датафрейм, которые облегчили работу. Выявили зависимость между стоимостью квартиры и различными показателями.\n",
    "\n",
    "Стоимость квартиры зависит от количества комнат, этажа расположения, удалённости от центра. Есть небольшая зависимость между временем размещения объявления и стоимостью квартиры, так, например, в будние дни цена чуть выше."
   ]
  }
 ],
 "metadata": {
  "ExecuteTimeLog": [
   {
    "duration": 370,
    "start_time": "2022-05-07T08:32:00.040Z"
   },
   {
    "duration": 70,
    "start_time": "2022-05-07T08:32:01.824Z"
   },
   {
    "duration": 14,
    "start_time": "2022-05-07T08:32:03.155Z"
   },
   {
    "duration": 70,
    "start_time": "2022-05-07T08:39:11.828Z"
   },
   {
    "duration": 29,
    "start_time": "2022-05-07T08:39:14.928Z"
   },
   {
    "duration": 15,
    "start_time": "2022-05-07T08:40:08.340Z"
   },
   {
    "duration": 8,
    "start_time": "2022-05-07T09:09:55.094Z"
   },
   {
    "duration": 46,
    "start_time": "2022-05-07T09:10:47.316Z"
   },
   {
    "duration": 68,
    "start_time": "2022-05-07T09:26:12.200Z"
   },
   {
    "duration": 12,
    "start_time": "2022-05-07T09:26:21.407Z"
   },
   {
    "duration": 11,
    "start_time": "2022-05-07T09:26:32.801Z"
   },
   {
    "duration": 12,
    "start_time": "2022-05-07T09:26:35.969Z"
   },
   {
    "duration": 5,
    "start_time": "2022-05-07T09:37:40.112Z"
   },
   {
    "duration": 5,
    "start_time": "2022-05-07T09:41:47.161Z"
   },
   {
    "duration": 5,
    "start_time": "2022-05-07T09:44:04.778Z"
   },
   {
    "duration": 1516,
    "start_time": "2022-05-07T09:44:41.954Z"
   },
   {
    "duration": 16,
    "start_time": "2022-05-07T09:45:36.550Z"
   },
   {
    "duration": 6,
    "start_time": "2022-05-07T09:46:08.915Z"
   },
   {
    "duration": 6,
    "start_time": "2022-05-07T09:46:32.204Z"
   },
   {
    "duration": 8,
    "start_time": "2022-05-07T09:48:12.194Z"
   },
   {
    "duration": 5,
    "start_time": "2022-05-07T09:48:25.647Z"
   },
   {
    "duration": 7,
    "start_time": "2022-05-07T09:48:51.037Z"
   },
   {
    "duration": 5,
    "start_time": "2022-05-07T09:49:04.687Z"
   },
   {
    "duration": 6,
    "start_time": "2022-05-07T09:49:50.738Z"
   },
   {
    "duration": 6,
    "start_time": "2022-05-07T09:50:03.216Z"
   },
   {
    "duration": 5,
    "start_time": "2022-05-07T09:50:23.766Z"
   },
   {
    "duration": 6,
    "start_time": "2022-05-07T09:50:30.468Z"
   },
   {
    "duration": 5,
    "start_time": "2022-05-07T09:50:46.808Z"
   },
   {
    "duration": 5,
    "start_time": "2022-05-07T09:51:06.115Z"
   },
   {
    "duration": 4,
    "start_time": "2022-05-07T09:51:18.256Z"
   },
   {
    "duration": 5,
    "start_time": "2022-05-07T09:51:34.079Z"
   },
   {
    "duration": 4,
    "start_time": "2022-05-07T09:51:48.927Z"
   },
   {
    "duration": 5,
    "start_time": "2022-05-07T09:52:42.920Z"
   },
   {
    "duration": 4,
    "start_time": "2022-05-07T09:52:45.969Z"
   },
   {
    "duration": 7,
    "start_time": "2022-05-07T10:21:07.349Z"
   },
   {
    "duration": 5,
    "start_time": "2022-05-07T10:21:18.396Z"
   },
   {
    "duration": 8,
    "start_time": "2022-05-07T10:23:00.887Z"
   },
   {
    "duration": 8,
    "start_time": "2022-05-07T10:27:41.971Z"
   },
   {
    "duration": 4,
    "start_time": "2022-05-07T10:28:09.506Z"
   },
   {
    "duration": 4,
    "start_time": "2022-05-07T10:28:27.337Z"
   },
   {
    "duration": 95,
    "start_time": "2022-05-07T10:28:49.010Z"
   },
   {
    "duration": 5,
    "start_time": "2022-05-07T10:28:57.501Z"
   },
   {
    "duration": 8,
    "start_time": "2022-05-07T10:34:16.823Z"
   },
   {
    "duration": 6,
    "start_time": "2022-05-07T10:34:23.130Z"
   },
   {
    "duration": 6,
    "start_time": "2022-05-07T12:17:14.289Z"
   },
   {
    "duration": 5,
    "start_time": "2022-05-07T12:17:16.159Z"
   },
   {
    "duration": 5,
    "start_time": "2022-05-07T12:17:17.507Z"
   },
   {
    "duration": 13,
    "start_time": "2022-05-07T12:17:27.082Z"
   },
   {
    "duration": 43,
    "start_time": "2022-05-07T12:17:51.321Z"
   },
   {
    "duration": 10,
    "start_time": "2022-05-07T13:45:54.152Z"
   },
   {
    "duration": 3,
    "start_time": "2022-05-07T14:13:46.847Z"
   },
   {
    "duration": 6,
    "start_time": "2022-05-07T14:13:58.459Z"
   },
   {
    "duration": 8,
    "start_time": "2022-05-07T14:14:17.145Z"
   },
   {
    "duration": 4,
    "start_time": "2022-05-07T14:18:23.931Z"
   },
   {
    "duration": 289,
    "start_time": "2022-05-07T14:18:27.414Z"
   },
   {
    "duration": 10,
    "start_time": "2022-05-07T14:18:35.860Z"
   },
   {
    "duration": 7,
    "start_time": "2022-05-07T14:23:24.617Z"
   },
   {
    "duration": 6,
    "start_time": "2022-05-07T14:24:03.927Z"
   },
   {
    "duration": 4,
    "start_time": "2022-05-07T14:26:39.038Z"
   },
   {
    "duration": 7,
    "start_time": "2022-05-07T14:26:46.626Z"
   },
   {
    "duration": 5,
    "start_time": "2022-05-07T14:27:02.905Z"
   },
   {
    "duration": 5,
    "start_time": "2022-05-07T14:30:11.045Z"
   },
   {
    "duration": 6,
    "start_time": "2022-05-07T14:35:44.542Z"
   },
   {
    "duration": 19,
    "start_time": "2022-05-07T14:35:56.029Z"
   },
   {
    "duration": 5,
    "start_time": "2022-05-07T14:44:23.605Z"
   },
   {
    "duration": 3302,
    "start_time": "2022-05-07T14:44:30.001Z"
   },
   {
    "duration": 7,
    "start_time": "2022-05-07T14:44:47.017Z"
   },
   {
    "duration": 6,
    "start_time": "2022-05-07T14:46:36.643Z"
   },
   {
    "duration": 1968,
    "start_time": "2022-05-07T14:46:39.538Z"
   },
   {
    "duration": 8,
    "start_time": "2022-05-07T14:46:46.852Z"
   },
   {
    "duration": 4,
    "start_time": "2022-05-07T15:19:47.129Z"
   },
   {
    "duration": 6,
    "start_time": "2022-05-07T15:19:55.092Z"
   },
   {
    "duration": 4,
    "start_time": "2022-05-07T15:20:15.365Z"
   },
   {
    "duration": 6,
    "start_time": "2022-05-07T15:20:18.579Z"
   },
   {
    "duration": 47,
    "start_time": "2022-05-08T09:17:01.159Z"
   },
   {
    "duration": 405,
    "start_time": "2022-05-08T09:17:09.842Z"
   },
   {
    "duration": 80,
    "start_time": "2022-05-08T09:17:10.647Z"
   },
   {
    "duration": 35,
    "start_time": "2022-05-08T09:17:12.084Z"
   },
   {
    "duration": 15,
    "start_time": "2022-05-08T09:17:22.490Z"
   },
   {
    "duration": 8,
    "start_time": "2022-05-08T09:17:30.285Z"
   },
   {
    "duration": 4,
    "start_time": "2022-05-08T09:17:32.766Z"
   },
   {
    "duration": 6,
    "start_time": "2022-05-08T09:17:33.674Z"
   },
   {
    "duration": 5,
    "start_time": "2022-05-08T09:17:34.842Z"
   },
   {
    "duration": 4,
    "start_time": "2022-05-08T09:17:35.532Z"
   },
   {
    "duration": 5,
    "start_time": "2022-05-08T09:17:36.256Z"
   },
   {
    "duration": 6,
    "start_time": "2022-05-08T09:17:37.246Z"
   },
   {
    "duration": 6,
    "start_time": "2022-05-08T09:17:38.954Z"
   },
   {
    "duration": 7,
    "start_time": "2022-05-08T09:17:39.717Z"
   },
   {
    "duration": 8,
    "start_time": "2022-05-08T09:17:40.549Z"
   },
   {
    "duration": 5,
    "start_time": "2022-05-08T09:17:41.970Z"
   },
   {
    "duration": 6,
    "start_time": "2022-05-08T09:17:46.913Z"
   },
   {
    "duration": 6,
    "start_time": "2022-05-08T09:17:49.929Z"
   },
   {
    "duration": 7,
    "start_time": "2022-05-08T09:17:50.746Z"
   },
   {
    "duration": 6,
    "start_time": "2022-05-08T09:17:51.469Z"
   },
   {
    "duration": 7,
    "start_time": "2022-05-08T09:17:54.081Z"
   },
   {
    "duration": 6,
    "start_time": "2022-05-08T09:17:55.638Z"
   },
   {
    "duration": 6,
    "start_time": "2022-05-08T09:17:59.009Z"
   },
   {
    "duration": 5,
    "start_time": "2022-05-08T09:18:14.080Z"
   },
   {
    "duration": 8,
    "start_time": "2022-05-08T09:18:15.020Z"
   },
   {
    "duration": 5,
    "start_time": "2022-05-08T09:18:16.093Z"
   },
   {
    "duration": 6,
    "start_time": "2022-05-08T09:18:17.019Z"
   },
   {
    "duration": 5,
    "start_time": "2022-05-08T09:18:18.073Z"
   },
   {
    "duration": 6,
    "start_time": "2022-05-08T09:18:19.479Z"
   },
   {
    "duration": 7,
    "start_time": "2022-05-08T09:18:20.891Z"
   },
   {
    "duration": 6,
    "start_time": "2022-05-08T09:18:26.010Z"
   },
   {
    "duration": 7,
    "start_time": "2022-05-08T09:18:26.858Z"
   },
   {
    "duration": 5,
    "start_time": "2022-05-08T09:18:27.716Z"
   },
   {
    "duration": 4,
    "start_time": "2022-05-08T09:18:29.510Z"
   },
   {
    "duration": 6,
    "start_time": "2022-05-08T09:18:31.031Z"
   },
   {
    "duration": 32,
    "start_time": "2022-05-08T09:33:21.565Z"
   },
   {
    "duration": 7,
    "start_time": "2022-05-08T09:33:36.686Z"
   },
   {
    "duration": 7,
    "start_time": "2022-05-08T09:34:20.112Z"
   },
   {
    "duration": 11,
    "start_time": "2022-05-08T09:36:51.317Z"
   },
   {
    "duration": 11,
    "start_time": "2022-05-08T09:39:13.026Z"
   },
   {
    "duration": 10,
    "start_time": "2022-05-08T09:40:14.249Z"
   },
   {
    "duration": 8,
    "start_time": "2022-05-08T09:40:20.692Z"
   },
   {
    "duration": 8,
    "start_time": "2022-05-08T09:40:36.304Z"
   },
   {
    "duration": 15,
    "start_time": "2022-05-08T09:40:46.679Z"
   },
   {
    "duration": 6,
    "start_time": "2022-05-08T09:51:26.769Z"
   },
   {
    "duration": 8,
    "start_time": "2022-05-08T09:54:01.276Z"
   },
   {
    "duration": 7,
    "start_time": "2022-05-08T09:54:10.655Z"
   },
   {
    "duration": 4,
    "start_time": "2022-05-08T09:54:42.927Z"
   },
   {
    "duration": 4,
    "start_time": "2022-05-08T09:54:50.848Z"
   },
   {
    "duration": 629,
    "start_time": "2022-05-08T09:58:31.801Z"
   },
   {
    "duration": 175,
    "start_time": "2022-05-08T09:58:44.748Z"
   },
   {
    "duration": 141,
    "start_time": "2022-05-08T09:59:04.392Z"
   },
   {
    "duration": 209,
    "start_time": "2022-05-08T09:59:44.445Z"
   },
   {
    "duration": 161,
    "start_time": "2022-05-08T10:00:08.200Z"
   },
   {
    "duration": 152,
    "start_time": "2022-05-08T10:01:33.435Z"
   },
   {
    "duration": 158,
    "start_time": "2022-05-08T10:01:40.025Z"
   },
   {
    "duration": 3,
    "start_time": "2022-05-08T10:05:56.726Z"
   },
   {
    "duration": 3,
    "start_time": "2022-05-08T10:06:00.394Z"
   },
   {
    "duration": 551,
    "start_time": "2022-05-08T10:08:44.322Z"
   },
   {
    "duration": 111,
    "start_time": "2022-05-08T10:09:03.855Z"
   },
   {
    "duration": 102,
    "start_time": "2022-05-08T10:09:11.988Z"
   },
   {
    "duration": 104,
    "start_time": "2022-05-08T10:19:50.933Z"
   },
   {
    "duration": 4,
    "start_time": "2022-05-08T10:41:36.290Z"
   },
   {
    "duration": 71,
    "start_time": "2022-05-08T10:46:52.720Z"
   },
   {
    "duration": 21,
    "start_time": "2022-05-08T10:47:13.582Z"
   },
   {
    "duration": 11,
    "start_time": "2022-05-08T10:47:22.397Z"
   },
   {
    "duration": 10,
    "start_time": "2022-05-08T10:47:36.058Z"
   },
   {
    "duration": 8,
    "start_time": "2022-05-08T10:49:18.515Z"
   },
   {
    "duration": 102,
    "start_time": "2022-05-08T11:31:13.133Z"
   },
   {
    "duration": 185,
    "start_time": "2022-05-08T11:31:40.365Z"
   },
   {
    "duration": 121,
    "start_time": "2022-05-08T11:31:44.574Z"
   },
   {
    "duration": 105,
    "start_time": "2022-05-08T11:31:54.825Z"
   },
   {
    "duration": 107,
    "start_time": "2022-05-08T11:31:58.707Z"
   },
   {
    "duration": 104,
    "start_time": "2022-05-08T11:32:06.120Z"
   },
   {
    "duration": 82,
    "start_time": "2022-05-08T11:36:30.501Z"
   },
   {
    "duration": 8,
    "start_time": "2022-05-08T11:36:59.706Z"
   },
   {
    "duration": 15,
    "start_time": "2022-05-08T11:37:16.131Z"
   },
   {
    "duration": 13,
    "start_time": "2022-05-08T11:38:07.973Z"
   },
   {
    "duration": 13,
    "start_time": "2022-05-08T11:38:17.023Z"
   },
   {
    "duration": 3,
    "start_time": "2022-05-08T11:38:42.781Z"
   },
   {
    "duration": 5,
    "start_time": "2022-05-08T11:39:08.992Z"
   },
   {
    "duration": 7,
    "start_time": "2022-05-08T11:39:19.504Z"
   },
   {
    "duration": 4,
    "start_time": "2022-05-08T11:39:23.757Z"
   },
   {
    "duration": 5,
    "start_time": "2022-05-08T11:43:53.340Z"
   },
   {
    "duration": 5,
    "start_time": "2022-05-08T11:51:17.903Z"
   },
   {
    "duration": 6,
    "start_time": "2022-05-08T11:53:28.046Z"
   },
   {
    "duration": 7,
    "start_time": "2022-05-08T12:28:27.448Z"
   },
   {
    "duration": 78,
    "start_time": "2022-05-08T15:17:42.708Z"
   },
   {
    "duration": 1307,
    "start_time": "2022-05-08T15:17:51.257Z"
   },
   {
    "duration": 122,
    "start_time": "2022-05-08T15:17:53.661Z"
   },
   {
    "duration": 57,
    "start_time": "2022-05-08T15:17:54.666Z"
   },
   {
    "duration": 22,
    "start_time": "2022-05-08T15:17:56.147Z"
   },
   {
    "duration": 13,
    "start_time": "2022-05-08T15:17:57.554Z"
   },
   {
    "duration": 5,
    "start_time": "2022-05-08T15:17:59.856Z"
   },
   {
    "duration": 9,
    "start_time": "2022-05-08T15:18:01.467Z"
   },
   {
    "duration": 8,
    "start_time": "2022-05-08T15:18:02.923Z"
   },
   {
    "duration": 6,
    "start_time": "2022-05-08T15:18:03.765Z"
   },
   {
    "duration": 8,
    "start_time": "2022-05-08T15:18:04.593Z"
   },
   {
    "duration": 8,
    "start_time": "2022-05-08T15:18:05.773Z"
   },
   {
    "duration": 8,
    "start_time": "2022-05-08T15:18:06.571Z"
   },
   {
    "duration": 11,
    "start_time": "2022-05-08T15:18:07.410Z"
   },
   {
    "duration": 19,
    "start_time": "2022-05-08T15:18:09.378Z"
   },
   {
    "duration": 6,
    "start_time": "2022-05-08T15:18:12.616Z"
   },
   {
    "duration": 8,
    "start_time": "2022-05-08T15:18:13.828Z"
   },
   {
    "duration": 9,
    "start_time": "2022-05-08T15:18:17.595Z"
   },
   {
    "duration": 217,
    "start_time": "2022-05-08T15:18:20.661Z"
   },
   {
    "duration": 14,
    "start_time": "2022-05-08T15:18:23.040Z"
   },
   {
    "duration": 18,
    "start_time": "2022-05-08T15:18:25.912Z"
   },
   {
    "duration": 167,
    "start_time": "2022-05-08T15:18:26.947Z"
   },
   {
    "duration": 8,
    "start_time": "2022-05-08T15:23:46.637Z"
   },
   {
    "duration": 9,
    "start_time": "2022-05-08T15:23:47.418Z"
   },
   {
    "duration": 13,
    "start_time": "2022-05-08T15:23:48.082Z"
   },
   {
    "duration": 8,
    "start_time": "2022-05-08T15:23:48.743Z"
   },
   {
    "duration": 7,
    "start_time": "2022-05-08T15:23:49.336Z"
   },
   {
    "duration": 10,
    "start_time": "2022-05-08T15:23:50.018Z"
   },
   {
    "duration": 7,
    "start_time": "2022-05-08T15:23:50.930Z"
   },
   {
    "duration": 8,
    "start_time": "2022-05-08T15:23:51.579Z"
   },
   {
    "duration": 6,
    "start_time": "2022-05-08T15:23:52.191Z"
   },
   {
    "duration": 9,
    "start_time": "2022-05-08T15:23:52.816Z"
   },
   {
    "duration": 7,
    "start_time": "2022-05-08T15:23:53.494Z"
   },
   {
    "duration": 7,
    "start_time": "2022-05-08T15:23:54.125Z"
   },
   {
    "duration": 12,
    "start_time": "2022-05-08T15:23:55.077Z"
   },
   {
    "duration": 8,
    "start_time": "2022-05-08T15:23:56.094Z"
   },
   {
    "duration": 8,
    "start_time": "2022-05-08T15:23:56.858Z"
   },
   {
    "duration": 7,
    "start_time": "2022-05-08T15:23:57.839Z"
   },
   {
    "duration": 5,
    "start_time": "2022-05-08T15:23:58.996Z"
   },
   {
    "duration": 175,
    "start_time": "2022-05-08T15:23:59.344Z"
   },
   {
    "duration": 8,
    "start_time": "2022-05-08T15:23:59.699Z"
   },
   {
    "duration": 8,
    "start_time": "2022-05-08T15:24:04.973Z"
   },
   {
    "duration": 134,
    "start_time": "2022-05-08T15:24:34.773Z"
   },
   {
    "duration": 8,
    "start_time": "2022-05-08T15:34:28.998Z"
   },
   {
    "duration": 60,
    "start_time": "2022-05-08T15:42:23.911Z"
   },
   {
    "duration": 8,
    "start_time": "2022-05-08T15:42:59.799Z"
   },
   {
    "duration": 12,
    "start_time": "2022-05-08T15:43:02.097Z"
   },
   {
    "duration": 624,
    "start_time": "2022-05-08T15:43:23.649Z"
   },
   {
    "duration": 9,
    "start_time": "2022-05-08T15:44:35.075Z"
   },
   {
    "duration": 1060,
    "start_time": "2022-05-08T15:45:08.961Z"
   },
   {
    "duration": 12,
    "start_time": "2022-05-08T15:45:16.639Z"
   },
   {
    "duration": 6,
    "start_time": "2022-05-08T15:45:52.232Z"
   },
   {
    "duration": 723,
    "start_time": "2022-05-08T15:46:22.490Z"
   },
   {
    "duration": 6,
    "start_time": "2022-05-08T15:46:24.375Z"
   },
   {
    "duration": 1037,
    "start_time": "2022-05-08T15:54:18.365Z"
   },
   {
    "duration": 6,
    "start_time": "2022-05-08T15:54:20.253Z"
   },
   {
    "duration": 11,
    "start_time": "2022-05-08T16:02:11.854Z"
   },
   {
    "duration": 6,
    "start_time": "2022-05-08T16:02:14.062Z"
   },
   {
    "duration": 6,
    "start_time": "2022-05-08T16:02:36.155Z"
   },
   {
    "duration": 7,
    "start_time": "2022-05-08T16:02:38.770Z"
   },
   {
    "duration": 7,
    "start_time": "2022-05-08T16:04:00.942Z"
   },
   {
    "duration": 7,
    "start_time": "2022-05-08T16:14:07.526Z"
   },
   {
    "duration": 167,
    "start_time": "2022-05-08T16:16:41.642Z"
   },
   {
    "duration": 186,
    "start_time": "2022-05-08T16:16:55.854Z"
   },
   {
    "duration": 202,
    "start_time": "2022-05-08T16:17:39.890Z"
   },
   {
    "duration": 227,
    "start_time": "2022-05-08T16:17:53.761Z"
   },
   {
    "duration": 15,
    "start_time": "2022-05-08T16:29:44.325Z"
   },
   {
    "duration": 25,
    "start_time": "2022-05-08T16:29:55.284Z"
   },
   {
    "duration": 9,
    "start_time": "2022-05-08T16:30:03.918Z"
   },
   {
    "duration": 10,
    "start_time": "2022-05-08T16:30:34.996Z"
   },
   {
    "duration": 175,
    "start_time": "2022-05-08T16:31:49.267Z"
   },
   {
    "duration": 184,
    "start_time": "2022-05-08T16:31:59.455Z"
   },
   {
    "duration": 184,
    "start_time": "2022-05-08T16:32:08.239Z"
   },
   {
    "duration": 177,
    "start_time": "2022-05-08T16:32:15.034Z"
   },
   {
    "duration": 179,
    "start_time": "2022-05-08T16:32:22.712Z"
   },
   {
    "duration": 190,
    "start_time": "2022-05-08T16:33:48.130Z"
   },
   {
    "duration": 6,
    "start_time": "2022-05-08T16:36:10.899Z"
   },
   {
    "duration": 168,
    "start_time": "2022-05-08T16:38:04.974Z"
   },
   {
    "duration": 5,
    "start_time": "2022-05-08T16:40:50.330Z"
   },
   {
    "duration": 170,
    "start_time": "2022-05-08T16:40:57.056Z"
   },
   {
    "duration": 6,
    "start_time": "2022-05-08T16:41:54.915Z"
   },
   {
    "duration": 153,
    "start_time": "2022-05-08T16:41:58.319Z"
   },
   {
    "duration": 5,
    "start_time": "2022-05-08T16:42:55.520Z"
   },
   {
    "duration": 171,
    "start_time": "2022-05-08T16:42:58.860Z"
   },
   {
    "duration": 240,
    "start_time": "2022-05-08T16:43:06.572Z"
   },
   {
    "duration": 6,
    "start_time": "2022-05-08T16:43:13.241Z"
   },
   {
    "duration": 152,
    "start_time": "2022-05-08T16:43:16.201Z"
   },
   {
    "duration": 5,
    "start_time": "2022-05-08T16:44:29.468Z"
   },
   {
    "duration": 5,
    "start_time": "2022-05-08T16:44:30.453Z"
   },
   {
    "duration": 178,
    "start_time": "2022-05-08T16:44:31.885Z"
   },
   {
    "duration": 153,
    "start_time": "2022-05-08T16:44:58.232Z"
   },
   {
    "duration": 6,
    "start_time": "2022-05-08T16:48:32.792Z"
   },
   {
    "duration": 112,
    "start_time": "2022-05-08T16:48:34.475Z"
   },
   {
    "duration": 55,
    "start_time": "2022-05-08T16:48:35.277Z"
   },
   {
    "duration": 23,
    "start_time": "2022-05-08T16:48:36.195Z"
   },
   {
    "duration": 11,
    "start_time": "2022-05-08T16:48:37.155Z"
   },
   {
    "duration": 5,
    "start_time": "2022-05-08T16:48:38.918Z"
   },
   {
    "duration": 211,
    "start_time": "2022-05-08T16:48:40.138Z"
   },
   {
    "duration": 206,
    "start_time": "2022-05-08T16:49:03.365Z"
   },
   {
    "duration": 9,
    "start_time": "2022-05-08T16:49:24.503Z"
   },
   {
    "duration": 8,
    "start_time": "2022-05-08T16:49:26.427Z"
   },
   {
    "duration": 188,
    "start_time": "2022-05-08T16:49:30.914Z"
   },
   {
    "duration": 13,
    "start_time": "2022-05-08T16:49:37.142Z"
   },
   {
    "duration": 182,
    "start_time": "2022-05-08T16:49:39.516Z"
   },
   {
    "duration": 218,
    "start_time": "2022-05-08T16:49:56.156Z"
   },
   {
    "duration": 212,
    "start_time": "2022-05-08T16:50:09.731Z"
   },
   {
    "duration": 13,
    "start_time": "2022-05-08T16:54:57.590Z"
   },
   {
    "duration": 212,
    "start_time": "2022-05-08T16:58:25.029Z"
   },
   {
    "duration": 113,
    "start_time": "2022-05-08T16:59:43.122Z"
   },
   {
    "duration": 180,
    "start_time": "2022-05-08T16:59:58.692Z"
   },
   {
    "duration": 261,
    "start_time": "2022-05-08T17:00:21.793Z"
   },
   {
    "duration": 184,
    "start_time": "2022-05-08T17:00:54.697Z"
   },
   {
    "duration": 6,
    "start_time": "2022-05-08T17:01:00.321Z"
   },
   {
    "duration": 113,
    "start_time": "2022-05-08T17:02:11.423Z"
   },
   {
    "duration": 7,
    "start_time": "2022-05-08T17:02:15.554Z"
   },
   {
    "duration": 6,
    "start_time": "2022-05-08T17:02:31.521Z"
   },
   {
    "duration": 6,
    "start_time": "2022-05-08T17:03:34.789Z"
   },
   {
    "duration": 7,
    "start_time": "2022-05-08T17:04:04.318Z"
   },
   {
    "duration": 7,
    "start_time": "2022-05-08T17:04:31.979Z"
   },
   {
    "duration": 6,
    "start_time": "2022-05-08T17:04:36.669Z"
   },
   {
    "duration": 185,
    "start_time": "2022-05-08T17:05:21.841Z"
   },
   {
    "duration": 208,
    "start_time": "2022-05-08T17:05:36.971Z"
   },
   {
    "duration": 214,
    "start_time": "2022-05-08T17:05:46.738Z"
   },
   {
    "duration": 203,
    "start_time": "2022-05-08T17:06:17.686Z"
   },
   {
    "duration": 175,
    "start_time": "2022-05-08T17:06:37.617Z"
   },
   {
    "duration": 182,
    "start_time": "2022-05-08T17:09:27.553Z"
   },
   {
    "duration": 256,
    "start_time": "2022-05-08T17:09:51.034Z"
   },
   {
    "duration": 201,
    "start_time": "2022-05-08T17:12:57.937Z"
   },
   {
    "duration": 205,
    "start_time": "2022-05-08T17:18:13.981Z"
   },
   {
    "duration": 10,
    "start_time": "2022-05-08T17:20:29.083Z"
   },
   {
    "duration": 192,
    "start_time": "2022-05-08T17:21:18.725Z"
   },
   {
    "duration": 8,
    "start_time": "2022-05-08T17:21:35.919Z"
   },
   {
    "duration": 250,
    "start_time": "2022-05-08T17:22:56.839Z"
   },
   {
    "duration": 290,
    "start_time": "2022-05-08T17:24:04.951Z"
   },
   {
    "duration": 210,
    "start_time": "2022-05-08T17:24:33.981Z"
   },
   {
    "duration": 206,
    "start_time": "2022-05-08T17:26:58.390Z"
   },
   {
    "duration": 190,
    "start_time": "2022-05-08T17:27:09.086Z"
   },
   {
    "duration": 196,
    "start_time": "2022-05-08T17:27:44.762Z"
   },
   {
    "duration": 194,
    "start_time": "2022-05-08T17:27:58.412Z"
   },
   {
    "duration": 405,
    "start_time": "2022-05-08T17:30:31.568Z"
   },
   {
    "duration": 246,
    "start_time": "2022-05-08T17:30:46.698Z"
   },
   {
    "duration": 198,
    "start_time": "2022-05-08T17:32:24.415Z"
   },
   {
    "duration": 211,
    "start_time": "2022-05-08T17:32:52.637Z"
   },
   {
    "duration": 9,
    "start_time": "2022-05-08T17:37:35.166Z"
   },
   {
    "duration": 10,
    "start_time": "2022-05-08T17:37:35.990Z"
   },
   {
    "duration": 9,
    "start_time": "2022-05-08T17:37:41.802Z"
   },
   {
    "duration": 10,
    "start_time": "2022-05-08T17:37:48.800Z"
   },
   {
    "duration": 7,
    "start_time": "2022-05-08T17:37:58.592Z"
   },
   {
    "duration": 7,
    "start_time": "2022-05-08T17:38:13.866Z"
   },
   {
    "duration": 7,
    "start_time": "2022-05-08T17:38:19.177Z"
   },
   {
    "duration": 6,
    "start_time": "2022-05-08T17:38:27.706Z"
   },
   {
    "duration": 6,
    "start_time": "2022-05-08T17:39:21.718Z"
   },
   {
    "duration": 275,
    "start_time": "2022-05-08T17:40:19.380Z"
   },
   {
    "duration": 279,
    "start_time": "2022-05-08T17:41:31.396Z"
   },
   {
    "duration": 172,
    "start_time": "2022-05-08T17:41:51.974Z"
   },
   {
    "duration": 167,
    "start_time": "2022-05-08T17:42:09.556Z"
   },
   {
    "duration": 273,
    "start_time": "2022-05-08T17:49:20.484Z"
   },
   {
    "duration": 184,
    "start_time": "2022-05-08T17:49:32.723Z"
   },
   {
    "duration": 208,
    "start_time": "2022-05-08T17:49:37.819Z"
   },
   {
    "duration": 161,
    "start_time": "2022-05-08T17:49:44.000Z"
   },
   {
    "duration": 8,
    "start_time": "2022-05-08T17:51:12.179Z"
   },
   {
    "duration": 6,
    "start_time": "2022-05-08T17:54:26.890Z"
   },
   {
    "duration": 8,
    "start_time": "2022-05-08T17:54:27.740Z"
   },
   {
    "duration": 14,
    "start_time": "2022-05-08T17:54:28.492Z"
   },
   {
    "duration": 13,
    "start_time": "2022-05-08T17:54:34.474Z"
   },
   {
    "duration": 8,
    "start_time": "2022-05-08T17:54:48.204Z"
   },
   {
    "duration": 14,
    "start_time": "2022-05-08T17:54:55.577Z"
   },
   {
    "duration": 14,
    "start_time": "2022-05-08T17:54:58.453Z"
   },
   {
    "duration": 6,
    "start_time": "2022-05-08T17:57:19.338Z"
   },
   {
    "duration": 5,
    "start_time": "2022-05-08T17:57:22.263Z"
   },
   {
    "duration": 4,
    "start_time": "2022-05-08T17:57:25.304Z"
   },
   {
    "duration": 81,
    "start_time": "2022-05-08T17:57:26.584Z"
   },
   {
    "duration": 6,
    "start_time": "2022-05-08T17:57:27.940Z"
   },
   {
    "duration": 29,
    "start_time": "2022-05-08T17:57:35.815Z"
   },
   {
    "duration": 9,
    "start_time": "2022-05-08T18:06:09.326Z"
   },
   {
    "duration": 183,
    "start_time": "2022-05-08T18:06:28.671Z"
   },
   {
    "duration": 185,
    "start_time": "2022-05-08T18:06:37.601Z"
   },
   {
    "duration": 170,
    "start_time": "2022-05-08T18:06:48.319Z"
   },
   {
    "duration": 8,
    "start_time": "2022-05-08T18:08:40.930Z"
   },
   {
    "duration": 179,
    "start_time": "2022-05-08T18:09:12.943Z"
   },
   {
    "duration": 162,
    "start_time": "2022-05-08T18:12:33.397Z"
   },
   {
    "duration": 177,
    "start_time": "2022-05-08T18:12:51.472Z"
   },
   {
    "duration": 259,
    "start_time": "2022-05-08T18:13:04.345Z"
   },
   {
    "duration": 163,
    "start_time": "2022-05-08T18:13:20.006Z"
   },
   {
    "duration": 6,
    "start_time": "2022-05-08T18:16:50.146Z"
   },
   {
    "duration": 8,
    "start_time": "2022-05-08T18:19:44.190Z"
   },
   {
    "duration": 9,
    "start_time": "2022-05-08T18:19:52.789Z"
   },
   {
    "duration": 168,
    "start_time": "2022-05-08T18:20:37.408Z"
   },
   {
    "duration": 7,
    "start_time": "2022-05-08T18:21:25.584Z"
   },
   {
    "duration": 6,
    "start_time": "2022-05-08T18:21:41.003Z"
   },
   {
    "duration": 7,
    "start_time": "2022-05-08T18:21:49.795Z"
   },
   {
    "duration": 10,
    "start_time": "2022-05-08T18:21:53.301Z"
   },
   {
    "duration": 808,
    "start_time": "2022-05-09T05:08:28.017Z"
   },
   {
    "duration": 97,
    "start_time": "2022-05-09T05:08:30.908Z"
   },
   {
    "duration": 29,
    "start_time": "2022-05-09T05:08:31.954Z"
   },
   {
    "duration": 15,
    "start_time": "2022-05-09T05:08:33.817Z"
   },
   {
    "duration": 8,
    "start_time": "2022-05-09T05:08:35.766Z"
   },
   {
    "duration": 3,
    "start_time": "2022-05-09T05:08:40.042Z"
   },
   {
    "duration": 183,
    "start_time": "2022-05-09T05:08:41.511Z"
   },
   {
    "duration": 10,
    "start_time": "2022-05-09T05:08:45.544Z"
   },
   {
    "duration": 6,
    "start_time": "2022-05-09T05:08:46.796Z"
   },
   {
    "duration": 92,
    "start_time": "2022-05-09T05:08:47.715Z"
   },
   {
    "duration": 8,
    "start_time": "2022-05-09T05:08:48.730Z"
   },
   {
    "duration": 99,
    "start_time": "2022-05-09T05:08:49.694Z"
   },
   {
    "duration": 5,
    "start_time": "2022-05-09T05:08:50.615Z"
   },
   {
    "duration": 96,
    "start_time": "2022-05-09T05:08:51.369Z"
   },
   {
    "duration": 154,
    "start_time": "2022-05-09T05:08:52.780Z"
   },
   {
    "duration": 7,
    "start_time": "2022-05-09T05:08:54.189Z"
   },
   {
    "duration": 6,
    "start_time": "2022-05-09T05:08:55.069Z"
   },
   {
    "duration": 150,
    "start_time": "2022-05-09T05:08:55.891Z"
   },
   {
    "duration": 97,
    "start_time": "2022-05-09T05:08:56.986Z"
   },
   {
    "duration": 6,
    "start_time": "2022-05-09T05:08:57.818Z"
   },
   {
    "duration": 6,
    "start_time": "2022-05-09T05:08:58.595Z"
   },
   {
    "duration": 134,
    "start_time": "2022-05-09T05:08:59.475Z"
   },
   {
    "duration": 11,
    "start_time": "2022-05-09T05:09:00.265Z"
   },
   {
    "duration": 7,
    "start_time": "2022-05-09T05:09:01.072Z"
   },
   {
    "duration": 7,
    "start_time": "2022-05-09T05:09:01.819Z"
   },
   {
    "duration": 162,
    "start_time": "2022-05-09T05:09:02.693Z"
   },
   {
    "duration": 5,
    "start_time": "2022-05-09T05:09:03.543Z"
   },
   {
    "duration": 88,
    "start_time": "2022-05-09T05:09:04.355Z"
   },
   {
    "duration": 5,
    "start_time": "2022-05-09T05:09:05.221Z"
   },
   {
    "duration": 5,
    "start_time": "2022-05-09T05:09:05.968Z"
   },
   {
    "duration": 5,
    "start_time": "2022-05-09T05:09:06.622Z"
   },
   {
    "duration": 6,
    "start_time": "2022-05-09T05:09:07.378Z"
   },
   {
    "duration": 91,
    "start_time": "2022-05-09T05:09:08.350Z"
   },
   {
    "duration": 5,
    "start_time": "2022-05-09T05:09:09.566Z"
   },
   {
    "duration": 91,
    "start_time": "2022-05-09T05:09:10.300Z"
   },
   {
    "duration": 88,
    "start_time": "2022-05-09T05:09:11.275Z"
   },
   {
    "duration": 5,
    "start_time": "2022-05-09T05:09:11.962Z"
   },
   {
    "duration": 6,
    "start_time": "2022-05-09T05:09:12.672Z"
   },
   {
    "duration": 5,
    "start_time": "2022-05-09T05:09:13.405Z"
   },
   {
    "duration": 5,
    "start_time": "2022-05-09T05:09:14.096Z"
   },
   {
    "duration": 4,
    "start_time": "2022-05-09T05:09:14.944Z"
   },
   {
    "duration": 7,
    "start_time": "2022-05-09T05:09:15.684Z"
   },
   {
    "duration": 5,
    "start_time": "2022-05-09T05:09:38.297Z"
   },
   {
    "duration": 5,
    "start_time": "2022-05-09T05:09:39.439Z"
   },
   {
    "duration": 4,
    "start_time": "2022-05-09T05:09:40.494Z"
   },
   {
    "duration": 5,
    "start_time": "2022-05-09T05:09:45.297Z"
   },
   {
    "duration": 6,
    "start_time": "2022-05-09T05:09:49.214Z"
   },
   {
    "duration": 3,
    "start_time": "2022-05-09T05:09:54.542Z"
   },
   {
    "duration": 4,
    "start_time": "2022-05-09T05:09:55.409Z"
   },
   {
    "duration": 4,
    "start_time": "2022-05-09T05:09:56.352Z"
   },
   {
    "duration": 4,
    "start_time": "2022-05-09T05:09:58.477Z"
   },
   {
    "duration": 5,
    "start_time": "2022-05-09T05:09:59.293Z"
   },
   {
    "duration": 3,
    "start_time": "2022-05-09T05:10:02.305Z"
   },
   {
    "duration": 93,
    "start_time": "2022-05-09T05:10:03.024Z"
   },
   {
    "duration": 5,
    "start_time": "2022-05-09T05:10:03.731Z"
   },
   {
    "duration": 6,
    "start_time": "2022-05-09T05:10:06.910Z"
   },
   {
    "duration": 13,
    "start_time": "2022-05-09T05:10:09.292Z"
   },
   {
    "duration": 74,
    "start_time": "2022-05-09T05:13:38.115Z"
   },
   {
    "duration": 14,
    "start_time": "2022-05-09T05:13:51.487Z"
   },
   {
    "duration": 5,
    "start_time": "2022-05-09T05:14:02.390Z"
   },
   {
    "duration": 5,
    "start_time": "2022-05-09T05:15:04.112Z"
   },
   {
    "duration": 5,
    "start_time": "2022-05-09T05:16:19.473Z"
   },
   {
    "duration": 5,
    "start_time": "2022-05-09T05:16:23.950Z"
   },
   {
    "duration": 10,
    "start_time": "2022-05-09T05:23:21.145Z"
   },
   {
    "duration": 9,
    "start_time": "2022-05-09T05:23:39.575Z"
   },
   {
    "duration": 10,
    "start_time": "2022-05-09T05:23:44.710Z"
   },
   {
    "duration": 4,
    "start_time": "2022-05-09T05:24:18.043Z"
   },
   {
    "duration": 4,
    "start_time": "2022-05-09T05:25:07.550Z"
   },
   {
    "duration": 13,
    "start_time": "2022-05-09T05:25:31.405Z"
   },
   {
    "duration": 4,
    "start_time": "2022-05-09T05:26:33.888Z"
   },
   {
    "duration": 10,
    "start_time": "2022-05-09T05:28:55.429Z"
   },
   {
    "duration": 4,
    "start_time": "2022-05-09T05:29:16.339Z"
   },
   {
    "duration": 17,
    "start_time": "2022-05-09T05:29:39.090Z"
   },
   {
    "duration": 15,
    "start_time": "2022-05-09T05:30:18.877Z"
   },
   {
    "duration": 12,
    "start_time": "2022-05-09T05:30:35.439Z"
   },
   {
    "duration": 11,
    "start_time": "2022-05-09T05:30:38.649Z"
   },
   {
    "duration": 4,
    "start_time": "2022-05-09T05:30:45.917Z"
   },
   {
    "duration": 4,
    "start_time": "2022-05-09T05:32:33.005Z"
   },
   {
    "duration": 5,
    "start_time": "2022-05-09T05:34:20.459Z"
   },
   {
    "duration": 4,
    "start_time": "2022-05-09T05:36:26.729Z"
   },
   {
    "duration": 8,
    "start_time": "2022-05-09T05:38:17.323Z"
   },
   {
    "duration": 14,
    "start_time": "2022-05-09T05:38:32.658Z"
   },
   {
    "duration": 5,
    "start_time": "2022-05-09T05:39:55.696Z"
   },
   {
    "duration": 4,
    "start_time": "2022-05-09T05:41:18.595Z"
   },
   {
    "duration": 12,
    "start_time": "2022-05-09T05:41:28.667Z"
   },
   {
    "duration": 4,
    "start_time": "2022-05-09T05:42:35.581Z"
   },
   {
    "duration": 18,
    "start_time": "2022-05-09T05:42:42.125Z"
   },
   {
    "duration": 3,
    "start_time": "2022-05-09T05:44:01.804Z"
   },
   {
    "duration": 4,
    "start_time": "2022-05-09T05:44:58.813Z"
   },
   {
    "duration": 13,
    "start_time": "2022-05-09T05:45:06.620Z"
   },
   {
    "duration": 904,
    "start_time": "2022-05-09T09:52:05.194Z"
   },
   {
    "duration": 99,
    "start_time": "2022-05-09T09:52:06.100Z"
   },
   {
    "duration": 29,
    "start_time": "2022-05-09T09:52:07.914Z"
   },
   {
    "duration": 17,
    "start_time": "2022-05-09T09:52:09.135Z"
   },
   {
    "duration": 9,
    "start_time": "2022-05-09T09:52:10.284Z"
   },
   {
    "duration": 3,
    "start_time": "2022-05-09T09:52:11.970Z"
   },
   {
    "duration": 134,
    "start_time": "2022-05-09T09:52:12.814Z"
   },
   {
    "duration": 7,
    "start_time": "2022-05-09T09:52:13.640Z"
   },
   {
    "duration": 5,
    "start_time": "2022-05-09T09:52:14.265Z"
   },
   {
    "duration": 5,
    "start_time": "2022-05-09T09:52:14.834Z"
   },
   {
    "duration": 106,
    "start_time": "2022-05-09T09:52:15.356Z"
   },
   {
    "duration": 7,
    "start_time": "2022-05-09T09:52:15.930Z"
   },
   {
    "duration": 117,
    "start_time": "2022-05-09T09:52:16.235Z"
   },
   {
    "duration": 6,
    "start_time": "2022-05-09T09:52:16.637Z"
   },
   {
    "duration": 4,
    "start_time": "2022-05-09T09:52:16.997Z"
   },
   {
    "duration": 114,
    "start_time": "2022-05-09T09:52:17.422Z"
   },
   {
    "duration": 82,
    "start_time": "2022-05-09T09:52:17.953Z"
   },
   {
    "duration": 164,
    "start_time": "2022-05-09T09:52:18.397Z"
   },
   {
    "duration": 7,
    "start_time": "2022-05-09T09:52:18.987Z"
   },
   {
    "duration": 6,
    "start_time": "2022-05-09T09:52:19.433Z"
   },
   {
    "duration": 111,
    "start_time": "2022-05-09T09:52:19.881Z"
   },
   {
    "duration": 4,
    "start_time": "2022-05-09T09:52:20.529Z"
   },
   {
    "duration": 110,
    "start_time": "2022-05-09T09:52:20.955Z"
   },
   {
    "duration": 6,
    "start_time": "2022-05-09T09:52:21.350Z"
   },
   {
    "duration": 4,
    "start_time": "2022-05-09T09:52:21.757Z"
   },
   {
    "duration": 8,
    "start_time": "2022-05-09T09:52:22.170Z"
   },
   {
    "duration": 106,
    "start_time": "2022-05-09T09:52:22.618Z"
   },
   {
    "duration": 8,
    "start_time": "2022-05-09T09:52:23.031Z"
   },
   {
    "duration": 6,
    "start_time": "2022-05-09T09:52:23.472Z"
   },
   {
    "duration": 5,
    "start_time": "2022-05-09T09:52:23.894Z"
   },
   {
    "duration": 108,
    "start_time": "2022-05-09T09:52:24.772Z"
   },
   {
    "duration": 5,
    "start_time": "2022-05-09T09:52:25.169Z"
   },
   {
    "duration": 5,
    "start_time": "2022-05-09T09:52:26.524Z"
   },
   {
    "duration": 110,
    "start_time": "2022-05-09T09:52:27.226Z"
   },
   {
    "duration": 6,
    "start_time": "2022-05-09T09:52:27.827Z"
   },
   {
    "duration": 5,
    "start_time": "2022-05-09T09:52:28.502Z"
   },
   {
    "duration": 6,
    "start_time": "2022-05-09T09:52:28.936Z"
   },
   {
    "duration": 5,
    "start_time": "2022-05-09T09:52:29.571Z"
   },
   {
    "duration": 5,
    "start_time": "2022-05-09T09:52:30.131Z"
   },
   {
    "duration": 5,
    "start_time": "2022-05-09T09:52:30.614Z"
   },
   {
    "duration": 99,
    "start_time": "2022-05-09T09:52:31.176Z"
   },
   {
    "duration": 3,
    "start_time": "2022-05-09T09:52:32.011Z"
   },
   {
    "duration": 5,
    "start_time": "2022-05-09T09:52:32.878Z"
   },
   {
    "duration": 3,
    "start_time": "2022-05-09T09:52:33.490Z"
   },
   {
    "duration": 103,
    "start_time": "2022-05-09T09:52:34.112Z"
   },
   {
    "duration": 93,
    "start_time": "2022-05-09T09:52:35.086Z"
   },
   {
    "duration": 5,
    "start_time": "2022-05-09T09:52:35.666Z"
   },
   {
    "duration": 4,
    "start_time": "2022-05-09T09:52:36.237Z"
   },
   {
    "duration": 5,
    "start_time": "2022-05-09T09:52:36.795Z"
   },
   {
    "duration": 4,
    "start_time": "2022-05-09T09:52:37.381Z"
   },
   {
    "duration": 5,
    "start_time": "2022-05-09T09:52:38.057Z"
   },
   {
    "duration": 5,
    "start_time": "2022-05-09T09:52:39.147Z"
   },
   {
    "duration": 4,
    "start_time": "2022-05-09T09:52:39.711Z"
   },
   {
    "duration": 5,
    "start_time": "2022-05-09T09:52:48.736Z"
   },
   {
    "duration": 5,
    "start_time": "2022-05-09T09:52:49.276Z"
   },
   {
    "duration": 5,
    "start_time": "2022-05-09T09:52:49.811Z"
   },
   {
    "duration": 5,
    "start_time": "2022-05-09T09:52:51.166Z"
   },
   {
    "duration": 5,
    "start_time": "2022-05-09T09:52:52.382Z"
   },
   {
    "duration": 4,
    "start_time": "2022-05-09T09:52:52.802Z"
   },
   {
    "duration": 5,
    "start_time": "2022-05-09T09:52:53.216Z"
   },
   {
    "duration": 4,
    "start_time": "2022-05-09T09:52:53.668Z"
   },
   {
    "duration": 4,
    "start_time": "2022-05-09T09:52:54.176Z"
   },
   {
    "duration": 4,
    "start_time": "2022-05-09T09:52:54.635Z"
   },
   {
    "duration": 64,
    "start_time": "2022-05-09T09:52:55.176Z"
   },
   {
    "duration": 4,
    "start_time": "2022-05-09T09:52:55.575Z"
   },
   {
    "duration": 4,
    "start_time": "2022-05-09T09:52:56.036Z"
   },
   {
    "duration": 3,
    "start_time": "2022-05-09T09:58:07.121Z"
   },
   {
    "duration": 5,
    "start_time": "2022-05-09T09:58:09.130Z"
   },
   {
    "duration": 31,
    "start_time": "2022-05-09T09:58:22.772Z"
   },
   {
    "duration": 14,
    "start_time": "2022-05-09T09:59:12.992Z"
   },
   {
    "duration": 18,
    "start_time": "2022-05-09T10:00:10.093Z"
   },
   {
    "duration": 4,
    "start_time": "2022-05-09T10:00:13.436Z"
   },
   {
    "duration": 5,
    "start_time": "2022-05-09T10:00:13.957Z"
   },
   {
    "duration": 14,
    "start_time": "2022-05-09T10:00:17.564Z"
   },
   {
    "duration": 29,
    "start_time": "2022-05-09T10:00:36.034Z"
   },
   {
    "duration": 5,
    "start_time": "2022-05-09T10:01:36.844Z"
   },
   {
    "duration": 21,
    "start_time": "2022-05-09T10:50:11.283Z"
   },
   {
    "duration": 106,
    "start_time": "2022-05-09T10:57:38.431Z"
   },
   {
    "duration": 171,
    "start_time": "2022-05-09T10:57:51.172Z"
   },
   {
    "duration": 104,
    "start_time": "2022-05-09T10:58:08.060Z"
   },
   {
    "duration": 117,
    "start_time": "2022-05-09T10:58:21.207Z"
   },
   {
    "duration": 103,
    "start_time": "2022-05-09T10:58:25.853Z"
   },
   {
    "duration": 117,
    "start_time": "2022-05-09T10:58:38.714Z"
   },
   {
    "duration": 5,
    "start_time": "2022-05-09T11:01:04.303Z"
   },
   {
    "duration": 24,
    "start_time": "2022-05-09T11:01:11.136Z"
   },
   {
    "duration": 285,
    "start_time": "2022-05-09T11:27:42.974Z"
   },
   {
    "duration": 289,
    "start_time": "2022-05-09T11:28:03.374Z"
   },
   {
    "duration": 169,
    "start_time": "2022-05-09T11:28:10.668Z"
   },
   {
    "duration": 485,
    "start_time": "2022-05-09T11:29:09.179Z"
   },
   {
    "duration": 165,
    "start_time": "2022-05-09T11:29:40.141Z"
   },
   {
    "duration": 268,
    "start_time": "2022-05-09T11:29:48.976Z"
   },
   {
    "duration": 163,
    "start_time": "2022-05-09T11:29:53.297Z"
   },
   {
    "duration": 189,
    "start_time": "2022-05-09T11:30:20.324Z"
   },
   {
    "duration": 255,
    "start_time": "2022-05-09T11:30:29.132Z"
   },
   {
    "duration": 214,
    "start_time": "2022-05-09T11:30:35.052Z"
   },
   {
    "duration": 196,
    "start_time": "2022-05-09T11:30:55.809Z"
   },
   {
    "duration": 200,
    "start_time": "2022-05-09T11:31:06.036Z"
   },
   {
    "duration": 205,
    "start_time": "2022-05-09T11:31:23.005Z"
   },
   {
    "duration": 4,
    "start_time": "2022-05-09T12:05:37.369Z"
   },
   {
    "duration": 4,
    "start_time": "2022-05-09T12:05:58.418Z"
   },
   {
    "duration": 23,
    "start_time": "2022-05-09T12:06:48.009Z"
   },
   {
    "duration": 208,
    "start_time": "2022-05-09T12:07:01.924Z"
   },
   {
    "duration": 13,
    "start_time": "2022-05-09T12:07:24.348Z"
   },
   {
    "duration": 8,
    "start_time": "2022-05-09T12:10:14.343Z"
   },
   {
    "duration": 15,
    "start_time": "2022-05-09T12:10:17.148Z"
   },
   {
    "duration": 218,
    "start_time": "2022-05-09T12:10:50.529Z"
   },
   {
    "duration": 2,
    "start_time": "2022-05-09T12:11:50.888Z"
   },
   {
    "duration": 86,
    "start_time": "2022-05-09T12:11:51.411Z"
   },
   {
    "duration": 30,
    "start_time": "2022-05-09T12:11:52.162Z"
   },
   {
    "duration": 16,
    "start_time": "2022-05-09T12:11:52.987Z"
   },
   {
    "duration": 10,
    "start_time": "2022-05-09T12:11:54.200Z"
   },
   {
    "duration": 4,
    "start_time": "2022-05-09T12:11:55.781Z"
   },
   {
    "duration": 142,
    "start_time": "2022-05-09T12:11:57.102Z"
   },
   {
    "duration": 6,
    "start_time": "2022-05-09T12:11:59.028Z"
   },
   {
    "duration": 8,
    "start_time": "2022-05-09T12:12:00.201Z"
   },
   {
    "duration": 5,
    "start_time": "2022-05-09T12:12:01.215Z"
   },
   {
    "duration": 110,
    "start_time": "2022-05-09T12:12:01.882Z"
   },
   {
    "duration": 8,
    "start_time": "2022-05-09T12:12:02.879Z"
   },
   {
    "duration": 191,
    "start_time": "2022-05-09T12:12:04.975Z"
   },
   {
    "duration": 9,
    "start_time": "2022-05-09T12:12:15.129Z"
   },
   {
    "duration": 21,
    "start_time": "2022-05-09T12:12:18.040Z"
   },
   {
    "duration": 166,
    "start_time": "2022-05-09T12:12:27.487Z"
   },
   {
    "duration": 19,
    "start_time": "2022-05-09T12:12:28.367Z"
   },
   {
    "duration": 160,
    "start_time": "2022-05-09T12:12:29.373Z"
   },
   {
    "duration": 10,
    "start_time": "2022-05-09T12:12:30.336Z"
   },
   {
    "duration": 8,
    "start_time": "2022-05-09T12:12:30.780Z"
   },
   {
    "duration": 148,
    "start_time": "2022-05-09T12:12:31.239Z"
   },
   {
    "duration": 4,
    "start_time": "2022-05-09T12:12:32.090Z"
   },
   {
    "duration": 122,
    "start_time": "2022-05-09T12:12:32.678Z"
   },
   {
    "duration": 6,
    "start_time": "2022-05-09T12:12:33.368Z"
   },
   {
    "duration": 6,
    "start_time": "2022-05-09T12:12:33.920Z"
   },
   {
    "duration": 6,
    "start_time": "2022-05-09T12:12:34.510Z"
   },
   {
    "duration": 158,
    "start_time": "2022-05-09T12:12:35.177Z"
   },
   {
    "duration": 10,
    "start_time": "2022-05-09T12:12:35.885Z"
   },
   {
    "duration": 8,
    "start_time": "2022-05-09T12:12:36.487Z"
   },
   {
    "duration": 6,
    "start_time": "2022-05-09T12:12:36.978Z"
   },
   {
    "duration": 153,
    "start_time": "2022-05-09T12:12:37.439Z"
   },
   {
    "duration": 6,
    "start_time": "2022-05-09T12:12:37.881Z"
   },
   {
    "duration": 6,
    "start_time": "2022-05-09T12:12:38.354Z"
   },
   {
    "duration": 109,
    "start_time": "2022-05-09T12:12:38.794Z"
   },
   {
    "duration": 6,
    "start_time": "2022-05-09T12:12:39.472Z"
   },
   {
    "duration": 7,
    "start_time": "2022-05-09T12:12:40.268Z"
   },
   {
    "duration": 13,
    "start_time": "2022-05-09T12:12:41.333Z"
   },
   {
    "duration": 7,
    "start_time": "2022-05-09T12:12:42.345Z"
   },
   {
    "duration": 7,
    "start_time": "2022-05-09T12:12:43.165Z"
   },
   {
    "duration": 5,
    "start_time": "2022-05-09T12:12:44.088Z"
   },
   {
    "duration": 116,
    "start_time": "2022-05-09T12:12:45.054Z"
   },
   {
    "duration": 6,
    "start_time": "2022-05-09T12:12:46.154Z"
   },
   {
    "duration": 6,
    "start_time": "2022-05-09T12:12:47.302Z"
   },
   {
    "duration": 4,
    "start_time": "2022-05-09T12:12:47.996Z"
   },
   {
    "duration": 114,
    "start_time": "2022-05-09T12:12:48.700Z"
   },
   {
    "duration": 110,
    "start_time": "2022-05-09T12:12:49.901Z"
   },
   {
    "duration": 5,
    "start_time": "2022-05-09T12:12:50.677Z"
   },
   {
    "duration": 4,
    "start_time": "2022-05-09T12:12:51.465Z"
   },
   {
    "duration": 123,
    "start_time": "2022-05-09T12:12:52.339Z"
   },
   {
    "duration": 6,
    "start_time": "2022-05-09T12:12:53.256Z"
   },
   {
    "duration": 5,
    "start_time": "2022-05-09T12:12:54.174Z"
   },
   {
    "duration": 11,
    "start_time": "2022-05-09T12:12:54.733Z"
   },
   {
    "duration": 5,
    "start_time": "2022-05-09T12:12:55.565Z"
   },
   {
    "duration": 5,
    "start_time": "2022-05-09T12:12:56.339Z"
   },
   {
    "duration": 5,
    "start_time": "2022-05-09T12:12:57.034Z"
   },
   {
    "duration": 6,
    "start_time": "2022-05-09T12:12:57.810Z"
   },
   {
    "duration": 5,
    "start_time": "2022-05-09T12:12:58.673Z"
   },
   {
    "duration": 5,
    "start_time": "2022-05-09T12:13:00.260Z"
   },
   {
    "duration": 5,
    "start_time": "2022-05-09T12:13:01.582Z"
   },
   {
    "duration": 4,
    "start_time": "2022-05-09T12:13:02.024Z"
   },
   {
    "duration": 19,
    "start_time": "2022-05-09T12:13:02.492Z"
   },
   {
    "duration": 7,
    "start_time": "2022-05-09T12:13:03.243Z"
   },
   {
    "duration": 4,
    "start_time": "2022-05-09T12:13:03.768Z"
   },
   {
    "duration": 6,
    "start_time": "2022-05-09T12:13:04.153Z"
   },
   {
    "duration": 4,
    "start_time": "2022-05-09T12:13:04.545Z"
   },
   {
    "duration": 180,
    "start_time": "2022-05-09T12:13:04.952Z"
   },
   {
    "duration": 12,
    "start_time": "2022-05-09T12:13:05.338Z"
   },
   {
    "duration": 4,
    "start_time": "2022-05-09T12:13:05.986Z"
   },
   {
    "duration": 22,
    "start_time": "2022-05-09T12:13:07.275Z"
   },
   {
    "duration": 199,
    "start_time": "2022-05-09T12:13:12.721Z"
   },
   {
    "duration": 219,
    "start_time": "2022-05-09T12:13:14.356Z"
   },
   {
    "duration": 233,
    "start_time": "2022-05-09T12:13:18.811Z"
   },
   {
    "duration": 211,
    "start_time": "2022-05-09T12:13:20.793Z"
   },
   {
    "duration": 7,
    "start_time": "2022-05-09T12:14:47.257Z"
   },
   {
    "duration": 17,
    "start_time": "2022-05-09T12:14:48.248Z"
   },
   {
    "duration": 210,
    "start_time": "2022-05-09T12:15:04.659Z"
   },
   {
    "duration": 25,
    "start_time": "2022-05-09T12:15:20.160Z"
   },
   {
    "duration": 16,
    "start_time": "2022-05-09T12:18:06.139Z"
   },
   {
    "duration": 9,
    "start_time": "2022-05-09T12:18:58.764Z"
   },
   {
    "duration": 9,
    "start_time": "2022-05-09T12:19:16.099Z"
   },
   {
    "duration": 13,
    "start_time": "2022-05-09T12:19:22.493Z"
   },
   {
    "duration": 169,
    "start_time": "2022-05-09T12:20:11.700Z"
   },
   {
    "duration": 3,
    "start_time": "2022-05-09T12:22:01.313Z"
   },
   {
    "duration": 4,
    "start_time": "2022-05-09T12:22:27.221Z"
   },
   {
    "duration": 103,
    "start_time": "2022-05-09T12:23:37.170Z"
   },
   {
    "duration": 126,
    "start_time": "2022-05-09T12:23:43.651Z"
   },
   {
    "duration": 5,
    "start_time": "2022-05-09T12:25:05.277Z"
   },
   {
    "duration": 14,
    "start_time": "2022-05-09T12:25:22.284Z"
   },
   {
    "duration": 7,
    "start_time": "2022-05-09T12:28:56.576Z"
   },
   {
    "duration": 308,
    "start_time": "2022-05-09T12:29:54.499Z"
   },
   {
    "duration": 313,
    "start_time": "2022-05-09T12:30:05.955Z"
   },
   {
    "duration": 338,
    "start_time": "2022-05-09T12:30:11.661Z"
   },
   {
    "duration": 158,
    "start_time": "2022-05-09T12:30:43.086Z"
   },
   {
    "duration": 133,
    "start_time": "2022-05-09T12:30:52.963Z"
   },
   {
    "duration": 154,
    "start_time": "2022-05-09T12:30:58.403Z"
   },
   {
    "duration": 11,
    "start_time": "2022-05-09T12:32:11.506Z"
   },
   {
    "duration": 194,
    "start_time": "2022-05-09T12:32:37.173Z"
   },
   {
    "duration": 197,
    "start_time": "2022-05-09T12:32:43.018Z"
   },
   {
    "duration": 261,
    "start_time": "2022-05-09T12:32:52.542Z"
   },
   {
    "duration": 267,
    "start_time": "2022-05-09T12:33:10.672Z"
   },
   {
    "duration": 163,
    "start_time": "2022-05-09T12:34:57.272Z"
   },
   {
    "duration": 176,
    "start_time": "2022-05-09T12:37:41.787Z"
   },
   {
    "duration": 6,
    "start_time": "2022-05-09T12:38:01.204Z"
   },
   {
    "duration": 15,
    "start_time": "2022-05-09T12:38:13.541Z"
   },
   {
    "duration": 5,
    "start_time": "2022-05-09T12:38:18.187Z"
   },
   {
    "duration": 165,
    "start_time": "2022-05-09T12:38:29.530Z"
   },
   {
    "duration": 14,
    "start_time": "2022-05-09T12:55:50.551Z"
   },
   {
    "duration": 6,
    "start_time": "2022-05-09T12:56:47.463Z"
   },
   {
    "duration": 126,
    "start_time": "2022-05-09T12:57:51.561Z"
   },
   {
    "duration": 18,
    "start_time": "2022-05-09T12:58:18.339Z"
   },
   {
    "duration": 21,
    "start_time": "2022-05-09T12:58:53.709Z"
   },
   {
    "duration": 9,
    "start_time": "2022-05-09T12:59:05.719Z"
   },
   {
    "duration": 231,
    "start_time": "2022-05-09T12:59:08.370Z"
   },
   {
    "duration": 14,
    "start_time": "2022-05-09T12:59:20.436Z"
   },
   {
    "duration": 124,
    "start_time": "2022-05-09T12:59:39.342Z"
   },
   {
    "duration": 8,
    "start_time": "2022-05-09T13:00:21.020Z"
   },
   {
    "duration": 154,
    "start_time": "2022-05-09T13:00:26.214Z"
   },
   {
    "duration": 11,
    "start_time": "2022-05-09T13:05:44.829Z"
   },
   {
    "duration": 136,
    "start_time": "2022-05-09T13:05:48.325Z"
   },
   {
    "duration": 31,
    "start_time": "2022-05-09T13:05:51.834Z"
   },
   {
    "duration": 114,
    "start_time": "2022-05-09T13:06:34.853Z"
   },
   {
    "duration": 21,
    "start_time": "2022-05-09T13:06:48.750Z"
   },
   {
    "duration": 7,
    "start_time": "2022-05-09T13:07:08.626Z"
   },
   {
    "duration": 43323,
    "start_time": "2022-05-09T13:07:54.609Z"
   },
   {
    "duration": 6,
    "start_time": "2022-05-09T13:08:40.895Z"
   },
   {
    "duration": 48325,
    "start_time": "2022-05-09T13:08:45.930Z"
   },
   {
    "duration": 13,
    "start_time": "2022-05-09T13:11:53.367Z"
   },
   {
    "duration": 7,
    "start_time": "2022-05-09T13:12:11.800Z"
   },
   {
    "duration": 16,
    "start_time": "2022-05-09T13:12:32.216Z"
   },
   {
    "duration": 6,
    "start_time": "2022-05-09T13:13:02.981Z"
   },
   {
    "duration": 484,
    "start_time": "2022-05-09T13:13:05.712Z"
   },
   {
    "duration": 784,
    "start_time": "2022-05-09T13:14:18.458Z"
   },
   {
    "duration": 130,
    "start_time": "2022-05-09T13:18:17.504Z"
   },
   {
    "duration": 13,
    "start_time": "2022-05-09T13:28:56.952Z"
   },
   {
    "duration": 179,
    "start_time": "2022-05-09T13:29:10.335Z"
   },
   {
    "duration": 238,
    "start_time": "2022-05-09T13:29:30.732Z"
   },
   {
    "duration": 184,
    "start_time": "2022-05-09T13:29:45.931Z"
   },
   {
    "duration": 471,
    "start_time": "2022-05-09T13:29:53.444Z"
   },
   {
    "duration": 173,
    "start_time": "2022-05-09T13:31:04.099Z"
   },
   {
    "duration": 227,
    "start_time": "2022-05-09T13:32:52.188Z"
   },
   {
    "duration": 42,
    "start_time": "2022-05-09T13:35:17.256Z"
   },
   {
    "duration": 28,
    "start_time": "2022-05-09T13:35:24.293Z"
   },
   {
    "duration": 63147,
    "start_time": "2022-05-09T13:36:49.419Z"
   },
   {
    "duration": 65316,
    "start_time": "2022-05-09T13:37:52.569Z"
   },
   {
    "duration": 237,
    "start_time": "2022-05-09T13:39:27.328Z"
   },
   {
    "duration": 11,
    "start_time": "2022-05-09T13:42:46.240Z"
   },
   {
    "duration": 172,
    "start_time": "2022-05-09T13:42:55.081Z"
   },
   {
    "duration": 61406,
    "start_time": "2022-05-09T13:47:43.822Z"
   },
   {
    "duration": 34,
    "start_time": "2022-05-09T13:51:56.605Z"
   },
   {
    "duration": 25,
    "start_time": "2022-05-09T13:52:39.487Z"
   },
   {
    "duration": 37,
    "start_time": "2022-05-09T13:53:01.034Z"
   },
   {
    "duration": 29,
    "start_time": "2022-05-09T13:53:35.716Z"
   },
   {
    "duration": 8,
    "start_time": "2022-05-09T13:54:38.728Z"
   },
   {
    "duration": 6,
    "start_time": "2022-05-09T13:54:39.344Z"
   },
   {
    "duration": 9,
    "start_time": "2022-05-09T13:54:47.461Z"
   },
   {
    "duration": 9,
    "start_time": "2022-05-09T13:54:54.544Z"
   },
   {
    "duration": 24,
    "start_time": "2022-05-09T13:55:03.403Z"
   },
   {
    "duration": 69772,
    "start_time": "2022-05-09T14:25:02.419Z"
   },
   {
    "duration": 485,
    "start_time": "2022-05-09T14:27:25.739Z"
   },
   {
    "duration": 42,
    "start_time": "2022-05-09T14:32:37.260Z"
   },
   {
    "duration": 10,
    "start_time": "2022-05-09T14:32:45.200Z"
   },
   {
    "duration": 3,
    "start_time": "2022-05-09T14:33:00.504Z"
   },
   {
    "duration": 11,
    "start_time": "2022-05-09T14:33:14.455Z"
   },
   {
    "duration": 15,
    "start_time": "2022-05-09T14:33:51.661Z"
   },
   {
    "duration": 284,
    "start_time": "2022-05-09T14:34:14.808Z"
   },
   {
    "duration": 17,
    "start_time": "2022-05-09T14:34:31.044Z"
   },
   {
    "duration": 11,
    "start_time": "2022-05-09T14:34:36.470Z"
   },
   {
    "duration": 20,
    "start_time": "2022-05-09T14:34:44.760Z"
   },
   {
    "duration": 29,
    "start_time": "2022-05-09T14:35:07.065Z"
   },
   {
    "duration": 133,
    "start_time": "2022-05-09T14:38:54.059Z"
   },
   {
    "duration": 160,
    "start_time": "2022-05-09T14:39:06.651Z"
   },
   {
    "duration": 30,
    "start_time": "2022-05-09T14:39:12.503Z"
   },
   {
    "duration": 18,
    "start_time": "2022-05-09T14:39:22.094Z"
   },
   {
    "duration": 10,
    "start_time": "2022-05-09T14:39:42.076Z"
   },
   {
    "duration": 35,
    "start_time": "2022-05-09T14:39:57.616Z"
   },
   {
    "duration": 757,
    "start_time": "2022-05-09T14:40:01.416Z"
   },
   {
    "duration": 206,
    "start_time": "2022-05-09T14:40:13.862Z"
   },
   {
    "duration": 207,
    "start_time": "2022-05-09T14:40:34.809Z"
   },
   {
    "duration": 251,
    "start_time": "2022-05-09T14:40:42.473Z"
   },
   {
    "duration": 61521,
    "start_time": "2022-05-09T14:41:31.549Z"
   },
   {
    "duration": 2906,
    "start_time": "2022-05-09T14:42:33.072Z"
   },
   {
    "duration": 161,
    "start_time": "2022-05-09T14:43:06.155Z"
   },
   {
    "duration": 10,
    "start_time": "2022-05-09T14:47:29.209Z"
   },
   {
    "duration": 14,
    "start_time": "2022-05-09T14:47:38.860Z"
   },
   {
    "duration": 17,
    "start_time": "2022-05-09T14:47:47.293Z"
   },
   {
    "duration": 32,
    "start_time": "2022-05-09T14:48:00.243Z"
   },
   {
    "duration": 312,
    "start_time": "2022-05-09T14:48:55.074Z"
   },
   {
    "duration": 28,
    "start_time": "2022-05-09T14:52:09.351Z"
   },
   {
    "duration": 26,
    "start_time": "2022-05-09T14:52:32.754Z"
   },
   {
    "duration": 399,
    "start_time": "2022-05-09T14:52:36.513Z"
   },
   {
    "duration": 28,
    "start_time": "2022-05-09T14:54:21.036Z"
   },
   {
    "duration": 267,
    "start_time": "2022-05-09T14:54:36.385Z"
   },
   {
    "duration": 14,
    "start_time": "2022-05-09T14:58:51.598Z"
   },
   {
    "duration": 154,
    "start_time": "2022-05-09T15:00:28.440Z"
   },
   {
    "duration": 141,
    "start_time": "2022-05-09T15:05:27.861Z"
   },
   {
    "duration": 152,
    "start_time": "2022-05-09T15:06:31.609Z"
   },
   {
    "duration": 162,
    "start_time": "2022-05-09T15:06:41.326Z"
   },
   {
    "duration": 155,
    "start_time": "2022-05-09T15:07:09.027Z"
   },
   {
    "duration": 16,
    "start_time": "2022-05-09T15:09:03.536Z"
   },
   {
    "duration": 30,
    "start_time": "2022-05-09T15:09:15.146Z"
   },
   {
    "duration": 28,
    "start_time": "2022-05-09T15:09:24.148Z"
   },
   {
    "duration": 21,
    "start_time": "2022-05-09T15:11:32.772Z"
   },
   {
    "duration": 11,
    "start_time": "2022-05-09T15:12:16.102Z"
   },
   {
    "duration": 43,
    "start_time": "2022-05-09T15:12:27.137Z"
   },
   {
    "duration": 9,
    "start_time": "2022-05-09T15:26:09.470Z"
   },
   {
    "duration": 11,
    "start_time": "2022-05-09T15:26:20.235Z"
   },
   {
    "duration": 8,
    "start_time": "2022-05-09T15:26:27.935Z"
   },
   {
    "duration": 19,
    "start_time": "2022-05-09T15:27:19.291Z"
   },
   {
    "duration": 266,
    "start_time": "2022-05-09T15:27:33.992Z"
   },
   {
    "duration": 14,
    "start_time": "2022-05-09T15:29:43.604Z"
   },
   {
    "duration": 15,
    "start_time": "2022-05-09T15:29:51.526Z"
   },
   {
    "duration": 29,
    "start_time": "2022-05-09T15:29:58.057Z"
   },
   {
    "duration": 218,
    "start_time": "2022-05-09T15:30:26.533Z"
   },
   {
    "duration": 20,
    "start_time": "2022-05-09T15:30:55.692Z"
   },
   {
    "duration": 230,
    "start_time": "2022-05-09T15:31:12.636Z"
   },
   {
    "duration": 2958,
    "start_time": "2022-05-09T15:32:16.511Z"
   },
   {
    "duration": 168,
    "start_time": "2022-05-09T15:32:42.191Z"
   },
   {
    "duration": 148,
    "start_time": "2022-05-09T15:32:49.648Z"
   },
   {
    "duration": 169,
    "start_time": "2022-05-09T15:33:59.261Z"
   },
   {
    "duration": 190,
    "start_time": "2022-05-09T15:34:05.512Z"
   },
   {
    "duration": 197,
    "start_time": "2022-05-09T15:35:16.706Z"
   },
   {
    "duration": 153,
    "start_time": "2022-05-09T15:35:47.559Z"
   },
   {
    "duration": 1408,
    "start_time": "2022-05-09T19:39:16.339Z"
   },
   {
    "duration": 84,
    "start_time": "2022-05-09T19:39:19.344Z"
   },
   {
    "duration": 36,
    "start_time": "2022-05-09T19:39:20.147Z"
   },
   {
    "duration": 17,
    "start_time": "2022-05-09T19:39:20.747Z"
   },
   {
    "duration": 9,
    "start_time": "2022-05-09T19:39:21.657Z"
   },
   {
    "duration": 3,
    "start_time": "2022-05-09T19:39:23.385Z"
   },
   {
    "duration": 141,
    "start_time": "2022-05-09T19:39:23.977Z"
   },
   {
    "duration": 7,
    "start_time": "2022-05-09T19:39:24.597Z"
   },
   {
    "duration": 6,
    "start_time": "2022-05-09T19:39:25.208Z"
   },
   {
    "duration": 5,
    "start_time": "2022-05-09T19:39:25.747Z"
   },
   {
    "duration": 112,
    "start_time": "2022-05-09T19:39:26.307Z"
   },
   {
    "duration": 7,
    "start_time": "2022-05-09T19:39:26.798Z"
   },
   {
    "duration": 137,
    "start_time": "2022-05-09T19:39:27.338Z"
   },
   {
    "duration": 6,
    "start_time": "2022-05-09T19:39:27.897Z"
   },
   {
    "duration": 6,
    "start_time": "2022-05-09T19:39:28.169Z"
   },
   {
    "duration": 112,
    "start_time": "2022-05-09T19:39:28.748Z"
   },
   {
    "duration": 3,
    "start_time": "2022-05-09T19:39:29.738Z"
   },
   {
    "duration": 112,
    "start_time": "2022-05-09T19:39:30.048Z"
   },
   {
    "duration": 121,
    "start_time": "2022-05-09T19:39:30.958Z"
   },
   {
    "duration": 5,
    "start_time": "2022-05-09T19:39:31.848Z"
   },
   {
    "duration": 7,
    "start_time": "2022-05-09T19:39:32.507Z"
   },
   {
    "duration": 5,
    "start_time": "2022-05-09T19:39:33.308Z"
   },
   {
    "duration": 114,
    "start_time": "2022-05-09T19:39:33.987Z"
   },
   {
    "duration": 4,
    "start_time": "2022-05-09T19:39:35.197Z"
   },
   {
    "duration": 117,
    "start_time": "2022-05-09T19:39:36.199Z"
   },
   {
    "duration": 5,
    "start_time": "2022-05-09T19:39:37.187Z"
   },
   {
    "duration": 4,
    "start_time": "2022-05-09T19:39:38.308Z"
   },
   {
    "duration": 5,
    "start_time": "2022-05-09T19:39:39.067Z"
   },
   {
    "duration": 104,
    "start_time": "2022-05-09T19:39:40.097Z"
   },
   {
    "duration": 9,
    "start_time": "2022-05-09T19:39:40.909Z"
   },
   {
    "duration": 6,
    "start_time": "2022-05-09T19:39:41.677Z"
   },
   {
    "duration": 6,
    "start_time": "2022-05-09T19:39:42.497Z"
   },
   {
    "duration": 192,
    "start_time": "2022-05-09T19:39:43.194Z"
   },
   {
    "duration": 5,
    "start_time": "2022-05-09T19:39:44.010Z"
   },
   {
    "duration": 4,
    "start_time": "2022-05-09T19:39:44.757Z"
   },
   {
    "duration": 121,
    "start_time": "2022-05-09T19:39:45.497Z"
   },
   {
    "duration": 6,
    "start_time": "2022-05-09T19:39:46.207Z"
   },
   {
    "duration": 5,
    "start_time": "2022-05-09T19:39:46.928Z"
   },
   {
    "duration": 7,
    "start_time": "2022-05-09T19:39:47.527Z"
   },
   {
    "duration": 6,
    "start_time": "2022-05-09T19:39:48.177Z"
   },
   {
    "duration": 6,
    "start_time": "2022-05-09T19:39:48.867Z"
   },
   {
    "duration": 6,
    "start_time": "2022-05-09T19:39:49.421Z"
   },
   {
    "duration": 154,
    "start_time": "2022-05-09T19:39:50.088Z"
   },
   {
    "duration": 4,
    "start_time": "2022-05-09T19:39:50.908Z"
   },
   {
    "duration": 6,
    "start_time": "2022-05-09T19:39:51.790Z"
   },
   {
    "duration": 4,
    "start_time": "2022-05-09T19:39:52.359Z"
   },
   {
    "duration": 137,
    "start_time": "2022-05-09T19:39:52.929Z"
   },
   {
    "duration": 136,
    "start_time": "2022-05-09T19:39:53.787Z"
   },
   {
    "duration": 5,
    "start_time": "2022-05-09T19:39:54.367Z"
   },
   {
    "duration": 4,
    "start_time": "2022-05-09T19:39:54.907Z"
   },
   {
    "duration": 133,
    "start_time": "2022-05-09T19:39:55.521Z"
   },
   {
    "duration": 4,
    "start_time": "2022-05-09T19:39:56.535Z"
   },
   {
    "duration": 5,
    "start_time": "2022-05-09T19:39:57.397Z"
   },
   {
    "duration": 4,
    "start_time": "2022-05-09T19:39:58.587Z"
   },
   {
    "duration": 5,
    "start_time": "2022-05-09T19:39:59.287Z"
   },
   {
    "duration": 4,
    "start_time": "2022-05-09T19:39:59.867Z"
   },
   {
    "duration": 6,
    "start_time": "2022-05-09T19:40:00.495Z"
   },
   {
    "duration": 4,
    "start_time": "2022-05-09T19:40:01.174Z"
   },
   {
    "duration": 6,
    "start_time": "2022-05-09T19:40:01.797Z"
   },
   {
    "duration": 5,
    "start_time": "2022-05-09T19:40:02.917Z"
   },
   {
    "duration": 4,
    "start_time": "2022-05-09T19:40:04.368Z"
   },
   {
    "duration": 4,
    "start_time": "2022-05-09T19:40:04.868Z"
   },
   {
    "duration": 15,
    "start_time": "2022-05-09T19:40:05.467Z"
   },
   {
    "duration": 5,
    "start_time": "2022-05-09T19:40:05.989Z"
   },
   {
    "duration": 5,
    "start_time": "2022-05-09T19:40:06.428Z"
   },
   {
    "duration": 4,
    "start_time": "2022-05-09T19:40:06.855Z"
   },
   {
    "duration": 3,
    "start_time": "2022-05-09T19:40:07.287Z"
   },
   {
    "duration": 50,
    "start_time": "2022-05-09T19:40:07.737Z"
   },
   {
    "duration": 4,
    "start_time": "2022-05-09T19:40:08.178Z"
   },
   {
    "duration": 4,
    "start_time": "2022-05-09T19:40:08.657Z"
   },
   {
    "duration": 13,
    "start_time": "2022-05-09T19:40:51.537Z"
   },
   {
    "duration": 24,
    "start_time": "2022-05-09T19:41:35.007Z"
   },
   {
    "duration": 172,
    "start_time": "2022-05-09T19:41:36.077Z"
   },
   {
    "duration": 166,
    "start_time": "2022-05-09T19:41:37.027Z"
   },
   {
    "duration": 179,
    "start_time": "2022-05-09T19:41:37.917Z"
   },
   {
    "duration": 201,
    "start_time": "2022-05-09T19:41:38.707Z"
   },
   {
    "duration": 11,
    "start_time": "2022-05-09T19:41:39.458Z"
   },
   {
    "duration": 6,
    "start_time": "2022-05-09T19:41:39.967Z"
   },
   {
    "duration": 236,
    "start_time": "2022-05-09T19:41:40.688Z"
   },
   {
    "duration": 25,
    "start_time": "2022-05-09T19:41:42.275Z"
   },
   {
    "duration": 241,
    "start_time": "2022-05-09T19:41:42.640Z"
   },
   {
    "duration": 27,
    "start_time": "2022-05-09T19:41:43.346Z"
   },
   {
    "duration": 196,
    "start_time": "2022-05-09T19:41:43.602Z"
   },
   {
    "duration": 171,
    "start_time": "2022-05-09T19:41:44.622Z"
   },
   {
    "duration": 27,
    "start_time": "2022-05-09T19:41:46.141Z"
   },
   {
    "duration": 303,
    "start_time": "2022-05-09T19:41:46.356Z"
   },
   {
    "duration": 29,
    "start_time": "2022-05-09T19:41:47.281Z"
   },
   {
    "duration": 413,
    "start_time": "2022-05-09T19:41:47.312Z"
   },
   {
    "duration": 27,
    "start_time": "2022-05-09T19:41:47.848Z"
   },
   {
    "duration": 243,
    "start_time": "2022-05-09T19:41:48.067Z"
   },
   {
    "duration": 22,
    "start_time": "2022-05-09T19:41:54.758Z"
   },
   {
    "duration": 9,
    "start_time": "2022-05-09T19:41:55.747Z"
   },
   {
    "duration": 12,
    "start_time": "2022-05-09T19:41:56.357Z"
   },
   {
    "duration": 184,
    "start_time": "2022-05-09T19:41:57.060Z"
   },
   {
    "duration": 8,
    "start_time": "2022-05-09T19:41:58.588Z"
   },
   {
    "duration": 139,
    "start_time": "2022-05-09T19:41:58.599Z"
   },
   {
    "duration": 0,
    "start_time": "2022-05-09T19:41:58.739Z"
   },
   {
    "duration": 137,
    "start_time": "2022-05-09T19:41:58.878Z"
   },
   {
    "duration": 155,
    "start_time": "2022-05-09T19:41:59.397Z"
   },
   {
    "duration": 162,
    "start_time": "2022-05-09T19:41:59.677Z"
   },
   {
    "duration": 146,
    "start_time": "2022-05-09T19:41:59.908Z"
   },
   {
    "duration": 189,
    "start_time": "2022-05-09T19:42:00.128Z"
   },
   {
    "duration": 252,
    "start_time": "2022-05-09T19:42:00.588Z"
   },
   {
    "duration": 193,
    "start_time": "2022-05-09T19:42:01.008Z"
   },
   {
    "duration": 2242,
    "start_time": "2022-05-09T19:44:53.307Z"
   },
   {
    "duration": 229,
    "start_time": "2022-05-09T19:45:12.016Z"
   },
   {
    "duration": 2424,
    "start_time": "2022-05-09T19:46:25.517Z"
   },
   {
    "duration": 2677,
    "start_time": "2022-05-09T19:47:13.495Z"
   },
   {
    "duration": 2208,
    "start_time": "2022-05-09T19:47:47.710Z"
   },
   {
    "duration": 165,
    "start_time": "2022-05-09T19:49:06.549Z"
   },
   {
    "duration": 144,
    "start_time": "2022-05-09T19:49:09.650Z"
   },
   {
    "duration": 1421,
    "start_time": "2022-05-10T11:31:21.375Z"
   },
   {
    "duration": 79,
    "start_time": "2022-05-10T11:31:22.798Z"
   },
   {
    "duration": 34,
    "start_time": "2022-05-10T11:31:24.090Z"
   },
   {
    "duration": 15,
    "start_time": "2022-05-10T11:31:25.340Z"
   },
   {
    "duration": 9,
    "start_time": "2022-05-10T11:31:26.705Z"
   },
   {
    "duration": 4,
    "start_time": "2022-05-10T11:31:28.280Z"
   },
   {
    "duration": 141,
    "start_time": "2022-05-10T11:31:28.856Z"
   },
   {
    "duration": 7,
    "start_time": "2022-05-10T11:31:38.080Z"
   },
   {
    "duration": 6,
    "start_time": "2022-05-10T11:31:38.925Z"
   },
   {
    "duration": 5,
    "start_time": "2022-05-10T11:31:40.471Z"
   },
   {
    "duration": 109,
    "start_time": "2022-05-10T11:31:43.788Z"
   },
   {
    "duration": 7,
    "start_time": "2022-05-10T11:31:57.890Z"
   },
   {
    "duration": 126,
    "start_time": "2022-05-10T11:32:01.136Z"
   },
   {
    "duration": 6,
    "start_time": "2022-05-10T11:32:01.972Z"
   },
   {
    "duration": 7,
    "start_time": "2022-05-10T11:32:02.350Z"
   },
   {
    "duration": 113,
    "start_time": "2022-05-10T11:32:03.550Z"
   },
   {
    "duration": 4,
    "start_time": "2022-05-10T11:32:07.166Z"
   },
   {
    "duration": 14,
    "start_time": "2022-05-10T11:32:22.211Z"
   },
   {
    "duration": 108,
    "start_time": "2022-05-10T11:32:40.294Z"
   },
   {
    "duration": 13,
    "start_time": "2022-05-10T11:32:57.506Z"
   },
   {
    "duration": 116,
    "start_time": "2022-05-10T11:33:13.348Z"
   },
   {
    "duration": 6,
    "start_time": "2022-05-10T11:33:16.610Z"
   },
   {
    "duration": 9,
    "start_time": "2022-05-10T11:33:17.298Z"
   },
   {
    "duration": 8,
    "start_time": "2022-05-10T11:33:18.028Z"
   },
   {
    "duration": 130,
    "start_time": "2022-05-10T11:33:18.990Z"
   },
   {
    "duration": 4,
    "start_time": "2022-05-10T11:33:20.497Z"
   },
   {
    "duration": 125,
    "start_time": "2022-05-10T11:33:21.402Z"
   },
   {
    "duration": 6,
    "start_time": "2022-05-10T11:33:22.165Z"
   },
   {
    "duration": 5,
    "start_time": "2022-05-10T11:33:22.910Z"
   },
   {
    "duration": 7,
    "start_time": "2022-05-10T11:33:23.698Z"
   },
   {
    "duration": 122,
    "start_time": "2022-05-10T11:33:24.526Z"
   },
   {
    "duration": 10,
    "start_time": "2022-05-10T11:33:25.235Z"
   },
   {
    "duration": 6,
    "start_time": "2022-05-10T11:33:25.935Z"
   },
   {
    "duration": 6,
    "start_time": "2022-05-10T11:33:26.515Z"
   },
   {
    "duration": 194,
    "start_time": "2022-05-10T11:33:27.335Z"
   },
   {
    "duration": 6,
    "start_time": "2022-05-10T11:33:28.070Z"
   },
   {
    "duration": 4,
    "start_time": "2022-05-10T11:33:28.781Z"
   },
   {
    "duration": 107,
    "start_time": "2022-05-10T11:33:29.589Z"
   },
   {
    "duration": 6,
    "start_time": "2022-05-10T11:33:31.027Z"
   },
   {
    "duration": 5,
    "start_time": "2022-05-10T11:33:32.690Z"
   },
   {
    "duration": 7,
    "start_time": "2022-05-10T11:33:33.485Z"
   },
   {
    "duration": 5,
    "start_time": "2022-05-10T11:33:34.291Z"
   },
   {
    "duration": 4,
    "start_time": "2022-05-10T11:33:35.066Z"
   },
   {
    "duration": 5,
    "start_time": "2022-05-10T11:33:35.486Z"
   },
   {
    "duration": 114,
    "start_time": "2022-05-10T11:33:36.050Z"
   },
   {
    "duration": 4,
    "start_time": "2022-05-10T11:33:36.620Z"
   },
   {
    "duration": 5,
    "start_time": "2022-05-10T11:33:37.867Z"
   },
   {
    "duration": 4,
    "start_time": "2022-05-10T11:33:38.689Z"
   },
   {
    "duration": 107,
    "start_time": "2022-05-10T11:33:39.088Z"
   },
   {
    "duration": 112,
    "start_time": "2022-05-10T11:33:39.711Z"
   },
   {
    "duration": 5,
    "start_time": "2022-05-10T11:33:40.120Z"
   },
   {
    "duration": 4,
    "start_time": "2022-05-10T11:33:40.590Z"
   },
   {
    "duration": 118,
    "start_time": "2022-05-10T11:33:41.135Z"
   },
   {
    "duration": 4,
    "start_time": "2022-05-10T11:33:41.581Z"
   },
   {
    "duration": 4,
    "start_time": "2022-05-10T11:33:42.031Z"
   },
   {
    "duration": 4,
    "start_time": "2022-05-10T11:33:42.706Z"
   },
   {
    "duration": 4,
    "start_time": "2022-05-10T11:33:43.309Z"
   },
   {
    "duration": 5,
    "start_time": "2022-05-10T11:33:43.795Z"
   },
   {
    "duration": 4,
    "start_time": "2022-05-10T11:33:44.310Z"
   },
   {
    "duration": 5,
    "start_time": "2022-05-10T11:33:44.735Z"
   },
   {
    "duration": 4,
    "start_time": "2022-05-10T11:33:45.180Z"
   },
   {
    "duration": 7,
    "start_time": "2022-05-10T11:37:21.431Z"
   },
   {
    "duration": 13,
    "start_time": "2022-05-10T11:37:33.735Z"
   },
   {
    "duration": 4,
    "start_time": "2022-05-10T11:38:10.074Z"
   },
   {
    "duration": 13,
    "start_time": "2022-05-10T11:38:21.146Z"
   },
   {
    "duration": 1438,
    "start_time": "2022-05-10T11:40:25.166Z"
   },
   {
    "duration": 1694,
    "start_time": "2022-05-10T11:41:00.850Z"
   },
   {
    "duration": 1424,
    "start_time": "2022-05-10T11:42:30.906Z"
   },
   {
    "duration": 18,
    "start_time": "2022-05-10T11:42:36.032Z"
   },
   {
    "duration": 5,
    "start_time": "2022-05-10T11:42:38.080Z"
   },
   {
    "duration": 5,
    "start_time": "2022-05-10T11:42:41.821Z"
   },
   {
    "duration": 4,
    "start_time": "2022-05-10T11:42:42.607Z"
   },
   {
    "duration": 3,
    "start_time": "2022-05-10T11:42:43.360Z"
   },
   {
    "duration": 66,
    "start_time": "2022-05-10T11:42:44.216Z"
   },
   {
    "duration": 4,
    "start_time": "2022-05-10T11:42:45.160Z"
   },
   {
    "duration": 4,
    "start_time": "2022-05-10T11:42:45.679Z"
   },
   {
    "duration": 21,
    "start_time": "2022-05-10T11:44:31.790Z"
   },
   {
    "duration": 181,
    "start_time": "2022-05-10T11:44:33.312Z"
   },
   {
    "duration": 176,
    "start_time": "2022-05-10T11:44:34.535Z"
   },
   {
    "duration": 173,
    "start_time": "2022-05-10T11:44:38.155Z"
   },
   {
    "duration": 186,
    "start_time": "2022-05-10T11:44:41.084Z"
   },
   {
    "duration": 10,
    "start_time": "2022-05-10T11:44:43.685Z"
   },
   {
    "duration": 4,
    "start_time": "2022-05-10T11:44:46.013Z"
   },
   {
    "duration": 241,
    "start_time": "2022-05-10T11:47:16.877Z"
   },
   {
    "duration": 142,
    "start_time": "2022-05-10T11:47:48.587Z"
   },
   {
    "duration": 155,
    "start_time": "2022-05-10T11:48:07.765Z"
   },
   {
    "duration": 220,
    "start_time": "2022-05-10T11:48:41.549Z"
   },
   {
    "duration": 210,
    "start_time": "2022-05-10T11:51:07.086Z"
   },
   {
    "duration": 205,
    "start_time": "2022-05-10T11:51:43.799Z"
   },
   {
    "duration": 12,
    "start_time": "2022-05-10T11:54:53.615Z"
   },
   {
    "duration": 240,
    "start_time": "2022-05-10T11:54:54.607Z"
   },
   {
    "duration": 4,
    "start_time": "2022-05-10T11:55:29.204Z"
   },
   {
    "duration": 3,
    "start_time": "2022-05-10T11:55:31.917Z"
   },
   {
    "duration": 26,
    "start_time": "2022-05-10T11:55:37.284Z"
   },
   {
    "duration": 231,
    "start_time": "2022-05-10T11:55:39.534Z"
   },
   {
    "duration": 1954,
    "start_time": "2022-05-10T14:20:34.639Z"
   },
   {
    "duration": 115,
    "start_time": "2022-05-10T14:20:36.596Z"
   },
   {
    "duration": 51,
    "start_time": "2022-05-10T14:20:38.412Z"
   },
   {
    "duration": 22,
    "start_time": "2022-05-10T14:20:39.501Z"
   },
   {
    "duration": 12,
    "start_time": "2022-05-10T14:20:40.589Z"
   },
   {
    "duration": 5,
    "start_time": "2022-05-10T14:20:42.300Z"
   },
   {
    "duration": 221,
    "start_time": "2022-05-10T14:20:43.345Z"
   },
   {
    "duration": 9,
    "start_time": "2022-05-10T14:20:44.108Z"
   },
   {
    "duration": 8,
    "start_time": "2022-05-10T14:20:44.724Z"
   },
   {
    "duration": 6,
    "start_time": "2022-05-10T14:20:45.321Z"
   },
   {
    "duration": 161,
    "start_time": "2022-05-10T14:20:46.088Z"
   },
   {
    "duration": 10,
    "start_time": "2022-05-10T14:20:48.056Z"
   },
   {
    "duration": 186,
    "start_time": "2022-05-10T14:20:48.717Z"
   },
   {
    "duration": 9,
    "start_time": "2022-05-10T14:20:49.268Z"
   },
   {
    "duration": 8,
    "start_time": "2022-05-10T14:20:49.550Z"
   },
   {
    "duration": 170,
    "start_time": "2022-05-10T14:20:49.992Z"
   },
   {
    "duration": 155,
    "start_time": "2022-05-10T14:20:50.698Z"
   },
   {
    "duration": 253,
    "start_time": "2022-05-10T14:20:51.245Z"
   },
   {
    "duration": 8,
    "start_time": "2022-05-10T14:20:51.777Z"
   },
   {
    "duration": 12,
    "start_time": "2022-05-10T14:20:52.813Z"
   },
   {
    "duration": 11,
    "start_time": "2022-05-10T14:20:53.311Z"
   },
   {
    "duration": 256,
    "start_time": "2022-05-10T14:20:53.837Z"
   },
   {
    "duration": 6,
    "start_time": "2022-05-10T14:20:54.829Z"
   },
   {
    "duration": 185,
    "start_time": "2022-05-10T14:20:55.434Z"
   },
   {
    "duration": 7,
    "start_time": "2022-05-10T14:20:56.148Z"
   },
   {
    "duration": 5,
    "start_time": "2022-05-10T14:20:56.737Z"
   },
   {
    "duration": 8,
    "start_time": "2022-05-10T14:20:57.337Z"
   },
   {
    "duration": 244,
    "start_time": "2022-05-10T14:20:58.537Z"
   },
   {
    "duration": 12,
    "start_time": "2022-05-10T14:20:59.723Z"
   },
   {
    "duration": 8,
    "start_time": "2022-05-10T14:21:00.491Z"
   },
   {
    "duration": 7,
    "start_time": "2022-05-10T14:21:01.209Z"
   },
   {
    "duration": 310,
    "start_time": "2022-05-10T14:21:01.825Z"
   },
   {
    "duration": 8,
    "start_time": "2022-05-10T14:21:03.165Z"
   },
   {
    "duration": 7,
    "start_time": "2022-05-10T14:21:03.733Z"
   },
   {
    "duration": 163,
    "start_time": "2022-05-10T14:21:04.365Z"
   },
   {
    "duration": 8,
    "start_time": "2022-05-10T14:21:05.181Z"
   },
   {
    "duration": 6,
    "start_time": "2022-05-10T14:21:05.754Z"
   },
   {
    "duration": 8,
    "start_time": "2022-05-10T14:21:06.296Z"
   },
   {
    "duration": 7,
    "start_time": "2022-05-10T14:21:06.888Z"
   },
   {
    "duration": 9,
    "start_time": "2022-05-10T14:21:07.448Z"
   },
   {
    "duration": 6,
    "start_time": "2022-05-10T14:21:08.004Z"
   },
   {
    "duration": 182,
    "start_time": "2022-05-10T14:21:08.489Z"
   },
   {
    "duration": 5,
    "start_time": "2022-05-10T14:21:09.109Z"
   },
   {
    "duration": 7,
    "start_time": "2022-05-10T14:21:09.901Z"
   },
   {
    "duration": 5,
    "start_time": "2022-05-10T14:21:10.348Z"
   },
   {
    "duration": 172,
    "start_time": "2022-05-10T14:21:10.806Z"
   },
   {
    "duration": 162,
    "start_time": "2022-05-10T14:21:11.489Z"
   },
   {
    "duration": 7,
    "start_time": "2022-05-10T14:21:12.199Z"
   },
   {
    "duration": 5,
    "start_time": "2022-05-10T14:21:12.698Z"
   },
   {
    "duration": 183,
    "start_time": "2022-05-10T14:21:13.248Z"
   },
   {
    "duration": 8,
    "start_time": "2022-05-10T14:21:13.705Z"
   },
   {
    "duration": 6,
    "start_time": "2022-05-10T14:21:14.160Z"
   },
   {
    "duration": 7,
    "start_time": "2022-05-10T14:21:14.522Z"
   },
   {
    "duration": 7,
    "start_time": "2022-05-10T14:21:15.296Z"
   },
   {
    "duration": 6,
    "start_time": "2022-05-10T14:21:16.144Z"
   },
   {
    "duration": 8,
    "start_time": "2022-05-10T14:21:16.584Z"
   },
   {
    "duration": 7,
    "start_time": "2022-05-10T14:21:17.004Z"
   },
   {
    "duration": 6,
    "start_time": "2022-05-10T14:21:17.548Z"
   },
   {
    "duration": 7,
    "start_time": "2022-05-10T14:21:19.115Z"
   },
   {
    "duration": 19,
    "start_time": "2022-05-10T14:21:36.198Z"
   },
   {
    "duration": 5,
    "start_time": "2022-05-10T14:22:08.185Z"
   },
   {
    "duration": 4,
    "start_time": "2022-05-10T14:22:08.984Z"
   },
   {
    "duration": 25,
    "start_time": "2022-05-10T14:22:09.556Z"
   },
   {
    "duration": 7,
    "start_time": "2022-05-10T14:22:10.140Z"
   },
   {
    "duration": 6,
    "start_time": "2022-05-10T14:22:10.760Z"
   },
   {
    "duration": 6,
    "start_time": "2022-05-10T14:22:11.749Z"
   },
   {
    "duration": 5,
    "start_time": "2022-05-10T14:22:12.324Z"
   },
   {
    "duration": 174,
    "start_time": "2022-05-10T14:22:12.864Z"
   },
   {
    "duration": 7,
    "start_time": "2022-05-10T14:22:13.428Z"
   },
   {
    "duration": 7,
    "start_time": "2022-05-10T14:22:13.984Z"
   },
   {
    "duration": 44,
    "start_time": "2022-05-10T14:22:15.405Z"
   },
   {
    "duration": 413,
    "start_time": "2022-05-10T14:22:16.466Z"
   },
   {
    "duration": 281,
    "start_time": "2022-05-10T14:22:17.261Z"
   },
   {
    "duration": 268,
    "start_time": "2022-05-10T14:22:18.115Z"
   },
   {
    "duration": 309,
    "start_time": "2022-05-10T14:22:18.796Z"
   },
   {
    "duration": 15,
    "start_time": "2022-05-10T14:22:19.445Z"
   },
   {
    "duration": 11,
    "start_time": "2022-05-10T14:22:19.864Z"
   },
   {
    "duration": 680,
    "start_time": "2022-05-10T14:22:20.271Z"
   },
   {
    "duration": 355,
    "start_time": "2022-05-10T14:22:20.953Z"
   },
   {
    "duration": 50,
    "start_time": "2022-05-10T14:22:21.310Z"
   },
   {
    "duration": 374,
    "start_time": "2022-05-10T14:22:21.416Z"
   },
   {
    "duration": 53,
    "start_time": "2022-05-10T14:22:21.793Z"
   },
   {
    "duration": 312,
    "start_time": "2022-05-10T14:22:21.951Z"
   },
   {
    "duration": 243,
    "start_time": "2022-05-10T14:22:22.294Z"
   },
   {
    "duration": 132,
    "start_time": "2022-05-10T14:22:22.672Z"
   },
   {
    "duration": 40,
    "start_time": "2022-05-10T14:22:22.860Z"
   },
   {
    "duration": 471,
    "start_time": "2022-05-10T14:22:23.076Z"
   },
   {
    "duration": 39,
    "start_time": "2022-05-10T14:22:23.601Z"
   },
   {
    "duration": 653,
    "start_time": "2022-05-10T14:22:23.789Z"
   },
   {
    "duration": 40,
    "start_time": "2022-05-10T14:22:24.446Z"
   },
   {
    "duration": 385,
    "start_time": "2022-05-10T14:22:24.551Z"
   },
   {
    "duration": 127,
    "start_time": "2022-05-10T14:22:24.940Z"
   },
   {
    "duration": 42,
    "start_time": "2022-05-10T14:22:25.244Z"
   },
   {
    "duration": 14,
    "start_time": "2022-05-10T14:22:25.639Z"
   },
   {
    "duration": 16,
    "start_time": "2022-05-10T14:22:25.990Z"
   },
   {
    "duration": 346,
    "start_time": "2022-05-10T14:22:26.364Z"
   },
   {
    "duration": 16,
    "start_time": "2022-05-10T14:22:26.943Z"
   },
   {
    "duration": 434,
    "start_time": "2022-05-10T14:22:27.340Z"
   },
   {
    "duration": 212,
    "start_time": "2022-05-10T14:22:27.945Z"
   },
   {
    "duration": 221,
    "start_time": "2022-05-10T14:22:28.640Z"
   },
   {
    "duration": 252,
    "start_time": "2022-05-10T14:22:30.364Z"
   },
   {
    "duration": 258,
    "start_time": "2022-05-10T14:22:30.618Z"
   },
   {
    "duration": 309,
    "start_time": "2022-05-10T14:22:30.878Z"
   },
   {
    "duration": 4686,
    "start_time": "2022-05-10T14:40:48.332Z"
   },
   {
    "duration": 393,
    "start_time": "2022-05-10T14:41:05.392Z"
   },
   {
    "duration": 516,
    "start_time": "2022-05-10T14:41:16.019Z"
   },
   {
    "duration": 2447,
    "start_time": "2022-05-10T14:41:33.818Z"
   },
   {
    "duration": 279,
    "start_time": "2022-05-10T14:41:44.290Z"
   },
   {
    "duration": 265,
    "start_time": "2022-05-10T14:42:57.700Z"
   },
   {
    "duration": 257,
    "start_time": "2022-05-10T14:43:04.552Z"
   },
   {
    "duration": 48,
    "start_time": "2022-05-10T14:43:39.412Z"
   },
   {
    "duration": 49,
    "start_time": "2022-05-10T14:43:46.192Z"
   },
   {
    "duration": 142,
    "start_time": "2022-05-10T14:43:47.656Z"
   },
   {
    "duration": 47,
    "start_time": "2022-05-10T14:43:56.906Z"
   },
   {
    "duration": 116,
    "start_time": "2022-05-10T14:43:57.835Z"
   },
   {
    "duration": 54,
    "start_time": "2022-05-10T14:46:02.518Z"
   },
   {
    "duration": 193,
    "start_time": "2022-05-10T14:46:04.105Z"
   },
   {
    "duration": 46,
    "start_time": "2022-05-10T14:46:09.047Z"
   },
   {
    "duration": 231,
    "start_time": "2022-05-10T14:46:28.793Z"
   },
   {
    "duration": 161,
    "start_time": "2022-05-10T14:46:51.664Z"
   },
   {
    "duration": 10,
    "start_time": "2022-05-10T14:46:57.919Z"
   },
   {
    "duration": 238,
    "start_time": "2022-05-10T14:47:03.320Z"
   },
   {
    "duration": 3462,
    "start_time": "2022-05-10T14:50:58.720Z"
   },
   {
    "duration": 2425,
    "start_time": "2022-05-10T14:51:17.479Z"
   },
   {
    "duration": 520,
    "start_time": "2022-05-10T14:52:06.203Z"
   },
   {
    "duration": 33,
    "start_time": "2022-05-10T14:54:16.335Z"
   },
   {
    "duration": 48,
    "start_time": "2022-05-10T14:55:15.639Z"
   },
   {
    "duration": 41,
    "start_time": "2022-05-10T14:55:22.034Z"
   },
   {
    "duration": 2141,
    "start_time": "2022-05-10T14:55:37.605Z"
   },
   {
    "duration": 216,
    "start_time": "2022-05-10T14:55:58.690Z"
   },
   {
    "duration": 193,
    "start_time": "2022-05-10T14:56:04.018Z"
   },
   {
    "duration": 2043,
    "start_time": "2022-05-10T14:56:26.172Z"
   },
   {
    "duration": 389,
    "start_time": "2022-05-10T14:56:55.115Z"
   },
   {
    "duration": 40,
    "start_time": "2022-05-10T14:56:58.320Z"
   },
   {
    "duration": 40,
    "start_time": "2022-05-10T14:57:20.893Z"
   },
   {
    "duration": 366,
    "start_time": "2022-05-10T14:58:51.261Z"
   },
   {
    "duration": 407,
    "start_time": "2022-05-10T14:59:21.675Z"
   },
   {
    "duration": 266,
    "start_time": "2022-05-10T14:59:46.301Z"
   },
   {
    "duration": 2290,
    "start_time": "2022-05-10T15:01:01.326Z"
   },
   {
    "duration": 965,
    "start_time": "2022-05-10T15:01:42.167Z"
   },
   {
    "duration": 347,
    "start_time": "2022-05-10T15:02:17.315Z"
   },
   {
    "duration": 238,
    "start_time": "2022-05-10T15:02:30.998Z"
   },
   {
    "duration": 414,
    "start_time": "2022-05-10T15:02:34.010Z"
   },
   {
    "duration": 373,
    "start_time": "2022-05-10T15:03:51.588Z"
   },
   {
    "duration": 322,
    "start_time": "2022-05-10T15:05:19.451Z"
   },
   {
    "duration": 1477,
    "start_time": "2022-05-11T04:24:25.878Z"
   },
   {
    "duration": 90,
    "start_time": "2022-05-11T04:24:27.358Z"
   },
   {
    "duration": 38,
    "start_time": "2022-05-11T04:24:27.450Z"
   },
   {
    "duration": 17,
    "start_time": "2022-05-11T04:24:27.490Z"
   },
   {
    "duration": 30,
    "start_time": "2022-05-11T04:24:27.509Z"
   },
   {
    "duration": 3,
    "start_time": "2022-05-11T04:24:27.541Z"
   },
   {
    "duration": 164,
    "start_time": "2022-05-11T04:24:27.546Z"
   },
   {
    "duration": 7,
    "start_time": "2022-05-11T04:24:27.712Z"
   },
   {
    "duration": 16,
    "start_time": "2022-05-11T04:24:27.721Z"
   },
   {
    "duration": 5,
    "start_time": "2022-05-11T04:24:27.741Z"
   },
   {
    "duration": 137,
    "start_time": "2022-05-11T04:24:27.748Z"
   },
   {
    "duration": 8,
    "start_time": "2022-05-11T04:24:27.886Z"
   },
   {
    "duration": 147,
    "start_time": "2022-05-11T04:24:27.896Z"
   },
   {
    "duration": 7,
    "start_time": "2022-05-11T04:24:28.045Z"
   },
   {
    "duration": 9,
    "start_time": "2022-05-11T04:24:28.053Z"
   },
   {
    "duration": 140,
    "start_time": "2022-05-11T04:24:28.064Z"
   },
   {
    "duration": 132,
    "start_time": "2022-05-11T04:24:28.205Z"
   },
   {
    "duration": 0,
    "start_time": "2022-05-11T04:24:28.342Z"
   },
   {
    "duration": 0,
    "start_time": "2022-05-11T04:24:28.343Z"
   },
   {
    "duration": 0,
    "start_time": "2022-05-11T04:24:28.344Z"
   },
   {
    "duration": 0,
    "start_time": "2022-05-11T04:24:28.345Z"
   },
   {
    "duration": 0,
    "start_time": "2022-05-11T04:24:28.346Z"
   },
   {
    "duration": 0,
    "start_time": "2022-05-11T04:24:28.347Z"
   },
   {
    "duration": 0,
    "start_time": "2022-05-11T04:24:28.348Z"
   },
   {
    "duration": 0,
    "start_time": "2022-05-11T04:24:28.349Z"
   },
   {
    "duration": 0,
    "start_time": "2022-05-11T04:24:28.350Z"
   },
   {
    "duration": 0,
    "start_time": "2022-05-11T04:24:28.351Z"
   },
   {
    "duration": 0,
    "start_time": "2022-05-11T04:24:28.352Z"
   },
   {
    "duration": 0,
    "start_time": "2022-05-11T04:24:28.353Z"
   },
   {
    "duration": 0,
    "start_time": "2022-05-11T04:24:28.354Z"
   },
   {
    "duration": 0,
    "start_time": "2022-05-11T04:24:28.355Z"
   },
   {
    "duration": 0,
    "start_time": "2022-05-11T04:24:28.356Z"
   },
   {
    "duration": 0,
    "start_time": "2022-05-11T04:24:28.357Z"
   },
   {
    "duration": 0,
    "start_time": "2022-05-11T04:24:28.358Z"
   },
   {
    "duration": 0,
    "start_time": "2022-05-11T04:24:28.359Z"
   },
   {
    "duration": 0,
    "start_time": "2022-05-11T04:24:28.360Z"
   },
   {
    "duration": 0,
    "start_time": "2022-05-11T04:24:28.361Z"
   },
   {
    "duration": 0,
    "start_time": "2022-05-11T04:24:28.362Z"
   },
   {
    "duration": 0,
    "start_time": "2022-05-11T04:24:28.362Z"
   },
   {
    "duration": 0,
    "start_time": "2022-05-11T04:24:28.363Z"
   },
   {
    "duration": 0,
    "start_time": "2022-05-11T04:24:28.364Z"
   },
   {
    "duration": 0,
    "start_time": "2022-05-11T04:24:28.365Z"
   },
   {
    "duration": 0,
    "start_time": "2022-05-11T04:24:28.366Z"
   },
   {
    "duration": 0,
    "start_time": "2022-05-11T04:24:28.367Z"
   },
   {
    "duration": 0,
    "start_time": "2022-05-11T04:24:28.367Z"
   },
   {
    "duration": 0,
    "start_time": "2022-05-11T04:24:28.368Z"
   },
   {
    "duration": 0,
    "start_time": "2022-05-11T04:24:28.369Z"
   },
   {
    "duration": 0,
    "start_time": "2022-05-11T04:24:28.370Z"
   },
   {
    "duration": 0,
    "start_time": "2022-05-11T04:24:28.372Z"
   },
   {
    "duration": 0,
    "start_time": "2022-05-11T04:24:28.373Z"
   },
   {
    "duration": 0,
    "start_time": "2022-05-11T04:24:28.374Z"
   },
   {
    "duration": 0,
    "start_time": "2022-05-11T04:24:28.375Z"
   },
   {
    "duration": 0,
    "start_time": "2022-05-11T04:24:28.376Z"
   },
   {
    "duration": 0,
    "start_time": "2022-05-11T04:24:28.433Z"
   },
   {
    "duration": 0,
    "start_time": "2022-05-11T04:24:28.435Z"
   },
   {
    "duration": 0,
    "start_time": "2022-05-11T04:24:28.436Z"
   },
   {
    "duration": 0,
    "start_time": "2022-05-11T04:24:28.437Z"
   },
   {
    "duration": 0,
    "start_time": "2022-05-11T04:24:28.438Z"
   },
   {
    "duration": 0,
    "start_time": "2022-05-11T04:24:28.439Z"
   },
   {
    "duration": 0,
    "start_time": "2022-05-11T04:24:28.440Z"
   },
   {
    "duration": 0,
    "start_time": "2022-05-11T04:24:28.441Z"
   },
   {
    "duration": 0,
    "start_time": "2022-05-11T04:24:28.441Z"
   },
   {
    "duration": 0,
    "start_time": "2022-05-11T04:24:28.442Z"
   },
   {
    "duration": 0,
    "start_time": "2022-05-11T04:24:28.443Z"
   },
   {
    "duration": 0,
    "start_time": "2022-05-11T04:24:28.444Z"
   },
   {
    "duration": 0,
    "start_time": "2022-05-11T04:24:28.445Z"
   },
   {
    "duration": 0,
    "start_time": "2022-05-11T04:24:28.446Z"
   },
   {
    "duration": 0,
    "start_time": "2022-05-11T04:24:28.447Z"
   },
   {
    "duration": 0,
    "start_time": "2022-05-11T04:24:28.448Z"
   },
   {
    "duration": 0,
    "start_time": "2022-05-11T04:24:28.449Z"
   },
   {
    "duration": 0,
    "start_time": "2022-05-11T04:24:28.451Z"
   },
   {
    "duration": 0,
    "start_time": "2022-05-11T04:24:28.452Z"
   },
   {
    "duration": 0,
    "start_time": "2022-05-11T04:24:28.453Z"
   },
   {
    "duration": 0,
    "start_time": "2022-05-11T04:24:28.454Z"
   },
   {
    "duration": 0,
    "start_time": "2022-05-11T04:24:28.455Z"
   },
   {
    "duration": 1,
    "start_time": "2022-05-11T04:24:28.455Z"
   },
   {
    "duration": 0,
    "start_time": "2022-05-11T04:24:28.457Z"
   },
   {
    "duration": 0,
    "start_time": "2022-05-11T04:24:28.458Z"
   },
   {
    "duration": 0,
    "start_time": "2022-05-11T04:24:28.459Z"
   },
   {
    "duration": 0,
    "start_time": "2022-05-11T04:24:28.460Z"
   },
   {
    "duration": 0,
    "start_time": "2022-05-11T04:24:28.461Z"
   },
   {
    "duration": 0,
    "start_time": "2022-05-11T04:24:28.462Z"
   },
   {
    "duration": 0,
    "start_time": "2022-05-11T04:24:28.463Z"
   },
   {
    "duration": 0,
    "start_time": "2022-05-11T04:24:28.464Z"
   },
   {
    "duration": 0,
    "start_time": "2022-05-11T04:24:28.465Z"
   },
   {
    "duration": 0,
    "start_time": "2022-05-11T04:24:28.466Z"
   },
   {
    "duration": 0,
    "start_time": "2022-05-11T04:24:28.467Z"
   },
   {
    "duration": 0,
    "start_time": "2022-05-11T04:24:28.468Z"
   },
   {
    "duration": 0,
    "start_time": "2022-05-11T04:24:28.533Z"
   },
   {
    "duration": 0,
    "start_time": "2022-05-11T04:24:28.535Z"
   },
   {
    "duration": 0,
    "start_time": "2022-05-11T04:24:28.536Z"
   },
   {
    "duration": 0,
    "start_time": "2022-05-11T04:24:28.537Z"
   },
   {
    "duration": 0,
    "start_time": "2022-05-11T04:24:28.538Z"
   },
   {
    "duration": 0,
    "start_time": "2022-05-11T04:24:28.540Z"
   },
   {
    "duration": 0,
    "start_time": "2022-05-11T04:24:28.541Z"
   },
   {
    "duration": 0,
    "start_time": "2022-05-11T04:24:28.542Z"
   },
   {
    "duration": 0,
    "start_time": "2022-05-11T04:24:28.543Z"
   },
   {
    "duration": 0,
    "start_time": "2022-05-11T04:24:28.544Z"
   },
   {
    "duration": 0,
    "start_time": "2022-05-11T04:24:28.545Z"
   },
   {
    "duration": 0,
    "start_time": "2022-05-11T04:24:28.546Z"
   },
   {
    "duration": 0,
    "start_time": "2022-05-11T04:24:28.547Z"
   },
   {
    "duration": 0,
    "start_time": "2022-05-11T04:24:28.548Z"
   },
   {
    "duration": 1286,
    "start_time": "2022-05-11T04:33:47.587Z"
   },
   {
    "duration": 109,
    "start_time": "2022-05-11T04:33:48.875Z"
   },
   {
    "duration": 49,
    "start_time": "2022-05-11T04:33:48.986Z"
   },
   {
    "duration": 17,
    "start_time": "2022-05-11T04:33:49.037Z"
   },
   {
    "duration": 9,
    "start_time": "2022-05-11T04:33:49.056Z"
   },
   {
    "duration": 7,
    "start_time": "2022-05-11T04:33:49.066Z"
   },
   {
    "duration": 217,
    "start_time": "2022-05-11T04:33:49.075Z"
   },
   {
    "duration": 7,
    "start_time": "2022-05-11T04:33:49.294Z"
   },
   {
    "duration": 8,
    "start_time": "2022-05-11T04:33:49.303Z"
   },
   {
    "duration": 6,
    "start_time": "2022-05-11T04:33:49.314Z"
   },
   {
    "duration": 127,
    "start_time": "2022-05-11T04:33:49.322Z"
   },
   {
    "duration": 8,
    "start_time": "2022-05-11T04:33:49.451Z"
   },
   {
    "duration": 142,
    "start_time": "2022-05-11T04:33:49.461Z"
   },
   {
    "duration": 5,
    "start_time": "2022-05-11T04:33:49.605Z"
   },
   {
    "duration": 14,
    "start_time": "2022-05-11T04:33:49.612Z"
   },
   {
    "duration": 129,
    "start_time": "2022-05-11T04:33:49.628Z"
   },
   {
    "duration": 119,
    "start_time": "2022-05-11T04:33:49.759Z"
   },
   {
    "duration": 0,
    "start_time": "2022-05-11T04:33:49.883Z"
   },
   {
    "duration": 0,
    "start_time": "2022-05-11T04:33:49.885Z"
   },
   {
    "duration": 0,
    "start_time": "2022-05-11T04:33:49.886Z"
   },
   {
    "duration": 0,
    "start_time": "2022-05-11T04:33:49.887Z"
   },
   {
    "duration": 0,
    "start_time": "2022-05-11T04:33:49.889Z"
   },
   {
    "duration": 1,
    "start_time": "2022-05-11T04:33:49.889Z"
   },
   {
    "duration": 0,
    "start_time": "2022-05-11T04:33:49.891Z"
   },
   {
    "duration": 0,
    "start_time": "2022-05-11T04:33:49.892Z"
   },
   {
    "duration": 0,
    "start_time": "2022-05-11T04:33:49.893Z"
   },
   {
    "duration": 0,
    "start_time": "2022-05-11T04:33:49.894Z"
   },
   {
    "duration": 0,
    "start_time": "2022-05-11T04:33:49.895Z"
   },
   {
    "duration": 0,
    "start_time": "2022-05-11T04:33:49.896Z"
   },
   {
    "duration": 0,
    "start_time": "2022-05-11T04:33:49.897Z"
   },
   {
    "duration": 0,
    "start_time": "2022-05-11T04:33:49.898Z"
   },
   {
    "duration": 0,
    "start_time": "2022-05-11T04:33:49.899Z"
   },
   {
    "duration": 0,
    "start_time": "2022-05-11T04:33:49.900Z"
   },
   {
    "duration": 0,
    "start_time": "2022-05-11T04:33:49.900Z"
   },
   {
    "duration": 0,
    "start_time": "2022-05-11T04:33:49.902Z"
   },
   {
    "duration": 0,
    "start_time": "2022-05-11T04:33:49.903Z"
   },
   {
    "duration": 0,
    "start_time": "2022-05-11T04:33:49.904Z"
   },
   {
    "duration": 0,
    "start_time": "2022-05-11T04:33:49.906Z"
   },
   {
    "duration": 0,
    "start_time": "2022-05-11T04:33:49.907Z"
   },
   {
    "duration": 0,
    "start_time": "2022-05-11T04:33:49.908Z"
   },
   {
    "duration": 0,
    "start_time": "2022-05-11T04:33:49.909Z"
   },
   {
    "duration": 0,
    "start_time": "2022-05-11T04:33:49.910Z"
   },
   {
    "duration": 0,
    "start_time": "2022-05-11T04:33:49.911Z"
   },
   {
    "duration": 0,
    "start_time": "2022-05-11T04:33:49.912Z"
   },
   {
    "duration": 0,
    "start_time": "2022-05-11T04:33:49.913Z"
   },
   {
    "duration": 0,
    "start_time": "2022-05-11T04:33:49.934Z"
   },
   {
    "duration": 0,
    "start_time": "2022-05-11T04:33:49.935Z"
   },
   {
    "duration": 1,
    "start_time": "2022-05-11T04:33:49.936Z"
   },
   {
    "duration": 0,
    "start_time": "2022-05-11T04:33:49.938Z"
   },
   {
    "duration": 0,
    "start_time": "2022-05-11T04:33:49.939Z"
   },
   {
    "duration": 0,
    "start_time": "2022-05-11T04:33:49.940Z"
   },
   {
    "duration": 0,
    "start_time": "2022-05-11T04:33:49.941Z"
   },
   {
    "duration": 0,
    "start_time": "2022-05-11T04:33:49.942Z"
   },
   {
    "duration": 0,
    "start_time": "2022-05-11T04:33:49.943Z"
   },
   {
    "duration": 0,
    "start_time": "2022-05-11T04:33:49.945Z"
   },
   {
    "duration": 0,
    "start_time": "2022-05-11T04:33:49.946Z"
   },
   {
    "duration": 0,
    "start_time": "2022-05-11T04:33:49.947Z"
   },
   {
    "duration": 0,
    "start_time": "2022-05-11T04:33:49.948Z"
   },
   {
    "duration": 0,
    "start_time": "2022-05-11T04:33:49.949Z"
   },
   {
    "duration": 0,
    "start_time": "2022-05-11T04:33:49.950Z"
   },
   {
    "duration": 0,
    "start_time": "2022-05-11T04:33:49.951Z"
   },
   {
    "duration": 0,
    "start_time": "2022-05-11T04:33:49.952Z"
   },
   {
    "duration": 0,
    "start_time": "2022-05-11T04:33:49.954Z"
   },
   {
    "duration": 0,
    "start_time": "2022-05-11T04:33:49.955Z"
   },
   {
    "duration": 0,
    "start_time": "2022-05-11T04:33:49.956Z"
   },
   {
    "duration": 0,
    "start_time": "2022-05-11T04:33:49.957Z"
   },
   {
    "duration": 0,
    "start_time": "2022-05-11T04:33:49.958Z"
   },
   {
    "duration": 0,
    "start_time": "2022-05-11T04:33:49.959Z"
   },
   {
    "duration": 0,
    "start_time": "2022-05-11T04:33:49.960Z"
   },
   {
    "duration": 0,
    "start_time": "2022-05-11T04:33:49.961Z"
   },
   {
    "duration": 0,
    "start_time": "2022-05-11T04:33:49.962Z"
   },
   {
    "duration": 0,
    "start_time": "2022-05-11T04:33:49.963Z"
   },
   {
    "duration": 0,
    "start_time": "2022-05-11T04:33:49.965Z"
   },
   {
    "duration": 0,
    "start_time": "2022-05-11T04:33:49.966Z"
   },
   {
    "duration": 0,
    "start_time": "2022-05-11T04:33:49.967Z"
   },
   {
    "duration": 0,
    "start_time": "2022-05-11T04:33:49.968Z"
   },
   {
    "duration": 0,
    "start_time": "2022-05-11T04:33:49.969Z"
   },
   {
    "duration": 0,
    "start_time": "2022-05-11T04:33:49.970Z"
   },
   {
    "duration": 0,
    "start_time": "2022-05-11T04:33:49.972Z"
   },
   {
    "duration": 0,
    "start_time": "2022-05-11T04:33:49.973Z"
   },
   {
    "duration": 0,
    "start_time": "2022-05-11T04:33:49.974Z"
   },
   {
    "duration": 0,
    "start_time": "2022-05-11T04:33:49.975Z"
   },
   {
    "duration": 0,
    "start_time": "2022-05-11T04:33:49.976Z"
   },
   {
    "duration": 0,
    "start_time": "2022-05-11T04:33:49.977Z"
   },
   {
    "duration": 0,
    "start_time": "2022-05-11T04:33:49.978Z"
   },
   {
    "duration": 0,
    "start_time": "2022-05-11T04:33:49.979Z"
   },
   {
    "duration": 0,
    "start_time": "2022-05-11T04:33:49.980Z"
   },
   {
    "duration": 0,
    "start_time": "2022-05-11T04:33:49.981Z"
   },
   {
    "duration": 0,
    "start_time": "2022-05-11T04:33:49.982Z"
   },
   {
    "duration": 0,
    "start_time": "2022-05-11T04:33:49.983Z"
   },
   {
    "duration": 0,
    "start_time": "2022-05-11T04:33:49.984Z"
   },
   {
    "duration": 0,
    "start_time": "2022-05-11T04:33:49.985Z"
   },
   {
    "duration": 0,
    "start_time": "2022-05-11T04:33:49.987Z"
   },
   {
    "duration": 0,
    "start_time": "2022-05-11T04:33:49.988Z"
   },
   {
    "duration": 0,
    "start_time": "2022-05-11T04:33:49.989Z"
   },
   {
    "duration": 0,
    "start_time": "2022-05-11T04:33:49.990Z"
   },
   {
    "duration": 0,
    "start_time": "2022-05-11T04:33:49.991Z"
   },
   {
    "duration": 0,
    "start_time": "2022-05-11T04:33:49.993Z"
   },
   {
    "duration": 0,
    "start_time": "2022-05-11T04:33:49.994Z"
   },
   {
    "duration": 0,
    "start_time": "2022-05-11T04:33:50.039Z"
   },
   {
    "duration": 0,
    "start_time": "2022-05-11T04:33:50.041Z"
   },
   {
    "duration": 0,
    "start_time": "2022-05-11T04:33:50.042Z"
   },
   {
    "duration": 1839,
    "start_time": "2022-05-11T06:22:26.682Z"
   },
   {
    "duration": 109,
    "start_time": "2022-05-11T06:22:28.524Z"
   },
   {
    "duration": 52,
    "start_time": "2022-05-11T06:22:30.042Z"
   },
   {
    "duration": 23,
    "start_time": "2022-05-11T06:22:31.004Z"
   },
   {
    "duration": 11,
    "start_time": "2022-05-11T06:22:32.156Z"
   },
   {
    "duration": 5,
    "start_time": "2022-05-11T06:22:33.997Z"
   },
   {
    "duration": 205,
    "start_time": "2022-05-11T06:22:34.892Z"
   },
   {
    "duration": 13,
    "start_time": "2022-05-11T06:22:36.212Z"
   },
   {
    "duration": 7,
    "start_time": "2022-05-11T06:22:36.932Z"
   },
   {
    "duration": 6,
    "start_time": "2022-05-11T06:22:37.553Z"
   },
   {
    "duration": 164,
    "start_time": "2022-05-11T06:22:38.230Z"
   },
   {
    "duration": 10,
    "start_time": "2022-05-11T06:22:39.004Z"
   },
   {
    "duration": 198,
    "start_time": "2022-05-11T06:22:39.732Z"
   },
   {
    "duration": 7,
    "start_time": "2022-05-11T06:22:40.369Z"
   },
   {
    "duration": 8,
    "start_time": "2022-05-11T06:22:40.708Z"
   },
   {
    "duration": 174,
    "start_time": "2022-05-11T06:22:41.861Z"
   },
   {
    "duration": 5,
    "start_time": "2022-05-11T06:23:01.544Z"
   },
   {
    "duration": 156,
    "start_time": "2022-05-11T06:23:02.789Z"
   },
   {
    "duration": 18,
    "start_time": "2022-05-11T06:23:47.413Z"
   },
   {
    "duration": 184,
    "start_time": "2022-05-11T06:24:00.731Z"
   },
   {
    "duration": 7,
    "start_time": "2022-05-11T06:24:03.964Z"
   },
   {
    "duration": 11,
    "start_time": "2022-05-11T06:24:04.523Z"
   },
   {
    "duration": 8,
    "start_time": "2022-05-11T06:24:05.032Z"
   },
   {
    "duration": 188,
    "start_time": "2022-05-11T06:24:05.493Z"
   },
   {
    "duration": 4,
    "start_time": "2022-05-11T06:24:06.192Z"
   },
   {
    "duration": 173,
    "start_time": "2022-05-11T06:24:06.710Z"
   },
   {
    "duration": 7,
    "start_time": "2022-05-11T06:24:07.221Z"
   },
   {
    "duration": 6,
    "start_time": "2022-05-11T06:24:07.723Z"
   },
   {
    "duration": 8,
    "start_time": "2022-05-11T06:24:08.219Z"
   },
   {
    "duration": 237,
    "start_time": "2022-05-11T06:24:08.720Z"
   },
   {
    "duration": 12,
    "start_time": "2022-05-11T06:24:09.215Z"
   },
   {
    "duration": 8,
    "start_time": "2022-05-11T06:24:09.747Z"
   },
   {
    "duration": 7,
    "start_time": "2022-05-11T06:24:10.239Z"
   },
   {
    "duration": 248,
    "start_time": "2022-05-11T06:24:10.767Z"
   },
   {
    "duration": 8,
    "start_time": "2022-05-11T06:24:12.220Z"
   },
   {
    "duration": 5,
    "start_time": "2022-05-11T06:24:12.746Z"
   },
   {
    "duration": 170,
    "start_time": "2022-05-11T06:24:13.366Z"
   },
   {
    "duration": 8,
    "start_time": "2022-05-11T06:24:14.438Z"
   },
   {
    "duration": 6,
    "start_time": "2022-05-11T06:24:14.940Z"
   },
   {
    "duration": 8,
    "start_time": "2022-05-11T06:24:15.350Z"
   },
   {
    "duration": 8,
    "start_time": "2022-05-11T06:24:15.785Z"
   },
   {
    "duration": 9,
    "start_time": "2022-05-11T06:24:16.219Z"
   },
   {
    "duration": 6,
    "start_time": "2022-05-11T06:24:16.672Z"
   },
   {
    "duration": 179,
    "start_time": "2022-05-11T06:24:17.131Z"
   },
   {
    "duration": 5,
    "start_time": "2022-05-11T06:24:17.594Z"
   },
   {
    "duration": 7,
    "start_time": "2022-05-11T06:24:18.359Z"
   },
   {
    "duration": 6,
    "start_time": "2022-05-11T06:24:19.220Z"
   },
   {
    "duration": 161,
    "start_time": "2022-05-11T06:24:19.501Z"
   },
   {
    "duration": 166,
    "start_time": "2022-05-11T06:24:20.150Z"
   },
   {
    "duration": 7,
    "start_time": "2022-05-11T06:24:20.352Z"
   },
   {
    "duration": 5,
    "start_time": "2022-05-11T06:24:20.813Z"
   },
   {
    "duration": 176,
    "start_time": "2022-05-11T06:24:21.071Z"
   },
   {
    "duration": 6,
    "start_time": "2022-05-11T06:24:21.474Z"
   },
   {
    "duration": 6,
    "start_time": "2022-05-11T06:24:21.871Z"
   },
   {
    "duration": 6,
    "start_time": "2022-05-11T06:24:22.282Z"
   },
   {
    "duration": 8,
    "start_time": "2022-05-11T06:24:23.312Z"
   },
   {
    "duration": 8,
    "start_time": "2022-05-11T06:24:23.324Z"
   },
   {
    "duration": 9,
    "start_time": "2022-05-11T06:24:23.928Z"
   },
   {
    "duration": 6,
    "start_time": "2022-05-11T06:24:24.312Z"
   },
   {
    "duration": 7,
    "start_time": "2022-05-11T06:24:24.699Z"
   },
   {
    "duration": 7,
    "start_time": "2022-05-11T06:24:25.535Z"
   },
   {
    "duration": 1395,
    "start_time": "2022-05-12T10:09:28.012Z"
   },
   {
    "duration": 81,
    "start_time": "2022-05-12T10:09:29.409Z"
   },
   {
    "duration": 51,
    "start_time": "2022-05-12T10:09:29.492Z"
   },
   {
    "duration": 44,
    "start_time": "2022-05-12T10:09:29.546Z"
   },
   {
    "duration": 13,
    "start_time": "2022-05-12T10:09:29.592Z"
   },
   {
    "duration": 6,
    "start_time": "2022-05-12T10:09:29.608Z"
   },
   {
    "duration": 181,
    "start_time": "2022-05-12T10:09:29.616Z"
   },
   {
    "duration": 6,
    "start_time": "2022-05-12T10:09:29.799Z"
   },
   {
    "duration": 5,
    "start_time": "2022-05-12T10:09:29.807Z"
   },
   {
    "duration": 4,
    "start_time": "2022-05-12T10:09:29.815Z"
   },
   {
    "duration": 131,
    "start_time": "2022-05-12T10:09:29.821Z"
   },
   {
    "duration": 8,
    "start_time": "2022-05-12T10:09:29.954Z"
   },
   {
    "duration": 153,
    "start_time": "2022-05-12T10:09:29.964Z"
   },
   {
    "duration": 6,
    "start_time": "2022-05-12T10:09:30.119Z"
   },
   {
    "duration": 12,
    "start_time": "2022-05-12T10:09:30.126Z"
   },
   {
    "duration": 124,
    "start_time": "2022-05-12T10:09:30.141Z"
   },
   {
    "duration": 4,
    "start_time": "2022-05-12T10:09:30.267Z"
   },
   {
    "duration": 124,
    "start_time": "2022-05-12T10:09:30.288Z"
   },
   {
    "duration": 5,
    "start_time": "2022-05-12T10:09:30.415Z"
   },
   {
    "duration": 10,
    "start_time": "2022-05-12T10:09:30.422Z"
   },
   {
    "duration": 23,
    "start_time": "2022-05-12T10:09:30.434Z"
   },
   {
    "duration": 126,
    "start_time": "2022-05-12T10:09:30.459Z"
   },
   {
    "duration": 4,
    "start_time": "2022-05-12T10:09:30.588Z"
   },
   {
    "duration": 141,
    "start_time": "2022-05-12T10:09:30.593Z"
   },
   {
    "duration": 5,
    "start_time": "2022-05-12T10:09:30.736Z"
   },
   {
    "duration": 17,
    "start_time": "2022-05-12T10:09:30.742Z"
   },
   {
    "duration": 20,
    "start_time": "2022-05-12T10:09:30.762Z"
   },
   {
    "duration": 121,
    "start_time": "2022-05-12T10:09:30.789Z"
   },
   {
    "duration": 9,
    "start_time": "2022-05-12T10:09:30.911Z"
   },
   {
    "duration": 9,
    "start_time": "2022-05-12T10:09:30.922Z"
   },
   {
    "duration": 8,
    "start_time": "2022-05-12T10:09:30.933Z"
   },
   {
    "duration": 235,
    "start_time": "2022-05-12T10:09:30.943Z"
   },
   {
    "duration": 12,
    "start_time": "2022-05-12T10:09:31.180Z"
   },
   {
    "duration": 7,
    "start_time": "2022-05-12T10:09:31.193Z"
   },
   {
    "duration": 122,
    "start_time": "2022-05-12T10:09:31.201Z"
   },
   {
    "duration": 6,
    "start_time": "2022-05-12T10:09:31.325Z"
   },
   {
    "duration": 7,
    "start_time": "2022-05-12T10:09:31.332Z"
   },
   {
    "duration": 13,
    "start_time": "2022-05-12T10:09:31.341Z"
   },
   {
    "duration": 7,
    "start_time": "2022-05-12T10:09:31.356Z"
   },
   {
    "duration": 24,
    "start_time": "2022-05-12T10:09:31.365Z"
   },
   {
    "duration": 4,
    "start_time": "2022-05-12T10:09:31.391Z"
   },
   {
    "duration": 116,
    "start_time": "2022-05-12T10:09:31.397Z"
   },
   {
    "duration": 4,
    "start_time": "2022-05-12T10:09:31.515Z"
   },
   {
    "duration": 8,
    "start_time": "2022-05-12T10:09:31.521Z"
   },
   {
    "duration": 7,
    "start_time": "2022-05-12T10:09:31.531Z"
   },
   {
    "duration": 124,
    "start_time": "2022-05-12T10:09:31.540Z"
   },
   {
    "duration": 110,
    "start_time": "2022-05-12T10:09:31.665Z"
   },
   {
    "duration": 16,
    "start_time": "2022-05-12T10:09:31.776Z"
   },
   {
    "duration": 17,
    "start_time": "2022-05-12T10:09:31.794Z"
   },
   {
    "duration": 118,
    "start_time": "2022-05-12T10:09:31.813Z"
   },
   {
    "duration": 5,
    "start_time": "2022-05-12T10:09:31.933Z"
   },
   {
    "duration": 16,
    "start_time": "2022-05-12T10:09:31.940Z"
   },
   {
    "duration": 30,
    "start_time": "2022-05-12T10:09:31.958Z"
   },
   {
    "duration": 9,
    "start_time": "2022-05-12T10:09:31.990Z"
   },
   {
    "duration": 10,
    "start_time": "2022-05-12T10:09:32.001Z"
   },
   {
    "duration": 15,
    "start_time": "2022-05-12T10:09:32.013Z"
   },
   {
    "duration": 12,
    "start_time": "2022-05-12T10:09:32.031Z"
   },
   {
    "duration": 11,
    "start_time": "2022-05-12T10:09:32.046Z"
   },
   {
    "duration": 11,
    "start_time": "2022-05-12T10:09:32.058Z"
   },
   {
    "duration": 9,
    "start_time": "2022-05-12T10:09:32.071Z"
   },
   {
    "duration": 25,
    "start_time": "2022-05-12T10:09:32.082Z"
   },
   {
    "duration": 28,
    "start_time": "2022-05-12T10:09:32.109Z"
   },
   {
    "duration": 12,
    "start_time": "2022-05-12T10:09:32.139Z"
   },
   {
    "duration": 8,
    "start_time": "2022-05-12T10:09:32.153Z"
   },
   {
    "duration": 14,
    "start_time": "2022-05-12T10:09:32.163Z"
   },
   {
    "duration": 17,
    "start_time": "2022-05-12T10:09:32.179Z"
   },
   {
    "duration": 74,
    "start_time": "2022-05-12T10:09:32.198Z"
   },
   {
    "duration": 4,
    "start_time": "2022-05-12T10:09:32.274Z"
   },
   {
    "duration": 23,
    "start_time": "2022-05-12T10:09:32.280Z"
   },
   {
    "duration": 45,
    "start_time": "2022-05-12T10:09:32.305Z"
   },
   {
    "duration": 164,
    "start_time": "2022-05-12T10:09:32.352Z"
   },
   {
    "duration": 175,
    "start_time": "2022-05-12T10:09:32.518Z"
   },
   {
    "duration": 188,
    "start_time": "2022-05-12T10:09:32.695Z"
   },
   {
    "duration": 203,
    "start_time": "2022-05-12T10:09:32.888Z"
   },
   {
    "duration": 10,
    "start_time": "2022-05-12T10:09:33.093Z"
   },
   {
    "duration": 9,
    "start_time": "2022-05-12T10:09:33.105Z"
   },
   {
    "duration": 306,
    "start_time": "2022-05-12T10:09:33.116Z"
   },
   {
    "duration": 224,
    "start_time": "2022-05-12T10:09:33.423Z"
   },
   {
    "duration": 42,
    "start_time": "2022-05-12T10:09:33.649Z"
   },
   {
    "duration": 147,
    "start_time": "2022-05-12T10:09:33.693Z"
   },
   {
    "duration": 25,
    "start_time": "2022-05-12T10:09:33.841Z"
   },
   {
    "duration": 229,
    "start_time": "2022-05-12T10:09:33.887Z"
   },
   {
    "duration": 24,
    "start_time": "2022-05-12T10:09:34.118Z"
   },
   {
    "duration": 208,
    "start_time": "2022-05-12T10:09:34.144Z"
   },
   {
    "duration": 162,
    "start_time": "2022-05-12T10:09:34.354Z"
   },
   {
    "duration": 27,
    "start_time": "2022-05-12T10:09:34.518Z"
   },
   {
    "duration": 297,
    "start_time": "2022-05-12T10:09:34.547Z"
   },
   {
    "duration": 27,
    "start_time": "2022-05-12T10:09:34.846Z"
   },
   {
    "duration": 395,
    "start_time": "2022-05-12T10:09:34.887Z"
   },
   {
    "duration": 25,
    "start_time": "2022-05-12T10:09:35.288Z"
   },
   {
    "duration": 244,
    "start_time": "2022-05-12T10:09:35.315Z"
   },
   {
    "duration": 29,
    "start_time": "2022-05-12T10:09:35.560Z"
   },
   {
    "duration": 8,
    "start_time": "2022-05-12T10:09:35.590Z"
   },
   {
    "duration": 10,
    "start_time": "2022-05-12T10:09:35.599Z"
   },
   {
    "duration": 258,
    "start_time": "2022-05-12T10:09:35.610Z"
   },
   {
    "duration": 18,
    "start_time": "2022-05-12T10:09:35.870Z"
   },
   {
    "duration": 186,
    "start_time": "2022-05-12T10:09:35.890Z"
   },
   {
    "duration": 147,
    "start_time": "2022-05-12T10:09:36.078Z"
   },
   {
    "duration": 154,
    "start_time": "2022-05-12T10:09:36.227Z"
   },
   {
    "duration": 164,
    "start_time": "2022-05-12T10:09:36.382Z"
   },
   {
    "duration": 161,
    "start_time": "2022-05-12T10:09:36.548Z"
   },
   {
    "duration": 184,
    "start_time": "2022-05-12T10:09:36.710Z"
   },
   {
    "duration": 25,
    "start_time": "2022-05-12T10:55:32.471Z"
   },
   {
    "duration": 6,
    "start_time": "2022-05-12T10:55:39.916Z"
   },
   {
    "duration": 5,
    "start_time": "2022-05-12T11:04:33.175Z"
   },
   {
    "duration": 5,
    "start_time": "2022-05-12T11:04:48.668Z"
   },
   {
    "duration": 1431,
    "start_time": "2022-05-12T12:53:29.150Z"
   },
   {
    "duration": 120,
    "start_time": "2022-05-12T12:53:30.584Z"
   },
   {
    "duration": 33,
    "start_time": "2022-05-12T12:53:30.706Z"
   },
   {
    "duration": 21,
    "start_time": "2022-05-12T12:53:31.292Z"
   },
   {
    "duration": 9,
    "start_time": "2022-05-12T12:53:33.475Z"
   },
   {
    "duration": 3,
    "start_time": "2022-05-12T12:53:33.865Z"
   },
   {
    "duration": 136,
    "start_time": "2022-05-12T12:53:34.442Z"
   },
   {
    "duration": 7,
    "start_time": "2022-05-12T12:53:35.355Z"
   },
   {
    "duration": 5,
    "start_time": "2022-05-12T12:53:35.842Z"
   },
   {
    "duration": 5,
    "start_time": "2022-05-12T12:53:36.388Z"
   },
   {
    "duration": 105,
    "start_time": "2022-05-12T12:53:36.949Z"
   },
   {
    "duration": 7,
    "start_time": "2022-05-12T12:53:37.550Z"
   },
   {
    "duration": 113,
    "start_time": "2022-05-12T12:53:38.158Z"
   },
   {
    "duration": 5,
    "start_time": "2022-05-12T12:53:39.042Z"
   },
   {
    "duration": 5,
    "start_time": "2022-05-12T12:53:39.603Z"
   },
   {
    "duration": 99,
    "start_time": "2022-05-12T12:53:40.183Z"
   },
   {
    "duration": 5,
    "start_time": "2022-05-12T12:53:40.994Z"
   },
   {
    "duration": 101,
    "start_time": "2022-05-12T12:53:41.904Z"
   },
   {
    "duration": 6,
    "start_time": "2022-05-12T12:53:42.437Z"
   },
   {
    "duration": 7,
    "start_time": "2022-05-12T12:53:43.041Z"
   },
   {
    "duration": 5,
    "start_time": "2022-05-12T12:53:43.572Z"
   },
   {
    "duration": 105,
    "start_time": "2022-05-12T12:53:44.412Z"
   },
   {
    "duration": 4,
    "start_time": "2022-05-12T12:53:45.244Z"
   },
   {
    "duration": 113,
    "start_time": "2022-05-12T12:53:45.745Z"
   },
   {
    "duration": 5,
    "start_time": "2022-05-12T12:53:46.242Z"
   },
   {
    "duration": 4,
    "start_time": "2022-05-12T12:53:46.655Z"
   },
   {
    "duration": 7,
    "start_time": "2022-05-12T12:53:47.144Z"
   },
   {
    "duration": 104,
    "start_time": "2022-05-12T12:53:47.976Z"
   },
   {
    "duration": 8,
    "start_time": "2022-05-12T12:53:50.096Z"
   },
   {
    "duration": 5,
    "start_time": "2022-05-12T12:53:50.876Z"
   },
   {
    "duration": 5,
    "start_time": "2022-05-12T12:53:51.504Z"
   },
   {
    "duration": 182,
    "start_time": "2022-05-12T12:53:52.108Z"
   },
   {
    "duration": 5,
    "start_time": "2022-05-12T12:53:53.170Z"
   },
   {
    "duration": 4,
    "start_time": "2022-05-12T12:53:54.061Z"
   },
   {
    "duration": 96,
    "start_time": "2022-05-12T12:53:54.732Z"
   },
   {
    "duration": 7,
    "start_time": "2022-05-12T12:53:56.480Z"
   },
   {
    "duration": 8,
    "start_time": "2022-05-12T12:53:56.489Z"
   },
   {
    "duration": 5,
    "start_time": "2022-05-12T12:53:56.526Z"
   },
   {
    "duration": 6,
    "start_time": "2022-05-12T12:53:57.138Z"
   },
   {
    "duration": 5,
    "start_time": "2022-05-12T12:53:57.857Z"
   },
   {
    "duration": 4,
    "start_time": "2022-05-12T12:53:58.397Z"
   },
   {
    "duration": 109,
    "start_time": "2022-05-12T12:53:58.901Z"
   },
   {
    "duration": 4,
    "start_time": "2022-05-12T12:53:59.670Z"
   },
   {
    "duration": 6,
    "start_time": "2022-05-12T12:54:01.365Z"
   },
   {
    "duration": 52,
    "start_time": "2022-05-12T12:54:01.373Z"
   },
   {
    "duration": 151,
    "start_time": "2022-05-12T12:54:01.427Z"
   },
   {
    "duration": 105,
    "start_time": "2022-05-12T12:54:02.000Z"
   },
   {
    "duration": 5,
    "start_time": "2022-05-12T12:54:02.411Z"
   },
   {
    "duration": 4,
    "start_time": "2022-05-12T12:54:02.866Z"
   },
   {
    "duration": 125,
    "start_time": "2022-05-12T12:54:03.283Z"
   },
   {
    "duration": 5,
    "start_time": "2022-05-12T12:54:03.718Z"
   },
   {
    "duration": 4,
    "start_time": "2022-05-12T12:54:05.459Z"
   },
   {
    "duration": 7,
    "start_time": "2022-05-12T12:54:05.465Z"
   },
   {
    "duration": 8,
    "start_time": "2022-05-12T12:54:05.474Z"
   },
   {
    "duration": 5,
    "start_time": "2022-05-12T12:54:05.748Z"
   },
   {
    "duration": 6,
    "start_time": "2022-05-12T12:54:06.285Z"
   },
   {
    "duration": 5,
    "start_time": "2022-05-12T12:54:06.789Z"
   },
   {
    "duration": 6,
    "start_time": "2022-05-12T12:54:07.302Z"
   },
   {
    "duration": 5,
    "start_time": "2022-05-12T12:54:08.307Z"
   },
   {
    "duration": 4,
    "start_time": "2022-05-12T12:54:10.460Z"
   },
   {
    "duration": 24,
    "start_time": "2022-05-12T12:54:10.466Z"
   },
   {
    "duration": 4,
    "start_time": "2022-05-12T12:54:11.294Z"
   },
   {
    "duration": 19,
    "start_time": "2022-05-12T12:54:12.330Z"
   },
   {
    "duration": 5,
    "start_time": "2022-05-12T12:54:13.408Z"
   },
   {
    "duration": 5,
    "start_time": "2022-05-12T12:54:14.276Z"
   },
   {
    "duration": 4,
    "start_time": "2022-05-12T12:54:15.187Z"
   },
   {
    "duration": 3,
    "start_time": "2022-05-12T12:54:16.376Z"
   },
   {
    "duration": 59,
    "start_time": "2022-05-12T12:54:17.235Z"
   },
   {
    "duration": 4,
    "start_time": "2022-05-12T12:54:18.038Z"
   },
   {
    "duration": 4,
    "start_time": "2022-05-12T12:54:18.936Z"
   },
   {
    "duration": 25,
    "start_time": "2022-05-12T12:54:21.034Z"
   },
   {
    "duration": 154,
    "start_time": "2022-05-12T12:54:22.048Z"
   },
   {
    "duration": 151,
    "start_time": "2022-05-12T12:54:22.681Z"
   },
   {
    "duration": 154,
    "start_time": "2022-05-12T12:54:23.341Z"
   },
   {
    "duration": 163,
    "start_time": "2022-05-12T12:54:23.974Z"
   },
   {
    "duration": 10,
    "start_time": "2022-05-12T12:54:24.636Z"
   },
   {
    "duration": 4,
    "start_time": "2022-05-12T12:54:25.118Z"
   },
   {
    "duration": 282,
    "start_time": "2022-05-12T12:54:25.590Z"
   },
   {
    "duration": 195,
    "start_time": "2022-05-12T12:54:26.337Z"
   },
   {
    "duration": 30,
    "start_time": "2022-05-12T12:54:27.202Z"
   },
   {
    "duration": 128,
    "start_time": "2022-05-12T12:54:28.750Z"
   },
   {
    "duration": 24,
    "start_time": "2022-05-12T12:54:30.149Z"
   },
   {
    "duration": 232,
    "start_time": "2022-05-12T12:54:30.403Z"
   },
   {
    "duration": 27,
    "start_time": "2022-05-12T12:54:31.643Z"
   },
   {
    "duration": 198,
    "start_time": "2022-05-12T12:54:31.924Z"
   },
   {
    "duration": 151,
    "start_time": "2022-05-12T12:54:33.474Z"
   },
   {
    "duration": 25,
    "start_time": "2022-05-12T12:54:34.395Z"
   },
   {
    "duration": 308,
    "start_time": "2022-05-12T12:54:34.746Z"
   },
   {
    "duration": 25,
    "start_time": "2022-05-12T12:54:36.113Z"
   },
   {
    "duration": 384,
    "start_time": "2022-05-12T12:54:38.573Z"
   },
   {
    "duration": 24,
    "start_time": "2022-05-12T12:54:40.358Z"
   },
   {
    "duration": 228,
    "start_time": "2022-05-12T12:54:40.646Z"
   },
   {
    "duration": 19,
    "start_time": "2022-05-12T12:54:42.374Z"
   },
   {
    "duration": 2130,
    "start_time": "2022-05-13T18:52:22.681Z"
   },
   {
    "duration": 150,
    "start_time": "2022-05-13T18:52:24.815Z"
   },
   {
    "duration": 56,
    "start_time": "2022-05-13T18:52:25.391Z"
   },
   {
    "duration": 25,
    "start_time": "2022-05-13T18:52:26.832Z"
   },
   {
    "duration": 22,
    "start_time": "2022-05-13T18:52:32.151Z"
   },
   {
    "duration": 5,
    "start_time": "2022-05-13T18:52:33.321Z"
   },
   {
    "duration": 306,
    "start_time": "2022-05-13T18:52:33.497Z"
   },
   {
    "duration": 11,
    "start_time": "2022-05-13T18:52:33.905Z"
   },
   {
    "duration": 8,
    "start_time": "2022-05-13T18:52:34.145Z"
   },
   {
    "duration": 6,
    "start_time": "2022-05-13T18:52:34.281Z"
   },
   {
    "duration": 193,
    "start_time": "2022-05-13T18:52:34.485Z"
   },
   {
    "duration": 11,
    "start_time": "2022-05-13T18:52:34.901Z"
   },
   {
    "duration": 266,
    "start_time": "2022-05-13T18:52:35.302Z"
   },
   {
    "duration": 9,
    "start_time": "2022-05-13T18:52:35.579Z"
   },
   {
    "duration": 18,
    "start_time": "2022-05-13T18:52:35.600Z"
   },
   {
    "duration": 239,
    "start_time": "2022-05-13T18:52:35.777Z"
   },
   {
    "duration": 5,
    "start_time": "2022-05-13T18:52:36.019Z"
   },
   {
    "duration": 200,
    "start_time": "2022-05-13T18:52:36.316Z"
   },
   {
    "duration": 8,
    "start_time": "2022-05-13T18:52:36.519Z"
   },
   {
    "duration": 12,
    "start_time": "2022-05-13T18:52:36.731Z"
   },
   {
    "duration": 12,
    "start_time": "2022-05-13T18:52:36.945Z"
   },
   {
    "duration": 195,
    "start_time": "2022-05-13T18:52:37.404Z"
   },
   {
    "duration": 15,
    "start_time": "2022-05-13T18:52:37.685Z"
   },
   {
    "duration": 214,
    "start_time": "2022-05-13T18:52:37.869Z"
   },
   {
    "duration": 9,
    "start_time": "2022-05-13T18:52:38.086Z"
   },
   {
    "duration": 5,
    "start_time": "2022-05-13T18:52:38.370Z"
   },
   {
    "duration": 10,
    "start_time": "2022-05-13T18:52:38.569Z"
   },
   {
    "duration": 212,
    "start_time": "2022-05-13T18:52:38.785Z"
   },
   {
    "duration": 14,
    "start_time": "2022-05-13T18:52:39.121Z"
   },
   {
    "duration": 10,
    "start_time": "2022-05-13T18:52:39.394Z"
   },
   {
    "duration": 9,
    "start_time": "2022-05-13T18:52:39.543Z"
   },
   {
    "duration": 325,
    "start_time": "2022-05-13T18:52:39.769Z"
   },
   {
    "duration": 7,
    "start_time": "2022-05-13T18:52:40.097Z"
   },
   {
    "duration": 6,
    "start_time": "2022-05-13T18:52:40.201Z"
   },
   {
    "duration": 181,
    "start_time": "2022-05-13T18:52:40.407Z"
   },
   {
    "duration": 11,
    "start_time": "2022-05-13T18:52:40.677Z"
   },
   {
    "duration": 6,
    "start_time": "2022-05-13T18:52:40.913Z"
   },
   {
    "duration": 7,
    "start_time": "2022-05-13T18:52:41.143Z"
   },
   {
    "duration": 7,
    "start_time": "2022-05-13T18:52:41.593Z"
   },
   {
    "duration": 7,
    "start_time": "2022-05-13T18:52:41.935Z"
   },
   {
    "duration": 5,
    "start_time": "2022-05-13T18:52:42.169Z"
   },
   {
    "duration": 205,
    "start_time": "2022-05-13T18:52:42.419Z"
   },
   {
    "duration": 5,
    "start_time": "2022-05-13T18:52:42.773Z"
   },
   {
    "duration": 8,
    "start_time": "2022-05-13T18:52:43.123Z"
   },
   {
    "duration": 5,
    "start_time": "2022-05-13T18:52:43.385Z"
   },
   {
    "duration": 241,
    "start_time": "2022-05-13T18:52:43.585Z"
   },
   {
    "duration": 232,
    "start_time": "2022-05-13T18:52:44.466Z"
   },
   {
    "duration": 8,
    "start_time": "2022-05-13T18:52:44.799Z"
   },
   {
    "duration": 5,
    "start_time": "2022-05-13T18:52:45.015Z"
   },
   {
    "duration": 259,
    "start_time": "2022-05-13T18:52:45.277Z"
   },
   {
    "duration": 6,
    "start_time": "2022-05-13T18:52:45.539Z"
   },
   {
    "duration": 6,
    "start_time": "2022-05-13T18:52:45.761Z"
   },
   {
    "duration": 7,
    "start_time": "2022-05-13T18:52:46.001Z"
   },
   {
    "duration": 7,
    "start_time": "2022-05-13T18:52:46.249Z"
   },
   {
    "duration": 8,
    "start_time": "2022-05-13T18:52:46.489Z"
   },
   {
    "duration": 7,
    "start_time": "2022-05-13T18:52:46.723Z"
   },
   {
    "duration": 7,
    "start_time": "2022-05-13T18:52:46.977Z"
   },
   {
    "duration": 7,
    "start_time": "2022-05-13T18:52:47.253Z"
   },
   {
    "duration": 10,
    "start_time": "2022-05-13T18:53:08.673Z"
   },
   {
    "duration": 6,
    "start_time": "2022-05-13T18:53:09.393Z"
   },
   {
    "duration": 6,
    "start_time": "2022-05-13T18:53:10.132Z"
   },
   {
    "duration": 5,
    "start_time": "2022-05-13T18:53:10.519Z"
   },
   {
    "duration": 28,
    "start_time": "2022-05-13T18:53:10.907Z"
   },
   {
    "duration": 8,
    "start_time": "2022-05-13T18:53:11.320Z"
   },
   {
    "duration": 7,
    "start_time": "2022-05-13T18:53:11.723Z"
   },
   {
    "duration": 6,
    "start_time": "2022-05-13T18:53:12.293Z"
   },
   {
    "duration": 6,
    "start_time": "2022-05-13T18:53:12.935Z"
   },
   {
    "duration": 171,
    "start_time": "2022-05-13T18:53:13.190Z"
   },
   {
    "duration": 6,
    "start_time": "2022-05-13T18:53:13.481Z"
   },
   {
    "duration": 7,
    "start_time": "2022-05-13T18:53:13.714Z"
   },
   {
    "duration": 41,
    "start_time": "2022-05-13T18:53:16.877Z"
   },
   {
    "duration": 344,
    "start_time": "2022-05-13T18:53:17.717Z"
   },
   {
    "duration": 317,
    "start_time": "2022-05-13T18:53:18.293Z"
   },
   {
    "duration": 340,
    "start_time": "2022-05-13T18:53:18.889Z"
   },
   {
    "duration": 462,
    "start_time": "2022-05-13T18:53:19.708Z"
   },
   {
    "duration": 25,
    "start_time": "2022-05-13T18:53:20.477Z"
   },
   {
    "duration": 10,
    "start_time": "2022-05-13T18:53:21.082Z"
   },
   {
    "duration": 554,
    "start_time": "2022-05-13T18:53:21.461Z"
   },
   {
    "duration": 407,
    "start_time": "2022-05-13T18:53:24.563Z"
   },
   {
    "duration": 63,
    "start_time": "2022-05-13T18:53:29.132Z"
   },
   {
    "duration": 196,
    "start_time": "2022-05-13T18:55:20.826Z"
   },
   {
    "duration": 2741,
    "start_time": "2022-05-13T18:55:27.677Z"
   },
   {
    "duration": 348,
    "start_time": "2022-05-13T18:55:51.933Z"
   },
   {
    "duration": 5,
    "start_time": "2022-05-13T19:04:20.330Z"
   },
   {
    "duration": 2170,
    "start_time": "2022-05-13T19:04:25.479Z"
   },
   {
    "duration": 19,
    "start_time": "2022-05-13T19:09:40.002Z"
   },
   {
    "duration": 101,
    "start_time": "2022-05-13T19:12:42.981Z"
   },
   {
    "duration": 46,
    "start_time": "2022-05-13T19:12:47.999Z"
   },
   {
    "duration": 84,
    "start_time": "2022-05-13T19:13:02.040Z"
   },
   {
    "duration": 1724,
    "start_time": "2022-05-13T19:13:06.131Z"
   },
   {
    "duration": 129,
    "start_time": "2022-05-13T19:13:07.858Z"
   },
   {
    "duration": 58,
    "start_time": "2022-05-13T19:13:08.268Z"
   },
   {
    "duration": 30,
    "start_time": "2022-05-13T19:13:11.672Z"
   },
   {
    "duration": 15,
    "start_time": "2022-05-13T19:13:15.436Z"
   },
   {
    "duration": 6,
    "start_time": "2022-05-13T19:13:20.591Z"
   },
   {
    "duration": 272,
    "start_time": "2022-05-13T19:13:24.069Z"
   },
   {
    "duration": 7,
    "start_time": "2022-05-13T19:13:29.523Z"
   },
   {
    "duration": 116,
    "start_time": "2022-05-13T19:13:33.747Z"
   },
   {
    "duration": 17,
    "start_time": "2022-05-13T19:13:51.171Z"
   },
   {
    "duration": 15,
    "start_time": "2022-05-13T19:13:59.121Z"
   },
   {
    "duration": 14,
    "start_time": "2022-05-13T19:14:20.331Z"
   },
   {
    "duration": 15,
    "start_time": "2022-05-13T19:14:24.325Z"
   },
   {
    "duration": 15,
    "start_time": "2022-05-13T19:14:54.019Z"
   },
   {
    "duration": 14,
    "start_time": "2022-05-13T19:14:54.122Z"
   },
   {
    "duration": 20,
    "start_time": "2022-05-13T19:14:59.171Z"
   },
   {
    "duration": 15,
    "start_time": "2022-05-13T19:15:10.186Z"
   },
   {
    "duration": 13,
    "start_time": "2022-05-13T19:15:20.502Z"
   },
   {
    "duration": 12,
    "start_time": "2022-05-13T19:20:26.803Z"
   },
   {
    "duration": 4,
    "start_time": "2022-05-13T19:22:50.281Z"
   },
   {
    "duration": 102,
    "start_time": "2022-05-13T19:22:54.001Z"
   },
   {
    "duration": 45,
    "start_time": "2022-05-13T19:22:55.681Z"
   },
   {
    "duration": 20,
    "start_time": "2022-05-13T19:22:57.204Z"
   },
   {
    "duration": 12,
    "start_time": "2022-05-13T19:23:06.332Z"
   },
   {
    "duration": 4,
    "start_time": "2022-05-13T19:23:07.690Z"
   },
   {
    "duration": 202,
    "start_time": "2022-05-13T19:23:08.308Z"
   },
   {
    "duration": 7,
    "start_time": "2022-05-13T19:23:14.198Z"
   },
   {
    "duration": 19,
    "start_time": "2022-05-13T19:23:15.039Z"
   },
   {
    "duration": 24,
    "start_time": "2022-05-13T19:23:20.352Z"
   },
   {
    "duration": 18,
    "start_time": "2022-05-13T19:23:23.343Z"
   },
   {
    "duration": 23,
    "start_time": "2022-05-13T19:23:23.860Z"
   },
   {
    "duration": 19,
    "start_time": "2022-05-13T19:23:28.037Z"
   },
   {
    "duration": 13,
    "start_time": "2022-05-13T19:23:33.135Z"
   },
   {
    "duration": 15,
    "start_time": "2022-05-13T19:23:42.804Z"
   },
   {
    "duration": 1647,
    "start_time": "2022-05-13T19:23:53.583Z"
   },
   {
    "duration": 109,
    "start_time": "2022-05-13T19:23:57.206Z"
   },
   {
    "duration": 51,
    "start_time": "2022-05-13T19:23:58.197Z"
   },
   {
    "duration": 22,
    "start_time": "2022-05-13T19:23:59.516Z"
   },
   {
    "duration": 11,
    "start_time": "2022-05-13T19:24:02.637Z"
   },
   {
    "duration": 5,
    "start_time": "2022-05-13T19:24:04.584Z"
   },
   {
    "duration": 257,
    "start_time": "2022-05-13T19:24:06.253Z"
   },
   {
    "duration": 176,
    "start_time": "2022-05-13T19:24:19.431Z"
   },
   {
    "duration": 199,
    "start_time": "2022-05-13T19:24:29.179Z"
   },
   {
    "duration": 192,
    "start_time": "2022-05-13T19:24:50.787Z"
   },
   {
    "duration": 201,
    "start_time": "2022-05-13T19:25:05.461Z"
   },
   {
    "duration": 221,
    "start_time": "2022-05-13T19:25:42.512Z"
   },
   {
    "duration": 254,
    "start_time": "2022-05-13T19:26:00.536Z"
   },
   {
    "duration": 9,
    "start_time": "2022-05-13T19:26:19.143Z"
   },
   {
    "duration": 194,
    "start_time": "2022-05-13T19:26:26.024Z"
   },
   {
    "duration": 330,
    "start_time": "2022-05-13T19:26:55.463Z"
   },
   {
    "duration": 194,
    "start_time": "2022-05-13T19:27:01.427Z"
   },
   {
    "duration": 10,
    "start_time": "2022-05-13T19:27:59.179Z"
   },
   {
    "duration": 189,
    "start_time": "2022-05-13T19:30:21.874Z"
   },
   {
    "duration": 209,
    "start_time": "2022-05-13T19:32:38.132Z"
   },
   {
    "duration": 7,
    "start_time": "2022-05-13T19:33:47.684Z"
   },
   {
    "duration": 172,
    "start_time": "2022-05-13T19:33:50.304Z"
   },
   {
    "duration": 21,
    "start_time": "2022-05-13T19:33:59.958Z"
   },
   {
    "duration": 1325,
    "start_time": "2022-05-14T06:00:41.720Z"
   },
   {
    "duration": 88,
    "start_time": "2022-05-14T06:00:45.193Z"
   },
   {
    "duration": 32,
    "start_time": "2022-05-14T06:00:46.172Z"
   },
   {
    "duration": 3,
    "start_time": "2022-05-14T06:01:05.729Z"
   },
   {
    "duration": 77,
    "start_time": "2022-05-14T06:01:06.749Z"
   },
   {
    "duration": 28,
    "start_time": "2022-05-14T06:01:07.408Z"
   },
   {
    "duration": 16,
    "start_time": "2022-05-14T06:01:08.929Z"
   },
   {
    "duration": 8,
    "start_time": "2022-05-14T06:01:10.149Z"
   },
   {
    "duration": 4,
    "start_time": "2022-05-14T06:01:11.968Z"
   },
   {
    "duration": 136,
    "start_time": "2022-05-14T06:01:12.869Z"
   },
   {
    "duration": 5,
    "start_time": "2022-05-14T06:01:14.428Z"
   },
   {
    "duration": 100,
    "start_time": "2022-05-14T06:01:15.200Z"
   },
   {
    "duration": 11,
    "start_time": "2022-05-14T06:01:17.029Z"
   },
   {
    "duration": 11,
    "start_time": "2022-05-14T06:01:18.068Z"
   },
   {
    "duration": 11,
    "start_time": "2022-05-14T06:01:18.669Z"
   },
   {
    "duration": 12,
    "start_time": "2022-05-14T06:01:19.385Z"
   },
   {
    "duration": 12,
    "start_time": "2022-05-14T06:01:20.029Z"
   },
   {
    "duration": 3,
    "start_time": "2022-05-14T06:01:37.488Z"
   },
   {
    "duration": 9,
    "start_time": "2022-05-14T06:01:43.680Z"
   },
   {
    "duration": 1151,
    "start_time": "2022-05-14T06:46:24.614Z"
   },
   {
    "duration": 76,
    "start_time": "2022-05-14T06:46:25.767Z"
   },
   {
    "duration": 32,
    "start_time": "2022-05-14T06:46:26.706Z"
   },
   {
    "duration": 14,
    "start_time": "2022-05-14T06:46:31.946Z"
   },
   {
    "duration": 8,
    "start_time": "2022-05-14T06:46:32.906Z"
   },
   {
    "duration": 3,
    "start_time": "2022-05-14T06:46:34.186Z"
   },
   {
    "duration": 128,
    "start_time": "2022-05-14T06:46:35.088Z"
   },
   {
    "duration": 6,
    "start_time": "2022-05-14T06:46:40.025Z"
   },
   {
    "duration": 105,
    "start_time": "2022-05-14T06:46:44.766Z"
   },
   {
    "duration": 11,
    "start_time": "2022-05-14T06:46:50.798Z"
   },
   {
    "duration": 3,
    "start_time": "2022-05-14T06:49:48.365Z"
   },
   {
    "duration": 74,
    "start_time": "2022-05-14T06:49:51.004Z"
   },
   {
    "duration": 28,
    "start_time": "2022-05-14T06:49:52.343Z"
   },
   {
    "duration": 15,
    "start_time": "2022-05-14T06:49:54.304Z"
   },
   {
    "duration": 9,
    "start_time": "2022-05-14T06:49:56.336Z"
   },
   {
    "duration": 3,
    "start_time": "2022-05-14T06:50:19.773Z"
   },
   {
    "duration": 117,
    "start_time": "2022-05-14T06:50:22.334Z"
   },
   {
    "duration": 5,
    "start_time": "2022-05-14T06:50:34.782Z"
   },
   {
    "duration": 12,
    "start_time": "2022-05-14T06:50:37.762Z"
   },
   {
    "duration": 12,
    "start_time": "2022-05-14T06:50:39.112Z"
   },
   {
    "duration": 16,
    "start_time": "2022-05-14T06:50:43.615Z"
   },
   {
    "duration": 1264,
    "start_time": "2022-05-15T10:19:36.966Z"
   },
   {
    "duration": 74,
    "start_time": "2022-05-15T10:19:39.471Z"
   },
   {
    "duration": 31,
    "start_time": "2022-05-15T10:19:40.425Z"
   },
   {
    "duration": 14,
    "start_time": "2022-05-15T10:19:41.800Z"
   },
   {
    "duration": 8,
    "start_time": "2022-05-15T10:19:43.982Z"
   },
   {
    "duration": 3,
    "start_time": "2022-05-15T10:19:48.516Z"
   },
   {
    "duration": 116,
    "start_time": "2022-05-15T10:20:05.643Z"
   },
   {
    "duration": 5,
    "start_time": "2022-05-15T10:20:11.185Z"
   },
   {
    "duration": 90,
    "start_time": "2022-05-15T10:20:18.355Z"
   },
   {
    "duration": 1108,
    "start_time": "2022-05-15T10:20:58.965Z"
   },
   {
    "duration": 70,
    "start_time": "2022-05-15T10:21:00.075Z"
   },
   {
    "duration": 28,
    "start_time": "2022-05-15T10:21:00.147Z"
   },
   {
    "duration": 14,
    "start_time": "2022-05-15T10:21:00.177Z"
   },
   {
    "duration": 8,
    "start_time": "2022-05-15T10:21:00.193Z"
   },
   {
    "duration": 4,
    "start_time": "2022-05-15T10:21:00.202Z"
   },
   {
    "duration": 149,
    "start_time": "2022-05-15T10:21:00.207Z"
   },
   {
    "duration": 5,
    "start_time": "2022-05-15T10:21:00.362Z"
   },
   {
    "duration": 104,
    "start_time": "2022-05-15T10:21:00.368Z"
   },
   {
    "duration": 0,
    "start_time": "2022-05-15T10:21:00.475Z"
   },
   {
    "duration": 0,
    "start_time": "2022-05-15T10:21:00.476Z"
   },
   {
    "duration": 0,
    "start_time": "2022-05-15T10:21:00.477Z"
   },
   {
    "duration": 0,
    "start_time": "2022-05-15T10:21:00.478Z"
   },
   {
    "duration": 0,
    "start_time": "2022-05-15T10:21:00.479Z"
   },
   {
    "duration": 0,
    "start_time": "2022-05-15T10:21:00.480Z"
   },
   {
    "duration": 0,
    "start_time": "2022-05-15T10:21:00.481Z"
   },
   {
    "duration": 0,
    "start_time": "2022-05-15T10:21:00.481Z"
   },
   {
    "duration": 0,
    "start_time": "2022-05-15T10:21:00.482Z"
   },
   {
    "duration": 0,
    "start_time": "2022-05-15T10:21:00.483Z"
   },
   {
    "duration": 0,
    "start_time": "2022-05-15T10:21:00.484Z"
   },
   {
    "duration": 0,
    "start_time": "2022-05-15T10:21:00.484Z"
   },
   {
    "duration": 0,
    "start_time": "2022-05-15T10:21:00.485Z"
   },
   {
    "duration": 0,
    "start_time": "2022-05-15T10:21:00.486Z"
   },
   {
    "duration": 0,
    "start_time": "2022-05-15T10:21:00.487Z"
   },
   {
    "duration": 0,
    "start_time": "2022-05-15T10:21:00.488Z"
   },
   {
    "duration": 0,
    "start_time": "2022-05-15T10:21:00.489Z"
   },
   {
    "duration": 0,
    "start_time": "2022-05-15T10:21:00.489Z"
   },
   {
    "duration": 0,
    "start_time": "2022-05-15T10:21:00.490Z"
   },
   {
    "duration": 0,
    "start_time": "2022-05-15T10:21:00.491Z"
   },
   {
    "duration": 0,
    "start_time": "2022-05-15T10:21:00.492Z"
   },
   {
    "duration": 0,
    "start_time": "2022-05-15T10:21:00.493Z"
   },
   {
    "duration": 0,
    "start_time": "2022-05-15T10:21:00.494Z"
   },
   {
    "duration": 0,
    "start_time": "2022-05-15T10:21:00.495Z"
   },
   {
    "duration": 0,
    "start_time": "2022-05-15T10:21:00.495Z"
   },
   {
    "duration": 0,
    "start_time": "2022-05-15T10:21:00.496Z"
   },
   {
    "duration": 0,
    "start_time": "2022-05-15T10:21:00.496Z"
   },
   {
    "duration": 0,
    "start_time": "2022-05-15T10:21:00.497Z"
   },
   {
    "duration": 0,
    "start_time": "2022-05-15T10:21:00.498Z"
   },
   {
    "duration": 0,
    "start_time": "2022-05-15T10:21:00.499Z"
   },
   {
    "duration": 0,
    "start_time": "2022-05-15T10:21:00.500Z"
   },
   {
    "duration": 0,
    "start_time": "2022-05-15T10:21:00.500Z"
   },
   {
    "duration": 0,
    "start_time": "2022-05-15T10:21:00.501Z"
   },
   {
    "duration": 0,
    "start_time": "2022-05-15T10:21:00.502Z"
   },
   {
    "duration": 0,
    "start_time": "2022-05-15T10:21:00.503Z"
   },
   {
    "duration": 0,
    "start_time": "2022-05-15T10:21:00.504Z"
   },
   {
    "duration": 0,
    "start_time": "2022-05-15T10:21:00.505Z"
   },
   {
    "duration": 0,
    "start_time": "2022-05-15T10:21:00.506Z"
   },
   {
    "duration": 0,
    "start_time": "2022-05-15T10:21:00.506Z"
   },
   {
    "duration": 0,
    "start_time": "2022-05-15T10:21:00.507Z"
   },
   {
    "duration": 0,
    "start_time": "2022-05-15T10:21:00.508Z"
   },
   {
    "duration": 0,
    "start_time": "2022-05-15T10:21:00.509Z"
   },
   {
    "duration": 0,
    "start_time": "2022-05-15T10:21:00.510Z"
   },
   {
    "duration": 0,
    "start_time": "2022-05-15T10:21:00.562Z"
   },
   {
    "duration": 0,
    "start_time": "2022-05-15T10:21:00.563Z"
   },
   {
    "duration": 0,
    "start_time": "2022-05-15T10:21:00.564Z"
   },
   {
    "duration": 0,
    "start_time": "2022-05-15T10:21:00.565Z"
   },
   {
    "duration": 0,
    "start_time": "2022-05-15T10:21:00.566Z"
   },
   {
    "duration": 0,
    "start_time": "2022-05-15T10:21:00.567Z"
   },
   {
    "duration": 0,
    "start_time": "2022-05-15T10:21:00.568Z"
   },
   {
    "duration": 0,
    "start_time": "2022-05-15T10:21:00.569Z"
   },
   {
    "duration": 0,
    "start_time": "2022-05-15T10:21:00.569Z"
   },
   {
    "duration": 0,
    "start_time": "2022-05-15T10:21:00.570Z"
   },
   {
    "duration": 0,
    "start_time": "2022-05-15T10:21:00.571Z"
   },
   {
    "duration": 0,
    "start_time": "2022-05-15T10:21:00.572Z"
   },
   {
    "duration": 0,
    "start_time": "2022-05-15T10:21:00.573Z"
   },
   {
    "duration": 0,
    "start_time": "2022-05-15T10:21:00.574Z"
   },
   {
    "duration": 0,
    "start_time": "2022-05-15T10:21:00.574Z"
   },
   {
    "duration": 0,
    "start_time": "2022-05-15T10:21:00.575Z"
   },
   {
    "duration": 0,
    "start_time": "2022-05-15T10:21:00.577Z"
   },
   {
    "duration": 0,
    "start_time": "2022-05-15T10:21:00.578Z"
   },
   {
    "duration": 0,
    "start_time": "2022-05-15T10:21:00.579Z"
   },
   {
    "duration": 0,
    "start_time": "2022-05-15T10:21:00.580Z"
   },
   {
    "duration": 0,
    "start_time": "2022-05-15T10:21:00.581Z"
   },
   {
    "duration": 0,
    "start_time": "2022-05-15T10:21:00.582Z"
   },
   {
    "duration": 0,
    "start_time": "2022-05-15T10:21:00.583Z"
   },
   {
    "duration": 0,
    "start_time": "2022-05-15T10:21:00.583Z"
   },
   {
    "duration": 0,
    "start_time": "2022-05-15T10:21:00.584Z"
   },
   {
    "duration": 0,
    "start_time": "2022-05-15T10:21:00.585Z"
   },
   {
    "duration": 0,
    "start_time": "2022-05-15T10:21:00.586Z"
   },
   {
    "duration": 0,
    "start_time": "2022-05-15T10:21:00.587Z"
   },
   {
    "duration": 0,
    "start_time": "2022-05-15T10:21:00.588Z"
   },
   {
    "duration": 0,
    "start_time": "2022-05-15T10:21:00.590Z"
   },
   {
    "duration": 0,
    "start_time": "2022-05-15T10:21:00.590Z"
   },
   {
    "duration": 0,
    "start_time": "2022-05-15T10:21:00.591Z"
   },
   {
    "duration": 0,
    "start_time": "2022-05-15T10:21:00.592Z"
   },
   {
    "duration": 0,
    "start_time": "2022-05-15T10:21:00.593Z"
   },
   {
    "duration": 0,
    "start_time": "2022-05-15T10:21:00.594Z"
   },
   {
    "duration": 0,
    "start_time": "2022-05-15T10:21:00.595Z"
   },
   {
    "duration": 0,
    "start_time": "2022-05-15T10:21:00.596Z"
   },
   {
    "duration": 0,
    "start_time": "2022-05-15T10:21:00.597Z"
   },
   {
    "duration": 0,
    "start_time": "2022-05-15T10:21:00.597Z"
   },
   {
    "duration": 0,
    "start_time": "2022-05-15T10:21:00.599Z"
   },
   {
    "duration": 0,
    "start_time": "2022-05-15T10:21:00.600Z"
   },
   {
    "duration": 0,
    "start_time": "2022-05-15T10:21:00.600Z"
   },
   {
    "duration": 0,
    "start_time": "2022-05-15T10:21:00.662Z"
   },
   {
    "duration": 0,
    "start_time": "2022-05-15T10:21:00.663Z"
   },
   {
    "duration": 0,
    "start_time": "2022-05-15T10:21:00.664Z"
   },
   {
    "duration": 0,
    "start_time": "2022-05-15T10:21:00.664Z"
   },
   {
    "duration": 2,
    "start_time": "2022-05-15T10:21:06.968Z"
   },
   {
    "duration": 67,
    "start_time": "2022-05-15T10:21:08.495Z"
   },
   {
    "duration": 27,
    "start_time": "2022-05-15T10:21:09.562Z"
   },
   {
    "duration": 14,
    "start_time": "2022-05-15T10:21:12.243Z"
   },
   {
    "duration": 7,
    "start_time": "2022-05-15T10:21:13.261Z"
   },
   {
    "duration": 3,
    "start_time": "2022-05-15T10:21:15.706Z"
   },
   {
    "duration": 112,
    "start_time": "2022-05-15T10:21:16.660Z"
   },
   {
    "duration": 83,
    "start_time": "2022-05-15T10:21:25.465Z"
   },
   {
    "duration": 7,
    "start_time": "2022-05-15T10:21:29.826Z"
   },
   {
    "duration": 103,
    "start_time": "2022-05-15T10:21:31.194Z"
   },
   {
    "duration": 5,
    "start_time": "2022-05-15T10:21:37.662Z"
   },
   {
    "duration": 4,
    "start_time": "2022-05-15T10:21:39.716Z"
   },
   {
    "duration": 1265,
    "start_time": "2022-05-15T10:21:42.945Z"
   },
   {
    "duration": 1120,
    "start_time": "2022-05-15T10:21:53.007Z"
   },
   {
    "duration": 79,
    "start_time": "2022-05-15T10:21:54.129Z"
   },
   {
    "duration": 31,
    "start_time": "2022-05-15T10:21:54.209Z"
   },
   {
    "duration": 28,
    "start_time": "2022-05-15T10:21:54.243Z"
   },
   {
    "duration": 9,
    "start_time": "2022-05-15T10:21:54.273Z"
   },
   {
    "duration": 4,
    "start_time": "2022-05-15T10:21:54.284Z"
   },
   {
    "duration": 149,
    "start_time": "2022-05-15T10:21:54.290Z"
   },
   {
    "duration": 5,
    "start_time": "2022-05-15T10:21:54.440Z"
   },
   {
    "duration": 101,
    "start_time": "2022-05-15T10:21:54.446Z"
   },
   {
    "duration": 0,
    "start_time": "2022-05-15T10:21:54.550Z"
   },
   {
    "duration": 0,
    "start_time": "2022-05-15T10:21:54.551Z"
   },
   {
    "duration": 0,
    "start_time": "2022-05-15T10:21:54.552Z"
   },
   {
    "duration": 1,
    "start_time": "2022-05-15T10:21:54.552Z"
   },
   {
    "duration": 0,
    "start_time": "2022-05-15T10:21:54.562Z"
   },
   {
    "duration": 0,
    "start_time": "2022-05-15T10:21:54.563Z"
   },
   {
    "duration": 0,
    "start_time": "2022-05-15T10:21:54.564Z"
   },
   {
    "duration": 0,
    "start_time": "2022-05-15T10:21:54.564Z"
   },
   {
    "duration": 0,
    "start_time": "2022-05-15T10:21:54.565Z"
   },
   {
    "duration": 0,
    "start_time": "2022-05-15T10:21:54.566Z"
   },
   {
    "duration": 0,
    "start_time": "2022-05-15T10:21:54.567Z"
   },
   {
    "duration": 0,
    "start_time": "2022-05-15T10:21:54.568Z"
   },
   {
    "duration": 0,
    "start_time": "2022-05-15T10:21:54.569Z"
   },
   {
    "duration": 0,
    "start_time": "2022-05-15T10:21:54.570Z"
   },
   {
    "duration": 0,
    "start_time": "2022-05-15T10:21:54.571Z"
   },
   {
    "duration": 0,
    "start_time": "2022-05-15T10:21:54.572Z"
   },
   {
    "duration": 0,
    "start_time": "2022-05-15T10:21:54.572Z"
   },
   {
    "duration": 0,
    "start_time": "2022-05-15T10:21:54.573Z"
   },
   {
    "duration": 0,
    "start_time": "2022-05-15T10:21:54.574Z"
   },
   {
    "duration": 0,
    "start_time": "2022-05-15T10:21:54.575Z"
   },
   {
    "duration": 0,
    "start_time": "2022-05-15T10:21:54.576Z"
   },
   {
    "duration": 0,
    "start_time": "2022-05-15T10:21:54.577Z"
   },
   {
    "duration": 0,
    "start_time": "2022-05-15T10:21:54.578Z"
   },
   {
    "duration": 0,
    "start_time": "2022-05-15T10:21:54.578Z"
   },
   {
    "duration": 0,
    "start_time": "2022-05-15T10:21:54.580Z"
   },
   {
    "duration": 0,
    "start_time": "2022-05-15T10:21:54.580Z"
   },
   {
    "duration": 0,
    "start_time": "2022-05-15T10:21:54.582Z"
   },
   {
    "duration": 0,
    "start_time": "2022-05-15T10:21:54.583Z"
   },
   {
    "duration": 0,
    "start_time": "2022-05-15T10:21:54.584Z"
   },
   {
    "duration": 0,
    "start_time": "2022-05-15T10:21:54.585Z"
   },
   {
    "duration": 0,
    "start_time": "2022-05-15T10:21:54.585Z"
   },
   {
    "duration": 0,
    "start_time": "2022-05-15T10:21:54.586Z"
   },
   {
    "duration": 0,
    "start_time": "2022-05-15T10:21:54.587Z"
   },
   {
    "duration": 0,
    "start_time": "2022-05-15T10:21:54.588Z"
   },
   {
    "duration": 0,
    "start_time": "2022-05-15T10:21:54.589Z"
   },
   {
    "duration": 0,
    "start_time": "2022-05-15T10:21:54.590Z"
   },
   {
    "duration": 0,
    "start_time": "2022-05-15T10:21:54.591Z"
   },
   {
    "duration": 0,
    "start_time": "2022-05-15T10:21:54.593Z"
   },
   {
    "duration": 0,
    "start_time": "2022-05-15T10:21:54.594Z"
   },
   {
    "duration": 0,
    "start_time": "2022-05-15T10:21:54.595Z"
   },
   {
    "duration": 0,
    "start_time": "2022-05-15T10:21:54.595Z"
   },
   {
    "duration": 0,
    "start_time": "2022-05-15T10:21:54.596Z"
   },
   {
    "duration": 0,
    "start_time": "2022-05-15T10:21:54.597Z"
   },
   {
    "duration": 0,
    "start_time": "2022-05-15T10:21:54.598Z"
   },
   {
    "duration": 0,
    "start_time": "2022-05-15T10:21:54.599Z"
   },
   {
    "duration": 0,
    "start_time": "2022-05-15T10:21:54.599Z"
   },
   {
    "duration": 0,
    "start_time": "2022-05-15T10:21:54.662Z"
   },
   {
    "duration": 0,
    "start_time": "2022-05-15T10:21:54.663Z"
   },
   {
    "duration": 0,
    "start_time": "2022-05-15T10:21:54.664Z"
   },
   {
    "duration": 0,
    "start_time": "2022-05-15T10:21:54.665Z"
   },
   {
    "duration": 0,
    "start_time": "2022-05-15T10:21:54.666Z"
   },
   {
    "duration": 0,
    "start_time": "2022-05-15T10:21:54.667Z"
   },
   {
    "duration": 0,
    "start_time": "2022-05-15T10:21:54.668Z"
   },
   {
    "duration": 0,
    "start_time": "2022-05-15T10:21:54.669Z"
   },
   {
    "duration": 0,
    "start_time": "2022-05-15T10:21:54.670Z"
   },
   {
    "duration": 0,
    "start_time": "2022-05-15T10:21:54.671Z"
   },
   {
    "duration": 0,
    "start_time": "2022-05-15T10:21:54.671Z"
   },
   {
    "duration": 0,
    "start_time": "2022-05-15T10:21:54.672Z"
   },
   {
    "duration": 0,
    "start_time": "2022-05-15T10:21:54.673Z"
   },
   {
    "duration": 0,
    "start_time": "2022-05-15T10:21:54.674Z"
   },
   {
    "duration": 0,
    "start_time": "2022-05-15T10:21:54.675Z"
   },
   {
    "duration": 0,
    "start_time": "2022-05-15T10:21:54.676Z"
   },
   {
    "duration": 0,
    "start_time": "2022-05-15T10:21:54.677Z"
   },
   {
    "duration": 0,
    "start_time": "2022-05-15T10:21:54.678Z"
   },
   {
    "duration": 0,
    "start_time": "2022-05-15T10:21:54.679Z"
   },
   {
    "duration": 0,
    "start_time": "2022-05-15T10:21:54.680Z"
   },
   {
    "duration": 0,
    "start_time": "2022-05-15T10:21:54.681Z"
   },
   {
    "duration": 0,
    "start_time": "2022-05-15T10:21:54.682Z"
   },
   {
    "duration": 0,
    "start_time": "2022-05-15T10:21:54.683Z"
   },
   {
    "duration": 0,
    "start_time": "2022-05-15T10:21:54.683Z"
   },
   {
    "duration": 0,
    "start_time": "2022-05-15T10:21:54.685Z"
   },
   {
    "duration": 0,
    "start_time": "2022-05-15T10:21:54.685Z"
   },
   {
    "duration": 0,
    "start_time": "2022-05-15T10:21:54.686Z"
   },
   {
    "duration": 0,
    "start_time": "2022-05-15T10:21:54.687Z"
   },
   {
    "duration": 0,
    "start_time": "2022-05-15T10:21:54.688Z"
   },
   {
    "duration": 0,
    "start_time": "2022-05-15T10:21:54.690Z"
   },
   {
    "duration": 0,
    "start_time": "2022-05-15T10:21:54.690Z"
   },
   {
    "duration": 0,
    "start_time": "2022-05-15T10:21:54.691Z"
   },
   {
    "duration": 0,
    "start_time": "2022-05-15T10:21:54.692Z"
   },
   {
    "duration": 0,
    "start_time": "2022-05-15T10:21:54.693Z"
   },
   {
    "duration": 0,
    "start_time": "2022-05-15T10:21:54.694Z"
   },
   {
    "duration": 0,
    "start_time": "2022-05-15T10:21:54.695Z"
   },
   {
    "duration": 0,
    "start_time": "2022-05-15T10:21:54.696Z"
   },
   {
    "duration": 0,
    "start_time": "2022-05-15T10:21:54.697Z"
   },
   {
    "duration": 0,
    "start_time": "2022-05-15T10:21:54.698Z"
   },
   {
    "duration": 0,
    "start_time": "2022-05-15T10:21:54.699Z"
   },
   {
    "duration": 0,
    "start_time": "2022-05-15T10:21:54.700Z"
   },
   {
    "duration": 0,
    "start_time": "2022-05-15T10:21:54.762Z"
   },
   {
    "duration": 0,
    "start_time": "2022-05-15T10:21:54.763Z"
   },
   {
    "duration": 3,
    "start_time": "2022-05-15T10:22:13.335Z"
   },
   {
    "duration": 73,
    "start_time": "2022-05-15T10:22:14.532Z"
   },
   {
    "duration": 26,
    "start_time": "2022-05-15T10:22:15.101Z"
   },
   {
    "duration": 13,
    "start_time": "2022-05-15T10:22:15.941Z"
   },
   {
    "duration": 8,
    "start_time": "2022-05-15T10:22:16.702Z"
   },
   {
    "duration": 3,
    "start_time": "2022-05-15T10:22:20.244Z"
   },
   {
    "duration": 112,
    "start_time": "2022-05-15T10:22:21.156Z"
   },
   {
    "duration": 83,
    "start_time": "2022-05-15T10:22:42.711Z"
   },
   {
    "duration": 8,
    "start_time": "2022-05-15T10:22:55.323Z"
   },
   {
    "duration": 103,
    "start_time": "2022-05-15T10:22:56.723Z"
   },
   {
    "duration": 6,
    "start_time": "2022-05-15T10:22:59.941Z"
   },
   {
    "duration": 88,
    "start_time": "2022-05-15T10:23:02.342Z"
   },
   {
    "duration": 91,
    "start_time": "2022-05-15T10:23:06.920Z"
   },
   {
    "duration": 5,
    "start_time": "2022-05-15T10:23:10.496Z"
   },
   {
    "duration": 95,
    "start_time": "2022-05-15T10:23:31.143Z"
   },
   {
    "duration": 95,
    "start_time": "2022-05-15T10:23:36.373Z"
   },
   {
    "duration": 5,
    "start_time": "2022-05-15T10:23:40.467Z"
   },
   {
    "duration": 151,
    "start_time": "2022-05-15T10:28:34.678Z"
   },
   {
    "duration": 107,
    "start_time": "2022-05-15T10:28:44.608Z"
   },
   {
    "duration": 143,
    "start_time": "2022-05-15T10:28:53.928Z"
   },
   {
    "duration": 6,
    "start_time": "2022-05-15T10:33:34.470Z"
   },
   {
    "duration": 85,
    "start_time": "2022-05-15T10:35:09.608Z"
   },
   {
    "duration": 5,
    "start_time": "2022-05-15T10:35:41.041Z"
   },
   {
    "duration": 97,
    "start_time": "2022-05-15T10:36:26.673Z"
   },
   {
    "duration": 5,
    "start_time": "2022-05-15T10:36:39.103Z"
   },
   {
    "duration": 86,
    "start_time": "2022-05-15T10:36:42.221Z"
   },
   {
    "duration": 4,
    "start_time": "2022-05-15T10:37:29.866Z"
   },
   {
    "duration": 5,
    "start_time": "2022-05-15T10:37:35.603Z"
   },
   {
    "duration": 80,
    "start_time": "2022-05-15T10:37:45.250Z"
   },
   {
    "duration": 4,
    "start_time": "2022-05-15T10:38:38.572Z"
   },
   {
    "duration": 110,
    "start_time": "2022-05-15T10:38:41.158Z"
   },
   {
    "duration": 5,
    "start_time": "2022-05-15T10:39:18.103Z"
   },
   {
    "duration": 6,
    "start_time": "2022-05-15T10:39:23.573Z"
   },
   {
    "duration": 5,
    "start_time": "2022-05-15T10:40:57.975Z"
   },
   {
    "duration": 4,
    "start_time": "2022-05-15T10:41:53.124Z"
   },
   {
    "duration": 12,
    "start_time": "2022-05-15T10:43:02.577Z"
   },
   {
    "duration": 4,
    "start_time": "2022-05-15T10:44:56.146Z"
   },
   {
    "duration": 517,
    "start_time": "2022-05-15T10:45:00.128Z"
   },
   {
    "duration": 6,
    "start_time": "2022-05-15T10:45:53.223Z"
   },
   {
    "duration": 5,
    "start_time": "2022-05-15T10:45:54.142Z"
   },
   {
    "duration": 14,
    "start_time": "2022-05-15T10:46:01.944Z"
   },
   {
    "duration": 4,
    "start_time": "2022-05-15T10:46:09.509Z"
   },
   {
    "duration": 4,
    "start_time": "2022-05-15T10:46:11.206Z"
   },
   {
    "duration": 4,
    "start_time": "2022-05-15T10:46:12.145Z"
   },
   {
    "duration": 4,
    "start_time": "2022-05-15T10:46:14.876Z"
   },
   {
    "duration": 46,
    "start_time": "2022-05-15T10:46:17.186Z"
   },
   {
    "duration": 4,
    "start_time": "2022-05-15T10:46:18.675Z"
   },
   {
    "duration": 8,
    "start_time": "2022-05-15T10:46:19.488Z"
   },
   {
    "duration": 24,
    "start_time": "2022-05-15T10:46:29.149Z"
   },
   {
    "duration": 147,
    "start_time": "2022-05-15T10:48:08.859Z"
   },
   {
    "duration": 134,
    "start_time": "2022-05-15T10:48:31.855Z"
   },
   {
    "duration": 147,
    "start_time": "2022-05-15T10:48:49.177Z"
   },
   {
    "duration": 227,
    "start_time": "2022-05-15T10:48:55.688Z"
   },
   {
    "duration": 9,
    "start_time": "2022-05-15T10:49:11.583Z"
   },
   {
    "duration": 4,
    "start_time": "2022-05-15T10:49:14.670Z"
   },
   {
    "duration": 177,
    "start_time": "2022-05-15T10:49:49.190Z"
   },
   {
    "duration": 168,
    "start_time": "2022-05-15T10:50:05.373Z"
   },
   {
    "duration": 146,
    "start_time": "2022-05-15T10:50:16.558Z"
   },
   {
    "duration": 23,
    "start_time": "2022-05-15T10:50:31.111Z"
   },
   {
    "duration": 22,
    "start_time": "2022-05-15T10:51:00.356Z"
   },
   {
    "duration": 22,
    "start_time": "2022-05-15T10:51:18.744Z"
   },
   {
    "duration": 194,
    "start_time": "2022-05-15T10:53:57.149Z"
   },
   {
    "duration": 22,
    "start_time": "2022-05-15T10:56:26.602Z"
   },
   {
    "duration": 171,
    "start_time": "2022-05-15T10:57:04.257Z"
   },
   {
    "duration": 132,
    "start_time": "2022-05-15T10:59:22.397Z"
   },
   {
    "duration": 23,
    "start_time": "2022-05-15T11:00:17.948Z"
   },
   {
    "duration": 252,
    "start_time": "2022-05-15T11:00:18.917Z"
   },
   {
    "duration": 23,
    "start_time": "2022-05-15T11:00:35.299Z"
   },
   {
    "duration": 348,
    "start_time": "2022-05-15T11:00:40.964Z"
   },
   {
    "duration": 23,
    "start_time": "2022-05-15T11:00:52.535Z"
   },
   {
    "duration": 266,
    "start_time": "2022-05-15T11:00:53.424Z"
   },
   {
    "duration": 19,
    "start_time": "2022-05-15T11:01:14.250Z"
   },
   {
    "duration": 7,
    "start_time": "2022-05-15T11:01:19.223Z"
   },
   {
    "duration": 8,
    "start_time": "2022-05-15T11:01:23.302Z"
   },
   {
    "duration": 18,
    "start_time": "2022-05-15T11:02:23.506Z"
   },
   {
    "duration": 8,
    "start_time": "2022-05-15T11:02:33.606Z"
   },
   {
    "duration": 147,
    "start_time": "2022-05-15T11:02:36.693Z"
   },
   {
    "duration": 7,
    "start_time": "2022-05-15T11:02:47.607Z"
   },
   {
    "duration": 152,
    "start_time": "2022-05-15T11:02:49.576Z"
   },
   {
    "duration": 129,
    "start_time": "2022-05-15T11:04:04.035Z"
   },
   {
    "duration": 115,
    "start_time": "2022-05-15T11:04:29.793Z"
   },
   {
    "duration": 139,
    "start_time": "2022-05-15T11:06:33.416Z"
   },
   {
    "duration": 124,
    "start_time": "2022-05-15T11:07:23.002Z"
   },
   {
    "duration": 125,
    "start_time": "2022-05-15T11:07:57.513Z"
   },
   {
    "duration": 135,
    "start_time": "2022-05-15T11:08:32.734Z"
   },
   {
    "duration": 141,
    "start_time": "2022-05-15T11:09:46.003Z"
   },
   {
    "duration": 173,
    "start_time": "2022-05-15T11:11:25.274Z"
   },
   {
    "duration": 6,
    "start_time": "2022-05-15T11:14:14.106Z"
   },
   {
    "duration": 1705,
    "start_time": "2022-05-16T15:24:04.167Z"
   },
   {
    "duration": 100,
    "start_time": "2022-05-16T15:24:05.875Z"
   },
   {
    "duration": 48,
    "start_time": "2022-05-16T15:24:05.977Z"
   },
   {
    "duration": 21,
    "start_time": "2022-05-16T15:24:06.471Z"
   },
   {
    "duration": 11,
    "start_time": "2022-05-16T15:24:07.917Z"
   },
   {
    "duration": 5,
    "start_time": "2022-05-16T15:24:10.388Z"
   },
   {
    "duration": 201,
    "start_time": "2022-05-16T15:24:11.161Z"
   },
   {
    "duration": 6,
    "start_time": "2022-05-16T15:24:23.678Z"
   },
   {
    "duration": 4,
    "start_time": "2022-05-16T15:24:25.324Z"
   },
   {
    "duration": 6,
    "start_time": "2022-05-16T15:24:28.394Z"
   },
   {
    "duration": 5,
    "start_time": "2022-05-16T15:24:30.315Z"
   },
   {
    "duration": 7,
    "start_time": "2022-05-16T15:24:31.837Z"
   },
   {
    "duration": 165,
    "start_time": "2022-05-16T15:24:33.740Z"
   },
   {
    "duration": 15,
    "start_time": "2022-05-16T15:27:28.533Z"
   },
   {
    "duration": 6,
    "start_time": "2022-05-16T15:27:46.326Z"
   },
   {
    "duration": 1578,
    "start_time": "2022-05-16T15:27:57.251Z"
   },
   {
    "duration": 1581,
    "start_time": "2022-05-16T15:29:21.803Z"
   },
   {
    "duration": 110,
    "start_time": "2022-05-16T15:29:23.386Z"
   },
   {
    "duration": 61,
    "start_time": "2022-05-16T15:29:23.499Z"
   },
   {
    "duration": 22,
    "start_time": "2022-05-16T15:29:23.563Z"
   },
   {
    "duration": 11,
    "start_time": "2022-05-16T15:29:23.587Z"
   },
   {
    "duration": 5,
    "start_time": "2022-05-16T15:29:23.601Z"
   },
   {
    "duration": 248,
    "start_time": "2022-05-16T15:29:23.608Z"
   },
   {
    "duration": 7,
    "start_time": "2022-05-16T15:29:23.859Z"
   },
   {
    "duration": 5,
    "start_time": "2022-05-16T15:29:23.868Z"
   },
   {
    "duration": 8,
    "start_time": "2022-05-16T15:29:23.877Z"
   },
   {
    "duration": 6,
    "start_time": "2022-05-16T15:29:23.887Z"
   },
   {
    "duration": 8,
    "start_time": "2022-05-16T15:29:23.895Z"
   },
   {
    "duration": 226,
    "start_time": "2022-05-16T15:29:23.906Z"
   },
   {
    "duration": 19,
    "start_time": "2022-05-16T15:29:24.135Z"
   },
   {
    "duration": 207,
    "start_time": "2022-05-16T15:29:24.157Z"
   },
   {
    "duration": 9,
    "start_time": "2022-05-16T15:29:24.367Z"
   },
   {
    "duration": 7,
    "start_time": "2022-05-16T15:29:24.378Z"
   },
   {
    "duration": 9,
    "start_time": "2022-05-16T15:29:24.387Z"
   },
   {
    "duration": 198,
    "start_time": "2022-05-16T15:29:24.398Z"
   },
   {
    "duration": 4,
    "start_time": "2022-05-16T15:29:24.599Z"
   },
   {
    "duration": 202,
    "start_time": "2022-05-16T15:29:24.606Z"
   },
   {
    "duration": 8,
    "start_time": "2022-05-16T15:29:24.811Z"
   },
   {
    "duration": 9,
    "start_time": "2022-05-16T15:29:24.821Z"
   },
   {
    "duration": 8,
    "start_time": "2022-05-16T15:29:24.852Z"
   },
   {
    "duration": 195,
    "start_time": "2022-05-16T15:29:24.862Z"
   },
   {
    "duration": 5,
    "start_time": "2022-05-16T15:29:25.060Z"
   },
   {
    "duration": 195,
    "start_time": "2022-05-16T15:29:25.067Z"
   },
   {
    "duration": 7,
    "start_time": "2022-05-16T15:29:25.268Z"
   },
   {
    "duration": 6,
    "start_time": "2022-05-16T15:29:25.277Z"
   },
   {
    "duration": 7,
    "start_time": "2022-05-16T15:29:25.285Z"
   },
   {
    "duration": 192,
    "start_time": "2022-05-16T15:29:25.294Z"
   },
   {
    "duration": 11,
    "start_time": "2022-05-16T15:29:25.489Z"
   },
   {
    "duration": 7,
    "start_time": "2022-05-16T15:29:25.502Z"
   },
   {
    "duration": 8,
    "start_time": "2022-05-16T15:29:25.511Z"
   },
   {
    "duration": 294,
    "start_time": "2022-05-16T15:29:25.522Z"
   },
   {
    "duration": 7,
    "start_time": "2022-05-16T15:29:25.818Z"
   },
   {
    "duration": 24,
    "start_time": "2022-05-16T15:29:25.828Z"
   },
   {
    "duration": 184,
    "start_time": "2022-05-16T15:29:25.854Z"
   },
   {
    "duration": 15,
    "start_time": "2022-05-16T15:29:26.040Z"
   },
   {
    "duration": 6,
    "start_time": "2022-05-16T15:29:26.058Z"
   },
   {
    "duration": 10,
    "start_time": "2022-05-16T15:29:26.067Z"
   },
   {
    "duration": 10,
    "start_time": "2022-05-16T15:29:26.079Z"
   },
   {
    "duration": 260,
    "start_time": "2022-05-16T15:29:26.092Z"
   },
   {
    "duration": 7,
    "start_time": "2022-05-16T15:29:26.355Z"
   },
   {
    "duration": 9,
    "start_time": "2022-05-16T15:29:26.365Z"
   },
   {
    "duration": 232,
    "start_time": "2022-05-16T15:29:26.377Z"
   },
   {
    "duration": 7,
    "start_time": "2022-05-16T15:29:26.611Z"
   },
   {
    "duration": 9,
    "start_time": "2022-05-16T15:29:26.620Z"
   },
   {
    "duration": 22,
    "start_time": "2022-05-16T15:29:26.631Z"
   },
   {
    "duration": 9,
    "start_time": "2022-05-16T15:29:26.655Z"
   },
   {
    "duration": 10,
    "start_time": "2022-05-16T15:29:26.667Z"
   },
   {
    "duration": 12,
    "start_time": "2022-05-16T15:29:26.679Z"
   },
   {
    "duration": 8,
    "start_time": "2022-05-16T15:29:26.693Z"
   },
   {
    "duration": 8,
    "start_time": "2022-05-16T15:29:26.703Z"
   },
   {
    "duration": 39,
    "start_time": "2022-05-16T15:29:26.713Z"
   },
   {
    "duration": 5,
    "start_time": "2022-05-16T15:29:26.754Z"
   },
   {
    "duration": 9,
    "start_time": "2022-05-16T15:29:26.761Z"
   },
   {
    "duration": 8,
    "start_time": "2022-05-16T15:29:26.772Z"
   },
   {
    "duration": 35,
    "start_time": "2022-05-16T15:29:26.782Z"
   },
   {
    "duration": 33,
    "start_time": "2022-05-16T15:29:26.819Z"
   },
   {
    "duration": 7,
    "start_time": "2022-05-16T15:29:26.855Z"
   },
   {
    "duration": 9,
    "start_time": "2022-05-16T15:29:26.864Z"
   },
   {
    "duration": 5,
    "start_time": "2022-05-16T15:29:26.875Z"
   },
   {
    "duration": 159,
    "start_time": "2022-05-16T15:29:26.882Z"
   },
   {
    "duration": 9,
    "start_time": "2022-05-16T15:29:27.043Z"
   },
   {
    "duration": 8,
    "start_time": "2022-05-16T15:29:27.054Z"
   },
   {
    "duration": 32,
    "start_time": "2022-05-16T15:29:27.064Z"
   },
   {
    "duration": 288,
    "start_time": "2022-05-16T15:29:27.099Z"
   },
   {
    "duration": 281,
    "start_time": "2022-05-16T15:29:27.389Z"
   },
   {
    "duration": 276,
    "start_time": "2022-05-16T15:29:27.672Z"
   },
   {
    "duration": 318,
    "start_time": "2022-05-16T15:29:27.951Z"
   },
   {
    "duration": 14,
    "start_time": "2022-05-16T15:29:28.271Z"
   },
   {
    "duration": 8,
    "start_time": "2022-05-16T15:29:28.287Z"
   },
   {
    "duration": 468,
    "start_time": "2022-05-16T15:29:28.297Z"
   },
   {
    "duration": 351,
    "start_time": "2022-05-16T15:29:28.767Z"
   },
   {
    "duration": 265,
    "start_time": "2022-05-16T15:29:29.120Z"
   },
   {
    "duration": 47,
    "start_time": "2022-05-16T15:29:29.387Z"
   },
   {
    "duration": 697,
    "start_time": "2022-05-16T15:29:29.452Z"
   },
   {
    "duration": 53,
    "start_time": "2022-05-16T15:29:30.152Z"
   },
   {
    "duration": 362,
    "start_time": "2022-05-16T15:29:30.208Z"
   },
   {
    "duration": 288,
    "start_time": "2022-05-16T15:29:30.572Z"
   },
   {
    "duration": 39,
    "start_time": "2022-05-16T15:29:30.868Z"
   },
   {
    "duration": 549,
    "start_time": "2022-05-16T15:29:30.909Z"
   },
   {
    "duration": 39,
    "start_time": "2022-05-16T15:29:31.460Z"
   },
   {
    "duration": 1360,
    "start_time": "2022-05-16T15:29:31.501Z"
   },
   {
    "duration": 53,
    "start_time": "2022-05-16T15:29:32.863Z"
   },
   {
    "duration": 760,
    "start_time": "2022-05-16T15:29:32.919Z"
   },
   {
    "duration": 46,
    "start_time": "2022-05-16T15:29:33.682Z"
   },
   {
    "duration": 29,
    "start_time": "2022-05-16T15:29:33.731Z"
   },
   {
    "duration": 12,
    "start_time": "2022-05-16T15:29:33.763Z"
   },
   {
    "duration": 282,
    "start_time": "2022-05-16T15:29:33.777Z"
   },
   {
    "duration": 12,
    "start_time": "2022-05-16T15:29:34.062Z"
   },
   {
    "duration": 282,
    "start_time": "2022-05-16T15:29:34.077Z"
   },
   {
    "duration": 323,
    "start_time": "2022-05-16T15:29:34.361Z"
   },
   {
    "duration": 252,
    "start_time": "2022-05-16T15:29:34.687Z"
   },
   {
    "duration": 245,
    "start_time": "2022-05-16T15:29:34.942Z"
   },
   {
    "duration": 269,
    "start_time": "2022-05-16T15:29:35.189Z"
   },
   {
    "duration": 265,
    "start_time": "2022-05-16T15:29:35.460Z"
   },
   {
    "duration": 4,
    "start_time": "2022-05-16T15:29:35.727Z"
   },
   {
    "duration": 144,
    "start_time": "2022-05-16T15:29:35.755Z"
   },
   {
    "duration": 71,
    "start_time": "2022-05-16T15:29:36.155Z"
   },
   {
    "duration": 33,
    "start_time": "2022-05-16T15:29:38.555Z"
   },
   {
    "duration": 17,
    "start_time": "2022-05-16T15:29:41.642Z"
   },
   {
    "duration": 7,
    "start_time": "2022-05-16T15:29:43.824Z"
   },
   {
    "duration": 300,
    "start_time": "2022-05-16T15:29:44.448Z"
   },
   {
    "duration": 7,
    "start_time": "2022-05-16T15:29:45.607Z"
   },
   {
    "duration": 5,
    "start_time": "2022-05-16T15:29:46.253Z"
   },
   {
    "duration": 7,
    "start_time": "2022-05-16T15:29:46.458Z"
   },
   {
    "duration": 5,
    "start_time": "2022-05-16T15:29:46.828Z"
   },
   {
    "duration": 7,
    "start_time": "2022-05-16T15:29:47.013Z"
   },
   {
    "duration": 174,
    "start_time": "2022-05-16T15:29:48.245Z"
   },
   {
    "duration": 9,
    "start_time": "2022-05-16T15:29:48.860Z"
   },
   {
    "duration": 193,
    "start_time": "2022-05-16T15:29:49.844Z"
   },
   {
    "duration": 8,
    "start_time": "2022-05-16T15:29:50.573Z"
   },
   {
    "duration": 6,
    "start_time": "2022-05-16T15:31:29.445Z"
   },
   {
    "duration": 11,
    "start_time": "2022-05-16T15:31:30.807Z"
   },
   {
    "duration": 181,
    "start_time": "2022-05-16T15:31:35.886Z"
   },
   {
    "duration": 9,
    "start_time": "2022-05-16T15:37:55.957Z"
   },
   {
    "duration": 1105,
    "start_time": "2022-05-16T15:37:56.670Z"
   },
   {
    "duration": 8,
    "start_time": "2022-05-16T15:40:45.558Z"
   },
   {
    "duration": 9,
    "start_time": "2022-05-16T15:40:48.637Z"
   },
   {
    "duration": 7,
    "start_time": "2022-05-16T15:40:58.578Z"
   },
   {
    "duration": 973,
    "start_time": "2022-05-16T15:40:59.588Z"
   },
   {
    "duration": 943,
    "start_time": "2022-05-16T15:41:28.309Z"
   },
   {
    "duration": 9,
    "start_time": "2022-05-16T15:41:42.761Z"
   },
   {
    "duration": 658,
    "start_time": "2022-05-16T15:46:07.176Z"
   },
   {
    "duration": 977,
    "start_time": "2022-05-16T15:46:17.297Z"
   },
   {
    "duration": 144,
    "start_time": "2022-05-16T15:46:36.554Z"
   },
   {
    "duration": 118,
    "start_time": "2022-05-16T15:46:48.078Z"
   },
   {
    "duration": 925,
    "start_time": "2022-05-16T15:46:54.546Z"
   },
   {
    "duration": 5,
    "start_time": "2022-05-16T15:50:17.713Z"
   },
   {
    "duration": 5,
    "start_time": "2022-05-16T15:50:18.951Z"
   },
   {
    "duration": 146,
    "start_time": "2022-05-16T15:50:29.180Z"
   },
   {
    "duration": 5,
    "start_time": "2022-05-16T15:50:33.932Z"
   },
   {
    "duration": 175,
    "start_time": "2022-05-16T15:50:45.741Z"
   },
   {
    "duration": 173,
    "start_time": "2022-05-16T15:51:44.283Z"
   },
   {
    "duration": 162,
    "start_time": "2022-05-16T15:51:49.402Z"
   },
   {
    "duration": 6,
    "start_time": "2022-05-16T15:53:20.543Z"
   },
   {
    "duration": 11,
    "start_time": "2022-05-16T15:54:48.237Z"
   },
   {
    "duration": 5,
    "start_time": "2022-05-16T15:54:53.705Z"
   },
   {
    "duration": 5,
    "start_time": "2022-05-16T15:55:15.147Z"
   },
   {
    "duration": 19,
    "start_time": "2022-05-16T15:55:34.318Z"
   },
   {
    "duration": 14,
    "start_time": "2022-05-16T15:56:02.514Z"
   },
   {
    "duration": 7,
    "start_time": "2022-05-16T15:56:31.874Z"
   },
   {
    "duration": 7,
    "start_time": "2022-05-16T15:56:38.355Z"
   },
   {
    "duration": 19,
    "start_time": "2022-05-16T15:56:48.585Z"
   },
   {
    "duration": 9,
    "start_time": "2022-05-16T15:56:57.174Z"
   },
   {
    "duration": 5,
    "start_time": "2022-05-16T15:59:00.197Z"
   },
   {
    "duration": 9,
    "start_time": "2022-05-16T15:59:55.802Z"
   },
   {
    "duration": 8,
    "start_time": "2022-05-16T15:59:57.136Z"
   },
   {
    "duration": 176,
    "start_time": "2022-05-16T16:00:03.118Z"
   },
   {
    "duration": 5,
    "start_time": "2022-05-16T16:00:11.084Z"
   },
   {
    "duration": 181,
    "start_time": "2022-05-16T16:00:14.940Z"
   },
   {
    "duration": 8,
    "start_time": "2022-05-16T16:00:18.849Z"
   },
   {
    "duration": 6,
    "start_time": "2022-05-16T16:00:20.163Z"
   },
   {
    "duration": 9,
    "start_time": "2022-05-16T16:00:26.199Z"
   },
   {
    "duration": 8,
    "start_time": "2022-05-16T16:01:40.550Z"
   },
   {
    "duration": 7,
    "start_time": "2022-05-16T16:01:41.557Z"
   },
   {
    "duration": 178,
    "start_time": "2022-05-16T16:01:55.303Z"
   },
   {
    "duration": 8,
    "start_time": "2022-05-16T16:02:02.286Z"
   },
   {
    "duration": 6,
    "start_time": "2022-05-16T16:02:04.148Z"
   },
   {
    "duration": 162,
    "start_time": "2022-05-16T16:02:05.966Z"
   },
   {
    "duration": 160,
    "start_time": "2022-05-16T16:03:19.197Z"
   },
   {
    "duration": 9,
    "start_time": "2022-05-16T16:03:26.378Z"
   },
   {
    "duration": 6,
    "start_time": "2022-05-16T16:03:29.389Z"
   },
   {
    "duration": 9,
    "start_time": "2022-05-16T16:03:32.259Z"
   },
   {
    "duration": 7,
    "start_time": "2022-05-16T16:03:37.198Z"
   },
   {
    "duration": 163,
    "start_time": "2022-05-16T16:04:03.045Z"
   },
   {
    "duration": 276,
    "start_time": "2022-05-16T16:04:39.829Z"
   },
   {
    "duration": 4,
    "start_time": "2022-05-16T16:06:37.751Z"
   },
   {
    "duration": 5,
    "start_time": "2022-05-16T16:08:12.219Z"
   },
   {
    "duration": 175,
    "start_time": "2022-05-16T16:08:19.599Z"
   },
   {
    "duration": 168,
    "start_time": "2022-05-16T16:09:27.863Z"
   },
   {
    "duration": 176,
    "start_time": "2022-05-16T16:09:40.949Z"
   },
   {
    "duration": 6,
    "start_time": "2022-05-16T16:10:15.967Z"
   },
   {
    "duration": 9,
    "start_time": "2022-05-16T16:11:21.088Z"
   },
   {
    "duration": 6,
    "start_time": "2022-05-16T16:11:40.054Z"
   },
   {
    "duration": 6,
    "start_time": "2022-05-16T16:11:41.846Z"
   },
   {
    "duration": 7,
    "start_time": "2022-05-16T16:13:17.649Z"
   },
   {
    "duration": 7,
    "start_time": "2022-05-16T16:13:23.448Z"
   },
   {
    "duration": 6,
    "start_time": "2022-05-16T16:13:26.288Z"
   },
   {
    "duration": 5,
    "start_time": "2022-05-16T16:14:59.621Z"
   },
   {
    "duration": 6,
    "start_time": "2022-05-16T16:15:29.476Z"
   },
   {
    "duration": 6,
    "start_time": "2022-05-16T16:15:29.776Z"
   },
   {
    "duration": 31,
    "start_time": "2022-05-16T16:15:30.083Z"
   },
   {
    "duration": 7,
    "start_time": "2022-05-16T16:15:30.405Z"
   },
   {
    "duration": 6,
    "start_time": "2022-05-16T16:15:30.796Z"
   },
   {
    "duration": 6,
    "start_time": "2022-05-16T16:15:31.097Z"
   },
   {
    "duration": 4,
    "start_time": "2022-05-16T16:15:31.668Z"
   },
   {
    "duration": 127,
    "start_time": "2022-05-16T16:15:32.101Z"
   },
   {
    "duration": 6,
    "start_time": "2022-05-16T16:15:32.417Z"
   },
   {
    "duration": 6,
    "start_time": "2022-05-16T16:15:33.498Z"
   },
   {
    "duration": 31,
    "start_time": "2022-05-16T16:15:37.846Z"
   },
   {
    "duration": 259,
    "start_time": "2022-05-16T16:15:38.448Z"
   },
   {
    "duration": 259,
    "start_time": "2022-05-16T16:15:38.913Z"
   },
   {
    "duration": 227,
    "start_time": "2022-05-16T16:15:39.919Z"
   },
   {
    "duration": 293,
    "start_time": "2022-05-16T16:15:40.593Z"
   },
   {
    "duration": 14,
    "start_time": "2022-05-16T16:15:42.289Z"
   },
   {
    "duration": 8,
    "start_time": "2022-05-16T16:17:15.036Z"
   },
   {
    "duration": 371,
    "start_time": "2022-05-16T16:18:05.864Z"
   },
   {
    "duration": 316,
    "start_time": "2022-05-16T16:18:15.487Z"
   },
   {
    "duration": 347,
    "start_time": "2022-05-16T16:18:25.593Z"
   },
   {
    "duration": 34,
    "start_time": "2022-05-16T16:18:36.081Z"
   },
   {
    "duration": 462,
    "start_time": "2022-05-16T16:18:41.066Z"
   },
   {
    "duration": 43,
    "start_time": "2022-05-16T16:18:44.866Z"
   },
   {
    "duration": 338,
    "start_time": "2022-05-16T16:18:48.965Z"
   },
   {
    "duration": 234,
    "start_time": "2022-05-16T16:20:03.287Z"
   },
   {
    "duration": 40,
    "start_time": "2022-05-16T16:20:14.998Z"
   },
   {
    "duration": 527,
    "start_time": "2022-05-16T16:20:17.898Z"
   },
   {
    "duration": 38,
    "start_time": "2022-05-16T16:21:37.045Z"
   },
   {
    "duration": 37,
    "start_time": "2022-05-16T16:23:33.128Z"
   },
   {
    "duration": 411,
    "start_time": "2022-05-16T16:23:53.204Z"
   },
   {
    "duration": 32,
    "start_time": "2022-05-16T16:24:52.558Z"
   },
   {
    "duration": 12,
    "start_time": "2022-05-16T16:25:05.459Z"
   },
   {
    "duration": 11,
    "start_time": "2022-05-16T16:25:06.483Z"
   },
   {
    "duration": 227,
    "start_time": "2022-05-16T16:25:09.951Z"
   },
   {
    "duration": 228,
    "start_time": "2022-05-16T16:25:24.881Z"
   },
   {
    "duration": 12,
    "start_time": "2022-05-16T16:26:11.809Z"
   },
   {
    "duration": 237,
    "start_time": "2022-05-16T16:26:14.092Z"
   },
   {
    "duration": 219,
    "start_time": "2022-05-16T16:26:20.611Z"
   },
   {
    "duration": 234,
    "start_time": "2022-05-16T16:26:23.533Z"
   },
   {
    "duration": 229,
    "start_time": "2022-05-16T16:26:30.890Z"
   },
   {
    "duration": 239,
    "start_time": "2022-05-16T16:30:29.684Z"
   },
   {
    "duration": 281,
    "start_time": "2022-05-16T16:35:04.844Z"
   },
   {
    "duration": 1243,
    "start_time": "2022-05-17T12:58:21.409Z"
   },
   {
    "duration": 77,
    "start_time": "2022-05-17T12:58:22.654Z"
   },
   {
    "duration": 33,
    "start_time": "2022-05-17T12:58:22.732Z"
   },
   {
    "duration": 14,
    "start_time": "2022-05-17T12:58:22.767Z"
   },
   {
    "duration": 8,
    "start_time": "2022-05-17T12:58:22.782Z"
   },
   {
    "duration": 4,
    "start_time": "2022-05-17T12:58:22.791Z"
   },
   {
    "duration": 131,
    "start_time": "2022-05-17T12:58:22.796Z"
   },
   {
    "duration": 4,
    "start_time": "2022-05-17T12:58:22.929Z"
   },
   {
    "duration": 4,
    "start_time": "2022-05-17T12:58:22.934Z"
   },
   {
    "duration": 5,
    "start_time": "2022-05-17T12:58:22.941Z"
   },
   {
    "duration": 16,
    "start_time": "2022-05-17T12:58:22.947Z"
   },
   {
    "duration": 6,
    "start_time": "2022-05-17T12:58:22.965Z"
   },
   {
    "duration": 114,
    "start_time": "2022-05-17T12:58:22.973Z"
   },
   {
    "duration": 8,
    "start_time": "2022-05-17T12:58:23.088Z"
   },
   {
    "duration": 124,
    "start_time": "2022-05-17T12:58:23.098Z"
   },
   {
    "duration": 7,
    "start_time": "2022-05-17T12:58:23.223Z"
   },
   {
    "duration": 8,
    "start_time": "2022-05-17T12:58:23.232Z"
   },
   {
    "duration": 6,
    "start_time": "2022-05-17T12:58:23.242Z"
   },
   {
    "duration": 115,
    "start_time": "2022-05-17T12:58:23.249Z"
   },
   {
    "duration": 2,
    "start_time": "2022-05-17T12:58:23.365Z"
   },
   {
    "duration": 11,
    "start_time": "2022-05-17T12:58:23.369Z"
   },
   {
    "duration": 4,
    "start_time": "2022-05-17T12:58:23.381Z"
   },
   {
    "duration": 106,
    "start_time": "2022-05-17T12:58:23.386Z"
   },
   {
    "duration": 5,
    "start_time": "2022-05-17T12:58:23.493Z"
   },
   {
    "duration": 6,
    "start_time": "2022-05-17T12:58:23.500Z"
   },
   {
    "duration": 10,
    "start_time": "2022-05-17T12:58:23.508Z"
   },
   {
    "duration": 10,
    "start_time": "2022-05-17T12:58:23.520Z"
   },
   {
    "duration": 113,
    "start_time": "2022-05-17T12:58:23.534Z"
   },
   {
    "duration": 13,
    "start_time": "2022-05-17T12:58:23.649Z"
   },
   {
    "duration": 106,
    "start_time": "2022-05-17T12:58:23.664Z"
   },
   {
    "duration": 5,
    "start_time": "2022-05-17T12:58:23.772Z"
   },
   {
    "duration": 8,
    "start_time": "2022-05-17T12:58:23.778Z"
   },
   {
    "duration": 5,
    "start_time": "2022-05-17T12:58:23.788Z"
   },
   {
    "duration": 102,
    "start_time": "2022-05-17T12:58:23.794Z"
   },
   {
    "duration": 8,
    "start_time": "2022-05-17T12:58:23.898Z"
   },
   {
    "duration": 9,
    "start_time": "2022-05-17T12:58:23.907Z"
   },
   {
    "duration": 10,
    "start_time": "2022-05-17T12:58:23.918Z"
   },
   {
    "duration": 176,
    "start_time": "2022-05-17T12:58:23.930Z"
   },
   {
    "duration": 5,
    "start_time": "2022-05-17T12:58:24.108Z"
   },
   {
    "duration": 4,
    "start_time": "2022-05-17T12:58:24.115Z"
   },
   {
    "duration": 112,
    "start_time": "2022-05-17T12:58:24.121Z"
   },
   {
    "duration": 6,
    "start_time": "2022-05-17T12:58:24.234Z"
   },
   {
    "duration": 21,
    "start_time": "2022-05-17T12:58:24.241Z"
   },
   {
    "duration": 7,
    "start_time": "2022-05-17T12:58:24.264Z"
   },
   {
    "duration": 8,
    "start_time": "2022-05-17T12:58:24.272Z"
   },
   {
    "duration": 9,
    "start_time": "2022-05-17T12:58:24.281Z"
   },
   {
    "duration": 104,
    "start_time": "2022-05-17T12:58:24.291Z"
   },
   {
    "duration": 4,
    "start_time": "2022-05-17T12:58:24.396Z"
   },
   {
    "duration": 104,
    "start_time": "2022-05-17T12:58:24.401Z"
   },
   {
    "duration": 4,
    "start_time": "2022-05-17T12:58:24.507Z"
   },
   {
    "duration": 10,
    "start_time": "2022-05-17T12:58:24.512Z"
   },
   {
    "duration": 8,
    "start_time": "2022-05-17T12:58:24.523Z"
   },
   {
    "duration": 6,
    "start_time": "2022-05-17T12:58:24.532Z"
   },
   {
    "duration": 5,
    "start_time": "2022-05-17T12:58:24.539Z"
   },
   {
    "duration": 18,
    "start_time": "2022-05-17T12:58:24.545Z"
   },
   {
    "duration": 7,
    "start_time": "2022-05-17T12:58:24.565Z"
   },
   {
    "duration": 6,
    "start_time": "2022-05-17T12:58:24.573Z"
   },
   {
    "duration": 20,
    "start_time": "2022-05-17T12:58:24.581Z"
   },
   {
    "duration": 9,
    "start_time": "2022-05-17T12:58:24.603Z"
   },
   {
    "duration": 7,
    "start_time": "2022-05-17T12:58:24.613Z"
   },
   {
    "duration": 5,
    "start_time": "2022-05-17T12:58:24.622Z"
   },
   {
    "duration": 3,
    "start_time": "2022-05-17T12:58:24.629Z"
   },
   {
    "duration": 95,
    "start_time": "2022-05-17T12:58:24.634Z"
   },
   {
    "duration": 5,
    "start_time": "2022-05-17T12:58:24.730Z"
   },
   {
    "duration": 6,
    "start_time": "2022-05-17T12:58:24.736Z"
   },
   {
    "duration": 28,
    "start_time": "2022-05-17T12:58:24.743Z"
   },
   {
    "duration": 152,
    "start_time": "2022-05-17T12:58:24.773Z"
   },
   {
    "duration": 149,
    "start_time": "2022-05-17T12:58:24.927Z"
   },
   {
    "duration": 132,
    "start_time": "2022-05-17T12:58:25.078Z"
   },
   {
    "duration": 173,
    "start_time": "2022-05-17T12:58:25.212Z"
   },
   {
    "duration": 10,
    "start_time": "2022-05-17T12:58:25.387Z"
   },
   {
    "duration": 4,
    "start_time": "2022-05-17T12:58:25.398Z"
   },
   {
    "duration": 270,
    "start_time": "2022-05-17T12:58:25.404Z"
   },
   {
    "duration": 174,
    "start_time": "2022-05-17T12:58:25.675Z"
   },
   {
    "duration": 148,
    "start_time": "2022-05-17T12:58:25.851Z"
   },
   {
    "duration": 23,
    "start_time": "2022-05-17T12:58:26.001Z"
   },
   {
    "duration": 267,
    "start_time": "2022-05-17T12:58:26.025Z"
   },
   {
    "duration": 23,
    "start_time": "2022-05-17T12:58:26.294Z"
   },
   {
    "duration": 199,
    "start_time": "2022-05-17T12:58:26.319Z"
   },
   {
    "duration": 154,
    "start_time": "2022-05-17T12:58:26.519Z"
   },
   {
    "duration": 25,
    "start_time": "2022-05-17T12:58:26.674Z"
   },
   {
    "duration": 274,
    "start_time": "2022-05-17T12:58:26.704Z"
   },
   {
    "duration": 23,
    "start_time": "2022-05-17T12:58:26.979Z"
   },
   {
    "duration": 380,
    "start_time": "2022-05-17T12:58:27.003Z"
   },
   {
    "duration": 23,
    "start_time": "2022-05-17T12:58:27.384Z"
   },
   {
    "duration": 237,
    "start_time": "2022-05-17T12:58:27.408Z"
   },
   {
    "duration": 29,
    "start_time": "2022-05-17T12:58:27.646Z"
   },
   {
    "duration": 7,
    "start_time": "2022-05-17T12:58:27.676Z"
   },
   {
    "duration": 8,
    "start_time": "2022-05-17T12:58:27.685Z"
   },
   {
    "duration": 151,
    "start_time": "2022-05-17T12:58:27.695Z"
   },
   {
    "duration": 15,
    "start_time": "2022-05-17T12:58:27.847Z"
   },
   {
    "duration": 214,
    "start_time": "2022-05-17T12:58:27.864Z"
   },
   {
    "duration": 139,
    "start_time": "2022-05-17T12:58:28.080Z"
   },
   {
    "duration": 178,
    "start_time": "2022-05-17T12:58:28.221Z"
   },
   {
    "duration": 140,
    "start_time": "2022-05-17T12:58:28.401Z"
   },
   {
    "duration": 145,
    "start_time": "2022-05-17T12:58:28.543Z"
   },
   {
    "duration": 155,
    "start_time": "2022-05-17T12:58:28.690Z"
   },
   {
    "duration": 8,
    "start_time": "2022-05-17T13:10:29.293Z"
   },
   {
    "duration": 1128,
    "start_time": "2022-05-17T13:10:37.740Z"
   },
   {
    "duration": 77,
    "start_time": "2022-05-17T13:10:38.870Z"
   },
   {
    "duration": 29,
    "start_time": "2022-05-17T13:10:38.949Z"
   },
   {
    "duration": 13,
    "start_time": "2022-05-17T13:10:38.980Z"
   },
   {
    "duration": 7,
    "start_time": "2022-05-17T13:10:38.995Z"
   },
   {
    "duration": 5,
    "start_time": "2022-05-17T13:10:39.003Z"
   },
   {
    "duration": 139,
    "start_time": "2022-05-17T13:10:39.009Z"
   },
   {
    "duration": 13,
    "start_time": "2022-05-17T13:10:39.150Z"
   },
   {
    "duration": 4,
    "start_time": "2022-05-17T13:10:39.164Z"
   },
   {
    "duration": 6,
    "start_time": "2022-05-17T13:10:39.170Z"
   },
   {
    "duration": 6,
    "start_time": "2022-05-17T13:10:39.178Z"
   },
   {
    "duration": 6,
    "start_time": "2022-05-17T13:10:39.185Z"
   },
   {
    "duration": 106,
    "start_time": "2022-05-17T13:10:39.192Z"
   },
   {
    "duration": 9,
    "start_time": "2022-05-17T13:10:39.300Z"
   },
   {
    "duration": 111,
    "start_time": "2022-05-17T13:10:39.311Z"
   },
   {
    "duration": 6,
    "start_time": "2022-05-17T13:10:39.423Z"
   },
   {
    "duration": 10,
    "start_time": "2022-05-17T13:10:39.431Z"
   },
   {
    "duration": 20,
    "start_time": "2022-05-17T13:10:39.442Z"
   },
   {
    "duration": 6,
    "start_time": "2022-05-17T13:10:39.463Z"
   },
   {
    "duration": 105,
    "start_time": "2022-05-17T13:10:39.470Z"
   },
   {
    "duration": 2,
    "start_time": "2022-05-17T13:10:39.577Z"
   },
   {
    "duration": 6,
    "start_time": "2022-05-17T13:10:39.580Z"
   },
   {
    "duration": 4,
    "start_time": "2022-05-17T13:10:39.588Z"
   },
   {
    "duration": 115,
    "start_time": "2022-05-17T13:10:39.593Z"
   },
   {
    "duration": 6,
    "start_time": "2022-05-17T13:10:39.709Z"
   },
   {
    "duration": 8,
    "start_time": "2022-05-17T13:10:39.716Z"
   },
   {
    "duration": 7,
    "start_time": "2022-05-17T13:10:39.725Z"
   },
   {
    "duration": 5,
    "start_time": "2022-05-17T13:10:39.736Z"
   },
   {
    "duration": 123,
    "start_time": "2022-05-17T13:10:39.743Z"
   },
   {
    "duration": 3,
    "start_time": "2022-05-17T13:10:39.868Z"
   },
   {
    "duration": 111,
    "start_time": "2022-05-17T13:10:39.873Z"
   },
   {
    "duration": 5,
    "start_time": "2022-05-17T13:10:39.985Z"
   },
   {
    "duration": 5,
    "start_time": "2022-05-17T13:10:39.992Z"
   },
   {
    "duration": 7,
    "start_time": "2022-05-17T13:10:39.998Z"
   },
   {
    "duration": 104,
    "start_time": "2022-05-17T13:10:40.006Z"
   },
   {
    "duration": 8,
    "start_time": "2022-05-17T13:10:40.112Z"
   },
   {
    "duration": 15,
    "start_time": "2022-05-17T13:10:40.121Z"
   },
   {
    "duration": 5,
    "start_time": "2022-05-17T13:10:40.137Z"
   },
   {
    "duration": 187,
    "start_time": "2022-05-17T13:10:40.143Z"
   },
   {
    "duration": 5,
    "start_time": "2022-05-17T13:10:40.332Z"
   },
   {
    "duration": 8,
    "start_time": "2022-05-17T13:10:40.338Z"
   },
   {
    "duration": 95,
    "start_time": "2022-05-17T13:10:40.348Z"
   },
   {
    "duration": 17,
    "start_time": "2022-05-17T13:10:40.445Z"
   },
   {
    "duration": 4,
    "start_time": "2022-05-17T13:10:40.463Z"
   },
   {
    "duration": 6,
    "start_time": "2022-05-17T13:10:40.468Z"
   },
   {
    "duration": 6,
    "start_time": "2022-05-17T13:10:40.476Z"
   },
   {
    "duration": 7,
    "start_time": "2022-05-17T13:10:40.483Z"
   },
   {
    "duration": 106,
    "start_time": "2022-05-17T13:10:40.491Z"
   },
   {
    "duration": 3,
    "start_time": "2022-05-17T13:10:40.599Z"
   },
   {
    "duration": 109,
    "start_time": "2022-05-17T13:10:40.603Z"
   },
   {
    "duration": 5,
    "start_time": "2022-05-17T13:10:40.713Z"
   },
   {
    "duration": 11,
    "start_time": "2022-05-17T13:10:40.719Z"
   },
   {
    "duration": 9,
    "start_time": "2022-05-17T13:10:40.732Z"
   },
   {
    "duration": 7,
    "start_time": "2022-05-17T13:10:40.742Z"
   },
   {
    "duration": 14,
    "start_time": "2022-05-17T13:10:40.750Z"
   },
   {
    "duration": 4,
    "start_time": "2022-05-17T13:10:40.766Z"
   },
   {
    "duration": 5,
    "start_time": "2022-05-17T13:10:40.772Z"
   },
   {
    "duration": 5,
    "start_time": "2022-05-17T13:10:40.779Z"
   },
   {
    "duration": 20,
    "start_time": "2022-05-17T13:10:40.785Z"
   },
   {
    "duration": 6,
    "start_time": "2022-05-17T13:10:40.806Z"
   },
   {
    "duration": 6,
    "start_time": "2022-05-17T13:10:40.813Z"
   },
   {
    "duration": 4,
    "start_time": "2022-05-17T13:10:40.820Z"
   },
   {
    "duration": 5,
    "start_time": "2022-05-17T13:10:40.825Z"
   },
   {
    "duration": 99,
    "start_time": "2022-05-17T13:10:40.831Z"
   },
   {
    "duration": 3,
    "start_time": "2022-05-17T13:10:40.932Z"
   },
   {
    "duration": 5,
    "start_time": "2022-05-17T13:10:40.937Z"
   },
   {
    "duration": 29,
    "start_time": "2022-05-17T13:10:40.943Z"
   },
   {
    "duration": 148,
    "start_time": "2022-05-17T13:10:40.973Z"
   },
   {
    "duration": 152,
    "start_time": "2022-05-17T13:10:41.122Z"
   },
   {
    "duration": 133,
    "start_time": "2022-05-17T13:10:41.275Z"
   },
   {
    "duration": 168,
    "start_time": "2022-05-17T13:10:41.410Z"
   },
   {
    "duration": 10,
    "start_time": "2022-05-17T13:10:41.579Z"
   },
   {
    "duration": 4,
    "start_time": "2022-05-17T13:10:41.591Z"
   },
   {
    "duration": 277,
    "start_time": "2022-05-17T13:10:41.597Z"
   },
   {
    "duration": 187,
    "start_time": "2022-05-17T13:10:41.876Z"
   },
   {
    "duration": 155,
    "start_time": "2022-05-17T13:10:42.065Z"
   },
   {
    "duration": 25,
    "start_time": "2022-05-17T13:10:42.221Z"
   },
   {
    "duration": 262,
    "start_time": "2022-05-17T13:10:42.248Z"
   },
   {
    "duration": 24,
    "start_time": "2022-05-17T13:10:42.512Z"
   },
   {
    "duration": 188,
    "start_time": "2022-05-17T13:10:42.538Z"
   },
   {
    "duration": 155,
    "start_time": "2022-05-17T13:10:42.727Z"
   },
   {
    "duration": 24,
    "start_time": "2022-05-17T13:10:42.887Z"
   },
   {
    "duration": 274,
    "start_time": "2022-05-17T13:10:42.912Z"
   },
   {
    "duration": 23,
    "start_time": "2022-05-17T13:10:43.187Z"
   },
   {
    "duration": 373,
    "start_time": "2022-05-17T13:10:43.212Z"
   },
   {
    "duration": 22,
    "start_time": "2022-05-17T13:10:43.586Z"
   },
   {
    "duration": 230,
    "start_time": "2022-05-17T13:10:43.610Z"
   },
   {
    "duration": 27,
    "start_time": "2022-05-17T13:10:43.842Z"
   },
   {
    "duration": 6,
    "start_time": "2022-05-17T13:10:43.871Z"
   },
   {
    "duration": 7,
    "start_time": "2022-05-17T13:10:43.879Z"
   },
   {
    "duration": 149,
    "start_time": "2022-05-17T13:10:43.888Z"
   },
   {
    "duration": 7,
    "start_time": "2022-05-17T13:10:44.038Z"
   },
   {
    "duration": 217,
    "start_time": "2022-05-17T13:10:44.047Z"
   },
   {
    "duration": 139,
    "start_time": "2022-05-17T13:10:44.266Z"
   },
   {
    "duration": 167,
    "start_time": "2022-05-17T13:10:44.407Z"
   },
   {
    "duration": 135,
    "start_time": "2022-05-17T13:10:44.576Z"
   },
   {
    "duration": 150,
    "start_time": "2022-05-17T13:10:44.713Z"
   },
   {
    "duration": 155,
    "start_time": "2022-05-17T13:10:44.865Z"
   },
   {
    "duration": 1464,
    "start_time": "2022-05-18T12:19:06.117Z"
   },
   {
    "duration": 147,
    "start_time": "2022-05-18T12:19:07.583Z"
   },
   {
    "duration": 39,
    "start_time": "2022-05-18T12:19:07.732Z"
   },
   {
    "duration": 16,
    "start_time": "2022-05-18T12:19:07.775Z"
   },
   {
    "duration": 29,
    "start_time": "2022-05-18T12:19:07.793Z"
   },
   {
    "duration": 17,
    "start_time": "2022-05-18T12:19:07.824Z"
   },
   {
    "duration": 181,
    "start_time": "2022-05-18T12:19:07.843Z"
   },
   {
    "duration": 5,
    "start_time": "2022-05-18T12:19:08.026Z"
   },
   {
    "duration": 48,
    "start_time": "2022-05-18T12:19:08.032Z"
   },
   {
    "duration": 35,
    "start_time": "2022-05-18T12:19:08.083Z"
   },
   {
    "duration": 52,
    "start_time": "2022-05-18T12:19:08.120Z"
   },
   {
    "duration": 41,
    "start_time": "2022-05-18T12:19:08.174Z"
   },
   {
    "duration": 218,
    "start_time": "2022-05-18T12:19:08.217Z"
   },
   {
    "duration": 9,
    "start_time": "2022-05-18T12:19:08.436Z"
   },
   {
    "duration": 161,
    "start_time": "2022-05-18T12:19:08.446Z"
   },
   {
    "duration": 5,
    "start_time": "2022-05-18T12:19:08.609Z"
   },
   {
    "duration": 70,
    "start_time": "2022-05-18T12:19:08.615Z"
   },
   {
    "duration": 32,
    "start_time": "2022-05-18T12:19:08.687Z"
   },
   {
    "duration": 160,
    "start_time": "2022-05-18T12:19:08.721Z"
   },
   {
    "duration": 4,
    "start_time": "2022-05-18T12:19:08.883Z"
   },
   {
    "duration": 68,
    "start_time": "2022-05-18T12:19:08.889Z"
   },
   {
    "duration": 54,
    "start_time": "2022-05-18T12:19:08.965Z"
   },
   {
    "duration": 164,
    "start_time": "2022-05-18T12:19:09.021Z"
   },
   {
    "duration": 4,
    "start_time": "2022-05-18T12:19:09.187Z"
   },
   {
    "duration": 22,
    "start_time": "2022-05-18T12:19:09.193Z"
   },
   {
    "duration": 21,
    "start_time": "2022-05-18T12:19:09.217Z"
   },
   {
    "duration": 35,
    "start_time": "2022-05-18T12:19:09.240Z"
   },
   {
    "duration": 134,
    "start_time": "2022-05-18T12:19:09.279Z"
   },
   {
    "duration": 3,
    "start_time": "2022-05-18T12:19:09.415Z"
   },
   {
    "duration": 162,
    "start_time": "2022-05-18T12:19:09.419Z"
   },
   {
    "duration": 6,
    "start_time": "2022-05-18T12:19:09.584Z"
   },
   {
    "duration": 40,
    "start_time": "2022-05-18T12:19:09.591Z"
   },
   {
    "duration": 51,
    "start_time": "2022-05-18T12:19:09.633Z"
   },
   {
    "duration": 159,
    "start_time": "2022-05-18T12:19:09.686Z"
   },
   {
    "duration": 23,
    "start_time": "2022-05-18T12:19:09.846Z"
   },
   {
    "duration": 16,
    "start_time": "2022-05-18T12:19:09.873Z"
   },
   {
    "duration": 49,
    "start_time": "2022-05-18T12:19:09.891Z"
   },
   {
    "duration": 163,
    "start_time": "2022-05-18T12:19:09.942Z"
   },
   {
    "duration": 5,
    "start_time": "2022-05-18T12:19:10.107Z"
   },
   {
    "duration": 24,
    "start_time": "2022-05-18T12:19:10.113Z"
   },
   {
    "duration": 149,
    "start_time": "2022-05-18T12:19:10.139Z"
   },
   {
    "duration": 4,
    "start_time": "2022-05-18T12:19:10.289Z"
   },
   {
    "duration": 39,
    "start_time": "2022-05-18T12:19:10.295Z"
   },
   {
    "duration": 36,
    "start_time": "2022-05-18T12:19:10.335Z"
   },
   {
    "duration": 32,
    "start_time": "2022-05-18T12:19:10.373Z"
   },
   {
    "duration": 47,
    "start_time": "2022-05-18T12:19:10.407Z"
   },
   {
    "duration": 136,
    "start_time": "2022-05-18T12:19:10.458Z"
   },
   {
    "duration": 4,
    "start_time": "2022-05-18T12:19:10.595Z"
   },
   {
    "duration": 150,
    "start_time": "2022-05-18T12:19:10.600Z"
   },
   {
    "duration": 10,
    "start_time": "2022-05-18T12:19:10.759Z"
   },
   {
    "duration": 23,
    "start_time": "2022-05-18T12:19:10.770Z"
   },
   {
    "duration": 10,
    "start_time": "2022-05-18T12:19:10.795Z"
   },
   {
    "duration": 15,
    "start_time": "2022-05-18T12:19:10.807Z"
   },
   {
    "duration": 10,
    "start_time": "2022-05-18T12:19:10.824Z"
   },
   {
    "duration": 11,
    "start_time": "2022-05-18T12:19:10.836Z"
   },
   {
    "duration": 30,
    "start_time": "2022-05-18T12:19:10.848Z"
   },
   {
    "duration": 24,
    "start_time": "2022-05-18T12:19:10.880Z"
   },
   {
    "duration": 133,
    "start_time": "2022-05-18T12:19:10.906Z"
   },
   {
    "duration": 4,
    "start_time": "2022-05-18T12:19:11.041Z"
   },
   {
    "duration": 20,
    "start_time": "2022-05-18T12:19:11.047Z"
   },
   {
    "duration": 15,
    "start_time": "2022-05-18T12:19:11.070Z"
   },
   {
    "duration": 10,
    "start_time": "2022-05-18T12:19:11.086Z"
   },
   {
    "duration": 166,
    "start_time": "2022-05-18T12:19:11.098Z"
   },
   {
    "duration": 5,
    "start_time": "2022-05-18T12:19:11.270Z"
   },
   {
    "duration": 16,
    "start_time": "2022-05-18T12:19:11.279Z"
   },
   {
    "duration": 33,
    "start_time": "2022-05-18T12:19:11.296Z"
   },
   {
    "duration": 160,
    "start_time": "2022-05-18T12:19:11.331Z"
   },
   {
    "duration": 195,
    "start_time": "2022-05-18T12:19:11.493Z"
   },
   {
    "duration": 177,
    "start_time": "2022-05-18T12:19:11.690Z"
   },
   {
    "duration": 220,
    "start_time": "2022-05-18T12:19:11.876Z"
   },
   {
    "duration": 10,
    "start_time": "2022-05-18T12:19:12.098Z"
   },
   {
    "duration": 18,
    "start_time": "2022-05-18T12:19:12.110Z"
   },
   {
    "duration": 238,
    "start_time": "2022-05-18T12:19:12.130Z"
   },
   {
    "duration": 211,
    "start_time": "2022-05-18T12:19:12.373Z"
   },
   {
    "duration": 206,
    "start_time": "2022-05-18T12:19:12.585Z"
   },
   {
    "duration": 24,
    "start_time": "2022-05-18T12:19:12.793Z"
   },
   {
    "duration": 563,
    "start_time": "2022-05-18T12:19:12.818Z"
   },
   {
    "duration": 28,
    "start_time": "2022-05-18T12:19:13.388Z"
   },
   {
    "duration": 270,
    "start_time": "2022-05-18T12:19:13.417Z"
   },
   {
    "duration": 236,
    "start_time": "2022-05-18T12:19:13.689Z"
   },
   {
    "duration": 28,
    "start_time": "2022-05-18T12:19:13.927Z"
   },
   {
    "duration": 362,
    "start_time": "2022-05-18T12:19:13.960Z"
   },
   {
    "duration": 24,
    "start_time": "2022-05-18T12:19:14.323Z"
   },
   {
    "duration": 487,
    "start_time": "2022-05-18T12:19:14.358Z"
   },
   {
    "duration": 33,
    "start_time": "2022-05-18T12:19:14.848Z"
   },
   {
    "duration": 331,
    "start_time": "2022-05-18T12:19:14.883Z"
   },
   {
    "duration": 21,
    "start_time": "2022-05-18T12:19:15.215Z"
   },
   {
    "duration": 24,
    "start_time": "2022-05-18T12:19:15.237Z"
   },
   {
    "duration": 51,
    "start_time": "2022-05-18T12:19:15.263Z"
   },
   {
    "duration": 170,
    "start_time": "2022-05-18T12:19:15.316Z"
   },
   {
    "duration": 7,
    "start_time": "2022-05-18T12:19:15.488Z"
   },
   {
    "duration": 182,
    "start_time": "2022-05-18T12:19:15.497Z"
   },
   {
    "duration": 159,
    "start_time": "2022-05-18T12:19:15.681Z"
   },
   {
    "duration": 182,
    "start_time": "2022-05-18T12:19:15.841Z"
   },
   {
    "duration": 179,
    "start_time": "2022-05-18T12:19:16.025Z"
   },
   {
    "duration": 190,
    "start_time": "2022-05-18T12:19:16.206Z"
   },
   {
    "duration": 189,
    "start_time": "2022-05-18T12:19:16.398Z"
   },
   {
    "duration": 1642,
    "start_time": "2022-05-18T19:58:51.825Z"
   },
   {
    "duration": 154,
    "start_time": "2022-05-18T19:58:53.470Z"
   },
   {
    "duration": 49,
    "start_time": "2022-05-18T19:58:53.626Z"
   },
   {
    "duration": 17,
    "start_time": "2022-05-18T19:58:53.677Z"
   },
   {
    "duration": 12,
    "start_time": "2022-05-18T19:58:53.742Z"
   },
   {
    "duration": 5,
    "start_time": "2022-05-18T19:58:54.874Z"
   },
   {
    "duration": 147,
    "start_time": "2022-05-18T19:58:55.285Z"
   },
   {
    "duration": 6,
    "start_time": "2022-05-18T19:58:57.107Z"
   },
   {
    "duration": 4,
    "start_time": "2022-05-18T19:58:57.525Z"
   },
   {
    "duration": 5,
    "start_time": "2022-05-18T19:58:57.705Z"
   },
   {
    "duration": 5,
    "start_time": "2022-05-18T19:58:58.085Z"
   },
   {
    "duration": 8,
    "start_time": "2022-05-18T19:58:58.305Z"
   },
   {
    "duration": 218,
    "start_time": "2022-05-18T19:58:59.054Z"
   },
   {
    "duration": 12,
    "start_time": "2022-05-18T19:58:59.754Z"
   },
   {
    "duration": 159,
    "start_time": "2022-05-18T19:59:00.927Z"
   },
   {
    "duration": 6,
    "start_time": "2022-05-18T19:59:01.955Z"
   },
   {
    "duration": 10,
    "start_time": "2022-05-18T19:59:02.114Z"
   },
   {
    "duration": 10,
    "start_time": "2022-05-18T19:59:05.715Z"
   },
   {
    "duration": 154,
    "start_time": "2022-05-18T19:59:07.906Z"
   },
   {
    "duration": 12,
    "start_time": "2022-05-18T19:59:09.968Z"
   },
   {
    "duration": 5,
    "start_time": "2022-05-18T19:59:11.874Z"
   },
   {
    "duration": 5,
    "start_time": "2022-05-18T19:59:12.598Z"
   },
   {
    "duration": 170,
    "start_time": "2022-05-18T19:59:15.942Z"
   },
   {
    "duration": 152,
    "start_time": "2022-05-18T20:01:49.751Z"
   },
   {
    "duration": 4,
    "start_time": "2022-05-18T20:01:59.775Z"
   },
   {
    "duration": 81,
    "start_time": "2022-05-18T20:02:32.141Z"
   },
   {
    "duration": 8,
    "start_time": "2022-05-18T20:03:54.123Z"
   },
   {
    "duration": 7,
    "start_time": "2022-05-18T20:04:23.521Z"
   },
   {
    "duration": 7,
    "start_time": "2022-05-18T20:04:37.912Z"
   },
   {
    "duration": 11,
    "start_time": "2022-05-18T20:05:24.666Z"
   },
   {
    "duration": 9,
    "start_time": "2022-05-18T20:05:29.506Z"
   },
   {
    "duration": 12,
    "start_time": "2022-05-18T20:06:16.686Z"
   },
   {
    "duration": 5,
    "start_time": "2022-05-18T20:06:25.506Z"
   },
   {
    "duration": 4,
    "start_time": "2022-05-18T20:07:09.415Z"
   },
   {
    "duration": 3,
    "start_time": "2022-05-18T20:07:16.289Z"
   },
   {
    "duration": 9,
    "start_time": "2022-05-18T20:08:16.362Z"
   },
   {
    "duration": 4,
    "start_time": "2022-05-18T20:08:27.588Z"
   },
   {
    "duration": 4,
    "start_time": "2022-05-18T20:08:27.970Z"
   },
   {
    "duration": 65,
    "start_time": "2022-05-18T20:08:28.340Z"
   },
   {
    "duration": 8,
    "start_time": "2022-05-18T20:08:28.667Z"
   },
   {
    "duration": 8,
    "start_time": "2022-05-18T20:08:28.998Z"
   },
   {
    "duration": 5,
    "start_time": "2022-05-18T20:08:29.570Z"
   },
   {
    "duration": 5,
    "start_time": "2022-05-18T20:08:32.952Z"
   },
   {
    "duration": 3,
    "start_time": "2022-05-18T20:08:57.896Z"
   },
   {
    "duration": 3,
    "start_time": "2022-05-18T20:09:12.247Z"
   },
   {
    "duration": 1276,
    "start_time": "2022-05-18T20:10:32.806Z"
   },
   {
    "duration": 91,
    "start_time": "2022-05-18T20:10:34.084Z"
   },
   {
    "duration": 34,
    "start_time": "2022-05-18T20:10:34.177Z"
   },
   {
    "duration": 22,
    "start_time": "2022-05-18T20:10:34.213Z"
   },
   {
    "duration": 13,
    "start_time": "2022-05-18T20:10:34.568Z"
   },
   {
    "duration": 3,
    "start_time": "2022-05-18T20:10:36.218Z"
   },
   {
    "duration": 142,
    "start_time": "2022-05-18T20:10:36.575Z"
   },
   {
    "duration": 8,
    "start_time": "2022-05-18T20:10:38.136Z"
   },
   {
    "duration": 4,
    "start_time": "2022-05-18T20:10:39.061Z"
   },
   {
    "duration": 6,
    "start_time": "2022-05-18T20:10:39.279Z"
   },
   {
    "duration": 7,
    "start_time": "2022-05-18T20:10:39.636Z"
   },
   {
    "duration": 6,
    "start_time": "2022-05-18T20:10:39.810Z"
   },
   {
    "duration": 171,
    "start_time": "2022-05-18T20:10:41.397Z"
   },
   {
    "duration": 10,
    "start_time": "2022-05-18T20:10:42.709Z"
   },
   {
    "duration": 124,
    "start_time": "2022-05-18T20:13:35.188Z"
   },
   {
    "duration": 5,
    "start_time": "2022-05-18T20:13:38.566Z"
   },
   {
    "duration": 9,
    "start_time": "2022-05-18T20:13:43.561Z"
   },
   {
    "duration": 9,
    "start_time": "2022-05-18T20:13:44.712Z"
   },
   {
    "duration": 152,
    "start_time": "2022-05-18T20:13:45.370Z"
   },
   {
    "duration": 3,
    "start_time": "2022-05-18T20:13:51.901Z"
   },
   {
    "duration": 4,
    "start_time": "2022-05-18T20:13:59.710Z"
   },
   {
    "duration": 3,
    "start_time": "2022-05-18T20:14:00.310Z"
   },
   {
    "duration": 117,
    "start_time": "2022-05-18T20:14:01.569Z"
   },
   {
    "duration": 10,
    "start_time": "2022-05-18T20:14:26.468Z"
   },
   {
    "duration": 138,
    "start_time": "2022-05-18T20:14:35.910Z"
   },
   {
    "duration": 5,
    "start_time": "2022-05-18T20:14:38.943Z"
   },
   {
    "duration": 4,
    "start_time": "2022-05-18T20:14:39.655Z"
   },
   {
    "duration": 107,
    "start_time": "2022-05-18T20:14:39.990Z"
   },
   {
    "duration": 7,
    "start_time": "2022-05-18T20:14:53.855Z"
   },
   {
    "duration": 9,
    "start_time": "2022-05-18T20:14:57.374Z"
   },
   {
    "duration": 143,
    "start_time": "2022-05-18T20:15:00.491Z"
   },
   {
    "duration": 6,
    "start_time": "2022-05-18T20:15:08.009Z"
   },
   {
    "duration": 72,
    "start_time": "2022-05-18T20:15:11.316Z"
   },
   {
    "duration": 4,
    "start_time": "2022-05-18T20:15:25.244Z"
   },
   {
    "duration": 4,
    "start_time": "2022-05-18T20:15:56.075Z"
   },
   {
    "duration": 21,
    "start_time": "2022-05-18T20:18:42.514Z"
   },
   {
    "duration": 7,
    "start_time": "2022-05-18T20:18:42.880Z"
   },
   {
    "duration": 11,
    "start_time": "2022-05-18T20:18:43.276Z"
   },
   {
    "duration": 137,
    "start_time": "2022-05-18T20:18:43.910Z"
   },
   {
    "duration": 4,
    "start_time": "2022-05-18T20:18:46.479Z"
   },
   {
    "duration": 126,
    "start_time": "2022-05-18T20:18:47.768Z"
   },
   {
    "duration": 4,
    "start_time": "2022-05-18T20:19:39.439Z"
   },
   {
    "duration": 199,
    "start_time": "2022-05-18T20:19:43.691Z"
   },
   {
    "duration": 4,
    "start_time": "2022-05-18T20:19:44.191Z"
   },
   {
    "duration": 121,
    "start_time": "2022-05-18T20:19:44.579Z"
   },
   {
    "duration": 6,
    "start_time": "2022-05-18T20:19:45.476Z"
   },
   {
    "duration": 5,
    "start_time": "2022-05-18T20:19:46.016Z"
   },
   {
    "duration": 6,
    "start_time": "2022-05-18T20:19:46.366Z"
   },
   {
    "duration": 118,
    "start_time": "2022-05-18T20:19:47.179Z"
   },
   {
    "duration": 16,
    "start_time": "2022-05-18T20:19:54.409Z"
   },
   {
    "duration": 5,
    "start_time": "2022-05-18T20:19:54.811Z"
   },
   {
    "duration": 8,
    "start_time": "2022-05-18T20:19:55.413Z"
   },
   {
    "duration": 126,
    "start_time": "2022-05-18T20:19:56.280Z"
   },
   {
    "duration": 5,
    "start_time": "2022-05-18T20:19:56.899Z"
   },
   {
    "duration": 5,
    "start_time": "2022-05-18T20:19:57.375Z"
   },
   {
    "duration": 113,
    "start_time": "2022-05-18T20:19:57.872Z"
   },
   {
    "duration": 5,
    "start_time": "2022-05-18T20:19:58.452Z"
   },
   {
    "duration": 6,
    "start_time": "2022-05-18T20:19:58.880Z"
   },
   {
    "duration": 5,
    "start_time": "2022-05-18T20:19:59.294Z"
   },
   {
    "duration": 7,
    "start_time": "2022-05-18T20:19:59.698Z"
   },
   {
    "duration": 7,
    "start_time": "2022-05-18T20:20:00.079Z"
   },
   {
    "duration": 114,
    "start_time": "2022-05-18T20:20:01.300Z"
   },
   {
    "duration": 5,
    "start_time": "2022-05-18T20:20:01.997Z"
   },
   {
    "duration": 141,
    "start_time": "2022-05-18T20:20:02.389Z"
   },
   {
    "duration": 4,
    "start_time": "2022-05-18T20:20:39.460Z"
   },
   {
    "duration": 14,
    "start_time": "2022-05-18T20:21:14.720Z"
   },
   {
    "duration": 7,
    "start_time": "2022-05-18T20:21:15.079Z"
   },
   {
    "duration": 12,
    "start_time": "2022-05-18T20:21:15.414Z"
   },
   {
    "duration": 143,
    "start_time": "2022-05-18T20:21:16.256Z"
   },
   {
    "duration": 4,
    "start_time": "2022-05-18T20:21:16.862Z"
   },
   {
    "duration": 120,
    "start_time": "2022-05-18T20:21:17.262Z"
   },
   {
    "duration": 9,
    "start_time": "2022-05-18T20:21:17.625Z"
   },
   {
    "duration": 4,
    "start_time": "2022-05-18T20:21:18.352Z"
   },
   {
    "duration": 5,
    "start_time": "2022-05-18T20:21:18.758Z"
   },
   {
    "duration": 109,
    "start_time": "2022-05-18T20:21:19.083Z"
   },
   {
    "duration": 8,
    "start_time": "2022-05-18T20:21:20.213Z"
   },
   {
    "duration": 5,
    "start_time": "2022-05-18T20:21:20.588Z"
   },
   {
    "duration": 6,
    "start_time": "2022-05-18T20:21:21.061Z"
   },
   {
    "duration": 130,
    "start_time": "2022-05-18T20:21:24.410Z"
   },
   {
    "duration": 6,
    "start_time": "2022-05-18T20:21:25.047Z"
   },
   {
    "duration": 4,
    "start_time": "2022-05-18T20:21:25.563Z"
   },
   {
    "duration": 215,
    "start_time": "2022-05-18T20:21:25.888Z"
   },
   {
    "duration": 4,
    "start_time": "2022-05-18T20:21:26.297Z"
   },
   {
    "duration": 8,
    "start_time": "2022-05-18T20:21:26.716Z"
   },
   {
    "duration": 5,
    "start_time": "2022-05-18T20:21:27.089Z"
   },
   {
    "duration": 7,
    "start_time": "2022-05-18T20:21:27.483Z"
   },
   {
    "duration": 6,
    "start_time": "2022-05-18T20:21:27.893Z"
   },
   {
    "duration": 133,
    "start_time": "2022-05-18T20:21:28.808Z"
   },
   {
    "duration": 4,
    "start_time": "2022-05-18T20:21:29.617Z"
   },
   {
    "duration": 132,
    "start_time": "2022-05-18T20:21:30.215Z"
   },
   {
    "duration": 6,
    "start_time": "2022-05-18T20:21:30.800Z"
   },
   {
    "duration": 4,
    "start_time": "2022-05-18T20:21:31.584Z"
   },
   {
    "duration": 11,
    "start_time": "2022-05-18T20:21:32.021Z"
   },
   {
    "duration": 7,
    "start_time": "2022-05-18T20:21:32.467Z"
   },
   {
    "duration": 4,
    "start_time": "2022-05-18T20:21:34.203Z"
   },
   {
    "duration": 5,
    "start_time": "2022-05-18T20:21:37.979Z"
   },
   {
    "duration": 5,
    "start_time": "2022-05-18T20:21:49.485Z"
   },
   {
    "duration": 5,
    "start_time": "2022-05-18T20:21:49.794Z"
   },
   {
    "duration": 51,
    "start_time": "2022-05-18T20:21:50.107Z"
   },
   {
    "duration": 6,
    "start_time": "2022-05-18T20:21:50.484Z"
   },
   {
    "duration": 6,
    "start_time": "2022-05-18T20:21:50.788Z"
   },
   {
    "duration": 4,
    "start_time": "2022-05-18T20:21:51.189Z"
   },
   {
    "duration": 5,
    "start_time": "2022-05-18T20:21:51.779Z"
   },
   {
    "duration": 238,
    "start_time": "2022-05-18T20:21:52.165Z"
   },
   {
    "duration": 6,
    "start_time": "2022-05-18T20:21:52.537Z"
   },
   {
    "duration": 6,
    "start_time": "2022-05-18T20:21:52.895Z"
   },
   {
    "duration": 23,
    "start_time": "2022-05-18T20:21:54.484Z"
   },
   {
    "duration": 213,
    "start_time": "2022-05-18T20:21:55.260Z"
   },
   {
    "duration": 176,
    "start_time": "2022-05-18T20:21:55.794Z"
   },
   {
    "duration": 170,
    "start_time": "2022-05-18T20:21:56.256Z"
   },
   {
    "duration": 217,
    "start_time": "2022-05-18T20:21:57.035Z"
   },
   {
    "duration": 12,
    "start_time": "2022-05-18T20:21:57.255Z"
   },
   {
    "duration": 6,
    "start_time": "2022-05-18T20:21:57.356Z"
   },
   {
    "duration": 305,
    "start_time": "2022-05-18T20:21:57.489Z"
   },
   {
    "duration": 232,
    "start_time": "2022-05-18T20:21:58.283Z"
   },
   {
    "duration": 240,
    "start_time": "2022-05-18T20:21:58.957Z"
   },
   {
    "duration": 26,
    "start_time": "2022-05-18T20:22:01.286Z"
   },
   {
    "duration": 392,
    "start_time": "2022-05-18T20:22:01.475Z"
   },
   {
    "duration": 27,
    "start_time": "2022-05-18T20:22:03.760Z"
   },
   {
    "duration": 237,
    "start_time": "2022-05-18T20:22:03.957Z"
   },
   {
    "duration": 185,
    "start_time": "2022-05-18T20:22:07.457Z"
   },
   {
    "duration": 29,
    "start_time": "2022-05-18T20:22:14.184Z"
   },
   {
    "duration": 369,
    "start_time": "2022-05-18T20:22:14.372Z"
   },
   {
    "duration": 27,
    "start_time": "2022-05-18T20:22:15.471Z"
   },
   {
    "duration": 487,
    "start_time": "2022-05-18T20:22:15.709Z"
   },
   {
    "duration": 25,
    "start_time": "2022-05-18T20:22:16.583Z"
   },
   {
    "duration": 305,
    "start_time": "2022-05-18T20:22:16.783Z"
   },
   {
    "duration": 24,
    "start_time": "2022-05-18T20:22:18.683Z"
   },
   {
    "duration": 8,
    "start_time": "2022-05-18T20:22:20.636Z"
   },
   {
    "duration": 8,
    "start_time": "2022-05-18T20:22:21.067Z"
   },
   {
    "duration": 159,
    "start_time": "2022-05-18T20:22:21.960Z"
   },
   {
    "duration": 9,
    "start_time": "2022-05-18T20:22:49.379Z"
   },
   {
    "duration": 1647,
    "start_time": "2022-05-19T16:33:38.333Z"
   },
   {
    "duration": 145,
    "start_time": "2022-05-19T16:33:39.982Z"
   },
   {
    "duration": 36,
    "start_time": "2022-05-19T16:33:40.128Z"
   },
   {
    "duration": 18,
    "start_time": "2022-05-19T16:33:40.166Z"
   },
   {
    "duration": 9,
    "start_time": "2022-05-19T16:33:40.195Z"
   },
   {
    "duration": 4,
    "start_time": "2022-05-19T16:33:40.895Z"
   },
   {
    "duration": 155,
    "start_time": "2022-05-19T16:33:41.219Z"
   },
   {
    "duration": 5,
    "start_time": "2022-05-19T16:33:41.870Z"
   },
   {
    "duration": 5,
    "start_time": "2022-05-19T16:33:42.213Z"
   },
   {
    "duration": 6,
    "start_time": "2022-05-19T16:33:42.421Z"
   },
   {
    "duration": 4,
    "start_time": "2022-05-19T16:33:42.734Z"
   },
   {
    "duration": 7,
    "start_time": "2022-05-19T16:33:42.974Z"
   },
   {
    "duration": 202,
    "start_time": "2022-05-19T16:33:43.215Z"
   },
   {
    "duration": 10,
    "start_time": "2022-05-19T16:33:43.853Z"
   },
   {
    "duration": 145,
    "start_time": "2022-05-19T16:33:44.015Z"
   },
   {
    "duration": 6,
    "start_time": "2022-05-19T16:33:44.333Z"
   },
   {
    "duration": 11,
    "start_time": "2022-05-19T16:33:44.494Z"
   },
   {
    "duration": 9,
    "start_time": "2022-05-19T16:33:45.334Z"
   },
   {
    "duration": 147,
    "start_time": "2022-05-19T16:33:45.694Z"
   },
   {
    "duration": 3,
    "start_time": "2022-05-19T16:33:46.336Z"
   },
   {
    "duration": 4,
    "start_time": "2022-05-19T16:33:46.695Z"
   },
   {
    "duration": 5,
    "start_time": "2022-05-19T16:33:47.061Z"
   },
   {
    "duration": 143,
    "start_time": "2022-05-19T16:33:47.553Z"
   },
   {
    "duration": 9,
    "start_time": "2022-05-19T16:33:49.121Z"
   },
   {
    "duration": 8,
    "start_time": "2022-05-19T16:33:49.376Z"
   },
   {
    "duration": 8,
    "start_time": "2022-05-19T16:33:49.648Z"
   },
   {
    "duration": 145,
    "start_time": "2022-05-19T16:33:50.169Z"
   },
   {
    "duration": 4,
    "start_time": "2022-05-19T16:33:50.648Z"
   },
   {
    "duration": 135,
    "start_time": "2022-05-19T16:33:51.767Z"
   },
   {
    "duration": 6,
    "start_time": "2022-05-19T16:33:51.949Z"
   },
   {
    "duration": 4,
    "start_time": "2022-05-19T16:33:52.341Z"
   },
   {
    "duration": 8,
    "start_time": "2022-05-19T16:33:52.503Z"
   },
   {
    "duration": 182,
    "start_time": "2022-05-19T16:33:52.821Z"
   },
   {
    "duration": 12,
    "start_time": "2022-05-19T16:33:53.685Z"
   },
   {
    "duration": 25,
    "start_time": "2022-05-19T16:33:53.699Z"
   },
   {
    "duration": 13,
    "start_time": "2022-05-19T16:33:53.727Z"
   },
   {
    "duration": 134,
    "start_time": "2022-05-19T16:33:54.336Z"
   },
   {
    "duration": 5,
    "start_time": "2022-05-19T16:33:54.728Z"
   },
   {
    "duration": 6,
    "start_time": "2022-05-19T16:33:55.105Z"
   },
   {
    "duration": 112,
    "start_time": "2022-05-19T16:33:55.707Z"
   },
   {
    "duration": 5,
    "start_time": "2022-05-19T16:33:56.090Z"
   },
   {
    "duration": 7,
    "start_time": "2022-05-19T16:33:56.496Z"
   },
   {
    "duration": 6,
    "start_time": "2022-05-19T16:33:56.929Z"
   },
   {
    "duration": 7,
    "start_time": "2022-05-19T16:33:57.306Z"
   },
   {
    "duration": 6,
    "start_time": "2022-05-19T16:33:57.616Z"
   },
   {
    "duration": 164,
    "start_time": "2022-05-19T16:33:59.002Z"
   },
   {
    "duration": 5,
    "start_time": "2022-05-19T16:33:59.424Z"
   },
   {
    "duration": 133,
    "start_time": "2022-05-19T16:34:00.266Z"
   },
   {
    "duration": 6,
    "start_time": "2022-05-19T16:34:00.722Z"
   },
   {
    "duration": 6,
    "start_time": "2022-05-19T16:34:01.216Z"
   },
   {
    "duration": 6,
    "start_time": "2022-05-19T16:34:01.787Z"
   },
   {
    "duration": 8,
    "start_time": "2022-05-19T16:34:02.266Z"
   },
   {
    "duration": 6,
    "start_time": "2022-05-19T16:34:03.248Z"
   },
   {
    "duration": 5,
    "start_time": "2022-05-19T16:34:04.466Z"
   },
   {
    "duration": 4,
    "start_time": "2022-05-19T16:34:25.686Z"
   },
   {
    "duration": 4,
    "start_time": "2022-05-19T16:34:25.946Z"
   },
   {
    "duration": 137,
    "start_time": "2022-05-19T16:34:26.267Z"
   },
   {
    "duration": 6,
    "start_time": "2022-05-19T16:34:26.626Z"
   },
   {
    "duration": 6,
    "start_time": "2022-05-19T16:34:26.945Z"
   },
   {
    "duration": 4,
    "start_time": "2022-05-19T16:34:27.288Z"
   },
   {
    "duration": 4,
    "start_time": "2022-05-19T16:34:27.955Z"
   },
   {
    "duration": 151,
    "start_time": "2022-05-19T16:34:28.274Z"
   },
   {
    "duration": 7,
    "start_time": "2022-05-19T16:34:28.907Z"
   },
   {
    "duration": 4,
    "start_time": "2022-05-19T16:34:29.508Z"
   },
   {
    "duration": 34,
    "start_time": "2022-05-19T16:34:30.709Z"
   },
   {
    "duration": 193,
    "start_time": "2022-05-19T16:34:31.506Z"
   },
   {
    "duration": 218,
    "start_time": "2022-05-19T16:34:31.786Z"
   },
   {
    "duration": 179,
    "start_time": "2022-05-19T16:34:32.325Z"
   },
   {
    "duration": 216,
    "start_time": "2022-05-19T16:34:32.826Z"
   },
   {
    "duration": 12,
    "start_time": "2022-05-19T16:34:33.354Z"
   },
   {
    "duration": 5,
    "start_time": "2022-05-19T16:34:33.695Z"
   },
   {
    "duration": 261,
    "start_time": "2022-05-19T16:34:34.026Z"
   },
   {
    "duration": 233,
    "start_time": "2022-05-19T16:34:34.528Z"
   },
   {
    "duration": 205,
    "start_time": "2022-05-19T16:34:35.049Z"
   },
   {
    "duration": 29,
    "start_time": "2022-05-19T16:34:36.107Z"
   },
   {
    "duration": 491,
    "start_time": "2022-05-19T16:34:36.288Z"
   },
   {
    "duration": 34,
    "start_time": "2022-05-19T16:34:37.386Z"
   },
   {
    "duration": 249,
    "start_time": "2022-05-19T16:34:37.585Z"
   },
   {
    "duration": 233,
    "start_time": "2022-05-19T16:34:40.646Z"
   },
   {
    "duration": 36,
    "start_time": "2022-05-19T16:34:42.506Z"
   },
   {
    "duration": 354,
    "start_time": "2022-05-19T16:34:42.726Z"
   },
   {
    "duration": 29,
    "start_time": "2022-05-19T16:34:43.667Z"
   },
   {
    "duration": 479,
    "start_time": "2022-05-19T16:34:43.888Z"
   },
   {
    "duration": 28,
    "start_time": "2022-05-19T16:34:44.916Z"
   },
   {
    "duration": 311,
    "start_time": "2022-05-19T16:34:45.205Z"
   },
   {
    "duration": 24,
    "start_time": "2022-05-19T16:34:47.722Z"
   },
   {
    "duration": 9,
    "start_time": "2022-05-19T16:34:49.308Z"
   },
   {
    "duration": 10,
    "start_time": "2022-05-19T16:34:49.734Z"
   },
   {
    "duration": 186,
    "start_time": "2022-05-19T16:34:50.647Z"
   },
   {
    "duration": 9,
    "start_time": "2022-05-19T16:34:56.366Z"
   },
   {
    "duration": 178,
    "start_time": "2022-05-19T16:34:57.356Z"
   }
  ],
  "kernelspec": {
   "display_name": "Python 3 (ipykernel)",
   "language": "python",
   "name": "python3"
  },
  "language_info": {
   "codemirror_mode": {
    "name": "ipython",
    "version": 3
   },
   "file_extension": ".py",
   "mimetype": "text/x-python",
   "name": "python",
   "nbconvert_exporter": "python",
   "pygments_lexer": "ipython3",
   "version": "3.9.12"
  },
  "toc": {
   "base_numbering": 1,
   "nav_menu": {
    "height": "220px",
    "width": "333px"
   },
   "number_sections": true,
   "sideBar": true,
   "skip_h1_title": true,
   "title_cell": "Содержание",
   "title_sidebar": "Contents",
   "toc_cell": true,
   "toc_position": {},
   "toc_section_display": true,
   "toc_window_display": false
  }
 },
 "nbformat": 4,
 "nbformat_minor": 4
}
