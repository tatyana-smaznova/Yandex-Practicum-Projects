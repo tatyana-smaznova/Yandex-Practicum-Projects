{
 "cells": [
  {
   "cell_type": "markdown",
   "metadata": {},
   "source": [
    "# Выбор локации для скважины"
   ]
  },
  {
   "cell_type": "markdown",
   "metadata": {},
   "source": [
    "Допустим, вы работаете в добывающей компании «ГлавРосГосНефть». Нужно решить, где бурить новую скважину.\n",
    "\n",
    "Вам предоставлены пробы нефти в трёх регионах: в каждом 10 000 месторождений, где измерили качество нефти и объём её запасов. Постройте модель машинного обучения, которая поможет определить регион, где добыча принесёт наибольшую прибыль. Проанализируйте возможную прибыль и риски техникой *Bootstrap.*\n",
    "\n",
    "Шаги для выбора локации:\n",
    "\n",
    "- В избранном регионе ищут месторождения, для каждого определяют значения признаков;\n",
    "- Строят модель и оценивают объём запасов;\n",
    "- Выбирают месторождения с самым высокими оценками значений. Количество месторождений зависит от бюджета компании и стоимости разработки одной скважины;\n",
    "- Прибыль равна суммарной прибыли отобранных месторождений."
   ]
  },
  {
   "cell_type": "markdown",
   "metadata": {},
   "source": [
    "## Загрузка и подготовка данных"
   ]
  },
  {
   "cell_type": "markdown",
   "metadata": {},
   "source": [
    "Для начала импортируем необходимые для работы инструменты."
   ]
  },
  {
   "cell_type": "code",
   "execution_count": 1,
   "metadata": {},
   "outputs": [],
   "source": [
    "import pandas as pd\n",
    "import numpy as np\n",
    "from scipy import stats\n",
    "import matplotlib.pyplot as plt\n",
    "from sklearn.linear_model import LinearRegression\n",
    "from sklearn.model_selection import train_test_split\n",
    "from sklearn.metrics import accuracy_score\n",
    "from sklearn.metrics import mean_absolute_error\n",
    "from sklearn.metrics import confusion_matrix\n",
    "from sklearn.metrics import recall_score\n",
    "from sklearn.metrics import precision_score\n",
    "from sklearn.metrics import f1_score\n",
    "from sklearn.utils import shuffle\n",
    "from sklearn.metrics import precision_recall_curve\n",
    "from sklearn.metrics import roc_auc_score\n",
    "from sklearn.metrics import mean_squared_error\n",
    "from sklearn.metrics import r2_score"
   ]
  },
  {
   "cell_type": "markdown",
   "metadata": {},
   "source": [
    "Теперь прочитаем датафреймы."
   ]
  },
  {
   "cell_type": "code",
   "execution_count": 2,
   "metadata": {},
   "outputs": [],
   "source": [
    "df_0 = pd.read_csv('/datasets/geo_data_0.csv')\n",
    "df_1 = pd.read_csv('/datasets/geo_data_1.csv')                   \n",
    "df_2 = pd.read_csv('/datasets/geo_data_2.csv')"
   ]
  },
  {
   "cell_type": "markdown",
   "metadata": {},
   "source": [
    "Посмотрим общую информацию о таблицах"
   ]
  },
  {
   "cell_type": "code",
   "execution_count": 3,
   "metadata": {},
   "outputs": [
    {
     "name": "stdout",
     "output_type": "stream",
     "text": [
      "<class 'pandas.core.frame.DataFrame'>\n",
      "RangeIndex: 100000 entries, 0 to 99999\n",
      "Data columns (total 5 columns):\n",
      " #   Column   Non-Null Count   Dtype  \n",
      "---  ------   --------------   -----  \n",
      " 0   id       100000 non-null  object \n",
      " 1   f0       100000 non-null  float64\n",
      " 2   f1       100000 non-null  float64\n",
      " 3   f2       100000 non-null  float64\n",
      " 4   product  100000 non-null  float64\n",
      "dtypes: float64(4), object(1)\n",
      "memory usage: 3.8+ MB\n"
     ]
    }
   ],
   "source": [
    "df_0.info()"
   ]
  },
  {
   "cell_type": "code",
   "execution_count": 4,
   "metadata": {},
   "outputs": [
    {
     "name": "stdout",
     "output_type": "stream",
     "text": [
      "<class 'pandas.core.frame.DataFrame'>\n",
      "RangeIndex: 100000 entries, 0 to 99999\n",
      "Data columns (total 5 columns):\n",
      " #   Column   Non-Null Count   Dtype  \n",
      "---  ------   --------------   -----  \n",
      " 0   id       100000 non-null  object \n",
      " 1   f0       100000 non-null  float64\n",
      " 2   f1       100000 non-null  float64\n",
      " 3   f2       100000 non-null  float64\n",
      " 4   product  100000 non-null  float64\n",
      "dtypes: float64(4), object(1)\n",
      "memory usage: 3.8+ MB\n"
     ]
    }
   ],
   "source": [
    "df_1.info()"
   ]
  },
  {
   "cell_type": "code",
   "execution_count": 5,
   "metadata": {},
   "outputs": [
    {
     "name": "stdout",
     "output_type": "stream",
     "text": [
      "<class 'pandas.core.frame.DataFrame'>\n",
      "RangeIndex: 100000 entries, 0 to 99999\n",
      "Data columns (total 5 columns):\n",
      " #   Column   Non-Null Count   Dtype  \n",
      "---  ------   --------------   -----  \n",
      " 0   id       100000 non-null  object \n",
      " 1   f0       100000 non-null  float64\n",
      " 2   f1       100000 non-null  float64\n",
      " 3   f2       100000 non-null  float64\n",
      " 4   product  100000 non-null  float64\n",
      "dtypes: float64(4), object(1)\n",
      "memory usage: 3.8+ MB\n"
     ]
    }
   ],
   "source": [
    "df_2.info()"
   ]
  },
  {
   "cell_type": "markdown",
   "metadata": {},
   "source": [
    "Мы видим, что пропусков в таблицах нет, везде одинаковое число строк, но различается тип данных. \n",
    "**id** — уникальный идентификатор скважины;\n",
    "**f0, f1, f2** — три признака точек (неважно, что они означают, но сами признаки значимы);\n",
    "**product** — объём запасов в скважине (тыс. баррелей).\n",
    "\n",
    "Выведем на экран таблицы для наглядности."
   ]
  },
  {
   "cell_type": "code",
   "execution_count": 6,
   "metadata": {},
   "outputs": [
    {
     "data": {
      "text/html": [
       "<div>\n",
       "<style scoped>\n",
       "    .dataframe tbody tr th:only-of-type {\n",
       "        vertical-align: middle;\n",
       "    }\n",
       "\n",
       "    .dataframe tbody tr th {\n",
       "        vertical-align: top;\n",
       "    }\n",
       "\n",
       "    .dataframe thead th {\n",
       "        text-align: right;\n",
       "    }\n",
       "</style>\n",
       "<table border=\"1\" class=\"dataframe\">\n",
       "  <thead>\n",
       "    <tr style=\"text-align: right;\">\n",
       "      <th></th>\n",
       "      <th>id</th>\n",
       "      <th>f0</th>\n",
       "      <th>f1</th>\n",
       "      <th>f2</th>\n",
       "      <th>product</th>\n",
       "    </tr>\n",
       "  </thead>\n",
       "  <tbody>\n",
       "    <tr>\n",
       "      <th>0</th>\n",
       "      <td>txEyH</td>\n",
       "      <td>0.705745</td>\n",
       "      <td>-0.497823</td>\n",
       "      <td>1.221170</td>\n",
       "      <td>105.280062</td>\n",
       "    </tr>\n",
       "    <tr>\n",
       "      <th>1</th>\n",
       "      <td>2acmU</td>\n",
       "      <td>1.334711</td>\n",
       "      <td>-0.340164</td>\n",
       "      <td>4.365080</td>\n",
       "      <td>73.037750</td>\n",
       "    </tr>\n",
       "    <tr>\n",
       "      <th>2</th>\n",
       "      <td>409Wp</td>\n",
       "      <td>1.022732</td>\n",
       "      <td>0.151990</td>\n",
       "      <td>1.419926</td>\n",
       "      <td>85.265647</td>\n",
       "    </tr>\n",
       "    <tr>\n",
       "      <th>3</th>\n",
       "      <td>iJLyR</td>\n",
       "      <td>-0.032172</td>\n",
       "      <td>0.139033</td>\n",
       "      <td>2.978566</td>\n",
       "      <td>168.620776</td>\n",
       "    </tr>\n",
       "    <tr>\n",
       "      <th>4</th>\n",
       "      <td>Xdl7t</td>\n",
       "      <td>1.988431</td>\n",
       "      <td>0.155413</td>\n",
       "      <td>4.751769</td>\n",
       "      <td>154.036647</td>\n",
       "    </tr>\n",
       "    <tr>\n",
       "      <th>...</th>\n",
       "      <td>...</td>\n",
       "      <td>...</td>\n",
       "      <td>...</td>\n",
       "      <td>...</td>\n",
       "      <td>...</td>\n",
       "    </tr>\n",
       "    <tr>\n",
       "      <th>99995</th>\n",
       "      <td>DLsed</td>\n",
       "      <td>0.971957</td>\n",
       "      <td>0.370953</td>\n",
       "      <td>6.075346</td>\n",
       "      <td>110.744026</td>\n",
       "    </tr>\n",
       "    <tr>\n",
       "      <th>99996</th>\n",
       "      <td>QKivN</td>\n",
       "      <td>1.392429</td>\n",
       "      <td>-0.382606</td>\n",
       "      <td>1.273912</td>\n",
       "      <td>122.346843</td>\n",
       "    </tr>\n",
       "    <tr>\n",
       "      <th>99997</th>\n",
       "      <td>3rnvd</td>\n",
       "      <td>1.029585</td>\n",
       "      <td>0.018787</td>\n",
       "      <td>-1.348308</td>\n",
       "      <td>64.375443</td>\n",
       "    </tr>\n",
       "    <tr>\n",
       "      <th>99998</th>\n",
       "      <td>7kl59</td>\n",
       "      <td>0.998163</td>\n",
       "      <td>-0.528582</td>\n",
       "      <td>1.583869</td>\n",
       "      <td>74.040764</td>\n",
       "    </tr>\n",
       "    <tr>\n",
       "      <th>99999</th>\n",
       "      <td>1CWhH</td>\n",
       "      <td>1.764754</td>\n",
       "      <td>-0.266417</td>\n",
       "      <td>5.722849</td>\n",
       "      <td>149.633246</td>\n",
       "    </tr>\n",
       "  </tbody>\n",
       "</table>\n",
       "<p>100000 rows × 5 columns</p>\n",
       "</div>"
      ],
      "text/plain": [
       "          id        f0        f1        f2     product\n",
       "0      txEyH  0.705745 -0.497823  1.221170  105.280062\n",
       "1      2acmU  1.334711 -0.340164  4.365080   73.037750\n",
       "2      409Wp  1.022732  0.151990  1.419926   85.265647\n",
       "3      iJLyR -0.032172  0.139033  2.978566  168.620776\n",
       "4      Xdl7t  1.988431  0.155413  4.751769  154.036647\n",
       "...      ...       ...       ...       ...         ...\n",
       "99995  DLsed  0.971957  0.370953  6.075346  110.744026\n",
       "99996  QKivN  1.392429 -0.382606  1.273912  122.346843\n",
       "99997  3rnvd  1.029585  0.018787 -1.348308   64.375443\n",
       "99998  7kl59  0.998163 -0.528582  1.583869   74.040764\n",
       "99999  1CWhH  1.764754 -0.266417  5.722849  149.633246\n",
       "\n",
       "[100000 rows x 5 columns]"
      ]
     },
     "metadata": {},
     "output_type": "display_data"
    }
   ],
   "source": [
    "display(df_0)"
   ]
  },
  {
   "cell_type": "code",
   "execution_count": 7,
   "metadata": {},
   "outputs": [
    {
     "data": {
      "text/html": [
       "<div>\n",
       "<style scoped>\n",
       "    .dataframe tbody tr th:only-of-type {\n",
       "        vertical-align: middle;\n",
       "    }\n",
       "\n",
       "    .dataframe tbody tr th {\n",
       "        vertical-align: top;\n",
       "    }\n",
       "\n",
       "    .dataframe thead th {\n",
       "        text-align: right;\n",
       "    }\n",
       "</style>\n",
       "<table border=\"1\" class=\"dataframe\">\n",
       "  <thead>\n",
       "    <tr style=\"text-align: right;\">\n",
       "      <th></th>\n",
       "      <th>id</th>\n",
       "      <th>f0</th>\n",
       "      <th>f1</th>\n",
       "      <th>f2</th>\n",
       "      <th>product</th>\n",
       "    </tr>\n",
       "  </thead>\n",
       "  <tbody>\n",
       "    <tr>\n",
       "      <th>0</th>\n",
       "      <td>kBEdx</td>\n",
       "      <td>-15.001348</td>\n",
       "      <td>-8.276000</td>\n",
       "      <td>-0.005876</td>\n",
       "      <td>3.179103</td>\n",
       "    </tr>\n",
       "    <tr>\n",
       "      <th>1</th>\n",
       "      <td>62mP7</td>\n",
       "      <td>14.272088</td>\n",
       "      <td>-3.475083</td>\n",
       "      <td>0.999183</td>\n",
       "      <td>26.953261</td>\n",
       "    </tr>\n",
       "    <tr>\n",
       "      <th>2</th>\n",
       "      <td>vyE1P</td>\n",
       "      <td>6.263187</td>\n",
       "      <td>-5.948386</td>\n",
       "      <td>5.001160</td>\n",
       "      <td>134.766305</td>\n",
       "    </tr>\n",
       "    <tr>\n",
       "      <th>3</th>\n",
       "      <td>KcrkZ</td>\n",
       "      <td>-13.081196</td>\n",
       "      <td>-11.506057</td>\n",
       "      <td>4.999415</td>\n",
       "      <td>137.945408</td>\n",
       "    </tr>\n",
       "    <tr>\n",
       "      <th>4</th>\n",
       "      <td>AHL4O</td>\n",
       "      <td>12.702195</td>\n",
       "      <td>-8.147433</td>\n",
       "      <td>5.004363</td>\n",
       "      <td>134.766305</td>\n",
       "    </tr>\n",
       "    <tr>\n",
       "      <th>...</th>\n",
       "      <td>...</td>\n",
       "      <td>...</td>\n",
       "      <td>...</td>\n",
       "      <td>...</td>\n",
       "      <td>...</td>\n",
       "    </tr>\n",
       "    <tr>\n",
       "      <th>99995</th>\n",
       "      <td>QywKC</td>\n",
       "      <td>9.535637</td>\n",
       "      <td>-6.878139</td>\n",
       "      <td>1.998296</td>\n",
       "      <td>53.906522</td>\n",
       "    </tr>\n",
       "    <tr>\n",
       "      <th>99996</th>\n",
       "      <td>ptvty</td>\n",
       "      <td>-10.160631</td>\n",
       "      <td>-12.558096</td>\n",
       "      <td>5.005581</td>\n",
       "      <td>137.945408</td>\n",
       "    </tr>\n",
       "    <tr>\n",
       "      <th>99997</th>\n",
       "      <td>09gWa</td>\n",
       "      <td>-7.378891</td>\n",
       "      <td>-3.084104</td>\n",
       "      <td>4.998651</td>\n",
       "      <td>137.945408</td>\n",
       "    </tr>\n",
       "    <tr>\n",
       "      <th>99998</th>\n",
       "      <td>rqwUm</td>\n",
       "      <td>0.665714</td>\n",
       "      <td>-6.152593</td>\n",
       "      <td>1.000146</td>\n",
       "      <td>30.132364</td>\n",
       "    </tr>\n",
       "    <tr>\n",
       "      <th>99999</th>\n",
       "      <td>relB0</td>\n",
       "      <td>-3.426139</td>\n",
       "      <td>-7.794274</td>\n",
       "      <td>-0.003299</td>\n",
       "      <td>3.179103</td>\n",
       "    </tr>\n",
       "  </tbody>\n",
       "</table>\n",
       "<p>100000 rows × 5 columns</p>\n",
       "</div>"
      ],
      "text/plain": [
       "          id         f0         f1        f2     product\n",
       "0      kBEdx -15.001348  -8.276000 -0.005876    3.179103\n",
       "1      62mP7  14.272088  -3.475083  0.999183   26.953261\n",
       "2      vyE1P   6.263187  -5.948386  5.001160  134.766305\n",
       "3      KcrkZ -13.081196 -11.506057  4.999415  137.945408\n",
       "4      AHL4O  12.702195  -8.147433  5.004363  134.766305\n",
       "...      ...        ...        ...       ...         ...\n",
       "99995  QywKC   9.535637  -6.878139  1.998296   53.906522\n",
       "99996  ptvty -10.160631 -12.558096  5.005581  137.945408\n",
       "99997  09gWa  -7.378891  -3.084104  4.998651  137.945408\n",
       "99998  rqwUm   0.665714  -6.152593  1.000146   30.132364\n",
       "99999  relB0  -3.426139  -7.794274 -0.003299    3.179103\n",
       "\n",
       "[100000 rows x 5 columns]"
      ]
     },
     "metadata": {},
     "output_type": "display_data"
    }
   ],
   "source": [
    "display(df_1)"
   ]
  },
  {
   "cell_type": "code",
   "execution_count": 8,
   "metadata": {},
   "outputs": [
    {
     "data": {
      "text/html": [
       "<div>\n",
       "<style scoped>\n",
       "    .dataframe tbody tr th:only-of-type {\n",
       "        vertical-align: middle;\n",
       "    }\n",
       "\n",
       "    .dataframe tbody tr th {\n",
       "        vertical-align: top;\n",
       "    }\n",
       "\n",
       "    .dataframe thead th {\n",
       "        text-align: right;\n",
       "    }\n",
       "</style>\n",
       "<table border=\"1\" class=\"dataframe\">\n",
       "  <thead>\n",
       "    <tr style=\"text-align: right;\">\n",
       "      <th></th>\n",
       "      <th>id</th>\n",
       "      <th>f0</th>\n",
       "      <th>f1</th>\n",
       "      <th>f2</th>\n",
       "      <th>product</th>\n",
       "    </tr>\n",
       "  </thead>\n",
       "  <tbody>\n",
       "    <tr>\n",
       "      <th>0</th>\n",
       "      <td>fwXo0</td>\n",
       "      <td>-1.146987</td>\n",
       "      <td>0.963328</td>\n",
       "      <td>-0.828965</td>\n",
       "      <td>27.758673</td>\n",
       "    </tr>\n",
       "    <tr>\n",
       "      <th>1</th>\n",
       "      <td>WJtFt</td>\n",
       "      <td>0.262778</td>\n",
       "      <td>0.269839</td>\n",
       "      <td>-2.530187</td>\n",
       "      <td>56.069697</td>\n",
       "    </tr>\n",
       "    <tr>\n",
       "      <th>2</th>\n",
       "      <td>ovLUW</td>\n",
       "      <td>0.194587</td>\n",
       "      <td>0.289035</td>\n",
       "      <td>-5.586433</td>\n",
       "      <td>62.871910</td>\n",
       "    </tr>\n",
       "    <tr>\n",
       "      <th>3</th>\n",
       "      <td>q6cA6</td>\n",
       "      <td>2.236060</td>\n",
       "      <td>-0.553760</td>\n",
       "      <td>0.930038</td>\n",
       "      <td>114.572842</td>\n",
       "    </tr>\n",
       "    <tr>\n",
       "      <th>4</th>\n",
       "      <td>WPMUX</td>\n",
       "      <td>-0.515993</td>\n",
       "      <td>1.716266</td>\n",
       "      <td>5.899011</td>\n",
       "      <td>149.600746</td>\n",
       "    </tr>\n",
       "    <tr>\n",
       "      <th>...</th>\n",
       "      <td>...</td>\n",
       "      <td>...</td>\n",
       "      <td>...</td>\n",
       "      <td>...</td>\n",
       "      <td>...</td>\n",
       "    </tr>\n",
       "    <tr>\n",
       "      <th>99995</th>\n",
       "      <td>4GxBu</td>\n",
       "      <td>-1.777037</td>\n",
       "      <td>1.125220</td>\n",
       "      <td>6.263374</td>\n",
       "      <td>172.327046</td>\n",
       "    </tr>\n",
       "    <tr>\n",
       "      <th>99996</th>\n",
       "      <td>YKFjq</td>\n",
       "      <td>-1.261523</td>\n",
       "      <td>-0.894828</td>\n",
       "      <td>2.524545</td>\n",
       "      <td>138.748846</td>\n",
       "    </tr>\n",
       "    <tr>\n",
       "      <th>99997</th>\n",
       "      <td>tKPY3</td>\n",
       "      <td>-1.199934</td>\n",
       "      <td>-2.957637</td>\n",
       "      <td>5.219411</td>\n",
       "      <td>157.080080</td>\n",
       "    </tr>\n",
       "    <tr>\n",
       "      <th>99998</th>\n",
       "      <td>nmxp2</td>\n",
       "      <td>-2.419896</td>\n",
       "      <td>2.417221</td>\n",
       "      <td>-5.548444</td>\n",
       "      <td>51.795253</td>\n",
       "    </tr>\n",
       "    <tr>\n",
       "      <th>99999</th>\n",
       "      <td>V9kWn</td>\n",
       "      <td>-2.551421</td>\n",
       "      <td>-2.025625</td>\n",
       "      <td>6.090891</td>\n",
       "      <td>102.775767</td>\n",
       "    </tr>\n",
       "  </tbody>\n",
       "</table>\n",
       "<p>100000 rows × 5 columns</p>\n",
       "</div>"
      ],
      "text/plain": [
       "          id        f0        f1        f2     product\n",
       "0      fwXo0 -1.146987  0.963328 -0.828965   27.758673\n",
       "1      WJtFt  0.262778  0.269839 -2.530187   56.069697\n",
       "2      ovLUW  0.194587  0.289035 -5.586433   62.871910\n",
       "3      q6cA6  2.236060 -0.553760  0.930038  114.572842\n",
       "4      WPMUX -0.515993  1.716266  5.899011  149.600746\n",
       "...      ...       ...       ...       ...         ...\n",
       "99995  4GxBu -1.777037  1.125220  6.263374  172.327046\n",
       "99996  YKFjq -1.261523 -0.894828  2.524545  138.748846\n",
       "99997  tKPY3 -1.199934 -2.957637  5.219411  157.080080\n",
       "99998  nmxp2 -2.419896  2.417221 -5.548444   51.795253\n",
       "99999  V9kWn -2.551421 -2.025625  6.090891  102.775767\n",
       "\n",
       "[100000 rows x 5 columns]"
      ]
     },
     "metadata": {},
     "output_type": "display_data"
    }
   ],
   "source": [
    "display(df_2)"
   ]
  },
  {
   "cell_type": "markdown",
   "metadata": {},
   "source": [
    "Во всех таблицах мы видим как положительные, так и отрицательные значения. Проверим данные на наличие дубликатов."
   ]
  },
  {
   "cell_type": "code",
   "execution_count": 9,
   "metadata": {},
   "outputs": [
    {
     "data": {
      "text/plain": [
       "0"
      ]
     },
     "execution_count": 9,
     "metadata": {},
     "output_type": "execute_result"
    }
   ],
   "source": [
    "df_0.duplicated().sum()"
   ]
  },
  {
   "cell_type": "code",
   "execution_count": 10,
   "metadata": {},
   "outputs": [
    {
     "data": {
      "text/plain": [
       "0"
      ]
     },
     "execution_count": 10,
     "metadata": {},
     "output_type": "execute_result"
    }
   ],
   "source": [
    "df_1.duplicated().sum()"
   ]
  },
  {
   "cell_type": "code",
   "execution_count": 11,
   "metadata": {},
   "outputs": [
    {
     "data": {
      "text/plain": [
       "0"
      ]
     },
     "execution_count": 11,
     "metadata": {},
     "output_type": "execute_result"
    }
   ],
   "source": [
    "df_2.duplicated().sum()"
   ]
  },
  {
   "cell_type": "markdown",
   "metadata": {},
   "source": [
    "Дубликаты во всех таблицах отсутствуют."
   ]
  },
  {
   "cell_type": "markdown",
   "metadata": {},
   "source": [
    "Изучим корреляцию по каждому датафрейму."
   ]
  },
  {
   "cell_type": "code",
   "execution_count": 12,
   "metadata": {},
   "outputs": [
    {
     "data": {
      "text/html": [
       "<div>\n",
       "<style scoped>\n",
       "    .dataframe tbody tr th:only-of-type {\n",
       "        vertical-align: middle;\n",
       "    }\n",
       "\n",
       "    .dataframe tbody tr th {\n",
       "        vertical-align: top;\n",
       "    }\n",
       "\n",
       "    .dataframe thead th {\n",
       "        text-align: right;\n",
       "    }\n",
       "</style>\n",
       "<table border=\"1\" class=\"dataframe\">\n",
       "  <thead>\n",
       "    <tr style=\"text-align: right;\">\n",
       "      <th></th>\n",
       "      <th>f0</th>\n",
       "      <th>f1</th>\n",
       "      <th>f2</th>\n",
       "      <th>product</th>\n",
       "    </tr>\n",
       "  </thead>\n",
       "  <tbody>\n",
       "    <tr>\n",
       "      <th>f0</th>\n",
       "      <td>1.000000</td>\n",
       "      <td>-0.440723</td>\n",
       "      <td>-0.003153</td>\n",
       "      <td>0.143536</td>\n",
       "    </tr>\n",
       "    <tr>\n",
       "      <th>f1</th>\n",
       "      <td>-0.440723</td>\n",
       "      <td>1.000000</td>\n",
       "      <td>0.001724</td>\n",
       "      <td>-0.192356</td>\n",
       "    </tr>\n",
       "    <tr>\n",
       "      <th>f2</th>\n",
       "      <td>-0.003153</td>\n",
       "      <td>0.001724</td>\n",
       "      <td>1.000000</td>\n",
       "      <td>0.483663</td>\n",
       "    </tr>\n",
       "    <tr>\n",
       "      <th>product</th>\n",
       "      <td>0.143536</td>\n",
       "      <td>-0.192356</td>\n",
       "      <td>0.483663</td>\n",
       "      <td>1.000000</td>\n",
       "    </tr>\n",
       "  </tbody>\n",
       "</table>\n",
       "</div>"
      ],
      "text/plain": [
       "               f0        f1        f2   product\n",
       "f0       1.000000 -0.440723 -0.003153  0.143536\n",
       "f1      -0.440723  1.000000  0.001724 -0.192356\n",
       "f2      -0.003153  0.001724  1.000000  0.483663\n",
       "product  0.143536 -0.192356  0.483663  1.000000"
      ]
     },
     "execution_count": 12,
     "metadata": {},
     "output_type": "execute_result"
    }
   ],
   "source": [
    "df_0.corr()"
   ]
  },
  {
   "cell_type": "markdown",
   "metadata": {},
   "source": [
    "Мы наблюдаем различную корреляцию по столбцам - она низкая или средняя."
   ]
  },
  {
   "cell_type": "code",
   "execution_count": 13,
   "metadata": {},
   "outputs": [
    {
     "data": {
      "text/html": [
       "<div>\n",
       "<style scoped>\n",
       "    .dataframe tbody tr th:only-of-type {\n",
       "        vertical-align: middle;\n",
       "    }\n",
       "\n",
       "    .dataframe tbody tr th {\n",
       "        vertical-align: top;\n",
       "    }\n",
       "\n",
       "    .dataframe thead th {\n",
       "        text-align: right;\n",
       "    }\n",
       "</style>\n",
       "<table border=\"1\" class=\"dataframe\">\n",
       "  <thead>\n",
       "    <tr style=\"text-align: right;\">\n",
       "      <th></th>\n",
       "      <th>f0</th>\n",
       "      <th>f1</th>\n",
       "      <th>f2</th>\n",
       "      <th>product</th>\n",
       "    </tr>\n",
       "  </thead>\n",
       "  <tbody>\n",
       "    <tr>\n",
       "      <th>f0</th>\n",
       "      <td>1.000000</td>\n",
       "      <td>0.182287</td>\n",
       "      <td>-0.001777</td>\n",
       "      <td>-0.030491</td>\n",
       "    </tr>\n",
       "    <tr>\n",
       "      <th>f1</th>\n",
       "      <td>0.182287</td>\n",
       "      <td>1.000000</td>\n",
       "      <td>-0.002595</td>\n",
       "      <td>-0.010155</td>\n",
       "    </tr>\n",
       "    <tr>\n",
       "      <th>f2</th>\n",
       "      <td>-0.001777</td>\n",
       "      <td>-0.002595</td>\n",
       "      <td>1.000000</td>\n",
       "      <td>0.999397</td>\n",
       "    </tr>\n",
       "    <tr>\n",
       "      <th>product</th>\n",
       "      <td>-0.030491</td>\n",
       "      <td>-0.010155</td>\n",
       "      <td>0.999397</td>\n",
       "      <td>1.000000</td>\n",
       "    </tr>\n",
       "  </tbody>\n",
       "</table>\n",
       "</div>"
      ],
      "text/plain": [
       "               f0        f1        f2   product\n",
       "f0       1.000000  0.182287 -0.001777 -0.030491\n",
       "f1       0.182287  1.000000 -0.002595 -0.010155\n",
       "f2      -0.001777 -0.002595  1.000000  0.999397\n",
       "product -0.030491 -0.010155  0.999397  1.000000"
      ]
     },
     "execution_count": 13,
     "metadata": {},
     "output_type": "execute_result"
    }
   ],
   "source": [
    "df_1.corr()"
   ]
  },
  {
   "cell_type": "markdown",
   "metadata": {},
   "source": [
    "Мы наблюдаем различную корреляцию по столбцам - она низкая или средняя, а также заметна высокая коореляция между столбцами product и f2."
   ]
  },
  {
   "cell_type": "code",
   "execution_count": 14,
   "metadata": {},
   "outputs": [
    {
     "data": {
      "text/html": [
       "<div>\n",
       "<style scoped>\n",
       "    .dataframe tbody tr th:only-of-type {\n",
       "        vertical-align: middle;\n",
       "    }\n",
       "\n",
       "    .dataframe tbody tr th {\n",
       "        vertical-align: top;\n",
       "    }\n",
       "\n",
       "    .dataframe thead th {\n",
       "        text-align: right;\n",
       "    }\n",
       "</style>\n",
       "<table border=\"1\" class=\"dataframe\">\n",
       "  <thead>\n",
       "    <tr style=\"text-align: right;\">\n",
       "      <th></th>\n",
       "      <th>f0</th>\n",
       "      <th>f1</th>\n",
       "      <th>f2</th>\n",
       "      <th>product</th>\n",
       "    </tr>\n",
       "  </thead>\n",
       "  <tbody>\n",
       "    <tr>\n",
       "      <th>f0</th>\n",
       "      <td>1.000000</td>\n",
       "      <td>0.000528</td>\n",
       "      <td>-0.000448</td>\n",
       "      <td>-0.001987</td>\n",
       "    </tr>\n",
       "    <tr>\n",
       "      <th>f1</th>\n",
       "      <td>0.000528</td>\n",
       "      <td>1.000000</td>\n",
       "      <td>0.000779</td>\n",
       "      <td>-0.001012</td>\n",
       "    </tr>\n",
       "    <tr>\n",
       "      <th>f2</th>\n",
       "      <td>-0.000448</td>\n",
       "      <td>0.000779</td>\n",
       "      <td>1.000000</td>\n",
       "      <td>0.445871</td>\n",
       "    </tr>\n",
       "    <tr>\n",
       "      <th>product</th>\n",
       "      <td>-0.001987</td>\n",
       "      <td>-0.001012</td>\n",
       "      <td>0.445871</td>\n",
       "      <td>1.000000</td>\n",
       "    </tr>\n",
       "  </tbody>\n",
       "</table>\n",
       "</div>"
      ],
      "text/plain": [
       "               f0        f1        f2   product\n",
       "f0       1.000000  0.000528 -0.000448 -0.001987\n",
       "f1       0.000528  1.000000  0.000779 -0.001012\n",
       "f2      -0.000448  0.000779  1.000000  0.445871\n",
       "product -0.001987 -0.001012  0.445871  1.000000"
      ]
     },
     "execution_count": 14,
     "metadata": {},
     "output_type": "execute_result"
    }
   ],
   "source": [
    "df_2.corr()"
   ]
  },
  {
   "cell_type": "markdown",
   "metadata": {},
   "source": [
    "Мы наблюдаем различную корреляцию по столбцам - она низкая или средняя."
   ]
  },
  {
   "cell_type": "markdown",
   "metadata": {},
   "source": [
    "## Обучение и проверка модели"
   ]
  },
  {
   "cell_type": "markdown",
   "metadata": {},
   "source": [
    "Сначала необходимо разделить выборки на обучающие и валидационные по каждому датафрейму."
   ]
  },
  {
   "cell_type": "code",
   "execution_count": 15,
   "metadata": {},
   "outputs": [],
   "source": [
    "data0_train, data0_valid = train_test_split(df_0, test_size=0.25, random_state=12345)\n",
    "data1_train, data1_valid = train_test_split(df_1, test_size=0.25, random_state=12345)\n",
    "data2_train, data2_valid = train_test_split(df_2, test_size=0.25, random_state=12345)\n",
    "\n",
    "\n",
    "features_train0 = data0_train.drop(['id', 'product'], axis=1)\n",
    "target_train0 = data0_train['product']\n",
    "features_valid0 = data0_valid.drop(['id', 'product'], axis=1)\n",
    "target_valid0 = data0_valid['product']\n",
    "\n",
    "features_train1 = data1_train.drop(['id', 'product'], axis=1)\n",
    "target_train1 = data1_train['product']\n",
    "features_valid1 = data1_valid.drop(['id', 'product'], axis=1)\n",
    "target_valid1 = data1_valid['product']\n",
    "\n",
    "features_train2 = data2_train.drop(['id', 'product'], axis=1)\n",
    "target_train2 = data2_train['product']\n",
    "features_valid2 = data2_valid.drop(['id', 'product'], axis=1)\n",
    "target_valid2 = data2_valid['product']"
   ]
  },
  {
   "cell_type": "markdown",
   "metadata": {},
   "source": [
    "Оценим размер полученных выборок."
   ]
  },
  {
   "cell_type": "code",
   "execution_count": 16,
   "metadata": {},
   "outputs": [
    {
     "name": "stdout",
     "output_type": "stream",
     "text": [
      "Обучающая выборка первого датафрейма: (75000, 3)\n",
      "(75000,)\n",
      "Валидационная выборка первого датафрейма: (25000, 3)\n",
      "(25000,)\n",
      "\n",
      "Обучающая выборка второго датафрейма: (75000, 3)\n",
      "(75000,)\n",
      "Валидационная выборка второго датафрейма: (25000, 3)\n",
      "(25000,)\n",
      "\n",
      "Обучающая выборка третьего датафрейма: (75000, 3)\n",
      "(75000,)\n",
      "Валидационная выборка третьего датафрейма: (25000, 3)\n",
      "(25000,)\n"
     ]
    }
   ],
   "source": [
    "print('Обучающая выборка первого датафрейма:',features_train0.shape)\n",
    "print(target_train0.shape)\n",
    "print('Валидационная выборка первого датафрейма:',features_valid0.shape)\n",
    "print(target_valid0.shape)\n",
    "print()\n",
    "print('Обучающая выборка второго датафрейма:',features_train1.shape)\n",
    "print(target_train1.shape)\n",
    "print('Валидационная выборка второго датафрейма:',features_valid1.shape)\n",
    "print(target_valid1.shape)\n",
    "print()\n",
    "print('Обучающая выборка третьего датафрейма:',features_train2.shape)\n",
    "print(target_train2.shape)\n",
    "print('Валидационная выборка третьего датафрейма:',features_valid2.shape)\n",
    "print(target_valid2.shape)"
   ]
  },
  {
   "cell_type": "markdown",
   "metadata": {},
   "source": [
    "Обучим молель с помощью линейной регрессии и расчитаем показатели первой таблицы."
   ]
  },
  {
   "cell_type": "code",
   "execution_count": 17,
   "metadata": {},
   "outputs": [
    {
     "name": "stdout",
     "output_type": "stream",
     "text": [
      "Средний запас предсказанного сырья в месторождении 92.59256778438035\n",
      "Средний фактический запас сырья в месторождении 92.07859674082927\n",
      "RMSE модели линейной регрессии на валидационной выборке: 37.5794217150813\n"
     ]
    }
   ],
   "source": [
    "model = LinearRegression()\n",
    "model.fit(features_train0,target_train0) # обучение модели на тренировочной выборке\n",
    "predictions_valid = model.predict(features_valid0) # предсказания модели на валидационной выборке\n",
    "data0_pred_mean=predictions_valid.mean()\n",
    "result = mean_squared_error(target_valid0,predictions_valid)**0.5\n",
    "data0_predictions_valid = model.predict(features_valid0)\n",
    "\n",
    "print(\"Средний запас предсказанного сырья в месторождении\", data0_pred_mean)\n",
    "print(\"Средний фактический запас сырья в месторождении\", target_valid0.mean())\n",
    "print(\"RMSE модели линейной регрессии на валидационной выборке:\", result)"
   ]
  },
  {
   "cell_type": "markdown",
   "metadata": {},
   "source": [
    "Обучим модель с помощью линейной регрессии и расчитаем показатели второй таблицы."
   ]
  },
  {
   "cell_type": "code",
   "execution_count": 18,
   "metadata": {},
   "outputs": [
    {
     "name": "stdout",
     "output_type": "stream",
     "text": [
      "Средний запас предсказанного сырья в месторождении 68.728546895446\n",
      "Средний фактический запас сырья в месторождении 68.72313602435997\n",
      "RMSE модели линейной регрессии на валидационной выборке: 0.893099286775617\n"
     ]
    }
   ],
   "source": [
    "model = LinearRegression()\n",
    "model.fit(features_train1,target_train1) # обучение модели на тренировочной выборке\n",
    "predictions_valid = model.predict(features_valid1) # предсказания модели на валидационной выборке\n",
    "data1_pred_mean=predictions_valid.mean()\n",
    "result = mean_squared_error(target_valid1,predictions_valid)**0.5\n",
    "data1_predictions_valid = model.predict(features_valid1)\n",
    "\n",
    "print(\"Средний запас предсказанного сырья в месторождении\", data1_pred_mean)\n",
    "print(\"Средний фактический запас сырья в месторождении\", target_valid1.mean())\n",
    "print(\"RMSE модели линейной регрессии на валидационной выборке:\", result)"
   ]
  },
  {
   "cell_type": "markdown",
   "metadata": {},
   "source": [
    "Обучим молель с помощью линейной регрессии и расчитаем показатели третьей таблицы."
   ]
  },
  {
   "cell_type": "code",
   "execution_count": 19,
   "metadata": {},
   "outputs": [
    {
     "name": "stdout",
     "output_type": "stream",
     "text": [
      "Средний запас предсказанного сырья в месторождении 94.96504596800489\n",
      "Средний фактический запас сырья в месторождении 94.88423280885438\n",
      "RMSE модели линейной регрессии на валидационной выборке: 40.02970873393434\n"
     ]
    }
   ],
   "source": [
    "model = LinearRegression()\n",
    "model.fit(features_train2,target_train2) # обучение модели на тренировочной выборке\n",
    "predictions_valid = model.predict(features_valid2) # предсказания модели на валидационной выборке\n",
    "data2_pred_mean=predictions_valid.mean()\n",
    "result = mean_squared_error(target_valid2,predictions_valid)**0.5\n",
    "data2_predictions_valid = model.predict(features_valid2)\n",
    "\n",
    "print(\"Средний запас предсказанного сырья в месторождении\", data2_pred_mean)\n",
    "print(\"Средний фактический запас сырья в месторождении\", target_valid2.mean())\n",
    "print(\"RMSE модели линейной регрессии на валидационной выборке:\", result)"
   ]
  },
  {
   "cell_type": "markdown",
   "metadata": {},
   "source": [
    "Мы видим, что самый высокий средний запас предсказанного сырья, а также RMSE в третьем датафрейме. Самое низкое значение RMSE во второй таблице, оно равно 0.89."
   ]
  },
  {
   "cell_type": "markdown",
   "metadata": {},
   "source": [
    "## Подготовка к расчёту прибыли"
   ]
  },
  {
   "cell_type": "markdown",
   "metadata": {},
   "source": [
    "Посчитаем сколько денег из бюджета выделяют на одну из 200, которые будут отобраны."
   ]
  },
  {
   "cell_type": "code",
   "execution_count": 27,
   "metadata": {},
   "outputs": [
    {
     "name": "stdout",
     "output_type": "stream",
     "text": [
      "50000000.0\n"
     ]
    }
   ],
   "source": [
    "MONEY_ONE_WELL = 10000000000 / 200\n",
    "print(MONEY_ONE_WELL)"
   ]
  },
  {
   "cell_type": "markdown",
   "metadata": {},
   "source": [
    "А также посчитаем сколько нужно тысяч баррелей, чтобы окупить затраты."
   ]
  },
  {
   "cell_type": "code",
   "execution_count": 28,
   "metadata": {},
   "outputs": [
    {
     "name": "stdout",
     "output_type": "stream",
     "text": [
      "111.11111111111111\n"
     ]
    }
   ],
   "source": [
    "COUNT_BARR = MONEY_ONE_WELL / 450000\n",
    "print(COUNT_BARR)"
   ]
  },
  {
   "cell_type": "markdown",
   "metadata": {},
   "source": [
    "Получили значение в 111 тысяч баррелей, чтобы окупить затраты.\n",
    "\n",
    "Расчитаем объём сырья для безубыточной разработки новой скважины по каждой таблице, средние значения мы уже рассчитывали в предыдущем шаге, продублируем значения для удобства."
   ]
  },
  {
   "cell_type": "code",
   "execution_count": 29,
   "metadata": {},
   "outputs": [
    {
     "name": "stdout",
     "output_type": "stream",
     "text": [
      "Объём сырья для безубыточной разработки новой скважины 1 региона: 19.032514370281845\n",
      "Объём сырья для безубыточной разработки новой скважины 2 региона: 42.38797508675114\n",
      "Объём сырья для безубыточной разработки новой скважины 3 региона: 16.226878302256736\n"
     ]
    }
   ],
   "source": [
    "df_0_mean=92.07859674082927\n",
    "df_1_mean=68.72313602435997\n",
    "df_2_mean=94.88423280885438\n",
    "\n",
    "print('Объём сырья для безубыточной разработки новой скважины 1 региона:', COUNT_BARR - df_0_mean)\n",
    "print('Объём сырья для безубыточной разработки новой скважины 2 региона:', COUNT_BARR - df_1_mean)\n",
    "print('Объём сырья для безубыточной разработки новой скважины 3 региона:', COUNT_BARR - df_2_mean)"
   ]
  },
  {
   "cell_type": "markdown",
   "metadata": {},
   "source": [
    "Самый большой объём сырья для безубыточной разработки новой скважины мы видим во втором датафрейме, разница между первой и третьей таблицей небольшая."
   ]
  },
  {
   "cell_type": "markdown",
   "metadata": {},
   "source": [
    "## Расчёт прибыли и рисков "
   ]
  },
  {
   "cell_type": "markdown",
   "metadata": {},
   "source": [
    "Перейдём к расчёту прибыли и рисков. Для начала напишем собственную функцию для расчёта прибыльности 200 лучших скважин."
   ]
  },
  {
   "cell_type": "code",
   "execution_count": 34,
   "metadata": {},
   "outputs": [],
   "source": [
    "def profit(target, predictions, count):\n",
    "    profit = 0\n",
    "    probs_sorted = predictions.sort_values(ascending=False).head(200)\n",
    "    selected = target[probs_sorted.index][:count] \n",
    "    for top in selected:\n",
    "        profit += (top - COUNT_BARR)*450000\n",
    "    return profit"
   ]
  },
  {
   "cell_type": "markdown",
   "metadata": {},
   "source": [
    "Перейдём к непосредственному расчету прибыльности."
   ]
  },
  {
   "cell_type": "code",
   "execution_count": 35,
   "metadata": {},
   "outputs": [
    {
     "name": "stdout",
     "output_type": "stream",
     "text": [
      "Прибиыльность 200 топовых скважин валидационной выборки 3321 млн.\n"
     ]
    },
    {
     "name": "stderr",
     "output_type": "stream",
     "text": [
      "/tmp/ipykernel_31/3372057489.py:1: SettingWithCopyWarning: \n",
      "A value is trying to be set on a copy of a slice from a DataFrame.\n",
      "Try using .loc[row_indexer,col_indexer] = value instead\n",
      "\n",
      "See the caveats in the documentation: https://pandas.pydata.org/pandas-docs/stable/user_guide/indexing.html#returning-a-view-versus-a-copy\n",
      "  data0_valid['product_pred']=data0_predictions_valid\n"
     ]
    }
   ],
   "source": [
    "data0_valid['product_pred']=data0_predictions_valid\n",
    "\n",
    "profit0=profit(data0_valid['product'], data0_valid['product_pred'],200)\n",
    "print(\"Прибиыльность 200 топовых скважин валидационной выборки\", round(profit0/1000000), \"млн.\")"
   ]
  },
  {
   "cell_type": "code",
   "execution_count": 36,
   "metadata": {},
   "outputs": [
    {
     "name": "stdout",
     "output_type": "stream",
     "text": [
      "Прибиыльность 200 топовых скважин валидационной выборки 2415 млн.\n"
     ]
    },
    {
     "name": "stderr",
     "output_type": "stream",
     "text": [
      "/tmp/ipykernel_31/2564123118.py:1: SettingWithCopyWarning: \n",
      "A value is trying to be set on a copy of a slice from a DataFrame.\n",
      "Try using .loc[row_indexer,col_indexer] = value instead\n",
      "\n",
      "See the caveats in the documentation: https://pandas.pydata.org/pandas-docs/stable/user_guide/indexing.html#returning-a-view-versus-a-copy\n",
      "  data1_valid['product_pred']=data1_predictions_valid\n"
     ]
    }
   ],
   "source": [
    "data1_valid['product_pred']=data1_predictions_valid\n",
    "\n",
    "profit1=profit(data1_valid['product'], data1_valid['product_pred'],200)\n",
    "print(\"Прибиыльность 200 топовых скважин валидационной выборки\", round(profit1/1000000), \"млн.\")"
   ]
  },
  {
   "cell_type": "code",
   "execution_count": 37,
   "metadata": {},
   "outputs": [
    {
     "name": "stdout",
     "output_type": "stream",
     "text": [
      "Прибиыльность 200 топовых скважин валидационной выборки 2710 млн.\n"
     ]
    },
    {
     "name": "stderr",
     "output_type": "stream",
     "text": [
      "/tmp/ipykernel_31/3913746591.py:1: SettingWithCopyWarning: \n",
      "A value is trying to be set on a copy of a slice from a DataFrame.\n",
      "Try using .loc[row_indexer,col_indexer] = value instead\n",
      "\n",
      "See the caveats in the documentation: https://pandas.pydata.org/pandas-docs/stable/user_guide/indexing.html#returning-a-view-versus-a-copy\n",
      "  data2_valid['product_pred'] = data2_predictions_valid\n"
     ]
    }
   ],
   "source": [
    "data2_valid['product_pred'] = data2_predictions_valid\n",
    "\n",
    "profit2=profit(data2_valid['product'], data2_valid['product_pred'],200)\n",
    "print(\"Прибиыльность 200 топовых скважин валидационной выборки\", round(profit2/1000000), \"млн.\")"
   ]
  },
  {
   "cell_type": "markdown",
   "metadata": {},
   "source": [
    "Самую высокую прибыльность показывают скважины из первой таблицы.\n",
    "\n",
    "Теперь рассчитаем вероятные убытки."
   ]
  },
  {
   "cell_type": "code",
   "execution_count": 38,
   "metadata": {},
   "outputs": [
    {
     "name": "stdout",
     "output_type": "stream",
     "text": [
      "Для первого региона\n",
      "Вероятность убытков 7.6 %\n",
      "Среднее значение бутстрепа 403.535244261165 млн.\n",
      "Верхняя граница доверительного интервала 931574367.5508461\n",
      "Нижняя граница доверительного интервала -118327362.12311177\n",
      "\n",
      "\n",
      "Для второго региона\n",
      "Вероятность убытков 1.7 %\n",
      "Среднее значение бутстрепа 465.04105822107704 млн.\n",
      "Верхняя граница доверительного интервала 864388463.3254703\n",
      "Нижняя граница доверительного интервала 32036742.850023583\n",
      "\n",
      "\n",
      "Для третьего региона\n",
      "Вероятность убытков 7.9 %\n",
      "Среднее значение бутстрепа 414.20972284096746 млн.\n",
      "Верхняя граница доверительного интервала 972339167.9202834\n",
      "Нижняя граница доверительного интервала -148373898.68249217\n",
      "\n"
     ]
    }
   ],
   "source": [
    "def boots (target, predictions):\n",
    "    state = np.random.RandomState(12345)\n",
    "    values = []\n",
    "    counter=0\n",
    "    for i in range(1000):\n",
    "        target_subsample = target.sample(n=500, replace=True, random_state=state)\n",
    "        preds_subsample = predictions[target_subsample.index]\n",
    "        \n",
    "        values.append(profit(target_subsample, preds_subsample, 500))\n",
    "        \n",
    "    values = pd.Series(values)\n",
    "    lower = values.quantile(0.025)\n",
    "    higher = values.quantile(0.975)\n",
    "    \n",
    "    print('Вероятность убытков',stats.percentileofscore(values, 0),'%')\n",
    "    print(\"Среднее значение бутстрепа\", (values.mean())/1000000, \"млн.\")\n",
    "    print(\"Верхняя граница доверительного интервала\", higher)\n",
    "    print(\"Нижняя граница доверительного интервала\", lower)\n",
    "    print()\n",
    "print(\"Для первого региона\")\n",
    "boots(data0_valid['product'], data0_valid['product_pred'])\n",
    "print()\n",
    "print(\"Для второго региона\")\n",
    "boots(data1_valid['product'], data1_valid['product_pred'])\n",
    "print()\n",
    "print(\"Для третьего региона\")\n",
    "boots(data2_valid['product'], data2_valid['product_pred'])"
   ]
  },
  {
   "cell_type": "markdown",
   "metadata": {},
   "source": [
    "Вероятность убытков самая низкая в регионе из второй таблицы - 1,7%, разница вероятности убытков между первой и третьей таблицей невелика. Стоит выбирать между скважинами из первой и второй таблицы, так как в первом случае довольно высокая прибыльность и даже с учетом возможных убытков она остаётся таковой, а во втором случае низкая вероятность убытков."
   ]
  },
  {
   "cell_type": "markdown",
   "metadata": {},
   "source": [
    "## Вывод"
   ]
  },
  {
   "cell_type": "markdown",
   "metadata": {},
   "source": [
    "Итак, в ходе выполнения проекта мы вополнили преобработку данных, обучили модель линейной регрессии, предсказали средний запас сырья в месторождении, рассчитали RMSE модели, а также прибыль и возможные риски по каждому региону.\n",
    "\n",
    "Самый высокий средний запас предсказанного сырья, а также RMSE в третьем датафрейме. Самое низкое значение RMSE во второй таблице, оно равно 0.89.\n",
    "\n",
    "Исходя из наших рассчётов следует выбирать между скважинами из первого и второго региона, так как в первом случае довольно высокая прибыльность и даже с учетом возможных убытков она остаётся таковой, а во втором случае низкая вероятность убытков. Я бы рекомендовала выбрать второй регион, так как и RMSE модели там ниже.\n",
    "\n",
    "Необходимо добыть и продать 111,1 тысяч баррелей, чтобы окупить затраты."
   ]
  }
 ],
 "metadata": {
  "ExecuteTimeLog": [
   {
    "duration": 1552,
    "start_time": "2022-07-04T18:14:34.312Z"
   },
   {
    "duration": 887,
    "start_time": "2022-07-04T18:17:30.087Z"
   },
   {
    "duration": 4,
    "start_time": "2022-07-04T18:18:25.949Z"
   },
   {
    "duration": 359,
    "start_time": "2022-07-04T18:18:26.634Z"
   },
   {
    "duration": 35,
    "start_time": "2022-07-04T18:21:35.489Z"
   },
   {
    "duration": 15,
    "start_time": "2022-07-04T18:21:50.773Z"
   },
   {
    "duration": 13,
    "start_time": "2022-07-04T18:21:53.068Z"
   },
   {
    "duration": 15,
    "start_time": "2022-07-04T18:21:57.211Z"
   },
   {
    "duration": 20,
    "start_time": "2022-07-04T18:31:42.637Z"
   },
   {
    "duration": 12,
    "start_time": "2022-07-04T18:31:53.621Z"
   },
   {
    "duration": 13,
    "start_time": "2022-07-04T18:31:58.407Z"
   },
   {
    "duration": 47,
    "start_time": "2022-07-04T18:36:01.713Z"
   },
   {
    "duration": 41,
    "start_time": "2022-07-04T18:36:33.718Z"
   },
   {
    "duration": 40,
    "start_time": "2022-07-04T18:36:33.923Z"
   },
   {
    "duration": 42,
    "start_time": "2022-07-04T18:36:34.382Z"
   },
   {
    "duration": 105,
    "start_time": "2022-07-04T19:15:48.037Z"
   },
   {
    "duration": 4,
    "start_time": "2022-07-04T19:15:56.704Z"
   },
   {
    "duration": 339,
    "start_time": "2022-07-04T19:15:57.048Z"
   },
   {
    "duration": 15,
    "start_time": "2022-07-04T19:15:57.389Z"
   },
   {
    "duration": 14,
    "start_time": "2022-07-04T19:15:57.576Z"
   },
   {
    "duration": 14,
    "start_time": "2022-07-04T19:15:57.770Z"
   },
   {
    "duration": 14,
    "start_time": "2022-07-04T19:15:58.132Z"
   },
   {
    "duration": 12,
    "start_time": "2022-07-04T19:15:58.334Z"
   },
   {
    "duration": 13,
    "start_time": "2022-07-04T19:15:58.522Z"
   },
   {
    "duration": 46,
    "start_time": "2022-07-04T19:15:58.905Z"
   },
   {
    "duration": 37,
    "start_time": "2022-07-04T19:15:59.118Z"
   },
   {
    "duration": 40,
    "start_time": "2022-07-04T19:15:59.321Z"
   },
   {
    "duration": 44,
    "start_time": "2022-07-04T19:16:00.800Z"
   },
   {
    "duration": 39,
    "start_time": "2022-07-04T19:16:39.722Z"
   },
   {
    "duration": 39,
    "start_time": "2022-07-04T19:16:49.160Z"
   },
   {
    "duration": 52,
    "start_time": "2022-07-04T19:20:14.234Z"
   },
   {
    "duration": 42,
    "start_time": "2022-07-04T19:20:14.819Z"
   },
   {
    "duration": 41,
    "start_time": "2022-07-04T19:20:15.113Z"
   },
   {
    "duration": 4,
    "start_time": "2022-07-04T19:22:56.344Z"
   },
   {
    "duration": 9,
    "start_time": "2022-07-04T19:24:09.932Z"
   },
   {
    "duration": 228,
    "start_time": "2022-07-04T19:24:14.558Z"
   },
   {
    "duration": 909,
    "start_time": "2022-07-04T19:33:15.646Z"
   },
   {
    "duration": 15,
    "start_time": "2022-07-04T19:35:43.276Z"
   },
   {
    "duration": 14,
    "start_time": "2022-07-04T19:35:44.046Z"
   },
   {
    "duration": 14,
    "start_time": "2022-07-04T19:35:44.465Z"
   },
   {
    "duration": 2325,
    "start_time": "2022-07-05T17:20:52.737Z"
   },
   {
    "duration": 2470,
    "start_time": "2022-07-05T17:20:55.065Z"
   },
   {
    "duration": 18,
    "start_time": "2022-07-05T17:20:57.540Z"
   },
   {
    "duration": 28,
    "start_time": "2022-07-05T17:20:57.561Z"
   },
   {
    "duration": 31,
    "start_time": "2022-07-05T17:20:57.592Z"
   },
   {
    "duration": 45,
    "start_time": "2022-07-05T17:20:57.629Z"
   },
   {
    "duration": 68,
    "start_time": "2022-07-05T17:20:57.677Z"
   },
   {
    "duration": 64,
    "start_time": "2022-07-05T17:20:57.747Z"
   },
   {
    "duration": 152,
    "start_time": "2022-07-05T17:20:57.814Z"
   },
   {
    "duration": 81,
    "start_time": "2022-07-05T17:20:57.969Z"
   },
   {
    "duration": 78,
    "start_time": "2022-07-05T17:20:58.052Z"
   },
   {
    "duration": 27,
    "start_time": "2022-07-05T17:20:58.131Z"
   },
   {
    "duration": 84,
    "start_time": "2022-07-05T17:20:58.163Z"
   },
   {
    "duration": 39,
    "start_time": "2022-07-05T17:20:58.248Z"
   },
   {
    "duration": 140,
    "start_time": "2022-07-05T17:20:58.290Z"
   },
   {
    "duration": 0,
    "start_time": "2022-07-05T17:20:58.433Z"
   },
   {
    "duration": 0,
    "start_time": "2022-07-05T17:20:58.436Z"
   },
   {
    "duration": 16,
    "start_time": "2022-07-05T17:20:58.722Z"
   },
   {
    "duration": 18,
    "start_time": "2022-07-05T17:20:59.596Z"
   },
   {
    "duration": 5,
    "start_time": "2022-07-05T17:22:16.864Z"
   },
   {
    "duration": 96,
    "start_time": "2022-07-05T17:22:50.715Z"
   },
   {
    "duration": 11,
    "start_time": "2022-07-05T17:22:54.491Z"
   },
   {
    "duration": 84,
    "start_time": "2022-07-05T17:22:59.852Z"
   },
   {
    "duration": 48,
    "start_time": "2022-07-05T17:23:01.316Z"
   },
   {
    "duration": 28,
    "start_time": "2022-07-05T17:23:02.445Z"
   },
   {
    "duration": 6,
    "start_time": "2022-07-05T18:08:53.228Z"
   },
   {
    "duration": 4,
    "start_time": "2022-07-05T18:08:55.192Z"
   },
   {
    "duration": 7,
    "start_time": "2022-07-05T18:15:16.734Z"
   },
   {
    "duration": 5,
    "start_time": "2022-07-05T18:25:45.228Z"
   },
   {
    "duration": 10,
    "start_time": "2022-07-05T18:26:38.273Z"
   },
   {
    "duration": 20,
    "start_time": "2022-07-05T18:27:22.696Z"
   },
   {
    "duration": 11,
    "start_time": "2022-07-05T18:27:37.245Z"
   },
   {
    "duration": 11,
    "start_time": "2022-07-05T18:27:51.531Z"
   },
   {
    "duration": 11,
    "start_time": "2022-07-05T18:27:59.192Z"
   },
   {
    "duration": 27,
    "start_time": "2022-07-05T18:29:02.702Z"
   },
   {
    "duration": 5,
    "start_time": "2022-07-05T18:29:26.925Z"
   },
   {
    "duration": 1155,
    "start_time": "2022-07-05T18:29:32.231Z"
   },
   {
    "duration": 1142,
    "start_time": "2022-07-05T18:30:59.988Z"
   },
   {
    "duration": 6,
    "start_time": "2022-07-05T18:34:02.982Z"
   },
   {
    "duration": 3894,
    "start_time": "2022-07-05T18:34:07.264Z"
   },
   {
    "duration": 1459,
    "start_time": "2022-07-06T17:52:39.969Z"
   },
   {
    "duration": 700,
    "start_time": "2022-07-06T17:52:41.429Z"
   },
   {
    "duration": 14,
    "start_time": "2022-07-06T17:52:42.131Z"
   },
   {
    "duration": 14,
    "start_time": "2022-07-06T17:52:42.148Z"
   },
   {
    "duration": 15,
    "start_time": "2022-07-06T17:52:42.163Z"
   },
   {
    "duration": 18,
    "start_time": "2022-07-06T17:52:42.179Z"
   },
   {
    "duration": 33,
    "start_time": "2022-07-06T17:52:42.199Z"
   },
   {
    "duration": 17,
    "start_time": "2022-07-06T17:52:42.234Z"
   },
   {
    "duration": 52,
    "start_time": "2022-07-06T17:52:42.253Z"
   },
   {
    "duration": 41,
    "start_time": "2022-07-06T17:52:42.352Z"
   },
   {
    "duration": 42,
    "start_time": "2022-07-06T17:52:42.489Z"
   },
   {
    "duration": 16,
    "start_time": "2022-07-06T17:52:42.983Z"
   },
   {
    "duration": 15,
    "start_time": "2022-07-06T17:52:43.304Z"
   },
   {
    "duration": 14,
    "start_time": "2022-07-06T17:52:45.464Z"
   },
   {
    "duration": 59,
    "start_time": "2022-07-06T17:52:47.498Z"
   },
   {
    "duration": 5,
    "start_time": "2022-07-06T17:52:52.665Z"
   },
   {
    "duration": 111,
    "start_time": "2022-07-06T17:52:53.019Z"
   },
   {
    "duration": 17,
    "start_time": "2022-07-06T17:52:53.371Z"
   },
   {
    "duration": 17,
    "start_time": "2022-07-06T17:52:54.148Z"
   },
   {
    "duration": 2,
    "start_time": "2022-07-06T17:54:35.328Z"
   },
   {
    "duration": 96,
    "start_time": "2022-07-06T17:54:35.838Z"
   },
   {
    "duration": 10,
    "start_time": "2022-07-06T17:54:36.185Z"
   },
   {
    "duration": 3,
    "start_time": "2022-07-06T17:54:40.235Z"
   },
   {
    "duration": 4,
    "start_time": "2022-07-06T17:54:49.047Z"
   },
   {
    "duration": 4,
    "start_time": "2022-07-06T17:54:50.756Z"
   },
   {
    "duration": 5,
    "start_time": "2022-07-06T18:20:43.492Z"
   },
   {
    "duration": 5,
    "start_time": "2022-07-06T18:20:47.815Z"
   },
   {
    "duration": 3,
    "start_time": "2022-07-06T18:20:48.694Z"
   },
   {
    "duration": 4,
    "start_time": "2022-07-06T18:20:49.160Z"
   },
   {
    "duration": 3,
    "start_time": "2022-07-06T18:21:57.660Z"
   },
   {
    "duration": 18,
    "start_time": "2022-07-06T18:22:02.377Z"
   },
   {
    "duration": 4,
    "start_time": "2022-07-06T18:27:28.560Z"
   },
   {
    "duration": 16,
    "start_time": "2022-07-06T18:27:29.586Z"
   },
   {
    "duration": 4,
    "start_time": "2022-07-06T18:27:45.290Z"
   },
   {
    "duration": 8,
    "start_time": "2022-07-06T18:27:47.939Z"
   },
   {
    "duration": 8,
    "start_time": "2022-07-06T18:27:49.034Z"
   },
   {
    "duration": 8,
    "start_time": "2022-07-06T18:27:49.430Z"
   },
   {
    "duration": 3192,
    "start_time": "2022-07-06T18:27:55.335Z"
   }
  ],
  "kernelspec": {
   "display_name": "Python 3 (ipykernel)",
   "language": "python",
   "name": "python3"
  },
  "language_info": {
   "codemirror_mode": {
    "name": "ipython",
    "version": 3
   },
   "file_extension": ".py",
   "mimetype": "text/x-python",
   "name": "python",
   "nbconvert_exporter": "python",
   "pygments_lexer": "ipython3",
   "version": "3.9.12"
  },
  "toc": {
   "base_numbering": 1,
   "nav_menu": {},
   "number_sections": true,
   "sideBar": true,
   "skip_h1_title": true,
   "title_cell": "Table of Contents",
   "title_sidebar": "Contents",
   "toc_cell": false,
   "toc_position": {},
   "toc_section_display": true,
   "toc_window_display": false
  }
 },
 "nbformat": 4,
 "nbformat_minor": 2
}
