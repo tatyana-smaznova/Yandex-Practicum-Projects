{
 "cells": [
  {
   "cell_type": "markdown",
   "metadata": {
    "id": "E0vqbgi9ay0H"
   },
   "source": [
    "# Яндекс.Музыка"
   ]
  },
  {
   "cell_type": "markdown",
   "metadata": {
    "id": "VUC88oWjTJw2"
   },
   "source": [
    "Сравнение Москвы и Петербурга окружено мифами. Например:\n",
    " * Москва — мегаполис, подчинённый жёсткому ритму рабочей недели;\n",
    " * Петербург — культурная столица, со своими вкусами.\n",
    "\n",
    "На данных Яндекс.Музыки вы сравните поведение пользователей двух столиц.\n",
    "\n",
    "**Цель исследования** — проверьте три гипотезы:\n",
    "1. Активность пользователей зависит от дня недели. Причём в Москве и Петербурге это проявляется по-разному.\n",
    "2. В понедельник утром в Москве преобладают одни жанры, а в Петербурге — другие. Так же и вечером пятницы преобладают разные жанры — в зависимости от города. \n",
    "3. Москва и Петербург предпочитают разные жанры музыки. В Москве чаще слушают поп-музыку, в Петербурге — русский рэп.\n",
    "\n",
    "**Ход исследования**\n",
    "\n",
    "Данные о поведении пользователей вы получите из файла `yandex_music_project.csv`. О качестве данных ничего не известно. Поэтому перед проверкой гипотез понадобится обзор данных. \n",
    "\n",
    "Вы проверите данные на ошибки и оцените их влияние на исследование. Затем, на этапе предобработки вы поищете возможность исправить самые критичные ошибки данных.\n",
    " \n",
    "Таким образом, исследование пройдёт в три этапа:\n",
    " 1. Обзор данных.\n",
    " 2. Предобработка данных.\n",
    " 3. Проверка гипотез.\n",
    "\n"
   ]
  },
  {
   "cell_type": "markdown",
   "metadata": {
    "id": "Ml1hmfXC_Zcs"
   },
   "source": [
    "## Обзор данных\n",
    "\n",
    "Составьте первое представление о данных Яндекс.Музыки.\n",
    "\n",
    "\n"
   ]
  },
  {
   "cell_type": "markdown",
   "metadata": {
    "id": "57eAOGIz_Zcs"
   },
   "source": [
    "Основной инструмент аналитика — `pandas`. Импортируйте эту библиотеку."
   ]
  },
  {
   "cell_type": "code",
   "execution_count": 1,
   "metadata": {
    "id": "AXN7PHPN_Zcs"
   },
   "outputs": [],
   "source": [
    "import pandas as pd # импорт библиотеки pandas"
   ]
  },
  {
   "cell_type": "markdown",
   "metadata": {
    "id": "SG23P8tt_Zcs"
   },
   "source": [
    "Прочитайте файл `yandex_music_project.csv` из папки `/datasets` и сохраните его в переменной `df`:"
   ]
  },
  {
   "cell_type": "code",
   "execution_count": 2,
   "metadata": {
    "id": "fFVu7vqh_Zct"
   },
   "outputs": [],
   "source": [
    "df = pd.read_csv('/datasets/yandex_music_project.csv') # чтение файла с данными и сохранение в df"
   ]
  },
  {
   "cell_type": "markdown",
   "metadata": {
    "id": "rDoOMd3uTqnZ"
   },
   "source": [
    "Выведите на экран первые десять строк таблицы:"
   ]
  },
  {
   "cell_type": "code",
   "execution_count": 3,
   "metadata": {
    "id": "oWTVX3gW_Zct",
    "scrolled": true
   },
   "outputs": [
    {
     "name": "stdout",
     "output_type": "stream",
     "text": [
      "     userID                        Track            artist  genre  \\\n",
      "0  FFB692EC            Kamigata To Boots  The Mass Missile   rock   \n",
      "1  55204538  Delayed Because of Accident  Andreas Rönnberg   rock   \n",
      "2    20EC38            Funiculì funiculà       Mario Lanza    pop   \n",
      "3  A3DD03C9        Dragons in the Sunset        Fire + Ice   folk   \n",
      "4  E2DC1FAE                  Soul People        Space Echo  dance   \n",
      "\n",
      "             City        time        Day  \n",
      "0  Saint-Petersburg  20:28:33  Wednesday  \n",
      "1            Moscow  14:07:09     Friday  \n",
      "2  Saint-Petersburg  20:58:07  Wednesday  \n",
      "3  Saint-Petersburg  08:37:09     Monday  \n",
      "4            Moscow  08:34:34     Monday  \n"
     ]
    }
   ],
   "source": [
    "print(df.head()) # получение первых 10 строк таблицы df"
   ]
  },
  {
   "cell_type": "markdown",
   "metadata": {
    "id": "EO73Kwic_Zct"
   },
   "source": [
    "Одной командой получить общую информацию о таблице:"
   ]
  },
  {
   "cell_type": "code",
   "execution_count": 4,
   "metadata": {
    "id": "DSf2kIb-_Zct",
    "scrolled": true
   },
   "outputs": [
    {
     "name": "stdout",
     "output_type": "stream",
     "text": [
      "<class 'pandas.core.frame.DataFrame'>\n",
      "RangeIndex: 65079 entries, 0 to 65078\n",
      "Data columns (total 7 columns):\n",
      " #   Column    Non-Null Count  Dtype \n",
      "---  ------    --------------  ----- \n",
      " 0     userID  65079 non-null  object\n",
      " 1   Track     63848 non-null  object\n",
      " 2   artist    57876 non-null  object\n",
      " 3   genre     63881 non-null  object\n",
      " 4     City    65079 non-null  object\n",
      " 5   time      65079 non-null  object\n",
      " 6   Day       65079 non-null  object\n",
      "dtypes: object(7)\n",
      "memory usage: 3.5+ MB\n"
     ]
    }
   ],
   "source": [
    "df.info() # получение общей информации о данных в таблице df"
   ]
  },
  {
   "cell_type": "markdown",
   "metadata": {
    "id": "TaQ2Iwbr_Zct"
   },
   "source": [
    "Итак, в таблице семь столбцов. Тип данных во всех столбцах — `object`.\n",
    "\n",
    "Согласно документации к данным:\n",
    "* `userID` — идентификатор пользователя;\n",
    "* `Track` — название трека;  \n",
    "* `artist` — имя исполнителя;\n",
    "* `genre` — название жанра;\n",
    "* `City` — город пользователя;\n",
    "* `time` — время начала прослушивания;\n",
    "* `Day` — день недели.\n",
    "\n",
    "В названиях колонок видны три нарушения стиля:\n",
    "1. Строчные буквы сочетаются с прописными.\n",
    "2. Встречаются пробелы.\n",
    "3. Не используется змеиный регистр (User и ID — отдельные слова, поэтому их нужно писать змеиным регистром)\n",
    "\n",
    "\n",
    "\n",
    "Количество значений в столбцах различается. Значит, в данных есть пропущенные значения.\n"
   ]
  },
  {
   "cell_type": "markdown",
   "metadata": {
    "id": "MCB6-dXG_Zct"
   },
   "source": [
    "**Выводы**\n",
    "\n",
    "В каждой строке таблицы — данные о прослушанном треке. Часть колонок описывает саму композицию: название, исполнителя и жанр. Остальные данные рассказывают о пользователе: из какого он города, когда он слушал музыку. \n",
    "\n",
    "Предварительно можно утверждать, что, данных достаточно для проверки гипотез. Но встречаются пропуски в данных, а в названиях колонок — расхождения с хорошим стилем.\n",
    "\n",
    "Чтобы двигаться дальше, нужно устранить проблемы в данных."
   ]
  },
  {
   "cell_type": "markdown",
   "metadata": {
    "id": "SjYF6Ub9_Zct"
   },
   "source": [
    "## Предобработка данных\n",
    "Исправьте стиль в заголовках столбцов, исключите пропуски. Затем проверьте данные на дубликаты."
   ]
  },
  {
   "cell_type": "markdown",
   "metadata": {
    "id": "dIaKXr29_Zct"
   },
   "source": [
    "### Стиль заголовков\n",
    "Выведите на экран названия столбцов:"
   ]
  },
  {
   "cell_type": "code",
   "execution_count": 5,
   "metadata": {
    "id": "oKOTdF_Q_Zct"
   },
   "outputs": [
    {
     "name": "stdout",
     "output_type": "stream",
     "text": [
      "Index(['  userID', 'Track', 'artist', 'genre', '  City  ', 'time', 'Day'], dtype='object')\n"
     ]
    }
   ],
   "source": [
    "print(df.columns) # перечень названий столбцов таблицы df"
   ]
  },
  {
   "cell_type": "markdown",
   "metadata": {
    "id": "zj5534cv_Zct"
   },
   "source": [
    "Приведите названия в соответствие с хорошим стилем:\n",
    "* несколько слов в названии запишите в «змеином_регистре»,\n",
    "* все символы сделайте строчными,\n",
    "* устраните пробелы.\n",
    "\n",
    "Для этого переименуйте колонки так:\n",
    "* `'  userID'` → `'user_id'`;\n",
    "* `'Track'` → `'track'`;\n",
    "* `'  City  '` → `'city'`;\n",
    "* `'Day'` → `'day'`."
   ]
  },
  {
   "cell_type": "code",
   "execution_count": 6,
   "metadata": {
    "id": "ISlFqs5y_Zct"
   },
   "outputs": [],
   "source": [
    "df=df.rename(columns={'  userID' : 'user_id', 'Track' : 'track', '  City  ' : 'city', 'Day' : 'day'}) # переименование столбцов"
   ]
  },
  {
   "cell_type": "markdown",
   "metadata": {
    "id": "1dqbh00J_Zct"
   },
   "source": [
    "Проверьте результат. Для этого ещё раз выведите на экран названия столбцов:"
   ]
  },
  {
   "cell_type": "code",
   "execution_count": 7,
   "metadata": {
    "id": "d4NOAmTW_Zct",
    "scrolled": true
   },
   "outputs": [
    {
     "name": "stdout",
     "output_type": "stream",
     "text": [
      "Index(['user_id', 'track', 'artist', 'genre', 'city', 'time', 'day'], dtype='object')\n"
     ]
    }
   ],
   "source": [
    "print(df.columns) # проверка результатов - перечень названий столбцов"
   ]
  },
  {
   "cell_type": "markdown",
   "metadata": {
    "id": "5ISfbcfY_Zct"
   },
   "source": [
    "### Пропуски значений\n",
    "Сначала посчитайте, сколько в таблице пропущенных значений. Для этого достаточно двух методов `pandas`:"
   ]
  },
  {
   "cell_type": "code",
   "execution_count": 8,
   "metadata": {
    "id": "RskX29qr_Zct",
    "scrolled": true
   },
   "outputs": [
    {
     "name": "stdout",
     "output_type": "stream",
     "text": [
      "user_id       0\n",
      "track      1231\n",
      "artist     7203\n",
      "genre      1198\n",
      "city          0\n",
      "time          0\n",
      "day           0\n",
      "dtype: int64\n"
     ]
    }
   ],
   "source": [
    "print(df.isna().sum()) # подсчёт пропусков"
   ]
  },
  {
   "cell_type": "markdown",
   "metadata": {
    "id": "qubhgnlO_Zct"
   },
   "source": [
    "Не все пропущенные значения влияют на исследование. Так в `track` и `artist` пропуски не важны для вашей работы. Достаточно заменить их явными обозначениями.\n",
    "\n",
    "Но пропуски в `genre` могут помешать сравнению музыкальных вкусов в Москве и Санкт-Петербурге. На практике было бы правильно установить причину пропусков и восстановить данные. Такой возможности нет в учебном проекте. Придётся:\n",
    "* заполнить и эти пропуски явными обозначениями,\n",
    "* оценить, насколько они повредят расчётам. "
   ]
  },
  {
   "cell_type": "markdown",
   "metadata": {
    "id": "fSv2laPA_Zct"
   },
   "source": [
    "Замените пропущенные значения в столбцах `track`, `artist` и `genre` на строку `'unknown'`. Для этого создайте список `columns_to_replace`, переберите его элементы циклом `for` и для каждого столбца выполните замену пропущенных значений:"
   ]
  },
  {
   "cell_type": "code",
   "execution_count": 9,
   "metadata": {
    "id": "KplB5qWs_Zct"
   },
   "outputs": [],
   "source": [
    "to_replace = ['track_name', 'artist_name', 'genre_name']\n",
    "for column in columns_to_replace:\n",
    "    df[column] = df[column].fillna('unknown') # перебор названий столбцов в цикле и замена пропущенных значений на 'unknown'"
   ]
  },
  {
   "cell_type": "markdown",
   "metadata": {
    "id": "Ilsm-MZo_Zct"
   },
   "source": [
    "Убедитесь, что в таблице не осталось пропусков. Для этого ещё раз посчитайте пропущенные значения."
   ]
  },
  {
   "cell_type": "code",
   "execution_count": 10,
   "metadata": {
    "id": "Tq4nYRX4_Zct"
   },
   "outputs": [
    {
     "name": "stdout",
     "output_type": "stream",
     "text": [
      "user_id    0\n",
      "track      0\n",
      "artist     0\n",
      "genre      0\n",
      "city       0\n",
      "time       0\n",
      "day        0\n",
      "dtype: int64\n"
     ]
    }
   ],
   "source": [
    "print(df.isna().sum()) # подсчёт пропусков"
   ]
  },
  {
   "cell_type": "markdown",
   "metadata": {
    "id": "BWKRtBJ3_Zct"
   },
   "source": [
    "### Дубликаты\n",
    "Посчитайте явные дубликаты в таблице одной командой:"
   ]
  },
  {
   "cell_type": "code",
   "execution_count": 11,
   "metadata": {
    "id": "36eES_S0_Zct"
   },
   "outputs": [
    {
     "name": "stdout",
     "output_type": "stream",
     "text": [
      "3826\n"
     ]
    }
   ],
   "source": [
    "print(df.duplicated().sum()) # подсчёт явных дубликатов"
   ]
  },
  {
   "cell_type": "markdown",
   "metadata": {
    "id": "Ot25h6XR_Zct"
   },
   "source": [
    "Вызовите специальный метод `pandas`, чтобы удалить явные дубликаты:"
   ]
  },
  {
   "cell_type": "code",
   "execution_count": 12,
   "metadata": {
    "id": "exFHq6tt_Zct"
   },
   "outputs": [],
   "source": [
    "df = df.drop_duplicates().reset_index(drop=True) # удаление явных дубликатов (с удалением старых индексов и формированием новых)"
   ]
  },
  {
   "cell_type": "markdown",
   "metadata": {
    "id": "Im2YwBEG_Zct"
   },
   "source": [
    "Ещё раз посчитайте явные дубликаты в таблице — убедитесь, что полностью от них избавились:"
   ]
  },
  {
   "cell_type": "code",
   "execution_count": 13,
   "metadata": {
    "id": "-8PuNWQ0_Zct",
    "scrolled": true
   },
   "outputs": [
    {
     "name": "stdout",
     "output_type": "stream",
     "text": [
      "0\n"
     ]
    }
   ],
   "source": [
    "print(df.duplicated().sum())# проверка на отсутствие дубликатов"
   ]
  },
  {
   "cell_type": "markdown",
   "metadata": {
    "id": "QlFBsxAr_Zct"
   },
   "source": [
    "Теперь избавьтесь от неявных дубликатов в колонке `genre`. Например, название одного и того же жанра может быть записано немного по-разному. Такие ошибки тоже повлияют на результат исследования."
   ]
  },
  {
   "cell_type": "markdown",
   "metadata": {
    "id": "eSjWwsOh_Zct"
   },
   "source": [
    "Выведите на экран список уникальных названий жанров, отсортированный в алфавитном порядке. Для этого:\n",
    "* извлеките нужный столбец датафрейма, \n",
    "* примените к нему метод сортировки,\n",
    "* для отсортированного столбца вызовите метод, который вернёт уникальные значения из столбца."
   ]
  },
  {
   "cell_type": "code",
   "execution_count": 14,
   "metadata": {
    "id": "JIUcqzZN_Zct"
   },
   "outputs": [
    {
     "name": "stdout",
     "output_type": "stream",
     "text": [
      "['rock' 'pop' 'folk' 'dance' 'rusrap' 'ruspop' 'world' 'electronic'\n",
      " 'unknown' 'alternative' 'children' 'rnb' 'hip' 'jazz' 'postrock' 'latin'\n",
      " 'classical' 'metal' 'reggae' 'tatar' 'blues' 'instrumental' 'rusrock'\n",
      " 'dnb' 'türk' 'post' 'country' 'psychedelic' 'conjazz' 'indie'\n",
      " 'posthardcore' 'local' 'avantgarde' 'punk' 'videogame' 'techno' 'house'\n",
      " 'christmas' 'melodic' 'caucasian' 'reggaeton' 'soundtrack' 'singer' 'ska'\n",
      " 'shanson' 'ambient' 'film' 'western' 'rap' 'beats' \"hard'n'heavy\"\n",
      " 'progmetal' 'minimal' 'contemporary' 'new' 'soul' 'holiday' 'german'\n",
      " 'tropical' 'fairytail' 'spiritual' 'urban' 'gospel' 'nujazz' 'folkmetal'\n",
      " 'trance' 'miscellaneous' 'anime' 'hardcore' 'progressive' 'chanson'\n",
      " 'numetal' 'vocal' 'estrada' 'russian' 'classicmetal' 'dubstep' 'club'\n",
      " 'deep' 'southern' 'black' 'folkrock' 'fitness' 'french' 'disco'\n",
      " 'religious' 'hiphop' 'drum' 'extrememetal' 'türkçe' 'experimental' 'easy'\n",
      " 'metalcore' 'modern' 'argentinetango' 'old' 'breaks' 'eurofolk'\n",
      " 'stonerrock' 'industrial' 'funk' 'jpop' 'middle' 'variété' 'other'\n",
      " 'adult' 'christian' 'gothic' 'international' 'muslim' 'relax' 'schlager'\n",
      " 'caribbean' 'ukrrock' 'nu' 'breakbeat' 'comedy' 'chill' 'newage'\n",
      " 'specialty' 'uzbek' 'k-pop' 'balkan' 'chinese' 'meditative' 'dub' 'power'\n",
      " 'death' 'grime' 'arabesk' 'romance' 'flamenco' 'leftfield' 'european'\n",
      " 'tech' 'newwave' 'dancehall' 'mpb' 'piano' 'top' 'bigroom' 'opera'\n",
      " 'celtic' 'tradjazz' 'acoustic' 'epicmetal' 'hip-hop' 'historisch'\n",
      " 'downbeat' 'downtempo' 'africa' 'audiobook' 'jewish' 'sängerportrait'\n",
      " 'deutschrock' 'eastern' 'action' 'future' 'electropop' 'folklore'\n",
      " 'bollywood' 'marschmusik' 'rnr' 'karaoke' 'indian' 'rancheras'\n",
      " 'электроника' 'afrikaans' 'tango' 'rhythm' 'sound' 'deutschspr' 'trip'\n",
      " 'lovers' 'choral' 'dancepop' 'podcasts' 'retro' 'smooth' 'mexican'\n",
      " 'brazilian' 'ïîï' 'mood' 'surf' 'author' 'gangsta' 'triphop'\n",
      " 'inspirational' 'idm' 'ethnic' 'bluegrass' 'broadway' 'animated'\n",
      " 'americana' 'karadeniz' 'rockabilly' 'colombian' 'self' 'hop' 'synthrock'\n",
      " 'sertanejo' 'japanese' 'canzone' 'swing' 'lounge' 'sport' 'korean'\n",
      " 'ragga' 'traditional' 'gitarre' 'frankreich' 'alternativepunk' 'emo'\n",
      " 'laiko' 'cantopop' 'glitch' 'documentary' 'rockalternative' 'thrash'\n",
      " 'hymn' 'oceania' 'rockother' 'popeurodance' 'dark' 'vi' 'grunge'\n",
      " 'hardstyle' 'samba' 'garage' 'soft' 'art' 'folktronica' 'entehno'\n",
      " 'mediterranean' 'chamber' 'cuban' 'taraftar' 'rockindie' 'gypsy'\n",
      " 'hardtechno' 'shoegazing' 'skarock' 'bossa' 'salsa' 'latino' 'worldbeat'\n",
      " 'malaysian' 'baile' 'ghazal' 'loungeelectronic' 'arabic' 'popelectronic'\n",
      " 'acid' 'kayokyoku' 'neoklassik' 'tribal' 'tanzorchester' 'native'\n",
      " 'independent' 'cantautori' 'handsup' 'poprussian' 'punjabi' 'synthpop'\n",
      " 'rave' 'französisch' 'quebecois' 'speech' 'soulful' 'teen' 'jam' 'ram'\n",
      " 'horror' 'scenic' 'orchestral' 'neue' 'roots' 'slow' 'jungle' 'indipop'\n",
      " 'axé' 'fado' 'showtunes' 'arena' 'irish' 'mandopop' 'forró' 'popdance'\n",
      " 'dirty' 'regional']\n"
     ]
    }
   ],
   "source": [
    "print(df['genre'].unique())\n",
    "# Просмотр уникальных названий жанров"
   ]
  },
  {
   "cell_type": "markdown",
   "metadata": {
    "id": "qej-Qmuo_Zct"
   },
   "source": [
    "Просмотрите список и найдите неявные дубликаты названия `hiphop`. Это могут быть названия с ошибками или альтернативные названия того же жанра.\n",
    "\n",
    "Вы увидите следующие неявные дубликаты:\n",
    "* *hip*,\n",
    "* *hop*,\n",
    "* *hip-hop*.\n",
    "\n",
    "Чтобы очистить от них таблицу, напишите функцию `replace_wrong_genres()` с двумя параметрами: \n",
    "* `wrong_genres` — список дубликатов,\n",
    "* `correct_genre` — строка с правильным значением.\n",
    "\n",
    "Функция должна исправить колонку `genre` в таблице `df`: заменить каждое значение из списка `wrong_genres` на значение из `correct_genre`."
   ]
  },
  {
   "cell_type": "code",
   "execution_count": 15,
   "metadata": {
    "id": "ErNDkmns_Zct"
   },
   "outputs": [],
   "source": [
    "def replace_wrong_values(wrong_values, correct_value):\n",
    "    for wrong_value in wrong_values:\n",
    "        df['genre'] = df['genre'].replace(wrong_value, correct_value) # Функция для замены неявных дубликатов"
   ]
  },
  {
   "cell_type": "markdown",
   "metadata": {
    "id": "aDoBJxbA_Zct"
   },
   "source": [
    "Вызовите `replace_wrong_genres()` и передайте ей такие аргументы, чтобы она устранила неявные дубликаты: вместо `hip`, `hop` и `hip-hop` в таблице должно быть значение `hiphop`:"
   ]
  },
  {
   "cell_type": "code",
   "execution_count": 16,
   "metadata": {
    "id": "YN5i2hpmSo09"
   },
   "outputs": [],
   "source": [
    "duplicates = ['hip', 'hop', 'hip-hop'] \n",
    "name = 'hiphop'\n",
    "replace_wrong_values(duplicates, name)# Устранение неявных дубликатов"
   ]
  },
  {
   "cell_type": "markdown",
   "metadata": {
    "id": "zQKF16_RG15m"
   },
   "source": [
    "Проверьте, что заменили неправильные названия:\n",
    "\n",
    "*   hip\n",
    "*   hop\n",
    "*   hip-hop\n",
    "\n",
    "Выведите отсортированный список уникальных значений столбца `genre`:"
   ]
  },
  {
   "cell_type": "code",
   "execution_count": 17,
   "metadata": {
    "id": "wvixALnFG15m"
   },
   "outputs": [
    {
     "name": "stdout",
     "output_type": "stream",
     "text": [
      "['rock' 'pop' 'folk' 'dance' 'rusrap' 'ruspop' 'world' 'electronic'\n",
      " 'unknown' 'alternative' 'children' 'rnb' 'hiphop' 'jazz' 'postrock'\n",
      " 'latin' 'classical' 'metal' 'reggae' 'tatar' 'blues' 'instrumental'\n",
      " 'rusrock' 'dnb' 'türk' 'post' 'country' 'psychedelic' 'conjazz' 'indie'\n",
      " 'posthardcore' 'local' 'avantgarde' 'punk' 'videogame' 'techno' 'house'\n",
      " 'christmas' 'melodic' 'caucasian' 'reggaeton' 'soundtrack' 'singer' 'ska'\n",
      " 'shanson' 'ambient' 'film' 'western' 'rap' 'beats' \"hard'n'heavy\"\n",
      " 'progmetal' 'minimal' 'contemporary' 'new' 'soul' 'holiday' 'german'\n",
      " 'tropical' 'fairytail' 'spiritual' 'urban' 'gospel' 'nujazz' 'folkmetal'\n",
      " 'trance' 'miscellaneous' 'anime' 'hardcore' 'progressive' 'chanson'\n",
      " 'numetal' 'vocal' 'estrada' 'russian' 'classicmetal' 'dubstep' 'club'\n",
      " 'deep' 'southern' 'black' 'folkrock' 'fitness' 'french' 'disco'\n",
      " 'religious' 'drum' 'extrememetal' 'türkçe' 'experimental' 'easy'\n",
      " 'metalcore' 'modern' 'argentinetango' 'old' 'breaks' 'eurofolk'\n",
      " 'stonerrock' 'industrial' 'funk' 'jpop' 'middle' 'variété' 'other'\n",
      " 'adult' 'christian' 'gothic' 'international' 'muslim' 'relax' 'schlager'\n",
      " 'caribbean' 'ukrrock' 'nu' 'breakbeat' 'comedy' 'chill' 'newage'\n",
      " 'specialty' 'uzbek' 'k-pop' 'balkan' 'chinese' 'meditative' 'dub' 'power'\n",
      " 'death' 'grime' 'arabesk' 'romance' 'flamenco' 'leftfield' 'european'\n",
      " 'tech' 'newwave' 'dancehall' 'mpb' 'piano' 'top' 'bigroom' 'opera'\n",
      " 'celtic' 'tradjazz' 'acoustic' 'epicmetal' 'historisch' 'downbeat'\n",
      " 'downtempo' 'africa' 'audiobook' 'jewish' 'sängerportrait' 'deutschrock'\n",
      " 'eastern' 'action' 'future' 'electropop' 'folklore' 'bollywood'\n",
      " 'marschmusik' 'rnr' 'karaoke' 'indian' 'rancheras' 'электроника'\n",
      " 'afrikaans' 'tango' 'rhythm' 'sound' 'deutschspr' 'trip' 'lovers'\n",
      " 'choral' 'dancepop' 'podcasts' 'retro' 'smooth' 'mexican' 'brazilian'\n",
      " 'ïîï' 'mood' 'surf' 'author' 'gangsta' 'triphop' 'inspirational' 'idm'\n",
      " 'ethnic' 'bluegrass' 'broadway' 'animated' 'americana' 'karadeniz'\n",
      " 'rockabilly' 'colombian' 'self' 'synthrock' 'sertanejo' 'japanese'\n",
      " 'canzone' 'swing' 'lounge' 'sport' 'korean' 'ragga' 'traditional'\n",
      " 'gitarre' 'frankreich' 'alternativepunk' 'emo' 'laiko' 'cantopop'\n",
      " 'glitch' 'documentary' 'rockalternative' 'thrash' 'hymn' 'oceania'\n",
      " 'rockother' 'popeurodance' 'dark' 'vi' 'grunge' 'hardstyle' 'samba'\n",
      " 'garage' 'soft' 'art' 'folktronica' 'entehno' 'mediterranean' 'chamber'\n",
      " 'cuban' 'taraftar' 'rockindie' 'gypsy' 'hardtechno' 'shoegazing'\n",
      " 'skarock' 'bossa' 'salsa' 'latino' 'worldbeat' 'malaysian' 'baile'\n",
      " 'ghazal' 'loungeelectronic' 'arabic' 'popelectronic' 'acid' 'kayokyoku'\n",
      " 'neoklassik' 'tribal' 'tanzorchester' 'native' 'independent' 'cantautori'\n",
      " 'handsup' 'poprussian' 'punjabi' 'synthpop' 'rave' 'französisch'\n",
      " 'quebecois' 'speech' 'soulful' 'teen' 'jam' 'ram' 'horror' 'scenic'\n",
      " 'orchestral' 'neue' 'roots' 'slow' 'jungle' 'indipop' 'axé' 'fado'\n",
      " 'showtunes' 'arena' 'irish' 'mandopop' 'forró' 'popdance' 'dirty'\n",
      " 'regional']\n"
     ]
    }
   ],
   "source": [
    "print(df['genre'].unique()) # Проверка на неявные дубликаты"
   ]
  },
  {
   "cell_type": "markdown",
   "metadata": {
    "id": "jz6a9-7HQUDd"
   },
   "source": [
    "**Выводы**\n",
    "\n",
    "Предобработка обнаружила три проблемы в данных:\n",
    "\n",
    "- нарушения в стиле заголовков,\n",
    "- пропущенные значения,\n",
    "- дубликаты — явные и неявные.\n",
    "\n",
    "Вы исправили заголовки, чтобы упростить работу с таблицей. Без дубликатов исследование станет более точным.\n",
    "\n",
    "Пропущенные значения вы заменили на `'unknown'`. Ещё предстоит увидеть, не повредят ли исследованию пропуски в колонке `genre`.\n",
    "\n",
    "Теперь можно перейти к проверке гипотез. "
   ]
  },
  {
   "cell_type": "markdown",
   "metadata": {
    "id": "WttZHXH0SqKk"
   },
   "source": [
    "## Проверка гипотез"
   ]
  },
  {
   "cell_type": "markdown",
   "metadata": {
    "id": "Im936VVi_Zcu"
   },
   "source": [
    "### Сравнение поведения пользователей двух столиц"
   ]
  },
  {
   "cell_type": "markdown",
   "metadata": {
    "id": "nwt_MuaL_Zcu"
   },
   "source": [
    "Первая гипотеза утверждает, что пользователи по-разному слушают музыку в Москве и Санкт-Петербурге. Проверьте это предположение по данным о трёх днях недели — понедельнике, среде и пятнице. Для этого:\n",
    "\n",
    "* Разделите пользователей Москвы и Санкт-Петербурга\n",
    "* Сравните, сколько треков послушала каждая группа пользователей в понедельник, среду и пятницу.\n"
   ]
  },
  {
   "cell_type": "markdown",
   "metadata": {
    "id": "8Dw_YMmT_Zcu"
   },
   "source": [
    "Для тренировки сначала выполните каждый из расчётов по отдельности. \n",
    "\n",
    "Оцените активность пользователей в каждом городе. Сгруппируйте данные по городу и посчитайте прослушивания в каждой группе.\n",
    "\n"
   ]
  },
  {
   "cell_type": "code",
   "execution_count": 18,
   "metadata": {
    "id": "0_Qs96oh_Zcu"
   },
   "outputs": [],
   "source": [
    "city = df.groupby('city')['user_id'].count()\n",
    "# Подсчёт прослушиваний в каждом городе"
   ]
  },
  {
   "cell_type": "markdown",
   "metadata": {
    "id": "dzli3w8o_Zcu"
   },
   "source": [
    "В Москве прослушиваний больше, чем в Петербурге. Из этого не следует, что московские пользователи чаще слушают музыку. Просто самих пользователей в Москве больше.\n",
    "\n",
    "Теперь сгруппируйте данные по дню недели и подсчитайте прослушивания в понедельник, среду и пятницу. Учтите, что в данных есть информация о прослушиваниях только за эти дни.\n"
   ]
  },
  {
   "cell_type": "code",
   "execution_count": 19,
   "metadata": {
    "id": "uZMKjiJz_Zcu"
   },
   "outputs": [],
   "source": [
    "day = df.groupby('day')['user_id'].count()\n",
    "# Подсчёт прослушиваний в каждый из трёх дней"
   ]
  },
  {
   "cell_type": "markdown",
   "metadata": {
    "id": "cC2tNrlL_Zcu"
   },
   "source": [
    "В среднем пользователи из двух городов менее активны по средам. Но картина может измениться, если рассмотреть каждый город в отдельности."
   ]
  },
  {
   "cell_type": "markdown",
   "metadata": {
    "id": "POzs8bGa_Zcu"
   },
   "source": [
    "Вы видели, как работает группировка по городу и по дням недели. Теперь напишите функцию, которая объединит два эти расчёта.\n",
    "\n",
    "Создайте функцию `number_tracks()`, которая посчитает прослушивания для заданного дня и города. Ей понадобятся два параметра:\n",
    "* день недели,\n",
    "* название города.\n",
    "\n",
    "В функции сохраните в переменную строки исходной таблицы, у которых значение:\n",
    "  * в колонке `day` равно параметру `day`,\n",
    "  * в колонке `city` равно параметру `city`.\n",
    "\n",
    "Для этого примените последовательную фильтрацию с логической индексацией.\n",
    "\n",
    "Затем посчитайте значения в столбце `user_id` получившейся таблицы. Результат сохраните в новую переменную. Верните эту переменную из функции."
   ]
  },
  {
   "cell_type": "code",
   "execution_count": 20,
   "metadata": {
    "id": "Nz3GdQB1_Zcu"
   },
   "outputs": [],
   "source": [
    "# <создание функции number_tracks()>\n",
    "# Объявляется функция с двумя параметрами: day, city.\n",
    "# В переменной track_list сохраняются те строки таблицы df, для которых \n",
    "# значение в столбце 'day' равно параметру day и одновременно значение\n",
    "# в столбце 'city' равно параметру city (используйте последовательную фильтрацию\n",
    "# с помощью логической индексации).\n",
    " # В переменной track_list_count сохраняется число значений столбца 'user_id',\n",
    "# рассчитанное методом count() для таблицы track_list.\n",
    "# Функция возвращает число - значение track_list_count.\n",
    "\n",
    "# Функция для подсчёта прослушиваний для конкретного города и дня.\n",
    "# С помощью последовательной фильтрации с логической индексацией она \n",
    "# сначала получит из исходной таблицы строки с нужным днём,\n",
    "# затем из результата отфильтрует строки с нужным городом,\n",
    "# методом count() посчитает количество значений в колонке user_id. \n",
    "# Это количество функция вернёт в качестве результата\n",
    "\n",
    "def number_tracks(day, city):\n",
    "    track_list = df[df['day'] == day] \n",
    "    track_list = track_list[track_list['city'] == city]\n",
    "    track_list_count = track_list['user_id'].count()\n",
    "    return track_list_count"
   ]
  },
  {
   "cell_type": "markdown",
   "metadata": {
    "id": "ytf7xFrFJQ2r"
   },
   "source": [
    "Вызовите `number_tracks()` шесть раз, меняя значение параметров — так, чтобы получить данные для каждого города в каждый из трёх дней."
   ]
  },
  {
   "cell_type": "code",
   "execution_count": 21,
   "metadata": {
    "id": "rJcRATNQ_Zcu"
   },
   "outputs": [
    {
     "data": {
      "text/plain": [
       "15740"
      ]
     },
     "execution_count": 21,
     "metadata": {},
     "output_type": "execute_result"
    }
   ],
   "source": [
    "number_tracks('Monday', 'Moscow') # количество прослушиваний в Москве по понедельникам"
   ]
  },
  {
   "cell_type": "code",
   "execution_count": 22,
   "metadata": {
    "id": "hq_ncZ5T_Zcu"
   },
   "outputs": [
    {
     "data": {
      "text/plain": [
       "5614"
      ]
     },
     "execution_count": 22,
     "metadata": {},
     "output_type": "execute_result"
    }
   ],
   "source": [
    "number_tracks('Monday','Saint-Petersburg') # количество прослушиваний в Санкт-Петербурге по понедельникам"
   ]
  },
  {
   "cell_type": "code",
   "execution_count": 23,
   "metadata": {
    "id": "_NTy2VPU_Zcu"
   },
   "outputs": [
    {
     "data": {
      "text/plain": [
       "11056"
      ]
     },
     "execution_count": 23,
     "metadata": {},
     "output_type": "execute_result"
    }
   ],
   "source": [
    "number_tracks('Wednesday', 'Moscow') # количество прослушиваний в Москве по средам"
   ]
  },
  {
   "cell_type": "code",
   "execution_count": 24,
   "metadata": {
    "id": "j2y3TAwo_Zcu"
   },
   "outputs": [
    {
     "data": {
      "text/plain": [
       "7003"
      ]
     },
     "execution_count": 24,
     "metadata": {},
     "output_type": "execute_result"
    }
   ],
   "source": [
    "number_tracks('Wednesday','Saint-Petersburg') # количество прослушиваний в Санкт-Петербурге по средам"
   ]
  },
  {
   "cell_type": "code",
   "execution_count": 25,
   "metadata": {
    "id": "vYDw5u_K_Zcu"
   },
   "outputs": [
    {
     "data": {
      "text/plain": [
       "15945"
      ]
     },
     "execution_count": 25,
     "metadata": {},
     "output_type": "execute_result"
    }
   ],
   "source": [
    "number_tracks('Friday', 'Moscow') # количество прослушиваний в Москве по пятницам"
   ]
  },
  {
   "cell_type": "code",
   "execution_count": 26,
   "metadata": {
    "id": "8_yzFtW3_Zcu"
   },
   "outputs": [
    {
     "data": {
      "text/plain": [
       "5895"
      ]
     },
     "execution_count": 26,
     "metadata": {},
     "output_type": "execute_result"
    }
   ],
   "source": [
    "number_tracks('Friday','Saint-Petersburg') # количество прослушиваний в Санкт-Петербурге по пятницам"
   ]
  },
  {
   "cell_type": "markdown",
   "metadata": {
    "id": "7QXffbO-_Zcu"
   },
   "source": [
    "Создайте c помощью конструктора `pd.DataFrame` таблицу, где\n",
    "* названия колонок — `['city', 'monday', 'wednesday', 'friday']`;\n",
    "* данные — результаты, которые вы получили с помощью `number_tracks`."
   ]
  },
  {
   "cell_type": "code",
   "execution_count": 27,
   "metadata": {
    "id": "APAcLpOr_Zcu",
    "scrolled": true
   },
   "outputs": [
    {
     "name": "stdout",
     "output_type": "stream",
     "text": [
      "               city  monday  wednesday  friday\n",
      "0            Moscow   15740      11056   15945\n",
      "1  Saint-Petersburg    5614       7003    5895\n"
     ]
    }
   ],
   "source": [
    "data = [['Moscow', 15740, 11056, 15945],\n",
    "        ['Saint-Petersburg', 5614, 7003, 5895]   \n",
    "]\n",
    "columns = ['city', 'monday', 'wednesday', 'friday']\n",
    "table = pd.DataFrame(data = data, columns = columns)\n",
    "print(table)\n",
    "# Таблица с результатами"
   ]
  },
  {
   "cell_type": "markdown",
   "metadata": {
    "id": "-EgPIHYu_Zcu"
   },
   "source": [
    "**Выводы**\n",
    "\n",
    "Данные показывают разницу поведения пользователей:\n",
    "\n",
    "- В Москве пик прослушиваний приходится на понедельник и пятницу, а в среду заметен спад.\n",
    "- В Петербурге, наоборот, больше слушают музыку по средам. Активность в понедельник и пятницу здесь почти в равной мере уступает среде.\n",
    "\n",
    "Значит, данные говорят в пользу первой гипотезы."
   ]
  },
  {
   "cell_type": "markdown",
   "metadata": {
    "id": "atZAxtq4_Zcu"
   },
   "source": [
    "### Музыка в начале и в конце недели"
   ]
  },
  {
   "cell_type": "markdown",
   "metadata": {
    "id": "eXrQqXFH_Zcu"
   },
   "source": [
    "Согласно второй гипотезе, утром в понедельник в Москве преобладают одни жанры, а в Петербурге — другие. Так же и вечером пятницы преобладают разные жанры — в зависимости от города."
   ]
  },
  {
   "cell_type": "markdown",
   "metadata": {
    "id": "S8UcW6Hw_Zcu"
   },
   "source": [
    "Сохраните таблицы с данными в две переменные:\n",
    "* по Москве — в `moscow_general`;\n",
    "* по Санкт-Петербургу — в `spb_general`."
   ]
  },
  {
   "cell_type": "code",
   "execution_count": 41,
   "metadata": {
    "id": "qeaFfM_P_Zcu"
   },
   "outputs": [],
   "source": [
    "moscow_general = df[df['city'] == 'Moscow']\n",
    "# получение таблицы moscow_general из тех строк таблицы df, \n",
    "# для которых значение в столбце 'city' равно 'Moscow'\n"
   ]
  },
  {
   "cell_type": "code",
   "execution_count": 29,
   "metadata": {
    "id": "ORaVRKto_Zcu"
   },
   "outputs": [],
   "source": [
    "spb_general = df[df['city'] == 'Saint-Petersburg']\n",
    "# получение таблицы spb_general из тех строк таблицы df,\n",
    "# для которых значение в столбце 'city' равно 'Saint-Petersburg'\n"
   ]
  },
  {
   "cell_type": "markdown",
   "metadata": {
    "id": "MEJV-CX2_Zcu"
   },
   "source": [
    "Создайте функцию `genre_weekday()` с четырьмя параметрами:\n",
    "* таблица (датафрейм) с данными,\n",
    "* день недели,\n",
    "* начальная временная метка в формате 'hh:mm', \n",
    "* последняя временная метка в формате 'hh:mm'.\n",
    "\n",
    "Функция должна вернуть информацию о топ-10 жанров тех треков, которые прослушивали в указанный день, в промежутке между двумя отметками времени."
   ]
  },
  {
   "cell_type": "code",
   "execution_count": 30,
   "metadata": {
    "id": "laJT9BYl_Zcu"
   },
   "outputs": [],
   "source": [
    "\n",
    "# Объявление функции genre_weekday() с параметрами table, day, time1, time2,\n",
    "# которая возвращает информацию о самых популярных жанрах в указанный день в\n",
    "# заданное время:\n",
    "# 1) в переменную genre_df сохраняются те строки переданного датафрейма table, для\n",
    "#    которых одновременно:\n",
    "#    - значение в столбце day равно значению аргумента day\n",
    "#    - значение в столбце time больше значения аргумента time1\n",
    "#    - значение в столбце time меньше значения аргумента time2\n",
    "#    Используйте последовательную фильтрацию с помощью логической индексации.\n",
    "# 2) сгруппировать датафрейм genre_df по столбцу genre, взять один из его\n",
    "#    столбцов и посчитать методом count() количество записей для каждого из\n",
    "#    присутствующих жанров, получившийся Series записать в переменную\n",
    "#    genre_df_count\n",
    "# 3) отсортировать genre_df_count по убыванию встречаемости и сохранить\n",
    "#    в переменную genre_df_sorted\n",
    "# 4) вернуть Series из 10 первых значений genre_df_sorted, это будут топ-10\n",
    "#    популярных жанров (в указанный день, в заданное время)\n",
    "def genre_weekday(table, day, time1, time2):\n",
    "    genre_df = table[table['day'] == day]\n",
    "    genre_df = genre_df[genre_df['time'] > time1]\n",
    "    genre_df = genre_df[genre_df['time'] < time2]\n",
    "    genre_df_count = genre_df.groupby('genre')['genre'].count()\n",
    "    genre_df_sorted = genre_df_count.sort_values(ascending=False)\n",
    "    return genre_df_sorted.head(10)"
   ]
  },
  {
   "cell_type": "markdown",
   "metadata": {
    "id": "la2s2_PF_Zcu"
   },
   "source": [
    "Cравните результаты функции `genre_weekday()` для Москвы и Санкт-Петербурга в понедельник утром (с 7:00 до 11:00) и в пятницу вечером (с 17:00 до 23:00):"
   ]
  },
  {
   "cell_type": "code",
   "execution_count": 31,
   "metadata": {
    "id": "yz7itPUQ_Zcu"
   },
   "outputs": [
    {
     "data": {
      "text/plain": [
       "Series([], Name: genre, dtype: int64)"
      ]
     },
     "execution_count": 31,
     "metadata": {},
     "output_type": "execute_result"
    }
   ],
   "source": [
    "# вызов функции для утра понедельника в Москве (вместо df — таблица moscow_general)\n",
    "# объекты, хранящие время, являются строками и сравниваются как строки\n",
    "# пример вызова: genre_weekday(moscow_general, 'Monday', '07:00', '11:00')\n",
    "genre_weekday(moscow_general, 'Monday', '07:00', '11:00')"
   ]
  },
  {
   "cell_type": "code",
   "execution_count": 32,
   "metadata": {
    "id": "kwUcHPdy_Zcu"
   },
   "outputs": [
    {
     "data": {
      "text/plain": [
       "Series([], Name: genre, dtype: int64)"
      ]
     },
     "execution_count": 32,
     "metadata": {},
     "output_type": "execute_result"
    }
   ],
   "source": [
    "genre_weekday(spb_general, 'Monday', '07:00', '11:00') # вызов функции для утра понедельника в Петербурге (вместо df — таблица spb_general)"
   ]
  },
  {
   "cell_type": "code",
   "execution_count": 33,
   "metadata": {
    "id": "EzXVRE1o_Zcu"
   },
   "outputs": [
    {
     "data": {
      "text/plain": [
       "Series([], Name: genre, dtype: int64)"
      ]
     },
     "execution_count": 33,
     "metadata": {},
     "output_type": "execute_result"
    }
   ],
   "source": [
    "genre_weekday(moscow_general, 'Friday', '17:00', '23:00') # вызов функции для вечера пятницы в Москве"
   ]
  },
  {
   "cell_type": "code",
   "execution_count": 34,
   "metadata": {
    "id": "JZaEKu5v_Zcu",
    "scrolled": true
   },
   "outputs": [
    {
     "data": {
      "text/plain": [
       "Series([], Name: genre, dtype: int64)"
      ]
     },
     "execution_count": 34,
     "metadata": {},
     "output_type": "execute_result"
    }
   ],
   "source": [
    "genre_weekday(spb_general, 'Friday', '17:00', '23:00') # вызов функции для вечера пятницы в Петербурге"
   ]
  },
  {
   "cell_type": "markdown",
   "metadata": {
    "id": "wrCe4MNX_Zcu"
   },
   "source": [
    "**Выводы**\n",
    "\n",
    "Если сравнить топ-10 жанров в понедельник утром, можно сделать такие выводы:\n",
    "\n",
    "1. В Москве и Петербурге слушают похожую музыку. Единственное отличие — в московский рейтинг вошёл жанр “world”, а в петербургский — джаз и классика.\n",
    "\n",
    "2. В Москве пропущенных значений оказалось так много, что значение `'unknown'` заняло десятое место среди самых популярных жанров. Значит, пропущенные значения занимают существенную долю в данных и угрожают достоверности исследования.\n",
    "\n",
    "Вечер пятницы не меняет эту картину. Некоторые жанры поднимаются немного выше, другие спускаются, но в целом топ-10 остаётся тем же самым.\n",
    "\n",
    "Таким образом, вторая гипотеза подтвердилась лишь частично:\n",
    "* Пользователи слушают похожую музыку в начале недели и в конце.\n",
    "* Разница между Москвой и Петербургом не слишком выражена. В Москве чаще слушают русскую популярную музыку, в Петербурге — джаз.\n",
    "\n",
    "Однако пропуски в данных ставят под сомнение этот результат. В Москве их так много, что рейтинг топ-10 мог бы выглядеть иначе, если бы не утерянные  данные о жанрах."
   ]
  },
  {
   "cell_type": "markdown",
   "metadata": {
    "id": "JolODAqr_Zcu"
   },
   "source": [
    "### Жанровые предпочтения в Москве и Петербурге\n",
    "\n",
    "Гипотеза: Петербург — столица рэпа, музыку этого жанра там слушают чаще, чем в Москве.  А Москва — город контрастов, в котором, тем не менее, преобладает поп-музыка."
   ]
  },
  {
   "cell_type": "markdown",
   "metadata": {
    "id": "DlegSvaT_Zcu"
   },
   "source": [
    "Сгруппируйте таблицу `moscow_general` по жанру и посчитайте прослушивания треков каждого жанра методом `count()`. Затем отсортируйте результат в порядке убывания и сохраните его в таблице `moscow_genres`."
   ]
  },
  {
   "cell_type": "code",
   "execution_count": 35,
   "metadata": {
    "id": "r19lIPke_Zcu"
   },
   "outputs": [],
   "source": [
    "moscow_genres=moscow_general.groupby('genre')['genre'].count().sort_values(ascending = False)\n",
    "# одной строкой: группировка таблицы moscow_general по столбцу 'genre', \n",
    "# подсчёт числа значений 'genre' в этой группировке методом count(), \n",
    "# сортировка получившегося Series в порядке убывания и сохранение в moscow_genres"
   ]
  },
  {
   "cell_type": "markdown",
   "metadata": {
    "id": "6kMuomxTiIr8"
   },
   "source": [
    "Выведите на экран первые десять строк `moscow_genres`:"
   ]
  },
  {
   "cell_type": "code",
   "execution_count": 36,
   "metadata": {
    "id": "WhCSooF8_Zcv"
   },
   "outputs": [
    {
     "data": {
      "text/plain": [
       "Series([], Name: genre, dtype: int64)"
      ]
     },
     "execution_count": 36,
     "metadata": {},
     "output_type": "execute_result"
    }
   ],
   "source": [
    "moscow_genres.head(10)# просмотр первых 10 строк moscow_genres"
   ]
  },
  {
   "cell_type": "markdown",
   "metadata": {
    "id": "cnPG2vnN_Zcv"
   },
   "source": [
    "Теперь повторите то же и для Петербурга.\n",
    "\n",
    "Сгруппируйте таблицу `spb_general` по жанру. Посчитайте прослушивания треков каждого жанра. Результат отсортируйте в порядке убывания и сохраните в таблице `spb_genres`:\n"
   ]
  },
  {
   "cell_type": "code",
   "execution_count": 37,
   "metadata": {
    "id": "gluLIpE7_Zcv"
   },
   "outputs": [],
   "source": [
    "spb_genres=spb_general.groupby('genre')['genre'].count().sort_values(ascending=False)\n",
    "# одной строкой: группировка таблицы spb_general по столбцу 'genre', \n",
    "# подсчёт числа значений 'genre' в этой группировке методом count(), \n",
    "# сортировка получившегося Series в порядке убывания и сохранение в spb_genres"
   ]
  },
  {
   "cell_type": "markdown",
   "metadata": {
    "id": "5Doha_ODgyQ8"
   },
   "source": [
    "Выведите на экран первые десять строк `spb_genres`:"
   ]
  },
  {
   "cell_type": "code",
   "execution_count": 38,
   "metadata": {
    "id": "uaGJHjVU_Zcv"
   },
   "outputs": [
    {
     "data": {
      "text/plain": [
       "Series([], Name: genre, dtype: int64)"
      ]
     },
     "execution_count": 38,
     "metadata": {},
     "output_type": "execute_result"
    }
   ],
   "source": [
    "spb_genres.head(10)\n",
    "# просмотр первых 10 строк spb_genres"
   ]
  },
  {
   "cell_type": "markdown",
   "metadata": {
    "id": "RY51YJYu_Zcv"
   },
   "source": [
    "**Выводы**"
   ]
  },
  {
   "cell_type": "markdown",
   "metadata": {
    "id": "nVhnJEm__Zcv"
   },
   "source": [
    "Гипотеза частично подтвердилась:\n",
    "* Поп-музыка — самый популярный жанр в Москве, как и предполагала гипотеза. Более того, в топ-10 жанров встречается близкий жанр — русская популярная музыка.\n",
    "* Вопреки ожиданиям, рэп одинаково популярен в Москве и Петербурге. \n"
   ]
  },
  {
   "cell_type": "markdown",
   "metadata": {
    "id": "ykKQ0N65_Zcv"
   },
   "source": [
    "## Итоги исследования"
   ]
  },
  {
   "cell_type": "markdown",
   "metadata": {
    "id": "tjUwbHb3_Zcv"
   },
   "source": [
    "Вы проверили три гипотезы и установили:\n",
    "\n",
    "1. День недели по-разному влияет на активность пользователей в Москве и Петербурге. \n",
    "\n",
    "Первая гипотеза полностью подтвердилась.\n",
    "\n",
    "2. Музыкальные предпочтения не сильно меняются в течение недели — будь то Москва или Петербург. Небольшие различия заметны в начале недели, по понедельникам:\n",
    "* в Москве слушают музыку жанра “world”,\n",
    "* в Петербурге — джаз и классику.\n",
    "\n",
    "Таким образом, вторая гипотеза подтвердилась лишь отчасти. Этот результат мог оказаться иным, если бы не пропуски в данных.\n",
    "\n",
    "3. Во вкусах пользователей Москвы и Петербурга больше общего чем различий. Вопреки ожиданиям, предпочтения жанров в Петербурге напоминают московские.\n",
    "\n",
    "Третья гипотеза не подтвердилась. Если различия в предпочтениях и существуют, на основной массе пользователей они незаметны.\n",
    "\n",
    "**На практике исследования содержат проверки статистических гипотез.**\n",
    "Из данных одного сервиса не всегда можно сделать вывод о всех жителях города.\n",
    "Проверки статистических гипотез покажут, насколько они достоверны, исходя из имеющихся данных. \n",
    "С методами проверок гипотез вы ещё познакомитесь в следующих темах."
   ]
  },
  {
   "cell_type": "code",
   "execution_count": null,
   "metadata": {},
   "outputs": [],
   "source": []
  }
 ],
 "metadata": {
  "ExecuteTimeLog": [
   {
    "duration": 96,
    "start_time": "2022-04-03T18:52:28.401Z"
   },
   {
    "duration": 78,
    "start_time": "2022-04-03T18:52:35.511Z"
   },
   {
    "duration": 84,
    "start_time": "2022-04-03T18:52:45.200Z"
   },
   {
    "duration": 139,
    "start_time": "2022-04-03T18:53:01.630Z"
   },
   {
    "duration": 42,
    "start_time": "2022-04-03T18:53:13.529Z"
   },
   {
    "duration": 6,
    "start_time": "2022-04-03T18:53:28.851Z"
   },
   {
    "duration": 431,
    "start_time": "2022-04-03T18:53:32.830Z"
   },
   {
    "duration": 28,
    "start_time": "2022-04-03T18:53:39.182Z"
   },
   {
    "duration": 6,
    "start_time": "2022-04-03T18:54:12.333Z"
   },
   {
    "duration": 7,
    "start_time": "2022-04-03T18:55:33.865Z"
   },
   {
    "duration": 151,
    "start_time": "2022-04-03T18:56:25.234Z"
   },
   {
    "duration": 9,
    "start_time": "2022-04-03T18:56:30.786Z"
   },
   {
    "duration": 31,
    "start_time": "2022-04-03T18:56:39.915Z"
   },
   {
    "duration": 4,
    "start_time": "2022-04-03T18:56:47.420Z"
   },
   {
    "duration": 14,
    "start_time": "2022-04-03T18:56:54.156Z"
   },
   {
    "duration": 4,
    "start_time": "2022-04-03T18:57:02.427Z"
   },
   {
    "duration": 25,
    "start_time": "2022-04-03T18:57:07.375Z"
   },
   {
    "duration": 222,
    "start_time": "2022-04-03T19:01:44.935Z"
   },
   {
    "duration": 25,
    "start_time": "2022-04-03T19:02:02.643Z"
   },
   {
    "duration": 209,
    "start_time": "2022-04-03T19:02:08.063Z"
   },
   {
    "duration": 208,
    "start_time": "2022-04-03T19:02:11.494Z"
   },
   {
    "duration": 7,
    "start_time": "2022-04-03T19:02:59.646Z"
   },
   {
    "duration": 3,
    "start_time": "2022-04-03T19:03:09.234Z"
   },
   {
    "duration": 3,
    "start_time": "2022-04-03T19:03:14.584Z"
   },
   {
    "duration": 27,
    "start_time": "2022-04-03T19:03:18.619Z"
   },
   {
    "duration": 1386,
    "start_time": "2022-04-03T19:06:11.286Z"
   },
   {
    "duration": 21,
    "start_time": "2022-04-03T19:06:27.275Z"
   },
   {
    "duration": 24,
    "start_time": "2022-04-03T19:06:32.983Z"
   },
   {
    "duration": 65,
    "start_time": "2022-04-03T19:08:25.229Z"
   },
   {
    "duration": 62,
    "start_time": "2022-04-03T19:08:30.391Z"
   },
   {
    "duration": 77,
    "start_time": "2022-04-03T19:08:34.230Z"
   },
   {
    "duration": 60,
    "start_time": "2022-04-03T19:08:38.510Z"
   },
   {
    "duration": 8,
    "start_time": "2022-04-03T19:09:53.581Z"
   },
   {
    "duration": 7,
    "start_time": "2022-04-03T19:10:07.949Z"
   },
   {
    "duration": 6,
    "start_time": "2022-04-03T19:10:41.067Z"
   },
   {
    "duration": 6,
    "start_time": "2022-04-03T19:10:44.440Z"
   },
   {
    "duration": 7,
    "start_time": "2022-04-03T19:11:24.060Z"
   },
   {
    "duration": 10,
    "start_time": "2022-04-03T19:14:35.100Z"
   },
   {
    "duration": 4,
    "start_time": "2022-04-03T19:14:41.879Z"
   },
   {
    "duration": 10,
    "start_time": "2022-04-03T19:14:47.002Z"
   },
   {
    "duration": 8,
    "start_time": "2022-04-03T19:15:16.639Z"
   },
   {
    "duration": 11,
    "start_time": "2022-04-03T19:21:01.846Z"
   },
   {
    "duration": 12,
    "start_time": "2022-04-03T19:22:02.518Z"
   },
   {
    "duration": 10,
    "start_time": "2022-04-03T19:22:18.118Z"
   },
   {
    "duration": 11,
    "start_time": "2022-04-03T19:23:20.780Z"
   },
   {
    "duration": 10,
    "start_time": "2022-04-03T19:23:29.583Z"
   },
   {
    "duration": 90,
    "start_time": "2022-04-03T19:25:13.373Z"
   },
   {
    "duration": 88,
    "start_time": "2022-04-03T19:25:17.247Z"
   },
   {
    "duration": 87,
    "start_time": "2022-04-03T19:25:47.355Z"
   },
   {
    "duration": 22,
    "start_time": "2022-04-03T19:27:18.633Z"
   },
   {
    "duration": 12,
    "start_time": "2022-04-03T19:30:23.998Z"
   },
   {
    "duration": 11,
    "start_time": "2022-04-03T19:49:03.661Z"
   },
   {
    "duration": 11,
    "start_time": "2022-04-03T19:49:27.829Z"
   },
   {
    "duration": 10,
    "start_time": "2022-04-03T19:50:13.451Z"
   },
   {
    "duration": 14,
    "start_time": "2022-04-03T20:03:05.334Z"
   },
   {
    "duration": 10,
    "start_time": "2022-04-03T20:03:37.222Z"
   },
   {
    "duration": 15,
    "start_time": "2022-04-03T20:08:23.322Z"
   },
   {
    "duration": 12,
    "start_time": "2022-04-03T20:11:46.402Z"
   },
   {
    "duration": 15,
    "start_time": "2022-04-03T20:12:30.886Z"
   },
   {
    "duration": 12,
    "start_time": "2022-04-03T20:14:03.771Z"
   },
   {
    "duration": 3,
    "start_time": "2022-04-03T20:18:34.319Z"
   },
   {
    "duration": 8,
    "start_time": "2022-04-03T20:25:26.700Z"
   },
   {
    "duration": 8,
    "start_time": "2022-04-03T20:25:31.619Z"
   },
   {
    "duration": 7,
    "start_time": "2022-04-03T20:25:32.866Z"
   },
   {
    "duration": 7,
    "start_time": "2022-04-03T20:25:33.736Z"
   },
   {
    "duration": 7,
    "start_time": "2022-04-03T20:25:35.919Z"
   },
   {
    "duration": 7,
    "start_time": "2022-04-03T20:25:36.587Z"
   },
   {
    "duration": 16,
    "start_time": "2022-04-03T20:26:09.838Z"
   },
   {
    "duration": 15,
    "start_time": "2022-04-03T20:26:13.964Z"
   },
   {
    "duration": 12,
    "start_time": "2022-04-03T20:26:37.354Z"
   },
   {
    "duration": 14,
    "start_time": "2022-04-03T20:26:38.013Z"
   },
   {
    "duration": 13,
    "start_time": "2022-04-03T20:26:39.081Z"
   },
   {
    "duration": 16,
    "start_time": "2022-04-03T20:26:40.112Z"
   },
   {
    "duration": 15,
    "start_time": "2022-04-03T20:26:45.025Z"
   },
   {
    "duration": 16,
    "start_time": "2022-04-03T20:26:49.422Z"
   },
   {
    "duration": 17,
    "start_time": "2022-04-03T20:27:00.891Z"
   },
   {
    "duration": 18,
    "start_time": "2022-04-03T20:27:11.098Z"
   },
   {
    "duration": 18,
    "start_time": "2022-04-03T20:27:23.984Z"
   },
   {
    "duration": 4,
    "start_time": "2022-04-03T20:27:30.684Z"
   },
   {
    "duration": 14,
    "start_time": "2022-04-03T20:30:05.974Z"
   },
   {
    "duration": 3,
    "start_time": "2022-04-03T20:32:39.356Z"
   },
   {
    "duration": 16,
    "start_time": "2022-04-03T20:32:43.839Z"
   },
   {
    "duration": 3,
    "start_time": "2022-04-03T21:26:10.937Z"
   },
   {
    "duration": 9,
    "start_time": "2022-04-03T21:26:22.414Z"
   },
   {
    "duration": 9,
    "start_time": "2022-04-03T21:27:08.708Z"
   },
   {
    "duration": 4,
    "start_time": "2022-04-03T21:28:08.126Z"
   },
   {
    "duration": 10,
    "start_time": "2022-04-03T21:28:11.668Z"
   },
   {
    "duration": 4,
    "start_time": "2022-04-03T21:29:29.659Z"
   },
   {
    "duration": 13,
    "start_time": "2022-04-03T21:29:33.416Z"
   },
   {
    "duration": 4,
    "start_time": "2022-04-03T21:32:42.503Z"
   },
   {
    "duration": 29,
    "start_time": "2022-04-03T21:32:47.841Z"
   },
   {
    "duration": 22,
    "start_time": "2022-04-03T21:32:53.492Z"
   },
   {
    "duration": 24,
    "start_time": "2022-04-03T21:32:56.871Z"
   },
   {
    "duration": 22,
    "start_time": "2022-04-03T21:32:59.818Z"
   },
   {
    "duration": 26,
    "start_time": "2022-04-03T21:33:00.529Z"
   },
   {
    "duration": 24,
    "start_time": "2022-04-03T21:33:01.148Z"
   },
   {
    "duration": 4,
    "start_time": "2022-04-03T21:35:07.961Z"
   },
   {
    "duration": 9,
    "start_time": "2022-04-03T21:35:11.059Z"
   },
   {
    "duration": 4,
    "start_time": "2022-04-03T21:35:31.946Z"
   },
   {
    "duration": 27,
    "start_time": "2022-04-03T21:35:33.827Z"
   },
   {
    "duration": 4,
    "start_time": "2022-04-03T21:39:59.774Z"
   },
   {
    "duration": 4,
    "start_time": "2022-04-03T21:48:18.625Z"
   },
   {
    "duration": 9,
    "start_time": "2022-04-03T21:48:21.319Z"
   },
   {
    "duration": 3,
    "start_time": "2022-04-03T21:51:06.261Z"
   },
   {
    "duration": 25,
    "start_time": "2022-04-03T21:51:09.229Z"
   },
   {
    "duration": 12,
    "start_time": "2022-04-04T04:19:28.907Z"
   },
   {
    "duration": 528,
    "start_time": "2022-04-04T04:19:41.168Z"
   },
   {
    "duration": 219,
    "start_time": "2022-04-04T04:19:43.886Z"
   },
   {
    "duration": 11,
    "start_time": "2022-04-04T04:19:45.630Z"
   },
   {
    "duration": 41,
    "start_time": "2022-04-04T04:19:47.436Z"
   },
   {
    "duration": 4,
    "start_time": "2022-04-04T04:20:05.397Z"
   },
   {
    "duration": 17,
    "start_time": "2022-04-04T04:20:10.565Z"
   },
   {
    "duration": 4,
    "start_time": "2022-04-04T04:20:12.696Z"
   },
   {
    "duration": 34,
    "start_time": "2022-04-04T04:20:16.357Z"
   },
   {
    "duration": 29,
    "start_time": "2022-04-04T04:20:24.106Z"
   },
   {
    "duration": 34,
    "start_time": "2022-04-04T04:20:26.456Z"
   },
   {
    "duration": 102,
    "start_time": "2022-04-04T04:20:29.016Z"
   },
   {
    "duration": 124,
    "start_time": "2022-04-04T04:20:30.145Z"
   },
   {
    "duration": 96,
    "start_time": "2022-04-04T04:20:31.316Z"
   },
   {
    "duration": 10,
    "start_time": "2022-04-04T04:20:33.729Z"
   },
   {
    "duration": 5,
    "start_time": "2022-04-04T04:20:43.926Z"
   },
   {
    "duration": 15,
    "start_time": "2022-04-04T04:20:47.627Z"
   },
   {
    "duration": 10,
    "start_time": "2022-04-04T04:20:50.388Z"
   },
   {
    "duration": 16,
    "start_time": "2022-04-04T04:20:55.457Z"
   },
   {
    "duration": 14,
    "start_time": "2022-04-04T04:21:00.932Z"
   },
   {
    "duration": 5,
    "start_time": "2022-04-04T04:21:13.335Z"
   },
   {
    "duration": 5,
    "start_time": "2022-04-04T04:23:02.106Z"
   },
   {
    "duration": 31,
    "start_time": "2022-04-04T04:23:07.783Z"
   },
   {
    "duration": 22,
    "start_time": "2022-04-04T04:23:10.114Z"
   },
   {
    "duration": 20,
    "start_time": "2022-04-04T04:23:10.924Z"
   },
   {
    "duration": 19,
    "start_time": "2022-04-04T04:23:13.605Z"
   },
   {
    "duration": 22,
    "start_time": "2022-04-04T04:23:14.274Z"
   },
   {
    "duration": 21,
    "start_time": "2022-04-04T04:23:14.892Z"
   },
   {
    "duration": 136,
    "start_time": "2022-04-04T04:25:11.758Z"
   },
   {
    "duration": 130,
    "start_time": "2022-04-04T04:25:25.330Z"
   },
   {
    "duration": 132,
    "start_time": "2022-04-04T04:27:33.078Z"
   },
   {
    "duration": 137,
    "start_time": "2022-04-04T04:27:57.178Z"
   },
   {
    "duration": 130,
    "start_time": "2022-04-04T04:28:19.670Z"
   },
   {
    "duration": 130,
    "start_time": "2022-04-04T04:28:35.958Z"
   },
   {
    "duration": 219,
    "start_time": "2022-04-04T04:28:50.289Z"
   },
   {
    "duration": 134,
    "start_time": "2022-04-04T04:29:09.570Z"
   },
   {
    "duration": 139,
    "start_time": "2022-04-04T04:30:23.074Z"
   },
   {
    "duration": 129,
    "start_time": "2022-04-04T04:30:40.523Z"
   },
   {
    "duration": 10,
    "start_time": "2022-04-04T04:30:53.742Z"
   },
   {
    "duration": 139,
    "start_time": "2022-04-04T04:31:05.277Z"
   },
   {
    "duration": 9,
    "start_time": "2022-04-04T04:31:16.576Z"
   },
   {
    "duration": 10,
    "start_time": "2022-04-04T04:31:32.407Z"
   },
   {
    "duration": 9,
    "start_time": "2022-04-04T04:31:33.268Z"
   },
   {
    "duration": 7,
    "start_time": "2022-04-04T04:31:41.714Z"
   },
   {
    "duration": 2176,
    "start_time": "2022-04-04T04:37:05.833Z"
   },
   {
    "duration": 0,
    "start_time": "2022-04-04T04:37:08.012Z"
   },
   {
    "duration": 2020,
    "start_time": "2022-04-04T04:37:08.546Z"
   },
   {
    "duration": 7,
    "start_time": "2022-04-04T04:46:24.479Z"
   },
   {
    "duration": 7,
    "start_time": "2022-04-04T04:46:49.828Z"
   },
   {
    "duration": 2050,
    "start_time": "2022-04-04T04:46:53.515Z"
   },
   {
    "duration": 6,
    "start_time": "2022-04-04T04:47:05.799Z"
   },
   {
    "duration": 5,
    "start_time": "2022-04-04T04:52:14.502Z"
   },
   {
    "duration": 2049,
    "start_time": "2022-04-04T04:52:18.689Z"
   },
   {
    "duration": 5,
    "start_time": "2022-04-04T04:57:21.141Z"
   },
   {
    "duration": 2302,
    "start_time": "2022-04-04T04:57:26.322Z"
   },
   {
    "duration": 6,
    "start_time": "2022-04-04T05:04:32.132Z"
   },
   {
    "duration": 2005,
    "start_time": "2022-04-04T05:04:37.407Z"
   },
   {
    "duration": 6,
    "start_time": "2022-04-04T05:51:42.321Z"
   },
   {
    "duration": 10,
    "start_time": "2022-04-04T05:51:48.806Z"
   },
   {
    "duration": 10,
    "start_time": "2022-04-04T05:51:58.666Z"
   },
   {
    "duration": 11,
    "start_time": "2022-04-04T05:52:00.016Z"
   },
   {
    "duration": 4,
    "start_time": "2022-04-04T05:56:44.614Z"
   },
   {
    "duration": 217,
    "start_time": "2022-04-04T05:56:46.155Z"
   },
   {
    "duration": 12,
    "start_time": "2022-04-04T05:56:47.162Z"
   },
   {
    "duration": 40,
    "start_time": "2022-04-04T05:56:48.667Z"
   },
   {
    "duration": 6,
    "start_time": "2022-04-04T05:56:50.745Z"
   },
   {
    "duration": 11,
    "start_time": "2022-04-04T05:56:52.221Z"
   },
   {
    "duration": 5,
    "start_time": "2022-04-04T05:56:53.106Z"
   },
   {
    "duration": 33,
    "start_time": "2022-04-04T05:56:54.395Z"
   },
   {
    "duration": 26,
    "start_time": "2022-04-04T05:56:56.576Z"
   },
   {
    "duration": 33,
    "start_time": "2022-04-04T05:56:57.976Z"
   },
   {
    "duration": 98,
    "start_time": "2022-04-04T05:56:59.395Z"
   },
   {
    "duration": 109,
    "start_time": "2022-04-04T05:57:00.756Z"
   },
   {
    "duration": 96,
    "start_time": "2022-04-04T05:57:02.037Z"
   },
   {
    "duration": 10,
    "start_time": "2022-04-04T05:57:03.917Z"
   },
   {
    "duration": 5,
    "start_time": "2022-04-04T05:57:05.409Z"
   },
   {
    "duration": 15,
    "start_time": "2022-04-04T05:57:06.580Z"
   },
   {
    "duration": 11,
    "start_time": "2022-04-04T05:57:07.655Z"
   },
   {
    "duration": 15,
    "start_time": "2022-04-04T05:57:10.883Z"
   },
   {
    "duration": 16,
    "start_time": "2022-04-04T05:57:12.125Z"
   },
   {
    "duration": 6,
    "start_time": "2022-04-04T05:57:13.860Z"
   },
   {
    "duration": 23,
    "start_time": "2022-04-04T05:57:15.663Z"
   },
   {
    "duration": 22,
    "start_time": "2022-04-04T05:57:16.502Z"
   },
   {
    "duration": 21,
    "start_time": "2022-04-04T05:57:16.987Z"
   },
   {
    "duration": 21,
    "start_time": "2022-04-04T05:57:17.476Z"
   },
   {
    "duration": 24,
    "start_time": "2022-04-04T05:57:17.783Z"
   },
   {
    "duration": 21,
    "start_time": "2022-04-04T05:57:18.215Z"
   },
   {
    "duration": 10,
    "start_time": "2022-04-04T05:57:20.678Z"
   },
   {
    "duration": 10,
    "start_time": "2022-04-04T05:57:23.738Z"
   },
   {
    "duration": 10,
    "start_time": "2022-04-04T05:57:24.369Z"
   },
   {
    "duration": 6,
    "start_time": "2022-04-04T05:57:25.807Z"
   },
   {
    "duration": 10,
    "start_time": "2022-04-04T05:57:28.456Z"
   },
   {
    "duration": 11,
    "start_time": "2022-04-04T05:57:34.175Z"
   },
   {
    "duration": 11,
    "start_time": "2022-04-04T05:57:35.034Z"
   },
   {
    "duration": 244,
    "start_time": "2022-04-04T06:15:11.465Z"
   },
   {
    "duration": 6,
    "start_time": "2022-04-04T06:26:26.806Z"
   },
   {
    "duration": 11,
    "start_time": "2022-04-04T06:26:31.420Z"
   },
   {
    "duration": 6,
    "start_time": "2022-04-04T06:26:37.353Z"
   },
   {
    "duration": 11,
    "start_time": "2022-04-04T06:26:39.545Z"
   },
   {
    "duration": 6,
    "start_time": "2022-04-04T06:27:13.314Z"
   },
   {
    "duration": 10,
    "start_time": "2022-04-04T06:27:17.735Z"
   },
   {
    "duration": 7,
    "start_time": "2022-04-04T06:27:57.517Z"
   },
   {
    "duration": 9,
    "start_time": "2022-04-04T06:28:02.897Z"
   },
   {
    "duration": 9,
    "start_time": "2022-04-04T06:28:08.390Z"
   },
   {
    "duration": 365,
    "start_time": "2022-04-14T21:24:20.748Z"
   },
   {
    "duration": 141,
    "start_time": "2022-04-14T21:24:21.115Z"
   },
   {
    "duration": 8,
    "start_time": "2022-04-14T21:24:21.258Z"
   },
   {
    "duration": 38,
    "start_time": "2022-04-14T21:24:21.268Z"
   },
   {
    "duration": 4,
    "start_time": "2022-04-14T21:24:21.308Z"
   },
   {
    "duration": 21,
    "start_time": "2022-04-14T21:24:21.313Z"
   },
   {
    "duration": 26,
    "start_time": "2022-04-14T21:24:21.336Z"
   },
   {
    "duration": 30,
    "start_time": "2022-04-14T21:24:21.364Z"
   },
   {
    "duration": 23,
    "start_time": "2022-04-14T21:24:21.396Z"
   },
   {
    "duration": 23,
    "start_time": "2022-04-14T21:24:21.422Z"
   },
   {
    "duration": 69,
    "start_time": "2022-04-14T21:24:21.447Z"
   },
   {
    "duration": 82,
    "start_time": "2022-04-14T21:24:21.518Z"
   },
   {
    "duration": 53,
    "start_time": "2022-04-14T21:24:21.602Z"
   },
   {
    "duration": 8,
    "start_time": "2022-04-14T21:24:21.657Z"
   },
   {
    "duration": 5,
    "start_time": "2022-04-14T21:24:21.666Z"
   },
   {
    "duration": 34,
    "start_time": "2022-04-14T21:24:21.672Z"
   },
   {
    "duration": 12,
    "start_time": "2022-04-14T21:24:21.707Z"
   },
   {
    "duration": 10,
    "start_time": "2022-04-14T21:24:21.721Z"
   },
   {
    "duration": 21,
    "start_time": "2022-04-14T21:24:21.732Z"
   },
   {
    "duration": 13,
    "start_time": "2022-04-14T21:24:21.755Z"
   },
   {
    "duration": 37,
    "start_time": "2022-04-14T21:24:21.770Z"
   },
   {
    "duration": 15,
    "start_time": "2022-04-14T21:24:21.809Z"
   },
   {
    "duration": 21,
    "start_time": "2022-04-14T21:24:21.826Z"
   },
   {
    "duration": 12,
    "start_time": "2022-04-14T21:24:21.849Z"
   },
   {
    "duration": 39,
    "start_time": "2022-04-14T21:24:21.863Z"
   },
   {
    "duration": 15,
    "start_time": "2022-04-14T21:24:21.904Z"
   },
   {
    "duration": 24,
    "start_time": "2022-04-14T21:24:21.921Z"
   },
   {
    "duration": 21,
    "start_time": "2022-04-14T21:24:21.948Z"
   },
   {
    "duration": 28,
    "start_time": "2022-04-14T21:24:21.970Z"
   },
   {
    "duration": 9,
    "start_time": "2022-04-14T21:24:21.999Z"
   },
   {
    "duration": 35,
    "start_time": "2022-04-14T21:24:22.010Z"
   },
   {
    "duration": 35,
    "start_time": "2022-04-14T21:24:22.047Z"
   },
   {
    "duration": 8,
    "start_time": "2022-04-14T21:24:22.084Z"
   },
   {
    "duration": 21,
    "start_time": "2022-04-14T21:24:22.093Z"
   },
   {
    "duration": 13,
    "start_time": "2022-04-14T21:24:22.116Z"
   },
   {
    "duration": 15,
    "start_time": "2022-04-14T21:24:22.131Z"
   },
   {
    "duration": 10,
    "start_time": "2022-04-14T21:24:22.147Z"
   },
   {
    "duration": 10,
    "start_time": "2022-04-14T21:24:22.158Z"
   },
   {
    "duration": 11,
    "start_time": "2022-04-14T21:36:49.691Z"
   },
   {
    "duration": 15,
    "start_time": "2022-04-14T21:37:03.059Z"
   },
   {
    "duration": 6,
    "start_time": "2022-04-14T21:37:19.208Z"
   }
  ],
  "colab": {
   "collapsed_sections": [
    "E0vqbgi9ay0H",
    "VUC88oWjTJw2"
   ],
   "name": "yandex_music_project.ipynb",
   "provenance": []
  },
  "kernelspec": {
   "display_name": "Python 3 (ipykernel)",
   "language": "python",
   "name": "python3"
  },
  "language_info": {
   "codemirror_mode": {
    "name": "ipython",
    "version": 3
   },
   "file_extension": ".py",
   "mimetype": "text/x-python",
   "name": "python",
   "nbconvert_exporter": "python",
   "pygments_lexer": "ipython3",
   "version": "3.9.12"
  },
  "toc": {
   "base_numbering": 1,
   "nav_menu": {},
   "number_sections": true,
   "sideBar": true,
   "skip_h1_title": true,
   "title_cell": "Table of Contents",
   "title_sidebar": "Contents",
   "toc_cell": false,
   "toc_position": {},
   "toc_section_display": true,
   "toc_window_display": true
  }
 },
 "nbformat": 4,
 "nbformat_minor": 1
}
