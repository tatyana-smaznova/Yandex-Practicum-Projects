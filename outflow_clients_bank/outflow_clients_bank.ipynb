{
 "cells": [
  {
   "cell_type": "markdown",
   "metadata": {
    "toc": true
   },
   "source": [
    "<h1>Содержание<span class=\"tocSkip\"></span></h1>\n",
    "<div class=\"toc\"><ul class=\"toc-item\"><li><span><a href=\"#Подготовка-данных\" data-toc-modified-id=\"Подготовка-данных-1\"><span class=\"toc-item-num\">1&nbsp;&nbsp;</span>Подготовка данных</a></span></li><li><span><a href=\"#Исследование-задачи\" data-toc-modified-id=\"Исследование-задачи-2\"><span class=\"toc-item-num\">2&nbsp;&nbsp;</span>Исследование задачи</a></span></li><li><span><a href=\"#Борьба-с-дисбалансом\" data-toc-modified-id=\"Борьба-с-дисбалансом-3\"><span class=\"toc-item-num\">3&nbsp;&nbsp;</span>Борьба с дисбалансом</a></span></li><li><span><a href=\"#Тестирование-модели\" data-toc-modified-id=\"Тестирование-модели-4\"><span class=\"toc-item-num\">4&nbsp;&nbsp;</span>Тестирование модели</a></span></li><li><span><a href=\"#Чек-лист-готовности-проекта\" data-toc-modified-id=\"Чек-лист-готовности-проекта-5\"><span class=\"toc-item-num\">5&nbsp;&nbsp;</span>Чек-лист готовности проекта</a></span></li><li><span><a href=\"#Вывод\" data-toc-modified-id=\"Вывод-6\"><span class=\"toc-item-num\">6&nbsp;&nbsp;</span>Вывод</a></span></li></ul></div>"
   ]
  },
  {
   "cell_type": "markdown",
   "metadata": {},
   "source": [
    "# Отток клиентов"
   ]
  },
  {
   "cell_type": "markdown",
   "metadata": {},
   "source": [
    "Из «Бета-Банка» стали уходить клиенты. Каждый месяц. Немного, но заметно. Банковские маркетологи посчитали: сохранять текущих клиентов дешевле, чем привлекать новых.\n",
    "\n",
    "Нужно спрогнозировать, уйдёт клиент из банка в ближайшее время или нет. Вам предоставлены исторические данные о поведении клиентов и расторжении договоров с банком. \n",
    "\n",
    "Постройте модель с предельно большим значением *F1*-меры. Чтобы сдать проект успешно, нужно довести метрику до 0.59. Проверьте *F1*-меру на тестовой выборке самостоятельно.\n",
    "\n",
    "Дополнительно измеряйте *AUC-ROC*, сравнивайте её значение с *F1*-мерой.\n",
    "\n",
    "Источник данных: [https://www.kaggle.com/barelydedicated/bank-customer-churn-modeling](https://www.kaggle.com/barelydedicated/bank-customer-churn-modeling)"
   ]
  },
  {
   "cell_type": "markdown",
   "metadata": {},
   "source": [
    "## Подготовка данных"
   ]
  },
  {
   "cell_type": "markdown",
   "metadata": {},
   "source": [
    "Для начала нам необходимо импортировать библиотеки и функции, которые могут понадобиться в процессе работы."
   ]
  },
  {
   "cell_type": "code",
   "execution_count": 1,
   "metadata": {},
   "outputs": [],
   "source": [
    "import pandas as pd\n",
    "import matplotlib.pyplot as plt\n",
    "from sklearn.ensemble import RandomForestClassifier\n",
    "from sklearn.tree import DecisionTreeClassifier\n",
    "from sklearn.linear_model import LogisticRegression\n",
    "from sklearn.model_selection import train_test_split\n",
    "from sklearn.metrics import accuracy_score\n",
    "from sklearn.metrics import mean_absolute_error\n",
    "from sklearn.metrics import confusion_matrix\n",
    "from sklearn.metrics import recall_score\n",
    "from sklearn.metrics import precision_score\n",
    "from sklearn.metrics import f1_score\n",
    "from sklearn.utils import shuffle\n",
    "from sklearn.metrics import precision_recall_curve\n",
    "from sklearn.metrics import roc_auc_score\n",
    "from sklearn.metrics import mean_squared_error\n",
    "from sklearn.metrics import r2_score\n",
    "from sklearn.metrics import roc_curve \n",
    "from sklearn.preprocessing import StandardScaler "
   ]
  },
  {
   "cell_type": "markdown",
   "metadata": {},
   "source": [
    "Теперь прочтём файл с данными и сохраним его в переменной df."
   ]
  },
  {
   "cell_type": "code",
   "execution_count": 2,
   "metadata": {},
   "outputs": [],
   "source": [
    "df = pd.read_csv('/datasets/Churn.csv')"
   ]
  },
  {
   "cell_type": "markdown",
   "metadata": {},
   "source": [
    "Теперь просмотрим общую информацию о данных."
   ]
  },
  {
   "cell_type": "code",
   "execution_count": 3,
   "metadata": {},
   "outputs": [
    {
     "name": "stdout",
     "output_type": "stream",
     "text": [
      "<class 'pandas.core.frame.DataFrame'>\n",
      "RangeIndex: 10000 entries, 0 to 9999\n",
      "Data columns (total 14 columns):\n",
      " #   Column           Non-Null Count  Dtype  \n",
      "---  ------           --------------  -----  \n",
      " 0   RowNumber        10000 non-null  int64  \n",
      " 1   CustomerId       10000 non-null  int64  \n",
      " 2   Surname          10000 non-null  object \n",
      " 3   CreditScore      10000 non-null  int64  \n",
      " 4   Geography        10000 non-null  object \n",
      " 5   Gender           10000 non-null  object \n",
      " 6   Age              10000 non-null  int64  \n",
      " 7   Tenure           9091 non-null   float64\n",
      " 8   Balance          10000 non-null  float64\n",
      " 9   NumOfProducts    10000 non-null  int64  \n",
      " 10  HasCrCard        10000 non-null  int64  \n",
      " 11  IsActiveMember   10000 non-null  int64  \n",
      " 12  EstimatedSalary  10000 non-null  float64\n",
      " 13  Exited           10000 non-null  int64  \n",
      "dtypes: float64(3), int64(8), object(3)\n",
      "memory usage: 1.1+ MB\n"
     ]
    }
   ],
   "source": [
    "df.info()"
   ]
  },
  {
   "cell_type": "markdown",
   "metadata": {},
   "source": [
    "Исходя из документации к данным мы знаем, что:\n",
    "**RowNumber** — индекс строки в данных\n",
    "**CustomerId** — уникальный идентификатор клиента\n",
    "**Surname** — фамилия\n",
    "**CreditScore** — кредитный рейтинг\n",
    "**Geography** — страна проживания\n",
    "**Gender** — пол\n",
    "**Age** — возраст\n",
    "**Tenure** — сколько лет человек является клиентом банка\n",
    "**Balance** — баланс на счёте\n",
    "**NumOfProducts** — количество продуктов банка, используемых клиентом\n",
    "**HasCrCard** — наличие кредитной карты\n",
    "**IsActiveMember** — активность клиента\n",
    "**EstimatedSalary** — предполагаемая зарплата\n",
    "\n",
    "Целевой признак исследования:\n",
    "**Exited** — факт ухода клиента\n",
    "\n",
    "Также мы видим, что в столбце Tenure есть пропущенные значения."
   ]
  },
  {
   "cell_type": "markdown",
   "metadata": {},
   "source": [
    "Выведем таблицу на экран."
   ]
  },
  {
   "cell_type": "code",
   "execution_count": 4,
   "metadata": {},
   "outputs": [
    {
     "data": {
      "text/html": [
       "<div>\n",
       "<style scoped>\n",
       "    .dataframe tbody tr th:only-of-type {\n",
       "        vertical-align: middle;\n",
       "    }\n",
       "\n",
       "    .dataframe tbody tr th {\n",
       "        vertical-align: top;\n",
       "    }\n",
       "\n",
       "    .dataframe thead th {\n",
       "        text-align: right;\n",
       "    }\n",
       "</style>\n",
       "<table border=\"1\" class=\"dataframe\">\n",
       "  <thead>\n",
       "    <tr style=\"text-align: right;\">\n",
       "      <th></th>\n",
       "      <th>RowNumber</th>\n",
       "      <th>CustomerId</th>\n",
       "      <th>Surname</th>\n",
       "      <th>CreditScore</th>\n",
       "      <th>Geography</th>\n",
       "      <th>Gender</th>\n",
       "      <th>Age</th>\n",
       "      <th>Tenure</th>\n",
       "      <th>Balance</th>\n",
       "      <th>NumOfProducts</th>\n",
       "      <th>HasCrCard</th>\n",
       "      <th>IsActiveMember</th>\n",
       "      <th>EstimatedSalary</th>\n",
       "      <th>Exited</th>\n",
       "    </tr>\n",
       "  </thead>\n",
       "  <tbody>\n",
       "    <tr>\n",
       "      <th>0</th>\n",
       "      <td>1</td>\n",
       "      <td>15634602</td>\n",
       "      <td>Hargrave</td>\n",
       "      <td>619</td>\n",
       "      <td>France</td>\n",
       "      <td>Female</td>\n",
       "      <td>42</td>\n",
       "      <td>2.0</td>\n",
       "      <td>0.00</td>\n",
       "      <td>1</td>\n",
       "      <td>1</td>\n",
       "      <td>1</td>\n",
       "      <td>101348.88</td>\n",
       "      <td>1</td>\n",
       "    </tr>\n",
       "    <tr>\n",
       "      <th>1</th>\n",
       "      <td>2</td>\n",
       "      <td>15647311</td>\n",
       "      <td>Hill</td>\n",
       "      <td>608</td>\n",
       "      <td>Spain</td>\n",
       "      <td>Female</td>\n",
       "      <td>41</td>\n",
       "      <td>1.0</td>\n",
       "      <td>83807.86</td>\n",
       "      <td>1</td>\n",
       "      <td>0</td>\n",
       "      <td>1</td>\n",
       "      <td>112542.58</td>\n",
       "      <td>0</td>\n",
       "    </tr>\n",
       "    <tr>\n",
       "      <th>2</th>\n",
       "      <td>3</td>\n",
       "      <td>15619304</td>\n",
       "      <td>Onio</td>\n",
       "      <td>502</td>\n",
       "      <td>France</td>\n",
       "      <td>Female</td>\n",
       "      <td>42</td>\n",
       "      <td>8.0</td>\n",
       "      <td>159660.80</td>\n",
       "      <td>3</td>\n",
       "      <td>1</td>\n",
       "      <td>0</td>\n",
       "      <td>113931.57</td>\n",
       "      <td>1</td>\n",
       "    </tr>\n",
       "    <tr>\n",
       "      <th>3</th>\n",
       "      <td>4</td>\n",
       "      <td>15701354</td>\n",
       "      <td>Boni</td>\n",
       "      <td>699</td>\n",
       "      <td>France</td>\n",
       "      <td>Female</td>\n",
       "      <td>39</td>\n",
       "      <td>1.0</td>\n",
       "      <td>0.00</td>\n",
       "      <td>2</td>\n",
       "      <td>0</td>\n",
       "      <td>0</td>\n",
       "      <td>93826.63</td>\n",
       "      <td>0</td>\n",
       "    </tr>\n",
       "    <tr>\n",
       "      <th>4</th>\n",
       "      <td>5</td>\n",
       "      <td>15737888</td>\n",
       "      <td>Mitchell</td>\n",
       "      <td>850</td>\n",
       "      <td>Spain</td>\n",
       "      <td>Female</td>\n",
       "      <td>43</td>\n",
       "      <td>2.0</td>\n",
       "      <td>125510.82</td>\n",
       "      <td>1</td>\n",
       "      <td>1</td>\n",
       "      <td>1</td>\n",
       "      <td>79084.10</td>\n",
       "      <td>0</td>\n",
       "    </tr>\n",
       "    <tr>\n",
       "      <th>...</th>\n",
       "      <td>...</td>\n",
       "      <td>...</td>\n",
       "      <td>...</td>\n",
       "      <td>...</td>\n",
       "      <td>...</td>\n",
       "      <td>...</td>\n",
       "      <td>...</td>\n",
       "      <td>...</td>\n",
       "      <td>...</td>\n",
       "      <td>...</td>\n",
       "      <td>...</td>\n",
       "      <td>...</td>\n",
       "      <td>...</td>\n",
       "      <td>...</td>\n",
       "    </tr>\n",
       "    <tr>\n",
       "      <th>9995</th>\n",
       "      <td>9996</td>\n",
       "      <td>15606229</td>\n",
       "      <td>Obijiaku</td>\n",
       "      <td>771</td>\n",
       "      <td>France</td>\n",
       "      <td>Male</td>\n",
       "      <td>39</td>\n",
       "      <td>5.0</td>\n",
       "      <td>0.00</td>\n",
       "      <td>2</td>\n",
       "      <td>1</td>\n",
       "      <td>0</td>\n",
       "      <td>96270.64</td>\n",
       "      <td>0</td>\n",
       "    </tr>\n",
       "    <tr>\n",
       "      <th>9996</th>\n",
       "      <td>9997</td>\n",
       "      <td>15569892</td>\n",
       "      <td>Johnstone</td>\n",
       "      <td>516</td>\n",
       "      <td>France</td>\n",
       "      <td>Male</td>\n",
       "      <td>35</td>\n",
       "      <td>10.0</td>\n",
       "      <td>57369.61</td>\n",
       "      <td>1</td>\n",
       "      <td>1</td>\n",
       "      <td>1</td>\n",
       "      <td>101699.77</td>\n",
       "      <td>0</td>\n",
       "    </tr>\n",
       "    <tr>\n",
       "      <th>9997</th>\n",
       "      <td>9998</td>\n",
       "      <td>15584532</td>\n",
       "      <td>Liu</td>\n",
       "      <td>709</td>\n",
       "      <td>France</td>\n",
       "      <td>Female</td>\n",
       "      <td>36</td>\n",
       "      <td>7.0</td>\n",
       "      <td>0.00</td>\n",
       "      <td>1</td>\n",
       "      <td>0</td>\n",
       "      <td>1</td>\n",
       "      <td>42085.58</td>\n",
       "      <td>1</td>\n",
       "    </tr>\n",
       "    <tr>\n",
       "      <th>9998</th>\n",
       "      <td>9999</td>\n",
       "      <td>15682355</td>\n",
       "      <td>Sabbatini</td>\n",
       "      <td>772</td>\n",
       "      <td>Germany</td>\n",
       "      <td>Male</td>\n",
       "      <td>42</td>\n",
       "      <td>3.0</td>\n",
       "      <td>75075.31</td>\n",
       "      <td>2</td>\n",
       "      <td>1</td>\n",
       "      <td>0</td>\n",
       "      <td>92888.52</td>\n",
       "      <td>1</td>\n",
       "    </tr>\n",
       "    <tr>\n",
       "      <th>9999</th>\n",
       "      <td>10000</td>\n",
       "      <td>15628319</td>\n",
       "      <td>Walker</td>\n",
       "      <td>792</td>\n",
       "      <td>France</td>\n",
       "      <td>Female</td>\n",
       "      <td>28</td>\n",
       "      <td>NaN</td>\n",
       "      <td>130142.79</td>\n",
       "      <td>1</td>\n",
       "      <td>1</td>\n",
       "      <td>0</td>\n",
       "      <td>38190.78</td>\n",
       "      <td>0</td>\n",
       "    </tr>\n",
       "  </tbody>\n",
       "</table>\n",
       "<p>10000 rows × 14 columns</p>\n",
       "</div>"
      ],
      "text/plain": [
       "      RowNumber  CustomerId    Surname  CreditScore Geography  Gender  Age  \\\n",
       "0             1    15634602   Hargrave          619    France  Female   42   \n",
       "1             2    15647311       Hill          608     Spain  Female   41   \n",
       "2             3    15619304       Onio          502    France  Female   42   \n",
       "3             4    15701354       Boni          699    France  Female   39   \n",
       "4             5    15737888   Mitchell          850     Spain  Female   43   \n",
       "...         ...         ...        ...          ...       ...     ...  ...   \n",
       "9995       9996    15606229   Obijiaku          771    France    Male   39   \n",
       "9996       9997    15569892  Johnstone          516    France    Male   35   \n",
       "9997       9998    15584532        Liu          709    France  Female   36   \n",
       "9998       9999    15682355  Sabbatini          772   Germany    Male   42   \n",
       "9999      10000    15628319     Walker          792    France  Female   28   \n",
       "\n",
       "      Tenure    Balance  NumOfProducts  HasCrCard  IsActiveMember  \\\n",
       "0        2.0       0.00              1          1               1   \n",
       "1        1.0   83807.86              1          0               1   \n",
       "2        8.0  159660.80              3          1               0   \n",
       "3        1.0       0.00              2          0               0   \n",
       "4        2.0  125510.82              1          1               1   \n",
       "...      ...        ...            ...        ...             ...   \n",
       "9995     5.0       0.00              2          1               0   \n",
       "9996    10.0   57369.61              1          1               1   \n",
       "9997     7.0       0.00              1          0               1   \n",
       "9998     3.0   75075.31              2          1               0   \n",
       "9999     NaN  130142.79              1          1               0   \n",
       "\n",
       "      EstimatedSalary  Exited  \n",
       "0           101348.88       1  \n",
       "1           112542.58       0  \n",
       "2           113931.57       1  \n",
       "3            93826.63       0  \n",
       "4            79084.10       0  \n",
       "...               ...     ...  \n",
       "9995         96270.64       0  \n",
       "9996        101699.77       0  \n",
       "9997         42085.58       1  \n",
       "9998         92888.52       1  \n",
       "9999         38190.78       0  \n",
       "\n",
       "[10000 rows x 14 columns]"
      ]
     },
     "metadata": {},
     "output_type": "display_data"
    }
   ],
   "source": [
    "display(df)"
   ]
  },
  {
   "cell_type": "markdown",
   "metadata": {},
   "source": [
    "Пропущенные значения заполним 0, так как, вероятно, пользователь является клиентом банка менее года."
   ]
  },
  {
   "cell_type": "code",
   "execution_count": 5,
   "metadata": {},
   "outputs": [],
   "source": [
    "df['Tenure'] = df['Tenure'].fillna(0)"
   ]
  },
  {
   "cell_type": "markdown",
   "metadata": {},
   "source": [
    "Проверим данные на наличие дубликатов."
   ]
  },
  {
   "cell_type": "code",
   "execution_count": 6,
   "metadata": {},
   "outputs": [
    {
     "data": {
      "text/plain": [
       "0"
      ]
     },
     "execution_count": 6,
     "metadata": {},
     "output_type": "execute_result"
    }
   ],
   "source": [
    "df.duplicated().sum()"
   ]
  },
  {
   "cell_type": "markdown",
   "metadata": {},
   "source": [
    "Дубликаты отсутствуют."
   ]
  },
  {
   "cell_type": "markdown",
   "metadata": {},
   "source": [
    "Удалим неинформативные колонки."
   ]
  },
  {
   "cell_type": "code",
   "execution_count": 7,
   "metadata": {},
   "outputs": [],
   "source": [
    "df = df.drop(['RowNumber','CustomerId', 'Surname'], axis=1)"
   ]
  },
  {
   "cell_type": "markdown",
   "metadata": {},
   "source": [
    "Избавимся от категориальных признаков, в данном исследовании они нам не понадобятся."
   ]
  },
  {
   "cell_type": "code",
   "execution_count": 8,
   "metadata": {},
   "outputs": [],
   "source": [
    "df = pd.get_dummies(df,drop_first=True)"
   ]
  },
  {
   "cell_type": "markdown",
   "metadata": {},
   "source": [
    "Нам необходимо извлечь признаки."
   ]
  },
  {
   "cell_type": "code",
   "execution_count": 9,
   "metadata": {},
   "outputs": [],
   "source": [
    "features = df.drop(['Exited'], axis=1)"
   ]
  },
  {
   "cell_type": "markdown",
   "metadata": {},
   "source": [
    "И целевой признак."
   ]
  },
  {
   "cell_type": "code",
   "execution_count": 10,
   "metadata": {},
   "outputs": [],
   "source": [
    "target = df['Exited']"
   ]
  },
  {
   "cell_type": "markdown",
   "metadata": {},
   "source": [
    "Разделим данные на три выборки - обучающую (60%), валидационную (20%) и тестовую (20%)."
   ]
  },
  {
   "cell_type": "code",
   "execution_count": 11,
   "metadata": {},
   "outputs": [],
   "source": [
    "features_train, features_valid, target_train, target_valid = train_test_split(\n",
    "    features, target, stratify = target, test_size=0.4, random_state=12345)"
   ]
  },
  {
   "cell_type": "markdown",
   "metadata": {},
   "source": [
    "Теперь пополам разделим валидационную выборку, чтобы получить валидационную и тестовую"
   ]
  },
  {
   "cell_type": "code",
   "execution_count": 12,
   "metadata": {},
   "outputs": [],
   "source": [
    "features_valid, features_test, target_valid, target_test = train_test_split(\n",
    "    features_valid, target_valid, test_size=0.5, random_state=12345)"
   ]
  },
  {
   "cell_type": "markdown",
   "metadata": {},
   "source": [
    "Мы разбили данные на выборки, но, прежде чем переходить к исследованию задачи, нужно масштабировать признаки."
   ]
  },
  {
   "cell_type": "code",
   "execution_count": 13,
   "metadata": {},
   "outputs": [],
   "source": [
    "numeric = ['CreditScore', 'Age', 'Tenure', 'Balance', 'NumOfProducts', 'EstimatedSalary']"
   ]
  },
  {
   "cell_type": "code",
   "execution_count": 14,
   "metadata": {},
   "outputs": [
    {
     "name": "stderr",
     "output_type": "stream",
     "text": [
      "/tmp/ipykernel_100/3929994166.py:4: SettingWithCopyWarning: \n",
      "A value is trying to be set on a copy of a slice from a DataFrame.\n",
      "Try using .loc[row_indexer,col_indexer] = value instead\n",
      "\n",
      "See the caveats in the documentation: https://pandas.pydata.org/pandas-docs/stable/user_guide/indexing.html#returning-a-view-versus-a-copy\n",
      "  features_train[numeric] = scaler.transform(features_train[numeric])\n",
      "/opt/conda/lib/python3.9/site-packages/pandas/core/indexing.py:1738: SettingWithCopyWarning: \n",
      "A value is trying to be set on a copy of a slice from a DataFrame.\n",
      "Try using .loc[row_indexer,col_indexer] = value instead\n",
      "\n",
      "See the caveats in the documentation: https://pandas.pydata.org/pandas-docs/stable/user_guide/indexing.html#returning-a-view-versus-a-copy\n",
      "  self._setitem_single_column(loc, value[:, i].tolist(), pi)\n"
     ]
    }
   ],
   "source": [
    "scaler = StandardScaler()\n",
    "scaler.fit(features_train.copy()[numeric]) \n",
    "\n",
    "features_train[numeric] = scaler.transform(features_train[numeric])\n",
    "features_test[numeric] = scaler.transform(features_test[numeric])\n",
    "\n",
    "features_valid[numeric] = scaler.transform(features_valid[numeric]) "
   ]
  },
  {
   "cell_type": "markdown",
   "metadata": {},
   "source": [
    "Оценим размер выборок"
   ]
  },
  {
   "cell_type": "code",
   "execution_count": 15,
   "metadata": {},
   "outputs": [
    {
     "name": "stdout",
     "output_type": "stream",
     "text": [
      "(6000, 11)\n"
     ]
    }
   ],
   "source": [
    "print(features_train.shape)"
   ]
  },
  {
   "cell_type": "code",
   "execution_count": 16,
   "metadata": {},
   "outputs": [
    {
     "name": "stdout",
     "output_type": "stream",
     "text": [
      "(2000, 11)\n"
     ]
    }
   ],
   "source": [
    "print(features_valid.shape)"
   ]
  },
  {
   "cell_type": "markdown",
   "metadata": {},
   "source": [
    "**Вывод**\n",
    "\n",
    "В ходе выполнения этого шага мы изучили данные, заполнили пропуски, раделили признаки и целевой признак, масштабировали данные. Теперь можно переходить к исслледованию задачи."
   ]
  },
  {
   "cell_type": "markdown",
   "metadata": {},
   "source": [
    "## Исследование задачи"
   ]
  },
  {
   "cell_type": "markdown",
   "metadata": {},
   "source": [
    "Чтобы обучить модель, нужно выбрать наиболее подходящий способ. Протестируем дерево решений, случайный лес и логистическую регрессию. \n",
    "\n",
    "Начнём с дерева решений. Так как слишком высокое дерево решений имеет склонность к переобучению, а слишком низкое - к недообучению, установим параметры высоты от 1 до 5, как наиболее часто встречающиеся. Если при проверке дерева решений с этими гиперпараметрами увидим необходимость проверить более высокое дерево, то сделаем это следующим шагом."
   ]
  },
  {
   "cell_type": "code",
   "execution_count": 17,
   "metadata": {},
   "outputs": [
    {
     "name": "stdout",
     "output_type": "stream",
     "text": [
      "DecisionTreeClassifier. max_depth = 1; accuracy = 0.8045; F1 = 0.0\n",
      "DecisionTreeClassifier. max_depth = 2; accuracy = 0.8405; F1 = 0.5129770992366413\n",
      "DecisionTreeClassifier. max_depth = 3; accuracy = 0.845; F1 = 0.5259938837920489\n",
      "DecisionTreeClassifier. max_depth = 4; accuracy = 0.855; F1 = 0.5117845117845117\n",
      "DecisionTreeClassifier. max_depth = 5; accuracy = 0.8595; F1 = 0.5245346869712352\n",
      "DecisionTreeClassifier. max_depth = 6; accuracy = 0.8605; F1 = 0.5478119935170178\n",
      "DecisionTreeClassifier. max_depth = 7; accuracy = 0.859; F1 = 0.5607476635514019\n",
      "DecisionTreeClassifier. max_depth = 8; accuracy = 0.854; F1 = 0.525974025974026\n",
      "DecisionTreeClassifier. max_depth = 9; accuracy = 0.8385; F1 = 0.4976671850699844\n",
      "DecisionTreeClassifier. max_depth = 10; accuracy = 0.8325; F1 = 0.5051698670605612\n"
     ]
    }
   ],
   "source": [
    "for depth in range(1, 11):\n",
    "    dtc_model = DecisionTreeClassifier(max_depth=depth, random_state=12345)\n",
    "    dtc_model.fit(features_train, target_train)\n",
    "    \n",
    "    dtc_valid_predictions = dtc_model.predict(features_valid)\n",
    "    accuracy = accuracy_score(target_valid, dtc_valid_predictions)\n",
    "    f1 = f1_score(target_valid, dtc_valid_predictions)\n",
    "    print(f\"DecisionTreeClassifier. max_depth = {depth}; accuracy = {accuracy}; F1 = {f1}\")"
   ]
  },
  {
   "cell_type": "markdown",
   "metadata": {},
   "source": [
    "Наилучший результат показывает дерево решений с параметром depth = 7, после него значение f1 начинает снижаться."
   ]
  },
  {
   "cell_type": "markdown",
   "metadata": {},
   "source": [
    "Теперь обучим модель с помощью случайного леса. Посмотрим, как влияет на значение f1 количество деревьев от 10 до 100."
   ]
  },
  {
   "cell_type": "code",
   "execution_count": 18,
   "metadata": {},
   "outputs": [
    {
     "name": "stdout",
     "output_type": "stream",
     "text": [
      "RandomForestClassifier, estimators = 10, accuracy = 0.856; F1 = 0.5443037974683544\n",
      "RandomForestClassifier, estimators = 20, accuracy = 0.8645; F1 = 0.5677830940988836\n",
      "RandomForestClassifier, estimators = 30, accuracy = 0.8615; F1 = 0.5678627145085804\n",
      "RandomForestClassifier, estimators = 40, accuracy = 0.8625; F1 = 0.5723172628304821\n",
      "RandomForestClassifier, estimators = 50, accuracy = 0.864; F1 = 0.5763239875389408\n",
      "RandomForestClassifier, estimators = 60, accuracy = 0.862; F1 = 0.5714285714285714\n",
      "RandomForestClassifier, estimators = 70, accuracy = 0.8635; F1 = 0.5767441860465117\n",
      "RandomForestClassifier, estimators = 80, accuracy = 0.8655; F1 = 0.5803432137285492\n",
      "RandomForestClassifier, estimators = 90, accuracy = 0.8655; F1 = 0.5790297339593115\n",
      "RandomForestClassifier, estimators = 100, accuracy = 0.865; F1 = 0.5781250000000001\n"
     ]
    }
   ],
   "source": [
    "for i in range(10, 101, 10):\n",
    "    rfc_model = RandomForestClassifier(random_state=12345, n_estimators=i)\n",
    "    rfc_model.fit(features_train, target_train)\n",
    "    rfc_valid_predictions = rfc_model.predict(features_valid)\n",
    "    accuracy = accuracy_score( target_valid, rfc_valid_predictions)\n",
    "    f1 = f1_score(target_valid, rfc_valid_predictions)\n",
    "    print(f'RandomForestClassifier, estimators = {i}, accuracy = {accuracy}; F1 = {f1}')"
   ]
  },
  {
   "cell_type": "markdown",
   "metadata": {},
   "source": [
    "Модель случайного леса показывает неудовлетворяющее условиям значение f1. Самый лучший результат показывает модель с параметром n_estimators = 80."
   ]
  },
  {
   "cell_type": "markdown",
   "metadata": {},
   "source": [
    "Теперь рассмотрим модель логистической регрессии"
   ]
  },
  {
   "cell_type": "code",
   "execution_count": 19,
   "metadata": {},
   "outputs": [
    {
     "name": "stdout",
     "output_type": "stream",
     "text": [
      "Logistic Regression, accuracy = 0.8155; F1 = 0.3050847457627119\n"
     ]
    }
   ],
   "source": [
    "log_model = LogisticRegression(random_state=12345)\n",
    "log_model.fit(features_train, target_train)\n",
    "log_predictions = log_model.predict(features_valid)\n",
    "accuracy = accuracy_score( target_valid, log_predictions)\n",
    "f1 = f1_score(target_valid, log_predictions)\n",
    "print(f'Logistic Regression, accuracy = {accuracy}; F1 = {f1}')"
   ]
  },
  {
   "cell_type": "markdown",
   "metadata": {},
   "source": [
    "Мы видим, что логистическая регрессия показывает самый низкий результат, эту модель мы использовать не будем."
   ]
  },
  {
   "cell_type": "markdown",
   "metadata": {},
   "source": [
    "**Вывод:**\n",
    "\n",
    "Итак, в ходе выполнения этого шага мы выяснили, что самый хороший результат показала модель случайного леса с параметром n_estimators = 80, значением f1 = 0.58 на валидационной выборке."
   ]
  },
  {
   "cell_type": "markdown",
   "metadata": {},
   "source": [
    "## Борьба с дисбалансом"
   ]
  },
  {
   "cell_type": "markdown",
   "metadata": {},
   "source": [
    "Для более корректной работы модели и предсказаний, нам необходимо настроить баланс классов.\n",
    "Для начала проверим баланс классов на данный момент, чтобы можно было отследить изменения."
   ]
  },
  {
   "cell_type": "code",
   "execution_count": 20,
   "metadata": {},
   "outputs": [
    {
     "name": "stdout",
     "output_type": "stream",
     "text": [
      "0    0.796333\n",
      "1    0.203667\n",
      "Name: Exited, dtype: float64\n"
     ]
    }
   ],
   "source": [
    "print(target_train.value_counts(normalize = 1))"
   ]
  },
  {
   "cell_type": "markdown",
   "metadata": {},
   "source": [
    "Проверим какое соотношение ответов выдаёт каждая модель."
   ]
  },
  {
   "cell_type": "code",
   "execution_count": 21,
   "metadata": {},
   "outputs": [],
   "source": [
    "def all_models_share(features_train, target_train, features_valid, target_valid):\n",
    "    dtc_model = DecisionTreeClassifier(random_state=123)\n",
    "    dtc_model.fit(features_train, target_train)\n",
    "    dtc_share = pd.Series(dtc_model.predict(features_valid)).value_counts(normalize = 1)\n",
    "    \n",
    "    \n",
    "    \n",
    "    rfc_model = RandomForestClassifier(random_state=12345, n_estimators = 100)\n",
    "    rfc_model.fit(features_train, target_train)\n",
    "    rfc_share = pd.Series(rfc_model.predict(features_valid)).value_counts(normalize = 1)\n",
    "    \n",
    "    log_model = LogisticRegression(solver = 'liblinear')\n",
    "    log_model.fit(features_train, target_train)\n",
    "    log_share = pd.Series(log_model.predict(features_valid)).value_counts(normalize = 1)\n",
    "    \n",
    "\n",
    "    \n",
    "    print(\"Доли ответов:\" \"Дерево решений\", dtc_share, \"Случайный лес\", rfc_share, \"Логистческая регрессия\", log_share , end='')"
   ]
  },
  {
   "cell_type": "code",
   "execution_count": 22,
   "metadata": {},
   "outputs": [
    {
     "name": "stdout",
     "output_type": "stream",
     "text": [
      "Доли ответов:Дерево решений 0    0.7815\n",
      "1    0.2185\n",
      "dtype: float64 Случайный лес 0    0.8755\n",
      "1    0.1245\n",
      "dtype: float64 Логистческая регрессия 0    0.93\n",
      "1    0.07\n",
      "dtype: float64"
     ]
    }
   ],
   "source": [
    "all_models_share(features_train, target_train, features_valid, target_valid)"
   ]
  },
  {
   "cell_type": "markdown",
   "metadata": {},
   "source": [
    "Мы видим довольно высокую точность, но это происодит потому что модели почти всегда предсказывают ответ 0, так как в данных большинство данных с 0, они часто угадывают верный ответ."
   ]
  },
  {
   "cell_type": "markdown",
   "metadata": {},
   "source": [
    "Создадим константную модель."
   ]
  },
  {
   "cell_type": "code",
   "execution_count": 23,
   "metadata": {},
   "outputs": [
    {
     "data": {
      "text/plain": [
       "(2000,)"
      ]
     },
     "execution_count": 23,
     "metadata": {},
     "output_type": "execute_result"
    }
   ],
   "source": [
    "target_predict_constant = pd.Series([0]*len(target_valid))\n",
    "target_predict_constant.shape"
   ]
  },
  {
   "cell_type": "markdown",
   "metadata": {},
   "source": [
    "Посмотрим значение accuracy для константной модели."
   ]
  },
  {
   "cell_type": "code",
   "execution_count": 24,
   "metadata": {},
   "outputs": [
    {
     "data": {
      "text/plain": [
       "0.8045"
      ]
     },
     "execution_count": 24,
     "metadata": {},
     "output_type": "execute_result"
    }
   ],
   "source": [
    "accuracy_score_constant = accuracy_score(target_valid, target_predict_constant)\n",
    "accuracy_score_constant"
   ]
  },
  {
   "cell_type": "markdown",
   "metadata": {},
   "source": [
    "Точность константной модели 0.79. Построим матрицу ошибок для дерева решений."
   ]
  },
  {
   "cell_type": "code",
   "execution_count": 25,
   "metadata": {},
   "outputs": [
    {
     "data": {
      "text/plain": [
       "array([[1357,  252],\n",
       "       [ 206,  185]])"
      ]
     },
     "execution_count": 25,
     "metadata": {},
     "output_type": "execute_result"
    }
   ],
   "source": [
    "dtc_model = DecisionTreeClassifier(random_state=123)\n",
    "dtc_model.fit(features_train, target_train)\n",
    "dtc_prediction = dtc_model.predict(features_valid)\n",
    "confusion_matrix(target_valid, dtc_prediction)"
   ]
  },
  {
   "cell_type": "markdown",
   "metadata": {},
   "source": [
    "Большая часть ответов истиноотрицательные. Изучим точноть, полноту и f1 меру."
   ]
  },
  {
   "cell_type": "code",
   "execution_count": 26,
   "metadata": {},
   "outputs": [
    {
     "name": "stdout",
     "output_type": "stream",
     "text": [
      "Полнота 0.4731457800511509\n",
      "Точность 0.4233409610983982\n",
      "F1-мера 0.4468599033816425\n",
      "AUC-ROC 0.6582633810137669\n"
     ]
    }
   ],
   "source": [
    "print(\"Полнота\" , recall_score(target_valid, dtc_prediction))\n",
    "print(\"Точность\", precision_score(target_valid, dtc_prediction))\n",
    "print(\"F1-мера\", f1_score(target_valid, dtc_prediction))\n",
    "print(\"AUC-ROC\", roc_auc_score(target_valid, dtc_prediction))"
   ]
  },
  {
   "cell_type": "markdown",
   "metadata": {},
   "source": [
    "Точность модели низкая, как и значение f1.\n",
    "\n",
    "Построим матрицу ошибок для случайного леса."
   ]
  },
  {
   "cell_type": "code",
   "execution_count": 27,
   "metadata": {},
   "outputs": [
    {
     "data": {
      "text/plain": [
       "array([[1545,   64],\n",
       "       [ 206,  185]])"
      ]
     },
     "execution_count": 27,
     "metadata": {},
     "output_type": "execute_result"
    }
   ],
   "source": [
    "rfc_model = RandomForestClassifier(random_state=12345, n_estimators = 100)\n",
    "rfc_model.fit(features_train, target_train)\n",
    "rfc_prediction = rfc_model.predict(features_valid)\n",
    "confusion_matrix(target_valid, rfc_prediction)"
   ]
  },
  {
   "cell_type": "markdown",
   "metadata": {},
   "source": [
    "Мы видим, что ложноотрицательные и истиноположительные значения близки друг к другу."
   ]
  },
  {
   "cell_type": "code",
   "execution_count": 28,
   "metadata": {},
   "outputs": [
    {
     "name": "stdout",
     "output_type": "stream",
     "text": [
      "Полнота 0.4731457800511509\n",
      "Точность 0.7429718875502008\n",
      "F1-мера 0.5781250000000001\n",
      "AUC-ROC 0.7166847607527351\n"
     ]
    }
   ],
   "source": [
    "print(\"Полнота\" , recall_score(target_valid, rfc_prediction))\n",
    "print(\"Точность\", precision_score(target_valid, rfc_prediction))\n",
    "print(\"F1-мера\", f1_score(target_valid, rfc_prediction))\n",
    "print(\"AUC-ROC\", roc_auc_score(target_valid, rfc_prediction))"
   ]
  },
  {
   "cell_type": "markdown",
   "metadata": {},
   "source": [
    "В модели случайного леса точность и значение f1 выше, чем в дереве решений.\n",
    "\n",
    "Теперь построим матрицу ошибок для логистической регрессии."
   ]
  },
  {
   "cell_type": "code",
   "execution_count": 29,
   "metadata": {},
   "outputs": [
    {
     "data": {
      "text/plain": [
       "array([[1550,   59],\n",
       "       [ 310,   81]])"
      ]
     },
     "execution_count": 29,
     "metadata": {},
     "output_type": "execute_result"
    }
   ],
   "source": [
    "log_model = LogisticRegression(solver = 'liblinear')\n",
    "log_model.fit(features_train, target_train)\n",
    "log_prediction = log_model.predict(features_valid)\n",
    "confusion_matrix(target_valid, log_prediction)"
   ]
  },
  {
   "cell_type": "markdown",
   "metadata": {},
   "source": [
    "В данном случае истиноположительные и ложноположительные значения близки друг к другу."
   ]
  },
  {
   "cell_type": "code",
   "execution_count": 30,
   "metadata": {},
   "outputs": [
    {
     "name": "stdout",
     "output_type": "stream",
     "text": [
      "Полнота 0.2071611253196931\n",
      "Точность 0.5785714285714286\n",
      "F1-мера 0.3050847457627119\n",
      "AUC-ROC 0.5852461934864468\n"
     ]
    }
   ],
   "source": [
    "print(\"Полнота\" , recall_score(target_valid, log_prediction))\n",
    "print(\"Точность\", precision_score(target_valid, log_prediction))\n",
    "print(\"F1-мера\", f1_score(target_valid, log_prediction))\n",
    "print(\"AUC-ROC\", roc_auc_score(target_valid, log_prediction))"
   ]
  },
  {
   "cell_type": "markdown",
   "metadata": {},
   "source": [
    "В логистической регрессии мы можем наблюдать самое ниизкое значение f1 меры."
   ]
  },
  {
   "cell_type": "markdown",
   "metadata": {},
   "source": [
    "Уберём часть неважных данных."
   ]
  },
  {
   "cell_type": "code",
   "execution_count": 31,
   "metadata": {},
   "outputs": [],
   "source": [
    "def downsample(features, target, fraction):\n",
    "    features_zeros = features[target == 0]\n",
    "    features_ones = features[target == 1]\n",
    "    target_zeros = target[target == 0]\n",
    "    target_ones = target[target == 1]\n",
    "\n",
    "    features_downsampled = pd.concat(\n",
    "        [features_zeros.sample(frac=fraction, random_state=12345)] + [features_ones])\n",
    "    target_downsampled = pd.concat(\n",
    "        [target_zeros.sample(frac=fraction, random_state=12345)] + [target_ones])\n",
    "    \n",
    "    features_downsampled, target_downsampled = shuffle(\n",
    "        features_downsampled, target_downsampled, random_state=12345)\n",
    "    \n",
    "    return features_downsampled, target_downsampled\n",
    "\n",
    "features_downsampled, target_downsampled = downsample(features_train, target_train, 0.1)"
   ]
  },
  {
   "cell_type": "markdown",
   "metadata": {},
   "source": [
    "Теперь мы напишем собственную функцию, чтобы сбалансировать данные."
   ]
  },
  {
   "cell_type": "code",
   "execution_count": 32,
   "metadata": {},
   "outputs": [],
   "source": [
    "def upsample(features, target, repeat):\n",
    "    features_zeros = features[target == 0]\n",
    "    features_ones = features[target == 1]\n",
    "    target_zeros = target[target == 0]\n",
    "    target_ones = target[target == 1]\n",
    "\n",
    "    features_upsampled = pd.concat([features_zeros] + [features_ones] * repeat)\n",
    "    target_upsampled = pd.concat([target_zeros] + [target_ones] * repeat)\n",
    "    \n",
    "    features_upsampled, target_upsampled = shuffle(\n",
    "        features_upsampled, target_upsampled, random_state=12345)\n",
    "    \n",
    "    return features_upsampled, target_upsampled"
   ]
  },
  {
   "cell_type": "markdown",
   "metadata": {},
   "source": [
    "Теперь увеличим количество положительных ответов в 4 раза."
   ]
  },
  {
   "cell_type": "code",
   "execution_count": 33,
   "metadata": {},
   "outputs": [
    {
     "name": "stdout",
     "output_type": "stream",
     "text": [
      "1    0.50569\n",
      "0    0.49431\n",
      "Name: Exited, dtype: float64\n",
      "(9666,)\n"
     ]
    }
   ],
   "source": [
    "features_upsampled, target_upsampled = upsample(features_train, target_train, 4)\n",
    "print(target_upsampled.value_counts(normalize = 1))\n",
    "print(target_upsampled.shape)"
   ]
  },
  {
   "cell_type": "markdown",
   "metadata": {},
   "source": [
    "Теперь данные в выборке сбалансированы. Снова проверим модель дерева решений, случайного леса и логистической регрессии. Начнём с модели дерева решений."
   ]
  },
  {
   "cell_type": "code",
   "execution_count": 34,
   "metadata": {},
   "outputs": [
    {
     "name": "stdout",
     "output_type": "stream",
     "text": [
      "DecisionTreeClassifier. max_depth = 1; accuracy = 0.697; F1 = 0.4838160136286202\n",
      "DecisionTreeClassifier. max_depth = 2; accuracy = 0.701; F1 = 0.5\n",
      "DecisionTreeClassifier. max_depth = 3; accuracy = 0.8125; F1 = 0.5353159851301115\n",
      "DecisionTreeClassifier. max_depth = 4; accuracy = 0.746; F1 = 0.5406871609403254\n",
      "DecisionTreeClassifier. max_depth = 5; accuracy = 0.703; F1 = 0.5186385737439222\n",
      "DecisionTreeClassifier. max_depth = 6; accuracy = 0.7495; F1 = 0.5348189415041783\n",
      "DecisionTreeClassifier. max_depth = 7; accuracy = 0.7535; F1 = 0.5447830101569714\n",
      "DecisionTreeClassifier. max_depth = 8; accuracy = 0.751; F1 = 0.5380333951762523\n",
      "DecisionTreeClassifier. max_depth = 9; accuracy = 0.759; F1 = 0.5227722772277227\n",
      "DecisionTreeClassifier. max_depth = 10; accuracy = 0.7575; F1 = 0.5105953582240161\n"
     ]
    }
   ],
   "source": [
    "for depth in range(1, 11):\n",
    "    dtc_model_balans = DecisionTreeClassifier(max_depth=depth, random_state=12345, class_weight='balanced')\n",
    "    dtc_model_balans.fit(features_upsampled, target_upsampled)\n",
    "    \n",
    "    dtc_valid_predictions_balans = dtc_model_balans.predict(features_valid)\n",
    "    accuracy = accuracy_score(target_valid, dtc_valid_predictions_balans)\n",
    "    f1 = f1_score(target_valid, dtc_valid_predictions_balans)\n",
    "    print(f\"DecisionTreeClassifier. max_depth = {depth}; accuracy = {accuracy}; F1 = {f1}\")"
   ]
  },
  {
   "cell_type": "markdown",
   "metadata": {},
   "source": [
    "Как мы видим, результат немного изменился. Теперь самое хорошее значение f1 = 0.59 показывает модель дерева решений с параметром max_depth = 5."
   ]
  },
  {
   "cell_type": "markdown",
   "metadata": {},
   "source": [
    "Проверим результат работы дерева решений с помощью функции downsample."
   ]
  },
  {
   "cell_type": "code",
   "execution_count": 35,
   "metadata": {},
   "outputs": [
    {
     "name": "stdout",
     "output_type": "stream",
     "text": [
      "DecisionTreeClassifier. max_depth = 1; accuracy = 0.7415; F1 = 0.49854510184287104\n",
      "DecisionTreeClassifier. max_depth = 2; accuracy = 0.747; F1 = 0.5217391304347826\n",
      "DecisionTreeClassifier. max_depth = 3; accuracy = 0.747; F1 = 0.5217391304347826\n",
      "DecisionTreeClassifier. max_depth = 4; accuracy = 0.6785; F1 = 0.48518815052041636\n",
      "DecisionTreeClassifier. max_depth = 5; accuracy = 0.7835; F1 = 0.5329018338727076\n",
      "DecisionTreeClassifier. max_depth = 6; accuracy = 0.725; F1 = 0.492619926199262\n",
      "DecisionTreeClassifier. max_depth = 7; accuracy = 0.715; F1 = 0.4910714285714286\n",
      "DecisionTreeClassifier. max_depth = 8; accuracy = 0.68; F1 = 0.45670628183361633\n",
      "DecisionTreeClassifier. max_depth = 9; accuracy = 0.6435; F1 = 0.4399057344854673\n",
      "DecisionTreeClassifier. max_depth = 10; accuracy = 0.646; F1 = 0.446875\n"
     ]
    }
   ],
   "source": [
    "for depth in range(1, 11):\n",
    "    dtc_model_balans = DecisionTreeClassifier(max_depth=depth, random_state=12345, class_weight='balanced')\n",
    "    dtc_model_balans.fit(features_downsampled, target_downsampled)\n",
    "    \n",
    "    dtc_valid_predictions_balans = dtc_model_balans.predict(features_valid)\n",
    "    accuracy = accuracy_score(target_valid, dtc_valid_predictions_balans)\n",
    "    f1 = f1_score(target_valid, dtc_valid_predictions_balans)\n",
    "    print(f\"DecisionTreeClassifier. max_depth = {depth}; accuracy = {accuracy}; F1 = {f1}\")"
   ]
  },
  {
   "cell_type": "markdown",
   "metadata": {},
   "source": [
    "Как мы видим, значение f1 меры становится ниже."
   ]
  },
  {
   "cell_type": "markdown",
   "metadata": {},
   "source": [
    "Измерим AUC-ROC."
   ]
  },
  {
   "cell_type": "code",
   "execution_count": 36,
   "metadata": {},
   "outputs": [
    {
     "name": "stdout",
     "output_type": "stream",
     "text": [
      "0.7080743070865765\n"
     ]
    }
   ],
   "source": [
    "dtc_probabilities = dtc_model_balans.predict_proba(features_valid)\n",
    "dtc_probabilities_one_valid = dtc_probabilities[:,1]\n",
    "dtc_fpr, dtc_tpr, thresholds = roc_curve(target_valid, dtc_probabilities_one_valid)\n",
    "\n",
    "dtc_auc_roc = roc_auc_score(target_valid, dtc_probabilities_one_valid)\n",
    "print(dtc_auc_roc)"
   ]
  },
  {
   "cell_type": "markdown",
   "metadata": {},
   "source": [
    "Проверим модель случайного леса."
   ]
  },
  {
   "cell_type": "code",
   "execution_count": 37,
   "metadata": {},
   "outputs": [
    {
     "name": "stdout",
     "output_type": "stream",
     "text": [
      "RandomForestClassifier, estimators = 10, accuracy = 0.8455; F1 = 0.5666199158485273\n",
      "RandomForestClassifier, estimators = 20, accuracy = 0.845; F1 = 0.5741758241758241\n",
      "RandomForestClassifier, estimators = 30, accuracy = 0.848; F1 = 0.5824175824175823\n",
      "RandomForestClassifier, estimators = 40, accuracy = 0.8495; F1 = 0.5848275862068966\n",
      "RandomForestClassifier, estimators = 50, accuracy = 0.8495; F1 = 0.5813630041724618\n",
      "RandomForestClassifier, estimators = 60, accuracy = 0.8535; F1 = 0.5936199722607489\n",
      "RandomForestClassifier, estimators = 70, accuracy = 0.8495; F1 = 0.5825242718446602\n",
      "RandomForestClassifier, estimators = 80, accuracy = 0.8505; F1 = 0.5841446453407511\n",
      "RandomForestClassifier, estimators = 90, accuracy = 0.8515; F1 = 0.5880721220527045\n",
      "RandomForestClassifier, estimators = 100, accuracy = 0.8515; F1 = 0.5869262865090404\n"
     ]
    }
   ],
   "source": [
    "for i in range(10, 101, 10):\n",
    "    rfc_model_balans = RandomForestClassifier(random_state=12345, n_estimators = i, class_weight = 'balanced')\n",
    "    rfc_model_balans.fit(features_upsampled, target_upsampled)\n",
    "    rfc_valid_predictions_balans = rfc_model_balans.predict(features_valid)\n",
    "    accuracy = accuracy_score(target_valid, rfc_valid_predictions_balans)\n",
    "    f1 = f1_score(target_valid, rfc_valid_predictions_balans)\n",
    "    print(f'RandomForestClassifier, estimators = {i}, accuracy = {accuracy}; F1 = {f1}')"
   ]
  },
  {
   "cell_type": "markdown",
   "metadata": {},
   "source": [
    "Результаты работы случайного леса улучшились, но они всё ещё ниже необходимых для нас. Наилучший результат показывает случайный лес с параметром n_estimators = 60."
   ]
  },
  {
   "cell_type": "markdown",
   "metadata": {},
   "source": [
    "Проверим результат работы случайного леса с помощью функции downsample."
   ]
  },
  {
   "cell_type": "code",
   "execution_count": 38,
   "metadata": {},
   "outputs": [
    {
     "name": "stdout",
     "output_type": "stream",
     "text": [
      "RandomForestClassifier, estimators = 10, accuracy = 0.5945; F1 = 0.4575250836120401\n",
      "RandomForestClassifier, estimators = 20, accuracy = 0.5675; F1 = 0.4479897894065093\n",
      "RandomForestClassifier, estimators = 30, accuracy = 0.561; F1 = 0.44218551461245237\n",
      "RandomForestClassifier, estimators = 40, accuracy = 0.562; F1 = 0.4455696202531645\n",
      "RandomForestClassifier, estimators = 50, accuracy = 0.5595; F1 = 0.4448645242596094\n",
      "RandomForestClassifier, estimators = 60, accuracy = 0.552; F1 = 0.4420921544209216\n",
      "RandomForestClassifier, estimators = 70, accuracy = 0.543; F1 = 0.43857493857493857\n",
      "RandomForestClassifier, estimators = 80, accuracy = 0.5445; F1 = 0.43730697961704756\n",
      "RandomForestClassifier, estimators = 90, accuracy = 0.543; F1 = 0.437192118226601\n",
      "RandomForestClassifier, estimators = 100, accuracy = 0.5485; F1 = 0.4401735895846249\n"
     ]
    }
   ],
   "source": [
    "for i in range(10, 101, 10):\n",
    "    rfc_model_balans = RandomForestClassifier(random_state=12345, n_estimators = i, class_weight = 'balanced')\n",
    "    rfc_model_balans.fit(features_downsampled, target_downsampled)\n",
    "    rfc_valid_predictions_balans = rfc_model_balans.predict(features_valid)\n",
    "    accuracy = accuracy_score(target_valid, rfc_valid_predictions_balans)\n",
    "    f1 = f1_score(target_valid, rfc_valid_predictions_balans)\n",
    "    print(f'RandomForestClassifier, estimators = {i}, accuracy = {accuracy}; F1 = {f1}')"
   ]
  },
  {
   "cell_type": "markdown",
   "metadata": {},
   "source": [
    "Как мы видим, значение f1 меры становится ниже."
   ]
  },
  {
   "cell_type": "markdown",
   "metadata": {},
   "source": [
    "Измерим AUC-ROC."
   ]
  },
  {
   "cell_type": "code",
   "execution_count": 39,
   "metadata": {},
   "outputs": [
    {
     "name": "stdout",
     "output_type": "stream",
     "text": [
      "0.8384717358719098\n"
     ]
    }
   ],
   "source": [
    "rfc_probabilities = rfc_model_balans.predict_proba(features_valid)\n",
    "rfc_probabilities_one_valid = rfc_probabilities[:,1]\n",
    "rfc_fpr, rfc_tpr, rfc_thresholds = roc_curve(target_valid, rfc_probabilities_one_valid)\n",
    "\n",
    "rfc_auc_roc = roc_auc_score(target_valid, rfc_probabilities_one_valid)\n",
    "print(rfc_auc_roc)"
   ]
  },
  {
   "cell_type": "markdown",
   "metadata": {},
   "source": [
    "Исследуем логистическую регрессию."
   ]
  },
  {
   "cell_type": "code",
   "execution_count": 40,
   "metadata": {},
   "outputs": [
    {
     "name": "stdout",
     "output_type": "stream",
     "text": [
      "Logistic Regression, accuracy = 0.8155; F1 = 0.4951541850220264\n"
     ]
    }
   ],
   "source": [
    "log_model_balans = LogisticRegression(random_state=12345, solver='liblinear')\n",
    "log_model_balans.fit(features_upsampled, target_upsampled)\n",
    "log_predicted_valid_balans = log_model_balans.predict(features_valid)\n",
    "accuracy = accuracy_score(target_valid, log_predictions)\n",
    "f1 = f1_score(target_valid, log_predicted_valid_balans)\n",
    "print(f'Logistic Regression, accuracy = {accuracy}; F1 = {f1}')"
   ]
  },
  {
   "cell_type": "markdown",
   "metadata": {},
   "source": [
    "Мы видим, что значение f1 хотя и изменилось, но довольно низкое, что не удовлетворяет условиям задания."
   ]
  },
  {
   "cell_type": "markdown",
   "metadata": {},
   "source": [
    "Проверим результат работы логистической регрессии с помощью функции downsample."
   ]
  },
  {
   "cell_type": "code",
   "execution_count": 41,
   "metadata": {},
   "outputs": [
    {
     "name": "stdout",
     "output_type": "stream",
     "text": [
      "Logistic Regression, accuracy = 0.8155; F1 = 0.41060349689791314\n"
     ]
    }
   ],
   "source": [
    "log_model_balans = LogisticRegression(random_state=12345, solver='liblinear')\n",
    "log_model_balans.fit(features_downsampled, target_downsampled)\n",
    "log_predicted_valid_balans = log_model_balans.predict(features_valid)\n",
    "accuracy = accuracy_score(target_valid, log_predictions)\n",
    "f1 = f1_score(target_valid, log_predicted_valid_balans)\n",
    "print(f'Logistic Regression, accuracy = {accuracy}; F1 = {f1}')"
   ]
  },
  {
   "cell_type": "markdown",
   "metadata": {},
   "source": [
    "Как мы видим, значение f1 меры становится ниже."
   ]
  },
  {
   "cell_type": "markdown",
   "metadata": {},
   "source": [
    "Измерим AUC-ROC."
   ]
  },
  {
   "cell_type": "code",
   "execution_count": 42,
   "metadata": {},
   "outputs": [
    {
     "name": "stdout",
     "output_type": "stream",
     "text": [
      "0.7814674171341193\n"
     ]
    }
   ],
   "source": [
    "log_probabilities = log_model_balans.predict_proba(features_valid)\n",
    "log_probabilities_one_valid = log_probabilities[:,1]\n",
    "log_fpr, log_tpr, log_thresholds = roc_curve(target_valid, log_probabilities_one_valid)\n",
    "\n",
    "log_auc_roc = roc_auc_score(target_valid, log_probabilities_one_valid)\n",
    "print(log_auc_roc)"
   ]
  },
  {
   "cell_type": "markdown",
   "metadata": {},
   "source": [
    "Построим график, чтобы посмотреть насколько сильно наши модели отличаются от случайной."
   ]
  },
  {
   "cell_type": "code",
   "execution_count": 43,
   "metadata": {},
   "outputs": [
    {
     "data": {
      "text/plain": [
       "<Figure size 432x288 with 0 Axes>"
      ]
     },
     "metadata": {},
     "output_type": "display_data"
    },
    {
     "data": {
      "image/png": "[encoded data removed]",
      "text/plain": [
       "<Figure size 720x504 with 1 Axes>"
      ]
     },
     "metadata": {
      "needs_background": "light"
     },
     "output_type": "display_data"
    }
   ],
   "source": [
    "plt.figure()\n",
    "\n",
    "plt.figure(figsize=(10,7))\n",
    "plt.plot([0, 1], [0, 1], linestyle='--')\n",
    "plt.xlim([0.0, 1.0])\n",
    "plt.ylim([0.0, 1.0])\n",
    "plt.plot(dtc_fpr, dtc_tpr)\n",
    "plt.plot(rfc_fpr, rfc_tpr)\n",
    "plt.plot(log_fpr,log_tpr)\n",
    "plt.xlabel('False Positive Rate')\n",
    "plt.ylabel('True Positive Rate')\n",
    "plt.title('ROC-кривая')\n",
    "plt.legend(('Случайная модель', 'Дерево решения', 'Случайный лес', 'Логистическая регрессия'), loc= 'upper left') \n",
    "plt.show()"
   ]
  },
  {
   "cell_type": "markdown",
   "metadata": {},
   "source": [
    "Лучшее значение показала модель случайного леса, что заметно на графике."
   ]
  },
  {
   "cell_type": "markdown",
   "metadata": {},
   "source": [
    "Мы выбрали случайный лес с параметром n_estimators = 60, попробуем повысить f1 меру за счёт изменения глубины леса."
   ]
  },
  {
   "cell_type": "code",
   "execution_count": 44,
   "metadata": {},
   "outputs": [
    {
     "name": "stdout",
     "output_type": "stream",
     "text": [
      "RandomForestClassifier, estimators = 1, accuracy = 0.7325; F1 = 0.5235975066785397\n",
      "RandomForestClassifier, estimators = 2, accuracy = 0.762; F1 = 0.5592592592592592\n",
      "RandomForestClassifier, estimators = 3, accuracy = 0.762; F1 = 0.5567970204841712\n",
      "RandomForestClassifier, estimators = 4, accuracy = 0.785; F1 = 0.580078125\n",
      "RandomForestClassifier, estimators = 5, accuracy = 0.788; F1 = 0.5834970530451865\n",
      "RandomForestClassifier, estimators = 6, accuracy = 0.8015; F1 = 0.5944841675178754\n",
      "RandomForestClassifier, estimators = 7, accuracy = 0.8105; F1 = 0.6031413612565445\n",
      "RandomForestClassifier, estimators = 8, accuracy = 0.812; F1 = 0.6008492569002124\n",
      "RandomForestClassifier, estimators = 9, accuracy = 0.8185; F1 = 0.5962180200222469\n",
      "RandomForestClassifier, estimators = 10, accuracy = 0.8275; F1 = 0.6039035591274398\n"
     ]
    }
   ],
   "source": [
    "for i in range(1, 11, 1):\n",
    "    rfc_model_balans = RandomForestClassifier(random_state=12345, n_estimators = 60, max_depth = i, class_weight = 'balanced')\n",
    "    rfc_model_balans.fit(features_upsampled, target_upsampled)\n",
    "    rfc_valid_predictions_balans = rfc_model_balans.predict(features_valid)\n",
    "    accuracy = accuracy_score(target_valid, rfc_valid_predictions_balans)\n",
    "    f1 = f1_score(target_valid, rfc_valid_predictions_balans)\n",
    "    print(f'RandomForestClassifier, estimators = {i}, accuracy = {accuracy}; F1 = {f1}')"
   ]
  },
  {
   "cell_type": "markdown",
   "metadata": {},
   "source": [
    "Для тестирования выберем модель случайного леса с глубиной равной 10."
   ]
  },
  {
   "cell_type": "markdown",
   "metadata": {},
   "source": [
    "**Вывод:**\n",
    "\n",
    "В ходе выполнения этого шага мы сбалансировали данные, заново обучили все модели и выяснили, что значение f1 увеличилось во всех случаях. Так теперь самый хороший результат показывает модель дерева решений с параметрами n_estimators = 60, max_depth = 10, то её будем проверять далее на тестовой выборке."
   ]
  },
  {
   "cell_type": "markdown",
   "metadata": {},
   "source": [
    "## Тестирование модели"
   ]
  },
  {
   "cell_type": "markdown",
   "metadata": {},
   "source": [
    "Мы обучили несколько различных моделей, выбрали из них наилучшую. Проверим её работу на тестовой выборке."
   ]
  },
  {
   "cell_type": "code",
   "execution_count": 45,
   "metadata": {},
   "outputs": [
    {
     "name": "stdout",
     "output_type": "stream",
     "text": [
      "RandomForestClassifier. n_estimators = 100; F1 = 0.6404371584699454\n"
     ]
    }
   ],
   "source": [
    "model = RandomForestClassifier(random_state=12345, n_estimators = 60, max_depth = 10, class_weight = 'balanced')\n",
    "model.fit(features_upsampled, target_upsampled)\n",
    "predictions = model.predict(features_test)\n",
    "\n",
    "print(f\"RandomForestClassifier. n_estimators = 60; F1 = {f1_score(target_test, predictions)}\")"
   ]
  },
  {
   "cell_type": "markdown",
   "metadata": {},
   "source": [
    "**Вывод:**\n",
    "\n",
    "Мы видим, что на тестовый выборке результат f1 несколько увелился и равен 0ю64, что соотвтетсвует требованиям проекта."
   ]
  },
  {
   "cell_type": "markdown",
   "metadata": {},
   "source": [
    "## Вывод"
   ]
  },
  {
   "cell_type": "markdown",
   "metadata": {},
   "source": [
    "Итак, в ходе выполнения проекта мы проверили три модели обучения: дерево решений, случайный лес и логистическую регрессию, из них выбрали ту модель, которая показала наилучший результат. Модель случайного леса после борьбы с дисбалансом с параметрами n_estimators = 60 max_depth = 10 показывала значение f1 = 0.60 при обучении. Логистическая регрессия показала самый низкий результат.\n",
    "\n",
    "В ходе тестирования модели результат f1 возрос до 0.64."
   ]
  }
 ],
 "metadata": {
  "ExecuteTimeLog": [
   {
    "duration": 1505,
    "start_time": "2022-06-20T19:01:36.841Z"
   },
   {
    "duration": 123,
    "start_time": "2022-06-20T19:01:38.348Z"
   },
   {
    "duration": 10,
    "start_time": "2022-06-20T19:01:38.595Z"
   },
   {
    "duration": 89,
    "start_time": "2022-06-20T19:02:37.376Z"
   },
   {
    "duration": 13,
    "start_time": "2022-06-20T19:02:37.995Z"
   },
   {
    "duration": 20,
    "start_time": "2022-06-20T19:02:38.597Z"
   },
   {
    "duration": 4,
    "start_time": "2022-06-20T19:02:39.718Z"
   },
   {
    "duration": 12,
    "start_time": "2022-06-20T19:02:43.284Z"
   },
   {
    "duration": 5,
    "start_time": "2022-06-20T19:08:46.260Z"
   },
   {
    "duration": 3,
    "start_time": "2022-06-20T19:08:46.882Z"
   },
   {
    "duration": 7,
    "start_time": "2022-06-20T19:08:52.450Z"
   },
   {
    "duration": 6,
    "start_time": "2022-06-20T19:09:18.156Z"
   },
   {
    "duration": 4,
    "start_time": "2022-06-20T19:11:10.574Z"
   },
   {
    "duration": 3,
    "start_time": "2022-06-20T19:15:03.242Z"
   },
   {
    "duration": 36,
    "start_time": "2022-06-20T19:15:03.697Z"
   },
   {
    "duration": 8,
    "start_time": "2022-06-20T19:15:53.290Z"
   },
   {
    "duration": 9,
    "start_time": "2022-06-20T19:21:45.483Z"
   },
   {
    "duration": 3,
    "start_time": "2022-06-20T19:21:52.053Z"
   },
   {
    "duration": 3,
    "start_time": "2022-06-20T19:22:15.435Z"
   },
   {
    "duration": 3,
    "start_time": "2022-06-20T19:22:38.811Z"
   },
   {
    "duration": 46,
    "start_time": "2022-06-20T19:23:19.582Z"
   },
   {
    "duration": 1701,
    "start_time": "2022-06-21T17:45:41.846Z"
   },
   {
    "duration": 192,
    "start_time": "2022-06-21T17:45:43.551Z"
   },
   {
    "duration": 21,
    "start_time": "2022-06-21T17:45:43.747Z"
   },
   {
    "duration": 27,
    "start_time": "2022-06-21T17:45:43.932Z"
   },
   {
    "duration": 5,
    "start_time": "2022-06-21T17:45:44.345Z"
   },
   {
    "duration": 5,
    "start_time": "2022-06-21T17:45:44.740Z"
   },
   {
    "duration": 3,
    "start_time": "2022-06-21T17:45:45.153Z"
   },
   {
    "duration": 9,
    "start_time": "2022-06-21T17:45:45.581Z"
   },
   {
    "duration": 5,
    "start_time": "2022-06-21T17:45:45.990Z"
   },
   {
    "duration": 4,
    "start_time": "2022-06-21T17:45:46.437Z"
   },
   {
    "duration": 30,
    "start_time": "2022-06-21T17:45:46.636Z"
   },
   {
    "duration": 8,
    "start_time": "2022-06-21T17:45:47.144Z"
   },
   {
    "duration": 4,
    "start_time": "2022-06-21T17:45:47.393Z"
   },
   {
    "duration": 171,
    "start_time": "2022-06-21T17:49:48.535Z"
   },
   {
    "duration": 22,
    "start_time": "2022-06-21T17:51:19.393Z"
   },
   {
    "duration": 33,
    "start_time": "2022-06-21T17:52:26.741Z"
   },
   {
    "duration": 9,
    "start_time": "2022-06-21T17:54:08.886Z"
   },
   {
    "duration": 10,
    "start_time": "2022-06-21T17:54:14.270Z"
   },
   {
    "duration": 5,
    "start_time": "2022-06-21T17:55:54.490Z"
   },
   {
    "duration": 5,
    "start_time": "2022-06-21T17:56:02.592Z"
   },
   {
    "duration": 3,
    "start_time": "2022-06-21T17:56:02.946Z"
   },
   {
    "duration": 7,
    "start_time": "2022-06-21T17:56:03.313Z"
   },
   {
    "duration": 5,
    "start_time": "2022-06-21T17:56:03.684Z"
   },
   {
    "duration": 3,
    "start_time": "2022-06-21T17:56:04.032Z"
   },
   {
    "duration": 25,
    "start_time": "2022-06-21T17:56:04.206Z"
   },
   {
    "duration": 4,
    "start_time": "2022-06-21T17:56:04.584Z"
   },
   {
    "duration": 4,
    "start_time": "2022-06-21T17:56:04.767Z"
   },
   {
    "duration": 21,
    "start_time": "2022-06-21T17:56:05.502Z"
   },
   {
    "duration": 4,
    "start_time": "2022-06-21T17:56:21.969Z"
   },
   {
    "duration": 6,
    "start_time": "2022-06-21T17:56:53.857Z"
   },
   {
    "duration": 6,
    "start_time": "2022-06-21T17:56:54.450Z"
   },
   {
    "duration": 3,
    "start_time": "2022-06-21T17:56:54.799Z"
   },
   {
    "duration": 11,
    "start_time": "2022-06-21T17:56:55.150Z"
   },
   {
    "duration": 7,
    "start_time": "2022-06-21T17:56:55.547Z"
   },
   {
    "duration": 4,
    "start_time": "2022-06-21T17:56:56.317Z"
   },
   {
    "duration": 28,
    "start_time": "2022-06-21T17:56:56.486Z"
   },
   {
    "duration": 5,
    "start_time": "2022-06-21T17:56:56.851Z"
   },
   {
    "duration": 4,
    "start_time": "2022-06-21T17:56:57.050Z"
   },
   {
    "duration": 31,
    "start_time": "2022-06-21T17:56:57.779Z"
   },
   {
    "duration": 24,
    "start_time": "2022-06-21T17:57:03.068Z"
   },
   {
    "duration": 18,
    "start_time": "2022-06-21T17:57:11.251Z"
   },
   {
    "duration": 10,
    "start_time": "2022-06-21T18:01:12.845Z"
   },
   {
    "duration": 14,
    "start_time": "2022-06-21T18:01:16.267Z"
   },
   {
    "duration": 73,
    "start_time": "2022-06-21T18:05:35.284Z"
   },
   {
    "duration": 1401,
    "start_time": "2022-06-21T18:07:33.953Z"
   },
   {
    "duration": 42,
    "start_time": "2022-06-21T18:07:35.356Z"
   },
   {
    "duration": 13,
    "start_time": "2022-06-21T18:07:35.400Z"
   },
   {
    "duration": 28,
    "start_time": "2022-06-21T18:07:37.405Z"
   },
   {
    "duration": 4,
    "start_time": "2022-06-21T18:07:39.802Z"
   },
   {
    "duration": 12,
    "start_time": "2022-06-21T18:07:40.683Z"
   },
   {
    "duration": 4,
    "start_time": "2022-06-21T18:07:43.302Z"
   },
   {
    "duration": 3,
    "start_time": "2022-06-21T18:07:43.695Z"
   },
   {
    "duration": 7,
    "start_time": "2022-06-21T18:07:44.051Z"
   },
   {
    "duration": 6,
    "start_time": "2022-06-21T18:07:44.400Z"
   },
   {
    "duration": 88,
    "start_time": "2022-06-21T18:07:45.024Z"
   },
   {
    "duration": 3,
    "start_time": "2022-06-21T18:07:50.666Z"
   },
   {
    "duration": 24,
    "start_time": "2022-06-21T18:07:51.570Z"
   },
   {
    "duration": 4,
    "start_time": "2022-06-21T18:07:53.512Z"
   },
   {
    "duration": 4,
    "start_time": "2022-06-21T18:07:54.045Z"
   },
   {
    "duration": 108,
    "start_time": "2022-06-21T18:08:00.411Z"
   },
   {
    "duration": 185,
    "start_time": "2022-06-21T18:09:30.517Z"
   },
   {
    "duration": 1304,
    "start_time": "2022-06-21T18:09:38.233Z"
   },
   {
    "duration": 48,
    "start_time": "2022-06-21T18:09:39.538Z"
   },
   {
    "duration": 12,
    "start_time": "2022-06-21T18:09:39.588Z"
   },
   {
    "duration": 24,
    "start_time": "2022-06-21T18:09:40.629Z"
   },
   {
    "duration": 4,
    "start_time": "2022-06-21T18:09:42.228Z"
   },
   {
    "duration": 15,
    "start_time": "2022-06-21T18:09:42.816Z"
   },
   {
    "duration": 195,
    "start_time": "2022-06-21T18:09:44.567Z"
   },
   {
    "duration": 66,
    "start_time": "2022-06-21T18:09:47.483Z"
   },
   {
    "duration": 3,
    "start_time": "2022-06-21T18:09:47.808Z"
   },
   {
    "duration": 56,
    "start_time": "2022-06-21T18:09:48.136Z"
   },
   {
    "duration": 27,
    "start_time": "2022-06-21T18:09:48.485Z"
   },
   {
    "duration": 3,
    "start_time": "2022-06-21T18:09:48.845Z"
   },
   {
    "duration": 25,
    "start_time": "2022-06-21T18:09:49.256Z"
   },
   {
    "duration": 3,
    "start_time": "2022-06-21T18:09:51.363Z"
   },
   {
    "duration": 3,
    "start_time": "2022-06-21T18:09:51.787Z"
   },
   {
    "duration": 1314,
    "start_time": "2022-06-21T18:09:53.649Z"
   },
   {
    "duration": 38304,
    "start_time": "2022-06-21T18:10:43.398Z"
   },
   {
    "duration": 2025,
    "start_time": "2022-06-21T18:11:21.704Z"
   },
   {
    "duration": 3399,
    "start_time": "2022-06-21T18:11:23.731Z"
   },
   {
    "duration": 5415,
    "start_time": "2022-06-21T18:14:14.165Z"
   },
   {
    "duration": 3064,
    "start_time": "2022-06-21T18:14:23.796Z"
   },
   {
    "duration": 84612,
    "start_time": "2022-06-21T18:15:17.185Z"
   },
   {
    "duration": 40054,
    "start_time": "2022-06-21T18:16:52.691Z"
   },
   {
    "duration": 350,
    "start_time": "2022-06-21T18:33:46.059Z"
   },
   {
    "duration": 3413,
    "start_time": "2022-06-21T18:34:12.692Z"
   },
   {
    "duration": 2101,
    "start_time": "2022-06-21T18:35:56.951Z"
   },
   {
    "duration": 41579,
    "start_time": "2022-06-21T18:36:03.695Z"
   },
   {
    "duration": 1765,
    "start_time": "2022-06-21T18:36:45.276Z"
   },
   {
    "duration": 234,
    "start_time": "2022-06-21T18:48:06.012Z"
   },
   {
    "duration": 8578,
    "start_time": "2022-06-21T18:52:15.899Z"
   },
   {
    "duration": 13,
    "start_time": "2022-06-21T18:53:06.060Z"
   },
   {
    "duration": 8351,
    "start_time": "2022-06-21T18:53:22.961Z"
   },
   {
    "duration": 144687,
    "start_time": "2022-06-21T18:55:06.304Z"
   },
   {
    "duration": 8611,
    "start_time": "2022-06-21T18:58:06.007Z"
   },
   {
    "duration": 147450,
    "start_time": "2022-06-21T18:58:14.620Z"
   },
   {
    "duration": 1077,
    "start_time": "2022-06-21T19:00:42.072Z"
   },
   {
    "duration": 1082,
    "start_time": "2022-06-21T19:03:08.585Z"
   },
   {
    "duration": 376,
    "start_time": "2022-06-21T19:09:15.997Z"
   },
   {
    "duration": 364,
    "start_time": "2022-06-21T19:09:48.596Z"
   },
   {
    "duration": 341,
    "start_time": "2022-06-21T19:10:13.589Z"
   },
   {
    "duration": 9,
    "start_time": "2022-06-21T19:18:15.607Z"
   },
   {
    "duration": 46,
    "start_time": "2022-06-21T19:19:01.923Z"
   },
   {
    "duration": 49,
    "start_time": "2022-06-21T19:19:16.727Z"
   },
   {
    "duration": 4,
    "start_time": "2022-06-21T19:19:50.771Z"
   },
   {
    "duration": 50,
    "start_time": "2022-06-21T19:19:58.755Z"
   },
   {
    "duration": 46,
    "start_time": "2022-06-21T19:20:11.802Z"
   },
   {
    "duration": 4,
    "start_time": "2022-06-21T19:20:24.154Z"
   },
   {
    "duration": 45,
    "start_time": "2022-06-21T19:20:31.601Z"
   },
   {
    "duration": 165,
    "start_time": "2022-06-21T19:23:00.698Z"
   },
   {
    "duration": 163,
    "start_time": "2022-06-21T19:23:24.256Z"
   },
   {
    "duration": 41,
    "start_time": "2022-06-21T19:25:02.032Z"
   },
   {
    "duration": 6,
    "start_time": "2022-06-21T19:27:33.226Z"
   },
   {
    "duration": 44,
    "start_time": "2022-06-21T19:28:40.048Z"
   },
   {
    "duration": 163,
    "start_time": "2022-06-21T19:29:41.307Z"
   },
   {
    "duration": 41,
    "start_time": "2022-06-21T19:30:32.499Z"
   },
   {
    "duration": 177,
    "start_time": "2022-06-21T19:32:52.701Z"
   },
   {
    "duration": 182,
    "start_time": "2022-06-21T19:34:39.330Z"
   },
   {
    "duration": 91,
    "start_time": "2022-06-21T19:58:59.911Z"
   },
   {
    "duration": 119,
    "start_time": "2022-06-21T19:59:23.250Z"
   },
   {
    "duration": 2672,
    "start_time": "2022-06-21T19:59:25.423Z"
   },
   {
    "duration": 43,
    "start_time": "2022-06-21T20:00:09.166Z"
   },
   {
    "duration": 36700,
    "start_time": "2022-06-21T20:00:16.330Z"
   },
   {
    "duration": 106,
    "start_time": "2022-06-21T20:00:53.032Z"
   },
   {
    "duration": 1475,
    "start_time": "2022-06-22T03:30:58.615Z"
   },
   {
    "duration": 145,
    "start_time": "2022-06-22T03:31:01.478Z"
   },
   {
    "duration": 12,
    "start_time": "2022-06-22T03:31:03.061Z"
   },
   {
    "duration": 21,
    "start_time": "2022-06-22T03:31:12.924Z"
   },
   {
    "duration": 4,
    "start_time": "2022-06-22T03:31:15.857Z"
   },
   {
    "duration": 12,
    "start_time": "2022-06-22T03:31:25.865Z"
   },
   {
    "duration": 179,
    "start_time": "2022-06-22T03:31:39.011Z"
   },
   {
    "duration": 22,
    "start_time": "2022-06-22T03:31:57.834Z"
   },
   {
    "duration": 64,
    "start_time": "2022-06-22T03:32:50.799Z"
   },
   {
    "duration": 2,
    "start_time": "2022-06-22T03:32:51.872Z"
   },
   {
    "duration": 56,
    "start_time": "2022-06-22T03:33:06.127Z"
   },
   {
    "duration": 25,
    "start_time": "2022-06-22T03:33:08.729Z"
   },
   {
    "duration": 2,
    "start_time": "2022-06-22T03:33:44.789Z"
   },
   {
    "duration": 26,
    "start_time": "2022-06-22T03:33:45.171Z"
   },
   {
    "duration": 3,
    "start_time": "2022-06-22T03:34:22.806Z"
   },
   {
    "duration": 3,
    "start_time": "2022-06-22T03:34:23.233Z"
   },
   {
    "duration": 2996,
    "start_time": "2022-06-22T03:35:41.572Z"
   },
   {
    "duration": 1511,
    "start_time": "2022-06-22T03:36:44.939Z"
   },
   {
    "duration": 4,
    "start_time": "2022-06-22T03:37:03.171Z"
   },
   {
    "duration": 4,
    "start_time": "2022-06-22T03:37:09.316Z"
   },
   {
    "duration": 5,
    "start_time": "2022-06-22T03:37:16.001Z"
   },
   {
    "duration": 100,
    "start_time": "2022-06-22T03:42:34.514Z"
   },
   {
    "duration": 153,
    "start_time": "2022-06-22T03:42:38.344Z"
   },
   {
    "duration": 7302,
    "start_time": "2022-06-22T03:42:40.886Z"
   },
   {
    "duration": 42,
    "start_time": "2022-06-22T03:42:55.076Z"
   },
   {
    "duration": 125049,
    "start_time": "2022-06-22T03:43:11.783Z"
   },
   {
    "duration": 151,
    "start_time": "2022-06-22T03:45:16.833Z"
   },
   {
    "duration": 10,
    "start_time": "2022-06-22T03:45:45.158Z"
   },
   {
    "duration": 958,
    "start_time": "2022-06-22T03:45:49.081Z"
   },
   {
    "duration": 79,
    "start_time": "2022-06-22T03:45:50.349Z"
   },
   {
    "duration": 102,
    "start_time": "2022-06-22T18:23:19.345Z"
   },
   {
    "duration": 1614,
    "start_time": "2022-06-22T18:23:23.497Z"
   },
   {
    "duration": 88,
    "start_time": "2022-06-22T18:23:25.113Z"
   },
   {
    "duration": 19,
    "start_time": "2022-06-22T18:23:25.204Z"
   },
   {
    "duration": 57,
    "start_time": "2022-06-22T18:23:25.225Z"
   },
   {
    "duration": 6,
    "start_time": "2022-06-22T18:23:25.441Z"
   },
   {
    "duration": 15,
    "start_time": "2022-06-22T18:23:26.123Z"
   },
   {
    "duration": 81,
    "start_time": "2022-06-22T18:23:26.807Z"
   },
   {
    "duration": 192,
    "start_time": "2022-06-22T18:23:27.304Z"
   },
   {
    "duration": 68,
    "start_time": "2022-06-22T18:23:28.401Z"
   },
   {
    "duration": 16,
    "start_time": "2022-06-22T18:23:28.837Z"
   },
   {
    "duration": 67,
    "start_time": "2022-06-22T18:23:29.242Z"
   },
   {
    "duration": 29,
    "start_time": "2022-06-22T18:23:29.689Z"
   },
   {
    "duration": 9,
    "start_time": "2022-06-22T18:23:33.861Z"
   },
   {
    "duration": 26,
    "start_time": "2022-06-22T18:23:34.283Z"
   },
   {
    "duration": 40,
    "start_time": "2022-06-22T18:23:52.113Z"
   },
   {
    "duration": 24,
    "start_time": "2022-06-22T18:23:58.094Z"
   },
   {
    "duration": 32,
    "start_time": "2022-06-22T18:24:45.778Z"
   },
   {
    "duration": 35,
    "start_time": "2022-06-22T18:24:53.525Z"
   },
   {
    "duration": 38,
    "start_time": "2022-06-22T18:25:40.815Z"
   },
   {
    "duration": 27,
    "start_time": "2022-06-22T18:27:41.490Z"
   },
   {
    "duration": 4,
    "start_time": "2022-06-22T18:27:43.410Z"
   },
   {
    "duration": 4,
    "start_time": "2022-06-22T18:27:43.863Z"
   },
   {
    "duration": 4,
    "start_time": "2022-06-22T18:32:37.559Z"
   },
   {
    "duration": 193,
    "start_time": "2022-06-22T18:32:54.554Z"
   },
   {
    "duration": 4,
    "start_time": "2022-06-22T18:32:57.703Z"
   },
   {
    "duration": 1374,
    "start_time": "2022-06-22T18:34:36.286Z"
   },
   {
    "duration": 41,
    "start_time": "2022-06-22T18:34:37.662Z"
   },
   {
    "duration": 15,
    "start_time": "2022-06-22T18:34:37.705Z"
   },
   {
    "duration": 48,
    "start_time": "2022-06-22T18:34:37.724Z"
   },
   {
    "duration": 4,
    "start_time": "2022-06-22T18:34:37.944Z"
   },
   {
    "duration": 25,
    "start_time": "2022-06-22T18:34:38.514Z"
   },
   {
    "duration": 106,
    "start_time": "2022-06-22T18:34:40.842Z"
   },
   {
    "duration": 5,
    "start_time": "2022-06-22T18:34:54.206Z"
   },
   {
    "duration": 23,
    "start_time": "2022-06-22T18:35:05.722Z"
   },
   {
    "duration": 10,
    "start_time": "2022-06-22T18:35:20.143Z"
   },
   {
    "duration": 6,
    "start_time": "2022-06-22T18:35:22.839Z"
   },
   {
    "duration": 3,
    "start_time": "2022-06-22T18:35:23.173Z"
   },
   {
    "duration": 8,
    "start_time": "2022-06-22T18:35:23.503Z"
   },
   {
    "duration": 6,
    "start_time": "2022-06-22T18:35:23.849Z"
   },
   {
    "duration": 3,
    "start_time": "2022-06-22T18:35:24.405Z"
   },
   {
    "duration": 33,
    "start_time": "2022-06-22T18:35:24.614Z"
   },
   {
    "duration": 3,
    "start_time": "2022-06-22T18:35:26.045Z"
   },
   {
    "duration": 4,
    "start_time": "2022-06-22T18:35:26.291Z"
   },
   {
    "duration": 11,
    "start_time": "2022-06-22T18:35:31.530Z"
   },
   {
    "duration": 13,
    "start_time": "2022-06-22T18:35:34.344Z"
   },
   {
    "duration": 6,
    "start_time": "2022-06-22T18:35:36.743Z"
   },
   {
    "duration": 5,
    "start_time": "2022-06-22T18:35:43.187Z"
   },
   {
    "duration": 5,
    "start_time": "2022-06-22T18:37:53.509Z"
   },
   {
    "duration": 5,
    "start_time": "2022-06-22T18:42:38.787Z"
   },
   {
    "duration": 812,
    "start_time": "2022-06-22T18:42:55.824Z"
   },
   {
    "duration": 5,
    "start_time": "2022-06-22T18:43:26.284Z"
   },
   {
    "duration": 779,
    "start_time": "2022-06-22T18:43:27.259Z"
   },
   {
    "duration": 5,
    "start_time": "2022-06-22T18:50:49.788Z"
   },
   {
    "duration": 5,
    "start_time": "2022-06-22T18:51:13.587Z"
   },
   {
    "duration": 6,
    "start_time": "2022-06-22T18:58:04.674Z"
   },
   {
    "duration": 45,
    "start_time": "2022-06-22T19:00:27.845Z"
   },
   {
    "duration": 16,
    "start_time": "2022-06-22T19:03:34.729Z"
   },
   {
    "duration": 718,
    "start_time": "2022-06-22T19:06:19.457Z"
   },
   {
    "duration": 10,
    "start_time": "2022-06-22T19:06:22.271Z"
   },
   {
    "duration": 11,
    "start_time": "2022-06-22T19:07:34.645Z"
   },
   {
    "duration": 72,
    "start_time": "2022-06-22T19:09:38.170Z"
   },
   {
    "duration": 12,
    "start_time": "2022-06-22T19:10:13.755Z"
   },
   {
    "duration": 5,
    "start_time": "2022-06-22T19:18:18.219Z"
   },
   {
    "duration": 1334,
    "start_time": "2022-06-22T19:18:33.080Z"
   },
   {
    "duration": 46,
    "start_time": "2022-06-22T19:18:34.416Z"
   },
   {
    "duration": 13,
    "start_time": "2022-06-22T19:18:34.464Z"
   },
   {
    "duration": 36,
    "start_time": "2022-06-22T19:18:34.479Z"
   },
   {
    "duration": 4,
    "start_time": "2022-06-22T19:18:34.686Z"
   },
   {
    "duration": 13,
    "start_time": "2022-06-22T19:18:35.241Z"
   },
   {
    "duration": 5,
    "start_time": "2022-06-22T19:18:35.838Z"
   },
   {
    "duration": 12,
    "start_time": "2022-06-22T19:18:36.210Z"
   },
   {
    "duration": 5,
    "start_time": "2022-06-22T19:18:37.173Z"
   },
   {
    "duration": 3,
    "start_time": "2022-06-22T19:18:37.582Z"
   },
   {
    "duration": 6,
    "start_time": "2022-06-22T19:18:37.969Z"
   },
   {
    "duration": 5,
    "start_time": "2022-06-22T19:18:38.354Z"
   },
   {
    "duration": 4,
    "start_time": "2022-06-22T19:18:44.880Z"
   },
   {
    "duration": 3,
    "start_time": "2022-06-22T19:18:45.242Z"
   },
   {
    "duration": 8,
    "start_time": "2022-06-22T19:18:45.770Z"
   },
   {
    "duration": 5,
    "start_time": "2022-06-22T19:18:46.176Z"
   },
   {
    "duration": 3,
    "start_time": "2022-06-22T19:18:46.997Z"
   },
   {
    "duration": 29,
    "start_time": "2022-06-22T19:18:47.182Z"
   },
   {
    "duration": 3,
    "start_time": "2022-06-22T19:18:49.445Z"
   },
   {
    "duration": 3,
    "start_time": "2022-06-22T19:18:49.619Z"
   },
   {
    "duration": 176,
    "start_time": "2022-06-22T19:19:11.384Z"
   },
   {
    "duration": 4109,
    "start_time": "2022-06-22T19:19:12.829Z"
   },
   {
    "duration": 293,
    "start_time": "2022-06-22T19:19:16.942Z"
   },
   {
    "duration": 13,
    "start_time": "2022-06-22T19:19:17.238Z"
   },
   {
    "duration": 4,
    "start_time": "2022-06-22T19:19:19.770Z"
   },
   {
    "duration": 825,
    "start_time": "2022-06-22T19:19:20.013Z"
   },
   {
    "duration": 89,
    "start_time": "2022-06-22T19:19:20.840Z"
   },
   {
    "duration": 5,
    "start_time": "2022-06-22T19:19:20.992Z"
   },
   {
    "duration": 36,
    "start_time": "2022-06-22T19:19:21.378Z"
   },
   {
    "duration": 11,
    "start_time": "2022-06-22T19:19:21.781Z"
   },
   {
    "duration": 674,
    "start_time": "2022-06-22T19:19:22.173Z"
   },
   {
    "duration": 10,
    "start_time": "2022-06-22T19:19:22.848Z"
   },
   {
    "duration": 56,
    "start_time": "2022-06-22T19:19:22.975Z"
   },
   {
    "duration": 13,
    "start_time": "2022-06-22T19:19:23.394Z"
   },
   {
    "duration": 19,
    "start_time": "2022-06-22T19:19:24.912Z"
   },
   {
    "duration": 104,
    "start_time": "2022-06-22T19:19:25.497Z"
   },
   {
    "duration": 6,
    "start_time": "2022-06-22T19:19:26.939Z"
   },
   {
    "duration": 9,
    "start_time": "2022-06-22T19:20:32.321Z"
   },
   {
    "duration": 13,
    "start_time": "2022-06-22T19:21:16.643Z"
   },
   {
    "duration": 6,
    "start_time": "2022-06-22T19:21:23.291Z"
   },
   {
    "duration": 268,
    "start_time": "2022-06-22T19:26:39.555Z"
   },
   {
    "duration": 10,
    "start_time": "2022-06-22T19:26:56.933Z"
   },
   {
    "duration": 5602,
    "start_time": "2022-06-22T19:26:58.805Z"
   },
   {
    "duration": 11437,
    "start_time": "2022-06-22T19:27:42.627Z"
   },
   {
    "duration": 5279,
    "start_time": "2022-06-22T19:28:42.968Z"
   },
   {
    "duration": 61,
    "start_time": "2022-06-22T19:29:08.979Z"
   },
   {
    "duration": 30,
    "start_time": "2022-06-22T19:29:12.893Z"
   },
   {
    "duration": 13,
    "start_time": "2022-06-22T19:29:16.721Z"
   },
   {
    "duration": 200,
    "start_time": "2022-06-22T19:29:17.719Z"
   },
   {
    "duration": 999,
    "start_time": "2022-06-22T19:33:15.716Z"
   },
   {
    "duration": 1990,
    "start_time": "2022-06-23T20:01:16.340Z"
   },
   {
    "duration": 117,
    "start_time": "2022-06-23T20:01:18.332Z"
   },
   {
    "duration": 33,
    "start_time": "2022-06-23T20:01:18.450Z"
   },
   {
    "duration": 61,
    "start_time": "2022-06-23T20:01:18.485Z"
   },
   {
    "duration": 17,
    "start_time": "2022-06-23T20:01:18.548Z"
   },
   {
    "duration": 19,
    "start_time": "2022-06-23T20:01:18.669Z"
   },
   {
    "duration": 10,
    "start_time": "2022-06-23T20:01:19.277Z"
   },
   {
    "duration": 15,
    "start_time": "2022-06-23T20:01:19.677Z"
   },
   {
    "duration": 4,
    "start_time": "2022-06-23T20:01:20.937Z"
   },
   {
    "duration": 4,
    "start_time": "2022-06-23T20:01:21.387Z"
   },
   {
    "duration": 6,
    "start_time": "2022-06-23T20:01:21.836Z"
   },
   {
    "duration": 6,
    "start_time": "2022-06-23T20:01:22.242Z"
   },
   {
    "duration": 3,
    "start_time": "2022-06-23T20:01:22.908Z"
   },
   {
    "duration": 35,
    "start_time": "2022-06-23T20:01:23.114Z"
   },
   {
    "duration": 8,
    "start_time": "2022-06-23T20:01:23.999Z"
   },
   {
    "duration": 3,
    "start_time": "2022-06-23T20:01:24.208Z"
   },
   {
    "duration": 236,
    "start_time": "2022-06-23T20:01:27.147Z"
   },
   {
    "duration": 4614,
    "start_time": "2022-06-23T20:01:28.011Z"
   },
   {
    "duration": 680,
    "start_time": "2022-06-23T20:01:32.629Z"
   },
   {
    "duration": 20,
    "start_time": "2022-06-23T20:01:33.358Z"
   },
   {
    "duration": 129,
    "start_time": "2022-06-23T20:01:33.388Z"
   },
   {
    "duration": 908,
    "start_time": "2022-06-23T20:01:33.518Z"
   },
   {
    "duration": 5,
    "start_time": "2022-06-23T20:01:34.452Z"
   },
   {
    "duration": 154,
    "start_time": "2022-06-23T20:01:34.459Z"
   },
   {
    "duration": 80,
    "start_time": "2022-06-23T20:01:34.617Z"
   },
   {
    "duration": 36,
    "start_time": "2022-06-23T20:01:34.699Z"
   },
   {
    "duration": 853,
    "start_time": "2022-06-23T20:01:34.737Z"
   },
   {
    "duration": 23,
    "start_time": "2022-06-23T20:01:35.592Z"
   },
   {
    "duration": 36,
    "start_time": "2022-06-23T20:01:35.617Z"
   },
   {
    "duration": 10,
    "start_time": "2022-06-23T20:01:36.609Z"
   },
   {
    "duration": 22,
    "start_time": "2022-06-23T20:01:37.637Z"
   },
   {
    "duration": 12,
    "start_time": "2022-06-23T20:01:46.335Z"
   },
   {
    "duration": 1413,
    "start_time": "2022-06-23T20:19:29.413Z"
   },
   {
    "duration": 69,
    "start_time": "2022-06-23T20:19:30.828Z"
   },
   {
    "duration": 14,
    "start_time": "2022-06-23T20:19:30.899Z"
   },
   {
    "duration": 34,
    "start_time": "2022-06-23T20:19:31.228Z"
   },
   {
    "duration": 5,
    "start_time": "2022-06-23T20:19:31.683Z"
   },
   {
    "duration": 13,
    "start_time": "2022-06-23T20:19:32.219Z"
   },
   {
    "duration": 6,
    "start_time": "2022-06-23T20:19:32.807Z"
   },
   {
    "duration": 24,
    "start_time": "2022-06-23T20:19:32.881Z"
   },
   {
    "duration": 6,
    "start_time": "2022-06-23T20:19:33.085Z"
   },
   {
    "duration": 3,
    "start_time": "2022-06-23T20:19:33.129Z"
   },
   {
    "duration": 6,
    "start_time": "2022-06-23T20:19:33.203Z"
   },
   {
    "duration": 9,
    "start_time": "2022-06-23T20:19:33.254Z"
   },
   {
    "duration": 6,
    "start_time": "2022-06-23T20:19:33.382Z"
   },
   {
    "duration": 44,
    "start_time": "2022-06-23T20:19:33.445Z"
   },
   {
    "duration": 8,
    "start_time": "2022-06-23T20:19:33.567Z"
   },
   {
    "duration": 17,
    "start_time": "2022-06-23T20:19:33.590Z"
   },
   {
    "duration": 203,
    "start_time": "2022-06-23T20:19:33.810Z"
   },
   {
    "duration": 4198,
    "start_time": "2022-06-23T20:19:34.015Z"
   },
   {
    "duration": 737,
    "start_time": "2022-06-23T20:19:38.215Z"
   },
   {
    "duration": 11,
    "start_time": "2022-06-23T20:19:38.953Z"
   },
   {
    "duration": 6,
    "start_time": "2022-06-23T20:19:39.722Z"
   },
   {
    "duration": 957,
    "start_time": "2022-06-23T20:19:40.009Z"
   },
   {
    "duration": 6,
    "start_time": "2022-06-23T20:19:43.028Z"
   },
   {
    "duration": 6,
    "start_time": "2022-06-23T20:19:43.421Z"
   },
   {
    "duration": 37,
    "start_time": "2022-06-23T20:19:43.725Z"
   },
   {
    "duration": 12,
    "start_time": "2022-06-23T20:19:46.168Z"
   },
   {
    "duration": 820,
    "start_time": "2022-06-23T20:19:46.511Z"
   },
   {
    "duration": 10,
    "start_time": "2022-06-23T20:19:47.333Z"
   },
   {
    "duration": 23,
    "start_time": "2022-06-23T20:19:49.631Z"
   },
   {
    "duration": 19,
    "start_time": "2022-06-23T20:19:50.239Z"
   },
   {
    "duration": 11,
    "start_time": "2022-06-23T20:19:53.531Z"
   },
   {
    "duration": 12,
    "start_time": "2022-06-23T20:19:56.806Z"
   },
   {
    "duration": 19,
    "start_time": "2022-06-23T20:19:59.080Z"
   },
   {
    "duration": 265,
    "start_time": "2022-06-23T20:20:03.321Z"
   },
   {
    "duration": 9,
    "start_time": "2022-06-23T20:20:26.607Z"
   },
   {
    "duration": 6206,
    "start_time": "2022-06-23T20:20:27.409Z"
   },
   {
    "duration": 80,
    "start_time": "2022-06-23T20:21:30.964Z"
   },
   {
    "duration": 172,
    "start_time": "2022-06-23T20:21:31.324Z"
   },
   {
    "duration": 42,
    "start_time": "2022-06-23T20:21:31.917Z"
   },
   {
    "duration": 209,
    "start_time": "2022-06-23T20:21:32.279Z"
   },
   {
    "duration": 1203,
    "start_time": "2022-06-23T20:21:35.587Z"
   },
   {
    "duration": 5,
    "start_time": "2022-06-23T20:22:16.854Z"
   },
   {
    "duration": 23,
    "start_time": "2022-06-23T20:22:18.237Z"
   },
   {
    "duration": 1532,
    "start_time": "2022-06-23T20:22:48.182Z"
   },
   {
    "duration": 62,
    "start_time": "2022-06-23T20:22:50.710Z"
   },
   {
    "duration": 23,
    "start_time": "2022-06-23T20:22:51.080Z"
   },
   {
    "duration": 36,
    "start_time": "2022-06-23T20:22:51.614Z"
   },
   {
    "duration": 4,
    "start_time": "2022-06-23T20:22:51.999Z"
   },
   {
    "duration": 13,
    "start_time": "2022-06-23T20:22:52.596Z"
   },
   {
    "duration": 7,
    "start_time": "2022-06-23T20:22:53.182Z"
   },
   {
    "duration": 14,
    "start_time": "2022-06-23T20:22:53.593Z"
   },
   {
    "duration": 6,
    "start_time": "2022-06-23T20:22:54.802Z"
   },
   {
    "duration": 7,
    "start_time": "2022-06-23T20:22:55.182Z"
   },
   {
    "duration": 7,
    "start_time": "2022-06-23T20:22:55.612Z"
   },
   {
    "duration": 7,
    "start_time": "2022-06-23T20:22:56.028Z"
   },
   {
    "duration": 3,
    "start_time": "2022-06-23T20:22:56.800Z"
   },
   {
    "duration": 42,
    "start_time": "2022-06-23T20:22:57.012Z"
   },
   {
    "duration": 5,
    "start_time": "2022-06-23T20:22:57.877Z"
   },
   {
    "duration": 4,
    "start_time": "2022-06-23T20:22:58.038Z"
   },
   {
    "duration": 232,
    "start_time": "2022-06-23T20:22:59.632Z"
   },
   {
    "duration": 4648,
    "start_time": "2022-06-23T20:23:00.243Z"
   },
   {
    "duration": 369,
    "start_time": "2022-06-23T20:23:04.898Z"
   },
   {
    "duration": 84,
    "start_time": "2022-06-23T20:23:05.275Z"
   },
   {
    "duration": 32,
    "start_time": "2022-06-23T20:23:05.364Z"
   },
   {
    "duration": 867,
    "start_time": "2022-06-23T20:23:05.398Z"
   },
   {
    "duration": 6,
    "start_time": "2022-06-23T20:23:06.267Z"
   },
   {
    "duration": 125,
    "start_time": "2022-06-23T20:23:06.274Z"
   },
   {
    "duration": 57,
    "start_time": "2022-06-23T20:23:06.401Z"
   },
   {
    "duration": 19,
    "start_time": "2022-06-23T20:23:06.461Z"
   },
   {
    "duration": 903,
    "start_time": "2022-06-23T20:23:06.485Z"
   },
   {
    "duration": 17,
    "start_time": "2022-06-23T20:23:07.389Z"
   },
   {
    "duration": 82,
    "start_time": "2022-06-23T20:23:07.416Z"
   },
   {
    "duration": 39,
    "start_time": "2022-06-23T20:23:07.613Z"
   },
   {
    "duration": 5,
    "start_time": "2022-06-23T20:23:08.233Z"
   },
   {
    "duration": 14,
    "start_time": "2022-06-23T20:23:08.729Z"
   },
   {
    "duration": 288,
    "start_time": "2022-06-23T20:23:09.131Z"
   },
   {
    "duration": 12,
    "start_time": "2022-06-23T20:23:10.242Z"
   },
   {
    "duration": 7136,
    "start_time": "2022-06-23T20:23:10.729Z"
   },
   {
    "duration": 78,
    "start_time": "2022-06-23T20:23:17.868Z"
   },
   {
    "duration": 126,
    "start_time": "2022-06-23T20:23:17.949Z"
   },
   {
    "duration": 132,
    "start_time": "2022-06-23T20:23:18.095Z"
   },
   {
    "duration": 307,
    "start_time": "2022-06-23T20:23:18.277Z"
   },
   {
    "duration": 12,
    "start_time": "2022-06-23T20:32:07.128Z"
   },
   {
    "duration": 1836,
    "start_time": "2022-06-24T18:19:35.284Z"
   },
   {
    "duration": 93,
    "start_time": "2022-06-24T18:19:37.122Z"
   },
   {
    "duration": 39,
    "start_time": "2022-06-24T18:19:37.217Z"
   },
   {
    "duration": 51,
    "start_time": "2022-06-24T18:19:37.262Z"
   },
   {
    "duration": 4,
    "start_time": "2022-06-24T18:19:37.314Z"
   },
   {
    "duration": 14,
    "start_time": "2022-06-24T18:19:37.407Z"
   },
   {
    "duration": 7,
    "start_time": "2022-06-24T18:19:37.992Z"
   },
   {
    "duration": 12,
    "start_time": "2022-06-24T18:19:38.368Z"
   },
   {
    "duration": 6,
    "start_time": "2022-06-24T18:19:39.519Z"
   },
   {
    "duration": 3,
    "start_time": "2022-06-24T18:19:39.878Z"
   },
   {
    "duration": 8,
    "start_time": "2022-06-24T18:19:40.257Z"
   },
   {
    "duration": 12,
    "start_time": "2022-06-24T18:19:40.646Z"
   },
   {
    "duration": 3,
    "start_time": "2022-06-24T18:19:41.211Z"
   },
   {
    "duration": 46,
    "start_time": "2022-06-24T18:19:41.400Z"
   },
   {
    "duration": 3,
    "start_time": "2022-06-24T18:19:42.561Z"
   },
   {
    "duration": 7,
    "start_time": "2022-06-24T18:19:42.756Z"
   },
   {
    "duration": 193,
    "start_time": "2022-06-24T18:19:45.701Z"
   },
   {
    "duration": 4212,
    "start_time": "2022-06-24T18:19:45.896Z"
   },
   {
    "duration": 1042,
    "start_time": "2022-06-24T18:19:50.110Z"
   },
   {
    "duration": 71,
    "start_time": "2022-06-24T18:19:51.159Z"
   },
   {
    "duration": 31,
    "start_time": "2022-06-24T18:19:51.233Z"
   },
   {
    "duration": 1066,
    "start_time": "2022-06-24T18:19:51.267Z"
   },
   {
    "duration": 7,
    "start_time": "2022-06-24T18:19:53.357Z"
   },
   {
    "duration": 8,
    "start_time": "2022-06-24T18:19:53.755Z"
   },
   {
    "duration": 59,
    "start_time": "2022-06-24T18:19:55.103Z"
   },
   {
    "duration": 50,
    "start_time": "2022-06-24T18:19:57.515Z"
   },
   {
    "duration": 761,
    "start_time": "2022-06-24T18:19:59.259Z"
   },
   {
    "duration": 21,
    "start_time": "2022-06-24T18:20:00.022Z"
   },
   {
    "duration": 103,
    "start_time": "2022-06-24T18:20:00.049Z"
   },
   {
    "duration": 14,
    "start_time": "2022-06-24T18:20:01.567Z"
   },
   {
    "duration": 20,
    "start_time": "2022-06-24T18:20:03.220Z"
   },
   {
    "duration": 6,
    "start_time": "2022-06-24T18:20:06.607Z"
   },
   {
    "duration": 13,
    "start_time": "2022-06-24T18:20:08.576Z"
   },
   {
    "duration": 143,
    "start_time": "2022-06-24T18:21:52.581Z"
   },
   {
    "duration": 1864,
    "start_time": "2022-06-24T18:23:08.860Z"
   },
   {
    "duration": 62,
    "start_time": "2022-06-24T18:23:42.169Z"
   },
   {
    "duration": 9,
    "start_time": "2022-06-24T18:33:48.983Z"
   },
   {
    "duration": 2,
    "start_time": "2022-06-24T18:34:02.716Z"
   },
   {
    "duration": 41,
    "start_time": "2022-06-24T18:34:02.925Z"
   },
   {
    "duration": 3,
    "start_time": "2022-06-24T18:34:03.604Z"
   },
   {
    "duration": 4,
    "start_time": "2022-06-24T18:34:03.813Z"
   },
   {
    "duration": 195,
    "start_time": "2022-06-24T18:34:05.021Z"
   },
   {
    "duration": 4466,
    "start_time": "2022-06-24T18:34:05.547Z"
   },
   {
    "duration": 741,
    "start_time": "2022-06-24T18:34:10.014Z"
   },
   {
    "duration": 74,
    "start_time": "2022-06-24T18:34:10.757Z"
   },
   {
    "duration": 85,
    "start_time": "2022-06-24T18:34:10.844Z"
   },
   {
    "duration": 891,
    "start_time": "2022-06-24T18:34:10.939Z"
   },
   {
    "duration": 8,
    "start_time": "2022-06-24T18:34:11.832Z"
   },
   {
    "duration": 117,
    "start_time": "2022-06-24T18:34:11.841Z"
   },
   {
    "duration": 56,
    "start_time": "2022-06-24T18:34:11.960Z"
   },
   {
    "duration": 24,
    "start_time": "2022-06-24T18:34:12.018Z"
   },
   {
    "duration": 792,
    "start_time": "2022-06-24T18:34:12.053Z"
   },
   {
    "duration": 18,
    "start_time": "2022-06-24T18:34:12.846Z"
   },
   {
    "duration": 79,
    "start_time": "2022-06-24T18:34:12.866Z"
   },
   {
    "duration": 92,
    "start_time": "2022-06-24T18:34:12.948Z"
   },
   {
    "duration": 11,
    "start_time": "2022-06-24T18:34:13.058Z"
   },
   {
    "duration": 4,
    "start_time": "2022-06-24T18:34:13.455Z"
   },
   {
    "duration": 20,
    "start_time": "2022-06-24T18:34:13.814Z"
   },
   {
    "duration": 317,
    "start_time": "2022-06-24T18:34:14.230Z"
   },
   {
    "duration": 154,
    "start_time": "2022-06-24T18:34:14.858Z"
   },
   {
    "duration": 10,
    "start_time": "2022-06-24T18:34:15.455Z"
   },
   {
    "duration": 5871,
    "start_time": "2022-06-24T18:34:15.856Z"
   },
   {
    "duration": 1937,
    "start_time": "2022-06-24T18:34:21.739Z"
   },
   {
    "duration": 52,
    "start_time": "2022-06-24T18:34:23.678Z"
   },
   {
    "duration": 0,
    "start_time": "2022-06-24T18:34:23.732Z"
   },
   {
    "duration": 0,
    "start_time": "2022-06-24T18:34:23.732Z"
   },
   {
    "duration": 0,
    "start_time": "2022-06-24T18:34:23.733Z"
   },
   {
    "duration": 0,
    "start_time": "2022-06-24T18:34:23.734Z"
   },
   {
    "duration": 0,
    "start_time": "2022-06-24T18:34:23.734Z"
   },
   {
    "duration": 0,
    "start_time": "2022-06-24T18:34:23.735Z"
   },
   {
    "duration": 280,
    "start_time": "2022-06-24T18:44:38.382Z"
   },
   {
    "duration": 83,
    "start_time": "2022-06-24T18:44:47.913Z"
   },
   {
    "duration": 91,
    "start_time": "2022-06-24T18:44:48.268Z"
   },
   {
    "duration": 56,
    "start_time": "2022-06-24T18:44:48.780Z"
   },
   {
    "duration": 128,
    "start_time": "2022-06-24T18:44:48.971Z"
   },
   {
    "duration": 16,
    "start_time": "2022-06-24T18:44:49.697Z"
   },
   {
    "duration": 212,
    "start_time": "2022-06-24T18:44:57.439Z"
   },
   {
    "duration": 731,
    "start_time": "2022-06-24T18:45:50.067Z"
   },
   {
    "duration": 1289,
    "start_time": "2022-06-24T18:46:01.274Z"
   },
   {
    "duration": 6328,
    "start_time": "2022-06-24T18:47:15.974Z"
   },
   {
    "duration": 6864,
    "start_time": "2022-06-24T18:48:08.698Z"
   },
   {
    "duration": 684,
    "start_time": "2022-06-24T18:48:34.326Z"
   },
   {
    "duration": 1725,
    "start_time": "2022-06-24T18:48:50.603Z"
   },
   {
    "duration": 71,
    "start_time": "2022-06-24T18:48:52.333Z"
   },
   {
    "duration": 28,
    "start_time": "2022-06-24T18:48:52.406Z"
   },
   {
    "duration": 67,
    "start_time": "2022-06-24T18:48:52.439Z"
   },
   {
    "duration": 5,
    "start_time": "2022-06-24T18:48:52.509Z"
   },
   {
    "duration": 18,
    "start_time": "2022-06-24T18:48:52.581Z"
   },
   {
    "duration": 19,
    "start_time": "2022-06-24T18:48:53.053Z"
   },
   {
    "duration": 17,
    "start_time": "2022-06-24T18:48:53.399Z"
   },
   {
    "duration": 10,
    "start_time": "2022-06-24T18:48:54.547Z"
   },
   {
    "duration": 5,
    "start_time": "2022-06-24T18:48:54.892Z"
   },
   {
    "duration": 12,
    "start_time": "2022-06-24T18:48:55.265Z"
   },
   {
    "duration": 13,
    "start_time": "2022-06-24T18:48:55.653Z"
   },
   {
    "duration": 4,
    "start_time": "2022-06-24T18:48:56.254Z"
   },
   {
    "duration": 50,
    "start_time": "2022-06-24T18:48:56.442Z"
   },
   {
    "duration": 5,
    "start_time": "2022-06-24T18:48:57.456Z"
   },
   {
    "duration": 6,
    "start_time": "2022-06-24T18:48:57.657Z"
   },
   {
    "duration": 226,
    "start_time": "2022-06-24T18:48:58.990Z"
   },
   {
    "duration": 4930,
    "start_time": "2022-06-24T18:48:59.548Z"
   },
   {
    "duration": 418,
    "start_time": "2022-06-24T18:49:04.481Z"
   },
   {
    "duration": 10,
    "start_time": "2022-06-24T18:49:07.706Z"
   },
   {
    "duration": 6,
    "start_time": "2022-06-24T18:49:11.507Z"
   },
   {
    "duration": 900,
    "start_time": "2022-06-24T18:49:11.670Z"
   },
   {
    "duration": 5,
    "start_time": "2022-06-24T18:49:13.406Z"
   },
   {
    "duration": 6,
    "start_time": "2022-06-24T18:49:13.718Z"
   },
   {
    "duration": 48,
    "start_time": "2022-06-24T18:49:13.971Z"
   },
   {
    "duration": 18,
    "start_time": "2022-06-24T18:49:16.194Z"
   },
   {
    "duration": 948,
    "start_time": "2022-06-24T18:49:16.522Z"
   },
   {
    "duration": 13,
    "start_time": "2022-06-24T18:49:17.471Z"
   },
   {
    "duration": 210,
    "start_time": "2022-06-24T18:49:22.620Z"
   },
   {
    "duration": 26,
    "start_time": "2022-06-24T18:49:22.947Z"
   },
   {
    "duration": 5,
    "start_time": "2022-06-24T18:49:28.175Z"
   },
   {
    "duration": 22,
    "start_time": "2022-06-24T18:49:28.951Z"
   },
   {
    "duration": 381,
    "start_time": "2022-06-24T18:49:34.170Z"
   },
   {
    "duration": 15,
    "start_time": "2022-06-24T18:49:42.657Z"
   },
   {
    "duration": 6384,
    "start_time": "2022-06-24T18:49:43.991Z"
   },
   {
    "duration": 77,
    "start_time": "2022-06-24T18:49:50.378Z"
   },
   {
    "duration": 203,
    "start_time": "2022-06-24T18:49:50.457Z"
   },
   {
    "duration": 60,
    "start_time": "2022-06-24T18:49:51.723Z"
   },
   {
    "duration": 285,
    "start_time": "2022-06-24T18:49:59.370Z"
   },
   {
    "duration": 6792,
    "start_time": "2022-06-24T18:50:13.442Z"
   },
   {
    "duration": 3948,
    "start_time": "2022-06-24T18:50:34.854Z"
   },
   {
    "duration": 540,
    "start_time": "2022-06-24T18:50:54.876Z"
   },
   {
    "duration": 1428,
    "start_time": "2022-06-24T18:53:25.865Z"
   },
   {
    "duration": 52,
    "start_time": "2022-06-24T18:53:27.294Z"
   },
   {
    "duration": 16,
    "start_time": "2022-06-24T18:53:27.351Z"
   },
   {
    "duration": 35,
    "start_time": "2022-06-24T18:53:27.369Z"
   },
   {
    "duration": 4,
    "start_time": "2022-06-24T18:53:27.407Z"
   },
   {
    "duration": 24,
    "start_time": "2022-06-24T18:53:27.822Z"
   },
   {
    "duration": 5,
    "start_time": "2022-06-24T18:53:28.277Z"
   },
   {
    "duration": 14,
    "start_time": "2022-06-24T18:53:28.661Z"
   },
   {
    "duration": 5,
    "start_time": "2022-06-24T18:53:29.651Z"
   },
   {
    "duration": 4,
    "start_time": "2022-06-24T18:53:30.054Z"
   },
   {
    "duration": 8,
    "start_time": "2022-06-24T18:53:30.483Z"
   },
   {
    "duration": 6,
    "start_time": "2022-06-24T18:53:30.853Z"
   },
   {
    "duration": 3,
    "start_time": "2022-06-24T18:53:31.366Z"
   },
   {
    "duration": 33,
    "start_time": "2022-06-24T18:53:31.561Z"
   },
   {
    "duration": 3,
    "start_time": "2022-06-24T18:53:32.523Z"
   },
   {
    "duration": 48,
    "start_time": "2022-06-24T18:53:32.528Z"
   },
   {
    "duration": 200,
    "start_time": "2022-06-24T18:53:33.950Z"
   },
   {
    "duration": 4338,
    "start_time": "2022-06-24T18:53:34.500Z"
   },
   {
    "duration": 485,
    "start_time": "2022-06-24T18:53:38.848Z"
   },
   {
    "duration": 100,
    "start_time": "2022-06-24T18:53:39.336Z"
   },
   {
    "duration": 14,
    "start_time": "2022-06-24T18:53:39.444Z"
   },
   {
    "duration": 867,
    "start_time": "2022-06-24T18:53:39.460Z"
   },
   {
    "duration": 9,
    "start_time": "2022-06-24T18:53:40.329Z"
   },
   {
    "duration": 127,
    "start_time": "2022-06-24T18:53:40.339Z"
   },
   {
    "duration": 40,
    "start_time": "2022-06-24T18:53:40.468Z"
   },
   {
    "duration": 11,
    "start_time": "2022-06-24T18:53:40.510Z"
   },
   {
    "duration": 748,
    "start_time": "2022-06-24T18:53:40.523Z"
   },
   {
    "duration": 11,
    "start_time": "2022-06-24T18:53:41.272Z"
   },
   {
    "duration": 57,
    "start_time": "2022-06-24T18:53:41.285Z"
   },
   {
    "duration": 101,
    "start_time": "2022-06-24T18:53:41.345Z"
   },
   {
    "duration": 27,
    "start_time": "2022-06-24T18:53:41.448Z"
   },
   {
    "duration": 5,
    "start_time": "2022-06-24T18:53:41.478Z"
   },
   {
    "duration": 17,
    "start_time": "2022-06-24T18:53:41.485Z"
   },
   {
    "duration": 312,
    "start_time": "2022-06-24T18:53:41.503Z"
   },
   {
    "duration": 120,
    "start_time": "2022-06-24T18:53:41.816Z"
   },
   {
    "duration": 11,
    "start_time": "2022-06-24T18:53:41.938Z"
   },
   {
    "duration": 5890,
    "start_time": "2022-06-24T18:53:41.951Z"
   },
   {
    "duration": 1768,
    "start_time": "2022-06-24T18:53:47.842Z"
   },
   {
    "duration": 57,
    "start_time": "2022-06-24T18:53:49.612Z"
   },
   {
    "duration": 68,
    "start_time": "2022-06-24T18:53:49.671Z"
   },
   {
    "duration": 184,
    "start_time": "2022-06-24T18:53:49.742Z"
   },
   {
    "duration": 90,
    "start_time": "2022-06-24T18:53:49.936Z"
   },
   {
    "duration": 358,
    "start_time": "2022-06-24T18:53:50.030Z"
   },
   {
    "duration": 3681,
    "start_time": "2022-06-24T18:53:50.390Z"
   },
   {
    "duration": 634,
    "start_time": "2022-06-24T18:53:54.073Z"
   }
  ],
  "kernelspec": {
   "display_name": "Python 3 (ipykernel)",
   "language": "python",
   "name": "python3"
  },
  "language_info": {
   "codemirror_mode": {
    "name": "ipython",
    "version": 3
   },
   "file_extension": ".py",
   "mimetype": "text/x-python",
   "name": "python",
   "nbconvert_exporter": "python",
   "pygments_lexer": "ipython3",
   "version": "3.9.12"
  },
  "toc": {
   "base_numbering": 1,
   "nav_menu": {},
   "number_sections": true,
   "sideBar": true,
   "skip_h1_title": true,
   "title_cell": "Содержание",
   "title_sidebar": "Contents",
   "toc_cell": true,
   "toc_position": {},
   "toc_section_display": true,
   "toc_window_display": false
  }
 },
 "nbformat": 4,
 "nbformat_minor": 2
}
