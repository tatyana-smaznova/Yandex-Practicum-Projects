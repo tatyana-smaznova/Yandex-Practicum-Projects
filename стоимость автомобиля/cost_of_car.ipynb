{
 "cells": [
  {
   "cell_type": "markdown",
   "metadata": {},
   "source": [
    "# Определение стоимости автомобилей"
   ]
  },
  {
   "cell_type": "markdown",
   "metadata": {},
   "source": [
    "Сервис по продаже автомобилей с пробегом «Не бит, не крашен» разрабатывает приложение для привлечения новых клиентов. В нём можно быстро узнать рыночную стоимость своего автомобиля. В вашем распоряжении исторические данные: технические характеристики, комплектации и цены автомобилей. Вам нужно построить модель для определения стоимости. \n",
    "\n",
    "Заказчику важны:\n",
    "\n",
    "- качество предсказания;\n",
    "- скорость предсказания;\n",
    "- время обучения."
   ]
  },
  {
   "cell_type": "markdown",
   "metadata": {},
   "source": [
    "## Подготовка данных"
   ]
  },
  {
   "cell_type": "markdown",
   "metadata": {},
   "source": [
    "Первым делом импортируем необходимые для работы средства."
   ]
  },
  {
   "cell_type": "code",
   "execution_count": 1,
   "metadata": {},
   "outputs": [],
   "source": [
    "import pandas as pd\n",
    "import numpy as np\n",
    "import matplotlib.pyplot as plt\n",
    "import seaborn as sns\n",
    "import lightgbm as lgb\n",
    "\n",
    "import time \n",
    "\n",
    "from catboost import CatBoostRegressor \n",
    "from lightgbm import LGBMRegressor\n",
    "from xgboost import XGBRegressor\n",
    "from sklearn.linear_model import LinearRegression\n",
    "\n",
    "from sklearn.model_selection import train_test_split\n",
    "from sklearn.metrics import accuracy_score\n",
    "from sklearn.metrics import mean_absolute_error\n",
    "from sklearn.metrics import confusion_matrix\n",
    "from sklearn.metrics import recall_score\n",
    "from sklearn.metrics import precision_score\n",
    "from sklearn.metrics import f1_score\n",
    "from sklearn.utils import shuffle\n",
    "from sklearn.metrics import precision_recall_curve\n",
    "from sklearn.metrics import roc_auc_score\n",
    "from sklearn.metrics import mean_squared_error as mse\n",
    "from sklearn.metrics import r2_score\n",
    "from sklearn.model_selection import cross_val_score, GridSearchCV\n",
    "from sklearn.metrics import make_scorer\n",
    "from sklearn.preprocessing import LabelEncoder, StandardScaler"
   ]
  },
  {
   "cell_type": "markdown",
   "metadata": {},
   "source": [
    "Прочитаем файл и сохраним его в переменной df."
   ]
  },
  {
   "cell_type": "code",
   "execution_count": 2,
   "metadata": {},
   "outputs": [],
   "source": [
    "df = pd.read_csv('/datasets/autos.csv')"
   ]
  },
  {
   "cell_type": "markdown",
   "metadata": {},
   "source": [
    "Получим общую информацию о датафрейме."
   ]
  },
  {
   "cell_type": "code",
   "execution_count": 3,
   "metadata": {},
   "outputs": [
    {
     "name": "stdout",
     "output_type": "stream",
     "text": [
      "<class 'pandas.core.frame.DataFrame'>\n",
      "RangeIndex: 354369 entries, 0 to 354368\n",
      "Data columns (total 16 columns):\n",
      " #   Column             Non-Null Count   Dtype \n",
      "---  ------             --------------   ----- \n",
      " 0   DateCrawled        354369 non-null  object\n",
      " 1   Price              354369 non-null  int64 \n",
      " 2   VehicleType        316879 non-null  object\n",
      " 3   RegistrationYear   354369 non-null  int64 \n",
      " 4   Gearbox            334536 non-null  object\n",
      " 5   Power              354369 non-null  int64 \n",
      " 6   Model              334664 non-null  object\n",
      " 7   Kilometer          354369 non-null  int64 \n",
      " 8   RegistrationMonth  354369 non-null  int64 \n",
      " 9   FuelType           321474 non-null  object\n",
      " 10  Brand              354369 non-null  object\n",
      " 11  NotRepaired        283215 non-null  object\n",
      " 12  DateCreated        354369 non-null  object\n",
      " 13  NumberOfPictures   354369 non-null  int64 \n",
      " 14  PostalCode         354369 non-null  int64 \n",
      " 15  LastSeen           354369 non-null  object\n",
      "dtypes: int64(7), object(9)\n",
      "memory usage: 43.3+ MB\n"
     ]
    }
   ],
   "source": [
    "df.info()"
   ]
  },
  {
   "cell_type": "markdown",
   "metadata": {},
   "source": [
    "Исходя из документации к данным мы знаем, что **DateCrawled** — дата скачивания анкеты из базы,\n",
    "**VehicleType** — тип автомобильного кузова,\n",
    "**RegistrationYear** — год регистрации автомобиля,\n",
    "**Gearbox** — тип коробки передач,\n",
    "**Power** — мощность (л. с.),\n",
    "**Model** — модель автомобиля,\n",
    "**Kilometer** — пробег (км),\n",
    "**RegistrationMonth** — месяц регистрации автомобиля,\n",
    "**FuelType** — тип топлива,\n",
    "**Brand** — марка автомобиля,\n",
    "**NotRepaired** — была машина в ремонте или нет,\n",
    "**DateCreated** — дата создания анкеты,\n",
    "**NumberOfPictures** — количество фотографий автомобиля,\n",
    "**PostalCode** — почтовый индекс владельца анкеты (пользователя),\n",
    "**LastSeen** — дата последней активности пользователя,\n",
    "**Price** — цена (евро).\n",
    "\n",
    "Также можно заметить, что количество данных в столбцах разнится."
   ]
  },
  {
   "cell_type": "markdown",
   "metadata": {},
   "source": [
    "Выведем первые пять строк таблиц на экран"
   ]
  },
  {
   "cell_type": "code",
   "execution_count": 4,
   "metadata": {},
   "outputs": [
    {
     "data": {
      "text/html": [
       "<div>\n",
       "<style scoped>\n",
       "    .dataframe tbody tr th:only-of-type {\n",
       "        vertical-align: middle;\n",
       "    }\n",
       "\n",
       "    .dataframe tbody tr th {\n",
       "        vertical-align: top;\n",
       "    }\n",
       "\n",
       "    .dataframe thead th {\n",
       "        text-align: right;\n",
       "    }\n",
       "</style>\n",
       "<table border=\"1\" class=\"dataframe\">\n",
       "  <thead>\n",
       "    <tr style=\"text-align: right;\">\n",
       "      <th></th>\n",
       "      <th>DateCrawled</th>\n",
       "      <th>Price</th>\n",
       "      <th>VehicleType</th>\n",
       "      <th>RegistrationYear</th>\n",
       "      <th>Gearbox</th>\n",
       "      <th>Power</th>\n",
       "      <th>Model</th>\n",
       "      <th>Kilometer</th>\n",
       "      <th>RegistrationMonth</th>\n",
       "      <th>FuelType</th>\n",
       "      <th>Brand</th>\n",
       "      <th>NotRepaired</th>\n",
       "      <th>DateCreated</th>\n",
       "      <th>NumberOfPictures</th>\n",
       "      <th>PostalCode</th>\n",
       "      <th>LastSeen</th>\n",
       "    </tr>\n",
       "  </thead>\n",
       "  <tbody>\n",
       "    <tr>\n",
       "      <th>0</th>\n",
       "      <td>2016-03-24 11:52:17</td>\n",
       "      <td>480</td>\n",
       "      <td>NaN</td>\n",
       "      <td>1993</td>\n",
       "      <td>manual</td>\n",
       "      <td>0</td>\n",
       "      <td>golf</td>\n",
       "      <td>150000</td>\n",
       "      <td>0</td>\n",
       "      <td>petrol</td>\n",
       "      <td>volkswagen</td>\n",
       "      <td>NaN</td>\n",
       "      <td>2016-03-24 00:00:00</td>\n",
       "      <td>0</td>\n",
       "      <td>70435</td>\n",
       "      <td>2016-04-07 03:16:57</td>\n",
       "    </tr>\n",
       "    <tr>\n",
       "      <th>1</th>\n",
       "      <td>2016-03-24 10:58:45</td>\n",
       "      <td>18300</td>\n",
       "      <td>coupe</td>\n",
       "      <td>2011</td>\n",
       "      <td>manual</td>\n",
       "      <td>190</td>\n",
       "      <td>NaN</td>\n",
       "      <td>125000</td>\n",
       "      <td>5</td>\n",
       "      <td>gasoline</td>\n",
       "      <td>audi</td>\n",
       "      <td>yes</td>\n",
       "      <td>2016-03-24 00:00:00</td>\n",
       "      <td>0</td>\n",
       "      <td>66954</td>\n",
       "      <td>2016-04-07 01:46:50</td>\n",
       "    </tr>\n",
       "    <tr>\n",
       "      <th>2</th>\n",
       "      <td>2016-03-14 12:52:21</td>\n",
       "      <td>9800</td>\n",
       "      <td>suv</td>\n",
       "      <td>2004</td>\n",
       "      <td>auto</td>\n",
       "      <td>163</td>\n",
       "      <td>grand</td>\n",
       "      <td>125000</td>\n",
       "      <td>8</td>\n",
       "      <td>gasoline</td>\n",
       "      <td>jeep</td>\n",
       "      <td>NaN</td>\n",
       "      <td>2016-03-14 00:00:00</td>\n",
       "      <td>0</td>\n",
       "      <td>90480</td>\n",
       "      <td>2016-04-05 12:47:46</td>\n",
       "    </tr>\n",
       "    <tr>\n",
       "      <th>3</th>\n",
       "      <td>2016-03-17 16:54:04</td>\n",
       "      <td>1500</td>\n",
       "      <td>small</td>\n",
       "      <td>2001</td>\n",
       "      <td>manual</td>\n",
       "      <td>75</td>\n",
       "      <td>golf</td>\n",
       "      <td>150000</td>\n",
       "      <td>6</td>\n",
       "      <td>petrol</td>\n",
       "      <td>volkswagen</td>\n",
       "      <td>no</td>\n",
       "      <td>2016-03-17 00:00:00</td>\n",
       "      <td>0</td>\n",
       "      <td>91074</td>\n",
       "      <td>2016-03-17 17:40:17</td>\n",
       "    </tr>\n",
       "    <tr>\n",
       "      <th>4</th>\n",
       "      <td>2016-03-31 17:25:20</td>\n",
       "      <td>3600</td>\n",
       "      <td>small</td>\n",
       "      <td>2008</td>\n",
       "      <td>manual</td>\n",
       "      <td>69</td>\n",
       "      <td>fabia</td>\n",
       "      <td>90000</td>\n",
       "      <td>7</td>\n",
       "      <td>gasoline</td>\n",
       "      <td>skoda</td>\n",
       "      <td>no</td>\n",
       "      <td>2016-03-31 00:00:00</td>\n",
       "      <td>0</td>\n",
       "      <td>60437</td>\n",
       "      <td>2016-04-06 10:17:21</td>\n",
       "    </tr>\n",
       "    <tr>\n",
       "      <th>...</th>\n",
       "      <td>...</td>\n",
       "      <td>...</td>\n",
       "      <td>...</td>\n",
       "      <td>...</td>\n",
       "      <td>...</td>\n",
       "      <td>...</td>\n",
       "      <td>...</td>\n",
       "      <td>...</td>\n",
       "      <td>...</td>\n",
       "      <td>...</td>\n",
       "      <td>...</td>\n",
       "      <td>...</td>\n",
       "      <td>...</td>\n",
       "      <td>...</td>\n",
       "      <td>...</td>\n",
       "      <td>...</td>\n",
       "    </tr>\n",
       "    <tr>\n",
       "      <th>354364</th>\n",
       "      <td>2016-03-21 09:50:58</td>\n",
       "      <td>0</td>\n",
       "      <td>NaN</td>\n",
       "      <td>2005</td>\n",
       "      <td>manual</td>\n",
       "      <td>0</td>\n",
       "      <td>colt</td>\n",
       "      <td>150000</td>\n",
       "      <td>7</td>\n",
       "      <td>petrol</td>\n",
       "      <td>mitsubishi</td>\n",
       "      <td>yes</td>\n",
       "      <td>2016-03-21 00:00:00</td>\n",
       "      <td>0</td>\n",
       "      <td>2694</td>\n",
       "      <td>2016-03-21 10:42:49</td>\n",
       "    </tr>\n",
       "    <tr>\n",
       "      <th>354365</th>\n",
       "      <td>2016-03-14 17:48:27</td>\n",
       "      <td>2200</td>\n",
       "      <td>NaN</td>\n",
       "      <td>2005</td>\n",
       "      <td>NaN</td>\n",
       "      <td>0</td>\n",
       "      <td>NaN</td>\n",
       "      <td>20000</td>\n",
       "      <td>1</td>\n",
       "      <td>NaN</td>\n",
       "      <td>sonstige_autos</td>\n",
       "      <td>NaN</td>\n",
       "      <td>2016-03-14 00:00:00</td>\n",
       "      <td>0</td>\n",
       "      <td>39576</td>\n",
       "      <td>2016-04-06 00:46:52</td>\n",
       "    </tr>\n",
       "    <tr>\n",
       "      <th>354366</th>\n",
       "      <td>2016-03-05 19:56:21</td>\n",
       "      <td>1199</td>\n",
       "      <td>convertible</td>\n",
       "      <td>2000</td>\n",
       "      <td>auto</td>\n",
       "      <td>101</td>\n",
       "      <td>fortwo</td>\n",
       "      <td>125000</td>\n",
       "      <td>3</td>\n",
       "      <td>petrol</td>\n",
       "      <td>smart</td>\n",
       "      <td>no</td>\n",
       "      <td>2016-03-05 00:00:00</td>\n",
       "      <td>0</td>\n",
       "      <td>26135</td>\n",
       "      <td>2016-03-11 18:17:12</td>\n",
       "    </tr>\n",
       "    <tr>\n",
       "      <th>354367</th>\n",
       "      <td>2016-03-19 18:57:12</td>\n",
       "      <td>9200</td>\n",
       "      <td>bus</td>\n",
       "      <td>1996</td>\n",
       "      <td>manual</td>\n",
       "      <td>102</td>\n",
       "      <td>transporter</td>\n",
       "      <td>150000</td>\n",
       "      <td>3</td>\n",
       "      <td>gasoline</td>\n",
       "      <td>volkswagen</td>\n",
       "      <td>no</td>\n",
       "      <td>2016-03-19 00:00:00</td>\n",
       "      <td>0</td>\n",
       "      <td>87439</td>\n",
       "      <td>2016-04-07 07:15:26</td>\n",
       "    </tr>\n",
       "    <tr>\n",
       "      <th>354368</th>\n",
       "      <td>2016-03-20 19:41:08</td>\n",
       "      <td>3400</td>\n",
       "      <td>wagon</td>\n",
       "      <td>2002</td>\n",
       "      <td>manual</td>\n",
       "      <td>100</td>\n",
       "      <td>golf</td>\n",
       "      <td>150000</td>\n",
       "      <td>6</td>\n",
       "      <td>gasoline</td>\n",
       "      <td>volkswagen</td>\n",
       "      <td>NaN</td>\n",
       "      <td>2016-03-20 00:00:00</td>\n",
       "      <td>0</td>\n",
       "      <td>40764</td>\n",
       "      <td>2016-03-24 12:45:21</td>\n",
       "    </tr>\n",
       "  </tbody>\n",
       "</table>\n",
       "<p>354369 rows × 16 columns</p>\n",
       "</div>"
      ],
      "text/plain": [
       "                DateCrawled  Price  VehicleType  RegistrationYear Gearbox  \\\n",
       "0       2016-03-24 11:52:17    480          NaN              1993  manual   \n",
       "1       2016-03-24 10:58:45  18300        coupe              2011  manual   \n",
       "2       2016-03-14 12:52:21   9800          suv              2004    auto   \n",
       "3       2016-03-17 16:54:04   1500        small              2001  manual   \n",
       "4       2016-03-31 17:25:20   3600        small              2008  manual   \n",
       "...                     ...    ...          ...               ...     ...   \n",
       "354364  2016-03-21 09:50:58      0          NaN              2005  manual   \n",
       "354365  2016-03-14 17:48:27   2200          NaN              2005     NaN   \n",
       "354366  2016-03-05 19:56:21   1199  convertible              2000    auto   \n",
       "354367  2016-03-19 18:57:12   9200          bus              1996  manual   \n",
       "354368  2016-03-20 19:41:08   3400        wagon              2002  manual   \n",
       "\n",
       "        Power        Model  Kilometer  RegistrationMonth  FuelType  \\\n",
       "0           0         golf     150000                  0    petrol   \n",
       "1         190          NaN     125000                  5  gasoline   \n",
       "2         163        grand     125000                  8  gasoline   \n",
       "3          75         golf     150000                  6    petrol   \n",
       "4          69        fabia      90000                  7  gasoline   \n",
       "...       ...          ...        ...                ...       ...   \n",
       "354364      0         colt     150000                  7    petrol   \n",
       "354365      0          NaN      20000                  1       NaN   \n",
       "354366    101       fortwo     125000                  3    petrol   \n",
       "354367    102  transporter     150000                  3  gasoline   \n",
       "354368    100         golf     150000                  6  gasoline   \n",
       "\n",
       "                 Brand NotRepaired          DateCreated  NumberOfPictures  \\\n",
       "0           volkswagen         NaN  2016-03-24 00:00:00                 0   \n",
       "1                 audi         yes  2016-03-24 00:00:00                 0   \n",
       "2                 jeep         NaN  2016-03-14 00:00:00                 0   \n",
       "3           volkswagen          no  2016-03-17 00:00:00                 0   \n",
       "4                skoda          no  2016-03-31 00:00:00                 0   \n",
       "...                ...         ...                  ...               ...   \n",
       "354364      mitsubishi         yes  2016-03-21 00:00:00                 0   \n",
       "354365  sonstige_autos         NaN  2016-03-14 00:00:00                 0   \n",
       "354366           smart          no  2016-03-05 00:00:00                 0   \n",
       "354367      volkswagen          no  2016-03-19 00:00:00                 0   \n",
       "354368      volkswagen         NaN  2016-03-20 00:00:00                 0   \n",
       "\n",
       "        PostalCode             LastSeen  \n",
       "0            70435  2016-04-07 03:16:57  \n",
       "1            66954  2016-04-07 01:46:50  \n",
       "2            90480  2016-04-05 12:47:46  \n",
       "3            91074  2016-03-17 17:40:17  \n",
       "4            60437  2016-04-06 10:17:21  \n",
       "...            ...                  ...  \n",
       "354364        2694  2016-03-21 10:42:49  \n",
       "354365       39576  2016-04-06 00:46:52  \n",
       "354366       26135  2016-03-11 18:17:12  \n",
       "354367       87439  2016-04-07 07:15:26  \n",
       "354368       40764  2016-03-24 12:45:21  \n",
       "\n",
       "[354369 rows x 16 columns]"
      ]
     },
     "metadata": {},
     "output_type": "display_data"
    }
   ],
   "source": [
    "display(df)"
   ]
  },
  {
   "cell_type": "markdown",
   "metadata": {},
   "source": [
    "Проверим данные на наличие дубликатов."
   ]
  },
  {
   "cell_type": "code",
   "execution_count": 5,
   "metadata": {},
   "outputs": [
    {
     "data": {
      "text/plain": [
       "4"
      ]
     },
     "execution_count": 5,
     "metadata": {},
     "output_type": "execute_result"
    }
   ],
   "source": [
    "df.duplicated().sum()"
   ]
  },
  {
   "cell_type": "markdown",
   "metadata": {},
   "source": [
    "Удалим дубликаты."
   ]
  },
  {
   "cell_type": "code",
   "execution_count": 6,
   "metadata": {},
   "outputs": [],
   "source": [
    "df = df.drop_duplicates()"
   ]
  },
  {
   "cell_type": "markdown",
   "metadata": {},
   "source": [
    "Проверим количество пропусков в данных"
   ]
  },
  {
   "cell_type": "code",
   "execution_count": 7,
   "metadata": {},
   "outputs": [
    {
     "data": {
      "text/plain": [
       "DateCrawled              0\n",
       "Price                    0\n",
       "VehicleType          37490\n",
       "RegistrationYear         0\n",
       "Gearbox              19833\n",
       "Power                    0\n",
       "Model                19705\n",
       "Kilometer                0\n",
       "RegistrationMonth        0\n",
       "FuelType             32895\n",
       "Brand                    0\n",
       "NotRepaired          71154\n",
       "DateCreated              0\n",
       "NumberOfPictures         0\n",
       "PostalCode               0\n",
       "LastSeen                 0\n",
       "dtype: int64"
      ]
     },
     "execution_count": 7,
     "metadata": {},
     "output_type": "execute_result"
    }
   ],
   "source": [
    "df.isna().sum()"
   ]
  },
  {
   "cell_type": "markdown",
   "metadata": {},
   "source": [
    "Много пропусков в столбце Model, восстановить модель автомобиля невозможно, поэтому заполним пропуски other."
   ]
  },
  {
   "cell_type": "code",
   "execution_count": 8,
   "metadata": {},
   "outputs": [],
   "source": [
    "df['Model'] = df['Model'].fillna('other')"
   ]
  },
  {
   "cell_type": "markdown",
   "metadata": {},
   "source": [
    "Пропуски в столбце NotRepaired заменим категорией yes, предположим, что автомобиль был в ремонте."
   ]
  },
  {
   "cell_type": "code",
   "execution_count": 9,
   "metadata": {},
   "outputs": [],
   "source": [
    "df['NotRepaired'] = df['NotRepaired'].fillna('yes')"
   ]
  },
  {
   "cell_type": "markdown",
   "metadata": {},
   "source": [
    "Предположим, что в пропущенных значениях в столбце с типом коробки передач механическая коробка, так как она наиболее распространена."
   ]
  },
  {
   "cell_type": "code",
   "execution_count": 10,
   "metadata": {},
   "outputs": [],
   "source": [
    "df['Gearbox'] = df['Gearbox'].fillna('manual')"
   ]
  },
  {
   "cell_type": "markdown",
   "metadata": {},
   "source": [
    "Тип кузова и тип топлива имеют большое значение, в этих столбцах пропуски необходимо заполнить."
   ]
  },
  {
   "cell_type": "code",
   "execution_count": 11,
   "metadata": {},
   "outputs": [],
   "source": [
    "df[\"VehicleType\"] = df[\"VehicleType\"].fillna(df[\"VehicleType\"].mode().values[0])"
   ]
  },
  {
   "cell_type": "code",
   "execution_count": 12,
   "metadata": {},
   "outputs": [],
   "source": [
    "df[\"FuelType\"] = df[\"FuelType\"].fillna(df[\"FuelType\"].mode().values[0])"
   ]
  },
  {
   "cell_type": "markdown",
   "metadata": {},
   "source": [
    "Все пропуски заполнены, но убедимся в этом."
   ]
  },
  {
   "cell_type": "code",
   "execution_count": 13,
   "metadata": {
    "scrolled": true
   },
   "outputs": [
    {
     "data": {
      "text/plain": [
       "DateCrawled          0\n",
       "Price                0\n",
       "VehicleType          0\n",
       "RegistrationYear     0\n",
       "Gearbox              0\n",
       "Power                0\n",
       "Model                0\n",
       "Kilometer            0\n",
       "RegistrationMonth    0\n",
       "FuelType             0\n",
       "Brand                0\n",
       "NotRepaired          0\n",
       "DateCreated          0\n",
       "NumberOfPictures     0\n",
       "PostalCode           0\n",
       "LastSeen             0\n",
       "dtype: int64"
      ]
     },
     "execution_count": 13,
     "metadata": {},
     "output_type": "execute_result"
    }
   ],
   "source": [
    "df.isna().sum()"
   ]
  },
  {
   "cell_type": "markdown",
   "metadata": {},
   "source": [
    "Посмотрим уникальные значения в столбце Price."
   ]
  },
  {
   "cell_type": "code",
   "execution_count": 14,
   "metadata": {},
   "outputs": [
    {
     "data": {
      "text/plain": [
       "0        10772\n",
       "500       5670\n",
       "1500      5394\n",
       "1000      4648\n",
       "1200      4594\n",
       "         ...  \n",
       "13180        1\n",
       "10879        1\n",
       "2683         1\n",
       "634          1\n",
       "8188         1\n",
       "Name: Price, Length: 3731, dtype: int64"
      ]
     },
     "execution_count": 14,
     "metadata": {},
     "output_type": "execute_result"
    }
   ],
   "source": [
    "df['Price'].value_counts()"
   ]
  },
  {
   "cell_type": "code",
   "execution_count": 15,
   "metadata": {},
   "outputs": [
    {
     "data": {
      "text/plain": [
       "count    354365.000000\n",
       "mean       4416.679830\n",
       "std        4514.176349\n",
       "min           0.000000\n",
       "25%        1050.000000\n",
       "50%        2700.000000\n",
       "75%        6400.000000\n",
       "max       20000.000000\n",
       "Name: Price, dtype: float64"
      ]
     },
     "execution_count": 15,
     "metadata": {},
     "output_type": "execute_result"
    }
   ],
   "source": [
    "df['Price'].describe()"
   ]
  },
  {
   "cell_type": "markdown",
   "metadata": {},
   "source": [
    "Мы видим, что в столбце встречаются нулевые значения. Удалим их, так как автомобиль не может отдаваться бесплатно."
   ]
  },
  {
   "cell_type": "code",
   "execution_count": 16,
   "metadata": {},
   "outputs": [],
   "source": [
    "df = df.query('Price != 0 and Price > 49')"
   ]
  },
  {
   "cell_type": "markdown",
   "metadata": {},
   "source": [
    "Посмотрим уникальные значения столбца Power."
   ]
  },
  {
   "cell_type": "code",
   "execution_count": 17,
   "metadata": {},
   "outputs": [
    {
     "data": {
      "text/plain": [
       "0        35533\n",
       "75       23239\n",
       "60       15428\n",
       "150      14113\n",
       "101      12931\n",
       "         ...  \n",
       "923          1\n",
       "10910        1\n",
       "9013         1\n",
       "4400         1\n",
       "6006         1\n",
       "Name: Power, Length: 698, dtype: int64"
      ]
     },
     "execution_count": 17,
     "metadata": {},
     "output_type": "execute_result"
    }
   ],
   "source": [
    "df['Power'].value_counts()"
   ]
  },
  {
   "cell_type": "markdown",
   "metadata": {},
   "source": [
    "Мы видим выбросы - есть как нулевые значения, так и неправдоподобно большие. Рассмотрим их на графике."
   ]
  },
  {
   "cell_type": "code",
   "execution_count": 18,
   "metadata": {},
   "outputs": [
    {
     "data": {
      "text/plain": [
       "Text(0, 0.5, 'Количество')"
      ]
     },
     "execution_count": 18,
     "metadata": {},
     "output_type": "execute_result"
    },
    {
     "data": {
      "image/png": "[encoded data removed]",
      "text/plain": [
       "<Figure size 864x432 with 1 Axes>"
      ]
     },
     "metadata": {
      "needs_background": "light"
     },
     "output_type": "display_data"
    }
   ],
   "source": [
    "Q1 = df['Power'].quantile(0.25)\n",
    "Q3 = df['Power'].quantile(0.75)\n",
    "IQR = Q3 - Q1\n",
    "fig, ax = plt.subplots()\n",
    "df['Power'].plot(kind = 'hist', bins = 100, grid = True, range = (Q1 - IQR, Q3 + 3*IQR), figsize = (12, 6))\n",
    "ax.set_xlabel('Лошадиные силы')\n",
    "ax.set_ylabel('Количество')"
   ]
  },
  {
   "cell_type": "markdown",
   "metadata": {},
   "source": [
    "Удалим нулевые значения, а также те, которые больше 1600, так как это максимально возможная мощность."
   ]
  },
  {
   "cell_type": "code",
   "execution_count": 19,
   "metadata": {},
   "outputs": [],
   "source": [
    "df = df.query('Power != 0 and Power <= 1600')"
   ]
  },
  {
   "cell_type": "markdown",
   "metadata": {},
   "source": [
    "Изучим год регистрации автомобиля."
   ]
  },
  {
   "cell_type": "code",
   "execution_count": 20,
   "metadata": {},
   "outputs": [
    {
     "data": {
      "text/plain": [
       "1999    19527\n",
       "2005    18899\n",
       "2000    18729\n",
       "2006    18570\n",
       "2003    17924\n",
       "        ...  \n",
       "1947        1\n",
       "1948        1\n",
       "1949        1\n",
       "9999        1\n",
       "2800        1\n",
       "Name: RegistrationYear, Length: 109, dtype: int64"
      ]
     },
     "execution_count": 20,
     "metadata": {},
     "output_type": "execute_result"
    }
   ],
   "source": [
    "df['RegistrationYear'].value_counts()"
   ]
  },
  {
   "cell_type": "markdown",
   "metadata": {},
   "source": [
    "Год не может быть 1000 или 9000, так как автомобили появились только в ХХ веке, а год позже 2022 ещё не наступил. В сороковых годах прошлого века автомобили уже выпускались, но их состояние может быть плохим. Удалим данные с годом меньше 1960, так как машина этого года выпуска ещё может быть \"на ходу\"."
   ]
  },
  {
   "cell_type": "code",
   "execution_count": 21,
   "metadata": {},
   "outputs": [],
   "source": [
    "df = df.query('RegistrationYear >= 1960 and RegistrationYear < 2016')"
   ]
  },
  {
   "cell_type": "markdown",
   "metadata": {},
   "source": [
    "Посмотрим на распределение по месяцам."
   ]
  },
  {
   "cell_type": "code",
   "execution_count": 22,
   "metadata": {},
   "outputs": [
    {
     "data": {
      "text/plain": [
       "3     29932\n",
       "6     26998\n",
       "4     25271\n",
       "5     25126\n",
       "7     23382\n",
       "10    22529\n",
       "12    20879\n",
       "11    20680\n",
       "9     20597\n",
       "1     19868\n",
       "8     19333\n",
       "2     18546\n",
       "0     16348\n",
       "Name: RegistrationMonth, dtype: int64"
      ]
     },
     "execution_count": 22,
     "metadata": {},
     "output_type": "execute_result"
    }
   ],
   "source": [
    "df['RegistrationMonth'].value_counts()"
   ]
  },
  {
   "cell_type": "markdown",
   "metadata": {},
   "source": [
    "Снова видим нулевые значения, их нужно удалить"
   ]
  },
  {
   "cell_type": "code",
   "execution_count": 23,
   "metadata": {},
   "outputs": [],
   "source": [
    "df = df.query('RegistrationMonth != 0')"
   ]
  },
  {
   "cell_type": "markdown",
   "metadata": {},
   "source": [
    "Посмотрим значения в столбце Kilometer."
   ]
  },
  {
   "cell_type": "code",
   "execution_count": 24,
   "metadata": {},
   "outputs": [
    {
     "data": {
      "text/plain": [
       "150000    178444\n",
       "125000     30019\n",
       "100000     12171\n",
       "90000       9874\n",
       "80000       8670\n",
       "70000       7555\n",
       "60000       6636\n",
       "50000       5509\n",
       "40000       4416\n",
       "30000       3782\n",
       "20000       3102\n",
       "5000        2069\n",
       "10000        894\n",
       "Name: Kilometer, dtype: int64"
      ]
     },
     "execution_count": 24,
     "metadata": {},
     "output_type": "execute_result"
    }
   ],
   "source": [
    "df['Kilometer'].value_counts()"
   ]
  },
  {
   "cell_type": "markdown",
   "metadata": {},
   "source": [
    "Показатели километража нормальные, похожи на реальные значения."
   ]
  },
  {
   "cell_type": "markdown",
   "metadata": {},
   "source": [
    "Посмотрим какой процент данных остался после предобработки данных."
   ]
  },
  {
   "cell_type": "code",
   "execution_count": 25,
   "metadata": {},
   "outputs": [
    {
     "data": {
      "text/plain": [
       "0.7707813042337225"
      ]
     },
     "execution_count": 25,
     "metadata": {},
     "output_type": "execute_result"
    }
   ],
   "source": [
    "df.shape[0]/354369"
   ]
  },
  {
   "cell_type": "markdown",
   "metadata": {},
   "source": [
    "Мы удалили 23% данных, это немало, но это были аномальные значения. Теперь данные стали чище и с ними можно работать."
   ]
  },
  {
   "cell_type": "markdown",
   "metadata": {},
   "source": [
    "**Вывод**\n",
    "\n",
    "В ходе подготовки данных мы нашли и удалили дубликаты, заполнили пропуски, а также удалили нулевые и слишком большие значения в данных. Теперь датафрейм стал чище, можно переходить к обучению моделей."
   ]
  },
  {
   "cell_type": "markdown",
   "metadata": {},
   "source": [
    "## Обучение моделей"
   ]
  },
  {
   "cell_type": "markdown",
   "metadata": {},
   "source": [
    "Сначала удалим столбцы, которые не потребуются для обучения моделей."
   ]
  },
  {
   "cell_type": "code",
   "execution_count": 26,
   "metadata": {},
   "outputs": [],
   "source": [
    "df = df.drop(['DateCrawled', 'DateCreated', 'NumberOfPictures', 'PostalCode', 'LastSeen'], axis=1)"
   ]
  },
  {
   "cell_type": "markdown",
   "metadata": {},
   "source": [
    "Проведём кодирование категориальных данных с помощью Label Encoder."
   ]
  },
  {
   "cell_type": "code",
   "execution_count": 27,
   "metadata": {},
   "outputs": [],
   "source": [
    "cats_cols = list(df.select_dtypes(include='object').columns)\n",
    "label_encode = LabelEncoder()\n",
    "for column in cats_cols:\n",
    "    label_encode.fit(df[column].astype('str'))\n",
    "    df[column] = label_encode.transform(df[column].astype('str'))"
   ]
  },
  {
   "cell_type": "markdown",
   "metadata": {},
   "source": [
    "Теперь выделим признаки для обучения и целевой признак."
   ]
  },
  {
   "cell_type": "code",
   "execution_count": 28,
   "metadata": {},
   "outputs": [],
   "source": [
    "features = df.drop('Price', axis=1)\n",
    "target = df['Price']"
   ]
  },
  {
   "cell_type": "markdown",
   "metadata": {},
   "source": [
    "Теперь разделим выборку на обучающую и валидационную."
   ]
  },
  {
   "cell_type": "code",
   "execution_count": 29,
   "metadata": {},
   "outputs": [],
   "source": [
    "features_train, features_valid, target_train, target_valid = train_test_split(\n",
    "    features, target, test_size=0.25, random_state=12345)"
   ]
  },
  {
   "cell_type": "markdown",
   "metadata": {},
   "source": [
    "Теперь валидационную выборку разделим на валидационную и тестовую."
   ]
  },
  {
   "cell_type": "code",
   "execution_count": 30,
   "metadata": {},
   "outputs": [],
   "source": [
    "features_valid, features_test, target_valid, target_test = train_test_split(\n",
    "    features_valid, target_valid, test_size=0.5, random_state=12345)"
   ]
  },
  {
   "cell_type": "markdown",
   "metadata": {},
   "source": [
    "Теперь стандартизируем данные."
   ]
  },
  {
   "cell_type": "code",
   "execution_count": 31,
   "metadata": {},
   "outputs": [],
   "source": [
    "def scale_to_standard(train, test, valid):\n",
    "    scaler = StandardScaler()\n",
    "    quanti_columns = ['RegistrationYear', 'Power', 'Kilometer']\n",
    "    scaler.fit(train[quanti_columns])\n",
    "    train[quanti_columns] = scaler.transform(train[quanti_columns])\n",
    "    valid[quanti_columns]=scaler.transform(valid[quanti_columns])\n",
    "    test[quanti_columns] = scaler.transform(test[quanti_columns])"
   ]
  },
  {
   "cell_type": "code",
   "execution_count": 32,
   "metadata": {},
   "outputs": [
    {
     "name": "stderr",
     "output_type": "stream",
     "text": [
      "/tmp/ipykernel_31/1018154665.py:5: SettingWithCopyWarning: \n",
      "A value is trying to be set on a copy of a slice from a DataFrame.\n",
      "Try using .loc[row_indexer,col_indexer] = value instead\n",
      "\n",
      "See the caveats in the documentation: https://pandas.pydata.org/pandas-docs/stable/user_guide/indexing.html#returning-a-view-versus-a-copy\n",
      "  train[quanti_columns] = scaler.transform(train[quanti_columns])\n",
      "/opt/conda/lib/python3.9/site-packages/pandas/core/indexing.py:1738: SettingWithCopyWarning: \n",
      "A value is trying to be set on a copy of a slice from a DataFrame.\n",
      "Try using .loc[row_indexer,col_indexer] = value instead\n",
      "\n",
      "See the caveats in the documentation: https://pandas.pydata.org/pandas-docs/stable/user_guide/indexing.html#returning-a-view-versus-a-copy\n",
      "  self._setitem_single_column(loc, value[:, i].tolist(), pi)\n"
     ]
    }
   ],
   "source": [
    "scale_to_standard(features_train, features_test, features_valid)"
   ]
  },
  {
   "cell_type": "markdown",
   "metadata": {},
   "source": [
    "Обучим модель с помощью LGBMRegressor."
   ]
  },
  {
   "cell_type": "code",
   "execution_count": 33,
   "metadata": {},
   "outputs": [],
   "source": [
    "def lgb_regr(features, target):\n",
    "    model = LGBMRegressor()\n",
    "    params = {\n",
    "        'boosting_type' : ['gbdt'],\n",
    "        'n_estimators' : [50, 100],\n",
    "        'max_depth' : [5, 7, 10],\n",
    "        'verbose' : [0],\n",
    "        'random_state' : [12345],\n",
    "        'force_col_wise': [True],\n",
    "        'num_leaves' : [127]}\n",
    "    grid_cv = GridSearchCV(estimator=model, param_grid=params, cv=3, n_jobs=-1, scoring='neg_mean_squared_error')\n",
    "    grid_cv.fit(features, target, categorical_feature=cats_cols)\n",
    "    print('Best hyperparams: ', grid_cv.best_params_)\n",
    "    print('RMSE score on train sample: {:.2f}'.format((-grid_cv.best_score_) ** 0.5))\n",
    "    return grid_cv.best_params_"
   ]
  },
  {
   "cell_type": "code",
   "execution_count": 34,
   "metadata": {
    "scrolled": true
   },
   "outputs": [
    {
     "name": "stderr",
     "output_type": "stream",
     "text": [
      "/opt/conda/lib/python3.9/site-packages/lightgbm/basic.py:2065: UserWarning: Using categorical_feature in Dataset.\n",
      "  _log_warning('Using categorical_feature in Dataset.')\n"
     ]
    },
    {
     "name": "stdout",
     "output_type": "stream",
     "text": [
      "[LightGBM] [Warning] No further splits with positive gain, best gain: -inf\n",
      "[LightGBM] [Warning] No further splits with positive gain, best gain: -inf\n",
      "[LightGBM] [Warning] No further splits with positive gain, best gain: -inf\n",
      "[LightGBM] [Warning] No further splits with positive gain, best gain: -inf\n",
      "[LightGBM] [Warning] No further splits with positive gain, best gain: -inf\n",
      "[LightGBM] [Warning] No further splits with positive gain, best gain: -inf\n",
      "[LightGBM] [Warning] No further splits with positive gain, best gain: -inf\n",
      "[LightGBM] [Warning] No further splits with positive gain, best gain: -inf\n",
      "[LightGBM] [Warning] No further splits with positive gain, best gain: -inf\n",
      "[LightGBM] [Warning] No further splits with positive gain, best gain: -inf\n",
      "[LightGBM] [Warning] No further splits with positive gain, best gain: -inf\n",
      "[LightGBM] [Warning] No further splits with positive gain, best gain: -inf\n",
      "[LightGBM] [Warning] No further splits with positive gain, best gain: -inf\n",
      "[LightGBM] [Warning] No further splits with positive gain, best gain: -inf\n",
      "[LightGBM] [Warning] No further splits with positive gain, best gain: -inf\n",
      "[LightGBM] [Warning] No further splits with positive gain, best gain: -inf\n",
      "[LightGBM] [Warning] No further splits with positive gain, best gain: -inf\n",
      "[LightGBM] [Warning] No further splits with positive gain, best gain: -inf\n",
      "[LightGBM] [Warning] No further splits with positive gain, best gain: -inf\n",
      "[LightGBM] [Warning] No further splits with positive gain, best gain: -inf\n",
      "[LightGBM] [Warning] No further splits with positive gain, best gain: -inf\n"
     ]
    },
    {
     "name": "stderr",
     "output_type": "stream",
     "text": [
      "/opt/conda/lib/python3.9/site-packages/lightgbm/basic.py:2065: UserWarning: Using categorical_feature in Dataset.\n",
      "  _log_warning('Using categorical_feature in Dataset.')\n"
     ]
    },
    {
     "name": "stdout",
     "output_type": "stream",
     "text": [
      "[LightGBM] [Warning] No further splits with positive gain, best gain: -inf\n",
      "[LightGBM] [Warning] No further splits with positive gain, best gain: -inf\n",
      "[LightGBM] [Warning] No further splits with positive gain, best gain: -inf\n",
      "[LightGBM] [Warning] No further splits with positive gain, best gain: -inf\n",
      "[LightGBM] [Warning] No further splits with positive gain, best gain: -inf\n",
      "[LightGBM] [Warning] No further splits with positive gain, best gain: -inf\n",
      "[LightGBM] [Warning] No further splits with positive gain, best gain: -inf\n",
      "[LightGBM] [Warning] No further splits with positive gain, best gain: -inf\n",
      "[LightGBM] [Warning] No further splits with positive gain, best gain: -inf\n",
      "[LightGBM] [Warning] No further splits with positive gain, best gain: -inf\n",
      "[LightGBM] [Warning] No further splits with positive gain, best gain: -inf\n",
      "[LightGBM] [Warning] No further splits with positive gain, best gain: -inf\n",
      "[LightGBM] [Warning] No further splits with positive gain, best gain: -inf\n",
      "[LightGBM] [Warning] No further splits with positive gain, best gain: -inf\n",
      "[LightGBM] [Warning] No further splits with positive gain, best gain: -inf\n"
     ]
    },
    {
     "name": "stderr",
     "output_type": "stream",
     "text": [
      "/opt/conda/lib/python3.9/site-packages/lightgbm/basic.py:2065: UserWarning: Using categorical_feature in Dataset.\n",
      "  _log_warning('Using categorical_feature in Dataset.')\n"
     ]
    },
    {
     "name": "stdout",
     "output_type": "stream",
     "text": [
      "[LightGBM] [Warning] No further splits with positive gain, best gain: -inf\n",
      "[LightGBM] [Warning] No further splits with positive gain, best gain: -inf\n",
      "[LightGBM] [Warning] No further splits with positive gain, best gain: -inf\n",
      "[LightGBM] [Warning] No further splits with positive gain, best gain: -inf\n",
      "[LightGBM] [Warning] No further splits with positive gain, best gain: -inf\n",
      "[LightGBM] [Warning] No further splits with positive gain, best gain: -inf\n",
      "[LightGBM] [Warning] No further splits with positive gain, best gain: -inf\n",
      "[LightGBM] [Warning] No further splits with positive gain, best gain: -inf\n",
      "[LightGBM] [Warning] No further splits with positive gain, best gain: -inf\n",
      "[LightGBM] [Warning] No further splits with positive gain, best gain: -inf\n",
      "[LightGBM] [Warning] No further splits with positive gain, best gain: -inf\n",
      "[LightGBM] [Warning] No further splits with positive gain, best gain: -inf\n",
      "[LightGBM] [Warning] No further splits with positive gain, best gain: -inf\n",
      "[LightGBM] [Warning] No further splits with positive gain, best gain: -inf\n",
      "[LightGBM] [Warning] No further splits with positive gain, best gain: -inf\n",
      "[LightGBM] [Warning] No further splits with positive gain, best gain: -inf\n",
      "[LightGBM] [Warning] No further splits with positive gain, best gain: -inf\n",
      "[LightGBM] [Warning] No further splits with positive gain, best gain: -inf\n"
     ]
    },
    {
     "name": "stderr",
     "output_type": "stream",
     "text": [
      "/opt/conda/lib/python3.9/site-packages/lightgbm/basic.py:2065: UserWarning: Using categorical_feature in Dataset.\n",
      "  _log_warning('Using categorical_feature in Dataset.')\n"
     ]
    },
    {
     "name": "stdout",
     "output_type": "stream",
     "text": [
      "[LightGBM] [Warning] No further splits with positive gain, best gain: -inf\n",
      "[LightGBM] [Warning] No further splits with positive gain, best gain: -inf\n",
      "[LightGBM] [Warning] No further splits with positive gain, best gain: -inf\n",
      "[LightGBM] [Warning] No further splits with positive gain, best gain: -inf\n",
      "[LightGBM] [Warning] No further splits with positive gain, best gain: -inf\n",
      "[LightGBM] [Warning] No further splits with positive gain, best gain: -inf\n",
      "[LightGBM] [Warning] No further splits with positive gain, best gain: -inf\n",
      "[LightGBM] [Warning] No further splits with positive gain, best gain: -inf\n",
      "[LightGBM] [Warning] No further splits with positive gain, best gain: -inf\n",
      "[LightGBM] [Warning] No further splits with positive gain, best gain: -inf\n",
      "[LightGBM] [Warning] No further splits with positive gain, best gain: -inf\n",
      "[LightGBM] [Warning] No further splits with positive gain, best gain: -inf\n",
      "[LightGBM] [Warning] No further splits with positive gain, best gain: -inf\n",
      "[LightGBM] [Warning] No further splits with positive gain, best gain: -inf\n",
      "[LightGBM] [Warning] No further splits with positive gain, best gain: -inf\n",
      "[LightGBM] [Warning] No further splits with positive gain, best gain: -inf\n",
      "[LightGBM] [Warning] No further splits with positive gain, best gain: -inf\n",
      "[LightGBM] [Warning] No further splits with positive gain, best gain: -inf\n",
      "[LightGBM] [Warning] No further splits with positive gain, best gain: -inf\n",
      "[LightGBM] [Warning] No further splits with positive gain, best gain: -inf\n",
      "[LightGBM] [Warning] No further splits with positive gain, best gain: -inf\n",
      "[LightGBM] [Warning] No further splits with positive gain, best gain: -inf\n",
      "[LightGBM] [Warning] No further splits with positive gain, best gain: -inf\n",
      "[LightGBM] [Warning] No further splits with positive gain, best gain: -inf\n",
      "[LightGBM] [Warning] No further splits with positive gain, best gain: -inf\n",
      "[LightGBM] [Warning] No further splits with positive gain, best gain: -inf\n",
      "[LightGBM] [Warning] No further splits with positive gain, best gain: -inf\n",
      "[LightGBM] [Warning] No further splits with positive gain, best gain: -inf\n",
      "[LightGBM] [Warning] No further splits with positive gain, best gain: -inf\n",
      "[LightGBM] [Warning] No further splits with positive gain, best gain: -inf\n",
      "[LightGBM] [Warning] No further splits with positive gain, best gain: -inf\n",
      "[LightGBM] [Warning] No further splits with positive gain, best gain: -inf\n",
      "[LightGBM] [Warning] No further splits with positive gain, best gain: -inf\n",
      "[LightGBM] [Warning] No further splits with positive gain, best gain: -inf\n",
      "[LightGBM] [Warning] No further splits with positive gain, best gain: -inf\n",
      "[LightGBM] [Warning] No further splits with positive gain, best gain: -inf\n",
      "[LightGBM] [Warning] No further splits with positive gain, best gain: -inf\n",
      "[LightGBM] [Warning] No further splits with positive gain, best gain: -inf\n",
      "[LightGBM] [Warning] No further splits with positive gain, best gain: -inf\n",
      "[LightGBM] [Warning] No further splits with positive gain, best gain: -inf\n",
      "[LightGBM] [Warning] No further splits with positive gain, best gain: -inf\n",
      "[LightGBM] [Warning] No further splits with positive gain, best gain: -inf\n",
      "[LightGBM] [Warning] No further splits with positive gain, best gain: -inf\n",
      "[LightGBM] [Warning] No further splits with positive gain, best gain: -inf\n",
      "[LightGBM] [Warning] No further splits with positive gain, best gain: -inf\n",
      "[LightGBM] [Warning] No further splits with positive gain, best gain: -inf\n",
      "[LightGBM] [Warning] No further splits with positive gain, best gain: -inf\n",
      "[LightGBM] [Warning] No further splits with positive gain, best gain: -inf\n",
      "[LightGBM] [Warning] No further splits with positive gain, best gain: -inf\n",
      "[LightGBM] [Warning] No further splits with positive gain, best gain: -inf\n",
      "[LightGBM] [Warning] No further splits with positive gain, best gain: -inf\n",
      "[LightGBM] [Warning] No further splits with positive gain, best gain: -inf\n",
      "[LightGBM] [Warning] No further splits with positive gain, best gain: -inf\n",
      "[LightGBM] [Warning] No further splits with positive gain, best gain: -inf\n",
      "[LightGBM] [Warning] No further splits with positive gain, best gain: -inf\n",
      "[LightGBM] [Warning] No further splits with positive gain, best gain: -inf\n",
      "[LightGBM] [Warning] No further splits with positive gain, best gain: -inf\n",
      "[LightGBM] [Warning] No further splits with positive gain, best gain: -inf\n",
      "[LightGBM] [Warning] No further splits with positive gain, best gain: -inf\n",
      "[LightGBM] [Warning] No further splits with positive gain, best gain: -inf\n",
      "[LightGBM] [Warning] No further splits with positive gain, best gain: -inf\n",
      "[LightGBM] [Warning] No further splits with positive gain, best gain: -inf\n",
      "[LightGBM] [Warning] No further splits with positive gain, best gain: -inf\n",
      "[LightGBM] [Warning] No further splits with positive gain, best gain: -inf\n",
      "[LightGBM] [Warning] No further splits with positive gain, best gain: -inf\n"
     ]
    },
    {
     "name": "stderr",
     "output_type": "stream",
     "text": [
      "/opt/conda/lib/python3.9/site-packages/lightgbm/basic.py:2065: UserWarning: Using categorical_feature in Dataset.\n",
      "  _log_warning('Using categorical_feature in Dataset.')\n"
     ]
    },
    {
     "name": "stdout",
     "output_type": "stream",
     "text": [
      "[LightGBM] [Warning] No further splits with positive gain, best gain: -inf\n",
      "[LightGBM] [Warning] No further splits with positive gain, best gain: -inf\n",
      "[LightGBM] [Warning] No further splits with positive gain, best gain: -inf\n",
      "[LightGBM] [Warning] No further splits with positive gain, best gain: -inf\n",
      "[LightGBM] [Warning] No further splits with positive gain, best gain: -inf\n",
      "[LightGBM] [Warning] No further splits with positive gain, best gain: -inf\n",
      "[LightGBM] [Warning] No further splits with positive gain, best gain: -inf\n",
      "[LightGBM] [Warning] No further splits with positive gain, best gain: -inf\n",
      "[LightGBM] [Warning] No further splits with positive gain, best gain: -inf\n",
      "[LightGBM] [Warning] No further splits with positive gain, best gain: -inf\n",
      "[LightGBM] [Warning] No further splits with positive gain, best gain: -inf\n",
      "[LightGBM] [Warning] No further splits with positive gain, best gain: -inf\n",
      "[LightGBM] [Warning] No further splits with positive gain, best gain: -inf\n",
      "[LightGBM] [Warning] No further splits with positive gain, best gain: -inf\n",
      "[LightGBM] [Warning] No further splits with positive gain, best gain: -inf\n",
      "[LightGBM] [Warning] No further splits with positive gain, best gain: -inf\n",
      "[LightGBM] [Warning] No further splits with positive gain, best gain: -inf\n",
      "[LightGBM] [Warning] No further splits with positive gain, best gain: -inf\n",
      "[LightGBM] [Warning] No further splits with positive gain, best gain: -inf\n",
      "[LightGBM] [Warning] No further splits with positive gain, best gain: -inf\n",
      "[LightGBM] [Warning] No further splits with positive gain, best gain: -inf\n",
      "[LightGBM] [Warning] No further splits with positive gain, best gain: -inf\n",
      "[LightGBM] [Warning] No further splits with positive gain, best gain: -inf\n",
      "[LightGBM] [Warning] No further splits with positive gain, best gain: -inf\n",
      "[LightGBM] [Warning] No further splits with positive gain, best gain: -inf\n",
      "[LightGBM] [Warning] No further splits with positive gain, best gain: -inf\n",
      "[LightGBM] [Warning] No further splits with positive gain, best gain: -inf\n",
      "[LightGBM] [Warning] No further splits with positive gain, best gain: -inf\n",
      "[LightGBM] [Warning] No further splits with positive gain, best gain: -inf\n",
      "[LightGBM] [Warning] No further splits with positive gain, best gain: -inf\n",
      "[LightGBM] [Warning] No further splits with positive gain, best gain: -inf\n",
      "[LightGBM] [Warning] No further splits with positive gain, best gain: -inf\n",
      "[LightGBM] [Warning] No further splits with positive gain, best gain: -inf\n",
      "[LightGBM] [Warning] No further splits with positive gain, best gain: -inf\n",
      "[LightGBM] [Warning] No further splits with positive gain, best gain: -inf\n",
      "[LightGBM] [Warning] No further splits with positive gain, best gain: -inf\n",
      "[LightGBM] [Warning] No further splits with positive gain, best gain: -inf\n",
      "[LightGBM] [Warning] No further splits with positive gain, best gain: -inf\n",
      "[LightGBM] [Warning] No further splits with positive gain, best gain: -inf\n",
      "[LightGBM] [Warning] No further splits with positive gain, best gain: -inf\n",
      "[LightGBM] [Warning] No further splits with positive gain, best gain: -inf\n",
      "[LightGBM] [Warning] No further splits with positive gain, best gain: -inf\n",
      "[LightGBM] [Warning] No further splits with positive gain, best gain: -inf\n",
      "[LightGBM] [Warning] No further splits with positive gain, best gain: -inf\n",
      "[LightGBM] [Warning] No further splits with positive gain, best gain: -inf\n",
      "[LightGBM] [Warning] No further splits with positive gain, best gain: -inf\n",
      "[LightGBM] [Warning] No further splits with positive gain, best gain: -inf\n",
      "[LightGBM] [Warning] No further splits with positive gain, best gain: -inf\n",
      "[LightGBM] [Warning] No further splits with positive gain, best gain: -inf\n",
      "[LightGBM] [Warning] No further splits with positive gain, best gain: -inf\n",
      "[LightGBM] [Warning] No further splits with positive gain, best gain: -inf\n",
      "[LightGBM] [Warning] No further splits with positive gain, best gain: -inf\n",
      "[LightGBM] [Warning] No further splits with positive gain, best gain: -inf\n",
      "[LightGBM] [Warning] No further splits with positive gain, best gain: -inf\n",
      "[LightGBM] [Warning] No further splits with positive gain, best gain: -inf\n",
      "[LightGBM] [Warning] No further splits with positive gain, best gain: -inf\n",
      "[LightGBM] [Warning] No further splits with positive gain, best gain: -inf\n",
      "[LightGBM] [Warning] No further splits with positive gain, best gain: -inf\n",
      "[LightGBM] [Warning] No further splits with positive gain, best gain: -inf\n",
      "[LightGBM] [Warning] No further splits with positive gain, best gain: -inf\n"
     ]
    },
    {
     "name": "stderr",
     "output_type": "stream",
     "text": [
      "/opt/conda/lib/python3.9/site-packages/lightgbm/basic.py:2065: UserWarning: Using categorical_feature in Dataset.\n",
      "  _log_warning('Using categorical_feature in Dataset.')\n"
     ]
    },
    {
     "name": "stdout",
     "output_type": "stream",
     "text": [
      "[LightGBM] [Warning] No further splits with positive gain, best gain: -inf\n",
      "[LightGBM] [Warning] No further splits with positive gain, best gain: -inf\n",
      "[LightGBM] [Warning] No further splits with positive gain, best gain: -inf\n",
      "[LightGBM] [Warning] No further splits with positive gain, best gain: -inf\n",
      "[LightGBM] [Warning] No further splits with positive gain, best gain: -inf\n",
      "[LightGBM] [Warning] No further splits with positive gain, best gain: -inf\n",
      "[LightGBM] [Warning] No further splits with positive gain, best gain: -inf\n",
      "[LightGBM] [Warning] No further splits with positive gain, best gain: -inf\n",
      "[LightGBM] [Warning] No further splits with positive gain, best gain: -inf\n",
      "[LightGBM] [Warning] No further splits with positive gain, best gain: -inf\n",
      "[LightGBM] [Warning] No further splits with positive gain, best gain: -inf\n",
      "[LightGBM] [Warning] No further splits with positive gain, best gain: -inf\n",
      "[LightGBM] [Warning] No further splits with positive gain, best gain: -inf\n",
      "[LightGBM] [Warning] No further splits with positive gain, best gain: -inf\n",
      "[LightGBM] [Warning] No further splits with positive gain, best gain: -inf\n",
      "[LightGBM] [Warning] No further splits with positive gain, best gain: -inf\n",
      "[LightGBM] [Warning] No further splits with positive gain, best gain: -inf\n",
      "[LightGBM] [Warning] No further splits with positive gain, best gain: -inf\n",
      "[LightGBM] [Warning] No further splits with positive gain, best gain: -inf\n",
      "[LightGBM] [Warning] No further splits with positive gain, best gain: -inf\n",
      "[LightGBM] [Warning] No further splits with positive gain, best gain: -inf\n",
      "[LightGBM] [Warning] No further splits with positive gain, best gain: -inf\n",
      "[LightGBM] [Warning] No further splits with positive gain, best gain: -inf\n",
      "[LightGBM] [Warning] No further splits with positive gain, best gain: -inf\n",
      "[LightGBM] [Warning] No further splits with positive gain, best gain: -inf\n",
      "[LightGBM] [Warning] No further splits with positive gain, best gain: -inf\n",
      "[LightGBM] [Warning] No further splits with positive gain, best gain: -inf\n",
      "[LightGBM] [Warning] No further splits with positive gain, best gain: -inf\n",
      "[LightGBM] [Warning] No further splits with positive gain, best gain: -inf\n",
      "[LightGBM] [Warning] No further splits with positive gain, best gain: -inf\n",
      "[LightGBM] [Warning] No further splits with positive gain, best gain: -inf\n",
      "[LightGBM] [Warning] No further splits with positive gain, best gain: -inf\n",
      "[LightGBM] [Warning] No further splits with positive gain, best gain: -inf\n",
      "[LightGBM] [Warning] No further splits with positive gain, best gain: -inf\n",
      "[LightGBM] [Warning] No further splits with positive gain, best gain: -inf\n",
      "[LightGBM] [Warning] No further splits with positive gain, best gain: -inf\n",
      "[LightGBM] [Warning] No further splits with positive gain, best gain: -inf\n",
      "[LightGBM] [Warning] No further splits with positive gain, best gain: -inf\n",
      "[LightGBM] [Warning] No further splits with positive gain, best gain: -inf\n",
      "[LightGBM] [Warning] No further splits with positive gain, best gain: -inf\n",
      "[LightGBM] [Warning] No further splits with positive gain, best gain: -inf\n",
      "[LightGBM] [Warning] No further splits with positive gain, best gain: -inf\n",
      "[LightGBM] [Warning] No further splits with positive gain, best gain: -inf\n",
      "[LightGBM] [Warning] No further splits with positive gain, best gain: -inf\n",
      "[LightGBM] [Warning] No further splits with positive gain, best gain: -inf\n",
      "[LightGBM] [Warning] No further splits with positive gain, best gain: -inf\n",
      "[LightGBM] [Warning] No further splits with positive gain, best gain: -inf\n",
      "[LightGBM] [Warning] No further splits with positive gain, best gain: -inf\n",
      "[LightGBM] [Warning] No further splits with positive gain, best gain: -inf\n",
      "[LightGBM] [Warning] No further splits with positive gain, best gain: -inf\n",
      "[LightGBM] [Warning] No further splits with positive gain, best gain: -inf\n",
      "[LightGBM] [Warning] No further splits with positive gain, best gain: -inf\n",
      "[LightGBM] [Warning] No further splits with positive gain, best gain: -inf\n",
      "[LightGBM] [Warning] No further splits with positive gain, best gain: -inf\n",
      "[LightGBM] [Warning] No further splits with positive gain, best gain: -inf\n",
      "[LightGBM] [Warning] No further splits with positive gain, best gain: -inf\n",
      "[LightGBM] [Warning] No further splits with positive gain, best gain: -inf\n",
      "[LightGBM] [Warning] No further splits with positive gain, best gain: -inf\n",
      "[LightGBM] [Warning] No further splits with positive gain, best gain: -inf\n",
      "[LightGBM] [Warning] No further splits with positive gain, best gain: -inf\n"
     ]
    },
    {
     "name": "stderr",
     "output_type": "stream",
     "text": [
      "/opt/conda/lib/python3.9/site-packages/lightgbm/basic.py:2065: UserWarning: Using categorical_feature in Dataset.\n",
      "  _log_warning('Using categorical_feature in Dataset.')\n"
     ]
    },
    {
     "name": "stdout",
     "output_type": "stream",
     "text": [
      "[LightGBM] [Warning] No further splits with positive gain, best gain: -inf\n",
      "[LightGBM] [Warning] No further splits with positive gain, best gain: -inf\n",
      "[LightGBM] [Warning] No further splits with positive gain, best gain: -inf\n",
      "[LightGBM] [Warning] No further splits with positive gain, best gain: -inf\n",
      "[LightGBM] [Warning] No further splits with positive gain, best gain: -inf\n",
      "[LightGBM] [Warning] No further splits with positive gain, best gain: -inf\n",
      "[LightGBM] [Warning] No further splits with positive gain, best gain: -inf\n",
      "[LightGBM] [Warning] No further splits with positive gain, best gain: -inf\n",
      "[LightGBM] [Warning] No further splits with positive gain, best gain: -inf\n",
      "[LightGBM] [Warning] No further splits with positive gain, best gain: -inf\n",
      "[LightGBM] [Warning] No further splits with positive gain, best gain: -inf\n",
      "[LightGBM] [Warning] No further splits with positive gain, best gain: -inf\n",
      "[LightGBM] [Warning] No further splits with positive gain, best gain: -inf\n",
      "[LightGBM] [Warning] No further splits with positive gain, best gain: -inf\n",
      "[LightGBM] [Warning] No further splits with positive gain, best gain: -inf\n",
      "[LightGBM] [Warning] No further splits with positive gain, best gain: -inf\n",
      "[LightGBM] [Warning] No further splits with positive gain, best gain: -inf\n",
      "[LightGBM] [Warning] No further splits with positive gain, best gain: -inf\n",
      "[LightGBM] [Warning] No further splits with positive gain, best gain: -inf\n",
      "[LightGBM] [Warning] No further splits with positive gain, best gain: -inf\n",
      "[LightGBM] [Warning] No further splits with positive gain, best gain: -inf\n",
      "[LightGBM] [Warning] No further splits with positive gain, best gain: -inf\n",
      "[LightGBM] [Warning] No further splits with positive gain, best gain: -inf\n",
      "[LightGBM] [Warning] No further splits with positive gain, best gain: -inf\n",
      "[LightGBM] [Warning] No further splits with positive gain, best gain: -inf\n",
      "[LightGBM] [Warning] No further splits with positive gain, best gain: -inf\n",
      "[LightGBM] [Warning] No further splits with positive gain, best gain: -inf\n",
      "[LightGBM] [Warning] No further splits with positive gain, best gain: -inf\n",
      "[LightGBM] [Warning] No further splits with positive gain, best gain: -inf\n",
      "[LightGBM] [Warning] No further splits with positive gain, best gain: -inf\n",
      "[LightGBM] [Warning] No further splits with positive gain, best gain: -inf\n",
      "[LightGBM] [Warning] No further splits with positive gain, best gain: -inf\n",
      "[LightGBM] [Warning] No further splits with positive gain, best gain: -inf\n",
      "[LightGBM] [Warning] No further splits with positive gain, best gain: -inf\n",
      "[LightGBM] [Warning] No further splits with positive gain, best gain: -inf\n",
      "[LightGBM] [Warning] No further splits with positive gain, best gain: -inf\n",
      "[LightGBM] [Warning] No further splits with positive gain, best gain: -inf\n",
      "[LightGBM] [Warning] No further splits with positive gain, best gain: -inf\n",
      "[LightGBM] [Warning] No further splits with positive gain, best gain: -inf\n",
      "[LightGBM] [Warning] No further splits with positive gain, best gain: -inf\n",
      "[LightGBM] [Warning] No further splits with positive gain, best gain: -inf\n",
      "[LightGBM] [Warning] No further splits with positive gain, best gain: -inf\n",
      "[LightGBM] [Warning] No further splits with positive gain, best gain: -inf\n",
      "[LightGBM] [Warning] No further splits with positive gain, best gain: -inf\n",
      "[LightGBM] [Warning] No further splits with positive gain, best gain: -inf\n"
     ]
    },
    {
     "name": "stderr",
     "output_type": "stream",
     "text": [
      "/opt/conda/lib/python3.9/site-packages/lightgbm/basic.py:2065: UserWarning: Using categorical_feature in Dataset.\n",
      "  _log_warning('Using categorical_feature in Dataset.')\n"
     ]
    },
    {
     "name": "stdout",
     "output_type": "stream",
     "text": [
      "[LightGBM] [Warning] No further splits with positive gain, best gain: -inf\n",
      "[LightGBM] [Warning] No further splits with positive gain, best gain: -inf\n",
      "[LightGBM] [Warning] No further splits with positive gain, best gain: -inf\n",
      "[LightGBM] [Warning] No further splits with positive gain, best gain: -inf\n",
      "[LightGBM] [Warning] No further splits with positive gain, best gain: -inf\n",
      "[LightGBM] [Warning] No further splits with positive gain, best gain: -inf\n",
      "[LightGBM] [Warning] No further splits with positive gain, best gain: -inf\n",
      "[LightGBM] [Warning] No further splits with positive gain, best gain: -inf\n",
      "[LightGBM] [Warning] No further splits with positive gain, best gain: -inf\n",
      "[LightGBM] [Warning] No further splits with positive gain, best gain: -inf\n",
      "[LightGBM] [Warning] No further splits with positive gain, best gain: -inf\n",
      "[LightGBM] [Warning] No further splits with positive gain, best gain: -inf\n",
      "[LightGBM] [Warning] No further splits with positive gain, best gain: -inf\n",
      "[LightGBM] [Warning] No further splits with positive gain, best gain: -inf\n",
      "[LightGBM] [Warning] No further splits with positive gain, best gain: -inf\n",
      "[LightGBM] [Warning] No further splits with positive gain, best gain: -inf\n",
      "[LightGBM] [Warning] No further splits with positive gain, best gain: -inf\n",
      "[LightGBM] [Warning] No further splits with positive gain, best gain: -inf\n",
      "[LightGBM] [Warning] No further splits with positive gain, best gain: -inf\n",
      "[LightGBM] [Warning] No further splits with positive gain, best gain: -inf\n",
      "[LightGBM] [Warning] No further splits with positive gain, best gain: -inf\n",
      "[LightGBM] [Warning] No further splits with positive gain, best gain: -inf\n",
      "[LightGBM] [Warning] No further splits with positive gain, best gain: -inf\n",
      "[LightGBM] [Warning] No further splits with positive gain, best gain: -inf\n",
      "[LightGBM] [Warning] No further splits with positive gain, best gain: -inf\n",
      "[LightGBM] [Warning] No further splits with positive gain, best gain: -inf\n",
      "[LightGBM] [Warning] No further splits with positive gain, best gain: -inf\n",
      "[LightGBM] [Warning] No further splits with positive gain, best gain: -inf\n",
      "[LightGBM] [Warning] No further splits with positive gain, best gain: -inf\n",
      "[LightGBM] [Warning] No further splits with positive gain, best gain: -inf\n",
      "[LightGBM] [Warning] No further splits with positive gain, best gain: -inf\n",
      "[LightGBM] [Warning] No further splits with positive gain, best gain: -inf\n",
      "[LightGBM] [Warning] No further splits with positive gain, best gain: -inf\n",
      "[LightGBM] [Warning] No further splits with positive gain, best gain: -inf\n",
      "[LightGBM] [Warning] No further splits with positive gain, best gain: -inf\n",
      "[LightGBM] [Warning] No further splits with positive gain, best gain: -inf\n",
      "[LightGBM] [Warning] No further splits with positive gain, best gain: -inf\n",
      "[LightGBM] [Warning] No further splits with positive gain, best gain: -inf\n",
      "[LightGBM] [Warning] No further splits with positive gain, best gain: -inf\n",
      "[LightGBM] [Warning] No further splits with positive gain, best gain: -inf\n",
      "[LightGBM] [Warning] No further splits with positive gain, best gain: -inf\n",
      "[LightGBM] [Warning] No further splits with positive gain, best gain: -inf\n",
      "[LightGBM] [Warning] No further splits with positive gain, best gain: -inf\n",
      "[LightGBM] [Warning] No further splits with positive gain, best gain: -inf\n",
      "[LightGBM] [Warning] No further splits with positive gain, best gain: -inf\n",
      "[LightGBM] [Warning] No further splits with positive gain, best gain: -inf\n",
      "[LightGBM] [Warning] No further splits with positive gain, best gain: -inf\n"
     ]
    },
    {
     "name": "stderr",
     "output_type": "stream",
     "text": [
      "/opt/conda/lib/python3.9/site-packages/lightgbm/basic.py:2065: UserWarning: Using categorical_feature in Dataset.\n",
      "  _log_warning('Using categorical_feature in Dataset.')\n"
     ]
    },
    {
     "name": "stdout",
     "output_type": "stream",
     "text": [
      "[LightGBM] [Warning] No further splits with positive gain, best gain: -inf\n",
      "[LightGBM] [Warning] No further splits with positive gain, best gain: -inf\n",
      "[LightGBM] [Warning] No further splits with positive gain, best gain: -inf\n",
      "[LightGBM] [Warning] No further splits with positive gain, best gain: -inf\n",
      "[LightGBM] [Warning] No further splits with positive gain, best gain: -inf\n",
      "[LightGBM] [Warning] No further splits with positive gain, best gain: -inf\n",
      "[LightGBM] [Warning] No further splits with positive gain, best gain: -inf\n",
      "[LightGBM] [Warning] No further splits with positive gain, best gain: -inf\n",
      "[LightGBM] [Warning] No further splits with positive gain, best gain: -inf\n",
      "[LightGBM] [Warning] No further splits with positive gain, best gain: -inf\n",
      "[LightGBM] [Warning] No further splits with positive gain, best gain: -inf\n",
      "[LightGBM] [Warning] No further splits with positive gain, best gain: -inf\n",
      "[LightGBM] [Warning] No further splits with positive gain, best gain: -inf\n",
      "[LightGBM] [Warning] No further splits with positive gain, best gain: -inf\n",
      "[LightGBM] [Warning] No further splits with positive gain, best gain: -inf\n",
      "[LightGBM] [Warning] No further splits with positive gain, best gain: -inf\n",
      "[LightGBM] [Warning] No further splits with positive gain, best gain: -inf\n",
      "[LightGBM] [Warning] No further splits with positive gain, best gain: -inf\n",
      "[LightGBM] [Warning] No further splits with positive gain, best gain: -inf\n",
      "[LightGBM] [Warning] No further splits with positive gain, best gain: -inf\n",
      "[LightGBM] [Warning] No further splits with positive gain, best gain: -inf\n",
      "[LightGBM] [Warning] No further splits with positive gain, best gain: -inf\n",
      "[LightGBM] [Warning] No further splits with positive gain, best gain: -inf\n",
      "[LightGBM] [Warning] No further splits with positive gain, best gain: -inf\n",
      "[LightGBM] [Warning] No further splits with positive gain, best gain: -inf\n",
      "[LightGBM] [Warning] No further splits with positive gain, best gain: -inf\n",
      "[LightGBM] [Warning] No further splits with positive gain, best gain: -inf\n",
      "[LightGBM] [Warning] No further splits with positive gain, best gain: -inf\n",
      "[LightGBM] [Warning] No further splits with positive gain, best gain: -inf\n",
      "[LightGBM] [Warning] No further splits with positive gain, best gain: -inf\n",
      "[LightGBM] [Warning] No further splits with positive gain, best gain: -inf\n",
      "[LightGBM] [Warning] No further splits with positive gain, best gain: -inf\n",
      "[LightGBM] [Warning] No further splits with positive gain, best gain: -inf\n",
      "[LightGBM] [Warning] No further splits with positive gain, best gain: -inf\n",
      "[LightGBM] [Warning] No further splits with positive gain, best gain: -inf\n",
      "[LightGBM] [Warning] No further splits with positive gain, best gain: -inf\n",
      "[LightGBM] [Warning] No further splits with positive gain, best gain: -inf\n",
      "[LightGBM] [Warning] No further splits with positive gain, best gain: -inf\n",
      "[LightGBM] [Warning] No further splits with positive gain, best gain: -inf\n",
      "[LightGBM] [Warning] No further splits with positive gain, best gain: -inf\n",
      "[LightGBM] [Warning] No further splits with positive gain, best gain: -inf\n",
      "[LightGBM] [Warning] No further splits with positive gain, best gain: -inf\n",
      "[LightGBM] [Warning] No further splits with positive gain, best gain: -inf\n",
      "[LightGBM] [Warning] No further splits with positive gain, best gain: -inf\n",
      "[LightGBM] [Warning] No further splits with positive gain, best gain: -inf\n",
      "[LightGBM] [Warning] No further splits with positive gain, best gain: -inf\n",
      "[LightGBM] [Warning] No further splits with positive gain, best gain: -inf\n"
     ]
    },
    {
     "name": "stderr",
     "output_type": "stream",
     "text": [
      "/opt/conda/lib/python3.9/site-packages/lightgbm/basic.py:2065: UserWarning: Using categorical_feature in Dataset.\n",
      "  _log_warning('Using categorical_feature in Dataset.')\n"
     ]
    },
    {
     "name": "stdout",
     "output_type": "stream",
     "text": [
      "[LightGBM] [Warning] No further splits with positive gain, best gain: -inf\n",
      "[LightGBM] [Warning] No further splits with positive gain, best gain: -inf\n",
      "[LightGBM] [Warning] No further splits with positive gain, best gain: -inf\n",
      "[LightGBM] [Warning] No further splits with positive gain, best gain: -inf\n",
      "[LightGBM] [Warning] No further splits with positive gain, best gain: -inf\n",
      "[LightGBM] [Warning] No further splits with positive gain, best gain: -inf\n",
      "[LightGBM] [Warning] No further splits with positive gain, best gain: -inf\n",
      "[LightGBM] [Warning] No further splits with positive gain, best gain: -inf\n",
      "[LightGBM] [Warning] No further splits with positive gain, best gain: -inf\n",
      "[LightGBM] [Warning] No further splits with positive gain, best gain: -inf\n",
      "[LightGBM] [Warning] No further splits with positive gain, best gain: -inf\n",
      "[LightGBM] [Warning] No further splits with positive gain, best gain: -inf\n",
      "[LightGBM] [Warning] No further splits with positive gain, best gain: -inf\n",
      "[LightGBM] [Warning] No further splits with positive gain, best gain: -inf\n",
      "[LightGBM] [Warning] No further splits with positive gain, best gain: -inf\n",
      "[LightGBM] [Warning] No further splits with positive gain, best gain: -inf\n",
      "[LightGBM] [Warning] No further splits with positive gain, best gain: -inf\n",
      "[LightGBM] [Warning] No further splits with positive gain, best gain: -inf\n",
      "[LightGBM] [Warning] No further splits with positive gain, best gain: -inf\n",
      "[LightGBM] [Warning] No further splits with positive gain, best gain: -inf\n",
      "[LightGBM] [Warning] No further splits with positive gain, best gain: -inf\n",
      "[LightGBM] [Warning] No further splits with positive gain, best gain: -inf\n",
      "[LightGBM] [Warning] No further splits with positive gain, best gain: -inf\n",
      "[LightGBM] [Warning] No further splits with positive gain, best gain: -inf\n",
      "[LightGBM] [Warning] No further splits with positive gain, best gain: -inf\n",
      "[LightGBM] [Warning] No further splits with positive gain, best gain: -inf\n",
      "[LightGBM] [Warning] No further splits with positive gain, best gain: -inf\n",
      "[LightGBM] [Warning] No further splits with positive gain, best gain: -inf\n",
      "[LightGBM] [Warning] No further splits with positive gain, best gain: -inf\n",
      "[LightGBM] [Warning] No further splits with positive gain, best gain: -inf\n",
      "[LightGBM] [Warning] No further splits with positive gain, best gain: -inf\n",
      "[LightGBM] [Warning] No further splits with positive gain, best gain: -inf\n",
      "[LightGBM] [Warning] No further splits with positive gain, best gain: -inf\n",
      "[LightGBM] [Warning] No further splits with positive gain, best gain: -inf\n",
      "[LightGBM] [Warning] No further splits with positive gain, best gain: -inf\n",
      "[LightGBM] [Warning] No further splits with positive gain, best gain: -inf\n",
      "[LightGBM] [Warning] No further splits with positive gain, best gain: -inf\n",
      "[LightGBM] [Warning] No further splits with positive gain, best gain: -inf\n",
      "[LightGBM] [Warning] No further splits with positive gain, best gain: -inf\n",
      "[LightGBM] [Warning] No further splits with positive gain, best gain: -inf\n",
      "[LightGBM] [Warning] No further splits with positive gain, best gain: -inf\n",
      "[LightGBM] [Warning] No further splits with positive gain, best gain: -inf\n",
      "[LightGBM] [Warning] No further splits with positive gain, best gain: -inf\n",
      "[LightGBM] [Warning] No further splits with positive gain, best gain: -inf\n",
      "[LightGBM] [Warning] No further splits with positive gain, best gain: -inf\n",
      "[LightGBM] [Warning] No further splits with positive gain, best gain: -inf\n",
      "[LightGBM] [Warning] No further splits with positive gain, best gain: -inf\n",
      "[LightGBM] [Warning] No further splits with positive gain, best gain: -inf\n",
      "[LightGBM] [Warning] No further splits with positive gain, best gain: -inf\n",
      "[LightGBM] [Warning] No further splits with positive gain, best gain: -inf\n",
      "[LightGBM] [Warning] No further splits with positive gain, best gain: -inf\n",
      "[LightGBM] [Warning] No further splits with positive gain, best gain: -inf\n",
      "[LightGBM] [Warning] No further splits with positive gain, best gain: -inf\n",
      "[LightGBM] [Warning] No further splits with positive gain, best gain: -inf\n",
      "[LightGBM] [Warning] No further splits with positive gain, best gain: -inf\n",
      "[LightGBM] [Warning] No further splits with positive gain, best gain: -inf\n",
      "[LightGBM] [Warning] No further splits with positive gain, best gain: -inf\n",
      "[LightGBM] [Warning] No further splits with positive gain, best gain: -inf\n",
      "[LightGBM] [Warning] No further splits with positive gain, best gain: -inf\n",
      "[LightGBM] [Warning] No further splits with positive gain, best gain: -inf\n",
      "[LightGBM] [Warning] No further splits with positive gain, best gain: -inf\n",
      "[LightGBM] [Warning] No further splits with positive gain, best gain: -inf\n",
      "[LightGBM] [Warning] No further splits with positive gain, best gain: -inf\n",
      "[LightGBM] [Warning] No further splits with positive gain, best gain: -inf\n",
      "[LightGBM] [Warning] No further splits with positive gain, best gain: -inf\n",
      "[LightGBM] [Warning] No further splits with positive gain, best gain: -inf\n",
      "[LightGBM] [Warning] No further splits with positive gain, best gain: -inf\n",
      "[LightGBM] [Warning] No further splits with positive gain, best gain: -inf\n",
      "[LightGBM] [Warning] No further splits with positive gain, best gain: -inf\n",
      "[LightGBM] [Warning] No further splits with positive gain, best gain: -inf\n",
      "[LightGBM] [Warning] No further splits with positive gain, best gain: -inf\n",
      "[LightGBM] [Warning] No further splits with positive gain, best gain: -inf\n",
      "[LightGBM] [Warning] No further splits with positive gain, best gain: -inf\n",
      "[LightGBM] [Warning] No further splits with positive gain, best gain: -inf\n",
      "[LightGBM] [Warning] No further splits with positive gain, best gain: -inf\n",
      "[LightGBM] [Warning] No further splits with positive gain, best gain: -inf\n",
      "[LightGBM] [Warning] No further splits with positive gain, best gain: -inf\n",
      "[LightGBM] [Warning] No further splits with positive gain, best gain: -inf\n",
      "[LightGBM] [Warning] No further splits with positive gain, best gain: -inf\n",
      "[LightGBM] [Warning] No further splits with positive gain, best gain: -inf\n",
      "[LightGBM] [Warning] No further splits with positive gain, best gain: -inf\n",
      "[LightGBM] [Warning] No further splits with positive gain, best gain: -inf\n",
      "[LightGBM] [Warning] No further splits with positive gain, best gain: -inf\n",
      "[LightGBM] [Warning] No further splits with positive gain, best gain: -inf\n",
      "[LightGBM] [Warning] No further splits with positive gain, best gain: -inf\n",
      "[LightGBM] [Warning] No further splits with positive gain, best gain: -inf\n",
      "[LightGBM] [Warning] No further splits with positive gain, best gain: -inf\n",
      "[LightGBM] [Warning] No further splits with positive gain, best gain: -inf\n",
      "[LightGBM] [Warning] No further splits with positive gain, best gain: -inf\n",
      "[LightGBM] [Warning] No further splits with positive gain, best gain: -inf\n",
      "[LightGBM] [Warning] No further splits with positive gain, best gain: -inf\n",
      "[LightGBM] [Warning] No further splits with positive gain, best gain: -inf\n",
      "[LightGBM] [Warning] No further splits with positive gain, best gain: -inf\n",
      "[LightGBM] [Warning] No further splits with positive gain, best gain: -inf\n",
      "[LightGBM] [Warning] No further splits with positive gain, best gain: -inf\n"
     ]
    },
    {
     "name": "stderr",
     "output_type": "stream",
     "text": [
      "/opt/conda/lib/python3.9/site-packages/lightgbm/basic.py:2065: UserWarning: Using categorical_feature in Dataset.\n",
      "  _log_warning('Using categorical_feature in Dataset.')\n"
     ]
    },
    {
     "name": "stdout",
     "output_type": "stream",
     "text": [
      "[LightGBM] [Warning] No further splits with positive gain, best gain: -inf\n",
      "[LightGBM] [Warning] No further splits with positive gain, best gain: -inf\n",
      "[LightGBM] [Warning] No further splits with positive gain, best gain: -inf\n",
      "[LightGBM] [Warning] No further splits with positive gain, best gain: -inf\n",
      "[LightGBM] [Warning] No further splits with positive gain, best gain: -inf\n",
      "[LightGBM] [Warning] No further splits with positive gain, best gain: -inf\n",
      "[LightGBM] [Warning] No further splits with positive gain, best gain: -inf\n",
      "[LightGBM] [Warning] No further splits with positive gain, best gain: -inf\n",
      "[LightGBM] [Warning] No further splits with positive gain, best gain: -inf\n",
      "[LightGBM] [Warning] No further splits with positive gain, best gain: -inf\n",
      "[LightGBM] [Warning] No further splits with positive gain, best gain: -inf\n",
      "[LightGBM] [Warning] No further splits with positive gain, best gain: -inf\n",
      "[LightGBM] [Warning] No further splits with positive gain, best gain: -inf\n",
      "[LightGBM] [Warning] No further splits with positive gain, best gain: -inf\n",
      "[LightGBM] [Warning] No further splits with positive gain, best gain: -inf\n",
      "[LightGBM] [Warning] No further splits with positive gain, best gain: -inf\n",
      "[LightGBM] [Warning] No further splits with positive gain, best gain: -inf\n",
      "[LightGBM] [Warning] No further splits with positive gain, best gain: -inf\n",
      "[LightGBM] [Warning] No further splits with positive gain, best gain: -inf\n",
      "[LightGBM] [Warning] No further splits with positive gain, best gain: -inf\n",
      "[LightGBM] [Warning] No further splits with positive gain, best gain: -inf\n",
      "[LightGBM] [Warning] No further splits with positive gain, best gain: -inf\n",
      "[LightGBM] [Warning] No further splits with positive gain, best gain: -inf\n",
      "[LightGBM] [Warning] No further splits with positive gain, best gain: -inf\n",
      "[LightGBM] [Warning] No further splits with positive gain, best gain: -inf\n",
      "[LightGBM] [Warning] No further splits with positive gain, best gain: -inf\n",
      "[LightGBM] [Warning] No further splits with positive gain, best gain: -inf\n",
      "[LightGBM] [Warning] No further splits with positive gain, best gain: -inf\n",
      "[LightGBM] [Warning] No further splits with positive gain, best gain: -inf\n",
      "[LightGBM] [Warning] No further splits with positive gain, best gain: -inf\n",
      "[LightGBM] [Warning] No further splits with positive gain, best gain: -inf\n",
      "[LightGBM] [Warning] No further splits with positive gain, best gain: -inf\n",
      "[LightGBM] [Warning] No further splits with positive gain, best gain: -inf\n",
      "[LightGBM] [Warning] No further splits with positive gain, best gain: -inf\n",
      "[LightGBM] [Warning] No further splits with positive gain, best gain: -inf\n",
      "[LightGBM] [Warning] No further splits with positive gain, best gain: -inf\n",
      "[LightGBM] [Warning] No further splits with positive gain, best gain: -inf\n",
      "[LightGBM] [Warning] No further splits with positive gain, best gain: -inf\n",
      "[LightGBM] [Warning] No further splits with positive gain, best gain: -inf\n",
      "[LightGBM] [Warning] No further splits with positive gain, best gain: -inf\n",
      "[LightGBM] [Warning] No further splits with positive gain, best gain: -inf\n",
      "[LightGBM] [Warning] No further splits with positive gain, best gain: -inf\n",
      "[LightGBM] [Warning] No further splits with positive gain, best gain: -inf\n",
      "[LightGBM] [Warning] No further splits with positive gain, best gain: -inf\n",
      "[LightGBM] [Warning] No further splits with positive gain, best gain: -inf\n",
      "[LightGBM] [Warning] No further splits with positive gain, best gain: -inf\n",
      "[LightGBM] [Warning] No further splits with positive gain, best gain: -inf\n",
      "[LightGBM] [Warning] No further splits with positive gain, best gain: -inf\n",
      "[LightGBM] [Warning] No further splits with positive gain, best gain: -inf\n",
      "[LightGBM] [Warning] No further splits with positive gain, best gain: -inf\n",
      "[LightGBM] [Warning] No further splits with positive gain, best gain: -inf\n",
      "[LightGBM] [Warning] No further splits with positive gain, best gain: -inf\n",
      "[LightGBM] [Warning] No further splits with positive gain, best gain: -inf\n",
      "[LightGBM] [Warning] No further splits with positive gain, best gain: -inf\n",
      "[LightGBM] [Warning] No further splits with positive gain, best gain: -inf\n",
      "[LightGBM] [Warning] No further splits with positive gain, best gain: -inf\n",
      "[LightGBM] [Warning] No further splits with positive gain, best gain: -inf\n",
      "[LightGBM] [Warning] No further splits with positive gain, best gain: -inf\n",
      "[LightGBM] [Warning] No further splits with positive gain, best gain: -inf\n",
      "[LightGBM] [Warning] No further splits with positive gain, best gain: -inf\n",
      "[LightGBM] [Warning] No further splits with positive gain, best gain: -inf\n",
      "[LightGBM] [Warning] No further splits with positive gain, best gain: -inf\n",
      "[LightGBM] [Warning] No further splits with positive gain, best gain: -inf\n",
      "[LightGBM] [Warning] No further splits with positive gain, best gain: -inf\n",
      "[LightGBM] [Warning] No further splits with positive gain, best gain: -inf\n",
      "[LightGBM] [Warning] No further splits with positive gain, best gain: -inf\n",
      "[LightGBM] [Warning] No further splits with positive gain, best gain: -inf\n",
      "[LightGBM] [Warning] No further splits with positive gain, best gain: -inf\n",
      "[LightGBM] [Warning] No further splits with positive gain, best gain: -inf\n",
      "[LightGBM] [Warning] No further splits with positive gain, best gain: -inf\n",
      "[LightGBM] [Warning] No further splits with positive gain, best gain: -inf\n",
      "[LightGBM] [Warning] No further splits with positive gain, best gain: -inf\n",
      "[LightGBM] [Warning] No further splits with positive gain, best gain: -inf\n",
      "[LightGBM] [Warning] No further splits with positive gain, best gain: -inf\n",
      "[LightGBM] [Warning] No further splits with positive gain, best gain: -inf\n",
      "[LightGBM] [Warning] No further splits with positive gain, best gain: -inf\n",
      "[LightGBM] [Warning] No further splits with positive gain, best gain: -inf\n",
      "[LightGBM] [Warning] No further splits with positive gain, best gain: -inf\n",
      "[LightGBM] [Warning] No further splits with positive gain, best gain: -inf\n",
      "[LightGBM] [Warning] No further splits with positive gain, best gain: -inf\n",
      "[LightGBM] [Warning] No further splits with positive gain, best gain: -inf\n",
      "[LightGBM] [Warning] No further splits with positive gain, best gain: -inf\n",
      "[LightGBM] [Warning] No further splits with positive gain, best gain: -inf\n",
      "[LightGBM] [Warning] No further splits with positive gain, best gain: -inf\n",
      "[LightGBM] [Warning] No further splits with positive gain, best gain: -inf\n",
      "[LightGBM] [Warning] No further splits with positive gain, best gain: -inf\n",
      "[LightGBM] [Warning] No further splits with positive gain, best gain: -inf\n",
      "[LightGBM] [Warning] No further splits with positive gain, best gain: -inf\n",
      "[LightGBM] [Warning] No further splits with positive gain, best gain: -inf\n",
      "[LightGBM] [Warning] No further splits with positive gain, best gain: -inf\n",
      "[LightGBM] [Warning] No further splits with positive gain, best gain: -inf\n",
      "[LightGBM] [Warning] No further splits with positive gain, best gain: -inf\n",
      "[LightGBM] [Warning] No further splits with positive gain, best gain: -inf\n",
      "[LightGBM] [Warning] No further splits with positive gain, best gain: -inf\n",
      "[LightGBM] [Warning] No further splits with positive gain, best gain: -inf\n",
      "[LightGBM] [Warning] No further splits with positive gain, best gain: -inf\n",
      "[LightGBM] [Warning] No further splits with positive gain, best gain: -inf\n"
     ]
    },
    {
     "name": "stderr",
     "output_type": "stream",
     "text": [
      "/opt/conda/lib/python3.9/site-packages/lightgbm/basic.py:2065: UserWarning: Using categorical_feature in Dataset.\n",
      "  _log_warning('Using categorical_feature in Dataset.')\n"
     ]
    },
    {
     "name": "stdout",
     "output_type": "stream",
     "text": [
      "[LightGBM] [Warning] No further splits with positive gain, best gain: -inf\n",
      "[LightGBM] [Warning] No further splits with positive gain, best gain: -inf\n",
      "[LightGBM] [Warning] No further splits with positive gain, best gain: -inf\n",
      "[LightGBM] [Warning] No further splits with positive gain, best gain: -inf\n",
      "[LightGBM] [Warning] No further splits with positive gain, best gain: -inf\n",
      "[LightGBM] [Warning] No further splits with positive gain, best gain: -inf\n",
      "[LightGBM] [Warning] No further splits with positive gain, best gain: -inf\n",
      "[LightGBM] [Warning] No further splits with positive gain, best gain: -inf\n",
      "[LightGBM] [Warning] No further splits with positive gain, best gain: -inf\n",
      "[LightGBM] [Warning] No further splits with positive gain, best gain: -inf\n",
      "[LightGBM] [Warning] No further splits with positive gain, best gain: -inf\n",
      "[LightGBM] [Warning] No further splits with positive gain, best gain: -inf\n",
      "[LightGBM] [Warning] No further splits with positive gain, best gain: -inf\n",
      "[LightGBM] [Warning] No further splits with positive gain, best gain: -inf\n",
      "[LightGBM] [Warning] No further splits with positive gain, best gain: -inf\n",
      "[LightGBM] [Warning] No further splits with positive gain, best gain: -inf\n",
      "[LightGBM] [Warning] No further splits with positive gain, best gain: -inf\n",
      "[LightGBM] [Warning] No further splits with positive gain, best gain: -inf\n",
      "[LightGBM] [Warning] No further splits with positive gain, best gain: -inf\n",
      "[LightGBM] [Warning] No further splits with positive gain, best gain: -inf\n",
      "[LightGBM] [Warning] No further splits with positive gain, best gain: -inf\n",
      "[LightGBM] [Warning] No further splits with positive gain, best gain: -inf\n",
      "[LightGBM] [Warning] No further splits with positive gain, best gain: -inf\n",
      "[LightGBM] [Warning] No further splits with positive gain, best gain: -inf\n",
      "[LightGBM] [Warning] No further splits with positive gain, best gain: -inf\n",
      "[LightGBM] [Warning] No further splits with positive gain, best gain: -inf\n",
      "[LightGBM] [Warning] No further splits with positive gain, best gain: -inf\n",
      "[LightGBM] [Warning] No further splits with positive gain, best gain: -inf\n",
      "[LightGBM] [Warning] No further splits with positive gain, best gain: -inf\n",
      "[LightGBM] [Warning] No further splits with positive gain, best gain: -inf\n",
      "[LightGBM] [Warning] No further splits with positive gain, best gain: -inf\n",
      "[LightGBM] [Warning] No further splits with positive gain, best gain: -inf\n",
      "[LightGBM] [Warning] No further splits with positive gain, best gain: -inf\n",
      "[LightGBM] [Warning] No further splits with positive gain, best gain: -inf\n",
      "[LightGBM] [Warning] No further splits with positive gain, best gain: -inf\n",
      "[LightGBM] [Warning] No further splits with positive gain, best gain: -inf\n",
      "[LightGBM] [Warning] No further splits with positive gain, best gain: -inf\n",
      "[LightGBM] [Warning] No further splits with positive gain, best gain: -inf\n",
      "[LightGBM] [Warning] No further splits with positive gain, best gain: -inf\n",
      "[LightGBM] [Warning] No further splits with positive gain, best gain: -inf\n",
      "[LightGBM] [Warning] No further splits with positive gain, best gain: -inf\n",
      "[LightGBM] [Warning] No further splits with positive gain, best gain: -inf\n",
      "[LightGBM] [Warning] No further splits with positive gain, best gain: -inf\n",
      "[LightGBM] [Warning] No further splits with positive gain, best gain: -inf\n",
      "[LightGBM] [Warning] No further splits with positive gain, best gain: -inf\n",
      "[LightGBM] [Warning] No further splits with positive gain, best gain: -inf\n",
      "[LightGBM] [Warning] No further splits with positive gain, best gain: -inf\n",
      "[LightGBM] [Warning] No further splits with positive gain, best gain: -inf\n",
      "[LightGBM] [Warning] No further splits with positive gain, best gain: -inf\n",
      "[LightGBM] [Warning] No further splits with positive gain, best gain: -inf\n",
      "[LightGBM] [Warning] No further splits with positive gain, best gain: -inf\n",
      "[LightGBM] [Warning] No further splits with positive gain, best gain: -inf\n",
      "[LightGBM] [Warning] No further splits with positive gain, best gain: -inf\n",
      "[LightGBM] [Warning] No further splits with positive gain, best gain: -inf\n",
      "[LightGBM] [Warning] No further splits with positive gain, best gain: -inf\n",
      "[LightGBM] [Warning] No further splits with positive gain, best gain: -inf\n",
      "[LightGBM] [Warning] No further splits with positive gain, best gain: -inf\n",
      "[LightGBM] [Warning] No further splits with positive gain, best gain: -inf\n",
      "[LightGBM] [Warning] No further splits with positive gain, best gain: -inf\n",
      "[LightGBM] [Warning] No further splits with positive gain, best gain: -inf\n",
      "[LightGBM] [Warning] No further splits with positive gain, best gain: -inf\n",
      "[LightGBM] [Warning] No further splits with positive gain, best gain: -inf\n",
      "[LightGBM] [Warning] No further splits with positive gain, best gain: -inf\n",
      "[LightGBM] [Warning] No further splits with positive gain, best gain: -inf\n",
      "[LightGBM] [Warning] No further splits with positive gain, best gain: -inf\n",
      "[LightGBM] [Warning] No further splits with positive gain, best gain: -inf\n",
      "[LightGBM] [Warning] No further splits with positive gain, best gain: -inf\n",
      "[LightGBM] [Warning] No further splits with positive gain, best gain: -inf\n",
      "[LightGBM] [Warning] No further splits with positive gain, best gain: -inf\n",
      "[LightGBM] [Warning] No further splits with positive gain, best gain: -inf\n",
      "[LightGBM] [Warning] No further splits with positive gain, best gain: -inf\n",
      "[LightGBM] [Warning] No further splits with positive gain, best gain: -inf\n",
      "[LightGBM] [Warning] No further splits with positive gain, best gain: -inf\n",
      "[LightGBM] [Warning] No further splits with positive gain, best gain: -inf\n",
      "[LightGBM] [Warning] No further splits with positive gain, best gain: -inf\n",
      "[LightGBM] [Warning] No further splits with positive gain, best gain: -inf\n",
      "[LightGBM] [Warning] No further splits with positive gain, best gain: -inf\n",
      "[LightGBM] [Warning] No further splits with positive gain, best gain: -inf\n",
      "[LightGBM] [Warning] No further splits with positive gain, best gain: -inf\n",
      "[LightGBM] [Warning] No further splits with positive gain, best gain: -inf\n",
      "[LightGBM] [Warning] No further splits with positive gain, best gain: -inf\n",
      "[LightGBM] [Warning] No further splits with positive gain, best gain: -inf\n",
      "[LightGBM] [Warning] No further splits with positive gain, best gain: -inf\n",
      "[LightGBM] [Warning] No further splits with positive gain, best gain: -inf\n",
      "[LightGBM] [Warning] No further splits with positive gain, best gain: -inf\n",
      "[LightGBM] [Warning] No further splits with positive gain, best gain: -inf\n",
      "[LightGBM] [Warning] No further splits with positive gain, best gain: -inf\n",
      "[LightGBM] [Warning] No further splits with positive gain, best gain: -inf\n",
      "[LightGBM] [Warning] No further splits with positive gain, best gain: -inf\n",
      "[LightGBM] [Warning] No further splits with positive gain, best gain: -inf\n",
      "[LightGBM] [Warning] No further splits with positive gain, best gain: -inf\n",
      "[LightGBM] [Warning] No further splits with positive gain, best gain: -inf\n",
      "[LightGBM] [Warning] No further splits with positive gain, best gain: -inf\n",
      "[LightGBM] [Warning] No further splits with positive gain, best gain: -inf\n",
      "[LightGBM] [Warning] No further splits with positive gain, best gain: -inf\n",
      "[LightGBM] [Warning] No further splits with positive gain, best gain: -inf\n",
      "[LightGBM] [Warning] No further splits with positive gain, best gain: -inf\n"
     ]
    },
    {
     "name": "stderr",
     "output_type": "stream",
     "text": [
      "/opt/conda/lib/python3.9/site-packages/lightgbm/basic.py:2065: UserWarning: Using categorical_feature in Dataset.\n",
      "  _log_warning('Using categorical_feature in Dataset.')\n",
      "/opt/conda/lib/python3.9/site-packages/lightgbm/basic.py:2065: UserWarning: Using categorical_feature in Dataset.\n",
      "  _log_warning('Using categorical_feature in Dataset.')\n",
      "/opt/conda/lib/python3.9/site-packages/lightgbm/basic.py:2065: UserWarning: Using categorical_feature in Dataset.\n",
      "  _log_warning('Using categorical_feature in Dataset.')\n",
      "/opt/conda/lib/python3.9/site-packages/lightgbm/basic.py:2065: UserWarning: Using categorical_feature in Dataset.\n",
      "  _log_warning('Using categorical_feature in Dataset.')\n"
     ]
    },
    {
     "name": "stdout",
     "output_type": "stream",
     "text": [
      "[LightGBM] [Warning] No further splits with positive gain, best gain: -inf\n",
      "[LightGBM] [Warning] No further splits with positive gain, best gain: -inf\n",
      "[LightGBM] [Warning] No further splits with positive gain, best gain: -inf\n"
     ]
    },
    {
     "name": "stderr",
     "output_type": "stream",
     "text": [
      "/opt/conda/lib/python3.9/site-packages/lightgbm/basic.py:2065: UserWarning: Using categorical_feature in Dataset.\n",
      "  _log_warning('Using categorical_feature in Dataset.')\n"
     ]
    },
    {
     "name": "stdout",
     "output_type": "stream",
     "text": [
      "[LightGBM] [Warning] No further splits with positive gain, best gain: -inf\n",
      "[LightGBM] [Warning] No further splits with positive gain, best gain: -inf\n",
      "[LightGBM] [Warning] No further splits with positive gain, best gain: -inf\n",
      "[LightGBM] [Warning] No further splits with positive gain, best gain: -inf\n",
      "[LightGBM] [Warning] No further splits with positive gain, best gain: -inf\n",
      "[LightGBM] [Warning] No further splits with positive gain, best gain: -inf\n"
     ]
    },
    {
     "name": "stderr",
     "output_type": "stream",
     "text": [
      "/opt/conda/lib/python3.9/site-packages/lightgbm/basic.py:2065: UserWarning: Using categorical_feature in Dataset.\n",
      "  _log_warning('Using categorical_feature in Dataset.')\n"
     ]
    },
    {
     "name": "stdout",
     "output_type": "stream",
     "text": [
      "[LightGBM] [Warning] No further splits with positive gain, best gain: -inf\n",
      "[LightGBM] [Warning] No further splits with positive gain, best gain: -inf\n",
      "[LightGBM] [Warning] No further splits with positive gain, best gain: -inf\n",
      "[LightGBM] [Warning] No further splits with positive gain, best gain: -inf\n"
     ]
    },
    {
     "name": "stderr",
     "output_type": "stream",
     "text": [
      "/opt/conda/lib/python3.9/site-packages/lightgbm/basic.py:2065: UserWarning: Using categorical_feature in Dataset.\n",
      "  _log_warning('Using categorical_feature in Dataset.')\n"
     ]
    },
    {
     "name": "stdout",
     "output_type": "stream",
     "text": [
      "[LightGBM] [Warning] No further splits with positive gain, best gain: -inf\n",
      "Best hyperparams:  {'boosting_type': 'gbdt', 'force_col_wise': True, 'max_depth': 10, 'n_estimators': 100, 'num_leaves': 127, 'random_state': 12345, 'verbose': 0}\n",
      "RMSE score on train sample: 1558.13\n",
      "CPU times: user 41min 57s, sys: 5.4 s, total: 42min 3s\n",
      "Wall time: 42min 7s\n"
     ]
    }
   ],
   "source": [
    "%%time\n",
    "lgb_params = lgb_regr(features_train, target_train)"
   ]
  },
  {
   "cell_type": "code",
   "execution_count": 35,
   "metadata": {},
   "outputs": [
    {
     "name": "stderr",
     "output_type": "stream",
     "text": [
      "/opt/conda/lib/python3.9/site-packages/lightgbm/sklearn.py:736: UserWarning: 'verbose' argument is deprecated and will be removed in a future release of LightGBM. Pass 'log_evaluation()' callback via 'callbacks' argument instead.\n",
      "  _log_warning(\"'verbose' argument is deprecated and will be removed in a future release of LightGBM. \"\n"
     ]
    },
    {
     "name": "stdout",
     "output_type": "stream",
     "text": [
      "[10]\tvalid_0's rmse: 2474.85\tvalid_0's l2: 6.12488e+06\n",
      "[20]\tvalid_0's rmse: 1916.13\tvalid_0's l2: 3.67156e+06\n",
      "[30]\tvalid_0's rmse: 1751.87\tvalid_0's l2: 3.06903e+06\n",
      "[40]\tvalid_0's rmse: 1683.76\tvalid_0's l2: 2.83503e+06\n",
      "[50]\tvalid_0's rmse: 1650.44\tvalid_0's l2: 2.72395e+06\n",
      "[LightGBM] [Warning] No further splits with positive gain, best gain: -inf\n",
      "[60]\tvalid_0's rmse: 1630.31\tvalid_0's l2: 2.65791e+06\n",
      "[LightGBM] [Warning] No further splits with positive gain, best gain: -inf\n",
      "[LightGBM] [Warning] No further splits with positive gain, best gain: -inf\n",
      "[LightGBM] [Warning] No further splits with positive gain, best gain: -inf\n",
      "[70]\tvalid_0's rmse: 1619.54\tvalid_0's l2: 2.6229e+06\n",
      "[LightGBM] [Warning] No further splits with positive gain, best gain: -inf\n",
      "[80]\tvalid_0's rmse: 1606.13\tvalid_0's l2: 2.57965e+06\n",
      "[90]\tvalid_0's rmse: 1595.49\tvalid_0's l2: 2.5456e+06\n",
      "[LightGBM] [Warning] No further splits with positive gain, best gain: -inf\n",
      "[LightGBM] [Warning] No further splits with positive gain, best gain: -inf\n",
      "[LightGBM] [Warning] No further splits with positive gain, best gain: -inf\n",
      "[100]\tvalid_0's rmse: 1588.89\tvalid_0's l2: 2.52458e+06\n",
      "CPU times: user 13.7 s, sys: 63.7 ms, total: 13.8 s\n",
      "Wall time: 13.8 s\n"
     ]
    },
    {
     "data": {
      "text/plain": [
       "LGBMRegressor(force_col_wise=True, max_depth=10, num_leaves=127,\n",
       "              random_state=12345, verbose=0)"
      ]
     },
     "execution_count": 35,
     "metadata": {},
     "output_type": "execute_result"
    }
   ],
   "source": [
    "%%time\n",
    "model_lgb = LGBMRegressor(**lgb_params)\n",
    "model_lgb.fit(features_train, target_train, eval_set=(features_test, target_test), verbose=10, eval_metric='rmse')"
   ]
  },
  {
   "cell_type": "markdown",
   "metadata": {},
   "source": [
    "Оценим предсказания и RMSE."
   ]
  },
  {
   "cell_type": "code",
   "execution_count": 36,
   "metadata": {},
   "outputs": [
    {
     "name": "stdout",
     "output_type": "stream",
     "text": [
      "Valid RMSE = 1594.19\n",
      "CPU times: user 441 ms, sys: 3.96 ms, total: 445 ms\n",
      "Wall time: 322 ms\n"
     ]
    }
   ],
   "source": [
    "%%time\n",
    "predict_lgb = model_lgb.predict(features_valid)\n",
    "print('Valid RMSE = {:.2f}'.format(mse(target_valid, predict_lgb)**0.5))"
   ]
  },
  {
   "cell_type": "markdown",
   "metadata": {},
   "source": [
    "На обучающей выборке наилучшее значение RMSE равно 1633.35. На валидационной выборке модель показывает значение RMSE 1670.31."
   ]
  },
  {
   "cell_type": "markdown",
   "metadata": {},
   "source": [
    "Обучим модель с помощью CatBoostRegressor."
   ]
  },
  {
   "cell_type": "code",
   "execution_count": 37,
   "metadata": {},
   "outputs": [],
   "source": [
    "def catboost_regr(features, target):\n",
    "    model = CatBoostRegressor()\n",
    "    params = {\n",
    "            'n_estimators' : [50, 100],\n",
    "            'verbose' : [0],\n",
    "            'random_state' : [12345],\n",
    "            'max_depth' : [5, 7, 10]\n",
    "    }\n",
    "    grid_cv = GridSearchCV(estimator=model, \n",
    "    param_grid=params, cv=3, n_jobs=-1, scoring='neg_mean_squared_error')\n",
    "    grid_cv.fit(features, target, cat_features=cats_cols, verbose=10)\n",
    "    print('Best hyperparams: ', grid_cv.best_params_)\n",
    "    print('RMSE score on train sample: {:.2f}'.format((-grid_cv.best_score_) ** 0.5))\n",
    "    return grid_cv.best_params_"
   ]
  },
  {
   "cell_type": "code",
   "execution_count": 38,
   "metadata": {
    "scrolled": true
   },
   "outputs": [
    {
     "name": "stdout",
     "output_type": "stream",
     "text": [
      "Learning rate set to 0.5\n",
      "0:\tlearn: 3269.3770036\ttotal: 95.6ms\tremaining: 4.68s\n",
      "10:\tlearn: 1906.5717062\ttotal: 470ms\tremaining: 1.67s\n",
      "20:\tlearn: 1812.4720924\ttotal: 817ms\tremaining: 1.13s\n",
      "30:\tlearn: 1767.1692871\ttotal: 1.16s\tremaining: 713ms\n",
      "40:\tlearn: 1735.7500114\ttotal: 1.51s\tremaining: 331ms\n",
      "49:\tlearn: 1716.9207181\ttotal: 1.83s\tremaining: 0us\n",
      "Learning rate set to 0.5\n",
      "0:\tlearn: 3275.9516108\ttotal: 41.9ms\tremaining: 2.05s\n",
      "10:\tlearn: 1922.7300710\ttotal: 420ms\tremaining: 1.49s\n",
      "20:\tlearn: 1826.1605731\ttotal: 769ms\tremaining: 1.06s\n",
      "30:\tlearn: 1772.6121639\ttotal: 1.11s\tremaining: 683ms\n",
      "40:\tlearn: 1742.2513450\ttotal: 1.48s\tremaining: 325ms\n",
      "49:\tlearn: 1721.6042982\ttotal: 1.8s\tremaining: 0us\n",
      "Learning rate set to 0.5\n",
      "0:\tlearn: 3312.7183622\ttotal: 44.5ms\tremaining: 2.18s\n",
      "10:\tlearn: 1924.6924926\ttotal: 432ms\tremaining: 1.53s\n",
      "20:\tlearn: 1831.9384941\ttotal: 809ms\tremaining: 1.12s\n",
      "30:\tlearn: 1775.9906779\ttotal: 1.18s\tremaining: 720ms\n",
      "40:\tlearn: 1740.0192645\ttotal: 1.54s\tremaining: 338ms\n",
      "49:\tlearn: 1716.3051038\ttotal: 1.87s\tremaining: 0us\n",
      "Learning rate set to 0.5\n",
      "0:\tlearn: 3269.3770036\ttotal: 41.6ms\tremaining: 4.12s\n",
      "10:\tlearn: 1906.5717062\ttotal: 430ms\tremaining: 3.48s\n",
      "20:\tlearn: 1812.4720924\ttotal: 777ms\tremaining: 2.92s\n",
      "30:\tlearn: 1767.1692871\ttotal: 1.13s\tremaining: 2.5s\n",
      "40:\tlearn: 1735.7500114\ttotal: 1.55s\tremaining: 2.24s\n",
      "50:\tlearn: 1714.4354799\ttotal: 1.9s\tremaining: 1.82s\n",
      "60:\tlearn: 1695.4403736\ttotal: 2.25s\tremaining: 1.44s\n",
      "70:\tlearn: 1679.7023233\ttotal: 2.6s\tremaining: 1.06s\n",
      "80:\tlearn: 1667.7787188\ttotal: 2.94s\tremaining: 691ms\n",
      "90:\tlearn: 1656.7742561\ttotal: 3.29s\tremaining: 326ms\n",
      "99:\tlearn: 1647.4328570\ttotal: 3.61s\tremaining: 0us\n",
      "Learning rate set to 0.5\n",
      "0:\tlearn: 3275.9516108\ttotal: 41.9ms\tremaining: 4.15s\n",
      "10:\tlearn: 1922.7300710\ttotal: 404ms\tremaining: 3.27s\n",
      "20:\tlearn: 1826.1605731\ttotal: 751ms\tremaining: 2.83s\n",
      "30:\tlearn: 1772.6121639\ttotal: 1.1s\tremaining: 2.45s\n",
      "40:\tlearn: 1742.2513450\ttotal: 1.44s\tremaining: 2.08s\n",
      "50:\tlearn: 1718.6836137\ttotal: 1.79s\tremaining: 1.72s\n",
      "60:\tlearn: 1699.7535467\ttotal: 2.14s\tremaining: 1.37s\n",
      "70:\tlearn: 1684.6799235\ttotal: 2.48s\tremaining: 1.01s\n",
      "80:\tlearn: 1671.8153834\ttotal: 2.84s\tremaining: 665ms\n",
      "90:\tlearn: 1660.1005535\ttotal: 3.18s\tremaining: 314ms\n",
      "99:\tlearn: 1653.0374582\ttotal: 3.5s\tremaining: 0us\n",
      "Learning rate set to 0.5\n",
      "0:\tlearn: 3312.7183622\ttotal: 43.7ms\tremaining: 4.33s\n",
      "10:\tlearn: 1924.6924926\ttotal: 457ms\tremaining: 3.7s\n",
      "20:\tlearn: 1831.9384941\ttotal: 809ms\tremaining: 3.04s\n",
      "30:\tlearn: 1775.9906779\ttotal: 1.16s\tremaining: 2.58s\n",
      "40:\tlearn: 1740.0192645\ttotal: 1.51s\tremaining: 2.17s\n",
      "50:\tlearn: 1713.8671731\ttotal: 1.86s\tremaining: 1.78s\n",
      "60:\tlearn: 1701.0046391\ttotal: 2.21s\tremaining: 1.41s\n",
      "70:\tlearn: 1683.3478980\ttotal: 2.56s\tremaining: 1.04s\n",
      "80:\tlearn: 1669.6694614\ttotal: 2.97s\tremaining: 697ms\n",
      "90:\tlearn: 1658.3518091\ttotal: 3.33s\tremaining: 329ms\n",
      "99:\tlearn: 1649.3160323\ttotal: 3.65s\tremaining: 0us\n",
      "Learning rate set to 0.5\n",
      "0:\tlearn: 3172.9696892\ttotal: 53ms\tremaining: 2.6s\n",
      "10:\tlearn: 1829.3321939\ttotal: 526ms\tremaining: 1.86s\n",
      "20:\tlearn: 1735.2530454\ttotal: 972ms\tremaining: 1.34s\n",
      "30:\tlearn: 1687.1746130\ttotal: 1.42s\tremaining: 873ms\n",
      "40:\tlearn: 1657.3475713\ttotal: 1.88s\tremaining: 413ms\n",
      "49:\tlearn: 1633.8694155\ttotal: 2.29s\tremaining: 0us\n",
      "Learning rate set to 0.5\n",
      "0:\tlearn: 3175.5852241\ttotal: 50.8ms\tremaining: 2.49s\n",
      "10:\tlearn: 1847.3893643\ttotal: 519ms\tremaining: 1.84s\n",
      "20:\tlearn: 1746.9986172\ttotal: 957ms\tremaining: 1.32s\n",
      "30:\tlearn: 1694.5620257\ttotal: 1.4s\tremaining: 860ms\n",
      "40:\tlearn: 1665.1137063\ttotal: 1.85s\tremaining: 406ms\n",
      "49:\tlearn: 1639.0581872\ttotal: 2.25s\tremaining: 0us\n",
      "Learning rate set to 0.5\n",
      "0:\tlearn: 3190.5987095\ttotal: 51.2ms\tremaining: 2.51s\n",
      "10:\tlearn: 1831.9370221\ttotal: 510ms\tremaining: 1.81s\n",
      "20:\tlearn: 1745.5402245\ttotal: 952ms\tremaining: 1.31s\n",
      "30:\tlearn: 1696.7472335\ttotal: 1.4s\tremaining: 855ms\n",
      "40:\tlearn: 1659.4191443\ttotal: 1.88s\tremaining: 412ms\n",
      "49:\tlearn: 1638.0343590\ttotal: 2.31s\tremaining: 0us\n",
      "Learning rate set to 0.5\n",
      "0:\tlearn: 3172.9696892\ttotal: 52.2ms\tremaining: 5.17s\n",
      "10:\tlearn: 1829.3321939\ttotal: 542ms\tremaining: 4.38s\n",
      "20:\tlearn: 1735.2530454\ttotal: 973ms\tremaining: 3.66s\n",
      "30:\tlearn: 1687.1746130\ttotal: 1.41s\tremaining: 3.14s\n",
      "40:\tlearn: 1657.3475713\ttotal: 1.85s\tremaining: 2.66s\n",
      "50:\tlearn: 1632.4147592\ttotal: 2.29s\tremaining: 2.21s\n",
      "60:\tlearn: 1611.3465585\ttotal: 2.73s\tremaining: 1.74s\n",
      "70:\tlearn: 1594.9459342\ttotal: 3.17s\tremaining: 1.29s\n",
      "80:\tlearn: 1580.3140458\ttotal: 3.6s\tremaining: 845ms\n",
      "90:\tlearn: 1562.3745873\ttotal: 4.03s\tremaining: 399ms\n",
      "99:\tlearn: 1553.5102551\ttotal: 4.42s\tremaining: 0us\n",
      "Learning rate set to 0.5\n",
      "0:\tlearn: 3175.5852241\ttotal: 52.6ms\tremaining: 5.2s\n",
      "10:\tlearn: 1847.3893643\ttotal: 521ms\tremaining: 4.21s\n",
      "20:\tlearn: 1746.9986172\ttotal: 957ms\tremaining: 3.6s\n",
      "30:\tlearn: 1694.5620257\ttotal: 1.4s\tremaining: 3.11s\n",
      "40:\tlearn: 1665.1137063\ttotal: 1.84s\tremaining: 2.65s\n",
      "50:\tlearn: 1636.2096907\ttotal: 2.29s\tremaining: 2.2s\n",
      "60:\tlearn: 1613.0442647\ttotal: 2.74s\tremaining: 1.75s\n",
      "70:\tlearn: 1598.3823256\ttotal: 3.2s\tremaining: 1.3s\n",
      "80:\tlearn: 1582.7061096\ttotal: 3.65s\tremaining: 856ms\n",
      "90:\tlearn: 1566.1270895\ttotal: 4.14s\tremaining: 409ms\n",
      "99:\tlearn: 1555.9450654\ttotal: 4.57s\tremaining: 0us\n",
      "Learning rate set to 0.5\n",
      "0:\tlearn: 3190.5987095\ttotal: 52ms\tremaining: 5.15s\n",
      "10:\tlearn: 1831.9370221\ttotal: 531ms\tremaining: 4.29s\n",
      "20:\tlearn: 1745.5402245\ttotal: 974ms\tremaining: 3.66s\n",
      "30:\tlearn: 1696.7472335\ttotal: 1.41s\tremaining: 3.15s\n",
      "40:\tlearn: 1659.4191443\ttotal: 1.87s\tremaining: 2.69s\n",
      "50:\tlearn: 1635.4754582\ttotal: 2.31s\tremaining: 2.22s\n",
      "60:\tlearn: 1615.2239689\ttotal: 2.75s\tremaining: 1.76s\n",
      "70:\tlearn: 1596.4695650\ttotal: 3.19s\tremaining: 1.3s\n",
      "80:\tlearn: 1579.7857953\ttotal: 3.63s\tremaining: 853ms\n",
      "90:\tlearn: 1563.4786171\ttotal: 4.07s\tremaining: 402ms\n",
      "99:\tlearn: 1553.8175797\ttotal: 4.47s\tremaining: 0us\n",
      "Learning rate set to 0.5\n",
      "0:\tlearn: 3109.2390395\ttotal: 75ms\tremaining: 3.67s\n",
      "10:\tlearn: 1712.2046090\ttotal: 762ms\tremaining: 2.7s\n",
      "20:\tlearn: 1619.6945212\ttotal: 1.43s\tremaining: 1.98s\n",
      "30:\tlearn: 1560.6068620\ttotal: 2.1s\tremaining: 1.28s\n",
      "40:\tlearn: 1520.8804653\ttotal: 2.77s\tremaining: 607ms\n",
      "49:\tlearn: 1494.7295221\ttotal: 3.4s\tremaining: 0us\n",
      "Learning rate set to 0.5\n",
      "0:\tlearn: 3112.8633851\ttotal: 73ms\tremaining: 3.58s\n",
      "10:\tlearn: 1737.8219500\ttotal: 778ms\tremaining: 2.76s\n",
      "20:\tlearn: 1623.7325494\ttotal: 1.44s\tremaining: 1.99s\n",
      "30:\tlearn: 1566.6288183\ttotal: 2.1s\tremaining: 1.29s\n",
      "40:\tlearn: 1532.9507997\ttotal: 2.77s\tremaining: 608ms\n",
      "49:\tlearn: 1500.9529450\ttotal: 3.36s\tremaining: 0us\n",
      "Learning rate set to 0.5\n",
      "0:\tlearn: 3124.4749907\ttotal: 71.5ms\tremaining: 3.5s\n",
      "10:\tlearn: 1723.1378493\ttotal: 747ms\tremaining: 2.65s\n",
      "20:\tlearn: 1636.8329927\ttotal: 1.43s\tremaining: 1.97s\n",
      "30:\tlearn: 1576.6818152\ttotal: 2.09s\tremaining: 1.28s\n",
      "40:\tlearn: 1531.1609000\ttotal: 2.75s\tremaining: 604ms\n",
      "49:\tlearn: 1498.2247030\ttotal: 3.35s\tremaining: 0us\n",
      "Learning rate set to 0.5\n",
      "0:\tlearn: 3109.2390395\ttotal: 71.1ms\tremaining: 7.04s\n",
      "10:\tlearn: 1712.2046090\ttotal: 771ms\tremaining: 6.24s\n",
      "20:\tlearn: 1619.6945212\ttotal: 1.53s\tremaining: 5.74s\n",
      "30:\tlearn: 1560.6068620\ttotal: 2.21s\tremaining: 4.92s\n",
      "40:\tlearn: 1520.8804653\ttotal: 2.91s\tremaining: 4.18s\n",
      "50:\tlearn: 1492.9901476\ttotal: 3.58s\tremaining: 3.44s\n",
      "60:\tlearn: 1466.3713879\ttotal: 4.25s\tremaining: 2.71s\n",
      "70:\tlearn: 1444.8006675\ttotal: 4.91s\tremaining: 2s\n",
      "80:\tlearn: 1427.7126448\ttotal: 5.58s\tremaining: 1.31s\n",
      "90:\tlearn: 1406.8518384\ttotal: 6.26s\tremaining: 619ms\n",
      "99:\tlearn: 1389.8902290\ttotal: 6.86s\tremaining: 0us\n",
      "Learning rate set to 0.5\n",
      "0:\tlearn: 3112.8633851\ttotal: 71.8ms\tremaining: 7.11s\n",
      "10:\tlearn: 1737.8219500\ttotal: 760ms\tremaining: 6.14s\n",
      "20:\tlearn: 1623.7325494\ttotal: 1.43s\tremaining: 5.39s\n",
      "30:\tlearn: 1566.6288183\ttotal: 2.1s\tremaining: 4.68s\n",
      "40:\tlearn: 1532.9507997\ttotal: 2.77s\tremaining: 3.99s\n",
      "50:\tlearn: 1495.0434422\ttotal: 3.54s\tremaining: 3.4s\n",
      "60:\tlearn: 1471.9870556\ttotal: 4.21s\tremaining: 2.69s\n",
      "70:\tlearn: 1440.5576960\ttotal: 4.86s\tremaining: 1.99s\n",
      "80:\tlearn: 1421.4821849\ttotal: 5.57s\tremaining: 1.3s\n",
      "90:\tlearn: 1401.8939668\ttotal: 6.22s\tremaining: 616ms\n",
      "99:\tlearn: 1387.7890499\ttotal: 6.81s\tremaining: 0us\n",
      "Learning rate set to 0.5\n",
      "0:\tlearn: 3124.4749907\ttotal: 72.6ms\tremaining: 7.18s\n",
      "10:\tlearn: 1723.1378493\ttotal: 750ms\tremaining: 6.07s\n",
      "20:\tlearn: 1636.8329927\ttotal: 1.39s\tremaining: 5.24s\n",
      "30:\tlearn: 1576.6818152\ttotal: 2.07s\tremaining: 4.6s\n",
      "40:\tlearn: 1531.1609000\ttotal: 2.76s\tremaining: 3.97s\n",
      "50:\tlearn: 1495.9936799\ttotal: 3.44s\tremaining: 3.3s\n",
      "60:\tlearn: 1464.9125357\ttotal: 4.11s\tremaining: 2.63s\n",
      "70:\tlearn: 1441.7629276\ttotal: 4.78s\tremaining: 1.95s\n",
      "80:\tlearn: 1424.1591542\ttotal: 5.44s\tremaining: 1.27s\n",
      "90:\tlearn: 1405.4523413\ttotal: 6.18s\tremaining: 611ms\n",
      "99:\tlearn: 1392.2982493\ttotal: 6.77s\tremaining: 0us\n",
      "Learning rate set to 0.5\n",
      "0:\tlearn: 3089.0247496\ttotal: 110ms\tremaining: 10.9s\n",
      "10:\tlearn: 1735.6138723\ttotal: 1.13s\tremaining: 9.11s\n",
      "20:\tlearn: 1643.6153368\ttotal: 2.06s\tremaining: 7.76s\n",
      "30:\tlearn: 1584.6097020\ttotal: 3.01s\tremaining: 6.7s\n",
      "40:\tlearn: 1544.7193975\ttotal: 3.99s\tremaining: 5.75s\n",
      "50:\tlearn: 1516.8501534\ttotal: 4.96s\tremaining: 4.76s\n",
      "60:\tlearn: 1490.8442661\ttotal: 5.91s\tremaining: 3.78s\n",
      "70:\tlearn: 1468.6368800\ttotal: 6.85s\tremaining: 2.8s\n",
      "80:\tlearn: 1448.9076660\ttotal: 7.79s\tremaining: 1.83s\n",
      "90:\tlearn: 1435.7228817\ttotal: 8.83s\tremaining: 873ms\n",
      "99:\tlearn: 1425.2874536\ttotal: 9.68s\tremaining: 0us\n",
      "Best hyperparams:  {'max_depth': 10, 'n_estimators': 100, 'random_state': 12345, 'verbose': 0}\n",
      "RMSE score on train sample: 1611.85\n",
      "CPU times: user 1min 23s, sys: 537 ms, total: 1min 23s\n",
      "Wall time: 1min 31s\n"
     ]
    }
   ],
   "source": [
    "%%time\n",
    "catb_params = catboost_regr(features_train, target_train)"
   ]
  },
  {
   "cell_type": "code",
   "execution_count": 39,
   "metadata": {},
   "outputs": [
    {
     "name": "stdout",
     "output_type": "stream",
     "text": [
      "Learning rate set to 0.5\n",
      "0:\tlearn: 3094.4145066\ttotal: 49.9ms\tremaining: 4.94s\n",
      "10:\tlearn: 1759.8304519\ttotal: 577ms\tremaining: 4.67s\n",
      "20:\tlearn: 1664.1635652\ttotal: 1.09s\tremaining: 4.1s\n",
      "30:\tlearn: 1614.5702965\ttotal: 1.59s\tremaining: 3.54s\n",
      "40:\tlearn: 1573.9415889\ttotal: 2.08s\tremaining: 3s\n",
      "50:\tlearn: 1535.6122885\ttotal: 2.58s\tremaining: 2.48s\n",
      "60:\tlearn: 1507.0941906\ttotal: 3.09s\tremaining: 1.98s\n",
      "70:\tlearn: 1484.8780227\ttotal: 3.6s\tremaining: 1.47s\n",
      "80:\tlearn: 1462.8662414\ttotal: 4.1s\tremaining: 963ms\n",
      "90:\tlearn: 1444.9975451\ttotal: 4.62s\tremaining: 457ms\n",
      "99:\tlearn: 1429.8801480\ttotal: 5.07s\tremaining: 0us\n",
      "CPU times: user 5.22 s, sys: 12 ms, total: 5.23 s\n",
      "Wall time: 5.67 s\n"
     ]
    },
    {
     "data": {
      "text/plain": [
       "<catboost.core.CatBoostRegressor at 0x7f9c6740ba00>"
      ]
     },
     "execution_count": 39,
     "metadata": {},
     "output_type": "execute_result"
    }
   ],
   "source": [
    "%%time\n",
    "catb_model = CatBoostRegressor(**catb_params)\n",
    "catb_model.fit(features_train, target_train, verbose=10)"
   ]
  },
  {
   "cell_type": "markdown",
   "metadata": {},
   "source": [
    "Оценим предсказания и RMSE."
   ]
  },
  {
   "cell_type": "code",
   "execution_count": 40,
   "metadata": {},
   "outputs": [
    {
     "name": "stdout",
     "output_type": "stream",
     "text": [
      "Valid RMSE : 1590.38 \n",
      "CPU times: user 16.5 ms, sys: 4.05 ms, total: 20.5 ms\n",
      "Wall time: 19 ms\n"
     ]
    }
   ],
   "source": [
    "%%time\n",
    "catb_pred = catb_model.predict(features_valid)\n",
    "print('Valid RMSE : {:.2f} '.format(mse(target_valid, catb_pred)**0.5))"
   ]
  },
  {
   "cell_type": "markdown",
   "metadata": {},
   "source": [
    "На обучающей выборке наилучшее значение RMSE равно 1490.92. На валидационной выборке модель показывает значение RMSE 1669.07."
   ]
  },
  {
   "cell_type": "markdown",
   "metadata": {},
   "source": [
    "Обучим модель с помощью XGBRegressor."
   ]
  },
  {
   "cell_type": "code",
   "execution_count": 41,
   "metadata": {},
   "outputs": [],
   "source": [
    "def xgb_regr(features, target):\n",
    "    model = XGBRegressor()\n",
    "    params = {\n",
    "        'max_depth': [3, 5, 7], \n",
    "         'eta': [0.5], \n",
    "         'min_child_weight':[4],\n",
    "         'sampling_method':['gradient_based'], \n",
    "         'verbosity':[1],  \n",
    "         'seed':[12345]}\n",
    "    grid_cv = GridSearchCV(estimator=model, param_grid=params, cv=2, n_jobs=-1, scoring='neg_mean_squared_error')\n",
    "    grid_cv.fit(features, target, eval_metric='rmse', verbose = 10, eval_set = [(features_test, target_test)])\n",
    "    print('Best hyperparams: ', grid_cv.best_params_)\n",
    "    print('Best RMSE score: {:.2f}'.format((-grid_cv.best_score_) ** 0.5))\n",
    "    return grid_cv.best_params_"
   ]
  },
  {
   "cell_type": "code",
   "execution_count": 42,
   "metadata": {
    "scrolled": true
   },
   "outputs": [
    {
     "name": "stdout",
     "output_type": "stream",
     "text": [
      "[0]\tvalidation_0-rmse:4209.24561\n",
      "[10]\tvalidation_0-rmse:2078.67212\n",
      "[20]\tvalidation_0-rmse:1939.48596\n",
      "[30]\tvalidation_0-rmse:1879.07727\n",
      "[40]\tvalidation_0-rmse:1833.41113\n",
      "[50]\tvalidation_0-rmse:1810.09949\n",
      "[60]\tvalidation_0-rmse:1797.10486\n",
      "[70]\tvalidation_0-rmse:1784.45203\n",
      "[80]\tvalidation_0-rmse:1772.36585\n",
      "[90]\tvalidation_0-rmse:1756.97412\n",
      "[99]\tvalidation_0-rmse:1750.24634\n",
      "[0]\tvalidation_0-rmse:4212.95410\n",
      "[10]\tvalidation_0-rmse:2063.28320\n",
      "[20]\tvalidation_0-rmse:1951.88159\n",
      "[30]\tvalidation_0-rmse:1884.53162\n",
      "[40]\tvalidation_0-rmse:1846.44055\n",
      "[50]\tvalidation_0-rmse:1820.79065\n",
      "[60]\tvalidation_0-rmse:1801.35974\n",
      "[70]\tvalidation_0-rmse:1784.48486\n",
      "[80]\tvalidation_0-rmse:1767.30273\n",
      "[90]\tvalidation_0-rmse:1755.90222\n",
      "[99]\tvalidation_0-rmse:1748.29993\n",
      "[0]\tvalidation_0-rmse:4013.92725\n",
      "[10]\tvalidation_0-rmse:1851.78516\n",
      "[20]\tvalidation_0-rmse:1787.40186\n",
      "[30]\tvalidation_0-rmse:1746.57202\n",
      "[40]\tvalidation_0-rmse:1723.65918\n",
      "[50]\tvalidation_0-rmse:1708.41919\n",
      "[60]\tvalidation_0-rmse:1695.11646\n",
      "[70]\tvalidation_0-rmse:1687.63794\n",
      "[80]\tvalidation_0-rmse:1684.79419\n",
      "[90]\tvalidation_0-rmse:1674.07300\n",
      "[99]\tvalidation_0-rmse:1666.67712\n",
      "[0]\tvalidation_0-rmse:4016.81396\n",
      "[10]\tvalidation_0-rmse:1857.47009\n",
      "[20]\tvalidation_0-rmse:1780.68530\n",
      "[30]\tvalidation_0-rmse:1744.66101\n",
      "[40]\tvalidation_0-rmse:1717.77783\n",
      "[50]\tvalidation_0-rmse:1702.44336\n",
      "[60]\tvalidation_0-rmse:1689.52820\n",
      "[70]\tvalidation_0-rmse:1683.39197\n",
      "[80]\tvalidation_0-rmse:1671.50281\n",
      "[90]\tvalidation_0-rmse:1667.48669\n",
      "[99]\tvalidation_0-rmse:1663.20727\n",
      "[0]\tvalidation_0-rmse:3924.24121\n",
      "[10]\tvalidation_0-rmse:1748.90979\n",
      "[20]\tvalidation_0-rmse:1698.01599\n",
      "[30]\tvalidation_0-rmse:1676.42419\n",
      "[40]\tvalidation_0-rmse:1664.00049\n",
      "[50]\tvalidation_0-rmse:1651.16834\n",
      "[60]\tvalidation_0-rmse:1644.71985\n",
      "[70]\tvalidation_0-rmse:1640.95825\n",
      "[80]\tvalidation_0-rmse:1637.66968\n",
      "[90]\tvalidation_0-rmse:1632.47607\n",
      "[99]\tvalidation_0-rmse:1631.87061\n",
      "[0]\tvalidation_0-rmse:3921.79492\n",
      "[10]\tvalidation_0-rmse:1758.17285\n",
      "[20]\tvalidation_0-rmse:1710.16663\n",
      "[30]\tvalidation_0-rmse:1688.05750\n",
      "[40]\tvalidation_0-rmse:1676.41663\n",
      "[50]\tvalidation_0-rmse:1667.26184\n",
      "[60]\tvalidation_0-rmse:1657.36291\n",
      "[70]\tvalidation_0-rmse:1653.40186\n",
      "[80]\tvalidation_0-rmse:1655.47022\n",
      "[90]\tvalidation_0-rmse:1655.47571\n",
      "[99]\tvalidation_0-rmse:1656.16467\n",
      "[0]\tvalidation_0-rmse:3919.12744\n",
      "[10]\tvalidation_0-rmse:1742.86047\n",
      "[20]\tvalidation_0-rmse:1668.94250\n",
      "[30]\tvalidation_0-rmse:1634.23938\n",
      "[40]\tvalidation_0-rmse:1619.26074\n",
      "[50]\tvalidation_0-rmse:1604.59753\n",
      "[60]\tvalidation_0-rmse:1597.12744\n",
      "[70]\tvalidation_0-rmse:1595.46423\n",
      "[80]\tvalidation_0-rmse:1590.57080\n",
      "[90]\tvalidation_0-rmse:1581.63977\n",
      "[99]\tvalidation_0-rmse:1577.20960\n",
      "Best hyperparams:  {'eta': 0.5, 'max_depth': 7, 'min_child_weight': 4, 'sampling_method': 'gradient_based', 'seed': 12345, 'verbosity': 1}\n",
      "Best RMSE score: 1643.92\n",
      "CPU times: user 3min 42s, sys: 258 ms, total: 3min 42s\n",
      "Wall time: 3min 43s\n"
     ]
    }
   ],
   "source": [
    "%%time\n",
    "xgb_params = xgb_regr(features_train, target_train)"
   ]
  },
  {
   "cell_type": "code",
   "execution_count": 43,
   "metadata": {},
   "outputs": [
    {
     "name": "stdout",
     "output_type": "stream",
     "text": [
      "[0]\tvalidation_0-rmse:3919.12744\n",
      "[10]\tvalidation_0-rmse:1742.86047\n",
      "[20]\tvalidation_0-rmse:1668.94250\n",
      "[30]\tvalidation_0-rmse:1634.23926\n",
      "[40]\tvalidation_0-rmse:1619.26062\n",
      "[50]\tvalidation_0-rmse:1604.59753\n",
      "[60]\tvalidation_0-rmse:1597.12744\n",
      "[70]\tvalidation_0-rmse:1595.46423\n",
      "[80]\tvalidation_0-rmse:1590.57068\n",
      "[90]\tvalidation_0-rmse:1581.63965\n",
      "[99]\tvalidation_0-rmse:1577.20960\n",
      "CPU times: user 1min 6s, sys: 54.9 ms, total: 1min 6s\n",
      "Wall time: 1min 6s\n"
     ]
    },
    {
     "data": {
      "text/plain": [
       "XGBRegressor(base_score=0.5, booster='gbtree', colsample_bylevel=1,\n",
       "             colsample_bynode=1, colsample_bytree=1, enable_categorical=False,\n",
       "             eta=0.5, gamma=0, gpu_id=-1, importance_type=None,\n",
       "             interaction_constraints='', learning_rate=0.5, max_delta_step=0,\n",
       "             max_depth=7, min_child_weight=4, missing=nan,\n",
       "             monotone_constraints='()', n_estimators=100, n_jobs=8,\n",
       "             num_parallel_tree=1, predictor='auto', random_state=12345,\n",
       "             reg_alpha=0, reg_lambda=1, sampling_method='gradient_based',\n",
       "             scale_pos_weight=1, seed=12345, subsample=1, tree_method='exact',\n",
       "             validate_parameters=1, ...)"
      ]
     },
     "execution_count": 43,
     "metadata": {},
     "output_type": "execute_result"
    }
   ],
   "source": [
    "%%time\n",
    "model_xgb = XGBRegressor(**xgb_params)\n",
    "model_xgb.fit(features_train, target_train, eval_metric='rmse', verbose = 10, eval_set = [(features_test, target_test)])"
   ]
  },
  {
   "cell_type": "markdown",
   "metadata": {},
   "source": [
    "Оценим предсказания и RMSE."
   ]
  },
  {
   "cell_type": "code",
   "execution_count": 44,
   "metadata": {},
   "outputs": [
    {
     "name": "stdout",
     "output_type": "stream",
     "text": [
      "Valid RMSE : 1599.96\n",
      "CPU times: user 134 ms, sys: 0 ns, total: 134 ms\n",
      "Wall time: 85.7 ms\n"
     ]
    }
   ],
   "source": [
    "%%time\n",
    "xgb_pred = model_xgb.predict(features_valid)\n",
    "print('Valid RMSE : {:.2f}'.format(mse(target_valid, xgb_pred)**0.5))"
   ]
  },
  {
   "cell_type": "markdown",
   "metadata": {},
   "source": [
    "На обучающей выборке наилучшее значение RMSE равно 1631.65. На валидационной выборке модель показывает значение RMSE 1664.78."
   ]
  },
  {
   "cell_type": "markdown",
   "metadata": {},
   "source": [
    "Применим линейную регрессию. Для этого сначала закодируем выборку с помощью OHE."
   ]
  },
  {
   "cell_type": "code",
   "execution_count": 47,
   "metadata": {},
   "outputs": [],
   "source": [
    "df_ohe = pd.get_dummies(df, drop_first=True)\n",
    "features_ohe = df_ohe.drop('Price', axis=1)\n",
    "target_ohe = df_ohe['Price']"
   ]
  },
  {
   "cell_type": "markdown",
   "metadata": {},
   "source": [
    "Разделим выборку на обучающую и валидационную."
   ]
  },
  {
   "cell_type": "code",
   "execution_count": 48,
   "metadata": {},
   "outputs": [],
   "source": [
    "features_train_ohe, features_valid_ohe, target_train_ohe, target_valid_ohe = train_test_split(\n",
    "    features_ohe, target_ohe, test_size=0.25, random_state=12345)"
   ]
  },
  {
   "cell_type": "markdown",
   "metadata": {},
   "source": [
    "Теперь валидационную выборку разделим на валидационную и тестовую."
   ]
  },
  {
   "cell_type": "code",
   "execution_count": 49,
   "metadata": {},
   "outputs": [],
   "source": [
    "features_valid_ohe, features_test_ohe_ohe, target_valid_ohe, target_test_ohe = train_test_split(\n",
    "    features_valid_ohe, target_valid_ohe, test_size=0.5, random_state=12345)"
   ]
  },
  {
   "cell_type": "markdown",
   "metadata": {},
   "source": [
    "Перейдём к обучению модели."
   ]
  },
  {
   "cell_type": "code",
   "execution_count": 50,
   "metadata": {},
   "outputs": [
    {
     "name": "stdout",
     "output_type": "stream",
     "text": [
      "CPU times: user 55.4 ms, sys: 12.1 ms, total: 67.5 ms\n",
      "Wall time: 41.3 ms\n"
     ]
    },
    {
     "data": {
      "text/plain": [
       "LinearRegression()"
      ]
     },
     "execution_count": 50,
     "metadata": {},
     "output_type": "execute_result"
    }
   ],
   "source": [
    "%%time\n",
    "model = LinearRegression()\n",
    "model.fit(features_train_ohe,target_train_ohe)"
   ]
  },
  {
   "cell_type": "markdown",
   "metadata": {},
   "source": [
    "Оценим предсказания и RMSE."
   ]
  },
  {
   "cell_type": "code",
   "execution_count": 51,
   "metadata": {},
   "outputs": [
    {
     "name": "stdout",
     "output_type": "stream",
     "text": [
      "Valid RMSE : 3045.06\n",
      "CPU times: user 256 µs, sys: 28.3 ms, total: 28.6 ms\n",
      "Wall time: 5.75 ms\n"
     ]
    }
   ],
   "source": [
    "%%time\n",
    "lnr_pred = model.predict(features_valid_ohe)\n",
    "print('Valid RMSE : {:.2f}'.format(mse(target_valid_ohe, lnr_pred)**0.5))"
   ]
  },
  {
   "cell_type": "markdown",
   "metadata": {},
   "source": [
    "Мы видим, что модель обучается быстро, но RMSE высокое - 3045.06."
   ]
  },
  {
   "cell_type": "markdown",
   "metadata": {},
   "source": [
    "**Вывод**\n",
    "\n",
    "Итак, в ходе обучения моделей мы обучили и сравнили четыре модели: LGBMRegressor, CatBoostRegressor, XGBRegressor, линейную регрессию. Выделили наилучшие значения в каждой модели."
   ]
  },
  {
   "cell_type": "markdown",
   "metadata": {},
   "source": [
    "## Анализ моделей"
   ]
  },
  {
   "cell_type": "markdown",
   "metadata": {},
   "source": [
    "Проведём анализ обученных моделей - сравним значения RMSE и время, затраченное на обучение."
   ]
  },
  {
   "cell_type": "code",
   "execution_count": 52,
   "metadata": {},
   "outputs": [
    {
     "data": {
      "text/html": [
       "<div>\n",
       "<style scoped>\n",
       "    .dataframe tbody tr th:only-of-type {\n",
       "        vertical-align: middle;\n",
       "    }\n",
       "\n",
       "    .dataframe tbody tr th {\n",
       "        vertical-align: top;\n",
       "    }\n",
       "\n",
       "    .dataframe thead th {\n",
       "        text-align: right;\n",
       "    }\n",
       "</style>\n",
       "<table border=\"1\" class=\"dataframe\">\n",
       "  <thead>\n",
       "    <tr style=\"text-align: right;\">\n",
       "      <th></th>\n",
       "      <th>Model</th>\n",
       "      <th>Train RMSE</th>\n",
       "      <th>Время обучения, sec</th>\n",
       "      <th>Valid RMSE</th>\n",
       "      <th>Время предсказания, sec</th>\n",
       "    </tr>\n",
       "  </thead>\n",
       "  <tbody>\n",
       "    <tr>\n",
       "      <th>0</th>\n",
       "      <td>LGBMRegressor</td>\n",
       "      <td>1588.89</td>\n",
       "      <td>10.500</td>\n",
       "      <td>1594.19</td>\n",
       "      <td>0.401</td>\n",
       "    </tr>\n",
       "    <tr>\n",
       "      <th>1</th>\n",
       "      <td>CatBoostRegressor</td>\n",
       "      <td>1429.88</td>\n",
       "      <td>5.410</td>\n",
       "      <td>1590.38</td>\n",
       "      <td>0.017</td>\n",
       "    </tr>\n",
       "    <tr>\n",
       "      <th>2</th>\n",
       "      <td>XGBRegressor</td>\n",
       "      <td>1577.20</td>\n",
       "      <td>61.000</td>\n",
       "      <td>1599.96</td>\n",
       "      <td>0.149</td>\n",
       "    </tr>\n",
       "    <tr>\n",
       "      <th>3</th>\n",
       "      <td>LinearRegression</td>\n",
       "      <td>3045.06</td>\n",
       "      <td>0.041</td>\n",
       "      <td>3045.06</td>\n",
       "      <td>0.005</td>\n",
       "    </tr>\n",
       "  </tbody>\n",
       "</table>\n",
       "</div>"
      ],
      "text/plain": [
       "               Model  Train RMSE  Время обучения, sec  Valid RMSE  \\\n",
       "0      LGBMRegressor     1588.89               10.500     1594.19   \n",
       "1  CatBoostRegressor     1429.88                5.410     1590.38   \n",
       "2       XGBRegressor     1577.20               61.000     1599.96   \n",
       "3   LinearRegression     3045.06                0.041     3045.06   \n",
       "\n",
       "   Время предсказания, sec  \n",
       "0                    0.401  \n",
       "1                    0.017  \n",
       "2                    0.149  \n",
       "3                    0.005  "
      ]
     },
     "metadata": {},
     "output_type": "display_data"
    }
   ],
   "source": [
    "results = {\n",
    "    'Model' : ['LGBMRegressor', 'CatBoostRegressor', 'XGBRegressor', 'LinearRegression'],\n",
    "    'Train RMSE' :pd.Series([1588.89, 1429.88, 1577.2, 3045.06]),\n",
    "    'Время обучения, sec': pd.Series([10.5, 5.41, 61, 0.041]),\n",
    "    'Valid RMSE' :pd.Series([1594.19, 1590.38, 1599.96, 3045.06]),\n",
    "    'Время предсказания, sec': pd.Series([0.401, 0.017, 0.149, 0.005])\n",
    "    }\n",
    "display(pd.DataFrame(results))\n"
   ]
  },
  {
   "cell_type": "markdown",
   "metadata": {},
   "source": [
    "В таблице мы видим, что на обучающей выборке по значению RMSE и по времени наилучший результат показала CatBoostRegressor. На валидационной выборке эта модель тоже справилась значительно быстрее других, значение RMSE минимальное. Далее идёт XGBRegressor, она показывает неплохие значения, но обучается медленнее. LGBMRegressor обучается ещё немного медленнее других моделей, её значения близки к показателям LGBMRegressor и CatBoostRegressor. Самой медленной оказалась LinearRegression, также она показывает самое высокое значение RMSE, которое не соответствует условию исследования.\n",
    "\n",
    "Лучше всего тсебя показала модель CatBoostRegressor, так как она довольно быстро обучается и у неё хорошее значение RMSE."
   ]
  },
  {
   "cell_type": "markdown",
   "metadata": {},
   "source": [
    "Протестируем модель на тестовой выборке."
   ]
  },
  {
   "cell_type": "code",
   "execution_count": 53,
   "metadata": {},
   "outputs": [
    {
     "name": "stdout",
     "output_type": "stream",
     "text": [
      "Test RMSE : 1590.73 \n",
      "CPU times: user 5.25 s, sys: 28.1 ms, total: 5.28 s\n",
      "Wall time: 5.72 s\n"
     ]
    }
   ],
   "source": [
    "%%time\n",
    "model = CatBoostRegressor(max_depth = 10, n_estimators = 100, random_state = 12345, verbose = 0)\n",
    "catb_model.fit(features_train, target_train)\n",
    "catb_pred = catb_model.predict(features_test)\n",
    "print('Test RMSE : {:.2f} '.format(mse(target_test, catb_pred)**0.5))"
   ]
  },
  {
   "cell_type": "markdown",
   "metadata": {},
   "source": [
    "Модель обучается быстро за 5.72 секунды. Значение RMSE 1590.73, это соответствует условию проекта. Мы выбрали хорошую модель, которая тратит мало времени на обучение, ошибок допустимое количество."
   ]
  }
 ],
 "metadata": {
  "ExecuteTimeLog": [
   {
    "duration": 1874,
    "start_time": "2022-08-17T18:16:09.142Z"
   },
   {
    "duration": 3427,
    "start_time": "2022-08-17T18:22:03.981Z"
   },
   {
    "duration": 128,
    "start_time": "2022-08-17T18:22:07.410Z"
   },
   {
    "duration": 28,
    "start_time": "2022-08-17T18:26:20.587Z"
   },
   {
    "duration": 551,
    "start_time": "2022-08-17T18:27:39.985Z"
   },
   {
    "duration": 687,
    "start_time": "2022-08-17T18:37:16.248Z"
   },
   {
    "duration": 551,
    "start_time": "2022-08-17T18:37:27.658Z"
   },
   {
    "duration": 610,
    "start_time": "2022-08-17T18:37:42.932Z"
   },
   {
    "duration": 569,
    "start_time": "2022-08-17T18:37:45.370Z"
   },
   {
    "duration": 153,
    "start_time": "2022-08-17T18:37:49.856Z"
   },
   {
    "duration": 134,
    "start_time": "2022-08-17T18:37:55.252Z"
   },
   {
    "duration": 11,
    "start_time": "2022-08-17T19:05:25.107Z"
   },
   {
    "duration": 136,
    "start_time": "2022-08-17T19:05:35.413Z"
   },
   {
    "duration": 25,
    "start_time": "2022-08-17T19:05:39.212Z"
   },
   {
    "duration": 120,
    "start_time": "2022-08-17T19:05:43.428Z"
   },
   {
    "duration": 16,
    "start_time": "2022-08-17T19:06:01.203Z"
   },
   {
    "duration": 24,
    "start_time": "2022-08-17T19:06:04.326Z"
   },
   {
    "duration": 116,
    "start_time": "2022-08-17T19:06:08.237Z"
   },
   {
    "duration": 88,
    "start_time": "2022-08-17T19:07:05.693Z"
   },
   {
    "duration": 88,
    "start_time": "2022-08-17T19:07:43.091Z"
   },
   {
    "duration": 97,
    "start_time": "2022-08-17T19:07:57.895Z"
   },
   {
    "duration": 141,
    "start_time": "2022-08-17T19:08:59.089Z"
   },
   {
    "duration": 28,
    "start_time": "2022-08-17T19:09:08.078Z"
   },
   {
    "duration": 95,
    "start_time": "2022-08-17T19:09:10.907Z"
   },
   {
    "duration": 290,
    "start_time": "2022-08-17T19:10:53.704Z"
   },
   {
    "duration": 39,
    "start_time": "2022-08-17T19:10:57.066Z"
   },
   {
    "duration": 5,
    "start_time": "2022-08-17T19:17:22.729Z"
   },
   {
    "duration": 16,
    "start_time": "2022-08-17T19:17:55.207Z"
   },
   {
    "duration": 1543,
    "start_time": "2022-08-18T17:02:03.132Z"
   },
   {
    "duration": 986,
    "start_time": "2022-08-18T17:02:04.677Z"
   },
   {
    "duration": 107,
    "start_time": "2022-08-18T17:02:05.664Z"
   },
   {
    "duration": 21,
    "start_time": "2022-08-18T17:02:05.773Z"
   },
   {
    "duration": 439,
    "start_time": "2022-08-18T17:02:05.808Z"
   },
   {
    "duration": 143,
    "start_time": "2022-08-18T17:02:06.302Z"
   },
   {
    "duration": 180,
    "start_time": "2022-08-18T17:02:06.783Z"
   },
   {
    "duration": 14,
    "start_time": "2022-08-18T17:02:07.316Z"
   },
   {
    "duration": 5,
    "start_time": "2022-08-18T17:02:12.954Z"
   },
   {
    "duration": 8,
    "start_time": "2022-08-18T17:05:26.207Z"
   },
   {
    "duration": 6,
    "start_time": "2022-08-18T17:12:50.983Z"
   },
   {
    "duration": 14,
    "start_time": "2022-08-18T17:12:56.118Z"
   },
   {
    "duration": 30,
    "start_time": "2022-08-18T17:13:14.420Z"
   },
   {
    "duration": 6,
    "start_time": "2022-08-18T17:16:22.567Z"
   },
   {
    "duration": 13,
    "start_time": "2022-08-18T17:16:25.159Z"
   },
   {
    "duration": 115,
    "start_time": "2022-08-18T17:27:56.534Z"
   },
   {
    "duration": 10,
    "start_time": "2022-08-18T17:27:59.672Z"
   },
   {
    "duration": 19,
    "start_time": "2022-08-18T17:28:27.482Z"
   },
   {
    "duration": 10,
    "start_time": "2022-08-18T17:29:29.031Z"
   },
   {
    "duration": 8,
    "start_time": "2022-08-18T17:30:04.628Z"
   },
   {
    "duration": 35,
    "start_time": "2022-08-18T17:33:48.015Z"
   },
   {
    "duration": 13,
    "start_time": "2022-08-18T17:33:55.270Z"
   },
   {
    "duration": 8,
    "start_time": "2022-08-18T17:37:49.615Z"
   },
   {
    "duration": 965,
    "start_time": "2022-08-18T17:42:44.078Z"
   },
   {
    "duration": 276,
    "start_time": "2022-08-18T17:42:55.228Z"
   },
   {
    "duration": 7,
    "start_time": "2022-08-18T17:45:59.936Z"
   },
   {
    "duration": 7,
    "start_time": "2022-08-18T17:46:04.643Z"
   },
   {
    "duration": 8,
    "start_time": "2022-08-18T17:48:05.784Z"
   },
   {
    "duration": 1366,
    "start_time": "2022-08-18T17:51:19.377Z"
   },
   {
    "duration": 738,
    "start_time": "2022-08-18T17:51:20.745Z"
   },
   {
    "duration": 117,
    "start_time": "2022-08-18T17:51:21.484Z"
   },
   {
    "duration": 30,
    "start_time": "2022-08-18T17:51:22.678Z"
   },
   {
    "duration": 403,
    "start_time": "2022-08-18T17:51:26.642Z"
   },
   {
    "duration": 456,
    "start_time": "2022-08-18T17:51:29.850Z"
   },
   {
    "duration": 111,
    "start_time": "2022-08-18T17:51:30.310Z"
   },
   {
    "duration": 17,
    "start_time": "2022-08-18T17:51:30.835Z"
   },
   {
    "duration": 21,
    "start_time": "2022-08-18T17:51:32.236Z"
   },
   {
    "duration": 19,
    "start_time": "2022-08-18T17:51:33.335Z"
   },
   {
    "duration": 9,
    "start_time": "2022-08-18T17:51:35.870Z"
   },
   {
    "duration": 17,
    "start_time": "2022-08-18T17:51:36.061Z"
   },
   {
    "duration": 59,
    "start_time": "2022-08-18T17:51:36.692Z"
   },
   {
    "duration": 10,
    "start_time": "2022-08-18T17:51:37.277Z"
   },
   {
    "duration": 294,
    "start_time": "2022-08-18T17:51:38.455Z"
   },
   {
    "duration": 20,
    "start_time": "2022-08-18T17:51:39.837Z"
   },
   {
    "duration": 6,
    "start_time": "2022-08-18T17:51:40.292Z"
   },
   {
    "duration": 7,
    "start_time": "2022-08-18T17:52:21.232Z"
   },
   {
    "duration": 22,
    "start_time": "2022-08-18T17:52:28.927Z"
   },
   {
    "duration": 1398,
    "start_time": "2022-08-18T18:25:57.079Z"
   },
   {
    "duration": 721,
    "start_time": "2022-08-18T18:25:58.479Z"
   },
   {
    "duration": 118,
    "start_time": "2022-08-18T18:25:59.202Z"
   },
   {
    "duration": 27,
    "start_time": "2022-08-18T18:26:02.460Z"
   },
   {
    "duration": 382,
    "start_time": "2022-08-18T18:26:13.931Z"
   },
   {
    "duration": 423,
    "start_time": "2022-08-18T18:26:14.489Z"
   },
   {
    "duration": 20,
    "start_time": "2022-08-18T18:26:17.743Z"
   },
   {
    "duration": 117,
    "start_time": "2022-08-18T18:26:26.668Z"
   },
   {
    "duration": 16,
    "start_time": "2022-08-18T18:26:32.847Z"
   },
   {
    "duration": 18,
    "start_time": "2022-08-18T18:26:37.483Z"
   },
   {
    "duration": 27,
    "start_time": "2022-08-18T18:26:42.112Z"
   },
   {
    "duration": 18,
    "start_time": "2022-08-18T18:26:46.059Z"
   },
   {
    "duration": 11,
    "start_time": "2022-08-18T18:26:53.023Z"
   },
   {
    "duration": 18,
    "start_time": "2022-08-18T18:26:53.259Z"
   },
   {
    "duration": 72,
    "start_time": "2022-08-18T18:26:58.554Z"
   },
   {
    "duration": 4,
    "start_time": "2022-08-18T18:27:28.708Z"
   },
   {
    "duration": 20,
    "start_time": "2022-08-18T18:27:39.338Z"
   },
   {
    "duration": 10,
    "start_time": "2022-08-18T18:27:51.723Z"
   },
   {
    "duration": 317,
    "start_time": "2022-08-18T18:27:57.270Z"
   },
   {
    "duration": 24,
    "start_time": "2022-08-18T18:28:02.532Z"
   },
   {
    "duration": 30,
    "start_time": "2022-08-18T18:28:07.632Z"
   },
   {
    "duration": 1443,
    "start_time": "2022-08-18T18:28:58.458Z"
   },
   {
    "duration": 752,
    "start_time": "2022-08-18T18:28:59.903Z"
   },
   {
    "duration": 28,
    "start_time": "2022-08-18T18:29:12.152Z"
   },
   {
    "duration": 22,
    "start_time": "2022-08-18T18:29:15.519Z"
   },
   {
    "duration": 1363,
    "start_time": "2022-08-18T18:30:29.893Z"
   },
   {
    "duration": 754,
    "start_time": "2022-08-18T18:30:31.258Z"
   },
   {
    "duration": 112,
    "start_time": "2022-08-18T18:30:32.013Z"
   },
   {
    "duration": 123,
    "start_time": "2022-08-18T18:30:37.434Z"
   },
   {
    "duration": 53,
    "start_time": "2022-08-18T18:31:02.851Z"
   },
   {
    "duration": 1379,
    "start_time": "2022-08-18T18:31:12.272Z"
   },
   {
    "duration": 734,
    "start_time": "2022-08-18T18:31:13.653Z"
   },
   {
    "duration": 60,
    "start_time": "2022-08-18T18:31:19.250Z"
   },
   {
    "duration": 23,
    "start_time": "2022-08-18T18:31:23.631Z"
   },
   {
    "duration": 97,
    "start_time": "2022-08-18T18:31:31.329Z"
   },
   {
    "duration": 20,
    "start_time": "2022-08-18T18:31:34.131Z"
   },
   {
    "duration": 381,
    "start_time": "2022-08-18T18:31:34.519Z"
   },
   {
    "duration": 136,
    "start_time": "2022-08-18T18:31:36.436Z"
   },
   {
    "duration": 165,
    "start_time": "2022-08-18T18:31:36.835Z"
   },
   {
    "duration": 14,
    "start_time": "2022-08-18T18:31:37.443Z"
   },
   {
    "duration": 4,
    "start_time": "2022-08-18T18:31:38.058Z"
   },
   {
    "duration": 5,
    "start_time": "2022-08-18T18:31:38.991Z"
   },
   {
    "duration": 5,
    "start_time": "2022-08-18T18:31:39.659Z"
   },
   {
    "duration": 9,
    "start_time": "2022-08-18T18:31:44.007Z"
   },
   {
    "duration": 16,
    "start_time": "2022-08-18T18:31:44.184Z"
   },
   {
    "duration": 24,
    "start_time": "2022-08-18T18:31:44.863Z"
   },
   {
    "duration": 8,
    "start_time": "2022-08-18T18:31:45.323Z"
   },
   {
    "duration": 264,
    "start_time": "2022-08-18T18:31:45.784Z"
   },
   {
    "duration": 21,
    "start_time": "2022-08-18T18:31:46.240Z"
   },
   {
    "duration": 7,
    "start_time": "2022-08-18T18:31:48.852Z"
   },
   {
    "duration": 137,
    "start_time": "2022-08-18T18:35:24.188Z"
   },
   {
    "duration": 26,
    "start_time": "2022-08-18T18:35:40.423Z"
   },
   {
    "duration": 729,
    "start_time": "2022-08-18T18:36:50.631Z"
   },
   {
    "duration": 6,
    "start_time": "2022-08-18T18:36:57.046Z"
   },
   {
    "duration": 4,
    "start_time": "2022-08-18T18:38:40.467Z"
   },
   {
    "duration": 22,
    "start_time": "2022-08-18T18:39:33.173Z"
   },
   {
    "duration": 1406,
    "start_time": "2022-08-18T18:40:01.531Z"
   },
   {
    "duration": 737,
    "start_time": "2022-08-18T18:40:02.940Z"
   },
   {
    "duration": 110,
    "start_time": "2022-08-18T18:40:03.678Z"
   },
   {
    "duration": 22,
    "start_time": "2022-08-18T18:40:05.023Z"
   },
   {
    "duration": 397,
    "start_time": "2022-08-18T18:40:09.290Z"
   },
   {
    "duration": 436,
    "start_time": "2022-08-18T18:40:09.689Z"
   },
   {
    "duration": 107,
    "start_time": "2022-08-18T18:40:10.127Z"
   },
   {
    "duration": 17,
    "start_time": "2022-08-18T18:40:11.236Z"
   },
   {
    "duration": 21,
    "start_time": "2022-08-18T18:40:11.779Z"
   },
   {
    "duration": 20,
    "start_time": "2022-08-18T18:40:12.491Z"
   },
   {
    "duration": 9,
    "start_time": "2022-08-18T18:40:17.084Z"
   },
   {
    "duration": 17,
    "start_time": "2022-08-18T18:40:17.268Z"
   },
   {
    "duration": 56,
    "start_time": "2022-08-18T18:40:18.131Z"
   },
   {
    "duration": 8,
    "start_time": "2022-08-18T18:40:18.525Z"
   },
   {
    "duration": 287,
    "start_time": "2022-08-18T18:40:18.983Z"
   },
   {
    "duration": 52,
    "start_time": "2022-08-18T18:40:20.124Z"
   },
   {
    "duration": 10,
    "start_time": "2022-08-18T18:40:22.483Z"
   },
   {
    "duration": 48,
    "start_time": "2022-08-18T18:40:23.331Z"
   },
   {
    "duration": 8,
    "start_time": "2022-08-18T18:40:25.264Z"
   },
   {
    "duration": 39,
    "start_time": "2022-08-18T18:40:26.040Z"
   },
   {
    "duration": 83,
    "start_time": "2022-08-18T18:40:37.723Z"
   },
   {
    "duration": 4,
    "start_time": "2022-08-18T18:41:41.372Z"
   },
   {
    "duration": 7,
    "start_time": "2022-08-18T18:44:13.919Z"
   },
   {
    "duration": 7,
    "start_time": "2022-08-18T18:44:15.048Z"
   },
   {
    "duration": 10,
    "start_time": "2022-08-18T18:44:15.832Z"
   },
   {
    "duration": 27,
    "start_time": "2022-08-18T19:39:13.763Z"
   },
   {
    "duration": 44,
    "start_time": "2022-08-18T19:39:36.344Z"
   },
   {
    "duration": 88,
    "start_time": "2022-08-18T19:39:39.134Z"
   },
   {
    "duration": 3,
    "start_time": "2022-08-18T19:43:58.177Z"
   },
   {
    "duration": 33,
    "start_time": "2022-08-18T19:49:15.419Z"
   },
   {
    "duration": 135,
    "start_time": "2022-08-18T19:50:33.069Z"
   },
   {
    "duration": 13,
    "start_time": "2022-08-18T19:50:50.972Z"
   },
   {
    "duration": 40,
    "start_time": "2022-08-18T19:52:37.559Z"
   },
   {
    "duration": 20,
    "start_time": "2022-08-18T19:53:15.585Z"
   },
   {
    "duration": 562,
    "start_time": "2022-08-18T19:56:45.640Z"
   },
   {
    "duration": 20,
    "start_time": "2022-08-18T19:56:49.417Z"
   },
   {
    "duration": 59,
    "start_time": "2022-08-18T19:56:50.227Z"
   },
   {
    "duration": 21,
    "start_time": "2022-08-18T19:56:51.021Z"
   },
   {
    "duration": 1313,
    "start_time": "2022-08-18T19:57:30.736Z"
   },
   {
    "duration": 801,
    "start_time": "2022-08-18T19:57:32.051Z"
   },
   {
    "duration": 118,
    "start_time": "2022-08-18T19:57:32.854Z"
   },
   {
    "duration": 22,
    "start_time": "2022-08-18T19:57:33.968Z"
   },
   {
    "duration": 379,
    "start_time": "2022-08-18T19:57:38.689Z"
   },
   {
    "duration": 465,
    "start_time": "2022-08-18T19:57:39.070Z"
   },
   {
    "duration": 109,
    "start_time": "2022-08-18T19:57:39.537Z"
   },
   {
    "duration": 17,
    "start_time": "2022-08-18T19:57:39.850Z"
   },
   {
    "duration": 21,
    "start_time": "2022-08-18T19:57:40.470Z"
   },
   {
    "duration": 18,
    "start_time": "2022-08-18T19:57:40.922Z"
   },
   {
    "duration": 33,
    "start_time": "2022-08-18T19:57:41.384Z"
   },
   {
    "duration": 33,
    "start_time": "2022-08-18T19:57:41.658Z"
   },
   {
    "duration": 102,
    "start_time": "2022-08-18T19:57:42.067Z"
   },
   {
    "duration": 9,
    "start_time": "2022-08-18T19:57:42.478Z"
   },
   {
    "duration": 18,
    "start_time": "2022-08-18T19:57:42.926Z"
   },
   {
    "duration": 54,
    "start_time": "2022-08-18T19:57:43.335Z"
   },
   {
    "duration": 8,
    "start_time": "2022-08-18T19:57:43.728Z"
   },
   {
    "duration": 298,
    "start_time": "2022-08-18T19:57:44.142Z"
   },
   {
    "duration": 52,
    "start_time": "2022-08-18T19:57:44.790Z"
   },
   {
    "duration": 8,
    "start_time": "2022-08-18T19:57:45.224Z"
   },
   {
    "duration": 46,
    "start_time": "2022-08-18T19:57:45.715Z"
   },
   {
    "duration": 7,
    "start_time": "2022-08-18T19:57:46.750Z"
   },
   {
    "duration": 42,
    "start_time": "2022-08-18T19:57:47.329Z"
   },
   {
    "duration": 7,
    "start_time": "2022-08-18T19:57:47.783Z"
   },
   {
    "duration": 3,
    "start_time": "2022-08-18T19:57:48.988Z"
   },
   {
    "duration": 28,
    "start_time": "2022-08-18T19:57:50.247Z"
   },
   {
    "duration": 564,
    "start_time": "2022-08-18T19:57:52.018Z"
   },
   {
    "duration": 13,
    "start_time": "2022-08-18T19:57:53.051Z"
   },
   {
    "duration": 41,
    "start_time": "2022-08-18T19:57:55.814Z"
   },
   {
    "duration": 15,
    "start_time": "2022-08-18T19:57:56.434Z"
   },
   {
    "duration": 158,
    "start_time": "2022-08-18T19:59:48.514Z"
   },
   {
    "duration": 22,
    "start_time": "2022-08-18T20:00:50.468Z"
   },
   {
    "duration": 56,
    "start_time": "2022-08-18T20:00:55.883Z"
   },
   {
    "duration": 12,
    "start_time": "2022-08-18T20:04:40.080Z"
   },
   {
    "duration": 1547,
    "start_time": "2022-08-19T22:46:54.885Z"
   },
   {
    "duration": 1036,
    "start_time": "2022-08-19T22:46:56.434Z"
   },
   {
    "duration": 99,
    "start_time": "2022-08-19T22:46:57.471Z"
   },
   {
    "duration": 21,
    "start_time": "2022-08-19T22:46:57.572Z"
   },
   {
    "duration": 423,
    "start_time": "2022-08-19T22:46:57.595Z"
   },
   {
    "duration": 461,
    "start_time": "2022-08-19T22:46:58.020Z"
   },
   {
    "duration": 102,
    "start_time": "2022-08-19T22:46:58.483Z"
   },
   {
    "duration": 17,
    "start_time": "2022-08-19T22:46:58.870Z"
   },
   {
    "duration": 26,
    "start_time": "2022-08-19T22:46:59.315Z"
   },
   {
    "duration": 16,
    "start_time": "2022-08-19T22:46:59.766Z"
   },
   {
    "duration": 32,
    "start_time": "2022-08-19T22:47:00.241Z"
   },
   {
    "duration": 31,
    "start_time": "2022-08-19T22:47:00.478Z"
   },
   {
    "duration": 95,
    "start_time": "2022-08-19T22:47:00.915Z"
   },
   {
    "duration": 10,
    "start_time": "2022-08-19T22:47:03.146Z"
   },
   {
    "duration": 19,
    "start_time": "2022-08-19T22:47:03.354Z"
   },
   {
    "duration": 63,
    "start_time": "2022-08-19T22:47:03.721Z"
   },
   {
    "duration": 8,
    "start_time": "2022-08-19T22:47:04.089Z"
   },
   {
    "duration": 328,
    "start_time": "2022-08-19T22:47:06.136Z"
   },
   {
    "duration": 55,
    "start_time": "2022-08-19T22:47:06.614Z"
   },
   {
    "duration": 8,
    "start_time": "2022-08-19T22:47:06.986Z"
   },
   {
    "duration": 48,
    "start_time": "2022-08-19T22:47:07.884Z"
   },
   {
    "duration": 7,
    "start_time": "2022-08-19T22:47:08.314Z"
   },
   {
    "duration": 39,
    "start_time": "2022-08-19T22:47:08.863Z"
   },
   {
    "duration": 6,
    "start_time": "2022-08-19T22:47:09.425Z"
   },
   {
    "duration": 4,
    "start_time": "2022-08-19T22:47:11.858Z"
   },
   {
    "duration": 30,
    "start_time": "2022-08-19T22:47:14.619Z"
   },
   {
    "duration": 753,
    "start_time": "2022-08-19T22:47:54.686Z"
   },
   {
    "duration": 13,
    "start_time": "2022-08-19T22:47:57.848Z"
   },
   {
    "duration": 56,
    "start_time": "2022-08-19T22:48:00.488Z"
   },
   {
    "duration": 17,
    "start_time": "2022-08-19T22:48:01.514Z"
   },
   {
    "duration": 169,
    "start_time": "2022-08-19T22:50:38.819Z"
   },
   {
    "duration": 595,
    "start_time": "2022-08-19T22:53:01.322Z"
   },
   {
    "duration": 64,
    "start_time": "2022-08-19T22:53:03.918Z"
   },
   {
    "duration": 298,
    "start_time": "2022-08-19T22:54:44.712Z"
   },
   {
    "duration": 102783,
    "start_time": "2022-08-19T22:54:47.779Z"
   },
   {
    "duration": 1394,
    "start_time": "2022-08-19T23:11:39.214Z"
   },
   {
    "duration": 755,
    "start_time": "2022-08-19T23:11:40.609Z"
   },
   {
    "duration": 126,
    "start_time": "2022-08-19T23:11:41.365Z"
   },
   {
    "duration": 24,
    "start_time": "2022-08-19T23:11:41.494Z"
   },
   {
    "duration": 454,
    "start_time": "2022-08-19T23:11:41.519Z"
   },
   {
    "duration": 485,
    "start_time": "2022-08-19T23:11:41.975Z"
   },
   {
    "duration": 99,
    "start_time": "2022-08-19T23:11:42.462Z"
   },
   {
    "duration": 16,
    "start_time": "2022-08-19T23:11:42.563Z"
   },
   {
    "duration": 21,
    "start_time": "2022-08-19T23:11:42.580Z"
   },
   {
    "duration": 16,
    "start_time": "2022-08-19T23:11:42.603Z"
   },
   {
    "duration": 47,
    "start_time": "2022-08-19T23:11:42.620Z"
   },
   {
    "duration": 33,
    "start_time": "2022-08-19T23:11:42.668Z"
   },
   {
    "duration": 117,
    "start_time": "2022-08-19T23:11:42.703Z"
   },
   {
    "duration": 9,
    "start_time": "2022-08-19T23:11:42.821Z"
   },
   {
    "duration": 31,
    "start_time": "2022-08-19T23:11:42.831Z"
   },
   {
    "duration": 61,
    "start_time": "2022-08-19T23:11:42.887Z"
   },
   {
    "duration": 10,
    "start_time": "2022-08-19T23:11:43.283Z"
   },
   {
    "duration": 311,
    "start_time": "2022-08-19T23:11:43.673Z"
   },
   {
    "duration": 54,
    "start_time": "2022-08-19T23:11:44.077Z"
   },
   {
    "duration": 8,
    "start_time": "2022-08-19T23:11:44.467Z"
   },
   {
    "duration": 48,
    "start_time": "2022-08-19T23:11:44.870Z"
   },
   {
    "duration": 11,
    "start_time": "2022-08-19T23:11:45.263Z"
   },
   {
    "duration": 44,
    "start_time": "2022-08-19T23:11:45.643Z"
   },
   {
    "duration": 7,
    "start_time": "2022-08-19T23:11:46.075Z"
   },
   {
    "duration": 4,
    "start_time": "2022-08-19T23:11:46.667Z"
   },
   {
    "duration": 30,
    "start_time": "2022-08-19T23:11:47.918Z"
   },
   {
    "duration": 702,
    "start_time": "2022-08-19T23:11:50.331Z"
   },
   {
    "duration": 526,
    "start_time": "2022-08-19T23:11:51.994Z"
   },
   {
    "duration": 59,
    "start_time": "2022-08-19T23:11:53.274Z"
   },
   {
    "duration": 16,
    "start_time": "2022-08-19T23:11:53.854Z"
   },
   {
    "duration": 130,
    "start_time": "2022-08-19T23:11:55.843Z"
   },
   {
    "duration": 109,
    "start_time": "2022-08-19T23:12:08.655Z"
   },
   {
    "duration": 139,
    "start_time": "2022-08-19T23:12:12.756Z"
   },
   {
    "duration": 4,
    "start_time": "2022-08-19T23:13:00.192Z"
   },
   {
    "duration": 61,
    "start_time": "2022-08-19T23:13:05.018Z"
   },
   {
    "duration": 150,
    "start_time": "2022-08-19T23:13:45.289Z"
   },
   {
    "duration": 1329,
    "start_time": "2022-08-19T23:21:46.085Z"
   },
   {
    "duration": 738,
    "start_time": "2022-08-19T23:21:47.416Z"
   },
   {
    "duration": 119,
    "start_time": "2022-08-19T23:21:48.155Z"
   },
   {
    "duration": 24,
    "start_time": "2022-08-19T23:21:48.276Z"
   },
   {
    "duration": 464,
    "start_time": "2022-08-19T23:21:48.302Z"
   },
   {
    "duration": 501,
    "start_time": "2022-08-19T23:21:48.768Z"
   },
   {
    "duration": 102,
    "start_time": "2022-08-19T23:21:49.271Z"
   },
   {
    "duration": 16,
    "start_time": "2022-08-19T23:21:49.374Z"
   },
   {
    "duration": 17,
    "start_time": "2022-08-19T23:21:49.391Z"
   },
   {
    "duration": 18,
    "start_time": "2022-08-19T23:21:49.411Z"
   },
   {
    "duration": 54,
    "start_time": "2022-08-19T23:21:49.430Z"
   },
   {
    "duration": 31,
    "start_time": "2022-08-19T23:21:49.486Z"
   },
   {
    "duration": 117,
    "start_time": "2022-08-19T23:21:49.519Z"
   },
   {
    "duration": 21,
    "start_time": "2022-08-19T23:21:49.637Z"
   },
   {
    "duration": 18,
    "start_time": "2022-08-19T23:21:49.660Z"
   },
   {
    "duration": 81,
    "start_time": "2022-08-19T23:21:49.679Z"
   },
   {
    "duration": 9,
    "start_time": "2022-08-19T23:21:49.761Z"
   },
   {
    "duration": 344,
    "start_time": "2022-08-19T23:21:49.771Z"
   },
   {
    "duration": 56,
    "start_time": "2022-08-19T23:21:50.117Z"
   },
   {
    "duration": 8,
    "start_time": "2022-08-19T23:21:50.175Z"
   },
   {
    "duration": 54,
    "start_time": "2022-08-19T23:21:50.185Z"
   },
   {
    "duration": 20,
    "start_time": "2022-08-19T23:21:50.241Z"
   },
   {
    "duration": 45,
    "start_time": "2022-08-19T23:21:50.262Z"
   },
   {
    "duration": 7,
    "start_time": "2022-08-19T23:21:50.308Z"
   },
   {
    "duration": 3,
    "start_time": "2022-08-19T23:21:50.317Z"
   },
   {
    "duration": 30,
    "start_time": "2022-08-19T23:21:50.417Z"
   },
   {
    "duration": 663,
    "start_time": "2022-08-19T23:21:50.793Z"
   },
   {
    "duration": 522,
    "start_time": "2022-08-19T23:21:51.458Z"
   },
   {
    "duration": 53,
    "start_time": "2022-08-19T23:21:51.982Z"
   },
   {
    "duration": 17,
    "start_time": "2022-08-19T23:21:52.572Z"
   },
   {
    "duration": 116,
    "start_time": "2022-08-19T23:21:53.250Z"
   },
   {
    "duration": 1414,
    "start_time": "2022-08-19T23:29:21.782Z"
   },
   {
    "duration": 751,
    "start_time": "2022-08-19T23:29:23.198Z"
   },
   {
    "duration": 115,
    "start_time": "2022-08-19T23:29:23.951Z"
   },
   {
    "duration": 23,
    "start_time": "2022-08-19T23:29:24.068Z"
   },
   {
    "duration": 450,
    "start_time": "2022-08-19T23:29:24.092Z"
   },
   {
    "duration": 456,
    "start_time": "2022-08-19T23:29:24.543Z"
   },
   {
    "duration": 97,
    "start_time": "2022-08-19T23:29:25.000Z"
   },
   {
    "duration": 21,
    "start_time": "2022-08-19T23:29:25.098Z"
   },
   {
    "duration": 37,
    "start_time": "2022-08-19T23:29:25.120Z"
   },
   {
    "duration": 23,
    "start_time": "2022-08-19T23:29:25.161Z"
   },
   {
    "duration": 45,
    "start_time": "2022-08-19T23:29:25.186Z"
   },
   {
    "duration": 55,
    "start_time": "2022-08-19T23:29:25.233Z"
   },
   {
    "duration": 123,
    "start_time": "2022-08-19T23:29:25.290Z"
   },
   {
    "duration": 8,
    "start_time": "2022-08-19T23:29:25.415Z"
   },
   {
    "duration": 17,
    "start_time": "2022-08-19T23:29:25.425Z"
   },
   {
    "duration": 61,
    "start_time": "2022-08-19T23:29:25.458Z"
   },
   {
    "duration": 7,
    "start_time": "2022-08-19T23:29:25.521Z"
   },
   {
    "duration": 357,
    "start_time": "2022-08-19T23:29:25.530Z"
   },
   {
    "duration": 49,
    "start_time": "2022-08-19T23:29:25.889Z"
   },
   {
    "duration": 20,
    "start_time": "2022-08-19T23:29:25.940Z"
   },
   {
    "duration": 48,
    "start_time": "2022-08-19T23:29:26.513Z"
   },
   {
    "duration": 8,
    "start_time": "2022-08-19T23:29:26.908Z"
   },
   {
    "duration": 41,
    "start_time": "2022-08-19T23:29:27.331Z"
   },
   {
    "duration": 7,
    "start_time": "2022-08-19T23:29:27.743Z"
   },
   {
    "duration": 5,
    "start_time": "2022-08-19T23:29:28.719Z"
   },
   {
    "duration": 33,
    "start_time": "2022-08-19T23:29:30.277Z"
   },
   {
    "duration": 751,
    "start_time": "2022-08-19T23:29:32.219Z"
   },
   {
    "duration": 564,
    "start_time": "2022-08-19T23:29:32.972Z"
   },
   {
    "duration": 60,
    "start_time": "2022-08-19T23:29:33.538Z"
   },
   {
    "duration": 23,
    "start_time": "2022-08-19T23:29:35.416Z"
   },
   {
    "duration": 109,
    "start_time": "2022-08-19T23:29:36.116Z"
   },
   {
    "duration": 235,
    "start_time": "2022-08-19T23:29:40.459Z"
   },
   {
    "duration": 114,
    "start_time": "2022-08-19T23:30:04.737Z"
   },
   {
    "duration": 131,
    "start_time": "2022-08-19T23:30:17.244Z"
   },
   {
    "duration": 3015016,
    "start_time": "2022-08-20T00:29:56.781Z"
   },
   {
    "duration": 98,
    "start_time": "2022-08-20T02:04:17.079Z"
   },
   {
    "duration": 8398,
    "start_time": "2022-08-20T02:04:17.179Z"
   },
   {
    "duration": 59,
    "start_time": "2022-08-20T02:21:25.548Z"
   },
   {
    "duration": 74,
    "start_time": "2022-08-20T02:21:34.076Z"
   },
   {
    "duration": 83,
    "start_time": "2022-08-20T02:21:53.540Z"
   },
   {
    "duration": 1824,
    "start_time": "2022-08-22T20:19:18.365Z"
   },
   {
    "duration": 4072,
    "start_time": "2022-08-22T20:19:20.192Z"
   },
   {
    "duration": 168,
    "start_time": "2022-08-22T20:19:24.266Z"
   },
   {
    "duration": 26,
    "start_time": "2022-08-22T20:19:24.437Z"
   },
   {
    "duration": 582,
    "start_time": "2022-08-22T20:19:24.465Z"
   },
   {
    "duration": 623,
    "start_time": "2022-08-22T20:19:25.048Z"
   },
   {
    "duration": 168,
    "start_time": "2022-08-22T20:19:25.672Z"
   },
   {
    "duration": 21,
    "start_time": "2022-08-22T20:19:25.841Z"
   },
   {
    "duration": 50,
    "start_time": "2022-08-22T20:19:25.864Z"
   },
   {
    "duration": 22,
    "start_time": "2022-08-22T20:19:25.924Z"
   },
   {
    "duration": 61,
    "start_time": "2022-08-22T20:19:25.949Z"
   },
   {
    "duration": 59,
    "start_time": "2022-08-22T20:19:26.014Z"
   },
   {
    "duration": 186,
    "start_time": "2022-08-22T20:19:26.075Z"
   },
   {
    "duration": 10,
    "start_time": "2022-08-22T20:19:26.264Z"
   },
   {
    "duration": 32,
    "start_time": "2022-08-22T20:19:26.294Z"
   },
   {
    "duration": 73,
    "start_time": "2022-08-22T20:19:26.328Z"
   },
   {
    "duration": 12,
    "start_time": "2022-08-22T20:19:26.403Z"
   },
   {
    "duration": 428,
    "start_time": "2022-08-22T20:19:26.417Z"
   },
   {
    "duration": 82,
    "start_time": "2022-08-22T20:19:26.847Z"
   },
   {
    "duration": 9,
    "start_time": "2022-08-22T20:19:26.931Z"
   },
   {
    "duration": 72,
    "start_time": "2022-08-22T20:19:26.942Z"
   },
   {
    "duration": 10,
    "start_time": "2022-08-22T20:19:27.016Z"
   },
   {
    "duration": 45,
    "start_time": "2022-08-22T20:19:27.028Z"
   },
   {
    "duration": 21,
    "start_time": "2022-08-22T20:19:27.075Z"
   },
   {
    "duration": 30,
    "start_time": "2022-08-22T20:19:27.098Z"
   },
   {
    "duration": 34,
    "start_time": "2022-08-22T20:19:27.132Z"
   },
   {
    "duration": 919,
    "start_time": "2022-08-22T20:19:32.030Z"
   },
   {
    "duration": 803,
    "start_time": "2022-08-22T20:19:32.951Z"
   },
   {
    "duration": 80,
    "start_time": "2022-08-22T20:19:33.756Z"
   },
   {
    "duration": 20,
    "start_time": "2022-08-22T20:19:33.846Z"
   },
   {
    "duration": 165,
    "start_time": "2022-08-22T20:19:46.920Z"
   },
   {
    "duration": 207,
    "start_time": "2022-08-22T20:20:35.422Z"
   },
   {
    "duration": 11,
    "start_time": "2022-08-22T20:20:59.044Z"
   },
   {
    "duration": 2376,
    "start_time": "2022-08-22T20:21:12.232Z"
   },
   {
    "duration": 134,
    "start_time": "2022-08-22T20:26:28.785Z"
   },
   {
    "duration": 1670,
    "start_time": "2022-08-22T20:28:37.308Z"
   },
   {
    "duration": 1067,
    "start_time": "2022-08-22T20:28:38.980Z"
   },
   {
    "duration": 167,
    "start_time": "2022-08-22T20:28:40.049Z"
   },
   {
    "duration": 30,
    "start_time": "2022-08-22T20:28:40.219Z"
   },
   {
    "duration": 612,
    "start_time": "2022-08-22T20:28:40.251Z"
   },
   {
    "duration": 616,
    "start_time": "2022-08-22T20:28:40.864Z"
   },
   {
    "duration": 156,
    "start_time": "2022-08-22T20:28:41.482Z"
   },
   {
    "duration": 26,
    "start_time": "2022-08-22T20:28:41.640Z"
   },
   {
    "duration": 49,
    "start_time": "2022-08-22T20:28:41.668Z"
   },
   {
    "duration": 23,
    "start_time": "2022-08-22T20:28:41.719Z"
   },
   {
    "duration": 68,
    "start_time": "2022-08-22T20:28:41.743Z"
   },
   {
    "duration": 98,
    "start_time": "2022-08-22T20:28:41.814Z"
   },
   {
    "duration": 226,
    "start_time": "2022-08-22T20:28:41.915Z"
   },
   {
    "duration": 19,
    "start_time": "2022-08-22T20:28:42.143Z"
   },
   {
    "duration": 44,
    "start_time": "2022-08-22T20:28:42.164Z"
   },
   {
    "duration": 97,
    "start_time": "2022-08-22T20:28:42.210Z"
   },
   {
    "duration": 13,
    "start_time": "2022-08-22T20:28:42.311Z"
   },
   {
    "duration": 423,
    "start_time": "2022-08-22T20:28:42.326Z"
   },
   {
    "duration": 78,
    "start_time": "2022-08-22T20:28:42.751Z"
   },
   {
    "duration": 10,
    "start_time": "2022-08-22T20:28:42.831Z"
   },
   {
    "duration": 82,
    "start_time": "2022-08-22T20:28:42.844Z"
   },
   {
    "duration": 8,
    "start_time": "2022-08-22T20:28:42.927Z"
   },
   {
    "duration": 56,
    "start_time": "2022-08-22T20:28:42.937Z"
   },
   {
    "duration": 8,
    "start_time": "2022-08-22T20:28:43.148Z"
   },
   {
    "duration": 5,
    "start_time": "2022-08-22T20:28:44.057Z"
   },
   {
    "duration": 41,
    "start_time": "2022-08-22T20:28:48.001Z"
   },
   {
    "duration": 144,
    "start_time": "2022-08-22T20:29:09.525Z"
   },
   {
    "duration": 31,
    "start_time": "2022-08-22T20:29:23.083Z"
   },
   {
    "duration": 25,
    "start_time": "2022-08-22T20:30:27.171Z"
   },
   {
    "duration": 839,
    "start_time": "2022-08-22T20:31:51.395Z"
   },
   {
    "duration": 58,
    "start_time": "2022-08-22T20:31:53.236Z"
   },
   {
    "duration": 19,
    "start_time": "2022-08-22T20:31:53.993Z"
   },
   {
    "duration": 31781,
    "start_time": "2022-08-22T20:32:33.532Z"
   },
   {
    "duration": 113,
    "start_time": "2022-08-22T20:33:41.071Z"
   },
   {
    "duration": 4,
    "start_time": "2022-08-22T20:34:21.082Z"
   },
   {
    "duration": 3,
    "start_time": "2022-08-22T20:34:29.305Z"
   },
   {
    "duration": 13,
    "start_time": "2022-08-22T20:34:42.396Z"
   },
   {
    "duration": 4,
    "start_time": "2022-08-22T20:34:53.869Z"
   },
   {
    "duration": 13,
    "start_time": "2022-08-22T20:35:07.398Z"
   },
   {
    "duration": 80,
    "start_time": "2022-08-22T20:35:54.046Z"
   },
   {
    "duration": 80,
    "start_time": "2022-08-22T20:36:25.841Z"
   },
   {
    "duration": 5,
    "start_time": "2022-08-22T20:37:19.520Z"
   },
   {
    "duration": 4,
    "start_time": "2022-08-22T20:37:19.969Z"
   },
   {
    "duration": 9,
    "start_time": "2022-08-22T20:37:20.475Z"
   },
   {
    "duration": 5,
    "start_time": "2022-08-22T20:37:20.903Z"
   },
   {
    "duration": 61,
    "start_time": "2022-08-22T20:37:22.786Z"
   },
   {
    "duration": 15,
    "start_time": "2022-08-22T20:38:20.174Z"
   },
   {
    "duration": 18,
    "start_time": "2022-08-22T20:39:11.289Z"
   },
   {
    "duration": 80,
    "start_time": "2022-08-22T20:39:49.164Z"
   },
   {
    "duration": 13,
    "start_time": "2022-08-22T20:40:35.412Z"
   },
   {
    "duration": 12,
    "start_time": "2022-08-22T20:41:44.864Z"
   },
   {
    "duration": 21,
    "start_time": "2022-08-22T20:41:45.042Z"
   },
   {
    "duration": 2830,
    "start_time": "2022-08-22T20:43:51.510Z"
   },
   {
    "duration": 17,
    "start_time": "2022-08-22T20:45:11.510Z"
   },
   {
    "duration": 98,
    "start_time": "2022-08-22T20:46:38.229Z"
   },
   {
    "duration": 79,
    "start_time": "2022-08-22T20:47:57.898Z"
   },
   {
    "duration": 87,
    "start_time": "2022-08-22T20:48:02.138Z"
   },
   {
    "duration": 8,
    "start_time": "2022-08-22T20:48:09.833Z"
   },
   {
    "duration": 62,
    "start_time": "2022-08-22T20:48:17.735Z"
   },
   {
    "duration": 4,
    "start_time": "2022-08-22T20:48:20.942Z"
   },
   {
    "duration": 4,
    "start_time": "2022-08-22T20:48:21.326Z"
   },
   {
    "duration": 9,
    "start_time": "2022-08-22T20:48:21.745Z"
   },
   {
    "duration": 4,
    "start_time": "2022-08-22T20:48:23.384Z"
   },
   {
    "duration": 64,
    "start_time": "2022-08-22T20:48:25.527Z"
   },
   {
    "duration": 13,
    "start_time": "2022-08-22T20:48:29.292Z"
   },
   {
    "duration": 12,
    "start_time": "2022-08-22T20:48:31.081Z"
   },
   {
    "duration": 68,
    "start_time": "2022-08-22T20:48:33.485Z"
   },
   {
    "duration": 11,
    "start_time": "2022-08-22T20:48:35.768Z"
   },
   {
    "duration": 12,
    "start_time": "2022-08-22T20:48:37.753Z"
   },
   {
    "duration": 22,
    "start_time": "2022-08-22T20:48:39.683Z"
   },
   {
    "duration": 12,
    "start_time": "2022-08-22T20:48:42.879Z"
   },
   {
    "duration": 1940,
    "start_time": "2022-08-23T16:27:44.281Z"
   },
   {
    "duration": 3120,
    "start_time": "2022-08-23T16:27:46.223Z"
   },
   {
    "duration": 127,
    "start_time": "2022-08-23T16:27:49.345Z"
   },
   {
    "duration": 38,
    "start_time": "2022-08-23T16:27:49.475Z"
   },
   {
    "duration": 521,
    "start_time": "2022-08-23T16:27:49.515Z"
   },
   {
    "duration": 547,
    "start_time": "2022-08-23T16:27:50.038Z"
   },
   {
    "duration": 111,
    "start_time": "2022-08-23T16:27:50.586Z"
   },
   {
    "duration": 18,
    "start_time": "2022-08-23T16:27:50.699Z"
   },
   {
    "duration": 20,
    "start_time": "2022-08-23T16:27:50.719Z"
   },
   {
    "duration": 44,
    "start_time": "2022-08-23T16:27:50.742Z"
   },
   {
    "duration": 35,
    "start_time": "2022-08-23T16:27:50.787Z"
   },
   {
    "duration": 55,
    "start_time": "2022-08-23T16:27:50.824Z"
   },
   {
    "duration": 122,
    "start_time": "2022-08-23T16:27:50.881Z"
   },
   {
    "duration": 12,
    "start_time": "2022-08-23T16:27:51.006Z"
   },
   {
    "duration": 21,
    "start_time": "2022-08-23T16:27:51.020Z"
   },
   {
    "duration": 62,
    "start_time": "2022-08-23T16:27:51.067Z"
   },
   {
    "duration": 12,
    "start_time": "2022-08-23T16:27:51.131Z"
   },
   {
    "duration": 413,
    "start_time": "2022-08-23T16:27:51.145Z"
   },
   {
    "duration": 58,
    "start_time": "2022-08-23T16:27:51.581Z"
   },
   {
    "duration": 9,
    "start_time": "2022-08-23T16:27:52.724Z"
   },
   {
    "duration": 50,
    "start_time": "2022-08-23T16:27:53.348Z"
   },
   {
    "duration": 8,
    "start_time": "2022-08-23T16:27:55.822Z"
   },
   {
    "duration": 41,
    "start_time": "2022-08-23T16:27:56.308Z"
   },
   {
    "duration": 8,
    "start_time": "2022-08-23T16:27:58.765Z"
   },
   {
    "duration": 3,
    "start_time": "2022-08-23T16:27:59.800Z"
   },
   {
    "duration": 32,
    "start_time": "2022-08-23T16:28:05.317Z"
   },
   {
    "duration": 135,
    "start_time": "2022-08-23T16:28:11.266Z"
   },
   {
    "duration": 846,
    "start_time": "2022-08-23T16:28:20.096Z"
   },
   {
    "duration": 70,
    "start_time": "2022-08-23T16:28:20.944Z"
   },
   {
    "duration": 23,
    "start_time": "2022-08-23T16:28:21.501Z"
   },
   {
    "duration": 2246,
    "start_time": "2022-08-23T16:28:58.781Z"
   },
   {
    "duration": 55,
    "start_time": "2022-08-23T16:31:53.633Z"
   },
   {
    "duration": 13,
    "start_time": "2022-08-23T16:36:04.610Z"
   },
   {
    "duration": 101,
    "start_time": "2022-08-23T16:36:15.495Z"
   },
   {
    "duration": 26,
    "start_time": "2022-08-23T16:36:20.304Z"
   },
   {
    "duration": 62,
    "start_time": "2022-08-23T16:38:04.815Z"
   },
   {
    "duration": 1757,
    "start_time": "2022-08-23T16:39:44.457Z"
   },
   {
    "duration": 18,
    "start_time": "2022-08-23T16:42:10.785Z"
   },
   {
    "duration": 8,
    "start_time": "2022-08-23T16:42:30.423Z"
   },
   {
    "duration": 9,
    "start_time": "2022-08-23T16:42:40.036Z"
   },
   {
    "duration": 3,
    "start_time": "2022-08-23T16:46:12.472Z"
   },
   {
    "duration": 137,
    "start_time": "2022-08-23T16:46:50.007Z"
   },
   {
    "duration": 5,
    "start_time": "2022-08-23T16:47:48.554Z"
   },
   {
    "duration": 89,
    "start_time": "2022-08-23T16:48:14.409Z"
   },
   {
    "duration": 5,
    "start_time": "2022-08-23T16:48:42.997Z"
   },
   {
    "duration": 515,
    "start_time": "2022-08-23T16:48:44.008Z"
   },
   {
    "duration": 1644,
    "start_time": "2022-08-23T16:49:56.729Z"
   },
   {
    "duration": 863,
    "start_time": "2022-08-23T16:49:58.375Z"
   },
   {
    "duration": 139,
    "start_time": "2022-08-23T16:49:59.240Z"
   },
   {
    "duration": 25,
    "start_time": "2022-08-23T16:49:59.381Z"
   },
   {
    "duration": 523,
    "start_time": "2022-08-23T16:49:59.407Z"
   },
   {
    "duration": 568,
    "start_time": "2022-08-23T16:49:59.932Z"
   },
   {
    "duration": 127,
    "start_time": "2022-08-23T16:50:00.502Z"
   },
   {
    "duration": 19,
    "start_time": "2022-08-23T16:50:00.631Z"
   },
   {
    "duration": 32,
    "start_time": "2022-08-23T16:50:00.652Z"
   },
   {
    "duration": 24,
    "start_time": "2022-08-23T16:50:00.687Z"
   },
   {
    "duration": 34,
    "start_time": "2022-08-23T16:50:00.712Z"
   },
   {
    "duration": 51,
    "start_time": "2022-08-23T16:50:00.748Z"
   },
   {
    "duration": 114,
    "start_time": "2022-08-23T16:50:00.801Z"
   },
   {
    "duration": 10,
    "start_time": "2022-08-23T16:50:00.916Z"
   },
   {
    "duration": 42,
    "start_time": "2022-08-23T16:50:00.927Z"
   },
   {
    "duration": 69,
    "start_time": "2022-08-23T16:50:00.970Z"
   },
   {
    "duration": 28,
    "start_time": "2022-08-23T16:50:01.041Z"
   },
   {
    "duration": 391,
    "start_time": "2022-08-23T16:50:01.071Z"
   },
   {
    "duration": 64,
    "start_time": "2022-08-23T16:50:01.464Z"
   },
   {
    "duration": 8,
    "start_time": "2022-08-23T16:50:01.530Z"
   },
   {
    "duration": 76,
    "start_time": "2022-08-23T16:50:01.540Z"
   },
   {
    "duration": 9,
    "start_time": "2022-08-23T16:50:01.618Z"
   },
   {
    "duration": 61,
    "start_time": "2022-08-23T16:50:01.629Z"
   },
   {
    "duration": 8,
    "start_time": "2022-08-23T16:50:01.693Z"
   },
   {
    "duration": 27,
    "start_time": "2022-08-23T16:50:01.703Z"
   },
   {
    "duration": 33,
    "start_time": "2022-08-23T16:50:07.137Z"
   },
   {
    "duration": 647,
    "start_time": "2022-08-23T16:50:11.039Z"
   },
   {
    "duration": 58,
    "start_time": "2022-08-23T16:50:11.689Z"
   },
   {
    "duration": 19,
    "start_time": "2022-08-23T16:50:12.528Z"
   },
   {
    "duration": 5,
    "start_time": "2022-08-23T16:50:58.183Z"
   },
   {
    "duration": 198,
    "start_time": "2022-08-23T16:50:59.339Z"
   },
   {
    "duration": 5,
    "start_time": "2022-08-23T16:51:26.261Z"
   },
   {
    "duration": 552,
    "start_time": "2022-08-23T16:51:27.149Z"
   },
   {
    "duration": 1564,
    "start_time": "2022-08-23T16:52:46.554Z"
   },
   {
    "duration": 920,
    "start_time": "2022-08-23T16:52:48.120Z"
   },
   {
    "duration": 138,
    "start_time": "2022-08-23T16:52:49.042Z"
   },
   {
    "duration": 28,
    "start_time": "2022-08-23T16:52:49.183Z"
   },
   {
    "duration": 545,
    "start_time": "2022-08-23T16:52:49.213Z"
   },
   {
    "duration": 612,
    "start_time": "2022-08-23T16:52:49.760Z"
   },
   {
    "duration": 117,
    "start_time": "2022-08-23T16:52:50.375Z"
   },
   {
    "duration": 53,
    "start_time": "2022-08-23T16:52:50.494Z"
   },
   {
    "duration": 97,
    "start_time": "2022-08-23T16:52:50.549Z"
   },
   {
    "duration": 66,
    "start_time": "2022-08-23T16:52:50.648Z"
   },
   {
    "duration": 36,
    "start_time": "2022-08-23T16:52:50.716Z"
   },
   {
    "duration": 41,
    "start_time": "2022-08-23T16:52:50.754Z"
   },
   {
    "duration": 113,
    "start_time": "2022-08-23T16:52:50.797Z"
   },
   {
    "duration": 10,
    "start_time": "2022-08-23T16:52:50.912Z"
   },
   {
    "duration": 20,
    "start_time": "2022-08-23T16:52:50.924Z"
   },
   {
    "duration": 90,
    "start_time": "2022-08-23T16:52:50.946Z"
   },
   {
    "duration": 11,
    "start_time": "2022-08-23T16:52:51.038Z"
   },
   {
    "duration": 389,
    "start_time": "2022-08-23T16:52:51.051Z"
   },
   {
    "duration": 77,
    "start_time": "2022-08-23T16:52:51.442Z"
   },
   {
    "duration": 8,
    "start_time": "2022-08-23T16:52:51.522Z"
   },
   {
    "duration": 73,
    "start_time": "2022-08-23T16:52:51.532Z"
   },
   {
    "duration": 11,
    "start_time": "2022-08-23T16:52:51.607Z"
   },
   {
    "duration": 61,
    "start_time": "2022-08-23T16:52:51.621Z"
   },
   {
    "duration": 7,
    "start_time": "2022-08-23T16:52:51.685Z"
   },
   {
    "duration": 4,
    "start_time": "2022-08-23T16:52:52.505Z"
   },
   {
    "duration": 32,
    "start_time": "2022-08-23T16:52:54.714Z"
   },
   {
    "duration": 406,
    "start_time": "2022-08-23T16:52:55.641Z"
   },
   {
    "duration": 4,
    "start_time": "2022-08-23T16:53:19.265Z"
   },
   {
    "duration": 56,
    "start_time": "2022-08-23T16:53:30.369Z"
   },
   {
    "duration": 43,
    "start_time": "2022-08-23T16:53:41.648Z"
   },
   {
    "duration": 14,
    "start_time": "2022-08-23T16:53:42.351Z"
   },
   {
    "duration": 4,
    "start_time": "2022-08-23T16:53:48.958Z"
   },
   {
    "duration": 151,
    "start_time": "2022-08-23T16:53:49.824Z"
   },
   {
    "duration": 5,
    "start_time": "2022-08-23T16:53:54.013Z"
   },
   {
    "duration": 154310,
    "start_time": "2022-08-23T16:53:54.764Z"
   },
   {
    "duration": 12773,
    "start_time": "2022-08-23T16:56:29.076Z"
   },
   {
    "duration": 5,
    "start_time": "2022-08-23T17:01:25.686Z"
   },
   {
    "duration": 5,
    "start_time": "2022-08-23T17:03:25.901Z"
   },
   {
    "duration": 4,
    "start_time": "2022-08-23T17:03:35.916Z"
   },
   {
    "duration": 108,
    "start_time": "2022-08-23T17:03:36.702Z"
   },
   {
    "duration": 4,
    "start_time": "2022-08-23T17:03:42.786Z"
   },
   {
    "duration": 109099,
    "start_time": "2022-08-23T17:03:45.157Z"
   },
   {
    "duration": 6761,
    "start_time": "2022-08-23T17:05:34.258Z"
   },
   {
    "duration": 7293,
    "start_time": "2022-08-23T17:06:15.482Z"
   },
   {
    "duration": 5,
    "start_time": "2022-08-23T17:11:04.040Z"
   },
   {
    "duration": 95,
    "start_time": "2022-08-23T17:11:04.727Z"
   },
   {
    "duration": 346,
    "start_time": "2022-08-23T17:11:26.328Z"
   },
   {
    "duration": 206571,
    "start_time": "2022-08-23T17:11:34.798Z"
   },
   {
    "duration": 62188,
    "start_time": "2022-08-23T17:15:01.371Z"
   },
   {
    "duration": 7,
    "start_time": "2022-08-23T17:19:20.329Z"
   },
   {
    "duration": 5,
    "start_time": "2022-08-23T17:19:29.544Z"
   },
   {
    "duration": 148143,
    "start_time": "2022-08-23T17:19:29.931Z"
   },
   {
    "duration": 11995,
    "start_time": "2022-08-23T17:21:58.076Z"
   },
   {
    "duration": 5,
    "start_time": "2022-08-23T17:22:30.082Z"
   },
   {
    "duration": 108141,
    "start_time": "2022-08-23T17:22:30.871Z"
   },
   {
    "duration": 6718,
    "start_time": "2022-08-23T17:24:19.014Z"
   },
   {
    "duration": 6,
    "start_time": "2022-08-23T17:24:29.942Z"
   },
   {
    "duration": 212649,
    "start_time": "2022-08-23T17:24:30.388Z"
   },
   {
    "duration": 55836,
    "start_time": "2022-08-23T17:28:03.039Z"
   },
   {
    "duration": 1735,
    "start_time": "2022-08-24T20:07:19.558Z"
   },
   {
    "duration": 3184,
    "start_time": "2022-08-24T20:07:21.295Z"
   },
   {
    "duration": 134,
    "start_time": "2022-08-24T20:07:24.481Z"
   },
   {
    "duration": 26,
    "start_time": "2022-08-24T20:07:24.617Z"
   },
   {
    "duration": 483,
    "start_time": "2022-08-24T20:07:24.645Z"
   },
   {
    "duration": 522,
    "start_time": "2022-08-24T20:07:25.130Z"
   },
   {
    "duration": 130,
    "start_time": "2022-08-24T20:07:25.654Z"
   },
   {
    "duration": 21,
    "start_time": "2022-08-24T20:07:25.792Z"
   },
   {
    "duration": 24,
    "start_time": "2022-08-24T20:07:25.814Z"
   },
   {
    "duration": 21,
    "start_time": "2022-08-24T20:07:25.841Z"
   },
   {
    "duration": 62,
    "start_time": "2022-08-24T20:07:25.863Z"
   },
   {
    "duration": 40,
    "start_time": "2022-08-24T20:07:25.927Z"
   },
   {
    "duration": 170,
    "start_time": "2022-08-24T20:07:25.969Z"
   },
   {
    "duration": 9,
    "start_time": "2022-08-24T20:07:26.140Z"
   },
   {
    "duration": 18,
    "start_time": "2022-08-24T20:07:26.151Z"
   },
   {
    "duration": 76,
    "start_time": "2022-08-24T20:07:26.171Z"
   },
   {
    "duration": 8,
    "start_time": "2022-08-24T20:07:26.249Z"
   },
   {
    "duration": 356,
    "start_time": "2022-08-24T20:07:26.259Z"
   },
   {
    "duration": 52,
    "start_time": "2022-08-24T20:07:26.617Z"
   },
   {
    "duration": 25,
    "start_time": "2022-08-24T20:07:26.671Z"
   },
   {
    "duration": 46,
    "start_time": "2022-08-24T20:07:26.698Z"
   },
   {
    "duration": 7,
    "start_time": "2022-08-24T20:07:26.746Z"
   },
   {
    "duration": 60,
    "start_time": "2022-08-24T20:07:26.755Z"
   },
   {
    "duration": 7,
    "start_time": "2022-08-24T20:07:26.817Z"
   },
   {
    "duration": 8,
    "start_time": "2022-08-24T20:07:26.826Z"
   },
   {
    "duration": 27,
    "start_time": "2022-08-24T20:07:36.061Z"
   },
   {
    "duration": 410,
    "start_time": "2022-08-24T20:08:02.639Z"
   },
   {
    "duration": 49,
    "start_time": "2022-08-24T20:08:13.754Z"
   },
   {
    "duration": 40,
    "start_time": "2022-08-24T20:08:14.269Z"
   },
   {
    "duration": 13,
    "start_time": "2022-08-24T20:08:17.964Z"
   },
   {
    "duration": 3,
    "start_time": "2022-08-24T20:08:46.252Z"
   },
   {
    "duration": 161,
    "start_time": "2022-08-24T20:08:51.629Z"
   },
   {
    "duration": 85,
    "start_time": "2022-08-24T20:11:04.791Z"
   },
   {
    "duration": 217,
    "start_time": "2022-08-24T20:11:05.324Z"
   },
   {
    "duration": 5,
    "start_time": "2022-08-24T20:11:32.322Z"
   },
   {
    "duration": 144380,
    "start_time": "2022-08-24T20:11:38.024Z"
   },
   {
    "duration": 12595,
    "start_time": "2022-08-24T20:14:02.406Z"
   },
   {
    "duration": 4,
    "start_time": "2022-08-24T20:14:15.003Z"
   },
   {
    "duration": 101749,
    "start_time": "2022-08-24T20:14:15.009Z"
   },
   {
    "duration": 6302,
    "start_time": "2022-08-24T20:15:56.760Z"
   },
   {
    "duration": 5,
    "start_time": "2022-08-24T20:16:03.064Z"
   },
   {
    "duration": 202691,
    "start_time": "2022-08-24T20:16:03.070Z"
   },
   {
    "duration": 12522,
    "start_time": "2022-08-24T20:20:20.797Z"
   },
   {
    "duration": 6584,
    "start_time": "2022-08-24T20:20:33.393Z"
   },
   {
    "duration": 58126,
    "start_time": "2022-08-24T20:20:39.979Z"
   },
   {
    "duration": 14,
    "start_time": "2022-08-24T20:31:30.010Z"
   },
   {
    "duration": 4385,
    "start_time": "2022-08-25T08:02:50.068Z"
   },
   {
    "duration": 1341,
    "start_time": "2022-08-25T08:02:54.456Z"
   },
   {
    "duration": 148,
    "start_time": "2022-08-25T08:02:55.799Z"
   },
   {
    "duration": 24,
    "start_time": "2022-08-25T08:02:55.948Z"
   },
   {
    "duration": 589,
    "start_time": "2022-08-25T08:02:55.974Z"
   },
   {
    "duration": 637,
    "start_time": "2022-08-25T08:02:56.565Z"
   },
   {
    "duration": 121,
    "start_time": "2022-08-25T08:02:57.204Z"
   },
   {
    "duration": 30,
    "start_time": "2022-08-25T08:02:57.327Z"
   },
   {
    "duration": 20,
    "start_time": "2022-08-25T08:02:57.359Z"
   },
   {
    "duration": 34,
    "start_time": "2022-08-25T08:02:57.381Z"
   },
   {
    "duration": 56,
    "start_time": "2022-08-25T08:02:57.417Z"
   },
   {
    "duration": 44,
    "start_time": "2022-08-25T08:02:57.476Z"
   },
   {
    "duration": 147,
    "start_time": "2022-08-25T08:02:57.523Z"
   },
   {
    "duration": 11,
    "start_time": "2022-08-25T08:02:57.673Z"
   },
   {
    "duration": 32,
    "start_time": "2022-08-25T08:02:57.685Z"
   },
   {
    "duration": 93,
    "start_time": "2022-08-25T08:02:57.719Z"
   },
   {
    "duration": 18,
    "start_time": "2022-08-25T08:02:57.818Z"
   },
   {
    "duration": 371,
    "start_time": "2022-08-25T08:02:57.838Z"
   },
   {
    "duration": 74,
    "start_time": "2022-08-25T08:02:58.211Z"
   },
   {
    "duration": 21,
    "start_time": "2022-08-25T08:02:58.286Z"
   },
   {
    "duration": 100,
    "start_time": "2022-08-25T08:02:58.309Z"
   },
   {
    "duration": 14,
    "start_time": "2022-08-25T08:02:58.411Z"
   },
   {
    "duration": 56,
    "start_time": "2022-08-25T08:02:58.427Z"
   },
   {
    "duration": 6,
    "start_time": "2022-08-25T08:02:58.485Z"
   },
   {
    "duration": 3,
    "start_time": "2022-08-25T08:02:58.493Z"
   },
   {
    "duration": 77,
    "start_time": "2022-08-25T08:02:58.499Z"
   },
   {
    "duration": 467,
    "start_time": "2022-08-25T08:02:58.578Z"
   },
   {
    "duration": 70,
    "start_time": "2022-08-25T08:02:59.047Z"
   },
   {
    "duration": 12,
    "start_time": "2022-08-25T08:04:11.743Z"
   },
   {
    "duration": 16,
    "start_time": "2022-08-25T08:04:16.116Z"
   },
   {
    "duration": 1558,
    "start_time": "2022-08-25T17:18:01.578Z"
   },
   {
    "duration": 1167,
    "start_time": "2022-08-25T17:18:04.410Z"
   },
   {
    "duration": 100,
    "start_time": "2022-08-25T17:18:05.579Z"
   },
   {
    "duration": 24,
    "start_time": "2022-08-25T17:18:46.564Z"
   },
   {
    "duration": 366,
    "start_time": "2022-08-25T17:18:50.501Z"
   },
   {
    "duration": 415,
    "start_time": "2022-08-25T17:18:50.980Z"
   },
   {
    "duration": 96,
    "start_time": "2022-08-25T17:18:51.456Z"
   },
   {
    "duration": 18,
    "start_time": "2022-08-25T17:18:51.880Z"
   },
   {
    "duration": 20,
    "start_time": "2022-08-25T17:18:52.421Z"
   },
   {
    "duration": 18,
    "start_time": "2022-08-25T17:18:52.806Z"
   },
   {
    "duration": 35,
    "start_time": "2022-08-25T17:18:54.843Z"
   },
   {
    "duration": 35,
    "start_time": "2022-08-25T17:18:55.086Z"
   },
   {
    "duration": 94,
    "start_time": "2022-08-25T17:18:55.587Z"
   },
   {
    "duration": 9,
    "start_time": "2022-08-25T17:18:57.444Z"
   },
   {
    "duration": 16,
    "start_time": "2022-08-25T17:18:57.646Z"
   },
   {
    "duration": 53,
    "start_time": "2022-08-25T17:20:49.059Z"
   },
   {
    "duration": 19,
    "start_time": "2022-08-25T17:20:51.243Z"
   },
   {
    "duration": 52,
    "start_time": "2022-08-25T17:21:07.490Z"
   },
   {
    "duration": 16,
    "start_time": "2022-08-25T17:21:11.154Z"
   },
   {
    "duration": 40,
    "start_time": "2022-08-25T17:21:32.233Z"
   },
   {
    "duration": 16,
    "start_time": "2022-08-25T17:21:39.321Z"
   },
   {
    "duration": 40,
    "start_time": "2022-08-25T17:21:43.602Z"
   },
   {
    "duration": 16,
    "start_time": "2022-08-25T17:21:45.465Z"
   },
   {
    "duration": 52,
    "start_time": "2022-08-25T17:21:53.823Z"
   },
   {
    "duration": 9,
    "start_time": "2022-08-25T17:25:36.622Z"
   },
   {
    "duration": 280,
    "start_time": "2022-08-25T17:25:37.631Z"
   },
   {
    "duration": 39,
    "start_time": "2022-08-25T17:25:40.752Z"
   },
   {
    "duration": 7,
    "start_time": "2022-08-25T17:28:31.130Z"
   },
   {
    "duration": 43,
    "start_time": "2022-08-25T17:28:40.036Z"
   },
   {
    "duration": 7,
    "start_time": "2022-08-25T17:28:41.197Z"
   },
   {
    "duration": 36,
    "start_time": "2022-08-25T17:28:49.815Z"
   },
   {
    "duration": 6,
    "start_time": "2022-08-25T17:28:50.205Z"
   },
   {
    "duration": 4,
    "start_time": "2022-08-25T17:28:51.036Z"
   },
   {
    "duration": 1484,
    "start_time": "2022-08-25T17:29:19.204Z"
   },
   {
    "duration": 713,
    "start_time": "2022-08-25T17:29:20.690Z"
   },
   {
    "duration": 124,
    "start_time": "2022-08-25T17:29:21.405Z"
   },
   {
    "duration": 29,
    "start_time": "2022-08-25T17:29:21.531Z"
   },
   {
    "duration": 385,
    "start_time": "2022-08-25T17:29:21.561Z"
   },
   {
    "duration": 460,
    "start_time": "2022-08-25T17:29:21.948Z"
   },
   {
    "duration": 99,
    "start_time": "2022-08-25T17:29:22.409Z"
   },
   {
    "duration": 17,
    "start_time": "2022-08-25T17:29:22.509Z"
   },
   {
    "duration": 20,
    "start_time": "2022-08-25T17:29:22.529Z"
   },
   {
    "duration": 19,
    "start_time": "2022-08-25T17:29:22.551Z"
   },
   {
    "duration": 57,
    "start_time": "2022-08-25T17:29:22.572Z"
   },
   {
    "duration": 32,
    "start_time": "2022-08-25T17:29:22.631Z"
   },
   {
    "duration": 93,
    "start_time": "2022-08-25T17:29:23.498Z"
   },
   {
    "duration": 8,
    "start_time": "2022-08-25T17:29:23.599Z"
   },
   {
    "duration": 16,
    "start_time": "2022-08-25T17:29:23.621Z"
   },
   {
    "duration": 54,
    "start_time": "2022-08-25T17:29:23.680Z"
   },
   {
    "duration": 10,
    "start_time": "2022-08-25T17:29:26.193Z"
   },
   {
    "duration": 284,
    "start_time": "2022-08-25T17:29:27.135Z"
   },
   {
    "duration": 46,
    "start_time": "2022-08-25T17:29:27.600Z"
   },
   {
    "duration": 9,
    "start_time": "2022-08-25T17:29:28.566Z"
   },
   {
    "duration": 41,
    "start_time": "2022-08-25T17:29:29.015Z"
   },
   {
    "duration": 7,
    "start_time": "2022-08-25T17:29:29.694Z"
   },
   {
    "duration": 36,
    "start_time": "2022-08-25T17:29:30.130Z"
   },
   {
    "duration": 7,
    "start_time": "2022-08-25T17:29:30.542Z"
   },
   {
    "duration": 4,
    "start_time": "2022-08-25T17:29:32.926Z"
   },
   {
    "duration": 26,
    "start_time": "2022-08-25T17:29:52.893Z"
   },
   {
    "duration": 417,
    "start_time": "2022-08-25T17:32:34.202Z"
   },
   {
    "duration": 20,
    "start_time": "2022-08-25T17:32:35.707Z"
   },
   {
    "duration": 29,
    "start_time": "2022-08-25T17:32:37.416Z"
   },
   {
    "duration": 12,
    "start_time": "2022-08-25T17:32:40.176Z"
   },
   {
    "duration": 4,
    "start_time": "2022-08-25T17:32:43.699Z"
   },
   {
    "duration": 117,
    "start_time": "2022-08-25T17:32:45.800Z"
   },
   {
    "duration": 4,
    "start_time": "2022-08-25T17:32:45.919Z"
   },
   {
    "duration": 427481,
    "start_time": "2022-08-25T17:32:45.925Z"
   },
   {
    "duration": 12996,
    "start_time": "2022-08-25T17:39:53.408Z"
   },
   {
    "duration": 4,
    "start_time": "2022-08-25T17:40:06.405Z"
   },
   {
    "duration": 87667,
    "start_time": "2022-08-25T17:40:06.411Z"
   },
   {
    "duration": 5385,
    "start_time": "2022-08-25T17:41:34.080Z"
   },
   {
    "duration": 5,
    "start_time": "2022-08-25T17:41:39.467Z"
   },
   {
    "duration": 609685,
    "start_time": "2022-08-25T17:41:39.474Z"
   },
   {
    "duration": 55846,
    "start_time": "2022-08-25T17:51:49.160Z"
   },
   {
    "duration": 106,
    "start_time": "2022-08-25T17:52:45.009Z"
   },
   {
    "duration": 107,
    "start_time": "2022-08-25T17:53:16.097Z"
   },
   {
    "duration": 7,
    "start_time": "2022-08-25T17:53:19.830Z"
   },
   {
    "duration": 1479,
    "start_time": "2022-08-25T17:54:14.091Z"
   },
   {
    "duration": 733,
    "start_time": "2022-08-25T17:54:15.572Z"
   },
   {
    "duration": 122,
    "start_time": "2022-08-25T17:54:16.307Z"
   },
   {
    "duration": 22,
    "start_time": "2022-08-25T17:54:16.431Z"
   },
   {
    "duration": 415,
    "start_time": "2022-08-25T17:54:16.455Z"
   },
   {
    "duration": 438,
    "start_time": "2022-08-25T17:54:16.871Z"
   },
   {
    "duration": 106,
    "start_time": "2022-08-25T17:54:17.310Z"
   },
   {
    "duration": 17,
    "start_time": "2022-08-25T17:54:17.418Z"
   },
   {
    "duration": 21,
    "start_time": "2022-08-25T17:54:17.437Z"
   },
   {
    "duration": 40,
    "start_time": "2022-08-25T17:54:17.460Z"
   },
   {
    "duration": 33,
    "start_time": "2022-08-25T17:54:17.501Z"
   },
   {
    "duration": 32,
    "start_time": "2022-08-25T17:54:17.535Z"
   },
   {
    "duration": 114,
    "start_time": "2022-08-25T17:54:17.569Z"
   },
   {
    "duration": 18,
    "start_time": "2022-08-25T17:54:17.685Z"
   },
   {
    "duration": 17,
    "start_time": "2022-08-25T17:54:17.705Z"
   },
   {
    "duration": 76,
    "start_time": "2022-08-25T17:54:17.723Z"
   },
   {
    "duration": 9,
    "start_time": "2022-08-25T17:54:17.800Z"
   },
   {
    "duration": 301,
    "start_time": "2022-08-25T17:54:17.811Z"
   },
   {
    "duration": 54,
    "start_time": "2022-08-25T17:54:18.113Z"
   },
   {
    "duration": 29,
    "start_time": "2022-08-25T17:54:18.170Z"
   },
   {
    "duration": 42,
    "start_time": "2022-08-25T17:54:18.201Z"
   },
   {
    "duration": 7,
    "start_time": "2022-08-25T17:54:18.245Z"
   },
   {
    "duration": 52,
    "start_time": "2022-08-25T17:54:18.253Z"
   },
   {
    "duration": 8,
    "start_time": "2022-08-25T17:54:18.306Z"
   },
   {
    "duration": 5,
    "start_time": "2022-08-25T17:54:18.315Z"
   },
   {
    "duration": 29,
    "start_time": "2022-08-25T17:54:18.321Z"
   },
   {
    "duration": 395,
    "start_time": "2022-08-25T17:54:18.352Z"
   },
   {
    "duration": 20,
    "start_time": "2022-08-25T17:54:18.750Z"
   },
   {
    "duration": 35,
    "start_time": "2022-08-25T17:54:18.772Z"
   },
   {
    "duration": 12,
    "start_time": "2022-08-25T17:54:18.808Z"
   },
   {
    "duration": 3,
    "start_time": "2022-08-25T17:54:18.822Z"
   },
   {
    "duration": 131,
    "start_time": "2022-08-25T17:54:18.827Z"
   },
   {
    "duration": 5,
    "start_time": "2022-08-25T17:54:19.181Z"
   },
   {
    "duration": 326891,
    "start_time": "2022-08-25T17:54:19.214Z"
   },
   {
    "duration": 11193,
    "start_time": "2022-08-25T17:59:46.107Z"
   },
   {
    "duration": 499,
    "start_time": "2022-08-25T17:59:57.301Z"
   },
   {
    "duration": 4,
    "start_time": "2022-08-25T17:59:57.802Z"
   },
   {
    "duration": 88483,
    "start_time": "2022-08-25T17:59:57.807Z"
   },
   {
    "duration": 5637,
    "start_time": "2022-08-25T18:01:26.292Z"
   },
   {
    "duration": 29,
    "start_time": "2022-08-25T18:01:31.931Z"
   },
   {
    "duration": 6,
    "start_time": "2022-08-25T18:01:31.972Z"
   },
   {
    "duration": 1326,
    "start_time": "2022-08-25T18:19:52.050Z"
   },
   {
    "duration": 699,
    "start_time": "2022-08-25T18:19:53.378Z"
   },
   {
    "duration": 120,
    "start_time": "2022-08-25T18:19:54.079Z"
   },
   {
    "duration": 20,
    "start_time": "2022-08-25T18:19:54.201Z"
   },
   {
    "duration": 428,
    "start_time": "2022-08-25T18:19:54.223Z"
   },
   {
    "duration": 416,
    "start_time": "2022-08-25T18:19:54.652Z"
   },
   {
    "duration": 103,
    "start_time": "2022-08-25T18:19:55.069Z"
   },
   {
    "duration": 18,
    "start_time": "2022-08-25T18:19:57.506Z"
   },
   {
    "duration": 19,
    "start_time": "2022-08-25T18:19:58.710Z"
   },
   {
    "duration": 18,
    "start_time": "2022-08-25T18:19:59.188Z"
   },
   {
    "duration": 33,
    "start_time": "2022-08-25T18:20:00.035Z"
   },
   {
    "duration": 32,
    "start_time": "2022-08-25T18:20:00.293Z"
   },
   {
    "duration": 94,
    "start_time": "2022-08-25T18:20:00.737Z"
   },
   {
    "duration": 9,
    "start_time": "2022-08-25T18:20:01.373Z"
   },
   {
    "duration": 17,
    "start_time": "2022-08-25T18:20:01.545Z"
   },
   {
    "duration": 57,
    "start_time": "2022-08-25T18:20:01.954Z"
   },
   {
    "duration": 8,
    "start_time": "2022-08-25T18:20:02.780Z"
   },
   {
    "duration": 282,
    "start_time": "2022-08-25T18:20:03.210Z"
   },
   {
    "duration": 48,
    "start_time": "2022-08-25T18:20:03.628Z"
   },
   {
    "duration": 7,
    "start_time": "2022-08-25T18:20:04.732Z"
   },
   {
    "duration": 43,
    "start_time": "2022-08-25T18:20:05.183Z"
   },
   {
    "duration": 7,
    "start_time": "2022-08-25T18:20:05.829Z"
   },
   {
    "duration": 35,
    "start_time": "2022-08-25T18:20:06.321Z"
   },
   {
    "duration": 6,
    "start_time": "2022-08-25T18:20:06.804Z"
   },
   {
    "duration": 4,
    "start_time": "2022-08-25T18:20:07.709Z"
   },
   {
    "duration": 28,
    "start_time": "2022-08-25T18:20:09.523Z"
   },
   {
    "duration": 333,
    "start_time": "2022-08-25T18:20:10.384Z"
   },
   {
    "duration": 19,
    "start_time": "2022-08-25T18:20:11.457Z"
   },
   {
    "duration": 24,
    "start_time": "2022-08-25T18:20:12.968Z"
   },
   {
    "duration": 9,
    "start_time": "2022-08-25T18:20:13.672Z"
   },
   {
    "duration": 6,
    "start_time": "2022-08-25T18:20:14.541Z"
   },
   {
    "duration": 117,
    "start_time": "2022-08-25T18:20:15.509Z"
   },
   {
    "duration": 4,
    "start_time": "2022-08-25T18:20:16.365Z"
   },
   {
    "duration": 125312,
    "start_time": "2022-08-25T18:20:17.287Z"
   },
   {
    "duration": 10599,
    "start_time": "2022-08-25T18:22:22.601Z"
   },
   {
    "duration": 404,
    "start_time": "2022-08-25T18:22:33.201Z"
   },
   {
    "duration": 4,
    "start_time": "2022-08-25T18:22:50.227Z"
   },
   {
    "duration": 88590,
    "start_time": "2022-08-25T18:22:50.867Z"
   },
   {
    "duration": 5416,
    "start_time": "2022-08-25T18:24:19.458Z"
   },
   {
    "duration": 21,
    "start_time": "2022-08-25T18:24:24.876Z"
   },
   {
    "duration": 4,
    "start_time": "2022-08-25T18:27:03.305Z"
   },
   {
    "duration": 179710,
    "start_time": "2022-08-25T18:27:04.050Z"
   },
   {
    "duration": 62000,
    "start_time": "2022-08-25T18:30:03.763Z"
   },
   {
    "duration": 235,
    "start_time": "2022-08-25T18:31:05.765Z"
   },
   {
    "duration": 197,
    "start_time": "2022-08-25T18:31:06.003Z"
   },
   {
    "duration": 99,
    "start_time": "2022-08-25T18:31:06.202Z"
   },
   {
    "duration": 11,
    "start_time": "2022-08-25T18:40:30.558Z"
   },
   {
    "duration": 5369,
    "start_time": "2022-08-25T18:52:03.819Z"
   },
   {
    "duration": 5349,
    "start_time": "2022-08-25T18:52:13.827Z"
   },
   {
    "duration": 5362,
    "start_time": "2022-08-25T18:52:48.379Z"
   },
   {
    "duration": 5343,
    "start_time": "2022-08-25T18:53:05.617Z"
   },
   {
    "duration": 5342,
    "start_time": "2022-08-25T18:53:19.205Z"
   },
   {
    "duration": 3527,
    "start_time": "2022-08-25T19:43:28.219Z"
   },
   {
    "duration": 1049,
    "start_time": "2022-08-25T19:43:31.749Z"
   },
   {
    "duration": 126,
    "start_time": "2022-08-25T19:43:32.800Z"
   },
   {
    "duration": 22,
    "start_time": "2022-08-25T19:43:32.928Z"
   },
   {
    "duration": 442,
    "start_time": "2022-08-25T19:43:32.952Z"
   },
   {
    "duration": 499,
    "start_time": "2022-08-25T19:43:33.397Z"
   },
   {
    "duration": 136,
    "start_time": "2022-08-25T19:43:33.898Z"
   },
   {
    "duration": 25,
    "start_time": "2022-08-25T19:43:34.036Z"
   },
   {
    "duration": 37,
    "start_time": "2022-08-25T19:43:34.063Z"
   },
   {
    "duration": 20,
    "start_time": "2022-08-25T19:43:34.102Z"
   },
   {
    "duration": 35,
    "start_time": "2022-08-25T19:43:34.124Z"
   },
   {
    "duration": 58,
    "start_time": "2022-08-25T19:43:34.161Z"
   },
   {
    "duration": 130,
    "start_time": "2022-08-25T19:43:34.220Z"
   },
   {
    "duration": 9,
    "start_time": "2022-08-25T19:43:34.354Z"
   },
   {
    "duration": 35,
    "start_time": "2022-08-25T19:43:34.365Z"
   },
   {
    "duration": 58,
    "start_time": "2022-08-25T19:43:34.402Z"
   },
   {
    "duration": 25,
    "start_time": "2022-08-25T19:43:34.462Z"
   },
   {
    "duration": 331,
    "start_time": "2022-08-25T19:43:34.489Z"
   },
   {
    "duration": 52,
    "start_time": "2022-08-25T19:43:34.821Z"
   },
   {
    "duration": 9,
    "start_time": "2022-08-25T19:43:34.886Z"
   },
   {
    "duration": 44,
    "start_time": "2022-08-25T19:43:34.897Z"
   },
   {
    "duration": 7,
    "start_time": "2022-08-25T19:43:34.943Z"
   },
   {
    "duration": 59,
    "start_time": "2022-08-25T19:43:34.952Z"
   },
   {
    "duration": 7,
    "start_time": "2022-08-25T19:43:35.012Z"
   },
   {
    "duration": 8,
    "start_time": "2022-08-25T19:43:35.022Z"
   },
   {
    "duration": 31,
    "start_time": "2022-08-25T19:43:35.032Z"
   },
   {
    "duration": 383,
    "start_time": "2022-08-25T19:43:35.064Z"
   },
   {
    "duration": 25,
    "start_time": "2022-08-25T19:43:35.449Z"
   },
   {
    "duration": 45,
    "start_time": "2022-08-25T19:43:35.475Z"
   },
   {
    "duration": 91,
    "start_time": "2022-08-25T19:43:35.522Z"
   },
   {
    "duration": 75,
    "start_time": "2022-08-25T19:43:35.615Z"
   },
   {
    "duration": 0,
    "start_time": "2022-08-25T19:43:35.692Z"
   },
   {
    "duration": 4,
    "start_time": "2022-08-25T19:43:39.919Z"
   },
   {
    "duration": 135,
    "start_time": "2022-08-25T19:43:40.663Z"
   },
   {
    "duration": 23,
    "start_time": "2022-08-25T19:43:45.073Z"
   },
   {
    "duration": 3672,
    "start_time": "2022-08-26T11:41:23.634Z"
   },
   {
    "duration": 1078,
    "start_time": "2022-08-26T11:41:27.308Z"
   },
   {
    "duration": 5,
    "start_time": "2022-08-26T11:41:28.442Z"
   },
   {
    "duration": 833,
    "start_time": "2022-08-26T11:41:30.013Z"
   },
   {
    "duration": 133,
    "start_time": "2022-08-26T11:41:33.631Z"
   },
   {
    "duration": 24,
    "start_time": "2022-08-26T11:41:44.575Z"
   },
   {
    "duration": 424,
    "start_time": "2022-08-26T11:41:47.950Z"
   },
   {
    "duration": 472,
    "start_time": "2022-08-26T11:41:50.441Z"
   },
   {
    "duration": 119,
    "start_time": "2022-08-26T11:41:58.762Z"
   },
   {
    "duration": 20,
    "start_time": "2022-08-26T11:42:01.631Z"
   },
   {
    "duration": 22,
    "start_time": "2022-08-26T11:42:05.439Z"
   },
   {
    "duration": 20,
    "start_time": "2022-08-26T11:42:08.530Z"
   },
   {
    "duration": 35,
    "start_time": "2022-08-26T11:42:15.641Z"
   },
   {
    "duration": 44,
    "start_time": "2022-08-26T11:42:16.262Z"
   },
   {
    "duration": 122,
    "start_time": "2022-08-26T11:42:19.102Z"
   },
   {
    "duration": 9,
    "start_time": "2022-08-26T11:42:24.461Z"
   },
   {
    "duration": 17,
    "start_time": "2022-08-26T11:42:25.141Z"
   },
   {
    "duration": 65,
    "start_time": "2022-08-26T11:42:26.262Z"
   },
   {
    "duration": 8,
    "start_time": "2022-08-26T11:42:36.174Z"
   },
   {
    "duration": 321,
    "start_time": "2022-08-26T11:42:38.174Z"
   },
   {
    "duration": 42,
    "start_time": "2022-08-26T11:42:39.681Z"
   },
   {
    "duration": 7,
    "start_time": "2022-08-26T11:42:44.382Z"
   },
   {
    "duration": 51,
    "start_time": "2022-08-26T11:42:46.390Z"
   },
   {
    "duration": 7,
    "start_time": "2022-08-26T11:42:47.282Z"
   },
   {
    "duration": 38,
    "start_time": "2022-08-26T11:42:50.882Z"
   },
   {
    "duration": 8,
    "start_time": "2022-08-26T11:42:51.981Z"
   },
   {
    "duration": 3,
    "start_time": "2022-08-26T11:42:54.402Z"
   },
   {
    "duration": 28,
    "start_time": "2022-08-26T11:43:00.247Z"
   },
   {
    "duration": 352,
    "start_time": "2022-08-26T11:43:02.254Z"
   },
   {
    "duration": 20,
    "start_time": "2022-08-26T11:43:03.054Z"
   },
   {
    "duration": 36,
    "start_time": "2022-08-26T11:43:05.802Z"
   },
   {
    "duration": 12,
    "start_time": "2022-08-26T11:43:08.762Z"
   },
   {
    "duration": 5,
    "start_time": "2022-08-26T11:43:10.413Z"
   },
   {
    "duration": 140,
    "start_time": "2022-08-26T11:44:54.010Z"
   },
   {
    "duration": 80,
    "start_time": "2022-08-26T11:44:57.574Z"
   },
   {
    "duration": 141902,
    "start_time": "2022-08-26T11:44:59.303Z"
   },
   {
    "duration": 11880,
    "start_time": "2022-08-26T11:47:21.208Z"
   },
   {
    "duration": 324,
    "start_time": "2022-08-26T11:47:38.285Z"
   },
   {
    "duration": 4,
    "start_time": "2022-08-26T11:47:40.852Z"
   },
   {
    "duration": 90793,
    "start_time": "2022-08-26T11:47:42.841Z"
   },
   {
    "duration": 5829,
    "start_time": "2022-08-26T11:49:13.635Z"
   },
   {
    "duration": 18,
    "start_time": "2022-08-26T11:49:19.466Z"
   },
   {
    "duration": 5948,
    "start_time": "2022-08-26T11:51:13.791Z"
   },
   {
    "duration": 1684,
    "start_time": "2022-08-26T16:51:11.165Z"
   },
   {
    "duration": 1109,
    "start_time": "2022-08-26T16:51:12.852Z"
   },
   {
    "duration": 121,
    "start_time": "2022-08-26T16:51:13.962Z"
   },
   {
    "duration": 30,
    "start_time": "2022-08-26T16:51:14.085Z"
   },
   {
    "duration": 430,
    "start_time": "2022-08-26T16:51:14.117Z"
   },
   {
    "duration": 454,
    "start_time": "2022-08-26T16:51:14.548Z"
   },
   {
    "duration": 136,
    "start_time": "2022-08-26T16:51:15.003Z"
   },
   {
    "duration": 17,
    "start_time": "2022-08-26T16:51:15.141Z"
   },
   {
    "duration": 20,
    "start_time": "2022-08-26T16:51:15.159Z"
   },
   {
    "duration": 44,
    "start_time": "2022-08-26T16:51:15.181Z"
   },
   {
    "duration": 32,
    "start_time": "2022-08-26T16:51:15.228Z"
   },
   {
    "duration": 34,
    "start_time": "2022-08-26T16:51:15.262Z"
   },
   {
    "duration": 134,
    "start_time": "2022-08-26T16:51:15.298Z"
   },
   {
    "duration": 13,
    "start_time": "2022-08-26T16:51:15.434Z"
   },
   {
    "duration": 27,
    "start_time": "2022-08-26T16:51:15.449Z"
   },
   {
    "duration": 69,
    "start_time": "2022-08-26T16:51:15.478Z"
   },
   {
    "duration": 11,
    "start_time": "2022-08-26T16:51:15.548Z"
   },
   {
    "duration": 325,
    "start_time": "2022-08-26T16:51:15.561Z"
   },
   {
    "duration": 65,
    "start_time": "2022-08-26T16:51:15.888Z"
   },
   {
    "duration": 8,
    "start_time": "2022-08-26T16:51:17.934Z"
   },
   {
    "duration": 43,
    "start_time": "2022-08-26T16:51:18.333Z"
   },
   {
    "duration": 7,
    "start_time": "2022-08-26T16:51:18.896Z"
   },
   {
    "duration": 41,
    "start_time": "2022-08-26T16:51:19.299Z"
   },
   {
    "duration": 8,
    "start_time": "2022-08-26T16:51:19.706Z"
   },
   {
    "duration": 4,
    "start_time": "2022-08-26T16:51:20.342Z"
   },
   {
    "duration": 28,
    "start_time": "2022-08-26T16:51:24.351Z"
   },
   {
    "duration": 392,
    "start_time": "2022-08-26T16:51:24.906Z"
   },
   {
    "duration": 21,
    "start_time": "2022-08-26T16:51:25.323Z"
   },
   {
    "duration": 32,
    "start_time": "2022-08-26T16:51:26.366Z"
   },
   {
    "duration": 13,
    "start_time": "2022-08-26T16:51:26.952Z"
   },
   {
    "duration": 4,
    "start_time": "2022-08-26T16:51:27.428Z"
   },
   {
    "duration": 134,
    "start_time": "2022-08-26T16:51:27.832Z"
   },
   {
    "duration": 74,
    "start_time": "2022-08-26T16:51:28.276Z"
   },
   {
    "duration": 1762,
    "start_time": "2022-08-26T17:07:01.855Z"
   },
   {
    "duration": 948,
    "start_time": "2022-08-26T17:07:03.619Z"
   },
   {
    "duration": 147,
    "start_time": "2022-08-26T17:07:04.569Z"
   },
   {
    "duration": 31,
    "start_time": "2022-08-26T17:07:04.719Z"
   },
   {
    "duration": 507,
    "start_time": "2022-08-26T17:07:06.073Z"
   },
   {
    "duration": 581,
    "start_time": "2022-08-26T17:07:06.582Z"
   },
   {
    "duration": 157,
    "start_time": "2022-08-26T17:07:07.168Z"
   },
   {
    "duration": 42,
    "start_time": "2022-08-26T17:07:07.330Z"
   },
   {
    "duration": 21,
    "start_time": "2022-08-26T17:07:07.866Z"
   },
   {
    "duration": 33,
    "start_time": "2022-08-26T17:07:08.429Z"
   },
   {
    "duration": 33,
    "start_time": "2022-08-26T17:07:08.472Z"
   },
   {
    "duration": 63,
    "start_time": "2022-08-26T17:07:08.507Z"
   },
   {
    "duration": 138,
    "start_time": "2022-08-26T17:07:08.571Z"
   },
   {
    "duration": 11,
    "start_time": "2022-08-26T17:07:08.711Z"
   },
   {
    "duration": 55,
    "start_time": "2022-08-26T17:07:08.725Z"
   },
   {
    "duration": 74,
    "start_time": "2022-08-26T17:07:08.781Z"
   },
   {
    "duration": 17,
    "start_time": "2022-08-26T17:07:11.449Z"
   },
   {
    "duration": 445,
    "start_time": "2022-08-26T17:07:12.082Z"
   },
   {
    "duration": 65,
    "start_time": "2022-08-26T17:07:12.557Z"
   },
   {
    "duration": 8,
    "start_time": "2022-08-26T17:07:13.672Z"
   },
   {
    "duration": 47,
    "start_time": "2022-08-26T17:07:14.137Z"
   },
   {
    "duration": 9,
    "start_time": "2022-08-26T17:07:14.837Z"
   },
   {
    "duration": 44,
    "start_time": "2022-08-26T17:07:15.325Z"
   },
   {
    "duration": 7,
    "start_time": "2022-08-26T17:07:15.773Z"
   },
   {
    "duration": 4,
    "start_time": "2022-08-26T17:07:16.673Z"
   },
   {
    "duration": 28,
    "start_time": "2022-08-26T17:07:39.654Z"
   },
   {
    "duration": 519,
    "start_time": "2022-08-26T17:07:40.190Z"
   },
   {
    "duration": 31,
    "start_time": "2022-08-26T17:07:40.714Z"
   },
   {
    "duration": 55,
    "start_time": "2022-08-26T17:07:42.525Z"
   },
   {
    "duration": 24,
    "start_time": "2022-08-26T17:07:42.905Z"
   },
   {
    "duration": 4,
    "start_time": "2022-08-26T17:07:43.303Z"
   },
   {
    "duration": 185,
    "start_time": "2022-08-26T17:07:43.685Z"
   },
   {
    "duration": 14,
    "start_time": "2022-08-26T17:07:45.741Z"
   },
   {
    "duration": 1587,
    "start_time": "2022-08-26T17:10:22.185Z"
   },
   {
    "duration": 922,
    "start_time": "2022-08-26T17:10:30.144Z"
   },
   {
    "duration": 220,
    "start_time": "2022-08-26T17:10:31.068Z"
   },
   {
    "duration": 29,
    "start_time": "2022-08-26T17:10:40.451Z"
   },
   {
    "duration": 527,
    "start_time": "2022-08-26T17:10:40.885Z"
   },
   {
    "duration": 518,
    "start_time": "2022-08-26T17:10:41.427Z"
   },
   {
    "duration": 134,
    "start_time": "2022-08-26T17:10:41.947Z"
   },
   {
    "duration": 47,
    "start_time": "2022-08-26T17:10:42.405Z"
   },
   {
    "duration": 34,
    "start_time": "2022-08-26T17:10:42.887Z"
   },
   {
    "duration": 36,
    "start_time": "2022-08-26T17:10:43.601Z"
   },
   {
    "duration": 64,
    "start_time": "2022-08-26T17:10:44.005Z"
   },
   {
    "duration": 41,
    "start_time": "2022-08-26T17:10:44.234Z"
   },
   {
    "duration": 124,
    "start_time": "2022-08-26T17:10:44.659Z"
   },
   {
    "duration": 10,
    "start_time": "2022-08-26T17:10:45.277Z"
   },
   {
    "duration": 23,
    "start_time": "2022-08-26T17:10:45.464Z"
   },
   {
    "duration": 69,
    "start_time": "2022-08-26T17:10:46.138Z"
   },
   {
    "duration": 8,
    "start_time": "2022-08-26T17:10:47.100Z"
   },
   {
    "duration": 329,
    "start_time": "2022-08-26T17:10:47.481Z"
   },
   {
    "duration": 75,
    "start_time": "2022-08-26T17:10:47.871Z"
   },
   {
    "duration": 7,
    "start_time": "2022-08-26T17:10:48.851Z"
   },
   {
    "duration": 61,
    "start_time": "2022-08-26T17:10:49.310Z"
   },
   {
    "duration": 7,
    "start_time": "2022-08-26T17:10:49.980Z"
   },
   {
    "duration": 45,
    "start_time": "2022-08-26T17:10:50.434Z"
   },
   {
    "duration": 8,
    "start_time": "2022-08-26T17:10:50.942Z"
   },
   {
    "duration": 4,
    "start_time": "2022-08-26T17:10:51.701Z"
   },
   {
    "duration": 29,
    "start_time": "2022-08-26T17:10:53.564Z"
   },
   {
    "duration": 471,
    "start_time": "2022-08-26T17:10:54.169Z"
   },
   {
    "duration": 27,
    "start_time": "2022-08-26T17:10:54.648Z"
   },
   {
    "duration": 45,
    "start_time": "2022-08-26T17:10:56.957Z"
   },
   {
    "duration": 43,
    "start_time": "2022-08-26T17:10:57.606Z"
   },
   {
    "duration": 10,
    "start_time": "2022-08-26T17:10:58.035Z"
   },
   {
    "duration": 168,
    "start_time": "2022-08-26T17:10:59.984Z"
   },
   {
    "duration": 4,
    "start_time": "2022-08-26T17:11:02.259Z"
   },
   {
    "duration": 1549,
    "start_time": "2022-08-26T19:28:52.091Z"
   },
   {
    "duration": 818,
    "start_time": "2022-08-26T19:28:53.643Z"
   },
   {
    "duration": 138,
    "start_time": "2022-08-26T19:28:54.462Z"
   },
   {
    "duration": 35,
    "start_time": "2022-08-26T19:28:54.602Z"
   },
   {
    "duration": 433,
    "start_time": "2022-08-26T19:28:54.639Z"
   },
   {
    "duration": 487,
    "start_time": "2022-08-26T19:28:55.073Z"
   },
   {
    "duration": 121,
    "start_time": "2022-08-26T19:28:55.561Z"
   },
   {
    "duration": 16,
    "start_time": "2022-08-26T19:28:55.683Z"
   },
   {
    "duration": 28,
    "start_time": "2022-08-26T19:28:55.710Z"
   },
   {
    "duration": 19,
    "start_time": "2022-08-26T19:28:55.741Z"
   },
   {
    "duration": 32,
    "start_time": "2022-08-26T19:28:55.761Z"
   },
   {
    "duration": 43,
    "start_time": "2022-08-26T19:28:55.810Z"
   },
   {
    "duration": 124,
    "start_time": "2022-08-26T19:28:55.854Z"
   },
   {
    "duration": 9,
    "start_time": "2022-08-26T19:28:55.979Z"
   },
   {
    "duration": 35,
    "start_time": "2022-08-26T19:28:55.989Z"
   },
   {
    "duration": 57,
    "start_time": "2022-08-26T19:28:56.026Z"
   },
   {
    "duration": 38,
    "start_time": "2022-08-26T19:28:56.085Z"
   },
   {
    "duration": 305,
    "start_time": "2022-08-26T19:28:56.125Z"
   },
   {
    "duration": 55,
    "start_time": "2022-08-26T19:28:56.431Z"
   },
   {
    "duration": 45,
    "start_time": "2022-08-26T19:28:56.488Z"
   },
   {
    "duration": 48,
    "start_time": "2022-08-26T19:28:56.535Z"
   },
   {
    "duration": 7,
    "start_time": "2022-08-26T19:28:56.584Z"
   },
   {
    "duration": 79,
    "start_time": "2022-08-26T19:28:56.593Z"
   },
   {
    "duration": 8,
    "start_time": "2022-08-26T19:28:56.674Z"
   },
   {
    "duration": 4,
    "start_time": "2022-08-26T19:28:56.684Z"
   },
   {
    "duration": 41,
    "start_time": "2022-08-26T19:28:56.689Z"
   },
   {
    "duration": 428,
    "start_time": "2022-08-26T19:28:56.732Z"
   },
   {
    "duration": 20,
    "start_time": "2022-08-26T19:28:57.164Z"
   },
   {
    "duration": 41,
    "start_time": "2022-08-26T19:28:57.186Z"
   },
   {
    "duration": 11,
    "start_time": "2022-08-26T19:28:57.228Z"
   },
   {
    "duration": 82,
    "start_time": "2022-08-26T19:28:57.240Z"
   },
   {
    "duration": 157,
    "start_time": "2022-08-26T19:28:57.323Z"
   },
   {
    "duration": 4,
    "start_time": "2022-08-26T19:28:57.482Z"
   },
   {
    "duration": 1593,
    "start_time": "2022-08-27T07:15:44.082Z"
   },
   {
    "duration": 996,
    "start_time": "2022-08-27T07:15:45.918Z"
   },
   {
    "duration": 116,
    "start_time": "2022-08-27T07:15:47.878Z"
   },
   {
    "duration": 23,
    "start_time": "2022-08-27T07:15:49.283Z"
   },
   {
    "duration": 390,
    "start_time": "2022-08-27T07:15:49.887Z"
   },
   {
    "duration": 433,
    "start_time": "2022-08-27T07:15:50.752Z"
   },
   {
    "duration": 102,
    "start_time": "2022-08-27T07:15:51.407Z"
   },
   {
    "duration": 18,
    "start_time": "2022-08-27T07:15:51.981Z"
   },
   {
    "duration": 22,
    "start_time": "2022-08-27T07:15:52.420Z"
   },
   {
    "duration": 18,
    "start_time": "2022-08-27T07:15:52.892Z"
   },
   {
    "duration": 31,
    "start_time": "2022-08-27T07:15:53.392Z"
   },
   {
    "duration": 34,
    "start_time": "2022-08-27T07:15:53.616Z"
   },
   {
    "duration": 98,
    "start_time": "2022-08-27T07:15:54.094Z"
   },
   {
    "duration": 9,
    "start_time": "2022-08-27T07:15:54.819Z"
   },
   {
    "duration": 17,
    "start_time": "2022-08-27T07:15:55.084Z"
   },
   {
    "duration": 56,
    "start_time": "2022-08-27T07:15:55.586Z"
   },
   {
    "duration": 10,
    "start_time": "2022-08-27T07:15:57.048Z"
   },
   {
    "duration": 298,
    "start_time": "2022-08-27T07:16:07.476Z"
   },
   {
    "duration": 49,
    "start_time": "2022-08-27T07:16:09.050Z"
   },
   {
    "duration": 8,
    "start_time": "2022-08-27T07:16:12.043Z"
   },
   {
    "duration": 45,
    "start_time": "2022-08-27T07:16:12.797Z"
   },
   {
    "duration": 7,
    "start_time": "2022-08-27T07:16:13.369Z"
   },
   {
    "duration": 35,
    "start_time": "2022-08-27T07:16:13.790Z"
   },
   {
    "duration": 7,
    "start_time": "2022-08-27T07:16:15.629Z"
   },
   {
    "duration": 4,
    "start_time": "2022-08-27T07:16:16.207Z"
   },
   {
    "duration": 28,
    "start_time": "2022-08-27T07:16:19.120Z"
   },
   {
    "duration": 353,
    "start_time": "2022-08-27T07:16:20.303Z"
   },
   {
    "duration": 20,
    "start_time": "2022-08-27T07:16:21.513Z"
   },
   {
    "duration": 26,
    "start_time": "2022-08-27T07:16:23.498Z"
   },
   {
    "duration": 13,
    "start_time": "2022-08-27T07:16:24.555Z"
   },
   {
    "duration": 3,
    "start_time": "2022-08-27T07:16:25.259Z"
   },
   {
    "duration": 123,
    "start_time": "2022-08-27T07:16:25.964Z"
   },
   {
    "duration": 5,
    "start_time": "2022-08-27T07:16:29.931Z"
   },
   {
    "duration": 2527839,
    "start_time": "2022-08-27T07:16:35.177Z"
   },
   {
    "duration": 13790,
    "start_time": "2022-08-27T07:59:01.730Z"
   },
   {
    "duration": 326,
    "start_time": "2022-08-27T07:59:18.691Z"
   },
   {
    "duration": 5,
    "start_time": "2022-08-27T07:59:22.325Z"
   },
   {
    "duration": 91253,
    "start_time": "2022-08-27T07:59:23.185Z"
   },
   {
    "duration": 5675,
    "start_time": "2022-08-27T08:00:54.439Z"
   },
   {
    "duration": 23,
    "start_time": "2022-08-27T08:01:33.214Z"
   },
   {
    "duration": 4,
    "start_time": "2022-08-27T08:01:34.394Z"
   },
   {
    "duration": 223086,
    "start_time": "2022-08-27T08:01:35.853Z"
   },
   {
    "duration": 66886,
    "start_time": "2022-08-27T08:05:18.942Z"
   },
   {
    "duration": 89,
    "start_time": "2022-08-27T08:06:25.829Z"
   },
   {
    "duration": 131,
    "start_time": "2022-08-27T08:07:45.853Z"
   },
   {
    "duration": 29,
    "start_time": "2022-08-27T08:07:56.369Z"
   },
   {
    "duration": 17,
    "start_time": "2022-08-27T08:08:24.437Z"
   },
   {
    "duration": 29,
    "start_time": "2022-08-27T08:08:26.558Z"
   },
   {
    "duration": 11,
    "start_time": "2022-08-27T08:08:27.355Z"
   },
   {
    "duration": 47,
    "start_time": "2022-08-27T08:08:28.815Z"
   },
   {
    "duration": 11,
    "start_time": "2022-08-27T08:08:31.711Z"
   },
   {
    "duration": 11,
    "start_time": "2022-08-27T08:12:10.923Z"
   },
   {
    "duration": 5728,
    "start_time": "2022-08-27T08:12:20.047Z"
   }
  ],
  "kernelspec": {
   "display_name": "Python 3 (ipykernel)",
   "language": "python",
   "name": "python3"
  },
  "language_info": {
   "codemirror_mode": {
    "name": "ipython",
    "version": 3
   },
   "file_extension": ".py",
   "mimetype": "text/x-python",
   "name": "python",
   "nbconvert_exporter": "python",
   "pygments_lexer": "ipython3",
   "version": "3.9.12"
  },
  "toc": {
   "base_numbering": 1,
   "nav_menu": {},
   "number_sections": true,
   "sideBar": true,
   "skip_h1_title": true,
   "title_cell": "Table of Contents",
   "title_sidebar": "Contents",
   "toc_cell": false,
   "toc_position": {},
   "toc_section_display": true,
   "toc_window_display": true
  }
 },
 "nbformat": 4,
 "nbformat_minor": 2
}
