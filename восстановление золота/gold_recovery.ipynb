{
 "cells": [
  {
   "cell_type": "markdown",
   "metadata": {
    "toc": true
   },
   "source": [
    "<h1>Содержание<span class=\"tocSkip\"></span></h1>\n",
    "<div class=\"toc\"><ul class=\"toc-item\"><li><span><a href=\"#Подготовка-данных\" data-toc-modified-id=\"Подготовка-данных-1\"><span class=\"toc-item-num\">1&nbsp;&nbsp;</span>Подготовка данных</a></span></li><li><span><a href=\"#Анализ-данных\" data-toc-modified-id=\"Анализ-данных-2\"><span class=\"toc-item-num\">2&nbsp;&nbsp;</span>Анализ данных</a></span></li><li><span><a href=\"#Модель\" data-toc-modified-id=\"Модель-3\"><span class=\"toc-item-num\">3&nbsp;&nbsp;</span>Модель</a></span></li><li><span><a href=\"#Вывод\" data-toc-modified-id=\"Вывод-4\"><span class=\"toc-item-num\">4&nbsp;&nbsp;</span>Вывод</a></span></li><li><span><a href=\"#Чек-лист-готовности-проекта\" data-toc-modified-id=\"Чек-лист-готовности-проекта-5\"><span class=\"toc-item-num\">5&nbsp;&nbsp;</span>Чек-лист готовности проекта</a></span></li></ul></div>"
   ]
  },
  {
   "cell_type": "markdown",
   "metadata": {},
   "source": [
    "# Восстановление золота из руды"
   ]
  },
  {
   "cell_type": "markdown",
   "metadata": {},
   "source": [
    "Подготовьте прототип модели машинного обучения для «Цифры». Компания разрабатывает решения для эффективной работы промышленных предприятий.\n",
    "\n",
    "Модель должна предсказать коэффициент восстановления золота из золотосодержащей руды. Используйте данные с параметрами добычи и очистки. \n",
    "\n",
    "Модель поможет оптимизировать производство, чтобы не запускать предприятие с убыточными характеристиками.\n",
    "\n",
    "Вам нужно:\n",
    "\n",
    "1. Подготовить данные;\n",
    "2. Провести исследовательский анализ данных;\n",
    "3. Построить и обучить модель.\n",
    "\n",
    "Чтобы выполнить проект, обращайтесь к библиотекам *pandas*, *matplotlib* и *sklearn.* Вам поможет их документация."
   ]
  },
  {
   "cell_type": "markdown",
   "metadata": {},
   "source": [
    "## Подготовка данных"
   ]
  },
  {
   "cell_type": "markdown",
   "metadata": {},
   "source": [
    "Для начала импортируем необходимые для работы библиотеки."
   ]
  },
  {
   "cell_type": "code",
   "execution_count": 1,
   "metadata": {},
   "outputs": [],
   "source": [
    "import pandas as pd\n",
    "import numpy as np\n",
    "import matplotlib.pyplot as plt\n",
    "import seaborn as sns\n",
    "\n",
    "from sklearn.linear_model import LinearRegression\n",
    "from sklearn.tree import DecisionTreeRegressor\n",
    "from sklearn.ensemble import RandomForestRegressor\n",
    "from sklearn.dummy import DummyRegressor\n",
    "\n",
    "from sklearn.model_selection import train_test_split\n",
    "from sklearn.metrics import accuracy_score\n",
    "from sklearn.metrics import mean_absolute_error\n",
    "from sklearn.metrics import confusion_matrix\n",
    "from sklearn.metrics import recall_score\n",
    "from sklearn.metrics import precision_score\n",
    "from sklearn.metrics import f1_score\n",
    "from sklearn.utils import shuffle\n",
    "from sklearn.metrics import precision_recall_curve\n",
    "from sklearn.metrics import roc_auc_score\n",
    "from sklearn.metrics import mean_squared_error\n",
    "from sklearn.metrics import r2_score\n",
    "from sklearn.model_selection import cross_val_score, GridSearchCV\n",
    "from sklearn.metrics import make_scorer"
   ]
  },
  {
   "cell_type": "markdown",
   "metadata": {},
   "source": [
    "Прочтём все файлы и сохраним их в переменных."
   ]
  },
  {
   "cell_type": "code",
   "execution_count": 2,
   "metadata": {},
   "outputs": [],
   "source": [
    "try:\n",
    "    test = pd.read_csv('/datasets/gold_recovery_test_new.csv')\n",
    "    train = pd.read_csv('/datasets/gold_recovery_train_new.csv')\n",
    "    df = pd.read_csv('/datasets/gold_recovery_full_new.csv')\n",
    "except:\n",
    "    test = pd.read_csv('https://code.s3.yandex.net/datasets/gold_recovery_test_new.csv')\n",
    "    train = pd.read_csv('https://code.s3.yandex.net/datasets/gold_recovery_train_new.csv')\n",
    "    df = pd.read_csv('https://code.s3.yandex.net/datasets/gold_recovery_full_new.csv')"
   ]
  },
  {
   "cell_type": "markdown",
   "metadata": {},
   "source": [
    "Сохраним все три датафрейма"
   ]
  },
  {
   "cell_type": "code",
   "execution_count": 3,
   "metadata": {},
   "outputs": [],
   "source": [
    "datasets = [df, train, test]"
   ]
  },
  {
   "cell_type": "markdown",
   "metadata": {},
   "source": [
    "Выведем общую информацию о таблицах."
   ]
  },
  {
   "cell_type": "code",
   "execution_count": 4,
   "metadata": {
    "scrolled": true
   },
   "outputs": [
    {
     "name": "stdout",
     "output_type": "stream",
     "text": [
      "<class 'pandas.core.frame.DataFrame'>\n",
      "RangeIndex: 19439 entries, 0 to 19438\n",
      "Data columns (total 87 columns):\n",
      " #   Column                                              Non-Null Count  Dtype  \n",
      "---  ------                                              --------------  -----  \n",
      " 0   date                                                19439 non-null  object \n",
      " 1   final.output.concentrate_ag                         19438 non-null  float64\n",
      " 2   final.output.concentrate_pb                         19438 non-null  float64\n",
      " 3   final.output.concentrate_sol                        19228 non-null  float64\n",
      " 4   final.output.concentrate_au                         19439 non-null  float64\n",
      " 5   final.output.recovery                               19439 non-null  float64\n",
      " 6   final.output.tail_ag                                19438 non-null  float64\n",
      " 7   final.output.tail_pb                                19338 non-null  float64\n",
      " 8   final.output.tail_sol                               19433 non-null  float64\n",
      " 9   final.output.tail_au                                19439 non-null  float64\n",
      " 10  primary_cleaner.input.sulfate                       19415 non-null  float64\n",
      " 11  primary_cleaner.input.depressant                    19402 non-null  float64\n",
      " 12  primary_cleaner.input.feed_size                     19439 non-null  float64\n",
      " 13  primary_cleaner.input.xanthate                      19335 non-null  float64\n",
      " 14  primary_cleaner.output.concentrate_ag               19439 non-null  float64\n",
      " 15  primary_cleaner.output.concentrate_pb               19323 non-null  float64\n",
      " 16  primary_cleaner.output.concentrate_sol              19069 non-null  float64\n",
      " 17  primary_cleaner.output.concentrate_au               19439 non-null  float64\n",
      " 18  primary_cleaner.output.tail_ag                      19435 non-null  float64\n",
      " 19  primary_cleaner.output.tail_pb                      19418 non-null  float64\n",
      " 20  primary_cleaner.output.tail_sol                     19377 non-null  float64\n",
      " 21  primary_cleaner.output.tail_au                      19439 non-null  float64\n",
      " 22  primary_cleaner.state.floatbank8_a_air              19435 non-null  float64\n",
      " 23  primary_cleaner.state.floatbank8_a_level            19438 non-null  float64\n",
      " 24  primary_cleaner.state.floatbank8_b_air              19435 non-null  float64\n",
      " 25  primary_cleaner.state.floatbank8_b_level            19438 non-null  float64\n",
      " 26  primary_cleaner.state.floatbank8_c_air              19437 non-null  float64\n",
      " 27  primary_cleaner.state.floatbank8_c_level            19438 non-null  float64\n",
      " 28  primary_cleaner.state.floatbank8_d_air              19436 non-null  float64\n",
      " 29  primary_cleaner.state.floatbank8_d_level            19438 non-null  float64\n",
      " 30  rougher.calculation.sulfate_to_au_concentrate       19437 non-null  float64\n",
      " 31  rougher.calculation.floatbank10_sulfate_to_au_feed  19437 non-null  float64\n",
      " 32  rougher.calculation.floatbank11_sulfate_to_au_feed  19437 non-null  float64\n",
      " 33  rougher.calculation.au_pb_ratio                     19439 non-null  float64\n",
      " 34  rougher.input.feed_ag                               19439 non-null  float64\n",
      " 35  rougher.input.feed_pb                               19339 non-null  float64\n",
      " 36  rougher.input.feed_rate                             19428 non-null  float64\n",
      " 37  rougher.input.feed_size                             19294 non-null  float64\n",
      " 38  rougher.input.feed_sol                              19340 non-null  float64\n",
      " 39  rougher.input.feed_au                               19439 non-null  float64\n",
      " 40  rougher.input.floatbank10_sulfate                   19405 non-null  float64\n",
      " 41  rougher.input.floatbank10_xanthate                  19431 non-null  float64\n",
      " 42  rougher.input.floatbank11_sulfate                   19395 non-null  float64\n",
      " 43  rougher.input.floatbank11_xanthate                  18986 non-null  float64\n",
      " 44  rougher.output.concentrate_ag                       19439 non-null  float64\n",
      " 45  rougher.output.concentrate_pb                       19439 non-null  float64\n",
      " 46  rougher.output.concentrate_sol                      19416 non-null  float64\n",
      " 47  rougher.output.concentrate_au                       19439 non-null  float64\n",
      " 48  rougher.output.recovery                             19439 non-null  float64\n",
      " 49  rougher.output.tail_ag                              19438 non-null  float64\n",
      " 50  rougher.output.tail_pb                              19439 non-null  float64\n",
      " 51  rougher.output.tail_sol                             19439 non-null  float64\n",
      " 52  rougher.output.tail_au                              19439 non-null  float64\n",
      " 53  rougher.state.floatbank10_a_air                     19438 non-null  float64\n",
      " 54  rougher.state.floatbank10_a_level                   19438 non-null  float64\n",
      " 55  rougher.state.floatbank10_b_air                     19438 non-null  float64\n",
      " 56  rougher.state.floatbank10_b_level                   19438 non-null  float64\n",
      " 57  rougher.state.floatbank10_c_air                     19438 non-null  float64\n",
      " 58  rougher.state.floatbank10_c_level                   19438 non-null  float64\n",
      " 59  rougher.state.floatbank10_d_air                     19439 non-null  float64\n",
      " 60  rougher.state.floatbank10_d_level                   19439 non-null  float64\n",
      " 61  rougher.state.floatbank10_e_air                     19003 non-null  float64\n",
      " 62  rougher.state.floatbank10_e_level                   19439 non-null  float64\n",
      " 63  rougher.state.floatbank10_f_air                     19439 non-null  float64\n",
      " 64  rougher.state.floatbank10_f_level                   19439 non-null  float64\n",
      " 65  secondary_cleaner.output.tail_ag                    19437 non-null  float64\n",
      " 66  secondary_cleaner.output.tail_pb                    19427 non-null  float64\n",
      " 67  secondary_cleaner.output.tail_sol                   17691 non-null  float64\n",
      " 68  secondary_cleaner.output.tail_au                    19439 non-null  float64\n",
      " 69  secondary_cleaner.state.floatbank2_a_air            19219 non-null  float64\n",
      " 70  secondary_cleaner.state.floatbank2_a_level          19438 non-null  float64\n",
      " 71  secondary_cleaner.state.floatbank2_b_air            19416 non-null  float64\n",
      " 72  secondary_cleaner.state.floatbank2_b_level          19438 non-null  float64\n",
      " 73  secondary_cleaner.state.floatbank3_a_air            19426 non-null  float64\n",
      " 74  secondary_cleaner.state.floatbank3_a_level          19438 non-null  float64\n",
      " 75  secondary_cleaner.state.floatbank3_b_air            19438 non-null  float64\n",
      " 76  secondary_cleaner.state.floatbank3_b_level          19438 non-null  float64\n",
      " 77  secondary_cleaner.state.floatbank4_a_air            19433 non-null  float64\n",
      " 78  secondary_cleaner.state.floatbank4_a_level          19438 non-null  float64\n",
      " 79  secondary_cleaner.state.floatbank4_b_air            19438 non-null  float64\n",
      " 80  secondary_cleaner.state.floatbank4_b_level          19438 non-null  float64\n",
      " 81  secondary_cleaner.state.floatbank5_a_air            19438 non-null  float64\n",
      " 82  secondary_cleaner.state.floatbank5_a_level          19438 non-null  float64\n",
      " 83  secondary_cleaner.state.floatbank5_b_air            19438 non-null  float64\n",
      " 84  secondary_cleaner.state.floatbank5_b_level          19438 non-null  float64\n",
      " 85  secondary_cleaner.state.floatbank6_a_air            19437 non-null  float64\n",
      " 86  secondary_cleaner.state.floatbank6_a_level          19438 non-null  float64\n",
      "dtypes: float64(86), object(1)\n",
      "memory usage: 12.9+ MB\n",
      "None\n",
      "<class 'pandas.core.frame.DataFrame'>\n",
      "RangeIndex: 14149 entries, 0 to 14148\n",
      "Data columns (total 87 columns):\n",
      " #   Column                                              Non-Null Count  Dtype  \n",
      "---  ------                                              --------------  -----  \n",
      " 0   date                                                14149 non-null  object \n",
      " 1   final.output.concentrate_ag                         14148 non-null  float64\n",
      " 2   final.output.concentrate_pb                         14148 non-null  float64\n",
      " 3   final.output.concentrate_sol                        13938 non-null  float64\n",
      " 4   final.output.concentrate_au                         14149 non-null  float64\n",
      " 5   final.output.recovery                               14149 non-null  float64\n",
      " 6   final.output.tail_ag                                14149 non-null  float64\n",
      " 7   final.output.tail_pb                                14049 non-null  float64\n",
      " 8   final.output.tail_sol                               14144 non-null  float64\n",
      " 9   final.output.tail_au                                14149 non-null  float64\n",
      " 10  primary_cleaner.input.sulfate                       14129 non-null  float64\n",
      " 11  primary_cleaner.input.depressant                    14117 non-null  float64\n",
      " 12  primary_cleaner.input.feed_size                     14149 non-null  float64\n",
      " 13  primary_cleaner.input.xanthate                      14049 non-null  float64\n",
      " 14  primary_cleaner.output.concentrate_ag               14149 non-null  float64\n",
      " 15  primary_cleaner.output.concentrate_pb               14063 non-null  float64\n",
      " 16  primary_cleaner.output.concentrate_sol              13863 non-null  float64\n",
      " 17  primary_cleaner.output.concentrate_au               14149 non-null  float64\n",
      " 18  primary_cleaner.output.tail_ag                      14148 non-null  float64\n",
      " 19  primary_cleaner.output.tail_pb                      14134 non-null  float64\n",
      " 20  primary_cleaner.output.tail_sol                     14103 non-null  float64\n",
      " 21  primary_cleaner.output.tail_au                      14149 non-null  float64\n",
      " 22  primary_cleaner.state.floatbank8_a_air              14145 non-null  float64\n",
      " 23  primary_cleaner.state.floatbank8_a_level            14148 non-null  float64\n",
      " 24  primary_cleaner.state.floatbank8_b_air              14145 non-null  float64\n",
      " 25  primary_cleaner.state.floatbank8_b_level            14148 non-null  float64\n",
      " 26  primary_cleaner.state.floatbank8_c_air              14147 non-null  float64\n",
      " 27  primary_cleaner.state.floatbank8_c_level            14148 non-null  float64\n",
      " 28  primary_cleaner.state.floatbank8_d_air              14146 non-null  float64\n",
      " 29  primary_cleaner.state.floatbank8_d_level            14148 non-null  float64\n",
      " 30  rougher.calculation.sulfate_to_au_concentrate       14148 non-null  float64\n",
      " 31  rougher.calculation.floatbank10_sulfate_to_au_feed  14148 non-null  float64\n",
      " 32  rougher.calculation.floatbank11_sulfate_to_au_feed  14148 non-null  float64\n",
      " 33  rougher.calculation.au_pb_ratio                     14149 non-null  float64\n",
      " 34  rougher.input.feed_ag                               14149 non-null  float64\n",
      " 35  rougher.input.feed_pb                               14049 non-null  float64\n",
      " 36  rougher.input.feed_rate                             14141 non-null  float64\n",
      " 37  rougher.input.feed_size                             14005 non-null  float64\n",
      " 38  rougher.input.feed_sol                              14071 non-null  float64\n",
      " 39  rougher.input.feed_au                               14149 non-null  float64\n",
      " 40  rougher.input.floatbank10_sulfate                   14120 non-null  float64\n",
      " 41  rougher.input.floatbank10_xanthate                  14141 non-null  float64\n",
      " 42  rougher.input.floatbank11_sulfate                   14113 non-null  float64\n",
      " 43  rougher.input.floatbank11_xanthate                  13721 non-null  float64\n",
      " 44  rougher.output.concentrate_ag                       14149 non-null  float64\n",
      " 45  rougher.output.concentrate_pb                       14149 non-null  float64\n",
      " 46  rougher.output.concentrate_sol                      14127 non-null  float64\n",
      " 47  rougher.output.concentrate_au                       14149 non-null  float64\n",
      " 48  rougher.output.recovery                             14149 non-null  float64\n",
      " 49  rougher.output.tail_ag                              14148 non-null  float64\n",
      " 50  rougher.output.tail_pb                              14149 non-null  float64\n",
      " 51  rougher.output.tail_sol                             14149 non-null  float64\n",
      " 52  rougher.output.tail_au                              14149 non-null  float64\n",
      " 53  rougher.state.floatbank10_a_air                     14148 non-null  float64\n",
      " 54  rougher.state.floatbank10_a_level                   14148 non-null  float64\n",
      " 55  rougher.state.floatbank10_b_air                     14148 non-null  float64\n",
      " 56  rougher.state.floatbank10_b_level                   14148 non-null  float64\n",
      " 57  rougher.state.floatbank10_c_air                     14148 non-null  float64\n",
      " 58  rougher.state.floatbank10_c_level                   14148 non-null  float64\n",
      " 59  rougher.state.floatbank10_d_air                     14149 non-null  float64\n",
      " 60  rougher.state.floatbank10_d_level                   14149 non-null  float64\n",
      " 61  rougher.state.floatbank10_e_air                     13713 non-null  float64\n",
      " 62  rougher.state.floatbank10_e_level                   14149 non-null  float64\n",
      " 63  rougher.state.floatbank10_f_air                     14149 non-null  float64\n",
      " 64  rougher.state.floatbank10_f_level                   14149 non-null  float64\n",
      " 65  secondary_cleaner.output.tail_ag                    14147 non-null  float64\n",
      " 66  secondary_cleaner.output.tail_pb                    14139 non-null  float64\n",
      " 67  secondary_cleaner.output.tail_sol                   12544 non-null  float64\n",
      " 68  secondary_cleaner.output.tail_au                    14149 non-null  float64\n",
      " 69  secondary_cleaner.state.floatbank2_a_air            13932 non-null  float64\n",
      " 70  secondary_cleaner.state.floatbank2_a_level          14148 non-null  float64\n",
      " 71  secondary_cleaner.state.floatbank2_b_air            14128 non-null  float64\n",
      " 72  secondary_cleaner.state.floatbank2_b_level          14148 non-null  float64\n",
      " 73  secondary_cleaner.state.floatbank3_a_air            14145 non-null  float64\n",
      " 74  secondary_cleaner.state.floatbank3_a_level          14148 non-null  float64\n",
      " 75  secondary_cleaner.state.floatbank3_b_air            14148 non-null  float64\n",
      " 76  secondary_cleaner.state.floatbank3_b_level          14148 non-null  float64\n",
      " 77  secondary_cleaner.state.floatbank4_a_air            14143 non-null  float64\n",
      " 78  secondary_cleaner.state.floatbank4_a_level          14148 non-null  float64\n",
      " 79  secondary_cleaner.state.floatbank4_b_air            14148 non-null  float64\n",
      " 80  secondary_cleaner.state.floatbank4_b_level          14148 non-null  float64\n",
      " 81  secondary_cleaner.state.floatbank5_a_air            14148 non-null  float64\n",
      " 82  secondary_cleaner.state.floatbank5_a_level          14148 non-null  float64\n",
      " 83  secondary_cleaner.state.floatbank5_b_air            14148 non-null  float64\n",
      " 84  secondary_cleaner.state.floatbank5_b_level          14148 non-null  float64\n",
      " 85  secondary_cleaner.state.floatbank6_a_air            14147 non-null  float64\n",
      " 86  secondary_cleaner.state.floatbank6_a_level          14148 non-null  float64\n",
      "dtypes: float64(86), object(1)\n",
      "memory usage: 9.4+ MB\n",
      "None\n",
      "<class 'pandas.core.frame.DataFrame'>\n",
      "RangeIndex: 5290 entries, 0 to 5289\n",
      "Data columns (total 53 columns):\n",
      " #   Column                                      Non-Null Count  Dtype  \n",
      "---  ------                                      --------------  -----  \n",
      " 0   date                                        5290 non-null   object \n",
      " 1   primary_cleaner.input.sulfate               5286 non-null   float64\n",
      " 2   primary_cleaner.input.depressant            5285 non-null   float64\n",
      " 3   primary_cleaner.input.feed_size             5290 non-null   float64\n",
      " 4   primary_cleaner.input.xanthate              5286 non-null   float64\n",
      " 5   primary_cleaner.state.floatbank8_a_air      5290 non-null   float64\n",
      " 6   primary_cleaner.state.floatbank8_a_level    5290 non-null   float64\n",
      " 7   primary_cleaner.state.floatbank8_b_air      5290 non-null   float64\n",
      " 8   primary_cleaner.state.floatbank8_b_level    5290 non-null   float64\n",
      " 9   primary_cleaner.state.floatbank8_c_air      5290 non-null   float64\n",
      " 10  primary_cleaner.state.floatbank8_c_level    5290 non-null   float64\n",
      " 11  primary_cleaner.state.floatbank8_d_air      5290 non-null   float64\n",
      " 12  primary_cleaner.state.floatbank8_d_level    5290 non-null   float64\n",
      " 13  rougher.input.feed_ag                       5290 non-null   float64\n",
      " 14  rougher.input.feed_pb                       5290 non-null   float64\n",
      " 15  rougher.input.feed_rate                     5287 non-null   float64\n",
      " 16  rougher.input.feed_size                     5289 non-null   float64\n",
      " 17  rougher.input.feed_sol                      5269 non-null   float64\n",
      " 18  rougher.input.feed_au                       5290 non-null   float64\n",
      " 19  rougher.input.floatbank10_sulfate           5285 non-null   float64\n",
      " 20  rougher.input.floatbank10_xanthate          5290 non-null   float64\n",
      " 21  rougher.input.floatbank11_sulfate           5282 non-null   float64\n",
      " 22  rougher.input.floatbank11_xanthate          5265 non-null   float64\n",
      " 23  rougher.state.floatbank10_a_air             5290 non-null   float64\n",
      " 24  rougher.state.floatbank10_a_level           5290 non-null   float64\n",
      " 25  rougher.state.floatbank10_b_air             5290 non-null   float64\n",
      " 26  rougher.state.floatbank10_b_level           5290 non-null   float64\n",
      " 27  rougher.state.floatbank10_c_air             5290 non-null   float64\n",
      " 28  rougher.state.floatbank10_c_level           5290 non-null   float64\n",
      " 29  rougher.state.floatbank10_d_air             5290 non-null   float64\n",
      " 30  rougher.state.floatbank10_d_level           5290 non-null   float64\n",
      " 31  rougher.state.floatbank10_e_air             5290 non-null   float64\n",
      " 32  rougher.state.floatbank10_e_level           5290 non-null   float64\n",
      " 33  rougher.state.floatbank10_f_air             5290 non-null   float64\n",
      " 34  rougher.state.floatbank10_f_level           5290 non-null   float64\n",
      " 35  secondary_cleaner.state.floatbank2_a_air    5287 non-null   float64\n",
      " 36  secondary_cleaner.state.floatbank2_a_level  5290 non-null   float64\n",
      " 37  secondary_cleaner.state.floatbank2_b_air    5288 non-null   float64\n",
      " 38  secondary_cleaner.state.floatbank2_b_level  5290 non-null   float64\n",
      " 39  secondary_cleaner.state.floatbank3_a_air    5281 non-null   float64\n",
      " 40  secondary_cleaner.state.floatbank3_a_level  5290 non-null   float64\n",
      " 41  secondary_cleaner.state.floatbank3_b_air    5290 non-null   float64\n",
      " 42  secondary_cleaner.state.floatbank3_b_level  5290 non-null   float64\n",
      " 43  secondary_cleaner.state.floatbank4_a_air    5290 non-null   float64\n",
      " 44  secondary_cleaner.state.floatbank4_a_level  5290 non-null   float64\n",
      " 45  secondary_cleaner.state.floatbank4_b_air    5290 non-null   float64\n",
      " 46  secondary_cleaner.state.floatbank4_b_level  5290 non-null   float64\n",
      " 47  secondary_cleaner.state.floatbank5_a_air    5290 non-null   float64\n",
      " 48  secondary_cleaner.state.floatbank5_a_level  5290 non-null   float64\n",
      " 49  secondary_cleaner.state.floatbank5_b_air    5290 non-null   float64\n",
      " 50  secondary_cleaner.state.floatbank5_b_level  5290 non-null   float64\n",
      " 51  secondary_cleaner.state.floatbank6_a_air    5290 non-null   float64\n",
      " 52  secondary_cleaner.state.floatbank6_a_level  5290 non-null   float64\n",
      "dtypes: float64(52), object(1)\n",
      "memory usage: 2.1+ MB\n",
      "None\n"
     ]
    }
   ],
   "source": [
    "for data in datasets:\n",
    "    print(data.info())"
   ]
  },
  {
   "cell_type": "markdown",
   "metadata": {},
   "source": [
    "Таблицы довольно большие, в них 86 столбцов, а в обучающей - 52. Эта разница сильно заметна. Из документации к данным мы знаем, что \n",
    "\n",
    "Rougher feed — исходное сырье\n",
    "Rougher additions (или reagent additions) — флотационные реагенты: Xanthate, Sulphate, Depressant\n",
    "Xanthate — ксантогенат (промотер, или активатор флотации);\n",
    "Sulphate — сульфат (на данном производстве сульфид натрия);\n",
    "Depressant — депрессант (силикат натрия).\n",
    "Rougher process (англ. «грубый процесс») — флотация\n",
    "Rougher tails — отвальные хвосты\n",
    "Float banks — флотационная установка\n",
    "Cleaner process — очистка\n",
    "Rougher Au — черновой концентрат золота\n",
    "Final Au — финальный концентрат золота\n",
    "\n",
    "\n",
    "air amount — объём воздуха\n",
    "fluid levels — уровень жидкости\n",
    "feed size — размер гранул сырья\n",
    "feed rate — скорость подачи\n",
    "\n",
    "\n",
    "rougher — флотация\n",
    "primary_cleaner — первичная очистка\n",
    "secondary_cleaner — вторичная очистка\n",
    "final — финальные характеристики\n",
    "\n",
    "\n",
    "input — параметры сырья\n",
    "output — параметры продукта\n",
    "state — параметры, характеризующие текущее состояние этапа\n",
    "calculation — расчётные характеристики"
   ]
  },
  {
   "cell_type": "markdown",
   "metadata": {},
   "source": [
    "Проверим данные на наличие дубликатов"
   ]
  },
  {
   "cell_type": "code",
   "execution_count": 5,
   "metadata": {},
   "outputs": [
    {
     "name": "stdout",
     "output_type": "stream",
     "text": [
      "0\n",
      "0\n",
      "0\n"
     ]
    }
   ],
   "source": [
    "for data in datasets:\n",
    "    print(data.duplicated().sum())"
   ]
  },
  {
   "cell_type": "markdown",
   "metadata": {},
   "source": [
    "Дубликаты отсутствуют.\n",
    "\n",
    "Выведем первые пять строк таблиц на экран"
   ]
  },
  {
   "cell_type": "code",
   "execution_count": 6,
   "metadata": {
    "scrolled": true
   },
   "outputs": [
    {
     "data": {
      "text/html": [
       "<div>\n",
       "<style scoped>\n",
       "    .dataframe tbody tr th:only-of-type {\n",
       "        vertical-align: middle;\n",
       "    }\n",
       "\n",
       "    .dataframe tbody tr th {\n",
       "        vertical-align: top;\n",
       "    }\n",
       "\n",
       "    .dataframe thead th {\n",
       "        text-align: right;\n",
       "    }\n",
       "</style>\n",
       "<table border=\"1\" class=\"dataframe\">\n",
       "  <thead>\n",
       "    <tr style=\"text-align: right;\">\n",
       "      <th></th>\n",
       "      <th>date</th>\n",
       "      <th>final.output.concentrate_ag</th>\n",
       "      <th>final.output.concentrate_pb</th>\n",
       "      <th>final.output.concentrate_sol</th>\n",
       "      <th>final.output.concentrate_au</th>\n",
       "      <th>final.output.recovery</th>\n",
       "      <th>final.output.tail_ag</th>\n",
       "      <th>final.output.tail_pb</th>\n",
       "      <th>final.output.tail_sol</th>\n",
       "      <th>final.output.tail_au</th>\n",
       "      <th>...</th>\n",
       "      <th>secondary_cleaner.state.floatbank4_a_air</th>\n",
       "      <th>secondary_cleaner.state.floatbank4_a_level</th>\n",
       "      <th>secondary_cleaner.state.floatbank4_b_air</th>\n",
       "      <th>secondary_cleaner.state.floatbank4_b_level</th>\n",
       "      <th>secondary_cleaner.state.floatbank5_a_air</th>\n",
       "      <th>secondary_cleaner.state.floatbank5_a_level</th>\n",
       "      <th>secondary_cleaner.state.floatbank5_b_air</th>\n",
       "      <th>secondary_cleaner.state.floatbank5_b_level</th>\n",
       "      <th>secondary_cleaner.state.floatbank6_a_air</th>\n",
       "      <th>secondary_cleaner.state.floatbank6_a_level</th>\n",
       "    </tr>\n",
       "  </thead>\n",
       "  <tbody>\n",
       "    <tr>\n",
       "      <th>0</th>\n",
       "      <td>2016-01-15 00:00:00</td>\n",
       "      <td>6.055403</td>\n",
       "      <td>9.889648</td>\n",
       "      <td>5.507324</td>\n",
       "      <td>42.192020</td>\n",
       "      <td>70.541216</td>\n",
       "      <td>10.411962</td>\n",
       "      <td>0.895447</td>\n",
       "      <td>16.904297</td>\n",
       "      <td>2.143149</td>\n",
       "      <td>...</td>\n",
       "      <td>14.016835</td>\n",
       "      <td>-502.488007</td>\n",
       "      <td>12.099931</td>\n",
       "      <td>-504.715942</td>\n",
       "      <td>9.925633</td>\n",
       "      <td>-498.310211</td>\n",
       "      <td>8.079666</td>\n",
       "      <td>-500.470978</td>\n",
       "      <td>14.151341</td>\n",
       "      <td>-605.841980</td>\n",
       "    </tr>\n",
       "    <tr>\n",
       "      <th>1</th>\n",
       "      <td>2016-01-15 01:00:00</td>\n",
       "      <td>6.029369</td>\n",
       "      <td>9.968944</td>\n",
       "      <td>5.257781</td>\n",
       "      <td>42.701629</td>\n",
       "      <td>69.266198</td>\n",
       "      <td>10.462676</td>\n",
       "      <td>0.927452</td>\n",
       "      <td>16.634514</td>\n",
       "      <td>2.224930</td>\n",
       "      <td>...</td>\n",
       "      <td>13.992281</td>\n",
       "      <td>-505.503262</td>\n",
       "      <td>11.950531</td>\n",
       "      <td>-501.331529</td>\n",
       "      <td>10.039245</td>\n",
       "      <td>-500.169983</td>\n",
       "      <td>7.984757</td>\n",
       "      <td>-500.582168</td>\n",
       "      <td>13.998353</td>\n",
       "      <td>-599.787184</td>\n",
       "    </tr>\n",
       "    <tr>\n",
       "      <th>2</th>\n",
       "      <td>2016-01-15 02:00:00</td>\n",
       "      <td>6.055926</td>\n",
       "      <td>10.213995</td>\n",
       "      <td>5.383759</td>\n",
       "      <td>42.657501</td>\n",
       "      <td>68.116445</td>\n",
       "      <td>10.507046</td>\n",
       "      <td>0.953716</td>\n",
       "      <td>16.208849</td>\n",
       "      <td>2.257889</td>\n",
       "      <td>...</td>\n",
       "      <td>14.015015</td>\n",
       "      <td>-502.520901</td>\n",
       "      <td>11.912783</td>\n",
       "      <td>-501.133383</td>\n",
       "      <td>10.070913</td>\n",
       "      <td>-500.129135</td>\n",
       "      <td>8.013877</td>\n",
       "      <td>-500.517572</td>\n",
       "      <td>14.028663</td>\n",
       "      <td>-601.427363</td>\n",
       "    </tr>\n",
       "    <tr>\n",
       "      <th>3</th>\n",
       "      <td>2016-01-15 03:00:00</td>\n",
       "      <td>6.047977</td>\n",
       "      <td>9.977019</td>\n",
       "      <td>4.858634</td>\n",
       "      <td>42.689819</td>\n",
       "      <td>68.347543</td>\n",
       "      <td>10.422762</td>\n",
       "      <td>0.883763</td>\n",
       "      <td>16.532835</td>\n",
       "      <td>2.146849</td>\n",
       "      <td>...</td>\n",
       "      <td>14.036510</td>\n",
       "      <td>-500.857308</td>\n",
       "      <td>11.999550</td>\n",
       "      <td>-501.193686</td>\n",
       "      <td>9.970366</td>\n",
       "      <td>-499.201640</td>\n",
       "      <td>7.977324</td>\n",
       "      <td>-500.255908</td>\n",
       "      <td>14.005551</td>\n",
       "      <td>-599.996129</td>\n",
       "    </tr>\n",
       "    <tr>\n",
       "      <th>4</th>\n",
       "      <td>2016-01-15 04:00:00</td>\n",
       "      <td>6.148599</td>\n",
       "      <td>10.142511</td>\n",
       "      <td>4.939416</td>\n",
       "      <td>42.774141</td>\n",
       "      <td>66.927016</td>\n",
       "      <td>10.360302</td>\n",
       "      <td>0.792826</td>\n",
       "      <td>16.525686</td>\n",
       "      <td>2.055292</td>\n",
       "      <td>...</td>\n",
       "      <td>14.027298</td>\n",
       "      <td>-499.838632</td>\n",
       "      <td>11.953070</td>\n",
       "      <td>-501.053894</td>\n",
       "      <td>9.925709</td>\n",
       "      <td>-501.686727</td>\n",
       "      <td>7.894242</td>\n",
       "      <td>-500.356035</td>\n",
       "      <td>13.996647</td>\n",
       "      <td>-601.496691</td>\n",
       "    </tr>\n",
       "    <tr>\n",
       "      <th>...</th>\n",
       "      <td>...</td>\n",
       "      <td>...</td>\n",
       "      <td>...</td>\n",
       "      <td>...</td>\n",
       "      <td>...</td>\n",
       "      <td>...</td>\n",
       "      <td>...</td>\n",
       "      <td>...</td>\n",
       "      <td>...</td>\n",
       "      <td>...</td>\n",
       "      <td>...</td>\n",
       "      <td>...</td>\n",
       "      <td>...</td>\n",
       "      <td>...</td>\n",
       "      <td>...</td>\n",
       "      <td>...</td>\n",
       "      <td>...</td>\n",
       "      <td>...</td>\n",
       "      <td>...</td>\n",
       "      <td>...</td>\n",
       "      <td>...</td>\n",
       "    </tr>\n",
       "    <tr>\n",
       "      <th>19434</th>\n",
       "      <td>2018-08-18 06:59:59</td>\n",
       "      <td>3.224920</td>\n",
       "      <td>11.356233</td>\n",
       "      <td>6.803482</td>\n",
       "      <td>46.713954</td>\n",
       "      <td>73.755150</td>\n",
       "      <td>8.769645</td>\n",
       "      <td>3.141541</td>\n",
       "      <td>10.403181</td>\n",
       "      <td>1.529220</td>\n",
       "      <td>...</td>\n",
       "      <td>23.031497</td>\n",
       "      <td>-501.167942</td>\n",
       "      <td>20.007571</td>\n",
       "      <td>-499.740028</td>\n",
       "      <td>18.006038</td>\n",
       "      <td>-499.834374</td>\n",
       "      <td>13.001114</td>\n",
       "      <td>-500.155694</td>\n",
       "      <td>20.007840</td>\n",
       "      <td>-501.296428</td>\n",
       "    </tr>\n",
       "    <tr>\n",
       "      <th>19435</th>\n",
       "      <td>2018-08-18 07:59:59</td>\n",
       "      <td>3.195978</td>\n",
       "      <td>11.349355</td>\n",
       "      <td>6.862249</td>\n",
       "      <td>46.866780</td>\n",
       "      <td>69.049291</td>\n",
       "      <td>8.897321</td>\n",
       "      <td>3.130493</td>\n",
       "      <td>10.549470</td>\n",
       "      <td>1.612542</td>\n",
       "      <td>...</td>\n",
       "      <td>22.960095</td>\n",
       "      <td>-501.612783</td>\n",
       "      <td>20.035660</td>\n",
       "      <td>-500.251357</td>\n",
       "      <td>17.998535</td>\n",
       "      <td>-500.395178</td>\n",
       "      <td>12.954048</td>\n",
       "      <td>-499.895163</td>\n",
       "      <td>19.968498</td>\n",
       "      <td>-501.041608</td>\n",
       "    </tr>\n",
       "    <tr>\n",
       "      <th>19436</th>\n",
       "      <td>2018-08-18 08:59:59</td>\n",
       "      <td>3.109998</td>\n",
       "      <td>11.434366</td>\n",
       "      <td>6.886013</td>\n",
       "      <td>46.795691</td>\n",
       "      <td>67.002189</td>\n",
       "      <td>8.529606</td>\n",
       "      <td>2.911418</td>\n",
       "      <td>11.115147</td>\n",
       "      <td>1.596616</td>\n",
       "      <td>...</td>\n",
       "      <td>23.015718</td>\n",
       "      <td>-501.711599</td>\n",
       "      <td>19.951231</td>\n",
       "      <td>-499.857027</td>\n",
       "      <td>18.019543</td>\n",
       "      <td>-500.451156</td>\n",
       "      <td>13.023431</td>\n",
       "      <td>-499.914391</td>\n",
       "      <td>19.990885</td>\n",
       "      <td>-501.518452</td>\n",
       "    </tr>\n",
       "    <tr>\n",
       "      <th>19437</th>\n",
       "      <td>2018-08-18 09:59:59</td>\n",
       "      <td>3.367241</td>\n",
       "      <td>11.625587</td>\n",
       "      <td>6.799433</td>\n",
       "      <td>46.408188</td>\n",
       "      <td>65.523246</td>\n",
       "      <td>8.777171</td>\n",
       "      <td>2.819214</td>\n",
       "      <td>10.463847</td>\n",
       "      <td>1.602879</td>\n",
       "      <td>...</td>\n",
       "      <td>23.024963</td>\n",
       "      <td>-501.153409</td>\n",
       "      <td>20.054122</td>\n",
       "      <td>-500.314711</td>\n",
       "      <td>17.979515</td>\n",
       "      <td>-499.272871</td>\n",
       "      <td>12.992404</td>\n",
       "      <td>-499.976268</td>\n",
       "      <td>20.013986</td>\n",
       "      <td>-500.625471</td>\n",
       "    </tr>\n",
       "    <tr>\n",
       "      <th>19438</th>\n",
       "      <td>2018-08-18 10:59:59</td>\n",
       "      <td>3.598375</td>\n",
       "      <td>11.737832</td>\n",
       "      <td>6.717509</td>\n",
       "      <td>46.299438</td>\n",
       "      <td>70.281454</td>\n",
       "      <td>8.406690</td>\n",
       "      <td>2.517518</td>\n",
       "      <td>10.652193</td>\n",
       "      <td>1.389434</td>\n",
       "      <td>...</td>\n",
       "      <td>23.018622</td>\n",
       "      <td>-500.492702</td>\n",
       "      <td>20.020205</td>\n",
       "      <td>-500.220296</td>\n",
       "      <td>17.963512</td>\n",
       "      <td>-499.939490</td>\n",
       "      <td>12.990306</td>\n",
       "      <td>-500.080993</td>\n",
       "      <td>19.990336</td>\n",
       "      <td>-499.191575</td>\n",
       "    </tr>\n",
       "  </tbody>\n",
       "</table>\n",
       "<p>19439 rows × 87 columns</p>\n",
       "</div>"
      ],
      "text/plain": [
       "                      date  final.output.concentrate_ag  \\\n",
       "0      2016-01-15 00:00:00                     6.055403   \n",
       "1      2016-01-15 01:00:00                     6.029369   \n",
       "2      2016-01-15 02:00:00                     6.055926   \n",
       "3      2016-01-15 03:00:00                     6.047977   \n",
       "4      2016-01-15 04:00:00                     6.148599   \n",
       "...                    ...                          ...   \n",
       "19434  2018-08-18 06:59:59                     3.224920   \n",
       "19435  2018-08-18 07:59:59                     3.195978   \n",
       "19436  2018-08-18 08:59:59                     3.109998   \n",
       "19437  2018-08-18 09:59:59                     3.367241   \n",
       "19438  2018-08-18 10:59:59                     3.598375   \n",
       "\n",
       "       final.output.concentrate_pb  final.output.concentrate_sol  \\\n",
       "0                         9.889648                      5.507324   \n",
       "1                         9.968944                      5.257781   \n",
       "2                        10.213995                      5.383759   \n",
       "3                         9.977019                      4.858634   \n",
       "4                        10.142511                      4.939416   \n",
       "...                            ...                           ...   \n",
       "19434                    11.356233                      6.803482   \n",
       "19435                    11.349355                      6.862249   \n",
       "19436                    11.434366                      6.886013   \n",
       "19437                    11.625587                      6.799433   \n",
       "19438                    11.737832                      6.717509   \n",
       "\n",
       "       final.output.concentrate_au  final.output.recovery  \\\n",
       "0                        42.192020              70.541216   \n",
       "1                        42.701629              69.266198   \n",
       "2                        42.657501              68.116445   \n",
       "3                        42.689819              68.347543   \n",
       "4                        42.774141              66.927016   \n",
       "...                            ...                    ...   \n",
       "19434                    46.713954              73.755150   \n",
       "19435                    46.866780              69.049291   \n",
       "19436                    46.795691              67.002189   \n",
       "19437                    46.408188              65.523246   \n",
       "19438                    46.299438              70.281454   \n",
       "\n",
       "       final.output.tail_ag  final.output.tail_pb  final.output.tail_sol  \\\n",
       "0                 10.411962              0.895447              16.904297   \n",
       "1                 10.462676              0.927452              16.634514   \n",
       "2                 10.507046              0.953716              16.208849   \n",
       "3                 10.422762              0.883763              16.532835   \n",
       "4                 10.360302              0.792826              16.525686   \n",
       "...                     ...                   ...                    ...   \n",
       "19434              8.769645              3.141541              10.403181   \n",
       "19435              8.897321              3.130493              10.549470   \n",
       "19436              8.529606              2.911418              11.115147   \n",
       "19437              8.777171              2.819214              10.463847   \n",
       "19438              8.406690              2.517518              10.652193   \n",
       "\n",
       "       final.output.tail_au  ...  secondary_cleaner.state.floatbank4_a_air  \\\n",
       "0                  2.143149  ...                                 14.016835   \n",
       "1                  2.224930  ...                                 13.992281   \n",
       "2                  2.257889  ...                                 14.015015   \n",
       "3                  2.146849  ...                                 14.036510   \n",
       "4                  2.055292  ...                                 14.027298   \n",
       "...                     ...  ...                                       ...   \n",
       "19434              1.529220  ...                                 23.031497   \n",
       "19435              1.612542  ...                                 22.960095   \n",
       "19436              1.596616  ...                                 23.015718   \n",
       "19437              1.602879  ...                                 23.024963   \n",
       "19438              1.389434  ...                                 23.018622   \n",
       "\n",
       "       secondary_cleaner.state.floatbank4_a_level  \\\n",
       "0                                     -502.488007   \n",
       "1                                     -505.503262   \n",
       "2                                     -502.520901   \n",
       "3                                     -500.857308   \n",
       "4                                     -499.838632   \n",
       "...                                           ...   \n",
       "19434                                 -501.167942   \n",
       "19435                                 -501.612783   \n",
       "19436                                 -501.711599   \n",
       "19437                                 -501.153409   \n",
       "19438                                 -500.492702   \n",
       "\n",
       "       secondary_cleaner.state.floatbank4_b_air  \\\n",
       "0                                     12.099931   \n",
       "1                                     11.950531   \n",
       "2                                     11.912783   \n",
       "3                                     11.999550   \n",
       "4                                     11.953070   \n",
       "...                                         ...   \n",
       "19434                                 20.007571   \n",
       "19435                                 20.035660   \n",
       "19436                                 19.951231   \n",
       "19437                                 20.054122   \n",
       "19438                                 20.020205   \n",
       "\n",
       "       secondary_cleaner.state.floatbank4_b_level  \\\n",
       "0                                     -504.715942   \n",
       "1                                     -501.331529   \n",
       "2                                     -501.133383   \n",
       "3                                     -501.193686   \n",
       "4                                     -501.053894   \n",
       "...                                           ...   \n",
       "19434                                 -499.740028   \n",
       "19435                                 -500.251357   \n",
       "19436                                 -499.857027   \n",
       "19437                                 -500.314711   \n",
       "19438                                 -500.220296   \n",
       "\n",
       "       secondary_cleaner.state.floatbank5_a_air  \\\n",
       "0                                      9.925633   \n",
       "1                                     10.039245   \n",
       "2                                     10.070913   \n",
       "3                                      9.970366   \n",
       "4                                      9.925709   \n",
       "...                                         ...   \n",
       "19434                                 18.006038   \n",
       "19435                                 17.998535   \n",
       "19436                                 18.019543   \n",
       "19437                                 17.979515   \n",
       "19438                                 17.963512   \n",
       "\n",
       "       secondary_cleaner.state.floatbank5_a_level  \\\n",
       "0                                     -498.310211   \n",
       "1                                     -500.169983   \n",
       "2                                     -500.129135   \n",
       "3                                     -499.201640   \n",
       "4                                     -501.686727   \n",
       "...                                           ...   \n",
       "19434                                 -499.834374   \n",
       "19435                                 -500.395178   \n",
       "19436                                 -500.451156   \n",
       "19437                                 -499.272871   \n",
       "19438                                 -499.939490   \n",
       "\n",
       "       secondary_cleaner.state.floatbank5_b_air  \\\n",
       "0                                      8.079666   \n",
       "1                                      7.984757   \n",
       "2                                      8.013877   \n",
       "3                                      7.977324   \n",
       "4                                      7.894242   \n",
       "...                                         ...   \n",
       "19434                                 13.001114   \n",
       "19435                                 12.954048   \n",
       "19436                                 13.023431   \n",
       "19437                                 12.992404   \n",
       "19438                                 12.990306   \n",
       "\n",
       "       secondary_cleaner.state.floatbank5_b_level  \\\n",
       "0                                     -500.470978   \n",
       "1                                     -500.582168   \n",
       "2                                     -500.517572   \n",
       "3                                     -500.255908   \n",
       "4                                     -500.356035   \n",
       "...                                           ...   \n",
       "19434                                 -500.155694   \n",
       "19435                                 -499.895163   \n",
       "19436                                 -499.914391   \n",
       "19437                                 -499.976268   \n",
       "19438                                 -500.080993   \n",
       "\n",
       "       secondary_cleaner.state.floatbank6_a_air  \\\n",
       "0                                     14.151341   \n",
       "1                                     13.998353   \n",
       "2                                     14.028663   \n",
       "3                                     14.005551   \n",
       "4                                     13.996647   \n",
       "...                                         ...   \n",
       "19434                                 20.007840   \n",
       "19435                                 19.968498   \n",
       "19436                                 19.990885   \n",
       "19437                                 20.013986   \n",
       "19438                                 19.990336   \n",
       "\n",
       "       secondary_cleaner.state.floatbank6_a_level  \n",
       "0                                     -605.841980  \n",
       "1                                     -599.787184  \n",
       "2                                     -601.427363  \n",
       "3                                     -599.996129  \n",
       "4                                     -601.496691  \n",
       "...                                           ...  \n",
       "19434                                 -501.296428  \n",
       "19435                                 -501.041608  \n",
       "19436                                 -501.518452  \n",
       "19437                                 -500.625471  \n",
       "19438                                 -499.191575  \n",
       "\n",
       "[19439 rows x 87 columns]"
      ]
     },
     "metadata": {},
     "output_type": "display_data"
    },
    {
     "data": {
      "text/html": [
       "<div>\n",
       "<style scoped>\n",
       "    .dataframe tbody tr th:only-of-type {\n",
       "        vertical-align: middle;\n",
       "    }\n",
       "\n",
       "    .dataframe tbody tr th {\n",
       "        vertical-align: top;\n",
       "    }\n",
       "\n",
       "    .dataframe thead th {\n",
       "        text-align: right;\n",
       "    }\n",
       "</style>\n",
       "<table border=\"1\" class=\"dataframe\">\n",
       "  <thead>\n",
       "    <tr style=\"text-align: right;\">\n",
       "      <th></th>\n",
       "      <th>date</th>\n",
       "      <th>final.output.concentrate_ag</th>\n",
       "      <th>final.output.concentrate_pb</th>\n",
       "      <th>final.output.concentrate_sol</th>\n",
       "      <th>final.output.concentrate_au</th>\n",
       "      <th>final.output.recovery</th>\n",
       "      <th>final.output.tail_ag</th>\n",
       "      <th>final.output.tail_pb</th>\n",
       "      <th>final.output.tail_sol</th>\n",
       "      <th>final.output.tail_au</th>\n",
       "      <th>...</th>\n",
       "      <th>secondary_cleaner.state.floatbank4_a_air</th>\n",
       "      <th>secondary_cleaner.state.floatbank4_a_level</th>\n",
       "      <th>secondary_cleaner.state.floatbank4_b_air</th>\n",
       "      <th>secondary_cleaner.state.floatbank4_b_level</th>\n",
       "      <th>secondary_cleaner.state.floatbank5_a_air</th>\n",
       "      <th>secondary_cleaner.state.floatbank5_a_level</th>\n",
       "      <th>secondary_cleaner.state.floatbank5_b_air</th>\n",
       "      <th>secondary_cleaner.state.floatbank5_b_level</th>\n",
       "      <th>secondary_cleaner.state.floatbank6_a_air</th>\n",
       "      <th>secondary_cleaner.state.floatbank6_a_level</th>\n",
       "    </tr>\n",
       "  </thead>\n",
       "  <tbody>\n",
       "    <tr>\n",
       "      <th>0</th>\n",
       "      <td>2016-01-15 00:00:00</td>\n",
       "      <td>6.055403</td>\n",
       "      <td>9.889648</td>\n",
       "      <td>5.507324</td>\n",
       "      <td>42.192020</td>\n",
       "      <td>70.541216</td>\n",
       "      <td>10.411962</td>\n",
       "      <td>0.895447</td>\n",
       "      <td>16.904297</td>\n",
       "      <td>2.143149</td>\n",
       "      <td>...</td>\n",
       "      <td>14.016835</td>\n",
       "      <td>-502.488007</td>\n",
       "      <td>12.099931</td>\n",
       "      <td>-504.715942</td>\n",
       "      <td>9.925633</td>\n",
       "      <td>-498.310211</td>\n",
       "      <td>8.079666</td>\n",
       "      <td>-500.470978</td>\n",
       "      <td>14.151341</td>\n",
       "      <td>-605.841980</td>\n",
       "    </tr>\n",
       "    <tr>\n",
       "      <th>1</th>\n",
       "      <td>2016-01-15 01:00:00</td>\n",
       "      <td>6.029369</td>\n",
       "      <td>9.968944</td>\n",
       "      <td>5.257781</td>\n",
       "      <td>42.701629</td>\n",
       "      <td>69.266198</td>\n",
       "      <td>10.462676</td>\n",
       "      <td>0.927452</td>\n",
       "      <td>16.634514</td>\n",
       "      <td>2.224930</td>\n",
       "      <td>...</td>\n",
       "      <td>13.992281</td>\n",
       "      <td>-505.503262</td>\n",
       "      <td>11.950531</td>\n",
       "      <td>-501.331529</td>\n",
       "      <td>10.039245</td>\n",
       "      <td>-500.169983</td>\n",
       "      <td>7.984757</td>\n",
       "      <td>-500.582168</td>\n",
       "      <td>13.998353</td>\n",
       "      <td>-599.787184</td>\n",
       "    </tr>\n",
       "    <tr>\n",
       "      <th>2</th>\n",
       "      <td>2016-01-15 02:00:00</td>\n",
       "      <td>6.055926</td>\n",
       "      <td>10.213995</td>\n",
       "      <td>5.383759</td>\n",
       "      <td>42.657501</td>\n",
       "      <td>68.116445</td>\n",
       "      <td>10.507046</td>\n",
       "      <td>0.953716</td>\n",
       "      <td>16.208849</td>\n",
       "      <td>2.257889</td>\n",
       "      <td>...</td>\n",
       "      <td>14.015015</td>\n",
       "      <td>-502.520901</td>\n",
       "      <td>11.912783</td>\n",
       "      <td>-501.133383</td>\n",
       "      <td>10.070913</td>\n",
       "      <td>-500.129135</td>\n",
       "      <td>8.013877</td>\n",
       "      <td>-500.517572</td>\n",
       "      <td>14.028663</td>\n",
       "      <td>-601.427363</td>\n",
       "    </tr>\n",
       "    <tr>\n",
       "      <th>3</th>\n",
       "      <td>2016-01-15 03:00:00</td>\n",
       "      <td>6.047977</td>\n",
       "      <td>9.977019</td>\n",
       "      <td>4.858634</td>\n",
       "      <td>42.689819</td>\n",
       "      <td>68.347543</td>\n",
       "      <td>10.422762</td>\n",
       "      <td>0.883763</td>\n",
       "      <td>16.532835</td>\n",
       "      <td>2.146849</td>\n",
       "      <td>...</td>\n",
       "      <td>14.036510</td>\n",
       "      <td>-500.857308</td>\n",
       "      <td>11.999550</td>\n",
       "      <td>-501.193686</td>\n",
       "      <td>9.970366</td>\n",
       "      <td>-499.201640</td>\n",
       "      <td>7.977324</td>\n",
       "      <td>-500.255908</td>\n",
       "      <td>14.005551</td>\n",
       "      <td>-599.996129</td>\n",
       "    </tr>\n",
       "    <tr>\n",
       "      <th>4</th>\n",
       "      <td>2016-01-15 04:00:00</td>\n",
       "      <td>6.148599</td>\n",
       "      <td>10.142511</td>\n",
       "      <td>4.939416</td>\n",
       "      <td>42.774141</td>\n",
       "      <td>66.927016</td>\n",
       "      <td>10.360302</td>\n",
       "      <td>0.792826</td>\n",
       "      <td>16.525686</td>\n",
       "      <td>2.055292</td>\n",
       "      <td>...</td>\n",
       "      <td>14.027298</td>\n",
       "      <td>-499.838632</td>\n",
       "      <td>11.953070</td>\n",
       "      <td>-501.053894</td>\n",
       "      <td>9.925709</td>\n",
       "      <td>-501.686727</td>\n",
       "      <td>7.894242</td>\n",
       "      <td>-500.356035</td>\n",
       "      <td>13.996647</td>\n",
       "      <td>-601.496691</td>\n",
       "    </tr>\n",
       "    <tr>\n",
       "      <th>...</th>\n",
       "      <td>...</td>\n",
       "      <td>...</td>\n",
       "      <td>...</td>\n",
       "      <td>...</td>\n",
       "      <td>...</td>\n",
       "      <td>...</td>\n",
       "      <td>...</td>\n",
       "      <td>...</td>\n",
       "      <td>...</td>\n",
       "      <td>...</td>\n",
       "      <td>...</td>\n",
       "      <td>...</td>\n",
       "      <td>...</td>\n",
       "      <td>...</td>\n",
       "      <td>...</td>\n",
       "      <td>...</td>\n",
       "      <td>...</td>\n",
       "      <td>...</td>\n",
       "      <td>...</td>\n",
       "      <td>...</td>\n",
       "      <td>...</td>\n",
       "    </tr>\n",
       "    <tr>\n",
       "      <th>14144</th>\n",
       "      <td>2018-08-18 06:59:59</td>\n",
       "      <td>3.224920</td>\n",
       "      <td>11.356233</td>\n",
       "      <td>6.803482</td>\n",
       "      <td>46.713954</td>\n",
       "      <td>73.755150</td>\n",
       "      <td>8.769645</td>\n",
       "      <td>3.141541</td>\n",
       "      <td>10.403181</td>\n",
       "      <td>1.529220</td>\n",
       "      <td>...</td>\n",
       "      <td>23.031497</td>\n",
       "      <td>-501.167942</td>\n",
       "      <td>20.007571</td>\n",
       "      <td>-499.740028</td>\n",
       "      <td>18.006038</td>\n",
       "      <td>-499.834374</td>\n",
       "      <td>13.001114</td>\n",
       "      <td>-500.155694</td>\n",
       "      <td>20.007840</td>\n",
       "      <td>-501.296428</td>\n",
       "    </tr>\n",
       "    <tr>\n",
       "      <th>14145</th>\n",
       "      <td>2018-08-18 07:59:59</td>\n",
       "      <td>3.195978</td>\n",
       "      <td>11.349355</td>\n",
       "      <td>6.862249</td>\n",
       "      <td>46.866780</td>\n",
       "      <td>69.049291</td>\n",
       "      <td>8.897321</td>\n",
       "      <td>3.130493</td>\n",
       "      <td>10.549470</td>\n",
       "      <td>1.612542</td>\n",
       "      <td>...</td>\n",
       "      <td>22.960095</td>\n",
       "      <td>-501.612783</td>\n",
       "      <td>20.035660</td>\n",
       "      <td>-500.251357</td>\n",
       "      <td>17.998535</td>\n",
       "      <td>-500.395178</td>\n",
       "      <td>12.954048</td>\n",
       "      <td>-499.895163</td>\n",
       "      <td>19.968498</td>\n",
       "      <td>-501.041608</td>\n",
       "    </tr>\n",
       "    <tr>\n",
       "      <th>14146</th>\n",
       "      <td>2018-08-18 08:59:59</td>\n",
       "      <td>3.109998</td>\n",
       "      <td>11.434366</td>\n",
       "      <td>6.886013</td>\n",
       "      <td>46.795691</td>\n",
       "      <td>67.002189</td>\n",
       "      <td>8.529606</td>\n",
       "      <td>2.911418</td>\n",
       "      <td>11.115147</td>\n",
       "      <td>1.596616</td>\n",
       "      <td>...</td>\n",
       "      <td>23.015718</td>\n",
       "      <td>-501.711599</td>\n",
       "      <td>19.951231</td>\n",
       "      <td>-499.857027</td>\n",
       "      <td>18.019543</td>\n",
       "      <td>-500.451156</td>\n",
       "      <td>13.023431</td>\n",
       "      <td>-499.914391</td>\n",
       "      <td>19.990885</td>\n",
       "      <td>-501.518452</td>\n",
       "    </tr>\n",
       "    <tr>\n",
       "      <th>14147</th>\n",
       "      <td>2018-08-18 09:59:59</td>\n",
       "      <td>3.367241</td>\n",
       "      <td>11.625587</td>\n",
       "      <td>6.799433</td>\n",
       "      <td>46.408188</td>\n",
       "      <td>65.523246</td>\n",
       "      <td>8.777171</td>\n",
       "      <td>2.819214</td>\n",
       "      <td>10.463847</td>\n",
       "      <td>1.602879</td>\n",
       "      <td>...</td>\n",
       "      <td>23.024963</td>\n",
       "      <td>-501.153409</td>\n",
       "      <td>20.054122</td>\n",
       "      <td>-500.314711</td>\n",
       "      <td>17.979515</td>\n",
       "      <td>-499.272871</td>\n",
       "      <td>12.992404</td>\n",
       "      <td>-499.976268</td>\n",
       "      <td>20.013986</td>\n",
       "      <td>-500.625471</td>\n",
       "    </tr>\n",
       "    <tr>\n",
       "      <th>14148</th>\n",
       "      <td>2018-08-18 10:59:59</td>\n",
       "      <td>3.598375</td>\n",
       "      <td>11.737832</td>\n",
       "      <td>6.717509</td>\n",
       "      <td>46.299438</td>\n",
       "      <td>70.281454</td>\n",
       "      <td>8.406690</td>\n",
       "      <td>2.517518</td>\n",
       "      <td>10.652193</td>\n",
       "      <td>1.389434</td>\n",
       "      <td>...</td>\n",
       "      <td>23.018622</td>\n",
       "      <td>-500.492702</td>\n",
       "      <td>20.020205</td>\n",
       "      <td>-500.220296</td>\n",
       "      <td>17.963512</td>\n",
       "      <td>-499.939490</td>\n",
       "      <td>12.990306</td>\n",
       "      <td>-500.080993</td>\n",
       "      <td>19.990336</td>\n",
       "      <td>-499.191575</td>\n",
       "    </tr>\n",
       "  </tbody>\n",
       "</table>\n",
       "<p>14149 rows × 87 columns</p>\n",
       "</div>"
      ],
      "text/plain": [
       "                      date  final.output.concentrate_ag  \\\n",
       "0      2016-01-15 00:00:00                     6.055403   \n",
       "1      2016-01-15 01:00:00                     6.029369   \n",
       "2      2016-01-15 02:00:00                     6.055926   \n",
       "3      2016-01-15 03:00:00                     6.047977   \n",
       "4      2016-01-15 04:00:00                     6.148599   \n",
       "...                    ...                          ...   \n",
       "14144  2018-08-18 06:59:59                     3.224920   \n",
       "14145  2018-08-18 07:59:59                     3.195978   \n",
       "14146  2018-08-18 08:59:59                     3.109998   \n",
       "14147  2018-08-18 09:59:59                     3.367241   \n",
       "14148  2018-08-18 10:59:59                     3.598375   \n",
       "\n",
       "       final.output.concentrate_pb  final.output.concentrate_sol  \\\n",
       "0                         9.889648                      5.507324   \n",
       "1                         9.968944                      5.257781   \n",
       "2                        10.213995                      5.383759   \n",
       "3                         9.977019                      4.858634   \n",
       "4                        10.142511                      4.939416   \n",
       "...                            ...                           ...   \n",
       "14144                    11.356233                      6.803482   \n",
       "14145                    11.349355                      6.862249   \n",
       "14146                    11.434366                      6.886013   \n",
       "14147                    11.625587                      6.799433   \n",
       "14148                    11.737832                      6.717509   \n",
       "\n",
       "       final.output.concentrate_au  final.output.recovery  \\\n",
       "0                        42.192020              70.541216   \n",
       "1                        42.701629              69.266198   \n",
       "2                        42.657501              68.116445   \n",
       "3                        42.689819              68.347543   \n",
       "4                        42.774141              66.927016   \n",
       "...                            ...                    ...   \n",
       "14144                    46.713954              73.755150   \n",
       "14145                    46.866780              69.049291   \n",
       "14146                    46.795691              67.002189   \n",
       "14147                    46.408188              65.523246   \n",
       "14148                    46.299438              70.281454   \n",
       "\n",
       "       final.output.tail_ag  final.output.tail_pb  final.output.tail_sol  \\\n",
       "0                 10.411962              0.895447              16.904297   \n",
       "1                 10.462676              0.927452              16.634514   \n",
       "2                 10.507046              0.953716              16.208849   \n",
       "3                 10.422762              0.883763              16.532835   \n",
       "4                 10.360302              0.792826              16.525686   \n",
       "...                     ...                   ...                    ...   \n",
       "14144              8.769645              3.141541              10.403181   \n",
       "14145              8.897321              3.130493              10.549470   \n",
       "14146              8.529606              2.911418              11.115147   \n",
       "14147              8.777171              2.819214              10.463847   \n",
       "14148              8.406690              2.517518              10.652193   \n",
       "\n",
       "       final.output.tail_au  ...  secondary_cleaner.state.floatbank4_a_air  \\\n",
       "0                  2.143149  ...                                 14.016835   \n",
       "1                  2.224930  ...                                 13.992281   \n",
       "2                  2.257889  ...                                 14.015015   \n",
       "3                  2.146849  ...                                 14.036510   \n",
       "4                  2.055292  ...                                 14.027298   \n",
       "...                     ...  ...                                       ...   \n",
       "14144              1.529220  ...                                 23.031497   \n",
       "14145              1.612542  ...                                 22.960095   \n",
       "14146              1.596616  ...                                 23.015718   \n",
       "14147              1.602879  ...                                 23.024963   \n",
       "14148              1.389434  ...                                 23.018622   \n",
       "\n",
       "       secondary_cleaner.state.floatbank4_a_level  \\\n",
       "0                                     -502.488007   \n",
       "1                                     -505.503262   \n",
       "2                                     -502.520901   \n",
       "3                                     -500.857308   \n",
       "4                                     -499.838632   \n",
       "...                                           ...   \n",
       "14144                                 -501.167942   \n",
       "14145                                 -501.612783   \n",
       "14146                                 -501.711599   \n",
       "14147                                 -501.153409   \n",
       "14148                                 -500.492702   \n",
       "\n",
       "       secondary_cleaner.state.floatbank4_b_air  \\\n",
       "0                                     12.099931   \n",
       "1                                     11.950531   \n",
       "2                                     11.912783   \n",
       "3                                     11.999550   \n",
       "4                                     11.953070   \n",
       "...                                         ...   \n",
       "14144                                 20.007571   \n",
       "14145                                 20.035660   \n",
       "14146                                 19.951231   \n",
       "14147                                 20.054122   \n",
       "14148                                 20.020205   \n",
       "\n",
       "       secondary_cleaner.state.floatbank4_b_level  \\\n",
       "0                                     -504.715942   \n",
       "1                                     -501.331529   \n",
       "2                                     -501.133383   \n",
       "3                                     -501.193686   \n",
       "4                                     -501.053894   \n",
       "...                                           ...   \n",
       "14144                                 -499.740028   \n",
       "14145                                 -500.251357   \n",
       "14146                                 -499.857027   \n",
       "14147                                 -500.314711   \n",
       "14148                                 -500.220296   \n",
       "\n",
       "       secondary_cleaner.state.floatbank5_a_air  \\\n",
       "0                                      9.925633   \n",
       "1                                     10.039245   \n",
       "2                                     10.070913   \n",
       "3                                      9.970366   \n",
       "4                                      9.925709   \n",
       "...                                         ...   \n",
       "14144                                 18.006038   \n",
       "14145                                 17.998535   \n",
       "14146                                 18.019543   \n",
       "14147                                 17.979515   \n",
       "14148                                 17.963512   \n",
       "\n",
       "       secondary_cleaner.state.floatbank5_a_level  \\\n",
       "0                                     -498.310211   \n",
       "1                                     -500.169983   \n",
       "2                                     -500.129135   \n",
       "3                                     -499.201640   \n",
       "4                                     -501.686727   \n",
       "...                                           ...   \n",
       "14144                                 -499.834374   \n",
       "14145                                 -500.395178   \n",
       "14146                                 -500.451156   \n",
       "14147                                 -499.272871   \n",
       "14148                                 -499.939490   \n",
       "\n",
       "       secondary_cleaner.state.floatbank5_b_air  \\\n",
       "0                                      8.079666   \n",
       "1                                      7.984757   \n",
       "2                                      8.013877   \n",
       "3                                      7.977324   \n",
       "4                                      7.894242   \n",
       "...                                         ...   \n",
       "14144                                 13.001114   \n",
       "14145                                 12.954048   \n",
       "14146                                 13.023431   \n",
       "14147                                 12.992404   \n",
       "14148                                 12.990306   \n",
       "\n",
       "       secondary_cleaner.state.floatbank5_b_level  \\\n",
       "0                                     -500.470978   \n",
       "1                                     -500.582168   \n",
       "2                                     -500.517572   \n",
       "3                                     -500.255908   \n",
       "4                                     -500.356035   \n",
       "...                                           ...   \n",
       "14144                                 -500.155694   \n",
       "14145                                 -499.895163   \n",
       "14146                                 -499.914391   \n",
       "14147                                 -499.976268   \n",
       "14148                                 -500.080993   \n",
       "\n",
       "       secondary_cleaner.state.floatbank6_a_air  \\\n",
       "0                                     14.151341   \n",
       "1                                     13.998353   \n",
       "2                                     14.028663   \n",
       "3                                     14.005551   \n",
       "4                                     13.996647   \n",
       "...                                         ...   \n",
       "14144                                 20.007840   \n",
       "14145                                 19.968498   \n",
       "14146                                 19.990885   \n",
       "14147                                 20.013986   \n",
       "14148                                 19.990336   \n",
       "\n",
       "       secondary_cleaner.state.floatbank6_a_level  \n",
       "0                                     -605.841980  \n",
       "1                                     -599.787184  \n",
       "2                                     -601.427363  \n",
       "3                                     -599.996129  \n",
       "4                                     -601.496691  \n",
       "...                                           ...  \n",
       "14144                                 -501.296428  \n",
       "14145                                 -501.041608  \n",
       "14146                                 -501.518452  \n",
       "14147                                 -500.625471  \n",
       "14148                                 -499.191575  \n",
       "\n",
       "[14149 rows x 87 columns]"
      ]
     },
     "metadata": {},
     "output_type": "display_data"
    },
    {
     "data": {
      "text/html": [
       "<div>\n",
       "<style scoped>\n",
       "    .dataframe tbody tr th:only-of-type {\n",
       "        vertical-align: middle;\n",
       "    }\n",
       "\n",
       "    .dataframe tbody tr th {\n",
       "        vertical-align: top;\n",
       "    }\n",
       "\n",
       "    .dataframe thead th {\n",
       "        text-align: right;\n",
       "    }\n",
       "</style>\n",
       "<table border=\"1\" class=\"dataframe\">\n",
       "  <thead>\n",
       "    <tr style=\"text-align: right;\">\n",
       "      <th></th>\n",
       "      <th>date</th>\n",
       "      <th>primary_cleaner.input.sulfate</th>\n",
       "      <th>primary_cleaner.input.depressant</th>\n",
       "      <th>primary_cleaner.input.feed_size</th>\n",
       "      <th>primary_cleaner.input.xanthate</th>\n",
       "      <th>primary_cleaner.state.floatbank8_a_air</th>\n",
       "      <th>primary_cleaner.state.floatbank8_a_level</th>\n",
       "      <th>primary_cleaner.state.floatbank8_b_air</th>\n",
       "      <th>primary_cleaner.state.floatbank8_b_level</th>\n",
       "      <th>primary_cleaner.state.floatbank8_c_air</th>\n",
       "      <th>...</th>\n",
       "      <th>secondary_cleaner.state.floatbank4_a_air</th>\n",
       "      <th>secondary_cleaner.state.floatbank4_a_level</th>\n",
       "      <th>secondary_cleaner.state.floatbank4_b_air</th>\n",
       "      <th>secondary_cleaner.state.floatbank4_b_level</th>\n",
       "      <th>secondary_cleaner.state.floatbank5_a_air</th>\n",
       "      <th>secondary_cleaner.state.floatbank5_a_level</th>\n",
       "      <th>secondary_cleaner.state.floatbank5_b_air</th>\n",
       "      <th>secondary_cleaner.state.floatbank5_b_level</th>\n",
       "      <th>secondary_cleaner.state.floatbank6_a_air</th>\n",
       "      <th>secondary_cleaner.state.floatbank6_a_level</th>\n",
       "    </tr>\n",
       "  </thead>\n",
       "  <tbody>\n",
       "    <tr>\n",
       "      <th>0</th>\n",
       "      <td>2016-09-01 00:59:59</td>\n",
       "      <td>210.800909</td>\n",
       "      <td>14.993118</td>\n",
       "      <td>8.080000</td>\n",
       "      <td>1.005021</td>\n",
       "      <td>1398.981301</td>\n",
       "      <td>-500.225577</td>\n",
       "      <td>1399.144926</td>\n",
       "      <td>-499.919735</td>\n",
       "      <td>1400.102998</td>\n",
       "      <td>...</td>\n",
       "      <td>12.023554</td>\n",
       "      <td>-497.795834</td>\n",
       "      <td>8.016656</td>\n",
       "      <td>-501.289139</td>\n",
       "      <td>7.946562</td>\n",
       "      <td>-432.317850</td>\n",
       "      <td>4.872511</td>\n",
       "      <td>-500.037437</td>\n",
       "      <td>26.705889</td>\n",
       "      <td>-499.709414</td>\n",
       "    </tr>\n",
       "    <tr>\n",
       "      <th>1</th>\n",
       "      <td>2016-09-01 01:59:59</td>\n",
       "      <td>215.392455</td>\n",
       "      <td>14.987471</td>\n",
       "      <td>8.080000</td>\n",
       "      <td>0.990469</td>\n",
       "      <td>1398.777912</td>\n",
       "      <td>-500.057435</td>\n",
       "      <td>1398.055362</td>\n",
       "      <td>-499.778182</td>\n",
       "      <td>1396.151033</td>\n",
       "      <td>...</td>\n",
       "      <td>12.058140</td>\n",
       "      <td>-498.695773</td>\n",
       "      <td>8.130979</td>\n",
       "      <td>-499.634209</td>\n",
       "      <td>7.958270</td>\n",
       "      <td>-525.839648</td>\n",
       "      <td>4.878850</td>\n",
       "      <td>-500.162375</td>\n",
       "      <td>25.019940</td>\n",
       "      <td>-499.819438</td>\n",
       "    </tr>\n",
       "    <tr>\n",
       "      <th>2</th>\n",
       "      <td>2016-09-01 02:59:59</td>\n",
       "      <td>215.259946</td>\n",
       "      <td>12.884934</td>\n",
       "      <td>7.786667</td>\n",
       "      <td>0.996043</td>\n",
       "      <td>1398.493666</td>\n",
       "      <td>-500.868360</td>\n",
       "      <td>1398.860436</td>\n",
       "      <td>-499.764529</td>\n",
       "      <td>1398.075709</td>\n",
       "      <td>...</td>\n",
       "      <td>11.962366</td>\n",
       "      <td>-498.767484</td>\n",
       "      <td>8.096893</td>\n",
       "      <td>-500.827423</td>\n",
       "      <td>8.071056</td>\n",
       "      <td>-500.801673</td>\n",
       "      <td>4.905125</td>\n",
       "      <td>-499.828510</td>\n",
       "      <td>24.994862</td>\n",
       "      <td>-500.622559</td>\n",
       "    </tr>\n",
       "    <tr>\n",
       "      <th>3</th>\n",
       "      <td>2016-09-01 03:59:59</td>\n",
       "      <td>215.336236</td>\n",
       "      <td>12.006805</td>\n",
       "      <td>7.640000</td>\n",
       "      <td>0.863514</td>\n",
       "      <td>1399.618111</td>\n",
       "      <td>-498.863574</td>\n",
       "      <td>1397.440120</td>\n",
       "      <td>-499.211024</td>\n",
       "      <td>1400.129303</td>\n",
       "      <td>...</td>\n",
       "      <td>12.033091</td>\n",
       "      <td>-498.350935</td>\n",
       "      <td>8.074946</td>\n",
       "      <td>-499.474407</td>\n",
       "      <td>7.897085</td>\n",
       "      <td>-500.868509</td>\n",
       "      <td>4.931400</td>\n",
       "      <td>-499.963623</td>\n",
       "      <td>24.948919</td>\n",
       "      <td>-498.709987</td>\n",
       "    </tr>\n",
       "    <tr>\n",
       "      <th>4</th>\n",
       "      <td>2016-09-01 04:59:59</td>\n",
       "      <td>199.099327</td>\n",
       "      <td>10.682530</td>\n",
       "      <td>7.530000</td>\n",
       "      <td>0.805575</td>\n",
       "      <td>1401.268123</td>\n",
       "      <td>-500.808305</td>\n",
       "      <td>1398.128818</td>\n",
       "      <td>-499.504543</td>\n",
       "      <td>1402.172226</td>\n",
       "      <td>...</td>\n",
       "      <td>12.025367</td>\n",
       "      <td>-500.786497</td>\n",
       "      <td>8.054678</td>\n",
       "      <td>-500.397500</td>\n",
       "      <td>8.107890</td>\n",
       "      <td>-509.526725</td>\n",
       "      <td>4.957674</td>\n",
       "      <td>-500.360026</td>\n",
       "      <td>25.003331</td>\n",
       "      <td>-500.856333</td>\n",
       "    </tr>\n",
       "    <tr>\n",
       "      <th>...</th>\n",
       "      <td>...</td>\n",
       "      <td>...</td>\n",
       "      <td>...</td>\n",
       "      <td>...</td>\n",
       "      <td>...</td>\n",
       "      <td>...</td>\n",
       "      <td>...</td>\n",
       "      <td>...</td>\n",
       "      <td>...</td>\n",
       "      <td>...</td>\n",
       "      <td>...</td>\n",
       "      <td>...</td>\n",
       "      <td>...</td>\n",
       "      <td>...</td>\n",
       "      <td>...</td>\n",
       "      <td>...</td>\n",
       "      <td>...</td>\n",
       "      <td>...</td>\n",
       "      <td>...</td>\n",
       "      <td>...</td>\n",
       "      <td>...</td>\n",
       "    </tr>\n",
       "    <tr>\n",
       "      <th>5285</th>\n",
       "      <td>2017-12-31 19:59:59</td>\n",
       "      <td>173.957757</td>\n",
       "      <td>15.963399</td>\n",
       "      <td>8.070000</td>\n",
       "      <td>0.896701</td>\n",
       "      <td>1401.930554</td>\n",
       "      <td>-499.728848</td>\n",
       "      <td>1401.441445</td>\n",
       "      <td>-499.193423</td>\n",
       "      <td>1399.810313</td>\n",
       "      <td>...</td>\n",
       "      <td>13.995957</td>\n",
       "      <td>-500.157454</td>\n",
       "      <td>12.069155</td>\n",
       "      <td>-499.673279</td>\n",
       "      <td>7.977259</td>\n",
       "      <td>-499.516126</td>\n",
       "      <td>5.933319</td>\n",
       "      <td>-499.965973</td>\n",
       "      <td>8.987171</td>\n",
       "      <td>-499.755909</td>\n",
       "    </tr>\n",
       "    <tr>\n",
       "      <th>5286</th>\n",
       "      <td>2017-12-31 20:59:59</td>\n",
       "      <td>172.910270</td>\n",
       "      <td>16.002605</td>\n",
       "      <td>8.070000</td>\n",
       "      <td>0.896519</td>\n",
       "      <td>1447.075722</td>\n",
       "      <td>-494.716823</td>\n",
       "      <td>1448.851892</td>\n",
       "      <td>-465.963026</td>\n",
       "      <td>1443.890424</td>\n",
       "      <td>...</td>\n",
       "      <td>16.749781</td>\n",
       "      <td>-496.031539</td>\n",
       "      <td>13.365371</td>\n",
       "      <td>-499.122723</td>\n",
       "      <td>9.288553</td>\n",
       "      <td>-496.892967</td>\n",
       "      <td>7.372897</td>\n",
       "      <td>-499.942956</td>\n",
       "      <td>8.986832</td>\n",
       "      <td>-499.903761</td>\n",
       "    </tr>\n",
       "    <tr>\n",
       "      <th>5287</th>\n",
       "      <td>2017-12-31 21:59:59</td>\n",
       "      <td>171.135718</td>\n",
       "      <td>15.993669</td>\n",
       "      <td>8.070000</td>\n",
       "      <td>1.165996</td>\n",
       "      <td>1498.836182</td>\n",
       "      <td>-501.770403</td>\n",
       "      <td>1499.572353</td>\n",
       "      <td>-495.516347</td>\n",
       "      <td>1502.749213</td>\n",
       "      <td>...</td>\n",
       "      <td>19.994130</td>\n",
       "      <td>-499.791312</td>\n",
       "      <td>15.101425</td>\n",
       "      <td>-499.936252</td>\n",
       "      <td>10.989181</td>\n",
       "      <td>-498.347898</td>\n",
       "      <td>9.020944</td>\n",
       "      <td>-500.040448</td>\n",
       "      <td>8.982038</td>\n",
       "      <td>-497.789882</td>\n",
       "    </tr>\n",
       "    <tr>\n",
       "      <th>5288</th>\n",
       "      <td>2017-12-31 22:59:59</td>\n",
       "      <td>179.697158</td>\n",
       "      <td>15.438979</td>\n",
       "      <td>8.070000</td>\n",
       "      <td>1.501068</td>\n",
       "      <td>1498.466243</td>\n",
       "      <td>-500.483984</td>\n",
       "      <td>1497.986986</td>\n",
       "      <td>-519.200340</td>\n",
       "      <td>1496.569047</td>\n",
       "      <td>...</td>\n",
       "      <td>19.958760</td>\n",
       "      <td>-499.958750</td>\n",
       "      <td>15.026853</td>\n",
       "      <td>-499.723143</td>\n",
       "      <td>11.011607</td>\n",
       "      <td>-499.985046</td>\n",
       "      <td>9.009783</td>\n",
       "      <td>-499.937902</td>\n",
       "      <td>9.012660</td>\n",
       "      <td>-500.154284</td>\n",
       "    </tr>\n",
       "    <tr>\n",
       "      <th>5289</th>\n",
       "      <td>2017-12-31 23:59:59</td>\n",
       "      <td>181.556856</td>\n",
       "      <td>14.995850</td>\n",
       "      <td>8.070000</td>\n",
       "      <td>1.623454</td>\n",
       "      <td>1498.096303</td>\n",
       "      <td>-499.796922</td>\n",
       "      <td>1501.743791</td>\n",
       "      <td>-505.146931</td>\n",
       "      <td>1499.535978</td>\n",
       "      <td>...</td>\n",
       "      <td>20.034715</td>\n",
       "      <td>-500.728588</td>\n",
       "      <td>14.914199</td>\n",
       "      <td>-499.948518</td>\n",
       "      <td>10.986607</td>\n",
       "      <td>-500.658027</td>\n",
       "      <td>8.989497</td>\n",
       "      <td>-500.337588</td>\n",
       "      <td>8.988632</td>\n",
       "      <td>-500.764937</td>\n",
       "    </tr>\n",
       "  </tbody>\n",
       "</table>\n",
       "<p>5290 rows × 53 columns</p>\n",
       "</div>"
      ],
      "text/plain": [
       "                     date  primary_cleaner.input.sulfate  \\\n",
       "0     2016-09-01 00:59:59                     210.800909   \n",
       "1     2016-09-01 01:59:59                     215.392455   \n",
       "2     2016-09-01 02:59:59                     215.259946   \n",
       "3     2016-09-01 03:59:59                     215.336236   \n",
       "4     2016-09-01 04:59:59                     199.099327   \n",
       "...                   ...                            ...   \n",
       "5285  2017-12-31 19:59:59                     173.957757   \n",
       "5286  2017-12-31 20:59:59                     172.910270   \n",
       "5287  2017-12-31 21:59:59                     171.135718   \n",
       "5288  2017-12-31 22:59:59                     179.697158   \n",
       "5289  2017-12-31 23:59:59                     181.556856   \n",
       "\n",
       "      primary_cleaner.input.depressant  primary_cleaner.input.feed_size  \\\n",
       "0                            14.993118                         8.080000   \n",
       "1                            14.987471                         8.080000   \n",
       "2                            12.884934                         7.786667   \n",
       "3                            12.006805                         7.640000   \n",
       "4                            10.682530                         7.530000   \n",
       "...                                ...                              ...   \n",
       "5285                         15.963399                         8.070000   \n",
       "5286                         16.002605                         8.070000   \n",
       "5287                         15.993669                         8.070000   \n",
       "5288                         15.438979                         8.070000   \n",
       "5289                         14.995850                         8.070000   \n",
       "\n",
       "      primary_cleaner.input.xanthate  primary_cleaner.state.floatbank8_a_air  \\\n",
       "0                           1.005021                             1398.981301   \n",
       "1                           0.990469                             1398.777912   \n",
       "2                           0.996043                             1398.493666   \n",
       "3                           0.863514                             1399.618111   \n",
       "4                           0.805575                             1401.268123   \n",
       "...                              ...                                     ...   \n",
       "5285                        0.896701                             1401.930554   \n",
       "5286                        0.896519                             1447.075722   \n",
       "5287                        1.165996                             1498.836182   \n",
       "5288                        1.501068                             1498.466243   \n",
       "5289                        1.623454                             1498.096303   \n",
       "\n",
       "      primary_cleaner.state.floatbank8_a_level  \\\n",
       "0                                  -500.225577   \n",
       "1                                  -500.057435   \n",
       "2                                  -500.868360   \n",
       "3                                  -498.863574   \n",
       "4                                  -500.808305   \n",
       "...                                        ...   \n",
       "5285                               -499.728848   \n",
       "5286                               -494.716823   \n",
       "5287                               -501.770403   \n",
       "5288                               -500.483984   \n",
       "5289                               -499.796922   \n",
       "\n",
       "      primary_cleaner.state.floatbank8_b_air  \\\n",
       "0                                1399.144926   \n",
       "1                                1398.055362   \n",
       "2                                1398.860436   \n",
       "3                                1397.440120   \n",
       "4                                1398.128818   \n",
       "...                                      ...   \n",
       "5285                             1401.441445   \n",
       "5286                             1448.851892   \n",
       "5287                             1499.572353   \n",
       "5288                             1497.986986   \n",
       "5289                             1501.743791   \n",
       "\n",
       "      primary_cleaner.state.floatbank8_b_level  \\\n",
       "0                                  -499.919735   \n",
       "1                                  -499.778182   \n",
       "2                                  -499.764529   \n",
       "3                                  -499.211024   \n",
       "4                                  -499.504543   \n",
       "...                                        ...   \n",
       "5285                               -499.193423   \n",
       "5286                               -465.963026   \n",
       "5287                               -495.516347   \n",
       "5288                               -519.200340   \n",
       "5289                               -505.146931   \n",
       "\n",
       "      primary_cleaner.state.floatbank8_c_air  ...  \\\n",
       "0                                1400.102998  ...   \n",
       "1                                1396.151033  ...   \n",
       "2                                1398.075709  ...   \n",
       "3                                1400.129303  ...   \n",
       "4                                1402.172226  ...   \n",
       "...                                      ...  ...   \n",
       "5285                             1399.810313  ...   \n",
       "5286                             1443.890424  ...   \n",
       "5287                             1502.749213  ...   \n",
       "5288                             1496.569047  ...   \n",
       "5289                             1499.535978  ...   \n",
       "\n",
       "      secondary_cleaner.state.floatbank4_a_air  \\\n",
       "0                                    12.023554   \n",
       "1                                    12.058140   \n",
       "2                                    11.962366   \n",
       "3                                    12.033091   \n",
       "4                                    12.025367   \n",
       "...                                        ...   \n",
       "5285                                 13.995957   \n",
       "5286                                 16.749781   \n",
       "5287                                 19.994130   \n",
       "5288                                 19.958760   \n",
       "5289                                 20.034715   \n",
       "\n",
       "      secondary_cleaner.state.floatbank4_a_level  \\\n",
       "0                                    -497.795834   \n",
       "1                                    -498.695773   \n",
       "2                                    -498.767484   \n",
       "3                                    -498.350935   \n",
       "4                                    -500.786497   \n",
       "...                                          ...   \n",
       "5285                                 -500.157454   \n",
       "5286                                 -496.031539   \n",
       "5287                                 -499.791312   \n",
       "5288                                 -499.958750   \n",
       "5289                                 -500.728588   \n",
       "\n",
       "      secondary_cleaner.state.floatbank4_b_air  \\\n",
       "0                                     8.016656   \n",
       "1                                     8.130979   \n",
       "2                                     8.096893   \n",
       "3                                     8.074946   \n",
       "4                                     8.054678   \n",
       "...                                        ...   \n",
       "5285                                 12.069155   \n",
       "5286                                 13.365371   \n",
       "5287                                 15.101425   \n",
       "5288                                 15.026853   \n",
       "5289                                 14.914199   \n",
       "\n",
       "      secondary_cleaner.state.floatbank4_b_level  \\\n",
       "0                                    -501.289139   \n",
       "1                                    -499.634209   \n",
       "2                                    -500.827423   \n",
       "3                                    -499.474407   \n",
       "4                                    -500.397500   \n",
       "...                                          ...   \n",
       "5285                                 -499.673279   \n",
       "5286                                 -499.122723   \n",
       "5287                                 -499.936252   \n",
       "5288                                 -499.723143   \n",
       "5289                                 -499.948518   \n",
       "\n",
       "      secondary_cleaner.state.floatbank5_a_air  \\\n",
       "0                                     7.946562   \n",
       "1                                     7.958270   \n",
       "2                                     8.071056   \n",
       "3                                     7.897085   \n",
       "4                                     8.107890   \n",
       "...                                        ...   \n",
       "5285                                  7.977259   \n",
       "5286                                  9.288553   \n",
       "5287                                 10.989181   \n",
       "5288                                 11.011607   \n",
       "5289                                 10.986607   \n",
       "\n",
       "      secondary_cleaner.state.floatbank5_a_level  \\\n",
       "0                                    -432.317850   \n",
       "1                                    -525.839648   \n",
       "2                                    -500.801673   \n",
       "3                                    -500.868509   \n",
       "4                                    -509.526725   \n",
       "...                                          ...   \n",
       "5285                                 -499.516126   \n",
       "5286                                 -496.892967   \n",
       "5287                                 -498.347898   \n",
       "5288                                 -499.985046   \n",
       "5289                                 -500.658027   \n",
       "\n",
       "      secondary_cleaner.state.floatbank5_b_air  \\\n",
       "0                                     4.872511   \n",
       "1                                     4.878850   \n",
       "2                                     4.905125   \n",
       "3                                     4.931400   \n",
       "4                                     4.957674   \n",
       "...                                        ...   \n",
       "5285                                  5.933319   \n",
       "5286                                  7.372897   \n",
       "5287                                  9.020944   \n",
       "5288                                  9.009783   \n",
       "5289                                  8.989497   \n",
       "\n",
       "      secondary_cleaner.state.floatbank5_b_level  \\\n",
       "0                                    -500.037437   \n",
       "1                                    -500.162375   \n",
       "2                                    -499.828510   \n",
       "3                                    -499.963623   \n",
       "4                                    -500.360026   \n",
       "...                                          ...   \n",
       "5285                                 -499.965973   \n",
       "5286                                 -499.942956   \n",
       "5287                                 -500.040448   \n",
       "5288                                 -499.937902   \n",
       "5289                                 -500.337588   \n",
       "\n",
       "      secondary_cleaner.state.floatbank6_a_air  \\\n",
       "0                                    26.705889   \n",
       "1                                    25.019940   \n",
       "2                                    24.994862   \n",
       "3                                    24.948919   \n",
       "4                                    25.003331   \n",
       "...                                        ...   \n",
       "5285                                  8.987171   \n",
       "5286                                  8.986832   \n",
       "5287                                  8.982038   \n",
       "5288                                  9.012660   \n",
       "5289                                  8.988632   \n",
       "\n",
       "      secondary_cleaner.state.floatbank6_a_level  \n",
       "0                                    -499.709414  \n",
       "1                                    -499.819438  \n",
       "2                                    -500.622559  \n",
       "3                                    -498.709987  \n",
       "4                                    -500.856333  \n",
       "...                                          ...  \n",
       "5285                                 -499.755909  \n",
       "5286                                 -499.903761  \n",
       "5287                                 -497.789882  \n",
       "5288                                 -500.154284  \n",
       "5289                                 -500.764937  \n",
       "\n",
       "[5290 rows x 53 columns]"
      ]
     },
     "metadata": {},
     "output_type": "display_data"
    }
   ],
   "source": [
    "for data in datasets:\n",
    "    display(data)"
   ]
  },
  {
   "cell_type": "markdown",
   "metadata": {},
   "source": [
    "Проверим количество пропусков в датасетах"
   ]
  },
  {
   "cell_type": "code",
   "execution_count": 7,
   "metadata": {
    "scrolled": true
   },
   "outputs": [
    {
     "name": "stdout",
     "output_type": "stream",
     "text": [
      "date                                            0\n",
      "final.output.concentrate_ag                     1\n",
      "final.output.concentrate_pb                     1\n",
      "final.output.concentrate_sol                  211\n",
      "final.output.concentrate_au                     0\n",
      "                                             ... \n",
      "secondary_cleaner.state.floatbank5_a_level      1\n",
      "secondary_cleaner.state.floatbank5_b_air        1\n",
      "secondary_cleaner.state.floatbank5_b_level      1\n",
      "secondary_cleaner.state.floatbank6_a_air        2\n",
      "secondary_cleaner.state.floatbank6_a_level      1\n",
      "Length: 87, dtype: int64\n",
      "date                                            0\n",
      "final.output.concentrate_ag                     1\n",
      "final.output.concentrate_pb                     1\n",
      "final.output.concentrate_sol                  211\n",
      "final.output.concentrate_au                     0\n",
      "                                             ... \n",
      "secondary_cleaner.state.floatbank5_a_level      1\n",
      "secondary_cleaner.state.floatbank5_b_air        1\n",
      "secondary_cleaner.state.floatbank5_b_level      1\n",
      "secondary_cleaner.state.floatbank6_a_air        2\n",
      "secondary_cleaner.state.floatbank6_a_level      1\n",
      "Length: 87, dtype: int64\n",
      "date                                           0\n",
      "primary_cleaner.input.sulfate                  4\n",
      "primary_cleaner.input.depressant               5\n",
      "primary_cleaner.input.feed_size                0\n",
      "primary_cleaner.input.xanthate                 4\n",
      "primary_cleaner.state.floatbank8_a_air         0\n",
      "primary_cleaner.state.floatbank8_a_level       0\n",
      "primary_cleaner.state.floatbank8_b_air         0\n",
      "primary_cleaner.state.floatbank8_b_level       0\n",
      "primary_cleaner.state.floatbank8_c_air         0\n",
      "primary_cleaner.state.floatbank8_c_level       0\n",
      "primary_cleaner.state.floatbank8_d_air         0\n",
      "primary_cleaner.state.floatbank8_d_level       0\n",
      "rougher.input.feed_ag                          0\n",
      "rougher.input.feed_pb                          0\n",
      "rougher.input.feed_rate                        3\n",
      "rougher.input.feed_size                        1\n",
      "rougher.input.feed_sol                        21\n",
      "rougher.input.feed_au                          0\n",
      "rougher.input.floatbank10_sulfate              5\n",
      "rougher.input.floatbank10_xanthate             0\n",
      "rougher.input.floatbank11_sulfate              8\n",
      "rougher.input.floatbank11_xanthate            25\n",
      "rougher.state.floatbank10_a_air                0\n",
      "rougher.state.floatbank10_a_level              0\n",
      "rougher.state.floatbank10_b_air                0\n",
      "rougher.state.floatbank10_b_level              0\n",
      "rougher.state.floatbank10_c_air                0\n",
      "rougher.state.floatbank10_c_level              0\n",
      "rougher.state.floatbank10_d_air                0\n",
      "rougher.state.floatbank10_d_level              0\n",
      "rougher.state.floatbank10_e_air                0\n",
      "rougher.state.floatbank10_e_level              0\n",
      "rougher.state.floatbank10_f_air                0\n",
      "rougher.state.floatbank10_f_level              0\n",
      "secondary_cleaner.state.floatbank2_a_air       3\n",
      "secondary_cleaner.state.floatbank2_a_level     0\n",
      "secondary_cleaner.state.floatbank2_b_air       2\n",
      "secondary_cleaner.state.floatbank2_b_level     0\n",
      "secondary_cleaner.state.floatbank3_a_air       9\n",
      "secondary_cleaner.state.floatbank3_a_level     0\n",
      "secondary_cleaner.state.floatbank3_b_air       0\n",
      "secondary_cleaner.state.floatbank3_b_level     0\n",
      "secondary_cleaner.state.floatbank4_a_air       0\n",
      "secondary_cleaner.state.floatbank4_a_level     0\n",
      "secondary_cleaner.state.floatbank4_b_air       0\n",
      "secondary_cleaner.state.floatbank4_b_level     0\n",
      "secondary_cleaner.state.floatbank5_a_air       0\n",
      "secondary_cleaner.state.floatbank5_a_level     0\n",
      "secondary_cleaner.state.floatbank5_b_air       0\n",
      "secondary_cleaner.state.floatbank5_b_level     0\n",
      "secondary_cleaner.state.floatbank6_a_air       0\n",
      "secondary_cleaner.state.floatbank6_a_level     0\n",
      "dtype: int64\n"
     ]
    }
   ],
   "source": [
    "for data in datasets:\n",
    "    print(data.isna().sum())"
   ]
  },
  {
   "cell_type": "markdown",
   "metadata": {},
   "source": [
    "Пропуски встречаются во всех таблицах в различных столбцах. Посмотрим сколько процентов данных пропущено"
   ]
  },
  {
   "cell_type": "code",
   "execution_count": 8,
   "metadata": {},
   "outputs": [],
   "source": [
    "def print_na_percent(data):\n",
    "    print(data.isnull().sum().sort_values(ascending=False) / data.shape[0] * 100)"
   ]
  },
  {
   "cell_type": "code",
   "execution_count": 9,
   "metadata": {
    "scrolled": true
   },
   "outputs": [
    {
     "name": "stdout",
     "output_type": "stream",
     "text": [
      "secondary_cleaner.output.tail_sol           8.992232\n",
      "rougher.input.floatbank11_xanthate          2.330367\n",
      "rougher.state.floatbank10_e_air             2.242914\n",
      "primary_cleaner.output.concentrate_sol      1.903390\n",
      "secondary_cleaner.state.floatbank2_a_air    1.131745\n",
      "                                              ...   \n",
      "rougher.state.floatbank10_d_level           0.000000\n",
      "rougher.state.floatbank10_d_air             0.000000\n",
      "rougher.output.tail_pb                      0.000000\n",
      "rougher.output.tail_sol                     0.000000\n",
      "date                                        0.000000\n",
      "Length: 87, dtype: float64\n",
      "secondary_cleaner.output.tail_sol           11.343558\n",
      "rougher.state.floatbank10_e_air              3.081490\n",
      "rougher.input.floatbank11_xanthate           3.024949\n",
      "primary_cleaner.output.concentrate_sol       2.021344\n",
      "secondary_cleaner.state.floatbank2_a_air     1.533677\n",
      "                                              ...    \n",
      "rougher.output.concentrate_pb                0.000000\n",
      "rougher.output.concentrate_au                0.000000\n",
      "rougher.output.recovery                      0.000000\n",
      "rougher.output.tail_pb                       0.000000\n",
      "date                                         0.000000\n",
      "Length: 87, dtype: float64\n",
      "rougher.input.floatbank11_xanthate            0.472590\n",
      "rougher.input.feed_sol                        0.396975\n",
      "secondary_cleaner.state.floatbank3_a_air      0.170132\n",
      "rougher.input.floatbank11_sulfate             0.151229\n",
      "primary_cleaner.input.depressant              0.094518\n",
      "rougher.input.floatbank10_sulfate             0.094518\n",
      "primary_cleaner.input.xanthate                0.075614\n",
      "primary_cleaner.input.sulfate                 0.075614\n",
      "rougher.input.feed_rate                       0.056711\n",
      "secondary_cleaner.state.floatbank2_a_air      0.056711\n",
      "secondary_cleaner.state.floatbank2_b_air      0.037807\n",
      "rougher.input.feed_size                       0.018904\n",
      "secondary_cleaner.state.floatbank2_b_level    0.000000\n",
      "rougher.state.floatbank10_f_level             0.000000\n",
      "rougher.state.floatbank10_f_air               0.000000\n",
      "secondary_cleaner.state.floatbank3_a_level    0.000000\n",
      "secondary_cleaner.state.floatbank2_a_level    0.000000\n",
      "date                                          0.000000\n",
      "rougher.state.floatbank10_e_air               0.000000\n",
      "secondary_cleaner.state.floatbank3_b_air      0.000000\n",
      "secondary_cleaner.state.floatbank3_b_level    0.000000\n",
      "secondary_cleaner.state.floatbank4_a_air      0.000000\n",
      "secondary_cleaner.state.floatbank4_a_level    0.000000\n",
      "secondary_cleaner.state.floatbank4_b_air      0.000000\n",
      "secondary_cleaner.state.floatbank4_b_level    0.000000\n",
      "secondary_cleaner.state.floatbank5_a_air      0.000000\n",
      "secondary_cleaner.state.floatbank5_a_level    0.000000\n",
      "secondary_cleaner.state.floatbank5_b_air      0.000000\n",
      "secondary_cleaner.state.floatbank5_b_level    0.000000\n",
      "secondary_cleaner.state.floatbank6_a_air      0.000000\n",
      "rougher.state.floatbank10_e_level             0.000000\n",
      "rougher.state.floatbank10_b_level             0.000000\n",
      "rougher.state.floatbank10_d_level             0.000000\n",
      "primary_cleaner.state.floatbank8_d_level      0.000000\n",
      "primary_cleaner.input.feed_size               0.000000\n",
      "primary_cleaner.state.floatbank8_a_air        0.000000\n",
      "primary_cleaner.state.floatbank8_a_level      0.000000\n",
      "primary_cleaner.state.floatbank8_b_air        0.000000\n",
      "primary_cleaner.state.floatbank8_b_level      0.000000\n",
      "primary_cleaner.state.floatbank8_c_air        0.000000\n",
      "primary_cleaner.state.floatbank8_c_level      0.000000\n",
      "primary_cleaner.state.floatbank8_d_air        0.000000\n",
      "rougher.input.feed_ag                         0.000000\n",
      "rougher.state.floatbank10_d_air               0.000000\n",
      "rougher.input.feed_pb                         0.000000\n",
      "rougher.input.feed_au                         0.000000\n",
      "rougher.input.floatbank10_xanthate            0.000000\n",
      "rougher.state.floatbank10_a_air               0.000000\n",
      "rougher.state.floatbank10_a_level             0.000000\n",
      "rougher.state.floatbank10_b_air               0.000000\n",
      "rougher.state.floatbank10_c_air               0.000000\n",
      "rougher.state.floatbank10_c_level             0.000000\n",
      "secondary_cleaner.state.floatbank6_a_level    0.000000\n",
      "dtype: float64\n"
     ]
    }
   ],
   "source": [
    "for data in datasets:\n",
    "    print_na_percent(data)"
   ]
  },
  {
   "cell_type": "markdown",
   "metadata": {},
   "source": [
    "В задании сказано, что соседние по времени параметры часто похожи, поэтому заполним пропуски, используя соседние значения."
   ]
  },
  {
   "cell_type": "code",
   "execution_count": 10,
   "metadata": {},
   "outputs": [
    {
     "name": "stdout",
     "output_type": "stream",
     "text": [
      "В train есть пропуски:  False\n",
      "В test есть пропуски:  False\n"
     ]
    }
   ],
   "source": [
    "train = train.fillna(method='ffill')\n",
    "test = test.fillna(method='ffill')\n",
    "\n",
    "print('В train есть пропуски: ', train.isnull().values.any())\n",
    "print('В test есть пропуски: ', test.isnull().values.any())"
   ]
  },
  {
   "cell_type": "markdown",
   "metadata": {},
   "source": [
    "Теперь пропусков нет."
   ]
  },
  {
   "cell_type": "markdown",
   "metadata": {},
   "source": [
    "Найдём столбцы, которые есть в тренировочной выборке, но нет в тестовой"
   ]
  },
  {
   "cell_type": "code",
   "execution_count": 11,
   "metadata": {},
   "outputs": [],
   "source": [
    "def fields_diff(first_df, second_df):\n",
    "    return set(first_df.columns.to_list()) - set(second_df.columns.to_list())"
   ]
  },
  {
   "cell_type": "code",
   "execution_count": 12,
   "metadata": {
    "scrolled": true
   },
   "outputs": [
    {
     "name": "stdout",
     "output_type": "stream",
     "text": [
      "primary_cleaner.output.tail_au                        float64\n",
      "rougher.output.tail_sol                               float64\n",
      "final.output.tail_sol                                 float64\n",
      "secondary_cleaner.output.tail_pb                      float64\n",
      "rougher.output.tail_au                                float64\n",
      "final.output.concentrate_sol                          float64\n",
      "final.output.tail_au                                  float64\n",
      "final.output.tail_ag                                  float64\n",
      "secondary_cleaner.output.tail_sol                     float64\n",
      "secondary_cleaner.output.tail_au                      float64\n",
      "rougher.calculation.sulfate_to_au_concentrate         float64\n",
      "final.output.concentrate_pb                           float64\n",
      "primary_cleaner.output.tail_pb                        float64\n",
      "rougher.output.concentrate_au                         float64\n",
      "primary_cleaner.output.tail_ag                        float64\n",
      "rougher.output.tail_pb                                float64\n",
      "primary_cleaner.output.concentrate_sol                float64\n",
      "primary_cleaner.output.concentrate_ag                 float64\n",
      "rougher.output.tail_ag                                float64\n",
      "secondary_cleaner.output.tail_ag                      float64\n",
      "rougher.output.concentrate_ag                         float64\n",
      "primary_cleaner.output.tail_sol                       float64\n",
      "final.output.concentrate_ag                           float64\n",
      "primary_cleaner.output.concentrate_pb                 float64\n",
      "rougher.output.concentrate_sol                        float64\n",
      "final.output.tail_pb                                  float64\n",
      "rougher.calculation.au_pb_ratio                       float64\n",
      "rougher.calculation.floatbank10_sulfate_to_au_feed    float64\n",
      "primary_cleaner.output.concentrate_au                 float64\n",
      "rougher.output.concentrate_pb                         float64\n",
      "rougher.calculation.floatbank11_sulfate_to_au_feed    float64\n",
      "final.output.concentrate_au                           float64\n",
      "final.output.recovery                                 float64\n",
      "rougher.output.recovery                               float64\n",
      "dtype: object\n"
     ]
    }
   ],
   "source": [
    "missing_test_fields = fields_diff(train, test)\n",
    "print(train[missing_test_fields].dtypes)"
   ]
  },
  {
   "cell_type": "markdown",
   "metadata": {},
   "source": [
    "В тестовой выборке отсутствуют признаки output - это целевые признаки и поэтому отсутствуют.\n",
    "Признаки rougher.calculation - это расчетные характеристики и отсутвуют, вероятно, потому что расчитываются после завершения процесса."
   ]
  },
  {
   "cell_type": "markdown",
   "metadata": {},
   "source": [
    "Напишем формулу для рассчёта recovery."
   ]
  },
  {
   "cell_type": "code",
   "execution_count": 13,
   "metadata": {},
   "outputs": [],
   "source": [
    "def calculate_recovery(rougher_output, rougher_input, rougher_tail):\n",
    "    recovery = (rougher_output * (rougher_input - rougher_tail)) /\\\n",
    "        (rougher_input * (rougher_output - rougher_tail)) * 100\n",
    "    \n",
    "    recovery[recovery < 0] = np.nan\n",
    "    recovery[recovery > 100] = np.nan\n",
    "    return recovery"
   ]
  },
  {
   "cell_type": "code",
   "execution_count": 14,
   "metadata": {},
   "outputs": [
    {
     "name": "stdout",
     "output_type": "stream",
     "text": [
      "count    14149.000000\n",
      "mean        82.704502\n",
      "std         14.479156\n",
      "min         -0.000000\n",
      "25%         79.993067\n",
      "50%         85.299462\n",
      "75%         90.165021\n",
      "max        100.000000\n",
      "dtype: float64\n"
     ]
    }
   ],
   "source": [
    "recovery = calculate_recovery(\n",
    "    train['rougher.output.concentrate_au'], \n",
    "    train['rougher.input.feed_au'], \n",
    "    train['rougher.output.tail_au'],\n",
    ")\n",
    "print(recovery.describe())"
   ]
  },
  {
   "cell_type": "code",
   "execution_count": 15,
   "metadata": {},
   "outputs": [
    {
     "name": "stdout",
     "output_type": "stream",
     "text": [
      "MAE = 9.73512347450521e-15\n"
     ]
    }
   ],
   "source": [
    "mae_recovery = mean_absolute_error(train['rougher.output.recovery'].dropna(), recovery.dropna())\n",
    "print('MAE =', mae_recovery)"
   ]
  },
  {
   "cell_type": "markdown",
   "metadata": {},
   "source": [
    "Оценим размер каждой выборки."
   ]
  },
  {
   "cell_type": "code",
   "execution_count": 16,
   "metadata": {},
   "outputs": [
    {
     "name": "stdout",
     "output_type": "stream",
     "text": [
      "(19439, 87)\n",
      "(14149, 87)\n",
      "(5290, 53)\n"
     ]
    }
   ],
   "source": [
    "for data in datasets:\n",
    "    print(data.shape)"
   ]
  },
  {
   "cell_type": "markdown",
   "metadata": {},
   "source": [
    "## Анализ данных"
   ]
  },
  {
   "cell_type": "markdown",
   "metadata": {},
   "source": [
    "Распределение концентрации металлов на различных ступенях обработки"
   ]
  },
  {
   "cell_type": "code",
   "execution_count": 17,
   "metadata": {},
   "outputs": [],
   "source": [
    "def show_concentrate_of_metal_hist(metal, title):\n",
    "    x0 = df[f'rougher.input.feed_{metal}'].dropna()\n",
    "    x1 = df[f'rougher.output.concentrate_{metal}'].dropna()\n",
    "    x2 = df[f'primary_cleaner.output.concentrate_{metal}'].dropna()\n",
    "    x3 = df[f'final.output.concentrate_{metal}'].dropna()\n",
    "\n",
    "    plt.figure(figsize=(15, 10))\n",
    "\n",
    "    sns.distplot(x0, kde_kws= {\"label\": \"Сырье\"})\n",
    "    sns.distplot(x1, kde_kws= {\"label\": \"Черновой\"})\n",
    "    sns.distplot(x2, kde_kws= {\"label\": \"Первичная очистка\"})\n",
    "    sns.distplot(x3, kde_kws= {\"label\": \"Финальный этап\"})\n",
    "\n",
    "    plt.title(label=f'Концентрация {title} на различных этапах очистки', fontsize=15)\n",
    "    plt.xlabel('Концентрация')\n",
    "    plt.ylabel('Количество наблюдений')"
   ]
  },
  {
   "cell_type": "code",
   "execution_count": 18,
   "metadata": {
    "scrolled": true
   },
   "outputs": [
    {
     "name": "stderr",
     "output_type": "stream",
     "text": [
      "/opt/conda/lib/python3.9/site-packages/seaborn/distributions.py:2557: FutureWarning: `distplot` is a deprecated function and will be removed in a future version. Please adapt your code to use either `displot` (a figure-level function with similar flexibility) or `histplot` (an axes-level function for histograms).\n",
      "  warnings.warn(msg, FutureWarning)\n",
      "/opt/conda/lib/python3.9/site-packages/seaborn/distributions.py:2557: FutureWarning: `distplot` is a deprecated function and will be removed in a future version. Please adapt your code to use either `displot` (a figure-level function with similar flexibility) or `histplot` (an axes-level function for histograms).\n",
      "  warnings.warn(msg, FutureWarning)\n",
      "/opt/conda/lib/python3.9/site-packages/seaborn/distributions.py:2557: FutureWarning: `distplot` is a deprecated function and will be removed in a future version. Please adapt your code to use either `displot` (a figure-level function with similar flexibility) or `histplot` (an axes-level function for histograms).\n",
      "  warnings.warn(msg, FutureWarning)\n",
      "/opt/conda/lib/python3.9/site-packages/seaborn/distributions.py:2557: FutureWarning: `distplot` is a deprecated function and will be removed in a future version. Please adapt your code to use either `displot` (a figure-level function with similar flexibility) or `histplot` (an axes-level function for histograms).\n",
      "  warnings.warn(msg, FutureWarning)\n"
     ]
    },
    {
     "data": {
      "image/png": "[encoded data removed]",
      "text/plain": [
       "<Figure size 1080x720 with 1 Axes>"
      ]
     },
     "metadata": {
      "needs_background": "light"
     },
     "output_type": "display_data"
    }
   ],
   "source": [
    "show_concentrate_of_metal_hist('au', 'золота')"
   ]
  },
  {
   "cell_type": "code",
   "execution_count": 19,
   "metadata": {},
   "outputs": [
    {
     "name": "stderr",
     "output_type": "stream",
     "text": [
      "/opt/conda/lib/python3.9/site-packages/seaborn/distributions.py:2557: FutureWarning: `distplot` is a deprecated function and will be removed in a future version. Please adapt your code to use either `displot` (a figure-level function with similar flexibility) or `histplot` (an axes-level function for histograms).\n",
      "  warnings.warn(msg, FutureWarning)\n",
      "/opt/conda/lib/python3.9/site-packages/seaborn/distributions.py:2557: FutureWarning: `distplot` is a deprecated function and will be removed in a future version. Please adapt your code to use either `displot` (a figure-level function with similar flexibility) or `histplot` (an axes-level function for histograms).\n",
      "  warnings.warn(msg, FutureWarning)\n",
      "/opt/conda/lib/python3.9/site-packages/seaborn/distributions.py:2557: FutureWarning: `distplot` is a deprecated function and will be removed in a future version. Please adapt your code to use either `displot` (a figure-level function with similar flexibility) or `histplot` (an axes-level function for histograms).\n",
      "  warnings.warn(msg, FutureWarning)\n",
      "/opt/conda/lib/python3.9/site-packages/seaborn/distributions.py:2557: FutureWarning: `distplot` is a deprecated function and will be removed in a future version. Please adapt your code to use either `displot` (a figure-level function with similar flexibility) or `histplot` (an axes-level function for histograms).\n",
      "  warnings.warn(msg, FutureWarning)\n"
     ]
    },
    {
     "data": {
      "image/png": "[encoded data removed]",
      "text/plain": [
       "<Figure size 1080x720 with 1 Axes>"
      ]
     },
     "metadata": {
      "needs_background": "light"
     },
     "output_type": "display_data"
    }
   ],
   "source": [
    "show_concentrate_of_metal_hist('ag', 'серебра')"
   ]
  },
  {
   "cell_type": "code",
   "execution_count": 20,
   "metadata": {},
   "outputs": [
    {
     "name": "stderr",
     "output_type": "stream",
     "text": [
      "/opt/conda/lib/python3.9/site-packages/seaborn/distributions.py:2557: FutureWarning: `distplot` is a deprecated function and will be removed in a future version. Please adapt your code to use either `displot` (a figure-level function with similar flexibility) or `histplot` (an axes-level function for histograms).\n",
      "  warnings.warn(msg, FutureWarning)\n",
      "/opt/conda/lib/python3.9/site-packages/seaborn/distributions.py:2557: FutureWarning: `distplot` is a deprecated function and will be removed in a future version. Please adapt your code to use either `displot` (a figure-level function with similar flexibility) or `histplot` (an axes-level function for histograms).\n",
      "  warnings.warn(msg, FutureWarning)\n",
      "/opt/conda/lib/python3.9/site-packages/seaborn/distributions.py:2557: FutureWarning: `distplot` is a deprecated function and will be removed in a future version. Please adapt your code to use either `displot` (a figure-level function with similar flexibility) or `histplot` (an axes-level function for histograms).\n",
      "  warnings.warn(msg, FutureWarning)\n",
      "/opt/conda/lib/python3.9/site-packages/seaborn/distributions.py:2557: FutureWarning: `distplot` is a deprecated function and will be removed in a future version. Please adapt your code to use either `displot` (a figure-level function with similar flexibility) or `histplot` (an axes-level function for histograms).\n",
      "  warnings.warn(msg, FutureWarning)\n"
     ]
    },
    {
     "data": {
      "image/png": "[encoded data removed]",
      "text/plain": [
       "<Figure size 1080x720 with 1 Axes>"
      ]
     },
     "metadata": {
      "needs_background": "light"
     },
     "output_type": "display_data"
    }
   ],
   "source": [
    "show_concentrate_of_metal_hist('pb', 'свинца')"
   ]
  },
  {
   "cell_type": "markdown",
   "metadata": {},
   "source": [
    "Не графиках заметно, что концентрация золота увеличивается после каждого этапа очистки, концентрация серебра увеличивается после флотации и уменьшается после следующих этапов, а концентрация свинца снижается после первого этапа очистки и незначительно изменяется в дальнейшем."
   ]
  },
  {
   "cell_type": "markdown",
   "metadata": {},
   "source": [
    "Распределения гранул сырья"
   ]
  },
  {
   "cell_type": "code",
   "execution_count": 21,
   "metadata": {},
   "outputs": [],
   "source": [
    "def show_feed_size_hist(step, title):\n",
    "    x0 = train[f'{step}.input.feed_size'].dropna()\n",
    "    x1 = test[f'{step}.input.feed_size'].dropna()\n",
    "    plt.figure(figsize=(12, 6))\n",
    "    sns.distplot(x0, kde_kws= {\"label\": \"Train\"})\n",
    "    sns.distplot(x1, kde_kws= {\"label\": \"Test\"})\n",
    "    plt.xlabel('Размер гранул')\n",
    "    plt.ylabel('Количество наблюдений')\n",
    "    plt.title(label=f'Распределение размеров гранул сырья для {title}', fontsize=15)"
   ]
  },
  {
   "cell_type": "code",
   "execution_count": 22,
   "metadata": {
    "scrolled": true
   },
   "outputs": [
    {
     "name": "stderr",
     "output_type": "stream",
     "text": [
      "/opt/conda/lib/python3.9/site-packages/seaborn/distributions.py:2557: FutureWarning: `distplot` is a deprecated function and will be removed in a future version. Please adapt your code to use either `displot` (a figure-level function with similar flexibility) or `histplot` (an axes-level function for histograms).\n",
      "  warnings.warn(msg, FutureWarning)\n",
      "/opt/conda/lib/python3.9/site-packages/seaborn/distributions.py:2557: FutureWarning: `distplot` is a deprecated function and will be removed in a future version. Please adapt your code to use either `displot` (a figure-level function with similar flexibility) or `histplot` (an axes-level function for histograms).\n",
      "  warnings.warn(msg, FutureWarning)\n"
     ]
    },
    {
     "data": {
      "image/png": "[encoded data removed]",
      "text/plain": [
       "<Figure size 864x432 with 1 Axes>"
      ]
     },
     "metadata": {
      "needs_background": "light"
     },
     "output_type": "display_data"
    }
   ],
   "source": [
    "show_feed_size_hist('rougher', 'флотации')"
   ]
  },
  {
   "cell_type": "code",
   "execution_count": 23,
   "metadata": {},
   "outputs": [
    {
     "name": "stderr",
     "output_type": "stream",
     "text": [
      "/opt/conda/lib/python3.9/site-packages/seaborn/distributions.py:2557: FutureWarning: `distplot` is a deprecated function and will be removed in a future version. Please adapt your code to use either `displot` (a figure-level function with similar flexibility) or `histplot` (an axes-level function for histograms).\n",
      "  warnings.warn(msg, FutureWarning)\n",
      "/opt/conda/lib/python3.9/site-packages/seaborn/distributions.py:2557: FutureWarning: `distplot` is a deprecated function and will be removed in a future version. Please adapt your code to use either `displot` (a figure-level function with similar flexibility) or `histplot` (an axes-level function for histograms).\n",
      "  warnings.warn(msg, FutureWarning)\n"
     ]
    },
    {
     "data": {
      "image/png": "[encoded data removed]",
      "text/plain": [
       "<Figure size 864x432 with 1 Axes>"
      ]
     },
     "metadata": {
      "needs_background": "light"
     },
     "output_type": "display_data"
    }
   ],
   "source": [
    "show_feed_size_hist('primary_cleaner', 'очистки')"
   ]
  },
  {
   "cell_type": "markdown",
   "metadata": {},
   "source": [
    "На графиках заметно, что распределение размеров гранул сырья на обучающей и тестовой выборках имеют небольшие изменения, оценкка модели будет правильной."
   ]
  },
  {
   "cell_type": "markdown",
   "metadata": {},
   "source": [
    "Суммарная концентрация всех веществ на разных этапах очистки"
   ]
  },
  {
   "cell_type": "code",
   "execution_count": 24,
   "metadata": {},
   "outputs": [],
   "source": [
    "metals = ['au', 'ag', 'pb', 'sol']"
   ]
  },
  {
   "cell_type": "code",
   "execution_count": 25,
   "metadata": {},
   "outputs": [],
   "source": [
    "steps = ['rougher.input.feed_',\n",
    "         'rougher.output.concentrate_', \n",
    "         'final.output.concentrate_']"
   ]
  },
  {
   "cell_type": "code",
   "execution_count": 26,
   "metadata": {},
   "outputs": [],
   "source": [
    "for step in steps:\n",
    "    df[step] = df[step + metals[0]] + df[step + metals[1]] + df[step + metals[2]] + df[step + metals[3]]"
   ]
  },
  {
   "cell_type": "code",
   "execution_count": 27,
   "metadata": {},
   "outputs": [
    {
     "name": "stderr",
     "output_type": "stream",
     "text": [
      "/opt/conda/lib/python3.9/site-packages/seaborn/distributions.py:2557: FutureWarning: `distplot` is a deprecated function and will be removed in a future version. Please adapt your code to use either `displot` (a figure-level function with similar flexibility) or `histplot` (an axes-level function for histograms).\n",
      "  warnings.warn(msg, FutureWarning)\n",
      "/opt/conda/lib/python3.9/site-packages/seaborn/distributions.py:2557: FutureWarning: `distplot` is a deprecated function and will be removed in a future version. Please adapt your code to use either `displot` (a figure-level function with similar flexibility) or `histplot` (an axes-level function for histograms).\n",
      "  warnings.warn(msg, FutureWarning)\n",
      "/opt/conda/lib/python3.9/site-packages/seaborn/distributions.py:2557: FutureWarning: `distplot` is a deprecated function and will be removed in a future version. Please adapt your code to use either `displot` (a figure-level function with similar flexibility) or `histplot` (an axes-level function for histograms).\n",
      "  warnings.warn(msg, FutureWarning)\n"
     ]
    },
    {
     "data": {
      "text/plain": [
       "Text(0.5, 1.0, 'Концентрация всех веществ на разных стадиях')"
      ]
     },
     "execution_count": 27,
     "metadata": {},
     "output_type": "execute_result"
    },
    {
     "data": {
      "image/png": "[encoded data removed]",
      "text/plain": [
       "<Figure size 864x432 with 1 Axes>"
      ]
     },
     "metadata": {
      "needs_background": "light"
     },
     "output_type": "display_data"
    }
   ],
   "source": [
    "x0 = df['rougher.input.feed_'].dropna()\n",
    "x1 = df['rougher.output.concentrate_'].dropna()\n",
    "x2 = df['final.output.concentrate_'].dropna()\n",
    "\n",
    "plt.figure(figsize=(12, 6))\n",
    "\n",
    "sns.distplot(x0, kde_kws= {\"label\": \"Сырье\"})\n",
    "sns.distplot(x1, kde_kws= {\"label\": \"Черновой\"})\n",
    "sns.distplot(x2, kde_kws= {\"label\": \"Финальный этап\"})\n",
    "\n",
    "\n",
    "plt.xlabel('Концентрация')\n",
    "plt.ylabel('Количество наблюдений')\n",
    "plt.title(label='Концентрация всех веществ на разных стадиях', fontsize=15)"
   ]
  },
  {
   "cell_type": "markdown",
   "metadata": {},
   "source": [
    "После флотации увеличивается концентрация веществ и далее в ходе очистки сокращается интервал распределения с 50-95 до 60-80. На графике заметны нулевые значения, это выбросы и от них необходимо избавиться."
   ]
  },
  {
   "cell_type": "code",
   "execution_count": 28,
   "metadata": {},
   "outputs": [],
   "source": [
    "df = df.drop(index = df[df[\"rougher.input.feed_au\"] < 1].index,\n",
    "                               axis = 0)\n",
    "df = df.drop(index = df[df[\"rougher.input.feed_ag\"] < 1].index,\n",
    "                               axis = 0)\n",
    "df = df.drop(index = df[df[\"rougher.input.feed_pb\"] < 1].index,\n",
    "                               axis = 0)\n",
    "df = df.drop(index = df[df[\"rougher.input.feed_sol\"] < 1].index,\n",
    "                               axis = 0)\n",
    "\n",
    "\n",
    "df = df.drop(index = df[df[\"rougher.output.concentrate_au\"] < 1].index,\n",
    "                               axis = 0)\n",
    "df = df.drop(index = df[df[\"rougher.output.concentrate_ag\"] < 1].index,\n",
    "                               axis = 0)\n",
    "df = df.drop(index = df[df[\"rougher.output.concentrate_pb\"] < 1].index,\n",
    "                               axis = 0)\n",
    "df = df.drop(index = df[df[\"rougher.output.concentrate_sol\"] < 1].index,\n",
    "                               axis = 0)\n",
    "\n",
    "\n",
    "df = df.drop(index = df[df[\"final.output.concentrate_au\"] < 1].index,\n",
    "                               axis = 0)\n",
    "df = df.drop(index = df[df[\"final.output.concentrate_ag\"] < 1].index,\n",
    "                               axis = 0)\n",
    "df = df.drop(index = df[df[\"final.output.concentrate_pb\"] < 1].index,\n",
    "                               axis = 0)\n",
    "df = df.drop(index = df[df[\"final.output.concentrate_sol\"] < 1].index,\n",
    "                               axis = 0)"
   ]
  },
  {
   "cell_type": "markdown",
   "metadata": {},
   "source": [
    "Мы удалили выбросы, построим новый \"чистый\" график и убедимся, что всё сделали верно."
   ]
  },
  {
   "cell_type": "code",
   "execution_count": 29,
   "metadata": {},
   "outputs": [
    {
     "name": "stderr",
     "output_type": "stream",
     "text": [
      "/opt/conda/lib/python3.9/site-packages/seaborn/distributions.py:2557: FutureWarning: `distplot` is a deprecated function and will be removed in a future version. Please adapt your code to use either `displot` (a figure-level function with similar flexibility) or `histplot` (an axes-level function for histograms).\n",
      "  warnings.warn(msg, FutureWarning)\n",
      "/opt/conda/lib/python3.9/site-packages/seaborn/distributions.py:2557: FutureWarning: `distplot` is a deprecated function and will be removed in a future version. Please adapt your code to use either `displot` (a figure-level function with similar flexibility) or `histplot` (an axes-level function for histograms).\n",
      "  warnings.warn(msg, FutureWarning)\n",
      "/opt/conda/lib/python3.9/site-packages/seaborn/distributions.py:2557: FutureWarning: `distplot` is a deprecated function and will be removed in a future version. Please adapt your code to use either `displot` (a figure-level function with similar flexibility) or `histplot` (an axes-level function for histograms).\n",
      "  warnings.warn(msg, FutureWarning)\n"
     ]
    },
    {
     "data": {
      "text/plain": [
       "Text(0.5, 1.0, 'Концентрация всех веществ на разных стадиях')"
      ]
     },
     "execution_count": 29,
     "metadata": {},
     "output_type": "execute_result"
    },
    {
     "data": {
      "image/png": "[encoded data removed]",
      "text/plain": [
       "<Figure size 864x432 with 1 Axes>"
      ]
     },
     "metadata": {
      "needs_background": "light"
     },
     "output_type": "display_data"
    }
   ],
   "source": [
    "x0 = df['rougher.input.feed_'].dropna()\n",
    "x1 = df['rougher.output.concentrate_'].dropna()\n",
    "x2 = df['final.output.concentrate_'].dropna()\n",
    "\n",
    "plt.figure(figsize=(12, 6))\n",
    "\n",
    "sns.distplot(x0, kde_kws= {\"label\": \"Сырье\"})\n",
    "sns.distplot(x1, kde_kws= {\"label\": \"Черновой\"})\n",
    "sns.distplot(x2, kde_kws= {\"label\": \"Финальный этап\"})\n",
    "\n",
    "\n",
    "plt.xlabel('Концентрация')\n",
    "plt.ylabel('Количество наблюдений')\n",
    "plt.title(label='Концентрация всех веществ на разных стадиях', fontsize=15)"
   ]
  },
  {
   "cell_type": "markdown",
   "metadata": {},
   "source": [
    "Мы удалили аномалии в данных и сделали их более чистыми. Можем переходить к следующему этапу."
   ]
  },
  {
   "cell_type": "markdown",
   "metadata": {},
   "source": [
    "## Модель"
   ]
  },
  {
   "cell_type": "markdown",
   "metadata": {},
   "source": [
    "Напишем функцию для вычисления итоговой sMAPE."
   ]
  },
  {
   "cell_type": "code",
   "execution_count": 30,
   "metadata": {},
   "outputs": [],
   "source": [
    "def calculate_smape(target_actual, target_predictions):\n",
    "    numerator = np.abs(target_actual - target_predictions)\n",
    "    denominator = (np.abs(target_actual) + np.abs(target_predictions)) / 2 \n",
    "    \n",
    "    return 1 / len(target_actual) * np.sum(numerator / denominator) * 100 \n",
    "    \n",
    "    \n",
    "def calculate_final_smape(target_actual, target_predictions):\n",
    "    target_actual_rougher = target_actual['rougher.output.recovery']\n",
    "    target_actual_final = target_actual['final.output.recovery']\n",
    "    \n",
    "    target_predictions_rougher = target_predictions[:, 0]\n",
    "    target_predictions_final = target_predictions[:, 1]\n",
    "    \n",
    "    return 0.25 * calculate_smape(target_actual_rougher, target_predictions_rougher) \\\n",
    "        + 0.75 * calculate_smape(target_actual_final, target_predictions_final)"
   ]
  },
  {
   "cell_type": "markdown",
   "metadata": {},
   "source": [
    "Создадим scorer, чтобы использовать его при кросс-валидации"
   ]
  },
  {
   "cell_type": "code",
   "execution_count": 31,
   "metadata": {},
   "outputs": [],
   "source": [
    "score = make_scorer(calculate_final_smape, greater_is_better=False)"
   ]
  },
  {
   "cell_type": "markdown",
   "metadata": {},
   "source": [
    "Перейдём к обучению моделей"
   ]
  },
  {
   "cell_type": "code",
   "execution_count": 32,
   "metadata": {},
   "outputs": [],
   "source": [
    "df.set_index('date', inplace=True)\n",
    "test.set_index('date', inplace=True)"
   ]
  },
  {
   "cell_type": "code",
   "execution_count": 33,
   "metadata": {},
   "outputs": [],
   "source": [
    "y_for_test_final = df[df.index.isin(test.index)]['final.output.recovery']\n",
    "y_for_test_rougher = df[df.index.isin(test.index)]['rougher.output.recovery']"
   ]
  },
  {
   "cell_type": "code",
   "execution_count": 34,
   "metadata": {},
   "outputs": [],
   "source": [
    "test = test.join(y_for_test_final)\n",
    "test = test.join(y_for_test_rougher)"
   ]
  },
  {
   "cell_type": "markdown",
   "metadata": {},
   "source": [
    "Удалим из train признаки, которых нет в test."
   ]
  },
  {
   "cell_type": "code",
   "execution_count": 35,
   "metadata": {},
   "outputs": [
    {
     "name": "stdout",
     "output_type": "stream",
     "text": [
      "{'primary_cleaner.output.tail_au', 'rougher.output.tail_sol', 'final.output.tail_sol', 'secondary_cleaner.output.tail_pb', 'rougher.output.tail_au', 'final.output.concentrate_sol', 'final.output.tail_au', 'final.output.tail_ag', 'secondary_cleaner.output.tail_sol', 'secondary_cleaner.output.tail_au', 'rougher.calculation.sulfate_to_au_concentrate', 'final.output.concentrate_pb', 'primary_cleaner.output.tail_pb', 'rougher.output.concentrate_au', 'primary_cleaner.output.tail_ag', 'rougher.output.tail_pb', 'primary_cleaner.output.concentrate_sol', 'primary_cleaner.output.concentrate_ag', 'rougher.output.tail_ag', 'secondary_cleaner.output.tail_ag', 'rougher.output.concentrate_ag', 'date', 'primary_cleaner.output.tail_sol', 'final.output.concentrate_ag', 'primary_cleaner.output.concentrate_pb', 'final.output.tail_pb', 'rougher.calculation.au_pb_ratio', 'rougher.calculation.floatbank10_sulfate_to_au_feed', 'primary_cleaner.output.concentrate_au', 'rougher.output.concentrate_pb', 'rougher.calculation.floatbank11_sulfate_to_au_feed', 'final.output.concentrate_au', 'rougher.output.concentrate_sol'}\n",
      "set()\n",
      "set()\n"
     ]
    }
   ],
   "source": [
    "missing_test_fields = fields_diff(train, test)\n",
    "print(missing_test_fields)\n",
    "train = train.drop(missing_test_fields, axis='columns')\n",
    "print(fields_diff(train, test))\n",
    "print(fields_diff(test, train))"
   ]
  },
  {
   "cell_type": "code",
   "execution_count": 36,
   "metadata": {},
   "outputs": [],
   "source": [
    "target_train = train[['rougher.output.recovery', 'final.output.recovery']]\n",
    "target_test = test[['rougher.output.recovery', 'final.output.recovery']]\n",
    "\n",
    "features_train = train.drop(['rougher.output.recovery', 'final.output.recovery'],axis = 1)\n",
    "features_test = test.drop(['rougher.output.recovery', 'final.output.recovery'],axis = 1)"
   ]
  },
  {
   "cell_type": "markdown",
   "metadata": {},
   "source": [
    "Обучим модель дерева решений."
   ]
  },
  {
   "cell_type": "code",
   "execution_count": 37,
   "metadata": {},
   "outputs": [
    {
     "name": "stdout",
     "output_type": "stream",
     "text": [
      "Лучшее значение sMAPE для дерева решений: 10.952668842678058 при значениях гиперпараметров: {'max_depth': 5}\n"
     ]
    }
   ],
   "source": [
    "param_grid = {'max_depth': range(2, 11)}\n",
    "\n",
    "model = DecisionTreeRegressor(random_state=12345)\n",
    "search = GridSearchCV(model, param_grid, cv=5, scoring=score)\n",
    "search.fit(features_train, target_train)\n",
    "print('Лучшее значение sMAPE для дерева решений: {} при значениях гиперпараметров: {}'\n",
    "      .format(-search.best_score_, search.best_params_))"
   ]
  },
  {
   "cell_type": "markdown",
   "metadata": {},
   "source": [
    "Обучим модель случайного леса."
   ]
  },
  {
   "cell_type": "code",
   "execution_count": 46,
   "metadata": {},
   "outputs": [
    {
     "name": "stdout",
     "output_type": "stream",
     "text": [
      "Лучшее значение sMAPE для случайного леса: 10.755625495831492 при значениях гиперпараметров: {'n_estimators': 10}\n"
     ]
    }
   ],
   "source": [
    "param_grid = {'n_estimators': range(10, 31, 10)}\n",
    "\n",
    "model = RandomForestRegressor(max_depth=3, random_state=12345)\n",
    "search = GridSearchCV(model, param_grid, cv=5, scoring=score)\n",
    "search.fit(features_train, target_train)\n",
    "print('Лучшее значение sMAPE для случайного леса: {} при значениях гиперпараметров: {}'.format\n",
    "        (-search.best_score_, search.best_params_))"
   ]
  },
  {
   "cell_type": "markdown",
   "metadata": {},
   "source": [
    "Обучим модель логистической регрессии."
   ]
  },
  {
   "cell_type": "code",
   "execution_count": 39,
   "metadata": {},
   "outputs": [
    {
     "name": "stdout",
     "output_type": "stream",
     "text": [
      "Лучшее значение sMAPE для линейной регрессии: 12.384596104847216\n"
     ]
    }
   ],
   "source": [
    "model = LinearRegression()\n",
    "model.fit(features_train, target_train)\n",
    "smape = cross_val_score(model, features_train, target_train, cv=5, scoring=score).mean()\n",
    "print('Лучшее значение sMAPE для линейной регрессии:', -smape)"
   ]
  },
  {
   "cell_type": "markdown",
   "metadata": {},
   "source": [
    "Мы видим, что наилучшее значение показала модель случайного леса с глубиной 3 и количеством деревьев 10. Проверим её на тестовой выборке."
   ]
  },
  {
   "cell_type": "code",
   "execution_count": 48,
   "metadata": {},
   "outputs": [
    {
     "name": "stdout",
     "output_type": "stream",
     "text": [
      "sMAPE для тестовых данных: 6.661348560755167\n"
     ]
    }
   ],
   "source": [
    "model = RandomForestRegressor(max_depth=3, n_estimators=10, random_state=12345) \n",
    "model.fit(features_train, target_train)\n",
    "predictions_test = model.predict(features_test)\n",
    "\n",
    "print('sMAPE для тестовых данных:', calculate_final_smape(target_test, predictions_test))"
   ]
  },
  {
   "cell_type": "markdown",
   "metadata": {},
   "source": [
    "Сравним показатель с константной моделью."
   ]
  },
  {
   "cell_type": "code",
   "execution_count": 49,
   "metadata": {},
   "outputs": [
    {
     "name": "stdout",
     "output_type": "stream",
     "text": [
      "7.120002599786014\n"
     ]
    }
   ],
   "source": [
    "base = DummyRegressor(strategy=\"median\")\n",
    "base_final = DummyRegressor(strategy=\"median\")\n",
    "base.fit(features_train,target_train)\n",
    "base_final.fit(features_train, target_train)\n",
    "base_rougher = base.predict(test)\n",
    "base_final_pred = base_final.predict(test)\n",
    "\n",
    "print(calculate_final_smape(target_test, base_final_pred))"
   ]
  },
  {
   "cell_type": "markdown",
   "metadata": {},
   "source": [
    "Показатель smape константной модели немного выше показателя smape тестовых данных. Это хороший результат, значит, наша модель работает верно."
   ]
  },
  {
   "cell_type": "markdown",
   "metadata": {},
   "source": [
    "## Вывод"
   ]
  },
  {
   "cell_type": "markdown",
   "metadata": {},
   "source": [
    "Итак, в ходе выполнения проекта мы выполнили предобработку данных, обучили три разных модели, построили графики, проанализировали признаки, которые отсутствовали в тестовой выборке, посмотрели как меняется концентрация металлов на различных этапах очистки, рассчитали sMAPE для каждой модели.\n",
    "\n",
    "Самое лучшее значение sMAPE показала модель случайного леса с глубиной 3 и количеством деревьев 10, оно равно 10.7. На тестовой выборке эта модель показала значение sMAPE 6.66. Это хороший результат."
   ]
  }
 ],
 "metadata": {
  "ExecuteTimeLog": [
   {
    "duration": 1406,
    "start_time": "2022-07-11T17:58:57.712Z"
   },
   {
    "duration": 143,
    "start_time": "2022-07-11T18:09:19.504Z"
   },
   {
    "duration": 37,
    "start_time": "2022-07-11T18:10:39.614Z"
   },
   {
    "duration": 4,
    "start_time": "2022-07-11T18:10:42.189Z"
   },
   {
    "duration": 33,
    "start_time": "2022-07-11T18:10:42.887Z"
   },
   {
    "duration": 4,
    "start_time": "2022-07-11T18:11:51.461Z"
   },
   {
    "duration": 48,
    "start_time": "2022-07-11T18:11:52.490Z"
   },
   {
    "duration": 1738,
    "start_time": "2022-07-11T18:12:15.412Z"
   },
   {
    "duration": 667,
    "start_time": "2022-07-11T18:13:38.069Z"
   },
   {
    "duration": 85,
    "start_time": "2022-07-11T18:18:00.741Z"
   },
   {
    "duration": 78,
    "start_time": "2022-07-11T18:18:48.653Z"
   },
   {
    "duration": 30,
    "start_time": "2022-07-11T18:19:19.143Z"
   },
   {
    "duration": 645,
    "start_time": "2022-07-11T18:20:02.449Z"
   },
   {
    "duration": 3,
    "start_time": "2022-07-11T18:20:03.448Z"
   },
   {
    "duration": 37,
    "start_time": "2022-07-11T18:20:42.643Z"
   },
   {
    "duration": 230,
    "start_time": "2022-07-11T18:43:53.252Z"
   },
   {
    "duration": 58,
    "start_time": "2022-07-11T18:47:35.857Z"
   },
   {
    "duration": 73,
    "start_time": "2022-07-11T18:51:50.100Z"
   },
   {
    "duration": 613,
    "start_time": "2022-07-11T18:53:38.383Z"
   },
   {
    "duration": 742,
    "start_time": "2022-07-11T18:53:55.911Z"
   },
   {
    "duration": 3,
    "start_time": "2022-07-11T18:55:20.715Z"
   },
   {
    "duration": 4,
    "start_time": "2022-07-11T18:55:32.284Z"
   },
   {
    "duration": 4,
    "start_time": "2022-07-11T18:55:49.670Z"
   },
   {
    "duration": 3,
    "start_time": "2022-07-11T18:57:17.062Z"
   },
   {
    "duration": 13,
    "start_time": "2022-07-11T18:58:07.413Z"
   },
   {
    "duration": 3,
    "start_time": "2022-07-11T18:59:51.255Z"
   },
   {
    "duration": 12,
    "start_time": "2022-07-11T19:01:03.751Z"
   },
   {
    "duration": 4,
    "start_time": "2022-07-11T19:01:37.009Z"
   },
   {
    "duration": 17,
    "start_time": "2022-07-11T19:01:39.419Z"
   },
   {
    "duration": 8,
    "start_time": "2022-07-11T19:04:51.999Z"
   },
   {
    "duration": 7,
    "start_time": "2022-07-11T19:04:57.655Z"
   },
   {
    "duration": 15,
    "start_time": "2022-07-11T19:04:58.375Z"
   },
   {
    "duration": 54,
    "start_time": "2022-07-11T19:05:38.582Z"
   },
   {
    "duration": 5,
    "start_time": "2022-07-11T19:05:42.151Z"
   },
   {
    "duration": 1475,
    "start_time": "2022-07-11T19:05:42.496Z"
   },
   {
    "duration": 1489,
    "start_time": "2022-07-11T19:06:03.793Z"
   },
   {
    "duration": 1409,
    "start_time": "2022-07-11T19:06:18.361Z"
   },
   {
    "duration": 4,
    "start_time": "2022-07-11T19:07:01.166Z"
   },
   {
    "duration": 525,
    "start_time": "2022-07-11T19:07:10.551Z"
   },
   {
    "duration": 607,
    "start_time": "2022-07-11T19:07:21.477Z"
   },
   {
    "duration": 2,
    "start_time": "2022-07-11T19:07:45.164Z"
   },
   {
    "duration": 3,
    "start_time": "2022-07-11T19:07:54.719Z"
   },
   {
    "duration": 8,
    "start_time": "2022-07-11T19:08:07.018Z"
   },
   {
    "duration": 1170,
    "start_time": "2022-07-11T19:08:17.876Z"
   },
   {
    "duration": 15,
    "start_time": "2022-07-11T19:09:37.353Z"
   },
   {
    "duration": 17,
    "start_time": "2022-07-11T19:09:47.212Z"
   },
   {
    "duration": 5,
    "start_time": "2022-07-11T19:13:01.357Z"
   },
   {
    "duration": 4,
    "start_time": "2022-07-11T19:13:28.638Z"
   },
   {
    "duration": 9,
    "start_time": "2022-07-11T19:13:29.280Z"
   },
   {
    "duration": 9,
    "start_time": "2022-07-11T19:13:29.495Z"
   },
   {
    "duration": 10,
    "start_time": "2022-07-11T19:13:29.693Z"
   },
   {
    "duration": 3,
    "start_time": "2022-07-11T19:13:29.881Z"
   },
   {
    "duration": 9,
    "start_time": "2022-07-11T19:13:30.081Z"
   },
   {
    "duration": 9,
    "start_time": "2022-07-11T19:13:30.264Z"
   },
   {
    "duration": 3,
    "start_time": "2022-07-11T19:13:52.564Z"
   },
   {
    "duration": 3,
    "start_time": "2022-07-11T19:13:57.954Z"
   },
   {
    "duration": 13,
    "start_time": "2022-07-11T19:14:09.077Z"
   },
   {
    "duration": 9,
    "start_time": "2022-07-11T19:14:18.940Z"
   },
   {
    "duration": 4,
    "start_time": "2022-07-11T19:14:36.556Z"
   },
   {
    "duration": 13,
    "start_time": "2022-07-11T19:14:40.494Z"
   },
   {
    "duration": 8,
    "start_time": "2022-07-11T19:14:43.881Z"
   },
   {
    "duration": 1616,
    "start_time": "2022-07-13T17:47:54.923Z"
   },
   {
    "duration": 1503,
    "start_time": "2022-07-13T17:47:56.541Z"
   },
   {
    "duration": 3,
    "start_time": "2022-07-13T17:47:58.046Z"
   },
   {
    "duration": 50,
    "start_time": "2022-07-13T17:47:58.050Z"
   },
   {
    "duration": 230,
    "start_time": "2022-07-13T17:54:11.536Z"
   },
   {
    "duration": 76,
    "start_time": "2022-07-13T17:54:11.929Z"
   },
   {
    "duration": 3,
    "start_time": "2022-07-13T17:54:15.120Z"
   },
   {
    "duration": 116,
    "start_time": "2022-07-13T17:58:01.428Z"
   },
   {
    "duration": 4,
    "start_time": "2022-07-13T17:58:31.811Z"
   },
   {
    "duration": 7,
    "start_time": "2022-07-13T17:58:53.483Z"
   },
   {
    "duration": 4,
    "start_time": "2022-07-13T17:59:08.835Z"
   },
   {
    "duration": 3,
    "start_time": "2022-07-13T18:02:39.504Z"
   },
   {
    "duration": 8,
    "start_time": "2022-07-13T18:02:40.360Z"
   },
   {
    "duration": 3,
    "start_time": "2022-07-13T18:03:45.795Z"
   },
   {
    "duration": 6,
    "start_time": "2022-07-13T18:03:46.086Z"
   },
   {
    "duration": 15,
    "start_time": "2022-07-13T18:15:02.825Z"
   },
   {
    "duration": 18,
    "start_time": "2022-07-13T18:16:09.699Z"
   },
   {
    "duration": 16,
    "start_time": "2022-07-13T18:16:30.551Z"
   },
   {
    "duration": 14,
    "start_time": "2022-07-13T18:16:48.974Z"
   },
   {
    "duration": 15,
    "start_time": "2022-07-13T18:17:13.387Z"
   },
   {
    "duration": 14,
    "start_time": "2022-07-13T18:17:17.706Z"
   },
   {
    "duration": 16,
    "start_time": "2022-07-13T18:17:21.335Z"
   },
   {
    "duration": 3,
    "start_time": "2022-07-13T18:19:28.643Z"
   },
   {
    "duration": 12,
    "start_time": "2022-07-13T18:20:28.136Z"
   },
   {
    "duration": 3,
    "start_time": "2022-07-13T18:21:06.280Z"
   },
   {
    "duration": 22,
    "start_time": "2022-07-13T18:21:07.035Z"
   },
   {
    "duration": 8,
    "start_time": "2022-07-13T18:21:20.389Z"
   },
   {
    "duration": 8,
    "start_time": "2022-07-13T18:22:10.695Z"
   },
   {
    "duration": 10,
    "start_time": "2022-07-13T18:22:11.781Z"
   },
   {
    "duration": 21,
    "start_time": "2022-07-13T18:23:55.305Z"
   },
   {
    "duration": 19,
    "start_time": "2022-07-13T18:29:27.051Z"
   },
   {
    "duration": 18,
    "start_time": "2022-07-13T18:29:38.575Z"
   },
   {
    "duration": 3,
    "start_time": "2022-07-13T18:30:09.263Z"
   },
   {
    "duration": 4,
    "start_time": "2022-07-13T18:30:09.570Z"
   },
   {
    "duration": 4,
    "start_time": "2022-07-13T18:40:59.966Z"
   },
   {
    "duration": 9,
    "start_time": "2022-07-13T18:41:28.726Z"
   },
   {
    "duration": 769,
    "start_time": "2022-07-13T18:41:45.698Z"
   },
   {
    "duration": 3,
    "start_time": "2022-07-13T18:42:33.289Z"
   },
   {
    "duration": 8,
    "start_time": "2022-07-13T18:42:34.050Z"
   },
   {
    "duration": 11,
    "start_time": "2022-07-13T18:42:51.357Z"
   },
   {
    "duration": 9,
    "start_time": "2022-07-13T18:43:33.225Z"
   },
   {
    "duration": 10,
    "start_time": "2022-07-13T18:44:10.661Z"
   },
   {
    "duration": 1046,
    "start_time": "2022-07-13T18:44:19.609Z"
   },
   {
    "duration": 1185,
    "start_time": "2022-07-13T18:57:21.521Z"
   },
   {
    "duration": 0,
    "start_time": "2022-07-13T18:57:22.708Z"
   },
   {
    "duration": 939,
    "start_time": "2022-07-13T18:57:34.964Z"
   },
   {
    "duration": 3,
    "start_time": "2022-07-13T19:01:18.389Z"
   },
   {
    "duration": 4,
    "start_time": "2022-07-13T19:01:19.404Z"
   },
   {
    "duration": 1448,
    "start_time": "2022-07-13T19:01:19.582Z"
   },
   {
    "duration": 1567,
    "start_time": "2022-07-13T19:01:21.033Z"
   },
   {
    "duration": 1569,
    "start_time": "2022-07-13T19:01:22.602Z"
   },
   {
    "duration": 4,
    "start_time": "2022-07-13T19:01:24.173Z"
   },
   {
    "duration": 540,
    "start_time": "2022-07-13T19:01:24.179Z"
   },
   {
    "duration": 530,
    "start_time": "2022-07-13T19:01:24.721Z"
   },
   {
    "duration": 3,
    "start_time": "2022-07-13T19:01:25.253Z"
   },
   {
    "duration": 12,
    "start_time": "2022-07-13T19:01:25.258Z"
   },
   {
    "duration": 13,
    "start_time": "2022-07-13T19:01:25.272Z"
   },
   {
    "duration": 1299,
    "start_time": "2022-07-13T19:01:25.288Z"
   },
   {
    "duration": 3,
    "start_time": "2022-07-13T19:06:55.380Z"
   },
   {
    "duration": 3,
    "start_time": "2022-07-13T19:06:55.682Z"
   },
   {
    "duration": 7,
    "start_time": "2022-07-13T19:06:55.992Z"
   },
   {
    "duration": 1181,
    "start_time": "2022-07-13T19:06:56.533Z"
   },
   {
    "duration": 11,
    "start_time": "2022-07-13T19:08:56.489Z"
   },
   {
    "duration": 10,
    "start_time": "2022-07-13T19:09:26.596Z"
   },
   {
    "duration": 9,
    "start_time": "2022-07-13T19:12:32.911Z"
   },
   {
    "duration": 457,
    "start_time": "2022-07-13T19:14:19.173Z"
   },
   {
    "duration": 5,
    "start_time": "2022-07-13T19:16:03.725Z"
   },
   {
    "duration": 9,
    "start_time": "2022-07-13T19:16:10.287Z"
   },
   {
    "duration": 0,
    "start_time": "2022-07-13T19:16:10.299Z"
   },
   {
    "duration": 13,
    "start_time": "2022-07-13T19:16:12.187Z"
   },
   {
    "duration": 0,
    "start_time": "2022-07-13T19:16:12.202Z"
   },
   {
    "duration": 10,
    "start_time": "2022-07-13T19:22:52.353Z"
   },
   {
    "duration": 12,
    "start_time": "2022-07-13T19:23:40.765Z"
   },
   {
    "duration": 10,
    "start_time": "2022-07-13T19:23:43.696Z"
   },
   {
    "duration": 11,
    "start_time": "2022-07-13T19:24:01.356Z"
   },
   {
    "duration": 13,
    "start_time": "2022-07-13T19:24:23.118Z"
   },
   {
    "duration": 756,
    "start_time": "2022-07-13T19:24:25.736Z"
   },
   {
    "duration": 4,
    "start_time": "2022-07-13T19:25:09.356Z"
   },
   {
    "duration": 3,
    "start_time": "2022-07-13T19:25:09.763Z"
   },
   {
    "duration": 4,
    "start_time": "2022-07-13T19:25:10.263Z"
   },
   {
    "duration": 13,
    "start_time": "2022-07-13T19:25:10.766Z"
   },
   {
    "duration": 3,
    "start_time": "2022-07-13T19:25:13.818Z"
   },
   {
    "duration": 10,
    "start_time": "2022-07-13T19:25:14.182Z"
   },
   {
    "duration": 9,
    "start_time": "2022-07-13T19:25:14.403Z"
   },
   {
    "duration": 51,
    "start_time": "2022-07-13T19:25:14.609Z"
   },
   {
    "duration": 58,
    "start_time": "2022-07-13T19:25:14.796Z"
   },
   {
    "duration": 11,
    "start_time": "2022-07-13T19:25:14.996Z"
   },
   {
    "duration": 12,
    "start_time": "2022-07-13T19:25:15.323Z"
   },
   {
    "duration": 10,
    "start_time": "2022-07-13T19:25:15.571Z"
   },
   {
    "duration": 5,
    "start_time": "2022-07-13T19:26:07.473Z"
   },
   {
    "duration": 70,
    "start_time": "2022-07-13T19:26:23.878Z"
   },
   {
    "duration": 61,
    "start_time": "2022-07-13T19:26:31.675Z"
   },
   {
    "duration": 12,
    "start_time": "2022-07-13T19:26:35.244Z"
   },
   {
    "duration": 10,
    "start_time": "2022-07-13T19:26:39.381Z"
   },
   {
    "duration": 5,
    "start_time": "2022-07-13T19:31:37.141Z"
   },
   {
    "duration": 5,
    "start_time": "2022-07-13T19:33:17.251Z"
   },
   {
    "duration": 3,
    "start_time": "2022-07-13T19:33:42.957Z"
   },
   {
    "duration": 10,
    "start_time": "2022-07-13T19:34:53.584Z"
   },
   {
    "duration": 9,
    "start_time": "2022-07-13T19:35:22.084Z"
   },
   {
    "duration": 11,
    "start_time": "2022-07-13T19:36:01.859Z"
   },
   {
    "duration": 5,
    "start_time": "2022-07-13T19:36:45.526Z"
   },
   {
    "duration": 9,
    "start_time": "2022-07-13T19:37:52.854Z"
   },
   {
    "duration": 14,
    "start_time": "2022-07-13T19:37:55.155Z"
   },
   {
    "duration": 9,
    "start_time": "2022-07-13T19:37:56.157Z"
   },
   {
    "duration": 6,
    "start_time": "2022-07-13T19:38:59.384Z"
   },
   {
    "duration": 10,
    "start_time": "2022-07-13T19:39:06.467Z"
   },
   {
    "duration": 46,
    "start_time": "2022-07-13T19:43:17.099Z"
   },
   {
    "duration": 47,
    "start_time": "2022-07-13T19:43:34.334Z"
   },
   {
    "duration": 45,
    "start_time": "2022-07-13T19:43:53.844Z"
   },
   {
    "duration": 4,
    "start_time": "2022-07-13T19:44:16.008Z"
   },
   {
    "duration": 4,
    "start_time": "2022-07-13T19:44:21.160Z"
   },
   {
    "duration": 10,
    "start_time": "2022-07-13T19:45:07.044Z"
   },
   {
    "duration": 16,
    "start_time": "2022-07-13T19:45:19.055Z"
   },
   {
    "duration": 9,
    "start_time": "2022-07-13T19:45:58.984Z"
   },
   {
    "duration": 12,
    "start_time": "2022-07-13T19:47:41.684Z"
   },
   {
    "duration": 109,
    "start_time": "2022-07-13T19:47:57.701Z"
   },
   {
    "duration": 83,
    "start_time": "2022-07-13T19:48:26.153Z"
   },
   {
    "duration": 5,
    "start_time": "2022-07-13T19:53:28.573Z"
   },
   {
    "duration": 2440,
    "start_time": "2022-07-14T03:51:26.231Z"
   },
   {
    "duration": 5397,
    "start_time": "2022-07-14T03:51:28.673Z"
   },
   {
    "duration": 2,
    "start_time": "2022-07-14T03:51:34.072Z"
   },
   {
    "duration": 59,
    "start_time": "2022-07-14T03:51:34.077Z"
   },
   {
    "duration": 298,
    "start_time": "2022-07-14T03:51:34.138Z"
   },
   {
    "duration": 109,
    "start_time": "2022-07-14T03:51:34.438Z"
   },
   {
    "duration": 15,
    "start_time": "2022-07-14T03:51:34.549Z"
   },
   {
    "duration": 4,
    "start_time": "2022-07-14T03:51:34.566Z"
   },
   {
    "duration": 38,
    "start_time": "2022-07-14T03:51:34.571Z"
   },
   {
    "duration": 27,
    "start_time": "2022-07-14T03:51:34.613Z"
   },
   {
    "duration": 3,
    "start_time": "2022-07-14T03:51:34.642Z"
   },
   {
    "duration": 8,
    "start_time": "2022-07-14T03:51:34.647Z"
   },
   {
    "duration": 5,
    "start_time": "2022-07-14T03:51:34.656Z"
   },
   {
    "duration": 2841,
    "start_time": "2022-07-14T03:51:34.663Z"
   },
   {
    "duration": 0,
    "start_time": "2022-07-14T03:51:37.506Z"
   },
   {
    "duration": 0,
    "start_time": "2022-07-14T03:51:37.508Z"
   },
   {
    "duration": 0,
    "start_time": "2022-07-14T03:51:37.510Z"
   },
   {
    "duration": 0,
    "start_time": "2022-07-14T03:51:37.511Z"
   },
   {
    "duration": 0,
    "start_time": "2022-07-14T03:51:37.513Z"
   },
   {
    "duration": 0,
    "start_time": "2022-07-14T03:51:37.514Z"
   },
   {
    "duration": 0,
    "start_time": "2022-07-14T03:51:37.516Z"
   },
   {
    "duration": 0,
    "start_time": "2022-07-14T03:51:37.517Z"
   },
   {
    "duration": 0,
    "start_time": "2022-07-14T03:51:37.519Z"
   },
   {
    "duration": 0,
    "start_time": "2022-07-14T03:51:37.520Z"
   },
   {
    "duration": 0,
    "start_time": "2022-07-14T03:51:37.521Z"
   },
   {
    "duration": 0,
    "start_time": "2022-07-14T03:51:37.523Z"
   },
   {
    "duration": 0,
    "start_time": "2022-07-14T03:51:37.524Z"
   },
   {
    "duration": 0,
    "start_time": "2022-07-14T03:51:37.525Z"
   },
   {
    "duration": 0,
    "start_time": "2022-07-14T03:51:37.526Z"
   },
   {
    "duration": 0,
    "start_time": "2022-07-14T03:51:37.528Z"
   },
   {
    "duration": 0,
    "start_time": "2022-07-14T03:51:37.530Z"
   },
   {
    "duration": 0,
    "start_time": "2022-07-14T03:51:37.532Z"
   },
   {
    "duration": 0,
    "start_time": "2022-07-14T03:51:37.537Z"
   },
   {
    "duration": 0,
    "start_time": "2022-07-14T03:51:37.539Z"
   },
   {
    "duration": 30,
    "start_time": "2022-07-14T03:59:36.514Z"
   },
   {
    "duration": 3,
    "start_time": "2022-07-14T03:59:43.864Z"
   },
   {
    "duration": 5,
    "start_time": "2022-07-14T03:59:45.385Z"
   },
   {
    "duration": 16,
    "start_time": "2022-07-14T04:00:58.154Z"
   },
   {
    "duration": 2269,
    "start_time": "2022-07-14T04:02:24.491Z"
   },
   {
    "duration": 925,
    "start_time": "2022-07-14T04:02:26.762Z"
   },
   {
    "duration": 3,
    "start_time": "2022-07-14T04:02:27.689Z"
   },
   {
    "duration": 64,
    "start_time": "2022-07-14T04:02:27.704Z"
   },
   {
    "duration": 279,
    "start_time": "2022-07-14T04:02:27.770Z"
   },
   {
    "duration": 116,
    "start_time": "2022-07-14T04:02:28.052Z"
   },
   {
    "duration": 18,
    "start_time": "2022-07-14T04:02:28.170Z"
   },
   {
    "duration": 8,
    "start_time": "2022-07-14T04:02:28.197Z"
   },
   {
    "duration": 53,
    "start_time": "2022-07-14T04:02:28.207Z"
   },
   {
    "duration": 18,
    "start_time": "2022-07-14T04:02:28.262Z"
   },
   {
    "duration": 14,
    "start_time": "2022-07-14T04:02:28.281Z"
   },
   {
    "duration": 1956,
    "start_time": "2022-07-14T04:13:07.584Z"
   },
   {
    "duration": 779,
    "start_time": "2022-07-14T04:13:09.542Z"
   },
   {
    "duration": 4,
    "start_time": "2022-07-14T04:13:10.323Z"
   },
   {
    "duration": 47,
    "start_time": "2022-07-14T04:13:10.330Z"
   },
   {
    "duration": 294,
    "start_time": "2022-07-14T04:13:10.379Z"
   },
   {
    "duration": 102,
    "start_time": "2022-07-14T04:13:10.675Z"
   },
   {
    "duration": 31,
    "start_time": "2022-07-14T04:13:10.779Z"
   },
   {
    "duration": 6,
    "start_time": "2022-07-14T04:13:10.812Z"
   },
   {
    "duration": 23,
    "start_time": "2022-07-14T04:13:10.821Z"
   },
   {
    "duration": 18,
    "start_time": "2022-07-14T04:13:10.847Z"
   },
   {
    "duration": 5,
    "start_time": "2022-07-14T04:13:10.899Z"
   },
   {
    "duration": 14,
    "start_time": "2022-07-14T04:13:10.906Z"
   },
   {
    "duration": 12,
    "start_time": "2022-07-14T04:13:10.922Z"
   },
   {
    "duration": 14,
    "start_time": "2022-07-14T04:13:10.936Z"
   },
   {
    "duration": 5,
    "start_time": "2022-07-14T04:13:10.952Z"
   },
   {
    "duration": 4,
    "start_time": "2022-07-14T04:13:10.959Z"
   },
   {
    "duration": 37,
    "start_time": "2022-07-14T04:13:10.964Z"
   },
   {
    "duration": 1605,
    "start_time": "2022-07-14T04:13:11.003Z"
   },
   {
    "duration": 1664,
    "start_time": "2022-07-14T04:13:12.610Z"
   },
   {
    "duration": 1493,
    "start_time": "2022-07-14T04:13:14.276Z"
   },
   {
    "duration": 4,
    "start_time": "2022-07-14T04:13:15.771Z"
   },
   {
    "duration": 571,
    "start_time": "2022-07-14T04:13:15.776Z"
   },
   {
    "duration": 698,
    "start_time": "2022-07-14T04:13:16.348Z"
   },
   {
    "duration": 3,
    "start_time": "2022-07-14T04:13:17.048Z"
   },
   {
    "duration": 7,
    "start_time": "2022-07-14T04:13:17.053Z"
   },
   {
    "duration": 9,
    "start_time": "2022-07-14T04:13:17.062Z"
   },
   {
    "duration": 1336,
    "start_time": "2022-07-14T04:13:17.073Z"
   },
   {
    "duration": 10,
    "start_time": "2022-07-14T04:13:18.413Z"
   },
   {
    "duration": 5,
    "start_time": "2022-07-14T04:13:18.425Z"
   },
   {
    "duration": 136,
    "start_time": "2022-07-14T04:13:18.432Z"
   },
   {
    "duration": 0,
    "start_time": "2022-07-14T04:13:18.570Z"
   },
   {
    "duration": 0,
    "start_time": "2022-07-14T04:13:18.571Z"
   },
   {
    "duration": 0,
    "start_time": "2022-07-14T04:13:18.573Z"
   },
   {
    "duration": 0,
    "start_time": "2022-07-14T04:13:18.574Z"
   },
   {
    "duration": 3,
    "start_time": "2022-07-14T04:13:54.885Z"
   },
   {
    "duration": 15,
    "start_time": "2022-07-14T04:13:58.974Z"
   },
   {
    "duration": 1898,
    "start_time": "2022-07-14T04:29:20.717Z"
   },
   {
    "duration": 752,
    "start_time": "2022-07-14T04:29:22.617Z"
   },
   {
    "duration": 3,
    "start_time": "2022-07-14T04:29:23.372Z"
   },
   {
    "duration": 53,
    "start_time": "2022-07-14T04:29:23.378Z"
   },
   {
    "duration": 256,
    "start_time": "2022-07-14T04:29:23.432Z"
   },
   {
    "duration": 109,
    "start_time": "2022-07-14T04:29:23.690Z"
   },
   {
    "duration": 17,
    "start_time": "2022-07-14T04:29:23.801Z"
   },
   {
    "duration": 5,
    "start_time": "2022-07-14T04:29:23.819Z"
   },
   {
    "duration": 26,
    "start_time": "2022-07-14T04:29:23.826Z"
   },
   {
    "duration": 43,
    "start_time": "2022-07-14T04:29:23.855Z"
   },
   {
    "duration": 4,
    "start_time": "2022-07-14T04:29:23.899Z"
   },
   {
    "duration": 15,
    "start_time": "2022-07-14T04:29:23.905Z"
   },
   {
    "duration": 7,
    "start_time": "2022-07-14T04:29:23.922Z"
   },
   {
    "duration": 20,
    "start_time": "2022-07-14T04:29:23.931Z"
   },
   {
    "duration": 5,
    "start_time": "2022-07-14T04:29:23.953Z"
   },
   {
    "duration": 5,
    "start_time": "2022-07-14T04:29:23.960Z"
   },
   {
    "duration": 36,
    "start_time": "2022-07-14T04:29:23.967Z"
   },
   {
    "duration": 1577,
    "start_time": "2022-07-14T04:29:24.004Z"
   },
   {
    "duration": 1601,
    "start_time": "2022-07-14T04:29:25.583Z"
   },
   {
    "duration": 1473,
    "start_time": "2022-07-14T04:29:27.186Z"
   },
   {
    "duration": 4,
    "start_time": "2022-07-14T04:29:28.662Z"
   },
   {
    "duration": 566,
    "start_time": "2022-07-14T04:29:28.668Z"
   },
   {
    "duration": 617,
    "start_time": "2022-07-14T04:29:29.235Z"
   },
   {
    "duration": 4,
    "start_time": "2022-07-14T04:29:29.854Z"
   },
   {
    "duration": 7,
    "start_time": "2022-07-14T04:29:29.860Z"
   },
   {
    "duration": 11,
    "start_time": "2022-07-14T04:29:29.869Z"
   },
   {
    "duration": 1329,
    "start_time": "2022-07-14T04:29:29.882Z"
   },
   {
    "duration": 126,
    "start_time": "2022-07-14T04:29:31.215Z"
   },
   {
    "duration": 0,
    "start_time": "2022-07-14T04:29:31.343Z"
   },
   {
    "duration": 0,
    "start_time": "2022-07-14T04:29:31.345Z"
   },
   {
    "duration": 0,
    "start_time": "2022-07-14T04:29:31.347Z"
   },
   {
    "duration": 0,
    "start_time": "2022-07-14T04:29:31.349Z"
   },
   {
    "duration": 0,
    "start_time": "2022-07-14T04:29:31.351Z"
   },
   {
    "duration": 0,
    "start_time": "2022-07-14T04:29:31.352Z"
   },
   {
    "duration": 0,
    "start_time": "2022-07-14T04:29:31.354Z"
   },
   {
    "duration": 4,
    "start_time": "2022-07-14T04:29:42.332Z"
   },
   {
    "duration": 3,
    "start_time": "2022-07-14T04:29:44.164Z"
   },
   {
    "duration": 9,
    "start_time": "2022-07-14T04:29:44.764Z"
   },
   {
    "duration": 10,
    "start_time": "2022-07-14T04:30:57.860Z"
   },
   {
    "duration": 1942,
    "start_time": "2022-07-14T04:31:40.645Z"
   },
   {
    "duration": 726,
    "start_time": "2022-07-14T04:31:42.589Z"
   },
   {
    "duration": 3,
    "start_time": "2022-07-14T04:31:43.316Z"
   },
   {
    "duration": 51,
    "start_time": "2022-07-14T04:31:43.321Z"
   },
   {
    "duration": 248,
    "start_time": "2022-07-14T04:31:43.373Z"
   },
   {
    "duration": 103,
    "start_time": "2022-07-14T04:31:43.623Z"
   },
   {
    "duration": 17,
    "start_time": "2022-07-14T04:31:43.727Z"
   },
   {
    "duration": 3,
    "start_time": "2022-07-14T04:31:43.746Z"
   },
   {
    "duration": 22,
    "start_time": "2022-07-14T04:31:43.751Z"
   },
   {
    "duration": 18,
    "start_time": "2022-07-14T04:31:43.797Z"
   },
   {
    "duration": 3,
    "start_time": "2022-07-14T04:31:43.817Z"
   },
   {
    "duration": 12,
    "start_time": "2022-07-14T04:31:43.821Z"
   },
   {
    "duration": 5,
    "start_time": "2022-07-14T04:31:43.835Z"
   },
   {
    "duration": 14,
    "start_time": "2022-07-14T04:31:43.841Z"
   },
   {
    "duration": 5,
    "start_time": "2022-07-14T04:31:43.857Z"
   },
   {
    "duration": 36,
    "start_time": "2022-07-14T04:31:43.864Z"
   },
   {
    "duration": 5,
    "start_time": "2022-07-14T04:31:43.902Z"
   },
   {
    "duration": 1551,
    "start_time": "2022-07-14T04:31:43.909Z"
   },
   {
    "duration": 1613,
    "start_time": "2022-07-14T04:31:45.462Z"
   },
   {
    "duration": 1473,
    "start_time": "2022-07-14T04:31:47.077Z"
   },
   {
    "duration": 5,
    "start_time": "2022-07-14T04:31:48.552Z"
   },
   {
    "duration": 574,
    "start_time": "2022-07-14T04:31:48.559Z"
   },
   {
    "duration": 610,
    "start_time": "2022-07-14T04:31:49.134Z"
   },
   {
    "duration": 2,
    "start_time": "2022-07-14T04:31:49.746Z"
   },
   {
    "duration": 5,
    "start_time": "2022-07-14T04:31:49.750Z"
   },
   {
    "duration": 9,
    "start_time": "2022-07-14T04:31:49.757Z"
   },
   {
    "duration": 1237,
    "start_time": "2022-07-14T04:31:49.768Z"
   },
   {
    "duration": 2,
    "start_time": "2022-07-14T04:31:51.009Z"
   },
   {
    "duration": 8,
    "start_time": "2022-07-14T04:31:51.013Z"
   },
   {
    "duration": 5,
    "start_time": "2022-07-14T04:31:51.023Z"
   },
   {
    "duration": 128,
    "start_time": "2022-07-14T04:31:51.029Z"
   },
   {
    "duration": 0,
    "start_time": "2022-07-14T04:31:51.158Z"
   },
   {
    "duration": 0,
    "start_time": "2022-07-14T04:31:51.160Z"
   },
   {
    "duration": 0,
    "start_time": "2022-07-14T04:31:51.161Z"
   },
   {
    "duration": 0,
    "start_time": "2022-07-14T04:31:51.162Z"
   },
   {
    "duration": 3,
    "start_time": "2022-07-14T04:32:06.241Z"
   },
   {
    "duration": 16,
    "start_time": "2022-07-14T04:32:10.289Z"
   },
   {
    "duration": 9,
    "start_time": "2022-07-14T04:33:44.950Z"
   },
   {
    "duration": 98,
    "start_time": "2022-07-14T04:33:54.390Z"
   },
   {
    "duration": 10,
    "start_time": "2022-07-14T04:34:39.328Z"
   },
   {
    "duration": 2813,
    "start_time": "2022-07-14T04:34:45.588Z"
   },
   {
    "duration": 1594,
    "start_time": "2022-07-14T16:51:36.290Z"
   },
   {
    "duration": 135,
    "start_time": "2022-07-14T16:52:20.829Z"
   },
   {
    "duration": 38,
    "start_time": "2022-07-14T16:53:51.529Z"
   },
   {
    "duration": 144,
    "start_time": "2022-07-14T16:54:03.919Z"
   },
   {
    "duration": 17,
    "start_time": "2022-07-14T16:54:27.132Z"
   },
   {
    "duration": 2905,
    "start_time": "2022-07-14T16:55:41.249Z"
   },
   {
    "duration": 2,
    "start_time": "2022-07-14T16:55:50.744Z"
   },
   {
    "duration": 43,
    "start_time": "2022-07-14T16:55:52.287Z"
   },
   {
    "duration": 213,
    "start_time": "2022-07-14T16:55:56.658Z"
   },
   {
    "duration": 85,
    "start_time": "2022-07-14T16:55:57.780Z"
   },
   {
    "duration": 16,
    "start_time": "2022-07-14T16:56:00.048Z"
   },
   {
    "duration": 3,
    "start_time": "2022-07-14T16:56:02.258Z"
   },
   {
    "duration": 16,
    "start_time": "2022-07-14T16:56:02.755Z"
   },
   {
    "duration": 14,
    "start_time": "2022-07-14T16:56:09.499Z"
   },
   {
    "duration": 3,
    "start_time": "2022-07-14T16:56:12.938Z"
   },
   {
    "duration": 4,
    "start_time": "2022-07-14T16:56:13.361Z"
   },
   {
    "duration": 16,
    "start_time": "2022-07-14T16:58:15.018Z"
   },
   {
    "duration": 76,
    "start_time": "2022-07-14T17:00:22.951Z"
   },
   {
    "duration": 51,
    "start_time": "2022-07-14T17:08:32.580Z"
   },
   {
    "duration": 43,
    "start_time": "2022-07-14T17:22:28.607Z"
   },
   {
    "duration": 661,
    "start_time": "2022-07-14T17:22:43.630Z"
   },
   {
    "duration": 4,
    "start_time": "2022-07-14T17:26:01.595Z"
   },
   {
    "duration": 43,
    "start_time": "2022-07-14T17:26:02.521Z"
   },
   {
    "duration": 198,
    "start_time": "2022-07-14T17:26:03.449Z"
   },
   {
    "duration": 75,
    "start_time": "2022-07-14T17:26:03.808Z"
   },
   {
    "duration": 13,
    "start_time": "2022-07-14T17:26:04.188Z"
   },
   {
    "duration": 3,
    "start_time": "2022-07-14T17:26:04.749Z"
   },
   {
    "duration": 16,
    "start_time": "2022-07-14T17:26:05.030Z"
   },
   {
    "duration": 11,
    "start_time": "2022-07-14T17:26:07.712Z"
   },
   {
    "duration": 3,
    "start_time": "2022-07-14T17:26:09.084Z"
   },
   {
    "duration": 5,
    "start_time": "2022-07-14T17:26:10.051Z"
   },
   {
    "duration": 4,
    "start_time": "2022-07-14T17:34:22.752Z"
   },
   {
    "duration": 42,
    "start_time": "2022-07-14T17:34:23.403Z"
   },
   {
    "duration": 217,
    "start_time": "2022-07-14T17:34:23.942Z"
   },
   {
    "duration": 75,
    "start_time": "2022-07-14T17:34:24.284Z"
   },
   {
    "duration": 13,
    "start_time": "2022-07-14T17:34:24.672Z"
   },
   {
    "duration": 3,
    "start_time": "2022-07-14T17:34:25.042Z"
   },
   {
    "duration": 15,
    "start_time": "2022-07-14T17:34:25.223Z"
   },
   {
    "duration": 11,
    "start_time": "2022-07-14T17:34:25.620Z"
   },
   {
    "duration": 3,
    "start_time": "2022-07-14T17:34:26.653Z"
   },
   {
    "duration": 5,
    "start_time": "2022-07-14T17:34:26.931Z"
   },
   {
    "duration": 3,
    "start_time": "2022-07-14T17:34:28.270Z"
   },
   {
    "duration": 786,
    "start_time": "2022-07-14T17:34:31.803Z"
   },
   {
    "duration": 869,
    "start_time": "2022-07-14T17:34:33.641Z"
   },
   {
    "duration": 4,
    "start_time": "2022-07-14T17:34:35.700Z"
   },
   {
    "duration": 43,
    "start_time": "2022-07-14T17:35:50.571Z"
   },
   {
    "duration": 677,
    "start_time": "2022-07-14T17:36:01.254Z"
   },
   {
    "duration": 665,
    "start_time": "2022-07-14T17:52:03.922Z"
   },
   {
    "duration": 3,
    "start_time": "2022-07-14T17:52:26.520Z"
   },
   {
    "duration": 9,
    "start_time": "2022-07-14T17:52:27.141Z"
   },
   {
    "duration": 5,
    "start_time": "2022-07-14T17:58:50.731Z"
   },
   {
    "duration": 4,
    "start_time": "2022-07-14T17:58:52.764Z"
   },
   {
    "duration": 916,
    "start_time": "2022-07-14T17:58:54.236Z"
   },
   {
    "duration": 706,
    "start_time": "2022-07-14T18:50:06.002Z"
   },
   {
    "duration": 2074,
    "start_time": "2022-07-14T18:50:26.642Z"
   },
   {
    "duration": 3,
    "start_time": "2022-07-14T18:50:31.704Z"
   },
   {
    "duration": 40,
    "start_time": "2022-07-14T18:50:33.920Z"
   },
   {
    "duration": 646,
    "start_time": "2022-07-14T18:50:52.212Z"
   },
   {
    "duration": 224,
    "start_time": "2022-07-14T18:51:00.169Z"
   },
   {
    "duration": 93,
    "start_time": "2022-07-14T18:51:00.512Z"
   },
   {
    "duration": 14,
    "start_time": "2022-07-14T18:51:00.880Z"
   },
   {
    "duration": 4,
    "start_time": "2022-07-14T18:51:01.312Z"
   },
   {
    "duration": 24,
    "start_time": "2022-07-14T18:51:01.520Z"
   },
   {
    "duration": 14,
    "start_time": "2022-07-14T18:51:01.959Z"
   },
   {
    "duration": 3,
    "start_time": "2022-07-14T18:51:03.104Z"
   },
   {
    "duration": 5,
    "start_time": "2022-07-14T18:51:03.288Z"
   },
   {
    "duration": 4,
    "start_time": "2022-07-14T18:51:05.240Z"
   },
   {
    "duration": 805,
    "start_time": "2022-07-14T18:51:05.744Z"
   },
   {
    "duration": 1316,
    "start_time": "2022-07-14T19:06:57.010Z"
   },
   {
    "duration": 670,
    "start_time": "2022-07-14T19:07:02.662Z"
   },
   {
    "duration": 1185,
    "start_time": "2022-07-14T19:07:33.594Z"
   },
   {
    "duration": 1167,
    "start_time": "2022-07-14T19:07:41.353Z"
   },
   {
    "duration": 39,
    "start_time": "2022-07-14T19:10:58.744Z"
   },
   {
    "duration": 725,
    "start_time": "2022-07-14T19:15:31.762Z"
   },
   {
    "duration": 9,
    "start_time": "2022-07-14T19:15:36.312Z"
   },
   {
    "duration": 40,
    "start_time": "2022-07-14T19:15:39.559Z"
   },
   {
    "duration": 3,
    "start_time": "2022-07-14T19:15:39.872Z"
   },
   {
    "duration": 38,
    "start_time": "2022-07-14T19:15:40.221Z"
   },
   {
    "duration": 199,
    "start_time": "2022-07-14T19:15:40.740Z"
   },
   {
    "duration": 73,
    "start_time": "2022-07-14T19:15:41.096Z"
   },
   {
    "duration": 14,
    "start_time": "2022-07-14T19:15:41.434Z"
   },
   {
    "duration": 3,
    "start_time": "2022-07-14T19:15:41.798Z"
   },
   {
    "duration": 23,
    "start_time": "2022-07-14T19:15:41.961Z"
   },
   {
    "duration": 15,
    "start_time": "2022-07-14T19:15:42.341Z"
   },
   {
    "duration": 3,
    "start_time": "2022-07-14T19:15:43.413Z"
   },
   {
    "duration": 6,
    "start_time": "2022-07-14T19:15:43.619Z"
   },
   {
    "duration": 3,
    "start_time": "2022-07-14T19:15:50.052Z"
   },
   {
    "duration": 12,
    "start_time": "2022-07-14T19:15:50.406Z"
   },
   {
    "duration": 9,
    "start_time": "2022-07-14T19:15:52.119Z"
   },
   {
    "duration": 4,
    "start_time": "2022-07-14T19:46:02.165Z"
   },
   {
    "duration": 697,
    "start_time": "2022-07-14T19:46:06.127Z"
   },
   {
    "duration": 4,
    "start_time": "2022-07-14T19:46:43.756Z"
   },
   {
    "duration": 33,
    "start_time": "2022-07-14T19:46:44.379Z"
   },
   {
    "duration": 243,
    "start_time": "2022-07-14T19:46:46.427Z"
   },
   {
    "duration": 116,
    "start_time": "2022-07-14T19:46:47.249Z"
   },
   {
    "duration": 15,
    "start_time": "2022-07-14T19:47:21.844Z"
   },
   {
    "duration": 5,
    "start_time": "2022-07-14T19:47:23.954Z"
   },
   {
    "duration": 17,
    "start_time": "2022-07-14T19:47:25.443Z"
   },
   {
    "duration": 26,
    "start_time": "2022-07-14T19:47:42.324Z"
   },
   {
    "duration": 3,
    "start_time": "2022-07-14T19:47:45.605Z"
   },
   {
    "duration": 10,
    "start_time": "2022-07-14T19:47:46.020Z"
   },
   {
    "duration": 5,
    "start_time": "2022-07-14T19:54:08.304Z"
   },
   {
    "duration": 1507,
    "start_time": "2022-07-14T19:54:09.285Z"
   },
   {
    "duration": 7,
    "start_time": "2022-07-14T19:55:44.165Z"
   },
   {
    "duration": 2298,
    "start_time": "2022-07-14T19:55:46.410Z"
   },
   {
    "duration": 5,
    "start_time": "2022-07-14T19:56:10.535Z"
   },
   {
    "duration": 2191,
    "start_time": "2022-07-14T19:56:11.443Z"
   },
   {
    "duration": 5,
    "start_time": "2022-07-14T19:56:28.273Z"
   },
   {
    "duration": 2298,
    "start_time": "2022-07-14T19:56:29.426Z"
   },
   {
    "duration": 1954,
    "start_time": "2022-07-14T19:57:26.602Z"
   },
   {
    "duration": 5,
    "start_time": "2022-07-14T19:57:56.070Z"
   },
   {
    "duration": 1856,
    "start_time": "2022-07-14T19:57:56.382Z"
   },
   {
    "duration": 1729,
    "start_time": "2022-07-14T19:58:00.872Z"
   },
   {
    "duration": 1488,
    "start_time": "2022-07-14T19:58:06.522Z"
   },
   {
    "duration": 6,
    "start_time": "2022-07-14T19:58:08.652Z"
   },
   {
    "duration": 567,
    "start_time": "2022-07-14T19:58:09.905Z"
   },
   {
    "duration": 603,
    "start_time": "2022-07-14T19:58:11.860Z"
   },
   {
    "duration": 3,
    "start_time": "2022-07-14T19:58:15.412Z"
   },
   {
    "duration": 2,
    "start_time": "2022-07-14T19:58:15.595Z"
   },
   {
    "duration": 10,
    "start_time": "2022-07-14T19:58:15.744Z"
   },
   {
    "duration": 1460,
    "start_time": "2022-07-14T19:58:15.912Z"
   },
   {
    "duration": 804,
    "start_time": "2022-07-14T20:07:57.722Z"
   },
   {
    "duration": 10,
    "start_time": "2022-07-14T20:21:33.692Z"
   },
   {
    "duration": 4,
    "start_time": "2022-07-14T20:21:58.778Z"
   },
   {
    "duration": 3,
    "start_time": "2022-07-14T20:22:01.879Z"
   },
   {
    "duration": 7,
    "start_time": "2022-07-14T20:22:07.172Z"
   },
   {
    "duration": 4,
    "start_time": "2022-07-14T20:22:08.623Z"
   },
   {
    "duration": 3,
    "start_time": "2022-07-14T20:22:09.898Z"
   },
   {
    "duration": 1453,
    "start_time": "2022-07-15T18:52:11.343Z"
   },
   {
    "duration": 1856,
    "start_time": "2022-07-15T18:52:12.798Z"
   },
   {
    "duration": 3,
    "start_time": "2022-07-15T18:52:14.655Z"
   },
   {
    "duration": 37,
    "start_time": "2022-07-15T18:52:14.659Z"
   },
   {
    "duration": 218,
    "start_time": "2022-07-15T18:52:14.698Z"
   },
   {
    "duration": 82,
    "start_time": "2022-07-15T18:52:15.074Z"
   },
   {
    "duration": 14,
    "start_time": "2022-07-15T18:52:15.623Z"
   },
   {
    "duration": 3,
    "start_time": "2022-07-15T18:52:16.188Z"
   },
   {
    "duration": 17,
    "start_time": "2022-07-15T18:52:16.622Z"
   },
   {
    "duration": 14,
    "start_time": "2022-07-15T18:52:17.144Z"
   },
   {
    "duration": 2,
    "start_time": "2022-07-15T18:52:18.105Z"
   },
   {
    "duration": 7,
    "start_time": "2022-07-15T18:52:18.336Z"
   },
   {
    "duration": 4,
    "start_time": "2022-07-15T18:52:19.572Z"
   },
   {
    "duration": 11,
    "start_time": "2022-07-15T18:52:20.084Z"
   },
   {
    "duration": 8,
    "start_time": "2022-07-15T18:52:20.339Z"
   },
   {
    "duration": 4,
    "start_time": "2022-07-15T18:52:20.815Z"
   },
   {
    "duration": 6,
    "start_time": "2022-07-15T18:52:21.542Z"
   },
   {
    "duration": 1494,
    "start_time": "2022-07-15T18:52:27.222Z"
   },
   {
    "duration": 1474,
    "start_time": "2022-07-15T18:52:28.718Z"
   },
   {
    "duration": 1372,
    "start_time": "2022-07-15T18:52:30.194Z"
   },
   {
    "duration": 4,
    "start_time": "2022-07-15T18:52:31.568Z"
   },
   {
    "duration": 499,
    "start_time": "2022-07-15T18:52:31.573Z"
   },
   {
    "duration": 512,
    "start_time": "2022-07-15T18:52:32.074Z"
   },
   {
    "duration": 2,
    "start_time": "2022-07-15T18:52:33.222Z"
   },
   {
    "duration": 3,
    "start_time": "2022-07-15T18:52:55.562Z"
   },
   {
    "duration": 7,
    "start_time": "2022-07-15T18:52:55.800Z"
   },
   {
    "duration": 1260,
    "start_time": "2022-07-15T18:52:56.001Z"
   },
   {
    "duration": 90,
    "start_time": "2022-07-15T18:59:49.504Z"
   },
   {
    "duration": 1098,
    "start_time": "2022-07-15T19:00:06.890Z"
   },
   {
    "duration": 62,
    "start_time": "2022-07-15T19:03:15.108Z"
   },
   {
    "duration": 1125,
    "start_time": "2022-07-15T19:03:15.866Z"
   },
   {
    "duration": 7,
    "start_time": "2022-07-15T19:09:20.639Z"
   },
   {
    "duration": 4,
    "start_time": "2022-07-15T19:09:22.117Z"
   },
   {
    "duration": 3,
    "start_time": "2022-07-15T19:24:23.216Z"
   },
   {
    "duration": 112,
    "start_time": "2022-07-15T19:24:23.786Z"
   },
   {
    "duration": 17,
    "start_time": "2022-07-15T19:25:27.661Z"
   },
   {
    "duration": 18,
    "start_time": "2022-07-15T19:47:08.548Z"
   },
   {
    "duration": 15,
    "start_time": "2022-07-15T19:55:35.300Z"
   },
   {
    "duration": 2285,
    "start_time": "2022-07-16T10:52:58.569Z"
   },
   {
    "duration": 3258,
    "start_time": "2022-07-16T10:53:00.857Z"
   },
   {
    "duration": 6,
    "start_time": "2022-07-16T10:53:04.117Z"
   },
   {
    "duration": 49,
    "start_time": "2022-07-16T10:53:04.124Z"
   },
   {
    "duration": 328,
    "start_time": "2022-07-16T10:53:04.176Z"
   },
   {
    "duration": 149,
    "start_time": "2022-07-16T10:53:04.507Z"
   },
   {
    "duration": 19,
    "start_time": "2022-07-16T10:53:04.659Z"
   },
   {
    "duration": 15,
    "start_time": "2022-07-16T10:53:04.680Z"
   },
   {
    "duration": 32,
    "start_time": "2022-07-16T10:53:04.697Z"
   },
   {
    "duration": 28,
    "start_time": "2022-07-16T10:53:04.732Z"
   },
   {
    "duration": 4,
    "start_time": "2022-07-16T10:53:05.440Z"
   },
   {
    "duration": 8,
    "start_time": "2022-07-16T10:53:05.642Z"
   },
   {
    "duration": 5,
    "start_time": "2022-07-16T10:53:06.735Z"
   },
   {
    "duration": 15,
    "start_time": "2022-07-16T10:53:07.149Z"
   },
   {
    "duration": 10,
    "start_time": "2022-07-16T10:53:07.358Z"
   },
   {
    "duration": 4,
    "start_time": "2022-07-16T10:53:08.072Z"
   },
   {
    "duration": 6,
    "start_time": "2022-07-16T10:53:08.957Z"
   },
   {
    "duration": 1677,
    "start_time": "2022-07-16T10:53:09.440Z"
   },
   {
    "duration": 1484,
    "start_time": "2022-07-16T10:53:11.120Z"
   },
   {
    "duration": 1756,
    "start_time": "2022-07-16T10:53:12.606Z"
   },
   {
    "duration": 5,
    "start_time": "2022-07-16T10:53:14.364Z"
   },
   {
    "duration": 590,
    "start_time": "2022-07-16T10:53:14.370Z"
   },
   {
    "duration": 656,
    "start_time": "2022-07-16T10:53:14.962Z"
   },
   {
    "duration": 3,
    "start_time": "2022-07-16T10:53:15.619Z"
   },
   {
    "duration": 12,
    "start_time": "2022-07-16T10:53:15.624Z"
   },
   {
    "duration": 10,
    "start_time": "2022-07-16T10:53:15.646Z"
   },
   {
    "duration": 1275,
    "start_time": "2022-07-16T10:53:15.658Z"
   },
   {
    "duration": 109,
    "start_time": "2022-07-16T10:53:18.168Z"
   },
   {
    "duration": 1234,
    "start_time": "2022-07-16T10:53:19.423Z"
   },
   {
    "duration": 4,
    "start_time": "2022-07-16T10:59:53.670Z"
   },
   {
    "duration": 119,
    "start_time": "2022-07-16T11:00:20.272Z"
   },
   {
    "duration": 11,
    "start_time": "2022-07-16T11:00:29.776Z"
   },
   {
    "duration": 3,
    "start_time": "2022-07-16T11:01:07.873Z"
   },
   {
    "duration": 4,
    "start_time": "2022-07-16T11:02:06.419Z"
   },
   {
    "duration": 13,
    "start_time": "2022-07-16T11:02:29.039Z"
   },
   {
    "duration": 11,
    "start_time": "2022-07-16T11:02:40.748Z"
   },
   {
    "duration": 5,
    "start_time": "2022-07-16T11:09:26.514Z"
   },
   {
    "duration": 751,
    "start_time": "2022-07-16T11:09:27.086Z"
   },
   {
    "duration": 8,
    "start_time": "2022-07-16T11:09:27.839Z"
   },
   {
    "duration": 37,
    "start_time": "2022-07-16T11:09:28.146Z"
   },
   {
    "duration": 241,
    "start_time": "2022-07-16T11:09:28.667Z"
   },
   {
    "duration": 128,
    "start_time": "2022-07-16T11:09:29.065Z"
   },
   {
    "duration": 18,
    "start_time": "2022-07-16T11:09:29.444Z"
   },
   {
    "duration": 4,
    "start_time": "2022-07-16T11:09:29.814Z"
   },
   {
    "duration": 21,
    "start_time": "2022-07-16T11:09:30.007Z"
   },
   {
    "duration": 15,
    "start_time": "2022-07-16T11:09:30.384Z"
   },
   {
    "duration": 3,
    "start_time": "2022-07-16T11:09:31.117Z"
   },
   {
    "duration": 8,
    "start_time": "2022-07-16T11:09:31.296Z"
   },
   {
    "duration": 4,
    "start_time": "2022-07-16T11:09:32.438Z"
   },
   {
    "duration": 17,
    "start_time": "2022-07-16T11:09:32.845Z"
   },
   {
    "duration": 12,
    "start_time": "2022-07-16T11:09:33.043Z"
   },
   {
    "duration": 4,
    "start_time": "2022-07-16T11:09:33.606Z"
   },
   {
    "duration": 5,
    "start_time": "2022-07-16T11:09:34.205Z"
   },
   {
    "duration": 1538,
    "start_time": "2022-07-16T11:09:34.577Z"
   },
   {
    "duration": 1704,
    "start_time": "2022-07-16T11:09:36.118Z"
   },
   {
    "duration": 1659,
    "start_time": "2022-07-16T11:09:37.824Z"
   },
   {
    "duration": 6,
    "start_time": "2022-07-16T11:09:39.485Z"
   },
   {
    "duration": 636,
    "start_time": "2022-07-16T11:09:39.493Z"
   },
   {
    "duration": 526,
    "start_time": "2022-07-16T11:09:40.131Z"
   },
   {
    "duration": 3,
    "start_time": "2022-07-16T11:09:40.659Z"
   },
   {
    "duration": 8,
    "start_time": "2022-07-16T11:09:40.663Z"
   },
   {
    "duration": 14,
    "start_time": "2022-07-16T11:09:40.672Z"
   },
   {
    "duration": 1272,
    "start_time": "2022-07-16T11:09:40.688Z"
   },
   {
    "duration": 108,
    "start_time": "2022-07-16T11:09:41.962Z"
   },
   {
    "duration": 1154,
    "start_time": "2022-07-16T11:09:42.072Z"
   },
   {
    "duration": 6,
    "start_time": "2022-07-16T11:09:43.229Z"
   },
   {
    "duration": 17,
    "start_time": "2022-07-16T11:09:43.237Z"
   },
   {
    "duration": 3,
    "start_time": "2022-07-16T11:09:52.281Z"
   },
   {
    "duration": 13,
    "start_time": "2022-07-16T11:10:00.852Z"
   },
   {
    "duration": 15,
    "start_time": "2022-07-16T11:10:02.006Z"
   },
   {
    "duration": 13,
    "start_time": "2022-07-16T11:10:02.693Z"
   },
   {
    "duration": 27,
    "start_time": "2022-07-16T11:11:58.907Z"
   },
   {
    "duration": 19,
    "start_time": "2022-07-16T13:14:42.444Z"
   },
   {
    "duration": 1011,
    "start_time": "2022-07-16T13:15:06.774Z"
   },
   {
    "duration": 846,
    "start_time": "2022-07-16T13:15:20.358Z"
   },
   {
    "duration": 918,
    "start_time": "2022-07-16T13:15:39.389Z"
   },
   {
    "duration": 16,
    "start_time": "2022-07-16T13:19:15.285Z"
   },
   {
    "duration": 31,
    "start_time": "2022-07-16T13:30:28.946Z"
   },
   {
    "duration": 24,
    "start_time": "2022-07-16T13:30:48.380Z"
   },
   {
    "duration": 16,
    "start_time": "2022-07-16T13:37:31.049Z"
   },
   {
    "duration": 870,
    "start_time": "2022-07-16T13:37:33.239Z"
   },
   {
    "duration": 19,
    "start_time": "2022-07-16T13:37:37.976Z"
   },
   {
    "duration": 1645,
    "start_time": "2022-07-16T13:38:38.959Z"
   },
   {
    "duration": 849,
    "start_time": "2022-07-16T13:38:42.082Z"
   },
   {
    "duration": 4,
    "start_time": "2022-07-16T13:38:42.934Z"
   },
   {
    "duration": 42,
    "start_time": "2022-07-16T13:38:42.946Z"
   },
   {
    "duration": 281,
    "start_time": "2022-07-16T13:38:42.990Z"
   },
   {
    "duration": 106,
    "start_time": "2022-07-16T13:38:43.273Z"
   },
   {
    "duration": 17,
    "start_time": "2022-07-16T13:38:43.381Z"
   },
   {
    "duration": 3,
    "start_time": "2022-07-16T13:38:43.400Z"
   },
   {
    "duration": 55,
    "start_time": "2022-07-16T13:38:43.406Z"
   },
   {
    "duration": 17,
    "start_time": "2022-07-16T13:38:43.556Z"
   },
   {
    "duration": 4,
    "start_time": "2022-07-16T13:38:43.674Z"
   },
   {
    "duration": 10,
    "start_time": "2022-07-16T13:38:43.705Z"
   },
   {
    "duration": 4,
    "start_time": "2022-07-16T13:38:43.893Z"
   },
   {
    "duration": 17,
    "start_time": "2022-07-16T13:38:44.455Z"
   },
   {
    "duration": 12,
    "start_time": "2022-07-16T13:38:44.952Z"
   },
   {
    "duration": 5,
    "start_time": "2022-07-16T13:38:45.054Z"
   },
   {
    "duration": 7,
    "start_time": "2022-07-16T13:38:45.117Z"
   },
   {
    "duration": 1638,
    "start_time": "2022-07-16T13:38:45.151Z"
   },
   {
    "duration": 1635,
    "start_time": "2022-07-16T13:38:46.792Z"
   },
   {
    "duration": 1807,
    "start_time": "2022-07-16T13:38:48.429Z"
   },
   {
    "duration": 4,
    "start_time": "2022-07-16T13:38:50.245Z"
   },
   {
    "duration": 729,
    "start_time": "2022-07-16T13:38:50.251Z"
   },
   {
    "duration": 604,
    "start_time": "2022-07-16T13:38:50.982Z"
   },
   {
    "duration": 3,
    "start_time": "2022-07-16T13:38:51.588Z"
   },
   {
    "duration": 6,
    "start_time": "2022-07-16T13:38:51.593Z"
   },
   {
    "duration": 12,
    "start_time": "2022-07-16T13:38:51.601Z"
   },
   {
    "duration": 1743,
    "start_time": "2022-07-16T13:38:51.616Z"
   },
   {
    "duration": 127,
    "start_time": "2022-07-16T13:38:53.361Z"
   },
   {
    "duration": 1420,
    "start_time": "2022-07-16T13:38:53.490Z"
   },
   {
    "duration": 3,
    "start_time": "2022-07-16T13:39:11.743Z"
   },
   {
    "duration": 146,
    "start_time": "2022-07-16T13:39:12.956Z"
   },
   {
    "duration": 11,
    "start_time": "2022-07-16T13:39:14.610Z"
   },
   {
    "duration": 19,
    "start_time": "2022-07-16T13:39:47.275Z"
   },
   {
    "duration": 20,
    "start_time": "2022-07-16T13:39:53.748Z"
   },
   {
    "duration": 14,
    "start_time": "2022-07-16T14:18:55.168Z"
   },
   {
    "duration": 10,
    "start_time": "2022-07-16T14:18:56.590Z"
   },
   {
    "duration": 9,
    "start_time": "2022-07-16T14:18:57.159Z"
   },
   {
    "duration": 13,
    "start_time": "2022-07-16T14:24:49.037Z"
   },
   {
    "duration": 17,
    "start_time": "2022-07-16T14:25:05.854Z"
   },
   {
    "duration": 68,
    "start_time": "2022-07-16T14:27:03.014Z"
   },
   {
    "duration": 12,
    "start_time": "2022-07-16T14:27:11.561Z"
   },
   {
    "duration": 4,
    "start_time": "2022-07-16T14:27:12.802Z"
   },
   {
    "duration": 3,
    "start_time": "2022-07-16T14:27:13.964Z"
   },
   {
    "duration": 9,
    "start_time": "2022-07-16T14:27:15.124Z"
   },
   {
    "duration": 17,
    "start_time": "2022-07-16T14:27:16.412Z"
   },
   {
    "duration": 15,
    "start_time": "2022-07-16T14:27:16.655Z"
   },
   {
    "duration": 1435,
    "start_time": "2022-07-16T14:27:46.591Z"
   },
   {
    "duration": 744,
    "start_time": "2022-07-16T14:27:48.028Z"
   },
   {
    "duration": 3,
    "start_time": "2022-07-16T14:27:48.774Z"
   },
   {
    "duration": 44,
    "start_time": "2022-07-16T14:27:48.779Z"
   },
   {
    "duration": 290,
    "start_time": "2022-07-16T14:27:48.825Z"
   },
   {
    "duration": 113,
    "start_time": "2022-07-16T14:27:49.118Z"
   },
   {
    "duration": 33,
    "start_time": "2022-07-16T14:27:49.233Z"
   },
   {
    "duration": 13,
    "start_time": "2022-07-16T14:27:49.268Z"
   },
   {
    "duration": 26,
    "start_time": "2022-07-16T14:27:49.282Z"
   },
   {
    "duration": 16,
    "start_time": "2022-07-16T14:27:49.310Z"
   },
   {
    "duration": 24,
    "start_time": "2022-07-16T14:27:49.327Z"
   },
   {
    "duration": 32,
    "start_time": "2022-07-16T14:27:49.353Z"
   },
   {
    "duration": 16,
    "start_time": "2022-07-16T14:27:49.387Z"
   },
   {
    "duration": 28,
    "start_time": "2022-07-16T14:27:49.405Z"
   },
   {
    "duration": 16,
    "start_time": "2022-07-16T14:27:49.435Z"
   },
   {
    "duration": 21,
    "start_time": "2022-07-16T14:27:49.454Z"
   },
   {
    "duration": 11,
    "start_time": "2022-07-16T14:27:49.476Z"
   },
   {
    "duration": 1556,
    "start_time": "2022-07-16T14:27:49.488Z"
   },
   {
    "duration": 1550,
    "start_time": "2022-07-16T14:27:51.050Z"
   },
   {
    "duration": 1466,
    "start_time": "2022-07-16T14:27:52.602Z"
   },
   {
    "duration": 4,
    "start_time": "2022-07-16T14:27:54.070Z"
   },
   {
    "duration": 566,
    "start_time": "2022-07-16T14:27:54.076Z"
   },
   {
    "duration": 630,
    "start_time": "2022-07-16T14:27:54.647Z"
   },
   {
    "duration": 3,
    "start_time": "2022-07-16T14:27:55.279Z"
   },
   {
    "duration": 6,
    "start_time": "2022-07-16T14:27:55.284Z"
   },
   {
    "duration": 10,
    "start_time": "2022-07-16T14:27:55.291Z"
   },
   {
    "duration": 1231,
    "start_time": "2022-07-16T14:27:55.302Z"
   },
   {
    "duration": 117,
    "start_time": "2022-07-16T14:27:56.535Z"
   },
   {
    "duration": 1183,
    "start_time": "2022-07-16T14:27:56.656Z"
   },
   {
    "duration": 4,
    "start_time": "2022-07-16T14:27:57.840Z"
   },
   {
    "duration": 24,
    "start_time": "2022-07-16T14:27:57.846Z"
   },
   {
    "duration": 13,
    "start_time": "2022-07-16T14:27:57.871Z"
   },
   {
    "duration": 8,
    "start_time": "2022-07-16T14:27:57.886Z"
   },
   {
    "duration": 13,
    "start_time": "2022-07-16T14:27:57.896Z"
   },
   {
    "duration": 187,
    "start_time": "2022-07-16T14:28:10.894Z"
   },
   {
    "duration": 4,
    "start_time": "2022-07-16T14:28:24.171Z"
   },
   {
    "duration": 539,
    "start_time": "2022-07-16T14:28:25.960Z"
   },
   {
    "duration": 3,
    "start_time": "2022-07-16T14:29:22.168Z"
   },
   {
    "duration": 503,
    "start_time": "2022-07-16T14:29:24.286Z"
   },
   {
    "duration": 4,
    "start_time": "2022-07-16T14:29:30.677Z"
   },
   {
    "duration": 467,
    "start_time": "2022-07-16T14:29:32.365Z"
   },
   {
    "duration": 536,
    "start_time": "2022-07-16T15:05:03.458Z"
   },
   {
    "duration": 159,
    "start_time": "2022-07-16T15:05:12.748Z"
   },
   {
    "duration": 295,
    "start_time": "2022-07-16T15:05:14.154Z"
   },
   {
    "duration": 294,
    "start_time": "2022-07-16T15:05:26.053Z"
   },
   {
    "duration": 800,
    "start_time": "2022-07-16T15:05:39.456Z"
   },
   {
    "duration": 4,
    "start_time": "2022-07-16T15:06:45.187Z"
   },
   {
    "duration": 61,
    "start_time": "2022-07-16T15:07:11.503Z"
   },
   {
    "duration": 14,
    "start_time": "2022-07-16T15:07:18.799Z"
   },
   {
    "duration": 12,
    "start_time": "2022-07-16T15:07:26.584Z"
   },
   {
    "duration": 6,
    "start_time": "2022-07-16T15:08:17.957Z"
   },
   {
    "duration": 240,
    "start_time": "2022-07-16T15:08:26.283Z"
   },
   {
    "duration": 3,
    "start_time": "2022-07-16T15:09:24.047Z"
   },
   {
    "duration": 474,
    "start_time": "2022-07-16T15:09:28.000Z"
   },
   {
    "duration": 4,
    "start_time": "2022-07-16T15:55:58.254Z"
   },
   {
    "duration": 473,
    "start_time": "2022-07-16T16:02:22.546Z"
   },
   {
    "duration": 59,
    "start_time": "2022-07-16T16:54:48.311Z"
   },
   {
    "duration": 74,
    "start_time": "2022-07-16T16:55:00.546Z"
   },
   {
    "duration": 6,
    "start_time": "2022-07-16T16:55:47.485Z"
   },
   {
    "duration": 3,
    "start_time": "2022-07-16T16:55:51.354Z"
   },
   {
    "duration": 15,
    "start_time": "2022-07-16T16:55:53.760Z"
   },
   {
    "duration": 25,
    "start_time": "2022-07-16T16:55:53.917Z"
   },
   {
    "duration": 11,
    "start_time": "2022-07-16T16:55:54.084Z"
   },
   {
    "duration": 182150,
    "start_time": "2022-07-16T16:55:55.054Z"
   },
   {
    "duration": 9,
    "start_time": "2022-07-16T16:58:57.225Z"
   },
   {
    "duration": 3,
    "start_time": "2022-07-16T16:59:12.061Z"
   },
   {
    "duration": 175739,
    "start_time": "2022-07-16T17:08:02.384Z"
   },
   {
    "duration": 1353,
    "start_time": "2022-07-16T18:21:25.923Z"
   },
   {
    "duration": 697,
    "start_time": "2022-07-16T18:21:27.278Z"
   },
   {
    "duration": 3,
    "start_time": "2022-07-16T18:21:27.977Z"
   },
   {
    "duration": 40,
    "start_time": "2022-07-16T18:21:27.981Z"
   },
   {
    "duration": 271,
    "start_time": "2022-07-16T18:21:28.863Z"
   },
   {
    "duration": 77,
    "start_time": "2022-07-16T18:21:29.396Z"
   },
   {
    "duration": 14,
    "start_time": "2022-07-16T18:21:29.657Z"
   },
   {
    "duration": 3,
    "start_time": "2022-07-16T18:21:30.018Z"
   },
   {
    "duration": 18,
    "start_time": "2022-07-16T18:21:30.198Z"
   },
   {
    "duration": 14,
    "start_time": "2022-07-16T18:21:30.597Z"
   },
   {
    "duration": 3,
    "start_time": "2022-07-16T18:21:31.385Z"
   },
   {
    "duration": 6,
    "start_time": "2022-07-16T18:21:31.592Z"
   },
   {
    "duration": 5,
    "start_time": "2022-07-16T18:21:32.555Z"
   },
   {
    "duration": 16,
    "start_time": "2022-07-16T18:21:32.917Z"
   },
   {
    "duration": 8,
    "start_time": "2022-07-16T18:21:33.110Z"
   },
   {
    "duration": 4,
    "start_time": "2022-07-16T18:21:33.516Z"
   },
   {
    "duration": 5,
    "start_time": "2022-07-16T18:21:34.095Z"
   },
   {
    "duration": 1568,
    "start_time": "2022-07-16T18:21:34.284Z"
   },
   {
    "duration": 1664,
    "start_time": "2022-07-16T18:21:35.855Z"
   },
   {
    "duration": 1536,
    "start_time": "2022-07-16T18:21:37.521Z"
   },
   {
    "duration": 4,
    "start_time": "2022-07-16T18:21:39.060Z"
   },
   {
    "duration": 548,
    "start_time": "2022-07-16T18:21:39.066Z"
   },
   {
    "duration": 598,
    "start_time": "2022-07-16T18:21:39.616Z"
   },
   {
    "duration": 3,
    "start_time": "2022-07-16T18:21:40.216Z"
   },
   {
    "duration": 7,
    "start_time": "2022-07-16T18:21:40.220Z"
   },
   {
    "duration": 9,
    "start_time": "2022-07-16T18:21:40.228Z"
   },
   {
    "duration": 1154,
    "start_time": "2022-07-16T18:21:40.247Z"
   },
   {
    "duration": 110,
    "start_time": "2022-07-16T18:21:41.403Z"
   },
   {
    "duration": 1082,
    "start_time": "2022-07-16T18:21:41.515Z"
   },
   {
    "duration": 4,
    "start_time": "2022-07-16T18:21:42.599Z"
   },
   {
    "duration": 3,
    "start_time": "2022-07-16T18:21:44.257Z"
   },
   {
    "duration": 10,
    "start_time": "2022-07-16T18:21:45.049Z"
   },
   {
    "duration": 12,
    "start_time": "2022-07-16T18:21:45.518Z"
   },
   {
    "duration": 11,
    "start_time": "2022-07-16T18:21:46.895Z"
   },
   {
    "duration": 1461,
    "start_time": "2022-07-16T18:45:37.756Z"
   },
   {
    "duration": 737,
    "start_time": "2022-07-16T18:45:39.219Z"
   },
   {
    "duration": 16,
    "start_time": "2022-07-16T18:45:39.959Z"
   },
   {
    "duration": 64,
    "start_time": "2022-07-16T18:45:39.978Z"
   },
   {
    "duration": 226,
    "start_time": "2022-07-16T18:45:40.044Z"
   },
   {
    "duration": 108,
    "start_time": "2022-07-16T18:45:40.272Z"
   },
   {
    "duration": 17,
    "start_time": "2022-07-16T18:45:40.382Z"
   },
   {
    "duration": 3,
    "start_time": "2022-07-16T18:45:40.400Z"
   },
   {
    "duration": 49,
    "start_time": "2022-07-16T18:45:40.405Z"
   },
   {
    "duration": 15,
    "start_time": "2022-07-16T18:45:40.458Z"
   },
   {
    "duration": 4,
    "start_time": "2022-07-16T18:45:40.474Z"
   },
   {
    "duration": 20,
    "start_time": "2022-07-16T18:45:40.480Z"
   },
   {
    "duration": 5,
    "start_time": "2022-07-16T18:45:40.502Z"
   },
   {
    "duration": 14,
    "start_time": "2022-07-16T18:45:40.510Z"
   },
   {
    "duration": 37,
    "start_time": "2022-07-16T18:45:40.526Z"
   },
   {
    "duration": 17,
    "start_time": "2022-07-16T18:45:40.564Z"
   },
   {
    "duration": 9,
    "start_time": "2022-07-16T18:45:40.583Z"
   },
   {
    "duration": 1682,
    "start_time": "2022-07-16T18:45:40.594Z"
   },
   {
    "duration": 1630,
    "start_time": "2022-07-16T18:45:42.278Z"
   },
   {
    "duration": 1418,
    "start_time": "2022-07-16T18:45:43.910Z"
   },
   {
    "duration": 5,
    "start_time": "2022-07-16T18:45:45.330Z"
   },
   {
    "duration": 493,
    "start_time": "2022-07-16T18:45:45.345Z"
   },
   {
    "duration": 522,
    "start_time": "2022-07-16T18:45:45.840Z"
   },
   {
    "duration": 3,
    "start_time": "2022-07-16T18:45:46.364Z"
   },
   {
    "duration": 7,
    "start_time": "2022-07-16T18:45:46.368Z"
   },
   {
    "duration": 14,
    "start_time": "2022-07-16T18:45:46.376Z"
   },
   {
    "duration": 1225,
    "start_time": "2022-07-16T18:45:46.391Z"
   },
   {
    "duration": 109,
    "start_time": "2022-07-16T18:45:47.618Z"
   },
   {
    "duration": 1241,
    "start_time": "2022-07-16T18:45:47.729Z"
   },
   {
    "duration": 5,
    "start_time": "2022-07-16T18:45:48.974Z"
   },
   {
    "duration": 3,
    "start_time": "2022-07-16T18:45:52.727Z"
   },
   {
    "duration": 12,
    "start_time": "2022-07-16T18:45:53.245Z"
   },
   {
    "duration": 10,
    "start_time": "2022-07-16T18:45:53.516Z"
   },
   {
    "duration": 12,
    "start_time": "2022-07-16T18:45:53.807Z"
   },
   {
    "duration": 103,
    "start_time": "2022-07-16T18:46:25.239Z"
   },
   {
    "duration": 11,
    "start_time": "2022-07-16T18:46:31.243Z"
   },
   {
    "duration": 26104,
    "start_time": "2022-07-16T18:46:44.106Z"
   },
   {
    "duration": 11,
    "start_time": "2022-07-16T18:49:09.154Z"
   },
   {
    "duration": 42966,
    "start_time": "2022-07-16T18:49:19.834Z"
   },
   {
    "duration": 4393,
    "start_time": "2022-07-16T18:50:31.560Z"
   },
   {
    "duration": 53,
    "start_time": "2022-07-16T19:22:13.639Z"
   },
   {
    "duration": 48116,
    "start_time": "2022-07-16T19:23:02.652Z"
   },
   {
    "duration": 5115,
    "start_time": "2022-07-16T19:25:12.732Z"
   },
   {
    "duration": 1742,
    "start_time": "2022-07-16T19:43:34.395Z"
   },
   {
    "duration": 770,
    "start_time": "2022-07-16T19:43:36.140Z"
   },
   {
    "duration": 6,
    "start_time": "2022-07-16T19:43:36.912Z"
   },
   {
    "duration": 44,
    "start_time": "2022-07-16T19:43:36.921Z"
   },
   {
    "duration": 339,
    "start_time": "2022-07-16T19:43:36.968Z"
   },
   {
    "duration": 160,
    "start_time": "2022-07-16T19:43:37.309Z"
   },
   {
    "duration": 21,
    "start_time": "2022-07-16T19:43:37.554Z"
   },
   {
    "duration": 5,
    "start_time": "2022-07-16T19:43:37.943Z"
   },
   {
    "duration": 24,
    "start_time": "2022-07-16T19:43:38.105Z"
   },
   {
    "duration": 24,
    "start_time": "2022-07-16T19:43:38.514Z"
   },
   {
    "duration": 4,
    "start_time": "2022-07-16T19:43:39.279Z"
   },
   {
    "duration": 10,
    "start_time": "2022-07-16T19:43:39.466Z"
   },
   {
    "duration": 5,
    "start_time": "2022-07-16T19:43:40.444Z"
   },
   {
    "duration": 13,
    "start_time": "2022-07-16T19:43:40.824Z"
   },
   {
    "duration": 13,
    "start_time": "2022-07-16T19:43:41.024Z"
   },
   {
    "duration": 4,
    "start_time": "2022-07-16T19:43:41.408Z"
   },
   {
    "duration": 6,
    "start_time": "2022-07-16T19:43:41.989Z"
   },
   {
    "duration": 1700,
    "start_time": "2022-07-16T19:43:42.163Z"
   },
   {
    "duration": 1674,
    "start_time": "2022-07-16T19:43:43.868Z"
   },
   {
    "duration": 1954,
    "start_time": "2022-07-16T19:43:45.546Z"
   },
   {
    "duration": 21,
    "start_time": "2022-07-16T19:43:47.502Z"
   },
   {
    "duration": 565,
    "start_time": "2022-07-16T19:43:47.526Z"
   },
   {
    "duration": 625,
    "start_time": "2022-07-16T19:43:48.093Z"
   },
   {
    "duration": 3,
    "start_time": "2022-07-16T19:43:48.721Z"
   },
   {
    "duration": 10,
    "start_time": "2022-07-16T19:43:48.726Z"
   },
   {
    "duration": 30,
    "start_time": "2022-07-16T19:43:48.738Z"
   },
   {
    "duration": 1494,
    "start_time": "2022-07-16T19:43:48.772Z"
   },
   {
    "duration": 140,
    "start_time": "2022-07-16T19:43:50.271Z"
   },
   {
    "duration": 1347,
    "start_time": "2022-07-16T19:43:50.413Z"
   },
   {
    "duration": 6,
    "start_time": "2022-07-16T19:43:51.762Z"
   },
   {
    "duration": 16,
    "start_time": "2022-07-16T19:43:51.769Z"
   },
   {
    "duration": 17,
    "start_time": "2022-07-16T19:43:51.788Z"
   },
   {
    "duration": 14,
    "start_time": "2022-07-16T19:43:51.807Z"
   },
   {
    "duration": 35,
    "start_time": "2022-07-16T19:43:51.823Z"
   },
   {
    "duration": 28471,
    "start_time": "2022-07-16T19:43:51.862Z"
   },
   {
    "duration": 42995,
    "start_time": "2022-07-16T19:44:20.335Z"
   },
   {
    "duration": 2518,
    "start_time": "2022-07-16T19:45:03.332Z"
   },
   {
    "duration": 1278,
    "start_time": "2022-07-16T19:46:33.991Z"
   },
   {
    "duration": 1601,
    "start_time": "2022-07-16T19:51:06.572Z"
   },
   {
    "duration": 6707,
    "start_time": "2022-07-16T19:54:44.080Z"
   },
   {
    "duration": 13,
    "start_time": "2022-07-16T19:56:54.301Z"
   },
   {
    "duration": 1548,
    "start_time": "2022-07-16T19:56:58.240Z"
   },
   {
    "duration": 14,
    "start_time": "2022-07-16T19:57:14.442Z"
   },
   {
    "duration": 1412,
    "start_time": "2022-07-16T19:57:20.127Z"
   },
   {
    "duration": 1650,
    "start_time": "2022-07-18T18:10:48.344Z"
   },
   {
    "duration": 2034,
    "start_time": "2022-07-18T18:10:49.997Z"
   },
   {
    "duration": 3,
    "start_time": "2022-07-18T18:10:52.033Z"
   },
   {
    "duration": 63,
    "start_time": "2022-07-18T18:10:52.038Z"
   },
   {
    "duration": 253,
    "start_time": "2022-07-18T18:10:52.103Z"
   },
   {
    "duration": 99,
    "start_time": "2022-07-18T18:10:52.357Z"
   },
   {
    "duration": 15,
    "start_time": "2022-07-18T18:10:52.457Z"
   },
   {
    "duration": 3,
    "start_time": "2022-07-18T18:10:52.474Z"
   },
   {
    "duration": 43,
    "start_time": "2022-07-18T18:10:52.479Z"
   },
   {
    "duration": 14,
    "start_time": "2022-07-18T18:10:52.753Z"
   },
   {
    "duration": 3,
    "start_time": "2022-07-18T18:10:53.626Z"
   },
   {
    "duration": 7,
    "start_time": "2022-07-18T18:10:53.867Z"
   },
   {
    "duration": 3,
    "start_time": "2022-07-18T18:11:01.197Z"
   },
   {
    "duration": 12,
    "start_time": "2022-07-18T18:11:05.075Z"
   },
   {
    "duration": 9,
    "start_time": "2022-07-18T18:11:05.246Z"
   },
   {
    "duration": 3,
    "start_time": "2022-07-18T18:11:05.677Z"
   },
   {
    "duration": 4,
    "start_time": "2022-07-18T18:11:06.881Z"
   },
   {
    "duration": 1554,
    "start_time": "2022-07-18T18:11:07.088Z"
   },
   {
    "duration": 1533,
    "start_time": "2022-07-18T18:11:08.645Z"
   },
   {
    "duration": 1530,
    "start_time": "2022-07-18T18:11:10.180Z"
   },
   {
    "duration": 5,
    "start_time": "2022-07-18T18:11:11.713Z"
   },
   {
    "duration": 625,
    "start_time": "2022-07-18T18:11:11.720Z"
   },
   {
    "duration": 598,
    "start_time": "2022-07-18T18:11:12.347Z"
   },
   {
    "duration": 4,
    "start_time": "2022-07-18T18:11:12.948Z"
   },
   {
    "duration": 9,
    "start_time": "2022-07-18T18:11:12.954Z"
   },
   {
    "duration": 17,
    "start_time": "2022-07-18T18:11:12.965Z"
   },
   {
    "duration": 1229,
    "start_time": "2022-07-18T18:11:12.986Z"
   },
   {
    "duration": 124,
    "start_time": "2022-07-18T18:11:14.217Z"
   },
   {
    "duration": 1177,
    "start_time": "2022-07-18T18:11:14.344Z"
   },
   {
    "duration": 4,
    "start_time": "2022-07-18T18:11:51.729Z"
   },
   {
    "duration": 3,
    "start_time": "2022-07-18T18:11:54.054Z"
   },
   {
    "duration": 8,
    "start_time": "2022-07-18T18:14:07.461Z"
   },
   {
    "duration": 15,
    "start_time": "2022-07-18T18:14:49.392Z"
   },
   {
    "duration": 12,
    "start_time": "2022-07-18T18:14:57.901Z"
   },
   {
    "duration": 10,
    "start_time": "2022-07-18T18:14:58.404Z"
   },
   {
    "duration": 119,
    "start_time": "2022-07-18T18:14:58.733Z"
   },
   {
    "duration": 12,
    "start_time": "2022-07-18T18:17:01.322Z"
   },
   {
    "duration": 12,
    "start_time": "2022-07-18T18:18:45.475Z"
   },
   {
    "duration": 25,
    "start_time": "2022-07-18T18:18:46.563Z"
   },
   {
    "duration": 24,
    "start_time": "2022-07-18T18:18:57.133Z"
   },
   {
    "duration": 6,
    "start_time": "2022-07-18T18:22:16.627Z"
   },
   {
    "duration": 10,
    "start_time": "2022-07-18T18:22:28.534Z"
   },
   {
    "duration": 17,
    "start_time": "2022-07-18T18:24:31.845Z"
   },
   {
    "duration": 771,
    "start_time": "2022-07-18T18:25:56.634Z"
   },
   {
    "duration": 85,
    "start_time": "2022-07-18T18:26:03.537Z"
   },
   {
    "duration": 3,
    "start_time": "2022-07-18T18:26:11.426Z"
   },
   {
    "duration": 1522,
    "start_time": "2022-07-18T18:26:23.273Z"
   },
   {
    "duration": 746,
    "start_time": "2022-07-18T18:26:24.797Z"
   },
   {
    "duration": 3,
    "start_time": "2022-07-18T18:26:25.545Z"
   },
   {
    "duration": 53,
    "start_time": "2022-07-18T18:26:26.762Z"
   },
   {
    "duration": 246,
    "start_time": "2022-07-18T18:26:29.863Z"
   },
   {
    "duration": 89,
    "start_time": "2022-07-18T18:26:31.453Z"
   },
   {
    "duration": 18,
    "start_time": "2022-07-18T18:26:33.359Z"
   },
   {
    "duration": 3,
    "start_time": "2022-07-18T18:26:33.747Z"
   },
   {
    "duration": 23,
    "start_time": "2022-07-18T18:26:33.952Z"
   },
   {
    "duration": 20,
    "start_time": "2022-07-18T18:26:34.394Z"
   },
   {
    "duration": 3,
    "start_time": "2022-07-18T18:26:35.283Z"
   },
   {
    "duration": 12,
    "start_time": "2022-07-18T18:26:35.313Z"
   },
   {
    "duration": 4,
    "start_time": "2022-07-18T18:26:35.491Z"
   },
   {
    "duration": 15,
    "start_time": "2022-07-18T18:26:35.546Z"
   },
   {
    "duration": 5,
    "start_time": "2022-07-18T18:26:35.589Z"
   },
   {
    "duration": 4,
    "start_time": "2022-07-18T18:26:35.633Z"
   },
   {
    "duration": 6,
    "start_time": "2022-07-18T18:26:35.776Z"
   },
   {
    "duration": 1624,
    "start_time": "2022-07-18T18:26:35.813Z"
   },
   {
    "duration": 1678,
    "start_time": "2022-07-18T18:26:37.440Z"
   },
   {
    "duration": 1584,
    "start_time": "2022-07-18T18:26:39.120Z"
   },
   {
    "duration": 5,
    "start_time": "2022-07-18T18:26:40.707Z"
   },
   {
    "duration": 612,
    "start_time": "2022-07-18T18:26:40.714Z"
   },
   {
    "duration": 625,
    "start_time": "2022-07-18T18:26:41.328Z"
   },
   {
    "duration": 3,
    "start_time": "2022-07-18T18:26:41.955Z"
   },
   {
    "duration": 9,
    "start_time": "2022-07-18T18:26:41.960Z"
   },
   {
    "duration": 21,
    "start_time": "2022-07-18T18:26:41.971Z"
   },
   {
    "duration": 1310,
    "start_time": "2022-07-18T18:26:42.004Z"
   },
   {
    "duration": 104,
    "start_time": "2022-07-18T18:26:43.316Z"
   },
   {
    "duration": 1184,
    "start_time": "2022-07-18T18:26:43.423Z"
   },
   {
    "duration": 5,
    "start_time": "2022-07-18T18:26:44.609Z"
   },
   {
    "duration": 7,
    "start_time": "2022-07-18T18:26:44.616Z"
   },
   {
    "duration": 8,
    "start_time": "2022-07-18T18:26:45.992Z"
   },
   {
    "duration": 124,
    "start_time": "2022-07-18T18:26:48.750Z"
   },
   {
    "duration": 6,
    "start_time": "2022-07-18T18:26:52.379Z"
   },
   {
    "duration": 12,
    "start_time": "2022-07-18T18:26:53.221Z"
   },
   {
    "duration": 10,
    "start_time": "2022-07-18T18:26:54.013Z"
   },
   {
    "duration": 18,
    "start_time": "2022-07-18T18:27:10.120Z"
   },
   {
    "duration": 19,
    "start_time": "2022-07-18T18:27:19.434Z"
   },
   {
    "duration": 33,
    "start_time": "2022-07-18T18:27:48.773Z"
   },
   {
    "duration": 12,
    "start_time": "2022-07-18T18:27:56.038Z"
   },
   {
    "duration": 14,
    "start_time": "2022-07-18T18:27:56.543Z"
   },
   {
    "duration": 26,
    "start_time": "2022-07-18T18:27:58.661Z"
   },
   {
    "duration": 40,
    "start_time": "2022-07-18T18:27:59.713Z"
   },
   {
    "duration": 13,
    "start_time": "2022-07-18T18:28:00.507Z"
   },
   {
    "duration": 33,
    "start_time": "2022-07-18T18:28:05.665Z"
   },
   {
    "duration": 1663,
    "start_time": "2022-07-18T18:28:20.776Z"
   },
   {
    "duration": 781,
    "start_time": "2022-07-18T18:28:22.442Z"
   },
   {
    "duration": 3,
    "start_time": "2022-07-18T18:28:23.225Z"
   },
   {
    "duration": 67,
    "start_time": "2022-07-18T18:28:23.230Z"
   },
   {
    "duration": 270,
    "start_time": "2022-07-18T18:28:23.299Z"
   },
   {
    "duration": 108,
    "start_time": "2022-07-18T18:28:23.571Z"
   },
   {
    "duration": 34,
    "start_time": "2022-07-18T18:28:23.680Z"
   },
   {
    "duration": 3,
    "start_time": "2022-07-18T18:28:23.716Z"
   },
   {
    "duration": 26,
    "start_time": "2022-07-18T18:28:23.721Z"
   },
   {
    "duration": 20,
    "start_time": "2022-07-18T18:28:23.749Z"
   },
   {
    "duration": 4,
    "start_time": "2022-07-18T18:28:23.770Z"
   },
   {
    "duration": 11,
    "start_time": "2022-07-18T18:28:23.804Z"
   },
   {
    "duration": 12,
    "start_time": "2022-07-18T18:28:23.818Z"
   },
   {
    "duration": 22,
    "start_time": "2022-07-18T18:28:23.832Z"
   },
   {
    "duration": 8,
    "start_time": "2022-07-18T18:28:23.856Z"
   },
   {
    "duration": 8,
    "start_time": "2022-07-18T18:28:23.865Z"
   },
   {
    "duration": 29,
    "start_time": "2022-07-18T18:28:23.875Z"
   },
   {
    "duration": 1635,
    "start_time": "2022-07-18T18:28:23.906Z"
   },
   {
    "duration": 1635,
    "start_time": "2022-07-18T18:28:25.543Z"
   },
   {
    "duration": 1524,
    "start_time": "2022-07-18T18:28:27.180Z"
   },
   {
    "duration": 5,
    "start_time": "2022-07-18T18:28:28.706Z"
   },
   {
    "duration": 620,
    "start_time": "2022-07-18T18:28:28.713Z"
   },
   {
    "duration": 632,
    "start_time": "2022-07-18T18:28:29.335Z"
   },
   {
    "duration": 4,
    "start_time": "2022-07-18T18:28:29.968Z"
   },
   {
    "duration": 8,
    "start_time": "2022-07-18T18:28:29.974Z"
   },
   {
    "duration": 21,
    "start_time": "2022-07-18T18:28:29.985Z"
   },
   {
    "duration": 1303,
    "start_time": "2022-07-18T18:28:30.008Z"
   },
   {
    "duration": 101,
    "start_time": "2022-07-18T18:28:31.314Z"
   },
   {
    "duration": 1199,
    "start_time": "2022-07-18T18:28:31.417Z"
   },
   {
    "duration": 4,
    "start_time": "2022-07-18T18:28:32.618Z"
   },
   {
    "duration": 12,
    "start_time": "2022-07-18T18:28:32.624Z"
   },
   {
    "duration": 7,
    "start_time": "2022-07-18T18:28:44.546Z"
   },
   {
    "duration": 40,
    "start_time": "2022-07-18T18:29:06.692Z"
   },
   {
    "duration": 4,
    "start_time": "2022-07-18T18:29:32.215Z"
   },
   {
    "duration": 73,
    "start_time": "2022-07-18T18:29:47.686Z"
   },
   {
    "duration": 73,
    "start_time": "2022-07-18T18:29:53.824Z"
   },
   {
    "duration": 6,
    "start_time": "2022-07-18T18:30:05.074Z"
   },
   {
    "duration": 14,
    "start_time": "2022-07-18T18:30:10.144Z"
   },
   {
    "duration": 10,
    "start_time": "2022-07-18T18:30:12.238Z"
   },
   {
    "duration": 35,
    "start_time": "2022-07-18T18:30:14.004Z"
   },
   {
    "duration": 15,
    "start_time": "2022-07-18T18:30:25.114Z"
   },
   {
    "duration": 116,
    "start_time": "2022-07-18T18:31:38.038Z"
   },
   {
    "duration": 1232,
    "start_time": "2022-07-18T18:32:31.718Z"
   },
   {
    "duration": 1482,
    "start_time": "2022-07-18T18:32:53.222Z"
   },
   {
    "duration": 758,
    "start_time": "2022-07-18T18:32:54.706Z"
   },
   {
    "duration": 3,
    "start_time": "2022-07-18T18:32:55.466Z"
   },
   {
    "duration": 60,
    "start_time": "2022-07-18T18:32:55.472Z"
   },
   {
    "duration": 265,
    "start_time": "2022-07-18T18:32:55.534Z"
   },
   {
    "duration": 99,
    "start_time": "2022-07-18T18:32:55.804Z"
   },
   {
    "duration": 17,
    "start_time": "2022-07-18T18:32:55.906Z"
   },
   {
    "duration": 3,
    "start_time": "2022-07-18T18:32:55.925Z"
   },
   {
    "duration": 27,
    "start_time": "2022-07-18T18:32:55.929Z"
   },
   {
    "duration": 48,
    "start_time": "2022-07-18T18:32:55.960Z"
   },
   {
    "duration": 4,
    "start_time": "2022-07-18T18:32:56.009Z"
   },
   {
    "duration": 13,
    "start_time": "2022-07-18T18:32:56.014Z"
   },
   {
    "duration": 9,
    "start_time": "2022-07-18T18:32:56.029Z"
   },
   {
    "duration": 18,
    "start_time": "2022-07-18T18:32:56.040Z"
   },
   {
    "duration": 5,
    "start_time": "2022-07-18T18:32:56.060Z"
   },
   {
    "duration": 6,
    "start_time": "2022-07-18T18:32:56.067Z"
   },
   {
    "duration": 5,
    "start_time": "2022-07-18T18:32:56.075Z"
   },
   {
    "duration": 1520,
    "start_time": "2022-07-18T18:32:56.105Z"
   },
   {
    "duration": 1551,
    "start_time": "2022-07-18T18:32:57.627Z"
   },
   {
    "duration": 1524,
    "start_time": "2022-07-18T18:32:59.180Z"
   },
   {
    "duration": 5,
    "start_time": "2022-07-18T18:33:00.707Z"
   },
   {
    "duration": 593,
    "start_time": "2022-07-18T18:33:00.714Z"
   },
   {
    "duration": 619,
    "start_time": "2022-07-18T18:33:01.309Z"
   },
   {
    "duration": 3,
    "start_time": "2022-07-18T18:33:01.930Z"
   },
   {
    "duration": 8,
    "start_time": "2022-07-18T18:33:01.935Z"
   },
   {
    "duration": 22,
    "start_time": "2022-07-18T18:33:01.944Z"
   },
   {
    "duration": 1262,
    "start_time": "2022-07-18T18:33:01.968Z"
   },
   {
    "duration": 104,
    "start_time": "2022-07-18T18:33:03.232Z"
   },
   {
    "duration": 1151,
    "start_time": "2022-07-18T18:33:03.338Z"
   },
   {
    "duration": 4,
    "start_time": "2022-07-18T18:33:04.492Z"
   },
   {
    "duration": 3,
    "start_time": "2022-07-18T18:33:04.841Z"
   },
   {
    "duration": 8,
    "start_time": "2022-07-18T18:33:06.072Z"
   },
   {
    "duration": 205,
    "start_time": "2022-07-18T18:33:08.632Z"
   },
   {
    "duration": 29,
    "start_time": "2022-07-18T18:35:47.912Z"
   },
   {
    "duration": 1397,
    "start_time": "2022-07-18T18:38:10.089Z"
   },
   {
    "duration": 728,
    "start_time": "2022-07-18T18:38:11.488Z"
   },
   {
    "duration": 3,
    "start_time": "2022-07-18T18:38:12.218Z"
   },
   {
    "duration": 56,
    "start_time": "2022-07-18T18:38:12.223Z"
   },
   {
    "duration": 253,
    "start_time": "2022-07-18T18:38:12.280Z"
   },
   {
    "duration": 89,
    "start_time": "2022-07-18T18:38:12.534Z"
   },
   {
    "duration": 15,
    "start_time": "2022-07-18T18:38:12.624Z"
   },
   {
    "duration": 3,
    "start_time": "2022-07-18T18:38:12.641Z"
   },
   {
    "duration": 25,
    "start_time": "2022-07-18T18:38:12.645Z"
   },
   {
    "duration": 41,
    "start_time": "2022-07-18T18:38:12.673Z"
   },
   {
    "duration": 3,
    "start_time": "2022-07-18T18:38:12.716Z"
   },
   {
    "duration": 14,
    "start_time": "2022-07-18T18:38:12.720Z"
   },
   {
    "duration": 4,
    "start_time": "2022-07-18T18:38:12.735Z"
   },
   {
    "duration": 14,
    "start_time": "2022-07-18T18:38:12.741Z"
   },
   {
    "duration": 5,
    "start_time": "2022-07-18T18:38:12.756Z"
   },
   {
    "duration": 6,
    "start_time": "2022-07-18T18:38:12.763Z"
   },
   {
    "duration": 34,
    "start_time": "2022-07-18T18:38:12.770Z"
   },
   {
    "duration": 1627,
    "start_time": "2022-07-18T18:38:12.806Z"
   },
   {
    "duration": 1628,
    "start_time": "2022-07-18T18:38:14.436Z"
   },
   {
    "duration": 1507,
    "start_time": "2022-07-18T18:38:16.066Z"
   },
   {
    "duration": 4,
    "start_time": "2022-07-18T18:38:17.575Z"
   },
   {
    "duration": 523,
    "start_time": "2022-07-18T18:38:17.581Z"
   },
   {
    "duration": 627,
    "start_time": "2022-07-18T18:38:18.106Z"
   },
   {
    "duration": 3,
    "start_time": "2022-07-18T18:38:18.734Z"
   },
   {
    "duration": 7,
    "start_time": "2022-07-18T18:38:18.739Z"
   },
   {
    "duration": 14,
    "start_time": "2022-07-18T18:38:18.749Z"
   },
   {
    "duration": 1222,
    "start_time": "2022-07-18T18:38:18.765Z"
   },
   {
    "duration": 97,
    "start_time": "2022-07-18T18:38:19.990Z"
   },
   {
    "duration": 1203,
    "start_time": "2022-07-18T18:38:20.088Z"
   },
   {
    "duration": 4,
    "start_time": "2022-07-18T18:38:21.293Z"
   },
   {
    "duration": 9,
    "start_time": "2022-07-18T18:38:21.299Z"
   },
   {
    "duration": 210,
    "start_time": "2022-07-18T18:38:21.310Z"
   },
   {
    "duration": 0,
    "start_time": "2022-07-18T18:38:21.522Z"
   },
   {
    "duration": 0,
    "start_time": "2022-07-18T18:38:21.523Z"
   },
   {
    "duration": 0,
    "start_time": "2022-07-18T18:38:21.524Z"
   },
   {
    "duration": 0,
    "start_time": "2022-07-18T18:38:21.525Z"
   },
   {
    "duration": 6,
    "start_time": "2022-07-18T18:38:34.308Z"
   },
   {
    "duration": 13,
    "start_time": "2022-07-18T18:38:35.063Z"
   },
   {
    "duration": 11,
    "start_time": "2022-07-18T18:38:35.448Z"
   },
   {
    "duration": 10,
    "start_time": "2022-07-18T18:38:35.946Z"
   },
   {
    "duration": 29,
    "start_time": "2022-07-18T18:38:37.186Z"
   },
   {
    "duration": 12,
    "start_time": "2022-07-18T18:38:46.355Z"
   },
   {
    "duration": 17536,
    "start_time": "2022-07-18T18:39:04.214Z"
   },
   {
    "duration": 26479,
    "start_time": "2022-07-18T18:40:03.545Z"
   },
   {
    "duration": 1887,
    "start_time": "2022-07-18T18:40:30.026Z"
   },
   {
    "duration": 316,
    "start_time": "2022-07-18T18:42:58.725Z"
   },
   {
    "duration": 2127,
    "start_time": "2022-07-19T12:26:20.591Z"
   },
   {
    "duration": 2866,
    "start_time": "2022-07-19T12:26:22.720Z"
   },
   {
    "duration": 3,
    "start_time": "2022-07-19T12:26:25.588Z"
   },
   {
    "duration": 57,
    "start_time": "2022-07-19T12:26:25.594Z"
   },
   {
    "duration": 229,
    "start_time": "2022-07-19T12:26:25.652Z"
   },
   {
    "duration": 91,
    "start_time": "2022-07-19T12:26:25.883Z"
   },
   {
    "duration": 29,
    "start_time": "2022-07-19T12:26:25.976Z"
   },
   {
    "duration": 3,
    "start_time": "2022-07-19T12:26:26.006Z"
   },
   {
    "duration": 24,
    "start_time": "2022-07-19T12:26:26.010Z"
   },
   {
    "duration": 19,
    "start_time": "2022-07-19T12:26:26.037Z"
   },
   {
    "duration": 3,
    "start_time": "2022-07-19T12:26:26.058Z"
   },
   {
    "duration": 15,
    "start_time": "2022-07-19T12:26:26.062Z"
   },
   {
    "duration": 24,
    "start_time": "2022-07-19T12:26:26.079Z"
   },
   {
    "duration": 15,
    "start_time": "2022-07-19T12:26:26.104Z"
   },
   {
    "duration": 4,
    "start_time": "2022-07-19T12:26:26.121Z"
   },
   {
    "duration": 13,
    "start_time": "2022-07-19T12:26:26.127Z"
   },
   {
    "duration": 7,
    "start_time": "2022-07-19T12:26:26.142Z"
   },
   {
    "duration": 1634,
    "start_time": "2022-07-19T12:26:26.151Z"
   },
   {
    "duration": 1565,
    "start_time": "2022-07-19T12:26:27.786Z"
   },
   {
    "duration": 1511,
    "start_time": "2022-07-19T12:26:29.353Z"
   },
   {
    "duration": 5,
    "start_time": "2022-07-19T12:26:30.865Z"
   },
   {
    "duration": 532,
    "start_time": "2022-07-19T12:26:30.871Z"
   },
   {
    "duration": 521,
    "start_time": "2022-07-19T12:26:31.405Z"
   },
   {
    "duration": 3,
    "start_time": "2022-07-19T12:26:31.927Z"
   },
   {
    "duration": 12,
    "start_time": "2022-07-19T12:26:31.932Z"
   },
   {
    "duration": 14,
    "start_time": "2022-07-19T12:26:31.946Z"
   },
   {
    "duration": 1224,
    "start_time": "2022-07-19T12:26:31.961Z"
   },
   {
    "duration": 88,
    "start_time": "2022-07-19T12:26:33.188Z"
   },
   {
    "duration": 1081,
    "start_time": "2022-07-19T12:26:33.278Z"
   },
   {
    "duration": 5,
    "start_time": "2022-07-19T12:26:34.361Z"
   },
   {
    "duration": 10,
    "start_time": "2022-07-19T12:26:34.368Z"
   },
   {
    "duration": 9,
    "start_time": "2022-07-19T12:26:34.380Z"
   },
   {
    "duration": 18,
    "start_time": "2022-07-19T12:26:34.390Z"
   },
   {
    "duration": 19,
    "start_time": "2022-07-19T12:26:34.409Z"
   },
   {
    "duration": 14,
    "start_time": "2022-07-19T12:26:34.429Z"
   },
   {
    "duration": 25,
    "start_time": "2022-07-19T12:26:34.445Z"
   },
   {
    "duration": 13,
    "start_time": "2022-07-19T12:26:34.471Z"
   },
   {
    "duration": 13,
    "start_time": "2022-07-19T12:27:24.079Z"
   },
   {
    "duration": 1693,
    "start_time": "2022-07-19T18:02:13.647Z"
   },
   {
    "duration": 2364,
    "start_time": "2022-07-19T18:02:15.342Z"
   },
   {
    "duration": 2,
    "start_time": "2022-07-19T18:02:17.708Z"
   },
   {
    "duration": 59,
    "start_time": "2022-07-19T18:02:17.713Z"
   },
   {
    "duration": 261,
    "start_time": "2022-07-19T18:02:17.774Z"
   },
   {
    "duration": 95,
    "start_time": "2022-07-19T18:02:18.037Z"
   },
   {
    "duration": 35,
    "start_time": "2022-07-19T18:02:18.134Z"
   },
   {
    "duration": 23,
    "start_time": "2022-07-19T18:02:18.171Z"
   },
   {
    "duration": 24,
    "start_time": "2022-07-19T18:02:18.196Z"
   },
   {
    "duration": 19,
    "start_time": "2022-07-19T18:02:18.223Z"
   },
   {
    "duration": 3,
    "start_time": "2022-07-19T18:02:18.244Z"
   },
   {
    "duration": 84,
    "start_time": "2022-07-19T18:02:18.249Z"
   },
   {
    "duration": 52,
    "start_time": "2022-07-19T18:02:18.334Z"
   },
   {
    "duration": 37,
    "start_time": "2022-07-19T18:02:18.388Z"
   },
   {
    "duration": 9,
    "start_time": "2022-07-19T18:02:18.426Z"
   },
   {
    "duration": 49,
    "start_time": "2022-07-19T18:02:18.437Z"
   },
   {
    "duration": 13,
    "start_time": "2022-07-19T18:02:18.489Z"
   },
   {
    "duration": 1763,
    "start_time": "2022-07-19T18:02:18.503Z"
   },
   {
    "duration": 1342,
    "start_time": "2022-07-19T18:02:20.268Z"
   },
   {
    "duration": 1584,
    "start_time": "2022-07-19T18:02:21.612Z"
   },
   {
    "duration": 4,
    "start_time": "2022-07-19T18:02:23.198Z"
   },
   {
    "duration": 588,
    "start_time": "2022-07-19T18:02:23.204Z"
   },
   {
    "duration": 569,
    "start_time": "2022-07-19T18:02:23.794Z"
   },
   {
    "duration": 3,
    "start_time": "2022-07-19T18:02:24.365Z"
   },
   {
    "duration": 24,
    "start_time": "2022-07-19T18:02:24.370Z"
   },
   {
    "duration": 8,
    "start_time": "2022-07-19T18:02:24.396Z"
   },
   {
    "duration": 1225,
    "start_time": "2022-07-19T18:02:24.407Z"
   },
   {
    "duration": 88,
    "start_time": "2022-07-19T18:02:25.634Z"
   },
   {
    "duration": 1170,
    "start_time": "2022-07-19T18:02:25.724Z"
   },
   {
    "duration": 5,
    "start_time": "2022-07-19T18:08:47.639Z"
   },
   {
    "duration": 4,
    "start_time": "2022-07-19T18:09:01.117Z"
   },
   {
    "duration": 6,
    "start_time": "2022-07-19T18:16:36.533Z"
   },
   {
    "duration": 2,
    "start_time": "2022-07-19T18:16:37.196Z"
   },
   {
    "duration": 10,
    "start_time": "2022-07-19T18:16:37.252Z"
   },
   {
    "duration": 10,
    "start_time": "2022-07-19T18:16:37.307Z"
   },
   {
    "duration": 20,
    "start_time": "2022-07-19T18:16:37.348Z"
   },
   {
    "duration": 7,
    "start_time": "2022-07-19T18:16:37.410Z"
   },
   {
    "duration": 30,
    "start_time": "2022-07-19T18:16:37.449Z"
   },
   {
    "duration": 16634,
    "start_time": "2022-07-19T18:16:37.604Z"
   },
   {
    "duration": 25652,
    "start_time": "2022-07-19T18:16:54.240Z"
   },
   {
    "duration": 2873,
    "start_time": "2022-07-19T18:17:19.894Z"
   },
   {
    "duration": 488,
    "start_time": "2022-07-19T18:17:22.780Z"
   },
   {
    "duration": 0,
    "start_time": "2022-07-19T18:17:23.393Z"
   },
   {
    "duration": 13,
    "start_time": "2022-07-19T18:17:48.477Z"
   },
   {
    "duration": 18,
    "start_time": "2022-07-19T18:18:15.664Z"
   },
   {
    "duration": 29,
    "start_time": "2022-07-19T18:23:22.805Z"
   },
   {
    "duration": 103,
    "start_time": "2022-07-19T18:24:48.380Z"
   },
   {
    "duration": 127,
    "start_time": "2022-07-19T18:25:15.486Z"
   },
   {
    "duration": 99,
    "start_time": "2022-07-19T18:25:46.618Z"
   },
   {
    "duration": 13,
    "start_time": "2022-07-19T18:25:50.497Z"
   },
   {
    "duration": 10,
    "start_time": "2022-07-19T18:27:07.287Z"
   },
   {
    "duration": 3,
    "start_time": "2022-07-19T18:30:48.026Z"
   },
   {
    "duration": 18,
    "start_time": "2022-07-19T18:30:48.875Z"
   },
   {
    "duration": 4,
    "start_time": "2022-07-19T18:36:47.283Z"
   },
   {
    "duration": 16,
    "start_time": "2022-07-19T18:36:49.780Z"
   },
   {
    "duration": 959,
    "start_time": "2022-07-19T18:37:05.492Z"
   },
   {
    "duration": 18,
    "start_time": "2022-07-19T18:37:56.780Z"
   },
   {
    "duration": 18,
    "start_time": "2022-07-19T18:38:38.357Z"
   },
   {
    "duration": 1588,
    "start_time": "2022-07-20T19:23:19.026Z"
   },
   {
    "duration": 3004,
    "start_time": "2022-07-20T19:23:20.616Z"
   },
   {
    "duration": 4,
    "start_time": "2022-07-20T19:23:23.621Z"
   },
   {
    "duration": 44,
    "start_time": "2022-07-20T19:23:23.627Z"
   },
   {
    "duration": 237,
    "start_time": "2022-07-20T19:23:23.672Z"
   },
   {
    "duration": 91,
    "start_time": "2022-07-20T19:23:23.911Z"
   },
   {
    "duration": 32,
    "start_time": "2022-07-20T19:23:24.004Z"
   },
   {
    "duration": 3,
    "start_time": "2022-07-20T19:23:24.038Z"
   },
   {
    "duration": 28,
    "start_time": "2022-07-20T19:23:24.042Z"
   },
   {
    "duration": 16,
    "start_time": "2022-07-20T19:23:24.073Z"
   },
   {
    "duration": 2,
    "start_time": "2022-07-20T19:23:24.091Z"
   },
   {
    "duration": 12,
    "start_time": "2022-07-20T19:23:24.133Z"
   },
   {
    "duration": 11,
    "start_time": "2022-07-20T19:23:24.147Z"
   },
   {
    "duration": 17,
    "start_time": "2022-07-20T19:23:24.160Z"
   },
   {
    "duration": 5,
    "start_time": "2022-07-20T19:23:24.179Z"
   },
   {
    "duration": 4,
    "start_time": "2022-07-20T19:23:24.186Z"
   },
   {
    "duration": 6,
    "start_time": "2022-07-20T19:23:24.192Z"
   },
   {
    "duration": 1603,
    "start_time": "2022-07-20T19:23:24.200Z"
   },
   {
    "duration": 1471,
    "start_time": "2022-07-20T19:23:25.805Z"
   },
   {
    "duration": 1506,
    "start_time": "2022-07-20T19:23:27.277Z"
   },
   {
    "duration": 4,
    "start_time": "2022-07-20T19:23:28.785Z"
   },
   {
    "duration": 525,
    "start_time": "2022-07-20T19:23:28.791Z"
   },
   {
    "duration": 511,
    "start_time": "2022-07-20T19:23:29.323Z"
   },
   {
    "duration": 2,
    "start_time": "2022-07-20T19:23:29.836Z"
   },
   {
    "duration": 6,
    "start_time": "2022-07-20T19:23:29.840Z"
   },
   {
    "duration": 9,
    "start_time": "2022-07-20T19:23:29.848Z"
   },
   {
    "duration": 1266,
    "start_time": "2022-07-20T19:23:29.858Z"
   },
   {
    "duration": 96,
    "start_time": "2022-07-20T19:23:31.128Z"
   },
   {
    "duration": 1185,
    "start_time": "2022-07-20T19:23:31.226Z"
   },
   {
    "duration": 11,
    "start_time": "2022-07-20T19:23:32.426Z"
   },
   {
    "duration": 9,
    "start_time": "2022-07-20T19:23:32.439Z"
   },
   {
    "duration": 11,
    "start_time": "2022-07-20T19:23:32.450Z"
   },
   {
    "duration": 5,
    "start_time": "2022-07-20T19:23:32.557Z"
   },
   {
    "duration": 3,
    "start_time": "2022-07-20T19:23:38.402Z"
   },
   {
    "duration": 123,
    "start_time": "2022-07-20T19:23:41.213Z"
   },
   {
    "duration": 1370,
    "start_time": "2022-07-20T19:23:54.184Z"
   },
   {
    "duration": 690,
    "start_time": "2022-07-20T19:23:55.556Z"
   },
   {
    "duration": 3,
    "start_time": "2022-07-20T19:23:56.247Z"
   },
   {
    "duration": 46,
    "start_time": "2022-07-20T19:23:56.252Z"
   },
   {
    "duration": 246,
    "start_time": "2022-07-20T19:23:56.301Z"
   },
   {
    "duration": 96,
    "start_time": "2022-07-20T19:23:56.549Z"
   },
   {
    "duration": 17,
    "start_time": "2022-07-20T19:23:56.648Z"
   },
   {
    "duration": 3,
    "start_time": "2022-07-20T19:23:56.667Z"
   },
   {
    "duration": 26,
    "start_time": "2022-07-20T19:23:56.672Z"
   },
   {
    "duration": 18,
    "start_time": "2022-07-20T19:23:56.725Z"
   },
   {
    "duration": 4,
    "start_time": "2022-07-20T19:23:56.745Z"
   },
   {
    "duration": 9,
    "start_time": "2022-07-20T19:23:56.791Z"
   },
   {
    "duration": 3,
    "start_time": "2022-07-20T19:23:58.009Z"
   },
   {
    "duration": 12,
    "start_time": "2022-07-20T19:23:58.360Z"
   },
   {
    "duration": 5,
    "start_time": "2022-07-20T19:23:58.549Z"
   },
   {
    "duration": 3,
    "start_time": "2022-07-20T19:23:58.928Z"
   },
   {
    "duration": 6,
    "start_time": "2022-07-20T19:23:59.807Z"
   },
   {
    "duration": 1574,
    "start_time": "2022-07-20T19:23:59.859Z"
   },
   {
    "duration": 1748,
    "start_time": "2022-07-20T19:24:01.436Z"
   },
   {
    "duration": 1724,
    "start_time": "2022-07-20T19:24:03.186Z"
   },
   {
    "duration": 5,
    "start_time": "2022-07-20T19:24:04.923Z"
   },
   {
    "duration": 552,
    "start_time": "2022-07-20T19:24:04.930Z"
   },
   {
    "duration": 663,
    "start_time": "2022-07-20T19:24:05.484Z"
   },
   {
    "duration": 3,
    "start_time": "2022-07-20T19:24:06.150Z"
   },
   {
    "duration": 5,
    "start_time": "2022-07-20T19:24:06.155Z"
   },
   {
    "duration": 10,
    "start_time": "2022-07-20T19:24:06.162Z"
   },
   {
    "duration": 1486,
    "start_time": "2022-07-20T19:24:06.174Z"
   },
   {
    "duration": 92,
    "start_time": "2022-07-20T19:24:07.662Z"
   },
   {
    "duration": 1150,
    "start_time": "2022-07-20T19:24:08.157Z"
   },
   {
    "duration": 4,
    "start_time": "2022-07-20T19:24:12.849Z"
   },
   {
    "duration": 4,
    "start_time": "2022-07-20T19:25:11.358Z"
   },
   {
    "duration": 4,
    "start_time": "2022-07-20T19:25:14.568Z"
   },
   {
    "duration": 5,
    "start_time": "2022-07-20T19:25:16.218Z"
   },
   {
    "duration": 11,
    "start_time": "2022-07-20T19:25:17.515Z"
   },
   {
    "duration": 10,
    "start_time": "2022-07-20T19:25:17.704Z"
   },
   {
    "duration": 7,
    "start_time": "2022-07-20T19:25:18.544Z"
   },
   {
    "duration": 14,
    "start_time": "2022-07-20T19:25:19.303Z"
   },
   {
    "duration": 16405,
    "start_time": "2022-07-20T19:25:21.044Z"
   },
   {
    "duration": 1772,
    "start_time": "2022-07-20T19:26:03.456Z"
   },
   {
    "duration": 430,
    "start_time": "2022-07-20T19:26:05.232Z"
   },
   {
    "duration": 25910,
    "start_time": "2022-07-20T19:26:05.664Z"
   },
   {
    "duration": 393,
    "start_time": "2022-07-20T19:26:52.432Z"
   },
   {
    "duration": 1411,
    "start_time": "2022-07-20T19:27:07.689Z"
   },
   {
    "duration": 683,
    "start_time": "2022-07-20T19:27:09.102Z"
   },
   {
    "duration": 3,
    "start_time": "2022-07-20T19:27:09.787Z"
   },
   {
    "duration": 50,
    "start_time": "2022-07-20T19:27:09.791Z"
   },
   {
    "duration": 247,
    "start_time": "2022-07-20T19:27:09.843Z"
   },
   {
    "duration": 83,
    "start_time": "2022-07-20T19:27:10.092Z"
   },
   {
    "duration": 15,
    "start_time": "2022-07-20T19:27:10.177Z"
   },
   {
    "duration": 2,
    "start_time": "2022-07-20T19:27:10.194Z"
   },
   {
    "duration": 43,
    "start_time": "2022-07-20T19:27:10.198Z"
   },
   {
    "duration": 18,
    "start_time": "2022-07-20T19:27:10.244Z"
   },
   {
    "duration": 3,
    "start_time": "2022-07-20T19:27:10.264Z"
   },
   {
    "duration": 13,
    "start_time": "2022-07-20T19:27:10.268Z"
   },
   {
    "duration": 8,
    "start_time": "2022-07-20T19:27:10.282Z"
   },
   {
    "duration": 37,
    "start_time": "2022-07-20T19:27:10.291Z"
   },
   {
    "duration": 5,
    "start_time": "2022-07-20T19:27:10.330Z"
   },
   {
    "duration": 6,
    "start_time": "2022-07-20T19:27:10.336Z"
   },
   {
    "duration": 10,
    "start_time": "2022-07-20T19:27:10.344Z"
   },
   {
    "duration": 1566,
    "start_time": "2022-07-20T19:27:10.355Z"
   },
   {
    "duration": 1545,
    "start_time": "2022-07-20T19:27:11.922Z"
   },
   {
    "duration": 1448,
    "start_time": "2022-07-20T19:27:13.469Z"
   },
   {
    "duration": 6,
    "start_time": "2022-07-20T19:27:14.918Z"
   },
   {
    "duration": 484,
    "start_time": "2022-07-20T19:27:14.926Z"
   },
   {
    "duration": 557,
    "start_time": "2022-07-20T19:27:15.412Z"
   },
   {
    "duration": 3,
    "start_time": "2022-07-20T19:27:15.971Z"
   },
   {
    "duration": 9,
    "start_time": "2022-07-20T19:27:15.975Z"
   },
   {
    "duration": 14,
    "start_time": "2022-07-20T19:27:15.988Z"
   },
   {
    "duration": 1204,
    "start_time": "2022-07-20T19:27:16.004Z"
   },
   {
    "duration": 106,
    "start_time": "2022-07-20T19:27:17.210Z"
   },
   {
    "duration": 1191,
    "start_time": "2022-07-20T19:27:17.319Z"
   },
   {
    "duration": 5,
    "start_time": "2022-07-20T19:27:18.512Z"
   },
   {
    "duration": 2,
    "start_time": "2022-07-20T19:27:18.525Z"
   },
   {
    "duration": 6,
    "start_time": "2022-07-20T19:27:18.529Z"
   },
   {
    "duration": 11,
    "start_time": "2022-07-20T19:27:21.227Z"
   },
   {
    "duration": 18,
    "start_time": "2022-07-20T19:27:21.241Z"
   },
   {
    "duration": 19,
    "start_time": "2022-07-20T19:27:21.261Z"
   },
   {
    "duration": 11,
    "start_time": "2022-07-20T19:27:21.514Z"
   },
   {
    "duration": 16596,
    "start_time": "2022-07-20T19:27:22.035Z"
   },
   {
    "duration": 25617,
    "start_time": "2022-07-20T19:27:38.633Z"
   },
   {
    "duration": 2072,
    "start_time": "2022-07-20T19:28:04.252Z"
   },
   {
    "duration": 396,
    "start_time": "2022-07-20T19:28:09.755Z"
   },
   {
    "duration": 18,
    "start_time": "2022-07-20T19:28:19.287Z"
   },
   {
    "duration": 457,
    "start_time": "2022-07-20T19:28:38.918Z"
   },
   {
    "duration": 320,
    "start_time": "2022-07-20T19:28:44.921Z"
   },
   {
    "duration": 393,
    "start_time": "2022-07-20T19:28:54.755Z"
   },
   {
    "duration": 1996,
    "start_time": "2022-07-20T19:29:41.655Z"
   },
   {
    "duration": 36247,
    "start_time": "2022-07-20T19:29:54.352Z"
   },
   {
    "duration": 1025,
    "start_time": "2022-07-20T19:30:39.930Z"
   },
   {
    "duration": 1505,
    "start_time": "2022-07-20T19:31:21.012Z"
   },
   {
    "duration": 15,
    "start_time": "2022-07-20T19:32:01.293Z"
   }
  ],
  "kernelspec": {
   "display_name": "Python 3 (ipykernel)",
   "language": "python",
   "name": "python3"
  },
  "language_info": {
   "codemirror_mode": {
    "name": "ipython",
    "version": 3
   },
   "file_extension": ".py",
   "mimetype": "text/x-python",
   "name": "python",
   "nbconvert_exporter": "python",
   "pygments_lexer": "ipython3",
   "version": "3.9.12"
  },
  "toc": {
   "base_numbering": 1,
   "nav_menu": {},
   "number_sections": true,
   "sideBar": true,
   "skip_h1_title": true,
   "title_cell": "Содержание",
   "title_sidebar": "Contents",
   "toc_cell": true,
   "toc_position": {},
   "toc_section_display": true,
   "toc_window_display": false
  }
 },
 "nbformat": 4,
 "nbformat_minor": 2
}
