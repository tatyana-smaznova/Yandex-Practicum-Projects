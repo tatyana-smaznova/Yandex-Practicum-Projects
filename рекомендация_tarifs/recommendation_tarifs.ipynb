{
 "cells": [
  {
   "cell_type": "markdown",
   "metadata": {},
   "source": [
    "# Рекомендация тарифов"
   ]
  },
  {
   "cell_type": "markdown",
   "metadata": {},
   "source": [
    "В вашем распоряжении данные о поведении клиентов, которые уже перешли на эти тарифы (из проекта курса «Статистический анализ данных»). Нужно построить модель для задачи классификации, которая выберет подходящий тариф. Предобработка данных не понадобится — вы её уже сделали.\n",
    "\n",
    "Постройте модель с максимально большим значением *accuracy*. Чтобы сдать проект успешно, нужно довести долю правильных ответов по крайней мере до 0.75. Проверьте *accuracy* на тестовой выборке самостоятельно.\n",
    "\n",
    "Для достижения цели нам необходимо:\n",
    "1. изучить файл с данными;\n",
    "2. разделить исходные данные на обучающую, валидационную и тестовую выборки;\n",
    "3. исследовать качество разных моделей, меняя гиперпараметры;\n",
    "4. проверить качество модели на тестовой выборке;\n",
    "5. дополнительное задание: проверить модели на вменяемость;\n",
    "6. Написать выводы."
   ]
  },
  {
   "cell_type": "markdown",
   "metadata": {},
   "source": [
    "## Откройте и изучите файл"
   ]
  },
  {
   "cell_type": "markdown",
   "metadata": {},
   "source": [
    "Импортируем необходимые для работы библиотеки"
   ]
  },
  {
   "cell_type": "code",
   "execution_count": 1,
   "metadata": {},
   "outputs": [],
   "source": [
    "import pandas as pd\n",
    "from sklearn.ensemble import RandomForestClassifier\n",
    "from sklearn.tree import DecisionTreeClassifier\n",
    "from sklearn.linear_model import LogisticRegression\n",
    "from sklearn.model_selection import train_test_split\n",
    "from sklearn.metrics import accuracy_score"
   ]
  },
  {
   "cell_type": "markdown",
   "metadata": {},
   "source": [
    "Прочитаем файл и сохраним в переменной df"
   ]
  },
  {
   "cell_type": "code",
   "execution_count": 2,
   "metadata": {},
   "outputs": [],
   "source": [
    "df = pd.read_csv('/datasets/users_behavior.csv')"
   ]
  },
  {
   "cell_type": "markdown",
   "metadata": {},
   "source": [
    "Выведем на экран таблицу"
   ]
  },
  {
   "cell_type": "code",
   "execution_count": 3,
   "metadata": {},
   "outputs": [
    {
     "data": {
      "text/html": [
       "<div>\n",
       "<style scoped>\n",
       "    .dataframe tbody tr th:only-of-type {\n",
       "        vertical-align: middle;\n",
       "    }\n",
       "\n",
       "    .dataframe tbody tr th {\n",
       "        vertical-align: top;\n",
       "    }\n",
       "\n",
       "    .dataframe thead th {\n",
       "        text-align: right;\n",
       "    }\n",
       "</style>\n",
       "<table border=\"1\" class=\"dataframe\">\n",
       "  <thead>\n",
       "    <tr style=\"text-align: right;\">\n",
       "      <th></th>\n",
       "      <th>calls</th>\n",
       "      <th>minutes</th>\n",
       "      <th>messages</th>\n",
       "      <th>mb_used</th>\n",
       "      <th>is_ultra</th>\n",
       "    </tr>\n",
       "  </thead>\n",
       "  <tbody>\n",
       "    <tr>\n",
       "      <th>0</th>\n",
       "      <td>40.0</td>\n",
       "      <td>311.90</td>\n",
       "      <td>83.0</td>\n",
       "      <td>19915.42</td>\n",
       "      <td>0</td>\n",
       "    </tr>\n",
       "    <tr>\n",
       "      <th>1</th>\n",
       "      <td>85.0</td>\n",
       "      <td>516.75</td>\n",
       "      <td>56.0</td>\n",
       "      <td>22696.96</td>\n",
       "      <td>0</td>\n",
       "    </tr>\n",
       "    <tr>\n",
       "      <th>2</th>\n",
       "      <td>77.0</td>\n",
       "      <td>467.66</td>\n",
       "      <td>86.0</td>\n",
       "      <td>21060.45</td>\n",
       "      <td>0</td>\n",
       "    </tr>\n",
       "    <tr>\n",
       "      <th>3</th>\n",
       "      <td>106.0</td>\n",
       "      <td>745.53</td>\n",
       "      <td>81.0</td>\n",
       "      <td>8437.39</td>\n",
       "      <td>1</td>\n",
       "    </tr>\n",
       "    <tr>\n",
       "      <th>4</th>\n",
       "      <td>66.0</td>\n",
       "      <td>418.74</td>\n",
       "      <td>1.0</td>\n",
       "      <td>14502.75</td>\n",
       "      <td>0</td>\n",
       "    </tr>\n",
       "    <tr>\n",
       "      <th>...</th>\n",
       "      <td>...</td>\n",
       "      <td>...</td>\n",
       "      <td>...</td>\n",
       "      <td>...</td>\n",
       "      <td>...</td>\n",
       "    </tr>\n",
       "    <tr>\n",
       "      <th>3209</th>\n",
       "      <td>122.0</td>\n",
       "      <td>910.98</td>\n",
       "      <td>20.0</td>\n",
       "      <td>35124.90</td>\n",
       "      <td>1</td>\n",
       "    </tr>\n",
       "    <tr>\n",
       "      <th>3210</th>\n",
       "      <td>25.0</td>\n",
       "      <td>190.36</td>\n",
       "      <td>0.0</td>\n",
       "      <td>3275.61</td>\n",
       "      <td>0</td>\n",
       "    </tr>\n",
       "    <tr>\n",
       "      <th>3211</th>\n",
       "      <td>97.0</td>\n",
       "      <td>634.44</td>\n",
       "      <td>70.0</td>\n",
       "      <td>13974.06</td>\n",
       "      <td>0</td>\n",
       "    </tr>\n",
       "    <tr>\n",
       "      <th>3212</th>\n",
       "      <td>64.0</td>\n",
       "      <td>462.32</td>\n",
       "      <td>90.0</td>\n",
       "      <td>31239.78</td>\n",
       "      <td>0</td>\n",
       "    </tr>\n",
       "    <tr>\n",
       "      <th>3213</th>\n",
       "      <td>80.0</td>\n",
       "      <td>566.09</td>\n",
       "      <td>6.0</td>\n",
       "      <td>29480.52</td>\n",
       "      <td>1</td>\n",
       "    </tr>\n",
       "  </tbody>\n",
       "</table>\n",
       "<p>3214 rows × 5 columns</p>\n",
       "</div>"
      ],
      "text/plain": [
       "      calls  minutes  messages   mb_used  is_ultra\n",
       "0      40.0   311.90      83.0  19915.42         0\n",
       "1      85.0   516.75      56.0  22696.96         0\n",
       "2      77.0   467.66      86.0  21060.45         0\n",
       "3     106.0   745.53      81.0   8437.39         1\n",
       "4      66.0   418.74       1.0  14502.75         0\n",
       "...     ...      ...       ...       ...       ...\n",
       "3209  122.0   910.98      20.0  35124.90         1\n",
       "3210   25.0   190.36       0.0   3275.61         0\n",
       "3211   97.0   634.44      70.0  13974.06         0\n",
       "3212   64.0   462.32      90.0  31239.78         0\n",
       "3213   80.0   566.09       6.0  29480.52         1\n",
       "\n",
       "[3214 rows x 5 columns]"
      ]
     },
     "metadata": {},
     "output_type": "display_data"
    }
   ],
   "source": [
    "display(df)"
   ]
  },
  {
   "cell_type": "markdown",
   "metadata": {},
   "source": [
    "Наименования столбцов корректные, но формат данных исправлять не будем."
   ]
  },
  {
   "cell_type": "markdown",
   "metadata": {},
   "source": [
    "Посмотрим общую информацию о данных"
   ]
  },
  {
   "cell_type": "code",
   "execution_count": 4,
   "metadata": {},
   "outputs": [
    {
     "name": "stdout",
     "output_type": "stream",
     "text": [
      "<class 'pandas.core.frame.DataFrame'>\n",
      "RangeIndex: 3214 entries, 0 to 3213\n",
      "Data columns (total 5 columns):\n",
      " #   Column    Non-Null Count  Dtype  \n",
      "---  ------    --------------  -----  \n",
      " 0   calls     3214 non-null   float64\n",
      " 1   minutes   3214 non-null   float64\n",
      " 2   messages  3214 non-null   float64\n",
      " 3   mb_used   3214 non-null   float64\n",
      " 4   is_ultra  3214 non-null   int64  \n",
      "dtypes: float64(4), int64(1)\n",
      "memory usage: 125.7 KB\n"
     ]
    }
   ],
   "source": [
    "df.info()"
   ]
  },
  {
   "cell_type": "markdown",
   "metadata": {},
   "source": [
    "Мы видим, что в столбцах одинакое количество данных. Из документации знаем, что\n",
    "**сalls** — количество звонков,\n",
    "**minutes** — суммарная длительность звонков в минутах,\n",
    "**messages** — количество sms-сообщений,\n",
    "**mb_used** — израсходованный интернет-трафик в Мб,\n",
    "**is_ultra** — каким тарифом пользовался в течение месяца («Ультра» — 1, «Смарт» — 0)."
   ]
  },
  {
   "cell_type": "markdown",
   "metadata": {},
   "source": [
    "**Вывод**\n",
    "\n",
    "С данными всё в порядке, можно переходить к обучению моделей."
   ]
  },
  {
   "cell_type": "markdown",
   "metadata": {},
   "source": [
    "## Разбейте данные на выборки"
   ]
  },
  {
   "cell_type": "markdown",
   "metadata": {},
   "source": [
    "Теперь нам необходимо извлечь признаки"
   ]
  },
  {
   "cell_type": "code",
   "execution_count": 5,
   "metadata": {},
   "outputs": [],
   "source": [
    "features = df.drop(['is_ultra'], axis=1)"
   ]
  },
  {
   "cell_type": "markdown",
   "metadata": {},
   "source": [
    "И целевой признак"
   ]
  },
  {
   "cell_type": "code",
   "execution_count": 6,
   "metadata": {},
   "outputs": [],
   "source": [
    "target = df['is_ultra']"
   ]
  },
  {
   "cell_type": "markdown",
   "metadata": {},
   "source": [
    "Далее нам необходимо разделить датасет на обучающую, тестовую и валидационную выборки. На обучающую выборку оставим 60% данных, для тестовой и валидационной по 20% данных."
   ]
  },
  {
   "cell_type": "code",
   "execution_count": 7,
   "metadata": {},
   "outputs": [],
   "source": [
    "features_train, features_valid, target_train, target_valid = train_test_split(\n",
    "    features, target, test_size=0.4, random_state=12345)"
   ]
  },
  {
   "cell_type": "markdown",
   "metadata": {},
   "source": [
    "Теперь пополам разделим валидационную выборку, чтобы получить валидационную и тестовую"
   ]
  },
  {
   "cell_type": "code",
   "execution_count": 8,
   "metadata": {},
   "outputs": [],
   "source": [
    "features_valid, features_test, target_valid, target_test = train_test_split(\n",
    "    features_valid, target_valid, test_size=0.5, random_state=12345)"
   ]
  },
  {
   "cell_type": "markdown",
   "metadata": {},
   "source": [
    "**Вывод**\n",
    "\n",
    "Мы разбили данные на выборки, теперь можно переходить к исследованию модели."
   ]
  },
  {
   "cell_type": "markdown",
   "metadata": {},
   "source": [
    "## Исследуйте модели"
   ]
  },
  {
   "cell_type": "markdown",
   "metadata": {},
   "source": [
    "В ходе выполнения этого шага, мы исследуем три модели:\n",
    "- дерево решений\n",
    "- случайный лес\n",
    "- логистическую регрессию"
   ]
  },
  {
   "cell_type": "markdown",
   "metadata": {},
   "source": [
    "### Дерево решений"
   ]
  },
  {
   "cell_type": "markdown",
   "metadata": {},
   "source": [
    "Зададим параметры для дерева решений, напишем функцию, с помощью которой обучим модель и проверим её на валидационной выборке. Так как слишком высокое дерево решений имеет склонность к переобучению, а слишком низкое - к недообучению, установим параметры высоты от 1 до 5, как наиболее часто встречающиеся. Если при проверке дерева решений с этими гиперпараметрами увидим необходимость проверить более высокое дерево, то сделаем это следующим шагом."
   ]
  },
  {
   "cell_type": "code",
   "execution_count": 10,
   "metadata": {},
   "outputs": [
    {
     "name": "stdout",
     "output_type": "stream",
     "text": [
      "DecisionTreeClassifier. max_depth = 1; accuracy = 0.7542768273716952\n",
      "DecisionTreeClassifier. max_depth = 2; accuracy = 0.7822706065318819\n",
      "DecisionTreeClassifier. max_depth = 3; accuracy = 0.7853810264385692\n",
      "DecisionTreeClassifier. max_depth = 4; accuracy = 0.7791601866251944\n",
      "DecisionTreeClassifier. max_depth = 5; accuracy = 0.7791601866251944\n"
     ]
    }
   ],
   "source": [
    "for depth in range(1, 6):\n",
    "    dtc_model = DecisionTreeClassifier(max_depth=depth, random_state=12345)\n",
    "    dtc_model.fit(features_train, target_train)\n",
    "    \n",
    "    dtc_valid_predictions = dtc_model.predict(features_valid)\n",
    "    accuracy = accuracy_score(target_valid, dtc_valid_predictions)\n",
    "    print(f\"DecisionTreeClassifier. max_depth = {depth}; accuracy = {accuracy}\")"
   ]
  },
  {
   "cell_type": "markdown",
   "metadata": {},
   "source": [
    "Мы видим, что самый хороший результат показывает дерево с параметром depth = 3, до него высокое значение accuracy только у depth = 2, а после 3 значение accuracy начинает снижаться, поэтому проверять более высокие деревья не имеет смысла - они будут переобучаться."
   ]
  },
  {
   "cell_type": "markdown",
   "metadata": {},
   "source": [
    "### Случайный лес"
   ]
  },
  {
   "cell_type": "markdown",
   "metadata": {},
   "source": [
    "Теперь обучим модель с помощью случайного леса. Посмотрим, как влияет на значение accuracy количество деревьев от 10 до 100."
   ]
  },
  {
   "cell_type": "code",
   "execution_count": 12,
   "metadata": {},
   "outputs": [
    {
     "name": "stdout",
     "output_type": "stream",
     "text": [
      "RandomForestClassifier, estimators=10, score=0.7853810264385692\n",
      "RandomForestClassifier, estimators=20, score=0.7869362363919129\n",
      "RandomForestClassifier, estimators=30, score=0.7838258164852255\n",
      "RandomForestClassifier, estimators=40, score=0.7838258164852255\n",
      "RandomForestClassifier, estimators=50, score=0.7916018662519441\n",
      "RandomForestClassifier, estimators=60, score=0.7853810264385692\n",
      "RandomForestClassifier, estimators=70, score=0.7791601866251944\n",
      "RandomForestClassifier, estimators=80, score=0.7822706065318819\n",
      "RandomForestClassifier, estimators=90, score=0.7838258164852255\n",
      "RandomForestClassifier, estimators=100, score=0.7853810264385692\n"
     ]
    }
   ],
   "source": [
    "for i in range(10, 101, 10):\n",
    "    rfc_model = RandomForestClassifier(random_state=12345, n_estimators=i)\n",
    "    rfc_model.fit(features_train, target_train)\n",
    "    rfc_valid_predictions = rfc_model.predict(features_valid)\n",
    "    score = accuracy_score( target_valid, rfc_valid_predictions)\n",
    "    print(f'RandomForestClassifier, estimators={i}, score={score}')"
   ]
  },
  {
   "cell_type": "markdown",
   "metadata": {},
   "source": [
    "Мы видим, что наилучший результат показывает лес, с количеством деревьев равным 50."
   ]
  },
  {
   "cell_type": "markdown",
   "metadata": {},
   "source": [
    "### Логистическая регрессия"
   ]
  },
  {
   "cell_type": "markdown",
   "metadata": {},
   "source": [
    "Теперь рассмотрим модель логистической регрессии"
   ]
  },
  {
   "cell_type": "code",
   "execution_count": 13,
   "metadata": {},
   "outputs": [
    {
     "name": "stdout",
     "output_type": "stream",
     "text": [
      "Logistic Regression, score = 0.7107309486780715\n"
     ]
    }
   ],
   "source": [
    "log_model = LogisticRegression(random_state=12345)\n",
    "log_model.fit(features_train, target_train)\n",
    "log_predictions = log_model.predict(features_valid)\n",
    "score = accuracy_score( target_valid, log_predictions)\n",
    "print(f'Logistic Regression, score = {score}')"
   ]
  },
  {
   "cell_type": "markdown",
   "metadata": {},
   "source": [
    "Логистическая регрессия показывает результат, не удовлетворяющий заданию, её использовать не будем."
   ]
  },
  {
   "cell_type": "markdown",
   "metadata": {},
   "source": [
    "**Вывод**\n",
    "\n",
    "В ходе выполнения исследования моделей мы выяснили, что наилучший результат показывают:\n",
    "1. RandomForestClassifier, estimators=50, accuracy = 0.79\n",
    "2. RandomForestClassifier, estimators=10, accuracy = 0.78\n",
    "3. DecisionTreeClassifier. max_depth = 3; accuracy = 0.78\n",
    "\n",
    "Самый высокий показатель точности был у модели случайный лес с гиперпараметром n_estimators=50. Эту модель мы будем проверять на тестовой выборке."
   ]
  },
  {
   "cell_type": "markdown",
   "metadata": {},
   "source": [
    "## Проверьте модель на тестовой выборке"
   ]
  },
  {
   "cell_type": "markdown",
   "metadata": {},
   "source": [
    "Проверим модель случайного леса  с гиперпараметром n_estimators=50 на тестовой выборке."
   ]
  },
  {
   "cell_type": "code",
   "execution_count": 14,
   "metadata": {},
   "outputs": [
    {
     "name": "stdout",
     "output_type": "stream",
     "text": [
      "RandomForestClassifier. n_estimators = 50; accuracy = 0.7931570762052877\n"
     ]
    }
   ],
   "source": [
    "model = RandomForestClassifier(random_state=12345, n_estimators=50)\n",
    "model.fit(features_train, target_train)\n",
    "predictions = model.predict(features_test)\n",
    "\n",
    "print(f\"RandomForestClassifier. n_estimators = 50; accuracy = {accuracy_score(target_test, predictions)}\")"
   ]
  },
  {
   "cell_type": "markdown",
   "metadata": {},
   "source": [
    "**Вывод**\n",
    "\n",
    "Мы видим, что случайный лес показывает хороший результат и на тестовой выборке, доля ошибок невелика. Мы выбрали верную модель, можно проверить её в работе на реальных данных. Аccuracy удовлетворяет требованиям."
   ]
  },
  {
   "cell_type": "markdown",
   "metadata": {},
   "source": [
    "## Вывод"
   ]
  },
  {
   "cell_type": "markdown",
   "metadata": {},
   "source": [
    "Итак, в ходе выполнения проекта мы проверили три модели обучения: дерево решений, случайный лес и логистическую регрессию, из них выбрали ту модель, которая показала наилучший результат. Модель случайного леса с гиперпараметром n_estimators=50 показала на тестовой выборке accuracy = 0.79. Также хороший результат показывал случайный лес с 10 деревьями и дерево решений высотой 3.\n",
    "\n",
    "Мы выяснили, что дерево решений довольно быстро начинает переобучаться, accuracy начало снижаться после 3. А вот модель случайнного леса оказалась меньше склонна к переобучению, так как везде был довольно высокий результат. Логистическая регрессия показала самый низкий результат, поэтому её мы не проверяли на тестовой выборке."
   ]
  }
 ],
 "metadata": {
  "ExecuteTimeLog": [
   {
    "duration": 1251,
    "start_time": "2022-06-12T11:04:42.120Z"
   },
   {
    "duration": 110,
    "start_time": "2022-06-12T11:04:45.290Z"
   },
   {
    "duration": 5,
    "start_time": "2022-06-12T11:04:56.122Z"
   },
   {
    "duration": 61,
    "start_time": "2022-06-12T11:04:56.675Z"
   },
   {
    "duration": 27,
    "start_time": "2022-06-12T11:06:07.559Z"
   },
   {
    "duration": 30,
    "start_time": "2022-06-12T11:09:41.892Z"
   },
   {
    "duration": 13,
    "start_time": "2022-06-12T11:12:20.858Z"
   },
   {
    "duration": 5,
    "start_time": "2022-06-12T11:12:35.443Z"
   },
   {
    "duration": 19,
    "start_time": "2022-06-12T11:12:38.690Z"
   },
   {
    "duration": 58,
    "start_time": "2022-06-12T11:22:41.687Z"
   },
   {
    "duration": 16,
    "start_time": "2022-06-12T11:22:41.748Z"
   },
   {
    "duration": 69,
    "start_time": "2022-06-12T11:22:41.782Z"
   },
   {
    "duration": 16,
    "start_time": "2022-06-12T11:22:43.048Z"
   },
   {
    "duration": 4,
    "start_time": "2022-06-12T11:22:44.424Z"
   },
   {
    "duration": 5,
    "start_time": "2022-06-12T11:52:17.484Z"
   },
   {
    "duration": 4,
    "start_time": "2022-06-12T11:52:18.354Z"
   },
   {
    "duration": 6,
    "start_time": "2022-06-12T11:53:47.491Z"
   },
   {
    "duration": 5,
    "start_time": "2022-06-12T11:55:11.242Z"
   },
   {
    "duration": 39,
    "start_time": "2022-06-12T12:19:57.418Z"
   },
   {
    "duration": 9,
    "start_time": "2022-06-12T12:24:14.596Z"
   },
   {
    "duration": 10,
    "start_time": "2022-06-12T12:24:16.088Z"
   },
   {
    "duration": 13,
    "start_time": "2022-06-12T12:27:20.153Z"
   },
   {
    "duration": 17,
    "start_time": "2022-06-12T12:27:20.686Z"
   },
   {
    "duration": 4,
    "start_time": "2022-06-12T12:29:20.926Z"
   },
   {
    "duration": 17,
    "start_time": "2022-06-12T12:29:23.593Z"
   },
   {
    "duration": 6,
    "start_time": "2022-06-12T12:29:31.439Z"
   },
   {
    "duration": 17,
    "start_time": "2022-06-12T12:29:31.796Z"
   },
   {
    "duration": 10,
    "start_time": "2022-06-12T12:31:59.396Z"
   },
   {
    "duration": 9,
    "start_time": "2022-06-12T12:32:35.910Z"
   },
   {
    "duration": 2,
    "start_time": "2022-06-12T12:33:01.738Z"
   },
   {
    "duration": 69,
    "start_time": "2022-06-12T12:33:02.363Z"
   },
   {
    "duration": 96,
    "start_time": "2022-06-12T12:33:20.202Z"
   },
   {
    "duration": 75,
    "start_time": "2022-06-12T12:33:34.423Z"
   },
   {
    "duration": 30,
    "start_time": "2022-06-12T12:35:21.279Z"
   },
   {
    "duration": 38,
    "start_time": "2022-06-12T12:37:55.424Z"
   },
   {
    "duration": 13,
    "start_time": "2022-06-12T12:39:02.770Z"
   },
   {
    "duration": 13,
    "start_time": "2022-06-12T12:48:48.796Z"
   },
   {
    "duration": 17,
    "start_time": "2022-06-12T12:50:09.496Z"
   },
   {
    "duration": 25,
    "start_time": "2022-06-12T12:50:38.451Z"
   },
   {
    "duration": 17,
    "start_time": "2022-06-12T12:50:44.907Z"
   },
   {
    "duration": 29,
    "start_time": "2022-06-12T12:54:28.394Z"
   },
   {
    "duration": 12,
    "start_time": "2022-06-12T12:55:51.077Z"
   },
   {
    "duration": 46,
    "start_time": "2022-06-12T12:55:54.885Z"
   },
   {
    "duration": 14,
    "start_time": "2022-06-12T12:55:55.914Z"
   },
   {
    "duration": 10,
    "start_time": "2022-06-12T13:01:09.994Z"
   },
   {
    "duration": 9,
    "start_time": "2022-06-12T13:01:30.486Z"
   },
   {
    "duration": 14,
    "start_time": "2022-06-12T13:01:57.418Z"
   },
   {
    "duration": 1163,
    "start_time": "2022-06-12T13:02:35.602Z"
   },
   {
    "duration": 50,
    "start_time": "2022-06-12T13:02:37.688Z"
   },
   {
    "duration": 33,
    "start_time": "2022-06-12T13:02:38.438Z"
   },
   {
    "duration": 15,
    "start_time": "2022-06-12T13:02:42.586Z"
   },
   {
    "duration": 4,
    "start_time": "2022-06-12T13:02:44.719Z"
   },
   {
    "duration": 3,
    "start_time": "2022-06-12T13:02:45.100Z"
   },
   {
    "duration": 5,
    "start_time": "2022-06-12T13:02:45.429Z"
   },
   {
    "duration": 6,
    "start_time": "2022-06-12T13:02:45.787Z"
   },
   {
    "duration": 42,
    "start_time": "2022-06-12T13:02:48.613Z"
   },
   {
    "duration": 135,
    "start_time": "2022-06-12T13:02:51.289Z"
   },
   {
    "duration": 17,
    "start_time": "2022-06-12T13:02:52.903Z"
   },
   {
    "duration": 5600,
    "start_time": "2022-06-12T13:04:22.098Z"
   },
   {
    "duration": 11,
    "start_time": "2022-06-12T13:04:42.492Z"
   },
   {
    "duration": 22,
    "start_time": "2022-06-12T13:06:29.651Z"
   },
   {
    "duration": 14,
    "start_time": "2022-06-12T13:07:03.240Z"
   },
   {
    "duration": 4491,
    "start_time": "2022-06-12T14:19:49.582Z"
   },
   {
    "duration": 58,
    "start_time": "2022-06-12T14:22:03.842Z"
   },
   {
    "duration": 25,
    "start_time": "2022-06-12T14:22:05.175Z"
   },
   {
    "duration": 62,
    "start_time": "2022-06-12T14:23:21.332Z"
   },
   {
    "duration": 13,
    "start_time": "2022-06-12T14:23:22.303Z"
   },
   {
    "duration": 10600,
    "start_time": "2022-06-12T14:24:02.535Z"
   },
   {
    "duration": 8,
    "start_time": "2022-06-12T14:24:57.422Z"
   },
   {
    "duration": 12422,
    "start_time": "2022-06-12T14:25:00.502Z"
   },
   {
    "duration": 11,
    "start_time": "2022-06-12T14:25:12.926Z"
   },
   {
    "duration": 14,
    "start_time": "2022-06-12T14:25:19.274Z"
   },
   {
    "duration": 16,
    "start_time": "2022-06-12T14:25:29.087Z"
   },
   {
    "duration": 10,
    "start_time": "2022-06-12T14:28:19.480Z"
   },
   {
    "duration": 9,
    "start_time": "2022-06-12T14:30:13.388Z"
   },
   {
    "duration": 12,
    "start_time": "2022-06-12T14:30:28.317Z"
   },
   {
    "duration": 11086,
    "start_time": "2022-06-12T14:54:28.228Z"
   },
   {
    "duration": 42,
    "start_time": "2022-06-12T14:55:49.143Z"
   },
   {
    "duration": 21,
    "start_time": "2022-06-12T14:55:50.269Z"
   },
   {
    "duration": 31,
    "start_time": "2022-06-12T14:56:25.469Z"
   },
   {
    "duration": 33,
    "start_time": "2022-06-12T14:57:30.673Z"
   },
   {
    "duration": 15,
    "start_time": "2022-06-12T14:57:38.049Z"
   },
   {
    "duration": 4688,
    "start_time": "2022-06-12T14:57:50.472Z"
   },
   {
    "duration": 12,
    "start_time": "2022-06-12T14:58:17.730Z"
   },
   {
    "duration": 11,
    "start_time": "2022-06-12T14:59:03.703Z"
   },
   {
    "duration": 14,
    "start_time": "2022-06-12T14:59:31.284Z"
   },
   {
    "duration": 4,
    "start_time": "2022-06-12T15:34:24.205Z"
   },
   {
    "duration": 33,
    "start_time": "2022-06-12T15:34:24.904Z"
   },
   {
    "duration": 14,
    "start_time": "2022-06-12T15:34:25.451Z"
   },
   {
    "duration": 12,
    "start_time": "2022-06-12T15:34:28.396Z"
   },
   {
    "duration": 4,
    "start_time": "2022-06-12T15:34:34.083Z"
   },
   {
    "duration": 3,
    "start_time": "2022-06-12T15:34:35.017Z"
   },
   {
    "duration": 5,
    "start_time": "2022-06-12T15:34:36.442Z"
   },
   {
    "duration": 5,
    "start_time": "2022-06-12T15:34:36.881Z"
   },
   {
    "duration": 6,
    "start_time": "2022-06-12T15:35:27.911Z"
   },
   {
    "duration": 5,
    "start_time": "2022-06-12T15:35:28.879Z"
   },
   {
    "duration": 164,
    "start_time": "2022-06-12T15:35:56.983Z"
   },
   {
    "duration": 219,
    "start_time": "2022-06-12T15:36:20.509Z"
   },
   {
    "duration": 10,
    "start_time": "2022-06-12T15:36:50.825Z"
   },
   {
    "duration": 199,
    "start_time": "2022-06-12T15:37:01.483Z"
   },
   {
    "duration": 16,
    "start_time": "2022-06-12T15:37:29.328Z"
   },
   {
    "duration": 7588,
    "start_time": "2022-06-12T15:37:56.213Z"
   },
   {
    "duration": 175,
    "start_time": "2022-06-12T15:38:45.425Z"
   },
   {
    "duration": 21,
    "start_time": "2022-06-12T15:49:16.033Z"
   },
   {
    "duration": 8,
    "start_time": "2022-06-12T15:49:26.184Z"
   },
   {
    "duration": 20,
    "start_time": "2022-06-12T15:49:44.711Z"
   },
   {
    "duration": 29,
    "start_time": "2022-06-12T15:50:07.813Z"
   },
   {
    "duration": 10,
    "start_time": "2022-06-12T15:50:26.741Z"
   },
   {
    "duration": 20,
    "start_time": "2022-06-12T15:50:35.543Z"
   },
   {
    "duration": 180,
    "start_time": "2022-06-12T15:53:43.152Z"
   },
   {
    "duration": 194,
    "start_time": "2022-06-12T15:55:13.995Z"
   },
   {
    "duration": 949,
    "start_time": "2022-06-12T16:27:05.597Z"
   },
   {
    "duration": 64,
    "start_time": "2022-06-12T16:27:06.548Z"
   },
   {
    "duration": 21,
    "start_time": "2022-06-12T16:27:06.614Z"
   },
   {
    "duration": 10,
    "start_time": "2022-06-12T16:27:06.637Z"
   },
   {
    "duration": 8,
    "start_time": "2022-06-12T16:27:06.648Z"
   },
   {
    "duration": 9,
    "start_time": "2022-06-12T16:27:06.657Z"
   },
   {
    "duration": 9,
    "start_time": "2022-06-12T16:27:06.667Z"
   },
   {
    "duration": 10,
    "start_time": "2022-06-12T16:27:06.678Z"
   },
   {
    "duration": 146,
    "start_time": "2022-06-12T16:27:06.690Z"
   },
   {
    "duration": 189,
    "start_time": "2022-06-12T16:27:06.838Z"
   },
   {
    "duration": 185,
    "start_time": "2022-06-12T16:27:07.029Z"
   },
   {
    "duration": 13,
    "start_time": "2022-06-12T16:27:07.215Z"
   },
   {
    "duration": 6198,
    "start_time": "2022-06-12T16:27:07.229Z"
   },
   {
    "duration": 149,
    "start_time": "2022-06-12T16:27:13.429Z"
   },
   {
    "duration": 127,
    "start_time": "2022-06-12T16:27:13.580Z"
   },
   {
    "duration": 0,
    "start_time": "2022-06-12T16:27:13.708Z"
   },
   {
    "duration": 177,
    "start_time": "2022-06-12T16:40:26.913Z"
   },
   {
    "duration": 983,
    "start_time": "2022-06-13T15:00:40.291Z"
   },
   {
    "duration": 66,
    "start_time": "2022-06-13T15:00:41.276Z"
   },
   {
    "duration": 23,
    "start_time": "2022-06-13T15:00:41.344Z"
   },
   {
    "duration": 10,
    "start_time": "2022-06-13T15:00:41.478Z"
   },
   {
    "duration": 4,
    "start_time": "2022-06-13T15:00:42.506Z"
   },
   {
    "duration": 3,
    "start_time": "2022-06-13T15:00:42.840Z"
   },
   {
    "duration": 6,
    "start_time": "2022-06-13T15:00:43.274Z"
   },
   {
    "duration": 4,
    "start_time": "2022-06-13T15:00:43.595Z"
   },
   {
    "duration": 95,
    "start_time": "2022-06-13T15:00:52.153Z"
   },
   {
    "duration": 28,
    "start_time": "2022-06-13T15:01:23.394Z"
   },
   {
    "duration": 266,
    "start_time": "2022-06-13T15:03:07.590Z"
   },
   {
    "duration": 1965,
    "start_time": "2022-06-13T15:04:04.602Z"
   },
   {
    "duration": 29,
    "start_time": "2022-06-13T15:04:38.770Z"
   },
   {
    "duration": 184,
    "start_time": "2022-06-13T15:08:47.795Z"
   }
  ],
  "kernelspec": {
   "display_name": "Python 3 (ipykernel)",
   "language": "python",
   "name": "python3"
  },
  "language_info": {
   "codemirror_mode": {
    "name": "ipython",
    "version": 3
   },
   "file_extension": ".py",
   "mimetype": "text/x-python",
   "name": "python",
   "nbconvert_exporter": "python",
   "pygments_lexer": "ipython3",
   "version": "3.9.12"
  },
  "toc": {
   "base_numbering": 1,
   "nav_menu": {},
   "number_sections": true,
   "sideBar": true,
   "skip_h1_title": true,
   "title_cell": "Table of Contents",
   "title_sidebar": "Contents",
   "toc_cell": false,
   "toc_position": {},
   "toc_section_display": true,
   "toc_window_display": true
  }
 },
 "nbformat": 4,
 "nbformat_minor": 2
}
