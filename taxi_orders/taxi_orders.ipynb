{
 "cells": [
  {
   "cell_type": "markdown",
   "metadata": {
    "toc": true
   },
   "source": [
    "<h1>Содержание<span class=\"tocSkip\"></span></h1>\n",
    "<div class=\"toc\"><ul class=\"toc-item\"><li><span><a href=\"#Подготовка\" data-toc-modified-id=\"Подготовка-1\"><span class=\"toc-item-num\">1&nbsp;&nbsp;</span>Подготовка</a></span></li><li><span><a href=\"#Анализ\" data-toc-modified-id=\"Анализ-2\"><span class=\"toc-item-num\">2&nbsp;&nbsp;</span>Анализ</a></span></li><li><span><a href=\"#Обучение\" data-toc-modified-id=\"Обучение-3\"><span class=\"toc-item-num\">3&nbsp;&nbsp;</span>Обучение</a></span></li><li><span><a href=\"#Тестирование\" data-toc-modified-id=\"Тестирование-4\"><span class=\"toc-item-num\">4&nbsp;&nbsp;</span>Тестирование</a></span></li><li><span><a href=\"#Вывод\" data-toc-modified-id=\"Вывод-5\"><span class=\"toc-item-num\">5&nbsp;&nbsp;</span>Вывод</a></span></li><li><span><a href=\"#Чек-лист-проверки\" data-toc-modified-id=\"Чек-лист-проверки-6\"><span class=\"toc-item-num\">6&nbsp;&nbsp;</span>Чек-лист проверки</a></span></li></ul></div>"
   ]
  },
  {
   "cell_type": "markdown",
   "metadata": {},
   "source": [
    "#  Прогнозирование заказов такси"
   ]
  },
  {
   "cell_type": "markdown",
   "metadata": {},
   "source": [
    "Компания «Чётенькое такси» собрала исторические данные о заказах такси в аэропортах. Чтобы привлекать больше водителей в период пиковой нагрузки, нужно спрогнозировать количество заказов такси на следующий час. Постройте модель для такого предсказания.\n",
    "\n",
    "Значение метрики *RMSE* на тестовой выборке должно быть не больше 48.\n",
    "\n",
    "Вам нужно:\n",
    "\n",
    "1. Загрузить данные и выполнить их ресемплирование по одному часу.\n",
    "2. Проанализировать данные.\n",
    "3. Обучить разные модели с различными гиперпараметрами. Сделать тестовую выборку размером 10% от исходных данных.\n",
    "4. Проверить данные на тестовой выборке и сделать выводы.\n",
    "\n",
    "\n",
    "Данные лежат в файле `taxi.csv`. Количество заказов находится в столбце `num_orders` (от англ. *number of orders*, «число заказов»)."
   ]
  },
  {
   "cell_type": "markdown",
   "metadata": {},
   "source": [
    "## Подготовка"
   ]
  },
  {
   "cell_type": "markdown",
   "metadata": {},
   "source": [
    "Для начала импортируем необходимые для работы библиотеки."
   ]
  },
  {
   "cell_type": "code",
   "execution_count": 1,
   "metadata": {},
   "outputs": [],
   "source": [
    "import pandas as pd\n",
    "import numpy as np\n",
    "import matplotlib.pyplot as plt\n",
    "import seaborn as sns\n",
    "import lightgbm as lgb\n",
    "\n",
    "import time \n",
    "\n",
    "from catboost import CatBoostRegressor \n",
    "from lightgbm import LGBMRegressor\n",
    "from xgboost import XGBRegressor\n",
    "from sklearn.linear_model  import LinearRegression\n",
    "\n",
    "from sklearn.model_selection import TimeSeriesSplit\n",
    "from sklearn.model_selection import train_test_split\n",
    "from statsmodels.tsa.seasonal import seasonal_decompose\n",
    "from sklearn.metrics import accuracy_score\n",
    "from sklearn.metrics import mean_absolute_error\n",
    "from sklearn.metrics import confusion_matrix\n",
    "from sklearn.metrics import recall_score\n",
    "from sklearn.metrics import precision_score\n",
    "from sklearn.metrics import f1_score\n",
    "from sklearn.utils import shuffle\n",
    "from sklearn.metrics import precision_recall_curve\n",
    "from sklearn.metrics import roc_auc_score\n",
    "from sklearn.metrics import mean_squared_error as mse\n",
    "from sklearn.metrics import r2_score\n",
    "from sklearn.model_selection import cross_val_score, GridSearchCV\n",
    "from sklearn.metrics import make_scorer\n",
    "from sklearn.preprocessing import LabelEncoder, StandardScaler"
   ]
  },
  {
   "cell_type": "markdown",
   "metadata": {},
   "source": [
    "Теперь прочитаем файл и сохраним его в переменной df."
   ]
  },
  {
   "cell_type": "code",
   "execution_count": 2,
   "metadata": {},
   "outputs": [],
   "source": [
    "df = pd.read_csv('/datasets/taxi.csv')"
   ]
  },
  {
   "cell_type": "markdown",
   "metadata": {},
   "source": [
    "Изучим общую информацию о датасете."
   ]
  },
  {
   "cell_type": "code",
   "execution_count": 3,
   "metadata": {},
   "outputs": [
    {
     "name": "stdout",
     "output_type": "stream",
     "text": [
      "<class 'pandas.core.frame.DataFrame'>\n",
      "RangeIndex: 26496 entries, 0 to 26495\n",
      "Data columns (total 2 columns):\n",
      " #   Column      Non-Null Count  Dtype \n",
      "---  ------      --------------  ----- \n",
      " 0   datetime    26496 non-null  object\n",
      " 1   num_orders  26496 non-null  int64 \n",
      "dtypes: int64(1), object(1)\n",
      "memory usage: 414.1+ KB\n"
     ]
    }
   ],
   "source": [
    "df.info()"
   ]
  },
  {
   "cell_type": "markdown",
   "metadata": {},
   "source": [
    "Мы видим, что в таблице только два столбца - дата и количество заказов. Формат данных в столбце с датой необходимо будет изменить. Количество данных совпадает в обоих столбцах, но всё равно убедимся в отсутствии пропусков, так как их может быть одинаков количество в разных строках."
   ]
  },
  {
   "cell_type": "code",
   "execution_count": 4,
   "metadata": {},
   "outputs": [
    {
     "data": {
      "text/plain": [
       "datetime      0\n",
       "num_orders    0\n",
       "dtype: int64"
      ]
     },
     "execution_count": 4,
     "metadata": {},
     "output_type": "execute_result"
    }
   ],
   "source": [
    "df.isna().sum()"
   ]
  },
  {
   "cell_type": "markdown",
   "metadata": {},
   "source": [
    "Пропуски отсутствуют. Проверим есть ли в таблице дубликаты."
   ]
  },
  {
   "cell_type": "code",
   "execution_count": 5,
   "metadata": {},
   "outputs": [
    {
     "data": {
      "text/plain": [
       "0"
      ]
     },
     "execution_count": 5,
     "metadata": {},
     "output_type": "execute_result"
    }
   ],
   "source": [
    "df.duplicated().sum()"
   ]
  },
  {
   "cell_type": "markdown",
   "metadata": {},
   "source": [
    "Отлично, дубликатов тоже нет. Выведем на эран таблицу."
   ]
  },
  {
   "cell_type": "code",
   "execution_count": 6,
   "metadata": {},
   "outputs": [
    {
     "data": {
      "text/html": [
       "<div>\n",
       "<style scoped>\n",
       "    .dataframe tbody tr th:only-of-type {\n",
       "        vertical-align: middle;\n",
       "    }\n",
       "\n",
       "    .dataframe tbody tr th {\n",
       "        vertical-align: top;\n",
       "    }\n",
       "\n",
       "    .dataframe thead th {\n",
       "        text-align: right;\n",
       "    }\n",
       "</style>\n",
       "<table border=\"1\" class=\"dataframe\">\n",
       "  <thead>\n",
       "    <tr style=\"text-align: right;\">\n",
       "      <th></th>\n",
       "      <th>datetime</th>\n",
       "      <th>num_orders</th>\n",
       "    </tr>\n",
       "  </thead>\n",
       "  <tbody>\n",
       "    <tr>\n",
       "      <th>0</th>\n",
       "      <td>2018-03-01 00:00:00</td>\n",
       "      <td>9</td>\n",
       "    </tr>\n",
       "    <tr>\n",
       "      <th>1</th>\n",
       "      <td>2018-03-01 00:10:00</td>\n",
       "      <td>14</td>\n",
       "    </tr>\n",
       "    <tr>\n",
       "      <th>2</th>\n",
       "      <td>2018-03-01 00:20:00</td>\n",
       "      <td>28</td>\n",
       "    </tr>\n",
       "    <tr>\n",
       "      <th>3</th>\n",
       "      <td>2018-03-01 00:30:00</td>\n",
       "      <td>20</td>\n",
       "    </tr>\n",
       "    <tr>\n",
       "      <th>4</th>\n",
       "      <td>2018-03-01 00:40:00</td>\n",
       "      <td>32</td>\n",
       "    </tr>\n",
       "    <tr>\n",
       "      <th>...</th>\n",
       "      <td>...</td>\n",
       "      <td>...</td>\n",
       "    </tr>\n",
       "    <tr>\n",
       "      <th>26491</th>\n",
       "      <td>2018-08-31 23:10:00</td>\n",
       "      <td>32</td>\n",
       "    </tr>\n",
       "    <tr>\n",
       "      <th>26492</th>\n",
       "      <td>2018-08-31 23:20:00</td>\n",
       "      <td>24</td>\n",
       "    </tr>\n",
       "    <tr>\n",
       "      <th>26493</th>\n",
       "      <td>2018-08-31 23:30:00</td>\n",
       "      <td>27</td>\n",
       "    </tr>\n",
       "    <tr>\n",
       "      <th>26494</th>\n",
       "      <td>2018-08-31 23:40:00</td>\n",
       "      <td>39</td>\n",
       "    </tr>\n",
       "    <tr>\n",
       "      <th>26495</th>\n",
       "      <td>2018-08-31 23:50:00</td>\n",
       "      <td>53</td>\n",
       "    </tr>\n",
       "  </tbody>\n",
       "</table>\n",
       "<p>26496 rows × 2 columns</p>\n",
       "</div>"
      ],
      "text/plain": [
       "                  datetime  num_orders\n",
       "0      2018-03-01 00:00:00           9\n",
       "1      2018-03-01 00:10:00          14\n",
       "2      2018-03-01 00:20:00          28\n",
       "3      2018-03-01 00:30:00          20\n",
       "4      2018-03-01 00:40:00          32\n",
       "...                    ...         ...\n",
       "26491  2018-08-31 23:10:00          32\n",
       "26492  2018-08-31 23:20:00          24\n",
       "26493  2018-08-31 23:30:00          27\n",
       "26494  2018-08-31 23:40:00          39\n",
       "26495  2018-08-31 23:50:00          53\n",
       "\n",
       "[26496 rows x 2 columns]"
      ]
     },
     "metadata": {},
     "output_type": "display_data"
    }
   ],
   "source": [
    "display(df)"
   ]
  },
  {
   "cell_type": "markdown",
   "metadata": {},
   "source": [
    "Мы видим, что данные есть за каждые 10 минут с марта по август. Так как нам нужно предсказывать количество заказов на следующий час, то необходимо ресемплировать (изменить интервал значений) данные по часу. Но сначала приведём дату к типу datatime. "
   ]
  },
  {
   "cell_type": "code",
   "execution_count": 7,
   "metadata": {},
   "outputs": [],
   "source": [
    "df['datetime'] = pd.to_datetime(df['datetime'])"
   ]
  },
  {
   "cell_type": "markdown",
   "metadata": {},
   "source": [
    "Установим дату в качестве индекса."
   ]
  },
  {
   "cell_type": "code",
   "execution_count": 8,
   "metadata": {},
   "outputs": [],
   "source": [
    "df.set_index('datetime', inplace = True)"
   ]
  },
  {
   "cell_type": "code",
   "execution_count": 9,
   "metadata": {},
   "outputs": [],
   "source": [
    "df.sort_index(inplace = True)"
   ]
  },
  {
   "cell_type": "markdown",
   "metadata": {},
   "source": [
    "Проверим, является ли дата и время монотонными после сортировки"
   ]
  },
  {
   "cell_type": "code",
   "execution_count": 10,
   "metadata": {},
   "outputs": [
    {
     "data": {
      "text/plain": [
       "True"
      ]
     },
     "execution_count": 10,
     "metadata": {},
     "output_type": "execute_result"
    }
   ],
   "source": [
    "df.index.is_monotonic"
   ]
  },
  {
   "cell_type": "markdown",
   "metadata": {},
   "source": [
    "Теперь можно ресемплировать данные."
   ]
  },
  {
   "cell_type": "code",
   "execution_count": 11,
   "metadata": {},
   "outputs": [],
   "source": [
    "df = df.resample('1H').sum()"
   ]
  },
  {
   "cell_type": "markdown",
   "metadata": {},
   "source": [
    "**Вывод:**\n",
    "\n",
    "Итак, в ходе подготовки данных мы загрузили датасет, изучили информацию о нём. У нас чистые данные, в которых не было пропусков и дубликатов. Мы изменили тип данных в столбце с датой и временем, установили этот столбец в качестве индекса, а также ресемплировали (изменили интервал значений) данные по часу. Перейдём к анализу данных."
   ]
  },
  {
   "cell_type": "markdown",
   "metadata": {},
   "source": [
    "## Анализ"
   ]
  },
  {
   "cell_type": "markdown",
   "metadata": {},
   "source": [
    "Построим график по имеющимся даанным."
   ]
  },
  {
   "cell_type": "code",
   "execution_count": 12,
   "metadata": {},
   "outputs": [
    {
     "data": {
      "text/plain": [
       "<AxesSubplot:xlabel='datetime'>"
      ]
     },
     "execution_count": 12,
     "metadata": {},
     "output_type": "execute_result"
    },
    {
     "data": {
      "image/png": "[encoded data removed]",
      "text/plain": [
       "<Figure size 1080x504 with 1 Axes>"
      ]
     },
     "metadata": {
      "needs_background": "light"
     },
     "output_type": "display_data"
    }
   ],
   "source": [
    "df.plot(figsize=(15,7))"
   ]
  },
  {
   "cell_type": "markdown",
   "metadata": {},
   "source": [
    "Значения сливаются и на графике совсем ничего не понятно. Создадим новую переменную, в которую сохраним копию датафрейма, чтобы вносить изменения, добавим столбец со скользящим средним и построим новый график"
   ]
  },
  {
   "cell_type": "code",
   "execution_count": 13,
   "metadata": {},
   "outputs": [],
   "source": [
    "new_df = df.copy()"
   ]
  },
  {
   "cell_type": "markdown",
   "metadata": {},
   "source": [
    "Добавим столбец со скользящим средним, в качестве размера окна установим 12 часов (половину суток.)"
   ]
  },
  {
   "cell_type": "code",
   "execution_count": 14,
   "metadata": {},
   "outputs": [],
   "source": [
    "new_df['rolling_mean'] = new_df.rolling(12).mean()"
   ]
  },
  {
   "cell_type": "markdown",
   "metadata": {},
   "source": [
    "Так как после применения скользящего среднего в таблице появились пропуски, их нужно удалить."
   ]
  },
  {
   "cell_type": "code",
   "execution_count": 15,
   "metadata": {},
   "outputs": [],
   "source": [
    "new_df = new_df.dropna()"
   ]
  },
  {
   "cell_type": "markdown",
   "metadata": {},
   "source": [
    "Теперь построим обновлённый график."
   ]
  },
  {
   "cell_type": "code",
   "execution_count": 16,
   "metadata": {},
   "outputs": [
    {
     "data": {
      "text/plain": [
       "<AxesSubplot:xlabel='datetime'>"
      ]
     },
     "execution_count": 16,
     "metadata": {},
     "output_type": "execute_result"
    },
    {
     "data": {
      "image/png": "[encoded data removed]",
      "text/plain": [
       "<Figure size 1152x504 with 1 Axes>"
      ]
     },
     "metadata": {
      "needs_background": "light"
     },
     "output_type": "display_data"
    }
   ],
   "source": [
    "new_df.plot(figsize=(16,7))"
   ]
  },
  {
   "cell_type": "markdown",
   "metadata": {},
   "source": [
    "На графике можно заметить, что скользящее среднее увеличивается, значит, временной ряд не стационарный. Также необходимо проверить тренд, возможно, увеличение количества заказов такси связано с летними месяцами."
   ]
  },
  {
   "cell_type": "code",
   "execution_count": 18,
   "metadata": {},
   "outputs": [],
   "source": [
    "decomposed = seasonal_decompose(new_df['num_orders'])"
   ]
  },
  {
   "cell_type": "code",
   "execution_count": 19,
   "metadata": {},
   "outputs": [
    {
     "data": {
      "image/png": "[encoded data removed]",
      "text/plain": [
       "<Figure size 1440x1440 with 3 Axes>"
      ]
     },
     "metadata": {
      "needs_background": "light"
     },
     "output_type": "display_data"
    }
   ],
   "source": [
    "plt.figure(figsize=(20, 20))\n",
    "plt.subplot(311)\n",
    "# Чтобы график корректно отобразился, указываем его\n",
    "# оси ax, равными plt.gca() (англ. get current axis,\n",
    "# получить текущие оси)\n",
    "decomposed.trend.plot(ax=plt.gca())\n",
    "plt.title('Trend')\n",
    "plt.subplot(312)\n",
    "decomposed.seasonal.plot(ax=plt.gca())\n",
    "plt.title('Seasonality')\n",
    "plt.subplot(313)\n",
    "decomposed.resid.plot(ax=plt.gca())\n",
    "plt.title('Residuals')\n",
    "plt.tight_layout()"
   ]
  },
  {
   "cell_type": "markdown",
   "metadata": {},
   "source": [
    "Мы можем заметить восходящий тренд.\n",
    "\n",
    "Рассмотрим сезонность подробнее в течение одного дня."
   ]
  },
  {
   "cell_type": "code",
   "execution_count": 20,
   "metadata": {},
   "outputs": [
    {
     "data": {
      "image/png": "[encoded data removed]",
      "text/plain": [
       "<Figure size 1296x288 with 1 Axes>"
      ]
     },
     "metadata": {
      "needs_background": "light"
     },
     "output_type": "display_data"
    }
   ],
   "source": [
    "plt.figure(figsize=(18, 4))\n",
    "decomposed.seasonal['2018-05-27':'2018-05-28'].plot(ax=plt.gca())\n",
    "plt.title('Seasonality during a day')\n",
    "plt.tight_layout()"
   ]
  },
  {
   "cell_type": "markdown",
   "metadata": {},
   "source": [
    "Здесь мы можем заметить, что в 6:00 часов меньше всего заказов, тогда как в 00:00 часов их больше всего, рост начинается после 18 часов. Возможнно, этот связано с работой общественного транспорта, автобус может курсировать из аэропорта в город, его первый рейс в таком случае начинается около 6 часов, а после 18 часов интервал движения увеличивается до последнего рейса."
   ]
  },
  {
   "cell_type": "markdown",
   "metadata": {},
   "source": [
    "**Вывод:**\n",
    "\n",
    "Исходя из анализа данных можно сказать, что в данных присутствует восходящий тренд. Если рассматривать сезонность на примере одного случайно выбранного дня, то в 6:00 часов самое минимальное количество заказов такси, а после 18:00 часов оно начинает расти и достигает своего пика в 00:00 часов. Перейдём к обучению моделей."
   ]
  },
  {
   "cell_type": "markdown",
   "metadata": {},
   "source": [
    "## Обучение"
   ]
  },
  {
   "cell_type": "markdown",
   "metadata": {},
   "source": [
    "Для начала создадим новые признаки: месяц, день, день недели, час, лаги(отставания), скользящее среднее."
   ]
  },
  {
   "cell_type": "code",
   "execution_count": 14,
   "metadata": {},
   "outputs": [],
   "source": [
    "def make_features(df, max_lag, rolling_mean_size):\n",
    "    df['dayofweek'] = df.index.dayofweek\n",
    "    df['hour'] = df.index.hour\n",
    "    \n",
    "    for lag in range(1, max_lag + 1):\n",
    "        df['lag_{}'.format(lag)] = df['num_orders'].shift(lag)\n",
    "\n",
    "    df['rolling_mean'] = df['num_orders'].shift().rolling(24).mean()\n",
    "    df.dropna(inplace=True)"
   ]
  },
  {
   "cell_type": "code",
   "execution_count": 15,
   "metadata": {},
   "outputs": [],
   "source": [
    "make_features(df, 10, 10)"
   ]
  },
  {
   "cell_type": "markdown",
   "metadata": {},
   "source": [
    "Теперь разделим данные на обучающую и тестовую выборки."
   ]
  },
  {
   "cell_type": "code",
   "execution_count": 16,
   "metadata": {},
   "outputs": [],
   "source": [
    "train, test = train_test_split(df, shuffle=False, test_size=0.2)\n",
    "train = train.dropna()\n",
    "test = test.dropna()"
   ]
  },
  {
   "cell_type": "markdown",
   "metadata": {},
   "source": [
    "Разделим тестовую выборку на тестовую и валидационную."
   ]
  },
  {
   "cell_type": "code",
   "execution_count": 17,
   "metadata": {},
   "outputs": [],
   "source": [
    "test, valid = train_test_split(test, shuffle=False, test_size=0.5)\n",
    "valid = valid.dropna()"
   ]
  },
  {
   "cell_type": "code",
   "execution_count": 18,
   "metadata": {},
   "outputs": [],
   "source": [
    "features_train = train.drop(['num_orders'], axis=1)\n",
    "target_train = train['num_orders']\n",
    "\n",
    "features_test = test.drop(['num_orders'], axis=1)\n",
    "target_test = test['num_orders']\n",
    "\n",
    "features_valid = valid.drop(['num_orders'], axis=1)\n",
    "target_valid = valid['num_orders']"
   ]
  },
  {
   "cell_type": "markdown",
   "metadata": {},
   "source": [
    "Перейдём к обучению моделей. Обучим с помощью линейной регрессии."
   ]
  },
  {
   "cell_type": "code",
   "execution_count": 19,
   "metadata": {},
   "outputs": [
    {
     "name": "stdout",
     "output_type": "stream",
     "text": [
      "CPU times: user 6.49 ms, sys: 826 µs, total: 7.32 ms\n",
      "Wall time: 4.61 ms\n"
     ]
    },
    {
     "data": {
      "text/plain": [
       "LinearRegression()"
      ]
     },
     "execution_count": 19,
     "metadata": {},
     "output_type": "execute_result"
    }
   ],
   "source": [
    "%%time\n",
    "model = LinearRegression()\n",
    "model.fit(features_train, target_train)"
   ]
  },
  {
   "cell_type": "markdown",
   "metadata": {},
   "source": [
    "Оценим RMSE."
   ]
  },
  {
   "cell_type": "code",
   "execution_count": 20,
   "metadata": {},
   "outputs": [
    {
     "name": "stdout",
     "output_type": "stream",
     "text": [
      "RMSE : 50.90\n",
      "CPU times: user 4.31 ms, sys: 67 µs, total: 4.38 ms\n",
      "Wall time: 3.54 ms\n"
     ]
    }
   ],
   "source": [
    "%%time\n",
    "lnr_pred = model.predict(features_valid)\n",
    "print('RMSE : {:.2f}'.format(mse(target_valid, lnr_pred)**0.5))"
   ]
  },
  {
   "cell_type": "markdown",
   "metadata": {},
   "source": [
    "Теперь обучим XGBRegressor."
   ]
  },
  {
   "cell_type": "code",
   "execution_count": 21,
   "metadata": {},
   "outputs": [],
   "source": [
    "def xgb_regr(features, target):\n",
    "    model = XGBRegressor()\n",
    "    params = {\n",
    "        'max_depth': [3, 5, 7], \n",
    "         'eta': [0.5], \n",
    "         'min_child_weight':[4],\n",
    "         'sampling_method':['gradient_based'], \n",
    "         'verbosity':[1],  \n",
    "         'seed':[12345]}\n",
    "    tscv = TimeSeriesSplit()\n",
    "    grid_cv = GridSearchCV(estimator=model, param_grid=params, cv=tscv,n_jobs=-1, scoring='neg_mean_squared_error')\n",
    "    grid_cv.fit(features, target, eval_metric='rmse', verbose = 10)\n",
    "    print('Best hyperparams: ', grid_cv.best_params_)\n",
    "    print('Best RMSE score: {:.2f}'.format((-grid_cv.best_score_) ** 0.5))\n",
    "    return grid_cv.best_params_"
   ]
  },
  {
   "cell_type": "code",
   "execution_count": 22,
   "metadata": {
    "scrolled": true
   },
   "outputs": [
    {
     "name": "stdout",
     "output_type": "stream",
     "text": [
      "Best hyperparams:  {'eta': 0.5, 'max_depth': 3, 'min_child_weight': 4, 'sampling_method': 'gradient_based', 'seed': 12345, 'verbosity': 1}\n",
      "Best RMSE score: 26.68\n",
      "CPU times: user 55.8 s, sys: 405 ms, total: 56.2 s\n",
      "Wall time: 56.7 s\n"
     ]
    }
   ],
   "source": [
    "%%time\n",
    "xgb_params = xgb_regr(features_train, target_train)"
   ]
  },
  {
   "cell_type": "code",
   "execution_count": 23,
   "metadata": {},
   "outputs": [
    {
     "name": "stdout",
     "output_type": "stream",
     "text": [
      "CPU times: user 4.57 s, sys: 32.7 ms, total: 4.6 s\n",
      "Wall time: 4.62 s\n"
     ]
    },
    {
     "data": {
      "text/plain": [
       "XGBRegressor(base_score=0.5, booster='gbtree', colsample_bylevel=1,\n",
       "             colsample_bynode=1, colsample_bytree=1, enable_categorical=False,\n",
       "             gamma=0, gpu_id=-1, importance_type=None,\n",
       "             interaction_constraints='', learning_rate=0.300000012,\n",
       "             max_delta_step=0, max_depth=6, min_child_weight=1, missing=nan,\n",
       "             monotone_constraints='()', n_estimators=100, n_jobs=8,\n",
       "             num_parallel_tree=1, predictor='auto', random_state=0, reg_alpha=0,\n",
       "             reg_lambda=1, scale_pos_weight=1, subsample=1, tree_method='exact',\n",
       "             validate_parameters=1, verbosity=None)"
      ]
     },
     "execution_count": 23,
     "metadata": {},
     "output_type": "execute_result"
    }
   ],
   "source": [
    "%%time\n",
    "model_xgb = XGBRegressor()\n",
    "model_xgb.fit(features_train, target_train, eval_metric='rmse', verbose = 10)"
   ]
  },
  {
   "cell_type": "markdown",
   "metadata": {},
   "source": [
    "Оценим RMSE."
   ]
  },
  {
   "cell_type": "code",
   "execution_count": 24,
   "metadata": {},
   "outputs": [
    {
     "name": "stdout",
     "output_type": "stream",
     "text": [
      "RMSE : 56.25\n",
      "CPU times: user 3.53 ms, sys: 7.32 ms, total: 10.8 ms\n",
      "Wall time: 54.7 ms\n"
     ]
    }
   ],
   "source": [
    "%%time\n",
    "xgb_pred = model_xgb.predict(features_valid)\n",
    "print('RMSE : {:.2f}'.format(mse(target_valid, xgb_pred)**0.5))"
   ]
  },
  {
   "cell_type": "markdown",
   "metadata": {},
   "source": [
    "Обучим модель LGBMRegressor."
   ]
  },
  {
   "cell_type": "code",
   "execution_count": 35,
   "metadata": {},
   "outputs": [],
   "source": [
    "def lgb_regr(features, target):\n",
    "    model = LGBMRegressor()\n",
    "    params = {\n",
    "        'boosting_type' : ['gbdt'],\n",
    "        'n_estimators' : [50, 100],\n",
    "        'max_depth' : [5, 7, 10],\n",
    "        'verbose' : [0],\n",
    "        'random_state' : [12345],\n",
    "        'force_col_wise': [True],\n",
    "        'num_leaves' : [127]}\n",
    "    tscv = TimeSeriesSplit() \n",
    "    grid_cv = GridSearchCV(estimator=model, param_grid=params, cv=tscv, n_jobs=-1)\n",
    "    grid_cv.fit(features, target)\n",
    "    print('Best hyperparams: ', grid_cv.best_params_)\n",
    "    print('RMSE score on train sample: {:.2f}'.format((-grid_cv.best_score_) ** 0.5))\n",
    "    return grid_cv.best_params_"
   ]
  },
  {
   "cell_type": "code",
   "execution_count": 36,
   "metadata": {},
   "outputs": [
    {
     "name": "stdout",
     "output_type": "stream",
     "text": [
      "[LightGBM] [Warning] No further splits with positive gain, best gain: -inf\n",
      "[LightGBM] [Warning] No further splits with positive gain, best gain: -inf\n",
      "[LightGBM] [Warning] No further splits with positive gain, best gain: -inf\n",
      "[LightGBM] [Warning] No further splits with positive gain, best gain: -inf\n",
      "[LightGBM] [Warning] No further splits with positive gain, best gain: -inf\n",
      "[LightGBM] [Warning] No further splits with positive gain, best gain: -inf\n",
      "[LightGBM] [Warning] No further splits with positive gain, best gain: -inf\n",
      "[LightGBM] [Warning] No further splits with positive gain, best gain: -inf\n",
      "[LightGBM] [Warning] No further splits with positive gain, best gain: -inf\n",
      "[LightGBM] [Warning] No further splits with positive gain, best gain: -inf\n",
      "[LightGBM] [Warning] No further splits with positive gain, best gain: -inf\n",
      "[LightGBM] [Warning] No further splits with positive gain, best gain: -inf\n",
      "[LightGBM] [Warning] No further splits with positive gain, best gain: -inf\n",
      "[LightGBM] [Warning] No further splits with positive gain, best gain: -inf\n",
      "[LightGBM] [Warning] No further splits with positive gain, best gain: -inf\n",
      "[LightGBM] [Warning] No further splits with positive gain, best gain: -inf\n",
      "[LightGBM] [Warning] No further splits with positive gain, best gain: -inf\n",
      "[LightGBM] [Warning] No further splits with positive gain, best gain: -inf\n",
      "[LightGBM] [Warning] No further splits with positive gain, best gain: -inf\n",
      "[LightGBM] [Warning] No further splits with positive gain, best gain: -inf\n",
      "[LightGBM] [Warning] No further splits with positive gain, best gain: -inf\n",
      "[LightGBM] [Warning] No further splits with positive gain, best gain: -inf\n",
      "[LightGBM] [Warning] No further splits with positive gain, best gain: -inf\n",
      "[LightGBM] [Warning] No further splits with positive gain, best gain: -inf\n",
      "[LightGBM] [Warning] No further splits with positive gain, best gain: -inf\n",
      "[LightGBM] [Warning] No further splits with positive gain, best gain: -inf\n",
      "[LightGBM] [Warning] No further splits with positive gain, best gain: -inf\n",
      "[LightGBM] [Warning] No further splits with positive gain, best gain: -inf\n",
      "[LightGBM] [Warning] No further splits with positive gain, best gain: -inf\n",
      "[LightGBM] [Warning] No further splits with positive gain, best gain: -inf\n",
      "[LightGBM] [Warning] No further splits with positive gain, best gain: -inf\n",
      "[LightGBM] [Warning] No further splits with positive gain, best gain: -inf\n",
      "[LightGBM] [Warning] No further splits with positive gain, best gain: -inf\n",
      "[LightGBM] [Warning] No further splits with positive gain, best gain: -inf\n",
      "[LightGBM] [Warning] No further splits with positive gain, best gain: -inf\n",
      "[LightGBM] [Warning] No further splits with positive gain, best gain: -inf\n",
      "[LightGBM] [Warning] No further splits with positive gain, best gain: -inf\n",
      "[LightGBM] [Warning] No further splits with positive gain, best gain: -inf\n",
      "[LightGBM] [Warning] No further splits with positive gain, best gain: -inf\n",
      "[LightGBM] [Warning] No further splits with positive gain, best gain: -inf\n",
      "[LightGBM] [Warning] No further splits with positive gain, best gain: -inf\n",
      "[LightGBM] [Warning] No further splits with positive gain, best gain: -inf\n",
      "[LightGBM] [Warning] No further splits with positive gain, best gain: -inf\n",
      "[LightGBM] [Warning] No further splits with positive gain, best gain: -inf\n",
      "[LightGBM] [Warning] No further splits with positive gain, best gain: -inf\n",
      "[LightGBM] [Warning] No further splits with positive gain, best gain: -inf\n",
      "[LightGBM] [Warning] No further splits with positive gain, best gain: -inf\n",
      "[LightGBM] [Warning] No further splits with positive gain, best gain: -inf\n",
      "[LightGBM] [Warning] No further splits with positive gain, best gain: -inf\n",
      "[LightGBM] [Warning] No further splits with positive gain, best gain: -inf\n",
      "[LightGBM] [Warning] No further splits with positive gain, best gain: -inf\n",
      "[LightGBM] [Warning] No further splits with positive gain, best gain: -inf\n",
      "[LightGBM] [Warning] No further splits with positive gain, best gain: -inf\n",
      "[LightGBM] [Warning] No further splits with positive gain, best gain: -inf\n",
      "[LightGBM] [Warning] No further splits with positive gain, best gain: -inf\n",
      "[LightGBM] [Warning] No further splits with positive gain, best gain: -inf\n",
      "[LightGBM] [Warning] No further splits with positive gain, best gain: -inf\n",
      "[LightGBM] [Warning] No further splits with positive gain, best gain: -inf\n",
      "[LightGBM] [Warning] No further splits with positive gain, best gain: -inf\n",
      "[LightGBM] [Warning] No further splits with positive gain, best gain: -inf\n",
      "[LightGBM] [Warning] No further splits with positive gain, best gain: -inf\n",
      "[LightGBM] [Warning] No further splits with positive gain, best gain: -inf\n",
      "[LightGBM] [Warning] No further splits with positive gain, best gain: -inf\n",
      "[LightGBM] [Warning] No further splits with positive gain, best gain: -inf\n",
      "[LightGBM] [Warning] No further splits with positive gain, best gain: -inf\n",
      "[LightGBM] [Warning] No further splits with positive gain, best gain: -inf\n",
      "[LightGBM] [Warning] No further splits with positive gain, best gain: -inf\n",
      "[LightGBM] [Warning] No further splits with positive gain, best gain: -inf\n",
      "[LightGBM] [Warning] No further splits with positive gain, best gain: -inf\n",
      "[LightGBM] [Warning] No further splits with positive gain, best gain: -inf\n",
      "[LightGBM] [Warning] No further splits with positive gain, best gain: -inf\n",
      "[LightGBM] [Warning] No further splits with positive gain, best gain: -inf\n",
      "[LightGBM] [Warning] No further splits with positive gain, best gain: -inf\n",
      "[LightGBM] [Warning] No further splits with positive gain, best gain: -inf\n",
      "[LightGBM] [Warning] No further splits with positive gain, best gain: -inf\n",
      "[LightGBM] [Warning] No further splits with positive gain, best gain: -inf\n",
      "[LightGBM] [Warning] No further splits with positive gain, best gain: -inf\n",
      "[LightGBM] [Warning] No further splits with positive gain, best gain: -inf\n",
      "[LightGBM] [Warning] No further splits with positive gain, best gain: -inf\n",
      "[LightGBM] [Warning] No further splits with positive gain, best gain: -inf\n",
      "[LightGBM] [Warning] No further splits with positive gain, best gain: -inf\n",
      "[LightGBM] [Warning] No further splits with positive gain, best gain: -inf\n",
      "[LightGBM] [Warning] No further splits with positive gain, best gain: -inf\n",
      "[LightGBM] [Warning] No further splits with positive gain, best gain: -inf\n",
      "[LightGBM] [Warning] No further splits with positive gain, best gain: -inf\n",
      "[LightGBM] [Warning] No further splits with positive gain, best gain: -inf\n",
      "[LightGBM] [Warning] No further splits with positive gain, best gain: -inf\n",
      "[LightGBM] [Warning] No further splits with positive gain, best gain: -inf\n",
      "[LightGBM] [Warning] No further splits with positive gain, best gain: -inf\n",
      "[LightGBM] [Warning] No further splits with positive gain, best gain: -inf\n",
      "[LightGBM] [Warning] No further splits with positive gain, best gain: -inf\n",
      "[LightGBM] [Warning] No further splits with positive gain, best gain: -inf\n",
      "[LightGBM] [Warning] No further splits with positive gain, best gain: -inf\n",
      "[LightGBM] [Warning] No further splits with positive gain, best gain: -inf\n",
      "[LightGBM] [Warning] No further splits with positive gain, best gain: -inf\n",
      "[LightGBM] [Warning] No further splits with positive gain, best gain: -inf\n",
      "[LightGBM] [Warning] No further splits with positive gain, best gain: -inf\n",
      "[LightGBM] [Warning] No further splits with positive gain, best gain: -inf\n",
      "[LightGBM] [Warning] No further splits with positive gain, best gain: -inf\n",
      "[LightGBM] [Warning] No further splits with positive gain, best gain: -inf\n",
      "[LightGBM] [Warning] No further splits with positive gain, best gain: -inf\n",
      "[LightGBM] [Warning] No further splits with positive gain, best gain: -inf\n",
      "[LightGBM] [Warning] No further splits with positive gain, best gain: -inf\n",
      "[LightGBM] [Warning] No further splits with positive gain, best gain: -inf\n",
      "[LightGBM] [Warning] No further splits with positive gain, best gain: -inf\n",
      "[LightGBM] [Warning] No further splits with positive gain, best gain: -inf\n",
      "[LightGBM] [Warning] No further splits with positive gain, best gain: -inf\n",
      "[LightGBM] [Warning] No further splits with positive gain, best gain: -inf\n",
      "[LightGBM] [Warning] No further splits with positive gain, best gain: -inf\n",
      "[LightGBM] [Warning] No further splits with positive gain, best gain: -inf\n",
      "[LightGBM] [Warning] No further splits with positive gain, best gain: -inf\n",
      "[LightGBM] [Warning] No further splits with positive gain, best gain: -inf\n",
      "[LightGBM] [Warning] No further splits with positive gain, best gain: -inf\n",
      "[LightGBM] [Warning] No further splits with positive gain, best gain: -inf\n",
      "[LightGBM] [Warning] No further splits with positive gain, best gain: -inf\n",
      "[LightGBM] [Warning] No further splits with positive gain, best gain: -inf\n",
      "[LightGBM] [Warning] No further splits with positive gain, best gain: -inf\n",
      "[LightGBM] [Warning] No further splits with positive gain, best gain: -inf\n",
      "[LightGBM] [Warning] No further splits with positive gain, best gain: -inf\n",
      "[LightGBM] [Warning] No further splits with positive gain, best gain: -inf\n",
      "[LightGBM] [Warning] No further splits with positive gain, best gain: -inf\n",
      "[LightGBM] [Warning] No further splits with positive gain, best gain: -inf\n",
      "[LightGBM] [Warning] No further splits with positive gain, best gain: -inf\n",
      "[LightGBM] [Warning] No further splits with positive gain, best gain: -inf\n",
      "[LightGBM] [Warning] No further splits with positive gain, best gain: -inf\n",
      "[LightGBM] [Warning] No further splits with positive gain, best gain: -inf\n",
      "[LightGBM] [Warning] No further splits with positive gain, best gain: -inf\n",
      "[LightGBM] [Warning] No further splits with positive gain, best gain: -inf\n",
      "[LightGBM] [Warning] No further splits with positive gain, best gain: -inf\n",
      "[LightGBM] [Warning] No further splits with positive gain, best gain: -inf\n",
      "[LightGBM] [Warning] No further splits with positive gain, best gain: -inf\n",
      "[LightGBM] [Warning] No further splits with positive gain, best gain: -inf\n",
      "[LightGBM] [Warning] No further splits with positive gain, best gain: -inf\n",
      "[LightGBM] [Warning] No further splits with positive gain, best gain: -inf\n",
      "[LightGBM] [Warning] No further splits with positive gain, best gain: -inf\n",
      "[LightGBM] [Warning] No further splits with positive gain, best gain: -inf\n",
      "[LightGBM] [Warning] No further splits with positive gain, best gain: -inf\n",
      "[LightGBM] [Warning] No further splits with positive gain, best gain: -inf\n",
      "[LightGBM] [Warning] No further splits with positive gain, best gain: -inf\n",
      "[LightGBM] [Warning] No further splits with positive gain, best gain: -inf\n",
      "[LightGBM] [Warning] No further splits with positive gain, best gain: -inf\n",
      "[LightGBM] [Warning] No further splits with positive gain, best gain: -inf\n",
      "[LightGBM] [Warning] No further splits with positive gain, best gain: -inf\n",
      "[LightGBM] [Warning] No further splits with positive gain, best gain: -inf\n",
      "[LightGBM] [Warning] No further splits with positive gain, best gain: -inf\n",
      "[LightGBM] [Warning] No further splits with positive gain, best gain: -inf\n",
      "[LightGBM] [Warning] No further splits with positive gain, best gain: -inf\n",
      "[LightGBM] [Warning] No further splits with positive gain, best gain: -inf\n",
      "[LightGBM] [Warning] No further splits with positive gain, best gain: -inf\n",
      "[LightGBM] [Warning] No further splits with positive gain, best gain: -inf\n",
      "[LightGBM] [Warning] No further splits with positive gain, best gain: -inf\n",
      "[LightGBM] [Warning] No further splits with positive gain, best gain: -inf\n",
      "[LightGBM] [Warning] No further splits with positive gain, best gain: -inf\n",
      "[LightGBM] [Warning] No further splits with positive gain, best gain: -inf\n",
      "[LightGBM] [Warning] No further splits with positive gain, best gain: -inf\n",
      "[LightGBM] [Warning] No further splits with positive gain, best gain: -inf\n",
      "[LightGBM] [Warning] No further splits with positive gain, best gain: -inf\n",
      "[LightGBM] [Warning] No further splits with positive gain, best gain: -inf\n",
      "[LightGBM] [Warning] No further splits with positive gain, best gain: -inf\n",
      "[LightGBM] [Warning] No further splits with positive gain, best gain: -inf\n",
      "[LightGBM] [Warning] No further splits with positive gain, best gain: -inf\n",
      "[LightGBM] [Warning] No further splits with positive gain, best gain: -inf\n",
      "[LightGBM] [Warning] No further splits with positive gain, best gain: -inf\n",
      "[LightGBM] [Warning] No further splits with positive gain, best gain: -inf\n",
      "[LightGBM] [Warning] No further splits with positive gain, best gain: -inf\n",
      "[LightGBM] [Warning] No further splits with positive gain, best gain: -inf\n",
      "[LightGBM] [Warning] No further splits with positive gain, best gain: -inf\n",
      "[LightGBM] [Warning] No further splits with positive gain, best gain: -inf\n",
      "[LightGBM] [Warning] No further splits with positive gain, best gain: -inf\n",
      "[LightGBM] [Warning] No further splits with positive gain, best gain: -inf\n",
      "[LightGBM] [Warning] No further splits with positive gain, best gain: -inf\n",
      "[LightGBM] [Warning] No further splits with positive gain, best gain: -inf\n",
      "[LightGBM] [Warning] No further splits with positive gain, best gain: -inf\n",
      "[LightGBM] [Warning] No further splits with positive gain, best gain: -inf\n",
      "[LightGBM] [Warning] No further splits with positive gain, best gain: -inf\n",
      "[LightGBM] [Warning] No further splits with positive gain, best gain: -inf\n",
      "[LightGBM] [Warning] No further splits with positive gain, best gain: -inf\n",
      "[LightGBM] [Warning] No further splits with positive gain, best gain: -inf\n",
      "[LightGBM] [Warning] No further splits with positive gain, best gain: -inf\n",
      "[LightGBM] [Warning] No further splits with positive gain, best gain: -inf\n",
      "[LightGBM] [Warning] No further splits with positive gain, best gain: -inf\n",
      "[LightGBM] [Warning] No further splits with positive gain, best gain: -inf\n",
      "[LightGBM] [Warning] No further splits with positive gain, best gain: -inf\n",
      "[LightGBM] [Warning] No further splits with positive gain, best gain: -inf\n",
      "[LightGBM] [Warning] No further splits with positive gain, best gain: -inf\n",
      "[LightGBM] [Warning] No further splits with positive gain, best gain: -inf\n",
      "[LightGBM] [Warning] No further splits with positive gain, best gain: -inf\n",
      "[LightGBM] [Warning] No further splits with positive gain, best gain: -inf\n",
      "[LightGBM] [Warning] No further splits with positive gain, best gain: -inf\n",
      "[LightGBM] [Warning] No further splits with positive gain, best gain: -inf\n",
      "[LightGBM] [Warning] No further splits with positive gain, best gain: -inf\n",
      "[LightGBM] [Warning] No further splits with positive gain, best gain: -inf\n",
      "[LightGBM] [Warning] No further splits with positive gain, best gain: -inf\n",
      "[LightGBM] [Warning] No further splits with positive gain, best gain: -inf\n",
      "[LightGBM] [Warning] No further splits with positive gain, best gain: -inf\n",
      "[LightGBM] [Warning] No further splits with positive gain, best gain: -inf\n",
      "[LightGBM] [Warning] No further splits with positive gain, best gain: -inf\n",
      "[LightGBM] [Warning] No further splits with positive gain, best gain: -inf\n",
      "[LightGBM] [Warning] No further splits with positive gain, best gain: -inf\n",
      "[LightGBM] [Warning] No further splits with positive gain, best gain: -inf\n",
      "[LightGBM] [Warning] No further splits with positive gain, best gain: -inf\n",
      "[LightGBM] [Warning] No further splits with positive gain, best gain: -inf\n",
      "[LightGBM] [Warning] No further splits with positive gain, best gain: -inf\n",
      "[LightGBM] [Warning] No further splits with positive gain, best gain: -inf\n",
      "[LightGBM] [Warning] No further splits with positive gain, best gain: -inf\n",
      "[LightGBM] [Warning] No further splits with positive gain, best gain: -inf\n",
      "[LightGBM] [Warning] No further splits with positive gain, best gain: -inf\n",
      "[LightGBM] [Warning] No further splits with positive gain, best gain: -inf\n",
      "[LightGBM] [Warning] No further splits with positive gain, best gain: -inf\n",
      "[LightGBM] [Warning] No further splits with positive gain, best gain: -inf\n",
      "[LightGBM] [Warning] No further splits with positive gain, best gain: -inf\n",
      "[LightGBM] [Warning] No further splits with positive gain, best gain: -inf\n",
      "[LightGBM] [Warning] No further splits with positive gain, best gain: -inf\n",
      "[LightGBM] [Warning] No further splits with positive gain, best gain: -inf\n",
      "[LightGBM] [Warning] No further splits with positive gain, best gain: -inf\n",
      "[LightGBM] [Warning] No further splits with positive gain, best gain: -inf\n",
      "[LightGBM] [Warning] No further splits with positive gain, best gain: -inf\n",
      "[LightGBM] [Warning] No further splits with positive gain, best gain: -inf\n",
      "[LightGBM] [Warning] No further splits with positive gain, best gain: -inf\n",
      "[LightGBM] [Warning] No further splits with positive gain, best gain: -inf\n",
      "[LightGBM] [Warning] No further splits with positive gain, best gain: -inf\n",
      "[LightGBM] [Warning] No further splits with positive gain, best gain: -inf\n",
      "[LightGBM] [Warning] No further splits with positive gain, best gain: -inf\n",
      "[LightGBM] [Warning] No further splits with positive gain, best gain: -inf\n",
      "[LightGBM] [Warning] No further splits with positive gain, best gain: -inf\n",
      "[LightGBM] [Warning] No further splits with positive gain, best gain: -inf\n",
      "[LightGBM] [Warning] No further splits with positive gain, best gain: -inf\n",
      "[LightGBM] [Warning] No further splits with positive gain, best gain: -inf\n",
      "[LightGBM] [Warning] No further splits with positive gain, best gain: -inf\n",
      "[LightGBM] [Warning] No further splits with positive gain, best gain: -inf\n",
      "[LightGBM] [Warning] No further splits with positive gain, best gain: -inf\n",
      "[LightGBM] [Warning] No further splits with positive gain, best gain: -inf\n",
      "[LightGBM] [Warning] No further splits with positive gain, best gain: -inf\n",
      "[LightGBM] [Warning] No further splits with positive gain, best gain: -inf\n",
      "[LightGBM] [Warning] No further splits with positive gain, best gain: -inf\n",
      "[LightGBM] [Warning] No further splits with positive gain, best gain: -inf\n",
      "[LightGBM] [Warning] No further splits with positive gain, best gain: -inf\n",
      "[LightGBM] [Warning] No further splits with positive gain, best gain: -inf\n",
      "[LightGBM] [Warning] No further splits with positive gain, best gain: -inf\n",
      "[LightGBM] [Warning] No further splits with positive gain, best gain: -inf\n",
      "[LightGBM] [Warning] No further splits with positive gain, best gain: -inf\n",
      "[LightGBM] [Warning] No further splits with positive gain, best gain: -inf\n",
      "[LightGBM] [Warning] No further splits with positive gain, best gain: -inf\n",
      "[LightGBM] [Warning] No further splits with positive gain, best gain: -inf\n",
      "[LightGBM] [Warning] No further splits with positive gain, best gain: -inf\n",
      "[LightGBM] [Warning] No further splits with positive gain, best gain: -inf\n",
      "[LightGBM] [Warning] No further splits with positive gain, best gain: -inf\n",
      "[LightGBM] [Warning] No further splits with positive gain, best gain: -inf\n",
      "[LightGBM] [Warning] No further splits with positive gain, best gain: -inf\n",
      "[LightGBM] [Warning] No further splits with positive gain, best gain: -inf\n",
      "[LightGBM] [Warning] No further splits with positive gain, best gain: -inf\n",
      "[LightGBM] [Warning] No further splits with positive gain, best gain: -inf\n",
      "[LightGBM] [Warning] No further splits with positive gain, best gain: -inf\n",
      "[LightGBM] [Warning] No further splits with positive gain, best gain: -inf\n",
      "[LightGBM] [Warning] No further splits with positive gain, best gain: -inf\n",
      "[LightGBM] [Warning] No further splits with positive gain, best gain: -inf\n",
      "[LightGBM] [Warning] No further splits with positive gain, best gain: -inf\n",
      "[LightGBM] [Warning] No further splits with positive gain, best gain: -inf\n",
      "[LightGBM] [Warning] No further splits with positive gain, best gain: -inf\n",
      "[LightGBM] [Warning] No further splits with positive gain, best gain: -inf\n",
      "[LightGBM] [Warning] No further splits with positive gain, best gain: -inf\n",
      "[LightGBM] [Warning] No further splits with positive gain, best gain: -inf\n",
      "[LightGBM] [Warning] No further splits with positive gain, best gain: -inf\n",
      "[LightGBM] [Warning] No further splits with positive gain, best gain: -inf\n",
      "[LightGBM] [Warning] No further splits with positive gain, best gain: -inf\n",
      "[LightGBM] [Warning] No further splits with positive gain, best gain: -inf\n",
      "[LightGBM] [Warning] No further splits with positive gain, best gain: -inf\n",
      "[LightGBM] [Warning] No further splits with positive gain, best gain: -inf\n",
      "[LightGBM] [Warning] No further splits with positive gain, best gain: -inf\n",
      "[LightGBM] [Warning] No further splits with positive gain, best gain: -inf\n",
      "[LightGBM] [Warning] No further splits with positive gain, best gain: -inf\n",
      "[LightGBM] [Warning] No further splits with positive gain, best gain: -inf\n",
      "[LightGBM] [Warning] No further splits with positive gain, best gain: -inf\n",
      "[LightGBM] [Warning] No further splits with positive gain, best gain: -inf\n",
      "[LightGBM] [Warning] No further splits with positive gain, best gain: -inf\n",
      "[LightGBM] [Warning] No further splits with positive gain, best gain: -inf\n",
      "[LightGBM] [Warning] No further splits with positive gain, best gain: -inf\n",
      "[LightGBM] [Warning] No further splits with positive gain, best gain: -inf\n",
      "[LightGBM] [Warning] No further splits with positive gain, best gain: -inf\n",
      "[LightGBM] [Warning] No further splits with positive gain, best gain: -inf\n",
      "[LightGBM] [Warning] No further splits with positive gain, best gain: -inf\n",
      "[LightGBM] [Warning] No further splits with positive gain, best gain: -inf\n",
      "[LightGBM] [Warning] No further splits with positive gain, best gain: -inf\n",
      "[LightGBM] [Warning] No further splits with positive gain, best gain: -inf\n",
      "[LightGBM] [Warning] No further splits with positive gain, best gain: -inf\n",
      "[LightGBM] [Warning] No further splits with positive gain, best gain: -inf\n",
      "[LightGBM] [Warning] No further splits with positive gain, best gain: -inf\n",
      "[LightGBM] [Warning] No further splits with positive gain, best gain: -inf\n",
      "[LightGBM] [Warning] No further splits with positive gain, best gain: -inf\n",
      "[LightGBM] [Warning] No further splits with positive gain, best gain: -inf\n",
      "[LightGBM] [Warning] No further splits with positive gain, best gain: -inf\n",
      "[LightGBM] [Warning] No further splits with positive gain, best gain: -inf\n",
      "[LightGBM] [Warning] No further splits with positive gain, best gain: -inf\n",
      "[LightGBM] [Warning] No further splits with positive gain, best gain: -inf\n",
      "[LightGBM] [Warning] No further splits with positive gain, best gain: -inf\n",
      "[LightGBM] [Warning] No further splits with positive gain, best gain: -inf\n",
      "[LightGBM] [Warning] No further splits with positive gain, best gain: -inf\n",
      "[LightGBM] [Warning] No further splits with positive gain, best gain: -inf\n",
      "[LightGBM] [Warning] No further splits with positive gain, best gain: -inf\n",
      "[LightGBM] [Warning] No further splits with positive gain, best gain: -inf\n",
      "[LightGBM] [Warning] No further splits with positive gain, best gain: -inf\n",
      "[LightGBM] [Warning] No further splits with positive gain, best gain: -inf\n",
      "[LightGBM] [Warning] No further splits with positive gain, best gain: -inf\n",
      "[LightGBM] [Warning] No further splits with positive gain, best gain: -inf\n",
      "[LightGBM] [Warning] No further splits with positive gain, best gain: -inf\n",
      "[LightGBM] [Warning] No further splits with positive gain, best gain: -inf\n",
      "[LightGBM] [Warning] No further splits with positive gain, best gain: -inf\n",
      "[LightGBM] [Warning] No further splits with positive gain, best gain: -inf\n",
      "[LightGBM] [Warning] No further splits with positive gain, best gain: -inf\n",
      "[LightGBM] [Warning] No further splits with positive gain, best gain: -inf\n",
      "[LightGBM] [Warning] No further splits with positive gain, best gain: -inf\n",
      "[LightGBM] [Warning] No further splits with positive gain, best gain: -inf\n",
      "[LightGBM] [Warning] No further splits with positive gain, best gain: -inf\n",
      "[LightGBM] [Warning] No further splits with positive gain, best gain: -inf\n",
      "[LightGBM] [Warning] No further splits with positive gain, best gain: -inf\n",
      "[LightGBM] [Warning] No further splits with positive gain, best gain: -inf\n",
      "[LightGBM] [Warning] No further splits with positive gain, best gain: -inf\n",
      "[LightGBM] [Warning] No further splits with positive gain, best gain: -inf\n",
      "[LightGBM] [Warning] No further splits with positive gain, best gain: -inf\n",
      "[LightGBM] [Warning] No further splits with positive gain, best gain: -inf\n",
      "[LightGBM] [Warning] No further splits with positive gain, best gain: -inf\n",
      "[LightGBM] [Warning] No further splits with positive gain, best gain: -inf\n",
      "[LightGBM] [Warning] No further splits with positive gain, best gain: -inf\n",
      "[LightGBM] [Warning] No further splits with positive gain, best gain: -inf\n",
      "[LightGBM] [Warning] No further splits with positive gain, best gain: -inf\n",
      "[LightGBM] [Warning] No further splits with positive gain, best gain: -inf\n",
      "[LightGBM] [Warning] No further splits with positive gain, best gain: -inf\n",
      "[LightGBM] [Warning] No further splits with positive gain, best gain: -inf\n",
      "[LightGBM] [Warning] No further splits with positive gain, best gain: -inf\n",
      "[LightGBM] [Warning] No further splits with positive gain, best gain: -inf\n",
      "[LightGBM] [Warning] No further splits with positive gain, best gain: -inf\n",
      "[LightGBM] [Warning] No further splits with positive gain, best gain: -inf\n",
      "[LightGBM] [Warning] No further splits with positive gain, best gain: -inf\n",
      "[LightGBM] [Warning] No further splits with positive gain, best gain: -inf\n",
      "[LightGBM] [Warning] No further splits with positive gain, best gain: -inf\n",
      "[LightGBM] [Warning] No further splits with positive gain, best gain: -inf\n",
      "[LightGBM] [Warning] No further splits with positive gain, best gain: -inf\n",
      "[LightGBM] [Warning] No further splits with positive gain, best gain: -inf\n",
      "[LightGBM] [Warning] No further splits with positive gain, best gain: -inf\n",
      "[LightGBM] [Warning] No further splits with positive gain, best gain: -inf\n",
      "[LightGBM] [Warning] No further splits with positive gain, best gain: -inf\n",
      "[LightGBM] [Warning] No further splits with positive gain, best gain: -inf\n",
      "[LightGBM] [Warning] No further splits with positive gain, best gain: -inf\n",
      "[LightGBM] [Warning] No further splits with positive gain, best gain: -inf\n",
      "[LightGBM] [Warning] No further splits with positive gain, best gain: -inf\n",
      "[LightGBM] [Warning] No further splits with positive gain, best gain: -inf\n",
      "[LightGBM] [Warning] No further splits with positive gain, best gain: -inf\n",
      "[LightGBM] [Warning] No further splits with positive gain, best gain: -inf\n",
      "[LightGBM] [Warning] No further splits with positive gain, best gain: -inf\n",
      "[LightGBM] [Warning] No further splits with positive gain, best gain: -inf\n",
      "[LightGBM] [Warning] No further splits with positive gain, best gain: -inf\n",
      "[LightGBM] [Warning] No further splits with positive gain, best gain: -inf\n",
      "[LightGBM] [Warning] No further splits with positive gain, best gain: -inf\n",
      "[LightGBM] [Warning] No further splits with positive gain, best gain: -inf\n",
      "[LightGBM] [Warning] No further splits with positive gain, best gain: -inf\n",
      "[LightGBM] [Warning] No further splits with positive gain, best gain: -inf\n",
      "[LightGBM] [Warning] No further splits with positive gain, best gain: -inf\n",
      "[LightGBM] [Warning] No further splits with positive gain, best gain: -inf\n",
      "[LightGBM] [Warning] No further splits with positive gain, best gain: -inf\n",
      "[LightGBM] [Warning] No further splits with positive gain, best gain: -inf\n",
      "[LightGBM] [Warning] No further splits with positive gain, best gain: -inf\n",
      "[LightGBM] [Warning] No further splits with positive gain, best gain: -inf\n",
      "[LightGBM] [Warning] No further splits with positive gain, best gain: -inf\n",
      "[LightGBM] [Warning] No further splits with positive gain, best gain: -inf\n",
      "[LightGBM] [Warning] No further splits with positive gain, best gain: -inf\n",
      "[LightGBM] [Warning] No further splits with positive gain, best gain: -inf\n",
      "[LightGBM] [Warning] No further splits with positive gain, best gain: -inf\n",
      "[LightGBM] [Warning] No further splits with positive gain, best gain: -inf\n",
      "[LightGBM] [Warning] No further splits with positive gain, best gain: -inf\n",
      "[LightGBM] [Warning] No further splits with positive gain, best gain: -inf\n",
      "[LightGBM] [Warning] No further splits with positive gain, best gain: -inf\n",
      "[LightGBM] [Warning] No further splits with positive gain, best gain: -inf\n",
      "[LightGBM] [Warning] No further splits with positive gain, best gain: -inf\n",
      "[LightGBM] [Warning] No further splits with positive gain, best gain: -inf\n",
      "[LightGBM] [Warning] No further splits with positive gain, best gain: -inf\n",
      "[LightGBM] [Warning] No further splits with positive gain, best gain: -inf\n",
      "[LightGBM] [Warning] No further splits with positive gain, best gain: -inf\n",
      "[LightGBM] [Warning] No further splits with positive gain, best gain: -inf\n",
      "[LightGBM] [Warning] No further splits with positive gain, best gain: -inf\n",
      "[LightGBM] [Warning] No further splits with positive gain, best gain: -inf\n",
      "[LightGBM] [Warning] No further splits with positive gain, best gain: -inf\n",
      "[LightGBM] [Warning] No further splits with positive gain, best gain: -inf\n",
      "[LightGBM] [Warning] No further splits with positive gain, best gain: -inf\n",
      "[LightGBM] [Warning] No further splits with positive gain, best gain: -inf\n",
      "[LightGBM] [Warning] No further splits with positive gain, best gain: -inf\n",
      "[LightGBM] [Warning] No further splits with positive gain, best gain: -inf\n",
      "[LightGBM] [Warning] No further splits with positive gain, best gain: -inf\n",
      "[LightGBM] [Warning] No further splits with positive gain, best gain: -inf\n",
      "[LightGBM] [Warning] No further splits with positive gain, best gain: -inf\n",
      "[LightGBM] [Warning] No further splits with positive gain, best gain: -inf\n",
      "[LightGBM] [Warning] No further splits with positive gain, best gain: -inf\n",
      "[LightGBM] [Warning] No further splits with positive gain, best gain: -inf\n",
      "[LightGBM] [Warning] No further splits with positive gain, best gain: -inf\n",
      "[LightGBM] [Warning] No further splits with positive gain, best gain: -inf\n",
      "[LightGBM] [Warning] No further splits with positive gain, best gain: -inf\n",
      "[LightGBM] [Warning] No further splits with positive gain, best gain: -inf\n",
      "[LightGBM] [Warning] No further splits with positive gain, best gain: -inf\n",
      "[LightGBM] [Warning] No further splits with positive gain, best gain: -inf\n",
      "[LightGBM] [Warning] No further splits with positive gain, best gain: -inf\n",
      "[LightGBM] [Warning] No further splits with positive gain, best gain: -inf\n",
      "[LightGBM] [Warning] No further splits with positive gain, best gain: -inf\n",
      "[LightGBM] [Warning] No further splits with positive gain, best gain: -inf\n",
      "[LightGBM] [Warning] No further splits with positive gain, best gain: -inf\n",
      "[LightGBM] [Warning] No further splits with positive gain, best gain: -inf\n",
      "[LightGBM] [Warning] No further splits with positive gain, best gain: -inf\n",
      "[LightGBM] [Warning] No further splits with positive gain, best gain: -inf\n",
      "[LightGBM] [Warning] No further splits with positive gain, best gain: -inf\n",
      "[LightGBM] [Warning] No further splits with positive gain, best gain: -inf\n",
      "[LightGBM] [Warning] No further splits with positive gain, best gain: -inf\n",
      "[LightGBM] [Warning] No further splits with positive gain, best gain: -inf\n",
      "[LightGBM] [Warning] No further splits with positive gain, best gain: -inf\n",
      "[LightGBM] [Warning] No further splits with positive gain, best gain: -inf\n",
      "[LightGBM] [Warning] No further splits with positive gain, best gain: -inf\n",
      "[LightGBM] [Warning] No further splits with positive gain, best gain: -inf\n",
      "[LightGBM] [Warning] No further splits with positive gain, best gain: -inf\n",
      "[LightGBM] [Warning] No further splits with positive gain, best gain: -inf\n",
      "[LightGBM] [Warning] No further splits with positive gain, best gain: -inf\n",
      "[LightGBM] [Warning] No further splits with positive gain, best gain: -inf\n",
      "[LightGBM] [Warning] No further splits with positive gain, best gain: -inf\n",
      "[LightGBM] [Warning] No further splits with positive gain, best gain: -inf\n",
      "[LightGBM] [Warning] No further splits with positive gain, best gain: -inf\n",
      "[LightGBM] [Warning] No further splits with positive gain, best gain: -inf\n",
      "[LightGBM] [Warning] No further splits with positive gain, best gain: -inf\n",
      "[LightGBM] [Warning] No further splits with positive gain, best gain: -inf\n",
      "[LightGBM] [Warning] No further splits with positive gain, best gain: -inf\n",
      "[LightGBM] [Warning] No further splits with positive gain, best gain: -inf\n",
      "[LightGBM] [Warning] No further splits with positive gain, best gain: -inf\n",
      "[LightGBM] [Warning] No further splits with positive gain, best gain: -inf\n",
      "[LightGBM] [Warning] No further splits with positive gain, best gain: -inf\n",
      "[LightGBM] [Warning] No further splits with positive gain, best gain: -inf\n",
      "[LightGBM] [Warning] No further splits with positive gain, best gain: -inf\n",
      "[LightGBM] [Warning] No further splits with positive gain, best gain: -inf\n",
      "[LightGBM] [Warning] No further splits with positive gain, best gain: -inf\n",
      "[LightGBM] [Warning] No further splits with positive gain, best gain: -inf\n",
      "[LightGBM] [Warning] No further splits with positive gain, best gain: -inf\n",
      "[LightGBM] [Warning] No further splits with positive gain, best gain: -inf\n",
      "[LightGBM] [Warning] No further splits with positive gain, best gain: -inf\n",
      "[LightGBM] [Warning] No further splits with positive gain, best gain: -inf\n",
      "[LightGBM] [Warning] No further splits with positive gain, best gain: -inf\n",
      "[LightGBM] [Warning] No further splits with positive gain, best gain: -inf\n",
      "[LightGBM] [Warning] No further splits with positive gain, best gain: -inf\n",
      "[LightGBM] [Warning] No further splits with positive gain, best gain: -inf\n",
      "[LightGBM] [Warning] No further splits with positive gain, best gain: -inf\n",
      "[LightGBM] [Warning] No further splits with positive gain, best gain: -inf\n",
      "[LightGBM] [Warning] No further splits with positive gain, best gain: -inf\n",
      "[LightGBM] [Warning] No further splits with positive gain, best gain: -inf\n",
      "[LightGBM] [Warning] No further splits with positive gain, best gain: -inf\n",
      "[LightGBM] [Warning] No further splits with positive gain, best gain: -inf\n",
      "[LightGBM] [Warning] No further splits with positive gain, best gain: -inf\n",
      "[LightGBM] [Warning] No further splits with positive gain, best gain: -inf\n",
      "[LightGBM] [Warning] No further splits with positive gain, best gain: -inf\n",
      "[LightGBM] [Warning] No further splits with positive gain, best gain: -inf\n",
      "[LightGBM] [Warning] No further splits with positive gain, best gain: -inf\n",
      "[LightGBM] [Warning] No further splits with positive gain, best gain: -inf\n",
      "[LightGBM] [Warning] No further splits with positive gain, best gain: -inf\n",
      "[LightGBM] [Warning] No further splits with positive gain, best gain: -inf\n",
      "[LightGBM] [Warning] No further splits with positive gain, best gain: -inf\n",
      "[LightGBM] [Warning] No further splits with positive gain, best gain: -inf\n",
      "[LightGBM] [Warning] No further splits with positive gain, best gain: -inf\n",
      "[LightGBM] [Warning] No further splits with positive gain, best gain: -inf\n",
      "[LightGBM] [Warning] No further splits with positive gain, best gain: -inf\n",
      "[LightGBM] [Warning] No further splits with positive gain, best gain: -inf\n",
      "[LightGBM] [Warning] No further splits with positive gain, best gain: -inf\n",
      "[LightGBM] [Warning] No further splits with positive gain, best gain: -inf\n",
      "[LightGBM] [Warning] No further splits with positive gain, best gain: -inf\n",
      "[LightGBM] [Warning] No further splits with positive gain, best gain: -inf\n",
      "[LightGBM] [Warning] No further splits with positive gain, best gain: -inf\n",
      "[LightGBM] [Warning] No further splits with positive gain, best gain: -inf\n",
      "[LightGBM] [Warning] No further splits with positive gain, best gain: -inf\n",
      "[LightGBM] [Warning] No further splits with positive gain, best gain: -inf\n",
      "[LightGBM] [Warning] No further splits with positive gain, best gain: -inf\n",
      "[LightGBM] [Warning] No further splits with positive gain, best gain: -inf\n",
      "[LightGBM] [Warning] No further splits with positive gain, best gain: -inf\n",
      "[LightGBM] [Warning] No further splits with positive gain, best gain: -inf\n",
      "[LightGBM] [Warning] No further splits with positive gain, best gain: -inf\n",
      "[LightGBM] [Warning] No further splits with positive gain, best gain: -inf\n",
      "[LightGBM] [Warning] No further splits with positive gain, best gain: -inf\n",
      "[LightGBM] [Warning] No further splits with positive gain, best gain: -inf\n",
      "[LightGBM] [Warning] No further splits with positive gain, best gain: -inf\n",
      "[LightGBM] [Warning] No further splits with positive gain, best gain: -inf\n",
      "[LightGBM] [Warning] No further splits with positive gain, best gain: -inf\n",
      "[LightGBM] [Warning] No further splits with positive gain, best gain: -inf\n",
      "[LightGBM] [Warning] No further splits with positive gain, best gain: -inf\n",
      "[LightGBM] [Warning] No further splits with positive gain, best gain: -inf\n",
      "[LightGBM] [Warning] No further splits with positive gain, best gain: -inf\n",
      "[LightGBM] [Warning] No further splits with positive gain, best gain: -inf\n",
      "[LightGBM] [Warning] No further splits with positive gain, best gain: -inf\n",
      "[LightGBM] [Warning] No further splits with positive gain, best gain: -inf\n",
      "[LightGBM] [Warning] No further splits with positive gain, best gain: -inf\n",
      "[LightGBM] [Warning] No further splits with positive gain, best gain: -inf\n",
      "[LightGBM] [Warning] No further splits with positive gain, best gain: -inf\n",
      "[LightGBM] [Warning] No further splits with positive gain, best gain: -inf\n",
      "[LightGBM] [Warning] No further splits with positive gain, best gain: -inf\n",
      "[LightGBM] [Warning] No further splits with positive gain, best gain: -inf\n",
      "[LightGBM] [Warning] No further splits with positive gain, best gain: -inf\n",
      "[LightGBM] [Warning] No further splits with positive gain, best gain: -inf\n",
      "[LightGBM] [Warning] No further splits with positive gain, best gain: -inf\n",
      "[LightGBM] [Warning] No further splits with positive gain, best gain: -inf\n",
      "[LightGBM] [Warning] No further splits with positive gain, best gain: -inf\n",
      "[LightGBM] [Warning] No further splits with positive gain, best gain: -inf\n",
      "[LightGBM] [Warning] No further splits with positive gain, best gain: -inf\n",
      "[LightGBM] [Warning] No further splits with positive gain, best gain: -inf\n",
      "[LightGBM] [Warning] No further splits with positive gain, best gain: -inf\n",
      "[LightGBM] [Warning] No further splits with positive gain, best gain: -inf\n",
      "[LightGBM] [Warning] No further splits with positive gain, best gain: -inf\n",
      "[LightGBM] [Warning] No further splits with positive gain, best gain: -inf\n",
      "[LightGBM] [Warning] No further splits with positive gain, best gain: -inf\n",
      "[LightGBM] [Warning] No further splits with positive gain, best gain: -inf\n",
      "[LightGBM] [Warning] No further splits with positive gain, best gain: -inf\n",
      "[LightGBM] [Warning] No further splits with positive gain, best gain: -inf\n",
      "[LightGBM] [Warning] No further splits with positive gain, best gain: -inf\n",
      "[LightGBM] [Warning] No further splits with positive gain, best gain: -inf\n",
      "[LightGBM] [Warning] No further splits with positive gain, best gain: -inf\n",
      "[LightGBM] [Warning] No further splits with positive gain, best gain: -inf\n",
      "[LightGBM] [Warning] No further splits with positive gain, best gain: -inf\n",
      "[LightGBM] [Warning] No further splits with positive gain, best gain: -inf\n",
      "[LightGBM] [Warning] No further splits with positive gain, best gain: -inf\n",
      "[LightGBM] [Warning] No further splits with positive gain, best gain: -inf\n",
      "[LightGBM] [Warning] No further splits with positive gain, best gain: -inf\n",
      "[LightGBM] [Warning] No further splits with positive gain, best gain: -inf\n",
      "[LightGBM] [Warning] No further splits with positive gain, best gain: -inf\n",
      "[LightGBM] [Warning] No further splits with positive gain, best gain: -inf\n",
      "[LightGBM] [Warning] No further splits with positive gain, best gain: -inf\n",
      "[LightGBM] [Warning] No further splits with positive gain, best gain: -inf\n",
      "[LightGBM] [Warning] No further splits with positive gain, best gain: -inf\n",
      "[LightGBM] [Warning] No further splits with positive gain, best gain: -inf\n",
      "[LightGBM] [Warning] No further splits with positive gain, best gain: -inf\n",
      "[LightGBM] [Warning] No further splits with positive gain, best gain: -inf\n",
      "[LightGBM] [Warning] No further splits with positive gain, best gain: -inf\n",
      "[LightGBM] [Warning] No further splits with positive gain, best gain: -inf\n",
      "[LightGBM] [Warning] No further splits with positive gain, best gain: -inf\n",
      "[LightGBM] [Warning] No further splits with positive gain, best gain: -inf\n",
      "[LightGBM] [Warning] No further splits with positive gain, best gain: -inf\n",
      "[LightGBM] [Warning] No further splits with positive gain, best gain: -inf\n",
      "[LightGBM] [Warning] No further splits with positive gain, best gain: -inf\n",
      "[LightGBM] [Warning] No further splits with positive gain, best gain: -inf\n",
      "[LightGBM] [Warning] No further splits with positive gain, best gain: -inf\n",
      "[LightGBM] [Warning] No further splits with positive gain, best gain: -inf\n",
      "[LightGBM] [Warning] No further splits with positive gain, best gain: -inf\n",
      "[LightGBM] [Warning] No further splits with positive gain, best gain: -inf\n",
      "[LightGBM] [Warning] No further splits with positive gain, best gain: -inf\n",
      "[LightGBM] [Warning] No further splits with positive gain, best gain: -inf\n",
      "[LightGBM] [Warning] No further splits with positive gain, best gain: -inf\n",
      "[LightGBM] [Warning] No further splits with positive gain, best gain: -inf\n",
      "[LightGBM] [Warning] No further splits with positive gain, best gain: -inf\n",
      "[LightGBM] [Warning] No further splits with positive gain, best gain: -inf\n",
      "[LightGBM] [Warning] No further splits with positive gain, best gain: -inf\n",
      "[LightGBM] [Warning] No further splits with positive gain, best gain: -inf\n",
      "[LightGBM] [Warning] No further splits with positive gain, best gain: -inf\n",
      "[LightGBM] [Warning] No further splits with positive gain, best gain: -inf\n",
      "[LightGBM] [Warning] No further splits with positive gain, best gain: -inf\n",
      "[LightGBM] [Warning] No further splits with positive gain, best gain: -inf\n",
      "[LightGBM] [Warning] No further splits with positive gain, best gain: -inf\n",
      "[LightGBM] [Warning] No further splits with positive gain, best gain: -inf\n",
      "[LightGBM] [Warning] No further splits with positive gain, best gain: -inf\n",
      "[LightGBM] [Warning] No further splits with positive gain, best gain: -inf\n",
      "[LightGBM] [Warning] No further splits with positive gain, best gain: -inf\n",
      "[LightGBM] [Warning] No further splits with positive gain, best gain: -inf\n",
      "[LightGBM] [Warning] No further splits with positive gain, best gain: -inf\n",
      "[LightGBM] [Warning] No further splits with positive gain, best gain: -inf\n",
      "[LightGBM] [Warning] No further splits with positive gain, best gain: -inf\n",
      "[LightGBM] [Warning] No further splits with positive gain, best gain: -inf\n",
      "[LightGBM] [Warning] No further splits with positive gain, best gain: -inf\n",
      "[LightGBM] [Warning] No further splits with positive gain, best gain: -inf\n",
      "[LightGBM] [Warning] No further splits with positive gain, best gain: -inf\n",
      "[LightGBM] [Warning] No further splits with positive gain, best gain: -inf\n",
      "[LightGBM] [Warning] No further splits with positive gain, best gain: -inf\n",
      "[LightGBM] [Warning] No further splits with positive gain, best gain: -inf\n",
      "[LightGBM] [Warning] No further splits with positive gain, best gain: -inf\n",
      "[LightGBM] [Warning] No further splits with positive gain, best gain: -inf\n",
      "[LightGBM] [Warning] No further splits with positive gain, best gain: -inf\n",
      "[LightGBM] [Warning] No further splits with positive gain, best gain: -inf\n",
      "[LightGBM] [Warning] No further splits with positive gain, best gain: -inf\n",
      "[LightGBM] [Warning] No further splits with positive gain, best gain: -inf\n",
      "[LightGBM] [Warning] No further splits with positive gain, best gain: -inf\n",
      "[LightGBM] [Warning] No further splits with positive gain, best gain: -inf\n",
      "[LightGBM] [Warning] No further splits with positive gain, best gain: -inf\n",
      "[LightGBM] [Warning] No further splits with positive gain, best gain: -inf\n",
      "[LightGBM] [Warning] No further splits with positive gain, best gain: -inf\n",
      "[LightGBM] [Warning] No further splits with positive gain, best gain: -inf\n",
      "[LightGBM] [Warning] No further splits with positive gain, best gain: -inf\n",
      "[LightGBM] [Warning] No further splits with positive gain, best gain: -inf\n",
      "[LightGBM] [Warning] No further splits with positive gain, best gain: -inf\n",
      "[LightGBM] [Warning] No further splits with positive gain, best gain: -inf\n",
      "[LightGBM] [Warning] No further splits with positive gain, best gain: -inf\n",
      "[LightGBM] [Warning] No further splits with positive gain, best gain: -inf\n",
      "[LightGBM] [Warning] No further splits with positive gain, best gain: -inf\n",
      "[LightGBM] [Warning] No further splits with positive gain, best gain: -inf\n",
      "[LightGBM] [Warning] No further splits with positive gain, best gain: -inf\n",
      "[LightGBM] [Warning] No further splits with positive gain, best gain: -inf\n",
      "[LightGBM] [Warning] No further splits with positive gain, best gain: -inf\n",
      "[LightGBM] [Warning] No further splits with positive gain, best gain: -inf\n",
      "[LightGBM] [Warning] No further splits with positive gain, best gain: -inf\n",
      "[LightGBM] [Warning] No further splits with positive gain, best gain: -inf\n",
      "[LightGBM] [Warning] No further splits with positive gain, best gain: -inf\n",
      "[LightGBM] [Warning] No further splits with positive gain, best gain: -inf\n",
      "[LightGBM] [Warning] No further splits with positive gain, best gain: -inf\n",
      "[LightGBM] [Warning] No further splits with positive gain, best gain: -inf\n",
      "[LightGBM] [Warning] No further splits with positive gain, best gain: -inf\n",
      "[LightGBM] [Warning] No further splits with positive gain, best gain: -inf\n",
      "[LightGBM] [Warning] No further splits with positive gain, best gain: -inf\n",
      "[LightGBM] [Warning] No further splits with positive gain, best gain: -inf\n",
      "[LightGBM] [Warning] No further splits with positive gain, best gain: -inf\n",
      "[LightGBM] [Warning] No further splits with positive gain, best gain: -inf\n",
      "[LightGBM] [Warning] No further splits with positive gain, best gain: -inf\n",
      "[LightGBM] [Warning] No further splits with positive gain, best gain: -inf\n",
      "[LightGBM] [Warning] No further splits with positive gain, best gain: -inf\n",
      "[LightGBM] [Warning] No further splits with positive gain, best gain: -inf\n",
      "[LightGBM] [Warning] No further splits with positive gain, best gain: -inf\n",
      "[LightGBM] [Warning] No further splits with positive gain, best gain: -inf\n",
      "[LightGBM] [Warning] No further splits with positive gain, best gain: -inf\n",
      "[LightGBM] [Warning] No further splits with positive gain, best gain: -inf\n",
      "[LightGBM] [Warning] No further splits with positive gain, best gain: -inf\n",
      "[LightGBM] [Warning] No further splits with positive gain, best gain: -inf\n",
      "[LightGBM] [Warning] No further splits with positive gain, best gain: -inf\n",
      "[LightGBM] [Warning] No further splits with positive gain, best gain: -inf\n",
      "[LightGBM] [Warning] No further splits with positive gain, best gain: -inf\n",
      "[LightGBM] [Warning] No further splits with positive gain, best gain: -inf\n",
      "[LightGBM] [Warning] No further splits with positive gain, best gain: -inf\n",
      "[LightGBM] [Warning] No further splits with positive gain, best gain: -inf\n",
      "[LightGBM] [Warning] No further splits with positive gain, best gain: -inf\n",
      "[LightGBM] [Warning] No further splits with positive gain, best gain: -inf\n",
      "[LightGBM] [Warning] No further splits with positive gain, best gain: -inf\n",
      "[LightGBM] [Warning] No further splits with positive gain, best gain: -inf\n",
      "[LightGBM] [Warning] No further splits with positive gain, best gain: -inf\n",
      "[LightGBM] [Warning] No further splits with positive gain, best gain: -inf\n",
      "[LightGBM] [Warning] No further splits with positive gain, best gain: -inf\n",
      "[LightGBM] [Warning] No further splits with positive gain, best gain: -inf\n",
      "[LightGBM] [Warning] No further splits with positive gain, best gain: -inf\n",
      "[LightGBM] [Warning] No further splits with positive gain, best gain: -inf\n",
      "[LightGBM] [Warning] No further splits with positive gain, best gain: -inf\n",
      "[LightGBM] [Warning] No further splits with positive gain, best gain: -inf\n",
      "[LightGBM] [Warning] No further splits with positive gain, best gain: -inf\n",
      "[LightGBM] [Warning] No further splits with positive gain, best gain: -inf\n",
      "[LightGBM] [Warning] No further splits with positive gain, best gain: -inf\n",
      "[LightGBM] [Warning] No further splits with positive gain, best gain: -inf\n",
      "[LightGBM] [Warning] No further splits with positive gain, best gain: -inf\n",
      "[LightGBM] [Warning] No further splits with positive gain, best gain: -inf\n",
      "[LightGBM] [Warning] No further splits with positive gain, best gain: -inf\n",
      "[LightGBM] [Warning] No further splits with positive gain, best gain: -inf\n",
      "[LightGBM] [Warning] No further splits with positive gain, best gain: -inf\n",
      "[LightGBM] [Warning] No further splits with positive gain, best gain: -inf\n",
      "[LightGBM] [Warning] No further splits with positive gain, best gain: -inf\n",
      "[LightGBM] [Warning] No further splits with positive gain, best gain: -inf\n",
      "[LightGBM] [Warning] No further splits with positive gain, best gain: -inf\n",
      "[LightGBM] [Warning] No further splits with positive gain, best gain: -inf\n",
      "[LightGBM] [Warning] No further splits with positive gain, best gain: -inf\n",
      "[LightGBM] [Warning] No further splits with positive gain, best gain: -inf\n",
      "[LightGBM] [Warning] No further splits with positive gain, best gain: -inf\n",
      "[LightGBM] [Warning] No further splits with positive gain, best gain: -inf\n",
      "[LightGBM] [Warning] No further splits with positive gain, best gain: -inf\n",
      "[LightGBM] [Warning] No further splits with positive gain, best gain: -inf\n",
      "[LightGBM] [Warning] No further splits with positive gain, best gain: -inf\n",
      "[LightGBM] [Warning] No further splits with positive gain, best gain: -inf\n",
      "[LightGBM] [Warning] No further splits with positive gain, best gain: -inf\n",
      "[LightGBM] [Warning] No further splits with positive gain, best gain: -inf\n",
      "[LightGBM] [Warning] No further splits with positive gain, best gain: -inf\n",
      "[LightGBM] [Warning] No further splits with positive gain, best gain: -inf\n",
      "[LightGBM] [Warning] No further splits with positive gain, best gain: -inf\n",
      "[LightGBM] [Warning] No further splits with positive gain, best gain: -inf\n",
      "[LightGBM] [Warning] No further splits with positive gain, best gain: -inf\n",
      "[LightGBM] [Warning] No further splits with positive gain, best gain: -inf\n",
      "[LightGBM] [Warning] No further splits with positive gain, best gain: -inf\n",
      "[LightGBM] [Warning] No further splits with positive gain, best gain: -inf\n",
      "[LightGBM] [Warning] No further splits with positive gain, best gain: -inf\n",
      "[LightGBM] [Warning] No further splits with positive gain, best gain: -inf\n",
      "[LightGBM] [Warning] No further splits with positive gain, best gain: -inf\n",
      "[LightGBM] [Warning] No further splits with positive gain, best gain: -inf\n",
      "[LightGBM] [Warning] No further splits with positive gain, best gain: -inf\n",
      "[LightGBM] [Warning] No further splits with positive gain, best gain: -inf\n",
      "[LightGBM] [Warning] No further splits with positive gain, best gain: -inf\n",
      "[LightGBM] [Warning] No further splits with positive gain, best gain: -inf\n",
      "[LightGBM] [Warning] No further splits with positive gain, best gain: -inf\n",
      "[LightGBM] [Warning] No further splits with positive gain, best gain: -inf\n",
      "[LightGBM] [Warning] No further splits with positive gain, best gain: -inf\n",
      "[LightGBM] [Warning] No further splits with positive gain, best gain: -inf\n",
      "[LightGBM] [Warning] No further splits with positive gain, best gain: -inf\n",
      "[LightGBM] [Warning] No further splits with positive gain, best gain: -inf\n",
      "[LightGBM] [Warning] No further splits with positive gain, best gain: -inf\n",
      "[LightGBM] [Warning] No further splits with positive gain, best gain: -inf\n",
      "[LightGBM] [Warning] No further splits with positive gain, best gain: -inf\n",
      "[LightGBM] [Warning] No further splits with positive gain, best gain: -inf\n",
      "[LightGBM] [Warning] No further splits with positive gain, best gain: -inf\n",
      "[LightGBM] [Warning] No further splits with positive gain, best gain: -inf\n",
      "[LightGBM] [Warning] No further splits with positive gain, best gain: -inf\n",
      "[LightGBM] [Warning] No further splits with positive gain, best gain: -inf\n",
      "[LightGBM] [Warning] No further splits with positive gain, best gain: -inf\n",
      "[LightGBM] [Warning] No further splits with positive gain, best gain: -inf\n",
      "[LightGBM] [Warning] No further splits with positive gain, best gain: -inf\n",
      "[LightGBM] [Warning] No further splits with positive gain, best gain: -inf\n",
      "[LightGBM] [Warning] No further splits with positive gain, best gain: -inf\n",
      "[LightGBM] [Warning] No further splits with positive gain, best gain: -inf\n",
      "[LightGBM] [Warning] No further splits with positive gain, best gain: -inf\n",
      "[LightGBM] [Warning] No further splits with positive gain, best gain: -inf\n",
      "[LightGBM] [Warning] No further splits with positive gain, best gain: -inf\n",
      "[LightGBM] [Warning] No further splits with positive gain, best gain: -inf\n",
      "[LightGBM] [Warning] No further splits with positive gain, best gain: -inf\n",
      "[LightGBM] [Warning] No further splits with positive gain, best gain: -inf\n",
      "[LightGBM] [Warning] No further splits with positive gain, best gain: -inf\n",
      "[LightGBM] [Warning] No further splits with positive gain, best gain: -inf\n",
      "[LightGBM] [Warning] No further splits with positive gain, best gain: -inf\n",
      "[LightGBM] [Warning] No further splits with positive gain, best gain: -inf\n",
      "[LightGBM] [Warning] No further splits with positive gain, best gain: -inf\n",
      "[LightGBM] [Warning] No further splits with positive gain, best gain: -inf\n",
      "[LightGBM] [Warning] No further splits with positive gain, best gain: -inf\n",
      "[LightGBM] [Warning] No further splits with positive gain, best gain: -inf\n",
      "[LightGBM] [Warning] No further splits with positive gain, best gain: -inf\n",
      "[LightGBM] [Warning] No further splits with positive gain, best gain: -inf\n",
      "[LightGBM] [Warning] No further splits with positive gain, best gain: -inf\n",
      "[LightGBM] [Warning] No further splits with positive gain, best gain: -inf\n",
      "[LightGBM] [Warning] No further splits with positive gain, best gain: -inf\n",
      "[LightGBM] [Warning] No further splits with positive gain, best gain: -inf\n",
      "[LightGBM] [Warning] No further splits with positive gain, best gain: -inf\n",
      "[LightGBM] [Warning] No further splits with positive gain, best gain: -inf\n",
      "[LightGBM] [Warning] No further splits with positive gain, best gain: -inf\n",
      "[LightGBM] [Warning] No further splits with positive gain, best gain: -inf\n",
      "[LightGBM] [Warning] No further splits with positive gain, best gain: -inf\n",
      "[LightGBM] [Warning] No further splits with positive gain, best gain: -inf\n",
      "[LightGBM] [Warning] No further splits with positive gain, best gain: -inf\n",
      "[LightGBM] [Warning] No further splits with positive gain, best gain: -inf\n",
      "[LightGBM] [Warning] No further splits with positive gain, best gain: -inf\n",
      "[LightGBM] [Warning] No further splits with positive gain, best gain: -inf\n",
      "[LightGBM] [Warning] No further splits with positive gain, best gain: -inf\n",
      "[LightGBM] [Warning] No further splits with positive gain, best gain: -inf\n",
      "[LightGBM] [Warning] No further splits with positive gain, best gain: -inf\n",
      "[LightGBM] [Warning] No further splits with positive gain, best gain: -inf\n",
      "[LightGBM] [Warning] No further splits with positive gain, best gain: -inf\n",
      "[LightGBM] [Warning] No further splits with positive gain, best gain: -inf\n",
      "[LightGBM] [Warning] No further splits with positive gain, best gain: -inf\n",
      "[LightGBM] [Warning] No further splits with positive gain, best gain: -inf\n",
      "[LightGBM] [Warning] No further splits with positive gain, best gain: -inf\n",
      "[LightGBM] [Warning] No further splits with positive gain, best gain: -inf\n",
      "[LightGBM] [Warning] No further splits with positive gain, best gain: -inf\n",
      "[LightGBM] [Warning] No further splits with positive gain, best gain: -inf\n",
      "[LightGBM] [Warning] No further splits with positive gain, best gain: -inf\n",
      "[LightGBM] [Warning] No further splits with positive gain, best gain: -inf\n",
      "[LightGBM] [Warning] No further splits with positive gain, best gain: -inf\n",
      "[LightGBM] [Warning] No further splits with positive gain, best gain: -inf\n",
      "[LightGBM] [Warning] No further splits with positive gain, best gain: -inf\n",
      "[LightGBM] [Warning] No further splits with positive gain, best gain: -inf\n",
      "[LightGBM] [Warning] No further splits with positive gain, best gain: -inf\n",
      "[LightGBM] [Warning] No further splits with positive gain, best gain: -inf\n",
      "[LightGBM] [Warning] No further splits with positive gain, best gain: -inf\n",
      "[LightGBM] [Warning] No further splits with positive gain, best gain: -inf\n",
      "[LightGBM] [Warning] No further splits with positive gain, best gain: -inf\n",
      "[LightGBM] [Warning] No further splits with positive gain, best gain: -inf\n",
      "[LightGBM] [Warning] No further splits with positive gain, best gain: -inf\n",
      "[LightGBM] [Warning] No further splits with positive gain, best gain: -inf\n",
      "[LightGBM] [Warning] No further splits with positive gain, best gain: -inf\n",
      "[LightGBM] [Warning] No further splits with positive gain, best gain: -inf\n",
      "[LightGBM] [Warning] No further splits with positive gain, best gain: -inf\n",
      "[LightGBM] [Warning] No further splits with positive gain, best gain: -inf\n",
      "[LightGBM] [Warning] No further splits with positive gain, best gain: -inf\n",
      "[LightGBM] [Warning] No further splits with positive gain, best gain: -inf\n",
      "[LightGBM] [Warning] No further splits with positive gain, best gain: -inf\n",
      "[LightGBM] [Warning] No further splits with positive gain, best gain: -inf\n",
      "[LightGBM] [Warning] No further splits with positive gain, best gain: -inf\n",
      "[LightGBM] [Warning] No further splits with positive gain, best gain: -inf\n",
      "[LightGBM] [Warning] No further splits with positive gain, best gain: -inf\n",
      "[LightGBM] [Warning] No further splits with positive gain, best gain: -inf\n",
      "[LightGBM] [Warning] No further splits with positive gain, best gain: -inf\n",
      "[LightGBM] [Warning] No further splits with positive gain, best gain: -inf\n",
      "[LightGBM] [Warning] No further splits with positive gain, best gain: -inf\n",
      "[LightGBM] [Warning] No further splits with positive gain, best gain: -inf\n",
      "[LightGBM] [Warning] No further splits with positive gain, best gain: -inf\n",
      "[LightGBM] [Warning] No further splits with positive gain, best gain: -inf\n",
      "[LightGBM] [Warning] No further splits with positive gain, best gain: -inf\n",
      "[LightGBM] [Warning] No further splits with positive gain, best gain: -inf\n",
      "[LightGBM] [Warning] No further splits with positive gain, best gain: -inf\n",
      "[LightGBM] [Warning] No further splits with positive gain, best gain: -inf\n",
      "[LightGBM] [Warning] No further splits with positive gain, best gain: -inf\n",
      "[LightGBM] [Warning] No further splits with positive gain, best gain: -inf\n",
      "[LightGBM] [Warning] No further splits with positive gain, best gain: -inf\n",
      "[LightGBM] [Warning] No further splits with positive gain, best gain: -inf\n",
      "[LightGBM] [Warning] No further splits with positive gain, best gain: -inf\n",
      "[LightGBM] [Warning] No further splits with positive gain, best gain: -inf\n",
      "[LightGBM] [Warning] No further splits with positive gain, best gain: -inf\n",
      "[LightGBM] [Warning] No further splits with positive gain, best gain: -inf\n",
      "[LightGBM] [Warning] No further splits with positive gain, best gain: -inf\n",
      "[LightGBM] [Warning] No further splits with positive gain, best gain: -inf\n",
      "[LightGBM] [Warning] No further splits with positive gain, best gain: -inf\n",
      "[LightGBM] [Warning] No further splits with positive gain, best gain: -inf\n",
      "[LightGBM] [Warning] No further splits with positive gain, best gain: -inf\n",
      "[LightGBM] [Warning] No further splits with positive gain, best gain: -inf\n",
      "[LightGBM] [Warning] No further splits with positive gain, best gain: -inf\n",
      "[LightGBM] [Warning] No further splits with positive gain, best gain: -inf\n",
      "[LightGBM] [Warning] No further splits with positive gain, best gain: -inf\n",
      "[LightGBM] [Warning] No further splits with positive gain, best gain: -inf\n",
      "[LightGBM] [Warning] No further splits with positive gain, best gain: -inf\n",
      "[LightGBM] [Warning] No further splits with positive gain, best gain: -inf\n",
      "[LightGBM] [Warning] No further splits with positive gain, best gain: -inf\n",
      "[LightGBM] [Warning] No further splits with positive gain, best gain: -inf\n",
      "[LightGBM] [Warning] No further splits with positive gain, best gain: -inf\n",
      "[LightGBM] [Warning] No further splits with positive gain, best gain: -inf\n",
      "[LightGBM] [Warning] No further splits with positive gain, best gain: -inf\n",
      "[LightGBM] [Warning] No further splits with positive gain, best gain: -inf\n",
      "[LightGBM] [Warning] No further splits with positive gain, best gain: -inf\n",
      "[LightGBM] [Warning] No further splits with positive gain, best gain: -inf\n",
      "[LightGBM] [Warning] No further splits with positive gain, best gain: -inf\n",
      "[LightGBM] [Warning] No further splits with positive gain, best gain: -inf\n",
      "[LightGBM] [Warning] No further splits with positive gain, best gain: -inf\n",
      "[LightGBM] [Warning] No further splits with positive gain, best gain: -inf\n",
      "[LightGBM] [Warning] No further splits with positive gain, best gain: -inf\n",
      "[LightGBM] [Warning] No further splits with positive gain, best gain: -inf\n",
      "[LightGBM] [Warning] No further splits with positive gain, best gain: -inf\n",
      "[LightGBM] [Warning] No further splits with positive gain, best gain: -inf\n",
      "[LightGBM] [Warning] No further splits with positive gain, best gain: -inf\n",
      "[LightGBM] [Warning] No further splits with positive gain, best gain: -inf\n",
      "[LightGBM] [Warning] No further splits with positive gain, best gain: -inf\n",
      "[LightGBM] [Warning] No further splits with positive gain, best gain: -inf\n",
      "[LightGBM] [Warning] No further splits with positive gain, best gain: -inf\n",
      "[LightGBM] [Warning] No further splits with positive gain, best gain: -inf\n",
      "[LightGBM] [Warning] No further splits with positive gain, best gain: -inf\n",
      "[LightGBM] [Warning] No further splits with positive gain, best gain: -inf\n",
      "[LightGBM] [Warning] No further splits with positive gain, best gain: -inf\n",
      "[LightGBM] [Warning] No further splits with positive gain, best gain: -inf\n",
      "[LightGBM] [Warning] No further splits with positive gain, best gain: -inf\n",
      "[LightGBM] [Warning] No further splits with positive gain, best gain: -inf\n",
      "[LightGBM] [Warning] No further splits with positive gain, best gain: -inf\n",
      "[LightGBM] [Warning] No further splits with positive gain, best gain: -inf\n",
      "[LightGBM] [Warning] No further splits with positive gain, best gain: -inf\n",
      "[LightGBM] [Warning] No further splits with positive gain, best gain: -inf\n",
      "[LightGBM] [Warning] No further splits with positive gain, best gain: -inf\n",
      "[LightGBM] [Warning] No further splits with positive gain, best gain: -inf\n",
      "[LightGBM] [Warning] No further splits with positive gain, best gain: -inf\n",
      "[LightGBM] [Warning] No further splits with positive gain, best gain: -inf\n",
      "[LightGBM] [Warning] No further splits with positive gain, best gain: -inf\n",
      "[LightGBM] [Warning] No further splits with positive gain, best gain: -inf\n",
      "[LightGBM] [Warning] No further splits with positive gain, best gain: -inf\n",
      "[LightGBM] [Warning] No further splits with positive gain, best gain: -inf\n",
      "[LightGBM] [Warning] No further splits with positive gain, best gain: -inf\n",
      "[LightGBM] [Warning] No further splits with positive gain, best gain: -inf\n",
      "[LightGBM] [Warning] No further splits with positive gain, best gain: -inf\n",
      "[LightGBM] [Warning] No further splits with positive gain, best gain: -inf\n",
      "[LightGBM] [Warning] No further splits with positive gain, best gain: -inf\n",
      "[LightGBM] [Warning] No further splits with positive gain, best gain: -inf\n",
      "[LightGBM] [Warning] No further splits with positive gain, best gain: -inf\n",
      "[LightGBM] [Warning] No further splits with positive gain, best gain: -inf\n",
      "[LightGBM] [Warning] No further splits with positive gain, best gain: -inf\n",
      "[LightGBM] [Warning] No further splits with positive gain, best gain: -inf\n",
      "[LightGBM] [Warning] No further splits with positive gain, best gain: -inf\n",
      "[LightGBM] [Warning] No further splits with positive gain, best gain: -inf\n",
      "[LightGBM] [Warning] No further splits with positive gain, best gain: -inf\n",
      "[LightGBM] [Warning] No further splits with positive gain, best gain: -inf\n",
      "[LightGBM] [Warning] No further splits with positive gain, best gain: -inf\n",
      "[LightGBM] [Warning] No further splits with positive gain, best gain: -inf\n",
      "[LightGBM] [Warning] No further splits with positive gain, best gain: -inf\n",
      "[LightGBM] [Warning] No further splits with positive gain, best gain: -inf\n",
      "[LightGBM] [Warning] No further splits with positive gain, best gain: -inf\n",
      "[LightGBM] [Warning] No further splits with positive gain, best gain: -inf\n",
      "[LightGBM] [Warning] No further splits with positive gain, best gain: -inf\n",
      "[LightGBM] [Warning] No further splits with positive gain, best gain: -inf\n",
      "[LightGBM] [Warning] No further splits with positive gain, best gain: -inf\n",
      "[LightGBM] [Warning] No further splits with positive gain, best gain: -inf\n",
      "[LightGBM] [Warning] No further splits with positive gain, best gain: -inf\n",
      "[LightGBM] [Warning] No further splits with positive gain, best gain: -inf\n",
      "[LightGBM] [Warning] No further splits with positive gain, best gain: -inf\n",
      "[LightGBM] [Warning] No further splits with positive gain, best gain: -inf\n",
      "[LightGBM] [Warning] No further splits with positive gain, best gain: -inf\n",
      "[LightGBM] [Warning] No further splits with positive gain, best gain: -inf\n",
      "[LightGBM] [Warning] No further splits with positive gain, best gain: -inf\n",
      "[LightGBM] [Warning] No further splits with positive gain, best gain: -inf\n",
      "[LightGBM] [Warning] No further splits with positive gain, best gain: -inf\n",
      "[LightGBM] [Warning] No further splits with positive gain, best gain: -inf\n",
      "[LightGBM] [Warning] No further splits with positive gain, best gain: -inf\n",
      "[LightGBM] [Warning] No further splits with positive gain, best gain: -inf\n",
      "[LightGBM] [Warning] No further splits with positive gain, best gain: -inf\n",
      "[LightGBM] [Warning] No further splits with positive gain, best gain: -inf\n",
      "[LightGBM] [Warning] No further splits with positive gain, best gain: -inf\n",
      "[LightGBM] [Warning] No further splits with positive gain, best gain: -inf\n",
      "[LightGBM] [Warning] No further splits with positive gain, best gain: -inf\n",
      "[LightGBM] [Warning] No further splits with positive gain, best gain: -inf\n",
      "[LightGBM] [Warning] No further splits with positive gain, best gain: -inf\n",
      "[LightGBM] [Warning] No further splits with positive gain, best gain: -inf\n",
      "[LightGBM] [Warning] No further splits with positive gain, best gain: -inf\n",
      "[LightGBM] [Warning] No further splits with positive gain, best gain: -inf\n",
      "[LightGBM] [Warning] No further splits with positive gain, best gain: -inf\n",
      "[LightGBM] [Warning] No further splits with positive gain, best gain: -inf\n",
      "[LightGBM] [Warning] No further splits with positive gain, best gain: -inf\n",
      "[LightGBM] [Warning] No further splits with positive gain, best gain: -inf\n",
      "[LightGBM] [Warning] No further splits with positive gain, best gain: -inf\n",
      "[LightGBM] [Warning] No further splits with positive gain, best gain: -inf\n",
      "[LightGBM] [Warning] No further splits with positive gain, best gain: -inf\n",
      "[LightGBM] [Warning] No further splits with positive gain, best gain: -inf\n",
      "[LightGBM] [Warning] No further splits with positive gain, best gain: -inf\n",
      "[LightGBM] [Warning] No further splits with positive gain, best gain: -inf\n",
      "[LightGBM] [Warning] No further splits with positive gain, best gain: -inf\n",
      "[LightGBM] [Warning] No further splits with positive gain, best gain: -inf\n",
      "[LightGBM] [Warning] No further splits with positive gain, best gain: -inf\n",
      "[LightGBM] [Warning] No further splits with positive gain, best gain: -inf\n",
      "[LightGBM] [Warning] No further splits with positive gain, best gain: -inf\n",
      "[LightGBM] [Warning] No further splits with positive gain, best gain: -inf\n",
      "[LightGBM] [Warning] No further splits with positive gain, best gain: -inf\n",
      "[LightGBM] [Warning] No further splits with positive gain, best gain: -inf\n",
      "[LightGBM] [Warning] No further splits with positive gain, best gain: -inf\n",
      "[LightGBM] [Warning] No further splits with positive gain, best gain: -inf\n",
      "[LightGBM] [Warning] No further splits with positive gain, best gain: -inf\n",
      "[LightGBM] [Warning] No further splits with positive gain, best gain: -inf\n",
      "[LightGBM] [Warning] No further splits with positive gain, best gain: -inf\n",
      "[LightGBM] [Warning] No further splits with positive gain, best gain: -inf\n",
      "[LightGBM] [Warning] No further splits with positive gain, best gain: -inf\n",
      "[LightGBM] [Warning] No further splits with positive gain, best gain: -inf\n",
      "[LightGBM] [Warning] No further splits with positive gain, best gain: -inf\n",
      "[LightGBM] [Warning] No further splits with positive gain, best gain: -inf\n",
      "[LightGBM] [Warning] No further splits with positive gain, best gain: -inf\n",
      "[LightGBM] [Warning] No further splits with positive gain, best gain: -inf\n",
      "[LightGBM] [Warning] No further splits with positive gain, best gain: -inf\n",
      "[LightGBM] [Warning] No further splits with positive gain, best gain: -inf\n",
      "[LightGBM] [Warning] No further splits with positive gain, best gain: -inf\n",
      "[LightGBM] [Warning] No further splits with positive gain, best gain: -inf\n",
      "[LightGBM] [Warning] No further splits with positive gain, best gain: -inf\n",
      "[LightGBM] [Warning] No further splits with positive gain, best gain: -inf\n",
      "[LightGBM] [Warning] No further splits with positive gain, best gain: -inf\n",
      "[LightGBM] [Warning] No further splits with positive gain, best gain: -inf\n",
      "[LightGBM] [Warning] No further splits with positive gain, best gain: -inf\n",
      "[LightGBM] [Warning] No further splits with positive gain, best gain: -inf\n",
      "[LightGBM] [Warning] No further splits with positive gain, best gain: -inf\n",
      "[LightGBM] [Warning] No further splits with positive gain, best gain: -inf\n",
      "[LightGBM] [Warning] No further splits with positive gain, best gain: -inf\n",
      "[LightGBM] [Warning] No further splits with positive gain, best gain: -inf\n",
      "[LightGBM] [Warning] No further splits with positive gain, best gain: -inf\n",
      "[LightGBM] [Warning] No further splits with positive gain, best gain: -inf\n",
      "[LightGBM] [Warning] No further splits with positive gain, best gain: -inf\n",
      "[LightGBM] [Warning] No further splits with positive gain, best gain: -inf\n",
      "[LightGBM] [Warning] No further splits with positive gain, best gain: -inf\n",
      "[LightGBM] [Warning] No further splits with positive gain, best gain: -inf\n",
      "[LightGBM] [Warning] No further splits with positive gain, best gain: -inf\n",
      "[LightGBM] [Warning] No further splits with positive gain, best gain: -inf\n",
      "[LightGBM] [Warning] No further splits with positive gain, best gain: -inf\n",
      "[LightGBM] [Warning] No further splits with positive gain, best gain: -inf\n",
      "[LightGBM] [Warning] No further splits with positive gain, best gain: -inf\n",
      "[LightGBM] [Warning] No further splits with positive gain, best gain: -inf\n",
      "[LightGBM] [Warning] No further splits with positive gain, best gain: -inf\n",
      "[LightGBM] [Warning] No further splits with positive gain, best gain: -inf\n",
      "[LightGBM] [Warning] No further splits with positive gain, best gain: -inf\n",
      "[LightGBM] [Warning] No further splits with positive gain, best gain: -inf\n",
      "[LightGBM] [Warning] No further splits with positive gain, best gain: -inf\n",
      "[LightGBM] [Warning] No further splits with positive gain, best gain: -inf\n",
      "[LightGBM] [Warning] No further splits with positive gain, best gain: -inf\n",
      "[LightGBM] [Warning] No further splits with positive gain, best gain: -inf\n",
      "[LightGBM] [Warning] No further splits with positive gain, best gain: -inf\n",
      "[LightGBM] [Warning] No further splits with positive gain, best gain: -inf\n",
      "[LightGBM] [Warning] No further splits with positive gain, best gain: -inf\n",
      "[LightGBM] [Warning] No further splits with positive gain, best gain: -inf\n",
      "[LightGBM] [Warning] No further splits with positive gain, best gain: -inf\n",
      "[LightGBM] [Warning] No further splits with positive gain, best gain: -inf\n",
      "[LightGBM] [Warning] No further splits with positive gain, best gain: -inf\n",
      "[LightGBM] [Warning] No further splits with positive gain, best gain: -inf\n",
      "[LightGBM] [Warning] No further splits with positive gain, best gain: -inf\n",
      "[LightGBM] [Warning] No further splits with positive gain, best gain: -inf\n",
      "[LightGBM] [Warning] No further splits with positive gain, best gain: -inf\n",
      "[LightGBM] [Warning] No further splits with positive gain, best gain: -inf\n",
      "[LightGBM] [Warning] No further splits with positive gain, best gain: -inf\n",
      "[LightGBM] [Warning] No further splits with positive gain, best gain: -inf\n",
      "[LightGBM] [Warning] No further splits with positive gain, best gain: -inf\n",
      "[LightGBM] [Warning] No further splits with positive gain, best gain: -inf\n",
      "[LightGBM] [Warning] No further splits with positive gain, best gain: -inf\n",
      "[LightGBM] [Warning] No further splits with positive gain, best gain: -inf\n",
      "[LightGBM] [Warning] No further splits with positive gain, best gain: -inf\n",
      "[LightGBM] [Warning] No further splits with positive gain, best gain: -inf\n",
      "[LightGBM] [Warning] No further splits with positive gain, best gain: -inf\n",
      "[LightGBM] [Warning] No further splits with positive gain, best gain: -inf\n",
      "[LightGBM] [Warning] No further splits with positive gain, best gain: -inf\n",
      "[LightGBM] [Warning] No further splits with positive gain, best gain: -inf\n",
      "[LightGBM] [Warning] No further splits with positive gain, best gain: -inf\n",
      "[LightGBM] [Warning] No further splits with positive gain, best gain: -inf\n",
      "[LightGBM] [Warning] No further splits with positive gain, best gain: -inf\n",
      "[LightGBM] [Warning] No further splits with positive gain, best gain: -inf\n",
      "[LightGBM] [Warning] No further splits with positive gain, best gain: -inf\n",
      "[LightGBM] [Warning] No further splits with positive gain, best gain: -inf\n",
      "[LightGBM] [Warning] No further splits with positive gain, best gain: -inf\n",
      "[LightGBM] [Warning] No further splits with positive gain, best gain: -inf\n",
      "[LightGBM] [Warning] No further splits with positive gain, best gain: -inf\n",
      "[LightGBM] [Warning] No further splits with positive gain, best gain: -inf\n",
      "[LightGBM] [Warning] No further splits with positive gain, best gain: -inf\n",
      "[LightGBM] [Warning] No further splits with positive gain, best gain: -inf\n",
      "[LightGBM] [Warning] No further splits with positive gain, best gain: -inf\n",
      "[LightGBM] [Warning] No further splits with positive gain, best gain: -inf\n",
      "[LightGBM] [Warning] No further splits with positive gain, best gain: -inf\n",
      "[LightGBM] [Warning] No further splits with positive gain, best gain: -inf\n",
      "[LightGBM] [Warning] No further splits with positive gain, best gain: -inf\n",
      "[LightGBM] [Warning] No further splits with positive gain, best gain: -inf\n",
      "[LightGBM] [Warning] No further splits with positive gain, best gain: -inf\n",
      "[LightGBM] [Warning] No further splits with positive gain, best gain: -inf\n",
      "[LightGBM] [Warning] No further splits with positive gain, best gain: -inf\n",
      "[LightGBM] [Warning] No further splits with positive gain, best gain: -inf\n",
      "[LightGBM] [Warning] No further splits with positive gain, best gain: -inf\n",
      "[LightGBM] [Warning] No further splits with positive gain, best gain: -inf\n",
      "[LightGBM] [Warning] No further splits with positive gain, best gain: -inf\n",
      "[LightGBM] [Warning] No further splits with positive gain, best gain: -inf\n",
      "[LightGBM] [Warning] No further splits with positive gain, best gain: -inf\n",
      "[LightGBM] [Warning] No further splits with positive gain, best gain: -inf\n",
      "[LightGBM] [Warning] No further splits with positive gain, best gain: -inf\n",
      "[LightGBM] [Warning] No further splits with positive gain, best gain: -inf\n",
      "[LightGBM] [Warning] No further splits with positive gain, best gain: -inf\n",
      "[LightGBM] [Warning] No further splits with positive gain, best gain: -inf\n",
      "[LightGBM] [Warning] No further splits with positive gain, best gain: -inf\n",
      "[LightGBM] [Warning] No further splits with positive gain, best gain: -inf\n",
      "[LightGBM] [Warning] No further splits with positive gain, best gain: -inf\n",
      "[LightGBM] [Warning] No further splits with positive gain, best gain: -inf\n",
      "[LightGBM] [Warning] No further splits with positive gain, best gain: -inf\n",
      "[LightGBM] [Warning] No further splits with positive gain, best gain: -inf\n",
      "[LightGBM] [Warning] No further splits with positive gain, best gain: -inf\n",
      "[LightGBM] [Warning] No further splits with positive gain, best gain: -inf\n",
      "[LightGBM] [Warning] No further splits with positive gain, best gain: -inf\n",
      "[LightGBM] [Warning] No further splits with positive gain, best gain: -inf\n",
      "[LightGBM] [Warning] No further splits with positive gain, best gain: -inf\n",
      "[LightGBM] [Warning] No further splits with positive gain, best gain: -inf\n",
      "[LightGBM] [Warning] No further splits with positive gain, best gain: -inf\n",
      "[LightGBM] [Warning] No further splits with positive gain, best gain: -inf\n",
      "[LightGBM] [Warning] No further splits with positive gain, best gain: -inf\n",
      "[LightGBM] [Warning] No further splits with positive gain, best gain: -inf\n",
      "[LightGBM] [Warning] No further splits with positive gain, best gain: -inf\n",
      "[LightGBM] [Warning] No further splits with positive gain, best gain: -inf\n",
      "[LightGBM] [Warning] No further splits with positive gain, best gain: -inf\n",
      "[LightGBM] [Warning] No further splits with positive gain, best gain: -inf\n",
      "[LightGBM] [Warning] No further splits with positive gain, best gain: -inf\n",
      "[LightGBM] [Warning] No further splits with positive gain, best gain: -inf\n",
      "[LightGBM] [Warning] No further splits with positive gain, best gain: -inf\n",
      "[LightGBM] [Warning] No further splits with positive gain, best gain: -inf\n",
      "[LightGBM] [Warning] No further splits with positive gain, best gain: -inf\n",
      "[LightGBM] [Warning] No further splits with positive gain, best gain: -inf\n",
      "[LightGBM] [Warning] No further splits with positive gain, best gain: -inf\n",
      "[LightGBM] [Warning] No further splits with positive gain, best gain: -inf\n",
      "[LightGBM] [Warning] No further splits with positive gain, best gain: -inf\n",
      "[LightGBM] [Warning] No further splits with positive gain, best gain: -inf\n",
      "[LightGBM] [Warning] No further splits with positive gain, best gain: -inf\n",
      "[LightGBM] [Warning] No further splits with positive gain, best gain: -inf\n",
      "[LightGBM] [Warning] No further splits with positive gain, best gain: -inf\n",
      "[LightGBM] [Warning] No further splits with positive gain, best gain: -inf\n",
      "[LightGBM] [Warning] No further splits with positive gain, best gain: -inf\n",
      "[LightGBM] [Warning] No further splits with positive gain, best gain: -inf\n",
      "[LightGBM] [Warning] No further splits with positive gain, best gain: -inf\n",
      "[LightGBM] [Warning] No further splits with positive gain, best gain: -inf\n",
      "[LightGBM] [Warning] No further splits with positive gain, best gain: -inf\n",
      "[LightGBM] [Warning] No further splits with positive gain, best gain: -inf\n",
      "[LightGBM] [Warning] No further splits with positive gain, best gain: -inf\n",
      "[LightGBM] [Warning] No further splits with positive gain, best gain: -inf\n",
      "[LightGBM] [Warning] No further splits with positive gain, best gain: -inf\n",
      "[LightGBM] [Warning] No further splits with positive gain, best gain: -inf\n",
      "[LightGBM] [Warning] No further splits with positive gain, best gain: -inf\n",
      "[LightGBM] [Warning] No further splits with positive gain, best gain: -inf\n",
      "[LightGBM] [Warning] No further splits with positive gain, best gain: -inf\n",
      "[LightGBM] [Warning] No further splits with positive gain, best gain: -inf\n",
      "[LightGBM] [Warning] No further splits with positive gain, best gain: -inf\n",
      "[LightGBM] [Warning] No further splits with positive gain, best gain: -inf\n",
      "[LightGBM] [Warning] No further splits with positive gain, best gain: -inf\n",
      "[LightGBM] [Warning] No further splits with positive gain, best gain: -inf\n",
      "[LightGBM] [Warning] No further splits with positive gain, best gain: -inf\n",
      "[LightGBM] [Warning] No further splits with positive gain, best gain: -inf\n",
      "[LightGBM] [Warning] No further splits with positive gain, best gain: -inf\n",
      "[LightGBM] [Warning] No further splits with positive gain, best gain: -inf\n",
      "[LightGBM] [Warning] No further splits with positive gain, best gain: -inf\n",
      "[LightGBM] [Warning] No further splits with positive gain, best gain: -inf\n",
      "[LightGBM] [Warning] No further splits with positive gain, best gain: -inf\n",
      "[LightGBM] [Warning] No further splits with positive gain, best gain: -inf\n",
      "[LightGBM] [Warning] No further splits with positive gain, best gain: -inf\n",
      "[LightGBM] [Warning] No further splits with positive gain, best gain: -inf\n",
      "[LightGBM] [Warning] No further splits with positive gain, best gain: -inf\n",
      "[LightGBM] [Warning] No further splits with positive gain, best gain: -inf\n",
      "[LightGBM] [Warning] No further splits with positive gain, best gain: -inf\n",
      "[LightGBM] [Warning] No further splits with positive gain, best gain: -inf\n",
      "[LightGBM] [Warning] No further splits with positive gain, best gain: -inf\n",
      "[LightGBM] [Warning] No further splits with positive gain, best gain: -inf\n",
      "[LightGBM] [Warning] No further splits with positive gain, best gain: -inf\n",
      "[LightGBM] [Warning] No further splits with positive gain, best gain: -inf\n",
      "[LightGBM] [Warning] No further splits with positive gain, best gain: -inf\n",
      "[LightGBM] [Warning] No further splits with positive gain, best gain: -inf\n",
      "[LightGBM] [Warning] No further splits with positive gain, best gain: -inf\n",
      "[LightGBM] [Warning] No further splits with positive gain, best gain: -inf\n",
      "[LightGBM] [Warning] No further splits with positive gain, best gain: -inf\n",
      "[LightGBM] [Warning] No further splits with positive gain, best gain: -inf\n",
      "[LightGBM] [Warning] No further splits with positive gain, best gain: -inf\n",
      "[LightGBM] [Warning] No further splits with positive gain, best gain: -inf\n",
      "[LightGBM] [Warning] No further splits with positive gain, best gain: -inf\n",
      "[LightGBM] [Warning] No further splits with positive gain, best gain: -inf\n",
      "[LightGBM] [Warning] No further splits with positive gain, best gain: -inf\n",
      "[LightGBM] [Warning] No further splits with positive gain, best gain: -inf\n",
      "[LightGBM] [Warning] No further splits with positive gain, best gain: -inf\n",
      "[LightGBM] [Warning] No further splits with positive gain, best gain: -inf\n",
      "[LightGBM] [Warning] No further splits with positive gain, best gain: -inf\n",
      "[LightGBM] [Warning] No further splits with positive gain, best gain: -inf\n",
      "[LightGBM] [Warning] No further splits with positive gain, best gain: -inf\n",
      "[LightGBM] [Warning] No further splits with positive gain, best gain: -inf\n",
      "[LightGBM] [Warning] No further splits with positive gain, best gain: -inf\n",
      "[LightGBM] [Warning] No further splits with positive gain, best gain: -inf\n",
      "[LightGBM] [Warning] No further splits with positive gain, best gain: -inf\n",
      "[LightGBM] [Warning] No further splits with positive gain, best gain: -inf\n",
      "[LightGBM] [Warning] No further splits with positive gain, best gain: -inf\n",
      "[LightGBM] [Warning] No further splits with positive gain, best gain: -inf\n",
      "[LightGBM] [Warning] No further splits with positive gain, best gain: -inf\n",
      "[LightGBM] [Warning] No further splits with positive gain, best gain: -inf\n",
      "[LightGBM] [Warning] No further splits with positive gain, best gain: -inf\n",
      "[LightGBM] [Warning] No further splits with positive gain, best gain: -inf\n",
      "[LightGBM] [Warning] No further splits with positive gain, best gain: -inf\n",
      "[LightGBM] [Warning] No further splits with positive gain, best gain: -inf\n",
      "[LightGBM] [Warning] No further splits with positive gain, best gain: -inf\n",
      "[LightGBM] [Warning] No further splits with positive gain, best gain: -inf\n",
      "[LightGBM] [Warning] No further splits with positive gain, best gain: -inf\n",
      "[LightGBM] [Warning] No further splits with positive gain, best gain: -inf\n",
      "[LightGBM] [Warning] No further splits with positive gain, best gain: -inf\n",
      "[LightGBM] [Warning] No further splits with positive gain, best gain: -inf\n",
      "[LightGBM] [Warning] No further splits with positive gain, best gain: -inf\n",
      "[LightGBM] [Warning] No further splits with positive gain, best gain: -inf\n",
      "[LightGBM] [Warning] No further splits with positive gain, best gain: -inf\n",
      "[LightGBM] [Warning] No further splits with positive gain, best gain: -inf\n",
      "[LightGBM] [Warning] No further splits with positive gain, best gain: -inf\n",
      "[LightGBM] [Warning] No further splits with positive gain, best gain: -inf\n",
      "[LightGBM] [Warning] No further splits with positive gain, best gain: -inf\n",
      "[LightGBM] [Warning] No further splits with positive gain, best gain: -inf\n",
      "[LightGBM] [Warning] No further splits with positive gain, best gain: -inf\n",
      "[LightGBM] [Warning] No further splits with positive gain, best gain: -inf\n",
      "[LightGBM] [Warning] No further splits with positive gain, best gain: -inf\n",
      "[LightGBM] [Warning] No further splits with positive gain, best gain: -inf\n",
      "[LightGBM] [Warning] No further splits with positive gain, best gain: -inf\n",
      "[LightGBM] [Warning] No further splits with positive gain, best gain: -inf\n",
      "[LightGBM] [Warning] No further splits with positive gain, best gain: -inf\n",
      "[LightGBM] [Warning] No further splits with positive gain, best gain: -inf\n",
      "[LightGBM] [Warning] No further splits with positive gain, best gain: -inf\n",
      "[LightGBM] [Warning] No further splits with positive gain, best gain: -inf\n",
      "[LightGBM] [Warning] No further splits with positive gain, best gain: -inf\n",
      "[LightGBM] [Warning] No further splits with positive gain, best gain: -inf\n",
      "[LightGBM] [Warning] No further splits with positive gain, best gain: -inf\n",
      "[LightGBM] [Warning] No further splits with positive gain, best gain: -inf\n",
      "[LightGBM] [Warning] No further splits with positive gain, best gain: -inf\n",
      "[LightGBM] [Warning] No further splits with positive gain, best gain: -inf\n",
      "[LightGBM] [Warning] No further splits with positive gain, best gain: -inf\n",
      "[LightGBM] [Warning] No further splits with positive gain, best gain: -inf\n",
      "[LightGBM] [Warning] No further splits with positive gain, best gain: -inf\n",
      "[LightGBM] [Warning] No further splits with positive gain, best gain: -inf\n",
      "[LightGBM] [Warning] No further splits with positive gain, best gain: -inf\n",
      "[LightGBM] [Warning] No further splits with positive gain, best gain: -inf\n",
      "[LightGBM] [Warning] No further splits with positive gain, best gain: -inf\n",
      "[LightGBM] [Warning] No further splits with positive gain, best gain: -inf\n",
      "[LightGBM] [Warning] No further splits with positive gain, best gain: -inf\n",
      "[LightGBM] [Warning] No further splits with positive gain, best gain: -inf\n",
      "[LightGBM] [Warning] No further splits with positive gain, best gain: -inf\n",
      "[LightGBM] [Warning] No further splits with positive gain, best gain: -inf\n",
      "[LightGBM] [Warning] No further splits with positive gain, best gain: -inf\n",
      "[LightGBM] [Warning] No further splits with positive gain, best gain: -inf\n",
      "[LightGBM] [Warning] No further splits with positive gain, best gain: -inf\n",
      "[LightGBM] [Warning] No further splits with positive gain, best gain: -inf\n",
      "[LightGBM] [Warning] No further splits with positive gain, best gain: -inf\n",
      "[LightGBM] [Warning] No further splits with positive gain, best gain: -inf\n",
      "[LightGBM] [Warning] No further splits with positive gain, best gain: -inf\n",
      "[LightGBM] [Warning] No further splits with positive gain, best gain: -inf\n",
      "[LightGBM] [Warning] No further splits with positive gain, best gain: -inf\n",
      "[LightGBM] [Warning] No further splits with positive gain, best gain: -inf\n",
      "[LightGBM] [Warning] No further splits with positive gain, best gain: -inf\n",
      "[LightGBM] [Warning] No further splits with positive gain, best gain: -inf\n",
      "[LightGBM] [Warning] No further splits with positive gain, best gain: -inf\n",
      "[LightGBM] [Warning] No further splits with positive gain, best gain: -inf\n",
      "[LightGBM] [Warning] No further splits with positive gain, best gain: -inf\n",
      "[LightGBM] [Warning] No further splits with positive gain, best gain: -inf\n",
      "[LightGBM] [Warning] No further splits with positive gain, best gain: -inf\n",
      "[LightGBM] [Warning] No further splits with positive gain, best gain: -inf\n",
      "[LightGBM] [Warning] No further splits with positive gain, best gain: -inf\n",
      "[LightGBM] [Warning] No further splits with positive gain, best gain: -inf\n",
      "[LightGBM] [Warning] No further splits with positive gain, best gain: -inf\n",
      "[LightGBM] [Warning] No further splits with positive gain, best gain: -inf\n",
      "[LightGBM] [Warning] No further splits with positive gain, best gain: -inf\n",
      "[LightGBM] [Warning] No further splits with positive gain, best gain: -inf\n",
      "[LightGBM] [Warning] No further splits with positive gain, best gain: -inf\n",
      "[LightGBM] [Warning] No further splits with positive gain, best gain: -inf\n",
      "[LightGBM] [Warning] No further splits with positive gain, best gain: -inf\n",
      "[LightGBM] [Warning] No further splits with positive gain, best gain: -inf\n",
      "[LightGBM] [Warning] No further splits with positive gain, best gain: -inf\n",
      "[LightGBM] [Warning] No further splits with positive gain, best gain: -inf\n",
      "[LightGBM] [Warning] No further splits with positive gain, best gain: -inf\n",
      "[LightGBM] [Warning] No further splits with positive gain, best gain: -inf\n",
      "[LightGBM] [Warning] No further splits with positive gain, best gain: -inf\n",
      "[LightGBM] [Warning] No further splits with positive gain, best gain: -inf\n",
      "[LightGBM] [Warning] No further splits with positive gain, best gain: -inf\n",
      "[LightGBM] [Warning] No further splits with positive gain, best gain: -inf\n",
      "[LightGBM] [Warning] No further splits with positive gain, best gain: -inf\n",
      "[LightGBM] [Warning] No further splits with positive gain, best gain: -inf\n",
      "[LightGBM] [Warning] No further splits with positive gain, best gain: -inf\n",
      "[LightGBM] [Warning] No further splits with positive gain, best gain: -inf\n",
      "[LightGBM] [Warning] No further splits with positive gain, best gain: -inf\n",
      "[LightGBM] [Warning] No further splits with positive gain, best gain: -inf\n",
      "[LightGBM] [Warning] No further splits with positive gain, best gain: -inf\n",
      "[LightGBM] [Warning] No further splits with positive gain, best gain: -inf\n",
      "[LightGBM] [Warning] No further splits with positive gain, best gain: -inf\n",
      "[LightGBM] [Warning] No further splits with positive gain, best gain: -inf\n",
      "[LightGBM] [Warning] No further splits with positive gain, best gain: -inf\n",
      "[LightGBM] [Warning] No further splits with positive gain, best gain: -inf\n",
      "[LightGBM] [Warning] No further splits with positive gain, best gain: -inf\n",
      "[LightGBM] [Warning] No further splits with positive gain, best gain: -inf\n",
      "[LightGBM] [Warning] No further splits with positive gain, best gain: -inf\n",
      "[LightGBM] [Warning] No further splits with positive gain, best gain: -inf\n",
      "[LightGBM] [Warning] No further splits with positive gain, best gain: -inf\n",
      "[LightGBM] [Warning] No further splits with positive gain, best gain: -inf\n",
      "[LightGBM] [Warning] No further splits with positive gain, best gain: -inf\n",
      "[LightGBM] [Warning] No further splits with positive gain, best gain: -inf\n",
      "[LightGBM] [Warning] No further splits with positive gain, best gain: -inf\n",
      "[LightGBM] [Warning] No further splits with positive gain, best gain: -inf\n",
      "[LightGBM] [Warning] No further splits with positive gain, best gain: -inf\n",
      "[LightGBM] [Warning] No further splits with positive gain, best gain: -inf\n",
      "[LightGBM] [Warning] No further splits with positive gain, best gain: -inf\n",
      "[LightGBM] [Warning] No further splits with positive gain, best gain: -inf\n",
      "[LightGBM] [Warning] No further splits with positive gain, best gain: -inf\n",
      "[LightGBM] [Warning] No further splits with positive gain, best gain: -inf\n",
      "[LightGBM] [Warning] No further splits with positive gain, best gain: -inf\n",
      "[LightGBM] [Warning] No further splits with positive gain, best gain: -inf\n",
      "[LightGBM] [Warning] No further splits with positive gain, best gain: -inf\n",
      "[LightGBM] [Warning] No further splits with positive gain, best gain: -inf\n",
      "[LightGBM] [Warning] No further splits with positive gain, best gain: -inf\n",
      "[LightGBM] [Warning] No further splits with positive gain, best gain: -inf\n",
      "[LightGBM] [Warning] No further splits with positive gain, best gain: -inf\n",
      "[LightGBM] [Warning] No further splits with positive gain, best gain: -inf\n",
      "[LightGBM] [Warning] No further splits with positive gain, best gain: -inf\n",
      "[LightGBM] [Warning] No further splits with positive gain, best gain: -inf\n",
      "[LightGBM] [Warning] No further splits with positive gain, best gain: -inf\n",
      "[LightGBM] [Warning] No further splits with positive gain, best gain: -inf\n",
      "[LightGBM] [Warning] No further splits with positive gain, best gain: -inf\n",
      "[LightGBM] [Warning] No further splits with positive gain, best gain: -inf\n",
      "[LightGBM] [Warning] No further splits with positive gain, best gain: -inf\n",
      "[LightGBM] [Warning] No further splits with positive gain, best gain: -inf\n",
      "[LightGBM] [Warning] No further splits with positive gain, best gain: -inf\n",
      "[LightGBM] [Warning] No further splits with positive gain, best gain: -inf\n",
      "[LightGBM] [Warning] No further splits with positive gain, best gain: -inf\n",
      "[LightGBM] [Warning] No further splits with positive gain, best gain: -inf\n",
      "[LightGBM] [Warning] No further splits with positive gain, best gain: -inf\n",
      "[LightGBM] [Warning] No further splits with positive gain, best gain: -inf\n",
      "[LightGBM] [Warning] No further splits with positive gain, best gain: -inf\n",
      "[LightGBM] [Warning] No further splits with positive gain, best gain: -inf\n",
      "[LightGBM] [Warning] No further splits with positive gain, best gain: -inf\n",
      "[LightGBM] [Warning] No further splits with positive gain, best gain: -inf\n",
      "[LightGBM] [Warning] No further splits with positive gain, best gain: -inf\n",
      "[LightGBM] [Warning] No further splits with positive gain, best gain: -inf\n",
      "[LightGBM] [Warning] No further splits with positive gain, best gain: -inf\n",
      "[LightGBM] [Warning] No further splits with positive gain, best gain: -inf\n",
      "[LightGBM] [Warning] No further splits with positive gain, best gain: -inf\n",
      "[LightGBM] [Warning] No further splits with positive gain, best gain: -inf\n",
      "[LightGBM] [Warning] No further splits with positive gain, best gain: -inf\n",
      "[LightGBM] [Warning] No further splits with positive gain, best gain: -inf\n",
      "[LightGBM] [Warning] No further splits with positive gain, best gain: -inf\n",
      "[LightGBM] [Warning] No further splits with positive gain, best gain: -inf\n",
      "[LightGBM] [Warning] No further splits with positive gain, best gain: -inf\n",
      "[LightGBM] [Warning] No further splits with positive gain, best gain: -inf\n",
      "[LightGBM] [Warning] No further splits with positive gain, best gain: -inf\n",
      "[LightGBM] [Warning] No further splits with positive gain, best gain: -inf\n",
      "[LightGBM] [Warning] No further splits with positive gain, best gain: -inf\n",
      "[LightGBM] [Warning] No further splits with positive gain, best gain: -inf\n",
      "[LightGBM] [Warning] No further splits with positive gain, best gain: -inf\n",
      "[LightGBM] [Warning] No further splits with positive gain, best gain: -inf\n",
      "[LightGBM] [Warning] No further splits with positive gain, best gain: -inf\n",
      "[LightGBM] [Warning] No further splits with positive gain, best gain: -inf\n",
      "[LightGBM] [Warning] No further splits with positive gain, best gain: -inf\n",
      "[LightGBM] [Warning] No further splits with positive gain, best gain: -inf\n",
      "[LightGBM] [Warning] No further splits with positive gain, best gain: -inf\n",
      "[LightGBM] [Warning] No further splits with positive gain, best gain: -inf\n",
      "[LightGBM] [Warning] No further splits with positive gain, best gain: -inf\n",
      "[LightGBM] [Warning] No further splits with positive gain, best gain: -inf\n",
      "[LightGBM] [Warning] No further splits with positive gain, best gain: -inf\n",
      "[LightGBM] [Warning] No further splits with positive gain, best gain: -inf\n",
      "[LightGBM] [Warning] No further splits with positive gain, best gain: -inf\n",
      "[LightGBM] [Warning] No further splits with positive gain, best gain: -inf\n",
      "[LightGBM] [Warning] No further splits with positive gain, best gain: -inf\n",
      "[LightGBM] [Warning] No further splits with positive gain, best gain: -inf\n",
      "[LightGBM] [Warning] No further splits with positive gain, best gain: -inf\n",
      "[LightGBM] [Warning] No further splits with positive gain, best gain: -inf\n",
      "[LightGBM] [Warning] No further splits with positive gain, best gain: -inf\n",
      "[LightGBM] [Warning] No further splits with positive gain, best gain: -inf\n",
      "[LightGBM] [Warning] No further splits with positive gain, best gain: -inf\n",
      "[LightGBM] [Warning] No further splits with positive gain, best gain: -inf\n",
      "[LightGBM] [Warning] No further splits with positive gain, best gain: -inf\n",
      "[LightGBM] [Warning] No further splits with positive gain, best gain: -inf\n",
      "[LightGBM] [Warning] No further splits with positive gain, best gain: -inf\n",
      "[LightGBM] [Warning] No further splits with positive gain, best gain: -inf\n",
      "[LightGBM] [Warning] No further splits with positive gain, best gain: -inf\n",
      "[LightGBM] [Warning] No further splits with positive gain, best gain: -inf\n",
      "[LightGBM] [Warning] No further splits with positive gain, best gain: -inf\n",
      "[LightGBM] [Warning] No further splits with positive gain, best gain: -inf\n",
      "[LightGBM] [Warning] No further splits with positive gain, best gain: -inf\n",
      "[LightGBM] [Warning] No further splits with positive gain, best gain: -inf\n",
      "[LightGBM] [Warning] No further splits with positive gain, best gain: -inf\n",
      "[LightGBM] [Warning] No further splits with positive gain, best gain: -inf\n",
      "[LightGBM] [Warning] No further splits with positive gain, best gain: -inf\n",
      "[LightGBM] [Warning] No further splits with positive gain, best gain: -inf\n",
      "[LightGBM] [Warning] No further splits with positive gain, best gain: -inf\n",
      "[LightGBM] [Warning] No further splits with positive gain, best gain: -inf\n",
      "[LightGBM] [Warning] No further splits with positive gain, best gain: -inf\n",
      "[LightGBM] [Warning] No further splits with positive gain, best gain: -inf\n",
      "[LightGBM] [Warning] No further splits with positive gain, best gain: -inf\n",
      "[LightGBM] [Warning] No further splits with positive gain, best gain: -inf\n",
      "[LightGBM] [Warning] No further splits with positive gain, best gain: -inf\n",
      "[LightGBM] [Warning] No further splits with positive gain, best gain: -inf\n",
      "[LightGBM] [Warning] No further splits with positive gain, best gain: -inf\n",
      "[LightGBM] [Warning] No further splits with positive gain, best gain: -inf\n",
      "[LightGBM] [Warning] No further splits with positive gain, best gain: -inf\n",
      "[LightGBM] [Warning] No further splits with positive gain, best gain: -inf\n",
      "[LightGBM] [Warning] No further splits with positive gain, best gain: -inf\n",
      "[LightGBM] [Warning] No further splits with positive gain, best gain: -inf\n",
      "[LightGBM] [Warning] No further splits with positive gain, best gain: -inf\n",
      "[LightGBM] [Warning] No further splits with positive gain, best gain: -inf\n",
      "[LightGBM] [Warning] No further splits with positive gain, best gain: -inf\n",
      "[LightGBM] [Warning] No further splits with positive gain, best gain: -inf\n",
      "[LightGBM] [Warning] No further splits with positive gain, best gain: -inf\n",
      "[LightGBM] [Warning] No further splits with positive gain, best gain: -inf\n",
      "[LightGBM] [Warning] No further splits with positive gain, best gain: -inf\n",
      "[LightGBM] [Warning] No further splits with positive gain, best gain: -inf\n",
      "[LightGBM] [Warning] No further splits with positive gain, best gain: -inf\n",
      "[LightGBM] [Warning] No further splits with positive gain, best gain: -inf\n",
      "[LightGBM] [Warning] No further splits with positive gain, best gain: -inf\n",
      "[LightGBM] [Warning] No further splits with positive gain, best gain: -inf\n",
      "[LightGBM] [Warning] No further splits with positive gain, best gain: -inf\n",
      "[LightGBM] [Warning] No further splits with positive gain, best gain: -inf\n",
      "[LightGBM] [Warning] No further splits with positive gain, best gain: -inf\n",
      "[LightGBM] [Warning] No further splits with positive gain, best gain: -inf\n",
      "[LightGBM] [Warning] No further splits with positive gain, best gain: -inf\n",
      "[LightGBM] [Warning] No further splits with positive gain, best gain: -inf\n",
      "[LightGBM] [Warning] No further splits with positive gain, best gain: -inf\n",
      "[LightGBM] [Warning] No further splits with positive gain, best gain: -inf\n",
      "[LightGBM] [Warning] No further splits with positive gain, best gain: -inf\n",
      "[LightGBM] [Warning] No further splits with positive gain, best gain: -inf\n",
      "[LightGBM] [Warning] No further splits with positive gain, best gain: -inf\n",
      "[LightGBM] [Warning] No further splits with positive gain, best gain: -inf\n",
      "[LightGBM] [Warning] No further splits with positive gain, best gain: -inf\n",
      "[LightGBM] [Warning] No further splits with positive gain, best gain: -inf\n",
      "[LightGBM] [Warning] No further splits with positive gain, best gain: -inf\n",
      "[LightGBM] [Warning] No further splits with positive gain, best gain: -inf\n",
      "[LightGBM] [Warning] No further splits with positive gain, best gain: -inf\n",
      "[LightGBM] [Warning] No further splits with positive gain, best gain: -inf\n",
      "[LightGBM] [Warning] No further splits with positive gain, best gain: -inf\n",
      "[LightGBM] [Warning] No further splits with positive gain, best gain: -inf\n",
      "[LightGBM] [Warning] No further splits with positive gain, best gain: -inf\n",
      "[LightGBM] [Warning] No further splits with positive gain, best gain: -inf\n",
      "[LightGBM] [Warning] No further splits with positive gain, best gain: -inf\n",
      "[LightGBM] [Warning] No further splits with positive gain, best gain: -inf\n",
      "[LightGBM] [Warning] No further splits with positive gain, best gain: -inf\n",
      "[LightGBM] [Warning] No further splits with positive gain, best gain: -inf\n",
      "[LightGBM] [Warning] No further splits with positive gain, best gain: -inf\n",
      "[LightGBM] [Warning] No further splits with positive gain, best gain: -inf\n",
      "[LightGBM] [Warning] No further splits with positive gain, best gain: -inf\n",
      "[LightGBM] [Warning] No further splits with positive gain, best gain: -inf\n",
      "[LightGBM] [Warning] No further splits with positive gain, best gain: -inf\n",
      "[LightGBM] [Warning] No further splits with positive gain, best gain: -inf\n",
      "[LightGBM] [Warning] No further splits with positive gain, best gain: -inf\n",
      "[LightGBM] [Warning] No further splits with positive gain, best gain: -inf\n",
      "[LightGBM] [Warning] No further splits with positive gain, best gain: -inf\n",
      "[LightGBM] [Warning] No further splits with positive gain, best gain: -inf\n",
      "[LightGBM] [Warning] No further splits with positive gain, best gain: -inf\n",
      "[LightGBM] [Warning] No further splits with positive gain, best gain: -inf\n",
      "[LightGBM] [Warning] No further splits with positive gain, best gain: -inf\n",
      "[LightGBM] [Warning] No further splits with positive gain, best gain: -inf\n",
      "[LightGBM] [Warning] No further splits with positive gain, best gain: -inf\n",
      "[LightGBM] [Warning] No further splits with positive gain, best gain: -inf\n",
      "[LightGBM] [Warning] No further splits with positive gain, best gain: -inf\n",
      "[LightGBM] [Warning] No further splits with positive gain, best gain: -inf\n",
      "[LightGBM] [Warning] No further splits with positive gain, best gain: -inf\n",
      "[LightGBM] [Warning] No further splits with positive gain, best gain: -inf\n",
      "[LightGBM] [Warning] No further splits with positive gain, best gain: -inf\n",
      "[LightGBM] [Warning] No further splits with positive gain, best gain: -inf\n",
      "[LightGBM] [Warning] No further splits with positive gain, best gain: -inf\n",
      "[LightGBM] [Warning] No further splits with positive gain, best gain: -inf\n",
      "[LightGBM] [Warning] No further splits with positive gain, best gain: -inf\n",
      "[LightGBM] [Warning] No further splits with positive gain, best gain: -inf\n",
      "[LightGBM] [Warning] No further splits with positive gain, best gain: -inf\n",
      "[LightGBM] [Warning] No further splits with positive gain, best gain: -inf\n",
      "[LightGBM] [Warning] No further splits with positive gain, best gain: -inf\n",
      "[LightGBM] [Warning] No further splits with positive gain, best gain: -inf\n",
      "[LightGBM] [Warning] No further splits with positive gain, best gain: -inf\n",
      "[LightGBM] [Warning] No further splits with positive gain, best gain: -inf\n",
      "[LightGBM] [Warning] No further splits with positive gain, best gain: -inf\n",
      "[LightGBM] [Warning] No further splits with positive gain, best gain: -inf\n",
      "[LightGBM] [Warning] No further splits with positive gain, best gain: -inf\n",
      "[LightGBM] [Warning] No further splits with positive gain, best gain: -inf\n",
      "[LightGBM] [Warning] No further splits with positive gain, best gain: -inf\n",
      "[LightGBM] [Warning] No further splits with positive gain, best gain: -inf\n",
      "[LightGBM] [Warning] No further splits with positive gain, best gain: -inf\n",
      "[LightGBM] [Warning] No further splits with positive gain, best gain: -inf\n",
      "[LightGBM] [Warning] No further splits with positive gain, best gain: -inf\n",
      "[LightGBM] [Warning] No further splits with positive gain, best gain: -inf\n",
      "[LightGBM] [Warning] No further splits with positive gain, best gain: -inf\n",
      "[LightGBM] [Warning] No further splits with positive gain, best gain: -inf\n",
      "[LightGBM] [Warning] No further splits with positive gain, best gain: -inf\n",
      "[LightGBM] [Warning] No further splits with positive gain, best gain: -inf\n",
      "[LightGBM] [Warning] No further splits with positive gain, best gain: -inf\n",
      "[LightGBM] [Warning] No further splits with positive gain, best gain: -inf\n",
      "[LightGBM] [Warning] No further splits with positive gain, best gain: -inf\n",
      "[LightGBM] [Warning] No further splits with positive gain, best gain: -inf\n",
      "[LightGBM] [Warning] No further splits with positive gain, best gain: -inf\n",
      "[LightGBM] [Warning] No further splits with positive gain, best gain: -inf\n",
      "[LightGBM] [Warning] No further splits with positive gain, best gain: -inf\n",
      "[LightGBM] [Warning] No further splits with positive gain, best gain: -inf\n",
      "[LightGBM] [Warning] No further splits with positive gain, best gain: -inf\n",
      "[LightGBM] [Warning] No further splits with positive gain, best gain: -inf\n",
      "[LightGBM] [Warning] No further splits with positive gain, best gain: -inf\n",
      "[LightGBM] [Warning] No further splits with positive gain, best gain: -inf\n",
      "[LightGBM] [Warning] No further splits with positive gain, best gain: -inf\n",
      "[LightGBM] [Warning] No further splits with positive gain, best gain: -inf\n",
      "[LightGBM] [Warning] No further splits with positive gain, best gain: -inf\n",
      "[LightGBM] [Warning] No further splits with positive gain, best gain: -inf\n",
      "[LightGBM] [Warning] No further splits with positive gain, best gain: -inf\n",
      "[LightGBM] [Warning] No further splits with positive gain, best gain: -inf\n",
      "[LightGBM] [Warning] No further splits with positive gain, best gain: -inf\n",
      "[LightGBM] [Warning] No further splits with positive gain, best gain: -inf\n",
      "[LightGBM] [Warning] No further splits with positive gain, best gain: -inf\n",
      "[LightGBM] [Warning] No further splits with positive gain, best gain: -inf\n",
      "[LightGBM] [Warning] No further splits with positive gain, best gain: -inf\n",
      "[LightGBM] [Warning] No further splits with positive gain, best gain: -inf\n",
      "[LightGBM] [Warning] No further splits with positive gain, best gain: -inf\n",
      "[LightGBM] [Warning] No further splits with positive gain, best gain: -inf\n",
      "[LightGBM] [Warning] No further splits with positive gain, best gain: -inf\n",
      "[LightGBM] [Warning] No further splits with positive gain, best gain: -inf\n",
      "[LightGBM] [Warning] No further splits with positive gain, best gain: -inf\n",
      "[LightGBM] [Warning] No further splits with positive gain, best gain: -inf\n",
      "[LightGBM] [Warning] No further splits with positive gain, best gain: -inf\n",
      "[LightGBM] [Warning] No further splits with positive gain, best gain: -inf\n",
      "[LightGBM] [Warning] No further splits with positive gain, best gain: -inf\n",
      "[LightGBM] [Warning] No further splits with positive gain, best gain: -inf\n",
      "[LightGBM] [Warning] No further splits with positive gain, best gain: -inf\n",
      "[LightGBM] [Warning] No further splits with positive gain, best gain: -inf\n",
      "[LightGBM] [Warning] No further splits with positive gain, best gain: -inf\n",
      "[LightGBM] [Warning] No further splits with positive gain, best gain: -inf\n",
      "[LightGBM] [Warning] No further splits with positive gain, best gain: -inf\n",
      "[LightGBM] [Warning] No further splits with positive gain, best gain: -inf\n",
      "[LightGBM] [Warning] No further splits with positive gain, best gain: -inf\n",
      "[LightGBM] [Warning] No further splits with positive gain, best gain: -inf\n",
      "[LightGBM] [Warning] No further splits with positive gain, best gain: -inf\n",
      "[LightGBM] [Warning] No further splits with positive gain, best gain: -inf\n",
      "[LightGBM] [Warning] No further splits with positive gain, best gain: -inf\n",
      "[LightGBM] [Warning] No further splits with positive gain, best gain: -inf\n",
      "[LightGBM] [Warning] No further splits with positive gain, best gain: -inf\n",
      "[LightGBM] [Warning] No further splits with positive gain, best gain: -inf\n",
      "[LightGBM] [Warning] No further splits with positive gain, best gain: -inf\n",
      "[LightGBM] [Warning] No further splits with positive gain, best gain: -inf\n",
      "[LightGBM] [Warning] No further splits with positive gain, best gain: -inf\n",
      "[LightGBM] [Warning] No further splits with positive gain, best gain: -inf\n",
      "[LightGBM] [Warning] No further splits with positive gain, best gain: -inf\n",
      "[LightGBM] [Warning] No further splits with positive gain, best gain: -inf\n",
      "[LightGBM] [Warning] No further splits with positive gain, best gain: -inf\n",
      "[LightGBM] [Warning] No further splits with positive gain, best gain: -inf\n",
      "[LightGBM] [Warning] No further splits with positive gain, best gain: -inf\n",
      "[LightGBM] [Warning] No further splits with positive gain, best gain: -inf\n",
      "[LightGBM] [Warning] No further splits with positive gain, best gain: -inf\n",
      "[LightGBM] [Warning] No further splits with positive gain, best gain: -inf\n",
      "[LightGBM] [Warning] No further splits with positive gain, best gain: -inf\n",
      "[LightGBM] [Warning] No further splits with positive gain, best gain: -inf\n",
      "[LightGBM] [Warning] No further splits with positive gain, best gain: -inf\n",
      "[LightGBM] [Warning] No further splits with positive gain, best gain: -inf\n",
      "[LightGBM] [Warning] No further splits with positive gain, best gain: -inf\n",
      "[LightGBM] [Warning] No further splits with positive gain, best gain: -inf\n",
      "[LightGBM] [Warning] No further splits with positive gain, best gain: -inf\n",
      "[LightGBM] [Warning] No further splits with positive gain, best gain: -inf\n",
      "[LightGBM] [Warning] No further splits with positive gain, best gain: -inf\n",
      "[LightGBM] [Warning] No further splits with positive gain, best gain: -inf\n",
      "[LightGBM] [Warning] No further splits with positive gain, best gain: -inf\n",
      "[LightGBM] [Warning] No further splits with positive gain, best gain: -inf\n",
      "Best hyperparams:  {'boosting_type': 'gbdt', 'force_col_wise': True, 'max_depth': 5, 'n_estimators': 100, 'num_leaves': 127, 'random_state': 12345, 'verbose': 0}\n",
      "RMSE score on train sample: nan\n",
      "CPU times: user 17.6 s, sys: 291 ms, total: 17.9 s\n",
      "Wall time: 18.2 s\n"
     ]
    },
    {
     "name": "stderr",
     "output_type": "stream",
     "text": [
      "/tmp/ipykernel_31/4210076644.py:14: RuntimeWarning: invalid value encountered in double_scalars\n",
      "  print('RMSE score on train sample: {:.2f}'.format((-grid_cv.best_score_) ** 0.5))\n"
     ]
    }
   ],
   "source": [
    "%%time\n",
    "lgb_params = lgb_regr(features_train, target_train)"
   ]
  },
  {
   "cell_type": "code",
   "execution_count": 37,
   "metadata": {},
   "outputs": [
    {
     "name": "stderr",
     "output_type": "stream",
     "text": [
      "/opt/conda/lib/python3.9/site-packages/lightgbm/sklearn.py:736: UserWarning: 'verbose' argument is deprecated and will be removed in a future release of LightGBM. Pass 'log_evaluation()' callback via 'callbacks' argument instead.\n",
      "  _log_warning(\"'verbose' argument is deprecated and will be removed in a future release of LightGBM. \"\n"
     ]
    },
    {
     "name": "stdout",
     "output_type": "stream",
     "text": [
      "[LightGBM] [Warning] No further splits with positive gain, best gain: -inf\n",
      "[LightGBM] [Warning] No further splits with positive gain, best gain: -inf\n",
      "[LightGBM] [Warning] No further splits with positive gain, best gain: -inf\n",
      "[LightGBM] [Warning] No further splits with positive gain, best gain: -inf\n",
      "[LightGBM] [Warning] No further splits with positive gain, best gain: -inf\n",
      "[LightGBM] [Warning] No further splits with positive gain, best gain: -inf\n",
      "[LightGBM] [Warning] No further splits with positive gain, best gain: -inf\n",
      "[LightGBM] [Warning] No further splits with positive gain, best gain: -inf\n",
      "[LightGBM] [Warning] No further splits with positive gain, best gain: -inf\n",
      "[LightGBM] [Warning] No further splits with positive gain, best gain: -inf\n",
      "[10]\tvalid_0's rmse: 43.0817\tvalid_0's l2: 1856.04\n",
      "[LightGBM] [Warning] No further splits with positive gain, best gain: -inf\n",
      "[LightGBM] [Warning] No further splits with positive gain, best gain: -inf\n",
      "[LightGBM] [Warning] No further splits with positive gain, best gain: -inf\n",
      "[LightGBM] [Warning] No further splits with positive gain, best gain: -inf\n",
      "[LightGBM] [Warning] No further splits with positive gain, best gain: -inf\n",
      "[LightGBM] [Warning] No further splits with positive gain, best gain: -inf\n",
      "[LightGBM] [Warning] No further splits with positive gain, best gain: -inf\n",
      "[LightGBM] [Warning] No further splits with positive gain, best gain: -inf\n",
      "[LightGBM] [Warning] No further splits with positive gain, best gain: -inf\n",
      "[LightGBM] [Warning] No further splits with positive gain, best gain: -inf\n",
      "[20]\tvalid_0's rmse: 37.2217\tvalid_0's l2: 1385.45\n",
      "[LightGBM] [Warning] No further splits with positive gain, best gain: -inf\n",
      "[LightGBM] [Warning] No further splits with positive gain, best gain: -inf\n",
      "[LightGBM] [Warning] No further splits with positive gain, best gain: -inf\n",
      "[LightGBM] [Warning] No further splits with positive gain, best gain: -inf\n",
      "[LightGBM] [Warning] No further splits with positive gain, best gain: -inf\n",
      "[LightGBM] [Warning] No further splits with positive gain, best gain: -inf\n",
      "[LightGBM] [Warning] No further splits with positive gain, best gain: -inf\n",
      "[LightGBM] [Warning] No further splits with positive gain, best gain: -inf\n",
      "[LightGBM] [Warning] No further splits with positive gain, best gain: -inf\n",
      "[LightGBM] [Warning] No further splits with positive gain, best gain: -inf\n",
      "[30]\tvalid_0's rmse: 34.1383\tvalid_0's l2: 1165.42\n",
      "[LightGBM] [Warning] No further splits with positive gain, best gain: -inf\n",
      "[LightGBM] [Warning] No further splits with positive gain, best gain: -inf\n",
      "[LightGBM] [Warning] No further splits with positive gain, best gain: -inf\n",
      "[LightGBM] [Warning] No further splits with positive gain, best gain: -inf\n",
      "[LightGBM] [Warning] No further splits with positive gain, best gain: -inf\n",
      "[LightGBM] [Warning] No further splits with positive gain, best gain: -inf\n",
      "[LightGBM] [Warning] No further splits with positive gain, best gain: -inf\n",
      "[LightGBM] [Warning] No further splits with positive gain, best gain: -inf\n",
      "[LightGBM] [Warning] No further splits with positive gain, best gain: -inf\n",
      "[LightGBM] [Warning] No further splits with positive gain, best gain: -inf\n",
      "[40]\tvalid_0's rmse: 33.0431\tvalid_0's l2: 1091.85\n",
      "[LightGBM] [Warning] No further splits with positive gain, best gain: -inf\n",
      "[LightGBM] [Warning] No further splits with positive gain, best gain: -inf\n",
      "[LightGBM] [Warning] No further splits with positive gain, best gain: -inf\n",
      "[LightGBM] [Warning] No further splits with positive gain, best gain: -inf\n",
      "[LightGBM] [Warning] No further splits with positive gain, best gain: -inf\n",
      "[LightGBM] [Warning] No further splits with positive gain, best gain: -inf\n",
      "[LightGBM] [Warning] No further splits with positive gain, best gain: -inf\n",
      "[LightGBM] [Warning] No further splits with positive gain, best gain: -inf\n",
      "[LightGBM] [Warning] No further splits with positive gain, best gain: -inf\n",
      "[LightGBM] [Warning] No further splits with positive gain, best gain: -inf\n",
      "[50]\tvalid_0's rmse: 32.2202\tvalid_0's l2: 1038.14\n",
      "[LightGBM] [Warning] No further splits with positive gain, best gain: -inf\n",
      "[LightGBM] [Warning] No further splits with positive gain, best gain: -inf\n",
      "[LightGBM] [Warning] No further splits with positive gain, best gain: -inf\n",
      "[LightGBM] [Warning] No further splits with positive gain, best gain: -inf\n",
      "[LightGBM] [Warning] No further splits with positive gain, best gain: -inf\n",
      "[LightGBM] [Warning] No further splits with positive gain, best gain: -inf\n",
      "[LightGBM] [Warning] No further splits with positive gain, best gain: -inf\n",
      "[LightGBM] [Warning] No further splits with positive gain, best gain: -inf\n",
      "[LightGBM] [Warning] No further splits with positive gain, best gain: -inf\n",
      "[LightGBM] [Warning] No further splits with positive gain, best gain: -inf\n",
      "[60]\tvalid_0's rmse: 31.8142\tvalid_0's l2: 1012.14\n",
      "[LightGBM] [Warning] No further splits with positive gain, best gain: -inf\n",
      "[LightGBM] [Warning] No further splits with positive gain, best gain: -inf\n",
      "[LightGBM] [Warning] No further splits with positive gain, best gain: -inf\n",
      "[LightGBM] [Warning] No further splits with positive gain, best gain: -inf\n",
      "[LightGBM] [Warning] No further splits with positive gain, best gain: -inf\n",
      "[LightGBM] [Warning] No further splits with positive gain, best gain: -inf\n",
      "[LightGBM] [Warning] No further splits with positive gain, best gain: -inf\n",
      "[LightGBM] [Warning] No further splits with positive gain, best gain: -inf\n",
      "[LightGBM] [Warning] No further splits with positive gain, best gain: -inf\n",
      "[LightGBM] [Warning] No further splits with positive gain, best gain: -inf\n",
      "[70]\tvalid_0's rmse: 31.6124\tvalid_0's l2: 999.343\n",
      "[LightGBM] [Warning] No further splits with positive gain, best gain: -inf\n",
      "[LightGBM] [Warning] No further splits with positive gain, best gain: -inf\n",
      "[LightGBM] [Warning] No further splits with positive gain, best gain: -inf\n",
      "[LightGBM] [Warning] No further splits with positive gain, best gain: -inf\n",
      "[LightGBM] [Warning] No further splits with positive gain, best gain: -inf\n",
      "[LightGBM] [Warning] No further splits with positive gain, best gain: -inf\n",
      "[LightGBM] [Warning] No further splits with positive gain, best gain: -inf\n",
      "[LightGBM] [Warning] No further splits with positive gain, best gain: -inf\n",
      "[LightGBM] [Warning] No further splits with positive gain, best gain: -inf\n",
      "[LightGBM] [Warning] No further splits with positive gain, best gain: -inf\n",
      "[80]\tvalid_0's rmse: 31.4738\tvalid_0's l2: 990.599\n",
      "[LightGBM] [Warning] No further splits with positive gain, best gain: -inf\n",
      "[LightGBM] [Warning] No further splits with positive gain, best gain: -inf\n",
      "[LightGBM] [Warning] No further splits with positive gain, best gain: -inf\n",
      "[LightGBM] [Warning] No further splits with positive gain, best gain: -inf\n",
      "[LightGBM] [Warning] No further splits with positive gain, best gain: -inf\n",
      "[LightGBM] [Warning] No further splits with positive gain, best gain: -inf\n",
      "[LightGBM] [Warning] No further splits with positive gain, best gain: -inf\n",
      "[LightGBM] [Warning] No further splits with positive gain, best gain: -inf\n",
      "[LightGBM] [Warning] No further splits with positive gain, best gain: -inf\n",
      "[LightGBM] [Warning] No further splits with positive gain, best gain: -inf\n",
      "[90]\tvalid_0's rmse: 31.2919\tvalid_0's l2: 979.185\n",
      "[LightGBM] [Warning] No further splits with positive gain, best gain: -inf\n",
      "[LightGBM] [Warning] No further splits with positive gain, best gain: -inf\n",
      "[LightGBM] [Warning] No further splits with positive gain, best gain: -inf\n",
      "[LightGBM] [Warning] No further splits with positive gain, best gain: -inf\n",
      "[LightGBM] [Warning] No further splits with positive gain, best gain: -inf\n",
      "[LightGBM] [Warning] No further splits with positive gain, best gain: -inf\n",
      "[LightGBM] [Warning] No further splits with positive gain, best gain: -inf\n",
      "[LightGBM] [Warning] No further splits with positive gain, best gain: -inf\n",
      "[LightGBM] [Warning] No further splits with positive gain, best gain: -inf\n",
      "[LightGBM] [Warning] No further splits with positive gain, best gain: -inf\n",
      "[100]\tvalid_0's rmse: 31.2212\tvalid_0's l2: 974.764\n",
      "CPU times: user 914 ms, sys: 6.98 ms, total: 921 ms\n",
      "Wall time: 899 ms\n"
     ]
    },
    {
     "data": {
      "text/plain": [
       "LGBMRegressor(force_col_wise=True, max_depth=5, num_leaves=127,\n",
       "              random_state=12345, verbose=0)"
      ]
     },
     "execution_count": 37,
     "metadata": {},
     "output_type": "execute_result"
    }
   ],
   "source": [
    "%%time\n",
    "model_lgb = LGBMRegressor(**lgb_params)\n",
    "model_lgb.fit(features_train, target_train, eval_set=(features_test, target_test), verbose=10, eval_metric='rmse')"
   ]
  },
  {
   "cell_type": "markdown",
   "metadata": {},
   "source": [
    "Оценим RMSE."
   ]
  },
  {
   "cell_type": "code",
   "execution_count": 38,
   "metadata": {},
   "outputs": [
    {
     "name": "stdout",
     "output_type": "stream",
     "text": [
      "Valid RMSE = 52.51\n",
      "CPU times: user 20.9 ms, sys: 0 ns, total: 20.9 ms\n",
      "Wall time: 6.75 ms\n"
     ]
    }
   ],
   "source": [
    "%%time\n",
    "predict_lgb = model_lgb.predict(features_valid)\n",
    "print('Valid RMSE = {:.2f}'.format(mse(target_valid, predict_lgb)**0.5))"
   ]
  },
  {
   "cell_type": "markdown",
   "metadata": {},
   "source": [
    "Обучим модель CatBoostRegressor."
   ]
  },
  {
   "cell_type": "code",
   "execution_count": 12,
   "metadata": {},
   "outputs": [],
   "source": [
    "def catboost_regr(features, target):\n",
    "    model = CatBoostRegressor()\n",
    "    params = {\n",
    "            'n_estimators' : [50, 100],\n",
    "            'verbose' : [0],\n",
    "            'random_state' : [12345],\n",
    "            'max_depth' : [5, 7, 10]\n",
    "    }\n",
    "    tscv = TimeSeriesSplit() \n",
    "    grid_cv = GridSearchCV(estimator=model, \n",
    "                    \n",
    "    param_grid=params, cv=tscv, n_jobs=-1, scoring='neg_mean_squared_error')\n",
    "    grid_cv.fit(features, target, verbose=10)\n",
    "    print('Best hyperparams: ', grid_cv.best_params_)\n",
    "    print('RMSE score on train sample: {:.2f}'.format((-grid_cv.best_score_) ** 0.5))\n",
    "    return grid_cv.best_params_"
   ]
  },
  {
   "cell_type": "code",
   "execution_count": 19,
   "metadata": {
    "scrolled": true
   },
   "outputs": [
    {
     "name": "stdout",
     "output_type": "stream",
     "text": [
      "Learning rate set to 0.43001\n",
      "0:\tlearn: 24.4423081\ttotal: 48.1ms\tremaining: 2.35s\n",
      "10:\tlearn: 15.6504996\ttotal: 58.2ms\tremaining: 206ms\n",
      "20:\tlearn: 13.0529276\ttotal: 68.3ms\tremaining: 94.4ms\n",
      "30:\tlearn: 11.0467578\ttotal: 78.3ms\tremaining: 48ms\n",
      "40:\tlearn: 9.3478677\ttotal: 88.1ms\tremaining: 19.3ms\n",
      "49:\tlearn: 8.2852580\ttotal: 97ms\tremaining: 0us\n",
      "Learning rate set to 0.479585\n",
      "0:\tlearn: 26.2459105\ttotal: 1.73ms\tremaining: 84.6ms\n",
      "10:\tlearn: 16.9045492\ttotal: 13.9ms\tremaining: 49.4ms\n",
      "20:\tlearn: 14.7249424\ttotal: 26.4ms\tremaining: 36.5ms\n",
      "30:\tlearn: 13.0017280\ttotal: 40.9ms\tremaining: 25.1ms\n",
      "40:\tlearn: 11.5258741\ttotal: 54.5ms\tremaining: 12ms\n",
      "49:\tlearn: 10.5507811\ttotal: 67ms\tremaining: 0us\n",
      "Learning rate set to 0.5\n",
      "0:\tlearn: 26.2468324\ttotal: 1.83ms\tremaining: 89.6ms\n",
      "10:\tlearn: 18.7813634\ttotal: 16.1ms\tremaining: 57.1ms\n",
      "20:\tlearn: 16.8944084\ttotal: 29.8ms\tremaining: 41.2ms\n",
      "30:\tlearn: 15.2080916\ttotal: 43.7ms\tremaining: 26.8ms\n",
      "40:\tlearn: 14.3939114\ttotal: 57.3ms\tremaining: 12.6ms\n",
      "49:\tlearn: 13.1811986\ttotal: 69.7ms\tremaining: 0us\n",
      "Learning rate set to 0.5\n",
      "0:\tlearn: 27.5714198\ttotal: 1.79ms\tremaining: 87.9ms\n",
      "10:\tlearn: 20.1375397\ttotal: 17.3ms\tremaining: 61.4ms\n",
      "20:\tlearn: 18.1102402\ttotal: 32.5ms\tremaining: 44.9ms\n",
      "30:\tlearn: 16.3587959\ttotal: 47.9ms\tremaining: 29.4ms\n",
      "40:\tlearn: 15.1812057\ttotal: 63ms\tremaining: 13.8ms\n",
      "49:\tlearn: 14.1071121\ttotal: 77.4ms\tremaining: 0us\n",
      "Learning rate set to 0.5\n",
      "0:\tlearn: 28.4021973\ttotal: 1.9ms\tremaining: 93.2ms\n",
      "10:\tlearn: 20.5915166\ttotal: 19.1ms\tremaining: 67.9ms\n",
      "20:\tlearn: 19.1271594\ttotal: 35.8ms\tremaining: 49.5ms\n",
      "30:\tlearn: 17.8157958\ttotal: 52.5ms\tremaining: 32.2ms\n",
      "40:\tlearn: 16.8037058\ttotal: 68.9ms\tremaining: 15.1ms\n",
      "49:\tlearn: 16.2147623\ttotal: 83.9ms\tremaining: 0us\n",
      "Learning rate set to 0.24476\n",
      "0:\tlearn: 26.7138291\ttotal: 1.32ms\tremaining: 130ms\n",
      "10:\tlearn: 17.1577520\ttotal: 13.2ms\tremaining: 107ms\n",
      "20:\tlearn: 15.4784701\ttotal: 23.6ms\tremaining: 89ms\n",
      "30:\tlearn: 13.8908493\ttotal: 34.5ms\tremaining: 76.9ms\n",
      "40:\tlearn: 12.5963353\ttotal: 45.5ms\tremaining: 65.5ms\n",
      "50:\tlearn: 11.4095305\ttotal: 56.6ms\tremaining: 54.4ms\n",
      "60:\tlearn: 10.3458116\ttotal: 67ms\tremaining: 42.9ms\n",
      "70:\tlearn: 9.5497868\ttotal: 77.3ms\tremaining: 31.6ms\n",
      "80:\tlearn: 8.7940464\ttotal: 88.3ms\tremaining: 20.7ms\n",
      "90:\tlearn: 8.1457928\ttotal: 99.2ms\tremaining: 9.81ms\n",
      "99:\tlearn: 7.4624740\ttotal: 109ms\tremaining: 0us\n",
      "Learning rate set to 0.272979\n",
      "0:\tlearn: 27.5133277\ttotal: 1.52ms\tremaining: 151ms\n",
      "10:\tlearn: 18.6765181\ttotal: 14.1ms\tremaining: 114ms\n",
      "20:\tlearn: 16.9993184\ttotal: 26.5ms\tremaining: 99.6ms\n",
      "30:\tlearn: 15.5430475\ttotal: 38.4ms\tremaining: 85.5ms\n",
      "40:\tlearn: 14.2740298\ttotal: 51.1ms\tremaining: 73.6ms\n",
      "50:\tlearn: 13.4937389\ttotal: 63.2ms\tremaining: 60.7ms\n",
      "60:\tlearn: 12.7254405\ttotal: 75.6ms\tremaining: 48.4ms\n",
      "70:\tlearn: 11.9465204\ttotal: 88.2ms\tremaining: 36ms\n",
      "80:\tlearn: 11.3012469\ttotal: 100ms\tremaining: 23.6ms\n",
      "90:\tlearn: 10.6872168\ttotal: 113ms\tremaining: 11.1ms\n",
      "99:\tlearn: 10.3209345\ttotal: 124ms\tremaining: 0us\n",
      "Learning rate set to 0.291\n",
      "0:\tlearn: 28.1265353\ttotal: 1.56ms\tremaining: 155ms\n",
      "10:\tlearn: 19.9408574\ttotal: 16.2ms\tremaining: 131ms\n",
      "20:\tlearn: 18.6892028\ttotal: 30.1ms\tremaining: 113ms\n",
      "30:\tlearn: 17.3756799\ttotal: 43.8ms\tremaining: 97.5ms\n",
      "40:\tlearn: 16.3166350\ttotal: 57.9ms\tremaining: 83.4ms\n",
      "50:\tlearn: 15.3977793\ttotal: 71.7ms\tremaining: 68.9ms\n",
      "60:\tlearn: 14.5910746\ttotal: 85.4ms\tremaining: 54.6ms\n",
      "70:\tlearn: 13.8635769\ttotal: 101ms\tremaining: 41.2ms\n",
      "80:\tlearn: 13.2796752\ttotal: 118ms\tremaining: 27.8ms\n",
      "90:\tlearn: 12.6962947\ttotal: 133ms\tremaining: 13.2ms\n",
      "99:\tlearn: 12.2831515\ttotal: 145ms\tremaining: 0us\n",
      "Learning rate set to 0.304511\n",
      "0:\tlearn: 29.3216849\ttotal: 2.49ms\tremaining: 247ms\n",
      "10:\tlearn: 20.9241578\ttotal: 22.1ms\tremaining: 179ms\n",
      "20:\tlearn: 19.5612447\ttotal: 41.6ms\tremaining: 156ms\n",
      "30:\tlearn: 18.1837204\ttotal: 59.7ms\tremaining: 133ms\n",
      "40:\tlearn: 16.9145204\ttotal: 75.6ms\tremaining: 109ms\n",
      "50:\tlearn: 16.0402589\ttotal: 90.9ms\tremaining: 87.4ms\n",
      "60:\tlearn: 15.4045270\ttotal: 106ms\tremaining: 67.7ms\n",
      "70:\tlearn: 14.7331117\ttotal: 121ms\tremaining: 49.5ms\n",
      "80:\tlearn: 14.0228431\ttotal: 136ms\tremaining: 31.9ms\n",
      "90:\tlearn: 13.5435343\ttotal: 152ms\tremaining: 15ms\n",
      "99:\tlearn: 13.1711639\ttotal: 165ms\tremaining: 0us\n",
      "Learning rate set to 0.315426\n",
      "0:\tlearn: 30.0934586\ttotal: 2.39ms\tremaining: 237ms\n",
      "10:\tlearn: 21.5994176\ttotal: 19.9ms\tremaining: 161ms\n",
      "20:\tlearn: 20.0757286\ttotal: 36.6ms\tremaining: 138ms\n",
      "30:\tlearn: 18.9611762\ttotal: 53.6ms\tremaining: 119ms\n",
      "40:\tlearn: 18.0465628\ttotal: 69.9ms\tremaining: 101ms\n",
      "50:\tlearn: 17.3315881\ttotal: 86.5ms\tremaining: 83.1ms\n",
      "60:\tlearn: 16.7024803\ttotal: 103ms\tremaining: 65.6ms\n",
      "70:\tlearn: 16.2625839\ttotal: 121ms\tremaining: 49.3ms\n",
      "80:\tlearn: 15.5657011\ttotal: 139ms\tremaining: 32.6ms\n",
      "90:\tlearn: 15.1231079\ttotal: 156ms\tremaining: 15.4ms\n",
      "99:\tlearn: 14.7236043\ttotal: 172ms\tremaining: 0us\n",
      "Learning rate set to 0.43001\n",
      "0:\tlearn: 24.1211187\ttotal: 4.19ms\tremaining: 205ms\n",
      "10:\tlearn: 13.1940177\ttotal: 32.2ms\tremaining: 114ms\n",
      "20:\tlearn: 9.8440222\ttotal: 60.4ms\tremaining: 83.3ms\n",
      "30:\tlearn: 7.6018048\ttotal: 87.8ms\tremaining: 53.8ms\n",
      "40:\tlearn: 5.9678269\ttotal: 114ms\tremaining: 25.1ms\n",
      "49:\tlearn: 4.7127225\ttotal: 139ms\tremaining: 0us\n",
      "Learning rate set to 0.479585\n",
      "0:\tlearn: 24.3281451\ttotal: 4.06ms\tremaining: 199ms\n",
      "10:\tlearn: 15.0745767\ttotal: 34.6ms\tremaining: 123ms\n",
      "20:\tlearn: 12.2907794\ttotal: 64.1ms\tremaining: 88.5ms\n",
      "30:\tlearn: 9.9288382\ttotal: 98ms\tremaining: 60.1ms\n",
      "40:\tlearn: 8.4820893\ttotal: 132ms\tremaining: 29ms\n",
      "49:\tlearn: 7.1961330\ttotal: 163ms\tremaining: 0us\n",
      "Learning rate set to 0.5\n",
      "0:\tlearn: 25.4819359\ttotal: 5.37ms\tremaining: 263ms\n",
      "10:\tlearn: 17.4236555\ttotal: 39.4ms\tremaining: 140ms\n",
      "20:\tlearn: 14.8729402\ttotal: 72.5ms\tremaining: 100ms\n",
      "30:\tlearn: 12.3026285\ttotal: 106ms\tremaining: 64.7ms\n",
      "40:\tlearn: 10.8154043\ttotal: 138ms\tremaining: 30.4ms\n",
      "49:\tlearn: 9.9095021\ttotal: 167ms\tremaining: 0us\n",
      "Learning rate set to 0.5\n",
      "0:\tlearn: 27.5158176\ttotal: 4.76ms\tremaining: 233ms\n",
      "10:\tlearn: 18.2119307\ttotal: 42ms\tremaining: 149ms\n",
      "20:\tlearn: 15.6521724\ttotal: 80.3ms\tremaining: 111ms\n",
      "30:\tlearn: 13.7575163\ttotal: 124ms\tremaining: 76.1ms\n",
      "40:\tlearn: 12.0557335\ttotal: 160ms\tremaining: 35.2ms\n",
      "49:\tlearn: 10.9110795\ttotal: 191ms\tremaining: 0us\n",
      "Learning rate set to 0.5\n",
      "0:\tlearn: 28.2993808\ttotal: 4.69ms\tremaining: 230ms\n",
      "10:\tlearn: 19.6266392\ttotal: 42.7ms\tremaining: 152ms\n",
      "20:\tlearn: 16.9525507\ttotal: 82.2ms\tremaining: 114ms\n",
      "30:\tlearn: 15.1776022\ttotal: 123ms\tremaining: 75.6ms\n",
      "40:\tlearn: 13.9277714\ttotal: 161ms\tremaining: 35.3ms\n",
      "49:\tlearn: 13.0913438\ttotal: 193ms\tremaining: 0us\n",
      "Learning rate set to 0.24476\n",
      "0:\tlearn: 26.5333735\ttotal: 2.75ms\tremaining: 272ms\n",
      "10:\tlearn: 15.3563721\ttotal: 27.9ms\tremaining: 226ms\n",
      "20:\tlearn: 12.7828388\ttotal: 52.4ms\tremaining: 197ms\n",
      "30:\tlearn: 10.9915588\ttotal: 78.5ms\tremaining: 175ms\n",
      "40:\tlearn: 9.4354965\ttotal: 104ms\tremaining: 150ms\n",
      "50:\tlearn: 8.3668355\ttotal: 129ms\tremaining: 124ms\n",
      "60:\tlearn: 7.3846805\ttotal: 156ms\tremaining: 99.6ms\n",
      "70:\tlearn: 6.4516357\ttotal: 183ms\tremaining: 74.8ms\n",
      "80:\tlearn: 5.6860344\ttotal: 211ms\tremaining: 49.6ms\n",
      "90:\tlearn: 5.0713332\ttotal: 237ms\tremaining: 23.5ms\n",
      "99:\tlearn: 4.5763010\ttotal: 261ms\tremaining: 0us\n",
      "Learning rate set to 0.272979\n",
      "0:\tlearn: 26.3625230\ttotal: 3.36ms\tremaining: 332ms\n",
      "10:\tlearn: 16.7091063\ttotal: 34ms\tremaining: 275ms\n",
      "20:\tlearn: 14.4971782\ttotal: 64.1ms\tremaining: 241ms\n",
      "30:\tlearn: 12.9836425\ttotal: 96ms\tremaining: 214ms\n",
      "40:\tlearn: 11.5452255\ttotal: 127ms\tremaining: 182ms\n",
      "50:\tlearn: 10.5694078\ttotal: 158ms\tremaining: 151ms\n",
      "60:\tlearn: 9.6944008\ttotal: 188ms\tremaining: 120ms\n",
      "70:\tlearn: 8.6818010\ttotal: 217ms\tremaining: 88.7ms\n",
      "80:\tlearn: 8.1361337\ttotal: 246ms\tremaining: 57.7ms\n",
      "90:\tlearn: 7.5460420\ttotal: 275ms\tremaining: 27.2ms\n",
      "99:\tlearn: 7.0741440\ttotal: 301ms\tremaining: 0us\n",
      "Learning rate set to 0.291\n",
      "0:\tlearn: 27.6685413\ttotal: 3.89ms\tremaining: 385ms\n",
      "10:\tlearn: 18.5991305\ttotal: 37.3ms\tremaining: 302ms\n",
      "20:\tlearn: 16.5050739\ttotal: 70.2ms\tremaining: 264ms\n",
      "30:\tlearn: 14.8937479\ttotal: 105ms\tremaining: 234ms\n",
      "40:\tlearn: 13.6525230\ttotal: 142ms\tremaining: 205ms\n",
      "50:\tlearn: 12.5337465\ttotal: 175ms\tremaining: 169ms\n",
      "60:\tlearn: 11.5433262\ttotal: 208ms\tremaining: 133ms\n",
      "70:\tlearn: 10.7119416\ttotal: 241ms\tremaining: 98.5ms\n",
      "80:\tlearn: 10.0359187\ttotal: 274ms\tremaining: 64.3ms\n",
      "90:\tlearn: 9.5420400\ttotal: 307ms\tremaining: 30.4ms\n",
      "99:\tlearn: 8.9634622\ttotal: 344ms\tremaining: 0us\n",
      "Learning rate set to 0.304511\n",
      "0:\tlearn: 29.2988026\ttotal: 4ms\tremaining: 396ms\n",
      "10:\tlearn: 19.5496664\ttotal: 42.5ms\tremaining: 344ms\n",
      "20:\tlearn: 17.4387491\ttotal: 80.7ms\tremaining: 303ms\n",
      "30:\tlearn: 16.0219473\ttotal: 129ms\tremaining: 287ms\n",
      "40:\tlearn: 14.6890748\ttotal: 168ms\tremaining: 241ms\n",
      "50:\tlearn: 13.4804002\ttotal: 216ms\tremaining: 207ms\n",
      "60:\tlearn: 12.7041789\ttotal: 263ms\tremaining: 168ms\n",
      "70:\tlearn: 11.9053256\ttotal: 304ms\tremaining: 124ms\n",
      "80:\tlearn: 11.1380404\ttotal: 344ms\tremaining: 80.7ms\n",
      "90:\tlearn: 10.2516988\ttotal: 390ms\tremaining: 38.5ms\n",
      "99:\tlearn: 9.6536722\ttotal: 426ms\tremaining: 0us\n",
      "Learning rate set to 0.315426\n",
      "0:\tlearn: 30.0371259\ttotal: 5.42ms\tremaining: 536ms\n",
      "10:\tlearn: 20.3838993\ttotal: 49.6ms\tremaining: 401ms\n",
      "20:\tlearn: 18.6497494\ttotal: 93.1ms\tremaining: 350ms\n",
      "30:\tlearn: 17.1819188\ttotal: 132ms\tremaining: 294ms\n",
      "40:\tlearn: 15.8412293\ttotal: 170ms\tremaining: 245ms\n",
      "50:\tlearn: 14.7767190\ttotal: 210ms\tremaining: 202ms\n",
      "60:\tlearn: 14.0341132\ttotal: 248ms\tremaining: 159ms\n",
      "70:\tlearn: 13.2988233\ttotal: 286ms\tremaining: 117ms\n",
      "80:\tlearn: 12.5820406\ttotal: 323ms\tremaining: 75.7ms\n",
      "90:\tlearn: 11.8994098\ttotal: 367ms\tremaining: 36.3ms\n",
      "99:\tlearn: 11.3042731\ttotal: 407ms\tremaining: 0us\n",
      "Learning rate set to 0.43001\n",
      "0:\tlearn: 25.3922652\ttotal: 17.5ms\tremaining: 858ms\n",
      "10:\tlearn: 10.2398306\ttotal: 181ms\tremaining: 641ms\n",
      "20:\tlearn: 6.5585782\ttotal: 319ms\tremaining: 441ms\n",
      "30:\tlearn: 4.0520598\ttotal: 480ms\tremaining: 294ms\n",
      "40:\tlearn: 2.8035229\ttotal: 657ms\tremaining: 144ms\n",
      "49:\tlearn: 1.9184935\ttotal: 834ms\tremaining: 0us\n",
      "Learning rate set to 0.479585\n",
      "0:\tlearn: 24.7645228\ttotal: 16.5ms\tremaining: 810ms\n",
      "10:\tlearn: 11.5134230\ttotal: 181ms\tremaining: 643ms\n",
      "20:\tlearn: 8.2410841\ttotal: 343ms\tremaining: 474ms\n",
      "30:\tlearn: 6.1015005\ttotal: 504ms\tremaining: 309ms\n",
      "40:\tlearn: 4.4304528\ttotal: 675ms\tremaining: 148ms\n",
      "49:\tlearn: 3.5638243\ttotal: 824ms\tremaining: 0us\n",
      "Learning rate set to 0.5\n",
      "0:\tlearn: 25.3438422\ttotal: 19.3ms\tremaining: 947ms\n",
      "10:\tlearn: 13.8043014\ttotal: 214ms\tremaining: 760ms\n",
      "20:\tlearn: 10.7802403\ttotal: 431ms\tremaining: 596ms\n",
      "30:\tlearn: 7.9145260\ttotal: 645ms\tremaining: 395ms\n",
      "40:\tlearn: 6.1022594\ttotal: 881ms\tremaining: 193ms\n",
      "49:\tlearn: 4.9015320\ttotal: 1.08s\tremaining: 0us\n",
      "Learning rate set to 0.5\n",
      "0:\tlearn: 27.5681305\ttotal: 23.8ms\tremaining: 1.16s\n",
      "10:\tlearn: 15.4356962\ttotal: 257ms\tremaining: 911ms\n",
      "20:\tlearn: 11.6928465\ttotal: 457ms\tremaining: 631ms\n",
      "30:\tlearn: 9.4706823\ttotal: 657ms\tremaining: 403ms\n",
      "40:\tlearn: 7.6700206\ttotal: 854ms\tremaining: 187ms\n",
      "49:\tlearn: 6.0217047\ttotal: 1.06s\tremaining: 0us\n",
      "Learning rate set to 0.5\n",
      "0:\tlearn: 28.1597340\ttotal: 21.4ms\tremaining: 1.05s\n",
      "10:\tlearn: 16.7269744\ttotal: 249ms\tremaining: 883ms\n",
      "20:\tlearn: 13.1442197\ttotal: 482ms\tremaining: 665ms\n",
      "30:\tlearn: 10.8889343\ttotal: 669ms\tremaining: 410ms\n",
      "40:\tlearn: 8.8025283\ttotal: 872ms\tremaining: 191ms\n",
      "49:\tlearn: 7.5576381\ttotal: 1.06s\tremaining: 0us\n",
      "Learning rate set to 0.24476\n",
      "0:\tlearn: 27.3400620\ttotal: 16ms\tremaining: 1.58s\n",
      "10:\tlearn: 13.8001052\ttotal: 172ms\tremaining: 1.39s\n",
      "20:\tlearn: 9.9555832\ttotal: 321ms\tremaining: 1.21s\n",
      "30:\tlearn: 7.7186350\ttotal: 474ms\tremaining: 1.05s\n",
      "40:\tlearn: 6.3621785\ttotal: 642ms\tremaining: 924ms\n",
      "50:\tlearn: 4.9744228\ttotal: 801ms\tremaining: 770ms\n",
      "60:\tlearn: 4.0282654\ttotal: 954ms\tremaining: 610ms\n",
      "70:\tlearn: 3.1448071\ttotal: 1.11s\tremaining: 453ms\n",
      "80:\tlearn: 2.4516266\ttotal: 1.26s\tremaining: 295ms\n",
      "90:\tlearn: 1.9478499\ttotal: 1.4s\tremaining: 139ms\n",
      "99:\tlearn: 1.6742269\ttotal: 1.54s\tremaining: 0us\n",
      "Learning rate set to 0.272979\n",
      "0:\tlearn: 26.7011530\ttotal: 22.4ms\tremaining: 2.22s\n",
      "10:\tlearn: 14.5779703\ttotal: 193ms\tremaining: 1.56s\n",
      "20:\tlearn: 11.2887456\ttotal: 362ms\tremaining: 1.36s\n",
      "30:\tlearn: 9.2613220\ttotal: 527ms\tremaining: 1.17s\n",
      "40:\tlearn: 7.5275138\ttotal: 705ms\tremaining: 1.01s\n",
      "50:\tlearn: 5.9821926\ttotal: 889ms\tremaining: 854ms\n",
      "60:\tlearn: 5.0717066\ttotal: 1.05s\tremaining: 671ms\n",
      "70:\tlearn: 4.4220945\ttotal: 1.23s\tremaining: 501ms\n",
      "80:\tlearn: 3.8154629\ttotal: 1.42s\tremaining: 333ms\n",
      "90:\tlearn: 3.3030357\ttotal: 1.58s\tremaining: 156ms\n",
      "99:\tlearn: 2.8499150\ttotal: 1.73s\tremaining: 0us\n",
      "Learning rate set to 0.291\n",
      "0:\tlearn: 27.6506442\ttotal: 18.5ms\tremaining: 1.83s\n",
      "10:\tlearn: 16.1673354\ttotal: 212ms\tremaining: 1.71s\n",
      "20:\tlearn: 13.2003410\ttotal: 414ms\tremaining: 1.56s\n",
      "30:\tlearn: 11.1163257\ttotal: 598ms\tremaining: 1.33s\n",
      "40:\tlearn: 9.2097122\ttotal: 776ms\tremaining: 1.12s\n",
      "50:\tlearn: 7.7583423\ttotal: 959ms\tremaining: 921ms\n",
      "60:\tlearn: 6.8403090\ttotal: 1.15s\tremaining: 732ms\n",
      "70:\tlearn: 6.0490044\ttotal: 1.32s\tremaining: 541ms\n",
      "80:\tlearn: 5.1638898\ttotal: 1.51s\tremaining: 354ms\n",
      "90:\tlearn: 4.5956590\ttotal: 1.69s\tremaining: 168ms\n",
      "99:\tlearn: 4.0975217\ttotal: 1.86s\tremaining: 0us\n",
      "Learning rate set to 0.304511\n",
      "0:\tlearn: 29.4086081\ttotal: 19.5ms\tremaining: 1.93s\n",
      "10:\tlearn: 17.0997246\ttotal: 215ms\tremaining: 1.74s\n",
      "20:\tlearn: 14.4064711\ttotal: 420ms\tremaining: 1.58s\n",
      "30:\tlearn: 12.0684137\ttotal: 643ms\tremaining: 1.43s\n",
      "40:\tlearn: 10.6783932\ttotal: 863ms\tremaining: 1.24s\n",
      "50:\tlearn: 9.2188880\ttotal: 1.08s\tremaining: 1.03s\n",
      "60:\tlearn: 7.8332186\ttotal: 1.3s\tremaining: 830ms\n",
      "70:\tlearn: 6.6492771\ttotal: 1.5s\tremaining: 615ms\n",
      "80:\tlearn: 5.8595423\ttotal: 1.71s\tremaining: 402ms\n",
      "90:\tlearn: 5.0639523\ttotal: 1.92s\tremaining: 190ms\n",
      "99:\tlearn: 4.5554539\ttotal: 2.1s\tremaining: 0us\n",
      "Learning rate set to 0.315426\n",
      "0:\tlearn: 30.0134146\ttotal: 20.5ms\tremaining: 2.03s\n",
      "10:\tlearn: 17.9751970\ttotal: 227ms\tremaining: 1.83s\n",
      "20:\tlearn: 15.5542297\ttotal: 432ms\tremaining: 1.62s\n",
      "30:\tlearn: 13.3486536\ttotal: 638ms\tremaining: 1.42s\n",
      "40:\tlearn: 12.0974246\ttotal: 828ms\tremaining: 1.19s\n",
      "50:\tlearn: 10.5640568\ttotal: 1.04s\tremaining: 996ms\n",
      "60:\tlearn: 9.3803516\ttotal: 1.24s\tremaining: 792ms\n",
      "70:\tlearn: 8.0504019\ttotal: 1.44s\tremaining: 590ms\n",
      "80:\tlearn: 7.0540844\ttotal: 1.65s\tremaining: 387ms\n",
      "90:\tlearn: 6.3571364\ttotal: 1.87s\tremaining: 185ms\n",
      "99:\tlearn: 5.6791778\ttotal: 2.06s\tremaining: 0us\n",
      "Learning rate set to 0.324636\n",
      "0:\tlearn: 30.6135823\ttotal: 2.1ms\tremaining: 208ms\n",
      "10:\tlearn: 22.2864041\ttotal: 19.4ms\tremaining: 157ms\n",
      "20:\tlearn: 21.1169155\ttotal: 35.8ms\tremaining: 135ms\n",
      "30:\tlearn: 19.9742750\ttotal: 52.9ms\tremaining: 118ms\n",
      "40:\tlearn: 19.0394271\ttotal: 71.4ms\tremaining: 103ms\n",
      "50:\tlearn: 18.3638165\ttotal: 88.4ms\tremaining: 84.9ms\n",
      "60:\tlearn: 17.8369592\ttotal: 105ms\tremaining: 67ms\n",
      "70:\tlearn: 17.3086348\ttotal: 122ms\tremaining: 49.9ms\n",
      "80:\tlearn: 16.8081790\ttotal: 140ms\tremaining: 32.8ms\n",
      "90:\tlearn: 16.2901562\ttotal: 158ms\tremaining: 15.6ms\n",
      "99:\tlearn: 15.9615494\ttotal: 173ms\tremaining: 0us\n",
      "Best hyperparams:  {'max_depth': 5, 'n_estimators': 100, 'random_state': 12345, 'verbose': 0}\n",
      "RMSE score on train sample: 25.12\n",
      "CPU times: user 18.5 s, sys: 410 ms, total: 18.9 s\n",
      "Wall time: 36.6 s\n"
     ]
    }
   ],
   "source": [
    "%%time\n",
    "catb_params = catboost_regr(features_train, target_train)"
   ]
  },
  {
   "cell_type": "code",
   "execution_count": 20,
   "metadata": {},
   "outputs": [
    {
     "name": "stdout",
     "output_type": "stream",
     "text": [
      "Learning rate set to 0.324636\n",
      "0:\tlearn: 30.6135823\ttotal: 2.08ms\tremaining: 206ms\n",
      "10:\tlearn: 22.2864041\ttotal: 21.7ms\tremaining: 176ms\n",
      "20:\tlearn: 21.1169155\ttotal: 39.9ms\tremaining: 150ms\n",
      "30:\tlearn: 19.9742750\ttotal: 58ms\tremaining: 129ms\n",
      "40:\tlearn: 19.0394271\ttotal: 76.7ms\tremaining: 110ms\n",
      "50:\tlearn: 18.3638165\ttotal: 94.1ms\tremaining: 90.4ms\n",
      "60:\tlearn: 17.8369592\ttotal: 111ms\tremaining: 70.9ms\n",
      "70:\tlearn: 17.3086348\ttotal: 128ms\tremaining: 52.3ms\n",
      "80:\tlearn: 16.8081790\ttotal: 146ms\tremaining: 34.2ms\n",
      "90:\tlearn: 16.2901562\ttotal: 163ms\tremaining: 16.1ms\n",
      "99:\tlearn: 15.9615494\ttotal: 179ms\tremaining: 0us\n",
      "CPU times: user 206 ms, sys: 3.08 ms, total: 209 ms\n",
      "Wall time: 834 ms\n"
     ]
    },
    {
     "data": {
      "text/plain": [
       "<catboost.core.CatBoostRegressor at 0x7f56f8a474f0>"
      ]
     },
     "execution_count": 20,
     "metadata": {},
     "output_type": "execute_result"
    }
   ],
   "source": [
    "%%time\n",
    "catb_model = CatBoostRegressor(**catb_params)\n",
    "catb_model.fit(features_train, target_train, verbose=10)"
   ]
  },
  {
   "cell_type": "markdown",
   "metadata": {},
   "source": [
    "Оценим RMSE."
   ]
  },
  {
   "cell_type": "code",
   "execution_count": 21,
   "metadata": {},
   "outputs": [
    {
     "name": "stdout",
     "output_type": "stream",
     "text": [
      "Valid RMSE : 54.39 \n",
      "CPU times: user 0 ns, sys: 3.58 ms, total: 3.58 ms\n",
      "Wall time: 2.53 ms\n"
     ]
    }
   ],
   "source": [
    "%%time\n",
    "catb_pred = catb_model.predict(features_valid)\n",
    "print('Valid RMSE : {:.2f} '.format(mse(target_valid, catb_pred)**0.5))"
   ]
  },
  {
   "cell_type": "markdown",
   "metadata": {},
   "source": [
    "**Вывод:**\n",
    "\n",
    "В ходе обучения мы обучили четыре различных модели, оценили их по RSME. Лучше других себя показала модель линейной регрессии, протестируем её на тестовой выборке."
   ]
  },
  {
   "cell_type": "markdown",
   "metadata": {},
   "source": [
    "## Тестирование"
   ]
  },
  {
   "cell_type": "markdown",
   "metadata": {},
   "source": [
    "Протестируем модель линейной регрессии."
   ]
  },
  {
   "cell_type": "code",
   "execution_count": 45,
   "metadata": {},
   "outputs": [
    {
     "name": "stdout",
     "output_type": "stream",
     "text": [
      "RMSE : 40.39\n",
      "CPU times: user 10.2 ms, sys: 3.85 ms, total: 14.1 ms\n",
      "Wall time: 7.56 ms\n"
     ]
    }
   ],
   "source": [
    "%%time\n",
    "model = LinearRegression()\n",
    "model.fit(features_train, target_train)\n",
    "lnr_pred = model.predict(features_test)\n",
    "print('RMSE : {:.2f}'.format(mse(target_test, lnr_pred)**0.5))"
   ]
  },
  {
   "cell_type": "markdown",
   "metadata": {},
   "source": [
    "Мы видим, что значение RSME допустимое, 40.39, что подходит под условия проекта."
   ]
  },
  {
   "cell_type": "markdown",
   "metadata": {},
   "source": [
    "## Вывод"
   ]
  },
  {
   "cell_type": "markdown",
   "metadata": {},
   "source": [
    "Итак, в ходе выполнения проекта мы: \n",
    "1. изучили общую информацию о датасете\n",
    "2. ресемплировали данные по часу\n",
    "3. проанализировали данные и выявили восходящий тренд, а также если рассматривать сезонность на примере одного случайно выбранного дня, то в 6:00 часов самое минимальное количество заказов такси, а после 18:00 часов оно начинает расти и достигает своего пика в 00:00 часов \n",
    "4. обучили две модели и выбрали из них наилучшую\n",
    "5. протестировали модель"
   ]
  }
 ],
 "metadata": {
  "ExecuteTimeLog": [
   {
    "duration": 1703,
    "start_time": "2022-08-30T18:14:33.029Z"
   },
   {
    "duration": 111,
    "start_time": "2022-08-30T18:15:32.341Z"
   },
   {
    "duration": 16,
    "start_time": "2022-08-30T18:16:21.987Z"
   },
   {
    "duration": 8,
    "start_time": "2022-08-30T18:24:08.616Z"
   },
   {
    "duration": 15,
    "start_time": "2022-08-30T18:24:38.486Z"
   },
   {
    "duration": 13,
    "start_time": "2022-08-30T18:25:34.072Z"
   },
   {
    "duration": 9,
    "start_time": "2022-08-30T18:29:24.122Z"
   },
   {
    "duration": 43,
    "start_time": "2022-08-30T18:30:00.080Z"
   },
   {
    "duration": 10,
    "start_time": "2022-08-30T18:30:01.990Z"
   },
   {
    "duration": 5,
    "start_time": "2022-08-30T18:30:07.842Z"
   },
   {
    "duration": 6,
    "start_time": "2022-08-30T18:30:08.802Z"
   },
   {
    "duration": 7,
    "start_time": "2022-08-30T18:30:10.824Z"
   },
   {
    "duration": 1328,
    "start_time": "2022-08-30T18:30:12.785Z"
   },
   {
    "duration": 1343,
    "start_time": "2022-08-30T18:31:31.526Z"
   },
   {
    "duration": 45,
    "start_time": "2022-08-30T18:31:32.871Z"
   },
   {
    "duration": 9,
    "start_time": "2022-08-30T18:31:32.995Z"
   },
   {
    "duration": 9,
    "start_time": "2022-08-30T18:31:34.403Z"
   },
   {
    "duration": 6,
    "start_time": "2022-08-30T18:31:35.150Z"
   },
   {
    "duration": 10,
    "start_time": "2022-08-30T18:31:35.879Z"
   },
   {
    "duration": 1155,
    "start_time": "2022-08-30T18:31:36.619Z"
   },
   {
    "duration": 4,
    "start_time": "2022-08-30T18:32:56.123Z"
   },
   {
    "duration": 39,
    "start_time": "2022-08-30T18:32:56.555Z"
   },
   {
    "duration": 1265,
    "start_time": "2022-08-30T18:33:01.824Z"
   },
   {
    "duration": 0,
    "start_time": "2022-08-30T18:33:03.090Z"
   },
   {
    "duration": 0,
    "start_time": "2022-08-30T18:33:03.091Z"
   },
   {
    "duration": 10,
    "start_time": "2022-08-30T18:33:03.186Z"
   },
   {
    "duration": 273,
    "start_time": "2022-08-30T18:33:12.683Z"
   },
   {
    "duration": 45,
    "start_time": "2022-08-30T18:33:14.916Z"
   },
   {
    "duration": 13,
    "start_time": "2022-08-30T18:33:15.577Z"
   },
   {
    "duration": 8,
    "start_time": "2022-08-30T18:33:16.413Z"
   },
   {
    "duration": 12,
    "start_time": "2022-08-30T18:33:16.967Z"
   },
   {
    "duration": 10,
    "start_time": "2022-08-30T18:33:17.370Z"
   },
   {
    "duration": 10,
    "start_time": "2022-08-30T18:33:19.003Z"
   },
   {
    "duration": 3,
    "start_time": "2022-08-30T18:34:19.912Z"
   },
   {
    "duration": 8,
    "start_time": "2022-08-30T18:34:51.811Z"
   },
   {
    "duration": 3,
    "start_time": "2022-08-30T18:37:23.671Z"
   },
   {
    "duration": 4,
    "start_time": "2022-08-30T18:38:24.106Z"
   },
   {
    "duration": 5,
    "start_time": "2022-08-30T18:41:19.079Z"
   },
   {
    "duration": 17,
    "start_time": "2022-08-30T18:47:08.584Z"
   },
   {
    "duration": 9,
    "start_time": "2022-08-30T18:47:13.082Z"
   },
   {
    "duration": 1485,
    "start_time": "2022-08-30T18:47:23.683Z"
   },
   {
    "duration": 40,
    "start_time": "2022-08-30T18:47:25.170Z"
   },
   {
    "duration": 11,
    "start_time": "2022-08-30T18:47:25.212Z"
   },
   {
    "duration": 32,
    "start_time": "2022-08-30T18:47:25.224Z"
   },
   {
    "duration": 33,
    "start_time": "2022-08-30T18:47:25.257Z"
   },
   {
    "duration": 13,
    "start_time": "2022-08-30T18:47:25.291Z"
   },
   {
    "duration": 29,
    "start_time": "2022-08-30T18:47:25.306Z"
   },
   {
    "duration": 4,
    "start_time": "2022-08-30T18:47:25.511Z"
   },
   {
    "duration": 3,
    "start_time": "2022-08-30T18:47:25.705Z"
   },
   {
    "duration": 4,
    "start_time": "2022-08-30T18:47:26.310Z"
   },
   {
    "duration": 8,
    "start_time": "2022-08-30T18:47:26.895Z"
   },
   {
    "duration": 264,
    "start_time": "2022-08-30T18:50:08.446Z"
   },
   {
    "duration": 6,
    "start_time": "2022-08-30T18:51:44.705Z"
   },
   {
    "duration": 354,
    "start_time": "2022-08-30T18:51:45.121Z"
   },
   {
    "duration": 367,
    "start_time": "2022-08-30T18:53:33.961Z"
   },
   {
    "duration": 230,
    "start_time": "2022-08-30T18:53:39.036Z"
   },
   {
    "duration": 355,
    "start_time": "2022-08-30T18:53:41.976Z"
   },
   {
    "duration": 9,
    "start_time": "2022-08-30T18:57:52.738Z"
   },
   {
    "duration": 4,
    "start_time": "2022-08-30T19:03:29.692Z"
   },
   {
    "duration": 6,
    "start_time": "2022-08-30T19:03:49.538Z"
   },
   {
    "duration": 6,
    "start_time": "2022-08-30T19:05:29.576Z"
   },
   {
    "duration": 6,
    "start_time": "2022-08-30T19:06:18.468Z"
   },
   {
    "duration": 308,
    "start_time": "2022-08-30T19:06:55.440Z"
   },
   {
    "duration": 178,
    "start_time": "2022-08-30T19:16:04.556Z"
   },
   {
    "duration": 38,
    "start_time": "2022-08-30T19:16:26.259Z"
   },
   {
    "duration": 54,
    "start_time": "2022-08-30T19:16:31.605Z"
   },
   {
    "duration": 28,
    "start_time": "2022-08-30T19:16:52.509Z"
   },
   {
    "duration": 25,
    "start_time": "2022-08-30T19:17:36.357Z"
   },
   {
    "duration": 165,
    "start_time": "2022-08-30T19:19:15.309Z"
   },
   {
    "duration": 20,
    "start_time": "2022-08-30T19:19:40.589Z"
   },
   {
    "duration": 13,
    "start_time": "2022-08-30T19:19:46.884Z"
   },
   {
    "duration": 22,
    "start_time": "2022-08-30T19:19:53.392Z"
   },
   {
    "duration": 1576,
    "start_time": "2022-08-30T19:20:35.078Z"
   },
   {
    "duration": 43,
    "start_time": "2022-08-30T19:20:36.657Z"
   },
   {
    "duration": 16,
    "start_time": "2022-08-30T19:20:36.702Z"
   },
   {
    "duration": 8,
    "start_time": "2022-08-30T19:20:36.720Z"
   },
   {
    "duration": 16,
    "start_time": "2022-08-30T19:20:36.729Z"
   },
   {
    "duration": 11,
    "start_time": "2022-08-30T19:20:36.747Z"
   },
   {
    "duration": 10,
    "start_time": "2022-08-30T19:20:36.930Z"
   },
   {
    "duration": 5,
    "start_time": "2022-08-30T19:20:37.258Z"
   },
   {
    "duration": 3,
    "start_time": "2022-08-30T19:20:37.487Z"
   },
   {
    "duration": 5,
    "start_time": "2022-08-30T19:20:37.886Z"
   },
   {
    "duration": 12,
    "start_time": "2022-08-30T19:20:38.270Z"
   },
   {
    "duration": 326,
    "start_time": "2022-08-30T19:20:39.806Z"
   },
   {
    "duration": 4,
    "start_time": "2022-08-30T19:20:40.781Z"
   },
   {
    "duration": 8,
    "start_time": "2022-08-30T19:20:41.648Z"
   },
   {
    "duration": 6,
    "start_time": "2022-08-30T19:20:42.316Z"
   },
   {
    "duration": 7,
    "start_time": "2022-08-30T19:20:43.058Z"
   },
   {
    "duration": 455,
    "start_time": "2022-08-30T19:20:43.863Z"
   },
   {
    "duration": 126,
    "start_time": "2022-08-30T19:20:44.946Z"
   },
   {
    "duration": 8,
    "start_time": "2022-08-30T19:21:15.185Z"
   },
   {
    "duration": 44,
    "start_time": "2022-08-30T19:21:15.619Z"
   },
   {
    "duration": 13,
    "start_time": "2022-08-30T19:21:15.991Z"
   },
   {
    "duration": 9,
    "start_time": "2022-08-30T19:21:16.367Z"
   },
   {
    "duration": 1586,
    "start_time": "2022-08-30T19:21:25.112Z"
   },
   {
    "duration": 53,
    "start_time": "2022-08-30T19:21:26.700Z"
   },
   {
    "duration": 18,
    "start_time": "2022-08-30T19:21:26.755Z"
   },
   {
    "duration": 11,
    "start_time": "2022-08-30T19:21:26.776Z"
   },
   {
    "duration": 22,
    "start_time": "2022-08-30T19:21:26.789Z"
   },
   {
    "duration": 18,
    "start_time": "2022-08-30T19:21:27.132Z"
   },
   {
    "duration": 13,
    "start_time": "2022-08-30T19:21:27.552Z"
   },
   {
    "duration": 7,
    "start_time": "2022-08-30T19:21:28.031Z"
   },
   {
    "duration": 4,
    "start_time": "2022-08-30T19:21:28.315Z"
   },
   {
    "duration": 4,
    "start_time": "2022-08-30T19:21:28.692Z"
   },
   {
    "duration": 13,
    "start_time": "2022-08-30T19:21:29.101Z"
   },
   {
    "duration": 321,
    "start_time": "2022-08-30T19:21:29.931Z"
   },
   {
    "duration": 3,
    "start_time": "2022-08-30T19:21:30.361Z"
   },
   {
    "duration": 7,
    "start_time": "2022-08-30T19:21:30.851Z"
   },
   {
    "duration": 6,
    "start_time": "2022-08-30T19:21:31.267Z"
   },
   {
    "duration": 7,
    "start_time": "2022-08-30T19:21:31.727Z"
   },
   {
    "duration": 435,
    "start_time": "2022-08-30T19:21:32.159Z"
   },
   {
    "duration": 131,
    "start_time": "2022-08-30T19:21:33.073Z"
   },
   {
    "duration": 15,
    "start_time": "2022-08-30T19:23:33.384Z"
   },
   {
    "duration": 1908,
    "start_time": "2022-08-30T19:38:28.346Z"
   },
   {
    "duration": 51,
    "start_time": "2022-08-30T19:38:30.257Z"
   },
   {
    "duration": 18,
    "start_time": "2022-08-30T19:38:30.311Z"
   },
   {
    "duration": 19,
    "start_time": "2022-08-30T19:38:30.333Z"
   },
   {
    "duration": 31,
    "start_time": "2022-08-30T19:38:30.354Z"
   },
   {
    "duration": 18,
    "start_time": "2022-08-30T19:38:31.049Z"
   },
   {
    "duration": 15,
    "start_time": "2022-08-30T19:38:31.792Z"
   },
   {
    "duration": 5,
    "start_time": "2022-08-30T19:38:32.501Z"
   },
   {
    "duration": 4,
    "start_time": "2022-08-30T19:38:32.688Z"
   },
   {
    "duration": 17,
    "start_time": "2022-08-30T19:38:33.064Z"
   },
   {
    "duration": 14,
    "start_time": "2022-08-30T19:38:33.441Z"
   },
   {
    "duration": 474,
    "start_time": "2022-08-30T19:38:34.754Z"
   },
   {
    "duration": 4,
    "start_time": "2022-08-30T19:38:37.249Z"
   },
   {
    "duration": 9,
    "start_time": "2022-08-30T19:38:39.280Z"
   },
   {
    "duration": 9,
    "start_time": "2022-08-30T19:38:43.268Z"
   },
   {
    "duration": 541,
    "start_time": "2022-08-30T19:38:44.252Z"
   },
   {
    "duration": 232,
    "start_time": "2022-08-30T19:38:45.755Z"
   },
   {
    "duration": 1606,
    "start_time": "2022-08-30T19:38:58.377Z"
   },
   {
    "duration": 49,
    "start_time": "2022-08-30T19:38:59.985Z"
   },
   {
    "duration": 17,
    "start_time": "2022-08-30T19:39:00.037Z"
   },
   {
    "duration": 11,
    "start_time": "2022-08-30T19:39:00.057Z"
   },
   {
    "duration": 19,
    "start_time": "2022-08-30T19:39:00.070Z"
   },
   {
    "duration": 15,
    "start_time": "2022-08-30T19:39:00.091Z"
   },
   {
    "duration": 19,
    "start_time": "2022-08-30T19:39:00.108Z"
   },
   {
    "duration": 18,
    "start_time": "2022-08-30T19:39:00.130Z"
   },
   {
    "duration": 20,
    "start_time": "2022-08-30T19:39:00.150Z"
   },
   {
    "duration": 24,
    "start_time": "2022-08-30T19:39:00.173Z"
   },
   {
    "duration": 21,
    "start_time": "2022-08-30T19:39:00.199Z"
   },
   {
    "duration": 341,
    "start_time": "2022-08-30T19:39:00.223Z"
   },
   {
    "duration": 4,
    "start_time": "2022-08-30T19:39:00.920Z"
   },
   {
    "duration": 9,
    "start_time": "2022-08-30T19:39:01.000Z"
   },
   {
    "duration": 8,
    "start_time": "2022-08-30T19:39:01.059Z"
   },
   {
    "duration": 7,
    "start_time": "2022-08-30T19:39:01.125Z"
   },
   {
    "duration": 425,
    "start_time": "2022-08-30T19:39:01.719Z"
   },
   {
    "duration": 191,
    "start_time": "2022-08-30T19:39:02.456Z"
   },
   {
    "duration": 147,
    "start_time": "2022-08-30T19:39:02.760Z"
   },
   {
    "duration": 11,
    "start_time": "2022-08-30T19:40:47.367Z"
   },
   {
    "duration": 13,
    "start_time": "2022-08-30T19:40:53.090Z"
   },
   {
    "duration": 10,
    "start_time": "2022-08-30T19:43:08.135Z"
   },
   {
    "duration": 724,
    "start_time": "2022-08-30T19:43:31.555Z"
   },
   {
    "duration": 8,
    "start_time": "2022-08-30T19:44:49.965Z"
   },
   {
    "duration": 1529,
    "start_time": "2022-08-30T20:00:47.924Z"
   },
   {
    "duration": 43,
    "start_time": "2022-08-30T20:00:49.456Z"
   },
   {
    "duration": 14,
    "start_time": "2022-08-30T20:00:49.501Z"
   },
   {
    "duration": 11,
    "start_time": "2022-08-30T20:00:49.518Z"
   },
   {
    "duration": 24,
    "start_time": "2022-08-30T20:00:49.531Z"
   },
   {
    "duration": 14,
    "start_time": "2022-08-30T20:00:49.915Z"
   },
   {
    "duration": 13,
    "start_time": "2022-08-30T20:00:50.423Z"
   },
   {
    "duration": 5,
    "start_time": "2022-08-30T20:00:52.011Z"
   },
   {
    "duration": 3,
    "start_time": "2022-08-30T20:00:52.253Z"
   },
   {
    "duration": 4,
    "start_time": "2022-08-30T20:00:52.684Z"
   },
   {
    "duration": 11,
    "start_time": "2022-08-30T20:00:53.092Z"
   },
   {
    "duration": 383,
    "start_time": "2022-08-30T20:00:54.373Z"
   },
   {
    "duration": 3,
    "start_time": "2022-08-30T20:00:59.385Z"
   },
   {
    "duration": 7,
    "start_time": "2022-08-30T20:01:08.718Z"
   },
   {
    "duration": 6,
    "start_time": "2022-08-30T20:01:09.687Z"
   },
   {
    "duration": 6,
    "start_time": "2022-08-30T20:01:10.074Z"
   },
   {
    "duration": 384,
    "start_time": "2022-08-30T20:01:10.450Z"
   },
   {
    "duration": 7,
    "start_time": "2022-08-30T20:01:11.689Z"
   },
   {
    "duration": 753,
    "start_time": "2022-08-30T20:01:20.312Z"
   },
   {
    "duration": 116,
    "start_time": "2022-08-30T20:05:36.765Z"
   },
   {
    "duration": 1556,
    "start_time": "2022-08-30T20:07:06.477Z"
   },
   {
    "duration": 43,
    "start_time": "2022-08-30T20:07:08.035Z"
   },
   {
    "duration": 14,
    "start_time": "2022-08-30T20:07:08.080Z"
   },
   {
    "duration": 14,
    "start_time": "2022-08-30T20:07:08.096Z"
   },
   {
    "duration": 29,
    "start_time": "2022-08-30T20:07:08.111Z"
   },
   {
    "duration": 13,
    "start_time": "2022-08-30T20:07:08.142Z"
   },
   {
    "duration": 30,
    "start_time": "2022-08-30T20:07:08.157Z"
   },
   {
    "duration": 6,
    "start_time": "2022-08-30T20:07:08.191Z"
   },
   {
    "duration": 4,
    "start_time": "2022-08-30T20:07:08.700Z"
   },
   {
    "duration": 4,
    "start_time": "2022-08-30T20:07:08.754Z"
   },
   {
    "duration": 9,
    "start_time": "2022-08-30T20:07:08.817Z"
   },
   {
    "duration": 337,
    "start_time": "2022-08-30T20:07:10.059Z"
   },
   {
    "duration": 3,
    "start_time": "2022-08-30T20:07:10.665Z"
   },
   {
    "duration": 7,
    "start_time": "2022-08-30T20:07:11.875Z"
   },
   {
    "duration": 8,
    "start_time": "2022-08-30T20:07:12.901Z"
   },
   {
    "duration": 7,
    "start_time": "2022-08-30T20:07:13.358Z"
   },
   {
    "duration": 392,
    "start_time": "2022-08-30T20:07:13.884Z"
   },
   {
    "duration": 243,
    "start_time": "2022-08-30T20:07:15.108Z"
   },
   {
    "duration": 132,
    "start_time": "2022-08-30T20:08:47.364Z"
   },
   {
    "duration": 7,
    "start_time": "2022-08-30T20:09:01.333Z"
   },
   {
    "duration": 750,
    "start_time": "2022-08-30T20:09:02.040Z"
   },
   {
    "duration": 344,
    "start_time": "2022-08-30T20:09:04.297Z"
   },
   {
    "duration": 286,
    "start_time": "2022-08-30T20:09:44.870Z"
   },
   {
    "duration": 1044,
    "start_time": "2022-08-30T20:19:52.057Z"
   },
   {
    "duration": 1140,
    "start_time": "2022-08-30T20:20:07.005Z"
   },
   {
    "duration": 7,
    "start_time": "2022-08-30T20:23:27.954Z"
   },
   {
    "duration": 22,
    "start_time": "2022-08-30T20:23:28.205Z"
   },
   {
    "duration": 14,
    "start_time": "2022-08-30T20:24:00.463Z"
   },
   {
    "duration": 6,
    "start_time": "2022-08-30T20:24:39.054Z"
   },
   {
    "duration": 5,
    "start_time": "2022-08-30T20:27:31.798Z"
   },
   {
    "duration": 77,
    "start_time": "2022-08-30T20:27:45.024Z"
   },
   {
    "duration": 5,
    "start_time": "2022-08-30T20:28:19.086Z"
   },
   {
    "duration": 1542,
    "start_time": "2022-08-30T20:50:48.327Z"
   },
   {
    "duration": 42,
    "start_time": "2022-08-30T20:50:49.870Z"
   },
   {
    "duration": 13,
    "start_time": "2022-08-30T20:50:49.914Z"
   },
   {
    "duration": 12,
    "start_time": "2022-08-30T20:50:49.929Z"
   },
   {
    "duration": 17,
    "start_time": "2022-08-30T20:50:49.942Z"
   },
   {
    "duration": 13,
    "start_time": "2022-08-30T20:50:49.961Z"
   },
   {
    "duration": 14,
    "start_time": "2022-08-30T20:50:49.986Z"
   },
   {
    "duration": 7,
    "start_time": "2022-08-30T20:50:50.002Z"
   },
   {
    "duration": 8,
    "start_time": "2022-08-30T20:50:50.011Z"
   },
   {
    "duration": 8,
    "start_time": "2022-08-30T20:50:50.021Z"
   },
   {
    "duration": 15,
    "start_time": "2022-08-30T20:50:50.031Z"
   },
   {
    "duration": 393,
    "start_time": "2022-08-30T20:50:50.047Z"
   },
   {
    "duration": 3,
    "start_time": "2022-08-30T20:50:50.442Z"
   },
   {
    "duration": 7,
    "start_time": "2022-08-30T20:50:50.692Z"
   },
   {
    "duration": 8,
    "start_time": "2022-08-30T20:50:51.078Z"
   },
   {
    "duration": 6,
    "start_time": "2022-08-30T20:50:51.462Z"
   },
   {
    "duration": 414,
    "start_time": "2022-08-30T20:50:51.858Z"
   },
   {
    "duration": 11,
    "start_time": "2022-08-30T20:50:52.274Z"
   },
   {
    "duration": 1071,
    "start_time": "2022-08-30T20:50:53.126Z"
   },
   {
    "duration": 363,
    "start_time": "2022-08-30T20:50:54.200Z"
   },
   {
    "duration": 5,
    "start_time": "2022-08-30T20:50:54.747Z"
   },
   {
    "duration": 19,
    "start_time": "2022-08-30T20:50:56.354Z"
   },
   {
    "duration": 12,
    "start_time": "2022-08-30T20:50:56.986Z"
   },
   {
    "duration": 6,
    "start_time": "2022-08-30T20:50:57.324Z"
   },
   {
    "duration": 191,
    "start_time": "2022-08-30T20:51:03.538Z"
   },
   {
    "duration": 17,
    "start_time": "2022-08-30T20:51:13.301Z"
   },
   {
    "duration": 62,
    "start_time": "2022-08-30T20:52:43.123Z"
   },
   {
    "duration": 75,
    "start_time": "2022-08-30T20:52:46.246Z"
   },
   {
    "duration": 24605,
    "start_time": "2022-08-30T20:52:53.743Z"
   },
   {
    "duration": 87,
    "start_time": "2022-08-30T20:53:18.350Z"
   },
   {
    "duration": 60,
    "start_time": "2022-08-30T20:53:23.020Z"
   },
   {
    "duration": 7,
    "start_time": "2022-08-30T20:53:29.670Z"
   },
   {
    "duration": 5,
    "start_time": "2022-08-30T20:54:12.023Z"
   },
   {
    "duration": 618488,
    "start_time": "2022-08-30T20:54:21.905Z"
   },
   {
    "duration": 51756,
    "start_time": "2022-08-30T21:06:10.959Z"
   },
   {
    "duration": 82,
    "start_time": "2022-08-30T21:07:02.717Z"
   },
   {
    "duration": 130151,
    "start_time": "2022-08-30T21:09:01.583Z"
   },
   {
    "duration": 128,
    "start_time": "2022-08-30T21:11:11.736Z"
   },
   {
    "duration": 42956,
    "start_time": "2022-08-30T21:13:04.634Z"
   },
   {
    "duration": 1664,
    "start_time": "2022-08-30T21:21:59.162Z"
   },
   {
    "duration": 44,
    "start_time": "2022-08-30T21:22:00.828Z"
   },
   {
    "duration": 14,
    "start_time": "2022-08-30T21:22:00.873Z"
   },
   {
    "duration": 15,
    "start_time": "2022-08-30T21:22:00.889Z"
   },
   {
    "duration": 24,
    "start_time": "2022-08-30T21:22:00.906Z"
   },
   {
    "duration": 17,
    "start_time": "2022-08-30T21:22:00.932Z"
   },
   {
    "duration": 15,
    "start_time": "2022-08-30T21:22:00.951Z"
   },
   {
    "duration": 20,
    "start_time": "2022-08-30T21:22:00.968Z"
   },
   {
    "duration": 13,
    "start_time": "2022-08-30T21:22:00.990Z"
   },
   {
    "duration": 13,
    "start_time": "2022-08-30T21:22:01.006Z"
   },
   {
    "duration": 30,
    "start_time": "2022-08-30T21:22:01.020Z"
   },
   {
    "duration": 317,
    "start_time": "2022-08-30T21:22:01.679Z"
   },
   {
    "duration": 2,
    "start_time": "2022-08-30T21:22:02.425Z"
   },
   {
    "duration": 8,
    "start_time": "2022-08-30T21:22:02.796Z"
   },
   {
    "duration": 6,
    "start_time": "2022-08-30T21:22:03.949Z"
   },
   {
    "duration": 6,
    "start_time": "2022-08-30T21:22:04.336Z"
   },
   {
    "duration": 400,
    "start_time": "2022-08-30T21:22:04.714Z"
   },
   {
    "duration": 9,
    "start_time": "2022-08-30T21:22:05.197Z"
   },
   {
    "duration": 1116,
    "start_time": "2022-08-30T21:22:05.585Z"
   },
   {
    "duration": 349,
    "start_time": "2022-08-30T21:22:06.704Z"
   },
   {
    "duration": 5,
    "start_time": "2022-08-30T21:22:13.394Z"
   },
   {
    "duration": 20,
    "start_time": "2022-08-30T21:22:13.636Z"
   },
   {
    "duration": 10,
    "start_time": "2022-08-30T21:22:14.020Z"
   },
   {
    "duration": 5,
    "start_time": "2022-08-30T21:22:14.198Z"
   },
   {
    "duration": 11,
    "start_time": "2022-08-30T21:22:15.057Z"
   },
   {
    "duration": 18,
    "start_time": "2022-08-30T21:22:16.726Z"
   },
   {
    "duration": 7,
    "start_time": "2022-08-30T21:22:23.651Z"
   },
   {
    "duration": 5,
    "start_time": "2022-08-30T21:22:24.323Z"
   },
   {
    "duration": 614936,
    "start_time": "2022-08-30T21:22:24.867Z"
   },
   {
    "duration": 117943,
    "start_time": "2022-08-30T21:34:32.890Z"
   },
   {
    "duration": 73,
    "start_time": "2022-08-30T21:36:30.836Z"
   },
   {
    "duration": 20,
    "start_time": "2022-08-30T21:36:47.039Z"
   },
   {
    "duration": 42933,
    "start_time": "2022-08-30T21:37:31.055Z"
   },
   {
    "duration": 1909,
    "start_time": "2022-08-31T18:36:26.904Z"
   },
   {
    "duration": 147,
    "start_time": "2022-08-31T18:36:28.816Z"
   },
   {
    "duration": 20,
    "start_time": "2022-08-31T18:36:28.968Z"
   },
   {
    "duration": 12,
    "start_time": "2022-08-31T18:36:28.991Z"
   },
   {
    "duration": 24,
    "start_time": "2022-08-31T18:36:29.005Z"
   },
   {
    "duration": 16,
    "start_time": "2022-08-31T18:36:29.031Z"
   },
   {
    "duration": 13,
    "start_time": "2022-08-31T18:36:29.050Z"
   },
   {
    "duration": 17,
    "start_time": "2022-08-31T18:36:29.065Z"
   },
   {
    "duration": 18,
    "start_time": "2022-08-31T18:36:29.085Z"
   },
   {
    "duration": 12,
    "start_time": "2022-08-31T18:36:29.106Z"
   },
   {
    "duration": 14,
    "start_time": "2022-08-31T18:36:29.120Z"
   },
   {
    "duration": 348,
    "start_time": "2022-08-31T18:36:29.137Z"
   },
   {
    "duration": 3,
    "start_time": "2022-08-31T18:36:29.487Z"
   },
   {
    "duration": 9,
    "start_time": "2022-08-31T18:36:29.492Z"
   },
   {
    "duration": 5,
    "start_time": "2022-08-31T18:36:29.503Z"
   },
   {
    "duration": 451,
    "start_time": "2022-08-31T18:36:29.509Z"
   },
   {
    "duration": 2040,
    "start_time": "2022-08-31T18:36:29.963Z"
   },
   {
    "duration": 8,
    "start_time": "2022-08-31T18:36:32.008Z"
   },
   {
    "duration": 1117,
    "start_time": "2022-08-31T18:36:32.103Z"
   },
   {
    "duration": 349,
    "start_time": "2022-08-31T18:36:33.222Z"
   },
   {
    "duration": 4,
    "start_time": "2022-08-31T18:36:33.574Z"
   },
   {
    "duration": 29,
    "start_time": "2022-08-31T18:36:33.579Z"
   },
   {
    "duration": 9,
    "start_time": "2022-08-31T18:36:33.610Z"
   },
   {
    "duration": 6,
    "start_time": "2022-08-31T18:36:33.621Z"
   },
   {
    "duration": 12,
    "start_time": "2022-08-31T18:36:33.628Z"
   },
   {
    "duration": 13,
    "start_time": "2022-08-31T18:36:33.642Z"
   },
   {
    "duration": 48,
    "start_time": "2022-08-31T18:36:33.657Z"
   },
   {
    "duration": 10,
    "start_time": "2022-08-31T18:36:33.707Z"
   },
   {
    "duration": 26803,
    "start_time": "2022-08-31T18:36:33.719Z"
   },
   {
    "duration": 7227,
    "start_time": "2022-08-31T18:37:00.524Z"
   },
   {
    "duration": 56,
    "start_time": "2022-08-31T18:37:07.753Z"
   },
   {
    "duration": 3396,
    "start_time": "2022-08-31T18:37:07.811Z"
   },
   {
    "duration": 5,
    "start_time": "2022-08-31T18:52:10.956Z"
   },
   {
    "duration": 251,
    "start_time": "2022-08-31T18:53:14.715Z"
   },
   {
    "duration": 4,
    "start_time": "2022-08-31T18:53:23.494Z"
   },
   {
    "duration": 18210,
    "start_time": "2022-08-31T18:53:24.096Z"
   },
   {
    "duration": 905,
    "start_time": "2022-08-31T18:54:00.508Z"
   },
   {
    "duration": 10,
    "start_time": "2022-08-31T18:54:31.534Z"
   },
   {
    "duration": 5,
    "start_time": "2022-08-31T18:55:05.151Z"
   },
   {
    "duration": 5,
    "start_time": "2022-08-31T18:55:21.541Z"
   },
   {
    "duration": 23920,
    "start_time": "2022-08-31T18:55:24.563Z"
   },
   {
    "duration": 691,
    "start_time": "2022-08-31T18:55:48.485Z"
   },
   {
    "duration": 7,
    "start_time": "2022-08-31T18:55:52.413Z"
   },
   {
    "duration": 3206,
    "start_time": "2022-08-31T18:56:56.914Z"
   },
   {
    "duration": 13,
    "start_time": "2022-08-31T19:05:41.840Z"
   },
   {
    "duration": 86,
    "start_time": "2022-09-01T08:41:32.014Z"
   },
   {
    "duration": 1776,
    "start_time": "2022-09-01T08:50:10.996Z"
   },
   {
    "duration": 53,
    "start_time": "2022-09-01T08:52:22.067Z"
   },
   {
    "duration": 128,
    "start_time": "2022-09-01T08:52:25.218Z"
   },
   {
    "duration": 14,
    "start_time": "2022-09-01T08:52:26.477Z"
   },
   {
    "duration": 8,
    "start_time": "2022-09-01T08:52:38.253Z"
   },
   {
    "duration": 11,
    "start_time": "2022-09-01T08:52:39.685Z"
   },
   {
    "duration": 11,
    "start_time": "2022-09-01T08:52:40.943Z"
   },
   {
    "duration": 9,
    "start_time": "2022-09-01T08:52:43.166Z"
   },
   {
    "duration": 4,
    "start_time": "2022-09-01T08:52:44.386Z"
   },
   {
    "duration": 3,
    "start_time": "2022-09-01T08:52:45.454Z"
   },
   {
    "duration": 4,
    "start_time": "2022-09-01T08:52:46.679Z"
   },
   {
    "duration": 8,
    "start_time": "2022-09-01T08:52:48.448Z"
   },
   {
    "duration": 5,
    "start_time": "2022-09-01T08:52:56.303Z"
   },
   {
    "duration": 20,
    "start_time": "2022-09-01T08:52:59.283Z"
   },
   {
    "duration": 10,
    "start_time": "2022-09-01T08:53:00.573Z"
   },
   {
    "duration": 6,
    "start_time": "2022-09-01T08:53:04.273Z"
   },
   {
    "duration": 7,
    "start_time": "2022-09-01T08:53:05.347Z"
   },
   {
    "duration": 11,
    "start_time": "2022-09-01T08:53:11.743Z"
   },
   {
    "duration": 7,
    "start_time": "2022-09-01T08:53:15.692Z"
   },
   {
    "duration": 4,
    "start_time": "2022-09-01T08:53:21.427Z"
   },
   {
    "duration": 56753,
    "start_time": "2022-09-01T08:53:24.221Z"
   },
   {
    "duration": 4628,
    "start_time": "2022-09-01T08:54:20.975Z"
   },
   {
    "duration": 58,
    "start_time": "2022-09-01T08:54:25.605Z"
   },
   {
    "duration": 1718,
    "start_time": "2022-09-01T10:48:45.906Z"
   },
   {
    "duration": 113,
    "start_time": "2022-09-01T10:48:50.027Z"
   },
   {
    "duration": 17,
    "start_time": "2022-09-01T10:48:51.245Z"
   },
   {
    "duration": 11,
    "start_time": "2022-09-01T10:48:53.129Z"
   },
   {
    "duration": 13,
    "start_time": "2022-09-01T10:48:54.448Z"
   },
   {
    "duration": 15,
    "start_time": "2022-09-01T10:48:56.190Z"
   },
   {
    "duration": 10,
    "start_time": "2022-09-01T10:48:57.595Z"
   },
   {
    "duration": 3,
    "start_time": "2022-09-01T10:48:58.377Z"
   },
   {
    "duration": 3,
    "start_time": "2022-09-01T10:48:59.245Z"
   },
   {
    "duration": 3,
    "start_time": "2022-09-01T10:49:00.078Z"
   },
   {
    "duration": 9,
    "start_time": "2022-09-01T10:49:02.138Z"
   },
   {
    "duration": 5,
    "start_time": "2022-09-01T10:49:10.156Z"
   },
   {
    "duration": 368,
    "start_time": "2022-09-01T10:49:12.405Z"
   },
   {
    "duration": 4,
    "start_time": "2022-09-01T10:49:21.365Z"
   },
   {
    "duration": 18,
    "start_time": "2022-09-01T10:49:24.465Z"
   },
   {
    "duration": 10,
    "start_time": "2022-09-01T10:49:33.976Z"
   },
   {
    "duration": 6,
    "start_time": "2022-09-01T10:49:35.386Z"
   },
   {
    "duration": 6,
    "start_time": "2022-09-01T10:49:36.476Z"
   },
   {
    "duration": 36622,
    "start_time": "2022-09-01T10:49:43.305Z"
   },
   {
    "duration": 839,
    "start_time": "2022-09-01T10:50:19.929Z"
   },
   {
    "duration": 6,
    "start_time": "2022-09-01T10:50:20.769Z"
   }
  ],
  "kernelspec": {
   "display_name": "Python 3 (ipykernel)",
   "language": "python",
   "name": "python3"
  },
  "language_info": {
   "codemirror_mode": {
    "name": "ipython",
    "version": 3
   },
   "file_extension": ".py",
   "mimetype": "text/x-python",
   "name": "python",
   "nbconvert_exporter": "python",
   "pygments_lexer": "ipython3",
   "version": "3.9.12"
  },
  "toc": {
   "base_numbering": 1,
   "nav_menu": {},
   "number_sections": true,
   "sideBar": true,
   "skip_h1_title": true,
   "title_cell": "Содержание",
   "title_sidebar": "Contents",
   "toc_cell": true,
   "toc_position": {},
   "toc_section_display": true,
   "toc_window_display": false
  }
 },
 "nbformat": 4,
 "nbformat_minor": 2
}
