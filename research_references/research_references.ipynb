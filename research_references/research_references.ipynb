{
 "cells": [
  {
   "cell_type": "markdown",
   "id": "875b3729",
   "metadata": {},
   "source": [
    "# Исследование надежности заемщиков."
   ]
  },
  {
   "cell_type": "markdown",
   "id": "b2a7bf4b",
   "metadata": {},
   "source": [
    "**Цель исследования** - проверить гипотезы:\n",
    "1. С увеличением количества детей возрастает количество просроченных платежей.\n",
    "2. Люди в браке чаще возвращают кредит в срок.\n",
    "3. С увеличением дохода снижается количество просроченных платежей.\n",
    "4. Цель кредита вляет на его возврат в срок.\n",
    "\n",
    "**Задачи в ходе исследования:**\n",
    "1. Изучить общую информацию о данных.\n",
    "2. Избавиться от пропусков в данных.\n",
    "3. Обработать аномалии в данных.\n",
    "4. Заменить вещественный тип данных в столбце total_income на целочисленный.\n",
    "5. Удалить дубликаты.\n",
    "6. Создать два новых датафрейма, в которых:\n",
    "каждому уникальному значению из education соответствует уникальное значение education_id — в первом;\n",
    "каждому уникальному значению из family_status соответствует уникальное значение family_status_id — во втором.\n",
    "7. Разделить на категории уровень дохода клиентов и цель получения кредита.\n",
    "8. Ответить на вопросы:\n",
    "*Есть ли зависимость между количеством детей и возвратом кредита в срок?\n",
    "Есть ли зависимость между семейным положением и возвратом кредита в срок?\n",
    "Есть ли зависимость между уровнем дохода и возвратом кредита в срок?\n",
    "Как разные цели кредита влияют на его возврат в срок?*\n",
    "9. Сделать общий вывод.\n",
    "\n",
    "Данные о клиентах банка хранятся в таблице \"data.csv\". Перед проверкой гипотез нужно провести обзор данных.\n",
    "\n",
    "Сначала необходимо проверить данные на ошибки и оценить их влияние на исследование. Затем, на этапе предобработки исправить самые критичные ошибки данных.\n",
    "\n",
    "**Таким образом, исследование пройдёт в три этапа:**\n",
    "\n",
    "1. Обзор данных.\n",
    "2. Предобработка данных.\n",
    "3. Проверка гипотез."
   ]
  },
  {
   "cell_type": "markdown",
   "id": "dfdb1e34",
   "metadata": {},
   "source": [
    "### Шаг 1. Обзор данных"
   ]
  },
  {
   "cell_type": "markdown",
   "id": "019a2fe1",
   "metadata": {},
   "source": [
    "Для начала работы необходимо добавить библиотеку pandas, которая является основным инструментом."
   ]
  },
  {
   "cell_type": "code",
   "execution_count": 76,
   "id": "79bbc1a8",
   "metadata": {},
   "outputs": [],
   "source": [
    "import pandas as pd "
   ]
  },
  {
   "cell_type": "markdown",
   "id": "98452b9b",
   "metadata": {},
   "source": [
    "### Шаг 2.1 Заполнение пропусков"
   ]
  },
  {
   "cell_type": "markdown",
   "id": "337fcc86",
   "metadata": {},
   "source": [
    "Прочитаем файл с данными и сохраненим в df"
   ]
  },
  {
   "cell_type": "code",
   "execution_count": 77,
   "id": "1bc36506",
   "metadata": {},
   "outputs": [],
   "source": [
    "try:\n",
    "    df = pd.read_csv('/datasets/data.csv')\n",
    "except: \n",
    "    data = pd.read_csv('/download/data.csv')"
   ]
  },
  {
   "cell_type": "markdown",
   "id": "97fb4439",
   "metadata": {},
   "source": [
    "Получим первые 10 строк таблицы df"
   ]
  },
  {
   "cell_type": "code",
   "execution_count": 78,
   "id": "885263f8",
   "metadata": {},
   "outputs": [
    {
     "data": {
      "text/html": [
       "<div>\n",
       "<style scoped>\n",
       "    .dataframe tbody tr th:only-of-type {\n",
       "        vertical-align: middle;\n",
       "    }\n",
       "\n",
       "    .dataframe tbody tr th {\n",
       "        vertical-align: top;\n",
       "    }\n",
       "\n",
       "    .dataframe thead th {\n",
       "        text-align: right;\n",
       "    }\n",
       "</style>\n",
       "<table border=\"1\" class=\"dataframe\">\n",
       "  <thead>\n",
       "    <tr style=\"text-align: right;\">\n",
       "      <th></th>\n",
       "      <th>children</th>\n",
       "      <th>days_employed</th>\n",
       "      <th>dob_years</th>\n",
       "      <th>education</th>\n",
       "      <th>education_id</th>\n",
       "      <th>family_status</th>\n",
       "      <th>family_status_id</th>\n",
       "      <th>gender</th>\n",
       "      <th>income_type</th>\n",
       "      <th>debt</th>\n",
       "      <th>total_income</th>\n",
       "      <th>purpose</th>\n",
       "    </tr>\n",
       "  </thead>\n",
       "  <tbody>\n",
       "    <tr>\n",
       "      <th>0</th>\n",
       "      <td>1</td>\n",
       "      <td>-8437.673028</td>\n",
       "      <td>42</td>\n",
       "      <td>высшее</td>\n",
       "      <td>0</td>\n",
       "      <td>женат / замужем</td>\n",
       "      <td>0</td>\n",
       "      <td>F</td>\n",
       "      <td>сотрудник</td>\n",
       "      <td>0</td>\n",
       "      <td>253875.639453</td>\n",
       "      <td>покупка жилья</td>\n",
       "    </tr>\n",
       "    <tr>\n",
       "      <th>1</th>\n",
       "      <td>1</td>\n",
       "      <td>-4024.803754</td>\n",
       "      <td>36</td>\n",
       "      <td>среднее</td>\n",
       "      <td>1</td>\n",
       "      <td>женат / замужем</td>\n",
       "      <td>0</td>\n",
       "      <td>F</td>\n",
       "      <td>сотрудник</td>\n",
       "      <td>0</td>\n",
       "      <td>112080.014102</td>\n",
       "      <td>приобретение автомобиля</td>\n",
       "    </tr>\n",
       "    <tr>\n",
       "      <th>2</th>\n",
       "      <td>0</td>\n",
       "      <td>-5623.422610</td>\n",
       "      <td>33</td>\n",
       "      <td>Среднее</td>\n",
       "      <td>1</td>\n",
       "      <td>женат / замужем</td>\n",
       "      <td>0</td>\n",
       "      <td>M</td>\n",
       "      <td>сотрудник</td>\n",
       "      <td>0</td>\n",
       "      <td>145885.952297</td>\n",
       "      <td>покупка жилья</td>\n",
       "    </tr>\n",
       "    <tr>\n",
       "      <th>3</th>\n",
       "      <td>3</td>\n",
       "      <td>-4124.747207</td>\n",
       "      <td>32</td>\n",
       "      <td>среднее</td>\n",
       "      <td>1</td>\n",
       "      <td>женат / замужем</td>\n",
       "      <td>0</td>\n",
       "      <td>M</td>\n",
       "      <td>сотрудник</td>\n",
       "      <td>0</td>\n",
       "      <td>267628.550329</td>\n",
       "      <td>дополнительное образование</td>\n",
       "    </tr>\n",
       "    <tr>\n",
       "      <th>4</th>\n",
       "      <td>0</td>\n",
       "      <td>340266.072047</td>\n",
       "      <td>53</td>\n",
       "      <td>среднее</td>\n",
       "      <td>1</td>\n",
       "      <td>гражданский брак</td>\n",
       "      <td>1</td>\n",
       "      <td>F</td>\n",
       "      <td>пенсионер</td>\n",
       "      <td>0</td>\n",
       "      <td>158616.077870</td>\n",
       "      <td>сыграть свадьбу</td>\n",
       "    </tr>\n",
       "    <tr>\n",
       "      <th>5</th>\n",
       "      <td>0</td>\n",
       "      <td>-926.185831</td>\n",
       "      <td>27</td>\n",
       "      <td>высшее</td>\n",
       "      <td>0</td>\n",
       "      <td>гражданский брак</td>\n",
       "      <td>1</td>\n",
       "      <td>M</td>\n",
       "      <td>компаньон</td>\n",
       "      <td>0</td>\n",
       "      <td>255763.565419</td>\n",
       "      <td>покупка жилья</td>\n",
       "    </tr>\n",
       "    <tr>\n",
       "      <th>6</th>\n",
       "      <td>0</td>\n",
       "      <td>-2879.202052</td>\n",
       "      <td>43</td>\n",
       "      <td>высшее</td>\n",
       "      <td>0</td>\n",
       "      <td>женат / замужем</td>\n",
       "      <td>0</td>\n",
       "      <td>F</td>\n",
       "      <td>компаньон</td>\n",
       "      <td>0</td>\n",
       "      <td>240525.971920</td>\n",
       "      <td>операции с жильем</td>\n",
       "    </tr>\n",
       "    <tr>\n",
       "      <th>7</th>\n",
       "      <td>0</td>\n",
       "      <td>-152.779569</td>\n",
       "      <td>50</td>\n",
       "      <td>СРЕДНЕЕ</td>\n",
       "      <td>1</td>\n",
       "      <td>женат / замужем</td>\n",
       "      <td>0</td>\n",
       "      <td>M</td>\n",
       "      <td>сотрудник</td>\n",
       "      <td>0</td>\n",
       "      <td>135823.934197</td>\n",
       "      <td>образование</td>\n",
       "    </tr>\n",
       "    <tr>\n",
       "      <th>8</th>\n",
       "      <td>2</td>\n",
       "      <td>-6929.865299</td>\n",
       "      <td>35</td>\n",
       "      <td>ВЫСШЕЕ</td>\n",
       "      <td>0</td>\n",
       "      <td>гражданский брак</td>\n",
       "      <td>1</td>\n",
       "      <td>F</td>\n",
       "      <td>сотрудник</td>\n",
       "      <td>0</td>\n",
       "      <td>95856.832424</td>\n",
       "      <td>на проведение свадьбы</td>\n",
       "    </tr>\n",
       "    <tr>\n",
       "      <th>9</th>\n",
       "      <td>0</td>\n",
       "      <td>-2188.756445</td>\n",
       "      <td>41</td>\n",
       "      <td>среднее</td>\n",
       "      <td>1</td>\n",
       "      <td>женат / замужем</td>\n",
       "      <td>0</td>\n",
       "      <td>M</td>\n",
       "      <td>сотрудник</td>\n",
       "      <td>0</td>\n",
       "      <td>144425.938277</td>\n",
       "      <td>покупка жилья для семьи</td>\n",
       "    </tr>\n",
       "  </tbody>\n",
       "</table>\n",
       "</div>"
      ],
      "text/plain": [
       "   children  days_employed  dob_years education  education_id  \\\n",
       "0         1   -8437.673028         42    высшее             0   \n",
       "1         1   -4024.803754         36   среднее             1   \n",
       "2         0   -5623.422610         33   Среднее             1   \n",
       "3         3   -4124.747207         32   среднее             1   \n",
       "4         0  340266.072047         53   среднее             1   \n",
       "5         0    -926.185831         27    высшее             0   \n",
       "6         0   -2879.202052         43    высшее             0   \n",
       "7         0    -152.779569         50   СРЕДНЕЕ             1   \n",
       "8         2   -6929.865299         35    ВЫСШЕЕ             0   \n",
       "9         0   -2188.756445         41   среднее             1   \n",
       "\n",
       "      family_status  family_status_id gender income_type  debt   total_income  \\\n",
       "0   женат / замужем                 0      F   сотрудник     0  253875.639453   \n",
       "1   женат / замужем                 0      F   сотрудник     0  112080.014102   \n",
       "2   женат / замужем                 0      M   сотрудник     0  145885.952297   \n",
       "3   женат / замужем                 0      M   сотрудник     0  267628.550329   \n",
       "4  гражданский брак                 1      F   пенсионер     0  158616.077870   \n",
       "5  гражданский брак                 1      M   компаньон     0  255763.565419   \n",
       "6   женат / замужем                 0      F   компаньон     0  240525.971920   \n",
       "7   женат / замужем                 0      M   сотрудник     0  135823.934197   \n",
       "8  гражданский брак                 1      F   сотрудник     0   95856.832424   \n",
       "9   женат / замужем                 0      M   сотрудник     0  144425.938277   \n",
       "\n",
       "                      purpose  \n",
       "0               покупка жилья  \n",
       "1     приобретение автомобиля  \n",
       "2               покупка жилья  \n",
       "3  дополнительное образование  \n",
       "4             сыграть свадьбу  \n",
       "5               покупка жилья  \n",
       "6           операции с жильем  \n",
       "7                 образование  \n",
       "8       на проведение свадьбы  \n",
       "9     покупка жилья для семьи  "
      ]
     },
     "execution_count": 78,
     "metadata": {},
     "output_type": "execute_result"
    }
   ],
   "source": [
    "df.head(10)"
   ]
  },
  {
   "cell_type": "markdown",
   "id": "9e44b676",
   "metadata": {},
   "source": [
    "Получим общую информацию о данных в таблице df"
   ]
  },
  {
   "cell_type": "code",
   "execution_count": 4,
   "id": "207c3052",
   "metadata": {},
   "outputs": [
    {
     "name": "stdout",
     "output_type": "stream",
     "text": [
      "<class 'pandas.core.frame.DataFrame'>\n",
      "RangeIndex: 21525 entries, 0 to 21524\n",
      "Data columns (total 12 columns):\n",
      " #   Column            Non-Null Count  Dtype  \n",
      "---  ------            --------------  -----  \n",
      " 0   children          21525 non-null  int64  \n",
      " 1   days_employed     19351 non-null  float64\n",
      " 2   dob_years         21525 non-null  int64  \n",
      " 3   education         21525 non-null  object \n",
      " 4   education_id      21525 non-null  int64  \n",
      " 5   family_status     21525 non-null  object \n",
      " 6   family_status_id  21525 non-null  int64  \n",
      " 7   gender            21525 non-null  object \n",
      " 8   income_type       21525 non-null  object \n",
      " 9   debt              21525 non-null  int64  \n",
      " 10  total_income      19351 non-null  float64\n",
      " 11  purpose           21525 non-null  object \n",
      "dtypes: float64(2), int64(5), object(5)\n",
      "memory usage: 2.0+ MB\n"
     ]
    }
   ],
   "source": [
    "df.info()"
   ]
  },
  {
   "cell_type": "markdown",
   "id": "21cc3e05",
   "metadata": {},
   "source": [
    "Итак, в таблице 12 столбцов с разным типом данных - object, float64, int64.\n",
    "\n",
    "Согласно документации к данным:\n",
    "\n",
    "**children** — количество детей в семье\n",
    "**days_employed** — общий трудовой стаж в днях\n",
    "**dob_years** — возраст клиента в годах\n",
    "**education** — уровень образования клиента\n",
    "**education_id** — идентификатор уровня образования\n",
    "**family_status** — семейное положение\n",
    "**family_status_id** — идентификатор семейного положения\n",
    "**gender** — пол клиента\n",
    "**income_type** — тип занятости\n",
    "**debt** — имел ли задолженность по возврату кредитов\n",
    "**total_income** — ежемесячный доход\n",
    "**purpose** — цель получения кредита\n",
    "\n",
    "В названиях колонок нарушений нет.\n",
    "\n",
    "Количество значений в столбцах различается. Значит, в данных есть пропущенные значения."
   ]
  },
  {
   "cell_type": "markdown",
   "id": "f850095b",
   "metadata": {},
   "source": [
    "Подсчитаем пропуски в датасете"
   ]
  },
  {
   "cell_type": "code",
   "execution_count": 5,
   "id": "4b0f2537",
   "metadata": {},
   "outputs": [
    {
     "name": "stdout",
     "output_type": "stream",
     "text": [
      "children               0\n",
      "days_employed       2174\n",
      "dob_years              0\n",
      "education              0\n",
      "education_id           0\n",
      "family_status          0\n",
      "family_status_id       0\n",
      "gender                 0\n",
      "income_type            0\n",
      "debt                   0\n",
      "total_income        2174\n",
      "purpose                0\n",
      "dtype: int64\n"
     ]
    }
   ],
   "source": [
    "print(df.isna().sum())"
   ]
  },
  {
   "cell_type": "markdown",
   "id": "9a2c2502",
   "metadata": {},
   "source": [
    "Найдём процент отсутствующих значений"
   ]
  },
  {
   "cell_type": "code",
   "execution_count": 6,
   "id": "258b9910",
   "metadata": {},
   "outputs": [
    {
     "name": "stdout",
     "output_type": "stream",
     "text": [
      "Процент отсутствующих значений в столбце = 10.10%\n"
     ]
    }
   ],
   "source": [
    "print(f'Процент отсутствующих значений в столбце = {2174/21525:,.2%}')"
   ]
  },
  {
   "cell_type": "markdown",
   "id": "e3757e5c",
   "metadata": {},
   "source": [
    "В двух столбцах одинаковое количество пропусков, 10.10% в каждом.\n",
    "Пропуски в данных мешают работе с ними, для этого нужно удалить или заполнить пропущенные значения. Так как в нашем случае отстутствует 10.10%, что довольно много, пропуски нужно заполнить. Для этого я используем медианные значения, сгруппированные по уровню образования."
   ]
  },
  {
   "cell_type": "markdown",
   "id": "d6d8eaf5",
   "metadata": {},
   "source": [
    "В столбце с пропусками 'days_employed' есть отрицательные значения, обработаем их позже."
   ]
  },
  {
   "cell_type": "markdown",
   "id": "22d55542",
   "metadata": {},
   "source": [
    "Поиск медианных значений в соответствии с уровнем образования"
   ]
  },
  {
   "cell_type": "code",
   "execution_count": 7,
   "id": "5dec8531",
   "metadata": {},
   "outputs": [],
   "source": [
    "total_income_median = df.groupby('income_type')['total_income'].median()"
   ]
  },
  {
   "cell_type": "markdown",
   "id": "1440c026",
   "metadata": {},
   "source": [
    "Заменим пропущенные значения медианными."
   ]
  },
  {
   "cell_type": "code",
   "execution_count": 8,
   "id": "55f641dd",
   "metadata": {},
   "outputs": [],
   "source": [
    "for category in total_income_median.index:\n",
    "    median = total_income_median[category]\n",
    "    df.loc[df.loc[:, 'income_type']==category, 'total_income'] = df.loc[df.loc[:, 'income_type']==category, 'total_income'].fillna(median)"
   ]
  },
  {
   "cell_type": "markdown",
   "id": "03740d61",
   "metadata": {},
   "source": [
    "Проверим, что все пропущенные значения в столбце обработаны."
   ]
  },
  {
   "cell_type": "code",
   "execution_count": 9,
   "id": "99db4f07",
   "metadata": {
    "scrolled": true
   },
   "outputs": [
    {
     "name": "stdout",
     "output_type": "stream",
     "text": [
      "Пропущенных значений в столбце  0\n"
     ]
    }
   ],
   "source": [
    "print('Пропущенных значений в столбце ', df['total_income'].isna().sum())   "
   ]
  },
  {
   "cell_type": "markdown",
   "id": "1c2c84dc",
   "metadata": {},
   "source": [
    "Пропуски в данных мешают работе с ними, для этого нужно удалить или заполнить пропущенные значения. Так как в нашем случае отстутствует 10.10%, что довольно много, пропуски нужно заполнить. Для этого я использовала медианные значения, сгруппированные по уровню образования."
   ]
  },
  {
   "cell_type": "markdown",
   "id": "97250135",
   "metadata": {},
   "source": [
    "Предварительно можно утверждать, что, данных достаточно для проверки гипотез. Но встречаются пропуски в данных, а в названиях колонок — расхождения с хорошим стилем.\n",
    "\n",
    "Чтобы двигаться дальше, нужно устранить проблемы в данных."
   ]
  },
  {
   "cell_type": "markdown",
   "id": "cef3cfd4",
   "metadata": {},
   "source": [
    "### Шаг 2.2 Проверка данных на аномалии и исправления."
   ]
  },
  {
   "cell_type": "markdown",
   "id": "e1737bd0",
   "metadata": {},
   "source": [
    "Проверим уникальные значения в столбце \"children\"."
   ]
  },
  {
   "cell_type": "code",
   "execution_count": 10,
   "id": "5990b9f6",
   "metadata": {},
   "outputs": [
    {
     "name": "stdout",
     "output_type": "stream",
     "text": [
      " 0     14149\n",
      " 1      4818\n",
      " 2      2055\n",
      " 3       330\n",
      " 20       76\n",
      "-1        47\n",
      " 4        41\n",
      " 5         9\n",
      "Name: children, dtype: int64\n"
     ]
    }
   ],
   "source": [
    "print(df['children'].value_counts())"
   ]
  },
  {
   "cell_type": "markdown",
   "id": "1310e9d6",
   "metadata": {},
   "source": [
    "Обнаружились ошибочные данные -1 и 20. Вероятнее всего, в первом случае случайно поставили знак \"-\", а во втором - 0."
   ]
  },
  {
   "cell_type": "markdown",
   "id": "87004bfd",
   "metadata": {},
   "source": [
    "Заменим данные на предположительно верные."
   ]
  },
  {
   "cell_type": "code",
   "execution_count": 11,
   "id": "7fb6539f",
   "metadata": {},
   "outputs": [],
   "source": [
    "df['children'] = df['children'].replace(-1, 1)\n",
    "df['children'] = df['children'].replace(20, 2)"
   ]
  },
  {
   "cell_type": "markdown",
   "id": "7f3f1505",
   "metadata": {},
   "source": [
    "Проверим уникальные значения в столбце \"days_employed\"."
   ]
  },
  {
   "cell_type": "code",
   "execution_count": 12,
   "id": "f02472f8",
   "metadata": {},
   "outputs": [
    {
     "name": "stdout",
     "output_type": "stream",
     "text": [
      "-327.685916     1\n",
      "-1580.622577    1\n",
      "-4122.460569    1\n",
      "-2828.237691    1\n",
      "-2636.090517    1\n",
      "               ..\n",
      "-7120.517564    1\n",
      "-2146.884040    1\n",
      "-881.454684     1\n",
      "-794.666350     1\n",
      "-3382.113891    1\n",
      "Name: days_employed, Length: 19351, dtype: int64\n"
     ]
    }
   ],
   "source": [
    "print(df['days_employed'].value_counts())"
   ]
  },
  {
   "cell_type": "markdown",
   "id": "309f2f01",
   "metadata": {},
   "source": [
    "В этом столбце 'days_employed' указаны отрицательные значения, их можно заменить положительными."
   ]
  },
  {
   "cell_type": "markdown",
   "id": "b13b6bd5",
   "metadata": {},
   "source": [
    "Заменим отрицательные значения стажа на положительные"
   ]
  },
  {
   "cell_type": "code",
   "execution_count": 13,
   "id": "79fc8b76",
   "metadata": {},
   "outputs": [],
   "source": [
    "def employed (value):\n",
    "    if value < 0:\n",
    "        value *= -1\n",
    "        return value\n",
    "    else:\n",
    "        return value\n",
    "df['days_employed'] = df['days_employed'].apply(employed)"
   ]
  },
  {
   "cell_type": "markdown",
   "id": "f82b0722",
   "metadata": {},
   "source": [
    "Теперь пропуски в этом столбце можно заполнить медианным значением, для этого сгруппируем данные по возрасту."
   ]
  },
  {
   "cell_type": "code",
   "execution_count": 14,
   "id": "28e97b40",
   "metadata": {},
   "outputs": [],
   "source": [
    "days_employed_median = df.groupby('dob_years')['days_employed'].median()\n"
   ]
  },
  {
   "cell_type": "markdown",
   "id": "572111ef",
   "metadata": {},
   "source": [
    "И заполним пропуски, используя цикл for."
   ]
  },
  {
   "cell_type": "code",
   "execution_count": 15,
   "id": "84d839a4",
   "metadata": {},
   "outputs": [
    {
     "name": "stdout",
     "output_type": "stream",
     "text": [
      "Пропущенных значений в столбце  0\n"
     ]
    }
   ],
   "source": [
    "for years in days_employed_median.index:\n",
    "    median = days_employed_median[years]\n",
    "    df.loc[df.loc[:, 'dob_years']==years, 'days_employed'] = df.loc[df.loc[:, 'dob_years']==years, 'days_employed'].fillna(median)\n",
    "print('Пропущенных значений в столбце ', df['days_employed'].isna().sum())"
   ]
  },
  {
   "cell_type": "markdown",
   "id": "572f01cc",
   "metadata": {},
   "source": [
    "Проверим уникальные значения в столбце \"dob_years\"."
   ]
  },
  {
   "cell_type": "code",
   "execution_count": 16,
   "id": "1d9d5ff7",
   "metadata": {},
   "outputs": [
    {
     "name": "stdout",
     "output_type": "stream",
     "text": [
      "35    617\n",
      "40    609\n",
      "41    607\n",
      "34    603\n",
      "38    598\n",
      "42    597\n",
      "33    581\n",
      "39    573\n",
      "31    560\n",
      "36    555\n",
      "44    547\n",
      "29    545\n",
      "30    540\n",
      "48    538\n",
      "37    537\n",
      "50    514\n",
      "43    513\n",
      "32    510\n",
      "49    508\n",
      "28    503\n",
      "45    497\n",
      "27    493\n",
      "56    487\n",
      "52    484\n",
      "47    480\n",
      "54    479\n",
      "46    475\n",
      "58    461\n",
      "57    460\n",
      "53    459\n",
      "51    448\n",
      "59    444\n",
      "55    443\n",
      "26    408\n",
      "60    377\n",
      "25    357\n",
      "61    355\n",
      "62    352\n",
      "63    269\n",
      "64    265\n",
      "24    264\n",
      "23    254\n",
      "65    194\n",
      "66    183\n",
      "22    183\n",
      "67    167\n",
      "21    111\n",
      "0     101\n",
      "68     99\n",
      "69     85\n",
      "70     65\n",
      "71     58\n",
      "20     51\n",
      "72     33\n",
      "19     14\n",
      "73      8\n",
      "74      6\n",
      "75      1\n",
      "Name: dob_years, dtype: int64\n"
     ]
    }
   ],
   "source": [
    "print(df['dob_years'].value_counts())\n"
   ]
  },
  {
   "cell_type": "markdown",
   "id": "04886fb0",
   "metadata": {},
   "source": [
    "В столбце 'dob_years' у 101 человека возраст указан 0, эти данные можно удалить."
   ]
  },
  {
   "cell_type": "markdown",
   "id": "6180460b",
   "metadata": {},
   "source": [
    "Удалим строки, в которых указан возраст 0.\n"
   ]
  },
  {
   "cell_type": "code",
   "execution_count": 88,
   "id": "52f8871b",
   "metadata": {},
   "outputs": [
    {
     "name": "stdout",
     "output_type": "stream",
     "text": [
      "35    617\n",
      "40    609\n",
      "41    607\n",
      "34    603\n",
      "38    598\n",
      "42    597\n",
      "33    581\n",
      "39    573\n",
      "31    560\n",
      "36    555\n",
      "44    547\n",
      "29    545\n",
      "30    540\n",
      "48    538\n",
      "37    537\n",
      "50    514\n",
      "43    513\n",
      "32    510\n",
      "49    508\n",
      "28    503\n",
      "45    497\n",
      "27    493\n",
      "56    487\n",
      "52    484\n",
      "47    480\n",
      "54    479\n",
      "46    475\n",
      "58    461\n",
      "57    460\n",
      "53    459\n",
      "51    448\n",
      "59    444\n",
      "55    443\n",
      "26    408\n",
      "60    377\n",
      "25    357\n",
      "61    355\n",
      "62    352\n",
      "63    269\n",
      "64    265\n",
      "24    264\n",
      "23    254\n",
      "65    194\n",
      "22    183\n",
      "66    183\n",
      "67    167\n",
      "21    111\n",
      "68     99\n",
      "69     85\n",
      "70     65\n",
      "71     58\n",
      "20     51\n",
      "72     33\n",
      "19     14\n",
      "73      8\n",
      "74      6\n",
      "75      1\n",
      "Name: dob_years, dtype: int64\n"
     ]
    }
   ],
   "source": [
    "delete = df[df['dob_years']==0].index\n",
    "\n",
    "str_del_count=0\n",
    "for drop_str in delete:\n",
    "    df = df.drop(drop_str)"
   ]
  },
  {
   "cell_type": "code",
   "execution_count": 18,
   "id": "2303d0a5",
   "metadata": {},
   "outputs": [],
   "source": [
    "df['dob_years'] = df['dob_years'].value_counts().sort_index()"
   ]
  },
  {
   "cell_type": "markdown",
   "id": "2726571e",
   "metadata": {},
   "source": [
    "Проверим уникальные значения в столбце \"education\"."
   ]
  },
  {
   "cell_type": "code",
   "execution_count": 24,
   "id": "c60a93e8",
   "metadata": {},
   "outputs": [
    {
     "name": "stdout",
     "output_type": "stream",
     "text": [
      "среднее                13750\n",
      "высшее                  4718\n",
      "СРЕДНЕЕ                  772\n",
      "Среднее                  711\n",
      "неоконченное высшее      668\n",
      "ВЫСШЕЕ                   274\n",
      "Высшее                   268\n",
      "начальное                250\n",
      "Неоконченное высшее       47\n",
      "НЕОКОНЧЕННОЕ ВЫСШЕЕ       29\n",
      "НАЧАЛЬНОЕ                 17\n",
      "Начальное                 15\n",
      "ученая степень             4\n",
      "Ученая степень             1\n",
      "УЧЕНАЯ СТЕПЕНЬ             1\n",
      "Name: education, dtype: int64\n"
     ]
    }
   ],
   "source": [
    "print(df['education'].value_counts())\n"
   ]
  },
  {
   "cell_type": "markdown",
   "id": "d83039d1",
   "metadata": {},
   "source": [
    "Аномалий нет, но используется разный регистр. Обработаем его позже при удалении дубликатов."
   ]
  },
  {
   "cell_type": "markdown",
   "id": "de4968a4",
   "metadata": {},
   "source": [
    "Проверим уникальные значения в столбце \"education_id\"."
   ]
  },
  {
   "cell_type": "code",
   "execution_count": 25,
   "id": "64292955",
   "metadata": {},
   "outputs": [
    {
     "name": "stdout",
     "output_type": "stream",
     "text": [
      "1    15233\n",
      "0     5260\n",
      "2      744\n",
      "3      282\n",
      "4        6\n",
      "Name: education_id, dtype: int64\n"
     ]
    }
   ],
   "source": [
    "print(df['education_id'].value_counts())\n"
   ]
  },
  {
   "cell_type": "markdown",
   "id": "38c80d32",
   "metadata": {},
   "source": [
    "Аномалий нет."
   ]
  },
  {
   "cell_type": "markdown",
   "id": "9b09b32f",
   "metadata": {},
   "source": [
    "Проверим уникальные значения в столбце \"family_status\"."
   ]
  },
  {
   "cell_type": "code",
   "execution_count": 26,
   "id": "bd875317",
   "metadata": {},
   "outputs": [
    {
     "name": "stdout",
     "output_type": "stream",
     "text": [
      "женат / замужем          12380\n",
      "гражданский брак          4177\n",
      "Не женат / не замужем     2813\n",
      "в разводе                 1195\n",
      "вдовец / вдова             960\n",
      "Name: family_status, dtype: int64\n"
     ]
    }
   ],
   "source": [
    "print(df['family_status'].value_counts())"
   ]
  },
  {
   "cell_type": "markdown",
   "id": "2e114d79",
   "metadata": {},
   "source": [
    "Аномалий нет."
   ]
  },
  {
   "cell_type": "markdown",
   "id": "92da0d8c",
   "metadata": {},
   "source": [
    "Проверим уникальные значения в столбце \"education_id\"."
   ]
  },
  {
   "cell_type": "code",
   "execution_count": 27,
   "id": "74bdaf0c",
   "metadata": {},
   "outputs": [
    {
     "name": "stdout",
     "output_type": "stream",
     "text": [
      "0    12380\n",
      "1     4177\n",
      "4     2813\n",
      "3     1195\n",
      "2      960\n",
      "Name: family_status_id, dtype: int64\n"
     ]
    }
   ],
   "source": [
    "print(df['family_status_id'].value_counts())\n"
   ]
  },
  {
   "cell_type": "markdown",
   "id": "f9a15843",
   "metadata": {},
   "source": [
    "Аномалий нет."
   ]
  },
  {
   "cell_type": "markdown",
   "id": "622b61f0",
   "metadata": {},
   "source": [
    "Проверим уникальные значения в столбце \"gender\"."
   ]
  },
  {
   "cell_type": "code",
   "execution_count": 28,
   "id": "9eb49578",
   "metadata": {},
   "outputs": [
    {
     "name": "stdout",
     "output_type": "stream",
     "text": [
      "F      14236\n",
      "M       7288\n",
      "XNA        1\n",
      "Name: gender, dtype: int64\n"
     ]
    }
   ],
   "source": [
    "print(df['gender'].value_counts())\n"
   ]
  },
  {
   "cell_type": "markdown",
   "id": "d9cbc2f6",
   "metadata": {},
   "source": [
    "В столбце 'gender' у 1 человека пол указан как XNA, определить пол невозможно, укажем по меньшему количеству значений - m, но можно и удалить строку.\n"
   ]
  },
  {
   "cell_type": "markdown",
   "id": "59d08fb0",
   "metadata": {},
   "source": [
    "Заменим пол XNA на мужской"
   ]
  },
  {
   "cell_type": "code",
   "execution_count": 29,
   "id": "1a2b650f",
   "metadata": {},
   "outputs": [],
   "source": [
    "df['gender'] = df['gender'].replace('XNA', 'm')"
   ]
  },
  {
   "cell_type": "markdown",
   "id": "6d5940ac",
   "metadata": {},
   "source": [
    "Проверим уникальные значения в столбце \"income_type\"."
   ]
  },
  {
   "cell_type": "code",
   "execution_count": 30,
   "id": "5863d28f",
   "metadata": {},
   "outputs": [
    {
     "name": "stdout",
     "output_type": "stream",
     "text": [
      "сотрудник          11119\n",
      "компаньон           5085\n",
      "пенсионер           3856\n",
      "госслужащий         1459\n",
      "предприниматель        2\n",
      "безработный            2\n",
      "студент                1\n",
      "в декрете              1\n",
      "Name: income_type, dtype: int64\n"
     ]
    }
   ],
   "source": [
    "print(df['income_type'].value_counts())\n"
   ]
  },
  {
   "cell_type": "markdown",
   "id": "81cb06df",
   "metadata": {},
   "source": [
    "Аномалий нет."
   ]
  },
  {
   "cell_type": "markdown",
   "id": "79fc9316",
   "metadata": {},
   "source": [
    "Проверим уникальные значения в столбце \"debt\"."
   ]
  },
  {
   "cell_type": "code",
   "execution_count": 31,
   "id": "786b1579",
   "metadata": {},
   "outputs": [
    {
     "name": "stdout",
     "output_type": "stream",
     "text": [
      "0    19784\n",
      "1     1741\n",
      "Name: debt, dtype: int64\n"
     ]
    }
   ],
   "source": [
    "print(df['debt'].value_counts())\n"
   ]
  },
  {
   "cell_type": "markdown",
   "id": "f710822e",
   "metadata": {},
   "source": [
    "Аномалий нет."
   ]
  },
  {
   "cell_type": "markdown",
   "id": "d51efcf0",
   "metadata": {},
   "source": [
    "Проверим уникальные значения в столбце \"total_income\"."
   ]
  },
  {
   "cell_type": "code",
   "execution_count": 32,
   "id": "240a175f",
   "metadata": {},
   "outputs": [
    {
     "name": "stdout",
     "output_type": "stream",
     "text": [
      "142594.396847    1105\n",
      "172357.950966     509\n",
      "118514.486412     414\n",
      "150447.935283     147\n",
      "499163.144947       2\n",
      "                 ... \n",
      "101516.604975       1\n",
      "239154.168013       1\n",
      "165009.733021       1\n",
      "94270.049769        1\n",
      "189255.286637       1\n",
      "Name: total_income, Length: 19353, dtype: int64\n"
     ]
    }
   ],
   "source": [
    "print(df['total_income'].value_counts())\n"
   ]
  },
  {
   "cell_type": "markdown",
   "id": "7115ae4a",
   "metadata": {},
   "source": [
    "Аномалий нет."
   ]
  },
  {
   "cell_type": "markdown",
   "id": "444eb125",
   "metadata": {},
   "source": [
    "Проверим уникальные значения в столбце \"purpose\"."
   ]
  },
  {
   "cell_type": "code",
   "execution_count": 33,
   "id": "db30cef3",
   "metadata": {},
   "outputs": [
    {
     "name": "stdout",
     "output_type": "stream",
     "text": [
      "свадьба                                   797\n",
      "на проведение свадьбы                     777\n",
      "сыграть свадьбу                           774\n",
      "операции с недвижимостью                  676\n",
      "покупка коммерческой недвижимости         664\n",
      "операции с жильем                         653\n",
      "покупка жилья для сдачи                   653\n",
      "операции с коммерческой недвижимостью     651\n",
      "жилье                                     647\n",
      "покупка жилья                             647\n",
      "покупка жилья для семьи                   641\n",
      "строительство собственной недвижимости    635\n",
      "недвижимость                              634\n",
      "операции со своей недвижимостью           630\n",
      "строительство жилой недвижимости          626\n",
      "покупка недвижимости                      624\n",
      "строительство недвижимости                620\n",
      "покупка своего жилья                      620\n",
      "ремонт жилью                              612\n",
      "покупка жилой недвижимости                607\n",
      "на покупку своего автомобиля              505\n",
      "заняться высшим образованием              496\n",
      "автомобиль                                495\n",
      "сделка с подержанным автомобилем          489\n",
      "свой автомобиль                           480\n",
      "на покупку подержанного автомобиля        479\n",
      "автомобили                                478\n",
      "на покупку автомобиля                     472\n",
      "дополнительное образование                462\n",
      "приобретение автомобиля                   462\n",
      "сделка с автомобилем                      455\n",
      "высшее образование                        453\n",
      "образование                               447\n",
      "получение дополнительного образования     447\n",
      "получение образования                     443\n",
      "профильное образование                    436\n",
      "получение высшего образования             426\n",
      "заняться образованием                     412\n",
      "Name: purpose, dtype: int64\n"
     ]
    }
   ],
   "source": [
    "print(df['purpose'].value_counts())"
   ]
  },
  {
   "cell_type": "markdown",
   "id": "72d560cf",
   "metadata": {},
   "source": [
    "В столбце 'purpose' орфографическая ошибка, указано ремонт жилью, нужно исправить."
   ]
  },
  {
   "cell_type": "markdown",
   "id": "20abe637",
   "metadata": {},
   "source": [
    "Исправим орфографическую ошибку."
   ]
  },
  {
   "cell_type": "code",
   "execution_count": 34,
   "id": "12a0ca10",
   "metadata": {
    "scrolled": false
   },
   "outputs": [],
   "source": [
    "df['purpose'] = df['purpose'].replace('ремонт жилью', 'ремонт жилья')\n"
   ]
  },
  {
   "cell_type": "markdown",
   "id": "2efe7d85",
   "metadata": {},
   "source": [
    "Причинами возникновения большинства артефактов является человеческий фактор - при заполнении ошибочно нажали клавишу, которая, чаще всего, находится рядом."
   ]
  },
  {
   "cell_type": "markdown",
   "id": "1e9cfbdc",
   "metadata": {},
   "source": [
    "### Шаг 2.3. Изменение типов данных."
   ]
  },
  {
   "cell_type": "markdown",
   "id": "89dc7290",
   "metadata": {},
   "source": [
    "В двух столбцах необходимо заменить вещественный тип данных на целочисленный."
   ]
  },
  {
   "cell_type": "markdown",
   "id": "2a5ff7e4",
   "metadata": {},
   "source": [
    "Замена вещественного типа данных на целочисленный, так как дни считают целыми числами"
   ]
  },
  {
   "cell_type": "code",
   "execution_count": 35,
   "id": "966c91d4",
   "metadata": {},
   "outputs": [],
   "source": [
    "df['days_employed'] = df['days_employed'].astype('int')"
   ]
  },
  {
   "cell_type": "markdown",
   "id": "4dbdc678",
   "metadata": {},
   "source": [
    "Замена вещественного типа данных на целочисленный"
   ]
  },
  {
   "cell_type": "code",
   "execution_count": 36,
   "id": "2d31de8f",
   "metadata": {},
   "outputs": [],
   "source": [
    "df['total_income'] = df['total_income'].astype('int')"
   ]
  },
  {
   "cell_type": "markdown",
   "id": "566971f5",
   "metadata": {},
   "source": [
    "Проверим, что все сделали верно"
   ]
  },
  {
   "cell_type": "code",
   "execution_count": 37,
   "id": "2470967e",
   "metadata": {
    "scrolled": true
   },
   "outputs": [
    {
     "name": "stdout",
     "output_type": "stream",
     "text": [
      "<class 'pandas.core.frame.DataFrame'>\n",
      "RangeIndex: 21525 entries, 0 to 21524\n",
      "Data columns (total 12 columns):\n",
      " #   Column            Non-Null Count  Dtype  \n",
      "---  ------            --------------  -----  \n",
      " 0   children          21525 non-null  int64  \n",
      " 1   days_employed     21525 non-null  int64  \n",
      " 2   dob_years         58 non-null     float64\n",
      " 3   education         21525 non-null  object \n",
      " 4   education_id      21525 non-null  int64  \n",
      " 5   family_status     21525 non-null  object \n",
      " 6   family_status_id  21525 non-null  int64  \n",
      " 7   gender            21525 non-null  object \n",
      " 8   income_type       21525 non-null  object \n",
      " 9   debt              21525 non-null  int64  \n",
      " 10  total_income      21525 non-null  int64  \n",
      " 11  purpose           21525 non-null  object \n",
      "dtypes: float64(1), int64(6), object(5)\n",
      "memory usage: 2.0+ MB\n"
     ]
    }
   ],
   "source": [
    "df.info()"
   ]
  },
  {
   "cell_type": "markdown",
   "id": "abd19320",
   "metadata": {},
   "source": [
    "### Шаг 2.4. Удаление дубликатов."
   ]
  },
  {
   "cell_type": "markdown",
   "id": "8b9515a7",
   "metadata": {},
   "source": [
    "В таблице встречаются повторяющиеся данные, их необходимо удалить."
   ]
  },
  {
   "cell_type": "markdown",
   "id": "3744b1b8",
   "metadata": {},
   "source": [
    "Для удаления всх дубликатов сначала даннные всех столбцов необходимо привести к единому регистру."
   ]
  },
  {
   "cell_type": "code",
   "execution_count": 38,
   "id": "a73e7a80",
   "metadata": {},
   "outputs": [],
   "source": [
    "df['education'] = df['education'].str.lower()\n",
    "df['family_status'] = df['family_status'].str.lower()\n",
    "df['gender'] = df['gender'].str.lower()\n",
    "df['income_type'] = df['income_type'].str.lower()\n",
    "df['purpose'] = df['purpose'].str.lower()"
   ]
  },
  {
   "cell_type": "markdown",
   "id": "950ef0b4",
   "metadata": {},
   "source": [
    "Найдём количество дубликатов в датафрейме."
   ]
  },
  {
   "cell_type": "code",
   "execution_count": 39,
   "id": "a1815499",
   "metadata": {},
   "outputs": [
    {
     "name": "stdout",
     "output_type": "stream",
     "text": [
      "Дубликатов до удаления 71\n"
     ]
    }
   ],
   "source": [
    "print('Дубликатов до удаления', df.duplicated().sum())"
   ]
  },
  {
   "cell_type": "markdown",
   "id": "e664ec40",
   "metadata": {},
   "source": [
    "Удалим их."
   ]
  },
  {
   "cell_type": "code",
   "execution_count": 40,
   "id": "a9f97eac",
   "metadata": {},
   "outputs": [],
   "source": [
    "df = df.drop_duplicates() "
   ]
  },
  {
   "cell_type": "markdown",
   "id": "52cf5551",
   "metadata": {},
   "source": [
    "Проверим, что удалили все дубликаты."
   ]
  },
  {
   "cell_type": "code",
   "execution_count": 41,
   "id": "345d2576",
   "metadata": {},
   "outputs": [
    {
     "name": "stdout",
     "output_type": "stream",
     "text": [
      "Дубликатов после удаления 0\n"
     ]
    }
   ],
   "source": [
    "print('Дубликатов после удаления', df.duplicated().sum())"
   ]
  },
  {
   "cell_type": "markdown",
   "id": "7531a1f1",
   "metadata": {},
   "source": [
    "В столбцах датафрейма данные были заполнены в разном регистре, возможно, их вносили разные люди. Для того, чтобы избежать этого в организации необходим внутренний документ, реграментирующий порядок ведения документации, в том числе и размер шрифта."
   ]
  },
  {
   "cell_type": "markdown",
   "id": "8a9a8c6c",
   "metadata": {},
   "source": [
    "### Шаг 2.5. Формирование дополнительных датафреймов словарей, декомпозиция исходного датафрейма."
   ]
  },
  {
   "cell_type": "markdown",
   "id": "ac911159",
   "metadata": {},
   "source": [
    "Создадим два новых дадафрейма, в которых укажем идентификаторы образования и семейного статуса. После этого удалим столбцы с идентификаторами из исходного датафрейма."
   ]
  },
  {
   "cell_type": "markdown",
   "id": "c94f11b4",
   "metadata": {},
   "source": [
    "Создадим новый датафрейм с уровнем образования и его идентификатором."
   ]
  },
  {
   "cell_type": "code",
   "execution_count": 42,
   "id": "92695766",
   "metadata": {},
   "outputs": [],
   "source": [
    "education = df[['education', 'education_id']]"
   ]
  },
  {
   "cell_type": "markdown",
   "id": "1431e8f2",
   "metadata": {},
   "source": [
    "Так как уровень образования и его идентификатор повторяются, удалим эти дубликаты."
   ]
  },
  {
   "cell_type": "code",
   "execution_count": 43,
   "id": "16852061",
   "metadata": {},
   "outputs": [],
   "source": [
    "education = education.drop_duplicates() "
   ]
  },
  {
   "cell_type": "markdown",
   "id": "eabdeafe",
   "metadata": {},
   "source": [
    "Создадим новый датафрейм с семейным статусом и его идентификатором."
   ]
  },
  {
   "cell_type": "code",
   "execution_count": 44,
   "id": "689d7577",
   "metadata": {},
   "outputs": [],
   "source": [
    "family_status = df[['family_status', 'family_status_id']]"
   ]
  },
  {
   "cell_type": "markdown",
   "id": "7662f642",
   "metadata": {},
   "source": [
    "Так как семейный статус и его идентификатор повторяются, удалим эти дубликаты."
   ]
  },
  {
   "cell_type": "code",
   "execution_count": 45,
   "id": "47cbc34e",
   "metadata": {},
   "outputs": [],
   "source": [
    "family_status = family_status.drop_duplicates() "
   ]
  },
  {
   "cell_type": "markdown",
   "id": "93f7b721",
   "metadata": {},
   "source": [
    "Удалим из исходного датафрейма столбцы с уровнем образования и семейным статусом, оставим только их числовой идентификатор"
   ]
  },
  {
   "cell_type": "code",
   "execution_count": 46,
   "id": "a2cb0db3",
   "metadata": {},
   "outputs": [
    {
     "data": {
      "text/html": [
       "<div>\n",
       "<style scoped>\n",
       "    .dataframe tbody tr th:only-of-type {\n",
       "        vertical-align: middle;\n",
       "    }\n",
       "\n",
       "    .dataframe tbody tr th {\n",
       "        vertical-align: top;\n",
       "    }\n",
       "\n",
       "    .dataframe thead th {\n",
       "        text-align: right;\n",
       "    }\n",
       "</style>\n",
       "<table border=\"1\" class=\"dataframe\">\n",
       "  <thead>\n",
       "    <tr style=\"text-align: right;\">\n",
       "      <th></th>\n",
       "      <th>children</th>\n",
       "      <th>days_employed</th>\n",
       "      <th>dob_years</th>\n",
       "      <th>education_id</th>\n",
       "      <th>family_status_id</th>\n",
       "      <th>gender</th>\n",
       "      <th>income_type</th>\n",
       "      <th>debt</th>\n",
       "      <th>total_income</th>\n",
       "      <th>purpose</th>\n",
       "    </tr>\n",
       "  </thead>\n",
       "  <tbody>\n",
       "    <tr>\n",
       "      <th>0</th>\n",
       "      <td>1</td>\n",
       "      <td>8437</td>\n",
       "      <td>101.0</td>\n",
       "      <td>0</td>\n",
       "      <td>0</td>\n",
       "      <td>f</td>\n",
       "      <td>сотрудник</td>\n",
       "      <td>0</td>\n",
       "      <td>253875</td>\n",
       "      <td>покупка жилья</td>\n",
       "    </tr>\n",
       "    <tr>\n",
       "      <th>1</th>\n",
       "      <td>1</td>\n",
       "      <td>4024</td>\n",
       "      <td>NaN</td>\n",
       "      <td>1</td>\n",
       "      <td>0</td>\n",
       "      <td>f</td>\n",
       "      <td>сотрудник</td>\n",
       "      <td>0</td>\n",
       "      <td>112080</td>\n",
       "      <td>приобретение автомобиля</td>\n",
       "    </tr>\n",
       "    <tr>\n",
       "      <th>2</th>\n",
       "      <td>0</td>\n",
       "      <td>5623</td>\n",
       "      <td>NaN</td>\n",
       "      <td>1</td>\n",
       "      <td>0</td>\n",
       "      <td>m</td>\n",
       "      <td>сотрудник</td>\n",
       "      <td>0</td>\n",
       "      <td>145885</td>\n",
       "      <td>покупка жилья</td>\n",
       "    </tr>\n",
       "    <tr>\n",
       "      <th>3</th>\n",
       "      <td>3</td>\n",
       "      <td>4124</td>\n",
       "      <td>NaN</td>\n",
       "      <td>1</td>\n",
       "      <td>0</td>\n",
       "      <td>m</td>\n",
       "      <td>сотрудник</td>\n",
       "      <td>0</td>\n",
       "      <td>267628</td>\n",
       "      <td>дополнительное образование</td>\n",
       "    </tr>\n",
       "    <tr>\n",
       "      <th>4</th>\n",
       "      <td>0</td>\n",
       "      <td>340266</td>\n",
       "      <td>NaN</td>\n",
       "      <td>1</td>\n",
       "      <td>1</td>\n",
       "      <td>f</td>\n",
       "      <td>пенсионер</td>\n",
       "      <td>0</td>\n",
       "      <td>158616</td>\n",
       "      <td>сыграть свадьбу</td>\n",
       "    </tr>\n",
       "    <tr>\n",
       "      <th>...</th>\n",
       "      <td>...</td>\n",
       "      <td>...</td>\n",
       "      <td>...</td>\n",
       "      <td>...</td>\n",
       "      <td>...</td>\n",
       "      <td>...</td>\n",
       "      <td>...</td>\n",
       "      <td>...</td>\n",
       "      <td>...</td>\n",
       "      <td>...</td>\n",
       "    </tr>\n",
       "    <tr>\n",
       "      <th>21520</th>\n",
       "      <td>1</td>\n",
       "      <td>4529</td>\n",
       "      <td>NaN</td>\n",
       "      <td>1</td>\n",
       "      <td>1</td>\n",
       "      <td>f</td>\n",
       "      <td>компаньон</td>\n",
       "      <td>0</td>\n",
       "      <td>224791</td>\n",
       "      <td>операции с жильем</td>\n",
       "    </tr>\n",
       "    <tr>\n",
       "      <th>21521</th>\n",
       "      <td>0</td>\n",
       "      <td>343937</td>\n",
       "      <td>NaN</td>\n",
       "      <td>1</td>\n",
       "      <td>0</td>\n",
       "      <td>f</td>\n",
       "      <td>пенсионер</td>\n",
       "      <td>0</td>\n",
       "      <td>155999</td>\n",
       "      <td>сделка с автомобилем</td>\n",
       "    </tr>\n",
       "    <tr>\n",
       "      <th>21522</th>\n",
       "      <td>1</td>\n",
       "      <td>2113</td>\n",
       "      <td>NaN</td>\n",
       "      <td>1</td>\n",
       "      <td>1</td>\n",
       "      <td>m</td>\n",
       "      <td>сотрудник</td>\n",
       "      <td>1</td>\n",
       "      <td>89672</td>\n",
       "      <td>недвижимость</td>\n",
       "    </tr>\n",
       "    <tr>\n",
       "      <th>21523</th>\n",
       "      <td>3</td>\n",
       "      <td>3112</td>\n",
       "      <td>NaN</td>\n",
       "      <td>1</td>\n",
       "      <td>0</td>\n",
       "      <td>m</td>\n",
       "      <td>сотрудник</td>\n",
       "      <td>1</td>\n",
       "      <td>244093</td>\n",
       "      <td>на покупку своего автомобиля</td>\n",
       "    </tr>\n",
       "    <tr>\n",
       "      <th>21524</th>\n",
       "      <td>2</td>\n",
       "      <td>1984</td>\n",
       "      <td>NaN</td>\n",
       "      <td>1</td>\n",
       "      <td>0</td>\n",
       "      <td>f</td>\n",
       "      <td>сотрудник</td>\n",
       "      <td>0</td>\n",
       "      <td>82047</td>\n",
       "      <td>на покупку автомобиля</td>\n",
       "    </tr>\n",
       "  </tbody>\n",
       "</table>\n",
       "<p>21454 rows × 10 columns</p>\n",
       "</div>"
      ],
      "text/plain": [
       "       children  days_employed  dob_years  education_id  family_status_id  \\\n",
       "0             1           8437      101.0             0                 0   \n",
       "1             1           4024        NaN             1                 0   \n",
       "2             0           5623        NaN             1                 0   \n",
       "3             3           4124        NaN             1                 0   \n",
       "4             0         340266        NaN             1                 1   \n",
       "...         ...            ...        ...           ...               ...   \n",
       "21520         1           4529        NaN             1                 1   \n",
       "21521         0         343937        NaN             1                 0   \n",
       "21522         1           2113        NaN             1                 1   \n",
       "21523         3           3112        NaN             1                 0   \n",
       "21524         2           1984        NaN             1                 0   \n",
       "\n",
       "      gender income_type  debt  total_income                       purpose  \n",
       "0          f   сотрудник     0        253875                 покупка жилья  \n",
       "1          f   сотрудник     0        112080       приобретение автомобиля  \n",
       "2          m   сотрудник     0        145885                 покупка жилья  \n",
       "3          m   сотрудник     0        267628    дополнительное образование  \n",
       "4          f   пенсионер     0        158616               сыграть свадьбу  \n",
       "...      ...         ...   ...           ...                           ...  \n",
       "21520      f   компаньон     0        224791             операции с жильем  \n",
       "21521      f   пенсионер     0        155999          сделка с автомобилем  \n",
       "21522      m   сотрудник     1         89672                  недвижимость  \n",
       "21523      m   сотрудник     1        244093  на покупку своего автомобиля  \n",
       "21524      f   сотрудник     0         82047         на покупку автомобиля  \n",
       "\n",
       "[21454 rows x 10 columns]"
      ]
     },
     "execution_count": 46,
     "metadata": {},
     "output_type": "execute_result"
    }
   ],
   "source": [
    "df.drop(['education', 'family_status'], axis = 1)"
   ]
  },
  {
   "cell_type": "markdown",
   "id": "e7ddc7f5",
   "metadata": {},
   "source": [
    "### Шаг 2.6. Категоризация дохода."
   ]
  },
  {
   "cell_type": "markdown",
   "id": "8529dc4c",
   "metadata": {},
   "source": [
    "Для проверки гипотезы о взаимосвязи уровня дохода и количества просроченных платежей удобнее рассортировать доход клиентов по категориям и присвоить ей идентификатор."
   ]
  },
  {
   "cell_type": "markdown",
   "id": "29e0348b",
   "metadata": {},
   "source": [
    "Напишем собственную функцию, которая рассортирует уровень дохода клиентов по категориям."
   ]
  },
  {
   "cell_type": "code",
   "execution_count": 47,
   "id": "576866e8",
   "metadata": {},
   "outputs": [],
   "source": [
    "def total_income_category (total_income):\n",
    "    if 0 < total_income <= 30000:\n",
    "        return 'E'\n",
    "    if 30001 <= total_income <= 50000:\n",
    "        return 'D'\n",
    "    if 50001 <= total_income <= 200000:\n",
    "        return 'C'\n",
    "    if 200001 <= total_income <= 1000000:\n",
    "        return 'B'\n",
    "    if 1000001 <= total_income:\n",
    "        return 'A'"
   ]
  },
  {
   "cell_type": "markdown",
   "id": "587a7e4c",
   "metadata": {},
   "source": [
    "Добавим в датафрейм новый столбец с категорией дохода."
   ]
  },
  {
   "cell_type": "code",
   "execution_count": 48,
   "id": "f4229e8f",
   "metadata": {},
   "outputs": [],
   "source": [
    "try:    \n",
    "    df['total_income_category'] = df['total_income'].apply(total_income_category) \n",
    "except:\n",
    "    print('Не могу добавить!')"
   ]
  },
  {
   "cell_type": "markdown",
   "id": "4b2f30dd",
   "metadata": {},
   "source": [
    "Проверим, что столбец добавлен и всё в порядке."
   ]
  },
  {
   "cell_type": "code",
   "execution_count": 49,
   "id": "b0f78f97",
   "metadata": {
    "scrolled": true
   },
   "outputs": [
    {
     "name": "stdout",
     "output_type": "stream",
     "text": [
      "C    16015\n",
      "B     5042\n",
      "D      350\n",
      "A       25\n",
      "E       22\n",
      "Name: total_income_category, dtype: int64\n"
     ]
    }
   ],
   "source": [
    "print(df['total_income_category'].value_counts(dropna=False))"
   ]
  },
  {
   "cell_type": "markdown",
   "id": "e605a094",
   "metadata": {},
   "source": [
    "<div class=\"alert alert-danger\">\n",
    "<h1> Комментарий ревьюера &#9940;</h1>\n",
    "\n",
    "Здесь код упал с ошибкой:\n",
    "    \n",
    "      File \"/tmp/ipykernel_54/3342736316.py\", line 19\n",
    "        return 'Не могу добавить!'\n",
    "        ^\n",
    "    SyntaxError: 'return' outside function\n",
    "    \n",
    "Дело в том, что команда `return` работает только внутри функций. Вне функций в блоке `try-except` ее необходимо заменить на `print()` или `display()`. \n",
    "\n",
    "</div>"
   ]
  },
  {
   "cell_type": "markdown",
   "id": "937e3442",
   "metadata": {},
   "source": [
    "<div class=\"alert alert-info\">\n",
    "Спасибо, учту этот момент на будущее.\n",
    "</div>"
   ]
  },
  {
   "cell_type": "markdown",
   "id": "7846fb53",
   "metadata": {},
   "source": [
    "### Шаг 2.7. Категоризация целей кредита."
   ]
  },
  {
   "cell_type": "markdown",
   "id": "07fd94b2",
   "metadata": {},
   "source": [
    "Для проверки гипотезы о взаимосвязи целей кредита и количества просроченных платежей удобнее рассортировать цели по категориям."
   ]
  },
  {
   "cell_type": "markdown",
   "id": "954ef713",
   "metadata": {},
   "source": [
    "Напишем собственную функцию, которая рассортирует цели кредита по категориям."
   ]
  },
  {
   "cell_type": "code",
   "execution_count": 50,
   "id": "490576f5",
   "metadata": {},
   "outputs": [],
   "source": [
    "def purpose_credit (purpose):\n",
    "    if 'авто' in purpose:\n",
    "        return 'операции с автомобилем'    \n",
    "    if 'свад' in purpose:\n",
    "        return 'проведение свадьбы'\n",
    "    if 'образ' in purpose:\n",
    "        return 'получение образования'\n",
    "    else:\n",
    "        return 'операции с недвижимостью'"
   ]
  },
  {
   "cell_type": "markdown",
   "id": "f1d5aa6d",
   "metadata": {},
   "source": [
    "Добавим в датафрейм новый столбец с категорией целей кредита."
   ]
  },
  {
   "cell_type": "code",
   "execution_count": 51,
   "id": "8b1181cd",
   "metadata": {},
   "outputs": [],
   "source": [
    "try:\n",
    "    df['purpose_category'] = df['purpose'].apply(purpose_credit)\n",
    "except:\n",
    "    print('Не могу добавить!')"
   ]
  },
  {
   "cell_type": "markdown",
   "id": "82f54fac",
   "metadata": {},
   "source": [
    "Проверим, что столбец добавлен и всё в порядке."
   ]
  },
  {
   "cell_type": "code",
   "execution_count": 52,
   "id": "e1342ba8",
   "metadata": {},
   "outputs": [
    {
     "name": "stdout",
     "output_type": "stream",
     "text": [
      "операции с недвижимостью    10811\n",
      "операции с автомобилем       4306\n",
      "получение образования        4013\n",
      "проведение свадьбы           2324\n",
      "Name: purpose_category, dtype: int64\n"
     ]
    }
   ],
   "source": [
    "print(df['purpose_category'].value_counts(dropna=False))"
   ]
  },
  {
   "cell_type": "markdown",
   "id": "6cd9ad09",
   "metadata": {},
   "source": [
    "Предобработка обнаружила две проблемы в данных:\n",
    "\n",
    "пропущенные значения,\n",
    "дубликаты — явные и неявные.\n",
    "\n",
    "Мы заполнили пропуски и разделили уровень дохода клиентов и цель получения кредита на категории, чтобы упростить работу с таблицей. Без дубликатов исследование станет более точным.\n",
    "\n",
    "Теперь можно перейти к проверке гипотез."
   ]
  },
  {
   "cell_type": "markdown",
   "id": "80980a2e",
   "metadata": {},
   "source": [
    "### Ответы на вопросы."
   ]
  },
  {
   "cell_type": "markdown",
   "id": "8ab94c9c",
   "metadata": {},
   "source": [
    "##### Вопрос 1:\n",
    "Есть ли зависимость между количеством детей и возвратом кредита в срок?\n"
   ]
  },
  {
   "cell_type": "markdown",
   "id": "f48d68be",
   "metadata": {},
   "source": [
    "Для ответа на вопрос и проверки гипотезы взаимосвязи увеличения количества детей и возрастанием задолженностей сначала создадим сводную таблицу, в которой вычислим отношение просроченных платежей среди людей с определённым количеством детей к общему количеству людей с таким же количеством детей."
   ]
  },
  {
   "cell_type": "code",
   "execution_count": 53,
   "id": "103b8a4f",
   "metadata": {},
   "outputs": [],
   "source": [
    "data_pivot = df.pivot_table(index=['children'], values='debt', aggfunc=['count', 'sum', 'mean'])"
   ]
  },
  {
   "cell_type": "markdown",
   "id": "60241d34",
   "metadata": {},
   "source": [
    "Изучим полученную таблицу."
   ]
  },
  {
   "cell_type": "code",
   "execution_count": 54,
   "id": "4da8fc04",
   "metadata": {},
   "outputs": [
    {
     "data": {
      "text/html": [
       "<div>\n",
       "<style scoped>\n",
       "    .dataframe tbody tr th:only-of-type {\n",
       "        vertical-align: middle;\n",
       "    }\n",
       "\n",
       "    .dataframe tbody tr th {\n",
       "        vertical-align: top;\n",
       "    }\n",
       "\n",
       "    .dataframe thead tr th {\n",
       "        text-align: left;\n",
       "    }\n",
       "\n",
       "    .dataframe thead tr:last-of-type th {\n",
       "        text-align: right;\n",
       "    }\n",
       "</style>\n",
       "<table border=\"1\" class=\"dataframe\">\n",
       "  <thead>\n",
       "    <tr>\n",
       "      <th></th>\n",
       "      <th>count</th>\n",
       "      <th>sum</th>\n",
       "      <th>mean</th>\n",
       "    </tr>\n",
       "    <tr>\n",
       "      <th></th>\n",
       "      <th>debt</th>\n",
       "      <th>debt</th>\n",
       "      <th>debt</th>\n",
       "    </tr>\n",
       "    <tr>\n",
       "      <th>children</th>\n",
       "      <th></th>\n",
       "      <th></th>\n",
       "      <th></th>\n",
       "    </tr>\n",
       "  </thead>\n",
       "  <tbody>\n",
       "    <tr>\n",
       "      <th>0</th>\n",
       "      <td>14091</td>\n",
       "      <td>1063</td>\n",
       "      <td>0.075438</td>\n",
       "    </tr>\n",
       "    <tr>\n",
       "      <th>1</th>\n",
       "      <td>4855</td>\n",
       "      <td>445</td>\n",
       "      <td>0.091658</td>\n",
       "    </tr>\n",
       "    <tr>\n",
       "      <th>2</th>\n",
       "      <td>2128</td>\n",
       "      <td>202</td>\n",
       "      <td>0.094925</td>\n",
       "    </tr>\n",
       "    <tr>\n",
       "      <th>3</th>\n",
       "      <td>330</td>\n",
       "      <td>27</td>\n",
       "      <td>0.081818</td>\n",
       "    </tr>\n",
       "    <tr>\n",
       "      <th>4</th>\n",
       "      <td>41</td>\n",
       "      <td>4</td>\n",
       "      <td>0.097561</td>\n",
       "    </tr>\n",
       "    <tr>\n",
       "      <th>5</th>\n",
       "      <td>9</td>\n",
       "      <td>0</td>\n",
       "      <td>0.000000</td>\n",
       "    </tr>\n",
       "  </tbody>\n",
       "</table>\n",
       "</div>"
      ],
      "text/plain": [
       "          count   sum      mean\n",
       "           debt  debt      debt\n",
       "children                       \n",
       "0         14091  1063  0.075438\n",
       "1          4855   445  0.091658\n",
       "2          2128   202  0.094925\n",
       "3           330    27  0.081818\n",
       "4            41     4  0.097561\n",
       "5             9     0  0.000000"
      ]
     },
     "metadata": {},
     "output_type": "display_data"
    }
   ],
   "source": [
    "display(data_pivot) "
   ]
  },
  {
   "cell_type": "markdown",
   "id": "e83c469c",
   "metadata": {},
   "source": [
    "Тот, кто не имеет детей, а также имеет 5 детей чаще возвращают кредит в срок. Люди, имеющие 1, 2 или 4 детей реже возвращают кредит в срок (9,2%, 9,5%, 9,7% соответственно).\n"
   ]
  },
  {
   "cell_type": "code",
   "execution_count": 53,
   "id": "342f5b0d",
   "metadata": {},
   "outputs": [
    {
     "data": {
      "text/html": [
       "<div>\n",
       "<style scoped>\n",
       "    .dataframe tbody tr th:only-of-type {\n",
       "        vertical-align: middle;\n",
       "    }\n",
       "\n",
       "    .dataframe tbody tr th {\n",
       "        vertical-align: top;\n",
       "    }\n",
       "\n",
       "    .dataframe thead tr th {\n",
       "        text-align: left;\n",
       "    }\n",
       "\n",
       "    .dataframe thead tr:last-of-type th {\n",
       "        text-align: right;\n",
       "    }\n",
       "</style>\n",
       "<table border=\"1\" class=\"dataframe\">\n",
       "  <thead>\n",
       "    <tr>\n",
       "      <th></th>\n",
       "      <th>count</th>\n",
       "      <th>sum</th>\n",
       "      <th>mean</th>\n",
       "    </tr>\n",
       "    <tr>\n",
       "      <th></th>\n",
       "      <th>debt</th>\n",
       "      <th>debt</th>\n",
       "      <th>debt</th>\n",
       "    </tr>\n",
       "    <tr>\n",
       "      <th>children</th>\n",
       "      <th></th>\n",
       "      <th></th>\n",
       "      <th></th>\n",
       "    </tr>\n",
       "  </thead>\n",
       "  <tbody>\n",
       "    <tr>\n",
       "      <th>0</th>\n",
       "      <td>14091</td>\n",
       "      <td>1063</td>\n",
       "      <td>0.075438</td>\n",
       "    </tr>\n",
       "    <tr>\n",
       "      <th>1</th>\n",
       "      <td>4855</td>\n",
       "      <td>445</td>\n",
       "      <td>0.091658</td>\n",
       "    </tr>\n",
       "    <tr>\n",
       "      <th>2</th>\n",
       "      <td>2128</td>\n",
       "      <td>202</td>\n",
       "      <td>0.094925</td>\n",
       "    </tr>\n",
       "    <tr>\n",
       "      <th>3</th>\n",
       "      <td>330</td>\n",
       "      <td>27</td>\n",
       "      <td>0.081818</td>\n",
       "    </tr>\n",
       "    <tr>\n",
       "      <th>4</th>\n",
       "      <td>41</td>\n",
       "      <td>4</td>\n",
       "      <td>0.097561</td>\n",
       "    </tr>\n",
       "    <tr>\n",
       "      <th>5</th>\n",
       "      <td>9</td>\n",
       "      <td>0</td>\n",
       "      <td>0.000000</td>\n",
       "    </tr>\n",
       "  </tbody>\n",
       "</table>\n",
       "</div>"
      ],
      "text/plain": [
       "          count   sum      mean\n",
       "           debt  debt      debt\n",
       "children                       \n",
       "0         14091  1063  0.075438\n",
       "1          4855   445  0.091658\n",
       "2          2128   202  0.094925\n",
       "3           330    27  0.081818\n",
       "4            41     4  0.097561\n",
       "5             9     0  0.000000"
      ]
     },
     "metadata": {},
     "output_type": "display_data"
    }
   ],
   "source": [
    "# код ревьюера\n",
    "display(data_pivot)"
   ]
  },
  {
   "cell_type": "markdown",
   "id": "141bdf40",
   "metadata": {},
   "source": [
    "##### Вопрос 2:\n",
    "Есть ли зависимость между семейным положением и возвратом кредита в срок?\n"
   ]
  },
  {
   "cell_type": "markdown",
   "id": "6c84c896",
   "metadata": {},
   "source": [
    "Для ответа на вопрос и проверки второй гипотезы о взаимосвязи семейного положения и возврата кредита в срок сначала создадим сводную таблицу, в которой вычислим отношение просроченных платежей среди людей с определённым семейным положением к общему количеству людей с таким же семейным положением."
   ]
  },
  {
   "cell_type": "code",
   "execution_count": 57,
   "id": "e192b20b",
   "metadata": {},
   "outputs": [],
   "source": [
    "data_pivot_a = df.pivot_table(index=['family_status_id'], values=[\"debt\"], aggfunc=['sum', 'count', 'mean'])"
   ]
  },
  {
   "cell_type": "markdown",
   "id": "88bcfc69",
   "metadata": {},
   "source": [
    "Изучим полученную таблицу."
   ]
  },
  {
   "cell_type": "code",
   "execution_count": 58,
   "id": "4ff1bb3f",
   "metadata": {},
   "outputs": [
    {
     "data": {
      "text/html": [
       "<div>\n",
       "<style scoped>\n",
       "    .dataframe tbody tr th:only-of-type {\n",
       "        vertical-align: middle;\n",
       "    }\n",
       "\n",
       "    .dataframe tbody tr th {\n",
       "        vertical-align: top;\n",
       "    }\n",
       "\n",
       "    .dataframe thead tr th {\n",
       "        text-align: left;\n",
       "    }\n",
       "\n",
       "    .dataframe thead tr:last-of-type th {\n",
       "        text-align: right;\n",
       "    }\n",
       "</style>\n",
       "<table border=\"1\" class=\"dataframe\">\n",
       "  <thead>\n",
       "    <tr>\n",
       "      <th></th>\n",
       "      <th>sum</th>\n",
       "      <th>count</th>\n",
       "      <th>mean</th>\n",
       "    </tr>\n",
       "    <tr>\n",
       "      <th></th>\n",
       "      <th>debt</th>\n",
       "      <th>debt</th>\n",
       "      <th>debt</th>\n",
       "    </tr>\n",
       "    <tr>\n",
       "      <th>family_status_id</th>\n",
       "      <th></th>\n",
       "      <th></th>\n",
       "      <th></th>\n",
       "    </tr>\n",
       "  </thead>\n",
       "  <tbody>\n",
       "    <tr>\n",
       "      <th>0</th>\n",
       "      <td>931</td>\n",
       "      <td>12339</td>\n",
       "      <td>0.075452</td>\n",
       "    </tr>\n",
       "    <tr>\n",
       "      <th>1</th>\n",
       "      <td>388</td>\n",
       "      <td>4151</td>\n",
       "      <td>0.093471</td>\n",
       "    </tr>\n",
       "    <tr>\n",
       "      <th>2</th>\n",
       "      <td>63</td>\n",
       "      <td>959</td>\n",
       "      <td>0.065693</td>\n",
       "    </tr>\n",
       "    <tr>\n",
       "      <th>3</th>\n",
       "      <td>85</td>\n",
       "      <td>1195</td>\n",
       "      <td>0.071130</td>\n",
       "    </tr>\n",
       "    <tr>\n",
       "      <th>4</th>\n",
       "      <td>274</td>\n",
       "      <td>2810</td>\n",
       "      <td>0.097509</td>\n",
       "    </tr>\n",
       "  </tbody>\n",
       "</table>\n",
       "</div>"
      ],
      "text/plain": [
       "                  sum  count      mean\n",
       "                 debt   debt      debt\n",
       "family_status_id                      \n",
       "0                 931  12339  0.075452\n",
       "1                 388   4151  0.093471\n",
       "2                  63    959  0.065693\n",
       "3                  85   1195  0.071130\n",
       "4                 274   2810  0.097509"
      ]
     },
     "metadata": {},
     "output_type": "display_data"
    }
   ],
   "source": [
    "display(data_pivot_a)"
   ]
  },
  {
   "cell_type": "markdown",
   "id": "e6640a64",
   "metadata": {},
   "source": [
    "Чаще всего кредит возвращают в срок вдовцы, а задерживают не женатые/не замужние. Разница между возвратами в срок среди разведённых (7,1) и женатых (7,4%) незначительна. Также часто задерживают выплаты по кредиту живущие в гражданском браке (9,3%)."
   ]
  },
  {
   "cell_type": "markdown",
   "id": "a646952d",
   "metadata": {},
   "source": [
    "##### Вопрос 3:\n",
    "Есть ли зависимость между уровнем дохода и возвратом кредита в срок?\n"
   ]
  },
  {
   "cell_type": "markdown",
   "id": "9e89b4c5",
   "metadata": {},
   "source": [
    "Для ответа на вопрос и проверки третьей гипотезы о снижении просроченных платежей с увеличением дохода клиента сначала создадим сводную таблицу, в которой вычислим отношение просроченных платежей среди людей с определённым уровнем дохода к общему количеству людей с таким же уровнем дохода."
   ]
  },
  {
   "cell_type": "code",
   "execution_count": 59,
   "id": "6a0e5d0f",
   "metadata": {},
   "outputs": [],
   "source": [
    "data_pivot_b = df.pivot_table(index=['total_income_category'], values='debt', aggfunc=['sum', 'count', 'mean'])"
   ]
  },
  {
   "cell_type": "markdown",
   "id": "6f4f8461",
   "metadata": {},
   "source": [
    "Изучим полученную таблицу."
   ]
  },
  {
   "cell_type": "code",
   "execution_count": 60,
   "id": "b72bd708",
   "metadata": {},
   "outputs": [
    {
     "data": {
      "text/html": [
       "<div>\n",
       "<style scoped>\n",
       "    .dataframe tbody tr th:only-of-type {\n",
       "        vertical-align: middle;\n",
       "    }\n",
       "\n",
       "    .dataframe tbody tr th {\n",
       "        vertical-align: top;\n",
       "    }\n",
       "\n",
       "    .dataframe thead tr th {\n",
       "        text-align: left;\n",
       "    }\n",
       "\n",
       "    .dataframe thead tr:last-of-type th {\n",
       "        text-align: right;\n",
       "    }\n",
       "</style>\n",
       "<table border=\"1\" class=\"dataframe\">\n",
       "  <thead>\n",
       "    <tr>\n",
       "      <th></th>\n",
       "      <th>sum</th>\n",
       "      <th>count</th>\n",
       "      <th>mean</th>\n",
       "    </tr>\n",
       "    <tr>\n",
       "      <th></th>\n",
       "      <th>debt</th>\n",
       "      <th>debt</th>\n",
       "      <th>debt</th>\n",
       "    </tr>\n",
       "    <tr>\n",
       "      <th>total_income_category</th>\n",
       "      <th></th>\n",
       "      <th></th>\n",
       "      <th></th>\n",
       "    </tr>\n",
       "  </thead>\n",
       "  <tbody>\n",
       "    <tr>\n",
       "      <th>A</th>\n",
       "      <td>2</td>\n",
       "      <td>25</td>\n",
       "      <td>0.080000</td>\n",
       "    </tr>\n",
       "    <tr>\n",
       "      <th>B</th>\n",
       "      <td>356</td>\n",
       "      <td>5042</td>\n",
       "      <td>0.070607</td>\n",
       "    </tr>\n",
       "    <tr>\n",
       "      <th>C</th>\n",
       "      <td>1360</td>\n",
       "      <td>16015</td>\n",
       "      <td>0.084920</td>\n",
       "    </tr>\n",
       "    <tr>\n",
       "      <th>D</th>\n",
       "      <td>21</td>\n",
       "      <td>350</td>\n",
       "      <td>0.060000</td>\n",
       "    </tr>\n",
       "    <tr>\n",
       "      <th>E</th>\n",
       "      <td>2</td>\n",
       "      <td>22</td>\n",
       "      <td>0.090909</td>\n",
       "    </tr>\n",
       "  </tbody>\n",
       "</table>\n",
       "</div>"
      ],
      "text/plain": [
       "                        sum  count      mean\n",
       "                       debt   debt      debt\n",
       "total_income_category                       \n",
       "A                         2     25  0.080000\n",
       "B                       356   5042  0.070607\n",
       "C                      1360  16015  0.084920\n",
       "D                        21    350  0.060000\n",
       "E                         2     22  0.090909"
      ]
     },
     "metadata": {},
     "output_type": "display_data"
    }
   ],
   "source": [
    "display(data_pivot_b)"
   ]
  },
  {
   "cell_type": "markdown",
   "id": "783ce7a5",
   "metadata": {},
   "source": [
    "Люди, зарабатывающие 30001-50000, чаще других возвращают кредит в срок. Наиболее часто задерживают выплату зарабатывающие до 30000."
   ]
  },
  {
   "cell_type": "markdown",
   "id": "d46179e3",
   "metadata": {},
   "source": [
    "##### Вопрос 4:\n",
    "Как разные цели кредита влияют на его возврат в срок?"
   ]
  },
  {
   "cell_type": "markdown",
   "id": "bdf37ec9",
   "metadata": {},
   "source": [
    "Для ответа на вопрос и проверки гипозы о взаимосвязи цели кредита и его возврате в срок сначала создадим сводную таблицу, в которой вычислим отношение просроченных платежей среди людей с определённой целью кредита к общему количеству людей с такой же целью кредита."
   ]
  },
  {
   "cell_type": "code",
   "execution_count": 61,
   "id": "93565446",
   "metadata": {},
   "outputs": [],
   "source": [
    "data_pivot_c = df.pivot_table(index=['purpose_category'], values=['debt'], aggfunc=['sum', 'count', 'mean'])"
   ]
  },
  {
   "cell_type": "markdown",
   "id": "0c539d1e",
   "metadata": {},
   "source": [
    "Изучим полученную таблицу."
   ]
  },
  {
   "cell_type": "code",
   "execution_count": 62,
   "id": "d29d7b13",
   "metadata": {
    "scrolled": true
   },
   "outputs": [
    {
     "name": "stdout",
     "output_type": "stream",
     "text": [
      "                          sum  count      mean\n",
      "                         debt   debt      debt\n",
      "purpose_category                              \n",
      "операции с автомобилем    403   4306  0.093590\n",
      "операции с недвижимостью  782  10811  0.072334\n",
      "получение образования     370   4013  0.092200\n",
      "проведение свадьбы        186   2324  0.080034\n"
     ]
    }
   ],
   "source": [
    "print(data_pivot_c)"
   ]
  },
  {
   "cell_type": "markdown",
   "id": "a7036d88",
   "metadata": {},
   "source": [
    "Чаще кредит возвращают в срок по категории операции с недвижимостью (7,2%), реже всего - операции с автомобилем (9,3%). Также в категории получение образования (9,2%) часто задерживают выплату."
   ]
  },
  {
   "cell_type": "markdown",
   "id": "25720837",
   "metadata": {},
   "source": [
    "##### Вывод 1:"
   ]
  },
  {
   "cell_type": "markdown",
   "id": "e8fac8ce",
   "metadata": {},
   "source": [
    "Гипотеза о возрастании просроченных платежей с увеличением количества детей подтвердилась лишь частично. У бездетных просроченных платежей действительно меньше, но у семей с пятью детьми просрочек нет вообще (в этом случае, вероятнее всего, слишком маленькая выборка - таких семей всего 9). Так же процент просроченных платежей увеличивается при одном или двух детях, но в семьях с тремя детьми он ниже."
   ]
  },
  {
   "cell_type": "markdown",
   "id": "caa31675",
   "metadata": {},
   "source": [
    "##### Вывод 2:"
   ]
  },
  {
   "cell_type": "markdown",
   "id": "ad1504f9",
   "metadata": {},
   "source": [
    "Гипотеза о том, что люди в браке чаще других возвращают кредит в срок не подтвердилась, так как чаще всего во время возвращают кредит вдовцы. Но разница между возвратами в срок среди разведённых (7,1%) и женатых (7,4%) незначительна. Чаще других выплату задерживают не женатые/не замужние."
   ]
  },
  {
   "cell_type": "markdown",
   "id": "2493329b",
   "metadata": {},
   "source": [
    "##### Вывод 3:"
   ]
  },
  {
   "cell_type": "markdown",
   "id": "c52861c8",
   "metadata": {},
   "source": [
    "Гипотеза о том, что количепство просроченных платежей снижается с увеличением дохода не подтвердилась. Наиболее дисциплинированные люди, зарабатывающие 30001-50000 (категория D). Уровень дохода прямо влияяет на возврат кредита в срок, так как больше всего задержек у людей с самым низким уровнем дохода. "
   ]
  },
  {
   "cell_type": "markdown",
   "id": "cc84840f",
   "metadata": {},
   "source": [
    "##### Вывод 4:"
   ]
  },
  {
   "cell_type": "markdown",
   "id": "c63c0c85",
   "metadata": {},
   "source": [
    "Гипотеза о том, что цель кредита влияет на его возврат в срок полностью подтвердилась. В категории операции с недвижимостью меньше всего просроченных выплат по кредиту (7,2%), больше всего в категории операции с автомобилем (9,3%). Также в категории получение образования (9,2%) часто задерживают выплату."
   ]
  },
  {
   "cell_type": "markdown",
   "id": "50977c22",
   "metadata": {},
   "source": [
    "## Общий вывод:"
   ]
  },
  {
   "cell_type": "markdown",
   "id": "2b48e09a",
   "metadata": {},
   "source": [
    "**В ходе выполнения проекта мы:**\n",
    "обработали данные, \n",
    "заполнили пропуски, \n",
    "удалили дубликаты, \n",
    "выявили аномалии в данных, сделали предположения о природе их возникновения. \n",
    "\n",
    "Ответили на все поставленные вопросы, проверили гипотезы, для чего сделали сводные таблицы. Посчитали отношение просроченных платежей по кагориям к общему количеству клиентов в этой категории, нашли закономерности в просроченных платежах по кредитам.\n",
    "\n",
    "Исходя из ответов на вопросы можно составить портрет идеального заёмщика: *вдова/вдовец без детей, зарабатывающий 30001-50000, с целью совершить операции с недвижимостью.*"
   ]
  },
  {
   "cell_type": "markdown",
   "id": "93dd2663",
   "metadata": {},
   "source": [
    "__Текст ревьюера__\n",
    "\n",
    "В ходе выполнения проекта:\n",
    "1. Мы обработали данные:\n",
    "    - заполнили пропуски, \n",
    "    - удалили дубликаты. \n",
    "    - выявили аномалии в данных, сделали предположения о природе их возникновения. \n",
    "2. Ответили на все поставленные вопросы, для чего сделали сводные таблицы. посчитали отношение просроченных платежей по кагориям к общему количеству клиентов в этой категории, нашли закономерности в просроченных платежах по кредитам.\n",
    "\n",
    "Исходя из ответов на вопросы можно составить портрет идеального заёмщика: _вдова/вдовец без детей, зарабатывающий 30001-50000, с целью совершить операции с недвижимостью._"
   ]
  }
 ],
 "metadata": {
  "ExecuteTimeLog": [
   {
    "duration": 511,
    "start_time": "2022-04-20T17:35:39.384Z"
   },
   {
    "duration": 4,
    "start_time": "2022-04-20T17:37:36.199Z"
   },
   {
    "duration": 115,
    "start_time": "2022-04-20T17:37:39.361Z"
   },
   {
    "duration": 75,
    "start_time": "2022-04-20T17:38:25.709Z"
   },
   {
    "duration": 93,
    "start_time": "2022-04-20T17:38:55.730Z"
   },
   {
    "duration": 68,
    "start_time": "2022-04-20T17:40:09.640Z"
   },
   {
    "duration": 117,
    "start_time": "2022-04-20T17:41:57.577Z"
   },
   {
    "duration": 84,
    "start_time": "2022-04-20T17:58:35.913Z"
   },
   {
    "duration": 73,
    "start_time": "2022-04-20T18:04:21.902Z"
   },
   {
    "duration": 80,
    "start_time": "2022-04-20T18:04:41.592Z"
   },
   {
    "duration": 89,
    "start_time": "2022-04-20T18:08:48.027Z"
   },
   {
    "duration": 148,
    "start_time": "2022-04-20T18:13:44.535Z"
   },
   {
    "duration": 88,
    "start_time": "2022-04-20T18:15:45.864Z"
   },
   {
    "duration": 93,
    "start_time": "2022-04-20T18:16:10.824Z"
   },
   {
    "duration": 90,
    "start_time": "2022-04-20T18:20:41.202Z"
   },
   {
    "duration": 83,
    "start_time": "2022-04-20T18:20:59.615Z"
   },
   {
    "duration": 87,
    "start_time": "2022-04-20T18:23:09.479Z"
   },
   {
    "duration": 91,
    "start_time": "2022-04-20T18:25:32.109Z"
   },
   {
    "duration": 94,
    "start_time": "2022-04-20T18:28:28.069Z"
   },
   {
    "duration": 9,
    "start_time": "2022-04-20T19:09:30.920Z"
   },
   {
    "duration": 8,
    "start_time": "2022-04-20T19:09:40.608Z"
   },
   {
    "duration": 95,
    "start_time": "2022-04-20T19:15:10.649Z"
   },
   {
    "duration": 70,
    "start_time": "2022-04-20T19:22:56.869Z"
   },
   {
    "duration": 90,
    "start_time": "2022-04-20T19:23:46.268Z"
   },
   {
    "duration": 70,
    "start_time": "2022-04-20T19:24:40.140Z"
   },
   {
    "duration": 167,
    "start_time": "2022-04-20T19:25:32.287Z"
   },
   {
    "duration": 13,
    "start_time": "2022-04-20T19:29:41.834Z"
   },
   {
    "duration": 14,
    "start_time": "2022-04-20T19:30:47.675Z"
   },
   {
    "duration": 11,
    "start_time": "2022-04-20T19:31:26.404Z"
   },
   {
    "duration": 8,
    "start_time": "2022-04-20T19:41:21.658Z"
   },
   {
    "duration": 37,
    "start_time": "2022-04-20T19:42:23.030Z"
   },
   {
    "duration": 123,
    "start_time": "2022-04-20T20:08:29.383Z"
   },
   {
    "duration": 110,
    "start_time": "2022-04-20T20:09:04.549Z"
   },
   {
    "duration": 1950,
    "start_time": "2022-04-20T20:09:29.658Z"
   },
   {
    "duration": 97,
    "start_time": "2022-04-20T20:09:57.994Z"
   },
   {
    "duration": 115,
    "start_time": "2022-04-20T20:10:42.763Z"
   },
   {
    "duration": 97,
    "start_time": "2022-04-20T20:11:18.412Z"
   },
   {
    "duration": 95,
    "start_time": "2022-04-20T20:11:28.074Z"
   },
   {
    "duration": 94,
    "start_time": "2022-04-20T20:11:53.541Z"
   },
   {
    "duration": 100,
    "start_time": "2022-04-20T20:12:55.056Z"
   },
   {
    "duration": 109,
    "start_time": "2022-04-20T20:13:20.738Z"
   },
   {
    "duration": 97,
    "start_time": "2022-04-20T20:14:15.100Z"
   },
   {
    "duration": 103,
    "start_time": "2022-04-20T20:15:13.580Z"
   },
   {
    "duration": 104,
    "start_time": "2022-04-20T20:16:34.218Z"
   },
   {
    "duration": 110,
    "start_time": "2022-04-20T20:17:02.219Z"
   },
   {
    "duration": 43,
    "start_time": "2022-04-20T20:17:51.343Z"
   },
   {
    "duration": 14,
    "start_time": "2022-04-20T20:17:56.783Z"
   },
   {
    "duration": 18,
    "start_time": "2022-04-20T20:18:36.209Z"
   },
   {
    "duration": 98,
    "start_time": "2022-04-20T20:23:33.569Z"
   },
   {
    "duration": 102,
    "start_time": "2022-04-20T20:25:43.068Z"
   },
   {
    "duration": 15,
    "start_time": "2022-04-20T20:26:23.246Z"
   },
   {
    "duration": 113,
    "start_time": "2022-04-20T20:28:47.845Z"
   },
   {
    "duration": 36,
    "start_time": "2022-04-20T20:29:17.451Z"
   },
   {
    "duration": 41,
    "start_time": "2022-04-20T20:29:28.021Z"
   },
   {
    "duration": 113,
    "start_time": "2022-04-20T20:29:37.742Z"
   },
   {
    "duration": 111,
    "start_time": "2022-04-20T20:38:36.073Z"
   },
   {
    "duration": 179,
    "start_time": "2022-04-20T20:39:04.252Z"
   },
   {
    "duration": 7,
    "start_time": "2022-04-20T20:40:12.648Z"
   },
   {
    "duration": 122,
    "start_time": "2022-04-20T20:40:27.000Z"
   },
   {
    "duration": 453,
    "start_time": "2022-04-22T18:20:08.814Z"
   },
   {
    "duration": 70,
    "start_time": "2022-04-22T18:25:25.906Z"
   },
   {
    "duration": 8,
    "start_time": "2022-04-22T18:25:53.981Z"
   },
   {
    "duration": 7,
    "start_time": "2022-04-22T18:32:41.727Z"
   },
   {
    "duration": 8,
    "start_time": "2022-04-22T18:33:17.062Z"
   },
   {
    "duration": 8,
    "start_time": "2022-04-22T18:33:49.805Z"
   },
   {
    "duration": 1396,
    "start_time": "2022-04-22T18:56:52.359Z"
   },
   {
    "duration": 174,
    "start_time": "2022-04-22T18:56:58.122Z"
   },
   {
    "duration": 132,
    "start_time": "2022-04-22T18:57:05.721Z"
   },
   {
    "duration": 18,
    "start_time": "2022-04-22T18:57:10.741Z"
   },
   {
    "duration": 109,
    "start_time": "2022-04-22T18:57:14.272Z"
   },
   {
    "duration": 9,
    "start_time": "2022-04-22T18:57:46.136Z"
   },
   {
    "duration": 147,
    "start_time": "2022-04-22T19:21:55.245Z"
   },
   {
    "duration": 16,
    "start_time": "2022-04-22T19:22:28.645Z"
   },
   {
    "duration": 55,
    "start_time": "2022-04-22T19:29:06.826Z"
   },
   {
    "duration": 17,
    "start_time": "2022-04-22T19:29:23.971Z"
   },
   {
    "duration": 18,
    "start_time": "2022-04-22T19:29:49.145Z"
   },
   {
    "duration": 10,
    "start_time": "2022-04-22T19:29:52.947Z"
   },
   {
    "duration": 3,
    "start_time": "2022-04-22T20:46:57.357Z"
   },
   {
    "duration": 110,
    "start_time": "2022-04-22T20:47:00.164Z"
   },
   {
    "duration": 123,
    "start_time": "2022-04-22T20:47:03.239Z"
   },
   {
    "duration": 18,
    "start_time": "2022-04-22T20:47:10.745Z"
   },
   {
    "duration": 104,
    "start_time": "2022-04-22T20:47:14.411Z"
   },
   {
    "duration": 26,
    "start_time": "2022-04-22T20:47:19.378Z"
   },
   {
    "duration": 20,
    "start_time": "2022-04-22T20:48:04.638Z"
   },
   {
    "duration": 10,
    "start_time": "2022-04-22T20:48:17.430Z"
   },
   {
    "duration": 110,
    "start_time": "2022-04-22T20:48:32.799Z"
   },
   {
    "duration": 118,
    "start_time": "2022-04-22T20:51:11.441Z"
   },
   {
    "duration": 19,
    "start_time": "2022-04-22T20:52:17.745Z"
   },
   {
    "duration": 19,
    "start_time": "2022-04-22T20:52:39.977Z"
   },
   {
    "duration": 12,
    "start_time": "2022-04-22T20:53:35.221Z"
   },
   {
    "duration": 26,
    "start_time": "2022-04-22T20:54:57.420Z"
   },
   {
    "duration": 20,
    "start_time": "2022-04-22T20:56:05.541Z"
   },
   {
    "duration": 20,
    "start_time": "2022-04-22T20:56:59.334Z"
   },
   {
    "duration": 20,
    "start_time": "2022-04-22T20:57:15.085Z"
   },
   {
    "duration": 3,
    "start_time": "2022-04-22T20:57:22.397Z"
   },
   {
    "duration": 105,
    "start_time": "2022-04-22T20:57:24.222Z"
   },
   {
    "duration": 117,
    "start_time": "2022-04-22T20:57:25.712Z"
   },
   {
    "duration": 18,
    "start_time": "2022-04-22T20:57:26.849Z"
   },
   {
    "duration": 98,
    "start_time": "2022-04-22T20:57:27.651Z"
   },
   {
    "duration": 24,
    "start_time": "2022-04-22T20:57:28.153Z"
   },
   {
    "duration": 16,
    "start_time": "2022-04-22T20:57:28.723Z"
   },
   {
    "duration": 11,
    "start_time": "2022-04-22T20:57:30.113Z"
   },
   {
    "duration": 18,
    "start_time": "2022-04-22T20:57:32.915Z"
   },
   {
    "duration": 28,
    "start_time": "2022-04-22T21:01:01.009Z"
   },
   {
    "duration": 13,
    "start_time": "2022-04-22T21:04:00.724Z"
   },
   {
    "duration": 10,
    "start_time": "2022-04-22T21:04:54.781Z"
   },
   {
    "duration": 27,
    "start_time": "2022-04-22T21:05:22.210Z"
   },
   {
    "duration": 1919,
    "start_time": "2022-04-22T21:06:07.281Z"
   },
   {
    "duration": 2034,
    "start_time": "2022-04-22T21:07:25.238Z"
   },
   {
    "duration": 1900,
    "start_time": "2022-04-22T21:08:21.150Z"
   },
   {
    "duration": 24,
    "start_time": "2022-04-22T21:08:52.921Z"
   },
   {
    "duration": 1833,
    "start_time": "2022-04-22T21:09:09.451Z"
   },
   {
    "duration": 38,
    "start_time": "2022-04-22T21:09:18.879Z"
   },
   {
    "duration": 2025,
    "start_time": "2022-04-22T21:10:26.875Z"
   },
   {
    "duration": 109,
    "start_time": "2022-04-22T21:12:34.832Z"
   },
   {
    "duration": 23,
    "start_time": "2022-04-22T21:13:02.225Z"
   },
   {
    "duration": 1988,
    "start_time": "2022-04-22T21:18:35.571Z"
   },
   {
    "duration": 36,
    "start_time": "2022-04-22T21:19:13.130Z"
   },
   {
    "duration": 30,
    "start_time": "2022-04-22T21:19:41.711Z"
   },
   {
    "duration": 27,
    "start_time": "2022-04-22T21:19:51.230Z"
   },
   {
    "duration": 43,
    "start_time": "2022-04-22T21:19:58.013Z"
   },
   {
    "duration": 27,
    "start_time": "2022-04-22T21:20:04.002Z"
   },
   {
    "duration": 24,
    "start_time": "2022-04-22T21:20:43.064Z"
   },
   {
    "duration": 132,
    "start_time": "2022-04-22T21:20:52.330Z"
   },
   {
    "duration": 26,
    "start_time": "2022-04-22T21:20:59.310Z"
   },
   {
    "duration": 20,
    "start_time": "2022-04-22T21:21:04.384Z"
   },
   {
    "duration": 158,
    "start_time": "2022-04-22T21:24:02.799Z"
   },
   {
    "duration": 105,
    "start_time": "2022-04-22T21:24:10.099Z"
   },
   {
    "duration": 103,
    "start_time": "2022-04-22T21:24:19.279Z"
   },
   {
    "duration": 20,
    "start_time": "2022-04-22T21:24:28.389Z"
   },
   {
    "duration": 21,
    "start_time": "2022-04-22T21:25:05.540Z"
   },
   {
    "duration": 24,
    "start_time": "2022-04-22T21:26:00.121Z"
   },
   {
    "duration": 30,
    "start_time": "2022-04-22T21:26:47.140Z"
   },
   {
    "duration": 32,
    "start_time": "2022-04-22T21:27:14.406Z"
   },
   {
    "duration": 28,
    "start_time": "2022-04-22T21:27:31.026Z"
   },
   {
    "duration": 27,
    "start_time": "2022-04-22T21:27:57.836Z"
   },
   {
    "duration": 23,
    "start_time": "2022-04-22T21:28:10.217Z"
   },
   {
    "duration": 33,
    "start_time": "2022-04-22T21:32:25.936Z"
   },
   {
    "duration": 30,
    "start_time": "2022-04-22T21:32:48.177Z"
   },
   {
    "duration": 37,
    "start_time": "2022-04-22T21:33:18.267Z"
   },
   {
    "duration": 23,
    "start_time": "2022-04-22T21:35:48.316Z"
   },
   {
    "duration": 10,
    "start_time": "2022-04-22T21:36:05.745Z"
   },
   {
    "duration": 22,
    "start_time": "2022-04-22T21:37:12.336Z"
   },
   {
    "duration": 14,
    "start_time": "2022-04-22T21:39:26.636Z"
   },
   {
    "duration": 13,
    "start_time": "2022-04-22T21:41:05.436Z"
   },
   {
    "duration": 26,
    "start_time": "2022-04-22T21:45:40.108Z"
   },
   {
    "duration": 27,
    "start_time": "2022-04-22T21:46:05.918Z"
   },
   {
    "duration": 24,
    "start_time": "2022-04-22T21:46:26.287Z"
   },
   {
    "duration": 23,
    "start_time": "2022-04-22T21:46:35.318Z"
   },
   {
    "duration": 26,
    "start_time": "2022-04-22T21:55:38.717Z"
   },
   {
    "duration": 46,
    "start_time": "2022-04-23T14:44:42.947Z"
   },
   {
    "duration": 1485,
    "start_time": "2022-04-23T14:44:47.396Z"
   },
   {
    "duration": 167,
    "start_time": "2022-04-23T14:44:51.338Z"
   },
   {
    "duration": 120,
    "start_time": "2022-04-23T14:45:03.909Z"
   },
   {
    "duration": 148,
    "start_time": "2022-04-23T14:46:36.297Z"
   },
   {
    "duration": 118,
    "start_time": "2022-04-23T14:48:11.438Z"
   },
   {
    "duration": 128,
    "start_time": "2022-04-23T15:12:41.051Z"
   },
   {
    "duration": 17,
    "start_time": "2022-04-23T15:12:49.068Z"
   },
   {
    "duration": 122,
    "start_time": "2022-04-23T15:12:56.099Z"
   },
   {
    "duration": 47,
    "start_time": "2022-04-23T15:13:01.286Z"
   },
   {
    "duration": 14,
    "start_time": "2022-04-23T15:13:20.431Z"
   },
   {
    "duration": 26,
    "start_time": "2022-04-23T15:13:38.219Z"
   },
   {
    "duration": 24,
    "start_time": "2022-04-23T15:13:55.077Z"
   },
   {
    "duration": 18,
    "start_time": "2022-04-23T15:13:58.837Z"
   },
   {
    "duration": 28,
    "start_time": "2022-04-23T15:14:05.984Z"
   },
   {
    "duration": 23,
    "start_time": "2022-04-23T15:14:09.757Z"
   },
   {
    "duration": 375,
    "start_time": "2022-04-23T15:16:21.369Z"
   },
   {
    "duration": 201,
    "start_time": "2022-04-23T15:21:09.538Z"
   },
   {
    "duration": 178,
    "start_time": "2022-04-23T15:21:30.879Z"
   },
   {
    "duration": 174,
    "start_time": "2022-04-23T15:22:11.608Z"
   },
   {
    "duration": 32,
    "start_time": "2022-04-23T15:22:20.420Z"
   },
   {
    "duration": 198,
    "start_time": "2022-04-23T15:29:13.200Z"
   },
   {
    "duration": 187,
    "start_time": "2022-04-23T15:29:19.429Z"
   },
   {
    "duration": 29,
    "start_time": "2022-04-23T15:29:27.488Z"
   },
   {
    "duration": 1919,
    "start_time": "2022-04-30T16:08:11.080Z"
   },
   {
    "duration": 169,
    "start_time": "2022-04-30T16:08:13.002Z"
   },
   {
    "duration": 260,
    "start_time": "2022-04-30T16:08:13.173Z"
   },
   {
    "duration": 37,
    "start_time": "2022-04-30T16:08:13.438Z"
   },
   {
    "duration": 255,
    "start_time": "2022-04-30T16:08:13.478Z"
   },
   {
    "duration": 56,
    "start_time": "2022-04-30T16:08:13.737Z"
   },
   {
    "duration": 105,
    "start_time": "2022-04-30T16:08:13.795Z"
   },
   {
    "duration": 0,
    "start_time": "2022-04-30T16:08:13.904Z"
   },
   {
    "duration": 0,
    "start_time": "2022-04-30T16:08:13.907Z"
   },
   {
    "duration": 0,
    "start_time": "2022-04-30T16:08:13.909Z"
   },
   {
    "duration": 0,
    "start_time": "2022-04-30T16:08:13.911Z"
   },
   {
    "duration": 0,
    "start_time": "2022-04-30T16:08:13.914Z"
   },
   {
    "duration": 373,
    "start_time": "2022-05-01T17:46:07.238Z"
   },
   {
    "duration": 62,
    "start_time": "2022-05-01T17:46:10.631Z"
   },
   {
    "duration": 20,
    "start_time": "2022-05-01T17:46:11.647Z"
   },
   {
    "duration": 15,
    "start_time": "2022-05-01T17:46:20.164Z"
   },
   {
    "duration": 4,
    "start_time": "2022-05-01T17:46:23.437Z"
   },
   {
    "duration": 10,
    "start_time": "2022-05-01T17:46:26.245Z"
   },
   {
    "duration": 4,
    "start_time": "2022-05-01T17:46:28.213Z"
   },
   {
    "duration": 6,
    "start_time": "2022-05-01T17:46:31.952Z"
   },
   {
    "duration": 50,
    "start_time": "2022-05-01T17:46:38.454Z"
   },
   {
    "duration": 4,
    "start_time": "2022-05-01T17:46:39.791Z"
   },
   {
    "duration": 5,
    "start_time": "2022-05-01T17:46:46.302Z"
   },
   {
    "duration": 5,
    "start_time": "2022-05-01T17:46:49.644Z"
   },
   {
    "duration": 7,
    "start_time": "2022-05-01T17:46:52.409Z"
   },
   {
    "duration": 15,
    "start_time": "2022-05-01T17:46:54.058Z"
   },
   {
    "duration": 84,
    "start_time": "2022-05-01T17:46:58.183Z"
   },
   {
    "duration": 5,
    "start_time": "2022-05-01T17:47:18.582Z"
   },
   {
    "duration": 77,
    "start_time": "2022-05-01T17:47:22.436Z"
   },
   {
    "duration": 5,
    "start_time": "2022-05-01T17:47:27.110Z"
   },
   {
    "duration": 6,
    "start_time": "2022-05-01T17:47:35.483Z"
   },
   {
    "duration": 6,
    "start_time": "2022-05-01T17:47:38.514Z"
   },
   {
    "duration": 5,
    "start_time": "2022-05-01T17:48:23.045Z"
   },
   {
    "duration": 9,
    "start_time": "2022-05-01T17:48:28.493Z"
   },
   {
    "duration": 6,
    "start_time": "2022-05-01T17:48:34.129Z"
   },
   {
    "duration": 6,
    "start_time": "2022-05-01T17:48:36.130Z"
   },
   {
    "duration": 4,
    "start_time": "2022-05-01T17:48:39.057Z"
   },
   {
    "duration": 5,
    "start_time": "2022-05-01T17:48:40.166Z"
   },
   {
    "duration": 6,
    "start_time": "2022-05-01T17:48:41.939Z"
   },
   {
    "duration": 6,
    "start_time": "2022-05-01T17:48:45.710Z"
   },
   {
    "duration": 6,
    "start_time": "2022-05-01T17:48:49.409Z"
   },
   {
    "duration": 6,
    "start_time": "2022-05-01T17:48:52.293Z"
   },
   {
    "duration": 5,
    "start_time": "2022-05-01T17:48:59.495Z"
   },
   {
    "duration": 4,
    "start_time": "2022-05-01T17:49:00.429Z"
   },
   {
    "duration": 24,
    "start_time": "2022-05-01T17:49:04.998Z"
   },
   {
    "duration": 87,
    "start_time": "2022-05-01T17:49:07.757Z"
   },
   {
    "duration": 33,
    "start_time": "2022-05-01T17:49:08.780Z"
   },
   {
    "duration": 26,
    "start_time": "2022-05-01T17:49:11.134Z"
   },
   {
    "duration": 30,
    "start_time": "2022-05-01T17:49:12.289Z"
   },
   {
    "duration": 5,
    "start_time": "2022-05-01T17:49:14.874Z"
   },
   {
    "duration": 8,
    "start_time": "2022-05-01T17:49:20.792Z"
   },
   {
    "duration": 4,
    "start_time": "2022-05-01T17:49:22.700Z"
   },
   {
    "duration": 7,
    "start_time": "2022-05-01T17:49:25.011Z"
   },
   {
    "duration": 20,
    "start_time": "2022-05-01T17:49:26.616Z"
   },
   {
    "duration": 6,
    "start_time": "2022-05-01T17:50:18.672Z"
   },
   {
    "duration": 4,
    "start_time": "2022-05-01T17:50:43.931Z"
   },
   {
    "duration": 13,
    "start_time": "2022-05-01T17:50:45.888Z"
   },
   {
    "duration": 7,
    "start_time": "2022-05-01T17:50:49.646Z"
   },
   {
    "duration": 14,
    "start_time": "2022-05-01T17:53:10.712Z"
   },
   {
    "duration": 4,
    "start_time": "2022-05-01T17:53:15.216Z"
   },
   {
    "duration": 24,
    "start_time": "2022-05-01T17:53:20.389Z"
   },
   {
    "duration": 7,
    "start_time": "2022-05-01T17:53:24.270Z"
   },
   {
    "duration": 38,
    "start_time": "2022-05-01T17:53:49.712Z"
   },
   {
    "duration": 6,
    "start_time": "2022-05-01T17:55:44.165Z"
   },
   {
    "duration": 3,
    "start_time": "2022-05-01T17:56:15.382Z"
   },
   {
    "duration": 9,
    "start_time": "2022-05-01T17:56:17.471Z"
   },
   {
    "duration": 9,
    "start_time": "2022-05-01T17:56:19.497Z"
   },
   {
    "duration": 29,
    "start_time": "2022-05-01T17:56:28.595Z"
   },
   {
    "duration": 12,
    "start_time": "2022-05-01T17:56:32.938Z"
   },
   {
    "duration": 5,
    "start_time": "2022-05-01T17:56:54.373Z"
   },
   {
    "duration": 12,
    "start_time": "2022-05-01T17:57:12.974Z"
   },
   {
    "duration": 5,
    "start_time": "2022-05-01T17:57:30.649Z"
   },
   {
    "duration": 11,
    "start_time": "2022-05-01T17:58:06.775Z"
   },
   {
    "duration": 5,
    "start_time": "2022-05-01T17:58:14.330Z"
   },
   {
    "duration": 21,
    "start_time": "2022-05-01T18:01:40.976Z"
   },
   {
    "duration": 6,
    "start_time": "2022-05-01T18:04:19.890Z"
   },
   {
    "duration": 26,
    "start_time": "2022-05-01T18:04:23.970Z"
   },
   {
    "duration": 6,
    "start_time": "2022-05-01T18:04:26.768Z"
   },
   {
    "duration": 26,
    "start_time": "2022-05-01T18:04:39.940Z"
   },
   {
    "duration": 10,
    "start_time": "2022-05-01T18:04:44.413Z"
   },
   {
    "duration": 6,
    "start_time": "2022-05-01T18:04:53.324Z"
   },
   {
    "duration": 400,
    "start_time": "2022-05-02T18:20:17.563Z"
   },
   {
    "duration": 56,
    "start_time": "2022-05-02T18:20:17.965Z"
   },
   {
    "duration": 18,
    "start_time": "2022-05-02T18:20:18.023Z"
   },
   {
    "duration": 25,
    "start_time": "2022-05-02T18:20:18.043Z"
   },
   {
    "duration": 8,
    "start_time": "2022-05-02T18:20:18.070Z"
   },
   {
    "duration": 5,
    "start_time": "2022-05-02T18:20:18.080Z"
   },
   {
    "duration": 13,
    "start_time": "2022-05-02T18:20:18.087Z"
   },
   {
    "duration": 37,
    "start_time": "2022-05-02T18:20:18.101Z"
   },
   {
    "duration": 15,
    "start_time": "2022-05-02T18:20:18.140Z"
   },
   {
    "duration": 6,
    "start_time": "2022-05-02T18:20:18.157Z"
   },
   {
    "duration": 5,
    "start_time": "2022-05-02T18:20:18.164Z"
   },
   {
    "duration": 9,
    "start_time": "2022-05-02T18:20:18.171Z"
   },
   {
    "duration": 9,
    "start_time": "2022-05-02T18:20:18.181Z"
   },
   {
    "duration": 6,
    "start_time": "2022-05-02T18:20:18.193Z"
   },
   {
    "duration": 94,
    "start_time": "2022-05-02T18:20:18.200Z"
   },
   {
    "duration": 4,
    "start_time": "2022-05-02T18:20:18.296Z"
   },
   {
    "duration": 132,
    "start_time": "2022-05-02T18:20:18.302Z"
   },
   {
    "duration": 0,
    "start_time": "2022-05-02T18:20:18.437Z"
   },
   {
    "duration": 0,
    "start_time": "2022-05-02T18:20:18.438Z"
   },
   {
    "duration": 0,
    "start_time": "2022-05-02T18:20:18.440Z"
   },
   {
    "duration": 0,
    "start_time": "2022-05-02T18:20:18.440Z"
   },
   {
    "duration": 0,
    "start_time": "2022-05-02T18:20:18.441Z"
   },
   {
    "duration": 0,
    "start_time": "2022-05-02T18:20:18.442Z"
   },
   {
    "duration": 0,
    "start_time": "2022-05-02T18:20:18.443Z"
   },
   {
    "duration": 0,
    "start_time": "2022-05-02T18:20:18.444Z"
   },
   {
    "duration": 0,
    "start_time": "2022-05-02T18:20:18.445Z"
   },
   {
    "duration": 0,
    "start_time": "2022-05-02T18:20:18.446Z"
   },
   {
    "duration": 0,
    "start_time": "2022-05-02T18:20:18.447Z"
   },
   {
    "duration": 0,
    "start_time": "2022-05-02T18:20:18.448Z"
   },
   {
    "duration": 0,
    "start_time": "2022-05-02T18:20:18.449Z"
   },
   {
    "duration": 0,
    "start_time": "2022-05-02T18:20:18.449Z"
   },
   {
    "duration": 0,
    "start_time": "2022-05-02T18:20:18.450Z"
   },
   {
    "duration": 0,
    "start_time": "2022-05-02T18:20:18.451Z"
   },
   {
    "duration": 0,
    "start_time": "2022-05-02T18:20:18.452Z"
   },
   {
    "duration": 0,
    "start_time": "2022-05-02T18:20:18.453Z"
   },
   {
    "duration": 0,
    "start_time": "2022-05-02T18:20:18.454Z"
   },
   {
    "duration": 0,
    "start_time": "2022-05-02T18:20:18.455Z"
   },
   {
    "duration": 0,
    "start_time": "2022-05-02T18:20:18.456Z"
   },
   {
    "duration": 0,
    "start_time": "2022-05-02T18:20:18.457Z"
   },
   {
    "duration": 0,
    "start_time": "2022-05-02T18:20:18.458Z"
   },
   {
    "duration": 0,
    "start_time": "2022-05-02T18:20:18.458Z"
   },
   {
    "duration": 0,
    "start_time": "2022-05-02T18:20:18.460Z"
   },
   {
    "duration": 0,
    "start_time": "2022-05-02T18:20:18.460Z"
   },
   {
    "duration": 0,
    "start_time": "2022-05-02T18:20:18.461Z"
   },
   {
    "duration": 0,
    "start_time": "2022-05-02T18:20:18.462Z"
   },
   {
    "duration": 0,
    "start_time": "2022-05-02T18:20:18.463Z"
   },
   {
    "duration": 0,
    "start_time": "2022-05-02T18:20:18.464Z"
   },
   {
    "duration": 0,
    "start_time": "2022-05-02T18:20:18.465Z"
   },
   {
    "duration": 0,
    "start_time": "2022-05-02T18:20:18.466Z"
   },
   {
    "duration": 1,
    "start_time": "2022-05-02T18:20:18.466Z"
   },
   {
    "duration": 0,
    "start_time": "2022-05-02T18:20:18.467Z"
   },
   {
    "duration": 0,
    "start_time": "2022-05-02T18:20:18.468Z"
   },
   {
    "duration": 0,
    "start_time": "2022-05-02T18:20:18.469Z"
   },
   {
    "duration": 0,
    "start_time": "2022-05-02T18:20:18.470Z"
   },
   {
    "duration": 0,
    "start_time": "2022-05-02T18:20:18.471Z"
   },
   {
    "duration": 0,
    "start_time": "2022-05-02T18:20:18.472Z"
   },
   {
    "duration": 397,
    "start_time": "2022-05-02T18:24:28.260Z"
   },
   {
    "duration": 59,
    "start_time": "2022-05-02T18:24:28.659Z"
   },
   {
    "duration": 18,
    "start_time": "2022-05-02T18:24:28.720Z"
   },
   {
    "duration": 37,
    "start_time": "2022-05-02T18:24:28.739Z"
   },
   {
    "duration": 32,
    "start_time": "2022-05-02T18:24:28.779Z"
   },
   {
    "duration": 22,
    "start_time": "2022-05-02T18:24:28.813Z"
   },
   {
    "duration": 36,
    "start_time": "2022-05-02T18:24:28.836Z"
   },
   {
    "duration": 39,
    "start_time": "2022-05-02T18:24:28.874Z"
   },
   {
    "duration": 12,
    "start_time": "2022-05-02T18:24:28.914Z"
   },
   {
    "duration": 21,
    "start_time": "2022-05-02T18:24:28.928Z"
   },
   {
    "duration": 28,
    "start_time": "2022-05-02T18:24:28.951Z"
   },
   {
    "duration": 22,
    "start_time": "2022-05-02T18:24:28.981Z"
   },
   {
    "duration": 17,
    "start_time": "2022-05-02T18:24:29.005Z"
   },
   {
    "duration": 17,
    "start_time": "2022-05-02T18:24:29.025Z"
   },
   {
    "duration": 100,
    "start_time": "2022-05-02T18:24:29.044Z"
   },
   {
    "duration": 4,
    "start_time": "2022-05-02T18:24:29.145Z"
   },
   {
    "duration": 32,
    "start_time": "2022-05-02T18:24:29.150Z"
   },
   {
    "duration": 39,
    "start_time": "2022-05-02T18:24:29.184Z"
   },
   {
    "duration": 25,
    "start_time": "2022-05-02T18:24:29.224Z"
   },
   {
    "duration": 27,
    "start_time": "2022-05-02T18:24:29.251Z"
   },
   {
    "duration": 41,
    "start_time": "2022-05-02T18:24:29.280Z"
   },
   {
    "duration": 31,
    "start_time": "2022-05-02T18:24:29.323Z"
   },
   {
    "duration": 29,
    "start_time": "2022-05-02T18:24:29.355Z"
   },
   {
    "duration": 22,
    "start_time": "2022-05-02T18:24:29.386Z"
   },
   {
    "duration": 19,
    "start_time": "2022-05-02T18:24:29.410Z"
   },
   {
    "duration": 22,
    "start_time": "2022-05-02T18:24:29.431Z"
   },
   {
    "duration": 42,
    "start_time": "2022-05-02T18:24:29.454Z"
   },
   {
    "duration": 50,
    "start_time": "2022-05-02T18:24:29.498Z"
   },
   {
    "duration": 28,
    "start_time": "2022-05-02T18:24:29.549Z"
   },
   {
    "duration": 22,
    "start_time": "2022-05-02T18:24:29.579Z"
   },
   {
    "duration": 30,
    "start_time": "2022-05-02T18:24:29.603Z"
   },
   {
    "duration": 51,
    "start_time": "2022-05-02T18:24:29.634Z"
   },
   {
    "duration": 34,
    "start_time": "2022-05-02T18:24:29.687Z"
   },
   {
    "duration": 19,
    "start_time": "2022-05-02T18:24:29.723Z"
   },
   {
    "duration": 22,
    "start_time": "2022-05-02T18:24:29.744Z"
   },
   {
    "duration": 6,
    "start_time": "2022-05-02T18:24:29.768Z"
   },
   {
    "duration": 17,
    "start_time": "2022-05-02T18:24:29.775Z"
   },
   {
    "duration": 21,
    "start_time": "2022-05-02T18:24:29.794Z"
   },
   {
    "duration": 25,
    "start_time": "2022-05-02T18:24:29.817Z"
   },
   {
    "duration": 38,
    "start_time": "2022-05-02T18:24:29.843Z"
   },
   {
    "duration": 19,
    "start_time": "2022-05-02T18:24:29.885Z"
   },
   {
    "duration": 28,
    "start_time": "2022-05-02T18:24:29.906Z"
   },
   {
    "duration": 15,
    "start_time": "2022-05-02T18:24:29.935Z"
   },
   {
    "duration": 26,
    "start_time": "2022-05-02T18:24:29.952Z"
   },
   {
    "duration": 31,
    "start_time": "2022-05-02T18:24:29.980Z"
   },
   {
    "duration": 86,
    "start_time": "2022-05-02T18:24:30.013Z"
   },
   {
    "duration": 97,
    "start_time": "2022-05-02T18:24:30.101Z"
   },
   {
    "duration": 13,
    "start_time": "2022-05-02T18:24:30.199Z"
   },
   {
    "duration": 39,
    "start_time": "2022-05-02T18:24:30.213Z"
   },
   {
    "duration": 138,
    "start_time": "2022-05-02T18:24:30.253Z"
   },
   {
    "duration": 0,
    "start_time": "2022-05-02T18:24:30.392Z"
   },
   {
    "duration": 0,
    "start_time": "2022-05-02T18:24:30.393Z"
   },
   {
    "duration": 0,
    "start_time": "2022-05-02T18:24:30.394Z"
   },
   {
    "duration": 0,
    "start_time": "2022-05-02T18:24:30.395Z"
   },
   {
    "duration": 0,
    "start_time": "2022-05-02T18:24:30.396Z"
   },
   {
    "duration": 7,
    "start_time": "2022-05-02T18:35:07.010Z"
   },
   {
    "duration": 8,
    "start_time": "2022-05-02T18:37:25.734Z"
   },
   {
    "duration": 8,
    "start_time": "2022-05-02T18:37:37.725Z"
   },
   {
    "duration": 47,
    "start_time": "2022-05-03T08:03:52.101Z"
   },
   {
    "duration": 417,
    "start_time": "2022-05-03T08:04:03.044Z"
   },
   {
    "duration": 678,
    "start_time": "2022-05-03T08:04:06.833Z"
   },
   {
    "duration": 20,
    "start_time": "2022-05-03T08:04:08.538Z"
   },
   {
    "duration": 10,
    "start_time": "2022-05-03T08:04:13.193Z"
   },
   {
    "duration": 3,
    "start_time": "2022-05-03T08:04:14.597Z"
   },
   {
    "duration": 6,
    "start_time": "2022-05-03T08:04:19.005Z"
   },
   {
    "duration": 30,
    "start_time": "2022-05-03T08:04:20.886Z"
   },
   {
    "duration": 4,
    "start_time": "2022-05-03T08:04:22.059Z"
   },
   {
    "duration": 4,
    "start_time": "2022-05-03T08:04:30.408Z"
   },
   {
    "duration": 4,
    "start_time": "2022-05-03T08:04:32.652Z"
   },
   {
    "duration": 6,
    "start_time": "2022-05-03T08:04:34.524Z"
   },
   {
    "duration": 10,
    "start_time": "2022-05-03T08:04:37.006Z"
   },
   {
    "duration": 5,
    "start_time": "2022-05-03T08:04:52.520Z"
   },
   {
    "duration": 74,
    "start_time": "2022-05-03T08:04:54.029Z"
   },
   {
    "duration": 5,
    "start_time": "2022-05-03T08:04:56.336Z"
   },
   {
    "duration": 27,
    "start_time": "2022-05-03T08:04:58.438Z"
   },
   {
    "duration": 6,
    "start_time": "2022-05-03T08:05:07.133Z"
   },
   {
    "duration": 7,
    "start_time": "2022-05-03T08:05:09.077Z"
   },
   {
    "duration": 14,
    "start_time": "2022-05-03T08:06:04.511Z"
   },
   {
    "duration": 9,
    "start_time": "2022-05-03T08:06:24.628Z"
   },
   {
    "duration": 22,
    "start_time": "2022-05-03T08:06:53.653Z"
   },
   {
    "duration": 22,
    "start_time": "2022-05-03T08:07:26.515Z"
   },
   {
    "duration": 7,
    "start_time": "2022-05-03T08:08:46.099Z"
   },
   {
    "duration": 5,
    "start_time": "2022-05-03T08:08:49.874Z"
   },
   {
    "duration": 7,
    "start_time": "2022-05-03T08:08:54.965Z"
   },
   {
    "duration": 5,
    "start_time": "2022-05-03T08:08:59.915Z"
   },
   {
    "duration": 6,
    "start_time": "2022-05-03T08:09:08.843Z"
   },
   {
    "duration": 4,
    "start_time": "2022-05-03T08:09:10.226Z"
   },
   {
    "duration": 6,
    "start_time": "2022-05-03T08:09:12.312Z"
   },
   {
    "duration": 5,
    "start_time": "2022-05-03T08:09:13.737Z"
   },
   {
    "duration": 7,
    "start_time": "2022-05-03T08:09:15.414Z"
   },
   {
    "duration": 7,
    "start_time": "2022-05-03T08:09:16.746Z"
   },
   {
    "duration": 5,
    "start_time": "2022-05-03T08:09:18.496Z"
   },
   {
    "duration": 4,
    "start_time": "2022-05-03T08:09:27.907Z"
   },
   {
    "duration": 4,
    "start_time": "2022-05-03T08:09:29.060Z"
   },
   {
    "duration": 14,
    "start_time": "2022-05-03T08:09:30.211Z"
   },
   {
    "duration": 46,
    "start_time": "2022-05-03T08:09:33.062Z"
   },
   {
    "duration": 25,
    "start_time": "2022-05-03T08:09:34.237Z"
   },
   {
    "duration": 20,
    "start_time": "2022-05-03T08:09:35.278Z"
   },
   {
    "duration": 19,
    "start_time": "2022-05-03T08:09:36.337Z"
   },
   {
    "duration": 5,
    "start_time": "2022-05-03T08:09:41.652Z"
   },
   {
    "duration": 7,
    "start_time": "2022-05-03T08:09:42.637Z"
   },
   {
    "duration": 5,
    "start_time": "2022-05-03T08:09:44.145Z"
   },
   {
    "duration": 8,
    "start_time": "2022-05-03T08:09:45.317Z"
   },
   {
    "duration": 19,
    "start_time": "2022-05-03T08:09:52.127Z"
   },
   {
    "duration": 4,
    "start_time": "2022-05-03T08:10:01.472Z"
   },
   {
    "duration": 11,
    "start_time": "2022-05-03T08:10:05.046Z"
   },
   {
    "duration": 6,
    "start_time": "2022-05-03T08:10:08.221Z"
   },
   {
    "duration": 4,
    "start_time": "2022-05-03T08:10:13.249Z"
   },
   {
    "duration": 9,
    "start_time": "2022-05-03T08:10:14.928Z"
   },
   {
    "duration": 7,
    "start_time": "2022-05-03T08:10:17.195Z"
   },
   {
    "duration": 26,
    "start_time": "2022-05-03T08:10:23.797Z"
   },
   {
    "duration": 9,
    "start_time": "2022-05-03T08:10:55.632Z"
   },
   {
    "duration": 7,
    "start_time": "2022-05-03T08:11:03.120Z"
   },
   {
    "duration": 7,
    "start_time": "2022-05-03T08:11:08.117Z"
   },
   {
    "duration": 21,
    "start_time": "2022-05-03T08:11:17.182Z"
   },
   {
    "duration": 9,
    "start_time": "2022-05-03T08:11:19.684Z"
   },
   {
    "duration": 21,
    "start_time": "2022-05-03T08:11:22.579Z"
   },
   {
    "duration": 9,
    "start_time": "2022-05-03T08:11:25.411Z"
   },
   {
    "duration": 27,
    "start_time": "2022-05-03T08:11:28.673Z"
   },
   {
    "duration": 6,
    "start_time": "2022-05-03T08:11:31.280Z"
   },
   {
    "duration": 13,
    "start_time": "2022-05-03T08:12:36.945Z"
   },
   {
    "duration": 8,
    "start_time": "2022-05-03T08:28:35.530Z"
   },
   {
    "duration": 6,
    "start_time": "2022-05-03T08:28:46.409Z"
   },
   {
    "duration": 5,
    "start_time": "2022-05-03T08:29:09.046Z"
   },
   {
    "duration": 5,
    "start_time": "2022-05-03T08:29:20.141Z"
   },
   {
    "duration": 6,
    "start_time": "2022-05-03T08:30:43.026Z"
   },
   {
    "duration": 10,
    "start_time": "2022-05-03T08:31:09.089Z"
   },
   {
    "duration": 4,
    "start_time": "2022-05-03T08:32:05.443Z"
   },
   {
    "duration": 11,
    "start_time": "2022-05-03T08:32:09.838Z"
   },
   {
    "duration": 17,
    "start_time": "2022-05-03T08:34:16.930Z"
   },
   {
    "duration": 9,
    "start_time": "2022-05-03T08:34:28.124Z"
   },
   {
    "duration": 1300,
    "start_time": "2022-05-03T08:37:14.101Z"
   },
   {
    "duration": 1300,
    "start_time": "2022-05-03T08:37:32.830Z"
   },
   {
    "duration": 3,
    "start_time": "2022-05-03T08:37:44.477Z"
   },
   {
    "duration": 51,
    "start_time": "2022-05-03T08:37:47.945Z"
   },
   {
    "duration": 14,
    "start_time": "2022-05-03T08:37:51.942Z"
   },
   {
    "duration": 15,
    "start_time": "2022-05-03T08:38:02.337Z"
   },
   {
    "duration": 15,
    "start_time": "2022-05-03T08:38:20.795Z"
   },
   {
    "duration": 15,
    "start_time": "2022-05-03T08:38:41.002Z"
   },
   {
    "duration": 55,
    "start_time": "2022-05-03T08:39:02.159Z"
   },
   {
    "duration": 31,
    "start_time": "2022-05-03T08:39:37.484Z"
   },
   {
    "duration": 17,
    "start_time": "2022-05-03T08:39:45.477Z"
   },
   {
    "duration": 14,
    "start_time": "2022-05-03T08:40:36.847Z"
   },
   {
    "duration": 11,
    "start_time": "2022-05-03T08:54:50.757Z"
   },
   {
    "duration": 176,
    "start_time": "2022-05-03T08:55:08.579Z"
   },
   {
    "duration": 7,
    "start_time": "2022-05-03T08:55:38.939Z"
   }
  ],
  "celltoolbar": "Необработанный формат ячейки",
  "kernelspec": {
   "display_name": "Python 3 (ipykernel)",
   "language": "python",
   "name": "python3"
  },
  "language_info": {
   "codemirror_mode": {
    "name": "ipython",
    "version": 3
   },
   "file_extension": ".py",
   "mimetype": "text/x-python",
   "name": "python",
   "nbconvert_exporter": "python",
   "pygments_lexer": "ipython3",
   "version": "3.9.12"
  },
  "toc": {
   "base_numbering": 1,
   "nav_menu": {
    "height": "155px",
    "width": "160px"
   },
   "number_sections": true,
   "sideBar": true,
   "skip_h1_title": true,
   "title_cell": "Table of Contents",
   "title_sidebar": "Contents",
   "toc_cell": false,
   "toc_position": {
    "height": "calc(100% - 180px)",
    "left": "10px",
    "top": "150px",
    "width": "165px"
   },
   "toc_section_display": true,
   "toc_window_display": true
  }
 },
 "nbformat": 4,
 "nbformat_minor": 5
}
