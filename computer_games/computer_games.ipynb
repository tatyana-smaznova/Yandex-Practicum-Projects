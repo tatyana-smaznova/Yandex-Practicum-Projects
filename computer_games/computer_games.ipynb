{
 "cells": [
  {
   "cell_type": "markdown",
   "metadata": {},
   "source": [
    "# Сборный проект"
   ]
  },
  {
   "cell_type": "markdown",
   "metadata": {},
   "source": [
    "Вы работаете в интернет-магазине «Стримчик», который продаёт по всему миру компьютерные игры. Из открытых источников доступны исторические данные о продажах игр, оценки пользователей и экспертов, жанры и платформы (например, Xbox или PlayStation). Вам нужно выявить определяющие успешность игры закономерности. Это позволит сделать ставку на потенциально популярный продукт и спланировать рекламные кампании.\n",
    "Перед вами данные до 2016 года. Представим, что сейчас декабрь 2016 г., и вы планируете кампанию на 2017-й. Нужно отработать принцип работы с данными. Неважно, прогнозируете ли вы продажи на 2017 год по данным 2016-го или же 2027-й — по данным 2026 года.\n",
    "В наборе данных попадается аббревиатура ESRB (Entertainment Software Rating Board) — это ассоциация, определяющая возрастной рейтинг компьютерных игр. ESRB оценивает игровой контент и присваивает ему подходящую возрастную категорию, например, «Для взрослых», «Для детей младшего возраста» или «Для подростков».\n",
    "\n",
    "**Цель исследования** - выявить определяющие успешность игры закономерности.\n",
    "\n",
    "**Задачи исследования:**\n",
    "1. Подготовить данные:\n",
    "    - Заменить названия столбцов;\n",
    "    - Преобразовать данные в нужные типы;\n",
    "    - Обработать пропуски;\n",
    "    - Посчитать суммарные продажи во всех регионах и записать их в отдельный столбец.\n",
    "2. Посмотреть, сколько игр выпускалось в разные годы.\n",
    "3. Посмотреть, как менялись продажи по платформам. Выберать платформы с наибольшими суммарными продажами и построить распределение по годам.\n",
    "4. Для данных за соответствующий актуальный период:\n",
    "    - Какие платформы лидируют по продажам, растут или падают? Выберать несколько потенциально прибыльных платформ.\n",
    "    - Построить график «ящик с усами» по глобальным продажам игр в разбивке по платформам.\n",
    "    - Посмотреть, как влияют на продажи внутри одной популярной платформы отзывы пользователей и критиков. Построить диаграмму рассеяния и посчитать корреляцию между отзывами и продажами.\n",
    "    - Соотнести выводы с продажами игр на других платформах.\n",
    "    - Посмотреть на общее распределение игр по жанрам. Что можно сказать о самых прибыльных жанрах? Выделяются ли жанры с высокими и низкими продажами?\n",
    "5. Составить портрет пользователя каждого региона:\n",
    "    - Самые популярные платформы (топ-5). Описать различия в долях продаж.\n",
    "    - Самые популярные жанры (топ-5). Пояснить разницу.\n",
    "    - Влияет ли рейтинг ESRB на продажи в отдельном регионе?\n",
    "6. Проверить гипотезы:\n",
    "    - Средние пользовательские рейтинги платформ Xbox One и PC одинаковые;\n",
    "    - Средние пользовательские рейтинги жанров Action (англ. «действие», экшен-игры) и Sports (англ. «спортивные соревнования») разные."
   ]
  },
  {
   "cell_type": "markdown",
   "metadata": {},
   "source": [
    "## Обзор данных"
   ]
  },
  {
   "cell_type": "markdown",
   "metadata": {},
   "source": [
    "Импортируем необходимые для работы библиотеки."
   ]
  },
  {
   "cell_type": "code",
   "execution_count": 1,
   "metadata": {},
   "outputs": [],
   "source": [
    "import pandas as pd\n",
    "import numpy as np\n",
    "import matplotlib.pyplot as plt\n",
    "from scipy import stats as st"
   ]
  },
  {
   "cell_type": "markdown",
   "metadata": {},
   "source": [
    "Прочитаем файл с данными и сохраним его в переменной"
   ]
  },
  {
   "cell_type": "code",
   "execution_count": 2,
   "metadata": {},
   "outputs": [],
   "source": [
    "df =  pd.read_csv('/datasets/games.csv')"
   ]
  },
  {
   "cell_type": "markdown",
   "metadata": {},
   "source": [
    "Изучим первые 10 строк таблицы."
   ]
  },
  {
   "cell_type": "code",
   "execution_count": 3,
   "metadata": {},
   "outputs": [
    {
     "data": {
      "text/html": [
       "<div>\n",
       "<style scoped>\n",
       "    .dataframe tbody tr th:only-of-type {\n",
       "        vertical-align: middle;\n",
       "    }\n",
       "\n",
       "    .dataframe tbody tr th {\n",
       "        vertical-align: top;\n",
       "    }\n",
       "\n",
       "    .dataframe thead th {\n",
       "        text-align: right;\n",
       "    }\n",
       "</style>\n",
       "<table border=\"1\" class=\"dataframe\">\n",
       "  <thead>\n",
       "    <tr style=\"text-align: right;\">\n",
       "      <th></th>\n",
       "      <th>Name</th>\n",
       "      <th>Platform</th>\n",
       "      <th>Year_of_Release</th>\n",
       "      <th>Genre</th>\n",
       "      <th>NA_sales</th>\n",
       "      <th>EU_sales</th>\n",
       "      <th>JP_sales</th>\n",
       "      <th>Other_sales</th>\n",
       "      <th>Critic_Score</th>\n",
       "      <th>User_Score</th>\n",
       "      <th>Rating</th>\n",
       "    </tr>\n",
       "  </thead>\n",
       "  <tbody>\n",
       "    <tr>\n",
       "      <th>0</th>\n",
       "      <td>Wii Sports</td>\n",
       "      <td>Wii</td>\n",
       "      <td>2006.0</td>\n",
       "      <td>Sports</td>\n",
       "      <td>41.36</td>\n",
       "      <td>28.96</td>\n",
       "      <td>3.77</td>\n",
       "      <td>8.45</td>\n",
       "      <td>76.0</td>\n",
       "      <td>8</td>\n",
       "      <td>E</td>\n",
       "    </tr>\n",
       "    <tr>\n",
       "      <th>1</th>\n",
       "      <td>Super Mario Bros.</td>\n",
       "      <td>NES</td>\n",
       "      <td>1985.0</td>\n",
       "      <td>Platform</td>\n",
       "      <td>29.08</td>\n",
       "      <td>3.58</td>\n",
       "      <td>6.81</td>\n",
       "      <td>0.77</td>\n",
       "      <td>NaN</td>\n",
       "      <td>NaN</td>\n",
       "      <td>NaN</td>\n",
       "    </tr>\n",
       "    <tr>\n",
       "      <th>2</th>\n",
       "      <td>Mario Kart Wii</td>\n",
       "      <td>Wii</td>\n",
       "      <td>2008.0</td>\n",
       "      <td>Racing</td>\n",
       "      <td>15.68</td>\n",
       "      <td>12.76</td>\n",
       "      <td>3.79</td>\n",
       "      <td>3.29</td>\n",
       "      <td>82.0</td>\n",
       "      <td>8.3</td>\n",
       "      <td>E</td>\n",
       "    </tr>\n",
       "    <tr>\n",
       "      <th>3</th>\n",
       "      <td>Wii Sports Resort</td>\n",
       "      <td>Wii</td>\n",
       "      <td>2009.0</td>\n",
       "      <td>Sports</td>\n",
       "      <td>15.61</td>\n",
       "      <td>10.93</td>\n",
       "      <td>3.28</td>\n",
       "      <td>2.95</td>\n",
       "      <td>80.0</td>\n",
       "      <td>8</td>\n",
       "      <td>E</td>\n",
       "    </tr>\n",
       "    <tr>\n",
       "      <th>4</th>\n",
       "      <td>Pokemon Red/Pokemon Blue</td>\n",
       "      <td>GB</td>\n",
       "      <td>1996.0</td>\n",
       "      <td>Role-Playing</td>\n",
       "      <td>11.27</td>\n",
       "      <td>8.89</td>\n",
       "      <td>10.22</td>\n",
       "      <td>1.00</td>\n",
       "      <td>NaN</td>\n",
       "      <td>NaN</td>\n",
       "      <td>NaN</td>\n",
       "    </tr>\n",
       "    <tr>\n",
       "      <th>5</th>\n",
       "      <td>Tetris</td>\n",
       "      <td>GB</td>\n",
       "      <td>1989.0</td>\n",
       "      <td>Puzzle</td>\n",
       "      <td>23.20</td>\n",
       "      <td>2.26</td>\n",
       "      <td>4.22</td>\n",
       "      <td>0.58</td>\n",
       "      <td>NaN</td>\n",
       "      <td>NaN</td>\n",
       "      <td>NaN</td>\n",
       "    </tr>\n",
       "    <tr>\n",
       "      <th>6</th>\n",
       "      <td>New Super Mario Bros.</td>\n",
       "      <td>DS</td>\n",
       "      <td>2006.0</td>\n",
       "      <td>Platform</td>\n",
       "      <td>11.28</td>\n",
       "      <td>9.14</td>\n",
       "      <td>6.50</td>\n",
       "      <td>2.88</td>\n",
       "      <td>89.0</td>\n",
       "      <td>8.5</td>\n",
       "      <td>E</td>\n",
       "    </tr>\n",
       "    <tr>\n",
       "      <th>7</th>\n",
       "      <td>Wii Play</td>\n",
       "      <td>Wii</td>\n",
       "      <td>2006.0</td>\n",
       "      <td>Misc</td>\n",
       "      <td>13.96</td>\n",
       "      <td>9.18</td>\n",
       "      <td>2.93</td>\n",
       "      <td>2.84</td>\n",
       "      <td>58.0</td>\n",
       "      <td>6.6</td>\n",
       "      <td>E</td>\n",
       "    </tr>\n",
       "    <tr>\n",
       "      <th>8</th>\n",
       "      <td>New Super Mario Bros. Wii</td>\n",
       "      <td>Wii</td>\n",
       "      <td>2009.0</td>\n",
       "      <td>Platform</td>\n",
       "      <td>14.44</td>\n",
       "      <td>6.94</td>\n",
       "      <td>4.70</td>\n",
       "      <td>2.24</td>\n",
       "      <td>87.0</td>\n",
       "      <td>8.4</td>\n",
       "      <td>E</td>\n",
       "    </tr>\n",
       "    <tr>\n",
       "      <th>9</th>\n",
       "      <td>Duck Hunt</td>\n",
       "      <td>NES</td>\n",
       "      <td>1984.0</td>\n",
       "      <td>Shooter</td>\n",
       "      <td>26.93</td>\n",
       "      <td>0.63</td>\n",
       "      <td>0.28</td>\n",
       "      <td>0.47</td>\n",
       "      <td>NaN</td>\n",
       "      <td>NaN</td>\n",
       "      <td>NaN</td>\n",
       "    </tr>\n",
       "  </tbody>\n",
       "</table>\n",
       "</div>"
      ],
      "text/plain": [
       "                        Name Platform  Year_of_Release         Genre  \\\n",
       "0                 Wii Sports      Wii           2006.0        Sports   \n",
       "1          Super Mario Bros.      NES           1985.0      Platform   \n",
       "2             Mario Kart Wii      Wii           2008.0        Racing   \n",
       "3          Wii Sports Resort      Wii           2009.0        Sports   \n",
       "4   Pokemon Red/Pokemon Blue       GB           1996.0  Role-Playing   \n",
       "5                     Tetris       GB           1989.0        Puzzle   \n",
       "6      New Super Mario Bros.       DS           2006.0      Platform   \n",
       "7                   Wii Play      Wii           2006.0          Misc   \n",
       "8  New Super Mario Bros. Wii      Wii           2009.0      Platform   \n",
       "9                  Duck Hunt      NES           1984.0       Shooter   \n",
       "\n",
       "   NA_sales  EU_sales  JP_sales  Other_sales  Critic_Score User_Score Rating  \n",
       "0     41.36     28.96      3.77         8.45          76.0          8      E  \n",
       "1     29.08      3.58      6.81         0.77           NaN        NaN    NaN  \n",
       "2     15.68     12.76      3.79         3.29          82.0        8.3      E  \n",
       "3     15.61     10.93      3.28         2.95          80.0          8      E  \n",
       "4     11.27      8.89     10.22         1.00           NaN        NaN    NaN  \n",
       "5     23.20      2.26      4.22         0.58           NaN        NaN    NaN  \n",
       "6     11.28      9.14      6.50         2.88          89.0        8.5      E  \n",
       "7     13.96      9.18      2.93         2.84          58.0        6.6      E  \n",
       "8     14.44      6.94      4.70         2.24          87.0        8.4      E  \n",
       "9     26.93      0.63      0.28         0.47           NaN        NaN    NaN  "
      ]
     },
     "execution_count": 3,
     "metadata": {},
     "output_type": "execute_result"
    }
   ],
   "source": [
    "df.head(10)"
   ]
  },
  {
   "cell_type": "markdown",
   "metadata": {},
   "source": [
    "Сразу можно заметить некорректные названия столбцов, пропуски в данных, а также неверные форматы данных. Исправлять ошибки мы будем на следующем этапе."
   ]
  },
  {
   "cell_type": "markdown",
   "metadata": {},
   "source": [
    "Посмотрим информацию о столбцах."
   ]
  },
  {
   "cell_type": "code",
   "execution_count": 4,
   "metadata": {},
   "outputs": [
    {
     "name": "stdout",
     "output_type": "stream",
     "text": [
      "<class 'pandas.core.frame.DataFrame'>\n",
      "RangeIndex: 16715 entries, 0 to 16714\n",
      "Data columns (total 11 columns):\n",
      " #   Column           Non-Null Count  Dtype  \n",
      "---  ------           --------------  -----  \n",
      " 0   Name             16713 non-null  object \n",
      " 1   Platform         16715 non-null  object \n",
      " 2   Year_of_Release  16446 non-null  float64\n",
      " 3   Genre            16713 non-null  object \n",
      " 4   NA_sales         16715 non-null  float64\n",
      " 5   EU_sales         16715 non-null  float64\n",
      " 6   JP_sales         16715 non-null  float64\n",
      " 7   Other_sales      16715 non-null  float64\n",
      " 8   Critic_Score     8137 non-null   float64\n",
      " 9   User_Score       10014 non-null  object \n",
      " 10  Rating           9949 non-null   object \n",
      "dtypes: float64(6), object(5)\n",
      "memory usage: 1.4+ MB\n"
     ]
    }
   ],
   "source": [
    "df.info()"
   ]
  },
  {
   "cell_type": "markdown",
   "metadata": {},
   "source": [
    "Согласно документации к данным **Name** — название игры,**Platform** — платформа, **Year_of_Release** — год выпуска, **Genre** — жанр игры, **NA_sales** — продажи в Северной Америке (миллионы проданных копий), **EU_sales** — продажи в Европе (миллионы проданных копий), **JP_sales** — продажи в Японии (миллионы проданных копий), **Other_sales** — продажи в других странах (миллионы проданных копий), **Critic_Score** — оценка критиков (максимум 100), **User_Score** — оценка пользователей (максимум 10), **Rating** — рейтинг от организации ESRB (англ. Entertainment Software Rating Board). Эта ассоциация определяет рейтинг компьютерных игр и присваивает им подходящую возрастную категорию.\n",
    "\n",
    "Также указано, что за 2016 год данные могут быть неполными."
   ]
  },
  {
   "cell_type": "markdown",
   "metadata": {},
   "source": [
    "Посмотрим количество пропусков в датасете."
   ]
  },
  {
   "cell_type": "code",
   "execution_count": 5,
   "metadata": {},
   "outputs": [
    {
     "name": "stdout",
     "output_type": "stream",
     "text": [
      "Name                  2\n",
      "Platform              0\n",
      "Year_of_Release     269\n",
      "Genre                 2\n",
      "NA_sales              0\n",
      "EU_sales              0\n",
      "JP_sales              0\n",
      "Other_sales           0\n",
      "Critic_Score       8578\n",
      "User_Score         6701\n",
      "Rating             6766\n",
      "dtype: int64\n"
     ]
    }
   ],
   "source": [
    "print(df.isna().sum())"
   ]
  },
  {
   "cell_type": "markdown",
   "metadata": {},
   "source": [
    "Мы видим, что пропущенно довольно много данных. Нужно будет разобраться с причинами пропусков, заполнить или удалить пустые строки."
   ]
  },
  {
   "cell_type": "markdown",
   "metadata": {},
   "source": [
    "### Вывод"
   ]
  },
  {
   "cell_type": "markdown",
   "metadata": {},
   "source": [
    "Исходя из предварительного обзора данных мы видим, что для дальнейшей работы нам необходимо привести названия столбцов к одному регистру, изменить тип данных на подходящий, заполнить пропуски."
   ]
  },
  {
   "cell_type": "markdown",
   "metadata": {},
   "source": [
    "## Предобработка данных"
   ]
  },
  {
   "cell_type": "markdown",
   "metadata": {},
   "source": [
    "Приведём в порядок наименования столбцов."
   ]
  },
  {
   "cell_type": "code",
   "execution_count": 6,
   "metadata": {},
   "outputs": [],
   "source": [
    "df.columns = df.columns.str.lower()"
   ]
  },
  {
   "cell_type": "markdown",
   "metadata": {},
   "source": [
    "Вероятно тот, кто формировал таблицу, по привычке писал названия столбцов с большой буквы. Может быть, что таблицу формировали несколько человек, так как после разделителя _ некоторые наименования написаны снова с заглавной буквы."
   ]
  },
  {
   "cell_type": "markdown",
   "metadata": {},
   "source": [
    "В остальных столбцах пока оставим числа с плавающей точкой, так как рейтинг складывается как среднее значение из всех выставленных оценок и только в редких случаях бывает целым числом. Столбцы с миллионами проданных копий пока тоже оставим с плавающей точкой, так как в этом случае обрезали нули, но оставляли тысячи, изменим их позже, если возникнет необходимость."
   ]
  },
  {
   "cell_type": "markdown",
   "metadata": {},
   "source": [
    "Проверим наличие дубликатов в данных."
   ]
  },
  {
   "cell_type": "code",
   "execution_count": 7,
   "metadata": {},
   "outputs": [
    {
     "name": "stdout",
     "output_type": "stream",
     "text": [
      "0\n"
     ]
    }
   ],
   "source": [
    "print(df.duplicated().sum())"
   ]
  },
  {
   "cell_type": "code",
   "execution_count": 8,
   "metadata": {},
   "outputs": [
    {
     "data": {
      "text/html": [
       "<div>\n",
       "<style scoped>\n",
       "    .dataframe tbody tr th:only-of-type {\n",
       "        vertical-align: middle;\n",
       "    }\n",
       "\n",
       "    .dataframe tbody tr th {\n",
       "        vertical-align: top;\n",
       "    }\n",
       "\n",
       "    .dataframe thead th {\n",
       "        text-align: right;\n",
       "    }\n",
       "</style>\n",
       "<table border=\"1\" class=\"dataframe\">\n",
       "  <thead>\n",
       "    <tr style=\"text-align: right;\">\n",
       "      <th></th>\n",
       "      <th>name</th>\n",
       "      <th>platform</th>\n",
       "      <th>year_of_release</th>\n",
       "      <th>genre</th>\n",
       "      <th>na_sales</th>\n",
       "      <th>eu_sales</th>\n",
       "      <th>jp_sales</th>\n",
       "      <th>other_sales</th>\n",
       "      <th>critic_score</th>\n",
       "      <th>user_score</th>\n",
       "      <th>rating</th>\n",
       "    </tr>\n",
       "  </thead>\n",
       "  <tbody>\n",
       "    <tr>\n",
       "      <th>604</th>\n",
       "      <td>Madden NFL 13</td>\n",
       "      <td>PS3</td>\n",
       "      <td>2012.0</td>\n",
       "      <td>Sports</td>\n",
       "      <td>2.11</td>\n",
       "      <td>0.22</td>\n",
       "      <td>0.00</td>\n",
       "      <td>0.23</td>\n",
       "      <td>83.0</td>\n",
       "      <td>5.5</td>\n",
       "      <td>E</td>\n",
       "    </tr>\n",
       "    <tr>\n",
       "      <th>659</th>\n",
       "      <td>NaN</td>\n",
       "      <td>GEN</td>\n",
       "      <td>1993.0</td>\n",
       "      <td>NaN</td>\n",
       "      <td>1.78</td>\n",
       "      <td>0.53</td>\n",
       "      <td>0.00</td>\n",
       "      <td>0.08</td>\n",
       "      <td>NaN</td>\n",
       "      <td>NaN</td>\n",
       "      <td>NaN</td>\n",
       "    </tr>\n",
       "    <tr>\n",
       "      <th>1190</th>\n",
       "      <td>Need for Speed: Most Wanted</td>\n",
       "      <td>X360</td>\n",
       "      <td>2012.0</td>\n",
       "      <td>Racing</td>\n",
       "      <td>0.62</td>\n",
       "      <td>0.78</td>\n",
       "      <td>0.01</td>\n",
       "      <td>0.15</td>\n",
       "      <td>83.0</td>\n",
       "      <td>8.5</td>\n",
       "      <td>T</td>\n",
       "    </tr>\n",
       "    <tr>\n",
       "      <th>1591</th>\n",
       "      <td>Need for Speed: Most Wanted</td>\n",
       "      <td>X360</td>\n",
       "      <td>2005.0</td>\n",
       "      <td>Racing</td>\n",
       "      <td>1.00</td>\n",
       "      <td>0.13</td>\n",
       "      <td>0.02</td>\n",
       "      <td>0.10</td>\n",
       "      <td>83.0</td>\n",
       "      <td>8.5</td>\n",
       "      <td>T</td>\n",
       "    </tr>\n",
       "    <tr>\n",
       "      <th>1745</th>\n",
       "      <td>Sonic the Hedgehog</td>\n",
       "      <td>PS3</td>\n",
       "      <td>2006.0</td>\n",
       "      <td>Platform</td>\n",
       "      <td>0.41</td>\n",
       "      <td>0.06</td>\n",
       "      <td>0.04</td>\n",
       "      <td>0.66</td>\n",
       "      <td>43.0</td>\n",
       "      <td>4.1</td>\n",
       "      <td>E10+</td>\n",
       "    </tr>\n",
       "    <tr>\n",
       "      <th>4127</th>\n",
       "      <td>Sonic the Hedgehog</td>\n",
       "      <td>PS3</td>\n",
       "      <td>NaN</td>\n",
       "      <td>Platform</td>\n",
       "      <td>0.00</td>\n",
       "      <td>0.48</td>\n",
       "      <td>0.00</td>\n",
       "      <td>0.00</td>\n",
       "      <td>43.0</td>\n",
       "      <td>4.1</td>\n",
       "      <td>E10+</td>\n",
       "    </tr>\n",
       "    <tr>\n",
       "      <th>5972</th>\n",
       "      <td>Need for Speed: Most Wanted</td>\n",
       "      <td>PC</td>\n",
       "      <td>2005.0</td>\n",
       "      <td>Racing</td>\n",
       "      <td>0.02</td>\n",
       "      <td>0.23</td>\n",
       "      <td>0.00</td>\n",
       "      <td>0.04</td>\n",
       "      <td>82.0</td>\n",
       "      <td>8.5</td>\n",
       "      <td>T</td>\n",
       "    </tr>\n",
       "    <tr>\n",
       "      <th>11715</th>\n",
       "      <td>Need for Speed: Most Wanted</td>\n",
       "      <td>PC</td>\n",
       "      <td>2012.0</td>\n",
       "      <td>Racing</td>\n",
       "      <td>0.00</td>\n",
       "      <td>0.06</td>\n",
       "      <td>0.00</td>\n",
       "      <td>0.02</td>\n",
       "      <td>82.0</td>\n",
       "      <td>8.5</td>\n",
       "      <td>T</td>\n",
       "    </tr>\n",
       "    <tr>\n",
       "      <th>14244</th>\n",
       "      <td>NaN</td>\n",
       "      <td>GEN</td>\n",
       "      <td>1993.0</td>\n",
       "      <td>NaN</td>\n",
       "      <td>0.00</td>\n",
       "      <td>0.00</td>\n",
       "      <td>0.03</td>\n",
       "      <td>0.00</td>\n",
       "      <td>NaN</td>\n",
       "      <td>NaN</td>\n",
       "      <td>NaN</td>\n",
       "    </tr>\n",
       "    <tr>\n",
       "      <th>16230</th>\n",
       "      <td>Madden NFL 13</td>\n",
       "      <td>PS3</td>\n",
       "      <td>2012.0</td>\n",
       "      <td>Sports</td>\n",
       "      <td>0.00</td>\n",
       "      <td>0.01</td>\n",
       "      <td>0.00</td>\n",
       "      <td>0.00</td>\n",
       "      <td>83.0</td>\n",
       "      <td>5.5</td>\n",
       "      <td>E</td>\n",
       "    </tr>\n",
       "  </tbody>\n",
       "</table>\n",
       "</div>"
      ],
      "text/plain": [
       "                              name platform  year_of_release     genre  \\\n",
       "604                  Madden NFL 13      PS3           2012.0    Sports   \n",
       "659                            NaN      GEN           1993.0       NaN   \n",
       "1190   Need for Speed: Most Wanted     X360           2012.0    Racing   \n",
       "1591   Need for Speed: Most Wanted     X360           2005.0    Racing   \n",
       "1745            Sonic the Hedgehog      PS3           2006.0  Platform   \n",
       "4127            Sonic the Hedgehog      PS3              NaN  Platform   \n",
       "5972   Need for Speed: Most Wanted       PC           2005.0    Racing   \n",
       "11715  Need for Speed: Most Wanted       PC           2012.0    Racing   \n",
       "14244                          NaN      GEN           1993.0       NaN   \n",
       "16230                Madden NFL 13      PS3           2012.0    Sports   \n",
       "\n",
       "       na_sales  eu_sales  jp_sales  other_sales  critic_score user_score  \\\n",
       "604        2.11      0.22      0.00         0.23          83.0        5.5   \n",
       "659        1.78      0.53      0.00         0.08           NaN        NaN   \n",
       "1190       0.62      0.78      0.01         0.15          83.0        8.5   \n",
       "1591       1.00      0.13      0.02         0.10          83.0        8.5   \n",
       "1745       0.41      0.06      0.04         0.66          43.0        4.1   \n",
       "4127       0.00      0.48      0.00         0.00          43.0        4.1   \n",
       "5972       0.02      0.23      0.00         0.04          82.0        8.5   \n",
       "11715      0.00      0.06      0.00         0.02          82.0        8.5   \n",
       "14244      0.00      0.00      0.03         0.00           NaN        NaN   \n",
       "16230      0.00      0.01      0.00         0.00          83.0        5.5   \n",
       "\n",
       "      rating  \n",
       "604        E  \n",
       "659      NaN  \n",
       "1190       T  \n",
       "1591       T  \n",
       "1745    E10+  \n",
       "4127    E10+  \n",
       "5972       T  \n",
       "11715      T  \n",
       "14244    NaN  \n",
       "16230      E  "
      ]
     },
     "execution_count": 8,
     "metadata": {},
     "output_type": "execute_result"
    }
   ],
   "source": [
    "df[df.duplicated(subset=['name', 'platform'], keep=False)]"
   ]
  },
  {
   "cell_type": "markdown",
   "metadata": {},
   "source": [
    "Судя по году выпуска в это время выходила новая версия игры, также видим разную сумму продаж по регионам, поэтому не стоит удалять эти строки."
   ]
  },
  {
   "cell_type": "markdown",
   "metadata": {},
   "source": [
    "Дубликаты отсутствуют, перейдём к обработке пропусков. В столбце с наименованием игры отсутствуют два значения, восстановить их не представляется возможным, поэтому удалим эти строки. К тому же 2 строки по сравнению с 1675 строками незначительны."
   ]
  },
  {
   "cell_type": "code",
   "execution_count": 10,
   "metadata": {},
   "outputs": [],
   "source": [
    "df.dropna(subset=['name'], inplace=True)"
   ]
  },
  {
   "cell_type": "markdown",
   "metadata": {},
   "source": [
    "Проверим корректность данных столбца platform."
   ]
  },
  {
   "cell_type": "code",
   "execution_count": 11,
   "metadata": {},
   "outputs": [
    {
     "data": {
      "text/plain": [
       "PS2     2161\n",
       "DS      2151\n",
       "PS3     1331\n",
       "Wii     1320\n",
       "X360    1262\n",
       "PSP     1209\n",
       "PS      1197\n",
       "PC       974\n",
       "XB       824\n",
       "GBA      822\n",
       "GC       556\n",
       "3DS      520\n",
       "PSV      430\n",
       "PS4      392\n",
       "N64      319\n",
       "XOne     247\n",
       "SNES     239\n",
       "SAT      173\n",
       "WiiU     147\n",
       "2600     133\n",
       "GB        98\n",
       "NES       98\n",
       "DC        52\n",
       "GEN       27\n",
       "NG        12\n",
       "SCD        6\n",
       "WS         6\n",
       "3DO        3\n",
       "TG16       2\n",
       "PCFX       1\n",
       "GG         1\n",
       "Name: platform, dtype: int64"
      ]
     },
     "execution_count": 11,
     "metadata": {},
     "output_type": "execute_result"
    }
   ],
   "source": [
    "df['platform'].value_counts()"
   ]
  },
  {
   "cell_type": "markdown",
   "metadata": {},
   "source": [
    "С данными всё в порядке. Рассмотрим столбец с годом выпуска игр, в нём есть пропуски."
   ]
  },
  {
   "cell_type": "code",
   "execution_count": 12,
   "metadata": {},
   "outputs": [
    {
     "data": {
      "text/plain": [
       "2008.0    1427\n",
       "2009.0    1426\n",
       "2010.0    1255\n",
       "2007.0    1197\n",
       "2011.0    1136\n",
       "2006.0    1006\n",
       "2005.0     939\n",
       "2002.0     829\n",
       "2003.0     775\n",
       "2004.0     762\n",
       "2012.0     653\n",
       "2015.0     606\n",
       "2014.0     581\n",
       "2013.0     544\n",
       "2016.0     502\n",
       "2001.0     482\n",
       "1998.0     379\n",
       "2000.0     350\n",
       "1999.0     338\n",
       "1997.0     289\n",
       "1996.0     263\n",
       "1995.0     219\n",
       "1994.0     121\n",
       "1993.0      60\n",
       "1981.0      46\n",
       "1992.0      43\n",
       "1991.0      41\n",
       "1982.0      36\n",
       "1986.0      21\n",
       "1989.0      17\n",
       "1983.0      17\n",
       "1987.0      16\n",
       "1990.0      16\n",
       "1988.0      15\n",
       "1984.0      14\n",
       "1985.0      14\n",
       "1980.0       9\n",
       "Name: year_of_release, dtype: int64"
      ]
     },
     "execution_count": 12,
     "metadata": {},
     "output_type": "execute_result"
    }
   ],
   "source": [
    "df['year_of_release'].value_counts()"
   ]
  },
  {
   "cell_type": "code",
   "execution_count": 13,
   "metadata": {},
   "outputs": [
    {
     "name": "stdout",
     "output_type": "stream",
     "text": [
      "Кол-во пропусков = 269\n"
     ]
    }
   ],
   "source": [
    "print('Кол-во пропусков =', df['year_of_release'].isna().sum())"
   ]
  },
  {
   "cell_type": "code",
   "execution_count": 14,
   "metadata": {},
   "outputs": [
    {
     "data": {
      "text/plain": [
       "0.01609332934489979"
      ]
     },
     "execution_count": 14,
     "metadata": {},
     "output_type": "execute_result"
    }
   ],
   "source": [
    "(df['year_of_release'].isna().sum())/16715"
   ]
  },
  {
   "cell_type": "markdown",
   "metadata": {},
   "source": [
    "Восстановить год выпуска игр довольно проблематично, 269 строк - это 1% от общего объёма данных. Их можно удалить."
   ]
  },
  {
   "cell_type": "code",
   "execution_count": 15,
   "metadata": {},
   "outputs": [],
   "source": [
    "df.dropna(subset=['year_of_release'], inplace=True)"
   ]
  },
  {
   "cell_type": "code",
   "execution_count": 16,
   "metadata": {},
   "outputs": [
    {
     "data": {
      "text/plain": [
       "0.9837870176488184"
      ]
     },
     "execution_count": 16,
     "metadata": {},
     "output_type": "execute_result"
    }
   ],
   "source": [
    "df.shape[0]/16715"
   ]
  },
  {
   "cell_type": "markdown",
   "metadata": {},
   "source": [
    "Посмотрим на столбец genre."
   ]
  },
  {
   "cell_type": "code",
   "execution_count": 17,
   "metadata": {
    "scrolled": true
   },
   "outputs": [
    {
     "data": {
      "text/plain": [
       "Action          3307\n",
       "Sports          2306\n",
       "Misc            1721\n",
       "Role-Playing    1481\n",
       "Shooter         1296\n",
       "Adventure       1293\n",
       "Racing          1226\n",
       "Platform         878\n",
       "Simulation       857\n",
       "Fighting         837\n",
       "Strategy         673\n",
       "Puzzle           569\n",
       "Name: genre, dtype: int64"
      ]
     },
     "execution_count": 17,
     "metadata": {},
     "output_type": "execute_result"
    }
   ],
   "source": [
    "df['genre'].value_counts()"
   ]
  },
  {
   "cell_type": "markdown",
   "metadata": {},
   "source": [
    "С данными здесь всё в порядке. Теперь перейдём к столбцу critic_score, в котором имеются пропуски."
   ]
  },
  {
   "cell_type": "code",
   "execution_count": 18,
   "metadata": {},
   "outputs": [
    {
     "data": {
      "text/plain": [
       "NaN     8461\n",
       "70.0     252\n",
       "71.0     248\n",
       "75.0     240\n",
       "80.0     235\n",
       "        ... \n",
       "20.0       3\n",
       "29.0       3\n",
       "21.0       1\n",
       "17.0       1\n",
       "13.0       1\n",
       "Name: critic_score, Length: 82, dtype: int64"
      ]
     },
     "execution_count": 18,
     "metadata": {},
     "output_type": "execute_result"
    }
   ],
   "source": [
    "df['critic_score'].value_counts(dropna=False)"
   ]
  },
  {
   "cell_type": "code",
   "execution_count": 19,
   "metadata": {},
   "outputs": [
    {
     "data": {
      "text/html": [
       "<div>\n",
       "<style scoped>\n",
       "    .dataframe tbody tr th:only-of-type {\n",
       "        vertical-align: middle;\n",
       "    }\n",
       "\n",
       "    .dataframe tbody tr th {\n",
       "        vertical-align: top;\n",
       "    }\n",
       "\n",
       "    .dataframe thead th {\n",
       "        text-align: right;\n",
       "    }\n",
       "</style>\n",
       "<table border=\"1\" class=\"dataframe\">\n",
       "  <thead>\n",
       "    <tr style=\"text-align: right;\">\n",
       "      <th></th>\n",
       "      <th>critic_score</th>\n",
       "    </tr>\n",
       "  </thead>\n",
       "  <tbody>\n",
       "    <tr>\n",
       "      <th>count</th>\n",
       "      <td>7983.000000</td>\n",
       "    </tr>\n",
       "    <tr>\n",
       "      <th>mean</th>\n",
       "      <td>68.994363</td>\n",
       "    </tr>\n",
       "    <tr>\n",
       "      <th>std</th>\n",
       "      <td>13.920060</td>\n",
       "    </tr>\n",
       "    <tr>\n",
       "      <th>min</th>\n",
       "      <td>13.000000</td>\n",
       "    </tr>\n",
       "    <tr>\n",
       "      <th>25%</th>\n",
       "      <td>60.000000</td>\n",
       "    </tr>\n",
       "    <tr>\n",
       "      <th>50%</th>\n",
       "      <td>71.000000</td>\n",
       "    </tr>\n",
       "    <tr>\n",
       "      <th>75%</th>\n",
       "      <td>79.000000</td>\n",
       "    </tr>\n",
       "    <tr>\n",
       "      <th>max</th>\n",
       "      <td>98.000000</td>\n",
       "    </tr>\n",
       "  </tbody>\n",
       "</table>\n",
       "</div>"
      ],
      "text/plain": [
       "       critic_score\n",
       "count   7983.000000\n",
       "mean      68.994363\n",
       "std       13.920060\n",
       "min       13.000000\n",
       "25%       60.000000\n",
       "50%       71.000000\n",
       "75%       79.000000\n",
       "max       98.000000"
      ]
     },
     "execution_count": 19,
     "metadata": {},
     "output_type": "execute_result"
    }
   ],
   "source": [
    "df[['critic_score']].describe()"
   ]
  },
  {
   "cell_type": "code",
   "execution_count": 20,
   "metadata": {},
   "outputs": [
    {
     "name": "stdout",
     "output_type": "stream",
     "text": [
      "0.5145341765993675\n"
     ]
    }
   ],
   "source": [
    "print(df['critic_score'].isna().sum()/len(df))"
   ]
  },
  {
   "cell_type": "markdown",
   "metadata": {},
   "source": [
    "Так как процент пропусков довольно большой, то их удалять не следует, так как дадасет будет обеднён, что может отразиться на данных."
   ]
  },
  {
   "cell_type": "markdown",
   "metadata": {},
   "source": [
    "Пропущенные значения не будут учитываться при выполнении некоторых операций, поэтому нужно заполнить их так, чтобы это не исказило результаты анализа. Для этого заменим их на 0.0."
   ]
  },
  {
   "cell_type": "code",
   "execution_count": 21,
   "metadata": {},
   "outputs": [],
   "source": [
    "df['critic_score'] = df['critic_score'].fillna('0.0') "
   ]
  },
  {
   "cell_type": "code",
   "execution_count": 22,
   "metadata": {},
   "outputs": [],
   "source": [
    "df['critic_score'] = df['critic_score'].astype(float)"
   ]
  },
  {
   "cell_type": "markdown",
   "metadata": {},
   "source": [
    "Рассмотрим столбец с оценкой пользователей."
   ]
  },
  {
   "cell_type": "code",
   "execution_count": 23,
   "metadata": {},
   "outputs": [
    {
     "data": {
      "text/plain": [
       "NaN    6605\n",
       "tbd    2376\n",
       "7.8     322\n",
       "8       285\n",
       "8.2     276\n",
       "       ... \n",
       "1.1       2\n",
       "0.5       2\n",
       "0.2       2\n",
       "9.7       1\n",
       "0         1\n",
       "Name: user_score, Length: 97, dtype: int64"
      ]
     },
     "execution_count": 23,
     "metadata": {},
     "output_type": "execute_result"
    }
   ],
   "source": [
    "df['user_score'].value_counts(dropna=False)"
   ]
  },
  {
   "cell_type": "code",
   "execution_count": 24,
   "metadata": {},
   "outputs": [
    {
     "data": {
      "text/plain": [
       "count     9839\n",
       "unique      96\n",
       "top        tbd\n",
       "freq      2376\n",
       "Name: user_score, dtype: object"
      ]
     },
     "execution_count": 24,
     "metadata": {},
     "output_type": "execute_result"
    }
   ],
   "source": [
    "df['user_score'].describe()"
   ]
  },
  {
   "cell_type": "markdown",
   "metadata": {},
   "source": [
    "В описании задания обращают ввнимание на аббревиатуру 'tbd' в данном столбце. TBD = to be determined. В переводе с английского - подлежит определению. Посмотрим на эти строки. Возможно, эта аббревиатура используется в рейтинге недавно вышедших игр."
   ]
  },
  {
   "cell_type": "code",
   "execution_count": 25,
   "metadata": {},
   "outputs": [
    {
     "data": {
      "text/html": [
       "<div>\n",
       "<style scoped>\n",
       "    .dataframe tbody tr th:only-of-type {\n",
       "        vertical-align: middle;\n",
       "    }\n",
       "\n",
       "    .dataframe tbody tr th {\n",
       "        vertical-align: top;\n",
       "    }\n",
       "\n",
       "    .dataframe thead th {\n",
       "        text-align: right;\n",
       "    }\n",
       "</style>\n",
       "<table border=\"1\" class=\"dataframe\">\n",
       "  <thead>\n",
       "    <tr style=\"text-align: right;\">\n",
       "      <th></th>\n",
       "      <th>name</th>\n",
       "      <th>platform</th>\n",
       "      <th>year_of_release</th>\n",
       "      <th>genre</th>\n",
       "      <th>na_sales</th>\n",
       "      <th>eu_sales</th>\n",
       "      <th>jp_sales</th>\n",
       "      <th>other_sales</th>\n",
       "      <th>critic_score</th>\n",
       "      <th>user_score</th>\n",
       "      <th>rating</th>\n",
       "    </tr>\n",
       "  </thead>\n",
       "  <tbody>\n",
       "    <tr>\n",
       "      <th>119</th>\n",
       "      <td>Zumba Fitness</td>\n",
       "      <td>Wii</td>\n",
       "      <td>2010.0</td>\n",
       "      <td>Sports</td>\n",
       "      <td>3.45</td>\n",
       "      <td>2.59</td>\n",
       "      <td>0.0</td>\n",
       "      <td>0.66</td>\n",
       "      <td>0.0</td>\n",
       "      <td>tbd</td>\n",
       "      <td>E</td>\n",
       "    </tr>\n",
       "    <tr>\n",
       "      <th>301</th>\n",
       "      <td>Namco Museum: 50th Anniversary</td>\n",
       "      <td>PS2</td>\n",
       "      <td>2005.0</td>\n",
       "      <td>Misc</td>\n",
       "      <td>2.08</td>\n",
       "      <td>1.35</td>\n",
       "      <td>0.0</td>\n",
       "      <td>0.54</td>\n",
       "      <td>61.0</td>\n",
       "      <td>tbd</td>\n",
       "      <td>E10+</td>\n",
       "    </tr>\n",
       "    <tr>\n",
       "      <th>520</th>\n",
       "      <td>Zumba Fitness 2</td>\n",
       "      <td>Wii</td>\n",
       "      <td>2011.0</td>\n",
       "      <td>Sports</td>\n",
       "      <td>1.51</td>\n",
       "      <td>1.03</td>\n",
       "      <td>0.0</td>\n",
       "      <td>0.27</td>\n",
       "      <td>0.0</td>\n",
       "      <td>tbd</td>\n",
       "      <td>T</td>\n",
       "    </tr>\n",
       "    <tr>\n",
       "      <th>645</th>\n",
       "      <td>uDraw Studio</td>\n",
       "      <td>Wii</td>\n",
       "      <td>2010.0</td>\n",
       "      <td>Misc</td>\n",
       "      <td>1.65</td>\n",
       "      <td>0.57</td>\n",
       "      <td>0.0</td>\n",
       "      <td>0.20</td>\n",
       "      <td>71.0</td>\n",
       "      <td>tbd</td>\n",
       "      <td>E</td>\n",
       "    </tr>\n",
       "    <tr>\n",
       "      <th>718</th>\n",
       "      <td>Just Dance Kids</td>\n",
       "      <td>Wii</td>\n",
       "      <td>2010.0</td>\n",
       "      <td>Misc</td>\n",
       "      <td>1.52</td>\n",
       "      <td>0.54</td>\n",
       "      <td>0.0</td>\n",
       "      <td>0.18</td>\n",
       "      <td>0.0</td>\n",
       "      <td>tbd</td>\n",
       "      <td>E</td>\n",
       "    </tr>\n",
       "    <tr>\n",
       "      <th>...</th>\n",
       "      <td>...</td>\n",
       "      <td>...</td>\n",
       "      <td>...</td>\n",
       "      <td>...</td>\n",
       "      <td>...</td>\n",
       "      <td>...</td>\n",
       "      <td>...</td>\n",
       "      <td>...</td>\n",
       "      <td>...</td>\n",
       "      <td>...</td>\n",
       "      <td>...</td>\n",
       "    </tr>\n",
       "    <tr>\n",
       "      <th>16695</th>\n",
       "      <td>Planet Monsters</td>\n",
       "      <td>GBA</td>\n",
       "      <td>2001.0</td>\n",
       "      <td>Action</td>\n",
       "      <td>0.01</td>\n",
       "      <td>0.00</td>\n",
       "      <td>0.0</td>\n",
       "      <td>0.00</td>\n",
       "      <td>67.0</td>\n",
       "      <td>tbd</td>\n",
       "      <td>E</td>\n",
       "    </tr>\n",
       "    <tr>\n",
       "      <th>16697</th>\n",
       "      <td>Bust-A-Move 3000</td>\n",
       "      <td>GC</td>\n",
       "      <td>2003.0</td>\n",
       "      <td>Puzzle</td>\n",
       "      <td>0.01</td>\n",
       "      <td>0.00</td>\n",
       "      <td>0.0</td>\n",
       "      <td>0.00</td>\n",
       "      <td>53.0</td>\n",
       "      <td>tbd</td>\n",
       "      <td>E</td>\n",
       "    </tr>\n",
       "    <tr>\n",
       "      <th>16698</th>\n",
       "      <td>Mega Brain Boost</td>\n",
       "      <td>DS</td>\n",
       "      <td>2008.0</td>\n",
       "      <td>Puzzle</td>\n",
       "      <td>0.01</td>\n",
       "      <td>0.00</td>\n",
       "      <td>0.0</td>\n",
       "      <td>0.00</td>\n",
       "      <td>48.0</td>\n",
       "      <td>tbd</td>\n",
       "      <td>E</td>\n",
       "    </tr>\n",
       "    <tr>\n",
       "      <th>16704</th>\n",
       "      <td>Plushees</td>\n",
       "      <td>DS</td>\n",
       "      <td>2008.0</td>\n",
       "      <td>Simulation</td>\n",
       "      <td>0.01</td>\n",
       "      <td>0.00</td>\n",
       "      <td>0.0</td>\n",
       "      <td>0.00</td>\n",
       "      <td>0.0</td>\n",
       "      <td>tbd</td>\n",
       "      <td>E</td>\n",
       "    </tr>\n",
       "    <tr>\n",
       "      <th>16706</th>\n",
       "      <td>Men in Black II: Alien Escape</td>\n",
       "      <td>GC</td>\n",
       "      <td>2003.0</td>\n",
       "      <td>Shooter</td>\n",
       "      <td>0.01</td>\n",
       "      <td>0.00</td>\n",
       "      <td>0.0</td>\n",
       "      <td>0.00</td>\n",
       "      <td>0.0</td>\n",
       "      <td>tbd</td>\n",
       "      <td>T</td>\n",
       "    </tr>\n",
       "  </tbody>\n",
       "</table>\n",
       "<p>2376 rows × 11 columns</p>\n",
       "</div>"
      ],
      "text/plain": [
       "                                 name platform  year_of_release       genre  \\\n",
       "119                     Zumba Fitness      Wii           2010.0      Sports   \n",
       "301    Namco Museum: 50th Anniversary      PS2           2005.0        Misc   \n",
       "520                   Zumba Fitness 2      Wii           2011.0      Sports   \n",
       "645                      uDraw Studio      Wii           2010.0        Misc   \n",
       "718                   Just Dance Kids      Wii           2010.0        Misc   \n",
       "...                               ...      ...              ...         ...   \n",
       "16695                 Planet Monsters      GBA           2001.0      Action   \n",
       "16697                Bust-A-Move 3000       GC           2003.0      Puzzle   \n",
       "16698                Mega Brain Boost       DS           2008.0      Puzzle   \n",
       "16704                        Plushees       DS           2008.0  Simulation   \n",
       "16706   Men in Black II: Alien Escape       GC           2003.0     Shooter   \n",
       "\n",
       "       na_sales  eu_sales  jp_sales  other_sales  critic_score user_score  \\\n",
       "119        3.45      2.59       0.0         0.66           0.0        tbd   \n",
       "301        2.08      1.35       0.0         0.54          61.0        tbd   \n",
       "520        1.51      1.03       0.0         0.27           0.0        tbd   \n",
       "645        1.65      0.57       0.0         0.20          71.0        tbd   \n",
       "718        1.52      0.54       0.0         0.18           0.0        tbd   \n",
       "...         ...       ...       ...          ...           ...        ...   \n",
       "16695      0.01      0.00       0.0         0.00          67.0        tbd   \n",
       "16697      0.01      0.00       0.0         0.00          53.0        tbd   \n",
       "16698      0.01      0.00       0.0         0.00          48.0        tbd   \n",
       "16704      0.01      0.00       0.0         0.00           0.0        tbd   \n",
       "16706      0.01      0.00       0.0         0.00           0.0        tbd   \n",
       "\n",
       "      rating  \n",
       "119        E  \n",
       "301     E10+  \n",
       "520        T  \n",
       "645        E  \n",
       "718        E  \n",
       "...      ...  \n",
       "16695      E  \n",
       "16697      E  \n",
       "16698      E  \n",
       "16704      E  \n",
       "16706      T  \n",
       "\n",
       "[2376 rows x 11 columns]"
      ]
     },
     "metadata": {},
     "output_type": "display_data"
    }
   ],
   "source": [
    "display(df[df['user_score']==\"tbd\"])"
   ]
  },
  {
   "cell_type": "markdown",
   "metadata": {},
   "source": [
    "Мы видим, что tbd используется в рейтинге игр разных лет. В таком случае, примем его за пропуск и обработаем."
   ]
  },
  {
   "cell_type": "code",
   "execution_count": 26,
   "metadata": {},
   "outputs": [],
   "source": [
    "df.loc[df['user_score']==\"tbd\", 'user_score']=np.nan"
   ]
  },
  {
   "cell_type": "code",
   "execution_count": 27,
   "metadata": {},
   "outputs": [
    {
     "name": "stdout",
     "output_type": "stream",
     "text": [
      "0.5461566528825104\n"
     ]
    }
   ],
   "source": [
    "print(df['user_score'].isna().sum()/len(df))"
   ]
  },
  {
   "cell_type": "markdown",
   "metadata": {},
   "source": [
    "Для чистоты данных здесь также заменим пропуски на 0.0."
   ]
  },
  {
   "cell_type": "code",
   "execution_count": 28,
   "metadata": {},
   "outputs": [],
   "source": [
    "df['user_score'] = df['user_score'].fillna('0.0') "
   ]
  },
  {
   "cell_type": "markdown",
   "metadata": {},
   "source": [
    "Изменим тип данных на float."
   ]
  },
  {
   "cell_type": "code",
   "execution_count": 29,
   "metadata": {},
   "outputs": [],
   "source": [
    "df['user_score'] = df['user_score'].astype(float)"
   ]
  },
  {
   "cell_type": "markdown",
   "metadata": {},
   "source": [
    "Перейдём к следующему столбцу."
   ]
  },
  {
   "cell_type": "code",
   "execution_count": 30,
   "metadata": {},
   "outputs": [
    {
     "data": {
      "text/plain": [
       "NaN     6676\n",
       "E       3921\n",
       "T       2905\n",
       "M       1536\n",
       "E10+    1393\n",
       "EC         8\n",
       "K-A        3\n",
       "RP         1\n",
       "AO         1\n",
       "Name: rating, dtype: int64"
      ]
     },
     "execution_count": 30,
     "metadata": {},
     "output_type": "execute_result"
    }
   ],
   "source": [
    "df['rating'].value_counts(dropna=False)"
   ]
  },
  {
   "cell_type": "markdown",
   "metadata": {},
   "source": [
    "В данном столбце также содержатся пропуски, которые невозможно заполнить, поэтому обработаем их также, как и в предыдущих столбцах. Тем не менее мы видим, что почти все игры распределились между категориями Е, Т, М и Е10+."
   ]
  },
  {
   "cell_type": "code",
   "execution_count": 31,
   "metadata": {},
   "outputs": [],
   "source": [
    "df['rating'] = df['rating'].fillna('Unknown') "
   ]
  },
  {
   "cell_type": "markdown",
   "metadata": {},
   "source": [
    "Я думаю, что причина пропусков в том, что данные хранились на различных сервисах, сайтах, но при формировании таблицы с данными доступа к сервисам, сайтам не было по техническим причинам, поэтому не удалось заполнить эти строки таблицы. Также можно заметить, что в большинстве случаев у игр есть пропуски во всех столбцах с рейтингом. Возможно, что данные как раз таки хранились в Американском рейтинговом агентстве и доступ отсутствовал."
   ]
  },
  {
   "cell_type": "markdown",
   "metadata": {},
   "source": [
    "По заданию необходимо добавить столбец с суммарными продажами во всех регионах, назовём его total_sales."
   ]
  },
  {
   "cell_type": "code",
   "execution_count": 32,
   "metadata": {},
   "outputs": [],
   "source": [
    "df['total_sales'] = df['na_sales'] + df['eu_sales'] + df['jp_sales'] + df['other_sales']"
   ]
  },
  {
   "cell_type": "markdown",
   "metadata": {},
   "source": [
    "Убедимся, что данные в столбце корректны."
   ]
  },
  {
   "cell_type": "code",
   "execution_count": 33,
   "metadata": {},
   "outputs": [
    {
     "data": {
      "text/html": [
       "<div>\n",
       "<style scoped>\n",
       "    .dataframe tbody tr th:only-of-type {\n",
       "        vertical-align: middle;\n",
       "    }\n",
       "\n",
       "    .dataframe tbody tr th {\n",
       "        vertical-align: top;\n",
       "    }\n",
       "\n",
       "    .dataframe thead th {\n",
       "        text-align: right;\n",
       "    }\n",
       "</style>\n",
       "<table border=\"1\" class=\"dataframe\">\n",
       "  <thead>\n",
       "    <tr style=\"text-align: right;\">\n",
       "      <th></th>\n",
       "      <th>name</th>\n",
       "      <th>platform</th>\n",
       "      <th>year_of_release</th>\n",
       "      <th>genre</th>\n",
       "      <th>na_sales</th>\n",
       "      <th>eu_sales</th>\n",
       "      <th>jp_sales</th>\n",
       "      <th>other_sales</th>\n",
       "      <th>critic_score</th>\n",
       "      <th>user_score</th>\n",
       "      <th>rating</th>\n",
       "      <th>total_sales</th>\n",
       "    </tr>\n",
       "  </thead>\n",
       "  <tbody>\n",
       "    <tr>\n",
       "      <th>0</th>\n",
       "      <td>Wii Sports</td>\n",
       "      <td>Wii</td>\n",
       "      <td>2006.0</td>\n",
       "      <td>Sports</td>\n",
       "      <td>41.36</td>\n",
       "      <td>28.96</td>\n",
       "      <td>3.77</td>\n",
       "      <td>8.45</td>\n",
       "      <td>76.0</td>\n",
       "      <td>8.0</td>\n",
       "      <td>E</td>\n",
       "      <td>82.54</td>\n",
       "    </tr>\n",
       "    <tr>\n",
       "      <th>1</th>\n",
       "      <td>Super Mario Bros.</td>\n",
       "      <td>NES</td>\n",
       "      <td>1985.0</td>\n",
       "      <td>Platform</td>\n",
       "      <td>29.08</td>\n",
       "      <td>3.58</td>\n",
       "      <td>6.81</td>\n",
       "      <td>0.77</td>\n",
       "      <td>0.0</td>\n",
       "      <td>0.0</td>\n",
       "      <td>Unknown</td>\n",
       "      <td>40.24</td>\n",
       "    </tr>\n",
       "    <tr>\n",
       "      <th>2</th>\n",
       "      <td>Mario Kart Wii</td>\n",
       "      <td>Wii</td>\n",
       "      <td>2008.0</td>\n",
       "      <td>Racing</td>\n",
       "      <td>15.68</td>\n",
       "      <td>12.76</td>\n",
       "      <td>3.79</td>\n",
       "      <td>3.29</td>\n",
       "      <td>82.0</td>\n",
       "      <td>8.3</td>\n",
       "      <td>E</td>\n",
       "      <td>35.52</td>\n",
       "    </tr>\n",
       "    <tr>\n",
       "      <th>3</th>\n",
       "      <td>Wii Sports Resort</td>\n",
       "      <td>Wii</td>\n",
       "      <td>2009.0</td>\n",
       "      <td>Sports</td>\n",
       "      <td>15.61</td>\n",
       "      <td>10.93</td>\n",
       "      <td>3.28</td>\n",
       "      <td>2.95</td>\n",
       "      <td>80.0</td>\n",
       "      <td>8.0</td>\n",
       "      <td>E</td>\n",
       "      <td>32.77</td>\n",
       "    </tr>\n",
       "    <tr>\n",
       "      <th>4</th>\n",
       "      <td>Pokemon Red/Pokemon Blue</td>\n",
       "      <td>GB</td>\n",
       "      <td>1996.0</td>\n",
       "      <td>Role-Playing</td>\n",
       "      <td>11.27</td>\n",
       "      <td>8.89</td>\n",
       "      <td>10.22</td>\n",
       "      <td>1.00</td>\n",
       "      <td>0.0</td>\n",
       "      <td>0.0</td>\n",
       "      <td>Unknown</td>\n",
       "      <td>31.38</td>\n",
       "    </tr>\n",
       "  </tbody>\n",
       "</table>\n",
       "</div>"
      ],
      "text/plain": [
       "                       name platform  year_of_release         genre  na_sales  \\\n",
       "0                Wii Sports      Wii           2006.0        Sports     41.36   \n",
       "1         Super Mario Bros.      NES           1985.0      Platform     29.08   \n",
       "2            Mario Kart Wii      Wii           2008.0        Racing     15.68   \n",
       "3         Wii Sports Resort      Wii           2009.0        Sports     15.61   \n",
       "4  Pokemon Red/Pokemon Blue       GB           1996.0  Role-Playing     11.27   \n",
       "\n",
       "   eu_sales  jp_sales  other_sales  critic_score  user_score   rating  \\\n",
       "0     28.96      3.77         8.45          76.0         8.0        E   \n",
       "1      3.58      6.81         0.77           0.0         0.0  Unknown   \n",
       "2     12.76      3.79         3.29          82.0         8.3        E   \n",
       "3     10.93      3.28         2.95          80.0         8.0        E   \n",
       "4      8.89     10.22         1.00           0.0         0.0  Unknown   \n",
       "\n",
       "   total_sales  \n",
       "0        82.54  \n",
       "1        40.24  \n",
       "2        35.52  \n",
       "3        32.77  \n",
       "4        31.38  "
      ]
     },
     "metadata": {},
     "output_type": "display_data"
    }
   ],
   "source": [
    "display(df.head())"
   ]
  },
  {
   "cell_type": "markdown",
   "metadata": {},
   "source": [
    "### Вывод"
   ]
  },
  {
   "cell_type": "markdown",
   "metadata": {},
   "source": [
    "В ходе предобработки данных мы привели наименования столбцов к нижнему регистру, изменили тип данных, удалили несколько строк с пропусками, обработали пропущенные значения, которые невозможно было восстановить, выяснили, что большинство пропусков заполнить не удастся, как и удалить эти строки, и добавили столбец, в котором подсчитали сумму продаж во всех регионах. Далее будем работать с этими данными."
   ]
  },
  {
   "cell_type": "markdown",
   "metadata": {},
   "source": [
    "## Исследовательский анализ данных"
   ]
  },
  {
   "cell_type": "markdown",
   "metadata": {},
   "source": [
    "Посмотрим сколько игр выпускалось в разные годы и насколько важны для исследования данные за все годы. Создадим таблицу."
   ]
  },
  {
   "cell_type": "code",
   "execution_count": 34,
   "metadata": {},
   "outputs": [],
   "source": [
    "time_release = df.groupby('year_of_release')['name'].count().reset_index()\n",
    "time_release.columns = ['year', 'quantity']"
   ]
  },
  {
   "cell_type": "code",
   "execution_count": 35,
   "metadata": {},
   "outputs": [
    {
     "data": {
      "text/html": [
       "<div>\n",
       "<style scoped>\n",
       "    .dataframe tbody tr th:only-of-type {\n",
       "        vertical-align: middle;\n",
       "    }\n",
       "\n",
       "    .dataframe tbody tr th {\n",
       "        vertical-align: top;\n",
       "    }\n",
       "\n",
       "    .dataframe thead th {\n",
       "        text-align: right;\n",
       "    }\n",
       "</style>\n",
       "<table border=\"1\" class=\"dataframe\">\n",
       "  <thead>\n",
       "    <tr style=\"text-align: right;\">\n",
       "      <th></th>\n",
       "      <th>year</th>\n",
       "      <th>quantity</th>\n",
       "    </tr>\n",
       "  </thead>\n",
       "  <tbody>\n",
       "    <tr>\n",
       "      <th>0</th>\n",
       "      <td>1980.0</td>\n",
       "      <td>9</td>\n",
       "    </tr>\n",
       "    <tr>\n",
       "      <th>1</th>\n",
       "      <td>1981.0</td>\n",
       "      <td>46</td>\n",
       "    </tr>\n",
       "    <tr>\n",
       "      <th>2</th>\n",
       "      <td>1982.0</td>\n",
       "      <td>36</td>\n",
       "    </tr>\n",
       "    <tr>\n",
       "      <th>3</th>\n",
       "      <td>1983.0</td>\n",
       "      <td>17</td>\n",
       "    </tr>\n",
       "    <tr>\n",
       "      <th>4</th>\n",
       "      <td>1984.0</td>\n",
       "      <td>14</td>\n",
       "    </tr>\n",
       "    <tr>\n",
       "      <th>5</th>\n",
       "      <td>1985.0</td>\n",
       "      <td>14</td>\n",
       "    </tr>\n",
       "    <tr>\n",
       "      <th>6</th>\n",
       "      <td>1986.0</td>\n",
       "      <td>21</td>\n",
       "    </tr>\n",
       "    <tr>\n",
       "      <th>7</th>\n",
       "      <td>1987.0</td>\n",
       "      <td>16</td>\n",
       "    </tr>\n",
       "    <tr>\n",
       "      <th>8</th>\n",
       "      <td>1988.0</td>\n",
       "      <td>15</td>\n",
       "    </tr>\n",
       "    <tr>\n",
       "      <th>9</th>\n",
       "      <td>1989.0</td>\n",
       "      <td>17</td>\n",
       "    </tr>\n",
       "    <tr>\n",
       "      <th>10</th>\n",
       "      <td>1990.0</td>\n",
       "      <td>16</td>\n",
       "    </tr>\n",
       "    <tr>\n",
       "      <th>11</th>\n",
       "      <td>1991.0</td>\n",
       "      <td>41</td>\n",
       "    </tr>\n",
       "    <tr>\n",
       "      <th>12</th>\n",
       "      <td>1992.0</td>\n",
       "      <td>43</td>\n",
       "    </tr>\n",
       "    <tr>\n",
       "      <th>13</th>\n",
       "      <td>1993.0</td>\n",
       "      <td>60</td>\n",
       "    </tr>\n",
       "    <tr>\n",
       "      <th>14</th>\n",
       "      <td>1994.0</td>\n",
       "      <td>121</td>\n",
       "    </tr>\n",
       "    <tr>\n",
       "      <th>15</th>\n",
       "      <td>1995.0</td>\n",
       "      <td>219</td>\n",
       "    </tr>\n",
       "    <tr>\n",
       "      <th>16</th>\n",
       "      <td>1996.0</td>\n",
       "      <td>263</td>\n",
       "    </tr>\n",
       "    <tr>\n",
       "      <th>17</th>\n",
       "      <td>1997.0</td>\n",
       "      <td>289</td>\n",
       "    </tr>\n",
       "    <tr>\n",
       "      <th>18</th>\n",
       "      <td>1998.0</td>\n",
       "      <td>379</td>\n",
       "    </tr>\n",
       "    <tr>\n",
       "      <th>19</th>\n",
       "      <td>1999.0</td>\n",
       "      <td>338</td>\n",
       "    </tr>\n",
       "    <tr>\n",
       "      <th>20</th>\n",
       "      <td>2000.0</td>\n",
       "      <td>350</td>\n",
       "    </tr>\n",
       "    <tr>\n",
       "      <th>21</th>\n",
       "      <td>2001.0</td>\n",
       "      <td>482</td>\n",
       "    </tr>\n",
       "    <tr>\n",
       "      <th>22</th>\n",
       "      <td>2002.0</td>\n",
       "      <td>829</td>\n",
       "    </tr>\n",
       "    <tr>\n",
       "      <th>23</th>\n",
       "      <td>2003.0</td>\n",
       "      <td>775</td>\n",
       "    </tr>\n",
       "    <tr>\n",
       "      <th>24</th>\n",
       "      <td>2004.0</td>\n",
       "      <td>762</td>\n",
       "    </tr>\n",
       "    <tr>\n",
       "      <th>25</th>\n",
       "      <td>2005.0</td>\n",
       "      <td>939</td>\n",
       "    </tr>\n",
       "    <tr>\n",
       "      <th>26</th>\n",
       "      <td>2006.0</td>\n",
       "      <td>1006</td>\n",
       "    </tr>\n",
       "    <tr>\n",
       "      <th>27</th>\n",
       "      <td>2007.0</td>\n",
       "      <td>1197</td>\n",
       "    </tr>\n",
       "    <tr>\n",
       "      <th>28</th>\n",
       "      <td>2008.0</td>\n",
       "      <td>1427</td>\n",
       "    </tr>\n",
       "    <tr>\n",
       "      <th>29</th>\n",
       "      <td>2009.0</td>\n",
       "      <td>1426</td>\n",
       "    </tr>\n",
       "    <tr>\n",
       "      <th>30</th>\n",
       "      <td>2010.0</td>\n",
       "      <td>1255</td>\n",
       "    </tr>\n",
       "    <tr>\n",
       "      <th>31</th>\n",
       "      <td>2011.0</td>\n",
       "      <td>1136</td>\n",
       "    </tr>\n",
       "    <tr>\n",
       "      <th>32</th>\n",
       "      <td>2012.0</td>\n",
       "      <td>653</td>\n",
       "    </tr>\n",
       "    <tr>\n",
       "      <th>33</th>\n",
       "      <td>2013.0</td>\n",
       "      <td>544</td>\n",
       "    </tr>\n",
       "    <tr>\n",
       "      <th>34</th>\n",
       "      <td>2014.0</td>\n",
       "      <td>581</td>\n",
       "    </tr>\n",
       "    <tr>\n",
       "      <th>35</th>\n",
       "      <td>2015.0</td>\n",
       "      <td>606</td>\n",
       "    </tr>\n",
       "    <tr>\n",
       "      <th>36</th>\n",
       "      <td>2016.0</td>\n",
       "      <td>502</td>\n",
       "    </tr>\n",
       "  </tbody>\n",
       "</table>\n",
       "</div>"
      ],
      "text/plain": [
       "      year  quantity\n",
       "0   1980.0         9\n",
       "1   1981.0        46\n",
       "2   1982.0        36\n",
       "3   1983.0        17\n",
       "4   1984.0        14\n",
       "5   1985.0        14\n",
       "6   1986.0        21\n",
       "7   1987.0        16\n",
       "8   1988.0        15\n",
       "9   1989.0        17\n",
       "10  1990.0        16\n",
       "11  1991.0        41\n",
       "12  1992.0        43\n",
       "13  1993.0        60\n",
       "14  1994.0       121\n",
       "15  1995.0       219\n",
       "16  1996.0       263\n",
       "17  1997.0       289\n",
       "18  1998.0       379\n",
       "19  1999.0       338\n",
       "20  2000.0       350\n",
       "21  2001.0       482\n",
       "22  2002.0       829\n",
       "23  2003.0       775\n",
       "24  2004.0       762\n",
       "25  2005.0       939\n",
       "26  2006.0      1006\n",
       "27  2007.0      1197\n",
       "28  2008.0      1427\n",
       "29  2009.0      1426\n",
       "30  2010.0      1255\n",
       "31  2011.0      1136\n",
       "32  2012.0       653\n",
       "33  2013.0       544\n",
       "34  2014.0       581\n",
       "35  2015.0       606\n",
       "36  2016.0       502"
      ]
     },
     "metadata": {},
     "output_type": "display_data"
    }
   ],
   "source": [
    "display(time_release)"
   ]
  },
  {
   "cell_type": "markdown",
   "metadata": {},
   "source": [
    "В таблице заметно, что больше всего игр было выпущено в 2008 и 2009 годах. Для наглядности построим график."
   ]
  },
  {
   "cell_type": "code",
   "execution_count": 36,
   "metadata": {},
   "outputs": [
    {
     "data": {
      "image/png": "[encoded data removed]",
      "text/plain": [
       "<Figure size 1008x360 with 1 Axes>"
      ]
     },
     "metadata": {
      "needs_background": "light"
     },
     "output_type": "display_data"
    }
   ],
   "source": [
    "plt.figure(figsize=(14, 5))\n",
    "plt.bar(time_release['year'], time_release['quantity'], label='Кол-во релизов за год', color='g', alpha=0.85, width=0.9)\n",
    "plt.xlabel('Год выпуска игры')\n",
    "plt.ylabel('Количество выпущенных игр')\n",
    "plt.grid()\n",
    "plt.title(f'Количество выпущенных игр по годам')\n",
    "plt.show()"
   ]
  },
  {
   "cell_type": "markdown",
   "metadata": {},
   "source": [
    "На графике наглядно показан пик количества выпущенных игр, который приходится на 2008 и 2009 годы. В 2012 году количество выпущенных игр резко снизилось и до 2016 года остаётся примерно на том же уровне с небольшими колебаниями. Также заметно, что рост количества выпускаемых игр начался в 1994 году."
   ]
  },
  {
   "cell_type": "markdown",
   "metadata": {},
   "source": [
    "Теперь изучим изменения в продажах по платформам. Для удобства снова создадим сгруппируем данные в отдельную таблицу."
   ]
  },
  {
   "cell_type": "code",
   "execution_count": 37,
   "metadata": {},
   "outputs": [],
   "source": [
    "plf = df.groupby('platform')['total_sales'].sum().sort_values().reset_index()"
   ]
  },
  {
   "cell_type": "code",
   "execution_count": 38,
   "metadata": {},
   "outputs": [
    {
     "data": {
      "text/html": [
       "<div>\n",
       "<style scoped>\n",
       "    .dataframe tbody tr th:only-of-type {\n",
       "        vertical-align: middle;\n",
       "    }\n",
       "\n",
       "    .dataframe tbody tr th {\n",
       "        vertical-align: top;\n",
       "    }\n",
       "\n",
       "    .dataframe thead th {\n",
       "        text-align: right;\n",
       "    }\n",
       "</style>\n",
       "<table border=\"1\" class=\"dataframe\">\n",
       "  <thead>\n",
       "    <tr style=\"text-align: right;\">\n",
       "      <th></th>\n",
       "      <th>platform</th>\n",
       "      <th>total_sales</th>\n",
       "    </tr>\n",
       "  </thead>\n",
       "  <tbody>\n",
       "    <tr>\n",
       "      <th>0</th>\n",
       "      <td>PCFX</td>\n",
       "      <td>0.03</td>\n",
       "    </tr>\n",
       "    <tr>\n",
       "      <th>1</th>\n",
       "      <td>GG</td>\n",
       "      <td>0.04</td>\n",
       "    </tr>\n",
       "    <tr>\n",
       "      <th>2</th>\n",
       "      <td>3DO</td>\n",
       "      <td>0.10</td>\n",
       "    </tr>\n",
       "    <tr>\n",
       "      <th>3</th>\n",
       "      <td>TG16</td>\n",
       "      <td>0.16</td>\n",
       "    </tr>\n",
       "    <tr>\n",
       "      <th>4</th>\n",
       "      <td>WS</td>\n",
       "      <td>1.42</td>\n",
       "    </tr>\n",
       "    <tr>\n",
       "      <th>5</th>\n",
       "      <td>NG</td>\n",
       "      <td>1.44</td>\n",
       "    </tr>\n",
       "    <tr>\n",
       "      <th>6</th>\n",
       "      <td>SCD</td>\n",
       "      <td>1.86</td>\n",
       "    </tr>\n",
       "    <tr>\n",
       "      <th>7</th>\n",
       "      <td>DC</td>\n",
       "      <td>15.95</td>\n",
       "    </tr>\n",
       "    <tr>\n",
       "      <th>8</th>\n",
       "      <td>GEN</td>\n",
       "      <td>28.35</td>\n",
       "    </tr>\n",
       "    <tr>\n",
       "      <th>9</th>\n",
       "      <td>SAT</td>\n",
       "      <td>33.59</td>\n",
       "    </tr>\n",
       "    <tr>\n",
       "      <th>10</th>\n",
       "      <td>PSV</td>\n",
       "      <td>53.81</td>\n",
       "    </tr>\n",
       "    <tr>\n",
       "      <th>11</th>\n",
       "      <td>WiiU</td>\n",
       "      <td>82.19</td>\n",
       "    </tr>\n",
       "    <tr>\n",
       "      <th>12</th>\n",
       "      <td>2600</td>\n",
       "      <td>86.48</td>\n",
       "    </tr>\n",
       "    <tr>\n",
       "      <th>13</th>\n",
       "      <td>XOne</td>\n",
       "      <td>159.32</td>\n",
       "    </tr>\n",
       "    <tr>\n",
       "      <th>14</th>\n",
       "      <td>GC</td>\n",
       "      <td>196.73</td>\n",
       "    </tr>\n",
       "    <tr>\n",
       "      <th>15</th>\n",
       "      <td>SNES</td>\n",
       "      <td>200.04</td>\n",
       "    </tr>\n",
       "    <tr>\n",
       "      <th>16</th>\n",
       "      <td>N64</td>\n",
       "      <td>218.01</td>\n",
       "    </tr>\n",
       "    <tr>\n",
       "      <th>17</th>\n",
       "      <td>NES</td>\n",
       "      <td>251.05</td>\n",
       "    </tr>\n",
       "    <tr>\n",
       "      <th>18</th>\n",
       "      <td>XB</td>\n",
       "      <td>251.57</td>\n",
       "    </tr>\n",
       "    <tr>\n",
       "      <th>19</th>\n",
       "      <td>GB</td>\n",
       "      <td>254.43</td>\n",
       "    </tr>\n",
       "    <tr>\n",
       "      <th>20</th>\n",
       "      <td>PC</td>\n",
       "      <td>255.76</td>\n",
       "    </tr>\n",
       "    <tr>\n",
       "      <th>21</th>\n",
       "      <td>3DS</td>\n",
       "      <td>257.81</td>\n",
       "    </tr>\n",
       "    <tr>\n",
       "      <th>22</th>\n",
       "      <td>PSP</td>\n",
       "      <td>289.53</td>\n",
       "    </tr>\n",
       "    <tr>\n",
       "      <th>23</th>\n",
       "      <td>GBA</td>\n",
       "      <td>312.88</td>\n",
       "    </tr>\n",
       "    <tr>\n",
       "      <th>24</th>\n",
       "      <td>PS4</td>\n",
       "      <td>314.14</td>\n",
       "    </tr>\n",
       "    <tr>\n",
       "      <th>25</th>\n",
       "      <td>PS</td>\n",
       "      <td>727.58</td>\n",
       "    </tr>\n",
       "    <tr>\n",
       "      <th>26</th>\n",
       "      <td>DS</td>\n",
       "      <td>802.78</td>\n",
       "    </tr>\n",
       "    <tr>\n",
       "      <th>27</th>\n",
       "      <td>Wii</td>\n",
       "      <td>891.18</td>\n",
       "    </tr>\n",
       "    <tr>\n",
       "      <th>28</th>\n",
       "      <td>PS3</td>\n",
       "      <td>931.34</td>\n",
       "    </tr>\n",
       "    <tr>\n",
       "      <th>29</th>\n",
       "      <td>X360</td>\n",
       "      <td>961.24</td>\n",
       "    </tr>\n",
       "    <tr>\n",
       "      <th>30</th>\n",
       "      <td>PS2</td>\n",
       "      <td>1233.56</td>\n",
       "    </tr>\n",
       "  </tbody>\n",
       "</table>\n",
       "</div>"
      ],
      "text/plain": [
       "   platform  total_sales\n",
       "0      PCFX         0.03\n",
       "1        GG         0.04\n",
       "2       3DO         0.10\n",
       "3      TG16         0.16\n",
       "4        WS         1.42\n",
       "5        NG         1.44\n",
       "6       SCD         1.86\n",
       "7        DC        15.95\n",
       "8       GEN        28.35\n",
       "9       SAT        33.59\n",
       "10      PSV        53.81\n",
       "11     WiiU        82.19\n",
       "12     2600        86.48\n",
       "13     XOne       159.32\n",
       "14       GC       196.73\n",
       "15     SNES       200.04\n",
       "16      N64       218.01\n",
       "17      NES       251.05\n",
       "18       XB       251.57\n",
       "19       GB       254.43\n",
       "20       PC       255.76\n",
       "21      3DS       257.81\n",
       "22      PSP       289.53\n",
       "23      GBA       312.88\n",
       "24      PS4       314.14\n",
       "25       PS       727.58\n",
       "26       DS       802.78\n",
       "27      Wii       891.18\n",
       "28      PS3       931.34\n",
       "29     X360       961.24\n",
       "30      PS2      1233.56"
      ]
     },
     "metadata": {},
     "output_type": "display_data"
    }
   ],
   "source": [
    "display(plf)"
   ]
  },
  {
   "cell_type": "markdown",
   "metadata": {},
   "source": [
    "Для построения графика выберем платформы, которые приносили больше продаж (не менее 250). Ближайшим значением является 251.05, будет считать от платформы NES."
   ]
  },
  {
   "cell_type": "code",
   "execution_count": 39,
   "metadata": {},
   "outputs": [],
   "source": [
    "popul_platforms = plf.loc[17:30, 'platform'].values"
   ]
  },
  {
   "cell_type": "code",
   "execution_count": 40,
   "metadata": {},
   "outputs": [
    {
     "data": {
      "image/png": "[encoded data removed]",
      "text/plain": [
       "<Figure size 1080x432 with 1 Axes>"
      ]
     },
     "metadata": {
      "needs_background": "light"
     },
     "output_type": "display_data"
    }
   ],
   "source": [
    "color = ['r','b','y','black','c','orange','grey','green','brown','purple','m','pink','yellow','coral',\\\n",
    "         'darkcyan','dimgray','lime'] #определим цветовую палитру грифика\n",
    "\n",
    "plt.figure(figsize=(15, 6)) #установим размер графика\n",
    "plt.grid()\n",
    "plt.title('Объёмы продаж на разных платформах по годам') #его название\n",
    "\n",
    "mean_year = 0\n",
    "for i in range(0,len(popul_platforms)): #напишем функцию, которая построит график, выделяя каждую платформу разным цветом\n",
    "    platform  = df.query('platform == @popul_platforms[@i]').groupby('year_of_release')['total_sales'].sum()\n",
    "    mean_year += platform.count()\n",
    "    platform.plot(x=platform.index, y=platform.values, style='-^', color=color[i], \\\n",
    "                  label=popul_platforms[i], alpha=0.8, grid=True);\n",
    "plt.xlabel('Расчетный год') #подпишем ось х\n",
    "plt.ylabel('Объём продаж за год') #подпишем ось у\n",
    "plt.legend() #отобразим легенду графика, чтобы понимать каким цветом какая платформа обозначена\n",
    "plt.show() #отобразим получившийся график"
   ]
  },
  {
   "cell_type": "markdown",
   "metadata": {},
   "source": [
    "Исходя из графика можно сделать вывод, что средний срок действия платформы равен 11 лет. Убедимся в этом."
   ]
  },
  {
   "cell_type": "code",
   "execution_count": 41,
   "metadata": {},
   "outputs": [
    {
     "data": {
      "text/plain": [
       "11.214285714285714"
      ]
     },
     "execution_count": 41,
     "metadata": {},
     "output_type": "execute_result"
    }
   ],
   "source": [
    "mean_year/len(popul_platforms)"
   ]
  },
  {
   "cell_type": "markdown",
   "metadata": {},
   "source": [
    "Мы получили значение 11.2 года, округлим до целого - до 11 лет. "
   ]
  },
  {
   "cell_type": "markdown",
   "metadata": {},
   "source": [
    "Исходя из актуальных данных нам необходимо сделать прогноз на 2017 год. Можно взять срок действия платформы, но данные в сфере игр за 11 лет могут устареть. Для анализа возьмём данные за последние три года - 2014, 2015, 2016."
   ]
  },
  {
   "cell_type": "code",
   "execution_count": 42,
   "metadata": {},
   "outputs": [],
   "source": [
    "forecast = df.pivot_table(index='year_of_release', columns='platform', values='total_sales', aggfunc='sum').\\\n",
    "              query('year_of_release>=2014').fillna(0).reset_index()\n",
    "forecast['year_of_release'] = forecast['year_of_release'].astype('Int64')\n",
    "\n",
    "for column in forecast.columns:\n",
    "    if forecast[column].sum()==0:\n",
    "        forecast.drop(column, axis=1,inplace=True)"
   ]
  },
  {
   "cell_type": "markdown",
   "metadata": {},
   "source": [
    "Просмотрим полученную таблицу"
   ]
  },
  {
   "cell_type": "code",
   "execution_count": 43,
   "metadata": {},
   "outputs": [
    {
     "data": {
      "text/html": [
       "<div>\n",
       "<style scoped>\n",
       "    .dataframe tbody tr th:only-of-type {\n",
       "        vertical-align: middle;\n",
       "    }\n",
       "\n",
       "    .dataframe tbody tr th {\n",
       "        vertical-align: top;\n",
       "    }\n",
       "\n",
       "    .dataframe thead th {\n",
       "        text-align: right;\n",
       "    }\n",
       "</style>\n",
       "<table border=\"1\" class=\"dataframe\">\n",
       "  <thead>\n",
       "    <tr style=\"text-align: right;\">\n",
       "      <th>platform</th>\n",
       "      <th>year_of_release</th>\n",
       "      <th>3DS</th>\n",
       "      <th>PC</th>\n",
       "      <th>PS3</th>\n",
       "      <th>PS4</th>\n",
       "      <th>PSP</th>\n",
       "      <th>PSV</th>\n",
       "      <th>Wii</th>\n",
       "      <th>WiiU</th>\n",
       "      <th>X360</th>\n",
       "      <th>XOne</th>\n",
       "    </tr>\n",
       "  </thead>\n",
       "  <tbody>\n",
       "    <tr>\n",
       "      <th>0</th>\n",
       "      <td>2014</td>\n",
       "      <td>43.76</td>\n",
       "      <td>13.28</td>\n",
       "      <td>47.76</td>\n",
       "      <td>100.00</td>\n",
       "      <td>0.24</td>\n",
       "      <td>11.90</td>\n",
       "      <td>3.75</td>\n",
       "      <td>22.03</td>\n",
       "      <td>34.74</td>\n",
       "      <td>54.07</td>\n",
       "    </tr>\n",
       "    <tr>\n",
       "      <th>1</th>\n",
       "      <td>2015</td>\n",
       "      <td>27.78</td>\n",
       "      <td>8.52</td>\n",
       "      <td>16.82</td>\n",
       "      <td>118.90</td>\n",
       "      <td>0.12</td>\n",
       "      <td>6.25</td>\n",
       "      <td>1.14</td>\n",
       "      <td>16.35</td>\n",
       "      <td>11.96</td>\n",
       "      <td>60.14</td>\n",
       "    </tr>\n",
       "    <tr>\n",
       "      <th>2</th>\n",
       "      <td>2016</td>\n",
       "      <td>15.14</td>\n",
       "      <td>5.25</td>\n",
       "      <td>3.60</td>\n",
       "      <td>69.25</td>\n",
       "      <td>0.00</td>\n",
       "      <td>4.25</td>\n",
       "      <td>0.18</td>\n",
       "      <td>4.60</td>\n",
       "      <td>1.52</td>\n",
       "      <td>26.15</td>\n",
       "    </tr>\n",
       "  </tbody>\n",
       "</table>\n",
       "</div>"
      ],
      "text/plain": [
       "platform  year_of_release    3DS     PC    PS3     PS4   PSP    PSV   Wii  \\\n",
       "0                    2014  43.76  13.28  47.76  100.00  0.24  11.90  3.75   \n",
       "1                    2015  27.78   8.52  16.82  118.90  0.12   6.25  1.14   \n",
       "2                    2016  15.14   5.25   3.60   69.25  0.00   4.25  0.18   \n",
       "\n",
       "platform   WiiU   X360   XOne  \n",
       "0         22.03  34.74  54.07  \n",
       "1         16.35  11.96  60.14  \n",
       "2          4.60   1.52  26.15  "
      ]
     },
     "metadata": {},
     "output_type": "display_data"
    }
   ],
   "source": [
    "display(forecast)"
   ]
  },
  {
   "cell_type": "markdown",
   "metadata": {},
   "source": [
    "По таблице сложно отследить тенденцию роста и снижения дохода по платформам. Построим график."
   ]
  },
  {
   "cell_type": "code",
   "execution_count": 44,
   "metadata": {},
   "outputs": [
    {
     "data": {
      "image/png": "[encoded data removed]",
      "text/plain": [
       "<Figure size 1080x504 with 1 Axes>"
      ]
     },
     "metadata": {
      "needs_background": "light"
     },
     "output_type": "display_data"
    }
   ],
   "source": [
    "plt.figure(figsize=(15, 7)) #определим размер графика\n",
    "plt.grid()\n",
    "plt.title('Объёмы продаж на разных платформах по годам') #его название\n",
    "\n",
    "i=0 \n",
    "for column in forecast.columns[1:]: #напишем функцию для построения графика\n",
    "    plt.plot(forecast['year_of_release'].to_list(), forecast[column].to_list(), label=column, marker ='o',\\\n",
    "             color=color[i], alpha=0.95);\n",
    "    i+=1\n",
    "\n",
    "plt.grid()\n",
    "plt.xlabel('Расчетный год') #подпишем ось х\n",
    "plt.ylabel('Объём продаж за год') #подпишем ось у\n",
    "plt.legend() #создадим легенду графика\n",
    "plt.show() #построим график"
   ]
  },
  {
   "cell_type": "markdown",
   "metadata": {},
   "source": [
    "На графике заметна тенденция к общему снижению дохода с платформ. В настоящий момент самой прибыльной является платформа PS4. Несмотря на то, что объём продаж снижается, он всё ещё остаётся довольно высоким по сравнению с другими платформами. Довольно стабильными остаются PSP, PSV, PC, Wii. Определим эти платформы как потенциально прибыльные."
   ]
  },
  {
   "cell_type": "markdown",
   "metadata": {},
   "source": [
    "Следующим шагом нам необходимо построить «ящик с усами» по глобальным продажам игр в разбивке по платформам и описать его."
   ]
  },
  {
   "cell_type": "code",
   "execution_count": 45,
   "metadata": {},
   "outputs": [],
   "source": [
    "sales_platform = df.query('year_of_release>=2014').groupby('platform')['total_sales'].sum()\\\n",
    "            .sort_values(ascending=False).reset_index().head(10)"
   ]
  },
  {
   "cell_type": "code",
   "execution_count": 46,
   "metadata": {},
   "outputs": [
    {
     "data": {
      "text/html": [
       "<div>\n",
       "<style scoped>\n",
       "    .dataframe tbody tr th:only-of-type {\n",
       "        vertical-align: middle;\n",
       "    }\n",
       "\n",
       "    .dataframe tbody tr th {\n",
       "        vertical-align: top;\n",
       "    }\n",
       "\n",
       "    .dataframe thead th {\n",
       "        text-align: right;\n",
       "    }\n",
       "</style>\n",
       "<table border=\"1\" class=\"dataframe\">\n",
       "  <thead>\n",
       "    <tr style=\"text-align: right;\">\n",
       "      <th></th>\n",
       "      <th>platform</th>\n",
       "      <th>total_sales</th>\n",
       "    </tr>\n",
       "  </thead>\n",
       "  <tbody>\n",
       "    <tr>\n",
       "      <th>0</th>\n",
       "      <td>PS4</td>\n",
       "      <td>288.15</td>\n",
       "    </tr>\n",
       "    <tr>\n",
       "      <th>1</th>\n",
       "      <td>XOne</td>\n",
       "      <td>140.36</td>\n",
       "    </tr>\n",
       "    <tr>\n",
       "      <th>2</th>\n",
       "      <td>3DS</td>\n",
       "      <td>86.68</td>\n",
       "    </tr>\n",
       "    <tr>\n",
       "      <th>3</th>\n",
       "      <td>PS3</td>\n",
       "      <td>68.18</td>\n",
       "    </tr>\n",
       "    <tr>\n",
       "      <th>4</th>\n",
       "      <td>X360</td>\n",
       "      <td>48.22</td>\n",
       "    </tr>\n",
       "    <tr>\n",
       "      <th>5</th>\n",
       "      <td>WiiU</td>\n",
       "      <td>42.98</td>\n",
       "    </tr>\n",
       "    <tr>\n",
       "      <th>6</th>\n",
       "      <td>PC</td>\n",
       "      <td>27.05</td>\n",
       "    </tr>\n",
       "    <tr>\n",
       "      <th>7</th>\n",
       "      <td>PSV</td>\n",
       "      <td>22.40</td>\n",
       "    </tr>\n",
       "    <tr>\n",
       "      <th>8</th>\n",
       "      <td>Wii</td>\n",
       "      <td>5.07</td>\n",
       "    </tr>\n",
       "    <tr>\n",
       "      <th>9</th>\n",
       "      <td>PSP</td>\n",
       "      <td>0.36</td>\n",
       "    </tr>\n",
       "  </tbody>\n",
       "</table>\n",
       "</div>"
      ],
      "text/plain": [
       "  platform  total_sales\n",
       "0      PS4       288.15\n",
       "1     XOne       140.36\n",
       "2      3DS        86.68\n",
       "3      PS3        68.18\n",
       "4     X360        48.22\n",
       "5     WiiU        42.98\n",
       "6       PC        27.05\n",
       "7      PSV        22.40\n",
       "8      Wii         5.07\n",
       "9      PSP         0.36"
      ]
     },
     "metadata": {},
     "output_type": "display_data"
    }
   ],
   "source": [
    "display(sales_platform)"
   ]
  },
  {
   "cell_type": "markdown",
   "metadata": {},
   "source": [
    "Платформы Wii и PSP принесли меньше всего прибыли, поэтому уберём их."
   ]
  },
  {
   "cell_type": "code",
   "execution_count": 47,
   "metadata": {},
   "outputs": [],
   "source": [
    "sales_platform = sales_platform.head(8)"
   ]
  },
  {
   "cell_type": "markdown",
   "metadata": {},
   "source": [
    "Теперь построим ящики с усами."
   ]
  },
  {
   "cell_type": "code",
   "execution_count": 48,
   "metadata": {},
   "outputs": [
    {
     "data": {
      "image/png": "[encoded data removed]",
      "text/plain": [
       "<Figure size 1152x864 with 8 Axes>"
      ]
     },
     "metadata": {
      "needs_background": "light"
     },
     "output_type": "display_data"
    }
   ],
   "source": [
    "fig, (ax1, ax2, ax3, ax4, ax5, ax6, ax7, ax8) = plt.subplots(nrows=1, ncols=8, figsize=(16, 12))\n",
    "fig.autofmt_xdate();\n",
    "\n",
    "p = {ax1:'PS4', ax2:'XOne', ax3:'3DS', ax4:'PS3', ax5:'X360', ax6:'WiiU', ax7:'PC', ax8:'PSV'}\n",
    "for ax in [ax1, ax2, ax3, ax4, ax5, ax6, ax7, ax8]:\n",
    "    sales = df.query('year_of_release>=2014 and platform==@p[@ax] and total_sales<1.5')['total_sales']\n",
    "    ax.boxplot(sales)\n",
    "    ax.grid()\n",
    "    ax.set_title(p[ax])\n",
    "\n",
    "fig.autofmt_xdate()"
   ]
  },
  {
   "cell_type": "markdown",
   "metadata": {},
   "source": [
    "Продажи на популярных платформах схожи. Медианные значения продаж у четырех X360, PS3, WiiU, PS2 находятся близко к уровню 0,2, а в других 4 к уровню 0,1. На платформах PS4,3DS и WiiU большая часть проданых игр лежит до значения в 0,6-0,9, на платформах PS и PSV в районе 0,3, а в лидерах X360, XOne до 1,1 и в PS3 до 1,3млн."
   ]
  },
  {
   "cell_type": "code",
   "execution_count": 50,
   "metadata": {},
   "outputs": [],
   "source": [
    "new_df = df.loc[df['year_of_release'] >= 2014]"
   ]
  },
  {
   "cell_type": "markdown",
   "metadata": {},
   "source": [
    "Отфильтруем данные нового датафрейма"
   ]
  },
  {
   "cell_type": "code",
   "execution_count": 51,
   "metadata": {},
   "outputs": [],
   "source": [
    "new_df = new_df[(new_df['critic_score'] != 0.0) & (new_df['user_score'] != 0.0)]"
   ]
  },
  {
   "cell_type": "code",
   "execution_count": 82,
   "metadata": {},
   "outputs": [
    {
     "name": "stdout",
     "output_type": "stream",
     "text": [
      "<class 'pandas.core.frame.DataFrame'>\n",
      "Int64Index: 704 entries, 42 to 16692\n",
      "Data columns (total 12 columns):\n",
      " #   Column           Non-Null Count  Dtype  \n",
      "---  ------           --------------  -----  \n",
      " 0   name             704 non-null    object \n",
      " 1   platform         704 non-null    object \n",
      " 2   year_of_release  704 non-null    float64\n",
      " 3   genre            704 non-null    object \n",
      " 4   na_sales         704 non-null    float64\n",
      " 5   eu_sales         704 non-null    float64\n",
      " 6   jp_sales         704 non-null    float64\n",
      " 7   other_sales      704 non-null    float64\n",
      " 8   critic_score     704 non-null    float64\n",
      " 9   user_score       704 non-null    float64\n",
      " 10  rating           704 non-null    object \n",
      " 11  total_sales      704 non-null    float64\n",
      "dtypes: float64(8), object(4)\n",
      "memory usage: 71.5+ KB\n"
     ]
    }
   ],
   "source": [
    "new_df.info()"
   ]
  },
  {
   "cell_type": "markdown",
   "metadata": {},
   "source": [
    "Посмотрим, как влияют на продажи внутри одной популярной платформы отзывы пользователей и критиков. Построим диаграмму рассеяния и посчитаим корреляцию между отзывами и продажами. В качестве платформы для анализа выберем самую популярную в таблице sales_platform платформу PS4. Создадим новый датафрейм, исходя из актуальных данных."
   ]
  },
  {
   "cell_type": "code",
   "execution_count": 52,
   "metadata": {},
   "outputs": [],
   "source": [
    "ps_4 = new_df.query('platform==\"PS4\"')[['total_sales', 'critic_score', 'user_score']].reset_index(drop=True)"
   ]
  },
  {
   "cell_type": "code",
   "execution_count": 53,
   "metadata": {
    "scrolled": false
   },
   "outputs": [
    {
     "data": {
      "text/html": [
       "<div>\n",
       "<style scoped>\n",
       "    .dataframe tbody tr th:only-of-type {\n",
       "        vertical-align: middle;\n",
       "    }\n",
       "\n",
       "    .dataframe tbody tr th {\n",
       "        vertical-align: top;\n",
       "    }\n",
       "\n",
       "    .dataframe thead th {\n",
       "        text-align: right;\n",
       "    }\n",
       "</style>\n",
       "<table border=\"1\" class=\"dataframe\">\n",
       "  <thead>\n",
       "    <tr style=\"text-align: right;\">\n",
       "      <th></th>\n",
       "      <th>total_sales</th>\n",
       "      <th>critic_score</th>\n",
       "      <th>user_score</th>\n",
       "    </tr>\n",
       "  </thead>\n",
       "  <tbody>\n",
       "    <tr>\n",
       "      <th>0</th>\n",
       "      <td>12.62</td>\n",
       "      <td>97.0</td>\n",
       "      <td>8.3</td>\n",
       "    </tr>\n",
       "    <tr>\n",
       "      <th>1</th>\n",
       "      <td>8.58</td>\n",
       "      <td>82.0</td>\n",
       "      <td>4.3</td>\n",
       "    </tr>\n",
       "    <tr>\n",
       "      <th>2</th>\n",
       "      <td>7.66</td>\n",
       "      <td>83.0</td>\n",
       "      <td>5.7</td>\n",
       "    </tr>\n",
       "    <tr>\n",
       "      <th>3</th>\n",
       "      <td>7.60</td>\n",
       "      <td>85.0</td>\n",
       "      <td>5.0</td>\n",
       "    </tr>\n",
       "    <tr>\n",
       "      <th>4</th>\n",
       "      <td>7.17</td>\n",
       "      <td>87.0</td>\n",
       "      <td>6.5</td>\n",
       "    </tr>\n",
       "    <tr>\n",
       "      <th>...</th>\n",
       "      <td>...</td>\n",
       "      <td>...</td>\n",
       "      <td>...</td>\n",
       "    </tr>\n",
       "    <tr>\n",
       "      <th>229</th>\n",
       "      <td>0.01</td>\n",
       "      <td>42.0</td>\n",
       "      <td>2.3</td>\n",
       "    </tr>\n",
       "    <tr>\n",
       "      <th>230</th>\n",
       "      <td>0.01</td>\n",
       "      <td>70.0</td>\n",
       "      <td>6.8</td>\n",
       "    </tr>\n",
       "    <tr>\n",
       "      <th>231</th>\n",
       "      <td>0.01</td>\n",
       "      <td>69.0</td>\n",
       "      <td>7.5</td>\n",
       "    </tr>\n",
       "    <tr>\n",
       "      <th>232</th>\n",
       "      <td>0.01</td>\n",
       "      <td>61.0</td>\n",
       "      <td>7.9</td>\n",
       "    </tr>\n",
       "    <tr>\n",
       "      <th>233</th>\n",
       "      <td>0.01</td>\n",
       "      <td>51.0</td>\n",
       "      <td>5.5</td>\n",
       "    </tr>\n",
       "  </tbody>\n",
       "</table>\n",
       "<p>234 rows × 3 columns</p>\n",
       "</div>"
      ],
      "text/plain": [
       "     total_sales  critic_score  user_score\n",
       "0          12.62          97.0         8.3\n",
       "1           8.58          82.0         4.3\n",
       "2           7.66          83.0         5.7\n",
       "3           7.60          85.0         5.0\n",
       "4           7.17          87.0         6.5\n",
       "..           ...           ...         ...\n",
       "229         0.01          42.0         2.3\n",
       "230         0.01          70.0         6.8\n",
       "231         0.01          69.0         7.5\n",
       "232         0.01          61.0         7.9\n",
       "233         0.01          51.0         5.5\n",
       "\n",
       "[234 rows x 3 columns]"
      ]
     },
     "metadata": {},
     "output_type": "display_data"
    }
   ],
   "source": [
    "display(ps_4)"
   ]
  },
  {
   "cell_type": "markdown",
   "metadata": {},
   "source": [
    "Посмотрим корреляцию по всем столбцам."
   ]
  },
  {
   "cell_type": "code",
   "execution_count": 54,
   "metadata": {},
   "outputs": [
    {
     "data": {
      "text/html": [
       "<div>\n",
       "<style scoped>\n",
       "    .dataframe tbody tr th:only-of-type {\n",
       "        vertical-align: middle;\n",
       "    }\n",
       "\n",
       "    .dataframe tbody tr th {\n",
       "        vertical-align: top;\n",
       "    }\n",
       "\n",
       "    .dataframe thead th {\n",
       "        text-align: right;\n",
       "    }\n",
       "</style>\n",
       "<table border=\"1\" class=\"dataframe\">\n",
       "  <thead>\n",
       "    <tr style=\"text-align: right;\">\n",
       "      <th></th>\n",
       "      <th>total_sales</th>\n",
       "      <th>critic_score</th>\n",
       "      <th>user_score</th>\n",
       "    </tr>\n",
       "  </thead>\n",
       "  <tbody>\n",
       "    <tr>\n",
       "      <th>total_sales</th>\n",
       "      <td>1.000000</td>\n",
       "      <td>0.401903</td>\n",
       "      <td>-0.043186</td>\n",
       "    </tr>\n",
       "    <tr>\n",
       "      <th>critic_score</th>\n",
       "      <td>0.401903</td>\n",
       "      <td>1.000000</td>\n",
       "      <td>0.546434</td>\n",
       "    </tr>\n",
       "    <tr>\n",
       "      <th>user_score</th>\n",
       "      <td>-0.043186</td>\n",
       "      <td>0.546434</td>\n",
       "      <td>1.000000</td>\n",
       "    </tr>\n",
       "  </tbody>\n",
       "</table>\n",
       "</div>"
      ],
      "text/plain": [
       "              total_sales  critic_score  user_score\n",
       "total_sales      1.000000      0.401903   -0.043186\n",
       "critic_score     0.401903      1.000000    0.546434\n",
       "user_score      -0.043186      0.546434    1.000000"
      ]
     },
     "execution_count": 54,
     "metadata": {},
     "output_type": "execute_result"
    }
   ],
   "source": [
    "ps_4.corr()"
   ]
  },
  {
   "cell_type": "markdown",
   "metadata": {},
   "source": [
    "Теперь построим диаграммы рассеяния, изучим зависимость продаж от отзывов критиков и пользователей."
   ]
  },
  {
   "cell_type": "code",
   "execution_count": 55,
   "metadata": {},
   "outputs": [
    {
     "name": "stdout",
     "output_type": "stream",
     "text": [
      "Коэффициент зависимости продаж от отзывов критиков = 0.4019028781147529\n"
     ]
    },
    {
     "data": {
      "text/plain": [
       "Text(0.5, 1.0, 'Зависимость продаж от отзывов критиков')"
      ]
     },
     "execution_count": 55,
     "metadata": {},
     "output_type": "execute_result"
    },
    {
     "data": {
      "image/png": "[encoded data removed]",
      "text/plain": [
       "<Figure size 1080x360 with 1 Axes>"
      ]
     },
     "metadata": {
      "needs_background": "light"
     },
     "output_type": "display_data"
    }
   ],
   "source": [
    "print('Коэффициент зависимости продаж от отзывов критиков =' , ps_4['total_sales'].corr(ps_4['critic_score']))\n",
    "ps_4.plot(x='critic_score',y='total_sales',kind='scatter',figsize=(15,5), alpha=0.5)\n",
    "plt.xlabel('Оценка критиков')    \n",
    "plt.ylabel('Продажи')\n",
    "plt.title('Зависимость продаж от отзывов критиков')"
   ]
  },
  {
   "cell_type": "code",
   "execution_count": 56,
   "metadata": {},
   "outputs": [
    {
     "name": "stdout",
     "output_type": "stream",
     "text": [
      "Коэффициент зависимости продаж от отзывов пользователей = -0.0431858599719363\n"
     ]
    },
    {
     "data": {
      "text/plain": [
       "Text(0.5, 1.0, 'Зависимость продаж от отзывов пользователей')"
      ]
     },
     "execution_count": 56,
     "metadata": {},
     "output_type": "execute_result"
    },
    {
     "data": {
      "image/png": "[encoded data removed]",
      "text/plain": [
       "<Figure size 1080x360 with 1 Axes>"
      ]
     },
     "metadata": {
      "needs_background": "light"
     },
     "output_type": "display_data"
    }
   ],
   "source": [
    "print('Коэффициент зависимости продаж от отзывов пользователей =' , ps_4['total_sales'].corr(ps_4['user_score']))\n",
    "ps_4.plot(x='user_score',y='total_sales',kind='scatter',figsize=(15,5), alpha=0.5)\n",
    "plt.xlabel('Оценка пользователей')    \n",
    "plt.ylabel('Продажи')\n",
    "plt.title('Зависимость продаж от отзывов пользователей')"
   ]
  },
  {
   "cell_type": "markdown",
   "metadata": {},
   "source": [
    "Оценки критиков демонстрируют прямую, средне-слабую корреляцию с продажами (0,4). Оценки пользователей корреляции с продажами не имеют."
   ]
  },
  {
   "cell_type": "markdown",
   "metadata": {},
   "source": [
    "Посмотрим соотношение с продажами игр на других платформах. Для этого создадим словарь."
   ]
  },
  {
   "cell_type": "code",
   "execution_count": 85,
   "metadata": {},
   "outputs": [],
   "source": [
    "score_sales = {}\n",
    "for p in sales_platform['platform']:\n",
    "    score_sales[p] = new_df.query('platform==@p')[['total_sales', 'critic_score', 'user_score']].dropna().reset_index(drop=True)"
   ]
  },
  {
   "cell_type": "markdown",
   "metadata": {},
   "source": [
    "Добавим в таблицу с популярными платформами информацию о кореляции продаж."
   ]
  },
  {
   "cell_type": "code",
   "execution_count": 86,
   "metadata": {},
   "outputs": [],
   "source": [
    "i=0\n",
    "corr_platform = pd.DataFrame(columns=['platform','critic_sales','user_sales'])\n",
    "for pl_name in score_sales.keys():\n",
    "    corr_platform.loc[i, 'platform'] = pl_name\n",
    "    corr_platform.loc[i, 'critic_sales'] = score_sales[pl_name]['total_sales'].corr(score_sales[pl_name]['critic_score'])\n",
    "    corr_platform.loc[i, 'user_sales'] = score_sales[pl_name]['total_sales'].corr(score_sales[pl_name]['user_score'])\n",
    "    i+=1"
   ]
  },
  {
   "cell_type": "code",
   "execution_count": 87,
   "metadata": {},
   "outputs": [
    {
     "data": {
      "text/html": [
       "<div>\n",
       "<style scoped>\n",
       "    .dataframe tbody tr th:only-of-type {\n",
       "        vertical-align: middle;\n",
       "    }\n",
       "\n",
       "    .dataframe tbody tr th {\n",
       "        vertical-align: top;\n",
       "    }\n",
       "\n",
       "    .dataframe thead th {\n",
       "        text-align: right;\n",
       "    }\n",
       "</style>\n",
       "<table border=\"1\" class=\"dataframe\">\n",
       "  <thead>\n",
       "    <tr style=\"text-align: right;\">\n",
       "      <th></th>\n",
       "      <th>platform</th>\n",
       "      <th>critic_sales</th>\n",
       "      <th>user_sales</th>\n",
       "    </tr>\n",
       "  </thead>\n",
       "  <tbody>\n",
       "    <tr>\n",
       "      <th>0</th>\n",
       "      <td>PS4</td>\n",
       "      <td>0.401903</td>\n",
       "      <td>-0.043186</td>\n",
       "    </tr>\n",
       "    <tr>\n",
       "      <th>1</th>\n",
       "      <td>XOne</td>\n",
       "      <td>0.422112</td>\n",
       "      <td>-0.091734</td>\n",
       "    </tr>\n",
       "    <tr>\n",
       "      <th>2</th>\n",
       "      <td>3DS</td>\n",
       "      <td>0.284686</td>\n",
       "      <td>0.27985</td>\n",
       "    </tr>\n",
       "    <tr>\n",
       "      <th>3</th>\n",
       "      <td>PS3</td>\n",
       "      <td>0.446575</td>\n",
       "      <td>0.156595</td>\n",
       "    </tr>\n",
       "    <tr>\n",
       "      <th>4</th>\n",
       "      <td>X360</td>\n",
       "      <td>0.525723</td>\n",
       "      <td>0.336514</td>\n",
       "    </tr>\n",
       "    <tr>\n",
       "      <th>5</th>\n",
       "      <td>WiiU</td>\n",
       "      <td>0.37564</td>\n",
       "      <td>0.411451</td>\n",
       "    </tr>\n",
       "    <tr>\n",
       "      <th>6</th>\n",
       "      <td>PC</td>\n",
       "      <td>0.172061</td>\n",
       "      <td>-0.089974</td>\n",
       "    </tr>\n",
       "    <tr>\n",
       "      <th>7</th>\n",
       "      <td>PSV</td>\n",
       "      <td>0.041029</td>\n",
       "      <td>0.023528</td>\n",
       "    </tr>\n",
       "  </tbody>\n",
       "</table>\n",
       "</div>"
      ],
      "text/plain": [
       "  platform critic_sales user_sales\n",
       "0      PS4     0.401903  -0.043186\n",
       "1     XOne     0.422112  -0.091734\n",
       "2      3DS     0.284686    0.27985\n",
       "3      PS3     0.446575   0.156595\n",
       "4     X360     0.525723   0.336514\n",
       "5     WiiU      0.37564   0.411451\n",
       "6       PC     0.172061  -0.089974\n",
       "7      PSV     0.041029   0.023528"
      ]
     },
     "metadata": {},
     "output_type": "display_data"
    }
   ],
   "source": [
    "display(corr_platform)"
   ]
  },
  {
   "cell_type": "markdown",
   "metadata": {},
   "source": [
    "Теперь построим диаграмму рассеяния зависимости продаж от отзывов критиков."
   ]
  },
  {
   "cell_type": "code",
   "execution_count": 88,
   "metadata": {},
   "outputs": [
    {
     "data": {
      "image/png": "[encoded data removed]",
      "text/plain": [
       "<Figure size 1152x648 with 1 Axes>"
      ]
     },
     "metadata": {
      "needs_background": "light"
     },
     "output_type": "display_data"
    }
   ],
   "source": [
    "plt.figure(figsize=(16, 9))\n",
    "plt.grid()\n",
    "plt.title('Зависимость продаж от отзывов критиков на разных платформах')\n",
    "i=0\n",
    "for p in corr_platform['platform']:\n",
    "    xc = score_sales[p]['critic_score'].to_list()\n",
    "    yc = score_sales[p]['total_sales'].to_list()\n",
    "    plt.scatter(xc, yc, label=p, color=color[i], alpha=0.8);\n",
    "    i+=1 \n",
    "plt.ylim(0,6)\n",
    "plt.grid()\n",
    "plt.xlabel('Отзывы критиков')    \n",
    "plt.ylabel('Объём продаж')\n",
    "plt.legend()\n",
    "plt.show()"
   ]
  },
  {
   "cell_type": "markdown",
   "metadata": {},
   "source": [
    "И диаграмму рассеяния зависимости продаж от отзывов пользователей."
   ]
  },
  {
   "cell_type": "code",
   "execution_count": 89,
   "metadata": {},
   "outputs": [
    {
     "data": {
      "image/png": "[encoded data removed]",
      "text/plain": [
       "<Figure size 1152x648 with 1 Axes>"
      ]
     },
     "metadata": {
      "needs_background": "light"
     },
     "output_type": "display_data"
    }
   ],
   "source": [
    "plt.figure(figsize=(16, 9))\n",
    "plt.grid()\n",
    "plt.title('Зависимость продаж от отзывов пользователей на разных платформах')\n",
    "i=0\n",
    "for p in corr_platform['platform']:\n",
    "    xc = score_sales[p]['user_score'].to_list()\n",
    "    yc = score_sales[p]['total_sales'].to_list()\n",
    "    plt.scatter(xc, yc, label=p, color=color[i], alpha=0.8);\n",
    "    i+=1 \n",
    "plt.ylim(0,4)\n",
    "plt.grid()\n",
    "plt.xlabel('Отзывы пользователей')    \n",
    "plt.ylabel('Объём продаж')\n",
    "plt.legend()\n",
    "plt.show()"
   ]
  },
  {
   "cell_type": "markdown",
   "metadata": {},
   "source": [
    "На других платформах распределение похоже на распределение зависимости продаж от  отзывов самой популярной платформы. Зависимость продаж пропорциональная, от отзывов пользователей значительно слабее, чем от отзывов критиков критиков."
   ]
  },
  {
   "cell_type": "markdown",
   "metadata": {},
   "source": [
    "Далее необходимо изучить распределение игр по жанрам."
   ]
  },
  {
   "cell_type": "code",
   "execution_count": 90,
   "metadata": {},
   "outputs": [],
   "source": [
    "genres = new_df.groupby('genre')['name'].count().sort_values(ascending=False)"
   ]
  },
  {
   "cell_type": "code",
   "execution_count": 91,
   "metadata": {},
   "outputs": [
    {
     "data": {
      "text/plain": [
       "genre\n",
       "Action          227\n",
       "Role-Playing     97\n",
       "Shooter          87\n",
       "Sports           83\n",
       "Racing           45\n",
       "Adventure        34\n",
       "Misc             32\n",
       "Fighting         31\n",
       "Platform         26\n",
       "Simulation       20\n",
       "Strategy         18\n",
       "Puzzle            4\n",
       "Name: name, dtype: int64"
      ]
     },
     "metadata": {},
     "output_type": "display_data"
    }
   ],
   "source": [
    "display(genres)"
   ]
  },
  {
   "cell_type": "markdown",
   "metadata": {},
   "source": [
    "Посчитаем продажи исходя из жанра."
   ]
  },
  {
   "cell_type": "code",
   "execution_count": 92,
   "metadata": {},
   "outputs": [],
   "source": [
    "genre_sales = new_df.groupby('genre')['total_sales'].median().sort_values(ascending=False)"
   ]
  },
  {
   "cell_type": "code",
   "execution_count": 93,
   "metadata": {},
   "outputs": [
    {
     "data": {
      "text/plain": [
       "genre\n",
       "Shooter         0.620\n",
       "Sports          0.430\n",
       "Misc            0.320\n",
       "Action          0.160\n",
       "Role-Playing    0.160\n",
       "Platform        0.155\n",
       "Fighting        0.150\n",
       "Simulation      0.150\n",
       "Racing          0.130\n",
       "Strategy        0.105\n",
       "Adventure       0.065\n",
       "Puzzle          0.040\n",
       "Name: total_sales, dtype: float64"
      ]
     },
     "metadata": {},
     "output_type": "display_data"
    }
   ],
   "source": [
    "display(genre_sales)"
   ]
  },
  {
   "cell_type": "markdown",
   "metadata": {},
   "source": [
    "Для наглядности построим круговую диаграмму."
   ]
  },
  {
   "cell_type": "code",
   "execution_count": 95,
   "metadata": {},
   "outputs": [
    {
     "data": {
      "image/png": "[encoded data removed]",
      "text/plain": [
       "<Figure size 1152x504 with 2 Axes>"
      ]
     },
     "metadata": {},
     "output_type": "display_data"
    }
   ],
   "source": [
    "fig, (ax1, ax2) = plt.subplots(nrows=1, ncols=2, figsize=(16, 7))\n",
    "fig.autofmt_xdate();\n",
    "\n",
    "labels1 = genres.index\n",
    "sizes1 = genres.values\n",
    "\n",
    "labels2 = genre_sales.index\n",
    "sizes2 = genre_sales.values\n",
    "explode = (0.25, 0.2, 0.15, 0,0,0,0,0,0,0,0,0)\n",
    "ax1.set_title('Количество игр по жанрам')\n",
    "ax1.pie(sizes1, labels=labels1, autopct='%1.1f%%',\n",
    "        shadow=True, explode=explode,startangle=0)  \n",
    "ax1.axis('equal') \n",
    "\n",
    "ax2.set_title('Объём продаж по жанрам')\n",
    "ax2.pie(sizes2, labels=labels2, autopct='%1.1f%%',\n",
    "        shadow=True, explode=explode,startangle=0) \n",
    "ax2.axis('equal')\n",
    "\n",
    "plt.show()"
   ]
  },
  {
   "cell_type": "markdown",
   "metadata": {},
   "source": [
    "Самым прибыльным жанром является Shooter (24,9%), далее расположен Sports (17,3%) и на третьем месте Misc (12,9%). Заметно, что игр в жанрах Action и Role-Playing прдставлено больше всего - 32,2% и 13,8% соответственно. При этом самый популярный по количеству выпущенных игр Action занимает только четвёртый уровень по продажам (6,4%). По количеству выпущенных игр самый популярный жанр Shooter занимает 3 место из 12 (12,4%).\n",
    "Последние по популярности жанры - Puzzle, Strategy и Simulation. В уровне прибыли они находятся на 12, 10 и 8 местах."
   ]
  },
  {
   "cell_type": "markdown",
   "metadata": {},
   "source": [
    "### Вывод"
   ]
  },
  {
   "cell_type": "markdown",
   "metadata": {},
   "source": [
    "В ходе исследовательского анализа данных мы посмотрели сколько игр выпускалось в разные годы, годы, в которые было выпущено больше всего игр, изучили, как менялись продажи по платформам. На основании предыдущих действий выделили актуальный период, на основании которого сделали прогноз лидеров по продажам, платформ с наиболее стабильной прибылью. Также мы изучили зависимость продаж от отзывов критиков и пользователей, в результате чего выяснили, что есть пропорциональная зависимость, но слабовыраженная. Изучили уровень продаж по различным жанрам, выделели самые популярные и непопулярные жанры."
   ]
  },
  {
   "cell_type": "markdown",
   "metadata": {},
   "source": [
    "## Портрет пользователя каждого региона"
   ]
  },
  {
   "cell_type": "markdown",
   "metadata": {},
   "source": [
    "Создадим словарь, в который запишем данные по регионам по пяти наиболее популярным платформам."
   ]
  },
  {
   "cell_type": "code",
   "execution_count": 96,
   "metadata": {},
   "outputs": [],
   "source": [
    "popular_platform = {}\n",
    "for region in ['na_sales', 'eu_sales', 'jp_sales']:\n",
    "    popular_platform[region] = new_df.groupby('platform')[region].sum().sort_values(ascending=False).head(5)"
   ]
  },
  {
   "cell_type": "code",
   "execution_count": 97,
   "metadata": {},
   "outputs": [
    {
     "data": {
      "text/plain": [
       "{'na_sales': platform\n",
       " PS4     74.79\n",
       " XOne    66.71\n",
       " WiiU    14.94\n",
       " 3DS      7.80\n",
       " PC       6.89\n",
       " Name: na_sales, dtype: float64,\n",
       " 'eu_sales': platform\n",
       " PS4     101.69\n",
       " XOne     38.03\n",
       " PC       15.24\n",
       " WiiU     10.64\n",
       " 3DS       5.25\n",
       " Name: eu_sales, dtype: float64,\n",
       " 'jp_sales': platform\n",
       " 3DS     9.94\n",
       " PS4     8.49\n",
       " WiiU    5.78\n",
       " PSV     4.06\n",
       " PS3     1.77\n",
       " Name: jp_sales, dtype: float64}"
      ]
     },
     "metadata": {},
     "output_type": "display_data"
    }
   ],
   "source": [
    "display(popular_platform)"
   ]
  },
  {
   "cell_type": "markdown",
   "metadata": {},
   "source": [
    "Отразим данные на круговых диаграммах."
   ]
  },
  {
   "cell_type": "code",
   "execution_count": 98,
   "metadata": {},
   "outputs": [
    {
     "data": {
      "image/png": "[encoded data removed]",
      "text/plain": [
       "<Figure size 1152x432 with 3 Axes>"
      ]
     },
     "metadata": {},
     "output_type": "display_data"
    }
   ],
   "source": [
    "fig, (ax1, ax2, ax3) = plt.subplots(nrows=1, ncols=3, figsize=(16, 6))\n",
    "fig.autofmt_xdate();\n",
    "\n",
    "i = 0\n",
    "x = [ax1, ax2, ax3]\n",
    "region = ['na_sales', 'eu_sales', 'jp_sales']\n",
    "explode = (0.15, 0, 0, 0, 0)\n",
    "\n",
    "for i in [0,1,2]:\n",
    "    labels = popular_platform[region[i]].index\n",
    "    sizes = popular_platform[region[i]].values\n",
    "    ax = x[i]\n",
    "    ax.set_title(f'Продажи в {region[i]}')\n",
    "    ax.pie(sizes, labels=labels, autopct='%1.1f%%', shadow=True, explode=explode,startangle=90) \n",
    "    ax.axis('equal')  \n",
    "\n",
    "plt.show()"
   ]
  },
  {
   "cell_type": "markdown",
   "metadata": {},
   "source": [
    "Мы видим, что популярность платформ в каждом регионе разные, совпадений по популярности платформ нет. В Америке самой популярной платформой является PS4 (43,7%), в Европе также популярна платформа PS4 (59,5%), в Японии - 3DS (33,1%). Также следует отметить, что платформа PS4 пользуется популярностью и в Японии (28,3%). В Америке и в Европе второй по пулярности является платформа XOne с распределением 39% и 22,3%."
   ]
  },
  {
   "cell_type": "markdown",
   "metadata": {},
   "source": [
    "Теперь рассмотрим популярность жанров в зависимости от региона. Для этого снова используем словарь."
   ]
  },
  {
   "cell_type": "code",
   "execution_count": 99,
   "metadata": {},
   "outputs": [],
   "source": [
    "popul_genre = {}\n",
    "for region in ['na_sales', 'eu_sales', 'jp_sales']:\n",
    "    popul_genre[region] = new_df.groupby('genre')[region].mean().sort_values(ascending=False).head(5)"
   ]
  },
  {
   "cell_type": "code",
   "execution_count": 100,
   "metadata": {},
   "outputs": [
    {
     "data": {
      "text/plain": [
       "{'na_sales': genre\n",
       " Shooter         0.588276\n",
       " Sports          0.398193\n",
       " Action          0.221806\n",
       " Platform        0.218462\n",
       " Role-Playing    0.190000\n",
       " Name: na_sales, dtype: float64,\n",
       " 'eu_sales': genre\n",
       " Shooter       0.490115\n",
       " Sports        0.403855\n",
       " Simulation    0.273000\n",
       " Racing        0.243778\n",
       " Action        0.232863\n",
       " Name: eu_sales, dtype: float64,\n",
       " 'jp_sales': genre\n",
       " Platform        0.097692\n",
       " Simulation      0.091500\n",
       " Role-Playing    0.090928\n",
       " Puzzle          0.065000\n",
       " Fighting        0.052258\n",
       " Name: jp_sales, dtype: float64}"
      ]
     },
     "metadata": {},
     "output_type": "display_data"
    }
   ],
   "source": [
    "display(popul_genre)"
   ]
  },
  {
   "cell_type": "markdown",
   "metadata": {},
   "source": [
    "Отобразим данные на круговых диаграммах."
   ]
  },
  {
   "cell_type": "code",
   "execution_count": 101,
   "metadata": {},
   "outputs": [
    {
     "name": "stderr",
     "output_type": "stream",
     "text": [
      "/tmp/ipykernel_61/3445513727.py:14: MatplotlibDeprecationWarning: normalize=None does not normalize if the sum is less than 1 but this behavior is deprecated since 3.3 until two minor releases later. After the deprecation period the default value will be normalize=True. To prevent normalization pass normalize=False \n",
      "  ax.pie(sizes, labels=labels, autopct='%1.1f%%', shadow=True, explode=explode,startangle=90)\n"
     ]
    },
    {
     "data": {
      "image/png": "[encoded data removed]",
      "text/plain": [
       "<Figure size 1152x720 with 3 Axes>"
      ]
     },
     "metadata": {},
     "output_type": "display_data"
    }
   ],
   "source": [
    "fig, (ax1, ax2, ax3) = plt.subplots(nrows=1, ncols=3, figsize=(16, 10))\n",
    "fig.autofmt_xdate();\n",
    "\n",
    "i = 0\n",
    "x = [ax1, ax2, ax3]\n",
    "region = ['na_sales', 'eu_sales', 'jp_sales']\n",
    "explode = (0.15, 0, 0, 0, 0)\n",
    "\n",
    "for i in [0,1,2]:\n",
    "    labels = popul_genre[region[i]].index\n",
    "    sizes = popul_genre[region[i]].values\n",
    "    ax = x[i]\n",
    "    ax.set_title(f'Продажи в {region[i]}')\n",
    "    ax.pie(sizes, labels=labels, autopct='%1.1f%%', shadow=True, explode=explode,startangle=90) \n",
    "    ax.axis('equal')  \n",
    "\n",
    "plt.show()"
   ]
  },
  {
   "cell_type": "markdown",
   "metadata": {},
   "source": [
    "Мы видим, что популярные жанры в Америке и в Европе схожи, отличается их распределение. В Америке и в Европе самый популярный жанр Shooter, далее расположен Sports, третье место в Америке занимает Action, на четвертом месте Platform, замыкает пятёрку жанр Role Playind. В Европе третье место занимает Simulation, за ним следует Racing, последним находится Action. В Японии рейтинг жанров заметно отличается. Platform является самым популярным жанром, далее расположен Simulation, третье место занимает жанр Role Playind, потом Puzzle, завершает Fighting."
   ]
  },
  {
   "cell_type": "markdown",
   "metadata": {},
   "source": [
    "Посмотрим на зависимость продаж от рейтинга ESRB. "
   ]
  },
  {
   "cell_type": "code",
   "execution_count": 102,
   "metadata": {},
   "outputs": [
    {
     "name": "stderr",
     "output_type": "stream",
     "text": [
      "/tmp/ipykernel_61/1091409084.py:1: FutureWarning: Indexing with multiple keys (implicitly converted to a tuple of keys) will be deprecated, use a list instead.\n",
      "  esrb_sale = new_df.groupby('rating')['na_sales', 'eu_sales', 'jp_sales'].sum()\\\n"
     ]
    }
   ],
   "source": [
    "esrb_sale = new_df.groupby('rating')['na_sales', 'eu_sales', 'jp_sales'].sum()\\\n",
    "              .sort_values(by='na_sales', ascending=False).reset_index()"
   ]
  },
  {
   "cell_type": "code",
   "execution_count": 103,
   "metadata": {},
   "outputs": [
    {
     "data": {
      "text/html": [
       "<div>\n",
       "<style scoped>\n",
       "    .dataframe tbody tr th:only-of-type {\n",
       "        vertical-align: middle;\n",
       "    }\n",
       "\n",
       "    .dataframe tbody tr th {\n",
       "        vertical-align: top;\n",
       "    }\n",
       "\n",
       "    .dataframe thead th {\n",
       "        text-align: right;\n",
       "    }\n",
       "</style>\n",
       "<table border=\"1\" class=\"dataframe\">\n",
       "  <thead>\n",
       "    <tr style=\"text-align: right;\">\n",
       "      <th></th>\n",
       "      <th>rating</th>\n",
       "      <th>na_sales</th>\n",
       "      <th>eu_sales</th>\n",
       "      <th>jp_sales</th>\n",
       "    </tr>\n",
       "  </thead>\n",
       "  <tbody>\n",
       "    <tr>\n",
       "      <th>0</th>\n",
       "      <td>M</td>\n",
       "      <td>85.62</td>\n",
       "      <td>84.18</td>\n",
       "      <td>6.84</td>\n",
       "    </tr>\n",
       "    <tr>\n",
       "      <th>1</th>\n",
       "      <td>E</td>\n",
       "      <td>38.25</td>\n",
       "      <td>45.87</td>\n",
       "      <td>8.28</td>\n",
       "    </tr>\n",
       "    <tr>\n",
       "      <th>2</th>\n",
       "      <td>T</td>\n",
       "      <td>34.56</td>\n",
       "      <td>31.16</td>\n",
       "      <td>10.87</td>\n",
       "    </tr>\n",
       "    <tr>\n",
       "      <th>3</th>\n",
       "      <td>E10+</td>\n",
       "      <td>23.32</td>\n",
       "      <td>16.75</td>\n",
       "      <td>4.22</td>\n",
       "    </tr>\n",
       "    <tr>\n",
       "      <th>4</th>\n",
       "      <td>Unknown</td>\n",
       "      <td>0.75</td>\n",
       "      <td>1.61</td>\n",
       "      <td>0.14</td>\n",
       "    </tr>\n",
       "  </tbody>\n",
       "</table>\n",
       "</div>"
      ],
      "text/plain": [
       "    rating  na_sales  eu_sales  jp_sales\n",
       "0        M     85.62     84.18      6.84\n",
       "1        E     38.25     45.87      8.28\n",
       "2        T     34.56     31.16     10.87\n",
       "3     E10+     23.32     16.75      4.22\n",
       "4  Unknown      0.75      1.61      0.14"
      ]
     },
     "metadata": {},
     "output_type": "display_data"
    }
   ],
   "source": [
    "display(esrb_sale)"
   ]
  },
  {
   "cell_type": "markdown",
   "metadata": {},
   "source": [
    "Ассоциация ESRB определяет рейтинг компьютерных игр и присваивает им подходящую возрастную категорию. Расшифровка обозначений рейтинга:\n",
    "«E» («Everyone») — «Для всех»\n",
    "«T» («Teen») — «Подросткам»\n",
    "«M» («Mature») — «Для взрослых»\n",
    "«E10+» («Everyone 10 and older») — «Для всех от 10 лет и старше»\n",
    "«EC»(«K-A» - в ранних версиях с 1994-1997 годы) («Early childhood») — «Для детей младшего возраста»\n",
    "«AO» («Adults Only 18+») — «Только для взрослых»\n",
    "«RP» («Rating Pending») — «Рейтинг ожидается»\n",
    "\n",
    "Во всех регионах лидируют 4 основных рейтинга - Е, Т, М, Е10+, различается только сумма продаж. Часть занимают игры с неопределённым  рейтингом.\n",
    "\n",
    "В Америке и в Европе самой популярной категорией является «Для взрослых», в Японии - «Подросткам»."
   ]
  },
  {
   "cell_type": "markdown",
   "metadata": {},
   "source": [
    "### Вывод"
   ]
  },
  {
   "cell_type": "markdown",
   "metadata": {},
   "source": [
    "Итак, опишем пользователей разных регионов.\n",
    "\n",
    "Америка:\n",
    "Предпочитает жанры игр Shooter и Sports, размещённые на платформе PS4 и XOne, с возрастным рейтингом «Для взрослых».\n",
    "\n",
    "Европа:\n",
    "Пользователь также выбирает жанры Shooter и Sports, размещённые на платформах PS4 и XOne, с возрастным рейтингом «Для взрослых».\n",
    "\n",
    "Япония:\n",
    "Популярностью пользуются игры в жанре Platform, чуть менее популярен жанр Simulation на платформе 3DS и PS4, с возрастным рейтингом, в отличии от других регионов, «Подросткам»."
   ]
  },
  {
   "cell_type": "markdown",
   "metadata": {},
   "source": [
    "## Проверка гипотез"
   ]
  },
  {
   "cell_type": "markdown",
   "metadata": {},
   "source": [
    "В ходе выполнения этой части проекта нам необходимо проверить следующие гипотезы:\n",
    "- Средние пользовательские рейтинги платформ Xbox One и PC одинаковые;\n",
    "- Средние пользовательские рейтинги жанров Action и Sports разные."
   ]
  },
  {
   "cell_type": "markdown",
   "metadata": {},
   "source": [
    "Проверку начнём с гипотезы, что средние пользовательские рейтинги платформ Xbox One и PC одинаковые. Обозначим её в качестве нулевой гипотезы, а альтернативной будет гипотеза о том, что средние пользовательские рейтинги платформ Xbox One и PC различаются.\n",
    "\n",
    "Для начала сделаем срез данных по исследуемым платформам."
   ]
  },
  {
   "cell_type": "code",
   "execution_count": 104,
   "metadata": {},
   "outputs": [],
   "source": [
    "XOne = new_df.query('platform == \"XOne\" ')['user_score'].dropna().to_list()\n",
    "PC = new_df.query('platform == \"PC\" ')['user_score'].dropna().to_list()"
   ]
  },
  {
   "cell_type": "markdown",
   "metadata": {},
   "source": [
    "Теперь проверим гипотезы:\n",
    "H0: Средние пользовательские рейтинги платформ Xbox One и PC одинаковые.\n",
    "H1: Средние пользовательские рейтинги платформ Xbox One и PC различаются."
   ]
  },
  {
   "cell_type": "code",
   "execution_count": 105,
   "metadata": {},
   "outputs": [
    {
     "name": "stdout",
     "output_type": "stream",
     "text": [
      "p-значение: 0.1403785186826978\n",
      "Не получилось отвергнуть нулевую гипотезу\n"
     ]
    }
   ],
   "source": [
    "alpha = 0.05\n",
    "\n",
    "results = st.ttest_ind(XOne, PC, equal_var = False)\n",
    "\n",
    "print('p-значение:', results.pvalue)\n",
    "\n",
    "if (results.pvalue < alpha):\n",
    "    print(\"Отвергаем нулевую гипотезу\")\n",
    "else:\n",
    "    print(\"Не получилось отвергнуть нулевую гипотезу\")"
   ]
  },
  {
   "cell_type": "markdown",
   "metadata": {},
   "source": [
    "Р-значение получилось значимым, у нас нет оснований утверждать, что средние пользовательские рейтинги платформ Xbox One и PC значимо различаются."
   ]
  },
  {
   "cell_type": "markdown",
   "metadata": {},
   "source": [
    "Перейдём к проверке второй гипотезы, что средние пользовательские рейтинги жанров Action и Sports разные. Обозначим её в качестве нулевой, а альтернативную сформулируем как средние пользовательские рейтинги жанров Action и Sports одинаковые.\n",
    "\n",
    "Для начала также сделаем срез данных по исследуемым платформам."
   ]
  },
  {
   "cell_type": "code",
   "execution_count": 106,
   "metadata": {},
   "outputs": [],
   "source": [
    "Action = new_df.query(' genre == \"Action\" ')['user_score'].dropna().to_list()\n",
    "Sports = new_df.query(' genre == \"Sports\" ')['user_score'].dropna().to_list()"
   ]
  },
  {
   "cell_type": "markdown",
   "metadata": {},
   "source": [
    "Перейдём к непосредственной проверке гипотез:\n",
    "Н0: Средние пользовательские рейтинги жанров Action и Sports разные.\n",
    "Н1: Средние пользовательские рейтинги жанров Action и Sports одинаковые."
   ]
  },
  {
   "cell_type": "code",
   "execution_count": 107,
   "metadata": {},
   "outputs": [
    {
     "name": "stdout",
     "output_type": "stream",
     "text": [
      "p-значение: 4.0540895999943536e-10\n",
      "Отвергаем нулевую гипотезу\n"
     ]
    }
   ],
   "source": [
    "alpha = 0.05\n",
    "\n",
    "results = st.ttest_ind(Action, Sports, equal_var = True)\n",
    "\n",
    "print('p-значение:', results.pvalue)\n",
    "\n",
    "if (results.pvalue < alpha):\n",
    "    print(\"Отвергаем нулевую гипотезу\")\n",
    "else:\n",
    "    print(\"Не получилось отвергнуть нулевую гипотезу\")"
   ]
  },
  {
   "cell_type": "markdown",
   "metadata": {},
   "source": [
    "После проверки гипотезы у нас нет оснований утверждать, что средние пользовательские рейтинги жанров Action и Sports значимо различаются."
   ]
  },
  {
   "cell_type": "markdown",
   "metadata": {},
   "source": [
    "### Вывод"
   ]
  },
  {
   "cell_type": "markdown",
   "metadata": {},
   "source": [
    "В ходе проверки гипотез мы выяснили, что средние пользовательские рейтинги платформ Xbox One и PC различаются, а вот средние пользовательские рейтинги жанров Action и Sports одинаковые."
   ]
  },
  {
   "cell_type": "markdown",
   "metadata": {},
   "source": [
    "## Итоги исследования"
   ]
  },
  {
   "cell_type": "markdown",
   "metadata": {},
   "source": [
    "**В ходе выполнения проекта мы:**\n",
    "- Подготовили данные для исследования\n",
    "- Рассмотрели количество выпущенных игр по годам, нашли годы с самой большой численностью выпущенных игр\n",
    "- Изучили продажи по различным платформам\n",
    "- Выявили актуальный период и на его основании сделали прогноз на 2017 год\n",
    "- Составили портрет пользователей каждого региона\n",
    "- Проверили гипотезы\n",
    "- Сделали выводы\n",
    "\n",
    "Пик количества выпущенных игр приходится на 2008 и 2009 годы. В 2012 году количество выпущенных игр резко снизилось и до 2016 года остаётся примерно на том же уровне с небольшими колебаниями. Также мы выяснили, что рост количества выпускаемых игр начался в 1994 году.\n",
    "\n",
    "В ходе проведения исследования мы выявили тенденцию к снижению уровня дохода платформ. В настоящий момент самой прибыльной является платформа PS4. Несмотря на то, что объём продаж снижается, он всё ещё остаётся довольно высоким по сравнению с другими платформами. Довольно стабильными остаются PSP, PSV, PC, Wii. В 2017 году следует размещать игры на стабильных платформах (PSP, PSV, PC, Wii), а также можно разместить на PS4, но доход от неё будет ниже, чем в 2016 году.\n",
    "\n",
    "Оценки критиков демонстрируют прямую, средне-слабую корреляцию с продажами (0,4). Оценки пользователей корреляции с продажами не имеют.\n",
    "\n",
    "Самым прибыльным жанром является Shooter (24,9%), далее расположен Sports (17,3%) и на третьем месте Misc (12,9%).\n",
    "\n",
    "В зависимости от региона пользуются популярностью различные платформы. В Америке самой популярной платформой является PS4 (43,7%), в Европе также популярна платформа PS4 (59,5%), в Японии - 3DS (33,1%). Также следует отметить, что платформа PS4 пользуется популярностью и в Японии (28,3%). В Америке и в Европе второй по пулярности является платформа XOne с распределением 39% и 22,3%.\n",
    "\n",
    "Популярные жанры в Америке и в Европе схожи, отличается их распределение. В Америке и в Европе самый популярный жанр Shooter, далее расположен Sports, третье место в Америке занимает Action, на четвертом месте Platform, замыкает пятёрку жанр Role Playind. В Европе третье место занимает Simulation, за ним следует Racing, последним находится Action. В Японии рейтинг жанров заметно отличается. Platform является самым популярным жанром, далее расположен Simulation, третье место занимает жанр Role Playind, потом Puzzle, завершает Fighti\n",
    "\n",
    "Во всех регионах лидируют 4 основных рейтинга - Е, Т, М, Е10+, различается только сумма продаж. Также разница в том, что в Америке и в Европе самой популярной категорией является «Для взрослых», в Японии - «Подросткам».\n",
    "\n",
    "В ходе проверки гипотез выяснили, что у нас нет оснований утверждать, что средние пользовательские рейтинги платформ Xbox One и PC значимо различаются, как и средние пользовательские рейтинги жанров Action и Sports.\n",
    "\n",
    "В рекомендации по продажам игр для получения наибольшего уровня продаж и, соответственно, прибыли хочу порекомендовать следующее:\n",
    "**Для продаж в Америке** увеличить выпуск игр в жанрах Shooter и Sports, для продажи размещать на платформах PS4 и XOne, ориентироваться необходимо на возрастной рейтинг \"Для взрослых\". \n",
    "\n",
    "**Для продаж в Европе** увеличить выпуск игр в жанрах Shooter и Sports, для продажи размещать их на платформах PS4 и XOne, ориентироваться необходимо на возрастной рейтинг \"Для взрослых\". \n",
    "\n",
    "**Для продаж в Японии** увеличить выпуск игр в жанрах Platform и Simulation, для продажи размещать на платформах 3DS и PS4, ориентироваться необходимо на возрастной рейтинг \"Подросткам\"."
   ]
  }
 ],
 "metadata": {
  "ExecuteTimeLog": [
   {
    "duration": 1008,
    "start_time": "2022-05-30T04:14:52.855Z"
   },
   {
    "duration": 77,
    "start_time": "2022-05-30T04:16:51.073Z"
   },
   {
    "duration": 26,
    "start_time": "2022-05-30T04:17:03.346Z"
   },
   {
    "duration": 95,
    "start_time": "2022-05-30T04:17:09.353Z"
   },
   {
    "duration": 25,
    "start_time": "2022-05-30T04:17:21.200Z"
   },
   {
    "duration": 27,
    "start_time": "2022-05-30T04:17:32.081Z"
   },
   {
    "duration": 16,
    "start_time": "2022-05-30T04:18:52.425Z"
   },
   {
    "duration": 15,
    "start_time": "2022-05-30T04:22:25.575Z"
   },
   {
    "duration": 48,
    "start_time": "2022-05-30T04:29:14.235Z"
   },
   {
    "duration": 14,
    "start_time": "2022-05-30T04:29:14.776Z"
   },
   {
    "duration": 17,
    "start_time": "2022-05-30T04:29:16.147Z"
   },
   {
    "duration": 9,
    "start_time": "2022-05-30T04:29:35.868Z"
   },
   {
    "duration": 946,
    "start_time": "2022-05-30T19:27:18.898Z"
   },
   {
    "duration": 94,
    "start_time": "2022-05-30T19:27:19.846Z"
   },
   {
    "duration": 19,
    "start_time": "2022-05-30T19:27:20.351Z"
   },
   {
    "duration": 15,
    "start_time": "2022-05-30T19:27:20.979Z"
   },
   {
    "duration": 11,
    "start_time": "2022-05-30T19:27:21.543Z"
   },
   {
    "duration": 4,
    "start_time": "2022-05-30T19:27:22.919Z"
   },
   {
    "duration": 6,
    "start_time": "2022-05-30T19:31:32.429Z"
   },
   {
    "duration": 13,
    "start_time": "2022-05-30T19:40:04.434Z"
   },
   {
    "duration": 8,
    "start_time": "2022-05-30T19:40:14.882Z"
   },
   {
    "duration": 20,
    "start_time": "2022-05-30T19:41:41.589Z"
   },
   {
    "duration": 5,
    "start_time": "2022-05-30T19:43:21.029Z"
   },
   {
    "duration": 7,
    "start_time": "2022-05-30T19:46:43.611Z"
   },
   {
    "duration": 9,
    "start_time": "2022-05-30T19:49:57.060Z"
   },
   {
    "duration": 7,
    "start_time": "2022-05-30T19:50:46.791Z"
   },
   {
    "duration": 8,
    "start_time": "2022-05-30T19:50:53.586Z"
   },
   {
    "duration": 5,
    "start_time": "2022-05-30T19:51:09.234Z"
   },
   {
    "duration": 7,
    "start_time": "2022-05-30T19:52:31.418Z"
   },
   {
    "duration": 562,
    "start_time": "2022-05-30T19:57:31.543Z"
   },
   {
    "duration": 5,
    "start_time": "2022-05-30T19:58:34.442Z"
   },
   {
    "duration": 7,
    "start_time": "2022-05-30T19:58:41.152Z"
   },
   {
    "duration": 836,
    "start_time": "2022-05-31T13:46:50.986Z"
   },
   {
    "duration": 110,
    "start_time": "2022-05-31T13:46:51.825Z"
   },
   {
    "duration": 19,
    "start_time": "2022-05-31T13:46:52.115Z"
   },
   {
    "duration": 14,
    "start_time": "2022-05-31T13:46:54.213Z"
   },
   {
    "duration": 9,
    "start_time": "2022-05-31T13:46:56.580Z"
   },
   {
    "duration": 89,
    "start_time": "2022-05-31T13:47:10.842Z"
   },
   {
    "duration": 3,
    "start_time": "2022-05-31T13:47:50.379Z"
   },
   {
    "duration": 3,
    "start_time": "2022-05-31T13:47:55.570Z"
   },
   {
    "duration": 8,
    "start_time": "2022-05-31T13:48:00.174Z"
   },
   {
    "duration": 26,
    "start_time": "2022-05-31T13:48:11.323Z"
   },
   {
    "duration": 956,
    "start_time": "2022-05-31T13:48:21.064Z"
   },
   {
    "duration": 51,
    "start_time": "2022-05-31T13:48:22.022Z"
   },
   {
    "duration": 18,
    "start_time": "2022-05-31T13:48:22.075Z"
   },
   {
    "duration": 18,
    "start_time": "2022-05-31T13:48:22.831Z"
   },
   {
    "duration": 8,
    "start_time": "2022-05-31T13:48:23.949Z"
   },
   {
    "duration": 4,
    "start_time": "2022-05-31T13:48:34.002Z"
   },
   {
    "duration": 5,
    "start_time": "2022-05-31T13:49:37.540Z"
   },
   {
    "duration": 16,
    "start_time": "2022-05-31T13:49:38.126Z"
   },
   {
    "duration": 9,
    "start_time": "2022-05-31T13:49:39.504Z"
   },
   {
    "duration": 8,
    "start_time": "2022-05-31T13:49:40.518Z"
   },
   {
    "duration": 6,
    "start_time": "2022-05-31T13:49:42.852Z"
   },
   {
    "duration": 4,
    "start_time": "2022-05-31T13:49:44.751Z"
   },
   {
    "duration": 5,
    "start_time": "2022-05-31T13:49:44.948Z"
   },
   {
    "duration": 12,
    "start_time": "2022-05-31T14:14:48.090Z"
   },
   {
    "duration": 22,
    "start_time": "2022-05-31T14:36:46.165Z"
   },
   {
    "duration": 7,
    "start_time": "2022-05-31T14:38:27.480Z"
   },
   {
    "duration": 5,
    "start_time": "2022-05-31T14:38:30.596Z"
   },
   {
    "duration": 5,
    "start_time": "2022-05-31T14:39:20.123Z"
   },
   {
    "duration": 89,
    "start_time": "2022-05-31T14:46:29.760Z"
   },
   {
    "duration": 15,
    "start_time": "2022-05-31T14:47:08.246Z"
   },
   {
    "duration": 8551,
    "start_time": "2022-05-31T14:47:12.424Z"
   },
   {
    "duration": 5,
    "start_time": "2022-05-31T14:48:01.281Z"
   },
   {
    "duration": 9135,
    "start_time": "2022-05-31T14:48:19.661Z"
   },
   {
    "duration": 9,
    "start_time": "2022-05-31T14:48:38.543Z"
   },
   {
    "duration": 11,
    "start_time": "2022-05-31T14:48:44.307Z"
   },
   {
    "duration": 638,
    "start_time": "2022-05-31T14:48:56.328Z"
   },
   {
    "duration": 50,
    "start_time": "2022-05-31T14:48:56.967Z"
   },
   {
    "duration": 17,
    "start_time": "2022-05-31T14:48:57.052Z"
   },
   {
    "duration": 14,
    "start_time": "2022-05-31T14:48:57.868Z"
   },
   {
    "duration": 9,
    "start_time": "2022-05-31T14:49:02.777Z"
   },
   {
    "duration": 6,
    "start_time": "2022-05-31T14:49:10.947Z"
   },
   {
    "duration": 7,
    "start_time": "2022-05-31T14:49:11.491Z"
   },
   {
    "duration": 21,
    "start_time": "2022-05-31T14:49:12.082Z"
   },
   {
    "duration": 9,
    "start_time": "2022-05-31T14:49:12.470Z"
   },
   {
    "duration": 7,
    "start_time": "2022-05-31T14:49:12.860Z"
   },
   {
    "duration": 7,
    "start_time": "2022-05-31T14:49:13.206Z"
   },
   {
    "duration": 4,
    "start_time": "2022-05-31T14:49:13.375Z"
   },
   {
    "duration": 4,
    "start_time": "2022-05-31T14:49:13.551Z"
   },
   {
    "duration": 6,
    "start_time": "2022-05-31T14:49:14.091Z"
   },
   {
    "duration": 14,
    "start_time": "2022-05-31T14:49:14.450Z"
   },
   {
    "duration": 18,
    "start_time": "2022-05-31T14:49:15.006Z"
   },
   {
    "duration": 23,
    "start_time": "2022-05-31T14:49:15.373Z"
   },
   {
    "duration": 5,
    "start_time": "2022-05-31T14:49:15.775Z"
   },
   {
    "duration": 4,
    "start_time": "2022-05-31T14:49:16.176Z"
   },
   {
    "duration": 14,
    "start_time": "2022-05-31T14:49:16.730Z"
   },
   {
    "duration": 9076,
    "start_time": "2022-05-31T14:49:16.928Z"
   },
   {
    "duration": 4,
    "start_time": "2022-05-31T14:49:26.006Z"
   },
   {
    "duration": 9086,
    "start_time": "2022-05-31T14:49:26.011Z"
   },
   {
    "duration": 7,
    "start_time": "2022-05-31T14:49:35.099Z"
   },
   {
    "duration": 14,
    "start_time": "2022-05-31T14:54:03.882Z"
   },
   {
    "duration": 8,
    "start_time": "2022-05-31T14:55:32.152Z"
   },
   {
    "duration": 4,
    "start_time": "2022-05-31T14:56:40.167Z"
   },
   {
    "duration": 690,
    "start_time": "2022-05-31T15:03:14.850Z"
   },
   {
    "duration": 59,
    "start_time": "2022-05-31T15:03:15.542Z"
   },
   {
    "duration": 21,
    "start_time": "2022-05-31T15:03:15.603Z"
   },
   {
    "duration": 13,
    "start_time": "2022-05-31T15:03:16.087Z"
   },
   {
    "duration": 8,
    "start_time": "2022-05-31T15:03:16.590Z"
   },
   {
    "duration": 5,
    "start_time": "2022-05-31T15:03:19.792Z"
   },
   {
    "duration": 5,
    "start_time": "2022-05-31T15:03:31.678Z"
   },
   {
    "duration": 8,
    "start_time": "2022-05-31T15:04:18.888Z"
   },
   {
    "duration": 11,
    "start_time": "2022-05-31T15:04:35.134Z"
   },
   {
    "duration": 7,
    "start_time": "2022-05-31T15:06:01.256Z"
   },
   {
    "duration": 7,
    "start_time": "2022-05-31T15:06:07.420Z"
   },
   {
    "duration": 75,
    "start_time": "2022-05-31T15:08:20.583Z"
   },
   {
    "duration": 4,
    "start_time": "2022-05-31T15:08:54.052Z"
   },
   {
    "duration": 4,
    "start_time": "2022-05-31T15:09:05.131Z"
   },
   {
    "duration": 671,
    "start_time": "2022-05-31T15:09:15.491Z"
   },
   {
    "duration": 51,
    "start_time": "2022-05-31T15:09:16.193Z"
   },
   {
    "duration": 19,
    "start_time": "2022-05-31T15:09:16.545Z"
   },
   {
    "duration": 16,
    "start_time": "2022-05-31T15:09:17.067Z"
   },
   {
    "duration": 7,
    "start_time": "2022-05-31T15:09:17.544Z"
   },
   {
    "duration": 5,
    "start_time": "2022-05-31T15:09:18.581Z"
   },
   {
    "duration": 5,
    "start_time": "2022-05-31T15:09:19.299Z"
   },
   {
    "duration": 17,
    "start_time": "2022-05-31T15:09:19.867Z"
   },
   {
    "duration": 11,
    "start_time": "2022-05-31T15:09:20.268Z"
   },
   {
    "duration": 7,
    "start_time": "2022-05-31T15:09:20.659Z"
   },
   {
    "duration": 8,
    "start_time": "2022-05-31T15:09:21.030Z"
   },
   {
    "duration": 4,
    "start_time": "2022-05-31T15:09:21.204Z"
   },
   {
    "duration": 4,
    "start_time": "2022-05-31T15:09:21.392Z"
   },
   {
    "duration": 6,
    "start_time": "2022-05-31T15:09:21.760Z"
   },
   {
    "duration": 7,
    "start_time": "2022-05-31T15:09:22.123Z"
   },
   {
    "duration": 12,
    "start_time": "2022-05-31T15:09:22.480Z"
   },
   {
    "duration": 4,
    "start_time": "2022-05-31T15:09:22.668Z"
   },
   {
    "duration": 18,
    "start_time": "2022-05-31T15:09:23.216Z"
   },
   {
    "duration": 23,
    "start_time": "2022-05-31T15:09:23.594Z"
   },
   {
    "duration": 5,
    "start_time": "2022-05-31T15:09:24.014Z"
   },
   {
    "duration": 16,
    "start_time": "2022-05-31T15:09:55.729Z"
   },
   {
    "duration": 9,
    "start_time": "2022-05-31T15:09:56.600Z"
   },
   {
    "duration": 4,
    "start_time": "2022-05-31T15:10:02.715Z"
   },
   {
    "duration": 5,
    "start_time": "2022-05-31T15:10:03.321Z"
   },
   {
    "duration": 4,
    "start_time": "2022-05-31T15:10:03.790Z"
   },
   {
    "duration": 13,
    "start_time": "2022-05-31T15:10:40.915Z"
   },
   {
    "duration": 12,
    "start_time": "2022-05-31T15:10:53.008Z"
   },
   {
    "duration": 6,
    "start_time": "2022-05-31T15:11:07.655Z"
   },
   {
    "duration": 9,
    "start_time": "2022-05-31T15:11:17.982Z"
   },
   {
    "duration": 13,
    "start_time": "2022-05-31T15:12:13.393Z"
   },
   {
    "duration": 8,
    "start_time": "2022-05-31T15:12:28.989Z"
   },
   {
    "duration": 6,
    "start_time": "2022-05-31T15:13:47.753Z"
   },
   {
    "duration": 4,
    "start_time": "2022-05-31T15:22:43.127Z"
   },
   {
    "duration": 12,
    "start_time": "2022-05-31T15:22:55.907Z"
   },
   {
    "duration": 1211,
    "start_time": "2022-05-31T17:59:20.899Z"
   },
   {
    "duration": 127,
    "start_time": "2022-05-31T17:59:22.115Z"
   },
   {
    "duration": 24,
    "start_time": "2022-05-31T17:59:22.244Z"
   },
   {
    "duration": 38,
    "start_time": "2022-05-31T17:59:22.271Z"
   },
   {
    "duration": 9,
    "start_time": "2022-05-31T17:59:22.814Z"
   },
   {
    "duration": 6,
    "start_time": "2022-05-31T17:59:24.031Z"
   },
   {
    "duration": 6,
    "start_time": "2022-05-31T17:59:24.634Z"
   },
   {
    "duration": 24,
    "start_time": "2022-05-31T18:00:18.279Z"
   },
   {
    "duration": 13,
    "start_time": "2022-05-31T18:00:18.842Z"
   },
   {
    "duration": 9,
    "start_time": "2022-05-31T18:00:19.202Z"
   },
   {
    "duration": 6,
    "start_time": "2022-05-31T18:00:19.602Z"
   },
   {
    "duration": 5,
    "start_time": "2022-05-31T18:00:19.810Z"
   },
   {
    "duration": 6,
    "start_time": "2022-05-31T18:00:20.015Z"
   },
   {
    "duration": 7,
    "start_time": "2022-05-31T18:00:20.391Z"
   },
   {
    "duration": 8,
    "start_time": "2022-05-31T18:00:20.788Z"
   },
   {
    "duration": 7,
    "start_time": "2022-05-31T18:00:21.231Z"
   },
   {
    "duration": 16,
    "start_time": "2022-05-31T18:00:21.423Z"
   },
   {
    "duration": 4,
    "start_time": "2022-05-31T18:00:21.629Z"
   },
   {
    "duration": 7,
    "start_time": "2022-05-31T18:00:22.286Z"
   },
   {
    "duration": 12,
    "start_time": "2022-05-31T18:00:22.501Z"
   },
   {
    "duration": 33,
    "start_time": "2022-05-31T18:00:22.946Z"
   },
   {
    "duration": 7,
    "start_time": "2022-05-31T18:00:23.378Z"
   },
   {
    "duration": 6,
    "start_time": "2022-05-31T18:00:23.812Z"
   },
   {
    "duration": 4,
    "start_time": "2022-05-31T18:00:24.031Z"
   },
   {
    "duration": 8,
    "start_time": "2022-05-31T18:00:24.446Z"
   },
   {
    "duration": 6,
    "start_time": "2022-05-31T18:00:26.513Z"
   },
   {
    "duration": 19,
    "start_time": "2022-05-31T18:00:26.940Z"
   },
   {
    "duration": 9,
    "start_time": "2022-05-31T18:02:58.457Z"
   },
   {
    "duration": 9,
    "start_time": "2022-05-31T18:03:17.879Z"
   },
   {
    "duration": 411,
    "start_time": "2022-05-31T18:06:20.882Z"
   },
   {
    "duration": 95,
    "start_time": "2022-05-31T18:11:21.912Z"
   },
   {
    "duration": 7,
    "start_time": "2022-05-31T18:11:35.729Z"
   },
   {
    "duration": 4,
    "start_time": "2022-05-31T18:11:36.540Z"
   },
   {
    "duration": 14,
    "start_time": "2022-05-31T18:11:44.881Z"
   },
   {
    "duration": 10,
    "start_time": "2022-05-31T18:27:22.170Z"
   },
   {
    "duration": 3,
    "start_time": "2022-05-31T18:27:32.620Z"
   },
   {
    "duration": 4,
    "start_time": "2022-05-31T18:28:45.257Z"
   },
   {
    "duration": 221,
    "start_time": "2022-05-31T18:30:16.269Z"
   },
   {
    "duration": 8,
    "start_time": "2022-05-31T18:31:00.779Z"
   },
   {
    "duration": 4,
    "start_time": "2022-05-31T18:31:03.801Z"
   },
   {
    "duration": 171,
    "start_time": "2022-05-31T18:31:19.691Z"
   },
   {
    "duration": 609,
    "start_time": "2022-05-31T18:31:29.906Z"
   },
   {
    "duration": 8,
    "start_time": "2022-05-31T18:46:16.193Z"
   },
   {
    "duration": 570,
    "start_time": "2022-05-31T18:46:20.136Z"
   },
   {
    "duration": 4,
    "start_time": "2022-05-31T18:46:24.513Z"
   },
   {
    "duration": 13,
    "start_time": "2022-05-31T18:51:50.402Z"
   },
   {
    "duration": 38,
    "start_time": "2022-05-31T18:52:03.513Z"
   },
   {
    "duration": 15,
    "start_time": "2022-05-31T18:52:04.597Z"
   },
   {
    "duration": 35,
    "start_time": "2022-05-31T18:52:18.484Z"
   },
   {
    "duration": 21,
    "start_time": "2022-05-31T18:52:19.292Z"
   },
   {
    "duration": 408,
    "start_time": "2022-05-31T18:55:00.351Z"
   },
   {
    "duration": 283,
    "start_time": "2022-05-31T18:55:29.150Z"
   },
   {
    "duration": 193,
    "start_time": "2022-05-31T18:57:20.329Z"
   },
   {
    "duration": 351,
    "start_time": "2022-05-31T18:57:51.351Z"
   },
   {
    "duration": 232,
    "start_time": "2022-05-31T18:58:07.535Z"
   },
   {
    "duration": 180,
    "start_time": "2022-05-31T18:58:11.219Z"
   },
   {
    "duration": 367,
    "start_time": "2022-05-31T18:58:17.047Z"
   },
   {
    "duration": 3,
    "start_time": "2022-05-31T19:03:42.642Z"
   },
   {
    "duration": 11,
    "start_time": "2022-05-31T19:04:59.394Z"
   },
   {
    "duration": 10,
    "start_time": "2022-05-31T19:04:59.980Z"
   },
   {
    "duration": 5,
    "start_time": "2022-05-31T19:41:39.187Z"
   },
   {
    "duration": 7,
    "start_time": "2022-05-31T19:41:48.801Z"
   },
   {
    "duration": 11,
    "start_time": "2022-05-31T19:45:38.646Z"
   },
   {
    "duration": 11,
    "start_time": "2022-05-31T19:45:39.010Z"
   },
   {
    "duration": 4,
    "start_time": "2022-05-31T19:45:40.605Z"
   },
   {
    "duration": 628,
    "start_time": "2022-05-31T19:45:51.005Z"
   },
   {
    "duration": 743,
    "start_time": "2022-05-31T19:46:04.762Z"
   },
   {
    "duration": 812,
    "start_time": "2022-05-31T19:49:49.809Z"
   },
   {
    "duration": 818,
    "start_time": "2022-05-31T19:50:59.510Z"
   },
   {
    "duration": 866,
    "start_time": "2022-06-01T15:33:03.868Z"
   },
   {
    "duration": 116,
    "start_time": "2022-06-01T15:33:04.737Z"
   },
   {
    "duration": 20,
    "start_time": "2022-06-01T15:33:04.855Z"
   },
   {
    "duration": 15,
    "start_time": "2022-06-01T15:33:05.152Z"
   },
   {
    "duration": 8,
    "start_time": "2022-06-01T15:33:05.720Z"
   },
   {
    "duration": 5,
    "start_time": "2022-06-01T15:33:06.869Z"
   },
   {
    "duration": 5,
    "start_time": "2022-06-01T15:33:07.430Z"
   },
   {
    "duration": 18,
    "start_time": "2022-06-01T15:33:08.005Z"
   },
   {
    "duration": 9,
    "start_time": "2022-06-01T15:33:08.396Z"
   },
   {
    "duration": 10,
    "start_time": "2022-06-01T15:33:08.798Z"
   },
   {
    "duration": 8,
    "start_time": "2022-06-01T15:33:09.204Z"
   },
   {
    "duration": 4,
    "start_time": "2022-06-01T15:33:09.428Z"
   },
   {
    "duration": 5,
    "start_time": "2022-06-01T15:33:09.637Z"
   },
   {
    "duration": 6,
    "start_time": "2022-06-01T15:33:10.028Z"
   },
   {
    "duration": 7,
    "start_time": "2022-06-01T15:33:10.418Z"
   },
   {
    "duration": 6,
    "start_time": "2022-06-01T15:33:10.809Z"
   },
   {
    "duration": 13,
    "start_time": "2022-06-01T15:33:11.545Z"
   },
   {
    "duration": 4,
    "start_time": "2022-06-01T15:33:11.969Z"
   },
   {
    "duration": 7,
    "start_time": "2022-06-01T15:33:12.620Z"
   },
   {
    "duration": 12,
    "start_time": "2022-06-01T15:33:12.803Z"
   },
   {
    "duration": 25,
    "start_time": "2022-06-01T15:33:13.186Z"
   },
   {
    "duration": 5,
    "start_time": "2022-06-01T15:33:13.556Z"
   },
   {
    "duration": 5,
    "start_time": "2022-06-01T15:33:13.912Z"
   },
   {
    "duration": 4,
    "start_time": "2022-06-01T15:33:14.112Z"
   },
   {
    "duration": 7,
    "start_time": "2022-06-01T15:33:14.497Z"
   },
   {
    "duration": 5,
    "start_time": "2022-06-01T15:33:15.099Z"
   },
   {
    "duration": 13,
    "start_time": "2022-06-01T15:33:15.596Z"
   },
   {
    "duration": 7,
    "start_time": "2022-06-01T15:33:16.652Z"
   },
   {
    "duration": 6,
    "start_time": "2022-06-01T15:33:16.911Z"
   },
   {
    "duration": 198,
    "start_time": "2022-06-01T15:33:17.317Z"
   },
   {
    "duration": 6,
    "start_time": "2022-06-01T15:33:18.054Z"
   },
   {
    "duration": 77,
    "start_time": "2022-06-01T15:33:18.234Z"
   },
   {
    "duration": 3,
    "start_time": "2022-06-01T15:33:18.720Z"
   },
   {
    "duration": 530,
    "start_time": "2022-06-01T15:33:18.901Z"
   },
   {
    "duration": 4,
    "start_time": "2022-06-01T15:33:19.433Z"
   },
   {
    "duration": 38,
    "start_time": "2022-06-01T15:33:20.156Z"
   },
   {
    "duration": 13,
    "start_time": "2022-06-01T15:33:20.357Z"
   },
   {
    "duration": 285,
    "start_time": "2022-06-01T15:33:20.949Z"
   },
   {
    "duration": 8,
    "start_time": "2022-06-01T15:33:21.516Z"
   },
   {
    "duration": 7,
    "start_time": "2022-06-01T15:33:21.556Z"
   },
   {
    "duration": 3,
    "start_time": "2022-06-01T15:33:22.028Z"
   },
   {
    "duration": 729,
    "start_time": "2022-06-01T15:33:22.434Z"
   },
   {
    "duration": 18,
    "start_time": "2022-06-01T15:36:36.731Z"
   },
   {
    "duration": 8,
    "start_time": "2022-06-01T15:36:43.423Z"
   },
   {
    "duration": 10,
    "start_time": "2022-06-01T15:36:44.807Z"
   },
   {
    "duration": 15,
    "start_time": "2022-06-01T15:37:28.000Z"
   },
   {
    "duration": 267,
    "start_time": "2022-06-01T15:40:32.470Z"
   },
   {
    "duration": 8,
    "start_time": "2022-06-01T16:04:02.728Z"
   },
   {
    "duration": 9,
    "start_time": "2022-06-01T16:04:39.758Z"
   },
   {
    "duration": 164,
    "start_time": "2022-06-01T16:04:47.299Z"
   },
   {
    "duration": 208,
    "start_time": "2022-06-01T16:06:43.878Z"
   },
   {
    "duration": 175,
    "start_time": "2022-06-01T16:06:57.630Z"
   },
   {
    "duration": 32,
    "start_time": "2022-06-01T16:41:40.862Z"
   },
   {
    "duration": 11,
    "start_time": "2022-06-01T16:45:25.310Z"
   },
   {
    "duration": 17,
    "start_time": "2022-06-01T16:46:04.995Z"
   },
   {
    "duration": 21,
    "start_time": "2022-06-01T16:46:30.218Z"
   },
   {
    "duration": 19,
    "start_time": "2022-06-01T16:47:20.174Z"
   },
   {
    "duration": 35,
    "start_time": "2022-06-01T16:48:29.672Z"
   },
   {
    "duration": 1018,
    "start_time": "2022-06-01T16:49:08.508Z"
   },
   {
    "duration": 20,
    "start_time": "2022-06-01T16:49:19.840Z"
   },
   {
    "duration": 11,
    "start_time": "2022-06-01T16:50:27.811Z"
   },
   {
    "duration": 44,
    "start_time": "2022-06-01T16:50:33.860Z"
   },
   {
    "duration": 14,
    "start_time": "2022-06-01T16:50:34.596Z"
   },
   {
    "duration": 15,
    "start_time": "2022-06-01T16:51:10.712Z"
   },
   {
    "duration": 34,
    "start_time": "2022-06-01T16:51:13.660Z"
   },
   {
    "duration": 13,
    "start_time": "2022-06-01T16:51:14.090Z"
   },
   {
    "duration": 39,
    "start_time": "2022-06-01T16:51:52.896Z"
   },
   {
    "duration": 22,
    "start_time": "2022-06-01T16:51:53.493Z"
   },
   {
    "duration": 11,
    "start_time": "2022-06-01T17:02:16.025Z"
   },
   {
    "duration": 389,
    "start_time": "2022-06-01T17:06:00.990Z"
   },
   {
    "duration": 413,
    "start_time": "2022-06-01T17:06:02.537Z"
   },
   {
    "duration": 41,
    "start_time": "2022-06-01T17:09:29.703Z"
   },
   {
    "duration": 27,
    "start_time": "2022-06-01T17:09:30.585Z"
   },
   {
    "duration": 11,
    "start_time": "2022-06-01T17:09:31.594Z"
   },
   {
    "duration": 23,
    "start_time": "2022-06-01T17:09:54.485Z"
   },
   {
    "duration": 17,
    "start_time": "2022-06-01T17:09:55.687Z"
   },
   {
    "duration": 359,
    "start_time": "2022-06-01T17:10:29.326Z"
   },
   {
    "duration": 420,
    "start_time": "2022-06-01T17:10:32.440Z"
   },
   {
    "duration": 6,
    "start_time": "2022-06-01T17:11:33.914Z"
   },
   {
    "duration": 5,
    "start_time": "2022-06-01T17:11:43.253Z"
   },
   {
    "duration": 11,
    "start_time": "2022-06-01T17:11:58.027Z"
   },
   {
    "duration": 5,
    "start_time": "2022-06-01T17:12:05.752Z"
   },
   {
    "duration": 5,
    "start_time": "2022-06-01T17:12:18.205Z"
   },
   {
    "duration": 393,
    "start_time": "2022-06-01T17:14:53.726Z"
   },
   {
    "duration": 8,
    "start_time": "2022-06-01T18:37:30.683Z"
   },
   {
    "duration": 6,
    "start_time": "2022-06-01T18:37:40.250Z"
   },
   {
    "duration": 342,
    "start_time": "2022-06-01T18:39:32.826Z"
   },
   {
    "duration": 12,
    "start_time": "2022-06-01T18:53:01.385Z"
   },
   {
    "duration": 5,
    "start_time": "2022-06-01T18:53:04.300Z"
   },
   {
    "duration": 297,
    "start_time": "2022-06-01T18:53:12.973Z"
   },
   {
    "duration": 7,
    "start_time": "2022-06-01T18:53:46.949Z"
   },
   {
    "duration": 9,
    "start_time": "2022-06-01T18:53:48.669Z"
   },
   {
    "duration": 7,
    "start_time": "2022-06-01T18:53:49.944Z"
   },
   {
    "duration": 324,
    "start_time": "2022-06-01T18:54:53.419Z"
   },
   {
    "duration": 9,
    "start_time": "2022-06-01T19:06:06.780Z"
   },
   {
    "duration": 8,
    "start_time": "2022-06-01T19:06:14.372Z"
   },
   {
    "duration": 8,
    "start_time": "2022-06-01T19:06:29.011Z"
   },
   {
    "duration": 8,
    "start_time": "2022-06-01T19:06:33.167Z"
   },
   {
    "duration": 8,
    "start_time": "2022-06-01T19:06:37.779Z"
   },
   {
    "duration": 8,
    "start_time": "2022-06-01T19:06:58.634Z"
   },
   {
    "duration": 8,
    "start_time": "2022-06-01T19:07:17.943Z"
   },
   {
    "duration": 9,
    "start_time": "2022-06-01T19:13:01.664Z"
   },
   {
    "duration": 8,
    "start_time": "2022-06-01T19:13:38.500Z"
   },
   {
    "duration": 8,
    "start_time": "2022-06-01T19:13:39.799Z"
   },
   {
    "duration": 8,
    "start_time": "2022-06-01T19:48:53.413Z"
   },
   {
    "duration": 13,
    "start_time": "2022-06-01T19:49:00.475Z"
   },
   {
    "duration": 570,
    "start_time": "2022-06-01T19:50:16.807Z"
   },
   {
    "duration": 4,
    "start_time": "2022-06-01T19:50:22.093Z"
   },
   {
    "duration": 9,
    "start_time": "2022-06-01T19:55:40.242Z"
   },
   {
    "duration": 5,
    "start_time": "2022-06-01T19:57:15.898Z"
   },
   {
    "duration": 8,
    "start_time": "2022-06-01T20:08:28.370Z"
   },
   {
    "duration": 1070,
    "start_time": "2022-06-02T09:33:46.391Z"
   },
   {
    "duration": 89,
    "start_time": "2022-06-02T09:33:47.463Z"
   },
   {
    "duration": 23,
    "start_time": "2022-06-02T09:33:47.554Z"
   },
   {
    "duration": 21,
    "start_time": "2022-06-02T09:33:47.579Z"
   },
   {
    "duration": 9,
    "start_time": "2022-06-02T09:33:47.602Z"
   },
   {
    "duration": 9,
    "start_time": "2022-06-02T09:33:47.613Z"
   },
   {
    "duration": 5,
    "start_time": "2022-06-02T09:33:47.624Z"
   },
   {
    "duration": 26,
    "start_time": "2022-06-02T09:33:47.631Z"
   },
   {
    "duration": 8,
    "start_time": "2022-06-02T09:33:47.659Z"
   },
   {
    "duration": 6,
    "start_time": "2022-06-02T09:33:47.670Z"
   },
   {
    "duration": 9,
    "start_time": "2022-06-02T09:33:47.678Z"
   },
   {
    "duration": 4,
    "start_time": "2022-06-02T09:33:47.688Z"
   },
   {
    "duration": 9,
    "start_time": "2022-06-02T09:33:47.694Z"
   },
   {
    "duration": 19,
    "start_time": "2022-06-02T09:33:47.704Z"
   },
   {
    "duration": 7,
    "start_time": "2022-06-02T09:33:47.744Z"
   },
   {
    "duration": 14,
    "start_time": "2022-06-02T09:33:47.752Z"
   },
   {
    "duration": 19,
    "start_time": "2022-06-02T09:33:47.767Z"
   },
   {
    "duration": 4,
    "start_time": "2022-06-02T09:33:47.787Z"
   },
   {
    "duration": 10,
    "start_time": "2022-06-02T09:33:47.793Z"
   },
   {
    "duration": 23,
    "start_time": "2022-06-02T09:33:47.805Z"
   },
   {
    "duration": 35,
    "start_time": "2022-06-02T09:33:47.830Z"
   },
   {
    "duration": 5,
    "start_time": "2022-06-02T09:33:47.867Z"
   },
   {
    "duration": 23,
    "start_time": "2022-06-02T09:33:47.874Z"
   },
   {
    "duration": 38,
    "start_time": "2022-06-02T09:33:47.899Z"
   },
   {
    "duration": 47,
    "start_time": "2022-06-02T09:33:47.938Z"
   },
   {
    "duration": 39,
    "start_time": "2022-06-02T09:33:47.987Z"
   },
   {
    "duration": 51,
    "start_time": "2022-06-02T09:33:48.028Z"
   },
   {
    "duration": 47,
    "start_time": "2022-06-02T09:33:48.083Z"
   },
   {
    "duration": 38,
    "start_time": "2022-06-02T09:33:48.132Z"
   },
   {
    "duration": 256,
    "start_time": "2022-06-02T09:33:48.171Z"
   },
   {
    "duration": 6,
    "start_time": "2022-06-02T09:33:48.429Z"
   },
   {
    "duration": 46,
    "start_time": "2022-06-02T09:33:48.445Z"
   },
   {
    "duration": 6,
    "start_time": "2022-06-02T09:33:48.493Z"
   },
   {
    "duration": 711,
    "start_time": "2022-06-02T09:33:48.500Z"
   },
   {
    "duration": 4,
    "start_time": "2022-06-02T09:33:49.212Z"
   },
   {
    "duration": 47,
    "start_time": "2022-06-02T09:33:49.218Z"
   },
   {
    "duration": 13,
    "start_time": "2022-06-02T09:33:49.267Z"
   },
   {
    "duration": 309,
    "start_time": "2022-06-02T09:33:49.282Z"
   },
   {
    "duration": 8,
    "start_time": "2022-06-02T09:33:49.593Z"
   },
   {
    "duration": 10,
    "start_time": "2022-06-02T09:33:49.603Z"
   },
   {
    "duration": 6,
    "start_time": "2022-06-02T09:33:49.615Z"
   },
   {
    "duration": 763,
    "start_time": "2022-06-02T09:33:49.623Z"
   },
   {
    "duration": 7,
    "start_time": "2022-06-02T09:33:50.388Z"
   },
   {
    "duration": 16,
    "start_time": "2022-06-02T09:33:50.397Z"
   },
   {
    "duration": 12,
    "start_time": "2022-06-02T09:33:50.415Z"
   },
   {
    "duration": 187,
    "start_time": "2022-06-02T09:33:50.429Z"
   },
   {
    "duration": 175,
    "start_time": "2022-06-02T09:33:50.617Z"
   },
   {
    "duration": 35,
    "start_time": "2022-06-02T09:33:50.794Z"
   },
   {
    "duration": 23,
    "start_time": "2022-06-02T09:33:50.831Z"
   },
   {
    "duration": 0,
    "start_time": "2022-06-02T09:33:50.856Z"
   },
   {
    "duration": 0,
    "start_time": "2022-06-02T09:33:50.857Z"
   },
   {
    "duration": 0,
    "start_time": "2022-06-02T09:33:50.858Z"
   },
   {
    "duration": 0,
    "start_time": "2022-06-02T09:33:50.859Z"
   },
   {
    "duration": 0,
    "start_time": "2022-06-02T09:33:50.861Z"
   },
   {
    "duration": 0,
    "start_time": "2022-06-02T09:33:50.862Z"
   },
   {
    "duration": 0,
    "start_time": "2022-06-02T09:33:50.863Z"
   },
   {
    "duration": 0,
    "start_time": "2022-06-02T09:33:50.865Z"
   },
   {
    "duration": 0,
    "start_time": "2022-06-02T09:33:50.866Z"
   },
   {
    "duration": 0,
    "start_time": "2022-06-02T09:33:50.867Z"
   },
   {
    "duration": 0,
    "start_time": "2022-06-02T09:33:50.869Z"
   },
   {
    "duration": 0,
    "start_time": "2022-06-02T09:33:50.870Z"
   },
   {
    "duration": 0,
    "start_time": "2022-06-02T09:33:50.871Z"
   },
   {
    "duration": 0,
    "start_time": "2022-06-02T09:33:50.871Z"
   },
   {
    "duration": 0,
    "start_time": "2022-06-02T09:33:50.872Z"
   },
   {
    "duration": 0,
    "start_time": "2022-06-02T09:33:50.873Z"
   },
   {
    "duration": 0,
    "start_time": "2022-06-02T09:33:50.874Z"
   },
   {
    "duration": 0,
    "start_time": "2022-06-02T09:33:50.875Z"
   },
   {
    "duration": 0,
    "start_time": "2022-06-02T09:33:50.876Z"
   },
   {
    "duration": 0,
    "start_time": "2022-06-02T09:33:50.877Z"
   },
   {
    "duration": 1170,
    "start_time": "2022-06-02T09:34:56.482Z"
   },
   {
    "duration": 53,
    "start_time": "2022-06-02T09:34:57.654Z"
   },
   {
    "duration": 22,
    "start_time": "2022-06-02T09:34:57.709Z"
   },
   {
    "duration": 18,
    "start_time": "2022-06-02T09:34:57.734Z"
   },
   {
    "duration": 27,
    "start_time": "2022-06-02T09:34:57.754Z"
   },
   {
    "duration": 15,
    "start_time": "2022-06-02T09:34:57.782Z"
   },
   {
    "duration": 10,
    "start_time": "2022-06-02T09:34:57.799Z"
   },
   {
    "duration": 24,
    "start_time": "2022-06-02T09:34:57.811Z"
   },
   {
    "duration": 10,
    "start_time": "2022-06-02T09:34:57.837Z"
   },
   {
    "duration": 24,
    "start_time": "2022-06-02T09:34:57.849Z"
   },
   {
    "duration": 18,
    "start_time": "2022-06-02T09:34:57.875Z"
   },
   {
    "duration": 17,
    "start_time": "2022-06-02T09:34:57.895Z"
   },
   {
    "duration": 17,
    "start_time": "2022-06-02T09:34:57.914Z"
   },
   {
    "duration": 40,
    "start_time": "2022-06-02T09:34:57.933Z"
   },
   {
    "duration": 14,
    "start_time": "2022-06-02T09:34:57.975Z"
   },
   {
    "duration": 24,
    "start_time": "2022-06-02T09:34:57.991Z"
   },
   {
    "duration": 32,
    "start_time": "2022-06-02T09:34:58.017Z"
   },
   {
    "duration": 13,
    "start_time": "2022-06-02T09:34:58.051Z"
   },
   {
    "duration": 17,
    "start_time": "2022-06-02T09:34:58.066Z"
   },
   {
    "duration": 35,
    "start_time": "2022-06-02T09:34:58.085Z"
   },
   {
    "duration": 48,
    "start_time": "2022-06-02T09:34:58.122Z"
   },
   {
    "duration": 4,
    "start_time": "2022-06-02T09:34:58.173Z"
   },
   {
    "duration": 16,
    "start_time": "2022-06-02T09:34:58.179Z"
   },
   {
    "duration": 6,
    "start_time": "2022-06-02T09:34:58.245Z"
   },
   {
    "duration": 18,
    "start_time": "2022-06-02T09:34:58.252Z"
   },
   {
    "duration": 17,
    "start_time": "2022-06-02T09:34:58.271Z"
   },
   {
    "duration": 66,
    "start_time": "2022-06-02T09:34:58.290Z"
   },
   {
    "duration": 18,
    "start_time": "2022-06-02T09:34:58.361Z"
   },
   {
    "duration": 11,
    "start_time": "2022-06-02T09:34:58.381Z"
   },
   {
    "duration": 507,
    "start_time": "2022-06-02T09:34:58.445Z"
   },
   {
    "duration": 6,
    "start_time": "2022-06-02T09:34:58.954Z"
   },
   {
    "duration": 12,
    "start_time": "2022-06-02T09:34:58.961Z"
   },
   {
    "duration": 6,
    "start_time": "2022-06-02T09:34:58.975Z"
   },
   {
    "duration": 1586,
    "start_time": "2022-06-02T09:34:58.983Z"
   },
   {
    "duration": 4,
    "start_time": "2022-06-02T09:35:00.571Z"
   },
   {
    "duration": 102,
    "start_time": "2022-06-02T09:35:00.576Z"
   },
   {
    "duration": 66,
    "start_time": "2022-06-02T09:35:00.680Z"
   },
   {
    "duration": 696,
    "start_time": "2022-06-02T09:35:00.748Z"
   },
   {
    "duration": 8,
    "start_time": "2022-06-02T09:35:01.446Z"
   },
   {
    "duration": 56,
    "start_time": "2022-06-02T09:35:01.456Z"
   },
   {
    "duration": 61,
    "start_time": "2022-06-02T09:35:01.513Z"
   },
   {
    "duration": 1693,
    "start_time": "2022-06-02T09:35:01.576Z"
   },
   {
    "duration": 9,
    "start_time": "2022-06-02T09:35:03.270Z"
   },
   {
    "duration": 72,
    "start_time": "2022-06-02T09:35:03.280Z"
   },
   {
    "duration": 25,
    "start_time": "2022-06-02T09:35:03.355Z"
   },
   {
    "duration": 464,
    "start_time": "2022-06-02T09:35:03.382Z"
   },
   {
    "duration": 205,
    "start_time": "2022-06-02T09:35:03.848Z"
   },
   {
    "duration": 35,
    "start_time": "2022-06-02T09:35:04.054Z"
   },
   {
    "duration": 21,
    "start_time": "2022-06-02T09:35:04.091Z"
   },
   {
    "duration": 15,
    "start_time": "2022-06-02T09:35:04.114Z"
   },
   {
    "duration": 416,
    "start_time": "2022-06-02T09:35:04.145Z"
   },
   {
    "duration": 440,
    "start_time": "2022-06-02T09:35:04.563Z"
   },
   {
    "duration": 7,
    "start_time": "2022-06-02T09:35:05.005Z"
   },
   {
    "duration": 10,
    "start_time": "2022-06-02T09:35:05.014Z"
   },
   {
    "duration": 19,
    "start_time": "2022-06-02T09:35:05.026Z"
   },
   {
    "duration": 32,
    "start_time": "2022-06-02T09:35:05.047Z"
   },
   {
    "duration": 774,
    "start_time": "2022-06-02T09:35:05.081Z"
   },
   {
    "duration": 10,
    "start_time": "2022-06-02T09:35:05.857Z"
   },
   {
    "duration": 27,
    "start_time": "2022-06-02T09:35:05.868Z"
   },
   {
    "duration": 511,
    "start_time": "2022-06-02T09:35:05.897Z"
   },
   {
    "duration": 10,
    "start_time": "2022-06-02T09:35:06.410Z"
   },
   {
    "duration": 9,
    "start_time": "2022-06-02T09:35:06.421Z"
   },
   {
    "duration": 368,
    "start_time": "2022-06-02T09:35:06.432Z"
   },
   {
    "duration": 9,
    "start_time": "2022-06-02T09:35:06.802Z"
   },
   {
    "duration": 14,
    "start_time": "2022-06-02T09:35:06.812Z"
   },
   {
    "duration": 24,
    "start_time": "2022-06-02T09:35:06.828Z"
   },
   {
    "duration": 6,
    "start_time": "2022-06-02T09:35:06.854Z"
   },
   {
    "duration": 21,
    "start_time": "2022-06-02T09:35:06.862Z"
   },
   {
    "duration": 6,
    "start_time": "2022-06-02T09:35:06.885Z"
   },
   {
    "duration": 385,
    "start_time": "2022-06-02T09:47:53.548Z"
   },
   {
    "duration": 1268,
    "start_time": "2022-06-03T13:42:25.768Z"
   },
   {
    "duration": 91,
    "start_time": "2022-06-03T13:42:27.038Z"
   },
   {
    "duration": 21,
    "start_time": "2022-06-03T13:42:27.130Z"
   },
   {
    "duration": 14,
    "start_time": "2022-06-03T13:42:29.832Z"
   },
   {
    "duration": 9,
    "start_time": "2022-06-03T13:42:36.068Z"
   },
   {
    "duration": 127,
    "start_time": "2022-06-03T13:43:09.566Z"
   },
   {
    "duration": 10,
    "start_time": "2022-06-03T13:43:23.202Z"
   },
   {
    "duration": 12,
    "start_time": "2022-06-03T13:43:43.517Z"
   },
   {
    "duration": 6,
    "start_time": "2022-06-03T13:43:56.338Z"
   },
   {
    "duration": 10,
    "start_time": "2022-06-03T13:46:57.611Z"
   },
   {
    "duration": 3,
    "start_time": "2022-06-03T13:47:48.230Z"
   },
   {
    "duration": 5,
    "start_time": "2022-06-03T13:50:07.259Z"
   },
   {
    "duration": 1135,
    "start_time": "2022-06-03T13:50:33.051Z"
   },
   {
    "duration": 52,
    "start_time": "2022-06-03T13:50:34.188Z"
   },
   {
    "duration": 22,
    "start_time": "2022-06-03T13:50:35.480Z"
   },
   {
    "duration": 15,
    "start_time": "2022-06-03T13:50:35.918Z"
   },
   {
    "duration": 10,
    "start_time": "2022-06-03T13:50:39.281Z"
   },
   {
    "duration": 5,
    "start_time": "2022-06-03T13:50:43.793Z"
   },
   {
    "duration": 8,
    "start_time": "2022-06-03T13:50:49.553Z"
   },
   {
    "duration": 106,
    "start_time": "2022-06-03T13:51:04.843Z"
   },
   {
    "duration": 11,
    "start_time": "2022-06-03T13:51:13.153Z"
   },
   {
    "duration": 5,
    "start_time": "2022-06-03T13:51:30.247Z"
   },
   {
    "duration": 6,
    "start_time": "2022-06-03T13:51:34.898Z"
   },
   {
    "duration": 13,
    "start_time": "2022-06-03T13:56:49.210Z"
   },
   {
    "duration": 13,
    "start_time": "2022-06-03T13:56:54.273Z"
   },
   {
    "duration": 9,
    "start_time": "2022-06-03T13:57:07.810Z"
   },
   {
    "duration": 4,
    "start_time": "2022-06-03T13:57:26.576Z"
   },
   {
    "duration": 10,
    "start_time": "2022-06-03T13:57:31.602Z"
   },
   {
    "duration": 3,
    "start_time": "2022-06-03T14:05:52.210Z"
   },
   {
    "duration": 11,
    "start_time": "2022-06-03T14:05:53.295Z"
   },
   {
    "duration": 8,
    "start_time": "2022-06-03T14:05:53.664Z"
   },
   {
    "duration": 7,
    "start_time": "2022-06-03T14:05:56.676Z"
   },
   {
    "duration": 5,
    "start_time": "2022-06-03T14:05:56.896Z"
   },
   {
    "duration": 6,
    "start_time": "2022-06-03T14:06:35.009Z"
   },
   {
    "duration": 8,
    "start_time": "2022-06-03T14:06:46.964Z"
   },
   {
    "duration": 7,
    "start_time": "2022-06-03T14:12:32.161Z"
   },
   {
    "duration": 5,
    "start_time": "2022-06-03T14:12:35.544Z"
   },
   {
    "duration": 5,
    "start_time": "2022-06-03T14:12:50.518Z"
   },
   {
    "duration": 6,
    "start_time": "2022-06-03T14:12:57.569Z"
   },
   {
    "duration": 5,
    "start_time": "2022-06-03T14:14:10.295Z"
   },
   {
    "duration": 7,
    "start_time": "2022-06-03T14:15:12.300Z"
   },
   {
    "duration": 8,
    "start_time": "2022-06-03T14:15:27.300Z"
   },
   {
    "duration": 14,
    "start_time": "2022-06-03T14:16:24.693Z"
   },
   {
    "duration": 8,
    "start_time": "2022-06-03T14:22:30.614Z"
   },
   {
    "duration": 9,
    "start_time": "2022-06-03T14:22:53.236Z"
   },
   {
    "duration": 30,
    "start_time": "2022-06-03T14:23:34.505Z"
   },
   {
    "duration": 5,
    "start_time": "2022-06-03T14:23:43.603Z"
   },
   {
    "duration": 6,
    "start_time": "2022-06-03T14:23:47.264Z"
   },
   {
    "duration": 4,
    "start_time": "2022-06-03T14:23:47.561Z"
   },
   {
    "duration": 8,
    "start_time": "2022-06-03T14:23:51.656Z"
   },
   {
    "duration": 1178,
    "start_time": "2022-06-03T14:48:42.850Z"
   },
   {
    "duration": 53,
    "start_time": "2022-06-03T14:48:44.030Z"
   },
   {
    "duration": 22,
    "start_time": "2022-06-03T14:48:44.085Z"
   },
   {
    "duration": 17,
    "start_time": "2022-06-03T14:48:44.109Z"
   },
   {
    "duration": 12,
    "start_time": "2022-06-03T14:48:47.574Z"
   },
   {
    "duration": 118,
    "start_time": "2022-06-03T14:48:55.572Z"
   },
   {
    "duration": 3,
    "start_time": "2022-06-03T14:49:05.111Z"
   },
   {
    "duration": 11,
    "start_time": "2022-06-03T14:49:08.719Z"
   },
   {
    "duration": 5,
    "start_time": "2022-06-03T14:50:43.854Z"
   },
   {
    "duration": 20,
    "start_time": "2022-06-03T14:50:44.575Z"
   },
   {
    "duration": 3,
    "start_time": "2022-06-03T14:50:47.139Z"
   },
   {
    "duration": 10,
    "start_time": "2022-06-03T14:50:48.377Z"
   },
   {
    "duration": 8,
    "start_time": "2022-06-03T14:50:48.877Z"
   },
   {
    "duration": 19,
    "start_time": "2022-06-03T14:50:51.919Z"
   },
   {
    "duration": 4,
    "start_time": "2022-06-03T14:50:53.950Z"
   },
   {
    "duration": 6,
    "start_time": "2022-06-03T14:50:54.410Z"
   },
   {
    "duration": 6,
    "start_time": "2022-06-03T14:51:06.858Z"
   },
   {
    "duration": 4,
    "start_time": "2022-06-03T14:51:07.440Z"
   },
   {
    "duration": 8,
    "start_time": "2022-06-03T14:51:11.091Z"
   },
   {
    "duration": 7,
    "start_time": "2022-06-03T14:51:11.501Z"
   },
   {
    "duration": 15,
    "start_time": "2022-06-03T14:51:12.240Z"
   },
   {
    "duration": 4,
    "start_time": "2022-06-03T14:51:12.624Z"
   },
   {
    "duration": 8,
    "start_time": "2022-06-03T14:51:14.378Z"
   },
   {
    "duration": 9,
    "start_time": "2022-06-03T14:51:15.506Z"
   },
   {
    "duration": 24,
    "start_time": "2022-06-03T14:51:16.375Z"
   },
   {
    "duration": 5,
    "start_time": "2022-06-03T14:51:17.207Z"
   },
   {
    "duration": 6,
    "start_time": "2022-06-03T14:51:17.757Z"
   },
   {
    "duration": 4,
    "start_time": "2022-06-03T14:51:18.019Z"
   },
   {
    "duration": 8,
    "start_time": "2022-06-03T14:51:19.096Z"
   },
   {
    "duration": 5,
    "start_time": "2022-06-03T15:22:22.542Z"
   },
   {
    "duration": 15,
    "start_time": "2022-06-03T15:23:37.737Z"
   },
   {
    "duration": 6,
    "start_time": "2022-06-03T15:45:27.613Z"
   },
   {
    "duration": 12,
    "start_time": "2022-06-03T15:45:32.569Z"
   },
   {
    "duration": 6,
    "start_time": "2022-06-03T15:46:47.515Z"
   },
   {
    "duration": 7,
    "start_time": "2022-06-03T15:47:35.985Z"
   },
   {
    "duration": 9,
    "start_time": "2022-06-03T15:57:04.279Z"
   },
   {
    "duration": 7,
    "start_time": "2022-06-03T15:57:10.678Z"
   },
   {
    "duration": 8,
    "start_time": "2022-06-03T15:57:13.641Z"
   },
   {
    "duration": 220,
    "start_time": "2022-06-03T15:57:45.478Z"
   },
   {
    "duration": 6,
    "start_time": "2022-06-03T15:58:51.581Z"
   },
   {
    "duration": 14,
    "start_time": "2022-06-03T15:58:53.670Z"
   },
   {
    "duration": 3,
    "start_time": "2022-06-03T15:59:22.995Z"
   },
   {
    "duration": 677,
    "start_time": "2022-06-03T16:00:03.644Z"
   },
   {
    "duration": 520,
    "start_time": "2022-06-03T16:07:40.170Z"
   },
   {
    "duration": 4,
    "start_time": "2022-06-03T16:08:02.379Z"
   },
   {
    "duration": 38,
    "start_time": "2022-06-03T16:09:43.847Z"
   },
   {
    "duration": 9,
    "start_time": "2022-06-03T16:30:08.524Z"
   },
   {
    "duration": 14,
    "start_time": "2022-06-03T16:30:14.778Z"
   },
   {
    "duration": 7,
    "start_time": "2022-06-03T16:30:21.016Z"
   },
   {
    "duration": 23,
    "start_time": "2022-06-03T16:30:34.335Z"
   },
   {
    "duration": 2299,
    "start_time": "2022-06-03T16:33:23.139Z"
   },
   {
    "duration": 21,
    "start_time": "2022-06-03T16:34:33.074Z"
   },
   {
    "duration": 21,
    "start_time": "2022-06-03T16:34:45.200Z"
   },
   {
    "duration": 19,
    "start_time": "2022-06-03T16:35:33.801Z"
   },
   {
    "duration": 22,
    "start_time": "2022-06-03T16:35:47.602Z"
   },
   {
    "duration": 22,
    "start_time": "2022-06-03T16:35:55.831Z"
   },
   {
    "duration": 14,
    "start_time": "2022-06-03T16:36:06.080Z"
   },
   {
    "duration": 33,
    "start_time": "2022-06-03T16:40:34.314Z"
   },
   {
    "duration": 16,
    "start_time": "2022-06-03T16:41:12.092Z"
   },
   {
    "duration": 5,
    "start_time": "2022-06-03T16:42:45.636Z"
   },
   {
    "duration": 318,
    "start_time": "2022-06-03T16:43:32.275Z"
   },
   {
    "duration": 9,
    "start_time": "2022-06-03T16:46:33.628Z"
   },
   {
    "duration": 9,
    "start_time": "2022-06-03T16:46:34.078Z"
   },
   {
    "duration": 3,
    "start_time": "2022-06-03T16:46:37.200Z"
   },
   {
    "duration": 818,
    "start_time": "2022-06-03T16:46:37.979Z"
   },
   {
    "duration": 11,
    "start_time": "2022-06-03T16:48:42.402Z"
   },
   {
    "duration": 7,
    "start_time": "2022-06-03T16:49:20.299Z"
   },
   {
    "duration": 14,
    "start_time": "2022-06-03T16:49:23.854Z"
   },
   {
    "duration": 8,
    "start_time": "2022-06-03T16:49:51.021Z"
   },
   {
    "duration": 12,
    "start_time": "2022-06-03T16:49:53.028Z"
   },
   {
    "duration": 6,
    "start_time": "2022-06-03T16:49:58.798Z"
   },
   {
    "duration": 12,
    "start_time": "2022-06-03T16:50:00.708Z"
   },
   {
    "duration": 8,
    "start_time": "2022-06-03T16:50:06.045Z"
   },
   {
    "duration": 93,
    "start_time": "2022-06-03T16:50:23.278Z"
   },
   {
    "duration": 10,
    "start_time": "2022-06-03T16:50:39.458Z"
   },
   {
    "duration": 11,
    "start_time": "2022-06-03T16:50:42.068Z"
   },
   {
    "duration": 8,
    "start_time": "2022-06-03T16:50:43.905Z"
   },
   {
    "duration": 46,
    "start_time": "2022-06-03T16:51:25.525Z"
   },
   {
    "duration": 122,
    "start_time": "2022-06-03T16:51:26.746Z"
   },
   {
    "duration": 8,
    "start_time": "2022-06-03T16:51:55.382Z"
   },
   {
    "duration": 89,
    "start_time": "2022-06-03T16:52:07.390Z"
   },
   {
    "duration": 44,
    "start_time": "2022-06-03T16:52:14.883Z"
   },
   {
    "duration": 5,
    "start_time": "2022-06-03T16:53:55.813Z"
   },
   {
    "duration": 6,
    "start_time": "2022-06-03T16:54:00.478Z"
   },
   {
    "duration": 5,
    "start_time": "2022-06-03T16:54:02.410Z"
   },
   {
    "duration": 5,
    "start_time": "2022-06-03T16:54:03.204Z"
   },
   {
    "duration": 431,
    "start_time": "2022-06-03T16:54:05.877Z"
   },
   {
    "duration": 11,
    "start_time": "2022-06-03T16:55:16.184Z"
   },
   {
    "duration": 7,
    "start_time": "2022-06-03T16:55:16.381Z"
   },
   {
    "duration": 328,
    "start_time": "2022-06-03T16:55:16.680Z"
   },
   {
    "duration": 12,
    "start_time": "2022-06-03T16:56:24.503Z"
   },
   {
    "duration": 6,
    "start_time": "2022-06-03T16:56:25.876Z"
   },
   {
    "duration": 357,
    "start_time": "2022-06-03T16:56:28.943Z"
   },
   {
    "duration": 8,
    "start_time": "2022-06-03T16:56:55.130Z"
   },
   {
    "duration": 10,
    "start_time": "2022-06-03T16:56:59.016Z"
   },
   {
    "duration": 8,
    "start_time": "2022-06-03T16:57:18.435Z"
   },
   {
    "duration": 45,
    "start_time": "2022-06-03T16:57:22.726Z"
   },
   {
    "duration": 10,
    "start_time": "2022-06-03T16:57:50.029Z"
   },
   {
    "duration": 59,
    "start_time": "2022-06-03T16:57:51.815Z"
   },
   {
    "duration": 3,
    "start_time": "2022-06-03T17:28:20.103Z"
   },
   {
    "duration": 13,
    "start_time": "2022-06-03T17:28:31.046Z"
   },
   {
    "duration": 134,
    "start_time": "2022-06-03T17:28:32.101Z"
   },
   {
    "duration": 6,
    "start_time": "2022-06-03T17:29:04.112Z"
   },
   {
    "duration": 30,
    "start_time": "2022-06-03T17:30:29.521Z"
   },
   {
    "duration": 17,
    "start_time": "2022-06-03T17:33:27.958Z"
   },
   {
    "duration": 1326,
    "start_time": "2022-06-04T07:49:52.717Z"
   },
   {
    "duration": 115,
    "start_time": "2022-06-04T07:49:54.046Z"
   },
   {
    "duration": 28,
    "start_time": "2022-06-04T07:49:54.163Z"
   },
   {
    "duration": 13,
    "start_time": "2022-06-04T07:49:54.193Z"
   },
   {
    "duration": 8,
    "start_time": "2022-06-04T07:49:54.207Z"
   },
   {
    "duration": 7,
    "start_time": "2022-06-04T07:49:54.216Z"
   },
   {
    "duration": 28,
    "start_time": "2022-06-04T07:49:54.225Z"
   },
   {
    "duration": 18,
    "start_time": "2022-06-04T07:49:54.255Z"
   },
   {
    "duration": 3,
    "start_time": "2022-06-04T07:49:54.275Z"
   },
   {
    "duration": 3,
    "start_time": "2022-06-04T07:50:13.931Z"
   },
   {
    "duration": 55,
    "start_time": "2022-06-04T07:50:13.937Z"
   },
   {
    "duration": 14,
    "start_time": "2022-06-04T07:50:13.994Z"
   },
   {
    "duration": 13,
    "start_time": "2022-06-04T07:50:14.010Z"
   },
   {
    "duration": 7,
    "start_time": "2022-06-04T07:50:14.025Z"
   },
   {
    "duration": 5,
    "start_time": "2022-06-04T07:50:14.034Z"
   },
   {
    "duration": 8,
    "start_time": "2022-06-04T07:50:14.040Z"
   },
   {
    "duration": 15,
    "start_time": "2022-06-04T07:50:14.050Z"
   },
   {
    "duration": 25,
    "start_time": "2022-06-04T07:50:14.066Z"
   },
   {
    "duration": 9,
    "start_time": "2022-06-04T07:50:28.448Z"
   },
   {
    "duration": 21,
    "start_time": "2022-06-04T07:50:59.245Z"
   },
   {
    "duration": 3,
    "start_time": "2022-06-04T08:07:49.392Z"
   },
   {
    "duration": 56,
    "start_time": "2022-06-04T08:07:49.397Z"
   },
   {
    "duration": 15,
    "start_time": "2022-06-04T08:07:49.456Z"
   },
   {
    "duration": 15,
    "start_time": "2022-06-04T08:07:49.472Z"
   },
   {
    "duration": 8,
    "start_time": "2022-06-04T08:07:49.488Z"
   },
   {
    "duration": 30,
    "start_time": "2022-06-04T08:07:49.497Z"
   },
   {
    "duration": 4,
    "start_time": "2022-06-04T08:07:49.529Z"
   },
   {
    "duration": 20,
    "start_time": "2022-06-04T08:07:49.534Z"
   },
   {
    "duration": 18,
    "start_time": "2022-06-04T08:07:49.555Z"
   },
   {
    "duration": 3,
    "start_time": "2022-06-04T08:07:49.575Z"
   },
   {
    "duration": 123,
    "start_time": "2022-06-04T08:07:49.580Z"
   },
   {
    "duration": 7,
    "start_time": "2022-06-04T08:07:49.705Z"
   },
   {
    "duration": 30,
    "start_time": "2022-06-04T08:07:49.714Z"
   },
   {
    "duration": 19,
    "start_time": "2022-06-04T08:07:49.746Z"
   },
   {
    "duration": 9,
    "start_time": "2022-06-04T08:07:49.767Z"
   },
   {
    "duration": 8,
    "start_time": "2022-06-04T08:07:49.778Z"
   },
   {
    "duration": 6,
    "start_time": "2022-06-04T08:07:49.788Z"
   },
   {
    "duration": 12,
    "start_time": "2022-06-04T08:07:49.796Z"
   },
   {
    "duration": 15,
    "start_time": "2022-06-04T08:07:49.810Z"
   },
   {
    "duration": 22,
    "start_time": "2022-06-04T08:07:49.828Z"
   },
   {
    "duration": 4,
    "start_time": "2022-06-04T08:07:49.853Z"
   },
   {
    "duration": 13,
    "start_time": "2022-06-04T08:07:49.859Z"
   },
   {
    "duration": 11,
    "start_time": "2022-06-04T08:07:49.874Z"
   },
   {
    "duration": 17,
    "start_time": "2022-06-04T08:07:49.887Z"
   },
   {
    "duration": 45,
    "start_time": "2022-06-04T08:07:49.906Z"
   },
   {
    "duration": 6,
    "start_time": "2022-06-04T08:07:49.953Z"
   },
   {
    "duration": 7,
    "start_time": "2022-06-04T08:07:49.961Z"
   },
   {
    "duration": 12,
    "start_time": "2022-06-04T08:07:49.970Z"
   },
   {
    "duration": 14,
    "start_time": "2022-06-04T08:07:49.985Z"
   },
   {
    "duration": 18,
    "start_time": "2022-06-04T08:07:50.001Z"
   },
   {
    "duration": 22,
    "start_time": "2022-06-04T08:07:50.021Z"
   },
   {
    "duration": 7,
    "start_time": "2022-06-04T08:07:50.044Z"
   },
   {
    "duration": 20,
    "start_time": "2022-06-04T08:07:50.053Z"
   },
   {
    "duration": 12,
    "start_time": "2022-06-04T08:07:50.075Z"
   },
   {
    "duration": 16,
    "start_time": "2022-06-04T08:07:50.088Z"
   },
   {
    "duration": 201,
    "start_time": "2022-06-04T08:07:50.106Z"
   },
   {
    "duration": 6,
    "start_time": "2022-06-04T08:07:50.309Z"
   },
   {
    "duration": 22,
    "start_time": "2022-06-04T08:07:50.316Z"
   },
   {
    "duration": 5,
    "start_time": "2022-06-04T08:07:50.340Z"
   },
   {
    "duration": 729,
    "start_time": "2022-06-04T08:07:50.346Z"
   },
   {
    "duration": 5,
    "start_time": "2022-06-04T08:07:51.077Z"
   },
   {
    "duration": 49,
    "start_time": "2022-06-04T08:07:51.083Z"
   },
   {
    "duration": 12,
    "start_time": "2022-06-04T08:07:51.134Z"
   },
   {
    "duration": 283,
    "start_time": "2022-06-04T08:07:51.147Z"
   },
   {
    "duration": 8,
    "start_time": "2022-06-04T08:07:51.431Z"
   },
   {
    "duration": 7,
    "start_time": "2022-06-04T08:07:51.441Z"
   },
   {
    "duration": 7,
    "start_time": "2022-06-04T08:07:51.449Z"
   },
   {
    "duration": 707,
    "start_time": "2022-06-04T08:07:51.457Z"
   },
   {
    "duration": 4,
    "start_time": "2022-06-04T08:11:28.320Z"
   },
   {
    "duration": 54,
    "start_time": "2022-06-04T08:11:28.326Z"
   },
   {
    "duration": 14,
    "start_time": "2022-06-04T08:11:28.382Z"
   },
   {
    "duration": 20,
    "start_time": "2022-06-04T08:11:28.399Z"
   },
   {
    "duration": 10,
    "start_time": "2022-06-04T08:11:28.421Z"
   },
   {
    "duration": 5,
    "start_time": "2022-06-04T08:11:28.432Z"
   },
   {
    "duration": 9,
    "start_time": "2022-06-04T08:11:28.438Z"
   },
   {
    "duration": 17,
    "start_time": "2022-06-04T08:11:28.449Z"
   },
   {
    "duration": 20,
    "start_time": "2022-06-04T08:11:28.467Z"
   },
   {
    "duration": 3,
    "start_time": "2022-06-04T08:11:28.488Z"
   },
   {
    "duration": 11,
    "start_time": "2022-06-04T08:11:28.493Z"
   },
   {
    "duration": 22,
    "start_time": "2022-06-04T08:11:28.506Z"
   },
   {
    "duration": 7,
    "start_time": "2022-06-04T08:11:28.531Z"
   },
   {
    "duration": 6,
    "start_time": "2022-06-04T08:11:28.539Z"
   },
   {
    "duration": 9,
    "start_time": "2022-06-04T08:11:28.546Z"
   },
   {
    "duration": 9,
    "start_time": "2022-06-04T08:11:28.556Z"
   },
   {
    "duration": 4,
    "start_time": "2022-06-04T08:11:28.566Z"
   },
   {
    "duration": 11,
    "start_time": "2022-06-04T08:11:28.572Z"
   },
   {
    "duration": 43,
    "start_time": "2022-06-04T08:11:28.585Z"
   },
   {
    "duration": 12,
    "start_time": "2022-06-04T08:11:28.630Z"
   },
   {
    "duration": 5,
    "start_time": "2022-06-04T08:11:28.644Z"
   },
   {
    "duration": 16,
    "start_time": "2022-06-04T08:11:28.650Z"
   },
   {
    "duration": 2,
    "start_time": "2022-06-04T08:15:03.263Z"
   },
   {
    "duration": 71,
    "start_time": "2022-06-04T08:15:03.268Z"
   },
   {
    "duration": 16,
    "start_time": "2022-06-04T08:15:03.340Z"
   },
   {
    "duration": 14,
    "start_time": "2022-06-04T08:15:03.358Z"
   },
   {
    "duration": 8,
    "start_time": "2022-06-04T08:15:03.374Z"
   },
   {
    "duration": 8,
    "start_time": "2022-06-04T08:15:03.383Z"
   },
   {
    "duration": 8,
    "start_time": "2022-06-04T08:15:03.392Z"
   },
   {
    "duration": 15,
    "start_time": "2022-06-04T08:15:03.426Z"
   },
   {
    "duration": 21,
    "start_time": "2022-06-04T08:15:03.443Z"
   },
   {
    "duration": 2,
    "start_time": "2022-06-04T08:15:03.466Z"
   },
   {
    "duration": 18,
    "start_time": "2022-06-04T08:15:03.471Z"
   },
   {
    "duration": 17,
    "start_time": "2022-06-04T08:15:03.491Z"
   },
   {
    "duration": 18,
    "start_time": "2022-06-04T08:15:03.510Z"
   },
   {
    "duration": 15,
    "start_time": "2022-06-04T08:15:03.530Z"
   },
   {
    "duration": 13,
    "start_time": "2022-06-04T08:15:03.547Z"
   },
   {
    "duration": 12,
    "start_time": "2022-06-04T08:15:03.562Z"
   },
   {
    "duration": 5,
    "start_time": "2022-06-04T08:15:03.576Z"
   },
   {
    "duration": 13,
    "start_time": "2022-06-04T08:15:03.583Z"
   },
   {
    "duration": 14,
    "start_time": "2022-06-04T08:15:03.599Z"
   },
   {
    "duration": 15,
    "start_time": "2022-06-04T08:15:03.629Z"
   },
   {
    "duration": 5,
    "start_time": "2022-06-04T08:15:03.646Z"
   },
   {
    "duration": 14,
    "start_time": "2022-06-04T08:15:03.653Z"
   },
   {
    "duration": 5,
    "start_time": "2022-06-04T08:15:03.668Z"
   },
   {
    "duration": 11,
    "start_time": "2022-06-04T08:15:03.675Z"
   },
   {
    "duration": 12,
    "start_time": "2022-06-04T08:15:03.688Z"
   },
   {
    "duration": 45,
    "start_time": "2022-06-04T08:15:03.701Z"
   },
   {
    "duration": 5,
    "start_time": "2022-06-04T08:15:03.748Z"
   },
   {
    "duration": 12,
    "start_time": "2022-06-04T08:15:03.754Z"
   },
   {
    "duration": 7,
    "start_time": "2022-06-04T08:15:03.769Z"
   },
   {
    "duration": 10,
    "start_time": "2022-06-04T08:15:03.777Z"
   },
   {
    "duration": 15,
    "start_time": "2022-06-04T08:15:03.788Z"
   },
   {
    "duration": 22,
    "start_time": "2022-06-04T08:15:03.805Z"
   },
   {
    "duration": 7,
    "start_time": "2022-06-04T08:15:03.829Z"
   },
   {
    "duration": 23,
    "start_time": "2022-06-04T08:15:03.837Z"
   },
   {
    "duration": 11,
    "start_time": "2022-06-04T08:15:03.862Z"
   },
   {
    "duration": 15,
    "start_time": "2022-06-04T08:15:03.875Z"
   },
   {
    "duration": 208,
    "start_time": "2022-06-04T08:15:03.892Z"
   },
   {
    "duration": 6,
    "start_time": "2022-06-04T08:15:04.102Z"
   },
   {
    "duration": 18,
    "start_time": "2022-06-04T08:15:04.110Z"
   },
   {
    "duration": 7,
    "start_time": "2022-06-04T08:15:04.129Z"
   },
   {
    "duration": 497,
    "start_time": "2022-06-04T08:15:04.137Z"
   },
   {
    "duration": 5,
    "start_time": "2022-06-04T08:15:04.635Z"
   },
   {
    "duration": 39,
    "start_time": "2022-06-04T08:15:04.641Z"
   },
   {
    "duration": 12,
    "start_time": "2022-06-04T08:15:04.682Z"
   },
   {
    "duration": 315,
    "start_time": "2022-06-04T08:15:04.696Z"
   },
   {
    "duration": 15,
    "start_time": "2022-06-04T08:15:05.012Z"
   },
   {
    "duration": 8,
    "start_time": "2022-06-04T08:15:05.028Z"
   },
   {
    "duration": 11,
    "start_time": "2022-06-04T08:15:05.038Z"
   },
   {
    "duration": 786,
    "start_time": "2022-06-04T08:15:05.051Z"
   },
   {
    "duration": 417,
    "start_time": "2022-06-04T08:15:05.838Z"
   },
   {
    "duration": 6,
    "start_time": "2022-06-04T08:15:06.257Z"
   },
   {
    "duration": 14,
    "start_time": "2022-06-04T08:15:06.264Z"
   },
   {
    "duration": 29,
    "start_time": "2022-06-04T08:15:06.280Z"
   },
   {
    "duration": 23,
    "start_time": "2022-06-04T08:15:06.311Z"
   },
   {
    "duration": 1352,
    "start_time": "2022-06-04T15:26:00.590Z"
   },
   {
    "duration": 186,
    "start_time": "2022-06-04T15:26:04.502Z"
   },
   {
    "duration": 24,
    "start_time": "2022-06-04T15:26:05.498Z"
   },
   {
    "duration": 16,
    "start_time": "2022-06-04T15:26:07.186Z"
   },
   {
    "duration": 9,
    "start_time": "2022-06-04T15:26:08.906Z"
   },
   {
    "duration": 3,
    "start_time": "2022-06-04T15:26:13.494Z"
   },
   {
    "duration": 5,
    "start_time": "2022-06-04T15:26:16.330Z"
   },
   {
    "duration": 19,
    "start_time": "2022-06-04T15:26:57.682Z"
   },
   {
    "duration": 22,
    "start_time": "2022-06-04T15:34:52.095Z"
   },
   {
    "duration": 8,
    "start_time": "2022-06-04T15:34:52.743Z"
   },
   {
    "duration": 7,
    "start_time": "2022-06-04T15:34:57.646Z"
   },
   {
    "duration": 4,
    "start_time": "2022-06-04T15:36:12.382Z"
   },
   {
    "duration": 5,
    "start_time": "2022-06-04T15:36:12.582Z"
   },
   {
    "duration": 7,
    "start_time": "2022-06-04T15:36:15.387Z"
   },
   {
    "duration": 5,
    "start_time": "2022-06-04T15:36:17.975Z"
   },
   {
    "duration": 7,
    "start_time": "2022-06-04T15:36:50.382Z"
   },
   {
    "duration": 8,
    "start_time": "2022-06-04T15:36:51.511Z"
   },
   {
    "duration": 15,
    "start_time": "2022-06-04T15:37:19.337Z"
   },
   {
    "duration": 4,
    "start_time": "2022-06-04T15:37:20.240Z"
   },
   {
    "duration": 13,
    "start_time": "2022-06-04T15:37:42.699Z"
   },
   {
    "duration": 6,
    "start_time": "2022-06-04T15:39:23.115Z"
   },
   {
    "duration": 8,
    "start_time": "2022-06-04T15:39:24.942Z"
   },
   {
    "duration": 12,
    "start_time": "2022-06-04T15:39:33.887Z"
   },
   {
    "duration": 23,
    "start_time": "2022-06-04T15:39:34.299Z"
   },
   {
    "duration": 5,
    "start_time": "2022-06-04T15:39:37.887Z"
   },
   {
    "duration": 6,
    "start_time": "2022-06-04T15:39:38.313Z"
   },
   {
    "duration": 5,
    "start_time": "2022-06-04T15:39:38.599Z"
   },
   {
    "duration": 6,
    "start_time": "2022-06-04T15:39:42.679Z"
   },
   {
    "duration": 7,
    "start_time": "2022-06-04T15:39:51.671Z"
   },
   {
    "duration": 5,
    "start_time": "2022-06-04T15:39:53.019Z"
   },
   {
    "duration": 14,
    "start_time": "2022-06-04T15:40:17.817Z"
   },
   {
    "duration": 6,
    "start_time": "2022-06-04T15:40:44.811Z"
   },
   {
    "duration": 16,
    "start_time": "2022-06-04T15:40:47.794Z"
   },
   {
    "duration": 6,
    "start_time": "2022-06-04T15:40:52.204Z"
   },
   {
    "duration": 9,
    "start_time": "2022-06-04T15:40:54.475Z"
   },
   {
    "duration": 231,
    "start_time": "2022-06-04T15:40:55.175Z"
   },
   {
    "duration": 7,
    "start_time": "2022-06-04T15:40:56.811Z"
   },
   {
    "duration": 10,
    "start_time": "2022-06-04T15:40:57.070Z"
   },
   {
    "duration": 3,
    "start_time": "2022-06-04T15:40:57.723Z"
   },
   {
    "duration": 775,
    "start_time": "2022-06-04T15:40:58.316Z"
   },
   {
    "duration": 4,
    "start_time": "2022-06-04T15:41:00.791Z"
   },
   {
    "duration": 38,
    "start_time": "2022-06-04T15:41:07.541Z"
   },
   {
    "duration": 13,
    "start_time": "2022-06-04T15:41:08.827Z"
   },
   {
    "duration": 339,
    "start_time": "2022-06-04T15:41:10.883Z"
   },
   {
    "duration": 11,
    "start_time": "2022-06-04T15:41:13.606Z"
   },
   {
    "duration": 8,
    "start_time": "2022-06-04T15:41:13.998Z"
   },
   {
    "duration": 3,
    "start_time": "2022-06-04T15:41:14.883Z"
   },
   {
    "duration": 774,
    "start_time": "2022-06-04T15:41:16.090Z"
   },
   {
    "duration": 376,
    "start_time": "2022-06-04T15:41:18.895Z"
   },
   {
    "duration": 5,
    "start_time": "2022-06-04T15:41:22.306Z"
   },
   {
    "duration": 7,
    "start_time": "2022-06-04T15:41:27.115Z"
   },
   {
    "duration": 12,
    "start_time": "2022-06-04T15:41:33.343Z"
   },
   {
    "duration": 10,
    "start_time": "2022-06-04T15:41:38.904Z"
   },
   {
    "duration": 133,
    "start_time": "2022-06-04T15:41:40.921Z"
   },
   {
    "duration": 1049,
    "start_time": "2022-06-04T15:42:51.675Z"
   },
   {
    "duration": 53,
    "start_time": "2022-06-04T15:42:52.726Z"
   },
   {
    "duration": 21,
    "start_time": "2022-06-04T15:42:52.923Z"
   },
   {
    "duration": 14,
    "start_time": "2022-06-04T15:42:54.215Z"
   },
   {
    "duration": 9,
    "start_time": "2022-06-04T15:42:55.050Z"
   },
   {
    "duration": 3,
    "start_time": "2022-06-04T15:42:56.138Z"
   },
   {
    "duration": 5,
    "start_time": "2022-06-04T15:42:57.031Z"
   },
   {
    "duration": 18,
    "start_time": "2022-06-04T15:42:57.641Z"
   },
   {
    "duration": 23,
    "start_time": "2022-06-04T15:42:58.638Z"
   },
   {
    "duration": 3,
    "start_time": "2022-06-04T15:42:59.027Z"
   },
   {
    "duration": 10,
    "start_time": "2022-06-04T15:43:00.096Z"
   },
   {
    "duration": 7,
    "start_time": "2022-06-04T15:43:00.710Z"
   },
   {
    "duration": 6,
    "start_time": "2022-06-04T15:43:01.371Z"
   },
   {
    "duration": 4,
    "start_time": "2022-06-04T15:43:01.575Z"
   },
   {
    "duration": 5,
    "start_time": "2022-06-04T15:43:02.075Z"
   },
   {
    "duration": 7,
    "start_time": "2022-06-04T15:43:02.309Z"
   },
   {
    "duration": 4,
    "start_time": "2022-06-04T15:43:02.387Z"
   },
   {
    "duration": 7,
    "start_time": "2022-06-04T15:43:02.729Z"
   },
   {
    "duration": 6,
    "start_time": "2022-06-04T15:43:02.875Z"
   },
   {
    "duration": 14,
    "start_time": "2022-06-04T15:43:03.007Z"
   },
   {
    "duration": 4,
    "start_time": "2022-06-04T15:43:03.075Z"
   },
   {
    "duration": 6,
    "start_time": "2022-06-04T15:43:04.522Z"
   },
   {
    "duration": 10,
    "start_time": "2022-06-04T15:43:05.578Z"
   },
   {
    "duration": 8,
    "start_time": "2022-06-04T15:43:05.975Z"
   },
   {
    "duration": 25,
    "start_time": "2022-06-04T15:43:06.333Z"
   },
   {
    "duration": 5,
    "start_time": "2022-06-04T15:43:06.941Z"
   },
   {
    "duration": 5,
    "start_time": "2022-06-04T15:43:07.375Z"
   },
   {
    "duration": 5,
    "start_time": "2022-06-04T15:43:07.504Z"
   },
   {
    "duration": 6,
    "start_time": "2022-06-04T15:43:07.915Z"
   },
   {
    "duration": 7,
    "start_time": "2022-06-04T15:43:08.324Z"
   },
   {
    "duration": 4,
    "start_time": "2022-06-04T15:43:08.621Z"
   },
   {
    "duration": 5,
    "start_time": "2022-06-04T15:43:09.811Z"
   },
   {
    "duration": 15,
    "start_time": "2022-06-04T15:43:10.626Z"
   },
   {
    "duration": 6,
    "start_time": "2022-06-04T15:43:12.340Z"
   },
   {
    "duration": 8,
    "start_time": "2022-06-04T15:43:13.145Z"
   },
   {
    "duration": 223,
    "start_time": "2022-06-04T15:43:13.540Z"
   },
   {
    "duration": 8,
    "start_time": "2022-06-04T15:43:14.340Z"
   },
   {
    "duration": 13,
    "start_time": "2022-06-04T15:43:14.537Z"
   },
   {
    "duration": 4,
    "start_time": "2022-06-04T15:43:14.902Z"
   },
   {
    "duration": 787,
    "start_time": "2022-06-04T15:43:15.303Z"
   },
   {
    "duration": 4,
    "start_time": "2022-06-04T15:43:16.103Z"
   },
   {
    "duration": 34,
    "start_time": "2022-06-04T15:43:23.275Z"
   },
   {
    "duration": 14,
    "start_time": "2022-06-04T15:43:23.882Z"
   },
   {
    "duration": 337,
    "start_time": "2022-06-04T15:43:24.230Z"
   },
   {
    "duration": 11,
    "start_time": "2022-06-04T15:43:24.786Z"
   },
   {
    "duration": 11,
    "start_time": "2022-06-04T15:43:24.979Z"
   },
   {
    "duration": 3,
    "start_time": "2022-06-04T15:44:00.679Z"
   },
   {
    "duration": 837,
    "start_time": "2022-06-04T15:44:00.979Z"
   },
   {
    "duration": 5,
    "start_time": "2022-06-04T15:44:11.979Z"
   },
   {
    "duration": 6,
    "start_time": "2022-06-04T15:44:12.132Z"
   },
   {
    "duration": 12,
    "start_time": "2022-06-04T15:44:15.641Z"
   },
   {
    "duration": 7,
    "start_time": "2022-06-04T15:44:16.996Z"
   },
   {
    "duration": 15,
    "start_time": "2022-06-04T15:44:30.403Z"
   },
   {
    "duration": 5,
    "start_time": "2022-06-04T15:46:03.723Z"
   },
   {
    "duration": 3,
    "start_time": "2022-06-04T15:46:28.782Z"
   },
   {
    "duration": 16,
    "start_time": "2022-06-04T15:46:31.720Z"
   },
   {
    "duration": 4,
    "start_time": "2022-06-04T15:47:09.991Z"
   },
   {
    "duration": 4,
    "start_time": "2022-06-04T15:47:20.629Z"
   },
   {
    "duration": 15,
    "start_time": "2022-06-04T15:47:24.618Z"
   },
   {
    "duration": 1110,
    "start_time": "2022-06-04T15:47:38.324Z"
   },
   {
    "duration": 55,
    "start_time": "2022-06-04T15:47:39.436Z"
   },
   {
    "duration": 23,
    "start_time": "2022-06-04T15:47:39.493Z"
   },
   {
    "duration": 17,
    "start_time": "2022-06-04T15:47:39.521Z"
   },
   {
    "duration": 8,
    "start_time": "2022-06-04T15:47:40.201Z"
   },
   {
    "duration": 4,
    "start_time": "2022-06-04T15:47:41.206Z"
   },
   {
    "duration": 5,
    "start_time": "2022-06-04T15:47:42.097Z"
   },
   {
    "duration": 23,
    "start_time": "2022-06-04T15:47:42.618Z"
   },
   {
    "duration": 35,
    "start_time": "2022-06-04T15:47:43.522Z"
   },
   {
    "duration": 2,
    "start_time": "2022-06-04T15:47:43.879Z"
   },
   {
    "duration": 10,
    "start_time": "2022-06-04T15:47:44.404Z"
   },
   {
    "duration": 10,
    "start_time": "2022-06-04T15:47:44.744Z"
   },
   {
    "duration": 7,
    "start_time": "2022-06-04T15:47:45.105Z"
   },
   {
    "duration": 4,
    "start_time": "2022-06-04T15:47:45.299Z"
   },
   {
    "duration": 8,
    "start_time": "2022-06-04T15:47:45.542Z"
   },
   {
    "duration": 6,
    "start_time": "2022-06-04T15:47:46.192Z"
   },
   {
    "duration": 4,
    "start_time": "2022-06-04T15:47:46.379Z"
   },
   {
    "duration": 7,
    "start_time": "2022-06-04T15:47:47.471Z"
   },
   {
    "duration": 7,
    "start_time": "2022-06-04T15:47:47.808Z"
   },
   {
    "duration": 20,
    "start_time": "2022-06-04T15:47:48.175Z"
   },
   {
    "duration": 4,
    "start_time": "2022-06-04T15:47:48.302Z"
   },
   {
    "duration": 7,
    "start_time": "2022-06-04T15:47:49.314Z"
   },
   {
    "duration": 8,
    "start_time": "2022-06-04T15:47:49.724Z"
   },
   {
    "duration": 9,
    "start_time": "2022-06-04T15:47:50.130Z"
   },
   {
    "duration": 24,
    "start_time": "2022-06-04T15:47:50.687Z"
   },
   {
    "duration": 5,
    "start_time": "2022-06-04T15:47:51.179Z"
   },
   {
    "duration": 6,
    "start_time": "2022-06-04T15:47:51.529Z"
   },
   {
    "duration": 5,
    "start_time": "2022-06-04T15:47:51.710Z"
   },
   {
    "duration": 7,
    "start_time": "2022-06-04T15:47:52.087Z"
   },
   {
    "duration": 10,
    "start_time": "2022-06-04T15:47:52.475Z"
   },
   {
    "duration": 7,
    "start_time": "2022-06-04T15:47:52.833Z"
   },
   {
    "duration": 6,
    "start_time": "2022-06-04T15:47:54.297Z"
   },
   {
    "duration": 20,
    "start_time": "2022-06-04T15:47:56.203Z"
   },
   {
    "duration": 6,
    "start_time": "2022-06-04T15:48:02.635Z"
   },
   {
    "duration": 3,
    "start_time": "2022-06-04T15:48:17.824Z"
   },
   {
    "duration": 15,
    "start_time": "2022-06-04T15:48:22.187Z"
   },
   {
    "duration": 6,
    "start_time": "2022-06-04T15:49:56.994Z"
   },
   {
    "duration": 1182,
    "start_time": "2022-06-04T15:51:06.389Z"
   },
   {
    "duration": 62,
    "start_time": "2022-06-04T15:51:07.574Z"
   },
   {
    "duration": 22,
    "start_time": "2022-06-04T15:51:07.641Z"
   },
   {
    "duration": 15,
    "start_time": "2022-06-04T15:51:07.685Z"
   },
   {
    "duration": 9,
    "start_time": "2022-06-04T15:51:07.910Z"
   },
   {
    "duration": 3,
    "start_time": "2022-06-04T15:51:08.287Z"
   },
   {
    "duration": 5,
    "start_time": "2022-06-04T15:51:08.993Z"
   },
   {
    "duration": 18,
    "start_time": "2022-06-04T15:51:09.490Z"
   },
   {
    "duration": 23,
    "start_time": "2022-06-04T15:51:10.286Z"
   },
   {
    "duration": 2,
    "start_time": "2022-06-04T15:51:13.175Z"
   },
   {
    "duration": 9,
    "start_time": "2022-06-04T15:51:21.190Z"
   },
   {
    "duration": 10,
    "start_time": "2022-06-04T15:51:21.538Z"
   },
   {
    "duration": 8,
    "start_time": "2022-06-04T15:51:21.822Z"
   },
   {
    "duration": 4,
    "start_time": "2022-06-04T15:51:22.001Z"
   },
   {
    "duration": 5,
    "start_time": "2022-06-04T15:51:22.183Z"
   },
   {
    "duration": 8,
    "start_time": "2022-06-04T15:51:22.813Z"
   },
   {
    "duration": 5,
    "start_time": "2022-06-04T15:51:22.980Z"
   },
   {
    "duration": 19,
    "start_time": "2022-06-04T15:51:31.718Z"
   },
   {
    "duration": 6,
    "start_time": "2022-06-04T15:51:44.775Z"
   },
   {
    "duration": 8,
    "start_time": "2022-06-04T15:51:45.478Z"
   },
   {
    "duration": 5,
    "start_time": "2022-06-04T15:51:45.671Z"
   },
   {
    "duration": 8,
    "start_time": "2022-06-04T15:51:46.710Z"
   },
   {
    "duration": 8,
    "start_time": "2022-06-04T15:51:47.079Z"
   },
   {
    "duration": 23,
    "start_time": "2022-06-04T15:51:47.423Z"
   },
   {
    "duration": 5,
    "start_time": "2022-06-04T15:51:47.620Z"
   },
   {
    "duration": 8,
    "start_time": "2022-06-04T15:51:48.722Z"
   },
   {
    "duration": 7,
    "start_time": "2022-06-04T15:51:48.918Z"
   },
   {
    "duration": 12,
    "start_time": "2022-06-04T15:51:49.502Z"
   },
   {
    "duration": 10,
    "start_time": "2022-06-04T15:51:49.818Z"
   },
   {
    "duration": 30,
    "start_time": "2022-06-04T15:51:50.218Z"
   },
   {
    "duration": 7,
    "start_time": "2022-06-04T15:51:50.704Z"
   },
   {
    "duration": 5,
    "start_time": "2022-06-04T15:51:50.942Z"
   },
   {
    "duration": 5,
    "start_time": "2022-06-04T15:51:51.122Z"
   },
   {
    "duration": 11,
    "start_time": "2022-06-04T15:51:51.820Z"
   },
   {
    "duration": 10,
    "start_time": "2022-06-04T15:51:52.306Z"
   },
   {
    "duration": 5,
    "start_time": "2022-06-04T15:51:52.643Z"
   },
   {
    "duration": 7,
    "start_time": "2022-06-04T15:51:53.704Z"
   },
   {
    "duration": 18,
    "start_time": "2022-06-04T15:51:54.384Z"
   },
   {
    "duration": 7,
    "start_time": "2022-06-04T15:51:56.586Z"
   },
   {
    "duration": 15,
    "start_time": "2022-06-04T15:52:03.083Z"
   },
   {
    "duration": 5,
    "start_time": "2022-06-04T15:53:14.505Z"
   },
   {
    "duration": 20,
    "start_time": "2022-06-04T15:53:54.396Z"
   },
   {
    "duration": 8,
    "start_time": "2022-06-04T15:54:03.430Z"
   },
   {
    "duration": 8,
    "start_time": "2022-06-04T15:54:04.241Z"
   },
   {
    "duration": 230,
    "start_time": "2022-06-04T15:54:06.795Z"
   },
   {
    "duration": 7,
    "start_time": "2022-06-04T15:54:10.502Z"
   },
   {
    "duration": 9,
    "start_time": "2022-06-04T15:54:10.711Z"
   },
   {
    "duration": 4,
    "start_time": "2022-06-04T15:54:13.595Z"
   },
   {
    "duration": 746,
    "start_time": "2022-06-04T15:54:18.000Z"
   },
   {
    "duration": 4,
    "start_time": "2022-06-04T15:54:30.116Z"
   },
   {
    "duration": 40,
    "start_time": "2022-06-04T15:54:33.599Z"
   },
   {
    "duration": 15,
    "start_time": "2022-06-04T15:54:36.691Z"
   },
   {
    "duration": 323,
    "start_time": "2022-06-04T15:54:36.926Z"
   },
   {
    "duration": 9,
    "start_time": "2022-06-04T15:54:40.915Z"
   },
   {
    "duration": 8,
    "start_time": "2022-06-04T15:54:56.032Z"
   },
   {
    "duration": 3,
    "start_time": "2022-06-04T15:54:56.395Z"
   },
   {
    "duration": 813,
    "start_time": "2022-06-04T15:54:56.720Z"
   },
   {
    "duration": 381,
    "start_time": "2022-06-04T15:55:08.502Z"
   },
   {
    "duration": 6,
    "start_time": "2022-06-04T15:55:09.379Z"
   },
   {
    "duration": 8,
    "start_time": "2022-06-04T15:55:09.975Z"
   },
   {
    "duration": 15,
    "start_time": "2022-06-04T15:55:11.895Z"
   },
   {
    "duration": 11,
    "start_time": "2022-06-04T15:55:31.379Z"
   },
   {
    "duration": 178,
    "start_time": "2022-06-04T15:56:05.331Z"
   },
   {
    "duration": 185,
    "start_time": "2022-06-04T15:56:07.291Z"
   },
   {
    "duration": 49,
    "start_time": "2022-06-04T15:56:14.411Z"
   },
   {
    "duration": 110,
    "start_time": "2022-06-04T15:56:15.327Z"
   },
   {
    "duration": 9,
    "start_time": "2022-06-04T15:56:16.833Z"
   },
   {
    "duration": 569,
    "start_time": "2022-06-04T15:56:18.895Z"
   },
   {
    "duration": 462,
    "start_time": "2022-06-04T15:56:21.206Z"
   },
   {
    "duration": 5,
    "start_time": "2022-06-04T15:56:22.083Z"
   },
   {
    "duration": 6,
    "start_time": "2022-06-04T15:56:46.290Z"
   },
   {
    "duration": 8,
    "start_time": "2022-06-04T15:56:46.941Z"
   },
   {
    "duration": 7,
    "start_time": "2022-06-04T15:56:47.318Z"
   },
   {
    "duration": 499,
    "start_time": "2022-06-04T15:56:48.901Z"
   },
   {
    "duration": 8,
    "start_time": "2022-06-04T16:20:26.397Z"
   },
   {
    "duration": 7,
    "start_time": "2022-06-04T16:20:27.057Z"
   },
   {
    "duration": 535,
    "start_time": "2022-06-04T16:20:31.153Z"
   },
   {
    "duration": 6,
    "start_time": "2022-06-04T16:43:51.811Z"
   },
   {
    "duration": 5,
    "start_time": "2022-06-04T16:43:52.914Z"
   },
   {
    "duration": 488,
    "start_time": "2022-06-04T16:43:57.608Z"
   },
   {
    "duration": 6,
    "start_time": "2022-06-04T16:44:06.609Z"
   },
   {
    "duration": 6,
    "start_time": "2022-06-04T16:44:06.955Z"
   },
   {
    "duration": 465,
    "start_time": "2022-06-04T16:44:07.653Z"
   },
   {
    "duration": 4,
    "start_time": "2022-06-04T17:03:56.905Z"
   },
   {
    "duration": 11,
    "start_time": "2022-06-04T17:07:44.029Z"
   },
   {
    "duration": 8,
    "start_time": "2022-06-04T17:07:44.918Z"
   },
   {
    "duration": 430,
    "start_time": "2022-06-04T17:07:46.310Z"
   },
   {
    "duration": 11,
    "start_time": "2022-06-04T17:07:59.719Z"
   },
   {
    "duration": 6,
    "start_time": "2022-06-04T17:07:59.924Z"
   },
   {
    "duration": 367,
    "start_time": "2022-06-04T17:08:00.322Z"
   },
   {
    "duration": 8,
    "start_time": "2022-06-04T17:08:04.222Z"
   },
   {
    "duration": 10,
    "start_time": "2022-06-04T17:08:08.212Z"
   },
   {
    "duration": 10,
    "start_time": "2022-06-04T17:11:20.419Z"
   },
   {
    "duration": 12,
    "start_time": "2022-06-04T17:11:22.346Z"
   },
   {
    "duration": 344,
    "start_time": "2022-06-04T17:11:25.908Z"
   },
   {
    "duration": 374,
    "start_time": "2022-06-04T17:11:42.431Z"
   },
   {
    "duration": 350,
    "start_time": "2022-06-04T17:11:50.528Z"
   },
   {
    "duration": 11,
    "start_time": "2022-06-04T17:12:09.268Z"
   },
   {
    "duration": 7,
    "start_time": "2022-06-04T17:12:10.335Z"
   },
   {
    "duration": 352,
    "start_time": "2022-06-04T17:12:12.746Z"
   },
   {
    "duration": 472,
    "start_time": "2022-06-04T17:12:23.963Z"
   },
   {
    "duration": 10,
    "start_time": "2022-06-04T17:14:40.914Z"
   },
   {
    "duration": 6,
    "start_time": "2022-06-04T17:14:42.112Z"
   },
   {
    "duration": 378,
    "start_time": "2022-06-04T17:14:43.023Z"
   },
   {
    "duration": 10,
    "start_time": "2022-06-04T17:16:00.718Z"
   },
   {
    "duration": 6,
    "start_time": "2022-06-04T17:16:01.047Z"
   },
   {
    "duration": 382,
    "start_time": "2022-06-04T17:16:01.838Z"
   },
   {
    "duration": 10,
    "start_time": "2022-06-04T17:34:03.924Z"
   },
   {
    "duration": 11,
    "start_time": "2022-06-04T17:34:04.124Z"
   },
   {
    "duration": 9,
    "start_time": "2022-06-04T17:41:06.816Z"
   },
   {
    "duration": 5,
    "start_time": "2022-06-04T17:41:07.304Z"
   },
   {
    "duration": 12,
    "start_time": "2022-06-04T17:41:08.068Z"
   },
   {
    "duration": 6,
    "start_time": "2022-06-04T17:41:08.420Z"
   },
   {
    "duration": 1237,
    "start_time": "2022-06-05T13:58:57.087Z"
   },
   {
    "duration": 97,
    "start_time": "2022-06-05T13:58:58.326Z"
   },
   {
    "duration": 23,
    "start_time": "2022-06-05T13:58:58.424Z"
   },
   {
    "duration": 19,
    "start_time": "2022-06-05T13:58:58.449Z"
   },
   {
    "duration": 12,
    "start_time": "2022-06-05T13:58:58.973Z"
   },
   {
    "duration": 4,
    "start_time": "2022-06-05T13:59:00.111Z"
   },
   {
    "duration": 17,
    "start_time": "2022-06-05T13:59:01.195Z"
   },
   {
    "duration": 25,
    "start_time": "2022-06-05T13:59:02.135Z"
   },
   {
    "duration": 10,
    "start_time": "2022-06-05T13:59:28.084Z"
   },
   {
    "duration": 10,
    "start_time": "2022-06-05T13:59:28.096Z"
   },
   {
    "duration": 12,
    "start_time": "2022-06-05T13:59:28.107Z"
   },
   {
    "duration": 4,
    "start_time": "2022-06-05T13:59:28.121Z"
   },
   {
    "duration": 5,
    "start_time": "2022-06-05T13:59:28.126Z"
   },
   {
    "duration": 8,
    "start_time": "2022-06-05T13:59:28.133Z"
   },
   {
    "duration": 4,
    "start_time": "2022-06-05T13:59:28.143Z"
   },
   {
    "duration": 9,
    "start_time": "2022-06-05T13:59:28.148Z"
   },
   {
    "duration": 36,
    "start_time": "2022-06-05T13:59:28.159Z"
   },
   {
    "duration": 14,
    "start_time": "2022-06-05T13:59:29.096Z"
   },
   {
    "duration": 4,
    "start_time": "2022-06-05T13:59:29.484Z"
   },
   {
    "duration": 6,
    "start_time": "2022-06-05T13:59:32.124Z"
   },
   {
    "duration": 5,
    "start_time": "2022-06-05T13:59:32.871Z"
   },
   {
    "duration": 10,
    "start_time": "2022-06-05T13:59:33.900Z"
   },
   {
    "duration": 8,
    "start_time": "2022-06-05T13:59:35.146Z"
   },
   {
    "duration": 23,
    "start_time": "2022-06-05T13:59:36.116Z"
   },
   {
    "duration": 5,
    "start_time": "2022-06-05T13:59:55.533Z"
   },
   {
    "duration": 5,
    "start_time": "2022-06-05T13:59:59.491Z"
   },
   {
    "duration": 5,
    "start_time": "2022-06-05T14:00:00.152Z"
   },
   {
    "duration": 5,
    "start_time": "2022-06-05T14:00:03.566Z"
   },
   {
    "duration": 7,
    "start_time": "2022-06-05T14:00:04.289Z"
   },
   {
    "duration": 5,
    "start_time": "2022-06-05T14:00:04.868Z"
   },
   {
    "duration": 5,
    "start_time": "2022-06-05T14:00:25.090Z"
   },
   {
    "duration": 15,
    "start_time": "2022-06-05T14:00:26.493Z"
   },
   {
    "duration": 6,
    "start_time": "2022-06-05T14:00:29.470Z"
   },
   {
    "duration": 9,
    "start_time": "2022-06-05T14:00:48.170Z"
   },
   {
    "duration": 232,
    "start_time": "2022-06-05T14:00:56.443Z"
   },
   {
    "duration": 6,
    "start_time": "2022-06-05T14:01:30.509Z"
   },
   {
    "duration": 9,
    "start_time": "2022-06-05T14:01:31.046Z"
   },
   {
    "duration": 3,
    "start_time": "2022-06-05T14:01:33.082Z"
   },
   {
    "duration": 705,
    "start_time": "2022-06-05T14:01:39.752Z"
   },
   {
    "duration": 4,
    "start_time": "2022-06-05T14:01:41.248Z"
   },
   {
    "duration": 32,
    "start_time": "2022-06-05T14:12:07.449Z"
   },
   {
    "duration": 13,
    "start_time": "2022-06-05T14:12:07.877Z"
   },
   {
    "duration": 279,
    "start_time": "2022-06-05T14:12:08.251Z"
   },
   {
    "duration": 9,
    "start_time": "2022-06-05T14:12:08.800Z"
   },
   {
    "duration": 8,
    "start_time": "2022-06-05T14:12:09.016Z"
   },
   {
    "duration": 3,
    "start_time": "2022-06-05T14:12:10.578Z"
   },
   {
    "duration": 692,
    "start_time": "2022-06-05T14:12:11.476Z"
   },
   {
    "duration": 353,
    "start_time": "2022-06-05T14:12:12.545Z"
   },
   {
    "duration": 5,
    "start_time": "2022-06-05T14:12:18.490Z"
   },
   {
    "duration": 6,
    "start_time": "2022-06-05T14:12:18.704Z"
   },
   {
    "duration": 12,
    "start_time": "2022-06-05T14:12:36.909Z"
   },
   {
    "duration": 5,
    "start_time": "2022-06-05T14:27:45.219Z"
   },
   {
    "duration": 23,
    "start_time": "2022-06-05T14:28:17.395Z"
   },
   {
    "duration": 5,
    "start_time": "2022-06-05T14:36:46.942Z"
   },
   {
    "duration": 6,
    "start_time": "2022-06-05T14:36:54.732Z"
   },
   {
    "duration": 207,
    "start_time": "2022-06-05T14:36:58.291Z"
   },
   {
    "duration": 2,
    "start_time": "2022-06-05T14:39:11.891Z"
   },
   {
    "duration": 51,
    "start_time": "2022-06-05T14:39:12.561Z"
   },
   {
    "duration": 16,
    "start_time": "2022-06-05T14:39:13.540Z"
   },
   {
    "duration": 14,
    "start_time": "2022-06-05T14:39:14.189Z"
   },
   {
    "duration": 8,
    "start_time": "2022-06-05T14:39:15.699Z"
   },
   {
    "duration": 1056,
    "start_time": "2022-06-05T14:39:49.739Z"
   },
   {
    "duration": 52,
    "start_time": "2022-06-05T14:39:50.796Z"
   },
   {
    "duration": 20,
    "start_time": "2022-06-05T14:39:50.850Z"
   },
   {
    "duration": 14,
    "start_time": "2022-06-05T14:39:51.788Z"
   },
   {
    "duration": 8,
    "start_time": "2022-06-05T14:39:52.793Z"
   },
   {
    "duration": 3,
    "start_time": "2022-06-05T14:39:53.991Z"
   },
   {
    "duration": 17,
    "start_time": "2022-06-05T14:39:55.139Z"
   },
   {
    "duration": 22,
    "start_time": "2022-06-05T14:39:56.092Z"
   },
   {
    "duration": 2,
    "start_time": "2022-06-05T14:39:56.449Z"
   },
   {
    "duration": 9,
    "start_time": "2022-06-05T14:39:57.036Z"
   },
   {
    "duration": 6,
    "start_time": "2022-06-05T14:39:57.404Z"
   },
   {
    "duration": 7,
    "start_time": "2022-06-05T14:39:57.842Z"
   },
   {
    "duration": 5,
    "start_time": "2022-06-05T14:39:58.049Z"
   },
   {
    "duration": 5,
    "start_time": "2022-06-05T14:39:58.256Z"
   },
   {
    "duration": 7,
    "start_time": "2022-06-05T14:39:59.393Z"
   },
   {
    "duration": 4,
    "start_time": "2022-06-05T14:39:59.602Z"
   },
   {
    "duration": 7,
    "start_time": "2022-06-05T14:40:00.860Z"
   },
   {
    "duration": 8,
    "start_time": "2022-06-05T14:40:01.241Z"
   },
   {
    "duration": 13,
    "start_time": "2022-06-05T14:40:01.701Z"
   },
   {
    "duration": 4,
    "start_time": "2022-06-05T14:40:01.955Z"
   },
   {
    "duration": 6,
    "start_time": "2022-06-05T14:40:03.392Z"
   },
   {
    "duration": 5,
    "start_time": "2022-06-05T14:40:03.841Z"
   },
   {
    "duration": 9,
    "start_time": "2022-06-05T14:40:04.490Z"
   },
   {
    "duration": 10,
    "start_time": "2022-06-05T14:40:04.899Z"
   },
   {
    "duration": 22,
    "start_time": "2022-06-05T14:40:05.313Z"
   },
   {
    "duration": 6,
    "start_time": "2022-06-05T14:40:05.935Z"
   },
   {
    "duration": 5,
    "start_time": "2022-06-05T14:40:06.101Z"
   },
   {
    "duration": 5,
    "start_time": "2022-06-05T14:40:06.500Z"
   },
   {
    "duration": 6,
    "start_time": "2022-06-05T14:40:07.095Z"
   },
   {
    "duration": 7,
    "start_time": "2022-06-05T14:40:07.501Z"
   },
   {
    "duration": 6,
    "start_time": "2022-06-05T14:40:07.892Z"
   },
   {
    "duration": 5,
    "start_time": "2022-06-05T14:40:09.140Z"
   },
   {
    "duration": 16,
    "start_time": "2022-06-05T14:40:09.992Z"
   },
   {
    "duration": 6,
    "start_time": "2022-06-05T14:40:12.093Z"
   },
   {
    "duration": 9,
    "start_time": "2022-06-05T14:40:12.996Z"
   },
   {
    "duration": 206,
    "start_time": "2022-06-05T14:40:13.509Z"
   },
   {
    "duration": 6,
    "start_time": "2022-06-05T14:40:14.490Z"
   },
   {
    "duration": 9,
    "start_time": "2022-06-05T14:40:14.685Z"
   },
   {
    "duration": 3,
    "start_time": "2022-06-05T14:40:15.044Z"
   },
   {
    "duration": 729,
    "start_time": "2022-06-05T14:40:15.440Z"
   },
   {
    "duration": 4,
    "start_time": "2022-06-05T14:40:16.289Z"
   },
   {
    "duration": 35,
    "start_time": "2022-06-05T14:40:17.518Z"
   },
   {
    "duration": 15,
    "start_time": "2022-06-05T14:40:17.984Z"
   },
   {
    "duration": 285,
    "start_time": "2022-06-05T14:40:18.342Z"
   },
   {
    "duration": 9,
    "start_time": "2022-06-05T14:40:18.935Z"
   },
   {
    "duration": 8,
    "start_time": "2022-06-05T14:40:19.140Z"
   },
   {
    "duration": 3,
    "start_time": "2022-06-05T14:40:19.541Z"
   },
   {
    "duration": 687,
    "start_time": "2022-06-05T14:40:19.912Z"
   },
   {
    "duration": 358,
    "start_time": "2022-06-05T14:40:20.688Z"
   },
   {
    "duration": 4,
    "start_time": "2022-06-05T14:40:21.492Z"
   },
   {
    "duration": 5,
    "start_time": "2022-06-05T14:40:21.860Z"
   },
   {
    "duration": 6,
    "start_time": "2022-06-05T14:40:22.290Z"
   },
   {
    "duration": 13,
    "start_time": "2022-06-05T14:40:23.295Z"
   },
   {
    "duration": 9,
    "start_time": "2022-06-05T14:40:23.751Z"
   },
   {
    "duration": 165,
    "start_time": "2022-06-05T14:40:24.538Z"
   },
   {
    "duration": 172,
    "start_time": "2022-06-05T14:40:24.795Z"
   },
   {
    "duration": 39,
    "start_time": "2022-06-05T14:40:29.217Z"
   },
   {
    "duration": 132,
    "start_time": "2022-06-05T14:40:29.588Z"
   },
   {
    "duration": 8,
    "start_time": "2022-06-05T14:40:29.793Z"
   },
   {
    "duration": 558,
    "start_time": "2022-06-05T14:40:30.196Z"
   },
   {
    "duration": 427,
    "start_time": "2022-06-05T14:40:33.103Z"
   },
   {
    "duration": 5,
    "start_time": "2022-06-05T14:40:37.786Z"
   },
   {
    "duration": 4,
    "start_time": "2022-06-05T14:40:38.337Z"
   },
   {
    "duration": 6,
    "start_time": "2022-06-05T14:40:38.786Z"
   },
   {
    "duration": 6,
    "start_time": "2022-06-05T14:40:39.358Z"
   },
   {
    "duration": 412,
    "start_time": "2022-06-05T14:40:39.733Z"
   },
   {
    "duration": 8,
    "start_time": "2022-06-05T14:40:41.435Z"
   },
   {
    "duration": 6,
    "start_time": "2022-06-05T14:40:41.842Z"
   },
   {
    "duration": 355,
    "start_time": "2022-06-05T14:40:42.241Z"
   },
   {
    "duration": 8,
    "start_time": "2022-06-05T14:40:43.353Z"
   },
   {
    "duration": 6,
    "start_time": "2022-06-05T14:40:43.737Z"
   },
   {
    "duration": 348,
    "start_time": "2022-06-05T14:40:44.113Z"
   },
   {
    "duration": 9,
    "start_time": "2022-06-05T14:40:44.691Z"
   },
   {
    "duration": 9,
    "start_time": "2022-06-05T14:40:52.736Z"
   },
   {
    "duration": 7,
    "start_time": "2022-06-05T14:40:54.844Z"
   },
   {
    "duration": 5,
    "start_time": "2022-06-05T14:40:55.362Z"
   },
   {
    "duration": 8,
    "start_time": "2022-06-05T14:40:55.907Z"
   },
   {
    "duration": 4,
    "start_time": "2022-06-05T14:40:56.254Z"
   },
   {
    "duration": 6,
    "start_time": "2022-06-05T14:41:42.844Z"
   },
   {
    "duration": 6,
    "start_time": "2022-06-05T14:41:51.493Z"
   },
   {
    "duration": 15,
    "start_time": "2022-06-05T14:42:08.548Z"
   },
   {
    "duration": 11,
    "start_time": "2022-06-05T14:42:39.384Z"
   },
   {
    "duration": 9,
    "start_time": "2022-06-05T14:42:56.547Z"
   },
   {
    "duration": 8,
    "start_time": "2022-06-05T14:43:07.915Z"
   },
   {
    "duration": 30,
    "start_time": "2022-06-05T14:43:45.789Z"
   },
   {
    "duration": 20,
    "start_time": "2022-06-05T14:43:46.487Z"
   },
   {
    "duration": 7,
    "start_time": "2022-06-05T14:43:46.780Z"
   },
   {
    "duration": 342,
    "start_time": "2022-06-05T14:43:47.626Z"
   },
   {
    "duration": 371,
    "start_time": "2022-06-05T14:44:14.914Z"
   },
   {
    "duration": 5,
    "start_time": "2022-06-05T14:44:55.413Z"
   },
   {
    "duration": 4,
    "start_time": "2022-06-05T14:44:56.003Z"
   },
   {
    "duration": 5,
    "start_time": "2022-06-05T14:44:59.199Z"
   },
   {
    "duration": 6,
    "start_time": "2022-06-05T14:45:02.190Z"
   },
   {
    "duration": 537,
    "start_time": "2022-06-05T14:45:05.158Z"
   },
   {
    "duration": 424,
    "start_time": "2022-06-05T14:46:14.794Z"
   },
   {
    "duration": 8,
    "start_time": "2022-06-05T14:52:48.314Z"
   },
   {
    "duration": 6,
    "start_time": "2022-06-05T14:52:49.511Z"
   },
   {
    "duration": 343,
    "start_time": "2022-06-05T14:52:50.146Z"
   },
   {
    "duration": 8,
    "start_time": "2022-06-05T14:52:59.306Z"
   },
   {
    "duration": 6,
    "start_time": "2022-06-05T14:52:59.660Z"
   },
   {
    "duration": 387,
    "start_time": "2022-06-05T14:52:59.995Z"
   },
   {
    "duration": 9,
    "start_time": "2022-06-05T14:53:00.501Z"
   },
   {
    "duration": 9,
    "start_time": "2022-06-05T14:53:08.013Z"
   },
   {
    "duration": 8,
    "start_time": "2022-06-05T14:53:09.619Z"
   },
   {
    "duration": 5,
    "start_time": "2022-06-05T14:53:11.207Z"
   },
   {
    "duration": 7,
    "start_time": "2022-06-05T14:53:42.964Z"
   },
   {
    "duration": 5,
    "start_time": "2022-06-05T14:53:43.294Z"
   }
  ],
  "kernelspec": {
   "display_name": "Python 3 (ipykernel)",
   "language": "python",
   "name": "python3"
  },
  "language_info": {
   "codemirror_mode": {
    "name": "ipython",
    "version": 3
   },
   "file_extension": ".py",
   "mimetype": "text/x-python",
   "name": "python",
   "nbconvert_exporter": "python",
   "pygments_lexer": "ipython3",
   "version": "3.9.12"
  },
  "toc": {
   "base_numbering": 1,
   "nav_menu": {},
   "number_sections": true,
   "sideBar": true,
   "skip_h1_title": true,
   "title_cell": "Table of Contents",
   "title_sidebar": "Contents",
   "toc_cell": false,
   "toc_position": {
    "height": "calc(100% - 180px)",
    "left": "10px",
    "top": "150px",
    "width": "511.188px"
   },
   "toc_section_display": true,
   "toc_window_display": false
  }
 },
 "nbformat": 4,
 "nbformat_minor": 2
}
