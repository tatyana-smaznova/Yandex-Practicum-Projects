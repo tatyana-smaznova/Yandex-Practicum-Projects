{
 "cells": [
  {
   "cell_type": "markdown",
   "metadata": {
    "toc": true
   },
   "source": [
    "<h1>Содержание<span class=\"tocSkip\"></span></h1>\n",
    "<div class=\"toc\"><ul class=\"toc-item\"><li><span><a href=\"#Загрузка-данных\" data-toc-modified-id=\"Загрузка-данных-1\"><span class=\"toc-item-num\">1&nbsp;&nbsp;</span>Загрузка данных</a></span></li><li><span><a href=\"#Умножение-матриц\" data-toc-modified-id=\"Умножение-матриц-2\"><span class=\"toc-item-num\">2&nbsp;&nbsp;</span>Умножение матриц</a></span></li><li><span><a href=\"#Алгоритм-преобразования\" data-toc-modified-id=\"Алгоритм-преобразования-3\"><span class=\"toc-item-num\">3&nbsp;&nbsp;</span>Алгоритм преобразования</a></span></li><li><span><a href=\"#Проверка-алгоритма\" data-toc-modified-id=\"Проверка-алгоритма-4\"><span class=\"toc-item-num\">4&nbsp;&nbsp;</span>Проверка алгоритма</a></span></li><li><span><a href=\"#Вывод\" data-toc-modified-id=\"Вывод-5\"><span class=\"toc-item-num\">5&nbsp;&nbsp;</span>Вывод</a></span></li><li><span><a href=\"#Чек-лист-проверки\" data-toc-modified-id=\"Чек-лист-проверки-6\"><span class=\"toc-item-num\">6&nbsp;&nbsp;</span>Чек-лист проверки</a></span></li></ul></div>"
   ]
  },
  {
   "cell_type": "markdown",
   "metadata": {},
   "source": [
    "# Защита персональных данных клиентов"
   ]
  },
  {
   "cell_type": "markdown",
   "metadata": {},
   "source": [
    "Вам нужно защитить данные клиентов страховой компании «Хоть потоп». Разработайте такой метод преобразования данных, чтобы по ним было сложно восстановить персональную информацию. Обоснуйте корректность его работы.\n",
    "\n",
    "Нужно защитить данные, чтобы при преобразовании качество моделей машинного обучения не ухудшилось. Подбирать наилучшую модель не требуется.\n",
    "\n",
    "Для разработки метода защиты персональных данных мы:\n",
    "1. Загрузим и изучим данные.\n",
    "2. Ответьтим на вопрос и обоснуем решение:\n",
    "- Признаки умножают на обратимую матрицу. Изменится ли качество линейной регрессии? (Её можно обучить заново.)\n",
    "    - a. Изменится. (В этом случае приведём примеры матриц.)\n",
    "    - b. Не изменится. (Укажем, как связаны параметры линейной регрессии в исходной задаче и в преобразованной.)\n",
    "3. Предложим алгоритм преобразования данных для решения задачи. Обоснуем, почему качество линейной регрессии не поменяется.\n",
    "4. Запрограммируем этот алгоритм, применив матричные операции. Проверим, что качество линейной регрессии из sklearn не отличается до и после преобразования, применим метрику R2."
   ]
  },
  {
   "cell_type": "markdown",
   "metadata": {},
   "source": [
    "## Загрузка данных"
   ]
  },
  {
   "cell_type": "markdown",
   "metadata": {},
   "source": [
    "Для начала импортируем необходимые для работы библиотеки."
   ]
  },
  {
   "cell_type": "code",
   "execution_count": 1,
   "metadata": {},
   "outputs": [],
   "source": [
    "import pandas as pd\n",
    "import numpy as np\n",
    "import matplotlib.pyplot as plt\n",
    "import seaborn as sns\n",
    "\n",
    "from sklearn.model_selection import train_test_split\n",
    "from sklearn.preprocessing import StandardScaler\n",
    "from sklearn.linear_model import LinearRegression\n",
    "from sklearn.metrics import r2_score"
   ]
  },
  {
   "cell_type": "markdown",
   "metadata": {},
   "source": [
    "Теперь прочтём файл и сохраним его в переменной df."
   ]
  },
  {
   "cell_type": "code",
   "execution_count": 2,
   "metadata": {},
   "outputs": [],
   "source": [
    "df = pd.read_csv('/datasets/insurance.csv')"
   ]
  },
  {
   "cell_type": "markdown",
   "metadata": {},
   "source": [
    "Выведем таблицу на экран."
   ]
  },
  {
   "cell_type": "code",
   "execution_count": 3,
   "metadata": {},
   "outputs": [
    {
     "data": {
      "text/html": [
       "<div>\n",
       "<style scoped>\n",
       "    .dataframe tbody tr th:only-of-type {\n",
       "        vertical-align: middle;\n",
       "    }\n",
       "\n",
       "    .dataframe tbody tr th {\n",
       "        vertical-align: top;\n",
       "    }\n",
       "\n",
       "    .dataframe thead th {\n",
       "        text-align: right;\n",
       "    }\n",
       "</style>\n",
       "<table border=\"1\" class=\"dataframe\">\n",
       "  <thead>\n",
       "    <tr style=\"text-align: right;\">\n",
       "      <th></th>\n",
       "      <th>Пол</th>\n",
       "      <th>Возраст</th>\n",
       "      <th>Зарплата</th>\n",
       "      <th>Члены семьи</th>\n",
       "      <th>Страховые выплаты</th>\n",
       "    </tr>\n",
       "  </thead>\n",
       "  <tbody>\n",
       "    <tr>\n",
       "      <th>0</th>\n",
       "      <td>1</td>\n",
       "      <td>41.0</td>\n",
       "      <td>49600.0</td>\n",
       "      <td>1</td>\n",
       "      <td>0</td>\n",
       "    </tr>\n",
       "    <tr>\n",
       "      <th>1</th>\n",
       "      <td>0</td>\n",
       "      <td>46.0</td>\n",
       "      <td>38000.0</td>\n",
       "      <td>1</td>\n",
       "      <td>1</td>\n",
       "    </tr>\n",
       "    <tr>\n",
       "      <th>2</th>\n",
       "      <td>0</td>\n",
       "      <td>29.0</td>\n",
       "      <td>21000.0</td>\n",
       "      <td>0</td>\n",
       "      <td>0</td>\n",
       "    </tr>\n",
       "    <tr>\n",
       "      <th>3</th>\n",
       "      <td>0</td>\n",
       "      <td>21.0</td>\n",
       "      <td>41700.0</td>\n",
       "      <td>2</td>\n",
       "      <td>0</td>\n",
       "    </tr>\n",
       "    <tr>\n",
       "      <th>4</th>\n",
       "      <td>1</td>\n",
       "      <td>28.0</td>\n",
       "      <td>26100.0</td>\n",
       "      <td>0</td>\n",
       "      <td>0</td>\n",
       "    </tr>\n",
       "    <tr>\n",
       "      <th>...</th>\n",
       "      <td>...</td>\n",
       "      <td>...</td>\n",
       "      <td>...</td>\n",
       "      <td>...</td>\n",
       "      <td>...</td>\n",
       "    </tr>\n",
       "    <tr>\n",
       "      <th>4995</th>\n",
       "      <td>0</td>\n",
       "      <td>28.0</td>\n",
       "      <td>35700.0</td>\n",
       "      <td>2</td>\n",
       "      <td>0</td>\n",
       "    </tr>\n",
       "    <tr>\n",
       "      <th>4996</th>\n",
       "      <td>0</td>\n",
       "      <td>34.0</td>\n",
       "      <td>52400.0</td>\n",
       "      <td>1</td>\n",
       "      <td>0</td>\n",
       "    </tr>\n",
       "    <tr>\n",
       "      <th>4997</th>\n",
       "      <td>0</td>\n",
       "      <td>20.0</td>\n",
       "      <td>33900.0</td>\n",
       "      <td>2</td>\n",
       "      <td>0</td>\n",
       "    </tr>\n",
       "    <tr>\n",
       "      <th>4998</th>\n",
       "      <td>1</td>\n",
       "      <td>22.0</td>\n",
       "      <td>32700.0</td>\n",
       "      <td>3</td>\n",
       "      <td>0</td>\n",
       "    </tr>\n",
       "    <tr>\n",
       "      <th>4999</th>\n",
       "      <td>1</td>\n",
       "      <td>28.0</td>\n",
       "      <td>40600.0</td>\n",
       "      <td>1</td>\n",
       "      <td>0</td>\n",
       "    </tr>\n",
       "  </tbody>\n",
       "</table>\n",
       "<p>5000 rows × 5 columns</p>\n",
       "</div>"
      ],
      "text/plain": [
       "      Пол  Возраст  Зарплата  Члены семьи  Страховые выплаты\n",
       "0       1     41.0   49600.0            1                  0\n",
       "1       0     46.0   38000.0            1                  1\n",
       "2       0     29.0   21000.0            0                  0\n",
       "3       0     21.0   41700.0            2                  0\n",
       "4       1     28.0   26100.0            0                  0\n",
       "...   ...      ...       ...          ...                ...\n",
       "4995    0     28.0   35700.0            2                  0\n",
       "4996    0     34.0   52400.0            1                  0\n",
       "4997    0     20.0   33900.0            2                  0\n",
       "4998    1     22.0   32700.0            3                  0\n",
       "4999    1     28.0   40600.0            1                  0\n",
       "\n",
       "[5000 rows x 5 columns]"
      ]
     },
     "metadata": {},
     "output_type": "display_data"
    }
   ],
   "source": [
    "display(df)"
   ]
  },
  {
   "cell_type": "markdown",
   "metadata": {},
   "source": [
    "По названиям столбцов мы понимаем какие данные в них хранятся. Пол обозначен 0 и 1, возраст клиента имеет тип данных с плавающей точкой, но убедимся в этом при следующем шаге. Также указана зарплата, количество членов семьи кроме клиента и количество страховых выплат за последние 5 лет."
   ]
  },
  {
   "cell_type": "code",
   "execution_count": 4,
   "metadata": {},
   "outputs": [
    {
     "name": "stdout",
     "output_type": "stream",
     "text": [
      "<class 'pandas.core.frame.DataFrame'>\n",
      "RangeIndex: 5000 entries, 0 to 4999\n",
      "Data columns (total 5 columns):\n",
      " #   Column             Non-Null Count  Dtype  \n",
      "---  ------             --------------  -----  \n",
      " 0   Пол                5000 non-null   int64  \n",
      " 1   Возраст            5000 non-null   float64\n",
      " 2   Зарплата           5000 non-null   float64\n",
      " 3   Члены семьи        5000 non-null   int64  \n",
      " 4   Страховые выплаты  5000 non-null   int64  \n",
      "dtypes: float64(2), int64(3)\n",
      "memory usage: 195.4 KB\n"
     ]
    }
   ],
   "source": [
    "df.info()"
   ]
  },
  {
   "cell_type": "markdown",
   "metadata": {},
   "source": [
    "Действительно, в столбцах Возраст и Зарплата тип данных с плавающей точкой, их нужно будет изменить на целочисленный. В столбцах одинаковое количество данных, оно совпадает с количеством строк, значит, пропуски отсутствуют. Проверим есть ли дубликаты."
   ]
  },
  {
   "cell_type": "code",
   "execution_count": 5,
   "metadata": {},
   "outputs": [
    {
     "data": {
      "text/plain": [
       "153"
      ]
     },
     "execution_count": 5,
     "metadata": {},
     "output_type": "execute_result"
    }
   ],
   "source": [
    "df.duplicated().sum()"
   ]
  },
  {
   "cell_type": "markdown",
   "metadata": {},
   "source": [
    "В таблице есть дубликаты, их нужно удалить."
   ]
  },
  {
   "cell_type": "code",
   "execution_count": 6,
   "metadata": {},
   "outputs": [],
   "source": [
    "df = df.drop_duplicates()"
   ]
  },
  {
   "cell_type": "markdown",
   "metadata": {},
   "source": [
    "Все дубликаты удалены."
   ]
  },
  {
   "cell_type": "markdown",
   "metadata": {},
   "source": [
    "Изменим тип данных"
   ]
  },
  {
   "cell_type": "code",
   "execution_count": 7,
   "metadata": {},
   "outputs": [],
   "source": [
    "df['Возраст'] = df['Возраст'].astype('int')\n",
    "df['Зарплата'] = df['Зарплата'].astype('int')"
   ]
  },
  {
   "cell_type": "markdown",
   "metadata": {},
   "source": [
    "Данные подготовлены, представим их для наглядности на графиках."
   ]
  },
  {
   "cell_type": "code",
   "execution_count": 8,
   "metadata": {},
   "outputs": [
    {
     "data": {
      "text/plain": [
       "Text(0.5, 1.0, 'Распределение по гендеру')"
      ]
     },
     "execution_count": 8,
     "metadata": {},
     "output_type": "execute_result"
    },
    {
     "data": {
      "image/png": "[encoded data removed]",
      "text/plain": [
       "<Figure size 864x360 with 1 Axes>"
      ]
     },
     "metadata": {
      "needs_background": "light"
     },
     "output_type": "display_data"
    }
   ],
   "source": [
    "fig, ax = plt.subplots(figsize=(12, 5))\n",
    "sns.countplot(x= 'Пол', data=df, palette='coolwarm')\n",
    "plt.ylabel(f'Количево клиентов')\n",
    "plt.title(f'Распределение по гендеру')"
   ]
  },
  {
   "cell_type": "markdown",
   "metadata": {},
   "source": [
    "На графике заметно, что клиентов с гендером 0 чуть больше, чем клиентов с гендером 1."
   ]
  },
  {
   "cell_type": "code",
   "execution_count": 9,
   "metadata": {},
   "outputs": [
    {
     "data": {
      "text/plain": [
       "Text(0.5, 1.0, 'Распределение по количеству членов семьи')"
      ]
     },
     "execution_count": 9,
     "metadata": {},
     "output_type": "execute_result"
    },
    {
     "data": {
      "image/png": "[encoded data removed]",
      "text/plain": [
       "<Figure size 864x360 with 1 Axes>"
      ]
     },
     "metadata": {
      "needs_background": "light"
     },
     "output_type": "display_data"
    }
   ],
   "source": [
    "fig, ax = plt.subplots(figsize=(12, 5))\n",
    "sns.countplot(x= 'Члены семьи', data=df, palette='coolwarm')\n",
    "plt.ylabel(f'Количево клиентов')\n",
    "plt.xlabel(f'Количество членов семьи')\n",
    "plt.title(f'Распределение по количеству членов семьи')"
   ]
  },
  {
   "cell_type": "markdown",
   "metadata": {},
   "source": [
    "Самое распространённое количество членов семьи кроме клиента - один, за ним расположено ни одного члена семьи, далее - два, потом количество человек от трёх до шести идёт на убывание."
   ]
  },
  {
   "cell_type": "code",
   "execution_count": 10,
   "metadata": {},
   "outputs": [
    {
     "data": {
      "text/plain": [
       "Text(0.5, 1.0, 'Распределение по количеству страховых выплат')"
      ]
     },
     "execution_count": 10,
     "metadata": {},
     "output_type": "execute_result"
    },
    {
     "data": {
      "image/png": "[encoded data removed]",
      "text/plain": [
       "<Figure size 864x360 with 1 Axes>"
      ]
     },
     "metadata": {
      "needs_background": "light"
     },
     "output_type": "display_data"
    }
   ],
   "source": [
    "fig, ax = plt.subplots(figsize=(12, 5))\n",
    "sns.countplot(x= 'Страховые выплаты', data=df, palette='coolwarm')\n",
    "plt.ylabel(f'Количево клиентов')\n",
    "plt.xlabel(f'Количество выплат за пять лет')\n",
    "plt.title(f'Распределение по количеству страховых выплат')"
   ]
  },
  {
   "cell_type": "markdown",
   "metadata": {},
   "source": [
    "Чаще всего страховой случай не наступает, соответственно, выплата не происходит."
   ]
  },
  {
   "cell_type": "code",
   "execution_count": 11,
   "metadata": {},
   "outputs": [
    {
     "name": "stderr",
     "output_type": "stream",
     "text": [
      "/opt/conda/lib/python3.9/site-packages/seaborn/distributions.py:2557: FutureWarning: `distplot` is a deprecated function and will be removed in a future version. Please adapt your code to use either `displot` (a figure-level function with similar flexibility) or `histplot` (an axes-level function for histograms).\n",
      "  warnings.warn(msg, FutureWarning)\n"
     ]
    },
    {
     "data": {
      "image/png": "[encoded data removed]",
      "text/plain": [
       "<Figure size 864x360 with 1 Axes>"
      ]
     },
     "metadata": {},
     "output_type": "display_data"
    }
   ],
   "source": [
    "sns.set()\n",
    "fig, ax = plt.subplots(figsize=(12, 5))\n",
    "sns.distplot(df['Возраст'], bins=len(df['Возраст'].unique()))\n",
    "ax.set_title('Распределение по возрасту')\n",
    "plt.ylabel('Плотность частоты');"
   ]
  },
  {
   "cell_type": "markdown",
   "metadata": {},
   "source": [
    "Возраст большинства клиентов - 19 лет."
   ]
  },
  {
   "cell_type": "code",
   "execution_count": 12,
   "metadata": {},
   "outputs": [
    {
     "name": "stderr",
     "output_type": "stream",
     "text": [
      "/opt/conda/lib/python3.9/site-packages/seaborn/distributions.py:2557: FutureWarning: `distplot` is a deprecated function and will be removed in a future version. Please adapt your code to use either `displot` (a figure-level function with similar flexibility) or `histplot` (an axes-level function for histograms).\n",
      "  warnings.warn(msg, FutureWarning)\n"
     ]
    },
    {
     "data": {
      "image/png": "[encoded data removed]",
      "text/plain": [
       "<Figure size 864x360 with 1 Axes>"
      ]
     },
     "metadata": {},
     "output_type": "display_data"
    }
   ],
   "source": [
    "fig, ax = plt.subplots(figsize=(12, 5))\n",
    "sns.distplot(df['Зарплата'])\n",
    "ax.set_title('Распределение по зарплате')\n",
    "plt.ylabel('Плотность частоты');"
   ]
  },
  {
   "cell_type": "markdown",
   "metadata": {},
   "source": [
    "Средний уровень зарплаты находится в районе 40.000."
   ]
  },
  {
   "cell_type": "markdown",
   "metadata": {},
   "source": [
    "Итак, в ходе предобработки данных мы прочли файл и сохранили его в переменной, нашли и удалили дубликаты, а также построили графики. Можем переходить к следующим этапам проекта."
   ]
  },
  {
   "cell_type": "markdown",
   "metadata": {},
   "source": [
    "## Умножение матриц"
   ]
  },
  {
   "cell_type": "markdown",
   "metadata": {},
   "source": [
    "В этом задании вы можете записывать формулы в *Jupyter Notebook.*\n",
    "\n",
    "Чтобы записать формулу внутри текста, окружите её символами доллара \\\\$; если снаружи —  двойными символами \\\\$\\\\$. Эти формулы записываются на языке вёрстки *LaTeX.* \n",
    "\n",
    "Для примера мы записали формулы линейной регрессии. Можете их скопировать и отредактировать, чтобы решить задачу.\n",
    "\n",
    "Работать в *LaTeX* необязательно."
   ]
  },
  {
   "cell_type": "markdown",
   "metadata": {},
   "source": [
    "Обозначения:\n",
    "\n",
    "- $X$ — матрица признаков (нулевой столбец состоит из единиц)\n",
    "\n",
    "- $y$ — вектор целевого признака\n",
    "\n",
    "- $P$ — матрица, на которую умножаются признаки\n",
    "\n",
    "- $w$ — вектор весов линейной регрессии (нулевой элемент равен сдвигу)"
   ]
  },
  {
   "cell_type": "markdown",
   "metadata": {},
   "source": [
    "Предсказания:\n",
    "\n",
    "$$\n",
    "a = Xw\n",
    "$$\n",
    "\n",
    "Задача обучения:\n",
    "\n",
    "$$\n",
    "w = \\arg\\min_w MSE(Xw, y)\n",
    "$$\n",
    "\n",
    "Формула обучения:\n",
    "\n",
    "$$\n",
    "w = (X^T X)^{-1} X^T y\n",
    "$$"
   ]
  },
  {
   "cell_type": "markdown",
   "metadata": {},
   "source": [
    "**Ответ:** Качество линейной регрессии не изменится, изменится лишь вектор весов линейной регрессии для новых признаков.\n",
    "\n",
    "**Обоснование:** Представим нашу новую матрицу признаков как результат умножения исходной матрицы признаков на некую обратимую матрицу:\n",
    "\n",
    "$$\n",
    "X_1 = XP\n",
    "$$\n",
    "\n",
    "Тогда наша формула обучения примет вид: $w_1 = (X^T_1 X_1)^−1 X^T_1 y$\n",
    "\n",
    "Подставив в нее значения $X_1$, получим: $w_1 = ((XP)^T XP)^{-1} (XP)^T y$\n",
    "\n",
    "Воспользуемся следующими свойствами матриц, а именно:\n",
    "\n",
    "$$\n",
    "(AB)C = A(BC)\n",
    "$$\n",
    "\n",
    "$$\n",
    "(AB)^{-1} = B^{-1}A^{-1}\n",
    "$$\n",
    "\n",
    "$$\n",
    "(AB)^T = B^TA^T\n",
    "$$\n",
    "\n",
    "\n",
    "$$\n",
    "(A^T)^{-1} = (A^{-1})^T\n",
    "$$\n",
    "\n",
    "$$\n",
    "(ABC)^{-1} =C^{-1} B^{-1} A^{-1}\n",
    "$$\n",
    "\n",
    "$$\n",
    "AA^{-1} = E\n",
    "$$\n",
    "\n",
    "$$\n",
    "AE=EA=A\n",
    "$$\n",
    "\n",
    "Тогда нашу формулу для расчета вектора весов можно переписать:\n",
    "\n",
    "$$\n",
    "w_1 = ((XP)^T XP)^{-1} (XP)^T y \n",
    "\n",
    "$$\n",
    "w_1 = (P^T (X^T X) P)^{-1} (XP)^T y \n",
    "$$\n",
    "    \n",
    "$$\n",
    "w_1 = (P^T (X^T X) P)^{-1} P^T X^T y \n",
    "$$\n",
    "\n",
    "$$\n",
    "w_1 = P^{-1} (X^T X)^{-1} (P^T)^{-1} P^T X^T y \n",
    "$$\n",
    "\n",
    "$$\n",
    "w_1 = P^{-1} (X^T X)^{-1} E X^T y \n",
    "$$\n",
    "\n",
    "$$\n",
    "w_1 = P^{-1}w\n",
    "$$\n",
    "\n",
    "Тоже самое, для формулы предсказаний: $a_1 = X_1w_1$, подставив получившиеся значения $X_1 = XP$ и $w_1 = P^{-1}w$, получим: \n",
    "$a_1 = XPP^{-1}w$ и $a_1 = Xw$\n",
    "\n",
    "Тем самым получаем, что наши предсказания не изменятся."
   ]
  },
  {
   "cell_type": "markdown",
   "metadata": {},
   "source": [
    "## Алгоритм преобразования"
   ]
  },
  {
   "cell_type": "markdown",
   "metadata": {},
   "source": [
    "**Алгоритм**\n",
    "\n",
    "Нам нужно:\n",
    "1. Сгенерировать обратимую матрицу, соответственно квадратную, размерностью соответствующую количеству столбцов признаков, а это 4х4.\n",
    "2. Умножить матрицу исходных признаков на сгенерированную матрицу.\n",
    "3. Посчитать качество модели на полученной матрице и сравнить с качеством модели на матрице исходных данных."
   ]
  },
  {
   "cell_type": "markdown",
   "metadata": {},
   "source": [
    "**Обоснование**\n",
    "\n",
    "Так как мы выяснили, что предсказания на измененной и изначальной матрице не изменятся, поэтому результаты метрики R2 должны быть равны. Таким образом, мы сможем доказать, что правильно произвели защиту данных."
   ]
  },
  {
   "cell_type": "markdown",
   "metadata": {},
   "source": [
    "## Проверка алгоритма"
   ]
  },
  {
   "cell_type": "markdown",
   "metadata": {},
   "source": [
    "Итак, сначла необходимо выделить признаки и целевой признак."
   ]
  },
  {
   "cell_type": "code",
   "execution_count": 16,
   "metadata": {},
   "outputs": [],
   "source": [
    "target = df.loc[:, 'Страховые выплаты']\n",
    "features = df.drop(['Страховые выплаты'], axis=1)"
   ]
  },
  {
   "cell_type": "markdown",
   "metadata": {},
   "source": [
    "Теперь сгенерируем матрицу размером 4х4 методом random.normal (), т.к. при таком подходе вероятность получить необратимую матрицу близка к нулю"
   ]
  },
  {
   "cell_type": "code",
   "execution_count": 17,
   "metadata": {},
   "outputs": [
    {
     "data": {
      "text/plain": [
       "array([[ 4.30718668, -1.21438651,  1.88029268,  1.72433453],\n",
       "       [ 2.66905135,  0.31828651, -0.91308061,  0.82611319],\n",
       "       [-1.0996424 , -0.22253194,  3.08990534, -0.07891161],\n",
       "       [ 0.90978229, -0.21847267,  0.69940396, -1.26103846]])"
      ]
     },
     "metadata": {},
     "output_type": "display_data"
    }
   ],
   "source": [
    "matrix_generated = np.random.normal(size=(4, 4))\n",
    "display (matrix_generated)"
   ]
  },
  {
   "cell_type": "markdown",
   "metadata": {},
   "source": [
    "Сделаем из сгенерированной матрицы обратную с помощью метода linalg.inv(), так как в процессе обращения мы одновременно проверим матрицу на обратимость, если появится ошибка, то сгенерированная матрица не является обратимой."
   ]
  },
  {
   "cell_type": "code",
   "execution_count": 18,
   "metadata": {},
   "outputs": [
    {
     "data": {
      "text/plain": [
       "array([[ 0.02861197,  0.26205186,  0.0124894 ,  0.21001386],\n",
       "       [-0.6145426 ,  1.31723757,  0.76899036, -0.02551227],\n",
       "       [-0.031273  ,  0.1898145 ,  0.38575283,  0.05744691],\n",
       "       [ 0.10976586,  0.06612546,  0.08973265, -0.60520024]])"
      ]
     },
     "metadata": {},
     "output_type": "display_data"
    }
   ],
   "source": [
    "matrix_invert = np.linalg.inv(matrix_generated)\n",
    "display (matrix_invert)"
   ]
  },
  {
   "cell_type": "markdown",
   "metadata": {},
   "source": [
    "Создадим матрицу из изначальных признаков, умножим ее на сгенерированную и обращенную матрицу, составим из полученной матрицы новый набор измененных признаков."
   ]
  },
  {
   "cell_type": "code",
   "execution_count": 19,
   "metadata": {},
   "outputs": [],
   "source": [
    "matrix = features.values\n",
    "matrix_new = matrix @ matrix_invert\n",
    "features_incode = pd.DataFrame (matrix_new, columns = features.columns)"
   ]
  },
  {
   "cell_type": "markdown",
   "metadata": {},
   "source": [
    "Выведем его на экран."
   ]
  },
  {
   "cell_type": "code",
   "execution_count": 20,
   "metadata": {},
   "outputs": [
    {
     "data": {
      "text/html": [
       "<div>\n",
       "<style scoped>\n",
       "    .dataframe tbody tr th:only-of-type {\n",
       "        vertical-align: middle;\n",
       "    }\n",
       "\n",
       "    .dataframe tbody tr th {\n",
       "        vertical-align: top;\n",
       "    }\n",
       "\n",
       "    .dataframe thead th {\n",
       "        text-align: right;\n",
       "    }\n",
       "</style>\n",
       "<table border=\"1\" class=\"dataframe\">\n",
       "  <thead>\n",
       "    <tr style=\"text-align: right;\">\n",
       "      <th></th>\n",
       "      <th>Пол</th>\n",
       "      <th>Возраст</th>\n",
       "      <th>Зарплата</th>\n",
       "      <th>Члены семьи</th>\n",
       "    </tr>\n",
       "  </thead>\n",
       "  <tbody>\n",
       "    <tr>\n",
       "      <th>0</th>\n",
       "      <td>-1576.198840</td>\n",
       "      <td>9469.134186</td>\n",
       "      <td>19164.971430</td>\n",
       "      <td>2847.925724</td>\n",
       "    </tr>\n",
       "    <tr>\n",
       "      <th>1</th>\n",
       "      <td>-1216.533325</td>\n",
       "      <td>7273.610106</td>\n",
       "      <td>14694.071010</td>\n",
       "      <td>2181.203951</td>\n",
       "    </tr>\n",
       "    <tr>\n",
       "      <th>2</th>\n",
       "      <td>-674.554808</td>\n",
       "      <td>4024.304418</td>\n",
       "      <td>8123.110250</td>\n",
       "      <td>1205.645329</td>\n",
       "    </tr>\n",
       "    <tr>\n",
       "      <th>3</th>\n",
       "      <td>-1316.770107</td>\n",
       "      <td>7943.058947</td>\n",
       "      <td>16102.221472</td>\n",
       "      <td>2393.790138</td>\n",
       "    </tr>\n",
       "    <tr>\n",
       "      <th>4</th>\n",
       "      <td>-833.403971</td>\n",
       "      <td>4991.303190</td>\n",
       "      <td>10089.693206</td>\n",
       "      <td>1498.860115</td>\n",
       "    </tr>\n",
       "    <tr>\n",
       "      <th>...</th>\n",
       "      <td>...</td>\n",
       "      <td>...</td>\n",
       "      <td>...</td>\n",
       "      <td>...</td>\n",
       "    </tr>\n",
       "    <tr>\n",
       "      <th>4842</th>\n",
       "      <td>-1133.433885</td>\n",
       "      <td>6813.392602</td>\n",
       "      <td>13793.087396</td>\n",
       "      <td>2048.930071</td>\n",
       "    </tr>\n",
       "    <tr>\n",
       "      <th>4843</th>\n",
       "      <td>-1659.490064</td>\n",
       "      <td>9991.132075</td>\n",
       "      <td>20239.683946</td>\n",
       "      <td>3008.745654</td>\n",
       "    </tr>\n",
       "    <tr>\n",
       "      <th>4844</th>\n",
       "      <td>-1072.226138</td>\n",
       "      <td>6461.188599</td>\n",
       "      <td>13092.580370</td>\n",
       "      <td>1945.729724</td>\n",
       "    </tr>\n",
       "    <tr>\n",
       "      <th>4845</th>\n",
       "      <td>-1035.789241</td>\n",
       "      <td>6236.373850</td>\n",
       "      <td>12631.317171</td>\n",
       "      <td>1876.347217</td>\n",
       "    </tr>\n",
       "    <tr>\n",
       "      <th>4846</th>\n",
       "      <td>-1286.752755</td>\n",
       "      <td>7743.679585</td>\n",
       "      <td>15683.199043</td>\n",
       "      <td>2331.235161</td>\n",
       "    </tr>\n",
       "  </tbody>\n",
       "</table>\n",
       "<p>4847 rows × 4 columns</p>\n",
       "</div>"
      ],
      "text/plain": [
       "              Пол      Возраст      Зарплата  Члены семьи\n",
       "0    -1576.198840  9469.134186  19164.971430  2847.925724\n",
       "1    -1216.533325  7273.610106  14694.071010  2181.203951\n",
       "2     -674.554808  4024.304418   8123.110250  1205.645329\n",
       "3    -1316.770107  7943.058947  16102.221472  2393.790138\n",
       "4     -833.403971  4991.303190  10089.693206  1498.860115\n",
       "...           ...          ...           ...          ...\n",
       "4842 -1133.433885  6813.392602  13793.087396  2048.930071\n",
       "4843 -1659.490064  9991.132075  20239.683946  3008.745654\n",
       "4844 -1072.226138  6461.188599  13092.580370  1945.729724\n",
       "4845 -1035.789241  6236.373850  12631.317171  1876.347217\n",
       "4846 -1286.752755  7743.679585  15683.199043  2331.235161\n",
       "\n",
       "[4847 rows x 4 columns]"
      ]
     },
     "metadata": {},
     "output_type": "display_data"
    }
   ],
   "source": [
    "display (features_incode)"
   ]
  },
  {
   "cell_type": "markdown",
   "metadata": {},
   "source": [
    "Создадим класс LinearRegression для обучения модели."
   ]
  },
  {
   "cell_type": "code",
   "execution_count": 21,
   "metadata": {},
   "outputs": [],
   "source": [
    "class LinearRegression:\n",
    "    def fit(self, train_features, train_target):\n",
    "        X = np.concatenate((np.ones((train_features.shape[0], 1)), train_features), axis=1)\n",
    "        y = train_target\n",
    "        w = np.linalg.inv(X.T@X)@X.T@y\n",
    "        self.w = w[1:]\n",
    "        self.w0 = w[0]\n",
    "\n",
    "    def predict(self, test_features):\n",
    "        return test_features.dot(self.w) + self.w0"
   ]
  },
  {
   "cell_type": "markdown",
   "metadata": {},
   "source": [
    "Обучим модель на изначальных признаках и выведем на экран метрику качества R2."
   ]
  },
  {
   "cell_type": "code",
   "execution_count": 22,
   "metadata": {},
   "outputs": [
    {
     "name": "stdout",
     "output_type": "stream",
     "text": [
      "0.4302010046633359\n"
     ]
    }
   ],
   "source": [
    "model = LinearRegression()\n",
    "model.fit(features, target)\n",
    "predictions = model.predict(features)\n",
    "print(r2_score(target, predictions))"
   ]
  },
  {
   "cell_type": "markdown",
   "metadata": {},
   "source": [
    "Обучим модель на закодированных признаках и выведем на экран метрику качества R2."
   ]
  },
  {
   "cell_type": "code",
   "execution_count": 23,
   "metadata": {},
   "outputs": [
    {
     "name": "stdout",
     "output_type": "stream",
     "text": [
      "0.4302010046633352\n"
     ]
    }
   ],
   "source": [
    "model = LinearRegression()\n",
    "model.fit(features_incode, target)\n",
    "predictions = model.predict(features_incode)\n",
    "print(r2_score(target, predictions))"
   ]
  },
  {
   "cell_type": "markdown",
   "metadata": {},
   "source": [
    "Мы видим, что метрики качества на изначальных и закодированных данных отличаются совсем незначительно, возможно, это связано с округлением."
   ]
  },
  {
   "cell_type": "markdown",
   "metadata": {},
   "source": [
    "## Вывод"
   ]
  },
  {
   "cell_type": "markdown",
   "metadata": {},
   "source": [
    "Итак, в ходе выполнения проекта мы:\n",
    "\n",
    "1. Загрузили и изучили данные, удалили дубликаты.\n",
    "2. Создали алгоритм преобразования данных.\n",
    "3. Исследовали алгоритм преобразования данных и проверили метрику R2 для данных без преобразования и преобразованных.\n",
    "\n",
    "Качество линейной регресии не изменилось от использования исходной матрицы и закодированной. Мы смогли зашифровать данные клиентов."
   ]
  }
 ],
 "metadata": {
  "ExecuteTimeLog": [
   {
    "duration": 995,
    "start_time": "2022-07-29T18:10:42.532Z"
   },
   {
    "duration": 72,
    "start_time": "2022-07-29T18:11:08.434Z"
   },
   {
    "duration": 18,
    "start_time": "2022-07-29T18:11:23.209Z"
   },
   {
    "duration": 10,
    "start_time": "2022-07-29T18:24:18.241Z"
   },
   {
    "duration": 6,
    "start_time": "2022-07-29T18:31:52.556Z"
   },
   {
    "duration": 2,
    "start_time": "2022-07-29T18:35:33.155Z"
   },
   {
    "duration": 81,
    "start_time": "2022-07-29T18:35:50.391Z"
   },
   {
    "duration": 8,
    "start_time": "2022-07-29T18:35:56.529Z"
   },
   {
    "duration": 961,
    "start_time": "2022-07-29T18:37:13.488Z"
   },
   {
    "duration": 28,
    "start_time": "2022-07-29T18:37:14.451Z"
   },
   {
    "duration": 19,
    "start_time": "2022-07-29T18:37:14.481Z"
   },
   {
    "duration": 12,
    "start_time": "2022-07-29T18:37:14.653Z"
   },
   {
    "duration": 5,
    "start_time": "2022-07-29T18:37:16.927Z"
   },
   {
    "duration": 5,
    "start_time": "2022-07-29T18:37:18.318Z"
   },
   {
    "duration": 7,
    "start_time": "2022-07-29T18:37:21.886Z"
   },
   {
    "duration": 400,
    "start_time": "2022-07-29T19:01:43.413Z"
   },
   {
    "duration": 90,
    "start_time": "2022-07-29T19:09:13.415Z"
   },
   {
    "duration": 129,
    "start_time": "2022-07-29T19:09:17.073Z"
   },
   {
    "duration": 11,
    "start_time": "2022-07-29T19:11:31.003Z"
   },
   {
    "duration": 109,
    "start_time": "2022-07-29T19:21:52.666Z"
   },
   {
    "duration": 51,
    "start_time": "2022-07-29T19:22:14.190Z"
   },
   {
    "duration": 109,
    "start_time": "2022-07-29T19:22:18.057Z"
   },
   {
    "duration": 134,
    "start_time": "2022-07-29T19:23:59.592Z"
   },
   {
    "duration": 138,
    "start_time": "2022-07-29T19:24:56.497Z"
   },
   {
    "duration": 317,
    "start_time": "2022-07-29T19:25:50.794Z"
   },
   {
    "duration": 205,
    "start_time": "2022-07-29T19:26:42.048Z"
   },
   {
    "duration": 4,
    "start_time": "2022-07-29T19:28:34.646Z"
   },
   {
    "duration": 15,
    "start_time": "2022-07-29T19:29:23.905Z"
   },
   {
    "duration": 10,
    "start_time": "2022-07-29T19:29:33.257Z"
   },
   {
    "duration": 11,
    "start_time": "2022-07-29T19:29:37.706Z"
   },
   {
    "duration": 10,
    "start_time": "2022-07-29T19:32:01.980Z"
   },
   {
    "duration": 12,
    "start_time": "2022-07-29T19:32:21.371Z"
   },
   {
    "duration": 10,
    "start_time": "2022-07-29T19:32:46.287Z"
   },
   {
    "duration": 9,
    "start_time": "2022-07-29T19:33:56.415Z"
   },
   {
    "duration": 10,
    "start_time": "2022-07-29T19:34:07.368Z"
   },
   {
    "duration": 10,
    "start_time": "2022-07-29T19:34:17.802Z"
   },
   {
    "duration": 12,
    "start_time": "2022-07-29T19:34:21.603Z"
   },
   {
    "duration": 4,
    "start_time": "2022-07-29T19:35:26.324Z"
   },
   {
    "duration": 5,
    "start_time": "2022-07-29T19:35:43.378Z"
   },
   {
    "duration": 15,
    "start_time": "2022-07-29T19:35:46.151Z"
   },
   {
    "duration": 4,
    "start_time": "2022-07-29T19:35:51.004Z"
   },
   {
    "duration": 106,
    "start_time": "2022-07-29T19:40:28.819Z"
   },
   {
    "duration": 149,
    "start_time": "2022-07-29T19:43:43.001Z"
   },
   {
    "duration": 1523,
    "start_time": "2022-07-30T13:07:49.862Z"
   },
   {
    "duration": 71,
    "start_time": "2022-07-30T13:07:51.387Z"
   },
   {
    "duration": 19,
    "start_time": "2022-07-30T13:07:51.459Z"
   },
   {
    "duration": 13,
    "start_time": "2022-07-30T13:07:51.480Z"
   },
   {
    "duration": 12,
    "start_time": "2022-07-30T13:07:51.495Z"
   },
   {
    "duration": 6,
    "start_time": "2022-07-30T13:07:51.697Z"
   },
   {
    "duration": 5,
    "start_time": "2022-07-30T13:07:52.223Z"
   },
   {
    "duration": 144,
    "start_time": "2022-07-30T13:07:52.606Z"
   },
   {
    "duration": 166,
    "start_time": "2022-07-30T13:07:52.980Z"
   },
   {
    "duration": 169,
    "start_time": "2022-07-30T13:07:53.392Z"
   },
   {
    "duration": 288,
    "start_time": "2022-07-30T13:07:55.693Z"
   },
   {
    "duration": 255,
    "start_time": "2022-07-30T13:07:56.040Z"
   },
   {
    "duration": 4,
    "start_time": "2022-07-30T13:41:35.627Z"
   },
   {
    "duration": 10,
    "start_time": "2022-07-30T13:42:45.259Z"
   },
   {
    "duration": 106,
    "start_time": "2022-07-30T13:44:19.357Z"
   },
   {
    "duration": 5,
    "start_time": "2022-07-30T13:44:28.572Z"
   },
   {
    "duration": 5,
    "start_time": "2022-07-30T13:44:30.632Z"
   },
   {
    "duration": 6,
    "start_time": "2022-07-30T13:44:31.191Z"
   },
   {
    "duration": 4,
    "start_time": "2022-07-30T13:44:33.071Z"
   },
   {
    "duration": 11,
    "start_time": "2022-07-30T13:45:16.425Z"
   },
   {
    "duration": 4,
    "start_time": "2022-07-30T13:46:04.079Z"
   },
   {
    "duration": 7,
    "start_time": "2022-07-30T13:46:27.977Z"
   },
   {
    "duration": 7,
    "start_time": "2022-07-30T13:47:24.627Z"
   }
  ],
  "kernelspec": {
   "display_name": "Python 3 (ipykernel)",
   "language": "python",
   "name": "python3"
  },
  "language_info": {
   "codemirror_mode": {
    "name": "ipython",
    "version": 3
   },
   "file_extension": ".py",
   "mimetype": "text/x-python",
   "name": "python",
   "nbconvert_exporter": "python",
   "pygments_lexer": "ipython3",
   "version": "3.9.12"
  },
  "toc": {
   "base_numbering": 1,
   "nav_menu": {},
   "number_sections": true,
   "sideBar": true,
   "skip_h1_title": true,
   "title_cell": "Содержание",
   "title_sidebar": "Contents",
   "toc_cell": true,
   "toc_position": {},
   "toc_section_display": true,
   "toc_window_display": true
  }
 },
 "nbformat": 4,
 "nbformat_minor": 2
}
